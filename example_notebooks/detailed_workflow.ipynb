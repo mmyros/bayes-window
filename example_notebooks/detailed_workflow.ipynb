{
 "cells": [
  {
   "cell_type": "markdown",
   "metadata": {},
   "source": [
    "# Prepare"
   ]
  },
  {
   "cell_type": "code",
   "execution_count": 1,
   "metadata": {},
   "outputs": [
    {
     "name": "stderr",
     "output_type": "stream",
     "text": [
      "/home/m/anaconda3/envs/tf/lib/python3.6/site-packages/elephant/pandas_bridge.py:22: DeprecationWarning: pandas_bridge module will be removed in Elephant v0.8.x\n",
      "  DeprecationWarning)\n"
     ]
    }
   ],
   "source": [
    "#!pip install -e ..\n",
    "from altair.vegalite.v4.api import FacetChart, Chart, LayerChart\n",
    "from sklearn.preprocessing import LabelEncoder\n",
    "import bulwark.checks as ck\n",
    "from bayes_window.fake_spikes import generate_fake_spikes\n",
    "from bayes_window.visualization import fake_spikes_explore, plot_data_and_posterior\n",
    "from bayes_window import models\n",
    "from bayes_window.fitting import fit_numpyro\n",
    "from bayes_window.utils import add_data_to_posterior\n",
    "\n",
    "trans = LabelEncoder().fit_transform\n",
    "\n"
   ]
  },
  {
   "cell_type": "markdown",
   "metadata": {},
   "source": [
    "# Make some data\n"
   ]
  },
  {
   "cell_type": "code",
   "execution_count": 2,
   "metadata": {},
   "outputs": [],
   "source": [
    "df, df_monster, index_cols, firing_rates = generate_fake_spikes(n_trials=2,\n",
    "                                                                n_neurons=8,\n",
    "                                                                n_mice=4,\n",
    "                                                                dur=7, )"
   ]
  },
  {
   "cell_type": "markdown",
   "metadata": {},
   "source": [
    "# Estimate model"
   ]
  },
  {
   "cell_type": "code",
   "execution_count": 3,
   "metadata": {},
   "outputs": [
    {
     "name": "stderr",
     "output_type": "stream",
     "text": [
      "sample: 100%|██████████| 1100/1100 [00:07<00:00, 141.87it/s, 23 steps of size 1.62e-01. acc. prob=0.90]\n"
     ]
    },
    {
     "name": "stdout",
     "output_type": "stream",
     "text": [
      "n(Divergences) = 0\n"
     ]
    }
   ],
   "source": [
    "#y = list(set(df.columns) - set(index_cols))[0]\n",
    "y='isi'\n",
    "trace = fit_numpyro(y=df[y].values,\n",
    "                    stim_on=(df['stim']).astype(int).values,\n",
    "                    treat=trans(df['neuron']),\n",
    "                    subject=trans(df['mouse']),\n",
    "                    progress_bar=True,\n",
    "                    model=models.model_hier_normal_stim,\n",
    "                    n_draws=100, num_chains=1, )"
   ]
  },
  {
   "cell_type": "markdown",
   "metadata": {},
   "source": [
    "# Add data back"
   ]
  },
  {
   "cell_type": "code",
   "execution_count": 4,
   "metadata": {},
   "outputs": [],
   "source": [
    "df_both = add_data_to_posterior(df,\n",
    "                                trace=trace,\n",
    "                                y=y,\n",
    "                                index_cols=['neuron', 'stim', 'mouse', ],\n",
    "                                condition_name='stim',\n",
    "                                b_name='b_stim_per_condition',  # for posterior\n",
    "                                group_name='neuron'  # for posterior\n",
    "                                )"
   ]
  },
  {
   "cell_type": "markdown",
   "metadata": {},
   "source": [
    "# Plot data and posterior"
   ]
  },
  {
   "cell_type": "code",
   "execution_count": 5,
   "metadata": {
    "scrolled": false
   },
   "outputs": [
    {
     "data": {
      "text/html": [
       "\n",
       "<div id=\"altair-viz-f2bb0a07d8e14d329bd10f875ce62808\"></div>\n",
       "<script type=\"text/javascript\">\n",
       "  (function(spec, embedOpt){\n",
       "    let outputDiv = document.currentScript.previousElementSibling;\n",
       "    if (outputDiv.id !== \"altair-viz-f2bb0a07d8e14d329bd10f875ce62808\") {\n",
       "      outputDiv = document.getElementById(\"altair-viz-f2bb0a07d8e14d329bd10f875ce62808\");\n",
       "    }\n",
       "    const paths = {\n",
       "      \"vega\": \"https://cdn.jsdelivr.net/npm//vega@5?noext\",\n",
       "      \"vega-lib\": \"https://cdn.jsdelivr.net/npm//vega-lib?noext\",\n",
       "      \"vega-lite\": \"https://cdn.jsdelivr.net/npm//vega-lite@4.8.1?noext\",\n",
       "      \"vega-embed\": \"https://cdn.jsdelivr.net/npm//vega-embed@6?noext\",\n",
       "    };\n",
       "\n",
       "    function loadScript(lib) {\n",
       "      return new Promise(function(resolve, reject) {\n",
       "        var s = document.createElement('script');\n",
       "        s.src = paths[lib];\n",
       "        s.async = true;\n",
       "        s.onload = () => resolve(paths[lib]);\n",
       "        s.onerror = () => reject(`Error loading script: ${paths[lib]}`);\n",
       "        document.getElementsByTagName(\"head\")[0].appendChild(s);\n",
       "      });\n",
       "    }\n",
       "\n",
       "    function showError(err) {\n",
       "      outputDiv.innerHTML = `<div class=\"error\" style=\"color:red;\">${err}</div>`;\n",
       "      throw err;\n",
       "    }\n",
       "\n",
       "    function displayChart(vegaEmbed) {\n",
       "      vegaEmbed(outputDiv, spec, embedOpt)\n",
       "        .catch(err => showError(`Javascript Error: ${err.message}<br>This usually means there's a typo in your chart specification. See the javascript console for the full traceback.`));\n",
       "    }\n",
       "\n",
       "    if(typeof define === \"function\" && define.amd) {\n",
       "      requirejs.config({paths});\n",
       "      require([\"vega-embed\"], displayChart, err => showError(`Error loading script: ${err.message}`));\n",
       "    } else if (typeof vegaEmbed === \"function\") {\n",
       "      displayChart(vegaEmbed);\n",
       "    } else {\n",
       "      loadScript(\"vega\")\n",
       "        .then(() => loadScript(\"vega-lite\"))\n",
       "        .then(() => loadScript(\"vega-embed\"))\n",
       "        .catch(showError)\n",
       "        .then(() => displayChart(vegaEmbed));\n",
       "    }\n",
       "  })({\"config\": {\"view\": {\"continuousWidth\": 400, \"continuousHeight\": 300}}, \"layer\": [{\"mark\": {\"type\": \"line\", \"fill\": null, \"opacity\": 0.5, \"size\": 6}, \"encoding\": {\"color\": {\"type\": \"nominal\", \"field\": \"mouse\"}, \"x\": {\"type\": \"quantitative\", \"field\": \"neuron\"}, \"y\": {\"type\": \"quantitative\", \"field\": \"isi diff\"}}}, {\"layer\": [{\"mark\": {\"type\": \"rule\", \"color\": \"black\", \"size\": 0.1}, \"encoding\": {\"y\": {\"type\": \"quantitative\", \"field\": \"zero\"}}}, {\"mark\": {\"type\": \"point\", \"color\": \"black\", \"filled\": true}, \"encoding\": {\"x\": {\"type\": \"quantitative\", \"field\": \"neuron\"}, \"y\": {\"type\": \"quantitative\", \"field\": \"Bayes condition mean\", \"scale\": {\"zero\": false}}}}, {\"mark\": {\"type\": \"line\", \"color\": \"black\"}, \"encoding\": {\"x\": {\"type\": \"quantitative\", \"field\": \"neuron\"}, \"y\": {\"type\": \"quantitative\", \"field\": \"Bayes condition mean\", \"scale\": {\"zero\": false}}}}, {\"mark\": \"rule\", \"encoding\": {\"x\": {\"type\": \"quantitative\", \"field\": \"neuron\"}, \"y\": {\"type\": \"quantitative\", \"field\": \"Bayes condition CI0\", \"scale\": {\"zero\": false}, \"title\": \"\\u0394 isi\"}, \"y2\": {\"field\": \"Bayes condition CI1\"}}}]}], \"data\": {\"name\": \"data-39f61a1961af8fddcfd54781484b953d\"}, \"resolve\": {\"scale\": {\"y\": \"independent\"}}, \"$schema\": \"https://vega.github.io/schema/vega-lite/v4.8.1.json\", \"datasets\": {\"data-39f61a1961af8fddcfd54781484b953d\": [{\"neuron\": 0, \"mouse\": \"m0bayes\", \"i_trial\": 0.5, \"mouse_code\": 0.0, \"neuron_code\": 0.0, \"log_firing_rate\": 1.8583414008150911, \"Firing rate\": 81.14458736562634, \"firing_rate\": 81.14458736562634, \"i_spike\": 43.75, \"isi\": 0.07603152911108632, \"Bayes condition CI0\": 0.27768054604530334, \"Bayes condition CI1\": 1.06270170211792, \"Bayes condition mean\": 0.7360835075378418, \"isi diff\": null, \"zero\": 0}, {\"neuron\": 1, \"mouse\": \"m0bayes\", \"i_trial\": 0.5, \"mouse_code\": 0.0, \"neuron_code\": 4.0, \"log_firing_rate\": 1.7133262809002756, \"Firing rate\": 58.56513474051891, \"firing_rate\": 58.56513474051891, \"i_spike\": 40.0, \"isi\": 0.08934407177546108, \"Bayes condition CI0\": 0.18764127790927887, \"Bayes condition CI1\": 0.8691985011100769, \"Bayes condition mean\": 0.5120174884796143, \"isi diff\": null, \"zero\": 0}, {\"neuron\": 2, \"mouse\": \"m0bayes\", \"i_trial\": 0.5, \"mouse_code\": 0.0, \"neuron_code\": 8.0, \"log_firing_rate\": 2.5179396727681027, \"Firing rate\": 1089.4124285306743, \"firing_rate\": 1089.4124285306743, \"i_spike\": 55.75, \"isi\": 0.06266596545831185, \"Bayes condition CI0\": -0.021436793729662895, \"Bayes condition CI1\": 0.6163497567176819, \"Bayes condition mean\": 0.30696937441825867, \"isi diff\": null, \"zero\": 0}, {\"neuron\": 3, \"mouse\": \"m0bayes\", \"i_trial\": 0.5, \"mouse_code\": 0.0, \"neuron_code\": 12.0, \"log_firing_rate\": 2.045316919373619, \"Firing rate\": 113.52587871747463, \"firing_rate\": 113.52587871747463, \"i_spike\": 74.75, \"isi\": 0.04643347227141125, \"Bayes condition CI0\": -0.12582962214946747, \"Bayes condition CI1\": 0.3370124101638794, \"Bayes condition mean\": 0.05894744023680687, \"isi diff\": null, \"zero\": 0}, {\"neuron\": 4, \"mouse\": \"m0bayes\", \"i_trial\": 0.5, \"mouse_code\": 0.0, \"neuron_code\": 16.0, \"log_firing_rate\": 2.0447213233227606, \"Firing rate\": 111.42797623374116, \"firing_rate\": 111.42797623374116, \"i_spike\": 88.0, \"isi\": 0.03905788473272431, \"Bayes condition CI0\": -0.3144644498825073, \"Bayes condition CI1\": 0.0558592788875103, \"Bayes condition mean\": -0.09686484187841415, \"isi diff\": null, \"zero\": 0}, {\"neuron\": 5, \"mouse\": \"m0bayes\", \"i_trial\": 0.5, \"mouse_code\": 0.0, \"neuron_code\": 20.0, \"log_firing_rate\": 2.4346728704949183, \"Firing rate\": 345.2279257701087, \"firing_rate\": 345.2279257701087, \"i_spike\": 104.0, \"isi\": 0.034071412586922985, \"Bayes condition CI0\": -0.6209043264389038, \"Bayes condition CI1\": -0.09302236139774323, \"Bayes condition mean\": -0.2971607446670532, \"isi diff\": null, \"zero\": 0}, {\"neuron\": 6, \"mouse\": \"m0bayes\", \"i_trial\": 0.5, \"mouse_code\": 0.0, \"neuron_code\": 24.0, \"log_firing_rate\": 3.003232254185567, \"Firing rate\": 3491.11966551996, \"firing_rate\": 3491.11966551996, \"i_spike\": 132.75, \"isi\": 0.026390533119269567, \"Bayes condition CI0\": -0.8370196223258972, \"Bayes condition CI1\": -0.22551411390304565, \"Bayes condition mean\": -0.4765266478061676, \"isi diff\": null, \"zero\": 0}, {\"neuron\": 7, \"mouse\": \"m0bayes\", \"i_trial\": 0.5, \"mouse_code\": 0.0, \"neuron_code\": 28.0, \"log_firing_rate\": 2.7998114745475364, \"Firing rate\": 643.2782997057031, \"firing_rate\": 643.2782997057031, \"i_spike\": 149.0, \"isi\": 0.023378778188806, \"Bayes condition CI0\": -0.9382810592651367, \"Bayes condition CI1\": -0.28288716077804565, \"Bayes condition mean\": -0.6110410690307617, \"isi diff\": null, \"zero\": 0}, {\"neuron\": \"0\", \"mouse\": \"m0bayes\", \"i_trial\": 0.0, \"mouse_code\": 0.0, \"neuron_code\": 0.0, \"log_firing_rate\": -0.21870796362660494, \"Firing rate\": -44.944748223535484, \"firing_rate\": -44.944748223535484, \"i_spike\": 3.25, \"isi\": null, \"Bayes condition CI0\": null, \"Bayes condition CI1\": null, \"Bayes condition mean\": null, \"isi diff\": -0.009069624684324817, \"zero\": 0}, {\"neuron\": \"0\", \"mouse\": \"m1bayes\", \"i_trial\": 0.0, \"mouse_code\": 0.0, \"neuron_code\": 0.0, \"log_firing_rate\": 0.16758439993719576, \"Firing rate\": 32.950126175683266, \"firing_rate\": 32.950126175683266, \"i_spike\": 0.25, \"isi\": null, \"Bayes condition CI0\": null, \"Bayes condition CI1\": null, \"Bayes condition mean\": null, \"isi diff\": 0.0016746325187542016, \"zero\": 0}, {\"neuron\": \"0\", \"mouse\": \"m2bayes\", \"i_trial\": 0.0, \"mouse_code\": 0.0, \"neuron_code\": 0.0, \"log_firing_rate\": 0.5080204456641497, \"Firing rate\": 142.79679568720417, \"firing_rate\": 142.79679568720417, \"i_spike\": -1.25, \"isi\": null, \"Bayes condition CI0\": null, \"Bayes condition CI1\": null, \"Bayes condition mean\": null, \"isi diff\": 0.003117890997115097, \"zero\": 0}, {\"neuron\": \"0\", \"mouse\": \"m3bayes\", \"i_trial\": 0.0, \"mouse_code\": 0.0, \"neuron_code\": 0.0, \"log_firing_rate\": -0.15328859072680912, \"Firing rate\": -25.93500075628009, \"firing_rate\": -25.93500075628009, \"i_spike\": -13.25, \"isi\": null, \"Bayes condition CI0\": null, \"Bayes condition CI1\": null, \"Bayes condition mean\": null, \"isi diff\": 0.02250152859430883, \"zero\": 0}, {\"neuron\": \"1\", \"mouse\": \"m0bayes\", \"i_trial\": 0.0, \"mouse_code\": 0.0, \"neuron_code\": 0.0, \"log_firing_rate\": -1.4745412791387558, \"Firing rate\": -3820.134128469746, \"firing_rate\": -3820.134128469746, \"i_spike\": -14.0, \"isi\": null, \"Bayes condition CI0\": null, \"Bayes condition CI1\": null, \"Bayes condition mean\": null, \"isi diff\": 0.02454931225358116, \"zero\": 0}, {\"neuron\": \"1\", \"mouse\": \"m1bayes\", \"i_trial\": 0.0, \"mouse_code\": 0.0, \"neuron_code\": 0.0, \"log_firing_rate\": -0.031008608387704806, \"Firing rate\": -8.799721451263366, \"firing_rate\": -8.799721451263366, \"i_spike\": -3.25, \"isi\": null, \"Bayes condition CI0\": null, \"Bayes condition CI1\": null, \"Bayes condition mean\": null, \"isi diff\": 0.001504824885144987, \"zero\": 0}, {\"neuron\": \"1\", \"mouse\": \"m2bayes\", \"i_trial\": 0.0, \"mouse_code\": 0.0, \"neuron_code\": 0.0, \"log_firing_rate\": 0.0799324877782055, \"Firing rate\": 21.515742357747193, \"firing_rate\": 21.515742357747193, \"i_spike\": -3.5, \"isi\": null, \"Bayes condition CI0\": null, \"Bayes condition CI1\": null, \"Bayes condition mean\": null, \"isi diff\": 0.0047132858577485365, \"zero\": 0}, {\"neuron\": \"1\", \"mouse\": \"m3bayes\", \"i_trial\": 0.0, \"mouse_code\": 0.0, \"neuron_code\": 0.0, \"log_firing_rate\": -0.3984619876933517, \"Firing rate\": -80.4219504748637, \"firing_rate\": -80.4219504748637, \"i_spike\": -5.25, \"isi\": null, \"Bayes condition CI0\": null, \"Bayes condition CI1\": null, \"Bayes condition mean\": null, \"isi diff\": 0.00893151106906094, \"zero\": 0}, {\"neuron\": \"2\", \"mouse\": \"m0bayes\", \"i_trial\": 0.0, \"mouse_code\": 0.0, \"neuron_code\": 0.0, \"log_firing_rate\": 0.5700725349804245, \"Firing rate\": 999.4106095958709, \"firing_rate\": 999.4106095958709, \"i_spike\": 4.0, \"isi\": null, \"Bayes condition CI0\": null, \"Bayes condition CI1\": null, \"Bayes condition mean\": null, \"isi diff\": -0.0053876503350087784, \"zero\": 0}, {\"neuron\": \"2\", \"mouse\": \"m1bayes\", \"i_trial\": 0.0, \"mouse_code\": 0.0, \"neuron_code\": 0.0, \"log_firing_rate\": -0.36206305399606586, \"Firing rate\": -111.49161892198023, \"firing_rate\": -111.49161892198023, \"i_spike\": -14.75, \"isi\": null, \"Bayes condition CI0\": null, \"Bayes condition CI1\": null, \"Bayes condition mean\": null, \"isi diff\": 0.013788122248416121, \"zero\": 0}, {\"neuron\": \"2\", \"mouse\": \"m2bayes\", \"i_trial\": 0.0, \"mouse_code\": 0.0, \"neuron_code\": 0.0, \"log_firing_rate\": -0.13789657035120984, \"Firing rate\": -38.3859882254619, \"firing_rate\": -38.3859882254619, \"i_spike\": -11.25, \"isi\": null, \"Bayes condition CI0\": null, \"Bayes condition CI1\": null, \"Bayes condition mean\": null, \"isi diff\": 0.012631489743679412, \"zero\": 0}, {\"neuron\": \"2\", \"mouse\": \"m3bayes\", \"i_trial\": 0.0, \"mouse_code\": 0.0, \"neuron_code\": 0.0, \"log_firing_rate\": -0.533541397666111, \"Firing rate\": -230.1848361428702, \"firing_rate\": -230.1848361428702, \"i_spike\": -6.0, \"isi\": null, \"Bayes condition CI0\": null, \"Bayes condition CI1\": null, \"Bayes condition mean\": null, \"isi diff\": 0.007371957274463485, \"zero\": 0}, {\"neuron\": \"3\", \"mouse\": \"m0bayes\", \"i_trial\": 0.0, \"mouse_code\": 0.0, \"neuron_code\": 0.0, \"log_firing_rate\": 0.02445487933786028, \"Firing rate\": 8.545416303471313, \"firing_rate\": 8.545416303471313, \"i_spike\": 14.25, \"isi\": null, \"Bayes condition CI0\": null, \"Bayes condition CI1\": null, \"Bayes condition mean\": null, \"isi diff\": -0.010552152196453467, \"zero\": 0}, {\"neuron\": \"3\", \"mouse\": \"m1bayes\", \"i_trial\": 0.0, \"mouse_code\": 0.0, \"neuron_code\": 0.0, \"log_firing_rate\": -0.17375257119549925, \"Firing rate\": -58.6726535718164, \"firing_rate\": -58.6726535718164, \"i_spike\": -4.75, \"isi\": null, \"Bayes condition CI0\": null, \"Bayes condition CI1\": null, \"Bayes condition mean\": null, \"isi diff\": 0.003966685737806425, \"zero\": 0}, {\"neuron\": \"3\", \"mouse\": \"m2bayes\", \"i_trial\": 0.0, \"mouse_code\": 0.0, \"neuron_code\": 0.0, \"log_firing_rate\": -0.17337329481843566, \"Firing rate\": -60.10573315952621, \"firing_rate\": -60.10573315952621, \"i_spike\": -8.25, \"isi\": null, \"Bayes condition CI0\": null, \"Bayes condition CI1\": null, \"Bayes condition mean\": null, \"isi diff\": 0.005061543188693299, \"zero\": 0}, {\"neuron\": \"3\", \"mouse\": \"m3bayes\", \"i_trial\": 0.0, \"mouse_code\": 0.0, \"neuron_code\": 0.0, \"log_firing_rate\": 0.009469272924005345, \"Firing rate\": 7.503223660255827, \"firing_rate\": 7.503223660255827, \"i_spike\": -1.0, \"isi\": null, \"Bayes condition CI0\": null, \"Bayes condition CI1\": null, \"Bayes condition mean\": null, \"isi diff\": 0.0011990018982589931, \"zero\": 0}, {\"neuron\": \"4\", \"mouse\": \"m0bayes\", \"i_trial\": 0.0, \"mouse_code\": 0.0, \"neuron_code\": 0.0, \"log_firing_rate\": -0.020351300792943228, \"Firing rate\": -5.153526892744182, \"firing_rate\": -5.153526892744182, \"i_spike\": 7.75, \"isi\": null, \"Bayes condition CI0\": null, \"Bayes condition CI1\": null, \"Bayes condition mean\": null, \"isi diff\": -0.004047362881088326, \"zero\": 0}, {\"neuron\": \"4\", \"mouse\": \"m1bayes\", \"i_trial\": 0.0, \"mouse_code\": 0.0, \"neuron_code\": 0.0, \"log_firing_rate\": 0.09232079009699445, \"Firing rate\": 22.72944181694183, \"firing_rate\": 22.72944181694183, \"i_spike\": -0.5, \"isi\": null, \"Bayes condition CI0\": null, \"Bayes condition CI1\": null, \"Bayes condition mean\": null, \"isi diff\": 0.001022484506948515, \"zero\": 0}, {\"neuron\": \"4\", \"mouse\": \"m2bayes\", \"i_trial\": 0.0, \"mouse_code\": 0.0, \"neuron_code\": 0.0, \"log_firing_rate\": 0.09308569594225746, \"Firing rate\": 27.732506640259118, \"firing_rate\": 27.732506640259118, \"i_spike\": -11.5, \"isi\": null, \"Bayes condition CI0\": null, \"Bayes condition CI1\": null, \"Bayes condition mean\": null, \"isi diff\": 0.005750605673840184, \"zero\": 0}, {\"neuron\": \"4\", \"mouse\": \"m3bayes\", \"i_trial\": 0.0, \"mouse_code\": 0.0, \"neuron_code\": 0.0, \"log_firing_rate\": -0.2389160314968768, \"Firing rate\": -138.9472955559413, \"firing_rate\": -138.9472955559413, \"i_spike\": 1.0, \"isi\": null, \"Bayes condition CI0\": null, \"Bayes condition CI1\": null, \"Bayes condition mean\": null, \"isi diff\": -0.0007935393963644718, \"zero\": 0}, {\"neuron\": \"5\", \"mouse\": \"m0bayes\", \"i_trial\": 0.0, \"mouse_code\": 0.0, \"neuron_code\": 0.0, \"log_firing_rate\": -0.05690218623187571, \"Firing rate\": 32.25306237822775, \"firing_rate\": 32.25306237822775, \"i_spike\": 3.0, \"isi\": null, \"Bayes condition CI0\": null, \"Bayes condition CI1\": null, \"Bayes condition mean\": null, \"isi diff\": -0.000627335591556373, \"zero\": 0}, {\"neuron\": \"5\", \"mouse\": \"m1bayes\", \"i_trial\": 0.0, \"mouse_code\": 0.0, \"neuron_code\": 0.0, \"log_firing_rate\": -0.11927236809131658, \"Firing rate\": -38.120189153418806, \"firing_rate\": -38.120189153418806, \"i_spike\": -3.25, \"isi\": null, \"Bayes condition CI0\": null, \"Bayes condition CI1\": null, \"Bayes condition mean\": null, \"isi diff\": 0.0012146392079381077, \"zero\": 0}, {\"neuron\": \"5\", \"mouse\": \"m2bayes\", \"i_trial\": 0.0, \"mouse_code\": 0.0, \"neuron_code\": 0.0, \"log_firing_rate\": 0.06878850676229087, \"Firing rate\": 9.386317459797823, \"firing_rate\": 9.386317459797823, \"i_spike\": 1.75, \"isi\": null, \"Bayes condition CI0\": null, \"Bayes condition CI1\": null, \"Bayes condition mean\": null, \"isi diff\": -0.000775156460195485, \"zero\": 0}, {\"neuron\": \"5\", \"mouse\": \"m3bayes\", \"i_trial\": 0.0, \"mouse_code\": 0.0, \"neuron_code\": 0.0, \"log_firing_rate\": -0.07874290998632638, \"Firing rate\": -20.553200719848178, \"firing_rate\": -20.553200719848178, \"i_spike\": -5.0, \"isi\": null, \"Bayes condition CI0\": null, \"Bayes condition CI1\": null, \"Bayes condition mean\": null, \"isi diff\": 0.0019235298888887961, \"zero\": 0}, {\"neuron\": \"6\", \"mouse\": \"m0bayes\", \"i_trial\": 0.0, \"mouse_code\": 0.0, \"neuron_code\": 0.0, \"log_firing_rate\": 0.43764329433320937, \"Firing rate\": 3066.460044644601, \"firing_rate\": 3066.460044644601, \"i_spike\": 0.25, \"isi\": null, \"Bayes condition CI0\": null, \"Bayes condition CI1\": null, \"Bayes condition mean\": null, \"isi diff\": -6.315340181806128e-06, \"zero\": 0}, {\"neuron\": \"6\", \"mouse\": \"m1bayes\", \"i_trial\": 0.0, \"mouse_code\": 0.0, \"neuron_code\": 0.0, \"log_firing_rate\": -0.6439775914259913, \"Firing rate\": -611.995050251541, \"firing_rate\": -611.995050251541, \"i_spike\": -11.75, \"isi\": null, \"Bayes condition CI0\": null, \"Bayes condition CI1\": null, \"Bayes condition mean\": null, \"isi diff\": 0.0024740512648262075, \"zero\": 0}, {\"neuron\": \"6\", \"mouse\": \"m2bayes\", \"i_trial\": 0.0, \"mouse_code\": 0.0, \"neuron_code\": 0.0, \"log_firing_rate\": 0.1728793933961854, \"Firing rate\": 85.83966746151583, \"firing_rate\": 85.83966746151583, \"i_spike\": -0.75, \"isi\": null, \"Bayes condition CI0\": null, \"Bayes condition CI1\": null, \"Bayes condition mean\": null, \"isi diff\": 0.00027803805228396664, \"zero\": 0}, {\"neuron\": \"6\", \"mouse\": \"m3bayes\", \"i_trial\": 0.0, \"mouse_code\": 0.0, \"neuron_code\": 0.0, \"log_firing_rate\": -0.295169042321791, \"Firing rate\": -557.6531062205587, \"firing_rate\": -557.6531062205587, \"i_spike\": -8.5, \"isi\": null, \"Bayes condition CI0\": null, \"Bayes condition CI1\": null, \"Bayes condition mean\": null, \"isi diff\": 0.0013879604438098644, \"zero\": 0}, {\"neuron\": \"7\", \"mouse\": \"m0bayes\", \"i_trial\": 0.0, \"mouse_code\": 0.0, \"neuron_code\": 0.0, \"log_firing_rate\": 0.07797903924819893, \"Firing rate\": 8.72078124843631, \"firing_rate\": 8.72078124843631, \"i_spike\": -14.75, \"isi\": null, \"Bayes condition CI0\": null, \"Bayes condition CI1\": null, \"Bayes condition mean\": null, \"isi diff\": 0.0019935262539043964, \"zero\": 0}, {\"neuron\": \"7\", \"mouse\": \"m1bayes\", \"i_trial\": 0.0, \"mouse_code\": 0.0, \"neuron_code\": 0.0, \"log_firing_rate\": -0.14777906457778922, \"Firing rate\": -151.1101569721789, \"firing_rate\": -151.1101569721789, \"i_spike\": 2.5, \"isi\": null, \"Bayes condition CI0\": null, \"Bayes condition CI1\": null, \"Bayes condition mean\": null, \"isi diff\": -0.00036602994361164057, \"zero\": 0}, {\"neuron\": \"7\", \"mouse\": \"m2bayes\", \"i_trial\": 0.0, \"mouse_code\": 0.0, \"neuron_code\": 0.0, \"log_firing_rate\": 0.15058244453779324, \"Firing rate\": 213.30039675632406, \"firing_rate\": 213.30039675632406, \"i_spike\": 3.75, \"isi\": null, \"Bayes condition CI0\": null, \"Bayes condition CI1\": null, \"Bayes condition mean\": null, \"isi diff\": -0.0005644070061769056, \"zero\": 0}, {\"neuron\": \"7\", \"mouse\": \"m3bayes\", \"i_trial\": 0.0, \"mouse_code\": 0.0, \"neuron_code\": 0.0, \"log_firing_rate\": 0.10964352168531999, \"Firing rate\": 113.44590300376001, \"firing_rate\": 113.44590300376001, \"i_spike\": -0.25, \"isi\": null, \"Bayes condition CI0\": null, \"Bayes condition CI1\": null, \"Bayes condition mean\": null, \"isi diff\": -1.1369436307522018e-05, \"zero\": 0}]}}, {\"mode\": \"vega-lite\"});\n",
       "</script>"
      ],
      "text/plain": [
       "alt.LayerChart(...)"
      ]
     },
     "execution_count": 5,
     "metadata": {},
     "output_type": "execute_result"
    }
   ],
   "source": [
    "plot_data_and_posterior(df_both, y=f'{y} diff', x='neuron',color='mouse',title=y,hold_for_facet=False)"
   ]
  }
 ],
 "metadata": {
  "kernelspec": {
   "display_name": "tf",
   "language": "python",
   "name": "tf"
  },
  "language_info": {
   "codemirror_mode": {
    "name": "ipython",
    "version": 3
   },
   "file_extension": ".py",
   "mimetype": "text/x-python",
   "name": "python",
   "nbconvert_exporter": "python",
   "pygments_lexer": "ipython3",
   "version": "3.6.10"
  }
 },
 "nbformat": 4,
 "nbformat_minor": 4
}
