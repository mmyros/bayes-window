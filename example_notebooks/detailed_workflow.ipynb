{
 "cells": [
  {
   "cell_type": "markdown",
   "metadata": {},
   "source": [
    "# Prepare"
   ]
  },
  {
   "cell_type": "code",
   "execution_count": 8,
   "metadata": {},
   "outputs": [],
   "source": [
    "#!pip install -e ..\n",
    "from altair.vegalite.v4.api import FacetChart, Chart, LayerChart\n",
    "from sklearn.preprocessing import LabelEncoder\n",
    "import bulwark.checks as ck\n",
    "from bayes_window.generative_models import generate_fake_spikes\n",
    "from bayes_window.visualization import fake_spikes_explore, plot_data_and_posterior\n",
    "from bayes_window import models\n",
    "from bayes_window.fitting import fit_numpyro\n",
    "from bayes_window.utils import add_data_to_posterior\n",
    "\n",
    "trans = LabelEncoder().fit_transform\n",
    "\n"
   ]
  },
  {
   "cell_type": "markdown",
   "metadata": {},
   "source": [
    "# Make some data\n"
   ]
  },
  {
   "cell_type": "code",
   "execution_count": 9,
   "metadata": {},
   "outputs": [],
   "source": [
    "df, df_monster, index_cols, firing_rates = generate_fake_spikes(n_trials=2,\n",
    "                                                                n_neurons=8,\n",
    "                                                                n_mice=4,\n",
    "                                                                dur=7, )"
   ]
  },
  {
   "cell_type": "code",
   "execution_count": 3,
   "metadata": {},
   "outputs": [],
   "source": [
    "import numpy as np\n",
    "df['log_isi']=np.log10(df['isi'])"
   ]
  },
  {
   "cell_type": "code",
   "execution_count": 4,
   "metadata": {
    "scrolled": false
   },
   "outputs": [
    {
     "data": {
      "text/html": [
       "\n",
       "<div id=\"altair-viz-da37f11b22c0444a91eff38e3a1ce594\"></div>\n",
       "<script type=\"text/javascript\">\n",
       "  (function(spec, embedOpt){\n",
       "    let outputDiv = document.currentScript.previousElementSibling;\n",
       "    if (outputDiv.id !== \"altair-viz-da37f11b22c0444a91eff38e3a1ce594\") {\n",
       "      outputDiv = document.getElementById(\"altair-viz-da37f11b22c0444a91eff38e3a1ce594\");\n",
       "    }\n",
       "    const paths = {\n",
       "      \"vega\": \"https://cdn.jsdelivr.net/npm//vega@5?noext\",\n",
       "      \"vega-lib\": \"https://cdn.jsdelivr.net/npm//vega-lib?noext\",\n",
       "      \"vega-lite\": \"https://cdn.jsdelivr.net/npm//vega-lite@4.8.1?noext\",\n",
       "      \"vega-embed\": \"https://cdn.jsdelivr.net/npm//vega-embed@6?noext\",\n",
       "    };\n",
       "\n",
       "    function loadScript(lib) {\n",
       "      return new Promise(function(resolve, reject) {\n",
       "        var s = document.createElement('script');\n",
       "        s.src = paths[lib];\n",
       "        s.async = true;\n",
       "        s.onload = () => resolve(paths[lib]);\n",
       "        s.onerror = () => reject(`Error loading script: ${paths[lib]}`);\n",
       "        document.getElementsByTagName(\"head\")[0].appendChild(s);\n",
       "      });\n",
       "    }\n",
       "\n",
       "    function showError(err) {\n",
       "      outputDiv.innerHTML = `<div class=\"error\" style=\"color:red;\">${err}</div>`;\n",
       "      throw err;\n",
       "    }\n",
       "\n",
       "    function displayChart(vegaEmbed) {\n",
       "      vegaEmbed(outputDiv, spec, embedOpt)\n",
       "        .catch(err => showError(`Javascript Error: ${err.message}<br>This usually means there's a typo in your chart specification. See the javascript console for the full traceback.`));\n",
       "    }\n",
       "\n",
       "    if(typeof define === \"function\" && define.amd) {\n",
       "      requirejs.config({paths});\n",
       "      require([\"vega-embed\"], displayChart, err => showError(`Error loading script: ${err.message}`));\n",
       "    } else if (typeof vegaEmbed === \"function\") {\n",
       "      displayChart(vegaEmbed);\n",
       "    } else {\n",
       "      loadScript(\"vega\")\n",
       "        .then(() => loadScript(\"vega-lite\"))\n",
       "        .then(() => loadScript(\"vega-embed\"))\n",
       "        .catch(showError)\n",
       "        .then(() => displayChart(vegaEmbed));\n",
       "    }\n",
       "  })({\"config\": {\"view\": {\"continuousWidth\": 400, \"continuousHeight\": 300}}, \"layer\": [{\"mark\": {\"type\": \"line\", \"fill\": null, \"opacity\": 0.5, \"size\": 3}, \"encoding\": {\"color\": {\"type\": \"nominal\", \"field\": \"mouse_code\"}, \"x\": {\"type\": \"ordinal\", \"field\": \"neuron\"}, \"y\": {\"type\": \"quantitative\", \"field\": \"log_isi diff\"}}}, {\"mark\": {\"type\": \"boxplot\", \"color\": \"black\", \"opacity\": 0.3, \"size\": 12}, \"encoding\": {\"x\": {\"type\": \"ordinal\", \"field\": \"neuron\"}, \"y\": {\"type\": \"quantitative\", \"field\": \"log_isi diff\"}}}], \"data\": {\"name\": \"data-94eef1153c3c364f13fe7398ff44cd3b\"}, \"$schema\": \"https://vega.github.io/schema/vega-lite/v4.8.1.json\", \"datasets\": {\"data-94eef1153c3c364f13fe7398ff44cd3b\": [{\"neuron\": 0, \"mouse_code\": 0, \"i_trial\": 0.0, \"neuron_code\": 0.0, \"log_firing_rate\": 0.10089895333825805, \"Firing rate\": 8.125869867470541, \"firing_rate\": 8.125869867470541, \"i_spike\": 0.25, \"isi\": -0.002009050430168441, \"log_isi diff\": -0.00541990570332751}, {\"neuron\": 1, \"mouse_code\": 0, \"i_trial\": 0.0, \"neuron_code\": 0.0, \"log_firing_rate\": 0.7544531231012446, \"Firing rate\": 1240.8424410389214, \"firing_rate\": 1240.8424410389214, \"i_spike\": 6.0, \"isi\": -0.008327233469174342, \"log_isi diff\": -0.053585287866507514}, {\"neuron\": 2, \"mouse_code\": 0, \"i_trial\": 0.0, \"neuron_code\": 0.0, \"log_firing_rate\": 0.006325597487597534, \"Firing rate\": 1.2986830927096094, \"firing_rate\": 1.2986830927096094, \"i_spike\": 3.75, \"isi\": -0.0035733591104060713, \"log_isi diff\": -0.027633526481466664}, {\"neuron\": 3, \"mouse_code\": 0, \"i_trial\": 0.0, \"neuron_code\": 0.0, \"log_firing_rate\": -0.1622878759709132, \"Firing rate\": -46.858384725767266, \"firing_rate\": -46.858384725767266, \"i_spike\": -1.5, \"isi\": -0.00021791186587007128, \"log_isi diff\": 0.002325357756063129}, {\"neuron\": 4, \"mouse_code\": 0, \"i_trial\": 0.0, \"neuron_code\": 0.0, \"log_firing_rate\": 0.25248303070312206, \"Firing rate\": 82.03932331002108, \"firing_rate\": 82.03932331002108, \"i_spike\": 5.0, \"isi\": -0.002703909479569791, \"log_isi diff\": -0.026190368368294248}, {\"neuron\": 5, \"mouse_code\": 0, \"i_trial\": 0.0, \"neuron_code\": 0.0, \"log_firing_rate\": -0.24671407669681855, \"Firing rate\": -87.93896754244045, \"firing_rate\": -87.93896754244045, \"i_spike\": -5.25, \"isi\": 0.002338528827142368, \"log_isi diff\": 0.027436204280091525}, {\"neuron\": 6, \"mouse_code\": 0, \"i_trial\": 0.0, \"neuron_code\": 0.0, \"log_firing_rate\": 0.08537699672740917, \"Firing rate\": 49.305010946751054, \"firing_rate\": 49.305010946751054, \"i_spike\": -15.0, \"isi\": 0.003860606807159172, \"log_isi diff\": 0.054701075177066905}, {\"neuron\": 7, \"mouse_code\": 0, \"i_trial\": 0.0, \"neuron_code\": 0.0, \"log_firing_rate\": -0.20360675732891487, \"Firing rate\": -109.24503367227817, \"firing_rate\": -109.24503367227817, \"i_spike\": -9.5, \"isi\": 0.0016368581947422411, \"log_isi diff\": 0.0294234651212677}, {\"neuron\": 0, \"mouse_code\": 1, \"i_trial\": 0.0, \"neuron_code\": 0.0, \"log_firing_rate\": 0.220591871958721, \"Firing rate\": 38.68529619917351, \"firing_rate\": 38.68529619917351, \"i_spike\": 16.0, \"isi\": -0.02627167738556905, \"log_isi diff\": -0.15374217567941617}, {\"neuron\": 1, \"mouse_code\": 1, \"i_trial\": 0.0, \"neuron_code\": 0.0, \"log_firing_rate\": 0.4288142073659309, \"Firing rate\": 110.22349024911978, \"firing_rate\": 110.22349024911978, \"i_spike\": -1.25, \"isi\": -0.0030467213415869554, \"log_isi diff\": -0.010851003398008485}, {\"neuron\": 2, \"mouse_code\": 1, \"i_trial\": 0.0, \"neuron_code\": 0.0, \"log_firing_rate\": -0.05311801114143222, \"Firing rate\": -15.308265584260411, \"firing_rate\": -15.308265584260411, \"i_spike\": 6.5, \"isi\": -0.0044995881092277715, \"log_isi diff\": -0.03557852221212232}, {\"neuron\": 3, \"mouse_code\": 1, \"i_trial\": 0.0, \"neuron_code\": 0.0, \"log_firing_rate\": 1.2693146509201982, \"Firing rate\": 3567.777602162743, \"firing_rate\": 3567.777602162743, \"i_spike\": 10.5, \"isi\": -0.007220403536717192, \"log_isi diff\": -0.0664404140265944}, {\"neuron\": 4, \"mouse_code\": 1, \"i_trial\": 0.0, \"neuron_code\": 0.0, \"log_firing_rate\": -0.08854267825074258, \"Firing rate\": -70.06650091924851, \"firing_rate\": -70.06650091924851, \"i_spike\": 8.5, \"isi\": -0.004245823775725147, \"log_isi diff\": -0.04278094810037247}, {\"neuron\": 5, \"mouse_code\": 1, \"i_trial\": 0.0, \"neuron_code\": 0.0, \"log_firing_rate\": 0.47429556314112986, \"Firing rate\": 2777.7845107242288, \"firing_rate\": 2777.7845107242288, \"i_spike\": 12.75, \"isi\": -0.004266525219110348, \"log_isi diff\": -0.05252435455893467}, {\"neuron\": 6, \"mouse_code\": 1, \"i_trial\": 0.0, \"neuron_code\": 0.0, \"log_firing_rate\": -0.03256223109061551, \"Firing rate\": -26.168214384219368, \"firing_rate\": -26.168214384219368, \"i_spike\": -1.0, \"isi\": 9.844203288593076e-05, \"log_isi diff\": 0.0013792326640360564}, {\"neuron\": 7, \"mouse_code\": 1, \"i_trial\": 0.0, \"neuron_code\": 0.0, \"log_firing_rate\": -0.19675151813760117, \"Firing rate\": -331.12704861329644, \"firing_rate\": -331.12704861329644, \"i_spike\": -13.0, \"isi\": 0.0018277747136177455, \"log_isi diff\": 0.03538322309974329}, {\"neuron\": 0, \"mouse_code\": 2, \"i_trial\": 0.0, \"neuron_code\": 0.0, \"log_firing_rate\": 0.23751283814338375, \"Firing rate\": 58.69647270396759, \"firing_rate\": 58.69647270396759, \"i_spike\": 9.25, \"isi\": -0.013368338498339474, \"log_isi diff\": -0.07144401777476261}, {\"neuron\": 1, \"mouse_code\": 2, \"i_trial\": 0.0, \"neuron_code\": 0.0, \"log_firing_rate\": -0.025276998701578623, \"Firing rate\": -25.962719132605784, \"firing_rate\": -25.962719132605784, \"i_spike\": 9.0, \"isi\": -0.011825746810083679, \"log_isi diff\": -0.078898042422197}, {\"neuron\": 2, \"mouse_code\": 2, \"i_trial\": 0.0, \"neuron_code\": 0.0, \"log_firing_rate\": -0.06275192384834183, \"Firing rate\": -11.6014977971859, \"firing_rate\": -11.6014977971859, \"i_spike\": -7.75, \"isi\": 0.0054269570819326166, \"log_isi diff\": 0.042201253101811886}, {\"neuron\": 3, \"mouse_code\": 2, \"i_trial\": 0.0, \"neuron_code\": 0.0, \"log_firing_rate\": 0.10778120658859702, \"Firing rate\": 61.3020899892814, \"firing_rate\": 61.3020899892814, \"i_spike\": 10.0, \"isi\": -0.006991702598472899, \"log_isi diff\": -0.061773726741202406}, {\"neuron\": 4, \"mouse_code\": 2, \"i_trial\": 0.0, \"neuron_code\": 0.0, \"log_firing_rate\": 0.03730719616702638, \"Firing rate\": 16.866985278767743, \"firing_rate\": 16.866985278767743, \"i_spike\": 3.25, \"isi\": -0.0014821899454764836, \"log_isi diff\": -0.016069358761101604}, {\"neuron\": 5, \"mouse_code\": 2, \"i_trial\": 0.0, \"neuron_code\": 0.0, \"log_firing_rate\": 0.1369937596847164, \"Firing rate\": 53.368039137418464, \"firing_rate\": 53.368039137418464, \"i_spike\": -1.5, \"isi\": 0.0005112062645186918, \"log_isi diff\": 0.006554453093029489}, {\"neuron\": 6, \"mouse_code\": 2, \"i_trial\": 0.0, \"neuron_code\": 0.0, \"log_firing_rate\": 0.041998916508282136, \"Firing rate\": 19.388471595050248, \"firing_rate\": 19.388471595050248, \"i_spike\": 6.0, \"isi\": -0.0013245047198543539, \"log_isi diff\": -0.020829193116137068}, {\"neuron\": 7, \"mouse_code\": 2, \"i_trial\": 0.0, \"neuron_code\": 0.0, \"log_firing_rate\": 0.05704506360087391, \"Firing rate\": 13.714943478630971, \"firing_rate\": 13.714943478630971, \"i_spike\": 7.0, \"isi\": -0.0013634448229828643, \"log_isi diff\": -0.023990948852099958}, {\"neuron\": 0, \"mouse_code\": 3, \"i_trial\": 0.0, \"neuron_code\": 0.0, \"log_firing_rate\": 0.02445940966958826, \"Firing rate\": -0.5464013284206146, \"firing_rate\": -0.5464013284206146, \"i_spike\": 14.0, \"isi\": -0.02153590428843627, \"log_isi diff\": -0.1203847103365252}, {\"neuron\": 1, \"mouse_code\": 3, \"i_trial\": 0.0, \"neuron_code\": 0.0, \"log_firing_rate\": 0.02091268442539196, \"Firing rate\": 5.280448474801489, \"firing_rate\": 5.280448474801489, \"i_spike\": 8.0, \"isi\": -0.010753675457228336, \"log_isi diff\": -0.07288209711803284}, {\"neuron\": 2, \"mouse_code\": 3, \"i_trial\": 0.0, \"neuron_code\": 0.0, \"log_firing_rate\": -0.2568693824078494, \"Firing rate\": -75.89401056062023, \"firing_rate\": -75.89401056062023, \"i_spike\": 16.5, \"isi\": -0.012646202282371344, \"log_isi diff\": -0.10453402785817589}, {\"neuron\": 3, \"mouse_code\": 3, \"i_trial\": 0.0, \"neuron_code\": 0.0, \"log_firing_rate\": -0.07836497162153089, \"Firing rate\": -21.69798292060875, \"firing_rate\": -21.69798292060875, \"i_spike\": -1.0, \"isi\": -0.00010134651059787864, \"log_isi diff\": -0.0008915840451224621}, {\"neuron\": 4, \"mouse_code\": 3, \"i_trial\": 0.0, \"neuron_code\": 0.0, \"log_firing_rate\": 0.05751395918748603, \"Firing rate\": 30.83977393150832, \"firing_rate\": 30.83977393150832, \"i_spike\": -2.5, \"isi\": 0.0013006065006599885, \"log_isi diff\": 0.013240220076588871}, {\"neuron\": 5, \"mouse_code\": 3, \"i_trial\": 0.0, \"neuron_code\": 0.0, \"log_firing_rate\": 0.49063691409542143, \"Firing rate\": 319.5877613719722, \"firing_rate\": 319.5877613719722, \"i_spike\": 14.5, \"isi\": -0.005118620545018077, \"log_isi diff\": -0.062327030541413864}, {\"neuron\": 6, \"mouse_code\": 3, \"i_trial\": 0.0, \"neuron_code\": 0.0, \"log_firing_rate\": 0.6786662047408094, \"Firing rate\": 1971.8104349813573, \"firing_rate\": 1971.8104349813573, \"i_spike\": 3.5, \"isi\": -0.0008522270255009422, \"log_isi diff\": -0.013738204789134123}, {\"neuron\": 7, \"mouse_code\": 3, \"i_trial\": 0.0, \"neuron_code\": 0.0, \"log_firing_rate\": 0.26799554605020326, \"Firing rate\": 333.98905764475506, \"firing_rate\": 333.98905764475506, \"i_spike\": 7.0, \"isi\": -0.0007126818146631977, \"log_isi diff\": -0.013655219676531827}]}}, {\"mode\": \"vega-lite\"});\n",
       "</script>"
      ],
      "text/plain": [
       "alt.LayerChart(...)"
      ]
     },
     "execution_count": 4,
     "metadata": {},
     "output_type": "execute_result"
    }
   ],
   "source": [
    "import altair as alt\n",
    "from bayes_window import visualization,utils\n",
    "from importlib import reload\n",
    "reload(visualization)\n",
    "reload(utils)\n",
    "y='log_isi'\n",
    "df['neuron']=df['neuron'].astype(int)\n",
    "ddf, dy = utils.make_fold_change(df,\n",
    "                         y=y,\n",
    "                         index_cols=('stim', 'mouse_code', 'neuron'),\n",
    "                         condition_name='stim',\n",
    "                         do_take_mean=True)\n",
    "\n",
    "alt.layer(*visualization.plot_data(x='neuron',y=dy, color='mouse_code',add_box=True),data=ddf)"
   ]
  },
  {
   "cell_type": "markdown",
   "metadata": {},
   "source": [
    "# Estimate model"
   ]
  },
  {
   "cell_type": "code",
   "execution_count": 5,
   "metadata": {},
   "outputs": [
    {
     "name": "stderr",
     "output_type": "stream",
     "text": [
      "sample: 100%|██████████| 1100/1100 [00:06<00:00, 167.46it/s, 31 steps of size 2.14e-01. acc. prob=0.85]\n"
     ]
    },
    {
     "name": "stdout",
     "output_type": "stream",
     "text": [
      "n(Divergences) = 0\n"
     ]
    }
   ],
   "source": [
    "#y = list(set(df.columns) - set(index_cols))[0]\n",
    "trace = fit_numpyro(y=df[y].values,\n",
    "                    stim_on=(df['stim']).astype(int).values,\n",
    "                    treat=trans(df['neuron']),\n",
    "                    subject=trans(df['mouse']),\n",
    "                    progress_bar=True,\n",
    "                    model=models.model_hier_normal_stim,\n",
    "                    n_draws=100, num_chains=1, )"
   ]
  },
  {
   "cell_type": "markdown",
   "metadata": {},
   "source": [
    "# Add data back"
   ]
  },
  {
   "cell_type": "code",
   "execution_count": 6,
   "metadata": {},
   "outputs": [],
   "source": [
    "reload(utils)\n",
    "df_both = utils.add_data_to_posterior(df,\n",
    "                                trace=trace,\n",
    "                                y=y,\n",
    "                                index_cols=['neuron', 'stim', 'mouse_code', ],\n",
    "                                condition_name='stim',\n",
    "                                b_name='b_stim_per_condition',  # for posterior\n",
    "                                group_name='neuron'  # for posterior\n",
    "                                )"
   ]
  },
  {
   "cell_type": "markdown",
   "metadata": {},
   "source": [
    "# Plot data and posterior"
   ]
  },
  {
   "cell_type": "code",
   "execution_count": 7,
   "metadata": {
    "scrolled": false
   },
   "outputs": [
    {
     "data": {
      "text/html": [
       "\n",
       "<div id=\"altair-viz-0247dae0d0b444fbbd77a6c2c2babee3\"></div>\n",
       "<script type=\"text/javascript\">\n",
       "  (function(spec, embedOpt){\n",
       "    let outputDiv = document.currentScript.previousElementSibling;\n",
       "    if (outputDiv.id !== \"altair-viz-0247dae0d0b444fbbd77a6c2c2babee3\") {\n",
       "      outputDiv = document.getElementById(\"altair-viz-0247dae0d0b444fbbd77a6c2c2babee3\");\n",
       "    }\n",
       "    const paths = {\n",
       "      \"vega\": \"https://cdn.jsdelivr.net/npm//vega@5?noext\",\n",
       "      \"vega-lib\": \"https://cdn.jsdelivr.net/npm//vega-lib?noext\",\n",
       "      \"vega-lite\": \"https://cdn.jsdelivr.net/npm//vega-lite@4.8.1?noext\",\n",
       "      \"vega-embed\": \"https://cdn.jsdelivr.net/npm//vega-embed@6?noext\",\n",
       "    };\n",
       "\n",
       "    function loadScript(lib) {\n",
       "      return new Promise(function(resolve, reject) {\n",
       "        var s = document.createElement('script');\n",
       "        s.src = paths[lib];\n",
       "        s.async = true;\n",
       "        s.onload = () => resolve(paths[lib]);\n",
       "        s.onerror = () => reject(`Error loading script: ${paths[lib]}`);\n",
       "        document.getElementsByTagName(\"head\")[0].appendChild(s);\n",
       "      });\n",
       "    }\n",
       "\n",
       "    function showError(err) {\n",
       "      outputDiv.innerHTML = `<div class=\"error\" style=\"color:red;\">${err}</div>`;\n",
       "      throw err;\n",
       "    }\n",
       "\n",
       "    function displayChart(vegaEmbed) {\n",
       "      vegaEmbed(outputDiv, spec, embedOpt)\n",
       "        .catch(err => showError(`Javascript Error: ${err.message}<br>This usually means there's a typo in your chart specification. See the javascript console for the full traceback.`));\n",
       "    }\n",
       "\n",
       "    if(typeof define === \"function\" && define.amd) {\n",
       "      requirejs.config({paths});\n",
       "      require([\"vega-embed\"], displayChart, err => showError(`Error loading script: ${err.message}`));\n",
       "    } else if (typeof vegaEmbed === \"function\") {\n",
       "      displayChart(vegaEmbed);\n",
       "    } else {\n",
       "      loadScript(\"vega\")\n",
       "        .then(() => loadScript(\"vega-lite\"))\n",
       "        .then(() => loadScript(\"vega-embed\"))\n",
       "        .catch(showError)\n",
       "        .then(() => displayChart(vegaEmbed));\n",
       "    }\n",
       "  })({\"config\": {\"view\": {\"continuousWidth\": 400, \"continuousHeight\": 300}}, \"layer\": [{\"mark\": {\"type\": \"line\", \"fill\": null, \"opacity\": 0.5, \"size\": 3}, \"encoding\": {\"color\": {\"type\": \"nominal\", \"field\": \"mouse_code\"}, \"x\": {\"type\": \"ordinal\", \"field\": \"neuron\"}, \"y\": {\"type\": \"quantitative\", \"field\": \"log_isi diff\"}}}, {\"layer\": [{\"mark\": {\"type\": \"rule\", \"color\": \"black\", \"opacity\": 0.4, \"size\": 0.1}, \"encoding\": {\"y\": {\"type\": \"quantitative\", \"field\": \"zero\"}}}, {\"mark\": {\"type\": \"line\", \"color\": \"black\", \"point\": true}, \"encoding\": {\"x\": {\"type\": \"ordinal\", \"field\": \"neuron\"}, \"y\": {\"type\": \"quantitative\", \"field\": \"Bayes condition mean\", \"impute\": {\"value\": \"value\"}}}}, {\"mark\": \"rule\", \"encoding\": {\"x\": {\"type\": \"ordinal\", \"field\": \"neuron\"}, \"y\": {\"type\": \"quantitative\", \"field\": \"Bayes condition CI0\", \"scale\": {\"zero\": false}, \"title\": \"\\u0394 log_isi\"}, \"y2\": {\"field\": \"Bayes condition CI1\"}}}]}], \"data\": {\"name\": \"data-0398eb9c206332f152a6a7cc545926c8\"}, \"resolve\": {\"scale\": {\"y\": \"independent\"}}, \"$schema\": \"https://vega.github.io/schema/vega-lite/v4.8.1.json\", \"datasets\": {\"data-0398eb9c206332f152a6a7cc545926c8\": [{\"neuron\": 0.0, \"mouse_code\": 0.0, \"i_trial\": 0.0, \"neuron_code\": 0.0, \"log_firing_rate\": 0.10089895333825805, \"Firing rate\": 8.125869867470541, \"firing_rate\": 8.125869867470541, \"i_spike\": 0.25, \"isi\": -0.002009050430168441, \"log_isi diff\": -0.00541990570332751, \"log_isi\": null, \"Bayes condition CI0\": null, \"Bayes condition CI1\": null, \"Bayes condition mean\": null, \"zero\": 0}, {\"neuron\": 0.0, \"mouse_code\": 1.0, \"i_trial\": 0.0, \"neuron_code\": 0.0, \"log_firing_rate\": 0.220591871958721, \"Firing rate\": 38.68529619917351, \"firing_rate\": 38.68529619917351, \"i_spike\": 16.0, \"isi\": -0.02627167738556905, \"log_isi diff\": -0.15374217567941617, \"log_isi\": null, \"Bayes condition CI0\": null, \"Bayes condition CI1\": null, \"Bayes condition mean\": null, \"zero\": 0}, {\"neuron\": 0.0, \"mouse_code\": 2.0, \"i_trial\": 0.0, \"neuron_code\": 0.0, \"log_firing_rate\": 0.23751283814338375, \"Firing rate\": 58.69647270396759, \"firing_rate\": 58.69647270396759, \"i_spike\": 9.25, \"isi\": -0.013368338498339474, \"log_isi diff\": -0.07144401777476261, \"log_isi\": null, \"Bayes condition CI0\": null, \"Bayes condition CI1\": null, \"Bayes condition mean\": null, \"zero\": 0}, {\"neuron\": 0.0, \"mouse_code\": 3.0, \"i_trial\": 0.0, \"neuron_code\": 0.0, \"log_firing_rate\": 0.02445940966958826, \"Firing rate\": -0.5464013284206146, \"firing_rate\": -0.5464013284206146, \"i_spike\": 14.0, \"isi\": -0.02153590428843627, \"log_isi diff\": -0.1203847103365252, \"log_isi\": null, \"Bayes condition CI0\": null, \"Bayes condition CI1\": null, \"Bayes condition mean\": null, \"zero\": 0}, {\"neuron\": 1.0, \"mouse_code\": 0.0, \"i_trial\": 0.0, \"neuron_code\": 0.0, \"log_firing_rate\": 0.7544531231012446, \"Firing rate\": 1240.8424410389214, \"firing_rate\": 1240.8424410389214, \"i_spike\": 6.0, \"isi\": -0.008327233469174342, \"log_isi diff\": -0.053585287866507514, \"log_isi\": null, \"Bayes condition CI0\": null, \"Bayes condition CI1\": null, \"Bayes condition mean\": null, \"zero\": 0}, {\"neuron\": 1.0, \"mouse_code\": 1.0, \"i_trial\": 0.0, \"neuron_code\": 0.0, \"log_firing_rate\": 0.4288142073659309, \"Firing rate\": 110.22349024911978, \"firing_rate\": 110.22349024911978, \"i_spike\": -1.25, \"isi\": -0.0030467213415869554, \"log_isi diff\": -0.010851003398008485, \"log_isi\": null, \"Bayes condition CI0\": null, \"Bayes condition CI1\": null, \"Bayes condition mean\": null, \"zero\": 0}, {\"neuron\": 1.0, \"mouse_code\": 2.0, \"i_trial\": 0.0, \"neuron_code\": 0.0, \"log_firing_rate\": -0.025276998701578623, \"Firing rate\": -25.962719132605784, \"firing_rate\": -25.962719132605784, \"i_spike\": 9.0, \"isi\": -0.011825746810083679, \"log_isi diff\": -0.078898042422197, \"log_isi\": null, \"Bayes condition CI0\": null, \"Bayes condition CI1\": null, \"Bayes condition mean\": null, \"zero\": 0}, {\"neuron\": 1.0, \"mouse_code\": 3.0, \"i_trial\": 0.0, \"neuron_code\": 0.0, \"log_firing_rate\": 0.02091268442539196, \"Firing rate\": 5.280448474801489, \"firing_rate\": 5.280448474801489, \"i_spike\": 8.0, \"isi\": -0.010753675457228336, \"log_isi diff\": -0.07288209711803284, \"log_isi\": null, \"Bayes condition CI0\": null, \"Bayes condition CI1\": null, \"Bayes condition mean\": null, \"zero\": 0}, {\"neuron\": 2.0, \"mouse_code\": 0.0, \"i_trial\": 0.0, \"neuron_code\": 0.0, \"log_firing_rate\": 0.006325597487597534, \"Firing rate\": 1.2986830927096094, \"firing_rate\": 1.2986830927096094, \"i_spike\": 3.75, \"isi\": -0.0035733591104060713, \"log_isi diff\": -0.027633526481466664, \"log_isi\": null, \"Bayes condition CI0\": null, \"Bayes condition CI1\": null, \"Bayes condition mean\": null, \"zero\": 0}, {\"neuron\": 2.0, \"mouse_code\": 1.0, \"i_trial\": 0.0, \"neuron_code\": 0.0, \"log_firing_rate\": -0.05311801114143222, \"Firing rate\": -15.308265584260411, \"firing_rate\": -15.308265584260411, \"i_spike\": 6.5, \"isi\": -0.0044995881092277715, \"log_isi diff\": -0.03557852221212232, \"log_isi\": null, \"Bayes condition CI0\": null, \"Bayes condition CI1\": null, \"Bayes condition mean\": null, \"zero\": 0}, {\"neuron\": 2.0, \"mouse_code\": 2.0, \"i_trial\": 0.0, \"neuron_code\": 0.0, \"log_firing_rate\": -0.06275192384834183, \"Firing rate\": -11.6014977971859, \"firing_rate\": -11.6014977971859, \"i_spike\": -7.75, \"isi\": 0.0054269570819326166, \"log_isi diff\": 0.042201253101811886, \"log_isi\": null, \"Bayes condition CI0\": null, \"Bayes condition CI1\": null, \"Bayes condition mean\": null, \"zero\": 0}, {\"neuron\": 2.0, \"mouse_code\": 3.0, \"i_trial\": 0.0, \"neuron_code\": 0.0, \"log_firing_rate\": -0.2568693824078494, \"Firing rate\": -75.89401056062023, \"firing_rate\": -75.89401056062023, \"i_spike\": 16.5, \"isi\": -0.012646202282371344, \"log_isi diff\": -0.10453402785817589, \"log_isi\": null, \"Bayes condition CI0\": null, \"Bayes condition CI1\": null, \"Bayes condition mean\": null, \"zero\": 0}, {\"neuron\": 3.0, \"mouse_code\": 0.0, \"i_trial\": 0.0, \"neuron_code\": 0.0, \"log_firing_rate\": -0.1622878759709132, \"Firing rate\": -46.858384725767266, \"firing_rate\": -46.858384725767266, \"i_spike\": -1.5, \"isi\": -0.00021791186587007128, \"log_isi diff\": 0.002325357756063129, \"log_isi\": null, \"Bayes condition CI0\": null, \"Bayes condition CI1\": null, \"Bayes condition mean\": null, \"zero\": 0}, {\"neuron\": 3.0, \"mouse_code\": 1.0, \"i_trial\": 0.0, \"neuron_code\": 0.0, \"log_firing_rate\": 1.2693146509201982, \"Firing rate\": 3567.777602162743, \"firing_rate\": 3567.777602162743, \"i_spike\": 10.5, \"isi\": -0.007220403536717192, \"log_isi diff\": -0.0664404140265944, \"log_isi\": null, \"Bayes condition CI0\": null, \"Bayes condition CI1\": null, \"Bayes condition mean\": null, \"zero\": 0}, {\"neuron\": 3.0, \"mouse_code\": 2.0, \"i_trial\": 0.0, \"neuron_code\": 0.0, \"log_firing_rate\": 0.10778120658859702, \"Firing rate\": 61.3020899892814, \"firing_rate\": 61.3020899892814, \"i_spike\": 10.0, \"isi\": -0.006991702598472899, \"log_isi diff\": -0.061773726741202406, \"log_isi\": null, \"Bayes condition CI0\": null, \"Bayes condition CI1\": null, \"Bayes condition mean\": null, \"zero\": 0}, {\"neuron\": 3.0, \"mouse_code\": 3.0, \"i_trial\": 0.0, \"neuron_code\": 0.0, \"log_firing_rate\": -0.07836497162153089, \"Firing rate\": -21.69798292060875, \"firing_rate\": -21.69798292060875, \"i_spike\": -1.0, \"isi\": -0.00010134651059787864, \"log_isi diff\": -0.0008915840451224621, \"log_isi\": null, \"Bayes condition CI0\": null, \"Bayes condition CI1\": null, \"Bayes condition mean\": null, \"zero\": 0}, {\"neuron\": 4.0, \"mouse_code\": 0.0, \"i_trial\": 0.0, \"neuron_code\": 0.0, \"log_firing_rate\": 0.25248303070312206, \"Firing rate\": 82.03932331002108, \"firing_rate\": 82.03932331002108, \"i_spike\": 5.0, \"isi\": -0.002703909479569791, \"log_isi diff\": -0.026190368368294248, \"log_isi\": null, \"Bayes condition CI0\": null, \"Bayes condition CI1\": null, \"Bayes condition mean\": null, \"zero\": 0}, {\"neuron\": 4.0, \"mouse_code\": 1.0, \"i_trial\": 0.0, \"neuron_code\": 0.0, \"log_firing_rate\": -0.08854267825074258, \"Firing rate\": -70.06650091924851, \"firing_rate\": -70.06650091924851, \"i_spike\": 8.5, \"isi\": -0.004245823775725147, \"log_isi diff\": -0.04278094810037247, \"log_isi\": null, \"Bayes condition CI0\": null, \"Bayes condition CI1\": null, \"Bayes condition mean\": null, \"zero\": 0}, {\"neuron\": 4.0, \"mouse_code\": 2.0, \"i_trial\": 0.0, \"neuron_code\": 0.0, \"log_firing_rate\": 0.03730719616702638, \"Firing rate\": 16.866985278767743, \"firing_rate\": 16.866985278767743, \"i_spike\": 3.25, \"isi\": -0.0014821899454764836, \"log_isi diff\": -0.016069358761101604, \"log_isi\": null, \"Bayes condition CI0\": null, \"Bayes condition CI1\": null, \"Bayes condition mean\": null, \"zero\": 0}, {\"neuron\": 4.0, \"mouse_code\": 3.0, \"i_trial\": 0.0, \"neuron_code\": 0.0, \"log_firing_rate\": 0.05751395918748603, \"Firing rate\": 30.83977393150832, \"firing_rate\": 30.83977393150832, \"i_spike\": -2.5, \"isi\": 0.0013006065006599885, \"log_isi diff\": 0.013240220076588871, \"log_isi\": null, \"Bayes condition CI0\": null, \"Bayes condition CI1\": null, \"Bayes condition mean\": null, \"zero\": 0}, {\"neuron\": 5.0, \"mouse_code\": 0.0, \"i_trial\": 0.0, \"neuron_code\": 0.0, \"log_firing_rate\": -0.24671407669681855, \"Firing rate\": -87.93896754244045, \"firing_rate\": -87.93896754244045, \"i_spike\": -5.25, \"isi\": 0.002338528827142368, \"log_isi diff\": 0.027436204280091525, \"log_isi\": null, \"Bayes condition CI0\": null, \"Bayes condition CI1\": null, \"Bayes condition mean\": null, \"zero\": 0}, {\"neuron\": 5.0, \"mouse_code\": 1.0, \"i_trial\": 0.0, \"neuron_code\": 0.0, \"log_firing_rate\": 0.47429556314112986, \"Firing rate\": 2777.7845107242288, \"firing_rate\": 2777.7845107242288, \"i_spike\": 12.75, \"isi\": -0.004266525219110348, \"log_isi diff\": -0.05252435455893467, \"log_isi\": null, \"Bayes condition CI0\": null, \"Bayes condition CI1\": null, \"Bayes condition mean\": null, \"zero\": 0}, {\"neuron\": 5.0, \"mouse_code\": 2.0, \"i_trial\": 0.0, \"neuron_code\": 0.0, \"log_firing_rate\": 0.1369937596847164, \"Firing rate\": 53.368039137418464, \"firing_rate\": 53.368039137418464, \"i_spike\": -1.5, \"isi\": 0.0005112062645186918, \"log_isi diff\": 0.006554453093029489, \"log_isi\": null, \"Bayes condition CI0\": null, \"Bayes condition CI1\": null, \"Bayes condition mean\": null, \"zero\": 0}, {\"neuron\": 5.0, \"mouse_code\": 3.0, \"i_trial\": 0.0, \"neuron_code\": 0.0, \"log_firing_rate\": 0.49063691409542143, \"Firing rate\": 319.5877613719722, \"firing_rate\": 319.5877613719722, \"i_spike\": 14.5, \"isi\": -0.005118620545018077, \"log_isi diff\": -0.062327030541413864, \"log_isi\": null, \"Bayes condition CI0\": null, \"Bayes condition CI1\": null, \"Bayes condition mean\": null, \"zero\": 0}, {\"neuron\": 6.0, \"mouse_code\": 0.0, \"i_trial\": 0.0, \"neuron_code\": 0.0, \"log_firing_rate\": 0.08537699672740917, \"Firing rate\": 49.305010946751054, \"firing_rate\": 49.305010946751054, \"i_spike\": -15.0, \"isi\": 0.003860606807159172, \"log_isi diff\": 0.054701075177066905, \"log_isi\": null, \"Bayes condition CI0\": null, \"Bayes condition CI1\": null, \"Bayes condition mean\": null, \"zero\": 0}, {\"neuron\": 6.0, \"mouse_code\": 1.0, \"i_trial\": 0.0, \"neuron_code\": 0.0, \"log_firing_rate\": -0.03256223109061551, \"Firing rate\": -26.168214384219368, \"firing_rate\": -26.168214384219368, \"i_spike\": -1.0, \"isi\": 9.844203288593076e-05, \"log_isi diff\": 0.0013792326640360564, \"log_isi\": null, \"Bayes condition CI0\": null, \"Bayes condition CI1\": null, \"Bayes condition mean\": null, \"zero\": 0}, {\"neuron\": 6.0, \"mouse_code\": 2.0, \"i_trial\": 0.0, \"neuron_code\": 0.0, \"log_firing_rate\": 0.041998916508282136, \"Firing rate\": 19.388471595050248, \"firing_rate\": 19.388471595050248, \"i_spike\": 6.0, \"isi\": -0.0013245047198543539, \"log_isi diff\": -0.020829193116137068, \"log_isi\": null, \"Bayes condition CI0\": null, \"Bayes condition CI1\": null, \"Bayes condition mean\": null, \"zero\": 0}, {\"neuron\": 6.0, \"mouse_code\": 3.0, \"i_trial\": 0.0, \"neuron_code\": 0.0, \"log_firing_rate\": 0.6786662047408094, \"Firing rate\": 1971.8104349813573, \"firing_rate\": 1971.8104349813573, \"i_spike\": 3.5, \"isi\": -0.0008522270255009422, \"log_isi diff\": -0.013738204789134123, \"log_isi\": null, \"Bayes condition CI0\": null, \"Bayes condition CI1\": null, \"Bayes condition mean\": null, \"zero\": 0}, {\"neuron\": 7.0, \"mouse_code\": 0.0, \"i_trial\": 0.0, \"neuron_code\": 0.0, \"log_firing_rate\": -0.20360675732891487, \"Firing rate\": -109.24503367227817, \"firing_rate\": -109.24503367227817, \"i_spike\": -9.5, \"isi\": 0.0016368581947422411, \"log_isi diff\": 0.0294234651212677, \"log_isi\": null, \"Bayes condition CI0\": null, \"Bayes condition CI1\": null, \"Bayes condition mean\": null, \"zero\": 0}, {\"neuron\": 7.0, \"mouse_code\": 1.0, \"i_trial\": 0.0, \"neuron_code\": 0.0, \"log_firing_rate\": -0.19675151813760117, \"Firing rate\": -331.12704861329644, \"firing_rate\": -331.12704861329644, \"i_spike\": -13.0, \"isi\": 0.0018277747136177455, \"log_isi diff\": 0.03538322309974329, \"log_isi\": null, \"Bayes condition CI0\": null, \"Bayes condition CI1\": null, \"Bayes condition mean\": null, \"zero\": 0}, {\"neuron\": 7.0, \"mouse_code\": 2.0, \"i_trial\": 0.0, \"neuron_code\": 0.0, \"log_firing_rate\": 0.05704506360087391, \"Firing rate\": 13.714943478630971, \"firing_rate\": 13.714943478630971, \"i_spike\": 7.0, \"isi\": -0.0013634448229828643, \"log_isi diff\": -0.023990948852099958, \"log_isi\": null, \"Bayes condition CI0\": null, \"Bayes condition CI1\": null, \"Bayes condition mean\": null, \"zero\": 0}, {\"neuron\": 7.0, \"mouse_code\": 3.0, \"i_trial\": 0.0, \"neuron_code\": 0.0, \"log_firing_rate\": 0.26799554605020326, \"Firing rate\": 333.98905764475506, \"firing_rate\": 333.98905764475506, \"i_spike\": 7.0, \"isi\": -0.0007126818146631977, \"log_isi diff\": -0.013655219676531827, \"log_isi\": null, \"Bayes condition CI0\": null, \"Bayes condition CI1\": null, \"Bayes condition mean\": null, \"zero\": 0}, {\"neuron\": 0.0, \"mouse_code\": null, \"i_trial\": 0.5, \"neuron_code\": 0.0, \"log_firing_rate\": 1.4937748573330016, \"Firing rate\": 31.24739384898364, \"firing_rate\": 31.24739384898364, \"i_spike\": 35.75, \"isi\": 0.09880775745262332, \"log_isi diff\": null, \"log_isi\": -1.0087797023578726, \"Bayes condition CI0\": 0.1684638410806656, \"Bayes condition CI1\": 0.8402583003044128, \"Bayes condition mean\": 0.5456104278564453, \"zero\": 0}, {\"neuron\": 1.0, \"mouse_code\": null, \"i_trial\": 0.5, \"neuron_code\": 4.0, \"log_firing_rate\": 1.900002091552369, \"Firing rate\": 84.09381368907607, \"firing_rate\": 84.09381368907607, \"i_spike\": 47.5, \"isi\": 0.07296879915053144, \"log_isi diff\": null, \"log_isi\": -1.137100651269936, \"Bayes condition CI0\": 0.10244660079479218, \"Bayes condition CI1\": 0.6592758297920227, \"Bayes condition mean\": 0.37027689814567566, \"zero\": 0}, {\"neuron\": 2.0, \"mouse_code\": null, \"i_trial\": 0.5, \"neuron_code\": 8.0, \"log_firing_rate\": 2.045539151550808, \"Firing rate\": 134.11210311122238, \"firing_rate\": 134.11210311122238, \"i_spike\": 51.75, \"isi\": 0.06663689862222134, \"log_isi diff\": null, \"log_isi\": -1.176312943931607, \"Bayes condition CI0\": -0.16231724619865417, \"Bayes condition CI1\": 0.4197535812854767, \"Bayes condition mean\": 0.1865077167749405, \"zero\": 0}, {\"neuron\": 3.0, \"mouse_code\": null, \"i_trial\": 0.5, \"neuron_code\": 12.0, \"log_firing_rate\": 2.139870875161032, \"Firing rate\": 142.65109178259578, \"firing_rate\": 142.65109178259578, \"i_spike\": 68.75, \"isi\": 0.0518541193219251, \"log_isi diff\": null, \"log_isi\": -1.2893836729542516, \"Bayes condition CI0\": -0.24876055121421814, \"Bayes condition CI1\": 0.24569223821163177, \"Bayes condition mean\": 0.04439926519989967, \"zero\": 0}, {\"neuron\": 4.0, \"mouse_code\": null, \"i_trial\": 0.5, \"neuron_code\": 16.0, \"log_firing_rate\": 1.8974264472252478, \"Firing rate\": 78.98143153707397, \"firing_rate\": 78.98143153707397, \"i_spike\": 76.0, \"isi\": 0.04578736392222214, \"log_isi diff\": null, \"log_isi\": -1.339581205325047, \"Bayes condition CI0\": -0.32682886719703674, \"Bayes condition CI1\": 0.10042253881692886, \"Bayes condition mean\": -0.12660250067710876, \"zero\": 0}, {\"neuron\": 5.0, \"mouse_code\": null, \"i_trial\": 0.5, \"neuron_code\": 20.0, \"log_firing_rate\": 2.2770640021729855, \"Firing rate\": 195.36030628976835, \"firing_rate\": 195.36030628976835, \"i_spike\": 99.0, \"isi\": 0.0351801377237341, \"log_isi diff\": null, \"log_isi\": -1.4543414396885128, \"Bayes condition CI0\": -0.617231547832489, \"Bayes condition CI1\": -0.07663851976394653, \"Bayes condition mean\": -0.37975552678108215, \"zero\": 0}, {\"neuron\": 6.0, \"mouse_code\": null, \"i_trial\": 0.5, \"neuron_code\": 24.0, \"log_firing_rate\": 2.389860377408619, \"Firing rate\": 255.03553072844443, \"firing_rate\": 255.03553072844443, \"i_spike\": 122.0, \"isi\": 0.02877203259574294, \"log_isi diff\": null, \"log_isi\": -1.5418584191503828, \"Bayes condition CI0\": -0.7815175652503967, \"Bayes condition CI1\": -0.2960452735424042, \"Bayes condition mean\": -0.5383657813072205, \"zero\": 0}, {\"neuron\": 7.0, \"mouse_code\": null, \"i_trial\": 0.5, \"neuron_code\": 28.0, \"log_firing_rate\": 2.5004045844424487, \"Firing rate\": 317.7565778412236, \"firing_rate\": 317.7565778412236, \"i_spike\": 153.5, \"isi\": 0.02280833531446127, \"log_isi diff\": null, \"log_isi\": -1.6425370206763534, \"Bayes condition CI0\": -1.1586679220199585, \"Bayes condition CI1\": -0.3403356671333313, \"Bayes condition mean\": -0.7725473642349243, \"zero\": 0}]}}, {\"mode\": \"vega-lite\"});\n",
       "</script>"
      ],
      "text/plain": [
       "alt.LayerChart(...)"
      ]
     },
     "execution_count": 7,
     "metadata": {},
     "output_type": "execute_result"
    }
   ],
   "source": [
    "plot_data_and_posterior(df_both, y=f'{y} diff', x='neuron',color='mouse_code',title=y,hold_for_facet=False,add_box=False)"
   ]
  }
 ],
 "metadata": {
  "kernelspec": {
   "display_name": "PyCharm (jup)",
   "language": "python",
   "name": "pycharm-d5912792"
  },
  "language_info": {
   "codemirror_mode": {
    "name": "ipython",
    "version": 3
   },
   "file_extension": ".py",
   "mimetype": "text/x-python",
   "name": "python",
   "nbconvert_exporter": "python",
   "pygments_lexer": "ipython3",
   "version": "3.8.5"
  }
 },
 "nbformat": 4,
 "nbformat_minor": 4
}
