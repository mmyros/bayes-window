{
 "cells": [
  {
   "cell_type": "markdown",
   "metadata": {},
   "source": [
    "# Compare to alternative models"
   ]
  },
  {
   "cell_type": "code",
   "execution_count": 1,
   "metadata": {
    "scrolled": true
   },
   "outputs": [],
   "source": [
    "\n",
    "from bayes_window.generative_models import generate_fake_spikes\n",
    "from bayes_window.model_comparison import *\n",
    "from bayes_window import BayesWindow"
   ]
  },
  {
   "cell_type": "code",
   "execution_count": 2,
   "metadata": {},
   "outputs": [],
   "source": [
    "df, df_monster, index_cols, firing_rates = generate_fake_spikes(n_trials=140,\n",
    "                                                                n_neurons=10,\n",
    "                                                                n_mice=8,\n",
    "                                                                dur=7, \n",
    "                                                               mouse_response_slope=20,\n",
    "                                                               overall_stim_response_strength=4)"
   ]
  },
  {
   "cell_type": "code",
   "execution_count": 4,
   "metadata": {},
   "outputs": [
    {
     "data": {
      "image/png": "[encoded data removed]",
      "text/plain": [
       "<Figure size 432x504 with 1 Axes>"
      ]
     },
     "metadata": {
      "needs_background": "light"
     },
     "output_type": "display_data"
    },
    {
     "data": {
      "text/html": [
       "<div>\n",
       "<style scoped>\n",
       "    .dataframe tbody tr th:only-of-type {\n",
       "        vertical-align: middle;\n",
       "    }\n",
       "\n",
       "    .dataframe tbody tr th {\n",
       "        vertical-align: top;\n",
       "    }\n",
       "\n",
       "    .dataframe thead th {\n",
       "        text-align: right;\n",
       "    }\n",
       "</style>\n",
       "<table border=\"1\" class=\"dataframe\">\n",
       "  <thead>\n",
       "    <tr style=\"text-align: right;\">\n",
       "      <th></th>\n",
       "      <th>rank</th>\n",
       "      <th>loo</th>\n",
       "      <th>p_loo</th>\n",
       "      <th>d_loo</th>\n",
       "      <th>weight</th>\n",
       "      <th>se</th>\n",
       "      <th>dse</th>\n",
       "      <th>warning</th>\n",
       "      <th>loo_scale</th>\n",
       "    </tr>\n",
       "  </thead>\n",
       "  <tbody>\n",
       "    <tr>\n",
       "      <th>full_normal</th>\n",
       "      <td>0</td>\n",
       "      <td>30548.6</td>\n",
       "      <td>12.7175</td>\n",
       "      <td>0</td>\n",
       "      <td>NaN</td>\n",
       "      <td>96.1093</td>\n",
       "      <td>0</td>\n",
       "      <td>False</td>\n",
       "      <td>log</td>\n",
       "    </tr>\n",
       "    <tr>\n",
       "      <th>full_lognogmal</th>\n",
       "      <td>1</td>\n",
       "      <td>30486.7</td>\n",
       "      <td>12.7499</td>\n",
       "      <td>61.9559</td>\n",
       "      <td>NaN</td>\n",
       "      <td>91.0621</td>\n",
       "      <td>140.643</td>\n",
       "      <td>False</td>\n",
       "      <td>log</td>\n",
       "    </tr>\n",
       "    <tr>\n",
       "      <th>full_student</th>\n",
       "      <td>2</td>\n",
       "      <td>30471.5</td>\n",
       "      <td>13.1342</td>\n",
       "      <td>77.1162</td>\n",
       "      <td>NaN</td>\n",
       "      <td>89.7436</td>\n",
       "      <td>140.477</td>\n",
       "      <td>False</td>\n",
       "      <td>log</td>\n",
       "    </tr>\n",
       "    <tr>\n",
       "      <th>no_group</th>\n",
       "      <td>3</td>\n",
       "      <td>30192.6</td>\n",
       "      <td>7.11032</td>\n",
       "      <td>356.039</td>\n",
       "      <td>NaN</td>\n",
       "      <td>93.8096</td>\n",
       "      <td>136.4</td>\n",
       "      <td>False</td>\n",
       "      <td>log</td>\n",
       "    </tr>\n",
       "    <tr>\n",
       "      <th>no_condition</th>\n",
       "      <td>4</td>\n",
       "      <td>30191.1</td>\n",
       "      <td>3.68781</td>\n",
       "      <td>357.485</td>\n",
       "      <td>NaN</td>\n",
       "      <td>97.7011</td>\n",
       "      <td>137.74</td>\n",
       "      <td>False</td>\n",
       "      <td>log</td>\n",
       "    </tr>\n",
       "    <tr>\n",
       "      <th>no-treatment</th>\n",
       "      <td>5</td>\n",
       "      <td>29936.8</td>\n",
       "      <td>11.4054</td>\n",
       "      <td>611.827</td>\n",
       "      <td>NaN</td>\n",
       "      <td>93.1468</td>\n",
       "      <td>131.859</td>\n",
       "      <td>False</td>\n",
       "      <td>log</td>\n",
       "    </tr>\n",
       "    <tr>\n",
       "      <th>no_condition_or_treatment</th>\n",
       "      <td>6</td>\n",
       "      <td>28072.5</td>\n",
       "      <td>2.10538</td>\n",
       "      <td>2476.08</td>\n",
       "      <td>0</td>\n",
       "      <td>98.1497</td>\n",
       "      <td>133.422</td>\n",
       "      <td>False</td>\n",
       "      <td>log</td>\n",
       "    </tr>\n",
       "  </tbody>\n",
       "</table>\n",
       "</div>"
      ],
      "text/plain": [
       "                          rank      loo    p_loo    d_loo weight       se  \\\n",
       "full_normal                  0  30548.6  12.7175        0    NaN  96.1093   \n",
       "full_lognogmal               1  30486.7  12.7499  61.9559    NaN  91.0621   \n",
       "full_student                 2  30471.5  13.1342  77.1162    NaN  89.7436   \n",
       "no_group                     3  30192.6  7.11032  356.039    NaN  93.8096   \n",
       "no_condition                 4  30191.1  3.68781  357.485    NaN  97.7011   \n",
       "no-treatment                 5  29936.8  11.4054  611.827    NaN  93.1468   \n",
       "no_condition_or_treatment    6  28072.5  2.10538  2476.08      0  98.1497   \n",
       "\n",
       "                               dse warning loo_scale  \n",
       "full_normal                      0   False       log  \n",
       "full_lognogmal             140.643   False       log  \n",
       "full_student               140.477   False       log  \n",
       "no_group                     136.4   False       log  \n",
       "no_condition                137.74   False       log  \n",
       "no-treatment               131.859   False       log  \n",
       "no_condition_or_treatment  133.422   False       log  "
      ]
     },
     "execution_count": 4,
     "metadata": {},
     "output_type": "execute_result"
    }
   ],
   "source": [
    "window = BayesWindow(df, y='isi', treatment='stim', group='mouse', condition='neuron')\n",
    "window.fit_slopes(model=models.model_hierarchical, do_mean_over_trials=True,)\n",
    "window.explore_models()"
   ]
  },
  {
   "cell_type": "markdown",
   "metadata": {},
   "source": [
    "Simple one-way ANOVA:"
   ]
  },
  {
   "cell_type": "code",
   "execution_count": 6,
   "metadata": {},
   "outputs": [
    {
     "name": "stdout",
     "output_type": "stream",
     "text": [
      "isi~stim\n",
      "             sum_sq    df          F    PR(>F)\n",
      "stim      0.001945   1.0  54.907114  0.000003\n",
      "Residual  0.000496  14.0        NaN       NaN\n"
     ]
    },
    {
     "data": {
      "text/plain": [
       "True"
      ]
     },
     "execution_count": 6,
     "metadata": {},
     "output_type": "execute_result"
    }
   ],
   "source": [
    "window.fit_anova()"
   ]
  },
  {
   "cell_type": "markdown",
   "metadata": {},
   "source": [
    "## Linear mixed effects model:"
   ]
  },
  {
   "cell_type": "code",
   "execution_count": 9,
   "metadata": {},
   "outputs": [
    {
     "name": "stdout",
     "output_type": "stream",
     "text": [
      "Using formula isi ~ 1+ neuron | stim + (1 | mouse)\n"
     ]
    },
    {
     "data": {
      "text/html": [
       "<div>\n",
       "<style scoped>\n",
       "    .dataframe tbody tr th:only-of-type {\n",
       "        vertical-align: middle;\n",
       "    }\n",
       "\n",
       "    .dataframe tbody tr th {\n",
       "        vertical-align: top;\n",
       "    }\n",
       "\n",
       "    .dataframe thead th {\n",
       "        text-align: right;\n",
       "    }\n",
       "</style>\n",
       "<table border=\"1\" class=\"dataframe\">\n",
       "  <thead>\n",
       "    <tr style=\"text-align: right;\">\n",
       "      <th></th>\n",
       "      <th>mean interval</th>\n",
       "      <th>Std.Err.</th>\n",
       "      <th>z</th>\n",
       "      <th>p</th>\n",
       "      <th>higher interval</th>\n",
       "      <th>lower interval</th>\n",
       "    </tr>\n",
       "  </thead>\n",
       "  <tbody>\n",
       "    <tr>\n",
       "      <th>Intercept</th>\n",
       "      <td>0.064</td>\n",
       "      <td>0.003</td>\n",
       "      <td>21.237</td>\n",
       "      <td>0.00</td>\n",
       "      <td>0.058</td>\n",
       "      <td>0.070</td>\n",
       "    </tr>\n",
       "    <tr>\n",
       "      <th>neuron | stim</th>\n",
       "      <td>-0.004</td>\n",
       "      <td>0.000</td>\n",
       "      <td>-113.107</td>\n",
       "      <td>0.00</td>\n",
       "      <td>-0.004</td>\n",
       "      <td>-0.004</td>\n",
       "    </tr>\n",
       "    <tr>\n",
       "      <th>1 | mouse</th>\n",
       "      <td>-0.002</td>\n",
       "      <td>0.001</td>\n",
       "      <td>-2.329</td>\n",
       "      <td>0.02</td>\n",
       "      <td>-0.003</td>\n",
       "      <td>-0.000</td>\n",
       "    </tr>\n",
       "  </tbody>\n",
       "</table>\n",
       "</div>"
      ],
      "text/plain": [
       "               mean interval  Std.Err.        z     p  higher interval  \\\n",
       "Intercept              0.064     0.003   21.237  0.00            0.058   \n",
       "neuron | stim         -0.004     0.000 -113.107  0.00           -0.004   \n",
       "1 | mouse             -0.002     0.001   -2.329  0.02           -0.003   \n",
       "\n",
       "               lower interval  \n",
       "Intercept               0.070  \n",
       "neuron | stim          -0.004  \n",
       "1 | mouse              -0.000  "
      ]
     },
     "execution_count": 9,
     "metadata": {},
     "output_type": "execute_result"
    }
   ],
   "source": [
    "window.fit_lme()\n",
    "window.posterior"
   ]
  }
 ],
 "metadata": {
  "kernelspec": {
   "display_name": "PyCharm (jup)",
   "language": "python",
   "name": "pycharm-d5912792"
  },
  "language_info": {
   "codemirror_mode": {
    "name": "ipython",
    "version": 3
   },
   "file_extension": ".py",
   "mimetype": "text/x-python",
   "name": "python",
   "nbconvert_exporter": "python",
   "pygments_lexer": "ipython3",
   "version": "3.8.5"
  }
 },
 "nbformat": 4,
 "nbformat_minor": 4
}
