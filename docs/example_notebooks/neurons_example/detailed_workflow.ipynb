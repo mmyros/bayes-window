{
 "cells": [
  {
   "cell_type": "markdown",
   "metadata": {},
   "source": [
    "# Neurons example via low-level, flexible interface\n",
    "## Prepare"
   ]
  },
  {
   "cell_type": "code",
   "execution_count": 1,
   "metadata": {},
   "outputs": [],
   "source": [
    "from bayes_window import models\n",
    "from bayes_window.fitting import fit_numpyro\n",
    "from bayes_window.generative_models import generate_fake_spikes\n",
    "from sklearn.preprocessing import LabelEncoder\n",
    "\n",
    "trans = LabelEncoder().fit_transform\n",
    "\n"
   ]
  },
  {
   "cell_type": "markdown",
   "metadata": {},
   "source": [
    "## Make some data\n"
   ]
  },
  {
   "cell_type": "code",
   "execution_count": 2,
   "metadata": {},
   "outputs": [],
   "source": [
    "df, df_monster, index_cols, firing_rates = generate_fake_spikes(n_trials=2,\n",
    "                                                                n_neurons=8,\n",
    "                                                                n_mice=4,\n",
    "                                                                dur=7, )"
   ]
  },
  {
   "cell_type": "code",
   "execution_count": 3,
   "metadata": {},
   "outputs": [],
   "source": [
    "import numpy as np\n",
    "df['log_isi']=np.log10(df['isi'])"
   ]
  },
  {
   "cell_type": "code",
   "execution_count": 4,
   "metadata": {
    "scrolled": false
   },
   "outputs": [
    {
     "data": {
      "text/html": [
       "\n",
       "<div id=\"altair-viz-0e70bd85622943898376693c161b6be7\"></div>\n",
       "<script type=\"text/javascript\">\n",
       "  (function(spec, embedOpt){\n",
       "    let outputDiv = document.currentScript.previousElementSibling;\n",
       "    if (outputDiv.id !== \"altair-viz-0e70bd85622943898376693c161b6be7\") {\n",
       "      outputDiv = document.getElementById(\"altair-viz-0e70bd85622943898376693c161b6be7\");\n",
       "    }\n",
       "    const paths = {\n",
       "      \"vega\": \"https://cdn.jsdelivr.net/npm//vega@5?noext\",\n",
       "      \"vega-lib\": \"https://cdn.jsdelivr.net/npm//vega-lib?noext\",\n",
       "      \"vega-lite\": \"https://cdn.jsdelivr.net/npm//vega-lite@4.8.1?noext\",\n",
       "      \"vega-embed\": \"https://cdn.jsdelivr.net/npm//vega-embed@6?noext\",\n",
       "    };\n",
       "\n",
       "    function loadScript(lib) {\n",
       "      return new Promise(function(resolve, reject) {\n",
       "        var s = document.createElement('script');\n",
       "        s.src = paths[lib];\n",
       "        s.async = true;\n",
       "        s.onload = () => resolve(paths[lib]);\n",
       "        s.onerror = () => reject(`Error loading script: ${paths[lib]}`);\n",
       "        document.getElementsByTagName(\"head\")[0].appendChild(s);\n",
       "      });\n",
       "    }\n",
       "\n",
       "    function showError(err) {\n",
       "      outputDiv.innerHTML = `<div class=\"error\" style=\"color:red;\">${err}</div>`;\n",
       "      throw err;\n",
       "    }\n",
       "\n",
       "    function displayChart(vegaEmbed) {\n",
       "      vegaEmbed(outputDiv, spec, embedOpt)\n",
       "        .catch(err => showError(`Javascript Error: ${err.message}<br>This usually means there's a typo in your chart specification. See the javascript console for the full traceback.`));\n",
       "    }\n",
       "\n",
       "    if(typeof define === \"function\" && define.amd) {\n",
       "      requirejs.config({paths});\n",
       "      require([\"vega-embed\"], displayChart, err => showError(`Error loading script: ${err.message}`));\n",
       "    } else if (typeof vegaEmbed === \"function\") {\n",
       "      displayChart(vegaEmbed);\n",
       "    } else {\n",
       "      loadScript(\"vega\")\n",
       "        .then(() => loadScript(\"vega-lite\"))\n",
       "        .then(() => loadScript(\"vega-embed\"))\n",
       "        .catch(showError)\n",
       "        .then(() => displayChart(vegaEmbed));\n",
       "    }\n",
       "  })({\"config\": {\"view\": {\"continuousWidth\": 400, \"continuousHeight\": 300}}, \"layer\": [{\"mark\": {\"type\": \"line\", \"fill\": null, \"opacity\": 0.5, \"size\": 3}, \"encoding\": {\"color\": {\"type\": \"nominal\", \"field\": \"mouse_code\"}, \"x\": {\"type\": \"ordinal\", \"field\": \"neuron\"}, \"y\": {\"type\": \"quantitative\", \"field\": \"isi diff\"}}}, {\"mark\": {\"type\": \"boxplot\", \"color\": \"black\", \"opacity\": 0.3, \"size\": 12}, \"encoding\": {\"x\": {\"type\": \"ordinal\", \"field\": \"neuron\"}, \"y\": {\"type\": \"quantitative\", \"field\": \"isi diff\"}}}], \"data\": {\"name\": \"data-1c5ed1583b8f9dcd36d0deb5c625138b\"}, \"$schema\": \"https://vega.github.io/schema/vega-lite/v4.8.1.json\", \"datasets\": {\"data-1c5ed1583b8f9dcd36d0deb5c625138b\": [{\"mouse_code\": 0, \"neuron\": 0, \"i_trial\": 1.0, \"neuron_code\": null, \"log_firing_rate\": 1.046803284626354, \"Firing rate\": 1.4286616611342018, \"firing_rate\": 1.4286616611342018, \"i_spike\": 0.9792746113989638, \"isi diff\": 1.073434216318907, \"log_isi\": 0.9830866857161088}, {\"mouse_code\": 0, \"neuron\": 1, \"i_trial\": 1.0, \"neuron_code\": 1.0, \"log_firing_rate\": 1.011741375187854, \"Firing rate\": 1.1125929762971083, \"firing_rate\": 1.1125929762971083, \"i_spike\": 1.0101522842639594, \"isi diff\": 1.0046610005679166, \"log_isi\": 1.0050730620354091}, {\"mouse_code\": 0, \"neuron\": 2, \"i_trial\": 1.0, \"neuron_code\": 1.0, \"log_firing_rate\": 1.0277549691211803, \"Firing rate\": 1.180322306954349, \"firing_rate\": 1.180322306954349, \"i_spike\": 1.303921568627451, \"isi diff\": 0.7724363049576038, \"log_isi\": 1.0972871966961149}, {\"mouse_code\": 0, \"neuron\": 3, \"i_trial\": 1.0, \"neuron_code\": 1.0, \"log_firing_rate\": 0.778421665160578, \"Firing rate\": 0.2751447194209643, \"firing_rate\": 0.2751447194209643, \"i_spike\": 0.8713235294117647, \"isi diff\": 1.118709753902438, \"log_isi\": 0.9630580210698539}, {\"mouse_code\": 0, \"neuron\": 4, \"i_trial\": 1.0, \"neuron_code\": 1.0, \"log_firing_rate\": 0.9775399302262587, \"Firing rate\": 0.7092708434197152, \"firing_rate\": 0.7092708434197152, \"i_spike\": 1.1262798634812288, \"isi diff\": 0.8876585827415084, \"log_isi\": 1.039069894786324}, {\"mouse_code\": 0, \"neuron\": 5, \"i_trial\": 1.0, \"neuron_code\": 1.0, \"log_firing_rate\": 1.0399747235667396, \"Firing rate\": 1.1467154494920082, \"firing_rate\": 1.1467154494920082, \"i_spike\": 0.9975186104218362, \"isi diff\": 1.005058521973463, \"log_isi\": 0.9986768521031111}, {\"mouse_code\": 0, \"neuron\": 6, \"i_trial\": 1.0, \"neuron_code\": 1.0, \"log_firing_rate\": 1.0948914942252468, \"Firing rate\": 2.4993207671075526, \"firing_rate\": 2.4993207671075526, \"i_spike\": 1.0852878464818763, \"isi diff\": 0.9242816648292974, \"log_isi\": 1.0230169187176958}, {\"mouse_code\": 0, \"neuron\": 7, \"i_trial\": 1.0, \"neuron_code\": 1.0, \"log_firing_rate\": 1.0837600622463874, \"Firing rate\": 1.7148645726043332, \"firing_rate\": 1.7148645726043332, \"i_spike\": 1.0, \"isi diff\": 0.9982311916159683, \"log_isi\": 1.0001615193692428}, {\"mouse_code\": 1, \"neuron\": 0, \"i_trial\": 1.0, \"neuron_code\": 1.0, \"log_firing_rate\": 1.179838613090999, \"Firing rate\": 2.3919511603032055, \"firing_rate\": 2.3919511603032055, \"i_spike\": 1.1542857142857144, \"isi diff\": 0.881591596741624, \"log_isi\": 1.0513509067024105}, {\"mouse_code\": 1, \"neuron\": 1, \"i_trial\": 1.0, \"neuron_code\": 1.0, \"log_firing_rate\": 1.0425516168690547, \"Firing rate\": 1.1976749009017376, \"firing_rate\": 1.1976749009017376, \"i_spike\": 1.2666666666666666, \"isi diff\": 0.823250762450889, \"log_isi\": 1.0811426271824203}, {\"mouse_code\": 1, \"neuron\": 2, \"i_trial\": 1.0, \"neuron_code\": 1.0, \"log_firing_rate\": 1.0112502495645395, \"Firing rate\": 1.0919494101230431, \"firing_rate\": 1.0919494101230431, \"i_spike\": 1.2546296296296295, \"isi diff\": 0.7892321198966185, \"log_isi\": 1.085572619032494}, {\"mouse_code\": 1, \"neuron\": 3, \"i_trial\": 1.0, \"neuron_code\": 1.0, \"log_firing_rate\": 1.150987124909359, \"Firing rate\": 2.7907858295375854, \"firing_rate\": 2.7907858295375854, \"i_spike\": 0.796969696969697, \"isi diff\": 1.2402280866870867, \"log_isi\": 0.9322737266732979}, {\"mouse_code\": 1, \"neuron\": 4, \"i_trial\": 1.0, \"neuron_code\": 1.0, \"log_firing_rate\": 1.0299358424628011, \"Firing rate\": 1.1663961078558929, \"firing_rate\": 1.1663961078558929, \"i_spike\": 0.9205479452054794, \"isi diff\": 1.0918087687675113, \"log_isi\": 0.9737737892156407}, {\"mouse_code\": 1, \"neuron\": 5, \"i_trial\": 1.0, \"neuron_code\": 1.0, \"log_firing_rate\": 1.2071879347810308, \"Firing rate\": 3.0914216800780028, \"firing_rate\": 3.0914216800780028, \"i_spike\": 0.8837209302325582, \"isi diff\": 1.136575057816293, \"log_isi\": 0.9632450948163813}, {\"mouse_code\": 1, \"neuron\": 6, \"i_trial\": 1.0, \"neuron_code\": 1.0, \"log_firing_rate\": 0.8851781681997776, \"Firing rate\": 0.47099931719157984, \"firing_rate\": 0.47099931719157984, \"i_spike\": 1.090721649484536, \"isi diff\": 0.9127309819310309, \"log_isi\": 1.025690749417269}, {\"mouse_code\": 1, \"neuron\": 7, \"i_trial\": 1.0, \"neuron_code\": 1.0, \"log_firing_rate\": 1.0745035811786154, \"Firing rate\": 1.8252350883663098, \"firing_rate\": 1.8252350883663098, \"i_spike\": 0.9454253611556982, \"isi diff\": 1.055130455153072, \"log_isi\": 0.9856335798319065}, {\"mouse_code\": 2, \"neuron\": 0, \"i_trial\": 1.0, \"neuron_code\": 1.0, \"log_firing_rate\": 1.0409364523791815, \"Firing rate\": 1.169351537789218, \"firing_rate\": 1.169351537789218, \"i_spike\": 1.0052356020942408, \"isi diff\": 0.9820742757751503, \"log_isi\": 1.0042537579860316}, {\"mouse_code\": 2, \"neuron\": 1, \"i_trial\": 1.0, \"neuron_code\": 1.0, \"log_firing_rate\": 1.0665632235404827, \"Firing rate\": 1.3465366697753935, \"firing_rate\": 1.3465366697753935, \"i_spike\": 1.2032085561497325, \"isi diff\": 0.835620320921198, \"log_isi\": 1.0674841736315888}, {\"mouse_code\": 2, \"neuron\": 2, \"i_trial\": 1.0, \"neuron_code\": 1.0, \"log_firing_rate\": 1.0284686216865015, \"Firing rate\": 1.1424893020189442, \"firing_rate\": 1.1424893020189442, \"i_spike\": 1.089430894308943, \"isi diff\": 0.9377749055000683, \"log_isi\": 1.0263806463911707}, {\"mouse_code\": 2, \"neuron\": 3, \"i_trial\": 1.0, \"neuron_code\": 1.0, \"log_firing_rate\": 1.056137963280777, \"Firing rate\": 1.3244308346550484, \"firing_rate\": 1.3244308346550484, \"i_spike\": 1.118705035971223, \"isi diff\": 0.8875168277281762, \"log_isi\": 1.0395322991621694}, {\"mouse_code\": 2, \"neuron\": 4, \"i_trial\": 1.0, \"neuron_code\": 1.0, \"log_firing_rate\": 0.9059397738910616, \"Firing rate\": 0.5954202443211222, \"firing_rate\": 0.5954202443211222, \"i_spike\": 1.1017964071856288, \"isi diff\": 0.912910351529251, \"log_isi\": 1.0288781270815348}, {\"mouse_code\": 2, \"neuron\": 5, \"i_trial\": 1.0, \"neuron_code\": 1.0, \"log_firing_rate\": 0.8979479788961744, \"Firing rate\": 0.5448315919216061, \"firing_rate\": 0.5448315919216061, \"i_spike\": 0.9602803738317757, \"isi diff\": 1.0216125960689018, \"log_isi\": 0.9936465578847219}, {\"mouse_code\": 2, \"neuron\": 6, \"i_trial\": 1.0, \"neuron_code\": 1.0, \"log_firing_rate\": 0.8458608819450383, \"Firing rate\": 0.3761245324921253, \"firing_rate\": 0.3761245324921253, \"i_spike\": 0.9981024667931688, \"isi diff\": 1.0090030053294492, \"log_isi\": 0.9976409689654963}, {\"mouse_code\": 2, \"neuron\": 7, \"i_trial\": 1.0, \"neuron_code\": 1.0, \"log_firing_rate\": 1.015301285095089, \"Firing rate\": 1.1072199218796608, \"firing_rate\": 1.1072199218796608, \"i_spike\": 0.9794520547945206, \"isi diff\": 1.0162084826802849, \"log_isi\": 0.9955992514225128}, {\"mouse_code\": 3, \"neuron\": 0, \"i_trial\": 1.0, \"neuron_code\": 1.0, \"log_firing_rate\": 0.989136926870484, \"Firing rate\": 0.6855157921019638, \"firing_rate\": 0.6855157921019638, \"i_spike\": 1.5683453237410072, \"isi diff\": 0.6429877856483172, \"log_isi\": 1.1910080815650252}, {\"mouse_code\": 3, \"neuron\": 1, \"i_trial\": 1.0, \"neuron_code\": 1.0, \"log_firing_rate\": 1.1076900975508017, \"Firing rate\": 1.855409637663103, \"firing_rate\": 1.855409637663103, \"i_spike\": 1.3511904761904763, \"isi diff\": 0.7586936201963194, \"log_isi\": 1.1133031194757572}, {\"mouse_code\": 3, \"neuron\": 2, \"i_trial\": 1.0, \"neuron_code\": 1.0, \"log_firing_rate\": 1.1695211115604087, \"Firing rate\": 2.051981028333212, \"firing_rate\": 2.051981028333212, \"i_spike\": 1.278538812785388, \"isi diff\": 0.7990255073215201, \"log_isi\": 1.0826652976693367}, {\"mouse_code\": 3, \"neuron\": 3, \"i_trial\": 1.0, \"neuron_code\": 1.0, \"log_firing_rate\": 1.1917128497676979, \"Firing rate\": 2.4545821465047992, \"firing_rate\": 2.4545821465047992, \"i_spike\": 1.0940766550522647, \"isi diff\": 0.9263079737868624, \"log_isi\": 1.0257493877380945}, {\"mouse_code\": 3, \"neuron\": 4, \"i_trial\": 1.0, \"neuron_code\": 1.0, \"log_firing_rate\": 0.8334616018699461, \"Firing rate\": 0.36871569402632526, \"firing_rate\": 0.36871569402632526, \"i_spike\": 1.1895424836601307, \"isi diff\": 0.841980868855751, \"log_isi\": 1.056188337778273}, {\"mouse_code\": 3, \"neuron\": 5, \"i_trial\": 1.0, \"neuron_code\": 1.0, \"log_firing_rate\": 0.8786232079674343, \"Firing rate\": 0.5166389521071618, \"firing_rate\": 0.5166389521071618, \"i_spike\": 1.0906801007556675, \"isi diff\": 0.9088897103650285, \"log_isi\": 1.0282328798181537}, {\"mouse_code\": 3, \"neuron\": 6, \"i_trial\": 1.0, \"neuron_code\": 1.0, \"log_firing_rate\": 0.8330929102435708, \"Firing rate\": 0.16233493583677866, \"firing_rate\": 0.16233493583677866, \"i_spike\": 0.9938775510204082, \"isi diff\": 0.988072831833218, \"log_isi\": 1.0034116499604688}, {\"mouse_code\": 3, \"neuron\": 7, \"i_trial\": 1.0, \"neuron_code\": 1.0, \"log_firing_rate\": 1.058131163111486, \"Firing rate\": 1.497872997926428, \"firing_rate\": 1.497872997926428, \"i_spike\": 0.9839743589743589, \"isi diff\": 1.0281436281439025, \"log_isi\": 0.9937226971211447}]}}, {\"mode\": \"vega-lite\"});\n",
       "</script>"
      ],
      "text/plain": [
       "alt.LayerChart(...)"
      ]
     },
     "execution_count": 4,
     "metadata": {},
     "output_type": "execute_result"
    }
   ],
   "source": [
    "from bayes_window import visualization,utils\n",
    "from importlib import reload\n",
    "reload(visualization)\n",
    "reload(utils)\n",
    "y='isi'\n",
    "df['neuron']=df['neuron'].astype(int)\n",
    "ddf, dy = utils.make_fold_change(df,\n",
    "                         y=y,\n",
    "                         index_cols=('stim', 'mouse_code', 'neuron'),\n",
    "                         condition_name='stim',\n",
    "                         do_take_mean=True)\n",
    "\n",
    "visualization.plot_data(x='neuron',y=dy, color='mouse_code',add_box=True,df=ddf)"
   ]
  },
  {
   "cell_type": "markdown",
   "metadata": {},
   "source": [
    "## Estimate model"
   ]
  },
  {
   "cell_type": "code",
   "execution_count": 5,
   "metadata": {},
   "outputs": [
    {
     "name": "stderr",
     "output_type": "stream",
     "text": [
      "sample: 100%|██████████| 1100/1100 [00:07<00:00, 157.02it/s, 31 steps of size 1.84e-01. acc. prob=0.89]\n"
     ]
    },
    {
     "name": "stdout",
     "output_type": "stream",
     "text": [
      "n(Divergences) = 0\n"
     ]
    }
   ],
   "source": [
    "#y = list(set(df.columns) - set(index_cols))[0]\n",
    "trace = fit_numpyro(y=df[y].values,\n",
    "                    stim_on=(df['stim']).astype(int).values,\n",
    "                    treat=trans(df['neuron']),\n",
    "                    subject=trans(df['mouse']),\n",
    "                    progress_bar=True,\n",
    "                    model=models.model_hier_normal_stim,\n",
    "                    n_draws=100, num_chains=1, )"
   ]
  },
  {
   "cell_type": "markdown",
   "metadata": {},
   "source": [
    "## Add data back"
   ]
  },
  {
   "cell_type": "code",
   "execution_count": 6,
   "metadata": {},
   "outputs": [],
   "source": [
    "reload(utils)\n",
    "df_both = utils.add_data_to_posterior(df,\n",
    "                                trace=trace,\n",
    "                                y=y,\n",
    "                                index_cols=['neuron', 'stim', 'mouse_code', ],\n",
    "                                condition_name='stim',\n",
    "                                b_name='b_stim_per_condition',  # for posterior\n",
    "                                group_name='neuron'  # for posterior\n",
    "                                )"
   ]
  },
  {
   "cell_type": "markdown",
   "metadata": {},
   "source": [
    "## Plot data and posterior"
   ]
  },
  {
   "cell_type": "code",
   "execution_count": 7,
   "metadata": {},
   "outputs": [
    {
     "data": {
      "text/html": [
       "\n",
       "<div id=\"altair-viz-d8f6fa59f0d544a8a9bfedfc4926fcca\"></div>\n",
       "<script type=\"text/javascript\">\n",
       "  (function(spec, embedOpt){\n",
       "    let outputDiv = document.currentScript.previousElementSibling;\n",
       "    if (outputDiv.id !== \"altair-viz-d8f6fa59f0d544a8a9bfedfc4926fcca\") {\n",
       "      outputDiv = document.getElementById(\"altair-viz-d8f6fa59f0d544a8a9bfedfc4926fcca\");\n",
       "    }\n",
       "    const paths = {\n",
       "      \"vega\": \"https://cdn.jsdelivr.net/npm//vega@5?noext\",\n",
       "      \"vega-lib\": \"https://cdn.jsdelivr.net/npm//vega-lib?noext\",\n",
       "      \"vega-lite\": \"https://cdn.jsdelivr.net/npm//vega-lite@4.8.1?noext\",\n",
       "      \"vega-embed\": \"https://cdn.jsdelivr.net/npm//vega-embed@6?noext\",\n",
       "    };\n",
       "\n",
       "    function loadScript(lib) {\n",
       "      return new Promise(function(resolve, reject) {\n",
       "        var s = document.createElement('script');\n",
       "        s.src = paths[lib];\n",
       "        s.async = true;\n",
       "        s.onload = () => resolve(paths[lib]);\n",
       "        s.onerror = () => reject(`Error loading script: ${paths[lib]}`);\n",
       "        document.getElementsByTagName(\"head\")[0].appendChild(s);\n",
       "      });\n",
       "    }\n",
       "\n",
       "    function showError(err) {\n",
       "      outputDiv.innerHTML = `<div class=\"error\" style=\"color:red;\">${err}</div>`;\n",
       "      throw err;\n",
       "    }\n",
       "\n",
       "    function displayChart(vegaEmbed) {\n",
       "      vegaEmbed(outputDiv, spec, embedOpt)\n",
       "        .catch(err => showError(`Javascript Error: ${err.message}<br>This usually means there's a typo in your chart specification. See the javascript console for the full traceback.`));\n",
       "    }\n",
       "\n",
       "    if(typeof define === \"function\" && define.amd) {\n",
       "      requirejs.config({paths});\n",
       "      require([\"vega-embed\"], displayChart, err => showError(`Error loading script: ${err.message}`));\n",
       "    } else if (typeof vegaEmbed === \"function\") {\n",
       "      displayChart(vegaEmbed);\n",
       "    } else {\n",
       "      loadScript(\"vega\")\n",
       "        .then(() => loadScript(\"vega-lite\"))\n",
       "        .then(() => loadScript(\"vega-embed\"))\n",
       "        .catch(showError)\n",
       "        .then(() => displayChart(vegaEmbed));\n",
       "    }\n",
       "  })({\"config\": {\"view\": {\"continuousWidth\": 400, \"continuousHeight\": 300}}, \"layer\": [{\"mark\": {\"type\": \"line\", \"fill\": null, \"opacity\": 0.5, \"size\": 3}, \"encoding\": {\"color\": {\"type\": \"nominal\", \"field\": \"mouse_code\"}, \"x\": {\"type\": \"ordinal\", \"field\": \"neuron\"}, \"y\": {\"type\": \"quantitative\", \"field\": \"isi diff\"}}}, {\"mark\": {\"type\": \"boxplot\", \"color\": \"black\", \"opacity\": 0.3, \"size\": 12}, \"encoding\": {\"x\": {\"type\": \"ordinal\", \"field\": \"neuron\"}, \"y\": {\"type\": \"quantitative\", \"field\": \"isi diff\"}}}], \"data\": {\"name\": \"data-ed92d469630ecb283e921d4446e2ff70\"}, \"$schema\": \"https://vega.github.io/schema/vega-lite/v4.8.1.json\", \"datasets\": {\"data-ed92d469630ecb283e921d4446e2ff70\": [{\"neuron\": 0.0, \"mouse_code\": 0.0, \"i_trial\": 0.0, \"neuron_code\": 0.0, \"log_firing_rate\": 0.08175831116053045, \"Firing rate\": 24.162822363745562, \"firing_rate\": 24.162822363745562, \"i_spike\": -1.0, \"isi diff\": 0.005333488031367531, \"log_isi\": 0.01928236208933165, \"isi\": null, \"Bayes condition CI0\": null, \"Bayes condition CI1\": null, \"Bayes condition mean\": null}, {\"neuron\": 0.0, \"mouse_code\": 1.0, \"i_trial\": 0.0, \"neuron_code\": 0.0, \"log_firing_rate\": 0.3491976366125753, \"Firing rate\": 128.09348941854194, \"firing_rate\": 128.09348941854194, \"i_spike\": 6.75, \"isi diff\": -0.009257279534103546, \"log_isi\": -0.05684109463071274, \"isi\": null, \"Bayes condition CI0\": null, \"Bayes condition CI1\": null, \"Bayes condition mean\": null}, {\"neuron\": 0.0, \"mouse_code\": 2.0, \"i_trial\": 0.0, \"neuron_code\": 0.0, \"log_firing_rate\": 0.07194144769445954, \"Firing rate\": 9.997974399448438, \"firing_rate\": 9.997974399448438, \"i_spike\": 0.25, \"isi diff\": -0.0013170676924276759, \"log_isi\": -0.004837122972787045, \"isi\": null, \"Bayes condition CI0\": null, \"Bayes condition CI1\": null, \"Bayes condition mean\": null}, {\"neuron\": 0.0, \"mouse_code\": 3.0, \"i_trial\": 0.0, \"neuron_code\": 0.0, \"log_firing_rate\": -0.02417323019860973, \"Firing rate\": -80.2053140081305, \"firing_rate\": -80.2053140081305, \"i_spike\": 19.75, \"isi diff\": -0.035362158582553496, \"log_isi\": -0.1917997005921972, \"isi\": null, \"Bayes condition CI0\": null, \"Bayes condition CI1\": null, \"Bayes condition mean\": null}, {\"neuron\": 1.0, \"mouse_code\": 0.0, \"i_trial\": 0.0, \"neuron_code\": 0.0, \"log_firing_rate\": 0.022247462451005395, \"Firing rate\": 8.8418883577788, \"firing_rate\": 8.8418883577788, \"i_spike\": 0.5, \"isi diff\": 0.0003326782583796123, \"log_isi\": -0.0058166982767347, \"isi\": null, \"Bayes condition CI0\": null, \"Bayes condition CI1\": null, \"Bayes condition mean\": null}, {\"neuron\": 1.0, \"mouse_code\": 1.0, \"i_trial\": 0.0, \"neuron_code\": 0.0, \"log_firing_rate\": 0.07542892076865337, \"Firing rate\": 11.713258101483802, \"firing_rate\": 11.713258101483802, \"i_spike\": 11.0, \"isi diff\": -0.014441172734054084, \"log_isi\": -0.08827508785123905, \"isi\": null, \"Bayes condition CI0\": null, \"Bayes condition CI1\": null, \"Bayes condition mean\": null}, {\"neuron\": 1.0, \"mouse_code\": 2.0, \"i_trial\": 0.0, \"neuron_code\": 0.0, \"log_firing_rate\": 0.12271037407042096, \"Firing rate\": 24.17882599837361, \"firing_rate\": 24.17882599837361, \"i_spike\": 9.5, \"isi diff\": -0.01227939122284924, \"log_isi\": -0.07616249965955801, \"isi\": null, \"Bayes condition CI0\": null, \"Bayes condition CI1\": null, \"Bayes condition mean\": null}, {\"neuron\": 1.0, \"mouse_code\": 3.0, \"i_trial\": 0.0, \"neuron_code\": 0.0, \"log_firing_rate\": 0.208978521042535, \"Firing rate\": 74.73176991670368, \"firing_rate\": 74.73176991670368, \"i_spike\": 14.75, \"isi diff\": -0.01972687420146642, \"log_isi\": -0.12344131236903033, \"isi\": null, \"Bayes condition CI0\": null, \"Bayes condition CI1\": null, \"Bayes condition mean\": null}, {\"neuron\": 2.0, \"mouse_code\": 0.0, \"i_trial\": 0.0, \"neuron_code\": 0.0, \"log_firing_rate\": 0.05310915025399421, \"Firing rate\": 14.977183699613363, \"firing_rate\": 14.977183699613363, \"i_spike\": 15.5, \"isi diff\": -0.015443182257833782, \"log_isi\": -0.11372126267978988, \"isi\": null, \"Bayes condition CI0\": null, \"Bayes condition CI1\": null, \"Bayes condition mean\": null}, {\"neuron\": 2.0, \"mouse_code\": 1.0, \"i_trial\": 0.0, \"neuron_code\": 0.0, \"log_firing_rate\": 0.024439459453715617, \"Firing rate\": 17.26211093664827, \"firing_rate\": 17.26211093664827, \"i_spike\": 13.75, \"isi diff\": -0.013616138607691633, \"log_isi\": -0.10190533158156678, \"isi\": null, \"Bayes condition CI0\": null, \"Bayes condition CI1\": null, \"Bayes condition mean\": null}, {\"neuron\": 2.0, \"mouse_code\": 2.0, \"i_trial\": 0.0, \"neuron_code\": 0.0, \"log_firing_rate\": 0.05922463546063694, \"Firing rate\": 17.22759144821515, \"firing_rate\": 17.22759144821515, \"i_spike\": 5.5, \"isi diff\": -0.003530003565599793, \"log_isi\": -0.03288156482981153, \"isi\": null, \"Bayes condition CI0\": null, \"Bayes condition CI1\": null, \"Bayes condition mean\": null}, {\"neuron\": 2.0, \"mouse_code\": 3.0, \"i_trial\": 0.0, \"neuron_code\": 0.0, \"log_firing_rate\": 0.3182782419317456, \"Firing rate\": 80.65755215115689, \"firing_rate\": 80.65755215115689, \"i_spike\": 15.25, \"isi diff\": -0.012639489175504656, \"log_isi\": -0.09932190094709292, \"isi\": null, \"Bayes condition CI0\": null, \"Bayes condition CI1\": null, \"Bayes condition mean\": null}, {\"neuron\": 3.0, \"mouse_code\": 0.0, \"i_trial\": 0.0, \"neuron_code\": 0.0, \"log_firing_rate\": -0.5367901614335007, \"Firing rate\": -214.42499582972346, \"firing_rate\": -214.42499582972346, \"i_spike\": -8.75, \"isi diff\": 0.006076444555395674, \"log_isi\": 0.047714774286459205, \"isi\": null, \"Bayes condition CI0\": null, \"Bayes condition CI1\": null, \"Bayes condition mean\": null}, {\"neuron\": 3.0, \"mouse_code\": 1.0, \"i_trial\": 0.0, \"neuron_code\": 0.0, \"log_firing_rate\": 0.31275731299194875, \"Firing rate\": 212.54501189099, \"firing_rate\": 212.54501189099, \"i_spike\": -16.75, \"isi diff\": 0.010073377910648787, \"log_isi\": 0.0932903696675258, \"isi\": null, \"Bayes condition CI0\": null, \"Bayes condition CI1\": null, \"Bayes condition mean\": null}, {\"neuron\": 3.0, \"mouse_code\": 2.0, \"i_trial\": 0.0, \"neuron_code\": 0.0, \"log_firing_rate\": 0.12362278131870985, \"Firing rate\": 52.35018130525049, \"firing_rate\": 52.35018130525049, \"i_spike\": 8.25, \"isi diff\": -0.0056695337962408, \"log_isi\": -0.0513151878128324, \"isi\": null, \"Bayes condition CI0\": null, \"Bayes condition CI1\": null, \"Bayes condition mean\": null}, {\"neuron\": 3.0, \"mouse_code\": 3.0, \"i_trial\": 0.0, \"neuron_code\": 0.0, \"log_firing_rate\": 0.37142657533334633, \"Firing rate\": 129.71758390645664, \"firing_rate\": 129.71758390645664, \"i_spike\": 6.75, \"isi diff\": -0.0035631640611667598, \"log_isi\": -0.033881627321818986, \"isi\": null, \"Bayes condition CI0\": null, \"Bayes condition CI1\": null, \"Bayes condition mean\": null}, {\"neuron\": 4.0, \"mouse_code\": 0.0, \"i_trial\": 0.0, \"neuron_code\": 0.0, \"log_firing_rate\": -0.05061066048773588, \"Firing rate\": -65.67219268360662, \"firing_rate\": -65.67219268360662, \"i_spike\": 9.25, \"isi diff\": -0.005336558813832375, \"log_isi\": -0.05172432519032344, \"isi\": null, \"Bayes condition CI0\": null, \"Bayes condition CI1\": null, \"Bayes condition mean\": null}, {\"neuron\": 4.0, \"mouse_code\": 1.0, \"i_trial\": 0.0, \"neuron_code\": 0.0, \"log_firing_rate\": 0.06523473821734083, \"Firing rate\": 25.142593576487343, \"firing_rate\": 25.142593576487343, \"i_spike\": -7.25, \"isi diff\": 0.0034928235526134888, \"log_isi\": 0.03723956773525394, \"isi\": null, \"Bayes condition CI0\": null, \"Bayes condition CI1\": null, \"Bayes condition mean\": null}, {\"neuron\": 4.0, \"mouse_code\": 2.0, \"i_trial\": 0.0, \"neuron_code\": 0.0, \"log_firing_rate\": -0.2295117732127805, \"Firing rate\": -111.46836632378964, \"firing_rate\": -111.46836632378964, \"i_spike\": 8.5, \"isi diff\": -0.0036353999338746834, \"log_isi\": -0.03983783104002869, \"isi\": null, \"Bayes condition CI0\": null, \"Bayes condition CI1\": null, \"Bayes condition mean\": null}, {\"neuron\": 4.0, \"mouse_code\": 3.0, \"i_trial\": 0.0, \"neuron_code\": 0.0, \"log_firing_rate\": -0.43984282052483614, \"Firing rate\": -306.88131548515884, \"firing_rate\": -306.88131548515884, \"i_spike\": 14.5, \"isi diff\": -0.007222452849433278, \"log_isi\": -0.07530140892877868, \"isi\": null, \"Bayes condition CI0\": null, \"Bayes condition CI1\": null, \"Bayes condition mean\": null}, {\"neuron\": 5.0, \"mouse_code\": 0.0, \"i_trial\": 0.0, \"neuron_code\": 0.0, \"log_firing_rate\": 0.09279470081950336, \"Firing rate\": 36.9573346132548, \"firing_rate\": 36.9573346132548, \"i_spike\": -0.25, \"isi diff\": 0.00017525774219375595, \"log_isi\": 0.0019322798706893352, \"isi\": null, \"Bayes condition CI0\": null, \"Bayes condition CI1\": null, \"Bayes condition mean\": null}, {\"neuron\": 5.0, \"mouse_code\": 1.0, \"i_trial\": 0.0, \"neuron_code\": 0.0, \"log_firing_rate\": 0.44083686535411726, \"Firing rate\": 286.13430969711806, \"firing_rate\": 286.13430969711806, \"i_spike\": -12.5, \"isi diff\": 0.004440190085635218, \"log_isi\": 0.054691496820493235, \"isi\": null, \"Bayes condition CI0\": null, \"Bayes condition CI1\": null, \"Bayes condition mean\": null}, {\"neuron\": 5.0, \"mouse_code\": 2.0, \"i_trial\": 0.0, \"neuron_code\": 0.0, \"log_firing_rate\": -0.24462184472271442, \"Firing rate\": -119.25694223971485, \"firing_rate\": -119.25694223971485, \"i_spike\": -4.25, \"isi diff\": 0.0007049213023499479, \"log_isi\": 0.009448182679001604, \"isi\": null, \"Bayes condition CI0\": null, \"Bayes condition CI1\": null, \"Bayes condition mean\": null}, {\"neuron\": 5.0, \"mouse_code\": 3.0, \"i_trial\": 0.0, \"neuron_code\": 0.0, \"log_firing_rate\": -0.2826015633735466, \"Firing rate\": -103.9609456384294, \"firing_rate\": -103.9609456384294, \"i_spike\": 9.0, \"isi diff\": -0.0032227888676268357, \"log_isi\": -0.040995881715003346, \"isi\": null, \"Bayes condition CI0\": null, \"Bayes condition CI1\": null, \"Bayes condition mean\": null}, {\"neuron\": 6.0, \"mouse_code\": 0.0, \"i_trial\": 0.0, \"neuron_code\": 0.0, \"log_firing_rate\": 0.2297358150165234, \"Firing rate\": 395.7230602104188, \"firing_rate\": 395.7230602104188, \"i_spike\": 10.0, \"isi diff\": -0.002250916453380193, \"log_isi\": -0.03514710275754829, \"isi\": null, \"Bayes condition CI0\": null, \"Bayes condition CI1\": null, \"Bayes condition mean\": null}, {\"neuron\": 6.0, \"mouse_code\": 1.0, \"i_trial\": 0.0, \"neuron_code\": 0.0, \"log_firing_rate\": -0.2885291701886219, \"Firing rate\": -188.85553720857357, \"firing_rate\": -188.85553720857357, \"i_spike\": 11.0, \"isi diff\": -0.0025144454288790787, \"log_isi\": -0.03957689807136355, \"isi\": null, \"Bayes condition CI0\": null, \"Bayes condition CI1\": null, \"Bayes condition mean\": null}, {\"neuron\": 6.0, \"mouse_code\": 2.0, \"i_trial\": 0.0, \"neuron_code\": 0.0, \"log_firing_rate\": -0.4324330043217879, \"Firing rate\": -426.5546942305821, \"firing_rate\": -426.5546942305821, \"i_spike\": -0.25, \"isi diff\": 0.00023735635655105364, \"log_isi\": 0.0037251791640893206, \"isi\": null, \"Bayes condition CI0\": null, \"Bayes condition CI1\": null, \"Bayes condition mean\": null}, {\"neuron\": 6.0, \"mouse_code\": 3.0, \"i_trial\": 0.0, \"neuron_code\": 0.0, \"log_firing_rate\": -0.49419417430334533, \"Firing rate\": -1655.4102592729137, \"firing_rate\": -1655.4102592729137, \"i_spike\": -0.75, \"isi diff\": -0.0003408335054564844, \"log_isi\": -0.00526888652323132, \"isi\": null, \"Bayes condition CI0\": null, \"Bayes condition CI1\": null, \"Bayes condition mean\": null}, {\"neuron\": 7.0, \"mouse_code\": 0.0, \"i_trial\": 0.0, \"neuron_code\": 0.0, \"log_firing_rate\": 0.19394368721538324, \"Firing rate\": 149.68068087173782, \"firing_rate\": 149.68068087173782, \"i_spike\": 0.0, \"isi diff\": -4.151942390358959e-05, \"log_isi\": -0.00026334121975235547, \"isi\": null, \"Bayes condition CI0\": null, \"Bayes condition CI1\": null, \"Bayes condition mean\": null}, {\"neuron\": 7.0, \"mouse_code\": 1.0, \"i_trial\": 0.0, \"neuron_code\": 0.0, \"log_firing_rate\": 0.17871302726520888, \"Firing rate\": 206.7111203951439, \"firing_rate\": 206.7111203951439, \"i_spike\": -8.5, \"isi diff\": 0.0012341056651850556, \"log_isi\": 0.023711324791155564, \"isi\": null, \"Bayes condition CI0\": null, \"Bayes condition CI1\": null, \"Bayes condition mean\": null}, {\"neuron\": 7.0, \"mouse_code\": 2.0, \"i_trial\": 0.0, \"neuron_code\": 0.0, \"log_firing_rate\": 0.035634224200403075, \"Firing rate\": 22.9412920575557, \"firing_rate\": 22.9412920575557, \"i_spike\": -3.0, \"isi diff\": 0.0003877166336507601, \"log_isi\": 0.007135325008329918, \"isi\": null, \"Bayes condition CI0\": null, \"Bayes condition CI1\": null, \"Bayes condition mean\": null}, {\"neuron\": 7.0, \"mouse_code\": 3.0, \"i_trial\": 0.0, \"neuron_code\": 0.0, \"log_firing_rate\": 0.1773344524691356, \"Firing rate\": 1021.9254644474127, \"firing_rate\": 1021.9254644474127, \"i_spike\": -2.5, \"isi diff\": 0.0006295686097311445, \"log_isi\": 0.010360456919775052, \"isi\": null, \"Bayes condition CI0\": null, \"Bayes condition CI1\": null, \"Bayes condition mean\": null}, {\"neuron\": 0.0, \"mouse_code\": null, \"i_trial\": 0.5, \"neuron_code\": 0.0, \"log_firing_rate\": 1.7468498592189439, \"Firing rate\": 56.368050970111995, \"firing_rate\": 56.368050970111995, \"i_spike\": 48.25, \"isi diff\": null, \"log_isi\": -1.1400699925322657, \"isi\": 0.07262946755236663, \"Bayes condition CI0\": 0.26927438378334045, \"Bayes condition CI1\": 0.9753347039222717, \"Bayes condition mean\": 0.6069545149803162}, {\"neuron\": 1.0, \"mouse_code\": null, \"i_trial\": 0.5, \"neuron_code\": 4.0, \"log_firing_rate\": 1.894791887241596, \"Firing rate\": 78.52966187204242, \"firing_rate\": 78.52966187204242, \"i_spike\": 49.25, \"isi diff\": null, \"log_isi\": -1.14658528441703, \"isi\": 0.07137485900979156, \"Bayes condition CI0\": 0.19578854739665985, \"Bayes condition CI1\": 0.8478949069976807, \"Bayes condition mean\": 0.47950857877731323}, {\"neuron\": 2.0, \"mouse_code\": null, \"i_trial\": 0.5, \"neuron_code\": 8.0, \"log_firing_rate\": 1.9135006067603855, \"Firing rate\": 83.05785319952145, \"firing_rate\": 83.05785319952145, \"i_spike\": 51.0, \"isi diff\": null, \"log_isi\": -1.168923214377409, \"isi\": 0.06786311962001076, \"Bayes condition CI0\": -0.19594836235046387, \"Bayes condition CI1\": 0.3969714343547821, \"Bayes condition mean\": 0.1276327669620514}, {\"neuron\": 3.0, \"mouse_code\": null, \"i_trial\": 0.5, \"neuron_code\": 12.0, \"log_firing_rate\": 2.4225751214463855, \"Firing rate\": 295.81766398726444, \"firing_rate\": 295.81766398726444, \"i_spike\": 68.0, \"isi diff\": null, \"log_isi\": -1.291613921838986, \"isi\": 0.051187407568796875, \"Bayes condition CI0\": -0.2290336936712265, \"Bayes condition CI1\": 0.339125394821167, \"Bayes condition mean\": 0.06338406354188919}, {\"neuron\": 4.0, \"mouse_code\": null, \"i_trial\": 0.5, \"neuron_code\": 16.0, \"log_firing_rate\": 2.253361676859367, \"Firing rate\": 225.88787948232934, \"firing_rate\": 225.88787948232934, \"i_spike\": 73.25, \"isi diff\": null, \"log_isi\": -1.3238921034522224, \"isi\": 0.047503039787661204, \"Bayes condition CI0\": -0.4431520402431488, \"Bayes condition CI1\": 0.1309346705675125, \"Bayes condition mean\": -0.1808752864599228}, {\"neuron\": 5.0, \"mouse_code\": null, \"i_trial\": 0.5, \"neuron_code\": 20.0, \"log_firing_rate\": 2.3213343968365043, \"Firing rate\": 251.89804305693045, \"firing_rate\": 251.89804305693045, \"i_spike\": 100.75, \"isi diff\": null, \"log_isi\": -1.4603657499155598, \"isi\": 0.034646037540839524, \"Bayes condition CI0\": -0.6351549625396729, \"Bayes condition CI1\": -0.010668552480638027, \"Bayes condition mean\": -0.3539813160896301}, {\"neuron\": 6.0, \"mouse_code\": null, \"i_trial\": 0.5, \"neuron_code\": 24.0, \"log_firing_rate\": 2.4210369632413267, \"Firing rate\": 263.9348889789852, \"firing_rate\": 263.9348889789852, \"i_spike\": 117.25, \"isi diff\": null, \"log_isi\": -1.5270116382053591, \"isi\": 0.029727495306198067, \"Bayes condition CI0\": -0.8086197376251221, \"Bayes condition CI1\": -0.17192186415195465, \"Bayes condition mean\": -0.5234295129776001}, {\"neuron\": 7.0, \"mouse_code\": null, \"i_trial\": 0.5, \"neuron_code\": 28.0, \"log_firing_rate\": 2.315467324330311, \"Firing rate\": 209.38326867484005, \"firing_rate\": 209.38326867484005, \"i_spike\": 148.75, \"isi diff\": null, \"log_isi\": -1.630400248508701, \"isi\": 0.02347310442352954, \"Bayes condition CI0\": -0.9897582530975342, \"Bayes condition CI1\": -0.2847680449485779, \"Bayes condition mean\": -0.6001970767974854}]}}, {\"mode\": \"vega-lite\"});\n",
       "</script>"
      ],
      "text/plain": [
       "alt.LayerChart(...)"
      ]
     },
     "execution_count": 7,
     "metadata": {},
     "output_type": "execute_result"
    }
   ],
   "source": [
    "#BayesWindow.plot_posteriors_slopes(df_both, y=f'{y} diff', x='neuron',color='mouse_code',title=y,hold_for_facet=False,add_box=False)\n",
    "\n",
    "\n",
    "chart_d = visualization.plot_data(df=df_both,x='neuron', y=f'{y} diff',color='mouse_code')\n",
    "chart_d"
   ]
  },
  {
   "cell_type": "code",
   "execution_count": 8,
   "metadata": {
    "scrolled": false
   },
   "outputs": [
    {
     "data": {
      "text/html": [
       "\n",
       "<div id=\"altair-viz-26880cd9dac64db6b2607ee3b5219f3a\"></div>\n",
       "<script type=\"text/javascript\">\n",
       "  (function(spec, embedOpt){\n",
       "    let outputDiv = document.currentScript.previousElementSibling;\n",
       "    if (outputDiv.id !== \"altair-viz-26880cd9dac64db6b2607ee3b5219f3a\") {\n",
       "      outputDiv = document.getElementById(\"altair-viz-26880cd9dac64db6b2607ee3b5219f3a\");\n",
       "    }\n",
       "    const paths = {\n",
       "      \"vega\": \"https://cdn.jsdelivr.net/npm//vega@5?noext\",\n",
       "      \"vega-lib\": \"https://cdn.jsdelivr.net/npm//vega-lib?noext\",\n",
       "      \"vega-lite\": \"https://cdn.jsdelivr.net/npm//vega-lite@4.8.1?noext\",\n",
       "      \"vega-embed\": \"https://cdn.jsdelivr.net/npm//vega-embed@6?noext\",\n",
       "    };\n",
       "\n",
       "    function loadScript(lib) {\n",
       "      return new Promise(function(resolve, reject) {\n",
       "        var s = document.createElement('script');\n",
       "        s.src = paths[lib];\n",
       "        s.async = true;\n",
       "        s.onload = () => resolve(paths[lib]);\n",
       "        s.onerror = () => reject(`Error loading script: ${paths[lib]}`);\n",
       "        document.getElementsByTagName(\"head\")[0].appendChild(s);\n",
       "      });\n",
       "    }\n",
       "\n",
       "    function showError(err) {\n",
       "      outputDiv.innerHTML = `<div class=\"error\" style=\"color:red;\">${err}</div>`;\n",
       "      throw err;\n",
       "    }\n",
       "\n",
       "    function displayChart(vegaEmbed) {\n",
       "      vegaEmbed(outputDiv, spec, embedOpt)\n",
       "        .catch(err => showError(`Javascript Error: ${err.message}<br>This usually means there's a typo in your chart specification. See the javascript console for the full traceback.`));\n",
       "    }\n",
       "\n",
       "    if(typeof define === \"function\" && define.amd) {\n",
       "      requirejs.config({paths});\n",
       "      require([\"vega-embed\"], displayChart, err => showError(`Error loading script: ${err.message}`));\n",
       "    } else if (typeof vegaEmbed === \"function\") {\n",
       "      displayChart(vegaEmbed);\n",
       "    } else {\n",
       "      loadScript(\"vega\")\n",
       "        .then(() => loadScript(\"vega-lite\"))\n",
       "        .then(() => loadScript(\"vega-embed\"))\n",
       "        .catch(showError)\n",
       "        .then(() => displayChart(vegaEmbed));\n",
       "    }\n",
       "  })({\"config\": {\"view\": {\"continuousWidth\": 400, \"continuousHeight\": 300}}, \"layer\": [{\"mark\": {\"type\": \"line\", \"color\": \"black\", \"point\": true}, \"encoding\": {\"x\": {\"type\": \"ordinal\", \"field\": \"neuron\"}, \"y\": {\"type\": \"quantitative\", \"field\": \"Bayes condition mean\", \"impute\": {\"value\": \"value\"}}}}, {\"mark\": {\"type\": \"rule\", \"color\": \"black\", \"opacity\": 0.4, \"size\": 0.1}, \"encoding\": {\"y\": {\"type\": \"quantitative\", \"field\": \"zero\"}}}, {\"mark\": \"rule\", \"encoding\": {\"x\": {\"type\": \"ordinal\", \"field\": \"neuron\"}, \"y\": {\"type\": \"quantitative\", \"field\": \"Bayes condition CI0\", \"scale\": {\"domain\": [-0.9897582530975342, 0.9753347039222717], \"zero\": false}, \"title\": \"\\u0394 d_isi\"}, \"y2\": {\"field\": \"Bayes condition CI1\"}}}], \"data\": {\"name\": \"data-5c05b90e326cfacf57db2724e9150d16\"}, \"$schema\": \"https://vega.github.io/schema/vega-lite/v4.8.1.json\", \"datasets\": {\"data-5c05b90e326cfacf57db2724e9150d16\": [{\"neuron\": 0.0, \"mouse_code\": 0.0, \"i_trial\": 0.0, \"neuron_code\": 0.0, \"log_firing_rate\": 0.08175831116053045, \"Firing rate\": 24.162822363745562, \"firing_rate\": 24.162822363745562, \"i_spike\": -1.0, \"isi diff\": 0.005333488031367531, \"log_isi\": 0.01928236208933165, \"isi\": null, \"Bayes condition CI0\": null, \"Bayes condition CI1\": null, \"Bayes condition mean\": null, \"zero\": 0}, {\"neuron\": 0.0, \"mouse_code\": 1.0, \"i_trial\": 0.0, \"neuron_code\": 0.0, \"log_firing_rate\": 0.3491976366125753, \"Firing rate\": 128.09348941854194, \"firing_rate\": 128.09348941854194, \"i_spike\": 6.75, \"isi diff\": -0.009257279534103546, \"log_isi\": -0.05684109463071274, \"isi\": null, \"Bayes condition CI0\": null, \"Bayes condition CI1\": null, \"Bayes condition mean\": null, \"zero\": 0}, {\"neuron\": 0.0, \"mouse_code\": 2.0, \"i_trial\": 0.0, \"neuron_code\": 0.0, \"log_firing_rate\": 0.07194144769445954, \"Firing rate\": 9.997974399448438, \"firing_rate\": 9.997974399448438, \"i_spike\": 0.25, \"isi diff\": -0.0013170676924276759, \"log_isi\": -0.004837122972787045, \"isi\": null, \"Bayes condition CI0\": null, \"Bayes condition CI1\": null, \"Bayes condition mean\": null, \"zero\": 0}, {\"neuron\": 0.0, \"mouse_code\": 3.0, \"i_trial\": 0.0, \"neuron_code\": 0.0, \"log_firing_rate\": -0.02417323019860973, \"Firing rate\": -80.2053140081305, \"firing_rate\": -80.2053140081305, \"i_spike\": 19.75, \"isi diff\": -0.035362158582553496, \"log_isi\": -0.1917997005921972, \"isi\": null, \"Bayes condition CI0\": null, \"Bayes condition CI1\": null, \"Bayes condition mean\": null, \"zero\": 0}, {\"neuron\": 1.0, \"mouse_code\": 0.0, \"i_trial\": 0.0, \"neuron_code\": 0.0, \"log_firing_rate\": 0.022247462451005395, \"Firing rate\": 8.8418883577788, \"firing_rate\": 8.8418883577788, \"i_spike\": 0.5, \"isi diff\": 0.0003326782583796123, \"log_isi\": -0.0058166982767347, \"isi\": null, \"Bayes condition CI0\": null, \"Bayes condition CI1\": null, \"Bayes condition mean\": null, \"zero\": 0}, {\"neuron\": 1.0, \"mouse_code\": 1.0, \"i_trial\": 0.0, \"neuron_code\": 0.0, \"log_firing_rate\": 0.07542892076865337, \"Firing rate\": 11.713258101483802, \"firing_rate\": 11.713258101483802, \"i_spike\": 11.0, \"isi diff\": -0.014441172734054084, \"log_isi\": -0.08827508785123905, \"isi\": null, \"Bayes condition CI0\": null, \"Bayes condition CI1\": null, \"Bayes condition mean\": null, \"zero\": 0}, {\"neuron\": 1.0, \"mouse_code\": 2.0, \"i_trial\": 0.0, \"neuron_code\": 0.0, \"log_firing_rate\": 0.12271037407042096, \"Firing rate\": 24.17882599837361, \"firing_rate\": 24.17882599837361, \"i_spike\": 9.5, \"isi diff\": -0.01227939122284924, \"log_isi\": -0.07616249965955801, \"isi\": null, \"Bayes condition CI0\": null, \"Bayes condition CI1\": null, \"Bayes condition mean\": null, \"zero\": 0}, {\"neuron\": 1.0, \"mouse_code\": 3.0, \"i_trial\": 0.0, \"neuron_code\": 0.0, \"log_firing_rate\": 0.208978521042535, \"Firing rate\": 74.73176991670368, \"firing_rate\": 74.73176991670368, \"i_spike\": 14.75, \"isi diff\": -0.01972687420146642, \"log_isi\": -0.12344131236903033, \"isi\": null, \"Bayes condition CI0\": null, \"Bayes condition CI1\": null, \"Bayes condition mean\": null, \"zero\": 0}, {\"neuron\": 2.0, \"mouse_code\": 0.0, \"i_trial\": 0.0, \"neuron_code\": 0.0, \"log_firing_rate\": 0.05310915025399421, \"Firing rate\": 14.977183699613363, \"firing_rate\": 14.977183699613363, \"i_spike\": 15.5, \"isi diff\": -0.015443182257833782, \"log_isi\": -0.11372126267978988, \"isi\": null, \"Bayes condition CI0\": null, \"Bayes condition CI1\": null, \"Bayes condition mean\": null, \"zero\": 0}, {\"neuron\": 2.0, \"mouse_code\": 1.0, \"i_trial\": 0.0, \"neuron_code\": 0.0, \"log_firing_rate\": 0.024439459453715617, \"Firing rate\": 17.26211093664827, \"firing_rate\": 17.26211093664827, \"i_spike\": 13.75, \"isi diff\": -0.013616138607691633, \"log_isi\": -0.10190533158156678, \"isi\": null, \"Bayes condition CI0\": null, \"Bayes condition CI1\": null, \"Bayes condition mean\": null, \"zero\": 0}, {\"neuron\": 2.0, \"mouse_code\": 2.0, \"i_trial\": 0.0, \"neuron_code\": 0.0, \"log_firing_rate\": 0.05922463546063694, \"Firing rate\": 17.22759144821515, \"firing_rate\": 17.22759144821515, \"i_spike\": 5.5, \"isi diff\": -0.003530003565599793, \"log_isi\": -0.03288156482981153, \"isi\": null, \"Bayes condition CI0\": null, \"Bayes condition CI1\": null, \"Bayes condition mean\": null, \"zero\": 0}, {\"neuron\": 2.0, \"mouse_code\": 3.0, \"i_trial\": 0.0, \"neuron_code\": 0.0, \"log_firing_rate\": 0.3182782419317456, \"Firing rate\": 80.65755215115689, \"firing_rate\": 80.65755215115689, \"i_spike\": 15.25, \"isi diff\": -0.012639489175504656, \"log_isi\": -0.09932190094709292, \"isi\": null, \"Bayes condition CI0\": null, \"Bayes condition CI1\": null, \"Bayes condition mean\": null, \"zero\": 0}, {\"neuron\": 3.0, \"mouse_code\": 0.0, \"i_trial\": 0.0, \"neuron_code\": 0.0, \"log_firing_rate\": -0.5367901614335007, \"Firing rate\": -214.42499582972346, \"firing_rate\": -214.42499582972346, \"i_spike\": -8.75, \"isi diff\": 0.006076444555395674, \"log_isi\": 0.047714774286459205, \"isi\": null, \"Bayes condition CI0\": null, \"Bayes condition CI1\": null, \"Bayes condition mean\": null, \"zero\": 0}, {\"neuron\": 3.0, \"mouse_code\": 1.0, \"i_trial\": 0.0, \"neuron_code\": 0.0, \"log_firing_rate\": 0.31275731299194875, \"Firing rate\": 212.54501189099, \"firing_rate\": 212.54501189099, \"i_spike\": -16.75, \"isi diff\": 0.010073377910648787, \"log_isi\": 0.0932903696675258, \"isi\": null, \"Bayes condition CI0\": null, \"Bayes condition CI1\": null, \"Bayes condition mean\": null, \"zero\": 0}, {\"neuron\": 3.0, \"mouse_code\": 2.0, \"i_trial\": 0.0, \"neuron_code\": 0.0, \"log_firing_rate\": 0.12362278131870985, \"Firing rate\": 52.35018130525049, \"firing_rate\": 52.35018130525049, \"i_spike\": 8.25, \"isi diff\": -0.0056695337962408, \"log_isi\": -0.0513151878128324, \"isi\": null, \"Bayes condition CI0\": null, \"Bayes condition CI1\": null, \"Bayes condition mean\": null, \"zero\": 0}, {\"neuron\": 3.0, \"mouse_code\": 3.0, \"i_trial\": 0.0, \"neuron_code\": 0.0, \"log_firing_rate\": 0.37142657533334633, \"Firing rate\": 129.71758390645664, \"firing_rate\": 129.71758390645664, \"i_spike\": 6.75, \"isi diff\": -0.0035631640611667598, \"log_isi\": -0.033881627321818986, \"isi\": null, \"Bayes condition CI0\": null, \"Bayes condition CI1\": null, \"Bayes condition mean\": null, \"zero\": 0}, {\"neuron\": 4.0, \"mouse_code\": 0.0, \"i_trial\": 0.0, \"neuron_code\": 0.0, \"log_firing_rate\": -0.05061066048773588, \"Firing rate\": -65.67219268360662, \"firing_rate\": -65.67219268360662, \"i_spike\": 9.25, \"isi diff\": -0.005336558813832375, \"log_isi\": -0.05172432519032344, \"isi\": null, \"Bayes condition CI0\": null, \"Bayes condition CI1\": null, \"Bayes condition mean\": null, \"zero\": 0}, {\"neuron\": 4.0, \"mouse_code\": 1.0, \"i_trial\": 0.0, \"neuron_code\": 0.0, \"log_firing_rate\": 0.06523473821734083, \"Firing rate\": 25.142593576487343, \"firing_rate\": 25.142593576487343, \"i_spike\": -7.25, \"isi diff\": 0.0034928235526134888, \"log_isi\": 0.03723956773525394, \"isi\": null, \"Bayes condition CI0\": null, \"Bayes condition CI1\": null, \"Bayes condition mean\": null, \"zero\": 0}, {\"neuron\": 4.0, \"mouse_code\": 2.0, \"i_trial\": 0.0, \"neuron_code\": 0.0, \"log_firing_rate\": -0.2295117732127805, \"Firing rate\": -111.46836632378964, \"firing_rate\": -111.46836632378964, \"i_spike\": 8.5, \"isi diff\": -0.0036353999338746834, \"log_isi\": -0.03983783104002869, \"isi\": null, \"Bayes condition CI0\": null, \"Bayes condition CI1\": null, \"Bayes condition mean\": null, \"zero\": 0}, {\"neuron\": 4.0, \"mouse_code\": 3.0, \"i_trial\": 0.0, \"neuron_code\": 0.0, \"log_firing_rate\": -0.43984282052483614, \"Firing rate\": -306.88131548515884, \"firing_rate\": -306.88131548515884, \"i_spike\": 14.5, \"isi diff\": -0.007222452849433278, \"log_isi\": -0.07530140892877868, \"isi\": null, \"Bayes condition CI0\": null, \"Bayes condition CI1\": null, \"Bayes condition mean\": null, \"zero\": 0}, {\"neuron\": 5.0, \"mouse_code\": 0.0, \"i_trial\": 0.0, \"neuron_code\": 0.0, \"log_firing_rate\": 0.09279470081950336, \"Firing rate\": 36.9573346132548, \"firing_rate\": 36.9573346132548, \"i_spike\": -0.25, \"isi diff\": 0.00017525774219375595, \"log_isi\": 0.0019322798706893352, \"isi\": null, \"Bayes condition CI0\": null, \"Bayes condition CI1\": null, \"Bayes condition mean\": null, \"zero\": 0}, {\"neuron\": 5.0, \"mouse_code\": 1.0, \"i_trial\": 0.0, \"neuron_code\": 0.0, \"log_firing_rate\": 0.44083686535411726, \"Firing rate\": 286.13430969711806, \"firing_rate\": 286.13430969711806, \"i_spike\": -12.5, \"isi diff\": 0.004440190085635218, \"log_isi\": 0.054691496820493235, \"isi\": null, \"Bayes condition CI0\": null, \"Bayes condition CI1\": null, \"Bayes condition mean\": null, \"zero\": 0}, {\"neuron\": 5.0, \"mouse_code\": 2.0, \"i_trial\": 0.0, \"neuron_code\": 0.0, \"log_firing_rate\": -0.24462184472271442, \"Firing rate\": -119.25694223971485, \"firing_rate\": -119.25694223971485, \"i_spike\": -4.25, \"isi diff\": 0.0007049213023499479, \"log_isi\": 0.009448182679001604, \"isi\": null, \"Bayes condition CI0\": null, \"Bayes condition CI1\": null, \"Bayes condition mean\": null, \"zero\": 0}, {\"neuron\": 5.0, \"mouse_code\": 3.0, \"i_trial\": 0.0, \"neuron_code\": 0.0, \"log_firing_rate\": -0.2826015633735466, \"Firing rate\": -103.9609456384294, \"firing_rate\": -103.9609456384294, \"i_spike\": 9.0, \"isi diff\": -0.0032227888676268357, \"log_isi\": -0.040995881715003346, \"isi\": null, \"Bayes condition CI0\": null, \"Bayes condition CI1\": null, \"Bayes condition mean\": null, \"zero\": 0}, {\"neuron\": 6.0, \"mouse_code\": 0.0, \"i_trial\": 0.0, \"neuron_code\": 0.0, \"log_firing_rate\": 0.2297358150165234, \"Firing rate\": 395.7230602104188, \"firing_rate\": 395.7230602104188, \"i_spike\": 10.0, \"isi diff\": -0.002250916453380193, \"log_isi\": -0.03514710275754829, \"isi\": null, \"Bayes condition CI0\": null, \"Bayes condition CI1\": null, \"Bayes condition mean\": null, \"zero\": 0}, {\"neuron\": 6.0, \"mouse_code\": 1.0, \"i_trial\": 0.0, \"neuron_code\": 0.0, \"log_firing_rate\": -0.2885291701886219, \"Firing rate\": -188.85553720857357, \"firing_rate\": -188.85553720857357, \"i_spike\": 11.0, \"isi diff\": -0.0025144454288790787, \"log_isi\": -0.03957689807136355, \"isi\": null, \"Bayes condition CI0\": null, \"Bayes condition CI1\": null, \"Bayes condition mean\": null, \"zero\": 0}, {\"neuron\": 6.0, \"mouse_code\": 2.0, \"i_trial\": 0.0, \"neuron_code\": 0.0, \"log_firing_rate\": -0.4324330043217879, \"Firing rate\": -426.5546942305821, \"firing_rate\": -426.5546942305821, \"i_spike\": -0.25, \"isi diff\": 0.00023735635655105364, \"log_isi\": 0.0037251791640893206, \"isi\": null, \"Bayes condition CI0\": null, \"Bayes condition CI1\": null, \"Bayes condition mean\": null, \"zero\": 0}, {\"neuron\": 6.0, \"mouse_code\": 3.0, \"i_trial\": 0.0, \"neuron_code\": 0.0, \"log_firing_rate\": -0.49419417430334533, \"Firing rate\": -1655.4102592729137, \"firing_rate\": -1655.4102592729137, \"i_spike\": -0.75, \"isi diff\": -0.0003408335054564844, \"log_isi\": -0.00526888652323132, \"isi\": null, \"Bayes condition CI0\": null, \"Bayes condition CI1\": null, \"Bayes condition mean\": null, \"zero\": 0}, {\"neuron\": 7.0, \"mouse_code\": 0.0, \"i_trial\": 0.0, \"neuron_code\": 0.0, \"log_firing_rate\": 0.19394368721538324, \"Firing rate\": 149.68068087173782, \"firing_rate\": 149.68068087173782, \"i_spike\": 0.0, \"isi diff\": -4.151942390358959e-05, \"log_isi\": -0.00026334121975235547, \"isi\": null, \"Bayes condition CI0\": null, \"Bayes condition CI1\": null, \"Bayes condition mean\": null, \"zero\": 0}, {\"neuron\": 7.0, \"mouse_code\": 1.0, \"i_trial\": 0.0, \"neuron_code\": 0.0, \"log_firing_rate\": 0.17871302726520888, \"Firing rate\": 206.7111203951439, \"firing_rate\": 206.7111203951439, \"i_spike\": -8.5, \"isi diff\": 0.0012341056651850556, \"log_isi\": 0.023711324791155564, \"isi\": null, \"Bayes condition CI0\": null, \"Bayes condition CI1\": null, \"Bayes condition mean\": null, \"zero\": 0}, {\"neuron\": 7.0, \"mouse_code\": 2.0, \"i_trial\": 0.0, \"neuron_code\": 0.0, \"log_firing_rate\": 0.035634224200403075, \"Firing rate\": 22.9412920575557, \"firing_rate\": 22.9412920575557, \"i_spike\": -3.0, \"isi diff\": 0.0003877166336507601, \"log_isi\": 0.007135325008329918, \"isi\": null, \"Bayes condition CI0\": null, \"Bayes condition CI1\": null, \"Bayes condition mean\": null, \"zero\": 0}, {\"neuron\": 7.0, \"mouse_code\": 3.0, \"i_trial\": 0.0, \"neuron_code\": 0.0, \"log_firing_rate\": 0.1773344524691356, \"Firing rate\": 1021.9254644474127, \"firing_rate\": 1021.9254644474127, \"i_spike\": -2.5, \"isi diff\": 0.0006295686097311445, \"log_isi\": 0.010360456919775052, \"isi\": null, \"Bayes condition CI0\": null, \"Bayes condition CI1\": null, \"Bayes condition mean\": null, \"zero\": 0}, {\"neuron\": 0.0, \"mouse_code\": null, \"i_trial\": 0.5, \"neuron_code\": 0.0, \"log_firing_rate\": 1.7468498592189439, \"Firing rate\": 56.368050970111995, \"firing_rate\": 56.368050970111995, \"i_spike\": 48.25, \"isi diff\": null, \"log_isi\": -1.1400699925322657, \"isi\": 0.07262946755236663, \"Bayes condition CI0\": 0.26927438378334045, \"Bayes condition CI1\": 0.9753347039222717, \"Bayes condition mean\": 0.6069545149803162, \"zero\": 0}, {\"neuron\": 1.0, \"mouse_code\": null, \"i_trial\": 0.5, \"neuron_code\": 4.0, \"log_firing_rate\": 1.894791887241596, \"Firing rate\": 78.52966187204242, \"firing_rate\": 78.52966187204242, \"i_spike\": 49.25, \"isi diff\": null, \"log_isi\": -1.14658528441703, \"isi\": 0.07137485900979156, \"Bayes condition CI0\": 0.19578854739665985, \"Bayes condition CI1\": 0.8478949069976807, \"Bayes condition mean\": 0.47950857877731323, \"zero\": 0}, {\"neuron\": 2.0, \"mouse_code\": null, \"i_trial\": 0.5, \"neuron_code\": 8.0, \"log_firing_rate\": 1.9135006067603855, \"Firing rate\": 83.05785319952145, \"firing_rate\": 83.05785319952145, \"i_spike\": 51.0, \"isi diff\": null, \"log_isi\": -1.168923214377409, \"isi\": 0.06786311962001076, \"Bayes condition CI0\": -0.19594836235046387, \"Bayes condition CI1\": 0.3969714343547821, \"Bayes condition mean\": 0.1276327669620514, \"zero\": 0}, {\"neuron\": 3.0, \"mouse_code\": null, \"i_trial\": 0.5, \"neuron_code\": 12.0, \"log_firing_rate\": 2.4225751214463855, \"Firing rate\": 295.81766398726444, \"firing_rate\": 295.81766398726444, \"i_spike\": 68.0, \"isi diff\": null, \"log_isi\": -1.291613921838986, \"isi\": 0.051187407568796875, \"Bayes condition CI0\": -0.2290336936712265, \"Bayes condition CI1\": 0.339125394821167, \"Bayes condition mean\": 0.06338406354188919, \"zero\": 0}, {\"neuron\": 4.0, \"mouse_code\": null, \"i_trial\": 0.5, \"neuron_code\": 16.0, \"log_firing_rate\": 2.253361676859367, \"Firing rate\": 225.88787948232934, \"firing_rate\": 225.88787948232934, \"i_spike\": 73.25, \"isi diff\": null, \"log_isi\": -1.3238921034522224, \"isi\": 0.047503039787661204, \"Bayes condition CI0\": -0.4431520402431488, \"Bayes condition CI1\": 0.1309346705675125, \"Bayes condition mean\": -0.1808752864599228, \"zero\": 0}, {\"neuron\": 5.0, \"mouse_code\": null, \"i_trial\": 0.5, \"neuron_code\": 20.0, \"log_firing_rate\": 2.3213343968365043, \"Firing rate\": 251.89804305693045, \"firing_rate\": 251.89804305693045, \"i_spike\": 100.75, \"isi diff\": null, \"log_isi\": -1.4603657499155598, \"isi\": 0.034646037540839524, \"Bayes condition CI0\": -0.6351549625396729, \"Bayes condition CI1\": -0.010668552480638027, \"Bayes condition mean\": -0.3539813160896301, \"zero\": 0}, {\"neuron\": 6.0, \"mouse_code\": null, \"i_trial\": 0.5, \"neuron_code\": 24.0, \"log_firing_rate\": 2.4210369632413267, \"Firing rate\": 263.9348889789852, \"firing_rate\": 263.9348889789852, \"i_spike\": 117.25, \"isi diff\": null, \"log_isi\": -1.5270116382053591, \"isi\": 0.029727495306198067, \"Bayes condition CI0\": -0.8086197376251221, \"Bayes condition CI1\": -0.17192186415195465, \"Bayes condition mean\": -0.5234295129776001, \"zero\": 0}, {\"neuron\": 7.0, \"mouse_code\": null, \"i_trial\": 0.5, \"neuron_code\": 28.0, \"log_firing_rate\": 2.315467324330311, \"Firing rate\": 209.38326867484005, \"firing_rate\": 209.38326867484005, \"i_spike\": 148.75, \"isi diff\": null, \"log_isi\": -1.630400248508701, \"isi\": 0.02347310442352954, \"Bayes condition CI0\": -0.9897582530975342, \"Bayes condition CI1\": -0.2847680449485779, \"Bayes condition mean\": -0.6001970767974854, \"zero\": 0}]}}, {\"mode\": \"vega-lite\"});\n",
       "</script>"
      ],
      "text/plain": [
       "alt.LayerChart(...)"
      ]
     },
     "execution_count": 8,
     "metadata": {},
     "output_type": "execute_result"
    }
   ],
   "source": [
    "chart_p = visualization.plot_posterior(df=df_both, title=f'd_{y}', x='neuron',)\n",
    "chart_p"
   ]
  },
  {
   "cell_type": "code",
   "execution_count": 9,
   "metadata": {},
   "outputs": [
    {
     "data": {
      "text/html": [
       "\n",
       "<div id=\"altair-viz-80aef97468494537ae14e0359821d831\"></div>\n",
       "<script type=\"text/javascript\">\n",
       "  (function(spec, embedOpt){\n",
       "    let outputDiv = document.currentScript.previousElementSibling;\n",
       "    if (outputDiv.id !== \"altair-viz-80aef97468494537ae14e0359821d831\") {\n",
       "      outputDiv = document.getElementById(\"altair-viz-80aef97468494537ae14e0359821d831\");\n",
       "    }\n",
       "    const paths = {\n",
       "      \"vega\": \"https://cdn.jsdelivr.net/npm//vega@5?noext\",\n",
       "      \"vega-lib\": \"https://cdn.jsdelivr.net/npm//vega-lib?noext\",\n",
       "      \"vega-lite\": \"https://cdn.jsdelivr.net/npm//vega-lite@4.8.1?noext\",\n",
       "      \"vega-embed\": \"https://cdn.jsdelivr.net/npm//vega-embed@6?noext\",\n",
       "    };\n",
       "\n",
       "    function loadScript(lib) {\n",
       "      return new Promise(function(resolve, reject) {\n",
       "        var s = document.createElement('script');\n",
       "        s.src = paths[lib];\n",
       "        s.async = true;\n",
       "        s.onload = () => resolve(paths[lib]);\n",
       "        s.onerror = () => reject(`Error loading script: ${paths[lib]}`);\n",
       "        document.getElementsByTagName(\"head\")[0].appendChild(s);\n",
       "      });\n",
       "    }\n",
       "\n",
       "    function showError(err) {\n",
       "      outputDiv.innerHTML = `<div class=\"error\" style=\"color:red;\">${err}</div>`;\n",
       "      throw err;\n",
       "    }\n",
       "\n",
       "    function displayChart(vegaEmbed) {\n",
       "      vegaEmbed(outputDiv, spec, embedOpt)\n",
       "        .catch(err => showError(`Javascript Error: ${err.message}<br>This usually means there's a typo in your chart specification. See the javascript console for the full traceback.`));\n",
       "    }\n",
       "\n",
       "    if(typeof define === \"function\" && define.amd) {\n",
       "      requirejs.config({paths});\n",
       "      require([\"vega-embed\"], displayChart, err => showError(`Error loading script: ${err.message}`));\n",
       "    } else if (typeof vegaEmbed === \"function\") {\n",
       "      displayChart(vegaEmbed);\n",
       "    } else {\n",
       "      loadScript(\"vega\")\n",
       "        .then(() => loadScript(\"vega-lite\"))\n",
       "        .then(() => loadScript(\"vega-embed\"))\n",
       "        .catch(showError)\n",
       "        .then(() => displayChart(vegaEmbed));\n",
       "    }\n",
       "  })({\"config\": {\"view\": {\"continuousWidth\": 400, \"continuousHeight\": 300}}, \"layer\": [{\"mark\": {\"type\": \"line\", \"fill\": null, \"opacity\": 0.5, \"size\": 3}, \"encoding\": {\"color\": {\"type\": \"nominal\", \"field\": \"mouse_code\"}, \"x\": {\"type\": \"ordinal\", \"field\": \"neuron\"}, \"y\": {\"type\": \"quantitative\", \"field\": \"isi diff\"}}}, {\"mark\": {\"type\": \"boxplot\", \"color\": \"black\", \"opacity\": 0.3, \"size\": 12}, \"encoding\": {\"x\": {\"type\": \"ordinal\", \"field\": \"neuron\"}, \"y\": {\"type\": \"quantitative\", \"field\": \"isi diff\"}}}, {\"layer\": [{\"mark\": {\"type\": \"line\", \"color\": \"black\", \"point\": true}, \"encoding\": {\"x\": {\"type\": \"ordinal\", \"field\": \"neuron\"}, \"y\": {\"type\": \"quantitative\", \"field\": \"Bayes condition mean\", \"impute\": {\"value\": \"value\"}}}}, {\"mark\": {\"type\": \"rule\", \"color\": \"black\", \"opacity\": 0.4, \"size\": 0.1}, \"encoding\": {\"y\": {\"type\": \"quantitative\", \"field\": \"zero\"}}}, {\"mark\": \"rule\", \"encoding\": {\"x\": {\"type\": \"ordinal\", \"field\": \"neuron\"}, \"y\": {\"type\": \"quantitative\", \"field\": \"Bayes condition CI0\", \"scale\": {\"domain\": [-0.9897582530975342, 0.9753347039222717], \"zero\": false}, \"title\": \"\\u0394 d_isi\"}, \"y2\": {\"field\": \"Bayes condition CI1\"}}}]}], \"data\": {\"name\": \"data-5c05b90e326cfacf57db2724e9150d16\"}, \"resolve\": {\"scale\": {\"y\": \"independent\"}}, \"$schema\": \"https://vega.github.io/schema/vega-lite/v4.8.1.json\", \"datasets\": {\"data-5c05b90e326cfacf57db2724e9150d16\": [{\"neuron\": 0.0, \"mouse_code\": 0.0, \"i_trial\": 0.0, \"neuron_code\": 0.0, \"log_firing_rate\": 0.08175831116053045, \"Firing rate\": 24.162822363745562, \"firing_rate\": 24.162822363745562, \"i_spike\": -1.0, \"isi diff\": 0.005333488031367531, \"log_isi\": 0.01928236208933165, \"isi\": null, \"Bayes condition CI0\": null, \"Bayes condition CI1\": null, \"Bayes condition mean\": null, \"zero\": 0}, {\"neuron\": 0.0, \"mouse_code\": 1.0, \"i_trial\": 0.0, \"neuron_code\": 0.0, \"log_firing_rate\": 0.3491976366125753, \"Firing rate\": 128.09348941854194, \"firing_rate\": 128.09348941854194, \"i_spike\": 6.75, \"isi diff\": -0.009257279534103546, \"log_isi\": -0.05684109463071274, \"isi\": null, \"Bayes condition CI0\": null, \"Bayes condition CI1\": null, \"Bayes condition mean\": null, \"zero\": 0}, {\"neuron\": 0.0, \"mouse_code\": 2.0, \"i_trial\": 0.0, \"neuron_code\": 0.0, \"log_firing_rate\": 0.07194144769445954, \"Firing rate\": 9.997974399448438, \"firing_rate\": 9.997974399448438, \"i_spike\": 0.25, \"isi diff\": -0.0013170676924276759, \"log_isi\": -0.004837122972787045, \"isi\": null, \"Bayes condition CI0\": null, \"Bayes condition CI1\": null, \"Bayes condition mean\": null, \"zero\": 0}, {\"neuron\": 0.0, \"mouse_code\": 3.0, \"i_trial\": 0.0, \"neuron_code\": 0.0, \"log_firing_rate\": -0.02417323019860973, \"Firing rate\": -80.2053140081305, \"firing_rate\": -80.2053140081305, \"i_spike\": 19.75, \"isi diff\": -0.035362158582553496, \"log_isi\": -0.1917997005921972, \"isi\": null, \"Bayes condition CI0\": null, \"Bayes condition CI1\": null, \"Bayes condition mean\": null, \"zero\": 0}, {\"neuron\": 1.0, \"mouse_code\": 0.0, \"i_trial\": 0.0, \"neuron_code\": 0.0, \"log_firing_rate\": 0.022247462451005395, \"Firing rate\": 8.8418883577788, \"firing_rate\": 8.8418883577788, \"i_spike\": 0.5, \"isi diff\": 0.0003326782583796123, \"log_isi\": -0.0058166982767347, \"isi\": null, \"Bayes condition CI0\": null, \"Bayes condition CI1\": null, \"Bayes condition mean\": null, \"zero\": 0}, {\"neuron\": 1.0, \"mouse_code\": 1.0, \"i_trial\": 0.0, \"neuron_code\": 0.0, \"log_firing_rate\": 0.07542892076865337, \"Firing rate\": 11.713258101483802, \"firing_rate\": 11.713258101483802, \"i_spike\": 11.0, \"isi diff\": -0.014441172734054084, \"log_isi\": -0.08827508785123905, \"isi\": null, \"Bayes condition CI0\": null, \"Bayes condition CI1\": null, \"Bayes condition mean\": null, \"zero\": 0}, {\"neuron\": 1.0, \"mouse_code\": 2.0, \"i_trial\": 0.0, \"neuron_code\": 0.0, \"log_firing_rate\": 0.12271037407042096, \"Firing rate\": 24.17882599837361, \"firing_rate\": 24.17882599837361, \"i_spike\": 9.5, \"isi diff\": -0.01227939122284924, \"log_isi\": -0.07616249965955801, \"isi\": null, \"Bayes condition CI0\": null, \"Bayes condition CI1\": null, \"Bayes condition mean\": null, \"zero\": 0}, {\"neuron\": 1.0, \"mouse_code\": 3.0, \"i_trial\": 0.0, \"neuron_code\": 0.0, \"log_firing_rate\": 0.208978521042535, \"Firing rate\": 74.73176991670368, \"firing_rate\": 74.73176991670368, \"i_spike\": 14.75, \"isi diff\": -0.01972687420146642, \"log_isi\": -0.12344131236903033, \"isi\": null, \"Bayes condition CI0\": null, \"Bayes condition CI1\": null, \"Bayes condition mean\": null, \"zero\": 0}, {\"neuron\": 2.0, \"mouse_code\": 0.0, \"i_trial\": 0.0, \"neuron_code\": 0.0, \"log_firing_rate\": 0.05310915025399421, \"Firing rate\": 14.977183699613363, \"firing_rate\": 14.977183699613363, \"i_spike\": 15.5, \"isi diff\": -0.015443182257833782, \"log_isi\": -0.11372126267978988, \"isi\": null, \"Bayes condition CI0\": null, \"Bayes condition CI1\": null, \"Bayes condition mean\": null, \"zero\": 0}, {\"neuron\": 2.0, \"mouse_code\": 1.0, \"i_trial\": 0.0, \"neuron_code\": 0.0, \"log_firing_rate\": 0.024439459453715617, \"Firing rate\": 17.26211093664827, \"firing_rate\": 17.26211093664827, \"i_spike\": 13.75, \"isi diff\": -0.013616138607691633, \"log_isi\": -0.10190533158156678, \"isi\": null, \"Bayes condition CI0\": null, \"Bayes condition CI1\": null, \"Bayes condition mean\": null, \"zero\": 0}, {\"neuron\": 2.0, \"mouse_code\": 2.0, \"i_trial\": 0.0, \"neuron_code\": 0.0, \"log_firing_rate\": 0.05922463546063694, \"Firing rate\": 17.22759144821515, \"firing_rate\": 17.22759144821515, \"i_spike\": 5.5, \"isi diff\": -0.003530003565599793, \"log_isi\": -0.03288156482981153, \"isi\": null, \"Bayes condition CI0\": null, \"Bayes condition CI1\": null, \"Bayes condition mean\": null, \"zero\": 0}, {\"neuron\": 2.0, \"mouse_code\": 3.0, \"i_trial\": 0.0, \"neuron_code\": 0.0, \"log_firing_rate\": 0.3182782419317456, \"Firing rate\": 80.65755215115689, \"firing_rate\": 80.65755215115689, \"i_spike\": 15.25, \"isi diff\": -0.012639489175504656, \"log_isi\": -0.09932190094709292, \"isi\": null, \"Bayes condition CI0\": null, \"Bayes condition CI1\": null, \"Bayes condition mean\": null, \"zero\": 0}, {\"neuron\": 3.0, \"mouse_code\": 0.0, \"i_trial\": 0.0, \"neuron_code\": 0.0, \"log_firing_rate\": -0.5367901614335007, \"Firing rate\": -214.42499582972346, \"firing_rate\": -214.42499582972346, \"i_spike\": -8.75, \"isi diff\": 0.006076444555395674, \"log_isi\": 0.047714774286459205, \"isi\": null, \"Bayes condition CI0\": null, \"Bayes condition CI1\": null, \"Bayes condition mean\": null, \"zero\": 0}, {\"neuron\": 3.0, \"mouse_code\": 1.0, \"i_trial\": 0.0, \"neuron_code\": 0.0, \"log_firing_rate\": 0.31275731299194875, \"Firing rate\": 212.54501189099, \"firing_rate\": 212.54501189099, \"i_spike\": -16.75, \"isi diff\": 0.010073377910648787, \"log_isi\": 0.0932903696675258, \"isi\": null, \"Bayes condition CI0\": null, \"Bayes condition CI1\": null, \"Bayes condition mean\": null, \"zero\": 0}, {\"neuron\": 3.0, \"mouse_code\": 2.0, \"i_trial\": 0.0, \"neuron_code\": 0.0, \"log_firing_rate\": 0.12362278131870985, \"Firing rate\": 52.35018130525049, \"firing_rate\": 52.35018130525049, \"i_spike\": 8.25, \"isi diff\": -0.0056695337962408, \"log_isi\": -0.0513151878128324, \"isi\": null, \"Bayes condition CI0\": null, \"Bayes condition CI1\": null, \"Bayes condition mean\": null, \"zero\": 0}, {\"neuron\": 3.0, \"mouse_code\": 3.0, \"i_trial\": 0.0, \"neuron_code\": 0.0, \"log_firing_rate\": 0.37142657533334633, \"Firing rate\": 129.71758390645664, \"firing_rate\": 129.71758390645664, \"i_spike\": 6.75, \"isi diff\": -0.0035631640611667598, \"log_isi\": -0.033881627321818986, \"isi\": null, \"Bayes condition CI0\": null, \"Bayes condition CI1\": null, \"Bayes condition mean\": null, \"zero\": 0}, {\"neuron\": 4.0, \"mouse_code\": 0.0, \"i_trial\": 0.0, \"neuron_code\": 0.0, \"log_firing_rate\": -0.05061066048773588, \"Firing rate\": -65.67219268360662, \"firing_rate\": -65.67219268360662, \"i_spike\": 9.25, \"isi diff\": -0.005336558813832375, \"log_isi\": -0.05172432519032344, \"isi\": null, \"Bayes condition CI0\": null, \"Bayes condition CI1\": null, \"Bayes condition mean\": null, \"zero\": 0}, {\"neuron\": 4.0, \"mouse_code\": 1.0, \"i_trial\": 0.0, \"neuron_code\": 0.0, \"log_firing_rate\": 0.06523473821734083, \"Firing rate\": 25.142593576487343, \"firing_rate\": 25.142593576487343, \"i_spike\": -7.25, \"isi diff\": 0.0034928235526134888, \"log_isi\": 0.03723956773525394, \"isi\": null, \"Bayes condition CI0\": null, \"Bayes condition CI1\": null, \"Bayes condition mean\": null, \"zero\": 0}, {\"neuron\": 4.0, \"mouse_code\": 2.0, \"i_trial\": 0.0, \"neuron_code\": 0.0, \"log_firing_rate\": -0.2295117732127805, \"Firing rate\": -111.46836632378964, \"firing_rate\": -111.46836632378964, \"i_spike\": 8.5, \"isi diff\": -0.0036353999338746834, \"log_isi\": -0.03983783104002869, \"isi\": null, \"Bayes condition CI0\": null, \"Bayes condition CI1\": null, \"Bayes condition mean\": null, \"zero\": 0}, {\"neuron\": 4.0, \"mouse_code\": 3.0, \"i_trial\": 0.0, \"neuron_code\": 0.0, \"log_firing_rate\": -0.43984282052483614, \"Firing rate\": -306.88131548515884, \"firing_rate\": -306.88131548515884, \"i_spike\": 14.5, \"isi diff\": -0.007222452849433278, \"log_isi\": -0.07530140892877868, \"isi\": null, \"Bayes condition CI0\": null, \"Bayes condition CI1\": null, \"Bayes condition mean\": null, \"zero\": 0}, {\"neuron\": 5.0, \"mouse_code\": 0.0, \"i_trial\": 0.0, \"neuron_code\": 0.0, \"log_firing_rate\": 0.09279470081950336, \"Firing rate\": 36.9573346132548, \"firing_rate\": 36.9573346132548, \"i_spike\": -0.25, \"isi diff\": 0.00017525774219375595, \"log_isi\": 0.0019322798706893352, \"isi\": null, \"Bayes condition CI0\": null, \"Bayes condition CI1\": null, \"Bayes condition mean\": null, \"zero\": 0}, {\"neuron\": 5.0, \"mouse_code\": 1.0, \"i_trial\": 0.0, \"neuron_code\": 0.0, \"log_firing_rate\": 0.44083686535411726, \"Firing rate\": 286.13430969711806, \"firing_rate\": 286.13430969711806, \"i_spike\": -12.5, \"isi diff\": 0.004440190085635218, \"log_isi\": 0.054691496820493235, \"isi\": null, \"Bayes condition CI0\": null, \"Bayes condition CI1\": null, \"Bayes condition mean\": null, \"zero\": 0}, {\"neuron\": 5.0, \"mouse_code\": 2.0, \"i_trial\": 0.0, \"neuron_code\": 0.0, \"log_firing_rate\": -0.24462184472271442, \"Firing rate\": -119.25694223971485, \"firing_rate\": -119.25694223971485, \"i_spike\": -4.25, \"isi diff\": 0.0007049213023499479, \"log_isi\": 0.009448182679001604, \"isi\": null, \"Bayes condition CI0\": null, \"Bayes condition CI1\": null, \"Bayes condition mean\": null, \"zero\": 0}, {\"neuron\": 5.0, \"mouse_code\": 3.0, \"i_trial\": 0.0, \"neuron_code\": 0.0, \"log_firing_rate\": -0.2826015633735466, \"Firing rate\": -103.9609456384294, \"firing_rate\": -103.9609456384294, \"i_spike\": 9.0, \"isi diff\": -0.0032227888676268357, \"log_isi\": -0.040995881715003346, \"isi\": null, \"Bayes condition CI0\": null, \"Bayes condition CI1\": null, \"Bayes condition mean\": null, \"zero\": 0}, {\"neuron\": 6.0, \"mouse_code\": 0.0, \"i_trial\": 0.0, \"neuron_code\": 0.0, \"log_firing_rate\": 0.2297358150165234, \"Firing rate\": 395.7230602104188, \"firing_rate\": 395.7230602104188, \"i_spike\": 10.0, \"isi diff\": -0.002250916453380193, \"log_isi\": -0.03514710275754829, \"isi\": null, \"Bayes condition CI0\": null, \"Bayes condition CI1\": null, \"Bayes condition mean\": null, \"zero\": 0}, {\"neuron\": 6.0, \"mouse_code\": 1.0, \"i_trial\": 0.0, \"neuron_code\": 0.0, \"log_firing_rate\": -0.2885291701886219, \"Firing rate\": -188.85553720857357, \"firing_rate\": -188.85553720857357, \"i_spike\": 11.0, \"isi diff\": -0.0025144454288790787, \"log_isi\": -0.03957689807136355, \"isi\": null, \"Bayes condition CI0\": null, \"Bayes condition CI1\": null, \"Bayes condition mean\": null, \"zero\": 0}, {\"neuron\": 6.0, \"mouse_code\": 2.0, \"i_trial\": 0.0, \"neuron_code\": 0.0, \"log_firing_rate\": -0.4324330043217879, \"Firing rate\": -426.5546942305821, \"firing_rate\": -426.5546942305821, \"i_spike\": -0.25, \"isi diff\": 0.00023735635655105364, \"log_isi\": 0.0037251791640893206, \"isi\": null, \"Bayes condition CI0\": null, \"Bayes condition CI1\": null, \"Bayes condition mean\": null, \"zero\": 0}, {\"neuron\": 6.0, \"mouse_code\": 3.0, \"i_trial\": 0.0, \"neuron_code\": 0.0, \"log_firing_rate\": -0.49419417430334533, \"Firing rate\": -1655.4102592729137, \"firing_rate\": -1655.4102592729137, \"i_spike\": -0.75, \"isi diff\": -0.0003408335054564844, \"log_isi\": -0.00526888652323132, \"isi\": null, \"Bayes condition CI0\": null, \"Bayes condition CI1\": null, \"Bayes condition mean\": null, \"zero\": 0}, {\"neuron\": 7.0, \"mouse_code\": 0.0, \"i_trial\": 0.0, \"neuron_code\": 0.0, \"log_firing_rate\": 0.19394368721538324, \"Firing rate\": 149.68068087173782, \"firing_rate\": 149.68068087173782, \"i_spike\": 0.0, \"isi diff\": -4.151942390358959e-05, \"log_isi\": -0.00026334121975235547, \"isi\": null, \"Bayes condition CI0\": null, \"Bayes condition CI1\": null, \"Bayes condition mean\": null, \"zero\": 0}, {\"neuron\": 7.0, \"mouse_code\": 1.0, \"i_trial\": 0.0, \"neuron_code\": 0.0, \"log_firing_rate\": 0.17871302726520888, \"Firing rate\": 206.7111203951439, \"firing_rate\": 206.7111203951439, \"i_spike\": -8.5, \"isi diff\": 0.0012341056651850556, \"log_isi\": 0.023711324791155564, \"isi\": null, \"Bayes condition CI0\": null, \"Bayes condition CI1\": null, \"Bayes condition mean\": null, \"zero\": 0}, {\"neuron\": 7.0, \"mouse_code\": 2.0, \"i_trial\": 0.0, \"neuron_code\": 0.0, \"log_firing_rate\": 0.035634224200403075, \"Firing rate\": 22.9412920575557, \"firing_rate\": 22.9412920575557, \"i_spike\": -3.0, \"isi diff\": 0.0003877166336507601, \"log_isi\": 0.007135325008329918, \"isi\": null, \"Bayes condition CI0\": null, \"Bayes condition CI1\": null, \"Bayes condition mean\": null, \"zero\": 0}, {\"neuron\": 7.0, \"mouse_code\": 3.0, \"i_trial\": 0.0, \"neuron_code\": 0.0, \"log_firing_rate\": 0.1773344524691356, \"Firing rate\": 1021.9254644474127, \"firing_rate\": 1021.9254644474127, \"i_spike\": -2.5, \"isi diff\": 0.0006295686097311445, \"log_isi\": 0.010360456919775052, \"isi\": null, \"Bayes condition CI0\": null, \"Bayes condition CI1\": null, \"Bayes condition mean\": null, \"zero\": 0}, {\"neuron\": 0.0, \"mouse_code\": null, \"i_trial\": 0.5, \"neuron_code\": 0.0, \"log_firing_rate\": 1.7468498592189439, \"Firing rate\": 56.368050970111995, \"firing_rate\": 56.368050970111995, \"i_spike\": 48.25, \"isi diff\": null, \"log_isi\": -1.1400699925322657, \"isi\": 0.07262946755236663, \"Bayes condition CI0\": 0.26927438378334045, \"Bayes condition CI1\": 0.9753347039222717, \"Bayes condition mean\": 0.6069545149803162, \"zero\": 0}, {\"neuron\": 1.0, \"mouse_code\": null, \"i_trial\": 0.5, \"neuron_code\": 4.0, \"log_firing_rate\": 1.894791887241596, \"Firing rate\": 78.52966187204242, \"firing_rate\": 78.52966187204242, \"i_spike\": 49.25, \"isi diff\": null, \"log_isi\": -1.14658528441703, \"isi\": 0.07137485900979156, \"Bayes condition CI0\": 0.19578854739665985, \"Bayes condition CI1\": 0.8478949069976807, \"Bayes condition mean\": 0.47950857877731323, \"zero\": 0}, {\"neuron\": 2.0, \"mouse_code\": null, \"i_trial\": 0.5, \"neuron_code\": 8.0, \"log_firing_rate\": 1.9135006067603855, \"Firing rate\": 83.05785319952145, \"firing_rate\": 83.05785319952145, \"i_spike\": 51.0, \"isi diff\": null, \"log_isi\": -1.168923214377409, \"isi\": 0.06786311962001076, \"Bayes condition CI0\": -0.19594836235046387, \"Bayes condition CI1\": 0.3969714343547821, \"Bayes condition mean\": 0.1276327669620514, \"zero\": 0}, {\"neuron\": 3.0, \"mouse_code\": null, \"i_trial\": 0.5, \"neuron_code\": 12.0, \"log_firing_rate\": 2.4225751214463855, \"Firing rate\": 295.81766398726444, \"firing_rate\": 295.81766398726444, \"i_spike\": 68.0, \"isi diff\": null, \"log_isi\": -1.291613921838986, \"isi\": 0.051187407568796875, \"Bayes condition CI0\": -0.2290336936712265, \"Bayes condition CI1\": 0.339125394821167, \"Bayes condition mean\": 0.06338406354188919, \"zero\": 0}, {\"neuron\": 4.0, \"mouse_code\": null, \"i_trial\": 0.5, \"neuron_code\": 16.0, \"log_firing_rate\": 2.253361676859367, \"Firing rate\": 225.88787948232934, \"firing_rate\": 225.88787948232934, \"i_spike\": 73.25, \"isi diff\": null, \"log_isi\": -1.3238921034522224, \"isi\": 0.047503039787661204, \"Bayes condition CI0\": -0.4431520402431488, \"Bayes condition CI1\": 0.1309346705675125, \"Bayes condition mean\": -0.1808752864599228, \"zero\": 0}, {\"neuron\": 5.0, \"mouse_code\": null, \"i_trial\": 0.5, \"neuron_code\": 20.0, \"log_firing_rate\": 2.3213343968365043, \"Firing rate\": 251.89804305693045, \"firing_rate\": 251.89804305693045, \"i_spike\": 100.75, \"isi diff\": null, \"log_isi\": -1.4603657499155598, \"isi\": 0.034646037540839524, \"Bayes condition CI0\": -0.6351549625396729, \"Bayes condition CI1\": -0.010668552480638027, \"Bayes condition mean\": -0.3539813160896301, \"zero\": 0}, {\"neuron\": 6.0, \"mouse_code\": null, \"i_trial\": 0.5, \"neuron_code\": 24.0, \"log_firing_rate\": 2.4210369632413267, \"Firing rate\": 263.9348889789852, \"firing_rate\": 263.9348889789852, \"i_spike\": 117.25, \"isi diff\": null, \"log_isi\": -1.5270116382053591, \"isi\": 0.029727495306198067, \"Bayes condition CI0\": -0.8086197376251221, \"Bayes condition CI1\": -0.17192186415195465, \"Bayes condition mean\": -0.5234295129776001, \"zero\": 0}, {\"neuron\": 7.0, \"mouse_code\": null, \"i_trial\": 0.5, \"neuron_code\": 28.0, \"log_firing_rate\": 2.315467324330311, \"Firing rate\": 209.38326867484005, \"firing_rate\": 209.38326867484005, \"i_spike\": 148.75, \"isi diff\": null, \"log_isi\": -1.630400248508701, \"isi\": 0.02347310442352954, \"Bayes condition CI0\": -0.9897582530975342, \"Bayes condition CI1\": -0.2847680449485779, \"Bayes condition mean\": -0.6001970767974854, \"zero\": 0}]}}, {\"mode\": \"vega-lite\"});\n",
       "</script>"
      ],
      "text/plain": [
       "alt.LayerChart(...)"
      ]
     },
     "execution_count": 9,
     "metadata": {},
     "output_type": "execute_result"
    }
   ],
   "source": [
    "(chart_d+chart_p).resolve_scale(y='independent')"
   ]
  },
  {
   "cell_type": "code",
   "execution_count": 10,
   "metadata": {},
   "outputs": [
    {
     "data": {
      "text/html": [
       "\n",
       "<div id=\"altair-viz-ba27a9422d5645a89002202b2c77d4bb\"></div>\n",
       "<script type=\"text/javascript\">\n",
       "  (function(spec, embedOpt){\n",
       "    let outputDiv = document.currentScript.previousElementSibling;\n",
       "    if (outputDiv.id !== \"altair-viz-ba27a9422d5645a89002202b2c77d4bb\") {\n",
       "      outputDiv = document.getElementById(\"altair-viz-ba27a9422d5645a89002202b2c77d4bb\");\n",
       "    }\n",
       "    const paths = {\n",
       "      \"vega\": \"https://cdn.jsdelivr.net/npm//vega@5?noext\",\n",
       "      \"vega-lib\": \"https://cdn.jsdelivr.net/npm//vega-lib?noext\",\n",
       "      \"vega-lite\": \"https://cdn.jsdelivr.net/npm//vega-lite@4.8.1?noext\",\n",
       "      \"vega-embed\": \"https://cdn.jsdelivr.net/npm//vega-embed@6?noext\",\n",
       "    };\n",
       "\n",
       "    function loadScript(lib) {\n",
       "      return new Promise(function(resolve, reject) {\n",
       "        var s = document.createElement('script');\n",
       "        s.src = paths[lib];\n",
       "        s.async = true;\n",
       "        s.onload = () => resolve(paths[lib]);\n",
       "        s.onerror = () => reject(`Error loading script: ${paths[lib]}`);\n",
       "        document.getElementsByTagName(\"head\")[0].appendChild(s);\n",
       "      });\n",
       "    }\n",
       "\n",
       "    function showError(err) {\n",
       "      outputDiv.innerHTML = `<div class=\"error\" style=\"color:red;\">${err}</div>`;\n",
       "      throw err;\n",
       "    }\n",
       "\n",
       "    function displayChart(vegaEmbed) {\n",
       "      vegaEmbed(outputDiv, spec, embedOpt)\n",
       "        .catch(err => showError(`Javascript Error: ${err.message}<br>This usually means there's a typo in your chart specification. See the javascript console for the full traceback.`));\n",
       "    }\n",
       "\n",
       "    if(typeof define === \"function\" && define.amd) {\n",
       "      requirejs.config({paths});\n",
       "      require([\"vega-embed\"], displayChart, err => showError(`Error loading script: ${err.message}`));\n",
       "    } else if (typeof vegaEmbed === \"function\") {\n",
       "      displayChart(vegaEmbed);\n",
       "    } else {\n",
       "      loadScript(\"vega\")\n",
       "        .then(() => loadScript(\"vega-lite\"))\n",
       "        .then(() => loadScript(\"vega-embed\"))\n",
       "        .catch(showError)\n",
       "        .then(() => displayChart(vegaEmbed));\n",
       "    }\n",
       "  })({\"config\": {\"view\": {\"continuousWidth\": 400, \"continuousHeight\": 300}}, \"data\": {\"name\": \"data-5c05b90e326cfacf57db2724e9150d16\"}, \"facet\": {\"column\": {\"type\": \"quantitative\", \"field\": \"neuron\"}}, \"spec\": {\"layer\": [{\"mark\": {\"type\": \"line\", \"fill\": null, \"opacity\": 0.5, \"size\": 3}, \"encoding\": {\"color\": {\"type\": \"nominal\", \"field\": \"mouse_code\"}, \"x\": {\"type\": \"ordinal\", \"field\": \"neuron\"}, \"y\": {\"type\": \"quantitative\", \"field\": \"isi diff\"}}}, {\"mark\": {\"type\": \"boxplot\", \"color\": \"black\", \"opacity\": 0.3, \"size\": 12}, \"encoding\": {\"x\": {\"type\": \"ordinal\", \"field\": \"neuron\"}, \"y\": {\"type\": \"quantitative\", \"field\": \"isi diff\"}}}, {\"layer\": [{\"mark\": {\"type\": \"line\", \"color\": \"black\", \"point\": true}, \"encoding\": {\"x\": {\"type\": \"ordinal\", \"field\": \"neuron\"}, \"y\": {\"type\": \"quantitative\", \"field\": \"Bayes condition mean\", \"impute\": {\"value\": \"value\"}}}}, {\"mark\": {\"type\": \"rule\", \"color\": \"black\", \"opacity\": 0.4, \"size\": 0.1}, \"encoding\": {\"y\": {\"type\": \"quantitative\", \"field\": \"zero\"}}}, {\"mark\": \"rule\", \"encoding\": {\"x\": {\"type\": \"ordinal\", \"field\": \"neuron\"}, \"y\": {\"type\": \"quantitative\", \"field\": \"Bayes condition CI0\", \"scale\": {\"domain\": [-0.9897582530975342, 0.9753347039222717], \"zero\": false}, \"title\": \"\\u0394 d_isi\"}, \"y2\": {\"field\": \"Bayes condition CI1\"}}}]}]}, \"$schema\": \"https://vega.github.io/schema/vega-lite/v4.8.1.json\", \"datasets\": {\"data-5c05b90e326cfacf57db2724e9150d16\": [{\"neuron\": 0.0, \"mouse_code\": 0.0, \"i_trial\": 0.0, \"neuron_code\": 0.0, \"log_firing_rate\": 0.08175831116053045, \"Firing rate\": 24.162822363745562, \"firing_rate\": 24.162822363745562, \"i_spike\": -1.0, \"isi diff\": 0.005333488031367531, \"log_isi\": 0.01928236208933165, \"isi\": null, \"Bayes condition CI0\": null, \"Bayes condition CI1\": null, \"Bayes condition mean\": null, \"zero\": 0}, {\"neuron\": 0.0, \"mouse_code\": 1.0, \"i_trial\": 0.0, \"neuron_code\": 0.0, \"log_firing_rate\": 0.3491976366125753, \"Firing rate\": 128.09348941854194, \"firing_rate\": 128.09348941854194, \"i_spike\": 6.75, \"isi diff\": -0.009257279534103546, \"log_isi\": -0.05684109463071274, \"isi\": null, \"Bayes condition CI0\": null, \"Bayes condition CI1\": null, \"Bayes condition mean\": null, \"zero\": 0}, {\"neuron\": 0.0, \"mouse_code\": 2.0, \"i_trial\": 0.0, \"neuron_code\": 0.0, \"log_firing_rate\": 0.07194144769445954, \"Firing rate\": 9.997974399448438, \"firing_rate\": 9.997974399448438, \"i_spike\": 0.25, \"isi diff\": -0.0013170676924276759, \"log_isi\": -0.004837122972787045, \"isi\": null, \"Bayes condition CI0\": null, \"Bayes condition CI1\": null, \"Bayes condition mean\": null, \"zero\": 0}, {\"neuron\": 0.0, \"mouse_code\": 3.0, \"i_trial\": 0.0, \"neuron_code\": 0.0, \"log_firing_rate\": -0.02417323019860973, \"Firing rate\": -80.2053140081305, \"firing_rate\": -80.2053140081305, \"i_spike\": 19.75, \"isi diff\": -0.035362158582553496, \"log_isi\": -0.1917997005921972, \"isi\": null, \"Bayes condition CI0\": null, \"Bayes condition CI1\": null, \"Bayes condition mean\": null, \"zero\": 0}, {\"neuron\": 1.0, \"mouse_code\": 0.0, \"i_trial\": 0.0, \"neuron_code\": 0.0, \"log_firing_rate\": 0.022247462451005395, \"Firing rate\": 8.8418883577788, \"firing_rate\": 8.8418883577788, \"i_spike\": 0.5, \"isi diff\": 0.0003326782583796123, \"log_isi\": -0.0058166982767347, \"isi\": null, \"Bayes condition CI0\": null, \"Bayes condition CI1\": null, \"Bayes condition mean\": null, \"zero\": 0}, {\"neuron\": 1.0, \"mouse_code\": 1.0, \"i_trial\": 0.0, \"neuron_code\": 0.0, \"log_firing_rate\": 0.07542892076865337, \"Firing rate\": 11.713258101483802, \"firing_rate\": 11.713258101483802, \"i_spike\": 11.0, \"isi diff\": -0.014441172734054084, \"log_isi\": -0.08827508785123905, \"isi\": null, \"Bayes condition CI0\": null, \"Bayes condition CI1\": null, \"Bayes condition mean\": null, \"zero\": 0}, {\"neuron\": 1.0, \"mouse_code\": 2.0, \"i_trial\": 0.0, \"neuron_code\": 0.0, \"log_firing_rate\": 0.12271037407042096, \"Firing rate\": 24.17882599837361, \"firing_rate\": 24.17882599837361, \"i_spike\": 9.5, \"isi diff\": -0.01227939122284924, \"log_isi\": -0.07616249965955801, \"isi\": null, \"Bayes condition CI0\": null, \"Bayes condition CI1\": null, \"Bayes condition mean\": null, \"zero\": 0}, {\"neuron\": 1.0, \"mouse_code\": 3.0, \"i_trial\": 0.0, \"neuron_code\": 0.0, \"log_firing_rate\": 0.208978521042535, \"Firing rate\": 74.73176991670368, \"firing_rate\": 74.73176991670368, \"i_spike\": 14.75, \"isi diff\": -0.01972687420146642, \"log_isi\": -0.12344131236903033, \"isi\": null, \"Bayes condition CI0\": null, \"Bayes condition CI1\": null, \"Bayes condition mean\": null, \"zero\": 0}, {\"neuron\": 2.0, \"mouse_code\": 0.0, \"i_trial\": 0.0, \"neuron_code\": 0.0, \"log_firing_rate\": 0.05310915025399421, \"Firing rate\": 14.977183699613363, \"firing_rate\": 14.977183699613363, \"i_spike\": 15.5, \"isi diff\": -0.015443182257833782, \"log_isi\": -0.11372126267978988, \"isi\": null, \"Bayes condition CI0\": null, \"Bayes condition CI1\": null, \"Bayes condition mean\": null, \"zero\": 0}, {\"neuron\": 2.0, \"mouse_code\": 1.0, \"i_trial\": 0.0, \"neuron_code\": 0.0, \"log_firing_rate\": 0.024439459453715617, \"Firing rate\": 17.26211093664827, \"firing_rate\": 17.26211093664827, \"i_spike\": 13.75, \"isi diff\": -0.013616138607691633, \"log_isi\": -0.10190533158156678, \"isi\": null, \"Bayes condition CI0\": null, \"Bayes condition CI1\": null, \"Bayes condition mean\": null, \"zero\": 0}, {\"neuron\": 2.0, \"mouse_code\": 2.0, \"i_trial\": 0.0, \"neuron_code\": 0.0, \"log_firing_rate\": 0.05922463546063694, \"Firing rate\": 17.22759144821515, \"firing_rate\": 17.22759144821515, \"i_spike\": 5.5, \"isi diff\": -0.003530003565599793, \"log_isi\": -0.03288156482981153, \"isi\": null, \"Bayes condition CI0\": null, \"Bayes condition CI1\": null, \"Bayes condition mean\": null, \"zero\": 0}, {\"neuron\": 2.0, \"mouse_code\": 3.0, \"i_trial\": 0.0, \"neuron_code\": 0.0, \"log_firing_rate\": 0.3182782419317456, \"Firing rate\": 80.65755215115689, \"firing_rate\": 80.65755215115689, \"i_spike\": 15.25, \"isi diff\": -0.012639489175504656, \"log_isi\": -0.09932190094709292, \"isi\": null, \"Bayes condition CI0\": null, \"Bayes condition CI1\": null, \"Bayes condition mean\": null, \"zero\": 0}, {\"neuron\": 3.0, \"mouse_code\": 0.0, \"i_trial\": 0.0, \"neuron_code\": 0.0, \"log_firing_rate\": -0.5367901614335007, \"Firing rate\": -214.42499582972346, \"firing_rate\": -214.42499582972346, \"i_spike\": -8.75, \"isi diff\": 0.006076444555395674, \"log_isi\": 0.047714774286459205, \"isi\": null, \"Bayes condition CI0\": null, \"Bayes condition CI1\": null, \"Bayes condition mean\": null, \"zero\": 0}, {\"neuron\": 3.0, \"mouse_code\": 1.0, \"i_trial\": 0.0, \"neuron_code\": 0.0, \"log_firing_rate\": 0.31275731299194875, \"Firing rate\": 212.54501189099, \"firing_rate\": 212.54501189099, \"i_spike\": -16.75, \"isi diff\": 0.010073377910648787, \"log_isi\": 0.0932903696675258, \"isi\": null, \"Bayes condition CI0\": null, \"Bayes condition CI1\": null, \"Bayes condition mean\": null, \"zero\": 0}, {\"neuron\": 3.0, \"mouse_code\": 2.0, \"i_trial\": 0.0, \"neuron_code\": 0.0, \"log_firing_rate\": 0.12362278131870985, \"Firing rate\": 52.35018130525049, \"firing_rate\": 52.35018130525049, \"i_spike\": 8.25, \"isi diff\": -0.0056695337962408, \"log_isi\": -0.0513151878128324, \"isi\": null, \"Bayes condition CI0\": null, \"Bayes condition CI1\": null, \"Bayes condition mean\": null, \"zero\": 0}, {\"neuron\": 3.0, \"mouse_code\": 3.0, \"i_trial\": 0.0, \"neuron_code\": 0.0, \"log_firing_rate\": 0.37142657533334633, \"Firing rate\": 129.71758390645664, \"firing_rate\": 129.71758390645664, \"i_spike\": 6.75, \"isi diff\": -0.0035631640611667598, \"log_isi\": -0.033881627321818986, \"isi\": null, \"Bayes condition CI0\": null, \"Bayes condition CI1\": null, \"Bayes condition mean\": null, \"zero\": 0}, {\"neuron\": 4.0, \"mouse_code\": 0.0, \"i_trial\": 0.0, \"neuron_code\": 0.0, \"log_firing_rate\": -0.05061066048773588, \"Firing rate\": -65.67219268360662, \"firing_rate\": -65.67219268360662, \"i_spike\": 9.25, \"isi diff\": -0.005336558813832375, \"log_isi\": -0.05172432519032344, \"isi\": null, \"Bayes condition CI0\": null, \"Bayes condition CI1\": null, \"Bayes condition mean\": null, \"zero\": 0}, {\"neuron\": 4.0, \"mouse_code\": 1.0, \"i_trial\": 0.0, \"neuron_code\": 0.0, \"log_firing_rate\": 0.06523473821734083, \"Firing rate\": 25.142593576487343, \"firing_rate\": 25.142593576487343, \"i_spike\": -7.25, \"isi diff\": 0.0034928235526134888, \"log_isi\": 0.03723956773525394, \"isi\": null, \"Bayes condition CI0\": null, \"Bayes condition CI1\": null, \"Bayes condition mean\": null, \"zero\": 0}, {\"neuron\": 4.0, \"mouse_code\": 2.0, \"i_trial\": 0.0, \"neuron_code\": 0.0, \"log_firing_rate\": -0.2295117732127805, \"Firing rate\": -111.46836632378964, \"firing_rate\": -111.46836632378964, \"i_spike\": 8.5, \"isi diff\": -0.0036353999338746834, \"log_isi\": -0.03983783104002869, \"isi\": null, \"Bayes condition CI0\": null, \"Bayes condition CI1\": null, \"Bayes condition mean\": null, \"zero\": 0}, {\"neuron\": 4.0, \"mouse_code\": 3.0, \"i_trial\": 0.0, \"neuron_code\": 0.0, \"log_firing_rate\": -0.43984282052483614, \"Firing rate\": -306.88131548515884, \"firing_rate\": -306.88131548515884, \"i_spike\": 14.5, \"isi diff\": -0.007222452849433278, \"log_isi\": -0.07530140892877868, \"isi\": null, \"Bayes condition CI0\": null, \"Bayes condition CI1\": null, \"Bayes condition mean\": null, \"zero\": 0}, {\"neuron\": 5.0, \"mouse_code\": 0.0, \"i_trial\": 0.0, \"neuron_code\": 0.0, \"log_firing_rate\": 0.09279470081950336, \"Firing rate\": 36.9573346132548, \"firing_rate\": 36.9573346132548, \"i_spike\": -0.25, \"isi diff\": 0.00017525774219375595, \"log_isi\": 0.0019322798706893352, \"isi\": null, \"Bayes condition CI0\": null, \"Bayes condition CI1\": null, \"Bayes condition mean\": null, \"zero\": 0}, {\"neuron\": 5.0, \"mouse_code\": 1.0, \"i_trial\": 0.0, \"neuron_code\": 0.0, \"log_firing_rate\": 0.44083686535411726, \"Firing rate\": 286.13430969711806, \"firing_rate\": 286.13430969711806, \"i_spike\": -12.5, \"isi diff\": 0.004440190085635218, \"log_isi\": 0.054691496820493235, \"isi\": null, \"Bayes condition CI0\": null, \"Bayes condition CI1\": null, \"Bayes condition mean\": null, \"zero\": 0}, {\"neuron\": 5.0, \"mouse_code\": 2.0, \"i_trial\": 0.0, \"neuron_code\": 0.0, \"log_firing_rate\": -0.24462184472271442, \"Firing rate\": -119.25694223971485, \"firing_rate\": -119.25694223971485, \"i_spike\": -4.25, \"isi diff\": 0.0007049213023499479, \"log_isi\": 0.009448182679001604, \"isi\": null, \"Bayes condition CI0\": null, \"Bayes condition CI1\": null, \"Bayes condition mean\": null, \"zero\": 0}, {\"neuron\": 5.0, \"mouse_code\": 3.0, \"i_trial\": 0.0, \"neuron_code\": 0.0, \"log_firing_rate\": -0.2826015633735466, \"Firing rate\": -103.9609456384294, \"firing_rate\": -103.9609456384294, \"i_spike\": 9.0, \"isi diff\": -0.0032227888676268357, \"log_isi\": -0.040995881715003346, \"isi\": null, \"Bayes condition CI0\": null, \"Bayes condition CI1\": null, \"Bayes condition mean\": null, \"zero\": 0}, {\"neuron\": 6.0, \"mouse_code\": 0.0, \"i_trial\": 0.0, \"neuron_code\": 0.0, \"log_firing_rate\": 0.2297358150165234, \"Firing rate\": 395.7230602104188, \"firing_rate\": 395.7230602104188, \"i_spike\": 10.0, \"isi diff\": -0.002250916453380193, \"log_isi\": -0.03514710275754829, \"isi\": null, \"Bayes condition CI0\": null, \"Bayes condition CI1\": null, \"Bayes condition mean\": null, \"zero\": 0}, {\"neuron\": 6.0, \"mouse_code\": 1.0, \"i_trial\": 0.0, \"neuron_code\": 0.0, \"log_firing_rate\": -0.2885291701886219, \"Firing rate\": -188.85553720857357, \"firing_rate\": -188.85553720857357, \"i_spike\": 11.0, \"isi diff\": -0.0025144454288790787, \"log_isi\": -0.03957689807136355, \"isi\": null, \"Bayes condition CI0\": null, \"Bayes condition CI1\": null, \"Bayes condition mean\": null, \"zero\": 0}, {\"neuron\": 6.0, \"mouse_code\": 2.0, \"i_trial\": 0.0, \"neuron_code\": 0.0, \"log_firing_rate\": -0.4324330043217879, \"Firing rate\": -426.5546942305821, \"firing_rate\": -426.5546942305821, \"i_spike\": -0.25, \"isi diff\": 0.00023735635655105364, \"log_isi\": 0.0037251791640893206, \"isi\": null, \"Bayes condition CI0\": null, \"Bayes condition CI1\": null, \"Bayes condition mean\": null, \"zero\": 0}, {\"neuron\": 6.0, \"mouse_code\": 3.0, \"i_trial\": 0.0, \"neuron_code\": 0.0, \"log_firing_rate\": -0.49419417430334533, \"Firing rate\": -1655.4102592729137, \"firing_rate\": -1655.4102592729137, \"i_spike\": -0.75, \"isi diff\": -0.0003408335054564844, \"log_isi\": -0.00526888652323132, \"isi\": null, \"Bayes condition CI0\": null, \"Bayes condition CI1\": null, \"Bayes condition mean\": null, \"zero\": 0}, {\"neuron\": 7.0, \"mouse_code\": 0.0, \"i_trial\": 0.0, \"neuron_code\": 0.0, \"log_firing_rate\": 0.19394368721538324, \"Firing rate\": 149.68068087173782, \"firing_rate\": 149.68068087173782, \"i_spike\": 0.0, \"isi diff\": -4.151942390358959e-05, \"log_isi\": -0.00026334121975235547, \"isi\": null, \"Bayes condition CI0\": null, \"Bayes condition CI1\": null, \"Bayes condition mean\": null, \"zero\": 0}, {\"neuron\": 7.0, \"mouse_code\": 1.0, \"i_trial\": 0.0, \"neuron_code\": 0.0, \"log_firing_rate\": 0.17871302726520888, \"Firing rate\": 206.7111203951439, \"firing_rate\": 206.7111203951439, \"i_spike\": -8.5, \"isi diff\": 0.0012341056651850556, \"log_isi\": 0.023711324791155564, \"isi\": null, \"Bayes condition CI0\": null, \"Bayes condition CI1\": null, \"Bayes condition mean\": null, \"zero\": 0}, {\"neuron\": 7.0, \"mouse_code\": 2.0, \"i_trial\": 0.0, \"neuron_code\": 0.0, \"log_firing_rate\": 0.035634224200403075, \"Firing rate\": 22.9412920575557, \"firing_rate\": 22.9412920575557, \"i_spike\": -3.0, \"isi diff\": 0.0003877166336507601, \"log_isi\": 0.007135325008329918, \"isi\": null, \"Bayes condition CI0\": null, \"Bayes condition CI1\": null, \"Bayes condition mean\": null, \"zero\": 0}, {\"neuron\": 7.0, \"mouse_code\": 3.0, \"i_trial\": 0.0, \"neuron_code\": 0.0, \"log_firing_rate\": 0.1773344524691356, \"Firing rate\": 1021.9254644474127, \"firing_rate\": 1021.9254644474127, \"i_spike\": -2.5, \"isi diff\": 0.0006295686097311445, \"log_isi\": 0.010360456919775052, \"isi\": null, \"Bayes condition CI0\": null, \"Bayes condition CI1\": null, \"Bayes condition mean\": null, \"zero\": 0}, {\"neuron\": 0.0, \"mouse_code\": null, \"i_trial\": 0.5, \"neuron_code\": 0.0, \"log_firing_rate\": 1.7468498592189439, \"Firing rate\": 56.368050970111995, \"firing_rate\": 56.368050970111995, \"i_spike\": 48.25, \"isi diff\": null, \"log_isi\": -1.1400699925322657, \"isi\": 0.07262946755236663, \"Bayes condition CI0\": 0.26927438378334045, \"Bayes condition CI1\": 0.9753347039222717, \"Bayes condition mean\": 0.6069545149803162, \"zero\": 0}, {\"neuron\": 1.0, \"mouse_code\": null, \"i_trial\": 0.5, \"neuron_code\": 4.0, \"log_firing_rate\": 1.894791887241596, \"Firing rate\": 78.52966187204242, \"firing_rate\": 78.52966187204242, \"i_spike\": 49.25, \"isi diff\": null, \"log_isi\": -1.14658528441703, \"isi\": 0.07137485900979156, \"Bayes condition CI0\": 0.19578854739665985, \"Bayes condition CI1\": 0.8478949069976807, \"Bayes condition mean\": 0.47950857877731323, \"zero\": 0}, {\"neuron\": 2.0, \"mouse_code\": null, \"i_trial\": 0.5, \"neuron_code\": 8.0, \"log_firing_rate\": 1.9135006067603855, \"Firing rate\": 83.05785319952145, \"firing_rate\": 83.05785319952145, \"i_spike\": 51.0, \"isi diff\": null, \"log_isi\": -1.168923214377409, \"isi\": 0.06786311962001076, \"Bayes condition CI0\": -0.19594836235046387, \"Bayes condition CI1\": 0.3969714343547821, \"Bayes condition mean\": 0.1276327669620514, \"zero\": 0}, {\"neuron\": 3.0, \"mouse_code\": null, \"i_trial\": 0.5, \"neuron_code\": 12.0, \"log_firing_rate\": 2.4225751214463855, \"Firing rate\": 295.81766398726444, \"firing_rate\": 295.81766398726444, \"i_spike\": 68.0, \"isi diff\": null, \"log_isi\": -1.291613921838986, \"isi\": 0.051187407568796875, \"Bayes condition CI0\": -0.2290336936712265, \"Bayes condition CI1\": 0.339125394821167, \"Bayes condition mean\": 0.06338406354188919, \"zero\": 0}, {\"neuron\": 4.0, \"mouse_code\": null, \"i_trial\": 0.5, \"neuron_code\": 16.0, \"log_firing_rate\": 2.253361676859367, \"Firing rate\": 225.88787948232934, \"firing_rate\": 225.88787948232934, \"i_spike\": 73.25, \"isi diff\": null, \"log_isi\": -1.3238921034522224, \"isi\": 0.047503039787661204, \"Bayes condition CI0\": -0.4431520402431488, \"Bayes condition CI1\": 0.1309346705675125, \"Bayes condition mean\": -0.1808752864599228, \"zero\": 0}, {\"neuron\": 5.0, \"mouse_code\": null, \"i_trial\": 0.5, \"neuron_code\": 20.0, \"log_firing_rate\": 2.3213343968365043, \"Firing rate\": 251.89804305693045, \"firing_rate\": 251.89804305693045, \"i_spike\": 100.75, \"isi diff\": null, \"log_isi\": -1.4603657499155598, \"isi\": 0.034646037540839524, \"Bayes condition CI0\": -0.6351549625396729, \"Bayes condition CI1\": -0.010668552480638027, \"Bayes condition mean\": -0.3539813160896301, \"zero\": 0}, {\"neuron\": 6.0, \"mouse_code\": null, \"i_trial\": 0.5, \"neuron_code\": 24.0, \"log_firing_rate\": 2.4210369632413267, \"Firing rate\": 263.9348889789852, \"firing_rate\": 263.9348889789852, \"i_spike\": 117.25, \"isi diff\": null, \"log_isi\": -1.5270116382053591, \"isi\": 0.029727495306198067, \"Bayes condition CI0\": -0.8086197376251221, \"Bayes condition CI1\": -0.17192186415195465, \"Bayes condition mean\": -0.5234295129776001, \"zero\": 0}, {\"neuron\": 7.0, \"mouse_code\": null, \"i_trial\": 0.5, \"neuron_code\": 28.0, \"log_firing_rate\": 2.315467324330311, \"Firing rate\": 209.38326867484005, \"firing_rate\": 209.38326867484005, \"i_spike\": 148.75, \"isi diff\": null, \"log_isi\": -1.630400248508701, \"isi\": 0.02347310442352954, \"Bayes condition CI0\": -0.9897582530975342, \"Bayes condition CI1\": -0.2847680449485779, \"Bayes condition mean\": -0.6001970767974854, \"zero\": 0}]}}, {\"mode\": \"vega-lite\"});\n",
       "</script>"
      ],
      "text/plain": [
       "alt.FacetChart(...)"
      ]
     },
     "execution_count": 10,
     "metadata": {},
     "output_type": "execute_result"
    }
   ],
   "source": [
    "(chart_d+chart_p).facet(column='neuron')"
   ]
  }
 ],
 "metadata": {
  "kernelspec": {
   "display_name": "PyCharm (jup)",
   "language": "python",
   "name": "pycharm-d5912792"
  },
  "language_info": {
   "codemirror_mode": {
    "name": "ipython",
    "version": 3
   },
   "file_extension": ".py",
   "mimetype": "text/x-python",
   "name": "python",
   "nbconvert_exporter": "python",
   "pygments_lexer": "ipython3",
   "version": "3.8.5"
  }
 },
 "nbformat": 4,
 "nbformat_minor": 4
}