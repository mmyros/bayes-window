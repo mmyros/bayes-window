{
 "cells": [
  {
   "cell_type": "markdown",
   "metadata": {},
   "source": [
    "# Prepare"
   ]
  },
  {
   "cell_type": "code",
   "execution_count": 1,
   "metadata": {},
   "outputs": [],
   "source": [
    "#!pip install -e ..\n",
    "from altair.vegalite.v4.api import FacetChart, Chart, LayerChart\n",
    "from sklearn.preprocessing import LabelEncoder\n",
    "import bulwark.checks as ck\n",
    "from bayes_window.generative_models import generate_fake_spikes\n",
    "from bayes_window.visualization import fake_spikes_explore, plot_data_and_posterior\n",
    "from bayes_window import models\n",
    "from bayes_window.fitting import fit_numpyro\n",
    "from bayes_window.utils import add_data_to_posterior\n",
    "\n",
    "trans = LabelEncoder().fit_transform\n",
    "\n"
   ]
  },
  {
   "cell_type": "markdown",
   "metadata": {},
   "source": [
    "# Make some data\n"
   ]
  },
  {
   "cell_type": "code",
   "execution_count": 2,
   "metadata": {},
   "outputs": [],
   "source": [
    "df, df_monster, index_cols, firing_rates = generate_fake_spikes(n_trials=2,\n",
    "                                                                n_neurons=8,\n",
    "                                                                n_mice=4,\n",
    "                                                                dur=7, )"
   ]
  },
  {
   "cell_type": "code",
   "execution_count": 3,
   "metadata": {},
   "outputs": [],
   "source": [
    "import numpy as np\n",
    "df['log_isi']=np.log10(df['isi'])"
   ]
  },
  {
   "cell_type": "code",
   "execution_count": 14,
   "metadata": {
    "scrolled": false
   },
   "outputs": [
    {
     "data": {
      "text/html": [
       "\n",
       "<div id=\"altair-viz-aa6d9829a5a5492dac9e8b30575f3c5a\"></div>\n",
       "<script type=\"text/javascript\">\n",
       "  (function(spec, embedOpt){\n",
       "    let outputDiv = document.currentScript.previousElementSibling;\n",
       "    if (outputDiv.id !== \"altair-viz-aa6d9829a5a5492dac9e8b30575f3c5a\") {\n",
       "      outputDiv = document.getElementById(\"altair-viz-aa6d9829a5a5492dac9e8b30575f3c5a\");\n",
       "    }\n",
       "    const paths = {\n",
       "      \"vega\": \"https://cdn.jsdelivr.net/npm//vega@5?noext\",\n",
       "      \"vega-lib\": \"https://cdn.jsdelivr.net/npm//vega-lib?noext\",\n",
       "      \"vega-lite\": \"https://cdn.jsdelivr.net/npm//vega-lite@4.8.1?noext\",\n",
       "      \"vega-embed\": \"https://cdn.jsdelivr.net/npm//vega-embed@6?noext\",\n",
       "    };\n",
       "\n",
       "    function loadScript(lib) {\n",
       "      return new Promise(function(resolve, reject) {\n",
       "        var s = document.createElement('script');\n",
       "        s.src = paths[lib];\n",
       "        s.async = true;\n",
       "        s.onload = () => resolve(paths[lib]);\n",
       "        s.onerror = () => reject(`Error loading script: ${paths[lib]}`);\n",
       "        document.getElementsByTagName(\"head\")[0].appendChild(s);\n",
       "      });\n",
       "    }\n",
       "\n",
       "    function showError(err) {\n",
       "      outputDiv.innerHTML = `<div class=\"error\" style=\"color:red;\">${err}</div>`;\n",
       "      throw err;\n",
       "    }\n",
       "\n",
       "    function displayChart(vegaEmbed) {\n",
       "      vegaEmbed(outputDiv, spec, embedOpt)\n",
       "        .catch(err => showError(`Javascript Error: ${err.message}<br>This usually means there's a typo in your chart specification. See the javascript console for the full traceback.`));\n",
       "    }\n",
       "\n",
       "    if(typeof define === \"function\" && define.amd) {\n",
       "      requirejs.config({paths});\n",
       "      require([\"vega-embed\"], displayChart, err => showError(`Error loading script: ${err.message}`));\n",
       "    } else if (typeof vegaEmbed === \"function\") {\n",
       "      displayChart(vegaEmbed);\n",
       "    } else {\n",
       "      loadScript(\"vega\")\n",
       "        .then(() => loadScript(\"vega-lite\"))\n",
       "        .then(() => loadScript(\"vega-embed\"))\n",
       "        .catch(showError)\n",
       "        .then(() => displayChart(vegaEmbed));\n",
       "    }\n",
       "  })({\"config\": {\"view\": {\"continuousWidth\": 400, \"continuousHeight\": 300}}, \"layer\": [{\"mark\": {\"type\": \"line\", \"fill\": null, \"opacity\": 0.5, \"size\": 3}, \"encoding\": {\"color\": {\"type\": \"nominal\", \"field\": \"mouse_code\"}, \"x\": {\"type\": \"ordinal\", \"field\": \"neuron\"}, \"y\": {\"type\": \"quantitative\", \"field\": \"log_isi diff\"}}}, {\"mark\": {\"type\": \"boxplot\", \"color\": \"black\", \"opacity\": 0.3, \"size\": 12}, \"encoding\": {\"x\": {\"type\": \"ordinal\", \"field\": \"neuron\"}, \"y\": {\"type\": \"quantitative\", \"field\": \"log_isi diff\"}}}], \"data\": {\"name\": \"data-b72f8021a0916639de143d70c34fed15\"}, \"$schema\": \"https://vega.github.io/schema/vega-lite/v4.8.1.json\", \"datasets\": {\"data-b72f8021a0916639de143d70c34fed15\": [{\"neuron\": 0, \"mouse_code\": 0, \"i_trial\": 0.0, \"neuron_code\": 0.0, \"log_firing_rate\": 0.4591694145684646, \"Firing rate\": 60.83966939686141, \"firing_rate\": 60.83966939686141, \"i_spike\": 14.75, \"isi\": -0.03142664673311624, \"log_isi diff\": -0.15749298720497895}, {\"neuron\": 1, \"mouse_code\": 0, \"i_trial\": 0.0, \"neuron_code\": 0.0, \"log_firing_rate\": -0.2590500125745612, \"Firing rate\": -55.75072975581223, \"firing_rate\": -55.75072975581223, \"i_spike\": 3.25, \"isi\": -0.004326185248574511, \"log_isi diff\": -0.0291250048513505}, {\"neuron\": 2, \"mouse_code\": 0, \"i_trial\": 0.0, \"neuron_code\": 0.0, \"log_firing_rate\": 0.2564104180699194, \"Firing rate\": 100.0490117694261, \"firing_rate\": 100.0490117694261, \"i_spike\": -3.5, \"isi\": 0.004482514200036571, \"log_isi diff\": 0.02789253226423205}, {\"neuron\": 3, \"mouse_code\": 0, \"i_trial\": 0.0, \"neuron_code\": 0.0, \"log_firing_rate\": -0.2232113750067639, \"Firing rate\": -62.48004608077255, \"firing_rate\": -62.48004608077255, \"i_spike\": -6.0, \"isi\": 0.003799814407936697, \"log_isi diff\": 0.03134628811747908}, {\"neuron\": 4, \"mouse_code\": 0, \"i_trial\": 0.0, \"neuron_code\": 0.0, \"log_firing_rate\": 0.27219892131005263, \"Firing rate\": 97.76996258303564, \"firing_rate\": 97.76996258303564, \"i_spike\": 1.0, \"isi\": -0.0008041539693108696, \"log_isi diff\": -0.0064275232190058595}, {\"neuron\": 5, \"mouse_code\": 0, \"i_trial\": 0.0, \"neuron_code\": 0.0, \"log_firing_rate\": -0.09824592990646597, \"Firing rate\": -34.186135625880155, \"firing_rate\": -34.186135625880155, \"i_spike\": -2.25, \"isi\": 0.000572163911513407, \"log_isi diff\": 0.00876120897796917}, {\"neuron\": 6, \"mouse_code\": 0, \"i_trial\": 0.0, \"neuron_code\": 0.0, \"log_firing_rate\": -0.036796979823730425, \"Firing rate\": -15.849187161054715, \"firing_rate\": -15.849187161054715, \"i_spike\": 14.25, \"isi\": -0.0036956769721671195, \"log_isi diff\": -0.05431999501994156}, {\"neuron\": 7, \"mouse_code\": 0, \"i_trial\": 0.0, \"neuron_code\": 0.0, \"log_firing_rate\": 0.030781442673174286, \"Firing rate\": 9.672621347696293, \"firing_rate\": 9.672621347696293, \"i_spike\": 6.5, \"isi\": -0.0008769537165367949, \"log_isi diff\": -0.017045233527543058}, {\"neuron\": 0, \"mouse_code\": 1, \"i_trial\": 0.0, \"neuron_code\": 0.0, \"log_firing_rate\": 0.7780389794078033, \"Firing rate\": 527.0298116113524, \"firing_rate\": 527.0298116113524, \"i_spike\": 10.75, \"isi\": -0.02555206755676194, \"log_isi diff\": -0.1313879743403219}, {\"neuron\": 1, \"mouse_code\": 1, \"i_trial\": 0.0, \"neuron_code\": 0.0, \"log_firing_rate\": 0.2906725610137746, \"Firing rate\": 229.3540705752409, \"firing_rate\": 229.3540705752409, \"i_spike\": 3.75, \"isi\": -0.005360508821762533, \"log_isi diff\": -0.033939708777328104}, {\"neuron\": 2, \"mouse_code\": 1, \"i_trial\": 0.0, \"neuron_code\": 0.0, \"log_firing_rate\": 0.019561323227758276, \"Firing rate\": 5.8273272424833635, \"firing_rate\": 5.8273272424833635, \"i_spike\": -3.0, \"isi\": 0.0034867244206908538, \"log_isi diff\": 0.023787961883624753}, {\"neuron\": 3, \"mouse_code\": 1, \"i_trial\": 0.0, \"neuron_code\": 0.0, \"log_firing_rate\": -0.2531795167430899, \"Firing rate\": -96.29266019117813, \"firing_rate\": -96.29266019117813, \"i_spike\": 10.5, \"isi\": -0.008076788399791715, \"log_isi diff\": -0.06985488911311366}, {\"neuron\": 4, \"mouse_code\": 1, \"i_trial\": 0.0, \"neuron_code\": 0.0, \"log_firing_rate\": -0.4807720206044124, \"Firing rate\": -589.1840533100158, \"firing_rate\": -589.1840533100158, \"i_spike\": 3.5, \"isi\": -0.0020312438258357074, \"log_isi diff\": -0.02265228297417643}, {\"neuron\": 5, \"mouse_code\": 1, \"i_trial\": 0.0, \"neuron_code\": 0.0, \"log_firing_rate\": 0.08173195455544491, \"Firing rate\": 27.776900033099082, \"firing_rate\": 27.776900033099082, \"i_spike\": 14.0, \"isi\": -0.005156413844235347, \"log_isi diff\": -0.06341887629772813}, {\"neuron\": 6, \"mouse_code\": 1, \"i_trial\": 0.0, \"neuron_code\": 0.0, \"log_firing_rate\": 0.41776343881211053, \"Firing rate\": 252.3768961657487, \"firing_rate\": 252.3768961657487, \"i_spike\": 13.5, \"isi\": -0.003408232087472419, \"log_isi diff\": -0.05036914205889165}, {\"neuron\": 7, \"mouse_code\": 1, \"i_trial\": 0.0, \"neuron_code\": 0.0, \"log_firing_rate\": 0.1451339969979082, \"Firing rate\": 138.45717215030817, \"firing_rate\": 138.45717215030817, \"i_spike\": 1.0, \"isi\": -0.00031306555455067053, \"log_isi diff\": -0.004090011500892832}, {\"neuron\": 0, \"mouse_code\": 2, \"i_trial\": 0.0, \"neuron_code\": 0.0, \"log_firing_rate\": -0.07206010666540363, \"Firing rate\": -102.00735860913971, \"firing_rate\": -102.00735860913971, \"i_spike\": 0.75, \"isi\": 0.0017677845236248324, \"log_isi diff\": 0.012775824934672997}, {\"neuron\": 1, \"mouse_code\": 2, \"i_trial\": 0.0, \"neuron_code\": 0.0, \"log_firing_rate\": -0.03140547296819496, \"Firing rate\": -4.297252905678107, \"firing_rate\": -4.297252905678107, \"i_spike\": 20.0, \"isi\": -0.021565586127732378, \"log_isi diff\": -0.15621824106559679}, {\"neuron\": 2, \"mouse_code\": 2, \"i_trial\": 0.0, \"neuron_code\": 0.0, \"log_firing_rate\": -0.011514598324390724, \"Firing rate\": 1.4627775605128477, \"firing_rate\": 1.4627775605128477, \"i_spike\": 7.0, \"isi\": -0.006310847611454798, \"log_isi diff\": -0.04778617695653131}, {\"neuron\": 3, \"mouse_code\": 2, \"i_trial\": 0.0, \"neuron_code\": 0.0, \"log_firing_rate\": 0.20048587482189806, \"Firing rate\": 52.55751420460933, \"firing_rate\": 52.55751420460933, \"i_spike\": 10.5, \"isi\": -0.008071666490593682, \"log_isi diff\": -0.06754239353041624}, {\"neuron\": 4, \"mouse_code\": 2, \"i_trial\": 0.0, \"neuron_code\": 0.0, \"log_firing_rate\": -0.2034352665459238, \"Firing rate\": -83.22486993211817, \"firing_rate\": -83.22486993211817, \"i_spike\": 0.25, \"isi\": -0.00036157591134780565, \"log_isi diff\": -0.002704167096466037}, {\"neuron\": 5, \"mouse_code\": 2, \"i_trial\": 0.0, \"neuron_code\": 0.0, \"log_firing_rate\": 0.2766915557198111, \"Firing rate\": 178.43049740099735, \"firing_rate\": 178.43049740099735, \"i_spike\": -4.75, \"isi\": 0.001608884117821105, \"log_isi diff\": 0.020632994967715312}, {\"neuron\": 6, \"mouse_code\": 2, \"i_trial\": 0.0, \"neuron_code\": 0.0, \"log_firing_rate\": -0.06802402487459958, \"Firing rate\": -35.361275020342305, \"firing_rate\": -35.361275020342305, \"i_spike\": -0.75, \"isi\": 0.00048688843838366747, \"log_isi diff\": 0.005050745633947251}, {\"neuron\": 7, \"mouse_code\": 2, \"i_trial\": 0.0, \"neuron_code\": 0.0, \"log_firing_rate\": 0.03520988556047033, \"Firing rate\": 4.5765145287764994, \"firing_rate\": 4.5765145287764994, \"i_spike\": 3.0, \"isi\": -0.000501861242291575, \"log_isi diff\": -0.008877062670344937}, {\"neuron\": 0, \"mouse_code\": 3, \"i_trial\": 0.0, \"neuron_code\": 0.0, \"log_firing_rate\": -0.041762117252996056, \"Firing rate\": -67.37049756493823, \"firing_rate\": -67.37049756493823, \"i_spike\": 17.5, \"isi\": -0.035377746445885136, \"log_isi diff\": -0.18411605752189875}, {\"neuron\": 1, \"mouse_code\": 3, \"i_trial\": 0.0, \"neuron_code\": 0.0, \"log_firing_rate\": 0.12904354348257607, \"Firing rate\": 24.563913361102422, \"firing_rate\": 24.563913361102422, \"i_spike\": 21.75, \"isi\": -0.03206393308489891, \"log_isi diff\": -0.19424703037326485}, {\"neuron\": 2, \"mouse_code\": 3, \"i_trial\": 0.0, \"neuron_code\": 0.0, \"log_firing_rate\": 0.033619888282888866, \"Firing rate\": 12.294376300686665, \"firing_rate\": 12.294376300686665, \"i_spike\": 12.0, \"isi\": -0.01429186533707432, \"log_isi diff\": -0.09621721319442877}, {\"neuron\": 3, \"mouse_code\": 3, \"i_trial\": 0.0, \"neuron_code\": 0.0, \"log_firing_rate\": 0.15321255288255564, \"Firing rate\": 71.61755352807214, \"firing_rate\": 71.61755352807214, \"i_spike\": 17.25, \"isi\": -0.012723407456189648, \"log_isi diff\": -0.11494553542264985}, {\"neuron\": 4, \"mouse_code\": 3, \"i_trial\": 0.0, \"neuron_code\": 0.0, \"log_firing_rate\": 0.558775213462811, \"Firing rate\": 206.04101846235073, \"firing_rate\": 206.04101846235073, \"i_spike\": 25.75, \"isi\": -0.013121123530056844, \"log_isi diff\": -0.1356226908029503}, {\"neuron\": 5, \"mouse_code\": 3, \"i_trial\": 0.0, \"neuron_code\": 0.0, \"log_firing_rate\": 0.02107830315872672, \"Firing rate\": 9.204003177025243, \"firing_rate\": 9.204003177025243, \"i_spike\": 22.0, \"isi\": -0.007562983699542961, \"log_isi diff\": -0.09502869280094073}, {\"neuron\": 6, \"mouse_code\": 3, \"i_trial\": 0.0, \"neuron_code\": 0.0, \"log_firing_rate\": 0.08844313862431719, \"Firing rate\": 31.462952338192594, \"firing_rate\": 31.462952338192594, \"i_spike\": 6.75, \"isi\": -0.0012369776693829104, \"log_isi diff\": -0.020404685754424445}, {\"neuron\": 7, \"mouse_code\": 3, \"i_trial\": 0.0, \"neuron_code\": 0.0, \"log_firing_rate\": -0.012387907577696033, \"Firing rate\": -59.000648710051564, \"firing_rate\": -59.000648710051564, \"i_spike\": 9.5, \"isi\": -0.0013349594650334529, \"log_isi diff\": -0.02526019035109961}]}}, {\"mode\": \"vega-lite\"});\n",
       "</script>"
      ],
      "text/plain": [
       "alt.LayerChart(...)"
      ]
     },
     "execution_count": 14,
     "metadata": {},
     "output_type": "execute_result"
    }
   ],
   "source": [
    "import altair as alt\n",
    "from bayes_window import visualization,utils\n",
    "from importlib import reload\n",
    "reload(visualization)\n",
    "reload(utils)\n",
    "y='log_isi'\n",
    "df['neuron']=df['neuron'].astype(int)\n",
    "ddf, dy = utils.make_fold_change(df,\n",
    "                         y=y,\n",
    "                         index_cols=('stim', 'mouse_code', 'neuron'),\n",
    "                         condition_name='stim',\n",
    "                         do_take_mean=True)\n",
    "\n",
    "visualization.plot_data(ddf, x='neuron',y=dy, color='mouse_code',add_box=True, )"
   ]
  },
  {
   "cell_type": "markdown",
   "metadata": {},
   "source": [
    "# Estimate model"
   ]
  },
  {
   "cell_type": "code",
   "execution_count": 15,
   "metadata": {},
   "outputs": [
    {
     "name": "stderr",
     "output_type": "stream",
     "text": [
      "sample: 100%|██████████| 1100/1100 [00:06<00:00, 173.39it/s, 31 steps of size 1.87e-01. acc. prob=0.90]\n"
     ]
    },
    {
     "name": "stdout",
     "output_type": "stream",
     "text": [
      "n(Divergences) = 0\n"
     ]
    }
   ],
   "source": [
    "#y = list(set(df.columns) - set(index_cols))[0]\n",
    "trace = fit_numpyro(y=df[y].values,\n",
    "                    stim_on=(df['stim']).astype(int).values,\n",
    "                    treat=trans(df['neuron']),\n",
    "                    subject=trans(df['mouse']),\n",
    "                    progress_bar=True,\n",
    "                    model=models.model_hier_normal_stim,\n",
    "                    n_draws=100, num_chains=1, )"
   ]
  },
  {
   "cell_type": "markdown",
   "metadata": {},
   "source": [
    "# Add data back"
   ]
  },
  {
   "cell_type": "code",
   "execution_count": 6,
   "metadata": {},
   "outputs": [],
   "source": [
    "reload(utils)\n",
    "df_both = utils.add_data_to_posterior(df,\n",
    "                                trace=trace,\n",
    "                                y=y,\n",
    "                                index_cols=['neuron', 'stim', 'mouse_code', ],\n",
    "                                condition_name='stim',\n",
    "                                b_name='b_stim_per_condition',  # for posterior\n",
    "                                group_name='neuron'  # for posterior\n",
    "                                )"
   ]
  },
  {
   "cell_type": "markdown",
   "metadata": {},
   "source": [
    "# Plot data and posterior"
   ]
  },
  {
   "cell_type": "code",
   "execution_count": 7,
   "metadata": {},
   "outputs": [
    {
     "data": {
      "text/html": [
       "\n",
       "<div id=\"altair-viz-64d45f4952544aeaa56ba3254856dedb\"></div>\n",
       "<script type=\"text/javascript\">\n",
       "  (function(spec, embedOpt){\n",
       "    let outputDiv = document.currentScript.previousElementSibling;\n",
       "    if (outputDiv.id !== \"altair-viz-64d45f4952544aeaa56ba3254856dedb\") {\n",
       "      outputDiv = document.getElementById(\"altair-viz-64d45f4952544aeaa56ba3254856dedb\");\n",
       "    }\n",
       "    const paths = {\n",
       "      \"vega\": \"https://cdn.jsdelivr.net/npm//vega@5?noext\",\n",
       "      \"vega-lib\": \"https://cdn.jsdelivr.net/npm//vega-lib?noext\",\n",
       "      \"vega-lite\": \"https://cdn.jsdelivr.net/npm//vega-lite@4.8.1?noext\",\n",
       "      \"vega-embed\": \"https://cdn.jsdelivr.net/npm//vega-embed@6?noext\",\n",
       "    };\n",
       "\n",
       "    function loadScript(lib) {\n",
       "      return new Promise(function(resolve, reject) {\n",
       "        var s = document.createElement('script');\n",
       "        s.src = paths[lib];\n",
       "        s.async = true;\n",
       "        s.onload = () => resolve(paths[lib]);\n",
       "        s.onerror = () => reject(`Error loading script: ${paths[lib]}`);\n",
       "        document.getElementsByTagName(\"head\")[0].appendChild(s);\n",
       "      });\n",
       "    }\n",
       "\n",
       "    function showError(err) {\n",
       "      outputDiv.innerHTML = `<div class=\"error\" style=\"color:red;\">${err}</div>`;\n",
       "      throw err;\n",
       "    }\n",
       "\n",
       "    function displayChart(vegaEmbed) {\n",
       "      vegaEmbed(outputDiv, spec, embedOpt)\n",
       "        .catch(err => showError(`Javascript Error: ${err.message}<br>This usually means there's a typo in your chart specification. See the javascript console for the full traceback.`));\n",
       "    }\n",
       "\n",
       "    if(typeof define === \"function\" && define.amd) {\n",
       "      requirejs.config({paths});\n",
       "      require([\"vega-embed\"], displayChart, err => showError(`Error loading script: ${err.message}`));\n",
       "    } else if (typeof vegaEmbed === \"function\") {\n",
       "      displayChart(vegaEmbed);\n",
       "    } else {\n",
       "      loadScript(\"vega\")\n",
       "        .then(() => loadScript(\"vega-lite\"))\n",
       "        .then(() => loadScript(\"vega-embed\"))\n",
       "        .catch(showError)\n",
       "        .then(() => displayChart(vegaEmbed));\n",
       "    }\n",
       "  })({\"config\": {\"view\": {\"continuousWidth\": 400, \"continuousHeight\": 300}}, \"layer\": [{\"mark\": {\"type\": \"line\", \"color\": \"black\", \"point\": true}, \"encoding\": {\"x\": {\"type\": \"ordinal\", \"field\": \"neuron\"}, \"y\": {\"type\": \"quantitative\", \"field\": \"Bayes condition mean\", \"impute\": {\"value\": \"value\"}}}}, {\"mark\": {\"type\": \"rule\", \"color\": \"black\", \"opacity\": 0.4, \"size\": 0.1}, \"encoding\": {\"y\": {\"type\": \"quantitative\", \"field\": \"zero\"}}}, {\"mark\": \"rule\", \"encoding\": {\"x\": {\"type\": \"ordinal\", \"field\": \"neuron\"}, \"y\": {\"type\": \"quantitative\", \"field\": \"Bayes condition CI0\", \"scale\": {\"domain\": [-1.152134656906128, 0.7685436010360718], \"zero\": false}, \"title\": \"\\u0394 \"}, \"y2\": {\"field\": \"Bayes condition CI1\"}}}], \"data\": {\"name\": \"data-61530b82acf51ca742240a6b28cec749\"}, \"$schema\": \"https://vega.github.io/schema/vega-lite/v4.8.1.json\", \"datasets\": {\"data-61530b82acf51ca742240a6b28cec749\": [{\"neuron\": 0.0, \"mouse_code\": 0.0, \"i_trial\": 0.0, \"neuron_code\": 0.0, \"log_firing_rate\": 0.4591694145684646, \"Firing rate\": 60.83966939686141, \"firing_rate\": 60.83966939686141, \"i_spike\": 14.75, \"isi\": -0.03142664673311624, \"log_isi diff\": -0.15749298720497895, \"log_isi\": null, \"Bayes condition CI0\": null, \"Bayes condition CI1\": null, \"Bayes condition mean\": null, \"zero\": 0}, {\"neuron\": 0.0, \"mouse_code\": 1.0, \"i_trial\": 0.0, \"neuron_code\": 0.0, \"log_firing_rate\": 0.7780389794078033, \"Firing rate\": 527.0298116113524, \"firing_rate\": 527.0298116113524, \"i_spike\": 10.75, \"isi\": -0.02555206755676194, \"log_isi diff\": -0.1313879743403219, \"log_isi\": null, \"Bayes condition CI0\": null, \"Bayes condition CI1\": null, \"Bayes condition mean\": null, \"zero\": 0}, {\"neuron\": 0.0, \"mouse_code\": 2.0, \"i_trial\": 0.0, \"neuron_code\": 0.0, \"log_firing_rate\": -0.07206010666540363, \"Firing rate\": -102.00735860913971, \"firing_rate\": -102.00735860913971, \"i_spike\": 0.75, \"isi\": 0.0017677845236248324, \"log_isi diff\": 0.012775824934672997, \"log_isi\": null, \"Bayes condition CI0\": null, \"Bayes condition CI1\": null, \"Bayes condition mean\": null, \"zero\": 0}, {\"neuron\": 0.0, \"mouse_code\": 3.0, \"i_trial\": 0.0, \"neuron_code\": 0.0, \"log_firing_rate\": -0.041762117252996056, \"Firing rate\": -67.37049756493823, \"firing_rate\": -67.37049756493823, \"i_spike\": 17.5, \"isi\": -0.035377746445885136, \"log_isi diff\": -0.18411605752189875, \"log_isi\": null, \"Bayes condition CI0\": null, \"Bayes condition CI1\": null, \"Bayes condition mean\": null, \"zero\": 0}, {\"neuron\": 1.0, \"mouse_code\": 0.0, \"i_trial\": 0.0, \"neuron_code\": 0.0, \"log_firing_rate\": -0.2590500125745612, \"Firing rate\": -55.75072975581223, \"firing_rate\": -55.75072975581223, \"i_spike\": 3.25, \"isi\": -0.004326185248574511, \"log_isi diff\": -0.0291250048513505, \"log_isi\": null, \"Bayes condition CI0\": null, \"Bayes condition CI1\": null, \"Bayes condition mean\": null, \"zero\": 0}, {\"neuron\": 1.0, \"mouse_code\": 1.0, \"i_trial\": 0.0, \"neuron_code\": 0.0, \"log_firing_rate\": 0.2906725610137746, \"Firing rate\": 229.3540705752409, \"firing_rate\": 229.3540705752409, \"i_spike\": 3.75, \"isi\": -0.005360508821762533, \"log_isi diff\": -0.033939708777328104, \"log_isi\": null, \"Bayes condition CI0\": null, \"Bayes condition CI1\": null, \"Bayes condition mean\": null, \"zero\": 0}, {\"neuron\": 1.0, \"mouse_code\": 2.0, \"i_trial\": 0.0, \"neuron_code\": 0.0, \"log_firing_rate\": -0.03140547296819496, \"Firing rate\": -4.297252905678107, \"firing_rate\": -4.297252905678107, \"i_spike\": 20.0, \"isi\": -0.021565586127732378, \"log_isi diff\": -0.15621824106559679, \"log_isi\": null, \"Bayes condition CI0\": null, \"Bayes condition CI1\": null, \"Bayes condition mean\": null, \"zero\": 0}, {\"neuron\": 1.0, \"mouse_code\": 3.0, \"i_trial\": 0.0, \"neuron_code\": 0.0, \"log_firing_rate\": 0.12904354348257607, \"Firing rate\": 24.563913361102422, \"firing_rate\": 24.563913361102422, \"i_spike\": 21.75, \"isi\": -0.03206393308489891, \"log_isi diff\": -0.19424703037326485, \"log_isi\": null, \"Bayes condition CI0\": null, \"Bayes condition CI1\": null, \"Bayes condition mean\": null, \"zero\": 0}, {\"neuron\": 2.0, \"mouse_code\": 0.0, \"i_trial\": 0.0, \"neuron_code\": 0.0, \"log_firing_rate\": 0.2564104180699194, \"Firing rate\": 100.0490117694261, \"firing_rate\": 100.0490117694261, \"i_spike\": -3.5, \"isi\": 0.004482514200036571, \"log_isi diff\": 0.02789253226423205, \"log_isi\": null, \"Bayes condition CI0\": null, \"Bayes condition CI1\": null, \"Bayes condition mean\": null, \"zero\": 0}, {\"neuron\": 2.0, \"mouse_code\": 1.0, \"i_trial\": 0.0, \"neuron_code\": 0.0, \"log_firing_rate\": 0.019561323227758276, \"Firing rate\": 5.8273272424833635, \"firing_rate\": 5.8273272424833635, \"i_spike\": -3.0, \"isi\": 0.0034867244206908538, \"log_isi diff\": 0.023787961883624753, \"log_isi\": null, \"Bayes condition CI0\": null, \"Bayes condition CI1\": null, \"Bayes condition mean\": null, \"zero\": 0}, {\"neuron\": 2.0, \"mouse_code\": 2.0, \"i_trial\": 0.0, \"neuron_code\": 0.0, \"log_firing_rate\": -0.011514598324390724, \"Firing rate\": 1.4627775605128477, \"firing_rate\": 1.4627775605128477, \"i_spike\": 7.0, \"isi\": -0.006310847611454798, \"log_isi diff\": -0.04778617695653131, \"log_isi\": null, \"Bayes condition CI0\": null, \"Bayes condition CI1\": null, \"Bayes condition mean\": null, \"zero\": 0}, {\"neuron\": 2.0, \"mouse_code\": 3.0, \"i_trial\": 0.0, \"neuron_code\": 0.0, \"log_firing_rate\": 0.033619888282888866, \"Firing rate\": 12.294376300686665, \"firing_rate\": 12.294376300686665, \"i_spike\": 12.0, \"isi\": -0.01429186533707432, \"log_isi diff\": -0.09621721319442877, \"log_isi\": null, \"Bayes condition CI0\": null, \"Bayes condition CI1\": null, \"Bayes condition mean\": null, \"zero\": 0}, {\"neuron\": 3.0, \"mouse_code\": 0.0, \"i_trial\": 0.0, \"neuron_code\": 0.0, \"log_firing_rate\": -0.2232113750067639, \"Firing rate\": -62.48004608077255, \"firing_rate\": -62.48004608077255, \"i_spike\": -6.0, \"isi\": 0.003799814407936697, \"log_isi diff\": 0.03134628811747908, \"log_isi\": null, \"Bayes condition CI0\": null, \"Bayes condition CI1\": null, \"Bayes condition mean\": null, \"zero\": 0}, {\"neuron\": 3.0, \"mouse_code\": 1.0, \"i_trial\": 0.0, \"neuron_code\": 0.0, \"log_firing_rate\": -0.2531795167430899, \"Firing rate\": -96.29266019117813, \"firing_rate\": -96.29266019117813, \"i_spike\": 10.5, \"isi\": -0.008076788399791715, \"log_isi diff\": -0.06985488911311366, \"log_isi\": null, \"Bayes condition CI0\": null, \"Bayes condition CI1\": null, \"Bayes condition mean\": null, \"zero\": 0}, {\"neuron\": 3.0, \"mouse_code\": 2.0, \"i_trial\": 0.0, \"neuron_code\": 0.0, \"log_firing_rate\": 0.20048587482189806, \"Firing rate\": 52.55751420460933, \"firing_rate\": 52.55751420460933, \"i_spike\": 10.5, \"isi\": -0.008071666490593682, \"log_isi diff\": -0.06754239353041624, \"log_isi\": null, \"Bayes condition CI0\": null, \"Bayes condition CI1\": null, \"Bayes condition mean\": null, \"zero\": 0}, {\"neuron\": 3.0, \"mouse_code\": 3.0, \"i_trial\": 0.0, \"neuron_code\": 0.0, \"log_firing_rate\": 0.15321255288255564, \"Firing rate\": 71.61755352807214, \"firing_rate\": 71.61755352807214, \"i_spike\": 17.25, \"isi\": -0.012723407456189648, \"log_isi diff\": -0.11494553542264985, \"log_isi\": null, \"Bayes condition CI0\": null, \"Bayes condition CI1\": null, \"Bayes condition mean\": null, \"zero\": 0}, {\"neuron\": 4.0, \"mouse_code\": 0.0, \"i_trial\": 0.0, \"neuron_code\": 0.0, \"log_firing_rate\": 0.27219892131005263, \"Firing rate\": 97.76996258303564, \"firing_rate\": 97.76996258303564, \"i_spike\": 1.0, \"isi\": -0.0008041539693108696, \"log_isi diff\": -0.0064275232190058595, \"log_isi\": null, \"Bayes condition CI0\": null, \"Bayes condition CI1\": null, \"Bayes condition mean\": null, \"zero\": 0}, {\"neuron\": 4.0, \"mouse_code\": 1.0, \"i_trial\": 0.0, \"neuron_code\": 0.0, \"log_firing_rate\": -0.4807720206044124, \"Firing rate\": -589.1840533100158, \"firing_rate\": -589.1840533100158, \"i_spike\": 3.5, \"isi\": -0.0020312438258357074, \"log_isi diff\": -0.02265228297417643, \"log_isi\": null, \"Bayes condition CI0\": null, \"Bayes condition CI1\": null, \"Bayes condition mean\": null, \"zero\": 0}, {\"neuron\": 4.0, \"mouse_code\": 2.0, \"i_trial\": 0.0, \"neuron_code\": 0.0, \"log_firing_rate\": -0.2034352665459238, \"Firing rate\": -83.22486993211817, \"firing_rate\": -83.22486993211817, \"i_spike\": 0.25, \"isi\": -0.00036157591134780565, \"log_isi diff\": -0.002704167096466037, \"log_isi\": null, \"Bayes condition CI0\": null, \"Bayes condition CI1\": null, \"Bayes condition mean\": null, \"zero\": 0}, {\"neuron\": 4.0, \"mouse_code\": 3.0, \"i_trial\": 0.0, \"neuron_code\": 0.0, \"log_firing_rate\": 0.558775213462811, \"Firing rate\": 206.04101846235073, \"firing_rate\": 206.04101846235073, \"i_spike\": 25.75, \"isi\": -0.013121123530056844, \"log_isi diff\": -0.1356226908029503, \"log_isi\": null, \"Bayes condition CI0\": null, \"Bayes condition CI1\": null, \"Bayes condition mean\": null, \"zero\": 0}, {\"neuron\": 5.0, \"mouse_code\": 0.0, \"i_trial\": 0.0, \"neuron_code\": 0.0, \"log_firing_rate\": -0.09824592990646597, \"Firing rate\": -34.186135625880155, \"firing_rate\": -34.186135625880155, \"i_spike\": -2.25, \"isi\": 0.000572163911513407, \"log_isi diff\": 0.00876120897796917, \"log_isi\": null, \"Bayes condition CI0\": null, \"Bayes condition CI1\": null, \"Bayes condition mean\": null, \"zero\": 0}, {\"neuron\": 5.0, \"mouse_code\": 1.0, \"i_trial\": 0.0, \"neuron_code\": 0.0, \"log_firing_rate\": 0.08173195455544491, \"Firing rate\": 27.776900033099082, \"firing_rate\": 27.776900033099082, \"i_spike\": 14.0, \"isi\": -0.005156413844235347, \"log_isi diff\": -0.06341887629772813, \"log_isi\": null, \"Bayes condition CI0\": null, \"Bayes condition CI1\": null, \"Bayes condition mean\": null, \"zero\": 0}, {\"neuron\": 5.0, \"mouse_code\": 2.0, \"i_trial\": 0.0, \"neuron_code\": 0.0, \"log_firing_rate\": 0.2766915557198111, \"Firing rate\": 178.43049740099735, \"firing_rate\": 178.43049740099735, \"i_spike\": -4.75, \"isi\": 0.001608884117821105, \"log_isi diff\": 0.020632994967715312, \"log_isi\": null, \"Bayes condition CI0\": null, \"Bayes condition CI1\": null, \"Bayes condition mean\": null, \"zero\": 0}, {\"neuron\": 5.0, \"mouse_code\": 3.0, \"i_trial\": 0.0, \"neuron_code\": 0.0, \"log_firing_rate\": 0.02107830315872672, \"Firing rate\": 9.204003177025243, \"firing_rate\": 9.204003177025243, \"i_spike\": 22.0, \"isi\": -0.007562983699542961, \"log_isi diff\": -0.09502869280094073, \"log_isi\": null, \"Bayes condition CI0\": null, \"Bayes condition CI1\": null, \"Bayes condition mean\": null, \"zero\": 0}, {\"neuron\": 6.0, \"mouse_code\": 0.0, \"i_trial\": 0.0, \"neuron_code\": 0.0, \"log_firing_rate\": -0.036796979823730425, \"Firing rate\": -15.849187161054715, \"firing_rate\": -15.849187161054715, \"i_spike\": 14.25, \"isi\": -0.0036956769721671195, \"log_isi diff\": -0.05431999501994156, \"log_isi\": null, \"Bayes condition CI0\": null, \"Bayes condition CI1\": null, \"Bayes condition mean\": null, \"zero\": 0}, {\"neuron\": 6.0, \"mouse_code\": 1.0, \"i_trial\": 0.0, \"neuron_code\": 0.0, \"log_firing_rate\": 0.41776343881211053, \"Firing rate\": 252.3768961657487, \"firing_rate\": 252.3768961657487, \"i_spike\": 13.5, \"isi\": -0.003408232087472419, \"log_isi diff\": -0.05036914205889165, \"log_isi\": null, \"Bayes condition CI0\": null, \"Bayes condition CI1\": null, \"Bayes condition mean\": null, \"zero\": 0}, {\"neuron\": 6.0, \"mouse_code\": 2.0, \"i_trial\": 0.0, \"neuron_code\": 0.0, \"log_firing_rate\": -0.06802402487459958, \"Firing rate\": -35.361275020342305, \"firing_rate\": -35.361275020342305, \"i_spike\": -0.75, \"isi\": 0.00048688843838366747, \"log_isi diff\": 0.005050745633947251, \"log_isi\": null, \"Bayes condition CI0\": null, \"Bayes condition CI1\": null, \"Bayes condition mean\": null, \"zero\": 0}, {\"neuron\": 6.0, \"mouse_code\": 3.0, \"i_trial\": 0.0, \"neuron_code\": 0.0, \"log_firing_rate\": 0.08844313862431719, \"Firing rate\": 31.462952338192594, \"firing_rate\": 31.462952338192594, \"i_spike\": 6.75, \"isi\": -0.0012369776693829104, \"log_isi diff\": -0.020404685754424445, \"log_isi\": null, \"Bayes condition CI0\": null, \"Bayes condition CI1\": null, \"Bayes condition mean\": null, \"zero\": 0}, {\"neuron\": 7.0, \"mouse_code\": 0.0, \"i_trial\": 0.0, \"neuron_code\": 0.0, \"log_firing_rate\": 0.030781442673174286, \"Firing rate\": 9.672621347696293, \"firing_rate\": 9.672621347696293, \"i_spike\": 6.5, \"isi\": -0.0008769537165367949, \"log_isi diff\": -0.017045233527543058, \"log_isi\": null, \"Bayes condition CI0\": null, \"Bayes condition CI1\": null, \"Bayes condition mean\": null, \"zero\": 0}, {\"neuron\": 7.0, \"mouse_code\": 1.0, \"i_trial\": 0.0, \"neuron_code\": 0.0, \"log_firing_rate\": 0.1451339969979082, \"Firing rate\": 138.45717215030817, \"firing_rate\": 138.45717215030817, \"i_spike\": 1.0, \"isi\": -0.00031306555455067053, \"log_isi diff\": -0.004090011500892832, \"log_isi\": null, \"Bayes condition CI0\": null, \"Bayes condition CI1\": null, \"Bayes condition mean\": null, \"zero\": 0}, {\"neuron\": 7.0, \"mouse_code\": 2.0, \"i_trial\": 0.0, \"neuron_code\": 0.0, \"log_firing_rate\": 0.03520988556047033, \"Firing rate\": 4.5765145287764994, \"firing_rate\": 4.5765145287764994, \"i_spike\": 3.0, \"isi\": -0.000501861242291575, \"log_isi diff\": -0.008877062670344937, \"log_isi\": null, \"Bayes condition CI0\": null, \"Bayes condition CI1\": null, \"Bayes condition mean\": null, \"zero\": 0}, {\"neuron\": 7.0, \"mouse_code\": 3.0, \"i_trial\": 0.0, \"neuron_code\": 0.0, \"log_firing_rate\": -0.012387907577696033, \"Firing rate\": -59.000648710051564, \"firing_rate\": -59.000648710051564, \"i_spike\": 9.5, \"isi\": -0.0013349594650334529, \"log_isi diff\": -0.02526019035109961, \"log_isi\": null, \"Bayes condition CI0\": null, \"Bayes condition CI1\": null, \"Bayes condition mean\": null, \"zero\": 0}, {\"neuron\": 0.0, \"mouse_code\": null, \"i_trial\": 0.5, \"neuron_code\": 0.0, \"log_firing_rate\": 1.5097795337797049, \"Firing rate\": 35.676375092124744, \"firing_rate\": 35.676375092124744, \"i_spike\": 32.5, \"isi\": 0.1079056081534987, \"log_isi diff\": null, \"log_isi\": -0.9677231993181522, \"Bayes condition CI0\": 0.14944688975811005, \"Bayes condition CI1\": 0.7685436010360718, \"Bayes condition mean\": 0.45735591650009155, \"zero\": 0}, {\"neuron\": 1.0, \"mouse_code\": null, \"i_trial\": 0.5, \"neuron_code\": 4.0, \"log_firing_rate\": 2.098658668419218, \"Firing rate\": 125.99543745313804, \"firing_rate\": 125.99543745313804, \"i_spike\": 54.5, \"isi\": 0.06451861487452848, \"log_isi diff\": null, \"log_isi\": -1.192076751788341, \"Bayes condition CI0\": -0.018821194767951965, \"Bayes condition CI1\": 0.5699074864387512, \"Bayes condition mean\": 0.22356978058815002, \"zero\": 0}, {\"neuron\": 2.0, \"mouse_code\": null, \"i_trial\": 0.5, \"neuron_code\": 8.0, \"log_firing_rate\": 1.909572815908323, \"Firing rate\": 86.23047576505644, \"firing_rate\": 86.23047576505644, \"i_spike\": 61.25, \"isi\": 0.057271157229026495, \"log_isi diff\": null, \"log_isi\": -1.242334193154851, \"Bayes condition CI0\": -0.06730444729328156, \"Bayes condition CI1\": 0.49209970235824585, \"Bayes condition mean\": 0.24044154584407806, \"zero\": 0}, {\"neuron\": 3.0, \"mouse_code\": null, \"i_trial\": 0.5, \"neuron_code\": 12.0, \"log_firing_rate\": 2.173572136962851, \"Firing rate\": 151.7130990860624, \"firing_rate\": 151.7130990860624, \"i_spike\": 70.25, \"isi\": 0.050146700909035655, \"log_isi diff\": null, \"log_isi\": -1.300399317981544, \"Bayes condition CI0\": -0.33091992139816284, \"Bayes condition CI1\": 0.22806310653686523, \"Bayes condition mean\": -0.005193239543586969, \"zero\": 0}, {\"neuron\": 4.0, \"mouse_code\": null, \"i_trial\": 0.5, \"neuron_code\": 16.0, \"log_firing_rate\": 2.040416250372301, \"Firing rate\": 115.03920345422307, \"firing_rate\": 115.03920345422307, \"i_spike\": 83.0, \"isi\": 0.04225816669627386, \"log_isi diff\": null, \"log_isi\": -1.3761258106632042, \"Bayes condition CI0\": -0.45285892486572266, \"Bayes condition CI1\": -0.026901064440608025, \"Bayes condition mean\": -0.20873531699180603, \"zero\": 0}, {\"neuron\": 5.0, \"mouse_code\": null, \"i_trial\": 0.5, \"neuron_code\": 20.0, \"log_firing_rate\": 2.2492957710121697, \"Firing rate\": 183.36942264543723, \"firing_rate\": 183.36942264543723, \"i_spike\": 102.0, \"isi\": 0.034461776364349425, \"log_isi diff\": null, \"log_isi\": -1.4642731953768895, \"Bayes condition CI0\": -0.6621058583259583, \"Bayes condition CI1\": -0.14895987510681152, \"Bayes condition mean\": -0.4022081792354584, \"zero\": 0}, {\"neuron\": 6.0, \"mouse_code\": null, \"i_trial\": 0.5, \"neuron_code\": 24.0, \"log_firing_rate\": 2.3064085110172297, \"Firing rate\": 203.01025833813546, \"firing_rate\": 203.01025833813546, \"i_spike\": 110.0, \"isi\": 0.03152732309165779, \"log_isi diff\": null, \"log_isi\": -1.5014155759475227, \"Bayes condition CI0\": -0.8911278247833252, \"Bayes condition CI1\": -0.3100273907184601, \"Bayes condition mean\": -0.5913623571395874, \"zero\": 0}, {\"neuron\": 7.0, \"mouse_code\": null, \"i_trial\": 0.5, \"neuron_code\": 28.0, \"log_firing_rate\": 2.4253497165644466, \"Firing rate\": 276.28508833547755, \"firing_rate\": 276.28508833547755, \"i_spike\": 147.75, \"isi\": 0.023633028684322994, \"log_isi diff\": null, \"log_isi\": -1.62650432868119, \"Bayes condition CI0\": -1.152134656906128, \"Bayes condition CI1\": -0.4398503303527832, \"Bayes condition mean\": -0.8081485629081726, \"zero\": 0}]}}, {\"mode\": \"vega-lite\"});\n",
       "</script>"
      ],
      "text/plain": [
       "alt.LayerChart(...)"
      ]
     },
     "execution_count": 7,
     "metadata": {},
     "output_type": "execute_result"
    }
   ],
   "source": [
    "reload(visualization)\n",
    "visualization.plot_posterior(df_both,alt.Chart(df_both),y=f'{y} diff', x='neuron',color='mouse_code',)"
   ]
  },
  {
   "cell_type": "code",
   "execution_count": 8,
   "metadata": {},
   "outputs": [
    {
     "data": {
      "text/html": [
       "\n",
       "<div id=\"altair-viz-377aed6d5dc547f996d488a51b5b33ce\"></div>\n",
       "<script type=\"text/javascript\">\n",
       "  (function(spec, embedOpt){\n",
       "    let outputDiv = document.currentScript.previousElementSibling;\n",
       "    if (outputDiv.id !== \"altair-viz-377aed6d5dc547f996d488a51b5b33ce\") {\n",
       "      outputDiv = document.getElementById(\"altair-viz-377aed6d5dc547f996d488a51b5b33ce\");\n",
       "    }\n",
       "    const paths = {\n",
       "      \"vega\": \"https://cdn.jsdelivr.net/npm//vega@5?noext\",\n",
       "      \"vega-lib\": \"https://cdn.jsdelivr.net/npm//vega-lib?noext\",\n",
       "      \"vega-lite\": \"https://cdn.jsdelivr.net/npm//vega-lite@4.8.1?noext\",\n",
       "      \"vega-embed\": \"https://cdn.jsdelivr.net/npm//vega-embed@6?noext\",\n",
       "    };\n",
       "\n",
       "    function loadScript(lib) {\n",
       "      return new Promise(function(resolve, reject) {\n",
       "        var s = document.createElement('script');\n",
       "        s.src = paths[lib];\n",
       "        s.async = true;\n",
       "        s.onload = () => resolve(paths[lib]);\n",
       "        s.onerror = () => reject(`Error loading script: ${paths[lib]}`);\n",
       "        document.getElementsByTagName(\"head\")[0].appendChild(s);\n",
       "      });\n",
       "    }\n",
       "\n",
       "    function showError(err) {\n",
       "      outputDiv.innerHTML = `<div class=\"error\" style=\"color:red;\">${err}</div>`;\n",
       "      throw err;\n",
       "    }\n",
       "\n",
       "    function displayChart(vegaEmbed) {\n",
       "      vegaEmbed(outputDiv, spec, embedOpt)\n",
       "        .catch(err => showError(`Javascript Error: ${err.message}<br>This usually means there's a typo in your chart specification. See the javascript console for the full traceback.`));\n",
       "    }\n",
       "\n",
       "    if(typeof define === \"function\" && define.amd) {\n",
       "      requirejs.config({paths});\n",
       "      require([\"vega-embed\"], displayChart, err => showError(`Error loading script: ${err.message}`));\n",
       "    } else if (typeof vegaEmbed === \"function\") {\n",
       "      displayChart(vegaEmbed);\n",
       "    } else {\n",
       "      loadScript(\"vega\")\n",
       "        .then(() => loadScript(\"vega-lite\"))\n",
       "        .then(() => loadScript(\"vega-embed\"))\n",
       "        .catch(showError)\n",
       "        .then(() => displayChart(vegaEmbed));\n",
       "    }\n",
       "  })({\"config\": {\"view\": {\"continuousWidth\": 400, \"continuousHeight\": 300}}, \"layer\": [{\"mark\": {\"type\": \"line\", \"color\": \"black\", \"point\": true}, \"encoding\": {\"x\": {\"type\": \"ordinal\", \"field\": \"neuron\"}, \"y\": {\"type\": \"quantitative\", \"field\": \"Bayes condition mean\", \"impute\": {\"value\": \"value\"}}}}, {\"mark\": {\"type\": \"rule\", \"color\": \"black\", \"opacity\": 0.4, \"size\": 0.1}, \"encoding\": {\"y\": {\"type\": \"quantitative\", \"field\": \"zero\"}}}, {\"mark\": \"rule\", \"encoding\": {\"x\": {\"type\": \"ordinal\", \"field\": \"neuron\"}, \"y\": {\"type\": \"quantitative\", \"field\": \"Bayes condition CI0\", \"scale\": {\"domain\": [-1.152134656906128, 0.7685436010360718], \"zero\": false}, \"title\": \"\\u0394 \"}, \"y2\": {\"field\": \"Bayes condition CI1\"}}}, {\"layer\": [{\"mark\": {\"type\": \"line\", \"fill\": null, \"opacity\": 0.5, \"size\": 3}, \"encoding\": {\"color\": {\"type\": \"nominal\", \"field\": \"mouse_code\"}, \"x\": {\"type\": \"ordinal\", \"field\": \"neuron\"}, \"y\": {\"type\": \"quantitative\", \"field\": \"log_isi diff\"}}}, {\"mark\": {\"type\": \"boxplot\", \"color\": \"black\", \"opacity\": 0.3, \"size\": 12}, \"encoding\": {\"x\": {\"type\": \"ordinal\", \"field\": \"neuron\"}, \"y\": {\"type\": \"quantitative\", \"field\": \"log_isi diff\"}}}]}], \"data\": {\"name\": \"data-61530b82acf51ca742240a6b28cec749\"}, \"$schema\": \"https://vega.github.io/schema/vega-lite/v4.8.1.json\", \"datasets\": {\"data-61530b82acf51ca742240a6b28cec749\": [{\"neuron\": 0.0, \"mouse_code\": 0.0, \"i_trial\": 0.0, \"neuron_code\": 0.0, \"log_firing_rate\": 0.4591694145684646, \"Firing rate\": 60.83966939686141, \"firing_rate\": 60.83966939686141, \"i_spike\": 14.75, \"isi\": -0.03142664673311624, \"log_isi diff\": -0.15749298720497895, \"log_isi\": null, \"Bayes condition CI0\": null, \"Bayes condition CI1\": null, \"Bayes condition mean\": null, \"zero\": 0}, {\"neuron\": 0.0, \"mouse_code\": 1.0, \"i_trial\": 0.0, \"neuron_code\": 0.0, \"log_firing_rate\": 0.7780389794078033, \"Firing rate\": 527.0298116113524, \"firing_rate\": 527.0298116113524, \"i_spike\": 10.75, \"isi\": -0.02555206755676194, \"log_isi diff\": -0.1313879743403219, \"log_isi\": null, \"Bayes condition CI0\": null, \"Bayes condition CI1\": null, \"Bayes condition mean\": null, \"zero\": 0}, {\"neuron\": 0.0, \"mouse_code\": 2.0, \"i_trial\": 0.0, \"neuron_code\": 0.0, \"log_firing_rate\": -0.07206010666540363, \"Firing rate\": -102.00735860913971, \"firing_rate\": -102.00735860913971, \"i_spike\": 0.75, \"isi\": 0.0017677845236248324, \"log_isi diff\": 0.012775824934672997, \"log_isi\": null, \"Bayes condition CI0\": null, \"Bayes condition CI1\": null, \"Bayes condition mean\": null, \"zero\": 0}, {\"neuron\": 0.0, \"mouse_code\": 3.0, \"i_trial\": 0.0, \"neuron_code\": 0.0, \"log_firing_rate\": -0.041762117252996056, \"Firing rate\": -67.37049756493823, \"firing_rate\": -67.37049756493823, \"i_spike\": 17.5, \"isi\": -0.035377746445885136, \"log_isi diff\": -0.18411605752189875, \"log_isi\": null, \"Bayes condition CI0\": null, \"Bayes condition CI1\": null, \"Bayes condition mean\": null, \"zero\": 0}, {\"neuron\": 1.0, \"mouse_code\": 0.0, \"i_trial\": 0.0, \"neuron_code\": 0.0, \"log_firing_rate\": -0.2590500125745612, \"Firing rate\": -55.75072975581223, \"firing_rate\": -55.75072975581223, \"i_spike\": 3.25, \"isi\": -0.004326185248574511, \"log_isi diff\": -0.0291250048513505, \"log_isi\": null, \"Bayes condition CI0\": null, \"Bayes condition CI1\": null, \"Bayes condition mean\": null, \"zero\": 0}, {\"neuron\": 1.0, \"mouse_code\": 1.0, \"i_trial\": 0.0, \"neuron_code\": 0.0, \"log_firing_rate\": 0.2906725610137746, \"Firing rate\": 229.3540705752409, \"firing_rate\": 229.3540705752409, \"i_spike\": 3.75, \"isi\": -0.005360508821762533, \"log_isi diff\": -0.033939708777328104, \"log_isi\": null, \"Bayes condition CI0\": null, \"Bayes condition CI1\": null, \"Bayes condition mean\": null, \"zero\": 0}, {\"neuron\": 1.0, \"mouse_code\": 2.0, \"i_trial\": 0.0, \"neuron_code\": 0.0, \"log_firing_rate\": -0.03140547296819496, \"Firing rate\": -4.297252905678107, \"firing_rate\": -4.297252905678107, \"i_spike\": 20.0, \"isi\": -0.021565586127732378, \"log_isi diff\": -0.15621824106559679, \"log_isi\": null, \"Bayes condition CI0\": null, \"Bayes condition CI1\": null, \"Bayes condition mean\": null, \"zero\": 0}, {\"neuron\": 1.0, \"mouse_code\": 3.0, \"i_trial\": 0.0, \"neuron_code\": 0.0, \"log_firing_rate\": 0.12904354348257607, \"Firing rate\": 24.563913361102422, \"firing_rate\": 24.563913361102422, \"i_spike\": 21.75, \"isi\": -0.03206393308489891, \"log_isi diff\": -0.19424703037326485, \"log_isi\": null, \"Bayes condition CI0\": null, \"Bayes condition CI1\": null, \"Bayes condition mean\": null, \"zero\": 0}, {\"neuron\": 2.0, \"mouse_code\": 0.0, \"i_trial\": 0.0, \"neuron_code\": 0.0, \"log_firing_rate\": 0.2564104180699194, \"Firing rate\": 100.0490117694261, \"firing_rate\": 100.0490117694261, \"i_spike\": -3.5, \"isi\": 0.004482514200036571, \"log_isi diff\": 0.02789253226423205, \"log_isi\": null, \"Bayes condition CI0\": null, \"Bayes condition CI1\": null, \"Bayes condition mean\": null, \"zero\": 0}, {\"neuron\": 2.0, \"mouse_code\": 1.0, \"i_trial\": 0.0, \"neuron_code\": 0.0, \"log_firing_rate\": 0.019561323227758276, \"Firing rate\": 5.8273272424833635, \"firing_rate\": 5.8273272424833635, \"i_spike\": -3.0, \"isi\": 0.0034867244206908538, \"log_isi diff\": 0.023787961883624753, \"log_isi\": null, \"Bayes condition CI0\": null, \"Bayes condition CI1\": null, \"Bayes condition mean\": null, \"zero\": 0}, {\"neuron\": 2.0, \"mouse_code\": 2.0, \"i_trial\": 0.0, \"neuron_code\": 0.0, \"log_firing_rate\": -0.011514598324390724, \"Firing rate\": 1.4627775605128477, \"firing_rate\": 1.4627775605128477, \"i_spike\": 7.0, \"isi\": -0.006310847611454798, \"log_isi diff\": -0.04778617695653131, \"log_isi\": null, \"Bayes condition CI0\": null, \"Bayes condition CI1\": null, \"Bayes condition mean\": null, \"zero\": 0}, {\"neuron\": 2.0, \"mouse_code\": 3.0, \"i_trial\": 0.0, \"neuron_code\": 0.0, \"log_firing_rate\": 0.033619888282888866, \"Firing rate\": 12.294376300686665, \"firing_rate\": 12.294376300686665, \"i_spike\": 12.0, \"isi\": -0.01429186533707432, \"log_isi diff\": -0.09621721319442877, \"log_isi\": null, \"Bayes condition CI0\": null, \"Bayes condition CI1\": null, \"Bayes condition mean\": null, \"zero\": 0}, {\"neuron\": 3.0, \"mouse_code\": 0.0, \"i_trial\": 0.0, \"neuron_code\": 0.0, \"log_firing_rate\": -0.2232113750067639, \"Firing rate\": -62.48004608077255, \"firing_rate\": -62.48004608077255, \"i_spike\": -6.0, \"isi\": 0.003799814407936697, \"log_isi diff\": 0.03134628811747908, \"log_isi\": null, \"Bayes condition CI0\": null, \"Bayes condition CI1\": null, \"Bayes condition mean\": null, \"zero\": 0}, {\"neuron\": 3.0, \"mouse_code\": 1.0, \"i_trial\": 0.0, \"neuron_code\": 0.0, \"log_firing_rate\": -0.2531795167430899, \"Firing rate\": -96.29266019117813, \"firing_rate\": -96.29266019117813, \"i_spike\": 10.5, \"isi\": -0.008076788399791715, \"log_isi diff\": -0.06985488911311366, \"log_isi\": null, \"Bayes condition CI0\": null, \"Bayes condition CI1\": null, \"Bayes condition mean\": null, \"zero\": 0}, {\"neuron\": 3.0, \"mouse_code\": 2.0, \"i_trial\": 0.0, \"neuron_code\": 0.0, \"log_firing_rate\": 0.20048587482189806, \"Firing rate\": 52.55751420460933, \"firing_rate\": 52.55751420460933, \"i_spike\": 10.5, \"isi\": -0.008071666490593682, \"log_isi diff\": -0.06754239353041624, \"log_isi\": null, \"Bayes condition CI0\": null, \"Bayes condition CI1\": null, \"Bayes condition mean\": null, \"zero\": 0}, {\"neuron\": 3.0, \"mouse_code\": 3.0, \"i_trial\": 0.0, \"neuron_code\": 0.0, \"log_firing_rate\": 0.15321255288255564, \"Firing rate\": 71.61755352807214, \"firing_rate\": 71.61755352807214, \"i_spike\": 17.25, \"isi\": -0.012723407456189648, \"log_isi diff\": -0.11494553542264985, \"log_isi\": null, \"Bayes condition CI0\": null, \"Bayes condition CI1\": null, \"Bayes condition mean\": null, \"zero\": 0}, {\"neuron\": 4.0, \"mouse_code\": 0.0, \"i_trial\": 0.0, \"neuron_code\": 0.0, \"log_firing_rate\": 0.27219892131005263, \"Firing rate\": 97.76996258303564, \"firing_rate\": 97.76996258303564, \"i_spike\": 1.0, \"isi\": -0.0008041539693108696, \"log_isi diff\": -0.0064275232190058595, \"log_isi\": null, \"Bayes condition CI0\": null, \"Bayes condition CI1\": null, \"Bayes condition mean\": null, \"zero\": 0}, {\"neuron\": 4.0, \"mouse_code\": 1.0, \"i_trial\": 0.0, \"neuron_code\": 0.0, \"log_firing_rate\": -0.4807720206044124, \"Firing rate\": -589.1840533100158, \"firing_rate\": -589.1840533100158, \"i_spike\": 3.5, \"isi\": -0.0020312438258357074, \"log_isi diff\": -0.02265228297417643, \"log_isi\": null, \"Bayes condition CI0\": null, \"Bayes condition CI1\": null, \"Bayes condition mean\": null, \"zero\": 0}, {\"neuron\": 4.0, \"mouse_code\": 2.0, \"i_trial\": 0.0, \"neuron_code\": 0.0, \"log_firing_rate\": -0.2034352665459238, \"Firing rate\": -83.22486993211817, \"firing_rate\": -83.22486993211817, \"i_spike\": 0.25, \"isi\": -0.00036157591134780565, \"log_isi diff\": -0.002704167096466037, \"log_isi\": null, \"Bayes condition CI0\": null, \"Bayes condition CI1\": null, \"Bayes condition mean\": null, \"zero\": 0}, {\"neuron\": 4.0, \"mouse_code\": 3.0, \"i_trial\": 0.0, \"neuron_code\": 0.0, \"log_firing_rate\": 0.558775213462811, \"Firing rate\": 206.04101846235073, \"firing_rate\": 206.04101846235073, \"i_spike\": 25.75, \"isi\": -0.013121123530056844, \"log_isi diff\": -0.1356226908029503, \"log_isi\": null, \"Bayes condition CI0\": null, \"Bayes condition CI1\": null, \"Bayes condition mean\": null, \"zero\": 0}, {\"neuron\": 5.0, \"mouse_code\": 0.0, \"i_trial\": 0.0, \"neuron_code\": 0.0, \"log_firing_rate\": -0.09824592990646597, \"Firing rate\": -34.186135625880155, \"firing_rate\": -34.186135625880155, \"i_spike\": -2.25, \"isi\": 0.000572163911513407, \"log_isi diff\": 0.00876120897796917, \"log_isi\": null, \"Bayes condition CI0\": null, \"Bayes condition CI1\": null, \"Bayes condition mean\": null, \"zero\": 0}, {\"neuron\": 5.0, \"mouse_code\": 1.0, \"i_trial\": 0.0, \"neuron_code\": 0.0, \"log_firing_rate\": 0.08173195455544491, \"Firing rate\": 27.776900033099082, \"firing_rate\": 27.776900033099082, \"i_spike\": 14.0, \"isi\": -0.005156413844235347, \"log_isi diff\": -0.06341887629772813, \"log_isi\": null, \"Bayes condition CI0\": null, \"Bayes condition CI1\": null, \"Bayes condition mean\": null, \"zero\": 0}, {\"neuron\": 5.0, \"mouse_code\": 2.0, \"i_trial\": 0.0, \"neuron_code\": 0.0, \"log_firing_rate\": 0.2766915557198111, \"Firing rate\": 178.43049740099735, \"firing_rate\": 178.43049740099735, \"i_spike\": -4.75, \"isi\": 0.001608884117821105, \"log_isi diff\": 0.020632994967715312, \"log_isi\": null, \"Bayes condition CI0\": null, \"Bayes condition CI1\": null, \"Bayes condition mean\": null, \"zero\": 0}, {\"neuron\": 5.0, \"mouse_code\": 3.0, \"i_trial\": 0.0, \"neuron_code\": 0.0, \"log_firing_rate\": 0.02107830315872672, \"Firing rate\": 9.204003177025243, \"firing_rate\": 9.204003177025243, \"i_spike\": 22.0, \"isi\": -0.007562983699542961, \"log_isi diff\": -0.09502869280094073, \"log_isi\": null, \"Bayes condition CI0\": null, \"Bayes condition CI1\": null, \"Bayes condition mean\": null, \"zero\": 0}, {\"neuron\": 6.0, \"mouse_code\": 0.0, \"i_trial\": 0.0, \"neuron_code\": 0.0, \"log_firing_rate\": -0.036796979823730425, \"Firing rate\": -15.849187161054715, \"firing_rate\": -15.849187161054715, \"i_spike\": 14.25, \"isi\": -0.0036956769721671195, \"log_isi diff\": -0.05431999501994156, \"log_isi\": null, \"Bayes condition CI0\": null, \"Bayes condition CI1\": null, \"Bayes condition mean\": null, \"zero\": 0}, {\"neuron\": 6.0, \"mouse_code\": 1.0, \"i_trial\": 0.0, \"neuron_code\": 0.0, \"log_firing_rate\": 0.41776343881211053, \"Firing rate\": 252.3768961657487, \"firing_rate\": 252.3768961657487, \"i_spike\": 13.5, \"isi\": -0.003408232087472419, \"log_isi diff\": -0.05036914205889165, \"log_isi\": null, \"Bayes condition CI0\": null, \"Bayes condition CI1\": null, \"Bayes condition mean\": null, \"zero\": 0}, {\"neuron\": 6.0, \"mouse_code\": 2.0, \"i_trial\": 0.0, \"neuron_code\": 0.0, \"log_firing_rate\": -0.06802402487459958, \"Firing rate\": -35.361275020342305, \"firing_rate\": -35.361275020342305, \"i_spike\": -0.75, \"isi\": 0.00048688843838366747, \"log_isi diff\": 0.005050745633947251, \"log_isi\": null, \"Bayes condition CI0\": null, \"Bayes condition CI1\": null, \"Bayes condition mean\": null, \"zero\": 0}, {\"neuron\": 6.0, \"mouse_code\": 3.0, \"i_trial\": 0.0, \"neuron_code\": 0.0, \"log_firing_rate\": 0.08844313862431719, \"Firing rate\": 31.462952338192594, \"firing_rate\": 31.462952338192594, \"i_spike\": 6.75, \"isi\": -0.0012369776693829104, \"log_isi diff\": -0.020404685754424445, \"log_isi\": null, \"Bayes condition CI0\": null, \"Bayes condition CI1\": null, \"Bayes condition mean\": null, \"zero\": 0}, {\"neuron\": 7.0, \"mouse_code\": 0.0, \"i_trial\": 0.0, \"neuron_code\": 0.0, \"log_firing_rate\": 0.030781442673174286, \"Firing rate\": 9.672621347696293, \"firing_rate\": 9.672621347696293, \"i_spike\": 6.5, \"isi\": -0.0008769537165367949, \"log_isi diff\": -0.017045233527543058, \"log_isi\": null, \"Bayes condition CI0\": null, \"Bayes condition CI1\": null, \"Bayes condition mean\": null, \"zero\": 0}, {\"neuron\": 7.0, \"mouse_code\": 1.0, \"i_trial\": 0.0, \"neuron_code\": 0.0, \"log_firing_rate\": 0.1451339969979082, \"Firing rate\": 138.45717215030817, \"firing_rate\": 138.45717215030817, \"i_spike\": 1.0, \"isi\": -0.00031306555455067053, \"log_isi diff\": -0.004090011500892832, \"log_isi\": null, \"Bayes condition CI0\": null, \"Bayes condition CI1\": null, \"Bayes condition mean\": null, \"zero\": 0}, {\"neuron\": 7.0, \"mouse_code\": 2.0, \"i_trial\": 0.0, \"neuron_code\": 0.0, \"log_firing_rate\": 0.03520988556047033, \"Firing rate\": 4.5765145287764994, \"firing_rate\": 4.5765145287764994, \"i_spike\": 3.0, \"isi\": -0.000501861242291575, \"log_isi diff\": -0.008877062670344937, \"log_isi\": null, \"Bayes condition CI0\": null, \"Bayes condition CI1\": null, \"Bayes condition mean\": null, \"zero\": 0}, {\"neuron\": 7.0, \"mouse_code\": 3.0, \"i_trial\": 0.0, \"neuron_code\": 0.0, \"log_firing_rate\": -0.012387907577696033, \"Firing rate\": -59.000648710051564, \"firing_rate\": -59.000648710051564, \"i_spike\": 9.5, \"isi\": -0.0013349594650334529, \"log_isi diff\": -0.02526019035109961, \"log_isi\": null, \"Bayes condition CI0\": null, \"Bayes condition CI1\": null, \"Bayes condition mean\": null, \"zero\": 0}, {\"neuron\": 0.0, \"mouse_code\": null, \"i_trial\": 0.5, \"neuron_code\": 0.0, \"log_firing_rate\": 1.5097795337797049, \"Firing rate\": 35.676375092124744, \"firing_rate\": 35.676375092124744, \"i_spike\": 32.5, \"isi\": 0.1079056081534987, \"log_isi diff\": null, \"log_isi\": -0.9677231993181522, \"Bayes condition CI0\": 0.14944688975811005, \"Bayes condition CI1\": 0.7685436010360718, \"Bayes condition mean\": 0.45735591650009155, \"zero\": 0}, {\"neuron\": 1.0, \"mouse_code\": null, \"i_trial\": 0.5, \"neuron_code\": 4.0, \"log_firing_rate\": 2.098658668419218, \"Firing rate\": 125.99543745313804, \"firing_rate\": 125.99543745313804, \"i_spike\": 54.5, \"isi\": 0.06451861487452848, \"log_isi diff\": null, \"log_isi\": -1.192076751788341, \"Bayes condition CI0\": -0.018821194767951965, \"Bayes condition CI1\": 0.5699074864387512, \"Bayes condition mean\": 0.22356978058815002, \"zero\": 0}, {\"neuron\": 2.0, \"mouse_code\": null, \"i_trial\": 0.5, \"neuron_code\": 8.0, \"log_firing_rate\": 1.909572815908323, \"Firing rate\": 86.23047576505644, \"firing_rate\": 86.23047576505644, \"i_spike\": 61.25, \"isi\": 0.057271157229026495, \"log_isi diff\": null, \"log_isi\": -1.242334193154851, \"Bayes condition CI0\": -0.06730444729328156, \"Bayes condition CI1\": 0.49209970235824585, \"Bayes condition mean\": 0.24044154584407806, \"zero\": 0}, {\"neuron\": 3.0, \"mouse_code\": null, \"i_trial\": 0.5, \"neuron_code\": 12.0, \"log_firing_rate\": 2.173572136962851, \"Firing rate\": 151.7130990860624, \"firing_rate\": 151.7130990860624, \"i_spike\": 70.25, \"isi\": 0.050146700909035655, \"log_isi diff\": null, \"log_isi\": -1.300399317981544, \"Bayes condition CI0\": -0.33091992139816284, \"Bayes condition CI1\": 0.22806310653686523, \"Bayes condition mean\": -0.005193239543586969, \"zero\": 0}, {\"neuron\": 4.0, \"mouse_code\": null, \"i_trial\": 0.5, \"neuron_code\": 16.0, \"log_firing_rate\": 2.040416250372301, \"Firing rate\": 115.03920345422307, \"firing_rate\": 115.03920345422307, \"i_spike\": 83.0, \"isi\": 0.04225816669627386, \"log_isi diff\": null, \"log_isi\": -1.3761258106632042, \"Bayes condition CI0\": -0.45285892486572266, \"Bayes condition CI1\": -0.026901064440608025, \"Bayes condition mean\": -0.20873531699180603, \"zero\": 0}, {\"neuron\": 5.0, \"mouse_code\": null, \"i_trial\": 0.5, \"neuron_code\": 20.0, \"log_firing_rate\": 2.2492957710121697, \"Firing rate\": 183.36942264543723, \"firing_rate\": 183.36942264543723, \"i_spike\": 102.0, \"isi\": 0.034461776364349425, \"log_isi diff\": null, \"log_isi\": -1.4642731953768895, \"Bayes condition CI0\": -0.6621058583259583, \"Bayes condition CI1\": -0.14895987510681152, \"Bayes condition mean\": -0.4022081792354584, \"zero\": 0}, {\"neuron\": 6.0, \"mouse_code\": null, \"i_trial\": 0.5, \"neuron_code\": 24.0, \"log_firing_rate\": 2.3064085110172297, \"Firing rate\": 203.01025833813546, \"firing_rate\": 203.01025833813546, \"i_spike\": 110.0, \"isi\": 0.03152732309165779, \"log_isi diff\": null, \"log_isi\": -1.5014155759475227, \"Bayes condition CI0\": -0.8911278247833252, \"Bayes condition CI1\": -0.3100273907184601, \"Bayes condition mean\": -0.5913623571395874, \"zero\": 0}, {\"neuron\": 7.0, \"mouse_code\": null, \"i_trial\": 0.5, \"neuron_code\": 28.0, \"log_firing_rate\": 2.4253497165644466, \"Firing rate\": 276.28508833547755, \"firing_rate\": 276.28508833547755, \"i_spike\": 147.75, \"isi\": 0.023633028684322994, \"log_isi diff\": null, \"log_isi\": -1.62650432868119, \"Bayes condition CI0\": -1.152134656906128, \"Bayes condition CI1\": -0.4398503303527832, \"Bayes condition mean\": -0.8081485629081726, \"zero\": 0}]}}, {\"mode\": \"vega-lite\"});\n",
       "</script>"
      ],
      "text/plain": [
       "alt.LayerChart(...)"
      ]
     },
     "execution_count": 8,
     "metadata": {},
     "output_type": "execute_result"
    }
   ],
   "source": [
    "visualization.plot_posterior(df_both,alt.Chart(df_both),y=f'{y} diff', x='neuron',color='mouse_code',)+\\\n",
    "visualization.plot_data(df_both, alt.Chart(df_both), x='neuron',y=f'{y} diff', color='mouse_code',add_box=True)"
   ]
  },
  {
   "cell_type": "code",
   "execution_count": 9,
   "metadata": {
    "scrolled": false
   },
   "outputs": [
    {
     "data": {
      "text/html": [
       "\n",
       "<div id=\"altair-viz-13b065ea3e844365a0ec0cb9fcd6af88\"></div>\n",
       "<script type=\"text/javascript\">\n",
       "  (function(spec, embedOpt){\n",
       "    let outputDiv = document.currentScript.previousElementSibling;\n",
       "    if (outputDiv.id !== \"altair-viz-13b065ea3e844365a0ec0cb9fcd6af88\") {\n",
       "      outputDiv = document.getElementById(\"altair-viz-13b065ea3e844365a0ec0cb9fcd6af88\");\n",
       "    }\n",
       "    const paths = {\n",
       "      \"vega\": \"https://cdn.jsdelivr.net/npm//vega@5?noext\",\n",
       "      \"vega-lib\": \"https://cdn.jsdelivr.net/npm//vega-lib?noext\",\n",
       "      \"vega-lite\": \"https://cdn.jsdelivr.net/npm//vega-lite@4.8.1?noext\",\n",
       "      \"vega-embed\": \"https://cdn.jsdelivr.net/npm//vega-embed@6?noext\",\n",
       "    };\n",
       "\n",
       "    function loadScript(lib) {\n",
       "      return new Promise(function(resolve, reject) {\n",
       "        var s = document.createElement('script');\n",
       "        s.src = paths[lib];\n",
       "        s.async = true;\n",
       "        s.onload = () => resolve(paths[lib]);\n",
       "        s.onerror = () => reject(`Error loading script: ${paths[lib]}`);\n",
       "        document.getElementsByTagName(\"head\")[0].appendChild(s);\n",
       "      });\n",
       "    }\n",
       "\n",
       "    function showError(err) {\n",
       "      outputDiv.innerHTML = `<div class=\"error\" style=\"color:red;\">${err}</div>`;\n",
       "      throw err;\n",
       "    }\n",
       "\n",
       "    function displayChart(vegaEmbed) {\n",
       "      vegaEmbed(outputDiv, spec, embedOpt)\n",
       "        .catch(err => showError(`Javascript Error: ${err.message}<br>This usually means there's a typo in your chart specification. See the javascript console for the full traceback.`));\n",
       "    }\n",
       "\n",
       "    if(typeof define === \"function\" && define.amd) {\n",
       "      requirejs.config({paths});\n",
       "      require([\"vega-embed\"], displayChart, err => showError(`Error loading script: ${err.message}`));\n",
       "    } else if (typeof vegaEmbed === \"function\") {\n",
       "      displayChart(vegaEmbed);\n",
       "    } else {\n",
       "      loadScript(\"vega\")\n",
       "        .then(() => loadScript(\"vega-lite\"))\n",
       "        .then(() => loadScript(\"vega-embed\"))\n",
       "        .catch(showError)\n",
       "        .then(() => displayChart(vegaEmbed));\n",
       "    }\n",
       "  })({\"config\": {\"view\": {\"continuousWidth\": 400, \"continuousHeight\": 300}}, \"layer\": [{\"mark\": {\"type\": \"line\", \"fill\": null, \"opacity\": 0.5, \"size\": 3}, \"encoding\": {\"color\": {\"type\": \"nominal\", \"field\": \"mouse_code\"}, \"x\": {\"type\": \"ordinal\", \"field\": \"neuron\"}, \"y\": {\"type\": \"quantitative\", \"field\": \"log_isi diff\"}}}, {\"mark\": {\"type\": \"boxplot\", \"color\": \"black\", \"opacity\": 0.3, \"size\": 12}, \"encoding\": {\"x\": {\"type\": \"ordinal\", \"field\": \"neuron\"}, \"y\": {\"type\": \"quantitative\", \"field\": \"log_isi diff\"}}}, {\"layer\": [{\"mark\": {\"type\": \"line\", \"color\": \"black\", \"point\": true}, \"encoding\": {\"x\": {\"type\": \"ordinal\", \"field\": \"neuron\"}, \"y\": {\"type\": \"quantitative\", \"field\": \"Bayes condition mean\", \"impute\": {\"value\": \"value\"}}}}, {\"mark\": {\"type\": \"rule\", \"color\": \"black\", \"opacity\": 0.4, \"size\": 0.1}, \"encoding\": {\"y\": {\"type\": \"quantitative\", \"field\": \"zero\"}}}, {\"mark\": \"rule\", \"encoding\": {\"x\": {\"type\": \"ordinal\", \"field\": \"neuron\"}, \"y\": {\"type\": \"quantitative\", \"field\": \"Bayes condition CI0\", \"scale\": {\"zero\": false}, \"title\": \"\\u0394 log_isi\"}, \"y2\": {\"field\": \"Bayes condition CI1\"}}}]}], \"data\": {\"name\": \"data-61530b82acf51ca742240a6b28cec749\"}, \"resolve\": {\"scale\": {\"y\": \"independent\"}}, \"$schema\": \"https://vega.github.io/schema/vega-lite/v4.8.1.json\", \"datasets\": {\"data-61530b82acf51ca742240a6b28cec749\": [{\"neuron\": 0.0, \"mouse_code\": 0.0, \"i_trial\": 0.0, \"neuron_code\": 0.0, \"log_firing_rate\": 0.4591694145684646, \"Firing rate\": 60.83966939686141, \"firing_rate\": 60.83966939686141, \"i_spike\": 14.75, \"isi\": -0.03142664673311624, \"log_isi diff\": -0.15749298720497895, \"log_isi\": null, \"Bayes condition CI0\": null, \"Bayes condition CI1\": null, \"Bayes condition mean\": null, \"zero\": 0}, {\"neuron\": 0.0, \"mouse_code\": 1.0, \"i_trial\": 0.0, \"neuron_code\": 0.0, \"log_firing_rate\": 0.7780389794078033, \"Firing rate\": 527.0298116113524, \"firing_rate\": 527.0298116113524, \"i_spike\": 10.75, \"isi\": -0.02555206755676194, \"log_isi diff\": -0.1313879743403219, \"log_isi\": null, \"Bayes condition CI0\": null, \"Bayes condition CI1\": null, \"Bayes condition mean\": null, \"zero\": 0}, {\"neuron\": 0.0, \"mouse_code\": 2.0, \"i_trial\": 0.0, \"neuron_code\": 0.0, \"log_firing_rate\": -0.07206010666540363, \"Firing rate\": -102.00735860913971, \"firing_rate\": -102.00735860913971, \"i_spike\": 0.75, \"isi\": 0.0017677845236248324, \"log_isi diff\": 0.012775824934672997, \"log_isi\": null, \"Bayes condition CI0\": null, \"Bayes condition CI1\": null, \"Bayes condition mean\": null, \"zero\": 0}, {\"neuron\": 0.0, \"mouse_code\": 3.0, \"i_trial\": 0.0, \"neuron_code\": 0.0, \"log_firing_rate\": -0.041762117252996056, \"Firing rate\": -67.37049756493823, \"firing_rate\": -67.37049756493823, \"i_spike\": 17.5, \"isi\": -0.035377746445885136, \"log_isi diff\": -0.18411605752189875, \"log_isi\": null, \"Bayes condition CI0\": null, \"Bayes condition CI1\": null, \"Bayes condition mean\": null, \"zero\": 0}, {\"neuron\": 1.0, \"mouse_code\": 0.0, \"i_trial\": 0.0, \"neuron_code\": 0.0, \"log_firing_rate\": -0.2590500125745612, \"Firing rate\": -55.75072975581223, \"firing_rate\": -55.75072975581223, \"i_spike\": 3.25, \"isi\": -0.004326185248574511, \"log_isi diff\": -0.0291250048513505, \"log_isi\": null, \"Bayes condition CI0\": null, \"Bayes condition CI1\": null, \"Bayes condition mean\": null, \"zero\": 0}, {\"neuron\": 1.0, \"mouse_code\": 1.0, \"i_trial\": 0.0, \"neuron_code\": 0.0, \"log_firing_rate\": 0.2906725610137746, \"Firing rate\": 229.3540705752409, \"firing_rate\": 229.3540705752409, \"i_spike\": 3.75, \"isi\": -0.005360508821762533, \"log_isi diff\": -0.033939708777328104, \"log_isi\": null, \"Bayes condition CI0\": null, \"Bayes condition CI1\": null, \"Bayes condition mean\": null, \"zero\": 0}, {\"neuron\": 1.0, \"mouse_code\": 2.0, \"i_trial\": 0.0, \"neuron_code\": 0.0, \"log_firing_rate\": -0.03140547296819496, \"Firing rate\": -4.297252905678107, \"firing_rate\": -4.297252905678107, \"i_spike\": 20.0, \"isi\": -0.021565586127732378, \"log_isi diff\": -0.15621824106559679, \"log_isi\": null, \"Bayes condition CI0\": null, \"Bayes condition CI1\": null, \"Bayes condition mean\": null, \"zero\": 0}, {\"neuron\": 1.0, \"mouse_code\": 3.0, \"i_trial\": 0.0, \"neuron_code\": 0.0, \"log_firing_rate\": 0.12904354348257607, \"Firing rate\": 24.563913361102422, \"firing_rate\": 24.563913361102422, \"i_spike\": 21.75, \"isi\": -0.03206393308489891, \"log_isi diff\": -0.19424703037326485, \"log_isi\": null, \"Bayes condition CI0\": null, \"Bayes condition CI1\": null, \"Bayes condition mean\": null, \"zero\": 0}, {\"neuron\": 2.0, \"mouse_code\": 0.0, \"i_trial\": 0.0, \"neuron_code\": 0.0, \"log_firing_rate\": 0.2564104180699194, \"Firing rate\": 100.0490117694261, \"firing_rate\": 100.0490117694261, \"i_spike\": -3.5, \"isi\": 0.004482514200036571, \"log_isi diff\": 0.02789253226423205, \"log_isi\": null, \"Bayes condition CI0\": null, \"Bayes condition CI1\": null, \"Bayes condition mean\": null, \"zero\": 0}, {\"neuron\": 2.0, \"mouse_code\": 1.0, \"i_trial\": 0.0, \"neuron_code\": 0.0, \"log_firing_rate\": 0.019561323227758276, \"Firing rate\": 5.8273272424833635, \"firing_rate\": 5.8273272424833635, \"i_spike\": -3.0, \"isi\": 0.0034867244206908538, \"log_isi diff\": 0.023787961883624753, \"log_isi\": null, \"Bayes condition CI0\": null, \"Bayes condition CI1\": null, \"Bayes condition mean\": null, \"zero\": 0}, {\"neuron\": 2.0, \"mouse_code\": 2.0, \"i_trial\": 0.0, \"neuron_code\": 0.0, \"log_firing_rate\": -0.011514598324390724, \"Firing rate\": 1.4627775605128477, \"firing_rate\": 1.4627775605128477, \"i_spike\": 7.0, \"isi\": -0.006310847611454798, \"log_isi diff\": -0.04778617695653131, \"log_isi\": null, \"Bayes condition CI0\": null, \"Bayes condition CI1\": null, \"Bayes condition mean\": null, \"zero\": 0}, {\"neuron\": 2.0, \"mouse_code\": 3.0, \"i_trial\": 0.0, \"neuron_code\": 0.0, \"log_firing_rate\": 0.033619888282888866, \"Firing rate\": 12.294376300686665, \"firing_rate\": 12.294376300686665, \"i_spike\": 12.0, \"isi\": -0.01429186533707432, \"log_isi diff\": -0.09621721319442877, \"log_isi\": null, \"Bayes condition CI0\": null, \"Bayes condition CI1\": null, \"Bayes condition mean\": null, \"zero\": 0}, {\"neuron\": 3.0, \"mouse_code\": 0.0, \"i_trial\": 0.0, \"neuron_code\": 0.0, \"log_firing_rate\": -0.2232113750067639, \"Firing rate\": -62.48004608077255, \"firing_rate\": -62.48004608077255, \"i_spike\": -6.0, \"isi\": 0.003799814407936697, \"log_isi diff\": 0.03134628811747908, \"log_isi\": null, \"Bayes condition CI0\": null, \"Bayes condition CI1\": null, \"Bayes condition mean\": null, \"zero\": 0}, {\"neuron\": 3.0, \"mouse_code\": 1.0, \"i_trial\": 0.0, \"neuron_code\": 0.0, \"log_firing_rate\": -0.2531795167430899, \"Firing rate\": -96.29266019117813, \"firing_rate\": -96.29266019117813, \"i_spike\": 10.5, \"isi\": -0.008076788399791715, \"log_isi diff\": -0.06985488911311366, \"log_isi\": null, \"Bayes condition CI0\": null, \"Bayes condition CI1\": null, \"Bayes condition mean\": null, \"zero\": 0}, {\"neuron\": 3.0, \"mouse_code\": 2.0, \"i_trial\": 0.0, \"neuron_code\": 0.0, \"log_firing_rate\": 0.20048587482189806, \"Firing rate\": 52.55751420460933, \"firing_rate\": 52.55751420460933, \"i_spike\": 10.5, \"isi\": -0.008071666490593682, \"log_isi diff\": -0.06754239353041624, \"log_isi\": null, \"Bayes condition CI0\": null, \"Bayes condition CI1\": null, \"Bayes condition mean\": null, \"zero\": 0}, {\"neuron\": 3.0, \"mouse_code\": 3.0, \"i_trial\": 0.0, \"neuron_code\": 0.0, \"log_firing_rate\": 0.15321255288255564, \"Firing rate\": 71.61755352807214, \"firing_rate\": 71.61755352807214, \"i_spike\": 17.25, \"isi\": -0.012723407456189648, \"log_isi diff\": -0.11494553542264985, \"log_isi\": null, \"Bayes condition CI0\": null, \"Bayes condition CI1\": null, \"Bayes condition mean\": null, \"zero\": 0}, {\"neuron\": 4.0, \"mouse_code\": 0.0, \"i_trial\": 0.0, \"neuron_code\": 0.0, \"log_firing_rate\": 0.27219892131005263, \"Firing rate\": 97.76996258303564, \"firing_rate\": 97.76996258303564, \"i_spike\": 1.0, \"isi\": -0.0008041539693108696, \"log_isi diff\": -0.0064275232190058595, \"log_isi\": null, \"Bayes condition CI0\": null, \"Bayes condition CI1\": null, \"Bayes condition mean\": null, \"zero\": 0}, {\"neuron\": 4.0, \"mouse_code\": 1.0, \"i_trial\": 0.0, \"neuron_code\": 0.0, \"log_firing_rate\": -0.4807720206044124, \"Firing rate\": -589.1840533100158, \"firing_rate\": -589.1840533100158, \"i_spike\": 3.5, \"isi\": -0.0020312438258357074, \"log_isi diff\": -0.02265228297417643, \"log_isi\": null, \"Bayes condition CI0\": null, \"Bayes condition CI1\": null, \"Bayes condition mean\": null, \"zero\": 0}, {\"neuron\": 4.0, \"mouse_code\": 2.0, \"i_trial\": 0.0, \"neuron_code\": 0.0, \"log_firing_rate\": -0.2034352665459238, \"Firing rate\": -83.22486993211817, \"firing_rate\": -83.22486993211817, \"i_spike\": 0.25, \"isi\": -0.00036157591134780565, \"log_isi diff\": -0.002704167096466037, \"log_isi\": null, \"Bayes condition CI0\": null, \"Bayes condition CI1\": null, \"Bayes condition mean\": null, \"zero\": 0}, {\"neuron\": 4.0, \"mouse_code\": 3.0, \"i_trial\": 0.0, \"neuron_code\": 0.0, \"log_firing_rate\": 0.558775213462811, \"Firing rate\": 206.04101846235073, \"firing_rate\": 206.04101846235073, \"i_spike\": 25.75, \"isi\": -0.013121123530056844, \"log_isi diff\": -0.1356226908029503, \"log_isi\": null, \"Bayes condition CI0\": null, \"Bayes condition CI1\": null, \"Bayes condition mean\": null, \"zero\": 0}, {\"neuron\": 5.0, \"mouse_code\": 0.0, \"i_trial\": 0.0, \"neuron_code\": 0.0, \"log_firing_rate\": -0.09824592990646597, \"Firing rate\": -34.186135625880155, \"firing_rate\": -34.186135625880155, \"i_spike\": -2.25, \"isi\": 0.000572163911513407, \"log_isi diff\": 0.00876120897796917, \"log_isi\": null, \"Bayes condition CI0\": null, \"Bayes condition CI1\": null, \"Bayes condition mean\": null, \"zero\": 0}, {\"neuron\": 5.0, \"mouse_code\": 1.0, \"i_trial\": 0.0, \"neuron_code\": 0.0, \"log_firing_rate\": 0.08173195455544491, \"Firing rate\": 27.776900033099082, \"firing_rate\": 27.776900033099082, \"i_spike\": 14.0, \"isi\": -0.005156413844235347, \"log_isi diff\": -0.06341887629772813, \"log_isi\": null, \"Bayes condition CI0\": null, \"Bayes condition CI1\": null, \"Bayes condition mean\": null, \"zero\": 0}, {\"neuron\": 5.0, \"mouse_code\": 2.0, \"i_trial\": 0.0, \"neuron_code\": 0.0, \"log_firing_rate\": 0.2766915557198111, \"Firing rate\": 178.43049740099735, \"firing_rate\": 178.43049740099735, \"i_spike\": -4.75, \"isi\": 0.001608884117821105, \"log_isi diff\": 0.020632994967715312, \"log_isi\": null, \"Bayes condition CI0\": null, \"Bayes condition CI1\": null, \"Bayes condition mean\": null, \"zero\": 0}, {\"neuron\": 5.0, \"mouse_code\": 3.0, \"i_trial\": 0.0, \"neuron_code\": 0.0, \"log_firing_rate\": 0.02107830315872672, \"Firing rate\": 9.204003177025243, \"firing_rate\": 9.204003177025243, \"i_spike\": 22.0, \"isi\": -0.007562983699542961, \"log_isi diff\": -0.09502869280094073, \"log_isi\": null, \"Bayes condition CI0\": null, \"Bayes condition CI1\": null, \"Bayes condition mean\": null, \"zero\": 0}, {\"neuron\": 6.0, \"mouse_code\": 0.0, \"i_trial\": 0.0, \"neuron_code\": 0.0, \"log_firing_rate\": -0.036796979823730425, \"Firing rate\": -15.849187161054715, \"firing_rate\": -15.849187161054715, \"i_spike\": 14.25, \"isi\": -0.0036956769721671195, \"log_isi diff\": -0.05431999501994156, \"log_isi\": null, \"Bayes condition CI0\": null, \"Bayes condition CI1\": null, \"Bayes condition mean\": null, \"zero\": 0}, {\"neuron\": 6.0, \"mouse_code\": 1.0, \"i_trial\": 0.0, \"neuron_code\": 0.0, \"log_firing_rate\": 0.41776343881211053, \"Firing rate\": 252.3768961657487, \"firing_rate\": 252.3768961657487, \"i_spike\": 13.5, \"isi\": -0.003408232087472419, \"log_isi diff\": -0.05036914205889165, \"log_isi\": null, \"Bayes condition CI0\": null, \"Bayes condition CI1\": null, \"Bayes condition mean\": null, \"zero\": 0}, {\"neuron\": 6.0, \"mouse_code\": 2.0, \"i_trial\": 0.0, \"neuron_code\": 0.0, \"log_firing_rate\": -0.06802402487459958, \"Firing rate\": -35.361275020342305, \"firing_rate\": -35.361275020342305, \"i_spike\": -0.75, \"isi\": 0.00048688843838366747, \"log_isi diff\": 0.005050745633947251, \"log_isi\": null, \"Bayes condition CI0\": null, \"Bayes condition CI1\": null, \"Bayes condition mean\": null, \"zero\": 0}, {\"neuron\": 6.0, \"mouse_code\": 3.0, \"i_trial\": 0.0, \"neuron_code\": 0.0, \"log_firing_rate\": 0.08844313862431719, \"Firing rate\": 31.462952338192594, \"firing_rate\": 31.462952338192594, \"i_spike\": 6.75, \"isi\": -0.0012369776693829104, \"log_isi diff\": -0.020404685754424445, \"log_isi\": null, \"Bayes condition CI0\": null, \"Bayes condition CI1\": null, \"Bayes condition mean\": null, \"zero\": 0}, {\"neuron\": 7.0, \"mouse_code\": 0.0, \"i_trial\": 0.0, \"neuron_code\": 0.0, \"log_firing_rate\": 0.030781442673174286, \"Firing rate\": 9.672621347696293, \"firing_rate\": 9.672621347696293, \"i_spike\": 6.5, \"isi\": -0.0008769537165367949, \"log_isi diff\": -0.017045233527543058, \"log_isi\": null, \"Bayes condition CI0\": null, \"Bayes condition CI1\": null, \"Bayes condition mean\": null, \"zero\": 0}, {\"neuron\": 7.0, \"mouse_code\": 1.0, \"i_trial\": 0.0, \"neuron_code\": 0.0, \"log_firing_rate\": 0.1451339969979082, \"Firing rate\": 138.45717215030817, \"firing_rate\": 138.45717215030817, \"i_spike\": 1.0, \"isi\": -0.00031306555455067053, \"log_isi diff\": -0.004090011500892832, \"log_isi\": null, \"Bayes condition CI0\": null, \"Bayes condition CI1\": null, \"Bayes condition mean\": null, \"zero\": 0}, {\"neuron\": 7.0, \"mouse_code\": 2.0, \"i_trial\": 0.0, \"neuron_code\": 0.0, \"log_firing_rate\": 0.03520988556047033, \"Firing rate\": 4.5765145287764994, \"firing_rate\": 4.5765145287764994, \"i_spike\": 3.0, \"isi\": -0.000501861242291575, \"log_isi diff\": -0.008877062670344937, \"log_isi\": null, \"Bayes condition CI0\": null, \"Bayes condition CI1\": null, \"Bayes condition mean\": null, \"zero\": 0}, {\"neuron\": 7.0, \"mouse_code\": 3.0, \"i_trial\": 0.0, \"neuron_code\": 0.0, \"log_firing_rate\": -0.012387907577696033, \"Firing rate\": -59.000648710051564, \"firing_rate\": -59.000648710051564, \"i_spike\": 9.5, \"isi\": -0.0013349594650334529, \"log_isi diff\": -0.02526019035109961, \"log_isi\": null, \"Bayes condition CI0\": null, \"Bayes condition CI1\": null, \"Bayes condition mean\": null, \"zero\": 0}, {\"neuron\": 0.0, \"mouse_code\": null, \"i_trial\": 0.5, \"neuron_code\": 0.0, \"log_firing_rate\": 1.5097795337797049, \"Firing rate\": 35.676375092124744, \"firing_rate\": 35.676375092124744, \"i_spike\": 32.5, \"isi\": 0.1079056081534987, \"log_isi diff\": null, \"log_isi\": -0.9677231993181522, \"Bayes condition CI0\": 0.14944688975811005, \"Bayes condition CI1\": 0.7685436010360718, \"Bayes condition mean\": 0.45735591650009155, \"zero\": 0}, {\"neuron\": 1.0, \"mouse_code\": null, \"i_trial\": 0.5, \"neuron_code\": 4.0, \"log_firing_rate\": 2.098658668419218, \"Firing rate\": 125.99543745313804, \"firing_rate\": 125.99543745313804, \"i_spike\": 54.5, \"isi\": 0.06451861487452848, \"log_isi diff\": null, \"log_isi\": -1.192076751788341, \"Bayes condition CI0\": -0.018821194767951965, \"Bayes condition CI1\": 0.5699074864387512, \"Bayes condition mean\": 0.22356978058815002, \"zero\": 0}, {\"neuron\": 2.0, \"mouse_code\": null, \"i_trial\": 0.5, \"neuron_code\": 8.0, \"log_firing_rate\": 1.909572815908323, \"Firing rate\": 86.23047576505644, \"firing_rate\": 86.23047576505644, \"i_spike\": 61.25, \"isi\": 0.057271157229026495, \"log_isi diff\": null, \"log_isi\": -1.242334193154851, \"Bayes condition CI0\": -0.06730444729328156, \"Bayes condition CI1\": 0.49209970235824585, \"Bayes condition mean\": 0.24044154584407806, \"zero\": 0}, {\"neuron\": 3.0, \"mouse_code\": null, \"i_trial\": 0.5, \"neuron_code\": 12.0, \"log_firing_rate\": 2.173572136962851, \"Firing rate\": 151.7130990860624, \"firing_rate\": 151.7130990860624, \"i_spike\": 70.25, \"isi\": 0.050146700909035655, \"log_isi diff\": null, \"log_isi\": -1.300399317981544, \"Bayes condition CI0\": -0.33091992139816284, \"Bayes condition CI1\": 0.22806310653686523, \"Bayes condition mean\": -0.005193239543586969, \"zero\": 0}, {\"neuron\": 4.0, \"mouse_code\": null, \"i_trial\": 0.5, \"neuron_code\": 16.0, \"log_firing_rate\": 2.040416250372301, \"Firing rate\": 115.03920345422307, \"firing_rate\": 115.03920345422307, \"i_spike\": 83.0, \"isi\": 0.04225816669627386, \"log_isi diff\": null, \"log_isi\": -1.3761258106632042, \"Bayes condition CI0\": -0.45285892486572266, \"Bayes condition CI1\": -0.026901064440608025, \"Bayes condition mean\": -0.20873531699180603, \"zero\": 0}, {\"neuron\": 5.0, \"mouse_code\": null, \"i_trial\": 0.5, \"neuron_code\": 20.0, \"log_firing_rate\": 2.2492957710121697, \"Firing rate\": 183.36942264543723, \"firing_rate\": 183.36942264543723, \"i_spike\": 102.0, \"isi\": 0.034461776364349425, \"log_isi diff\": null, \"log_isi\": -1.4642731953768895, \"Bayes condition CI0\": -0.6621058583259583, \"Bayes condition CI1\": -0.14895987510681152, \"Bayes condition mean\": -0.4022081792354584, \"zero\": 0}, {\"neuron\": 6.0, \"mouse_code\": null, \"i_trial\": 0.5, \"neuron_code\": 24.0, \"log_firing_rate\": 2.3064085110172297, \"Firing rate\": 203.01025833813546, \"firing_rate\": 203.01025833813546, \"i_spike\": 110.0, \"isi\": 0.03152732309165779, \"log_isi diff\": null, \"log_isi\": -1.5014155759475227, \"Bayes condition CI0\": -0.8911278247833252, \"Bayes condition CI1\": -0.3100273907184601, \"Bayes condition mean\": -0.5913623571395874, \"zero\": 0}, {\"neuron\": 7.0, \"mouse_code\": null, \"i_trial\": 0.5, \"neuron_code\": 28.0, \"log_firing_rate\": 2.4253497165644466, \"Firing rate\": 276.28508833547755, \"firing_rate\": 276.28508833547755, \"i_spike\": 147.75, \"isi\": 0.023633028684322994, \"log_isi diff\": null, \"log_isi\": -1.62650432868119, \"Bayes condition CI0\": -1.152134656906128, \"Bayes condition CI1\": -0.4398503303527832, \"Bayes condition mean\": -0.8081485629081726, \"zero\": 0}]}}, {\"mode\": \"vega-lite\"});\n",
       "</script>"
      ],
      "text/plain": [
       "alt.LayerChart(...)"
      ]
     },
     "execution_count": 9,
     "metadata": {},
     "output_type": "execute_result"
    }
   ],
   "source": [
    "reload(visualization)\n",
    "visualization.plot_data_and_posterior(df_both,\n",
    "                                      y=f'{y} diff', x='neuron',color='mouse_code',\n",
    "                                      title=y,hold_for_facet=False,add_box=True)"
   ]
  },
  {
   "cell_type": "code",
   "execution_count": null,
   "metadata": {},
   "outputs": [],
   "source": []
  }
 ],
 "metadata": {
  "kernelspec": {
   "display_name": "PyCharm (jup)",
   "language": "python",
   "name": "pycharm-d5912792"
  },
  "language_info": {
   "codemirror_mode": {
    "name": "ipython",
    "version": 3
   },
   "file_extension": ".py",
   "mimetype": "text/x-python",
   "name": "python",
   "nbconvert_exporter": "python",
   "pygments_lexer": "ipython3",
   "version": "3.8.5"
  }
 },
 "nbformat": 4,
 "nbformat_minor": 4
}
