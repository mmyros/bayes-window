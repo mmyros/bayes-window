{
 "cells": [
  {
   "cell_type": "markdown",
   "metadata": {
    "hideCode": false,
    "hidePrompt": false
   },
   "source": [
    "# Neurons example via low-level, flexible interface\n",
    "## Prepare"
   ]
  },
  {
   "cell_type": "code",
   "execution_count": 1,
   "metadata": {
    "hideCode": false,
    "hidePrompt": false,
    "lines_to_end_of_cell_marker": 2,
    "lines_to_next_cell": 2
   },
   "outputs": [],
   "source": [
    "from bayes_window import models\n",
    "from bayes_window.fitting import fit_numpyro\n",
    "from bayes_window.generative_models import generate_fake_spikes\n",
    "from sklearn.preprocessing import LabelEncoder\n",
    "\n",
    "trans = LabelEncoder().fit_transform"
   ]
  },
  {
   "cell_type": "markdown",
   "metadata": {
    "hideCode": false,
    "hidePrompt": false
   },
   "source": [
    "## Make some data\n"
   ]
  },
  {
   "cell_type": "code",
   "execution_count": 2,
   "metadata": {
    "hideCode": false,
    "hidePrompt": false
   },
   "outputs": [],
   "source": [
    "df, df_monster, index_cols, firing_rates = generate_fake_spikes(n_trials=2,\n",
    "                                                                n_neurons=8,\n",
    "                                                                n_mice=4,\n",
    "                                                                dur=7, )"
   ]
  },
  {
   "cell_type": "code",
   "execution_count": 3,
   "metadata": {
    "hideCode": false,
    "hidePrompt": false
   },
   "outputs": [],
   "source": [
    "import numpy as np\n",
    "df['log_isi']=np.log10(df['isi'])"
   ]
  },
  {
   "cell_type": "code",
   "execution_count": 4,
   "metadata": {
    "hideCode": false,
    "hidePrompt": false,
    "scrolled": false
   },
   "outputs": [
    {
     "data": {
      "text/html": [
       "\n",
       "<div id=\"altair-viz-0e6f0f158aa84ce18f426a1ef3808740\"></div>\n",
       "<script type=\"text/javascript\">\n",
       "  (function(spec, embedOpt){\n",
       "    let outputDiv = document.currentScript.previousElementSibling;\n",
       "    if (outputDiv.id !== \"altair-viz-0e6f0f158aa84ce18f426a1ef3808740\") {\n",
       "      outputDiv = document.getElementById(\"altair-viz-0e6f0f158aa84ce18f426a1ef3808740\");\n",
       "    }\n",
       "    const paths = {\n",
       "      \"vega\": \"https://cdn.jsdelivr.net/npm//vega@5?noext\",\n",
       "      \"vega-lib\": \"https://cdn.jsdelivr.net/npm//vega-lib?noext\",\n",
       "      \"vega-lite\": \"https://cdn.jsdelivr.net/npm//vega-lite@4.8.1?noext\",\n",
       "      \"vega-embed\": \"https://cdn.jsdelivr.net/npm//vega-embed@6?noext\",\n",
       "    };\n",
       "\n",
       "    function loadScript(lib) {\n",
       "      return new Promise(function(resolve, reject) {\n",
       "        var s = document.createElement('script');\n",
       "        s.src = paths[lib];\n",
       "        s.async = true;\n",
       "        s.onload = () => resolve(paths[lib]);\n",
       "        s.onerror = () => reject(`Error loading script: ${paths[lib]}`);\n",
       "        document.getElementsByTagName(\"head\")[0].appendChild(s);\n",
       "      });\n",
       "    }\n",
       "\n",
       "    function showError(err) {\n",
       "      outputDiv.innerHTML = `<div class=\"error\" style=\"color:red;\">${err}</div>`;\n",
       "      throw err;\n",
       "    }\n",
       "\n",
       "    function displayChart(vegaEmbed) {\n",
       "      vegaEmbed(outputDiv, spec, embedOpt)\n",
       "        .catch(err => showError(`Javascript Error: ${err.message}<br>This usually means there's a typo in your chart specification. See the javascript console for the full traceback.`));\n",
       "    }\n",
       "\n",
       "    if(typeof define === \"function\" && define.amd) {\n",
       "      requirejs.config({paths});\n",
       "      require([\"vega-embed\"], displayChart, err => showError(`Error loading script: ${err.message}`));\n",
       "    } else if (typeof vegaEmbed === \"function\") {\n",
       "      displayChart(vegaEmbed);\n",
       "    } else {\n",
       "      loadScript(\"vega\")\n",
       "        .then(() => loadScript(\"vega-lite\"))\n",
       "        .then(() => loadScript(\"vega-embed\"))\n",
       "        .catch(showError)\n",
       "        .then(() => displayChart(vegaEmbed));\n",
       "    }\n",
       "  })({\"config\": {\"view\": {\"continuousWidth\": 400, \"continuousHeight\": 300}}, \"layer\": [{\"mark\": {\"type\": \"line\", \"fill\": null, \"opacity\": 0.5, \"size\": 3}, \"encoding\": {\"color\": {\"type\": \"nominal\", \"field\": \"mouse_code\"}, \"x\": {\"type\": \"ordinal\", \"field\": \"neuron\"}, \"y\": {\"type\": \"quantitative\", \"aggregate\": \"mean\", \"field\": \"isi diff\", \"scale\": {\"zero\": false}}}}, {\"mark\": {\"type\": \"boxplot\", \"color\": \"black\", \"opacity\": 0.3, \"size\": 12}, \"encoding\": {\"x\": {\"type\": \"ordinal\", \"field\": \"neuron\"}, \"y\": {\"type\": \"quantitative\", \"field\": \"isi diff\", \"scale\": {\"zero\": false}}}}], \"data\": {\"name\": \"data-f3185c8977a9dfa6d16b93ef4bbd7265\"}, \"$schema\": \"https://vega.github.io/schema/vega-lite/v4.8.1.json\", \"datasets\": {\"data-f3185c8977a9dfa6d16b93ef4bbd7265\": [{\"neuron\": 0, \"mouse_code\": 0, \"neuron_code\": null, \"i_trial\": 1.0, \"log_firing_rate\": 1.0062396564738763, \"Firing rate\": 1.2625614566608923, \"firing_rate\": 1.2625614566608923, \"i_spike\": 0.8793103448275862, \"isi diff\": 1.0887360127008747, \"log_isi\": 0.9651709221798094}, {\"neuron\": 1, \"mouse_code\": 0, \"neuron_code\": 1.0, \"i_trial\": 1.0, \"log_firing_rate\": 0.9527504337823461, \"Firing rate\": 0.8685329321032641, \"firing_rate\": 0.8685329321032641, \"i_spike\": 0.9421052631578948, \"isi diff\": 1.0381184498648344, \"log_isi\": 0.9819704333164196}, {\"neuron\": 2, \"mouse_code\": 0, \"neuron_code\": 1.0, \"i_trial\": 1.0, \"log_firing_rate\": 0.9455981549704332, \"Firing rate\": 0.9795140734258175, \"firing_rate\": 0.9795140734258175, \"i_spike\": 0.8640350877192983, \"isi diff\": 1.1594100919361665, \"log_isi\": 0.9472485974807929}, {\"neuron\": 3, \"mouse_code\": 0, \"neuron_code\": 1.0, \"i_trial\": 1.0, \"log_firing_rate\": 0.9945897819951804, \"Firing rate\": 0.9805277206719106, \"firing_rate\": 0.9805277206719106, \"i_spike\": 0.9857142857142858, \"isi diff\": 1.0227680032272164, \"log_isi\": 0.9937853315841395}, {\"neuron\": 4, \"mouse_code\": 0, \"neuron_code\": 1.0, \"i_trial\": 1.0, \"log_firing_rate\": 0.9371322103876982, \"Firing rate\": 0.743154291472929, \"firing_rate\": 0.743154291472929, \"i_spike\": 0.8303571428571429, \"isi diff\": 1.2020392079671312, \"log_isi\": 0.9426704691904619}, {\"neuron\": 5, \"mouse_code\": 0, \"neuron_code\": 1.0, \"i_trial\": 1.0, \"log_firing_rate\": 1.0507112926413367, \"Firing rate\": 1.3167972318795012, \"firing_rate\": 1.3167972318795012, \"i_spike\": 1.0736842105263158, \"isi diff\": 0.9505742786765757, \"log_isi\": 1.0151879874617142}, {\"neuron\": 6, \"mouse_code\": 0, \"neuron_code\": 1.0, \"i_trial\": 1.0, \"log_firing_rate\": 0.9602534118986775, \"Firing rate\": 0.8297281520252601, \"firing_rate\": 0.8297281520252601, \"i_spike\": 0.9728682170542635, \"isi diff\": 1.0451490992715962, \"log_isi\": 0.9878662785799711}, {\"neuron\": 7, \"mouse_code\": 0, \"neuron_code\": 1.0, \"i_trial\": 1.0, \"log_firing_rate\": 1.2160687287218501, \"Firing rate\": 4.480086543819088, \"firing_rate\": 4.480086543819088, \"i_spike\": 1.0098522167487685, \"isi diff\": 0.9847842573572915, \"log_isi\": 1.003774673495346}, {\"neuron\": 0, \"mouse_code\": 1, \"neuron_code\": 1.0, \"i_trial\": 1.0, \"log_firing_rate\": 0.9484708998654534, \"Firing rate\": 0.8508810630669387, \"firing_rate\": 0.8508810630669387, \"i_spike\": 0.9162011173184358, \"isi diff\": 1.0900275018653856, \"log_isi\": 0.9651018460572488}, {\"neuron\": 1, \"mouse_code\": 1, \"neuron_code\": 1.0, \"i_trial\": 1.0, \"log_firing_rate\": 1.2667138363365853, \"Firing rate\": 3.557200609767845, \"firing_rate\": 3.557200609767845, \"i_spike\": 1.08994708994709, \"isi diff\": 0.9323186384045384, \"log_isi\": 1.0265974414237102}, {\"neuron\": 2, \"mouse_code\": 1, \"neuron_code\": 1.0, \"i_trial\": 1.0, \"log_firing_rate\": 0.9716628071467469, \"Firing rate\": 0.9950745921765564, \"firing_rate\": 0.9950745921765564, \"i_spike\": 1.0304347826086957, \"isi diff\": 0.9810500602613238, \"log_isi\": 1.009958958661433}, {\"neuron\": 3, \"mouse_code\": 1, \"neuron_code\": 1.0, \"i_trial\": 1.0, \"log_firing_rate\": 1.0071772693391248, \"Firing rate\": 1.037286691829422, \"firing_rate\": 1.037286691829422, \"i_spike\": 1.0746268656716418, \"isi diff\": 0.8978105484802694, \"log_isi\": 1.0355050982733054}, {\"neuron\": 4, \"mouse_code\": 1, \"neuron_code\": 1.0, \"i_trial\": 1.0, \"log_firing_rate\": 1.0893707228016312, \"Firing rate\": 1.5344636519966284, \"firing_rate\": 1.5344636519966284, \"i_spike\": 1.2166666666666666, \"isi diff\": 0.8081943659278483, \"log_isi\": 1.0679074275185378}, {\"neuron\": 5, \"mouse_code\": 1, \"neuron_code\": 1.0, \"i_trial\": 1.0, \"log_firing_rate\": 1.2849021427158136, \"Firing rate\": 4.059488832590332, \"firing_rate\": 4.059488832590332, \"i_spike\": 1.132596685082873, \"isi diff\": 0.8747517831705338, \"log_isi\": 1.0410570583681342}, {\"neuron\": 6, \"mouse_code\": 1, \"neuron_code\": 1.0, \"i_trial\": 1.0, \"log_firing_rate\": 1.0429014299261579, \"Firing rate\": 1.3783568234845285, \"firing_rate\": 1.3783568234845285, \"i_spike\": 1.0798319327731092, \"isi diff\": 0.9151031076754864, \"log_isi\": 1.024213883081307}, {\"neuron\": 7, \"mouse_code\": 1, \"neuron_code\": 1.0, \"i_trial\": 1.0, \"log_firing_rate\": 0.9473106384676989, \"Firing rate\": 0.6120131065426294, \"firing_rate\": 0.6120131065426294, \"i_spike\": 0.9369951534733441, \"isi diff\": 1.0605316609165607, \"log_isi\": 0.9852769791256508}, {\"neuron\": 0, \"mouse_code\": 2, \"neuron_code\": 1.0, \"i_trial\": 1.0, \"log_firing_rate\": 1.0969766667432908, \"Firing rate\": 1.4539548532472473, \"firing_rate\": 1.4539548532472473, \"i_spike\": 1.2432432432432432, \"isi diff\": 0.7943870389254147, \"log_isi\": 1.0962137106676682}, {\"neuron\": 1, \"mouse_code\": 2, \"neuron_code\": 1.0, \"i_trial\": 1.0, \"log_firing_rate\": 1.0272535130599512, \"Firing rate\": 1.0747716121028557, \"firing_rate\": 1.0747716121028557, \"i_spike\": 1.1219512195121952, \"isi diff\": 0.8809722693606499, \"log_isi\": 1.0469956998889678}, {\"neuron\": 2, \"mouse_code\": 2, \"neuron_code\": 1.0, \"i_trial\": 1.0, \"log_firing_rate\": 1.0274417149479143, \"Firing rate\": 1.1659440153481109, \"firing_rate\": 1.1659440153481109, \"i_spike\": 1.2, \"isi diff\": 0.8406328145916147, \"log_isi\": 1.0634001088041218}, {\"neuron\": 3, \"mouse_code\": 2, \"neuron_code\": 1.0, \"i_trial\": 1.0, \"log_firing_rate\": 1.011375106411731, \"Firing rate\": 1.072822607636486, \"firing_rate\": 1.072822607636486, \"i_spike\": 1.0256410256410255, \"isi diff\": 1.0024432928173383, \"log_isi\": 0.9993901375996663}, {\"neuron\": 4, \"mouse_code\": 2, \"neuron_code\": 1.0, \"i_trial\": 1.0, \"log_firing_rate\": 1.0970336165390517, \"Firing rate\": 1.5507041219255209, \"firing_rate\": 1.5507041219255209, \"i_spike\": 1.1025641025641026, \"isi diff\": 0.9075758750664238, \"log_isi\": 1.0304104908220177}, {\"neuron\": 5, \"mouse_code\": 2, \"neuron_code\": 1.0, \"i_trial\": 1.0, \"log_firing_rate\": 1.0407672319365844, \"Firing rate\": 1.384276885961636, \"firing_rate\": 1.384276885961636, \"i_spike\": 1.1662198391420913, \"isi diff\": 0.8601515879929301, \"log_isi\": 1.0458443581330943}, {\"neuron\": 6, \"mouse_code\": 2, \"neuron_code\": 1.0, \"i_trial\": 1.0, \"log_firing_rate\": 0.9717001899268609, \"Firing rate\": 0.8608116548622213, \"firing_rate\": 0.8608116548622213, \"i_spike\": 1.0351239669421488, \"isi diff\": 0.9684105616219042, \"log_isi\": 1.0096272037632632}, {\"neuron\": 7, \"mouse_code\": 2, \"neuron_code\": 1.0, \"i_trial\": 1.0, \"log_firing_rate\": 0.9447251353695129, \"Firing rate\": 0.682574104782109, \"firing_rate\": 0.682574104782109, \"i_spike\": 1.0438448566610454, \"isi diff\": 0.9577452879026019, \"log_isi\": 1.01156343574749}, {\"neuron\": 0, \"mouse_code\": 3, \"neuron_code\": 1.0, \"i_trial\": 1.0, \"log_firing_rate\": 1.1366833106700054, \"Firing rate\": 1.956851350238652, \"firing_rate\": 1.956851350238652, \"i_spike\": 1.1047120418848169, \"isi diff\": 0.9133977083214158, \"log_isi\": 1.033955831200558}, {\"neuron\": 1, \"mouse_code\": 3, \"neuron_code\": 1.0, \"i_trial\": 1.0, \"log_firing_rate\": 1.434951451939699, \"Firing rate\": 9.160140562609365, \"firing_rate\": 9.160140562609365, \"i_spike\": 1.2311827956989247, \"isi diff\": 0.8162167698069884, \"log_isi\": 1.077849788632095}, {\"neuron\": 2, \"mouse_code\": 3, \"neuron_code\": 1.0, \"i_trial\": 1.0, \"log_firing_rate\": 0.8940765166742488, \"Firing rate\": 0.5079540443564773, \"firing_rate\": 0.5079540443564773, \"i_spike\": 1.0303030303030303, \"isi diff\": 0.9711828505331448, \"log_isi\": 1.0090857670437754}, {\"neuron\": 3, \"mouse_code\": 3, \"neuron_code\": 1.0, \"i_trial\": 1.0, \"log_firing_rate\": 1.0644800525597555, \"Firing rate\": 1.4048831460833358, \"firing_rate\": 1.4048831460833358, \"i_spike\": 1.2435424354243543, \"isi diff\": 0.7950400451600104, \"log_isi\": 1.0775106826216345}, {\"neuron\": 4, \"mouse_code\": 3, \"neuron_code\": 1.0, \"i_trial\": 1.0, \"log_firing_rate\": 1.1244930045919153, \"Firing rate\": 1.8695678507134703, \"firing_rate\": 1.8695678507134703, \"i_spike\": 1.146031746031746, \"isi diff\": 0.8763866241721899, \"log_isi\": 1.0426536262041106}, {\"neuron\": 5, \"mouse_code\": 3, \"neuron_code\": 1.0, \"i_trial\": 1.0, \"log_firing_rate\": 0.654713055452571, \"Firing rate\": 0.001776175265370289, \"firing_rate\": 0.001776175265370289, \"i_spike\": 1.0378787878787878, \"isi diff\": 0.9687022402824168, \"log_isi\": 1.0096442665238474}, {\"neuron\": 6, \"mouse_code\": 3, \"neuron_code\": 1.0, \"i_trial\": 1.0, \"log_firing_rate\": 0.9268647970529594, \"Firing rate\": 0.7605402921804648, \"firing_rate\": 0.7605402921804648, \"i_spike\": 0.9295238095238095, \"isi diff\": 1.1043033147897119, \"log_isi\": 0.9743207782484382}, {\"neuron\": 7, \"mouse_code\": 3, \"neuron_code\": 1.0, \"i_trial\": 1.0, \"log_firing_rate\": 1.381063495032154, \"Firing rate\": 23.09693806630201, \"firing_rate\": 23.09693806630201, \"i_spike\": 1.0834752981260647, \"isi diff\": 0.9194859601997842, \"log_isi\": 1.0223130889232384}]}}, {\"mode\": \"vega-lite\"});\n",
       "</script>"
      ],
      "text/plain": [
       "alt.LayerChart(...)"
      ]
     },
     "execution_count": 4,
     "metadata": {},
     "output_type": "execute_result"
    }
   ],
   "source": [
    "from bayes_window import visualization,utils\n",
    "from importlib import reload\n",
    "reload(visualization)\n",
    "reload(utils)\n",
    "y='isi'\n",
    "df['neuron']=df['neuron'].astype(int)\n",
    "ddf, dy = utils.make_fold_change(df,\n",
    "                         y=y,\n",
    "                         index_cols=('stim', 'mouse_code', 'neuron'),\n",
    "                         treatment_name='stim',\n",
    "                         do_take_mean=True)\n",
    "\n",
    "visualization.plot_data(x='neuron',y=dy, color='mouse_code',add_box=True,df=ddf)"
   ]
  },
  {
   "cell_type": "markdown",
   "metadata": {
    "hideCode": false,
    "hidePrompt": false
   },
   "source": [
    "## Estimate model"
   ]
  },
  {
   "cell_type": "code",
   "execution_count": 6,
   "metadata": {
    "hideCode": false,
    "hidePrompt": false
   },
   "outputs": [
    {
     "name": "stderr",
     "output_type": "stream",
     "text": [
      "sample: 100%|██████████| 1100/1100 [00:06<00:00, 157.94it/s, 31 steps of size 2.18e-01. acc. prob=0.85]\n"
     ]
    },
    {
     "name": "stdout",
     "output_type": "stream",
     "text": [
      "n(Divergences) = 0\n"
     ]
    }
   ],
   "source": [
    "#y = list(set(df.columns) - set(index_cols))[0]\n",
    "trace = fit_numpyro(y=df[y].values,\n",
    "                    stim=(df['stim']).astype(int).values,\n",
    "                    treat=trans(df['neuron']),\n",
    "                    subject=trans(df['mouse']),\n",
    "                    progress_bar=True,\n",
    "                    model=models.model_hier_normal_stim,\n",
    "                    n_draws=100, num_chains=1, )"
   ]
  },
  {
   "cell_type": "markdown",
   "metadata": {
    "hideCode": false,
    "hidePrompt": false
   },
   "source": [
    "## Add data back"
   ]
  },
  {
   "cell_type": "code",
   "execution_count": 7,
   "metadata": {
    "hideCode": false,
    "hidePrompt": false
   },
   "outputs": [],
   "source": [
    "reload(utils)\n",
    "df_both = utils.add_data_to_posterior(df,\n",
    "                                trace=trace,\n",
    "                                y=y,\n",
    "                                index_cols=['neuron', 'stim', 'mouse_code', ],\n",
    "                                treatment_name='stim',\n",
    "                                b_name='b_stim_per_condition',  # for posterior\n",
    "                                group_name='neuron'  # for posterior\n",
    "                                )"
   ]
  },
  {
   "cell_type": "markdown",
   "metadata": {
    "hideCode": false,
    "hidePrompt": false
   },
   "source": [
    "## Plot data and posterior"
   ]
  },
  {
   "cell_type": "code",
   "execution_count": 8,
   "metadata": {
    "hideCode": false,
    "hidePrompt": false
   },
   "outputs": [
    {
     "data": {
      "text/html": [
       "\n",
       "<div id=\"altair-viz-6e22ce570cbd4ea69b0db61986ebda9e\"></div>\n",
       "<script type=\"text/javascript\">\n",
       "  (function(spec, embedOpt){\n",
       "    let outputDiv = document.currentScript.previousElementSibling;\n",
       "    if (outputDiv.id !== \"altair-viz-6e22ce570cbd4ea69b0db61986ebda9e\") {\n",
       "      outputDiv = document.getElementById(\"altair-viz-6e22ce570cbd4ea69b0db61986ebda9e\");\n",
       "    }\n",
       "    const paths = {\n",
       "      \"vega\": \"https://cdn.jsdelivr.net/npm//vega@5?noext\",\n",
       "      \"vega-lib\": \"https://cdn.jsdelivr.net/npm//vega-lib?noext\",\n",
       "      \"vega-lite\": \"https://cdn.jsdelivr.net/npm//vega-lite@4.8.1?noext\",\n",
       "      \"vega-embed\": \"https://cdn.jsdelivr.net/npm//vega-embed@6?noext\",\n",
       "    };\n",
       "\n",
       "    function loadScript(lib) {\n",
       "      return new Promise(function(resolve, reject) {\n",
       "        var s = document.createElement('script');\n",
       "        s.src = paths[lib];\n",
       "        s.async = true;\n",
       "        s.onload = () => resolve(paths[lib]);\n",
       "        s.onerror = () => reject(`Error loading script: ${paths[lib]}`);\n",
       "        document.getElementsByTagName(\"head\")[0].appendChild(s);\n",
       "      });\n",
       "    }\n",
       "\n",
       "    function showError(err) {\n",
       "      outputDiv.innerHTML = `<div class=\"error\" style=\"color:red;\">${err}</div>`;\n",
       "      throw err;\n",
       "    }\n",
       "\n",
       "    function displayChart(vegaEmbed) {\n",
       "      vegaEmbed(outputDiv, spec, embedOpt)\n",
       "        .catch(err => showError(`Javascript Error: ${err.message}<br>This usually means there's a typo in your chart specification. See the javascript console for the full traceback.`));\n",
       "    }\n",
       "\n",
       "    if(typeof define === \"function\" && define.amd) {\n",
       "      requirejs.config({paths});\n",
       "      require([\"vega-embed\"], displayChart, err => showError(`Error loading script: ${err.message}`));\n",
       "    } else if (typeof vegaEmbed === \"function\") {\n",
       "      displayChart(vegaEmbed);\n",
       "    } else {\n",
       "      loadScript(\"vega\")\n",
       "        .then(() => loadScript(\"vega-lite\"))\n",
       "        .then(() => loadScript(\"vega-embed\"))\n",
       "        .catch(showError)\n",
       "        .then(() => displayChart(vegaEmbed));\n",
       "    }\n",
       "  })({\"config\": {\"view\": {\"continuousWidth\": 400, \"continuousHeight\": 300}}, \"layer\": [{\"mark\": {\"type\": \"line\", \"fill\": null, \"opacity\": 0.5, \"size\": 3}, \"encoding\": {\"color\": {\"type\": \"nominal\", \"field\": \"mouse_code\"}, \"x\": {\"type\": \"ordinal\", \"field\": \"neuron\"}, \"y\": {\"type\": \"quantitative\", \"aggregate\": \"mean\", \"field\": \"isi diff\", \"scale\": {\"zero\": false}}}}, {\"mark\": {\"type\": \"boxplot\", \"color\": \"black\", \"opacity\": 0.3, \"size\": 12}, \"encoding\": {\"x\": {\"type\": \"ordinal\", \"field\": \"neuron\"}, \"y\": {\"type\": \"quantitative\", \"field\": \"isi diff\", \"scale\": {\"zero\": false}}}}], \"data\": {\"name\": \"data-6cee12c6a1d0bb0ce7c68ca295627667\"}, \"$schema\": \"https://vega.github.io/schema/vega-lite/v4.8.1.json\", \"datasets\": {\"data-6cee12c6a1d0bb0ce7c68ca295627667\": [{\"neuron\": 0, \"mouse_code\": 0, \"neuron_code\": 0.0, \"i_trial\": 0.0, \"log_firing_rate\": 0.011705134502613346, \"Firing rate\": 19.761836945017734, \"firing_rate\": 19.761836945017734, \"i_spike\": -5.25, \"isi diff\": 0.007229895634893235, \"lower HDI\": 0.28328683972358704, \"higher HDI\": 0.9977189898490906, \"mean HDI\": 0.6835654973983765, \"log_isi\": 0.03797850237735845}, {\"neuron\": 0, \"mouse_code\": 1, \"neuron_code\": 0.0, \"i_trial\": 0.0, \"log_firing_rate\": -0.09787917937700241, \"Firing rate\": -11.856084952991296, \"firing_rate\": -11.856084952991296, \"i_spike\": -3.75, \"isi diff\": 0.007096951843653609, \"lower HDI\": 0.28328683972358704, \"higher HDI\": 0.9977189898490906, \"mean HDI\": 0.6835654973983765, \"log_isi\": 0.0385990640260625}, {\"neuron\": 0, \"mouse_code\": 2, \"neuron_code\": 0.0, \"i_trial\": 0.0, \"log_firing_rate\": 0.16449188380621194, \"Firing rate\": 22.975791162460197, \"firing_rate\": 22.975791162460197, \"i_spike\": 9.0, \"isi diff\": -0.01945806529823943, \"lower HDI\": 0.28328683972358704, \"higher HDI\": 0.9977189898490906, \"mean HDI\": 0.6835654973983765, \"log_isi\": -0.09864702378545465}, {\"neuron\": 0, \"mouse_code\": 3, \"neuron_code\": 0.0, \"i_trial\": 0.0, \"log_firing_rate\": 0.2562957202578966, \"Firing rate\": 74.56965634598711, \"firing_rate\": 74.56965634598711, \"i_spike\": 5.0, \"isi diff\": -0.00629554233357997, \"lower HDI\": 0.28328683972358704, \"higher HDI\": 0.9977189898490906, \"mean HDI\": 0.6835654973983765, \"log_isi\": -0.038699736159240716}, {\"neuron\": 1, \"mouse_code\": 0, \"neuron_code\": 0.0, \"i_trial\": 0.0, \"log_firing_rate\": -0.08296054342185277, \"Firing rate\": -7.618573239163268, \"firing_rate\": -7.618573239163268, \"i_spike\": -2.75, \"isi diff\": 0.002864412710549352, \"lower HDI\": 0.12391844391822815, \"higher HDI\": 0.6175664067268372, \"mean HDI\": 0.3879251182079315, \"log_isi\": 0.020352112573475578}, {\"neuron\": 1, \"mouse_code\": 1, \"neuron_code\": 0.0, \"i_trial\": 0.0, \"log_firing_rate\": 0.49210163910244287, \"Firing rate\": 179.62046140837634, \"firing_rate\": 179.62046140837634, \"i_spike\": 4.25, \"isi diff\": -0.004958163284620343, \"lower HDI\": 0.12391844391822815, \"higher HDI\": 0.6175664067268372, \"mean HDI\": 0.3879251182079315, \"log_isi\": -0.030248700007655227}, {\"neuron\": 1, \"mouse_code\": 2, \"neuron_code\": 0.0, \"i_trial\": 0.0, \"log_firing_rate\": 0.05702472412043713, \"Firing rate\": 10.030337059175821, \"firing_rate\": 10.030337059175821, \"i_spike\": 6.25, \"isi diff\": -0.008047827814971528, \"lower HDI\": 0.12391844391822815, \"higher HDI\": 0.6175664067268372, \"mean HDI\": 0.3879251182079315, \"log_isi\": -0.054996516652599636}, {\"neuron\": 1, \"mouse_code\": 3, \"neuron_code\": 0.0, \"i_trial\": 0.0, \"log_firing_rate\": 0.7795438811001822, \"Firing rate\": 518.3590879954368, \"firing_rate\": 518.3590879954368, \"i_spike\": 10.75, \"isi diff\": -0.013621025342546972, \"lower HDI\": 0.12391844391822815, \"higher HDI\": 0.6175664067268372, \"mean HDI\": 0.3879251182079315, \"log_isi\": -0.0881083345959115}, {\"neuron\": 2, \"mouse_code\": 0, \"neuron_code\": 0.0, \"i_trial\": 0.0, \"log_firing_rate\": -0.11103022387574146, \"Firing rate\": -2.260635810239492, \"firing_rate\": -2.260635810239492, \"i_spike\": -7.75, \"isi diff\": 0.00981309179000335, \"lower HDI\": 0.008637703955173492, \"higher HDI\": 0.4696796238422394, \"mean HDI\": 0.25378620624542236, \"log_isi\": 0.06387163816829955}, {\"neuron\": 2, \"mouse_code\": 1, \"neuron_code\": 0.0, \"i_trial\": 0.0, \"log_firing_rate\": -0.059416609854578084, \"Firing rate\": -0.6226832827486106, \"firing_rate\": -0.6226832827486106, \"i_spike\": 1.75, \"isi diff\": -0.001134062317699941, \"lower HDI\": 0.008637703955173492, \"higher HDI\": 0.4696796238422394, \"mean HDI\": 0.25378620624542236, \"log_isi\": -0.012180852857398117}, {\"neuron\": 2, \"mouse_code\": 2, \"neuron_code\": 0.0, \"i_trial\": 0.0, \"log_firing_rate\": 0.05327438499508852, \"Firing rate\": 14.75513300731015, \"firing_rate\": 14.75513300731015, \"i_spike\": 10.5, \"isi diff\": -0.010377084636967612, \"lower HDI\": 0.008637703955173492, \"higher HDI\": 0.4696796238422394, \"mean HDI\": 0.25378620624542236, \"log_isi\": -0.07523405947372241}, {\"neuron\": 2, \"mouse_code\": 3, \"neuron_code\": 0.0, \"i_trial\": 0.0, \"log_firing_rate\": -0.2425823923968995, \"Firing rate\": -108.76750156454814, \"firing_rate\": -108.76750156454814, \"i_spike\": 1.75, \"isi diff\": -0.0017472644923677283, \"lower HDI\": 0.008637703955173492, \"higher HDI\": 0.4696796238422394, \"mean HDI\": 0.25378620624542236, \"log_isi\": -0.011079931585610048}, {\"neuron\": 3, \"mouse_code\": 0, \"neuron_code\": 0.0, \"i_trial\": 0.0, \"log_firing_rate\": -0.011096687735080657, \"Firing rate\": -2.2011156172424364, \"firing_rate\": -2.2011156172424364, \"i_spike\": -1.0, \"isi diff\": 0.0011505373606914143, \"lower HDI\": -0.22533558309078217, \"higher HDI\": 0.18649910390377045, \"mean HDI\": -0.008148375898599625, \"log_isi\": 0.008069559289291206}, {\"neuron\": 3, \"mouse_code\": 1, \"neuron_code\": 0.0, \"i_trial\": 0.0, \"log_firing_rate\": 0.01508571485198873, \"Firing rate\": 4.9348306348986455, \"firing_rate\": 4.9348306348986455, \"i_spike\": 5.0, \"isi diff\": -0.005391687748429713, \"lower HDI\": -0.22533558309078217, \"higher HDI\": 0.18649910390377045, \"mean HDI\": -0.008148375898599625, \"log_isi\": -0.04541767073787639}, {\"neuron\": 3, \"mouse_code\": 2, \"neuron_code\": 0.0, \"i_trial\": 0.0, \"log_firing_rate\": 0.02382899553993001, \"Firing rate\": 9.336925169561624, \"firing_rate\": 9.336925169561624, \"i_spike\": 1.75, \"isi diff\": 0.00012193538530609616, \"lower HDI\": -0.22533558309078217, \"higher HDI\": 0.18649910390377045, \"mean HDI\": -0.008148375898599625, \"log_isi\": 0.0007940818100868885}, {\"neuron\": 3, \"mouse_code\": 3, \"neuron_code\": 0.0, \"i_trial\": 0.0, \"log_firing_rate\": 0.12601157018674058, \"Firing rate\": 36.48118048014007, \"firing_rate\": 36.48118048014007, \"i_spike\": 16.5, \"isi diff\": -0.010571345594555796, \"lower HDI\": -0.22533558309078217, \"higher HDI\": 0.18649910390377045, \"mean HDI\": -0.008148375898599625, \"log_isi\": -0.09983231970148587}, {\"neuron\": 4, \"mouse_code\": 0, \"neuron_code\": 0.0, \"i_trial\": 0.0, \"log_firing_rate\": -0.13052055280751285, \"Firing rate\": -30.609270433640432, \"firing_rate\": -30.609270433640432, \"i_spike\": -14.25, \"isi diff\": 0.008385950250804144, \"lower HDI\": -0.42041677236557007, \"higher HDI\": 0.023909110575914383, \"mean HDI\": -0.18253107368946075, \"log_isi\": 0.07922398747801895}, {\"neuron\": 4, \"mouse_code\": 1, \"neuron_code\": 0.0, \"i_trial\": 0.0, \"log_firing_rate\": 0.18463521277146366, \"Firing rate\": 62.211286139574554, \"firing_rate\": 62.211286139574554, \"i_spike\": 16.25, \"isi diff\": -0.009037427037851459, \"lower HDI\": -0.42041677236557007, \"higher HDI\": 0.023909110575914383, \"mean HDI\": -0.18253107368946075, \"log_isi\": -0.09025938203435868}, {\"neuron\": 4, \"mouse_code\": 2, \"neuron_code\": 0.0, \"i_trial\": 0.0, \"log_firing_rate\": 0.19376028915162857, \"Firing rate\": 56.087555084713884, \"firing_rate\": 56.087555084713884, \"i_spike\": 9.0, \"isi diff\": -0.0036902477913820578, \"lower HDI\": -0.42041677236557007, \"higher HDI\": 0.023909110575914383, \"mean HDI\": -0.18253107368946075, \"log_isi\": -0.042562945860905366}, {\"neuron\": 4, \"mouse_code\": 3, \"neuron_code\": 0.0, \"i_trial\": 0.0, \"log_firing_rate\": 0.261814996216863, \"Firing rate\": 120.80746955762393, \"firing_rate\": 120.80746955762393, \"i_spike\": 11.5, \"isi diff\": -0.005457960510169009, \"lower HDI\": -0.42041677236557007, \"higher HDI\": 0.023909110575914383, \"mean HDI\": -0.18253107368946075, \"log_isi\": -0.05780177197241243}, {\"neuron\": 5, \"mouse_code\": 0, \"neuron_code\": 0.0, \"i_trial\": 0.0, \"log_firing_rate\": 0.1083174317342781, \"Firing rate\": 43.9194732562286, \"firing_rate\": 43.9194732562286, \"i_spike\": 7.0, \"isi diff\": -0.0017818249127573293, \"lower HDI\": -0.5851635932922363, \"higher HDI\": -0.08950463682413101, \"mean HDI\": -0.34912827610969543, \"log_isi\": -0.021920026568269968}, {\"neuron\": 5, \"mouse_code\": 1, \"neuron_code\": 0.0, \"i_trial\": 0.0, \"log_firing_rate\": 0.5752476108051479, \"Firing rate\": 320.08333320339165, \"firing_rate\": 320.08333320339165, \"i_spike\": 12.0, \"isi diff\": -0.004866205663753863, \"lower HDI\": -0.5851635932922363, \"higher HDI\": -0.08950463682413101, \"mean HDI\": -0.34912827610969543, \"log_isi\": -0.05793607347937613}, {\"neuron\": 5, \"mouse_code\": 2, \"neuron_code\": 0.0, \"i_trial\": 0.0, \"log_firing_rate\": 0.09047616583727347, \"Firing rate\": 64.02973992966642, \"firing_rate\": 64.02973992966642, \"i_spike\": 15.5, \"isi diff\": -0.005240994746329594, \"lower HDI\": -0.5851635932922363, \"higher HDI\": -0.08950463682413101, \"mean HDI\": -0.34912827610969543, \"log_isi\": -0.0653869871379027}, {\"neuron\": 5, \"mouse_code\": 3, \"neuron_code\": 0.0, \"i_trial\": 0.0, \"log_firing_rate\": -1.3241234051953095, \"Firing rate\": -183033.45064723038, \"firing_rate\": -183033.45064723038, \"i_spike\": 3.75, \"isi diff\": -0.0010899391081963458, \"lower HDI\": -0.5851635932922363, \"higher HDI\": -0.08950463682413101, \"mean HDI\": -0.34912827610969543, \"log_isi\": -0.014062617296441982}, {\"neuron\": 6, \"mouse_code\": 0, \"neuron_code\": 0.0, \"i_trial\": 0.0, \"log_firing_rate\": -0.10223114918786491, \"Firing rate\": -66.73554530543629, \"firing_rate\": -66.73554530543629, \"i_spike\": -3.5, \"isi diff\": 0.0012063991011434967, \"lower HDI\": -0.7105212211608887, \"higher HDI\": -0.17674095928668976, \"mean HDI\": -0.45644471049308777, \"log_isi\": 0.019089595687020955}, {\"neuron\": 6, \"mouse_code\": 1, \"neuron_code\": 0.0, \"i_trial\": 0.0, \"log_firing_rate\": 0.10384236332687591, \"Firing rate\": 118.03310812621578, \"firing_rate\": 118.03310812621578, \"i_spike\": 9.5, \"isi diff\": -0.0025264424655525378, \"lower HDI\": -0.7105212211608887, \"higher HDI\": -0.17674095928668976, \"mean HDI\": -0.45644471049308777, \"log_isi\": -0.0370044627123709}, {\"neuron\": 6, \"mouse_code\": 2, \"neuron_code\": 0.0, \"i_trial\": 0.0, \"log_firing_rate\": -0.06538274496135976, \"Firing rate\": -28.98149430532945, \"firing_rate\": -28.98149430532945, \"i_spike\": 4.25, \"isi diff\": -0.0009138371982290311, \"lower HDI\": -0.7105212211608887, \"higher HDI\": -0.17674095928668976, \"mean HDI\": -0.45644471049308777, \"log_isi\": -0.014815363576366147}, {\"neuron\": 6, \"mouse_code\": 3, \"neuron_code\": 0.0, \"i_trial\": 0.0, \"log_firing_rate\": -0.1742763583416984, \"Firing rate\": -57.83583868212398, \"firing_rate\": -57.83583868212398, \"i_spike\": -9.25, \"isi diff\": 0.002736747502339959, \"lower HDI\": -0.7105212211608887, \"higher HDI\": -0.17674095928668976, \"mean HDI\": -0.45644471049308777, \"log_isi\": 0.040602726760917474}, {\"neuron\": 7, \"mouse_code\": 0, \"neuron_code\": 0.0, \"i_trial\": 0.0, \"log_firing_rate\": 0.5326503841646497, \"Firing rate\": 1020.9960907077689, \"firing_rate\": 1020.9960907077689, \"i_spike\": 1.5, \"isi diff\": -0.00035058858681794383, \"lower HDI\": -0.8546572327613831, \"higher HDI\": -0.15718147158622742, \"mean HDI\": -0.5661606192588806, \"log_isi\": -0.006182883308137654}, {\"neuron\": 7, \"mouse_code\": 1, \"neuron_code\": 0.0, \"i_trial\": 0.0, \"log_firing_rate\": -0.1356862529390872, \"Firing rate\": -174.54051519680945, \"firing_rate\": -174.54051519680945, \"i_spike\": -9.75, \"isi diff\": 0.0013712554651753896, \"lower HDI\": -0.8546572327613831, \"higher HDI\": -0.15718147158622742, \"mean HDI\": -0.5661606192588806, \"log_isi\": 0.024225636522333893}, {\"neuron\": 7, \"mouse_code\": 2, \"neuron_code\": 0.0, \"i_trial\": 0.0, \"log_firing_rate\": -0.1392716742030604, \"Firing rate\": -113.54029732754464, \"firing_rate\": -113.54029732754464, \"i_spike\": 6.5, \"isi diff\": -0.0009954578799181713, \"lower HDI\": -0.8546572327613831, \"higher HDI\": -0.15718147158622742, \"mean HDI\": -0.5661606192588806, \"log_isi\": -0.018823568941770397}, {\"neuron\": 7, \"mouse_code\": 3, \"neuron_code\": 0.0, \"i_trial\": 0.0, \"log_firing_rate\": 0.9048965740734034, \"Firing rate\": 5240.3526769405935, \"firing_rate\": 5240.3526769405935, \"i_spike\": 12.25, \"isi diff\": -0.0019210644848399044, \"lower HDI\": -0.8546572327613831, \"higher HDI\": -0.15718147158622742, \"mean HDI\": -0.5661606192588806, \"log_isi\": -0.03620477790385679}]}}, {\"mode\": \"vega-lite\"});\n",
       "</script>"
      ],
      "text/plain": [
       "alt.LayerChart(...)"
      ]
     },
     "execution_count": 8,
     "metadata": {},
     "output_type": "execute_result"
    }
   ],
   "source": [
    "#BayesWindow.plot_posteriors_slopes(df_both, y=f'{y} diff', x='neuron',color='mouse_code',title=y,hold_for_facet=False,add_box=False)\n",
    "\n",
    "\n",
    "chart_d = visualization.plot_data(df=df_both,x='neuron', y=f'{y} diff',color='mouse_code')\n",
    "chart_d"
   ]
  },
  {
   "cell_type": "code",
   "execution_count": 9,
   "metadata": {
    "hideCode": false,
    "hidePrompt": false,
    "scrolled": false
   },
   "outputs": [
    {
     "data": {
      "text/html": [
       "\n",
       "<div id=\"altair-viz-401ddeb9045547ab98224ebf85485f65\"></div>\n",
       "<script type=\"text/javascript\">\n",
       "  (function(spec, embedOpt){\n",
       "    let outputDiv = document.currentScript.previousElementSibling;\n",
       "    if (outputDiv.id !== \"altair-viz-401ddeb9045547ab98224ebf85485f65\") {\n",
       "      outputDiv = document.getElementById(\"altair-viz-401ddeb9045547ab98224ebf85485f65\");\n",
       "    }\n",
       "    const paths = {\n",
       "      \"vega\": \"https://cdn.jsdelivr.net/npm//vega@5?noext\",\n",
       "      \"vega-lib\": \"https://cdn.jsdelivr.net/npm//vega-lib?noext\",\n",
       "      \"vega-lite\": \"https://cdn.jsdelivr.net/npm//vega-lite@4.8.1?noext\",\n",
       "      \"vega-embed\": \"https://cdn.jsdelivr.net/npm//vega-embed@6?noext\",\n",
       "    };\n",
       "\n",
       "    function loadScript(lib) {\n",
       "      return new Promise(function(resolve, reject) {\n",
       "        var s = document.createElement('script');\n",
       "        s.src = paths[lib];\n",
       "        s.async = true;\n",
       "        s.onload = () => resolve(paths[lib]);\n",
       "        s.onerror = () => reject(`Error loading script: ${paths[lib]}`);\n",
       "        document.getElementsByTagName(\"head\")[0].appendChild(s);\n",
       "      });\n",
       "    }\n",
       "\n",
       "    function showError(err) {\n",
       "      outputDiv.innerHTML = `<div class=\"error\" style=\"color:red;\">${err}</div>`;\n",
       "      throw err;\n",
       "    }\n",
       "\n",
       "    function displayChart(vegaEmbed) {\n",
       "      vegaEmbed(outputDiv, spec, embedOpt)\n",
       "        .catch(err => showError(`Javascript Error: ${err.message}<br>This usually means there's a typo in your chart specification. See the javascript console for the full traceback.`));\n",
       "    }\n",
       "\n",
       "    if(typeof define === \"function\" && define.amd) {\n",
       "      requirejs.config({paths});\n",
       "      require([\"vega-embed\"], displayChart, err => showError(`Error loading script: ${err.message}`));\n",
       "    } else if (typeof vegaEmbed === \"function\") {\n",
       "      displayChart(vegaEmbed);\n",
       "    } else {\n",
       "      loadScript(\"vega\")\n",
       "        .then(() => loadScript(\"vega-lite\"))\n",
       "        .then(() => loadScript(\"vega-embed\"))\n",
       "        .catch(showError)\n",
       "        .then(() => displayChart(vegaEmbed));\n",
       "    }\n",
       "  })({\"config\": {\"view\": {\"continuousWidth\": 400, \"continuousHeight\": 300}}, \"layer\": [{\"mark\": {\"type\": \"line\", \"color\": \"black\", \"point\": true}, \"encoding\": {\"x\": {\"type\": \"ordinal\", \"field\": \"neuron\"}, \"y\": {\"type\": \"quantitative\", \"field\": \"mean HDI\", \"impute\": {\"value\": \"value\"}}}}, {\"mark\": {\"type\": \"rule\", \"color\": \"black\", \"opacity\": 0.6, \"size\": 0.1}, \"encoding\": {\"y\": {\"type\": \"quantitative\", \"field\": \"zero\"}}}, {\"mark\": \"rule\", \"encoding\": {\"x\": {\"type\": \"ordinal\", \"field\": \"neuron\"}, \"y\": {\"type\": \"quantitative\", \"field\": \"lower HDI\", \"scale\": {\"domain\": [-0.8546572327613831, 0.9977189898490906], \"zero\": true}, \"title\": \"\\u0394 d_isi\"}, \"y2\": {\"field\": \"higher HDI\"}}}], \"data\": {\"name\": \"data-987e57c46a860f8d82748344b18234df\"}, \"$schema\": \"https://vega.github.io/schema/vega-lite/v4.8.1.json\", \"datasets\": {\"data-987e57c46a860f8d82748344b18234df\": [{\"neuron\": 0, \"mouse_code\": 0, \"neuron_code\": 0.0, \"i_trial\": 0.0, \"log_firing_rate\": 0.011705134502613346, \"Firing rate\": 19.761836945017734, \"firing_rate\": 19.761836945017734, \"i_spike\": -5.25, \"isi diff\": 0.007229895634893235, \"lower HDI\": 0.28328683972358704, \"higher HDI\": 0.9977189898490906, \"mean HDI\": 0.6835654973983765, \"log_isi\": 0.03797850237735845, \"zero\": 0}, {\"neuron\": 0, \"mouse_code\": 1, \"neuron_code\": 0.0, \"i_trial\": 0.0, \"log_firing_rate\": -0.09787917937700241, \"Firing rate\": -11.856084952991296, \"firing_rate\": -11.856084952991296, \"i_spike\": -3.75, \"isi diff\": 0.007096951843653609, \"lower HDI\": 0.28328683972358704, \"higher HDI\": 0.9977189898490906, \"mean HDI\": 0.6835654973983765, \"log_isi\": 0.0385990640260625, \"zero\": 0}, {\"neuron\": 0, \"mouse_code\": 2, \"neuron_code\": 0.0, \"i_trial\": 0.0, \"log_firing_rate\": 0.16449188380621194, \"Firing rate\": 22.975791162460197, \"firing_rate\": 22.975791162460197, \"i_spike\": 9.0, \"isi diff\": -0.01945806529823943, \"lower HDI\": 0.28328683972358704, \"higher HDI\": 0.9977189898490906, \"mean HDI\": 0.6835654973983765, \"log_isi\": -0.09864702378545465, \"zero\": 0}, {\"neuron\": 0, \"mouse_code\": 3, \"neuron_code\": 0.0, \"i_trial\": 0.0, \"log_firing_rate\": 0.2562957202578966, \"Firing rate\": 74.56965634598711, \"firing_rate\": 74.56965634598711, \"i_spike\": 5.0, \"isi diff\": -0.00629554233357997, \"lower HDI\": 0.28328683972358704, \"higher HDI\": 0.9977189898490906, \"mean HDI\": 0.6835654973983765, \"log_isi\": -0.038699736159240716, \"zero\": 0}, {\"neuron\": 1, \"mouse_code\": 0, \"neuron_code\": 0.0, \"i_trial\": 0.0, \"log_firing_rate\": -0.08296054342185277, \"Firing rate\": -7.618573239163268, \"firing_rate\": -7.618573239163268, \"i_spike\": -2.75, \"isi diff\": 0.002864412710549352, \"lower HDI\": 0.12391844391822815, \"higher HDI\": 0.6175664067268372, \"mean HDI\": 0.3879251182079315, \"log_isi\": 0.020352112573475578, \"zero\": 0}, {\"neuron\": 1, \"mouse_code\": 1, \"neuron_code\": 0.0, \"i_trial\": 0.0, \"log_firing_rate\": 0.49210163910244287, \"Firing rate\": 179.62046140837634, \"firing_rate\": 179.62046140837634, \"i_spike\": 4.25, \"isi diff\": -0.004958163284620343, \"lower HDI\": 0.12391844391822815, \"higher HDI\": 0.6175664067268372, \"mean HDI\": 0.3879251182079315, \"log_isi\": -0.030248700007655227, \"zero\": 0}, {\"neuron\": 1, \"mouse_code\": 2, \"neuron_code\": 0.0, \"i_trial\": 0.0, \"log_firing_rate\": 0.05702472412043713, \"Firing rate\": 10.030337059175821, \"firing_rate\": 10.030337059175821, \"i_spike\": 6.25, \"isi diff\": -0.008047827814971528, \"lower HDI\": 0.12391844391822815, \"higher HDI\": 0.6175664067268372, \"mean HDI\": 0.3879251182079315, \"log_isi\": -0.054996516652599636, \"zero\": 0}, {\"neuron\": 1, \"mouse_code\": 3, \"neuron_code\": 0.0, \"i_trial\": 0.0, \"log_firing_rate\": 0.7795438811001822, \"Firing rate\": 518.3590879954368, \"firing_rate\": 518.3590879954368, \"i_spike\": 10.75, \"isi diff\": -0.013621025342546972, \"lower HDI\": 0.12391844391822815, \"higher HDI\": 0.6175664067268372, \"mean HDI\": 0.3879251182079315, \"log_isi\": -0.0881083345959115, \"zero\": 0}, {\"neuron\": 2, \"mouse_code\": 0, \"neuron_code\": 0.0, \"i_trial\": 0.0, \"log_firing_rate\": -0.11103022387574146, \"Firing rate\": -2.260635810239492, \"firing_rate\": -2.260635810239492, \"i_spike\": -7.75, \"isi diff\": 0.00981309179000335, \"lower HDI\": 0.008637703955173492, \"higher HDI\": 0.4696796238422394, \"mean HDI\": 0.25378620624542236, \"log_isi\": 0.06387163816829955, \"zero\": 0}, {\"neuron\": 2, \"mouse_code\": 1, \"neuron_code\": 0.0, \"i_trial\": 0.0, \"log_firing_rate\": -0.059416609854578084, \"Firing rate\": -0.6226832827486106, \"firing_rate\": -0.6226832827486106, \"i_spike\": 1.75, \"isi diff\": -0.001134062317699941, \"lower HDI\": 0.008637703955173492, \"higher HDI\": 0.4696796238422394, \"mean HDI\": 0.25378620624542236, \"log_isi\": -0.012180852857398117, \"zero\": 0}, {\"neuron\": 2, \"mouse_code\": 2, \"neuron_code\": 0.0, \"i_trial\": 0.0, \"log_firing_rate\": 0.05327438499508852, \"Firing rate\": 14.75513300731015, \"firing_rate\": 14.75513300731015, \"i_spike\": 10.5, \"isi diff\": -0.010377084636967612, \"lower HDI\": 0.008637703955173492, \"higher HDI\": 0.4696796238422394, \"mean HDI\": 0.25378620624542236, \"log_isi\": -0.07523405947372241, \"zero\": 0}, {\"neuron\": 2, \"mouse_code\": 3, \"neuron_code\": 0.0, \"i_trial\": 0.0, \"log_firing_rate\": -0.2425823923968995, \"Firing rate\": -108.76750156454814, \"firing_rate\": -108.76750156454814, \"i_spike\": 1.75, \"isi diff\": -0.0017472644923677283, \"lower HDI\": 0.008637703955173492, \"higher HDI\": 0.4696796238422394, \"mean HDI\": 0.25378620624542236, \"log_isi\": -0.011079931585610048, \"zero\": 0}, {\"neuron\": 3, \"mouse_code\": 0, \"neuron_code\": 0.0, \"i_trial\": 0.0, \"log_firing_rate\": -0.011096687735080657, \"Firing rate\": -2.2011156172424364, \"firing_rate\": -2.2011156172424364, \"i_spike\": -1.0, \"isi diff\": 0.0011505373606914143, \"lower HDI\": -0.22533558309078217, \"higher HDI\": 0.18649910390377045, \"mean HDI\": -0.008148375898599625, \"log_isi\": 0.008069559289291206, \"zero\": 0}, {\"neuron\": 3, \"mouse_code\": 1, \"neuron_code\": 0.0, \"i_trial\": 0.0, \"log_firing_rate\": 0.01508571485198873, \"Firing rate\": 4.9348306348986455, \"firing_rate\": 4.9348306348986455, \"i_spike\": 5.0, \"isi diff\": -0.005391687748429713, \"lower HDI\": -0.22533558309078217, \"higher HDI\": 0.18649910390377045, \"mean HDI\": -0.008148375898599625, \"log_isi\": -0.04541767073787639, \"zero\": 0}, {\"neuron\": 3, \"mouse_code\": 2, \"neuron_code\": 0.0, \"i_trial\": 0.0, \"log_firing_rate\": 0.02382899553993001, \"Firing rate\": 9.336925169561624, \"firing_rate\": 9.336925169561624, \"i_spike\": 1.75, \"isi diff\": 0.00012193538530609616, \"lower HDI\": -0.22533558309078217, \"higher HDI\": 0.18649910390377045, \"mean HDI\": -0.008148375898599625, \"log_isi\": 0.0007940818100868885, \"zero\": 0}, {\"neuron\": 3, \"mouse_code\": 3, \"neuron_code\": 0.0, \"i_trial\": 0.0, \"log_firing_rate\": 0.12601157018674058, \"Firing rate\": 36.48118048014007, \"firing_rate\": 36.48118048014007, \"i_spike\": 16.5, \"isi diff\": -0.010571345594555796, \"lower HDI\": -0.22533558309078217, \"higher HDI\": 0.18649910390377045, \"mean HDI\": -0.008148375898599625, \"log_isi\": -0.09983231970148587, \"zero\": 0}, {\"neuron\": 4, \"mouse_code\": 0, \"neuron_code\": 0.0, \"i_trial\": 0.0, \"log_firing_rate\": -0.13052055280751285, \"Firing rate\": -30.609270433640432, \"firing_rate\": -30.609270433640432, \"i_spike\": -14.25, \"isi diff\": 0.008385950250804144, \"lower HDI\": -0.42041677236557007, \"higher HDI\": 0.023909110575914383, \"mean HDI\": -0.18253107368946075, \"log_isi\": 0.07922398747801895, \"zero\": 0}, {\"neuron\": 4, \"mouse_code\": 1, \"neuron_code\": 0.0, \"i_trial\": 0.0, \"log_firing_rate\": 0.18463521277146366, \"Firing rate\": 62.211286139574554, \"firing_rate\": 62.211286139574554, \"i_spike\": 16.25, \"isi diff\": -0.009037427037851459, \"lower HDI\": -0.42041677236557007, \"higher HDI\": 0.023909110575914383, \"mean HDI\": -0.18253107368946075, \"log_isi\": -0.09025938203435868, \"zero\": 0}, {\"neuron\": 4, \"mouse_code\": 2, \"neuron_code\": 0.0, \"i_trial\": 0.0, \"log_firing_rate\": 0.19376028915162857, \"Firing rate\": 56.087555084713884, \"firing_rate\": 56.087555084713884, \"i_spike\": 9.0, \"isi diff\": -0.0036902477913820578, \"lower HDI\": -0.42041677236557007, \"higher HDI\": 0.023909110575914383, \"mean HDI\": -0.18253107368946075, \"log_isi\": -0.042562945860905366, \"zero\": 0}, {\"neuron\": 4, \"mouse_code\": 3, \"neuron_code\": 0.0, \"i_trial\": 0.0, \"log_firing_rate\": 0.261814996216863, \"Firing rate\": 120.80746955762393, \"firing_rate\": 120.80746955762393, \"i_spike\": 11.5, \"isi diff\": -0.005457960510169009, \"lower HDI\": -0.42041677236557007, \"higher HDI\": 0.023909110575914383, \"mean HDI\": -0.18253107368946075, \"log_isi\": -0.05780177197241243, \"zero\": 0}, {\"neuron\": 5, \"mouse_code\": 0, \"neuron_code\": 0.0, \"i_trial\": 0.0, \"log_firing_rate\": 0.1083174317342781, \"Firing rate\": 43.9194732562286, \"firing_rate\": 43.9194732562286, \"i_spike\": 7.0, \"isi diff\": -0.0017818249127573293, \"lower HDI\": -0.5851635932922363, \"higher HDI\": -0.08950463682413101, \"mean HDI\": -0.34912827610969543, \"log_isi\": -0.021920026568269968, \"zero\": 0}, {\"neuron\": 5, \"mouse_code\": 1, \"neuron_code\": 0.0, \"i_trial\": 0.0, \"log_firing_rate\": 0.5752476108051479, \"Firing rate\": 320.08333320339165, \"firing_rate\": 320.08333320339165, \"i_spike\": 12.0, \"isi diff\": -0.004866205663753863, \"lower HDI\": -0.5851635932922363, \"higher HDI\": -0.08950463682413101, \"mean HDI\": -0.34912827610969543, \"log_isi\": -0.05793607347937613, \"zero\": 0}, {\"neuron\": 5, \"mouse_code\": 2, \"neuron_code\": 0.0, \"i_trial\": 0.0, \"log_firing_rate\": 0.09047616583727347, \"Firing rate\": 64.02973992966642, \"firing_rate\": 64.02973992966642, \"i_spike\": 15.5, \"isi diff\": -0.005240994746329594, \"lower HDI\": -0.5851635932922363, \"higher HDI\": -0.08950463682413101, \"mean HDI\": -0.34912827610969543, \"log_isi\": -0.0653869871379027, \"zero\": 0}, {\"neuron\": 5, \"mouse_code\": 3, \"neuron_code\": 0.0, \"i_trial\": 0.0, \"log_firing_rate\": -1.3241234051953095, \"Firing rate\": -183033.45064723038, \"firing_rate\": -183033.45064723038, \"i_spike\": 3.75, \"isi diff\": -0.0010899391081963458, \"lower HDI\": -0.5851635932922363, \"higher HDI\": -0.08950463682413101, \"mean HDI\": -0.34912827610969543, \"log_isi\": -0.014062617296441982, \"zero\": 0}, {\"neuron\": 6, \"mouse_code\": 0, \"neuron_code\": 0.0, \"i_trial\": 0.0, \"log_firing_rate\": -0.10223114918786491, \"Firing rate\": -66.73554530543629, \"firing_rate\": -66.73554530543629, \"i_spike\": -3.5, \"isi diff\": 0.0012063991011434967, \"lower HDI\": -0.7105212211608887, \"higher HDI\": -0.17674095928668976, \"mean HDI\": -0.45644471049308777, \"log_isi\": 0.019089595687020955, \"zero\": 0}, {\"neuron\": 6, \"mouse_code\": 1, \"neuron_code\": 0.0, \"i_trial\": 0.0, \"log_firing_rate\": 0.10384236332687591, \"Firing rate\": 118.03310812621578, \"firing_rate\": 118.03310812621578, \"i_spike\": 9.5, \"isi diff\": -0.0025264424655525378, \"lower HDI\": -0.7105212211608887, \"higher HDI\": -0.17674095928668976, \"mean HDI\": -0.45644471049308777, \"log_isi\": -0.0370044627123709, \"zero\": 0}, {\"neuron\": 6, \"mouse_code\": 2, \"neuron_code\": 0.0, \"i_trial\": 0.0, \"log_firing_rate\": -0.06538274496135976, \"Firing rate\": -28.98149430532945, \"firing_rate\": -28.98149430532945, \"i_spike\": 4.25, \"isi diff\": -0.0009138371982290311, \"lower HDI\": -0.7105212211608887, \"higher HDI\": -0.17674095928668976, \"mean HDI\": -0.45644471049308777, \"log_isi\": -0.014815363576366147, \"zero\": 0}, {\"neuron\": 6, \"mouse_code\": 3, \"neuron_code\": 0.0, \"i_trial\": 0.0, \"log_firing_rate\": -0.1742763583416984, \"Firing rate\": -57.83583868212398, \"firing_rate\": -57.83583868212398, \"i_spike\": -9.25, \"isi diff\": 0.002736747502339959, \"lower HDI\": -0.7105212211608887, \"higher HDI\": -0.17674095928668976, \"mean HDI\": -0.45644471049308777, \"log_isi\": 0.040602726760917474, \"zero\": 0}, {\"neuron\": 7, \"mouse_code\": 0, \"neuron_code\": 0.0, \"i_trial\": 0.0, \"log_firing_rate\": 0.5326503841646497, \"Firing rate\": 1020.9960907077689, \"firing_rate\": 1020.9960907077689, \"i_spike\": 1.5, \"isi diff\": -0.00035058858681794383, \"lower HDI\": -0.8546572327613831, \"higher HDI\": -0.15718147158622742, \"mean HDI\": -0.5661606192588806, \"log_isi\": -0.006182883308137654, \"zero\": 0}, {\"neuron\": 7, \"mouse_code\": 1, \"neuron_code\": 0.0, \"i_trial\": 0.0, \"log_firing_rate\": -0.1356862529390872, \"Firing rate\": -174.54051519680945, \"firing_rate\": -174.54051519680945, \"i_spike\": -9.75, \"isi diff\": 0.0013712554651753896, \"lower HDI\": -0.8546572327613831, \"higher HDI\": -0.15718147158622742, \"mean HDI\": -0.5661606192588806, \"log_isi\": 0.024225636522333893, \"zero\": 0}, {\"neuron\": 7, \"mouse_code\": 2, \"neuron_code\": 0.0, \"i_trial\": 0.0, \"log_firing_rate\": -0.1392716742030604, \"Firing rate\": -113.54029732754464, \"firing_rate\": -113.54029732754464, \"i_spike\": 6.5, \"isi diff\": -0.0009954578799181713, \"lower HDI\": -0.8546572327613831, \"higher HDI\": -0.15718147158622742, \"mean HDI\": -0.5661606192588806, \"log_isi\": -0.018823568941770397, \"zero\": 0}, {\"neuron\": 7, \"mouse_code\": 3, \"neuron_code\": 0.0, \"i_trial\": 0.0, \"log_firing_rate\": 0.9048965740734034, \"Firing rate\": 5240.3526769405935, \"firing_rate\": 5240.3526769405935, \"i_spike\": 12.25, \"isi diff\": -0.0019210644848399044, \"lower HDI\": -0.8546572327613831, \"higher HDI\": -0.15718147158622742, \"mean HDI\": -0.5661606192588806, \"log_isi\": -0.03620477790385679, \"zero\": 0}]}}, {\"mode\": \"vega-lite\"});\n",
       "</script>"
      ],
      "text/plain": [
       "alt.LayerChart(...)"
      ]
     },
     "execution_count": 9,
     "metadata": {},
     "output_type": "execute_result"
    }
   ],
   "source": [
    "chart_p = visualization.plot_posterior(df=df_both, title=f'd_{y}', x='neuron',)\n",
    "chart_p"
   ]
  },
  {
   "cell_type": "code",
   "execution_count": 10,
   "metadata": {
    "hideCode": false,
    "hidePrompt": false
   },
   "outputs": [
    {
     "data": {
      "text/html": [
       "\n",
       "<div id=\"altair-viz-912753e1774f403981367dc91c6cb83c\"></div>\n",
       "<script type=\"text/javascript\">\n",
       "  (function(spec, embedOpt){\n",
       "    let outputDiv = document.currentScript.previousElementSibling;\n",
       "    if (outputDiv.id !== \"altair-viz-912753e1774f403981367dc91c6cb83c\") {\n",
       "      outputDiv = document.getElementById(\"altair-viz-912753e1774f403981367dc91c6cb83c\");\n",
       "    }\n",
       "    const paths = {\n",
       "      \"vega\": \"https://cdn.jsdelivr.net/npm//vega@5?noext\",\n",
       "      \"vega-lib\": \"https://cdn.jsdelivr.net/npm//vega-lib?noext\",\n",
       "      \"vega-lite\": \"https://cdn.jsdelivr.net/npm//vega-lite@4.8.1?noext\",\n",
       "      \"vega-embed\": \"https://cdn.jsdelivr.net/npm//vega-embed@6?noext\",\n",
       "    };\n",
       "\n",
       "    function loadScript(lib) {\n",
       "      return new Promise(function(resolve, reject) {\n",
       "        var s = document.createElement('script');\n",
       "        s.src = paths[lib];\n",
       "        s.async = true;\n",
       "        s.onload = () => resolve(paths[lib]);\n",
       "        s.onerror = () => reject(`Error loading script: ${paths[lib]}`);\n",
       "        document.getElementsByTagName(\"head\")[0].appendChild(s);\n",
       "      });\n",
       "    }\n",
       "\n",
       "    function showError(err) {\n",
       "      outputDiv.innerHTML = `<div class=\"error\" style=\"color:red;\">${err}</div>`;\n",
       "      throw err;\n",
       "    }\n",
       "\n",
       "    function displayChart(vegaEmbed) {\n",
       "      vegaEmbed(outputDiv, spec, embedOpt)\n",
       "        .catch(err => showError(`Javascript Error: ${err.message}<br>This usually means there's a typo in your chart specification. See the javascript console for the full traceback.`));\n",
       "    }\n",
       "\n",
       "    if(typeof define === \"function\" && define.amd) {\n",
       "      requirejs.config({paths});\n",
       "      require([\"vega-embed\"], displayChart, err => showError(`Error loading script: ${err.message}`));\n",
       "    } else if (typeof vegaEmbed === \"function\") {\n",
       "      displayChart(vegaEmbed);\n",
       "    } else {\n",
       "      loadScript(\"vega\")\n",
       "        .then(() => loadScript(\"vega-lite\"))\n",
       "        .then(() => loadScript(\"vega-embed\"))\n",
       "        .catch(showError)\n",
       "        .then(() => displayChart(vegaEmbed));\n",
       "    }\n",
       "  })({\"config\": {\"view\": {\"continuousWidth\": 400, \"continuousHeight\": 300}}, \"layer\": [{\"mark\": {\"type\": \"line\", \"fill\": null, \"opacity\": 0.5, \"size\": 3}, \"encoding\": {\"color\": {\"type\": \"nominal\", \"field\": \"mouse_code\"}, \"x\": {\"type\": \"ordinal\", \"field\": \"neuron\"}, \"y\": {\"type\": \"quantitative\", \"aggregate\": \"mean\", \"field\": \"isi diff\", \"scale\": {\"zero\": false}}}}, {\"mark\": {\"type\": \"boxplot\", \"color\": \"black\", \"opacity\": 0.3, \"size\": 12}, \"encoding\": {\"x\": {\"type\": \"ordinal\", \"field\": \"neuron\"}, \"y\": {\"type\": \"quantitative\", \"field\": \"isi diff\", \"scale\": {\"zero\": false}}}}, {\"layer\": [{\"mark\": {\"type\": \"line\", \"color\": \"black\", \"point\": true}, \"encoding\": {\"x\": {\"type\": \"ordinal\", \"field\": \"neuron\"}, \"y\": {\"type\": \"quantitative\", \"field\": \"mean HDI\", \"impute\": {\"value\": \"value\"}}}}, {\"mark\": {\"type\": \"rule\", \"color\": \"black\", \"opacity\": 0.6, \"size\": 0.1}, \"encoding\": {\"y\": {\"type\": \"quantitative\", \"field\": \"zero\"}}}, {\"mark\": \"rule\", \"encoding\": {\"x\": {\"type\": \"ordinal\", \"field\": \"neuron\"}, \"y\": {\"type\": \"quantitative\", \"field\": \"lower HDI\", \"scale\": {\"domain\": [-0.8546572327613831, 0.9977189898490906], \"zero\": true}, \"title\": \"\\u0394 d_isi\"}, \"y2\": {\"field\": \"higher HDI\"}}}]}], \"data\": {\"name\": \"data-987e57c46a860f8d82748344b18234df\"}, \"resolve\": {\"scale\": {\"y\": \"independent\"}}, \"$schema\": \"https://vega.github.io/schema/vega-lite/v4.8.1.json\", \"datasets\": {\"data-987e57c46a860f8d82748344b18234df\": [{\"neuron\": 0, \"mouse_code\": 0, \"neuron_code\": 0.0, \"i_trial\": 0.0, \"log_firing_rate\": 0.011705134502613346, \"Firing rate\": 19.761836945017734, \"firing_rate\": 19.761836945017734, \"i_spike\": -5.25, \"isi diff\": 0.007229895634893235, \"lower HDI\": 0.28328683972358704, \"higher HDI\": 0.9977189898490906, \"mean HDI\": 0.6835654973983765, \"log_isi\": 0.03797850237735845, \"zero\": 0}, {\"neuron\": 0, \"mouse_code\": 1, \"neuron_code\": 0.0, \"i_trial\": 0.0, \"log_firing_rate\": -0.09787917937700241, \"Firing rate\": -11.856084952991296, \"firing_rate\": -11.856084952991296, \"i_spike\": -3.75, \"isi diff\": 0.007096951843653609, \"lower HDI\": 0.28328683972358704, \"higher HDI\": 0.9977189898490906, \"mean HDI\": 0.6835654973983765, \"log_isi\": 0.0385990640260625, \"zero\": 0}, {\"neuron\": 0, \"mouse_code\": 2, \"neuron_code\": 0.0, \"i_trial\": 0.0, \"log_firing_rate\": 0.16449188380621194, \"Firing rate\": 22.975791162460197, \"firing_rate\": 22.975791162460197, \"i_spike\": 9.0, \"isi diff\": -0.01945806529823943, \"lower HDI\": 0.28328683972358704, \"higher HDI\": 0.9977189898490906, \"mean HDI\": 0.6835654973983765, \"log_isi\": -0.09864702378545465, \"zero\": 0}, {\"neuron\": 0, \"mouse_code\": 3, \"neuron_code\": 0.0, \"i_trial\": 0.0, \"log_firing_rate\": 0.2562957202578966, \"Firing rate\": 74.56965634598711, \"firing_rate\": 74.56965634598711, \"i_spike\": 5.0, \"isi diff\": -0.00629554233357997, \"lower HDI\": 0.28328683972358704, \"higher HDI\": 0.9977189898490906, \"mean HDI\": 0.6835654973983765, \"log_isi\": -0.038699736159240716, \"zero\": 0}, {\"neuron\": 1, \"mouse_code\": 0, \"neuron_code\": 0.0, \"i_trial\": 0.0, \"log_firing_rate\": -0.08296054342185277, \"Firing rate\": -7.618573239163268, \"firing_rate\": -7.618573239163268, \"i_spike\": -2.75, \"isi diff\": 0.002864412710549352, \"lower HDI\": 0.12391844391822815, \"higher HDI\": 0.6175664067268372, \"mean HDI\": 0.3879251182079315, \"log_isi\": 0.020352112573475578, \"zero\": 0}, {\"neuron\": 1, \"mouse_code\": 1, \"neuron_code\": 0.0, \"i_trial\": 0.0, \"log_firing_rate\": 0.49210163910244287, \"Firing rate\": 179.62046140837634, \"firing_rate\": 179.62046140837634, \"i_spike\": 4.25, \"isi diff\": -0.004958163284620343, \"lower HDI\": 0.12391844391822815, \"higher HDI\": 0.6175664067268372, \"mean HDI\": 0.3879251182079315, \"log_isi\": -0.030248700007655227, \"zero\": 0}, {\"neuron\": 1, \"mouse_code\": 2, \"neuron_code\": 0.0, \"i_trial\": 0.0, \"log_firing_rate\": 0.05702472412043713, \"Firing rate\": 10.030337059175821, \"firing_rate\": 10.030337059175821, \"i_spike\": 6.25, \"isi diff\": -0.008047827814971528, \"lower HDI\": 0.12391844391822815, \"higher HDI\": 0.6175664067268372, \"mean HDI\": 0.3879251182079315, \"log_isi\": -0.054996516652599636, \"zero\": 0}, {\"neuron\": 1, \"mouse_code\": 3, \"neuron_code\": 0.0, \"i_trial\": 0.0, \"log_firing_rate\": 0.7795438811001822, \"Firing rate\": 518.3590879954368, \"firing_rate\": 518.3590879954368, \"i_spike\": 10.75, \"isi diff\": -0.013621025342546972, \"lower HDI\": 0.12391844391822815, \"higher HDI\": 0.6175664067268372, \"mean HDI\": 0.3879251182079315, \"log_isi\": -0.0881083345959115, \"zero\": 0}, {\"neuron\": 2, \"mouse_code\": 0, \"neuron_code\": 0.0, \"i_trial\": 0.0, \"log_firing_rate\": -0.11103022387574146, \"Firing rate\": -2.260635810239492, \"firing_rate\": -2.260635810239492, \"i_spike\": -7.75, \"isi diff\": 0.00981309179000335, \"lower HDI\": 0.008637703955173492, \"higher HDI\": 0.4696796238422394, \"mean HDI\": 0.25378620624542236, \"log_isi\": 0.06387163816829955, \"zero\": 0}, {\"neuron\": 2, \"mouse_code\": 1, \"neuron_code\": 0.0, \"i_trial\": 0.0, \"log_firing_rate\": -0.059416609854578084, \"Firing rate\": -0.6226832827486106, \"firing_rate\": -0.6226832827486106, \"i_spike\": 1.75, \"isi diff\": -0.001134062317699941, \"lower HDI\": 0.008637703955173492, \"higher HDI\": 0.4696796238422394, \"mean HDI\": 0.25378620624542236, \"log_isi\": -0.012180852857398117, \"zero\": 0}, {\"neuron\": 2, \"mouse_code\": 2, \"neuron_code\": 0.0, \"i_trial\": 0.0, \"log_firing_rate\": 0.05327438499508852, \"Firing rate\": 14.75513300731015, \"firing_rate\": 14.75513300731015, \"i_spike\": 10.5, \"isi diff\": -0.010377084636967612, \"lower HDI\": 0.008637703955173492, \"higher HDI\": 0.4696796238422394, \"mean HDI\": 0.25378620624542236, \"log_isi\": -0.07523405947372241, \"zero\": 0}, {\"neuron\": 2, \"mouse_code\": 3, \"neuron_code\": 0.0, \"i_trial\": 0.0, \"log_firing_rate\": -0.2425823923968995, \"Firing rate\": -108.76750156454814, \"firing_rate\": -108.76750156454814, \"i_spike\": 1.75, \"isi diff\": -0.0017472644923677283, \"lower HDI\": 0.008637703955173492, \"higher HDI\": 0.4696796238422394, \"mean HDI\": 0.25378620624542236, \"log_isi\": -0.011079931585610048, \"zero\": 0}, {\"neuron\": 3, \"mouse_code\": 0, \"neuron_code\": 0.0, \"i_trial\": 0.0, \"log_firing_rate\": -0.011096687735080657, \"Firing rate\": -2.2011156172424364, \"firing_rate\": -2.2011156172424364, \"i_spike\": -1.0, \"isi diff\": 0.0011505373606914143, \"lower HDI\": -0.22533558309078217, \"higher HDI\": 0.18649910390377045, \"mean HDI\": -0.008148375898599625, \"log_isi\": 0.008069559289291206, \"zero\": 0}, {\"neuron\": 3, \"mouse_code\": 1, \"neuron_code\": 0.0, \"i_trial\": 0.0, \"log_firing_rate\": 0.01508571485198873, \"Firing rate\": 4.9348306348986455, \"firing_rate\": 4.9348306348986455, \"i_spike\": 5.0, \"isi diff\": -0.005391687748429713, \"lower HDI\": -0.22533558309078217, \"higher HDI\": 0.18649910390377045, \"mean HDI\": -0.008148375898599625, \"log_isi\": -0.04541767073787639, \"zero\": 0}, {\"neuron\": 3, \"mouse_code\": 2, \"neuron_code\": 0.0, \"i_trial\": 0.0, \"log_firing_rate\": 0.02382899553993001, \"Firing rate\": 9.336925169561624, \"firing_rate\": 9.336925169561624, \"i_spike\": 1.75, \"isi diff\": 0.00012193538530609616, \"lower HDI\": -0.22533558309078217, \"higher HDI\": 0.18649910390377045, \"mean HDI\": -0.008148375898599625, \"log_isi\": 0.0007940818100868885, \"zero\": 0}, {\"neuron\": 3, \"mouse_code\": 3, \"neuron_code\": 0.0, \"i_trial\": 0.0, \"log_firing_rate\": 0.12601157018674058, \"Firing rate\": 36.48118048014007, \"firing_rate\": 36.48118048014007, \"i_spike\": 16.5, \"isi diff\": -0.010571345594555796, \"lower HDI\": -0.22533558309078217, \"higher HDI\": 0.18649910390377045, \"mean HDI\": -0.008148375898599625, \"log_isi\": -0.09983231970148587, \"zero\": 0}, {\"neuron\": 4, \"mouse_code\": 0, \"neuron_code\": 0.0, \"i_trial\": 0.0, \"log_firing_rate\": -0.13052055280751285, \"Firing rate\": -30.609270433640432, \"firing_rate\": -30.609270433640432, \"i_spike\": -14.25, \"isi diff\": 0.008385950250804144, \"lower HDI\": -0.42041677236557007, \"higher HDI\": 0.023909110575914383, \"mean HDI\": -0.18253107368946075, \"log_isi\": 0.07922398747801895, \"zero\": 0}, {\"neuron\": 4, \"mouse_code\": 1, \"neuron_code\": 0.0, \"i_trial\": 0.0, \"log_firing_rate\": 0.18463521277146366, \"Firing rate\": 62.211286139574554, \"firing_rate\": 62.211286139574554, \"i_spike\": 16.25, \"isi diff\": -0.009037427037851459, \"lower HDI\": -0.42041677236557007, \"higher HDI\": 0.023909110575914383, \"mean HDI\": -0.18253107368946075, \"log_isi\": -0.09025938203435868, \"zero\": 0}, {\"neuron\": 4, \"mouse_code\": 2, \"neuron_code\": 0.0, \"i_trial\": 0.0, \"log_firing_rate\": 0.19376028915162857, \"Firing rate\": 56.087555084713884, \"firing_rate\": 56.087555084713884, \"i_spike\": 9.0, \"isi diff\": -0.0036902477913820578, \"lower HDI\": -0.42041677236557007, \"higher HDI\": 0.023909110575914383, \"mean HDI\": -0.18253107368946075, \"log_isi\": -0.042562945860905366, \"zero\": 0}, {\"neuron\": 4, \"mouse_code\": 3, \"neuron_code\": 0.0, \"i_trial\": 0.0, \"log_firing_rate\": 0.261814996216863, \"Firing rate\": 120.80746955762393, \"firing_rate\": 120.80746955762393, \"i_spike\": 11.5, \"isi diff\": -0.005457960510169009, \"lower HDI\": -0.42041677236557007, \"higher HDI\": 0.023909110575914383, \"mean HDI\": -0.18253107368946075, \"log_isi\": -0.05780177197241243, \"zero\": 0}, {\"neuron\": 5, \"mouse_code\": 0, \"neuron_code\": 0.0, \"i_trial\": 0.0, \"log_firing_rate\": 0.1083174317342781, \"Firing rate\": 43.9194732562286, \"firing_rate\": 43.9194732562286, \"i_spike\": 7.0, \"isi diff\": -0.0017818249127573293, \"lower HDI\": -0.5851635932922363, \"higher HDI\": -0.08950463682413101, \"mean HDI\": -0.34912827610969543, \"log_isi\": -0.021920026568269968, \"zero\": 0}, {\"neuron\": 5, \"mouse_code\": 1, \"neuron_code\": 0.0, \"i_trial\": 0.0, \"log_firing_rate\": 0.5752476108051479, \"Firing rate\": 320.08333320339165, \"firing_rate\": 320.08333320339165, \"i_spike\": 12.0, \"isi diff\": -0.004866205663753863, \"lower HDI\": -0.5851635932922363, \"higher HDI\": -0.08950463682413101, \"mean HDI\": -0.34912827610969543, \"log_isi\": -0.05793607347937613, \"zero\": 0}, {\"neuron\": 5, \"mouse_code\": 2, \"neuron_code\": 0.0, \"i_trial\": 0.0, \"log_firing_rate\": 0.09047616583727347, \"Firing rate\": 64.02973992966642, \"firing_rate\": 64.02973992966642, \"i_spike\": 15.5, \"isi diff\": -0.005240994746329594, \"lower HDI\": -0.5851635932922363, \"higher HDI\": -0.08950463682413101, \"mean HDI\": -0.34912827610969543, \"log_isi\": -0.0653869871379027, \"zero\": 0}, {\"neuron\": 5, \"mouse_code\": 3, \"neuron_code\": 0.0, \"i_trial\": 0.0, \"log_firing_rate\": -1.3241234051953095, \"Firing rate\": -183033.45064723038, \"firing_rate\": -183033.45064723038, \"i_spike\": 3.75, \"isi diff\": -0.0010899391081963458, \"lower HDI\": -0.5851635932922363, \"higher HDI\": -0.08950463682413101, \"mean HDI\": -0.34912827610969543, \"log_isi\": -0.014062617296441982, \"zero\": 0}, {\"neuron\": 6, \"mouse_code\": 0, \"neuron_code\": 0.0, \"i_trial\": 0.0, \"log_firing_rate\": -0.10223114918786491, \"Firing rate\": -66.73554530543629, \"firing_rate\": -66.73554530543629, \"i_spike\": -3.5, \"isi diff\": 0.0012063991011434967, \"lower HDI\": -0.7105212211608887, \"higher HDI\": -0.17674095928668976, \"mean HDI\": -0.45644471049308777, \"log_isi\": 0.019089595687020955, \"zero\": 0}, {\"neuron\": 6, \"mouse_code\": 1, \"neuron_code\": 0.0, \"i_trial\": 0.0, \"log_firing_rate\": 0.10384236332687591, \"Firing rate\": 118.03310812621578, \"firing_rate\": 118.03310812621578, \"i_spike\": 9.5, \"isi diff\": -0.0025264424655525378, \"lower HDI\": -0.7105212211608887, \"higher HDI\": -0.17674095928668976, \"mean HDI\": -0.45644471049308777, \"log_isi\": -0.0370044627123709, \"zero\": 0}, {\"neuron\": 6, \"mouse_code\": 2, \"neuron_code\": 0.0, \"i_trial\": 0.0, \"log_firing_rate\": -0.06538274496135976, \"Firing rate\": -28.98149430532945, \"firing_rate\": -28.98149430532945, \"i_spike\": 4.25, \"isi diff\": -0.0009138371982290311, \"lower HDI\": -0.7105212211608887, \"higher HDI\": -0.17674095928668976, \"mean HDI\": -0.45644471049308777, \"log_isi\": -0.014815363576366147, \"zero\": 0}, {\"neuron\": 6, \"mouse_code\": 3, \"neuron_code\": 0.0, \"i_trial\": 0.0, \"log_firing_rate\": -0.1742763583416984, \"Firing rate\": -57.83583868212398, \"firing_rate\": -57.83583868212398, \"i_spike\": -9.25, \"isi diff\": 0.002736747502339959, \"lower HDI\": -0.7105212211608887, \"higher HDI\": -0.17674095928668976, \"mean HDI\": -0.45644471049308777, \"log_isi\": 0.040602726760917474, \"zero\": 0}, {\"neuron\": 7, \"mouse_code\": 0, \"neuron_code\": 0.0, \"i_trial\": 0.0, \"log_firing_rate\": 0.5326503841646497, \"Firing rate\": 1020.9960907077689, \"firing_rate\": 1020.9960907077689, \"i_spike\": 1.5, \"isi diff\": -0.00035058858681794383, \"lower HDI\": -0.8546572327613831, \"higher HDI\": -0.15718147158622742, \"mean HDI\": -0.5661606192588806, \"log_isi\": -0.006182883308137654, \"zero\": 0}, {\"neuron\": 7, \"mouse_code\": 1, \"neuron_code\": 0.0, \"i_trial\": 0.0, \"log_firing_rate\": -0.1356862529390872, \"Firing rate\": -174.54051519680945, \"firing_rate\": -174.54051519680945, \"i_spike\": -9.75, \"isi diff\": 0.0013712554651753896, \"lower HDI\": -0.8546572327613831, \"higher HDI\": -0.15718147158622742, \"mean HDI\": -0.5661606192588806, \"log_isi\": 0.024225636522333893, \"zero\": 0}, {\"neuron\": 7, \"mouse_code\": 2, \"neuron_code\": 0.0, \"i_trial\": 0.0, \"log_firing_rate\": -0.1392716742030604, \"Firing rate\": -113.54029732754464, \"firing_rate\": -113.54029732754464, \"i_spike\": 6.5, \"isi diff\": -0.0009954578799181713, \"lower HDI\": -0.8546572327613831, \"higher HDI\": -0.15718147158622742, \"mean HDI\": -0.5661606192588806, \"log_isi\": -0.018823568941770397, \"zero\": 0}, {\"neuron\": 7, \"mouse_code\": 3, \"neuron_code\": 0.0, \"i_trial\": 0.0, \"log_firing_rate\": 0.9048965740734034, \"Firing rate\": 5240.3526769405935, \"firing_rate\": 5240.3526769405935, \"i_spike\": 12.25, \"isi diff\": -0.0019210644848399044, \"lower HDI\": -0.8546572327613831, \"higher HDI\": -0.15718147158622742, \"mean HDI\": -0.5661606192588806, \"log_isi\": -0.03620477790385679, \"zero\": 0}]}}, {\"mode\": \"vega-lite\"});\n",
       "</script>"
      ],
      "text/plain": [
       "alt.LayerChart(...)"
      ]
     },
     "execution_count": 10,
     "metadata": {},
     "output_type": "execute_result"
    }
   ],
   "source": [
    "(chart_d+chart_p).resolve_scale(y='independent')"
   ]
  },
  {
   "cell_type": "code",
   "execution_count": 13,
   "metadata": {
    "hideCode": false,
    "hidePrompt": false
   },
   "outputs": [
    {
     "data": {
      "text/html": [
       "\n",
       "<div id=\"altair-viz-f1aacccb1f184eaf9f81609c1c3c9d94\"></div>\n",
       "<script type=\"text/javascript\">\n",
       "  (function(spec, embedOpt){\n",
       "    let outputDiv = document.currentScript.previousElementSibling;\n",
       "    if (outputDiv.id !== \"altair-viz-f1aacccb1f184eaf9f81609c1c3c9d94\") {\n",
       "      outputDiv = document.getElementById(\"altair-viz-f1aacccb1f184eaf9f81609c1c3c9d94\");\n",
       "    }\n",
       "    const paths = {\n",
       "      \"vega\": \"https://cdn.jsdelivr.net/npm//vega@5?noext\",\n",
       "      \"vega-lib\": \"https://cdn.jsdelivr.net/npm//vega-lib?noext\",\n",
       "      \"vega-lite\": \"https://cdn.jsdelivr.net/npm//vega-lite@4.8.1?noext\",\n",
       "      \"vega-embed\": \"https://cdn.jsdelivr.net/npm//vega-embed@6?noext\",\n",
       "    };\n",
       "\n",
       "    function loadScript(lib) {\n",
       "      return new Promise(function(resolve, reject) {\n",
       "        var s = document.createElement('script');\n",
       "        s.src = paths[lib];\n",
       "        s.async = true;\n",
       "        s.onload = () => resolve(paths[lib]);\n",
       "        s.onerror = () => reject(`Error loading script: ${paths[lib]}`);\n",
       "        document.getElementsByTagName(\"head\")[0].appendChild(s);\n",
       "      });\n",
       "    }\n",
       "\n",
       "    function showError(err) {\n",
       "      outputDiv.innerHTML = `<div class=\"error\" style=\"color:red;\">${err}</div>`;\n",
       "      throw err;\n",
       "    }\n",
       "\n",
       "    function displayChart(vegaEmbed) {\n",
       "      vegaEmbed(outputDiv, spec, embedOpt)\n",
       "        .catch(err => showError(`Javascript Error: ${err.message}<br>This usually means there's a typo in your chart specification. See the javascript console for the full traceback.`));\n",
       "    }\n",
       "\n",
       "    if(typeof define === \"function\" && define.amd) {\n",
       "      requirejs.config({paths});\n",
       "      require([\"vega-embed\"], displayChart, err => showError(`Error loading script: ${err.message}`));\n",
       "    } else if (typeof vegaEmbed === \"function\") {\n",
       "      displayChart(vegaEmbed);\n",
       "    } else {\n",
       "      loadScript(\"vega\")\n",
       "        .then(() => loadScript(\"vega-lite\"))\n",
       "        .then(() => loadScript(\"vega-embed\"))\n",
       "        .catch(showError)\n",
       "        .then(() => displayChart(vegaEmbed));\n",
       "    }\n",
       "  })({\"config\": {\"view\": {\"continuousWidth\": 400, \"continuousHeight\": 300}}, \"data\": {\"name\": \"data-987e57c46a860f8d82748344b18234df\"}, \"facet\": {\"column\": {\"type\": \"quantitative\", \"field\": \"neuron\"}}, \"spec\": {\"layer\": [{\"mark\": {\"type\": \"line\", \"fill\": null, \"opacity\": 0.5, \"size\": 3}, \"encoding\": {\"color\": {\"type\": \"nominal\", \"field\": \"mouse_code\"}, \"x\": {\"type\": \"ordinal\", \"field\": \"neuron\"}, \"y\": {\"type\": \"quantitative\", \"aggregate\": \"mean\", \"field\": \"isi diff\", \"scale\": {\"zero\": false}}}}, {\"mark\": {\"type\": \"boxplot\", \"color\": \"black\", \"opacity\": 0.3, \"size\": 12}, \"encoding\": {\"x\": {\"type\": \"ordinal\", \"field\": \"neuron\"}, \"y\": {\"type\": \"quantitative\", \"field\": \"isi diff\", \"scale\": {\"zero\": false}}}}, {\"layer\": [{\"mark\": {\"type\": \"line\", \"color\": \"black\", \"point\": true}, \"encoding\": {\"x\": {\"type\": \"ordinal\", \"field\": \"neuron\"}, \"y\": {\"type\": \"quantitative\", \"field\": \"mean HDI\", \"impute\": {\"value\": \"value\"}}}}, {\"mark\": {\"type\": \"rule\", \"color\": \"black\", \"opacity\": 0.6, \"size\": 0.1}, \"encoding\": {\"y\": {\"type\": \"quantitative\", \"field\": \"zero\"}}}, {\"mark\": \"rule\", \"encoding\": {\"x\": {\"type\": \"ordinal\", \"field\": \"neuron\"}, \"y\": {\"type\": \"quantitative\", \"field\": \"lower HDI\", \"scale\": {\"domain\": [-0.8546572327613831, 0.9977189898490906], \"zero\": true}, \"title\": \"\\u0394 d_isi\"}, \"y2\": {\"field\": \"higher HDI\"}}}]}]}, \"$schema\": \"https://vega.github.io/schema/vega-lite/v4.8.1.json\", \"datasets\": {\"data-987e57c46a860f8d82748344b18234df\": [{\"neuron\": 0, \"mouse_code\": 0, \"neuron_code\": 0.0, \"i_trial\": 0.0, \"log_firing_rate\": 0.011705134502613346, \"Firing rate\": 19.761836945017734, \"firing_rate\": 19.761836945017734, \"i_spike\": -5.25, \"isi diff\": 0.007229895634893235, \"lower HDI\": 0.28328683972358704, \"higher HDI\": 0.9977189898490906, \"mean HDI\": 0.6835654973983765, \"log_isi\": 0.03797850237735845, \"zero\": 0}, {\"neuron\": 0, \"mouse_code\": 1, \"neuron_code\": 0.0, \"i_trial\": 0.0, \"log_firing_rate\": -0.09787917937700241, \"Firing rate\": -11.856084952991296, \"firing_rate\": -11.856084952991296, \"i_spike\": -3.75, \"isi diff\": 0.007096951843653609, \"lower HDI\": 0.28328683972358704, \"higher HDI\": 0.9977189898490906, \"mean HDI\": 0.6835654973983765, \"log_isi\": 0.0385990640260625, \"zero\": 0}, {\"neuron\": 0, \"mouse_code\": 2, \"neuron_code\": 0.0, \"i_trial\": 0.0, \"log_firing_rate\": 0.16449188380621194, \"Firing rate\": 22.975791162460197, \"firing_rate\": 22.975791162460197, \"i_spike\": 9.0, \"isi diff\": -0.01945806529823943, \"lower HDI\": 0.28328683972358704, \"higher HDI\": 0.9977189898490906, \"mean HDI\": 0.6835654973983765, \"log_isi\": -0.09864702378545465, \"zero\": 0}, {\"neuron\": 0, \"mouse_code\": 3, \"neuron_code\": 0.0, \"i_trial\": 0.0, \"log_firing_rate\": 0.2562957202578966, \"Firing rate\": 74.56965634598711, \"firing_rate\": 74.56965634598711, \"i_spike\": 5.0, \"isi diff\": -0.00629554233357997, \"lower HDI\": 0.28328683972358704, \"higher HDI\": 0.9977189898490906, \"mean HDI\": 0.6835654973983765, \"log_isi\": -0.038699736159240716, \"zero\": 0}, {\"neuron\": 1, \"mouse_code\": 0, \"neuron_code\": 0.0, \"i_trial\": 0.0, \"log_firing_rate\": -0.08296054342185277, \"Firing rate\": -7.618573239163268, \"firing_rate\": -7.618573239163268, \"i_spike\": -2.75, \"isi diff\": 0.002864412710549352, \"lower HDI\": 0.12391844391822815, \"higher HDI\": 0.6175664067268372, \"mean HDI\": 0.3879251182079315, \"log_isi\": 0.020352112573475578, \"zero\": 0}, {\"neuron\": 1, \"mouse_code\": 1, \"neuron_code\": 0.0, \"i_trial\": 0.0, \"log_firing_rate\": 0.49210163910244287, \"Firing rate\": 179.62046140837634, \"firing_rate\": 179.62046140837634, \"i_spike\": 4.25, \"isi diff\": -0.004958163284620343, \"lower HDI\": 0.12391844391822815, \"higher HDI\": 0.6175664067268372, \"mean HDI\": 0.3879251182079315, \"log_isi\": -0.030248700007655227, \"zero\": 0}, {\"neuron\": 1, \"mouse_code\": 2, \"neuron_code\": 0.0, \"i_trial\": 0.0, \"log_firing_rate\": 0.05702472412043713, \"Firing rate\": 10.030337059175821, \"firing_rate\": 10.030337059175821, \"i_spike\": 6.25, \"isi diff\": -0.008047827814971528, \"lower HDI\": 0.12391844391822815, \"higher HDI\": 0.6175664067268372, \"mean HDI\": 0.3879251182079315, \"log_isi\": -0.054996516652599636, \"zero\": 0}, {\"neuron\": 1, \"mouse_code\": 3, \"neuron_code\": 0.0, \"i_trial\": 0.0, \"log_firing_rate\": 0.7795438811001822, \"Firing rate\": 518.3590879954368, \"firing_rate\": 518.3590879954368, \"i_spike\": 10.75, \"isi diff\": -0.013621025342546972, \"lower HDI\": 0.12391844391822815, \"higher HDI\": 0.6175664067268372, \"mean HDI\": 0.3879251182079315, \"log_isi\": -0.0881083345959115, \"zero\": 0}, {\"neuron\": 2, \"mouse_code\": 0, \"neuron_code\": 0.0, \"i_trial\": 0.0, \"log_firing_rate\": -0.11103022387574146, \"Firing rate\": -2.260635810239492, \"firing_rate\": -2.260635810239492, \"i_spike\": -7.75, \"isi diff\": 0.00981309179000335, \"lower HDI\": 0.008637703955173492, \"higher HDI\": 0.4696796238422394, \"mean HDI\": 0.25378620624542236, \"log_isi\": 0.06387163816829955, \"zero\": 0}, {\"neuron\": 2, \"mouse_code\": 1, \"neuron_code\": 0.0, \"i_trial\": 0.0, \"log_firing_rate\": -0.059416609854578084, \"Firing rate\": -0.6226832827486106, \"firing_rate\": -0.6226832827486106, \"i_spike\": 1.75, \"isi diff\": -0.001134062317699941, \"lower HDI\": 0.008637703955173492, \"higher HDI\": 0.4696796238422394, \"mean HDI\": 0.25378620624542236, \"log_isi\": -0.012180852857398117, \"zero\": 0}, {\"neuron\": 2, \"mouse_code\": 2, \"neuron_code\": 0.0, \"i_trial\": 0.0, \"log_firing_rate\": 0.05327438499508852, \"Firing rate\": 14.75513300731015, \"firing_rate\": 14.75513300731015, \"i_spike\": 10.5, \"isi diff\": -0.010377084636967612, \"lower HDI\": 0.008637703955173492, \"higher HDI\": 0.4696796238422394, \"mean HDI\": 0.25378620624542236, \"log_isi\": -0.07523405947372241, \"zero\": 0}, {\"neuron\": 2, \"mouse_code\": 3, \"neuron_code\": 0.0, \"i_trial\": 0.0, \"log_firing_rate\": -0.2425823923968995, \"Firing rate\": -108.76750156454814, \"firing_rate\": -108.76750156454814, \"i_spike\": 1.75, \"isi diff\": -0.0017472644923677283, \"lower HDI\": 0.008637703955173492, \"higher HDI\": 0.4696796238422394, \"mean HDI\": 0.25378620624542236, \"log_isi\": -0.011079931585610048, \"zero\": 0}, {\"neuron\": 3, \"mouse_code\": 0, \"neuron_code\": 0.0, \"i_trial\": 0.0, \"log_firing_rate\": -0.011096687735080657, \"Firing rate\": -2.2011156172424364, \"firing_rate\": -2.2011156172424364, \"i_spike\": -1.0, \"isi diff\": 0.0011505373606914143, \"lower HDI\": -0.22533558309078217, \"higher HDI\": 0.18649910390377045, \"mean HDI\": -0.008148375898599625, \"log_isi\": 0.008069559289291206, \"zero\": 0}, {\"neuron\": 3, \"mouse_code\": 1, \"neuron_code\": 0.0, \"i_trial\": 0.0, \"log_firing_rate\": 0.01508571485198873, \"Firing rate\": 4.9348306348986455, \"firing_rate\": 4.9348306348986455, \"i_spike\": 5.0, \"isi diff\": -0.005391687748429713, \"lower HDI\": -0.22533558309078217, \"higher HDI\": 0.18649910390377045, \"mean HDI\": -0.008148375898599625, \"log_isi\": -0.04541767073787639, \"zero\": 0}, {\"neuron\": 3, \"mouse_code\": 2, \"neuron_code\": 0.0, \"i_trial\": 0.0, \"log_firing_rate\": 0.02382899553993001, \"Firing rate\": 9.336925169561624, \"firing_rate\": 9.336925169561624, \"i_spike\": 1.75, \"isi diff\": 0.00012193538530609616, \"lower HDI\": -0.22533558309078217, \"higher HDI\": 0.18649910390377045, \"mean HDI\": -0.008148375898599625, \"log_isi\": 0.0007940818100868885, \"zero\": 0}, {\"neuron\": 3, \"mouse_code\": 3, \"neuron_code\": 0.0, \"i_trial\": 0.0, \"log_firing_rate\": 0.12601157018674058, \"Firing rate\": 36.48118048014007, \"firing_rate\": 36.48118048014007, \"i_spike\": 16.5, \"isi diff\": -0.010571345594555796, \"lower HDI\": -0.22533558309078217, \"higher HDI\": 0.18649910390377045, \"mean HDI\": -0.008148375898599625, \"log_isi\": -0.09983231970148587, \"zero\": 0}, {\"neuron\": 4, \"mouse_code\": 0, \"neuron_code\": 0.0, \"i_trial\": 0.0, \"log_firing_rate\": -0.13052055280751285, \"Firing rate\": -30.609270433640432, \"firing_rate\": -30.609270433640432, \"i_spike\": -14.25, \"isi diff\": 0.008385950250804144, \"lower HDI\": -0.42041677236557007, \"higher HDI\": 0.023909110575914383, \"mean HDI\": -0.18253107368946075, \"log_isi\": 0.07922398747801895, \"zero\": 0}, {\"neuron\": 4, \"mouse_code\": 1, \"neuron_code\": 0.0, \"i_trial\": 0.0, \"log_firing_rate\": 0.18463521277146366, \"Firing rate\": 62.211286139574554, \"firing_rate\": 62.211286139574554, \"i_spike\": 16.25, \"isi diff\": -0.009037427037851459, \"lower HDI\": -0.42041677236557007, \"higher HDI\": 0.023909110575914383, \"mean HDI\": -0.18253107368946075, \"log_isi\": -0.09025938203435868, \"zero\": 0}, {\"neuron\": 4, \"mouse_code\": 2, \"neuron_code\": 0.0, \"i_trial\": 0.0, \"log_firing_rate\": 0.19376028915162857, \"Firing rate\": 56.087555084713884, \"firing_rate\": 56.087555084713884, \"i_spike\": 9.0, \"isi diff\": -0.0036902477913820578, \"lower HDI\": -0.42041677236557007, \"higher HDI\": 0.023909110575914383, \"mean HDI\": -0.18253107368946075, \"log_isi\": -0.042562945860905366, \"zero\": 0}, {\"neuron\": 4, \"mouse_code\": 3, \"neuron_code\": 0.0, \"i_trial\": 0.0, \"log_firing_rate\": 0.261814996216863, \"Firing rate\": 120.80746955762393, \"firing_rate\": 120.80746955762393, \"i_spike\": 11.5, \"isi diff\": -0.005457960510169009, \"lower HDI\": -0.42041677236557007, \"higher HDI\": 0.023909110575914383, \"mean HDI\": -0.18253107368946075, \"log_isi\": -0.05780177197241243, \"zero\": 0}, {\"neuron\": 5, \"mouse_code\": 0, \"neuron_code\": 0.0, \"i_trial\": 0.0, \"log_firing_rate\": 0.1083174317342781, \"Firing rate\": 43.9194732562286, \"firing_rate\": 43.9194732562286, \"i_spike\": 7.0, \"isi diff\": -0.0017818249127573293, \"lower HDI\": -0.5851635932922363, \"higher HDI\": -0.08950463682413101, \"mean HDI\": -0.34912827610969543, \"log_isi\": -0.021920026568269968, \"zero\": 0}, {\"neuron\": 5, \"mouse_code\": 1, \"neuron_code\": 0.0, \"i_trial\": 0.0, \"log_firing_rate\": 0.5752476108051479, \"Firing rate\": 320.08333320339165, \"firing_rate\": 320.08333320339165, \"i_spike\": 12.0, \"isi diff\": -0.004866205663753863, \"lower HDI\": -0.5851635932922363, \"higher HDI\": -0.08950463682413101, \"mean HDI\": -0.34912827610969543, \"log_isi\": -0.05793607347937613, \"zero\": 0}, {\"neuron\": 5, \"mouse_code\": 2, \"neuron_code\": 0.0, \"i_trial\": 0.0, \"log_firing_rate\": 0.09047616583727347, \"Firing rate\": 64.02973992966642, \"firing_rate\": 64.02973992966642, \"i_spike\": 15.5, \"isi diff\": -0.005240994746329594, \"lower HDI\": -0.5851635932922363, \"higher HDI\": -0.08950463682413101, \"mean HDI\": -0.34912827610969543, \"log_isi\": -0.0653869871379027, \"zero\": 0}, {\"neuron\": 5, \"mouse_code\": 3, \"neuron_code\": 0.0, \"i_trial\": 0.0, \"log_firing_rate\": -1.3241234051953095, \"Firing rate\": -183033.45064723038, \"firing_rate\": -183033.45064723038, \"i_spike\": 3.75, \"isi diff\": -0.0010899391081963458, \"lower HDI\": -0.5851635932922363, \"higher HDI\": -0.08950463682413101, \"mean HDI\": -0.34912827610969543, \"log_isi\": -0.014062617296441982, \"zero\": 0}, {\"neuron\": 6, \"mouse_code\": 0, \"neuron_code\": 0.0, \"i_trial\": 0.0, \"log_firing_rate\": -0.10223114918786491, \"Firing rate\": -66.73554530543629, \"firing_rate\": -66.73554530543629, \"i_spike\": -3.5, \"isi diff\": 0.0012063991011434967, \"lower HDI\": -0.7105212211608887, \"higher HDI\": -0.17674095928668976, \"mean HDI\": -0.45644471049308777, \"log_isi\": 0.019089595687020955, \"zero\": 0}, {\"neuron\": 6, \"mouse_code\": 1, \"neuron_code\": 0.0, \"i_trial\": 0.0, \"log_firing_rate\": 0.10384236332687591, \"Firing rate\": 118.03310812621578, \"firing_rate\": 118.03310812621578, \"i_spike\": 9.5, \"isi diff\": -0.0025264424655525378, \"lower HDI\": -0.7105212211608887, \"higher HDI\": -0.17674095928668976, \"mean HDI\": -0.45644471049308777, \"log_isi\": -0.0370044627123709, \"zero\": 0}, {\"neuron\": 6, \"mouse_code\": 2, \"neuron_code\": 0.0, \"i_trial\": 0.0, \"log_firing_rate\": -0.06538274496135976, \"Firing rate\": -28.98149430532945, \"firing_rate\": -28.98149430532945, \"i_spike\": 4.25, \"isi diff\": -0.0009138371982290311, \"lower HDI\": -0.7105212211608887, \"higher HDI\": -0.17674095928668976, \"mean HDI\": -0.45644471049308777, \"log_isi\": -0.014815363576366147, \"zero\": 0}, {\"neuron\": 6, \"mouse_code\": 3, \"neuron_code\": 0.0, \"i_trial\": 0.0, \"log_firing_rate\": -0.1742763583416984, \"Firing rate\": -57.83583868212398, \"firing_rate\": -57.83583868212398, \"i_spike\": -9.25, \"isi diff\": 0.002736747502339959, \"lower HDI\": -0.7105212211608887, \"higher HDI\": -0.17674095928668976, \"mean HDI\": -0.45644471049308777, \"log_isi\": 0.040602726760917474, \"zero\": 0}, {\"neuron\": 7, \"mouse_code\": 0, \"neuron_code\": 0.0, \"i_trial\": 0.0, \"log_firing_rate\": 0.5326503841646497, \"Firing rate\": 1020.9960907077689, \"firing_rate\": 1020.9960907077689, \"i_spike\": 1.5, \"isi diff\": -0.00035058858681794383, \"lower HDI\": -0.8546572327613831, \"higher HDI\": -0.15718147158622742, \"mean HDI\": -0.5661606192588806, \"log_isi\": -0.006182883308137654, \"zero\": 0}, {\"neuron\": 7, \"mouse_code\": 1, \"neuron_code\": 0.0, \"i_trial\": 0.0, \"log_firing_rate\": -0.1356862529390872, \"Firing rate\": -174.54051519680945, \"firing_rate\": -174.54051519680945, \"i_spike\": -9.75, \"isi diff\": 0.0013712554651753896, \"lower HDI\": -0.8546572327613831, \"higher HDI\": -0.15718147158622742, \"mean HDI\": -0.5661606192588806, \"log_isi\": 0.024225636522333893, \"zero\": 0}, {\"neuron\": 7, \"mouse_code\": 2, \"neuron_code\": 0.0, \"i_trial\": 0.0, \"log_firing_rate\": -0.1392716742030604, \"Firing rate\": -113.54029732754464, \"firing_rate\": -113.54029732754464, \"i_spike\": 6.5, \"isi diff\": -0.0009954578799181713, \"lower HDI\": -0.8546572327613831, \"higher HDI\": -0.15718147158622742, \"mean HDI\": -0.5661606192588806, \"log_isi\": -0.018823568941770397, \"zero\": 0}, {\"neuron\": 7, \"mouse_code\": 3, \"neuron_code\": 0.0, \"i_trial\": 0.0, \"log_firing_rate\": 0.9048965740734034, \"Firing rate\": 5240.3526769405935, \"firing_rate\": 5240.3526769405935, \"i_spike\": 12.25, \"isi diff\": -0.0019210644848399044, \"lower HDI\": -0.8546572327613831, \"higher HDI\": -0.15718147158622742, \"mean HDI\": -0.5661606192588806, \"log_isi\": -0.03620477790385679, \"zero\": 0}]}}, {\"mode\": \"vega-lite\"});\n",
       "</script>"
      ],
      "text/plain": [
       "alt.FacetChart(...)"
      ]
     },
     "execution_count": 13,
     "metadata": {},
     "output_type": "execute_result"
    }
   ],
   "source": [
    "(chart_d+chart_p).facet(column='neuron')"
   ]
  }
 ],
 "metadata": {
  "hide_code_all_hidden": false,
  "jupytext": {
   "formats": "ipynb,py:light"
  },
  "kernelspec": {
   "display_name": "PyCharm (jup)",
   "language": "python",
   "name": "pycharm-d5912792"
  },
  "language_info": {
   "codemirror_mode": {
    "name": "ipython",
    "version": 3
   },
   "file_extension": ".py",
   "mimetype": "text/x-python",
   "name": "python",
   "nbconvert_exporter": "python",
   "pygments_lexer": "ipython3",
   "version": "3.8.5"
  }
 },
 "nbformat": 4,
 "nbformat_minor": 4
}