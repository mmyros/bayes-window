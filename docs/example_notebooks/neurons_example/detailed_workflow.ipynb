{
 "cells": [
  {
   "cell_type": "markdown",
   "metadata": {
    "hideCode": false,
    "hidePrompt": false
   },
   "source": [
    "# Neurons example via low-level, flexible interface\n",
    "## Prepare"
   ]
  },
  {
   "cell_type": "code",
   "execution_count": 1,
   "metadata": {
    "hideCode": false,
    "hidePrompt": false,
    "lines_to_end_of_cell_marker": 2,
    "lines_to_next_cell": 2
   },
   "outputs": [],
   "source": [
    "from bayes_window import models\n",
    "from bayes_window.fitting import fit_numpyro\n",
    "from bayes_window.generative_models import generate_fake_spikes\n",
    "import numpy as np\n",
    "from sklearn.preprocessing import LabelEncoder\n",
    "\n",
    "trans = LabelEncoder().fit_transform"
   ]
  },
  {
   "cell_type": "markdown",
   "metadata": {
    "hideCode": false,
    "hidePrompt": false
   },
   "source": [
    "## Make some data\n"
   ]
  },
  {
   "cell_type": "code",
   "execution_count": 2,
   "metadata": {
    "hideCode": false,
    "hidePrompt": false
   },
   "outputs": [
    {
     "data": {
      "text/html": [
       "\n",
       "<div id=\"altair-viz-d063028a9147474f94c8342aa728c7aa\"></div>\n",
       "<script type=\"text/javascript\">\n",
       "  (function(spec, embedOpt){\n",
       "    let outputDiv = document.currentScript.previousElementSibling;\n",
       "    if (outputDiv.id !== \"altair-viz-d063028a9147474f94c8342aa728c7aa\") {\n",
       "      outputDiv = document.getElementById(\"altair-viz-d063028a9147474f94c8342aa728c7aa\");\n",
       "    }\n",
       "    const paths = {\n",
       "      \"vega\": \"https://cdn.jsdelivr.net/npm//vega@5?noext\",\n",
       "      \"vega-lib\": \"https://cdn.jsdelivr.net/npm//vega-lib?noext\",\n",
       "      \"vega-lite\": \"https://cdn.jsdelivr.net/npm//vega-lite@4.8.1?noext\",\n",
       "      \"vega-embed\": \"https://cdn.jsdelivr.net/npm//vega-embed@6?noext\",\n",
       "    };\n",
       "\n",
       "    function loadScript(lib) {\n",
       "      return new Promise(function(resolve, reject) {\n",
       "        var s = document.createElement('script');\n",
       "        s.src = paths[lib];\n",
       "        s.async = true;\n",
       "        s.onload = () => resolve(paths[lib]);\n",
       "        s.onerror = () => reject(`Error loading script: ${paths[lib]}`);\n",
       "        document.getElementsByTagName(\"head\")[0].appendChild(s);\n",
       "      });\n",
       "    }\n",
       "\n",
       "    function showError(err) {\n",
       "      outputDiv.innerHTML = `<div class=\"error\" style=\"color:red;\">${err}</div>`;\n",
       "      throw err;\n",
       "    }\n",
       "\n",
       "    function displayChart(vegaEmbed) {\n",
       "      vegaEmbed(outputDiv, spec, embedOpt)\n",
       "        .catch(err => showError(`Javascript Error: ${err.message}<br>This usually means there's a typo in your chart specification. See the javascript console for the full traceback.`));\n",
       "    }\n",
       "\n",
       "    if(typeof define === \"function\" && define.amd) {\n",
       "      requirejs.config({paths});\n",
       "      require([\"vega-embed\"], displayChart, err => showError(`Error loading script: ${err.message}`));\n",
       "    } else if (typeof vegaEmbed === \"function\") {\n",
       "      displayChart(vegaEmbed);\n",
       "    } else {\n",
       "      loadScript(\"vega\")\n",
       "        .then(() => loadScript(\"vega-lite\"))\n",
       "        .then(() => loadScript(\"vega-embed\"))\n",
       "        .catch(showError)\n",
       "        .then(() => displayChart(vegaEmbed));\n",
       "    }\n",
       "  })({\"config\": {\"view\": {\"continuousWidth\": 400, \"continuousHeight\": 300}}, \"layer\": [{\"mark\": {\"type\": \"line\", \"clip\": true, \"fill\": null, \"opacity\": 0.6}, \"encoding\": {\"color\": {\"type\": \"nominal\", \"field\": \"mouse_code\"}, \"detail\": {\"type\": \"ordinal\", \"field\": \"\"}, \"size\": {\"value\": 1.0}, \"x\": {\"type\": \"ordinal\", \"field\": \"neuron\"}, \"y\": {\"type\": \"quantitative\", \"aggregate\": \"mean\", \"axis\": {\"orient\": \"right\"}, \"field\": \"isi diff\", \"scale\": {\"domain\": [0.7757895930205305, 1.0492784733697422], \"zero\": false}}}}, {\"mark\": {\"type\": \"circle\", \"clip\": true, \"filled\": true, \"opacity\": 0}, \"encoding\": {\"color\": {\"type\": \"nominal\", \"field\": \"mouse_code\"}, \"detail\": {\"type\": \"ordinal\", \"field\": \"\"}, \"x\": {\"type\": \"ordinal\", \"field\": \"neuron\"}, \"y\": {\"type\": \"quantitative\", \"aggregate\": \"mean\", \"axis\": {\"orient\": \"right\", \"title\": \"\"}, \"field\": \"isi diff\", \"scale\": {\"domain\": [0.7757895930205305, 1.0492784733697422], \"zero\": false}}}}, {\"mark\": {\"type\": \"boxplot\", \"clip\": true, \"color\": \"black\", \"opacity\": 0.3, \"size\": 9}, \"encoding\": {\"x\": {\"type\": \"ordinal\", \"field\": \"neuron\"}, \"y\": {\"type\": \"quantitative\", \"axis\": {\"orient\": \"right\", \"title\": \"\"}, \"field\": \"isi diff\", \"scale\": {\"domain\": [0.7757895930205305, 1.0492784733697422], \"zero\": false}}}}], \"data\": {\"name\": \"data-9e8af6ef8f5b0f33665af14275cd4877\"}, \"$schema\": \"https://vega.github.io/schema/vega-lite/v4.8.1.json\", \"datasets\": {\"data-9e8af6ef8f5b0f33665af14275cd4877\": [{\"mouse_code\": 0, \"neuron\": 0, \"isi diff\": 0.8341496690803258}, {\"mouse_code\": 0, \"neuron\": 1, \"isi diff\": 0.989198610621409}, {\"mouse_code\": 0, \"neuron\": 2, \"isi diff\": 0.953402888832956}, {\"mouse_code\": 0, \"neuron\": 3, \"isi diff\": 1.035004481815078}, {\"mouse_code\": 0, \"neuron\": 4, \"isi diff\": 0.9935819951285425}, {\"mouse_code\": 0, \"neuron\": 5, \"isi diff\": 0.925040692746503}, {\"mouse_code\": 0, \"neuron\": 6, \"isi diff\": 0.9515238189680362}, {\"mouse_code\": 0, \"neuron\": 7, \"isi diff\": 1.0564043182639953}, {\"mouse_code\": 1, \"neuron\": 0, \"isi diff\": 0.8844723198684853}, {\"mouse_code\": 1, \"neuron\": 1, \"isi diff\": 0.882948136826912}, {\"mouse_code\": 1, \"neuron\": 2, \"isi diff\": 0.9229213681055438}, {\"mouse_code\": 1, \"neuron\": 3, \"isi diff\": 0.8415558037691864}, {\"mouse_code\": 1, \"neuron\": 4, \"isi diff\": 1.0750348211143534}, {\"mouse_code\": 1, \"neuron\": 5, \"isi diff\": 0.9837652461972861}, {\"mouse_code\": 1, \"neuron\": 6, \"isi diff\": 0.9635808541036223}, {\"mouse_code\": 1, \"neuron\": 7, \"isi diff\": 0.9906110538681256}, {\"mouse_code\": 2, \"neuron\": 0, \"isi diff\": 0.6323495599625458}, {\"mouse_code\": 2, \"neuron\": 1, \"isi diff\": 0.7218103636741826}, {\"mouse_code\": 2, \"neuron\": 2, \"isi diff\": 0.8237412914647133}, {\"mouse_code\": 2, \"neuron\": 3, \"isi diff\": 0.8926929708136871}, {\"mouse_code\": 2, \"neuron\": 4, \"isi diff\": 0.9138252780431533}, {\"mouse_code\": 2, \"neuron\": 5, \"isi diff\": 1.0042827425762206}, {\"mouse_code\": 2, \"neuron\": 6, \"isi diff\": 1.0434482366380808}, {\"mouse_code\": 2, \"neuron\": 7, \"isi diff\": 0.9913427797138895}, {\"mouse_code\": 3, \"neuron\": 0, \"isi diff\": 0.9621551118160534}, {\"mouse_code\": 3, \"neuron\": 1, \"isi diff\": 0.8199544170311789}, {\"mouse_code\": 3, \"neuron\": 2, \"isi diff\": 0.9866730600617687}, {\"mouse_code\": 3, \"neuron\": 3, \"isi diff\": 0.8814531410268996}, {\"mouse_code\": 3, \"neuron\": 4, \"isi diff\": 0.9597768662570003}, {\"mouse_code\": 3, \"neuron\": 5, \"isi diff\": 0.8358709522451864}, {\"mouse_code\": 3, \"neuron\": 6, \"isi diff\": 0.9570573163221608}, {\"mouse_code\": 3, \"neuron\": 7, \"isi diff\": 0.9544140828619259}]}}, {\"mode\": \"vega-lite\"});\n",
       "</script>"
      ],
      "text/plain": [
       "alt.LayerChart(...)"
      ]
     },
     "execution_count": 2,
     "metadata": {},
     "output_type": "execute_result"
    }
   ],
   "source": [
    "df, df_monster, index_cols, firing_rates = generate_fake_spikes(n_trials=2,\n",
    "                                                                n_neurons=8,\n",
    "                                                                n_mice=4,\n",
    "                                                                dur=7, )\n",
    "\n",
    "\n",
    "df['log_isi'] = np.log10(df['isi'])\n",
    "\n",
    "from bayes_window import visualization, utils\n",
    "from importlib import reload\n",
    "\n",
    "reload(visualization)\n",
    "reload(utils)\n",
    "y = 'isi'\n",
    "df['neuron'] = df['neuron'].astype(int)\n",
    "ddf, dy = utils.make_fold_change(df,\n",
    "                                 y=y,\n",
    "                                 index_cols=('stim', 'mouse_code', 'neuron'),\n",
    "                                 treatment_name='stim',\n",
    "                                 do_take_mean=True)\n",
    "\n",
    "visualization.plot_data(x='neuron', y=dy, color='mouse_code',  df=ddf)[0]"
   ]
  },
  {
   "cell_type": "markdown",
   "metadata": {},
   "source": [
    "TODO leave axis labels here somehow"
   ]
  },
  {
   "cell_type": "markdown",
   "metadata": {
    "hideCode": false,
    "hidePrompt": false
   },
   "source": [
    "\n",
    "## Estimate model"
   ]
  },
  {
   "cell_type": "code",
   "execution_count": 3,
   "metadata": {
    "hideCode": false,
    "hidePrompt": false
   },
   "outputs": [
    {
     "name": "stderr",
     "output_type": "stream",
     "text": [
      "sample: 100%|██████████| 1100/1100 [00:06<00:00, 162.09it/s, 31 steps of size 1.52e-01. acc. prob=0.90]\n"
     ]
    }
   ],
   "source": [
    "# y = list(set(df.columns) - set(index_cols))[0]\n",
    "trace = fit_numpyro(y=df[y].values,\n",
    "                    treatment=(df['stim']).astype(int).values,\n",
    "                    condition=trans(df['neuron']),\n",
    "                    group=trans(df['mouse']),\n",
    "                    progress_bar=True,\n",
    "                    model=models.model_hierarchical,\n",
    "                    n_draws=100, num_chains=1, )"
   ]
  },
  {
   "cell_type": "markdown",
   "metadata": {
    "hideCode": false,
    "hidePrompt": false
   },
   "source": [
    "## Add data back"
   ]
  },
  {
   "cell_type": "code",
   "execution_count": 4,
   "metadata": {
    "hideCode": false,
    "hidePrompt": false
   },
   "outputs": [],
   "source": [
    "reload(utils)\n",
    "df_both, trace = utils.add_data_to_posterior(df, posterior=trace.posterior, y=y,\n",
    "                                             fold_change_index_cols=['neuron', 'stim', 'mouse_code', ],\n",
    "                                             treatment_name='stim', b_name='slope_per_condition',\n",
    "                                             posterior_index_name='neuron', group_name='mouse')"
   ]
  },
  {
   "cell_type": "markdown",
   "metadata": {
    "hideCode": false,
    "hidePrompt": false
   },
   "source": [
    "## Plot data and posterior"
   ]
  },
  {
   "cell_type": "code",
   "execution_count": 5,
   "metadata": {
    "hideCode": false,
    "hidePrompt": false
   },
   "outputs": [
    {
     "data": {
      "text/html": [
       "\n",
       "<div id=\"altair-viz-df73aa3dc5be44aa995482af1fd4e3f9\"></div>\n",
       "<script type=\"text/javascript\">\n",
       "  (function(spec, embedOpt){\n",
       "    let outputDiv = document.currentScript.previousElementSibling;\n",
       "    if (outputDiv.id !== \"altair-viz-df73aa3dc5be44aa995482af1fd4e3f9\") {\n",
       "      outputDiv = document.getElementById(\"altair-viz-df73aa3dc5be44aa995482af1fd4e3f9\");\n",
       "    }\n",
       "    const paths = {\n",
       "      \"vega\": \"https://cdn.jsdelivr.net/npm//vega@5?noext\",\n",
       "      \"vega-lib\": \"https://cdn.jsdelivr.net/npm//vega-lib?noext\",\n",
       "      \"vega-lite\": \"https://cdn.jsdelivr.net/npm//vega-lite@4.8.1?noext\",\n",
       "      \"vega-embed\": \"https://cdn.jsdelivr.net/npm//vega-embed@6?noext\",\n",
       "    };\n",
       "\n",
       "    function loadScript(lib) {\n",
       "      return new Promise(function(resolve, reject) {\n",
       "        var s = document.createElement('script');\n",
       "        s.src = paths[lib];\n",
       "        s.async = true;\n",
       "        s.onload = () => resolve(paths[lib]);\n",
       "        s.onerror = () => reject(`Error loading script: ${paths[lib]}`);\n",
       "        document.getElementsByTagName(\"head\")[0].appendChild(s);\n",
       "      });\n",
       "    }\n",
       "\n",
       "    function showError(err) {\n",
       "      outputDiv.innerHTML = `<div class=\"error\" style=\"color:red;\">${err}</div>`;\n",
       "      throw err;\n",
       "    }\n",
       "\n",
       "    function displayChart(vegaEmbed) {\n",
       "      vegaEmbed(outputDiv, spec, embedOpt)\n",
       "        .catch(err => showError(`Javascript Error: ${err.message}<br>This usually means there's a typo in your chart specification. See the javascript console for the full traceback.`));\n",
       "    }\n",
       "\n",
       "    if(typeof define === \"function\" && define.amd) {\n",
       "      requirejs.config({paths});\n",
       "      require([\"vega-embed\"], displayChart, err => showError(`Error loading script: ${err.message}`));\n",
       "    } else if (typeof vegaEmbed === \"function\") {\n",
       "      displayChart(vegaEmbed);\n",
       "    } else {\n",
       "      loadScript(\"vega\")\n",
       "        .then(() => loadScript(\"vega-lite\"))\n",
       "        .then(() => loadScript(\"vega-embed\"))\n",
       "        .catch(showError)\n",
       "        .then(() => displayChart(vegaEmbed));\n",
       "    }\n",
       "  })({\"config\": {\"view\": {\"continuousWidth\": 400, \"continuousHeight\": 300}}, \"layer\": [{\"mark\": {\"type\": \"line\", \"clip\": true, \"fill\": null, \"opacity\": 0.6}, \"encoding\": {\"color\": {\"type\": \"nominal\", \"field\": \"mouse_code\"}, \"detail\": {\"type\": \"ordinal\", \"field\": \"\"}, \"size\": {\"value\": 1.0}, \"x\": {\"type\": \"ordinal\", \"field\": \"neuron\"}, \"y\": {\"type\": \"quantitative\", \"aggregate\": \"mean\", \"axis\": {\"orient\": \"right\"}, \"field\": \"isi diff\", \"scale\": {\"domain\": [-0.017992425899274727, 0.0015022188528595114], \"zero\": false}}}}, {\"mark\": {\"type\": \"circle\", \"clip\": true, \"filled\": true, \"opacity\": 0}, \"encoding\": {\"color\": {\"type\": \"nominal\", \"field\": \"mouse_code\"}, \"detail\": {\"type\": \"ordinal\", \"field\": \"\"}, \"x\": {\"type\": \"ordinal\", \"field\": \"neuron\"}, \"y\": {\"type\": \"quantitative\", \"aggregate\": \"mean\", \"axis\": {\"orient\": \"right\", \"title\": \"\"}, \"field\": \"isi diff\", \"scale\": {\"domain\": [-0.017992425899274727, 0.0015022188528595114], \"zero\": false}}}}, {\"mark\": {\"type\": \"boxplot\", \"clip\": true, \"color\": \"black\", \"opacity\": 0.3, \"size\": 9}, \"encoding\": {\"x\": {\"type\": \"ordinal\", \"field\": \"neuron\"}, \"y\": {\"type\": \"quantitative\", \"axis\": {\"orient\": \"right\", \"title\": \"\"}, \"field\": \"isi diff\", \"scale\": {\"domain\": [-0.017992425899274727, 0.0015022188528595114], \"zero\": false}}}}], \"data\": {\"name\": \"data-2f7eca2fef27ec4db69fe7f273c5bfe3\"}, \"$schema\": \"https://vega.github.io/schema/vega-lite/v4.8.1.json\", \"datasets\": {\"data-2f7eca2fef27ec4db69fe7f273c5bfe3\": [{\"neuron\": 0, \"mouse_code\": 0, \"lower interval\": 5.787654399871826, \"higher interval\": 41.45073318481445, \"center interval\": 14.499223066493869, \"isi diff\": -0.014344047588349673}, {\"neuron\": 0, \"mouse_code\": 1, \"lower interval\": 5.787654399871826, \"higher interval\": 41.45073318481445, \"center interval\": 14.499223066493869, \"isi diff\": -0.008906380285890816}, {\"neuron\": 0, \"mouse_code\": 2, \"lower interval\": 5.787654399871826, \"higher interval\": 41.45073318481445, \"center interval\": 14.499223066493869, \"isi diff\": -0.034388992721002806}, {\"neuron\": 0, \"mouse_code\": 3, \"lower interval\": 5.787654399871826, \"higher interval\": 41.45073318481445, \"center interval\": 14.499223066493869, \"isi diff\": -0.0030746119984206427}, {\"neuron\": 1, \"mouse_code\": 0, \"lower interval\": -4.5883331298828125, \"higher interval\": 30.428932189941406, \"center interval\": 12.832819119095802, \"isi diff\": -0.0009038880359019674}, {\"neuron\": 1, \"mouse_code\": 1, \"lower interval\": -4.5883331298828125, \"higher interval\": 30.428932189941406, \"center interval\": 12.832819119095802, \"isi diff\": -0.008726297998739363}, {\"neuron\": 1, \"mouse_code\": 2, \"lower interval\": -4.5883331298828125, \"higher interval\": 30.428932189941406, \"center interval\": 12.832819119095802, \"isi diff\": -0.022451554945960905}, {\"neuron\": 1, \"mouse_code\": 3, \"lower interval\": -4.5883331298828125, \"higher interval\": 30.428932189941406, \"center interval\": 12.832819119095802, \"isi diff\": -0.012940473684186458}, {\"neuron\": 2, \"mouse_code\": 0, \"lower interval\": -6.632730960845947, \"higher interval\": 16.88978385925293, \"center interval\": 1.828754024580121, \"isi diff\": -0.002376517250940638}, {\"neuron\": 2, \"mouse_code\": 1, \"lower interval\": -6.632730960845947, \"higher interval\": 16.88978385925293, \"center interval\": 1.828754024580121, \"isi diff\": -0.004999848400429038}, {\"neuron\": 2, \"mouse_code\": 2, \"lower interval\": -6.632730960845947, \"higher interval\": 16.88978385925293, \"center interval\": 1.828754024580121, \"isi diff\": -0.011394370086403913}, {\"neuron\": 2, \"mouse_code\": 3, \"lower interval\": -6.632730960845947, \"higher interval\": 16.88978385925293, \"center interval\": 1.828754024580121, \"isi diff\": -0.0008194023857511154}, {\"neuron\": 3, \"mouse_code\": 0, \"lower interval\": -14.467794418334961, \"higher interval\": 6.915286064147949, \"center interval\": -0.36105288844555616, \"isi diff\": 0.001793393108261078}, {\"neuron\": 3, \"mouse_code\": 1, \"lower interval\": -14.467794418334961, \"higher interval\": 6.915286064147949, \"center interval\": -0.36105288844555616, \"isi diff\": -0.008779474774538769}, {\"neuron\": 3, \"mouse_code\": 2, \"lower interval\": -14.467794418334961, \"higher interval\": 6.915286064147949, \"center interval\": -0.36105288844555616, \"isi diff\": -0.005276294945207968}, {\"neuron\": 3, \"mouse_code\": 3, \"lower interval\": -14.467794418334961, \"higher interval\": 6.915286064147949, \"center interval\": -0.36105288844555616, \"isi diff\": -0.006482350136602956}, {\"neuron\": 4, \"mouse_code\": 0, \"lower interval\": -22.006011962890625, \"higher interval\": 6.481511116027832, \"center interval\": -8.563954367302358, \"isi diff\": -0.0002639028990530229}, {\"neuron\": 4, \"mouse_code\": 1, \"lower interval\": -22.006011962890625, \"higher interval\": 6.481511116027832, \"center interval\": -8.563954367302358, \"isi diff\": 0.0029888319104246983}, {\"neuron\": 4, \"mouse_code\": 2, \"lower interval\": -22.006011962890625, \"higher interval\": 6.481511116027832, \"center interval\": -8.563954367302358, \"isi diff\": -0.003935422731244809}, {\"neuron\": 4, \"mouse_code\": 3, \"lower interval\": -22.006011962890625, \"higher interval\": 6.481511116027832, \"center interval\": -8.563954367302358, \"isi diff\": -0.0016896223771095675}, {\"neuron\": 5, \"mouse_code\": 0, \"lower interval\": -35.72085189819336, \"higher interval\": -3.3897886276245117, \"center interval\": -15.703877238091081, \"isi diff\": -0.003030436343063339}, {\"neuron\": 5, \"mouse_code\": 1, \"lower interval\": -35.72085189819336, \"higher interval\": -3.3897886276245117, \"center interval\": -15.703877238091081, \"isi diff\": -0.0005692616838599007}, {\"neuron\": 5, \"mouse_code\": 2, \"lower interval\": -35.72085189819336, \"higher interval\": -3.3897886276245117, \"center interval\": -15.703877238091081, \"isi diff\": 0.0001329803259020844}, {\"neuron\": 5, \"mouse_code\": 3, \"lower interval\": -35.72085189819336, \"higher interval\": -3.3897886276245117, \"center interval\": -15.703877238091081, \"isi diff\": -0.005461508190103173}, {\"neuron\": 6, \"mouse_code\": 0, \"lower interval\": -43.380157470703125, \"higher interval\": -8.147500991821289, \"center interval\": -26.55993303982541, \"isi diff\": -0.0013865528868561745}, {\"neuron\": 6, \"mouse_code\": 1, \"lower interval\": -43.380157470703125, \"higher interval\": -8.147500991821289, \"center interval\": -26.55993303982541, \"isi diff\": -0.0010127195163071104}, {\"neuron\": 6, \"mouse_code\": 2, \"lower interval\": -43.380157470703125, \"higher interval\": -8.147500991821289, \"center interval\": -26.55993303982541, \"isi diff\": 0.0011869315826162005}, {\"neuron\": 6, \"mouse_code\": 3, \"lower interval\": -43.380157470703125, \"higher interval\": -8.147500991821289, \"center interval\": -26.55993303982541, \"isi diff\": -0.001173746450153921}, {\"neuron\": 7, \"mouse_code\": 0, \"lower interval\": -53.531150817871094, \"higher interval\": -5.515191078186035, \"center interval\": -23.46630894113332, \"isi diff\": 0.0012639853711673213}, {\"neuron\": 7, \"mouse_code\": 1, \"lower interval\": -53.531150817871094, \"higher interval\": -5.515191078186035, \"center interval\": -23.46630894113332, \"isi diff\": -0.00023376025526369512}, {\"neuron\": 7, \"mouse_code\": 2, \"lower interval\": -53.531150817871094, \"higher interval\": -5.515191078186035, \"center interval\": -23.46630894113332, \"isi diff\": -0.00020528798553505478}, {\"neuron\": 7, \"mouse_code\": 3, \"lower interval\": -53.531150817871094, \"higher interval\": -5.515191078186035, \"center interval\": -23.46630894113332, \"isi diff\": -0.0010583733990713537}]}}, {\"mode\": \"vega-lite\"});\n",
       "</script>"
      ],
      "text/plain": [
       "alt.LayerChart(...)"
      ]
     },
     "execution_count": 5,
     "metadata": {},
     "output_type": "execute_result"
    }
   ],
   "source": [
    "# BayesWindow.regression_charts(df_both, y=f'{y} diff', x='neuron',color='mouse_code',title=y,hold_for_facet=False,add_box=False)\n",
    "reload(visualization)\n",
    "\n",
    "chart_d, _ = visualization.plot_data(df=df_both, x='neuron', y=f'{y} diff', color='mouse_code', highlight=False)\n",
    "chart_d"
   ]
  },
  {
   "cell_type": "code",
   "execution_count": 6,
   "metadata": {
    "hideCode": false,
    "hidePrompt": false,
    "scrolled": false
   },
   "outputs": [
    {
     "data": {
      "text/html": [
       "\n",
       "<div id=\"altair-viz-5a4cd3a3c0e3404396e6993866b7a6c5\"></div>\n",
       "<script type=\"text/javascript\">\n",
       "  (function(spec, embedOpt){\n",
       "    let outputDiv = document.currentScript.previousElementSibling;\n",
       "    if (outputDiv.id !== \"altair-viz-5a4cd3a3c0e3404396e6993866b7a6c5\") {\n",
       "      outputDiv = document.getElementById(\"altair-viz-5a4cd3a3c0e3404396e6993866b7a6c5\");\n",
       "    }\n",
       "    const paths = {\n",
       "      \"vega\": \"https://cdn.jsdelivr.net/npm//vega@5?noext\",\n",
       "      \"vega-lib\": \"https://cdn.jsdelivr.net/npm//vega-lib?noext\",\n",
       "      \"vega-lite\": \"https://cdn.jsdelivr.net/npm//vega-lite@4.8.1?noext\",\n",
       "      \"vega-embed\": \"https://cdn.jsdelivr.net/npm//vega-embed@6?noext\",\n",
       "    };\n",
       "\n",
       "    function loadScript(lib) {\n",
       "      return new Promise(function(resolve, reject) {\n",
       "        var s = document.createElement('script');\n",
       "        s.src = paths[lib];\n",
       "        s.async = true;\n",
       "        s.onload = () => resolve(paths[lib]);\n",
       "        s.onerror = () => reject(`Error loading script: ${paths[lib]}`);\n",
       "        document.getElementsByTagName(\"head\")[0].appendChild(s);\n",
       "      });\n",
       "    }\n",
       "\n",
       "    function showError(err) {\n",
       "      outputDiv.innerHTML = `<div class=\"error\" style=\"color:red;\">${err}</div>`;\n",
       "      throw err;\n",
       "    }\n",
       "\n",
       "    function displayChart(vegaEmbed) {\n",
       "      vegaEmbed(outputDiv, spec, embedOpt)\n",
       "        .catch(err => showError(`Javascript Error: ${err.message}<br>This usually means there's a typo in your chart specification. See the javascript console for the full traceback.`));\n",
       "    }\n",
       "\n",
       "    if(typeof define === \"function\" && define.amd) {\n",
       "      requirejs.config({paths});\n",
       "      require([\"vega-embed\"], displayChart, err => showError(`Error loading script: ${err.message}`));\n",
       "    } else if (typeof vegaEmbed === \"function\") {\n",
       "      displayChart(vegaEmbed);\n",
       "    } else {\n",
       "      loadScript(\"vega\")\n",
       "        .then(() => loadScript(\"vega-lite\"))\n",
       "        .then(() => loadScript(\"vega-embed\"))\n",
       "        .catch(showError)\n",
       "        .then(() => displayChart(vegaEmbed));\n",
       "    }\n",
       "  })({\"config\": {\"view\": {\"continuousWidth\": 400, \"continuousHeight\": 300}}, \"layer\": [{\"mark\": {\"type\": \"rule\", \"size\": 2}, \"encoding\": {\"x\": {\"type\": \"ordinal\", \"field\": \"neuron\"}, \"y\": {\"type\": \"quantitative\", \"axis\": {\"orient\": \"left\", \"title\": \"\"}, \"field\": \"lower interval\", \"scale\": {\"domain\": [-53.531150817871094, 41.45073318481445], \"zero\": true}}, \"y2\": {\"field\": \"higher interval\"}}}, {\"mark\": {\"type\": \"line\", \"clip\": true, \"color\": \"black\", \"fill\": null, \"point\": true}, \"encoding\": {\"x\": {\"type\": \"ordinal\", \"field\": \"neuron\"}, \"y\": {\"type\": \"quantitative\", \"axis\": {\"orient\": \"left\"}, \"field\": \"center interval\", \"scale\": {\"domain\": [-53.531150817871094, 41.45073318481445], \"zero\": true}, \"title\": \"d_isi\"}}}], \"data\": {\"name\": \"data-2f7eca2fef27ec4db69fe7f273c5bfe3\"}, \"$schema\": \"https://vega.github.io/schema/vega-lite/v4.8.1.json\", \"datasets\": {\"data-2f7eca2fef27ec4db69fe7f273c5bfe3\": [{\"neuron\": 0, \"mouse_code\": 0, \"lower interval\": 5.787654399871826, \"higher interval\": 41.45073318481445, \"center interval\": 14.499223066493869, \"isi diff\": -0.014344047588349673}, {\"neuron\": 0, \"mouse_code\": 1, \"lower interval\": 5.787654399871826, \"higher interval\": 41.45073318481445, \"center interval\": 14.499223066493869, \"isi diff\": -0.008906380285890816}, {\"neuron\": 0, \"mouse_code\": 2, \"lower interval\": 5.787654399871826, \"higher interval\": 41.45073318481445, \"center interval\": 14.499223066493869, \"isi diff\": -0.034388992721002806}, {\"neuron\": 0, \"mouse_code\": 3, \"lower interval\": 5.787654399871826, \"higher interval\": 41.45073318481445, \"center interval\": 14.499223066493869, \"isi diff\": -0.0030746119984206427}, {\"neuron\": 1, \"mouse_code\": 0, \"lower interval\": -4.5883331298828125, \"higher interval\": 30.428932189941406, \"center interval\": 12.832819119095802, \"isi diff\": -0.0009038880359019674}, {\"neuron\": 1, \"mouse_code\": 1, \"lower interval\": -4.5883331298828125, \"higher interval\": 30.428932189941406, \"center interval\": 12.832819119095802, \"isi diff\": -0.008726297998739363}, {\"neuron\": 1, \"mouse_code\": 2, \"lower interval\": -4.5883331298828125, \"higher interval\": 30.428932189941406, \"center interval\": 12.832819119095802, \"isi diff\": -0.022451554945960905}, {\"neuron\": 1, \"mouse_code\": 3, \"lower interval\": -4.5883331298828125, \"higher interval\": 30.428932189941406, \"center interval\": 12.832819119095802, \"isi diff\": -0.012940473684186458}, {\"neuron\": 2, \"mouse_code\": 0, \"lower interval\": -6.632730960845947, \"higher interval\": 16.88978385925293, \"center interval\": 1.828754024580121, \"isi diff\": -0.002376517250940638}, {\"neuron\": 2, \"mouse_code\": 1, \"lower interval\": -6.632730960845947, \"higher interval\": 16.88978385925293, \"center interval\": 1.828754024580121, \"isi diff\": -0.004999848400429038}, {\"neuron\": 2, \"mouse_code\": 2, \"lower interval\": -6.632730960845947, \"higher interval\": 16.88978385925293, \"center interval\": 1.828754024580121, \"isi diff\": -0.011394370086403913}, {\"neuron\": 2, \"mouse_code\": 3, \"lower interval\": -6.632730960845947, \"higher interval\": 16.88978385925293, \"center interval\": 1.828754024580121, \"isi diff\": -0.0008194023857511154}, {\"neuron\": 3, \"mouse_code\": 0, \"lower interval\": -14.467794418334961, \"higher interval\": 6.915286064147949, \"center interval\": -0.36105288844555616, \"isi diff\": 0.001793393108261078}, {\"neuron\": 3, \"mouse_code\": 1, \"lower interval\": -14.467794418334961, \"higher interval\": 6.915286064147949, \"center interval\": -0.36105288844555616, \"isi diff\": -0.008779474774538769}, {\"neuron\": 3, \"mouse_code\": 2, \"lower interval\": -14.467794418334961, \"higher interval\": 6.915286064147949, \"center interval\": -0.36105288844555616, \"isi diff\": -0.005276294945207968}, {\"neuron\": 3, \"mouse_code\": 3, \"lower interval\": -14.467794418334961, \"higher interval\": 6.915286064147949, \"center interval\": -0.36105288844555616, \"isi diff\": -0.006482350136602956}, {\"neuron\": 4, \"mouse_code\": 0, \"lower interval\": -22.006011962890625, \"higher interval\": 6.481511116027832, \"center interval\": -8.563954367302358, \"isi diff\": -0.0002639028990530229}, {\"neuron\": 4, \"mouse_code\": 1, \"lower interval\": -22.006011962890625, \"higher interval\": 6.481511116027832, \"center interval\": -8.563954367302358, \"isi diff\": 0.0029888319104246983}, {\"neuron\": 4, \"mouse_code\": 2, \"lower interval\": -22.006011962890625, \"higher interval\": 6.481511116027832, \"center interval\": -8.563954367302358, \"isi diff\": -0.003935422731244809}, {\"neuron\": 4, \"mouse_code\": 3, \"lower interval\": -22.006011962890625, \"higher interval\": 6.481511116027832, \"center interval\": -8.563954367302358, \"isi diff\": -0.0016896223771095675}, {\"neuron\": 5, \"mouse_code\": 0, \"lower interval\": -35.72085189819336, \"higher interval\": -3.3897886276245117, \"center interval\": -15.703877238091081, \"isi diff\": -0.003030436343063339}, {\"neuron\": 5, \"mouse_code\": 1, \"lower interval\": -35.72085189819336, \"higher interval\": -3.3897886276245117, \"center interval\": -15.703877238091081, \"isi diff\": -0.0005692616838599007}, {\"neuron\": 5, \"mouse_code\": 2, \"lower interval\": -35.72085189819336, \"higher interval\": -3.3897886276245117, \"center interval\": -15.703877238091081, \"isi diff\": 0.0001329803259020844}, {\"neuron\": 5, \"mouse_code\": 3, \"lower interval\": -35.72085189819336, \"higher interval\": -3.3897886276245117, \"center interval\": -15.703877238091081, \"isi diff\": -0.005461508190103173}, {\"neuron\": 6, \"mouse_code\": 0, \"lower interval\": -43.380157470703125, \"higher interval\": -8.147500991821289, \"center interval\": -26.55993303982541, \"isi diff\": -0.0013865528868561745}, {\"neuron\": 6, \"mouse_code\": 1, \"lower interval\": -43.380157470703125, \"higher interval\": -8.147500991821289, \"center interval\": -26.55993303982541, \"isi diff\": -0.0010127195163071104}, {\"neuron\": 6, \"mouse_code\": 2, \"lower interval\": -43.380157470703125, \"higher interval\": -8.147500991821289, \"center interval\": -26.55993303982541, \"isi diff\": 0.0011869315826162005}, {\"neuron\": 6, \"mouse_code\": 3, \"lower interval\": -43.380157470703125, \"higher interval\": -8.147500991821289, \"center interval\": -26.55993303982541, \"isi diff\": -0.001173746450153921}, {\"neuron\": 7, \"mouse_code\": 0, \"lower interval\": -53.531150817871094, \"higher interval\": -5.515191078186035, \"center interval\": -23.46630894113332, \"isi diff\": 0.0012639853711673213}, {\"neuron\": 7, \"mouse_code\": 1, \"lower interval\": -53.531150817871094, \"higher interval\": -5.515191078186035, \"center interval\": -23.46630894113332, \"isi diff\": -0.00023376025526369512}, {\"neuron\": 7, \"mouse_code\": 2, \"lower interval\": -53.531150817871094, \"higher interval\": -5.515191078186035, \"center interval\": -23.46630894113332, \"isi diff\": -0.00020528798553505478}, {\"neuron\": 7, \"mouse_code\": 3, \"lower interval\": -53.531150817871094, \"higher interval\": -5.515191078186035, \"center interval\": -23.46630894113332, \"isi diff\": -0.0010583733990713537}]}}, {\"mode\": \"vega-lite\"});\n",
       "</script>"
      ],
      "text/plain": [
       "alt.LayerChart(...)"
      ]
     },
     "execution_count": 6,
     "metadata": {},
     "output_type": "execute_result"
    }
   ],
   "source": [
    "chart_p = visualization.plot_posterior(df=df_both, title=f'd_{y}', x='neuron', )\n",
    "chart_p"
   ]
  },
  {
   "cell_type": "code",
   "execution_count": 7,
   "metadata": {
    "hideCode": false,
    "hidePrompt": false
   },
   "outputs": [
    {
     "data": {
      "text/html": [
       "\n",
       "<div id=\"altair-viz-3a841a75823c4b789ca29fb7fe71acfa\"></div>\n",
       "<script type=\"text/javascript\">\n",
       "  (function(spec, embedOpt){\n",
       "    let outputDiv = document.currentScript.previousElementSibling;\n",
       "    if (outputDiv.id !== \"altair-viz-3a841a75823c4b789ca29fb7fe71acfa\") {\n",
       "      outputDiv = document.getElementById(\"altair-viz-3a841a75823c4b789ca29fb7fe71acfa\");\n",
       "    }\n",
       "    const paths = {\n",
       "      \"vega\": \"https://cdn.jsdelivr.net/npm//vega@5?noext\",\n",
       "      \"vega-lib\": \"https://cdn.jsdelivr.net/npm//vega-lib?noext\",\n",
       "      \"vega-lite\": \"https://cdn.jsdelivr.net/npm//vega-lite@4.8.1?noext\",\n",
       "      \"vega-embed\": \"https://cdn.jsdelivr.net/npm//vega-embed@6?noext\",\n",
       "    };\n",
       "\n",
       "    function loadScript(lib) {\n",
       "      return new Promise(function(resolve, reject) {\n",
       "        var s = document.createElement('script');\n",
       "        s.src = paths[lib];\n",
       "        s.async = true;\n",
       "        s.onload = () => resolve(paths[lib]);\n",
       "        s.onerror = () => reject(`Error loading script: ${paths[lib]}`);\n",
       "        document.getElementsByTagName(\"head\")[0].appendChild(s);\n",
       "      });\n",
       "    }\n",
       "\n",
       "    function showError(err) {\n",
       "      outputDiv.innerHTML = `<div class=\"error\" style=\"color:red;\">${err}</div>`;\n",
       "      throw err;\n",
       "    }\n",
       "\n",
       "    function displayChart(vegaEmbed) {\n",
       "      vegaEmbed(outputDiv, spec, embedOpt)\n",
       "        .catch(err => showError(`Javascript Error: ${err.message}<br>This usually means there's a typo in your chart specification. See the javascript console for the full traceback.`));\n",
       "    }\n",
       "\n",
       "    if(typeof define === \"function\" && define.amd) {\n",
       "      requirejs.config({paths});\n",
       "      require([\"vega-embed\"], displayChart, err => showError(`Error loading script: ${err.message}`));\n",
       "    } else if (typeof vegaEmbed === \"function\") {\n",
       "      displayChart(vegaEmbed);\n",
       "    } else {\n",
       "      loadScript(\"vega\")\n",
       "        .then(() => loadScript(\"vega-lite\"))\n",
       "        .then(() => loadScript(\"vega-embed\"))\n",
       "        .catch(showError)\n",
       "        .then(() => displayChart(vegaEmbed));\n",
       "    }\n",
       "  })({\"config\": {\"view\": {\"continuousWidth\": 400, \"continuousHeight\": 300}}, \"layer\": [{\"mark\": {\"type\": \"line\", \"clip\": true, \"fill\": null, \"opacity\": 0.6}, \"encoding\": {\"color\": {\"type\": \"nominal\", \"field\": \"mouse_code\"}, \"detail\": {\"type\": \"ordinal\", \"field\": \"\"}, \"size\": {\"value\": 1.0}, \"x\": {\"type\": \"ordinal\", \"field\": \"neuron\"}, \"y\": {\"type\": \"quantitative\", \"aggregate\": \"mean\", \"axis\": {\"orient\": \"right\"}, \"field\": \"isi diff\", \"scale\": {\"domain\": [-0.017992425899274727, 0.0015022188528595114], \"zero\": false}}}}, {\"mark\": {\"type\": \"circle\", \"clip\": true, \"filled\": true, \"opacity\": 0}, \"encoding\": {\"color\": {\"type\": \"nominal\", \"field\": \"mouse_code\"}, \"detail\": {\"type\": \"ordinal\", \"field\": \"\"}, \"x\": {\"type\": \"ordinal\", \"field\": \"neuron\"}, \"y\": {\"type\": \"quantitative\", \"aggregate\": \"mean\", \"axis\": {\"orient\": \"right\", \"title\": \"\"}, \"field\": \"isi diff\", \"scale\": {\"domain\": [-0.017992425899274727, 0.0015022188528595114], \"zero\": false}}}}, {\"mark\": {\"type\": \"boxplot\", \"clip\": true, \"color\": \"black\", \"opacity\": 0.3, \"size\": 9}, \"encoding\": {\"x\": {\"type\": \"ordinal\", \"field\": \"neuron\"}, \"y\": {\"type\": \"quantitative\", \"axis\": {\"orient\": \"right\", \"title\": \"\"}, \"field\": \"isi diff\", \"scale\": {\"domain\": [-0.017992425899274727, 0.0015022188528595114], \"zero\": false}}}}, {\"layer\": [{\"mark\": {\"type\": \"rule\", \"size\": 2}, \"encoding\": {\"x\": {\"type\": \"ordinal\", \"field\": \"neuron\"}, \"y\": {\"type\": \"quantitative\", \"axis\": {\"orient\": \"left\", \"title\": \"\"}, \"field\": \"lower interval\", \"scale\": {\"domain\": [-53.531150817871094, 41.45073318481445], \"zero\": true}}, \"y2\": {\"field\": \"higher interval\"}}}, {\"mark\": {\"type\": \"line\", \"clip\": true, \"color\": \"black\", \"fill\": null, \"point\": true}, \"encoding\": {\"x\": {\"type\": \"ordinal\", \"field\": \"neuron\"}, \"y\": {\"type\": \"quantitative\", \"axis\": {\"orient\": \"left\"}, \"field\": \"center interval\", \"scale\": {\"domain\": [-53.531150817871094, 41.45073318481445], \"zero\": true}, \"title\": \"d_isi\"}}}]}], \"data\": {\"name\": \"data-2f7eca2fef27ec4db69fe7f273c5bfe3\"}, \"resolve\": {\"scale\": {\"y\": \"independent\"}}, \"$schema\": \"https://vega.github.io/schema/vega-lite/v4.8.1.json\", \"datasets\": {\"data-2f7eca2fef27ec4db69fe7f273c5bfe3\": [{\"neuron\": 0, \"mouse_code\": 0, \"lower interval\": 5.787654399871826, \"higher interval\": 41.45073318481445, \"center interval\": 14.499223066493869, \"isi diff\": -0.014344047588349673}, {\"neuron\": 0, \"mouse_code\": 1, \"lower interval\": 5.787654399871826, \"higher interval\": 41.45073318481445, \"center interval\": 14.499223066493869, \"isi diff\": -0.008906380285890816}, {\"neuron\": 0, \"mouse_code\": 2, \"lower interval\": 5.787654399871826, \"higher interval\": 41.45073318481445, \"center interval\": 14.499223066493869, \"isi diff\": -0.034388992721002806}, {\"neuron\": 0, \"mouse_code\": 3, \"lower interval\": 5.787654399871826, \"higher interval\": 41.45073318481445, \"center interval\": 14.499223066493869, \"isi diff\": -0.0030746119984206427}, {\"neuron\": 1, \"mouse_code\": 0, \"lower interval\": -4.5883331298828125, \"higher interval\": 30.428932189941406, \"center interval\": 12.832819119095802, \"isi diff\": -0.0009038880359019674}, {\"neuron\": 1, \"mouse_code\": 1, \"lower interval\": -4.5883331298828125, \"higher interval\": 30.428932189941406, \"center interval\": 12.832819119095802, \"isi diff\": -0.008726297998739363}, {\"neuron\": 1, \"mouse_code\": 2, \"lower interval\": -4.5883331298828125, \"higher interval\": 30.428932189941406, \"center interval\": 12.832819119095802, \"isi diff\": -0.022451554945960905}, {\"neuron\": 1, \"mouse_code\": 3, \"lower interval\": -4.5883331298828125, \"higher interval\": 30.428932189941406, \"center interval\": 12.832819119095802, \"isi diff\": -0.012940473684186458}, {\"neuron\": 2, \"mouse_code\": 0, \"lower interval\": -6.632730960845947, \"higher interval\": 16.88978385925293, \"center interval\": 1.828754024580121, \"isi diff\": -0.002376517250940638}, {\"neuron\": 2, \"mouse_code\": 1, \"lower interval\": -6.632730960845947, \"higher interval\": 16.88978385925293, \"center interval\": 1.828754024580121, \"isi diff\": -0.004999848400429038}, {\"neuron\": 2, \"mouse_code\": 2, \"lower interval\": -6.632730960845947, \"higher interval\": 16.88978385925293, \"center interval\": 1.828754024580121, \"isi diff\": -0.011394370086403913}, {\"neuron\": 2, \"mouse_code\": 3, \"lower interval\": -6.632730960845947, \"higher interval\": 16.88978385925293, \"center interval\": 1.828754024580121, \"isi diff\": -0.0008194023857511154}, {\"neuron\": 3, \"mouse_code\": 0, \"lower interval\": -14.467794418334961, \"higher interval\": 6.915286064147949, \"center interval\": -0.36105288844555616, \"isi diff\": 0.001793393108261078}, {\"neuron\": 3, \"mouse_code\": 1, \"lower interval\": -14.467794418334961, \"higher interval\": 6.915286064147949, \"center interval\": -0.36105288844555616, \"isi diff\": -0.008779474774538769}, {\"neuron\": 3, \"mouse_code\": 2, \"lower interval\": -14.467794418334961, \"higher interval\": 6.915286064147949, \"center interval\": -0.36105288844555616, \"isi diff\": -0.005276294945207968}, {\"neuron\": 3, \"mouse_code\": 3, \"lower interval\": -14.467794418334961, \"higher interval\": 6.915286064147949, \"center interval\": -0.36105288844555616, \"isi diff\": -0.006482350136602956}, {\"neuron\": 4, \"mouse_code\": 0, \"lower interval\": -22.006011962890625, \"higher interval\": 6.481511116027832, \"center interval\": -8.563954367302358, \"isi diff\": -0.0002639028990530229}, {\"neuron\": 4, \"mouse_code\": 1, \"lower interval\": -22.006011962890625, \"higher interval\": 6.481511116027832, \"center interval\": -8.563954367302358, \"isi diff\": 0.0029888319104246983}, {\"neuron\": 4, \"mouse_code\": 2, \"lower interval\": -22.006011962890625, \"higher interval\": 6.481511116027832, \"center interval\": -8.563954367302358, \"isi diff\": -0.003935422731244809}, {\"neuron\": 4, \"mouse_code\": 3, \"lower interval\": -22.006011962890625, \"higher interval\": 6.481511116027832, \"center interval\": -8.563954367302358, \"isi diff\": -0.0016896223771095675}, {\"neuron\": 5, \"mouse_code\": 0, \"lower interval\": -35.72085189819336, \"higher interval\": -3.3897886276245117, \"center interval\": -15.703877238091081, \"isi diff\": -0.003030436343063339}, {\"neuron\": 5, \"mouse_code\": 1, \"lower interval\": -35.72085189819336, \"higher interval\": -3.3897886276245117, \"center interval\": -15.703877238091081, \"isi diff\": -0.0005692616838599007}, {\"neuron\": 5, \"mouse_code\": 2, \"lower interval\": -35.72085189819336, \"higher interval\": -3.3897886276245117, \"center interval\": -15.703877238091081, \"isi diff\": 0.0001329803259020844}, {\"neuron\": 5, \"mouse_code\": 3, \"lower interval\": -35.72085189819336, \"higher interval\": -3.3897886276245117, \"center interval\": -15.703877238091081, \"isi diff\": -0.005461508190103173}, {\"neuron\": 6, \"mouse_code\": 0, \"lower interval\": -43.380157470703125, \"higher interval\": -8.147500991821289, \"center interval\": -26.55993303982541, \"isi diff\": -0.0013865528868561745}, {\"neuron\": 6, \"mouse_code\": 1, \"lower interval\": -43.380157470703125, \"higher interval\": -8.147500991821289, \"center interval\": -26.55993303982541, \"isi diff\": -0.0010127195163071104}, {\"neuron\": 6, \"mouse_code\": 2, \"lower interval\": -43.380157470703125, \"higher interval\": -8.147500991821289, \"center interval\": -26.55993303982541, \"isi diff\": 0.0011869315826162005}, {\"neuron\": 6, \"mouse_code\": 3, \"lower interval\": -43.380157470703125, \"higher interval\": -8.147500991821289, \"center interval\": -26.55993303982541, \"isi diff\": -0.001173746450153921}, {\"neuron\": 7, \"mouse_code\": 0, \"lower interval\": -53.531150817871094, \"higher interval\": -5.515191078186035, \"center interval\": -23.46630894113332, \"isi diff\": 0.0012639853711673213}, {\"neuron\": 7, \"mouse_code\": 1, \"lower interval\": -53.531150817871094, \"higher interval\": -5.515191078186035, \"center interval\": -23.46630894113332, \"isi diff\": -0.00023376025526369512}, {\"neuron\": 7, \"mouse_code\": 2, \"lower interval\": -53.531150817871094, \"higher interval\": -5.515191078186035, \"center interval\": -23.46630894113332, \"isi diff\": -0.00020528798553505478}, {\"neuron\": 7, \"mouse_code\": 3, \"lower interval\": -53.531150817871094, \"higher interval\": -5.515191078186035, \"center interval\": -23.46630894113332, \"isi diff\": -0.0010583733990713537}]}}, {\"mode\": \"vega-lite\"});\n",
       "</script>"
      ],
      "text/plain": [
       "alt.LayerChart(...)"
      ]
     },
     "execution_count": 7,
     "metadata": {},
     "output_type": "execute_result"
    }
   ],
   "source": [
    "(chart_d + chart_p).resolve_scale(y='independent')"
   ]
  },
  {
   "cell_type": "code",
   "execution_count": 8,
   "metadata": {
    "hideCode": false,
    "hidePrompt": false,
    "scrolled": true
   },
   "outputs": [
    {
     "data": {
      "text/html": [
       "\n",
       "<div id=\"altair-viz-0e644db4a90a40d9890f83bdff88e1af\"></div>\n",
       "<script type=\"text/javascript\">\n",
       "  (function(spec, embedOpt){\n",
       "    let outputDiv = document.currentScript.previousElementSibling;\n",
       "    if (outputDiv.id !== \"altair-viz-0e644db4a90a40d9890f83bdff88e1af\") {\n",
       "      outputDiv = document.getElementById(\"altair-viz-0e644db4a90a40d9890f83bdff88e1af\");\n",
       "    }\n",
       "    const paths = {\n",
       "      \"vega\": \"https://cdn.jsdelivr.net/npm//vega@5?noext\",\n",
       "      \"vega-lib\": \"https://cdn.jsdelivr.net/npm//vega-lib?noext\",\n",
       "      \"vega-lite\": \"https://cdn.jsdelivr.net/npm//vega-lite@4.8.1?noext\",\n",
       "      \"vega-embed\": \"https://cdn.jsdelivr.net/npm//vega-embed@6?noext\",\n",
       "    };\n",
       "\n",
       "    function loadScript(lib) {\n",
       "      return new Promise(function(resolve, reject) {\n",
       "        var s = document.createElement('script');\n",
       "        s.src = paths[lib];\n",
       "        s.async = true;\n",
       "        s.onload = () => resolve(paths[lib]);\n",
       "        s.onerror = () => reject(`Error loading script: ${paths[lib]}`);\n",
       "        document.getElementsByTagName(\"head\")[0].appendChild(s);\n",
       "      });\n",
       "    }\n",
       "\n",
       "    function showError(err) {\n",
       "      outputDiv.innerHTML = `<div class=\"error\" style=\"color:red;\">${err}</div>`;\n",
       "      throw err;\n",
       "    }\n",
       "\n",
       "    function displayChart(vegaEmbed) {\n",
       "      vegaEmbed(outputDiv, spec, embedOpt)\n",
       "        .catch(err => showError(`Javascript Error: ${err.message}<br>This usually means there's a typo in your chart specification. See the javascript console for the full traceback.`));\n",
       "    }\n",
       "\n",
       "    if(typeof define === \"function\" && define.amd) {\n",
       "      requirejs.config({paths});\n",
       "      require([\"vega-embed\"], displayChart, err => showError(`Error loading script: ${err.message}`));\n",
       "    } else if (typeof vegaEmbed === \"function\") {\n",
       "      displayChart(vegaEmbed);\n",
       "    } else {\n",
       "      loadScript(\"vega\")\n",
       "        .then(() => loadScript(\"vega-lite\"))\n",
       "        .then(() => loadScript(\"vega-embed\"))\n",
       "        .catch(showError)\n",
       "        .then(() => displayChart(vegaEmbed));\n",
       "    }\n",
       "  })({\"config\": {\"view\": {\"continuousWidth\": 400, \"continuousHeight\": 300}}, \"data\": {\"name\": \"data-2f7eca2fef27ec4db69fe7f273c5bfe3\"}, \"facet\": {\"column\": {\"type\": \"quantitative\", \"field\": \"neuron\"}}, \"spec\": {\"layer\": [{\"mark\": {\"type\": \"line\", \"clip\": true, \"fill\": null, \"opacity\": 0.6}, \"encoding\": {\"color\": {\"type\": \"nominal\", \"field\": \"mouse_code\"}, \"detail\": {\"type\": \"ordinal\", \"field\": \"\"}, \"size\": {\"value\": 1.0}, \"x\": {\"type\": \"ordinal\", \"field\": \"neuron\"}, \"y\": {\"type\": \"quantitative\", \"aggregate\": \"mean\", \"axis\": {\"orient\": \"right\"}, \"field\": \"isi diff\", \"scale\": {\"domain\": [-0.017992425899274727, 0.0015022188528595114], \"zero\": false}}}}, {\"mark\": {\"type\": \"circle\", \"clip\": true, \"filled\": true, \"opacity\": 0}, \"encoding\": {\"color\": {\"type\": \"nominal\", \"field\": \"mouse_code\"}, \"detail\": {\"type\": \"ordinal\", \"field\": \"\"}, \"x\": {\"type\": \"ordinal\", \"field\": \"neuron\"}, \"y\": {\"type\": \"quantitative\", \"aggregate\": \"mean\", \"axis\": {\"orient\": \"right\", \"title\": \"\"}, \"field\": \"isi diff\", \"scale\": {\"domain\": [-0.017992425899274727, 0.0015022188528595114], \"zero\": false}}}}, {\"mark\": {\"type\": \"boxplot\", \"clip\": true, \"color\": \"black\", \"opacity\": 0.3, \"size\": 9}, \"encoding\": {\"x\": {\"type\": \"ordinal\", \"field\": \"neuron\"}, \"y\": {\"type\": \"quantitative\", \"axis\": {\"orient\": \"right\", \"title\": \"\"}, \"field\": \"isi diff\", \"scale\": {\"domain\": [-0.017992425899274727, 0.0015022188528595114], \"zero\": false}}}}, {\"layer\": [{\"mark\": {\"type\": \"rule\", \"size\": 2}, \"encoding\": {\"x\": {\"type\": \"ordinal\", \"field\": \"neuron\"}, \"y\": {\"type\": \"quantitative\", \"axis\": {\"orient\": \"left\", \"title\": \"\"}, \"field\": \"lower interval\", \"scale\": {\"domain\": [-53.531150817871094, 41.45073318481445], \"zero\": true}}, \"y2\": {\"field\": \"higher interval\"}}}, {\"mark\": {\"type\": \"line\", \"clip\": true, \"color\": \"black\", \"fill\": null, \"point\": true}, \"encoding\": {\"x\": {\"type\": \"ordinal\", \"field\": \"neuron\"}, \"y\": {\"type\": \"quantitative\", \"axis\": {\"orient\": \"left\"}, \"field\": \"center interval\", \"scale\": {\"domain\": [-53.531150817871094, 41.45073318481445], \"zero\": true}, \"title\": \"d_isi\"}}}]}]}, \"$schema\": \"https://vega.github.io/schema/vega-lite/v4.8.1.json\", \"datasets\": {\"data-2f7eca2fef27ec4db69fe7f273c5bfe3\": [{\"neuron\": 0, \"mouse_code\": 0, \"lower interval\": 5.787654399871826, \"higher interval\": 41.45073318481445, \"center interval\": 14.499223066493869, \"isi diff\": -0.014344047588349673}, {\"neuron\": 0, \"mouse_code\": 1, \"lower interval\": 5.787654399871826, \"higher interval\": 41.45073318481445, \"center interval\": 14.499223066493869, \"isi diff\": -0.008906380285890816}, {\"neuron\": 0, \"mouse_code\": 2, \"lower interval\": 5.787654399871826, \"higher interval\": 41.45073318481445, \"center interval\": 14.499223066493869, \"isi diff\": -0.034388992721002806}, {\"neuron\": 0, \"mouse_code\": 3, \"lower interval\": 5.787654399871826, \"higher interval\": 41.45073318481445, \"center interval\": 14.499223066493869, \"isi diff\": -0.0030746119984206427}, {\"neuron\": 1, \"mouse_code\": 0, \"lower interval\": -4.5883331298828125, \"higher interval\": 30.428932189941406, \"center interval\": 12.832819119095802, \"isi diff\": -0.0009038880359019674}, {\"neuron\": 1, \"mouse_code\": 1, \"lower interval\": -4.5883331298828125, \"higher interval\": 30.428932189941406, \"center interval\": 12.832819119095802, \"isi diff\": -0.008726297998739363}, {\"neuron\": 1, \"mouse_code\": 2, \"lower interval\": -4.5883331298828125, \"higher interval\": 30.428932189941406, \"center interval\": 12.832819119095802, \"isi diff\": -0.022451554945960905}, {\"neuron\": 1, \"mouse_code\": 3, \"lower interval\": -4.5883331298828125, \"higher interval\": 30.428932189941406, \"center interval\": 12.832819119095802, \"isi diff\": -0.012940473684186458}, {\"neuron\": 2, \"mouse_code\": 0, \"lower interval\": -6.632730960845947, \"higher interval\": 16.88978385925293, \"center interval\": 1.828754024580121, \"isi diff\": -0.002376517250940638}, {\"neuron\": 2, \"mouse_code\": 1, \"lower interval\": -6.632730960845947, \"higher interval\": 16.88978385925293, \"center interval\": 1.828754024580121, \"isi diff\": -0.004999848400429038}, {\"neuron\": 2, \"mouse_code\": 2, \"lower interval\": -6.632730960845947, \"higher interval\": 16.88978385925293, \"center interval\": 1.828754024580121, \"isi diff\": -0.011394370086403913}, {\"neuron\": 2, \"mouse_code\": 3, \"lower interval\": -6.632730960845947, \"higher interval\": 16.88978385925293, \"center interval\": 1.828754024580121, \"isi diff\": -0.0008194023857511154}, {\"neuron\": 3, \"mouse_code\": 0, \"lower interval\": -14.467794418334961, \"higher interval\": 6.915286064147949, \"center interval\": -0.36105288844555616, \"isi diff\": 0.001793393108261078}, {\"neuron\": 3, \"mouse_code\": 1, \"lower interval\": -14.467794418334961, \"higher interval\": 6.915286064147949, \"center interval\": -0.36105288844555616, \"isi diff\": -0.008779474774538769}, {\"neuron\": 3, \"mouse_code\": 2, \"lower interval\": -14.467794418334961, \"higher interval\": 6.915286064147949, \"center interval\": -0.36105288844555616, \"isi diff\": -0.005276294945207968}, {\"neuron\": 3, \"mouse_code\": 3, \"lower interval\": -14.467794418334961, \"higher interval\": 6.915286064147949, \"center interval\": -0.36105288844555616, \"isi diff\": -0.006482350136602956}, {\"neuron\": 4, \"mouse_code\": 0, \"lower interval\": -22.006011962890625, \"higher interval\": 6.481511116027832, \"center interval\": -8.563954367302358, \"isi diff\": -0.0002639028990530229}, {\"neuron\": 4, \"mouse_code\": 1, \"lower interval\": -22.006011962890625, \"higher interval\": 6.481511116027832, \"center interval\": -8.563954367302358, \"isi diff\": 0.0029888319104246983}, {\"neuron\": 4, \"mouse_code\": 2, \"lower interval\": -22.006011962890625, \"higher interval\": 6.481511116027832, \"center interval\": -8.563954367302358, \"isi diff\": -0.003935422731244809}, {\"neuron\": 4, \"mouse_code\": 3, \"lower interval\": -22.006011962890625, \"higher interval\": 6.481511116027832, \"center interval\": -8.563954367302358, \"isi diff\": -0.0016896223771095675}, {\"neuron\": 5, \"mouse_code\": 0, \"lower interval\": -35.72085189819336, \"higher interval\": -3.3897886276245117, \"center interval\": -15.703877238091081, \"isi diff\": -0.003030436343063339}, {\"neuron\": 5, \"mouse_code\": 1, \"lower interval\": -35.72085189819336, \"higher interval\": -3.3897886276245117, \"center interval\": -15.703877238091081, \"isi diff\": -0.0005692616838599007}, {\"neuron\": 5, \"mouse_code\": 2, \"lower interval\": -35.72085189819336, \"higher interval\": -3.3897886276245117, \"center interval\": -15.703877238091081, \"isi diff\": 0.0001329803259020844}, {\"neuron\": 5, \"mouse_code\": 3, \"lower interval\": -35.72085189819336, \"higher interval\": -3.3897886276245117, \"center interval\": -15.703877238091081, \"isi diff\": -0.005461508190103173}, {\"neuron\": 6, \"mouse_code\": 0, \"lower interval\": -43.380157470703125, \"higher interval\": -8.147500991821289, \"center interval\": -26.55993303982541, \"isi diff\": -0.0013865528868561745}, {\"neuron\": 6, \"mouse_code\": 1, \"lower interval\": -43.380157470703125, \"higher interval\": -8.147500991821289, \"center interval\": -26.55993303982541, \"isi diff\": -0.0010127195163071104}, {\"neuron\": 6, \"mouse_code\": 2, \"lower interval\": -43.380157470703125, \"higher interval\": -8.147500991821289, \"center interval\": -26.55993303982541, \"isi diff\": 0.0011869315826162005}, {\"neuron\": 6, \"mouse_code\": 3, \"lower interval\": -43.380157470703125, \"higher interval\": -8.147500991821289, \"center interval\": -26.55993303982541, \"isi diff\": -0.001173746450153921}, {\"neuron\": 7, \"mouse_code\": 0, \"lower interval\": -53.531150817871094, \"higher interval\": -5.515191078186035, \"center interval\": -23.46630894113332, \"isi diff\": 0.0012639853711673213}, {\"neuron\": 7, \"mouse_code\": 1, \"lower interval\": -53.531150817871094, \"higher interval\": -5.515191078186035, \"center interval\": -23.46630894113332, \"isi diff\": -0.00023376025526369512}, {\"neuron\": 7, \"mouse_code\": 2, \"lower interval\": -53.531150817871094, \"higher interval\": -5.515191078186035, \"center interval\": -23.46630894113332, \"isi diff\": -0.00020528798553505478}, {\"neuron\": 7, \"mouse_code\": 3, \"lower interval\": -53.531150817871094, \"higher interval\": -5.515191078186035, \"center interval\": -23.46630894113332, \"isi diff\": -0.0010583733990713537}]}}, {\"mode\": \"vega-lite\"});\n",
       "</script>"
      ],
      "text/plain": [
       "alt.FacetChart(...)"
      ]
     },
     "execution_count": 8,
     "metadata": {},
     "output_type": "execute_result"
    }
   ],
   "source": [
    "(chart_d + chart_p).facet(column='neuron')"
   ]
  },
  {
   "cell_type": "markdown",
   "metadata": {},
   "source": [
    "## Appendix: Elements of interactivity (WIP)"
   ]
  },
  {
   "cell_type": "code",
   "execution_count": 9,
   "metadata": {},
   "outputs": [
    {
     "data": {
      "text/html": [
       "\n",
       "<div id=\"altair-viz-66e257206a3c406b92804b42e1c1f49f\"></div>\n",
       "<script type=\"text/javascript\">\n",
       "  (function(spec, embedOpt){\n",
       "    let outputDiv = document.currentScript.previousElementSibling;\n",
       "    if (outputDiv.id !== \"altair-viz-66e257206a3c406b92804b42e1c1f49f\") {\n",
       "      outputDiv = document.getElementById(\"altair-viz-66e257206a3c406b92804b42e1c1f49f\");\n",
       "    }\n",
       "    const paths = {\n",
       "      \"vega\": \"https://cdn.jsdelivr.net/npm//vega@5?noext\",\n",
       "      \"vega-lib\": \"https://cdn.jsdelivr.net/npm//vega-lib?noext\",\n",
       "      \"vega-lite\": \"https://cdn.jsdelivr.net/npm//vega-lite@4.8.1?noext\",\n",
       "      \"vega-embed\": \"https://cdn.jsdelivr.net/npm//vega-embed@6?noext\",\n",
       "    };\n",
       "\n",
       "    function loadScript(lib) {\n",
       "      return new Promise(function(resolve, reject) {\n",
       "        var s = document.createElement('script');\n",
       "        s.src = paths[lib];\n",
       "        s.async = true;\n",
       "        s.onload = () => resolve(paths[lib]);\n",
       "        s.onerror = () => reject(`Error loading script: ${paths[lib]}`);\n",
       "        document.getElementsByTagName(\"head\")[0].appendChild(s);\n",
       "      });\n",
       "    }\n",
       "\n",
       "    function showError(err) {\n",
       "      outputDiv.innerHTML = `<div class=\"error\" style=\"color:red;\">${err}</div>`;\n",
       "      throw err;\n",
       "    }\n",
       "\n",
       "    function displayChart(vegaEmbed) {\n",
       "      vegaEmbed(outputDiv, spec, embedOpt)\n",
       "        .catch(err => showError(`Javascript Error: ${err.message}<br>This usually means there's a typo in your chart specification. See the javascript console for the full traceback.`));\n",
       "    }\n",
       "\n",
       "    if(typeof define === \"function\" && define.amd) {\n",
       "      requirejs.config({paths});\n",
       "      require([\"vega-embed\"], displayChart, err => showError(`Error loading script: ${err.message}`));\n",
       "    } else if (typeof vegaEmbed === \"function\") {\n",
       "      displayChart(vegaEmbed);\n",
       "    } else {\n",
       "      loadScript(\"vega\")\n",
       "        .then(() => loadScript(\"vega-lite\"))\n",
       "        .then(() => loadScript(\"vega-embed\"))\n",
       "        .catch(showError)\n",
       "        .then(() => displayChart(vegaEmbed));\n",
       "    }\n",
       "  })({\"config\": {\"view\": {\"continuousWidth\": 400, \"continuousHeight\": 300}}, \"layer\": [{\"mark\": {\"type\": \"line\", \"clip\": true, \"fill\": null, \"opacity\": 0.6}, \"encoding\": {\"color\": {\"type\": \"nominal\", \"field\": \"mouse\"}, \"size\": {\"condition\": {\"value\": 1, \"selection\": {\"not\": \"selector001\"}}, \"value\": 3}, \"x\": {\"type\": \"quantitative\", \"field\": \"neuron\"}, \"y\": {\"type\": \"quantitative\", \"aggregate\": \"mean\", \"field\": \"isi\", \"scale\": {\"domain\": [0.02359187236424882, 0.08664638778677167], \"zero\": false}}}}, {\"mark\": \"circle\", \"encoding\": {\"color\": {\"type\": \"nominal\", \"field\": \"mouse\"}, \"opacity\": {\"value\": 0}, \"x\": {\"type\": \"quantitative\", \"field\": \"neuron\"}, \"y\": {\"type\": \"quantitative\", \"aggregate\": \"mean\", \"field\": \"isi\", \"scale\": {\"domain\": [0.02359187236424882, 0.08664638778677167], \"zero\": false}}}, \"selection\": {\"selector001\": {\"type\": \"single\", \"on\": \"mouseover\", \"fields\": [\"mouse\"], \"nearest\": true}}}], \"data\": {\"name\": \"data-41381d8c95e87ea1303d8b4feca4f779\"}, \"$schema\": \"https://vega.github.io/schema/vega-lite/v4.8.1.json\", \"datasets\": {\"data-41381d8c95e87ea1303d8b4feca4f779\": [{\"mouse_code\": 0, \"mouse\": \"m0bayes\", \"neuron\": 0, \"i_trial\": 0, \"neuron_x_mouse\": \"0m0bayes\", \"neuron_code\": 0, \"stim\": 0, \"log_firing_rate\": 2.315185714935513, \"Firing rate\": 206.62635517146688, \"firing_rate\": 206.62635517146688, \"i_spike\": 36.0, \"isi\": 0.0984246600927012, \"log_isi\": -1.0068960763611428}, {\"mouse_code\": 0, \"mouse\": \"m0bayes\", \"neuron\": 0, \"i_trial\": 0, \"neuron_x_mouse\": \"0m0bayes\", \"neuron_code\": 0, \"stim\": 1, \"log_firing_rate\": 2.097691478752068, \"Firing rate\": 125.22512640611913, \"firing_rate\": 125.22512640611913, \"i_spike\": 46.0, \"isi\": 0.07235785925797034, \"log_isi\": -1.1405142904330574}, {\"mouse_code\": 0, \"mouse\": \"m0bayes\", \"neuron\": 0, \"i_trial\": 1, \"neuron_x_mouse\": \"0m0bayes\", \"neuron_code\": 0, \"stim\": 0, \"log_firing_rate\": 1.8586651513653374, \"Firing rate\": 72.22127502300283, \"firing_rate\": 72.22127502300283, \"i_spike\": 47.0, \"isi\": 0.07455114898538726, \"log_isi\": -1.1275456587949146}, {\"mouse_code\": 0, \"mouse\": \"m0bayes\", \"neuron\": 0, \"i_trial\": 1, \"neuron_x_mouse\": \"0m0bayes\", \"neuron_code\": 0, \"stim\": 1, \"log_firing_rate\": 1.964129422160909, \"Firing rate\": 92.07239116987677, \"firing_rate\": 92.07239116987677, \"i_spike\": 48.0, \"isi\": 0.07192985464341879, \"log_isi\": -1.1430908173250294}, {\"mouse_code\": 0, \"mouse\": \"m0bayes\", \"neuron\": 1, \"i_trial\": 0, \"neuron_x_mouse\": \"1m0bayes\", \"neuron_code\": 4, \"stim\": 0, \"log_firing_rate\": 1.4079663409010799, \"Firing rate\": 25.58387596662799, \"firing_rate\": 25.58387596662799, \"i_spike\": 34.5, \"isi\": 0.1025417693846636, \"log_isi\": -0.9890991929677283}, {\"mouse_code\": 0, \"mouse\": \"m0bayes\", \"neuron\": 1, \"i_trial\": 0, \"neuron_x_mouse\": \"1m0bayes\", \"neuron_code\": 4, \"stim\": 1, \"log_firing_rate\": 2.112198032623552, \"Firing rate\": 129.4786112454033, \"firing_rate\": 129.4786112454033, \"i_spike\": 36.5, \"isi\": 0.08981944494117078, \"log_isi\": -1.0466296330823832}, {\"mouse_code\": 0, \"mouse\": \"m0bayes\", \"neuron\": 1, \"i_trial\": 1, \"neuron_x_mouse\": \"1m0bayes\", \"neuron_code\": 4, \"stim\": 0, \"log_firing_rate\": 1.8224203857617947, \"Firing rate\": 66.43858674842816, \"firing_rate\": 66.43858674842816, \"i_spike\": 53.5, \"isi\": 0.06482337304664755, \"log_isi\": -1.1882683744541778}, {\"mouse_code\": 0, \"mouse\": \"m0bayes\", \"neuron\": 1, \"i_trial\": 1, \"neuron_x_mouse\": \"1m0bayes\", \"neuron_code\": 4, \"stim\": 1, \"log_firing_rate\": 1.8188142359823296, \"Firing rate\": 65.88920021704607, \"firing_rate\": 65.88920021704607, \"i_spike\": 46.0, \"isi\": 0.07573792141833643, \"log_isi\": -1.1206866180022774}, {\"mouse_code\": 0, \"mouse\": \"m0bayes\", \"neuron\": 2, \"i_trial\": 0, \"neuron_x_mouse\": \"2m0bayes\", \"neuron_code\": 8, \"stim\": 0, \"log_firing_rate\": 2.188895140001894, \"Firing rate\": 154.48813843321224, \"firing_rate\": 154.48813843321224, \"i_spike\": 67.0, \"isi\": 0.05226828054584738, \"log_isi\": -1.2817617865242703}, {\"mouse_code\": 0, \"mouse\": \"m0bayes\", \"neuron\": 2, \"i_trial\": 0, \"neuron_x_mouse\": \"2m0bayes\", \"neuron_code\": 8, \"stim\": 1, \"log_firing_rate\": 2.1442766240977, \"Firing rate\": 139.40444575665992, \"firing_rate\": 139.40444575665992, \"i_spike\": 84.5, \"isi\": 0.040989118882658465, \"log_isi\": -1.3873314173388351}, {\"mouse_code\": 0, \"mouse\": \"m0bayes\", \"neuron\": 2, \"i_trial\": 1, \"neuron_x_mouse\": \"2m0bayes\", \"neuron_code\": 8, \"stim\": 0, \"log_firing_rate\": 2.0617287939586, \"Firing rate\": 115.27331799704143, \"firing_rate\": 115.27331799704143, \"i_spike\": 69.5, \"isi\": 0.04973449136081268, \"log_isi\": -1.30334231926889}, {\"mouse_code\": 0, \"mouse\": \"m0bayes\", \"neuron\": 2, \"i_trial\": 1, \"neuron_x_mouse\": \"2m0bayes\", \"neuron_code\": 8, \"stim\": 1, \"log_firing_rate\": 1.6940890619253326, \"Firing rate\": 49.44120669898652, \"firing_rate\": 49.44120669898652, \"i_spike\": 60.5, \"isi\": 0.05626061852212032, \"log_isi\": -1.2497954975659975}, {\"mouse_code\": 0, \"mouse\": \"m0bayes\", \"neuron\": 3, \"i_trial\": 0, \"neuron_x_mouse\": \"3m0bayes\", \"neuron_code\": 12, \"stim\": 0, \"log_firing_rate\": 2.2276927277129275, \"Firing rate\": 168.92453328870752, \"firing_rate\": 168.92453328870752, \"i_spike\": 73.0, \"isi\": 0.04778957375398857, \"log_isi\": -1.3206668430325905}, {\"mouse_code\": 0, \"mouse\": \"m0bayes\", \"neuron\": 3, \"i_trial\": 0, \"neuron_x_mouse\": \"3m0bayes\", \"neuron_code\": 12, \"stim\": 1, \"log_firing_rate\": 1.8768273710622607, \"Firing rate\": 75.30561698146427, \"firing_rate\": 75.30561698146427, \"i_spike\": 61.0, \"isi\": 0.056649351721404416, \"log_isi\": -1.2468050557110473}, {\"mouse_code\": 0, \"mouse\": \"m0bayes\", \"neuron\": 3, \"i_trial\": 1, \"neuron_x_mouse\": \"3m0bayes\", \"neuron_code\": 12, \"stim\": 0, \"log_firing_rate\": 2.3595252394451354, \"Firing rate\": 228.83646982451037, \"firing_rate\": 228.83646982451037, \"i_spike\": 64.0, \"isi\": 0.05467691140840997, \"log_isi\": -1.2621960258556608}, {\"mouse_code\": 0, \"mouse\": \"m0bayes\", \"neuron\": 3, \"i_trial\": 1, \"neuron_x_mouse\": \"3m0bayes\", \"neuron_code\": 12, \"stim\": 1, \"log_firing_rate\": 2.0215454572831963, \"Firing rate\": 105.08614420016059, \"firing_rate\": 105.08614420016059, \"i_spike\": 69.0, \"isi\": 0.049403919657516275, \"log_isi\": -1.3062385932200846}, {\"mouse_code\": 0, \"mouse\": \"m0bayes\", \"neuron\": 4, \"i_trial\": 0, \"neuron_x_mouse\": \"4m0bayes\", \"neuron_code\": 16, \"stim\": 0, \"log_firing_rate\": 2.7604230564788845, \"Firing rate\": 576.0007600379431, \"firing_rate\": 576.0007600379431, \"i_spike\": 86.5, \"isi\": 0.03997052804237557, \"log_isi\": -1.3982601143274578}, {\"mouse_code\": 0, \"mouse\": \"m0bayes\", \"neuron\": 4, \"i_trial\": 0, \"neuron_x_mouse\": \"4m0bayes\", \"neuron_code\": 16, \"stim\": 1, \"log_firing_rate\": 2.0780578477340637, \"Firing rate\": 119.68999469611437, \"firing_rate\": 119.68999469611437, \"i_spike\": 86.5, \"isi\": 0.04059297466686198, \"log_isi\": -1.3915491222705996}, {\"mouse_code\": 0, \"mouse\": \"m0bayes\", \"neuron\": 4, \"i_trial\": 1, \"neuron_x_mouse\": \"4m0bayes\", \"neuron_code\": 16, \"stim\": 0, \"log_firing_rate\": 2.3901670778636763, \"Firing rate\": 245.56534508773115, \"firing_rate\": 245.56534508773115, \"i_spike\": 82.5, \"isi\": 0.0422677701012315, \"log_isi\": -1.373990663414782}, {\"mouse_code\": 0, \"mouse\": \"m0bayes\", \"neuron\": 4, \"i_trial\": 1, \"neuron_x_mouse\": \"4m0bayes\", \"neuron_code\": 16, \"stim\": 1, \"log_firing_rate\": 1.9734344094575857, \"Firing rate\": 94.06637529260298, \"firing_rate\": 94.06637529260298, \"i_spike\": 85.0, \"isi\": 0.04111751767863903, \"log_isi\": -1.3859731121793823}, {\"mouse_code\": 0, \"mouse\": \"m0bayes\", \"neuron\": 5, \"i_trial\": 0, \"neuron_x_mouse\": \"5m0bayes\", \"neuron_code\": 20, \"stim\": 0, \"log_firing_rate\": 2.094399020969452, \"Firing rate\": 124.27936368066405, \"firing_rate\": 124.27936368066405, \"i_spike\": 77.5, \"isi\": 0.04434489902186018, \"log_isi\": -1.3531563297007478}, {\"mouse_code\": 0, \"mouse\": \"m0bayes\", \"neuron\": 5, \"i_trial\": 0, \"neuron_x_mouse\": \"5m0bayes\", \"neuron_code\": 20, \"stim\": 1, \"log_firing_rate\": 2.2253393611945715, \"Firing rate\": 168.01163617304772, \"firing_rate\": 168.01163617304772, \"i_spike\": 97.0, \"isi\": 0.03588489496742442, \"log_isi\": -1.4450883205793523}, {\"mouse_code\": 0, \"mouse\": \"m0bayes\", \"neuron\": 5, \"i_trial\": 1, \"neuron_x_mouse\": \"5m0bayes\", \"neuron_code\": 20, \"stim\": 0, \"log_firing_rate\": 2.269280274661465, \"Firing rate\": 185.9003787778645, \"firing_rate\": 185.9003787778645, \"i_spike\": 96.0, \"isi\": 0.03651060656105627, \"log_isi\": -1.437580951933004}, {\"mouse_code\": 0, \"mouse\": \"m0bayes\", \"neuron\": 5, \"i_trial\": 1, \"neuron_x_mouse\": \"5m0bayes\", \"neuron_code\": 20, \"stim\": 1, \"log_firing_rate\": 2.4526358709732516, \"Firing rate\": 283.5540606310697, \"firing_rate\": 283.5540606310697, \"i_spike\": 90.0, \"isi\": 0.038909737929365355, \"log_isi\": -1.4099416943109784}, {\"mouse_code\": 0, \"mouse\": \"m0bayes\", \"neuron\": 6, \"i_trial\": 0, \"neuron_x_mouse\": \"6m0bayes\", \"neuron_code\": 24, \"stim\": 0, \"log_firing_rate\": 2.2875712067740426, \"Firing rate\": 193.89705228319696, \"firing_rate\": 193.89705228319696, \"i_spike\": 126.0, \"isi\": 0.02785738289228973, \"log_isi\": -1.5550596865059214}, {\"mouse_code\": 0, \"mouse\": \"m0bayes\", \"neuron\": 6, \"i_trial\": 0, \"neuron_x_mouse\": \"6m0bayes\", \"neuron_code\": 24, \"stim\": 1, \"log_firing_rate\": 2.48314182887494, \"Firing rate\": 304.1878258956356, \"firing_rate\": 304.1878258956356, \"i_spike\": 119.5, \"isi\": 0.029008616451885672, \"log_isi\": -1.5374729841115127}, {\"mouse_code\": 0, \"mouse\": \"m0bayes\", \"neuron\": 6, \"i_trial\": 1, \"neuron_x_mouse\": \"6m0bayes\", \"neuron_code\": 24, \"stim\": 0, \"log_firing_rate\": 2.140465140784374, \"Firing rate\": 138.18634843665427, \"firing_rate\": 138.18634843665427, \"i_spike\": 119.0, \"isi\": 0.029348150107181586, \"log_isi\": -1.532419268302663}, {\"mouse_code\": 0, \"mouse\": \"m0bayes\", \"neuron\": 6, \"i_trial\": 1, \"neuron_x_mouse\": \"6m0bayes\", \"neuron_code\": 24, \"stim\": 1, \"log_firing_rate\": 2.360073310648931, \"Firing rate\": 229.12543930487445, \"firing_rate\": 229.12543930487445, \"i_spike\": 138.0, \"isi\": 0.025423810773873293, \"log_isi\": -1.5947593525221775}, {\"mouse_code\": 0, \"mouse\": \"m0bayes\", \"neuron\": 7, \"i_trial\": 0, \"neuron_x_mouse\": \"7m0bayes\", \"neuron_code\": 28, \"stim\": 0, \"log_firing_rate\": 2.319059272161057, \"Firing rate\": 208.47753921482368, \"firing_rate\": 208.47753921482368, \"i_spike\": 143.0, \"isi\": 0.024535930499369352, \"log_isi\": -1.6101974672091024}, {\"mouse_code\": 0, \"mouse\": \"m0bayes\", \"neuron\": 7, \"i_trial\": 0, \"neuron_x_mouse\": \"7m0bayes\", \"neuron_code\": 28, \"stim\": 1, \"log_firing_rate\": 3.1886424643149684, \"Firing rate\": 1543.982822531602, \"firing_rate\": 1543.982822531602, \"i_spike\": 147.5, \"isi\": 0.023537231436940247, \"log_isi\": -1.6282446223069964}, {\"mouse_code\": 0, \"mouse\": \"m0bayes\", \"neuron\": 7, \"i_trial\": 1, \"neuron_x_mouse\": \"7m0bayes\", \"neuron_code\": 28, \"stim\": 0, \"log_firing_rate\": 2.5295225692943775, \"Firing rate\": 338.47186102042883, \"firing_rate\": 338.47186102042883, \"i_spike\": 169.5, \"isi\": 0.020282814237562032, \"log_isi\": -1.692871786860918}, {\"mouse_code\": 0, \"mouse\": \"m0bayes\", \"neuron\": 7, \"i_trial\": 1, \"neuron_x_mouse\": \"7m0bayes\", \"neuron_code\": 28, \"stim\": 1, \"log_firing_rate\": 2.461874551976467, \"Firing rate\": 289.6506797107957, \"firing_rate\": 289.6506797107957, \"i_spike\": 145.5, \"isi\": 0.023809484042325784, \"log_isi\": -1.6232500157668421}, {\"mouse_code\": 1, \"mouse\": \"m1bayes\", \"neuron\": 0, \"i_trial\": 0, \"neuron_x_mouse\": \"0m1bayes\", \"neuron_code\": 1, \"stim\": 0, \"log_firing_rate\": 1.6089375640704442, \"Firing rate\": 40.63849014299149, \"firing_rate\": 40.63849014299149, \"i_spike\": 41.0, \"isi\": 0.08182749443150789, \"log_isi\": -1.0871007467736733}, {\"mouse_code\": 1, \"mouse\": \"m1bayes\", \"neuron\": 0, \"i_trial\": 0, \"neuron_x_mouse\": \"0m1bayes\", \"neuron_code\": 1, \"stim\": 1, \"log_firing_rate\": 1.8283461084214119, \"Firing rate\": 67.35131948216069, \"firing_rate\": 67.35131948216069, \"i_spike\": 53.0, \"isi\": 0.06513148400067822, \"log_isi\": -1.1862090264480063}, {\"mouse_code\": 1, \"mouse\": \"m1bayes\", \"neuron\": 0, \"i_trial\": 1, \"neuron_x_mouse\": \"0m1bayes\", \"neuron_code\": 1, \"stim\": 0, \"log_firing_rate\": 1.7934453146112987, \"Firing rate\": 62.15059841833711, \"firing_rate\": 62.15059841833711, \"i_spike\": 48.0, \"isi\": 0.07235858938411004, \"log_isi\": -1.1405099082117338}, {\"mouse_code\": 1, \"mouse\": \"m1bayes\", \"neuron\": 0, \"i_trial\": 1, \"neuron_x_mouse\": \"0m1bayes\", \"neuron_code\": 1, \"stim\": 1, \"log_firing_rate\": 2.193245128304198, \"Firing rate\": 156.04330076098404, \"firing_rate\": 156.04330076098404, \"i_spike\": 49.0, \"isi\": 0.07124183924315808, \"log_isi\": -1.1472648769285665}, {\"mouse_code\": 1, \"mouse\": \"m1bayes\", \"neuron\": 1, \"i_trial\": 0, \"neuron_x_mouse\": \"1m1bayes\", \"neuron_code\": 5, \"stim\": 0, \"log_firing_rate\": 1.7728962522038294, \"Firing rate\": 59.27836986756854, \"firing_rate\": 59.27836986756854, \"i_spike\": 53.0, \"isi\": 0.0655617162781339, \"log_isi\": -1.1833496859684283}, {\"mouse_code\": 1, \"mouse\": \"m1bayes\", \"neuron\": 1, \"i_trial\": 0, \"neuron_x_mouse\": \"1m1bayes\", \"neuron_code\": 5, \"stim\": 1, \"log_firing_rate\": 1.957745677805749, \"Firing rate\": 90.72890674706028, \"firing_rate\": 90.72890674706028, \"i_spike\": 52.5, \"isi\": 0.06663997055206192, \"log_isi\": -1.1762652035142316}, {\"mouse_code\": 1, \"mouse\": \"m1bayes\", \"neuron\": 1, \"i_trial\": 1, \"neuron_x_mouse\": \"1m1bayes\", \"neuron_code\": 5, \"stim\": 0, \"log_firing_rate\": 1.620960081244778, \"Firing rate\": 41.779196297745294, \"firing_rate\": 41.779196297745294, \"i_spike\": 42.0, \"isi\": 0.08353967796170886, \"log_isi\": -1.0781072032356376}, {\"mouse_code\": 1, \"mouse\": \"m1bayes\", \"neuron\": 1, \"i_trial\": 1, \"neuron_x_mouse\": \"1m1bayes\", \"neuron_code\": 5, \"stim\": 1, \"log_firing_rate\": 2.139693616375518, \"Firing rate\": 137.94107823120964, \"firing_rate\": 137.94107823120964, \"i_spike\": 54.0, \"isi\": 0.0650088276903021, \"log_isi\": -1.1870276655590954}, {\"mouse_code\": 1, \"mouse\": \"m1bayes\", \"neuron\": 2, \"i_trial\": 0, \"neuron_x_mouse\": \"2m1bayes\", \"neuron_code\": 9, \"stim\": 0, \"log_firing_rate\": 2.3008234753775976, \"Firing rate\": 199.90491650277897, \"firing_rate\": 199.90491650277897, \"i_spike\": 49.0, \"isi\": 0.07098921665668159, \"log_isi\": -1.1488076161002108}, {\"mouse_code\": 1, \"mouse\": \"m1bayes\", \"neuron\": 2, \"i_trial\": 0, \"neuron_x_mouse\": \"2m1bayes\", \"neuron_code\": 9, \"stim\": 1, \"log_firing_rate\": 2.1516764615054744, \"Firing rate\": 141.80007531151168, \"firing_rate\": 141.80007531151168, \"i_spike\": 71.0, \"isi\": 0.04941727525163428, \"log_isi\": -1.3061212042152535}, {\"mouse_code\": 1, \"mouse\": \"m1bayes\", \"neuron\": 2, \"i_trial\": 1, \"neuron_x_mouse\": \"2m1bayes\", \"neuron_code\": 9, \"stim\": 0, \"log_firing_rate\": 2.0079592106549167, \"Firing rate\": 101.84957254879932, \"firing_rate\": 101.84957254879932, \"i_spike\": 59.5, \"isi\": 0.058744492350383565, \"log_isi\": -1.231032844868356}, {\"mouse_code\": 1, \"mouse\": \"m1bayes\", \"neuron\": 2, \"i_trial\": 1, \"neuron_x_mouse\": \"2m1bayes\", \"neuron_code\": 9, \"stim\": 1, \"log_firing_rate\": 1.9899755232391745, \"Firing rate\": 97.718214558948, \"firing_rate\": 97.718214558948, \"i_spike\": 49.5, \"isi\": 0.0703167369545728, \"log_isi\": -1.1529412908851304}, {\"mouse_code\": 1, \"mouse\": \"m1bayes\", \"neuron\": 3, \"i_trial\": 0, \"neuron_x_mouse\": \"3m1bayes\", \"neuron_code\": 13, \"stim\": 0, \"log_firing_rate\": 1.9238698495552993, \"Firing rate\": 83.92084527659777, \"firing_rate\": 83.92084527659777, \"i_spike\": 71.0, \"isi\": 0.04876817339214101, \"log_isi\": -1.3118635105673386}, {\"mouse_code\": 1, \"mouse\": \"m1bayes\", \"neuron\": 3, \"i_trial\": 0, \"neuron_x_mouse\": \"3m1bayes\", \"neuron_code\": 13, \"stim\": 1, \"log_firing_rate\": 2.265678645646558, \"Firing rate\": 184.3650712839374, \"firing_rate\": 184.3650712839374, \"i_spike\": 80.0, \"isi\": 0.043706198512641646, \"log_isi\": -1.3594569660287568}, {\"mouse_code\": 1, \"mouse\": \"m1bayes\", \"neuron\": 3, \"i_trial\": 1, \"neuron_x_mouse\": \"3m1bayes\", \"neuron_code\": 13, \"stim\": 0, \"log_firing_rate\": 1.9189779949071883, \"Firing rate\": 82.98087212041516, \"firing_rate\": 82.98087212041516, \"i_spike\": 56.5, \"isi\": 0.06205285992294823, \"log_isi\": -1.2072381977247588}, {\"mouse_code\": 1, \"mouse\": \"m1bayes\", \"neuron\": 3, \"i_trial\": 1, \"neuron_x_mouse\": \"3m1bayes\", \"neuron_code\": 13, \"stim\": 1, \"log_firing_rate\": 1.8854730473202261, \"Firing rate\": 76.81977792014185, \"firing_rate\": 76.81977792014185, \"i_spike\": 69.5, \"isi\": 0.04955588525337006, \"log_isi\": -1.304904761334387}, {\"mouse_code\": 1, \"mouse\": \"m1bayes\", \"neuron\": 4, \"i_trial\": 0, \"neuron_x_mouse\": \"4m1bayes\", \"neuron_code\": 17, \"stim\": 0, \"log_firing_rate\": 2.1528129606418442, \"Firing rate\": 142.17163589288003, \"firing_rate\": 142.17163589288003, \"i_spike\": 85.0, \"isi\": 0.041337394334188426, \"log_isi\": -1.3836569022115952}, {\"mouse_code\": 1, \"mouse\": \"m1bayes\", \"neuron\": 4, \"i_trial\": 0, \"neuron_x_mouse\": \"4m1bayes\", \"neuron_code\": 17, \"stim\": 1, \"log_firing_rate\": 1.941078581170189, \"Firing rate\": 87.31293379710992, \"firing_rate\": 87.31293379710992, \"i_spike\": 79.0, \"isi\": 0.0444342719260181, \"log_isi\": -1.3522819315326926}, {\"mouse_code\": 1, \"mouse\": \"m1bayes\", \"neuron\": 4, \"i_trial\": 1, \"neuron_x_mouse\": \"4m1bayes\", \"neuron_code\": 17, \"stim\": 0, \"log_firing_rate\": 2.0738850036328973, \"Firing rate\": 118.54548113055495, \"firing_rate\": 118.54548113055495, \"i_spike\": 89.0, \"isi\": 0.03832780286458155, \"log_isi\": -1.416486075896639}, {\"mouse_code\": 1, \"mouse\": \"m1bayes\", \"neuron\": 4, \"i_trial\": 1, \"neuron_x_mouse\": \"4m1bayes\", \"neuron_code\": 17, \"stim\": 1, \"log_firing_rate\": 2.664483772845288, \"Firing rate\": 461.83173550505916, \"firing_rate\": 461.83173550505916, \"i_spike\": 84.5, \"isi\": 0.04120858909360128, \"log_isi\": -1.3850122546662156}, {\"mouse_code\": 1, \"mouse\": \"m1bayes\", \"neuron\": 5, \"i_trial\": 0, \"neuron_x_mouse\": \"5m1bayes\", \"neuron_code\": 21, \"stim\": 0, \"log_firing_rate\": 2.0021302277802384, \"Firing rate\": 100.49170800874464, \"firing_rate\": 100.49170800874464, \"i_spike\": 101.5, \"isi\": 0.03436858953191723, \"log_isi\": -1.4638382907046312}, {\"mouse_code\": 1, \"mouse\": \"m1bayes\", \"neuron\": 5, \"i_trial\": 0, \"neuron_x_mouse\": \"5m1bayes\", \"neuron_code\": 21, \"stim\": 1, \"log_firing_rate\": 2.3034902263443082, \"Firing rate\": 201.1361932647173, \"firing_rate\": 201.1361932647173, \"i_spike\": 97.0, \"isi\": 0.03595196900548743, \"log_isi\": -1.4442773193339244}, {\"mouse_code\": 1, \"mouse\": \"m1bayes\", \"neuron\": 5, \"i_trial\": 1, \"neuron_x_mouse\": \"5m1bayes\", \"neuron_code\": 21, \"stim\": 0, \"log_firing_rate\": 2.161078531765379, \"Firing rate\": 144.90338529560987, \"firing_rate\": 144.90338529560987, \"i_spike\": 96.0, \"isi\": 0.03576018368849847, \"log_isi\": -1.4466002590400913}, {\"mouse_code\": 1, \"mouse\": \"m1bayes\", \"neuron\": 5, \"i_trial\": 1, \"neuron_x_mouse\": \"5m1bayes\", \"neuron_code\": 21, \"stim\": 1, \"log_firing_rate\": 2.2544120827347425, \"Firing rate\": 179.64373779958578, \"firing_rate\": 179.64373779958578, \"i_spike\": 104.5, \"isi\": 0.033038280847208466, \"log_isi\": -1.4809825593539494}, {\"mouse_code\": 1, \"mouse\": \"m1bayes\", \"neuron\": 6, \"i_trial\": 0, \"neuron_x_mouse\": \"6m1bayes\", \"neuron_code\": 25, \"stim\": 0, \"log_firing_rate\": 2.225086713989643, \"Firing rate\": 167.91392522426827, \"firing_rate\": 167.91392522426827, \"i_spike\": 125.5, \"isi\": 0.02770025140235223, \"log_isi\": -1.5575162893413692}, {\"mouse_code\": 1, \"mouse\": \"m1bayes\", \"neuron\": 6, \"i_trial\": 0, \"neuron_x_mouse\": \"6m1bayes\", \"neuron_code\": 25, \"stim\": 1, \"log_firing_rate\": 2.7367501539687367, \"Firing rate\": 545.4439813927265, \"firing_rate\": 545.4439813927265, \"i_spike\": 131.5, \"isi\": 0.02638864380173526, \"log_isi\": -1.5785829290128994}, {\"mouse_code\": 1, \"mouse\": \"m1bayes\", \"neuron\": 6, \"i_trial\": 1, \"neuron_x_mouse\": \"6m1bayes\", \"neuron_code\": 25, \"stim\": 0, \"log_firing_rate\": 2.627231859395877, \"Firing rate\": 423.86919924171616, \"firing_rate\": 423.86919924171616, \"i_spike\": 122.0, \"isi\": 0.02791442551448546, \"log_isi\": -1.5541713056052846}, {\"mouse_code\": 1, \"mouse\": \"m1bayes\", \"neuron\": 6, \"i_trial\": 1, \"neuron_x_mouse\": \"6m1bayes\", \"neuron_code\": 25, \"stim\": 1, \"log_firing_rate\": 2.8066695656684724, \"Firing rate\": 640.7218957990232, \"firing_rate\": 640.7218957990232, \"i_spike\": 128.5, \"isi\": 0.02720059408248821, \"log_isi\": -1.56542161052724}, {\"mouse_code\": 1, \"mouse\": \"m1bayes\", \"neuron\": 7, \"i_trial\": 0, \"neuron_x_mouse\": \"7m1bayes\", \"neuron_code\": 29, \"stim\": 0, \"log_firing_rate\": 2.2986479475065043, \"Firing rate\": 198.90602917003721, \"firing_rate\": 198.90602917003721, \"i_spike\": 149.5, \"isi\": 0.02340102108435807, \"log_isi\": -1.6307651920929636}, {\"mouse_code\": 1, \"mouse\": \"m1bayes\", \"neuron\": 7, \"i_trial\": 0, \"neuron_x_mouse\": \"7m1bayes\", \"neuron_code\": 29, \"stim\": 1, \"log_firing_rate\": 2.559347682456146, \"Firing rate\": 362.53311484259007, \"firing_rate\": 362.53311484259007, \"i_spike\": 147.0, \"isi\": 0.023785967009876733, \"log_isi\": -1.6236791878002497}, {\"mouse_code\": 1, \"mouse\": \"m1bayes\", \"neuron\": 7, \"i_trial\": 1, \"neuron_x_mouse\": \"7m1bayes\", \"neuron_code\": 29, \"stim\": 0, \"log_firing_rate\": 2.584784447547693, \"Firing rate\": 384.40094579047553, \"firing_rate\": 384.40094579047553, \"i_spike\": 132.0, \"isi\": 0.026393759284038715, \"log_isi\": -1.5784987484673485}, {\"mouse_code\": 1, \"mouse\": \"m1bayes\", \"neuron\": 7, \"i_trial\": 1, \"neuron_x_mouse\": \"7m1bayes\", \"neuron_code\": 29, \"stim\": 1, \"log_firing_rate\": 2.5087523877988387, \"Firing rate\": 322.6653926361031, \"firing_rate\": 322.6653926361031, \"i_spike\": 136.5, \"isi\": 0.02554129284799266, \"log_isi\": -1.5927571234180025}, {\"mouse_code\": 2, \"mouse\": \"m2bayes\", \"neuron\": 0, \"i_trial\": 0, \"neuron_x_mouse\": \"0m2bayes\", \"neuron_code\": 2, \"stim\": 0, \"log_firing_rate\": 1.6602210798631944, \"Firing rate\": 45.73209319677756, \"firing_rate\": 45.73209319677756, \"i_spike\": 46.5, \"isi\": 0.07436817694784989, \"log_isi\": -1.128612864622416}, {\"mouse_code\": 2, \"mouse\": \"m2bayes\", \"neuron\": 0, \"i_trial\": 0, \"neuron_x_mouse\": \"0m2bayes\", \"neuron_code\": 2, \"stim\": 1, \"log_firing_rate\": 2.188132016742486, \"Firing rate\": 154.21691699557573, \"firing_rate\": 154.21691699557573, \"i_spike\": 59.5, \"isi\": 0.058191378444520866, \"log_isi\": -1.2351413550637036}, {\"mouse_code\": 2, \"mouse\": \"m2bayes\", \"neuron\": 0, \"i_trial\": 1, \"neuron_x_mouse\": \"0m2bayes\", \"neuron_code\": 2, \"stim\": 0, \"log_firing_rate\": 1.6541934172460335, \"Firing rate\": 45.10175248343826, \"firing_rate\": 45.10175248343826, \"i_spike\": 31.0, \"isi\": 0.11270622294950611, \"log_isi\": -0.9480521042021636}, {\"mouse_code\": 2, \"mouse\": \"m2bayes\", \"neuron\": 0, \"i_trial\": 1, \"neuron_x_mouse\": \"0m2bayes\", \"neuron_code\": 2, \"stim\": 1, \"log_firing_rate\": 2.6715270193052256, \"Firing rate\": 469.38263569719123, \"firing_rate\": 469.38263569719123, \"i_spike\": 58.5, \"isi\": 0.06010503601082952, \"log_isi\": -1.2210891383119706}, {\"mouse_code\": 2, \"mouse\": \"m2bayes\", \"neuron\": 1, \"i_trial\": 0, \"neuron_x_mouse\": \"1m2bayes\", \"neuron_code\": 6, \"stim\": 0, \"log_firing_rate\": 1.613894794985911, \"Firing rate\": 41.105013482078434, \"firing_rate\": 41.105013482078434, \"i_spike\": 39.0, \"isi\": 0.08921966280341728, \"log_isi\": -1.049539422462839}, {\"mouse_code\": 2, \"mouse\": \"m2bayes\", \"neuron\": 1, \"i_trial\": 0, \"neuron_x_mouse\": \"1m2bayes\", \"neuron_code\": 6, \"stim\": 1, \"log_firing_rate\": 2.4338037337869864, \"Firing rate\": 271.5211933887484, \"firing_rate\": 271.5211933887484, \"i_spike\": 59.0, \"isi\": 0.05968917454115633, \"log_isi\": -1.2241044270506891}, {\"mouse_code\": 2, \"mouse\": \"m2bayes\", \"neuron\": 1, \"i_trial\": 1, \"neuron_x_mouse\": \"1m2bayes\", \"neuron_code\": 6, \"stim\": 0, \"log_firing_rate\": 2.0308847706848003, \"Firing rate\": 107.37044935742614, \"firing_rate\": 107.37044935742614, \"i_spike\": 48.5, \"isi\": 0.07219220891466148, \"log_isi\": -1.1415096695764386}, {\"mouse_code\": 2, \"mouse\": \"m2bayes\", \"neuron\": 1, \"i_trial\": 1, \"neuron_x_mouse\": \"1m2bayes\", \"neuron_code\": 6, \"stim\": 1, \"log_firing_rate\": 2.0528802468771805, \"Firing rate\": 112.94844257112301, \"firing_rate\": 112.94844257112301, \"i_spike\": 61.0, \"isi\": 0.056819587285000604, \"log_isi\": -1.245501925144899}, {\"mouse_code\": 2, \"mouse\": \"m2bayes\", \"neuron\": 2, \"i_trial\": 0, \"neuron_x_mouse\": \"2m2bayes\", \"neuron_code\": 10, \"stim\": 0, \"log_firing_rate\": 1.9831930671334728, \"Firing rate\": 96.20398615257722, \"firing_rate\": 96.20398615257722, \"i_spike\": 48.5, \"isi\": 0.07056744727829681, \"log_isi\": -1.1513955925417942}, {\"mouse_code\": 2, \"mouse\": \"m2bayes\", \"neuron\": 2, \"i_trial\": 0, \"neuron_x_mouse\": \"2m2bayes\", \"neuron_code\": 10, \"stim\": 1, \"log_firing_rate\": 1.9626619229454132, \"Firing rate\": 91.76179975608115, \"firing_rate\": 91.76179975608115, \"i_spike\": 67.0, \"isi\": 0.051101025847415, \"log_isi\": -1.2915703813643147}, {\"mouse_code\": 2, \"mouse\": \"m2bayes\", \"neuron\": 2, \"i_trial\": 1, \"neuron_x_mouse\": \"2m2bayes\", \"neuron_code\": 10, \"stim\": 0, \"log_firing_rate\": 2.049924715699149, \"Firing rate\": 112.18239709331701, \"firing_rate\": 112.18239709331701, \"i_spike\": 58.5, \"isi\": 0.05872398099882321, \"log_isi\": -1.2311845105303945}, {\"mouse_code\": 2, \"mouse\": \"m2bayes\", \"neuron\": 2, \"i_trial\": 1, \"neuron_x_mouse\": \"2m2bayes\", \"neuron_code\": 10, \"stim\": 1, \"log_firing_rate\": 1.809669415400918, \"Firing rate\": 64.51629445779037, \"firing_rate\": 64.51629445779037, \"i_spike\": 62.5, \"isi\": 0.05540166225689719, \"log_isi\": -1.2564772046187207}, {\"mouse_code\": 2, \"mouse\": \"m2bayes\", \"neuron\": 3, \"i_trial\": 0, \"neuron_x_mouse\": \"3m2bayes\", \"neuron_code\": 14, \"stim\": 0, \"log_firing_rate\": 2.5366639546786023, \"Firing rate\": 344.0835851611991, \"firing_rate\": 344.0835851611991, \"i_spike\": 64.5, \"isi\": 0.05204425049422181, \"log_isi\": -1.2836272414954801}, {\"mouse_code\": 2, \"mouse\": \"m2bayes\", \"neuron\": 3, \"i_trial\": 0, \"neuron_x_mouse\": \"3m2bayes\", \"neuron_code\": 14, \"stim\": 1, \"log_firing_rate\": 2.314253562569037, \"Firing rate\": 206.18333620734475, \"firing_rate\": 206.18333620734475, \"i_spike\": 75.5, \"isi\": 0.04566947272265394, \"log_isi\": -1.3403740025152624}, {\"mouse_code\": 2, \"mouse\": \"m2bayes\", \"neuron\": 3, \"i_trial\": 1, \"neuron_x_mouse\": \"3m2bayes\", \"neuron_code\": 14, \"stim\": 0, \"log_firing_rate\": 1.9213420735766489, \"Firing rate\": 83.4338095212844, \"firing_rate\": 83.4338095212844, \"i_spike\": 75.5, \"isi\": 0.046295904577016836, \"log_isi\": -1.3344574257913417}, {\"mouse_code\": 2, \"mouse\": \"m2bayes\", \"neuron\": 3, \"i_trial\": 1, \"neuron_x_mouse\": \"3m2bayes\", \"neuron_code\": 14, \"stim\": 1, \"log_firing_rate\": 2.1752341910163877, \"Firing rate\": 149.70427108871326, \"firing_rate\": 149.70427108871326, \"i_spike\": 79.5, \"isi\": 0.042118092458168756, \"log_isi\": -1.3755313063766523}, {\"mouse_code\": 2, \"mouse\": \"m2bayes\", \"neuron\": 4, \"i_trial\": 0, \"neuron_x_mouse\": \"4m2bayes\", \"neuron_code\": 18, \"stim\": 0, \"log_firing_rate\": 2.228220587148809, \"Firing rate\": 169.12997596414766, \"firing_rate\": 169.12997596414766, \"i_spike\": 77.0, \"isi\": 0.04554340868422398, \"log_isi\": -1.341574467850244}, {\"mouse_code\": 2, \"mouse\": \"m2bayes\", \"neuron\": 4, \"i_trial\": 0, \"neuron_x_mouse\": \"4m2bayes\", \"neuron_code\": 18, \"stim\": 1, \"log_firing_rate\": 3.2395750947684383, \"Firing rate\": 1736.101429853725, \"firing_rate\": 1736.101429853725, \"i_spike\": 82.5, \"isi\": 0.04167819159938072, \"log_isi\": -1.3800911331693864}, {\"mouse_code\": 2, \"mouse\": \"m2bayes\", \"neuron\": 4, \"i_trial\": 1, \"neuron_x_mouse\": \"4m2bayes\", \"neuron_code\": 18, \"stim\": 0, \"log_firing_rate\": 2.231449603815257, \"Firing rate\": 170.39215822202797, \"firing_rate\": 170.39215822202797, \"i_spike\": 75.5, \"isi\": 0.045792487547980425, \"log_isi\": -1.339205764006307}, {\"mouse_code\": 2, \"mouse\": \"m2bayes\", \"neuron\": 4, \"i_trial\": 1, \"neuron_x_mouse\": \"4m2bayes\", \"neuron_code\": 18, \"stim\": 1, \"log_firing_rate\": 2.154703483293583, \"Firing rate\": 142.79187070574702, \"firing_rate\": 142.79187070574702, \"i_spike\": 84.0, \"isi\": 0.041786859170334055, \"log_isi\": -1.3789602705470694}, {\"mouse_code\": 2, \"mouse\": \"m2bayes\", \"neuron\": 5, \"i_trial\": 0, \"neuron_x_mouse\": \"5m2bayes\", \"neuron_code\": 22, \"stim\": 0, \"log_firing_rate\": 2.17146036309703, \"Firing rate\": 148.4090424895148, \"firing_rate\": 148.4090424895148, \"i_spike\": 106.5, \"isi\": 0.032419248068442263, \"log_isi\": -1.4891970623904458}, {\"mouse_code\": 2, \"mouse\": \"m2bayes\", \"neuron\": 5, \"i_trial\": 0, \"neuron_x_mouse\": \"5m2bayes\", \"neuron_code\": 22, \"stim\": 1, \"log_firing_rate\": 2.1908919132074374, \"Firing rate\": 155.2000701447514, \"firing_rate\": 155.2000701447514, \"i_spike\": 114.0, \"isi\": 0.030774774007193684, \"log_isi\": -1.5118051276018158}, {\"mouse_code\": 2, \"mouse\": \"m2bayes\", \"neuron\": 5, \"i_trial\": 1, \"neuron_x_mouse\": \"5m2bayes\", \"neuron_code\": 22, \"stim\": 0, \"log_firing_rate\": 2.364828012780168, \"Firing rate\": 231.64771081351324, \"firing_rate\": 231.64771081351324, \"i_spike\": 118.0, \"isi\": 0.029681297801599067, \"log_isi\": -1.5275171136439976}, {\"mouse_code\": 2, \"mouse\": \"m2bayes\", \"neuron\": 5, \"i_trial\": 1, \"neuron_x_mouse\": \"5m2bayes\", \"neuron_code\": 22, \"stim\": 1, \"log_firing_rate\": 2.2669658003719744, \"Firing rate\": 184.9122999331935, \"firing_rate\": 184.9122999331935, \"i_spike\": 110.5, \"isi\": 0.03159173251465181, \"log_isi\": -1.5004265564018775}, {\"mouse_code\": 2, \"mouse\": \"m2bayes\", \"neuron\": 6, \"i_trial\": 0, \"neuron_x_mouse\": \"6m2bayes\", \"neuron_code\": 26, \"stim\": 0, \"log_firing_rate\": 2.2656459958949435, \"Firing rate\": 184.35121145432694, \"firing_rate\": 184.35121145432694, \"i_spike\": 116.5, \"isi\": 0.02996969597250592, \"log_isi\": -1.5233176627311238}, {\"mouse_code\": 2, \"mouse\": \"m2bayes\", \"neuron\": 6, \"i_trial\": 0, \"neuron_x_mouse\": \"6m2bayes\", \"neuron_code\": 26, \"stim\": 1, \"log_firing_rate\": 2.226712715852332, \"Firing rate\": 168.54377458955673, \"firing_rate\": 168.54377458955673, \"i_spike\": 115.0, \"isi\": 0.03053492714092613, \"log_isi\": -1.5152031119324512}, {\"mouse_code\": 2, \"mouse\": \"m2bayes\", \"neuron\": 6, \"i_trial\": 1, \"neuron_x_mouse\": \"6m2bayes\", \"neuron_code\": 26, \"stim\": 0, \"log_firing_rate\": 2.464585545950285, \"Firing rate\": 291.4644195604501, \"firing_rate\": 291.4644195604501, \"i_spike\": 142.0, \"isi\": 0.024666886520045467, \"log_isi\": -1.6078856641501564}, {\"mouse_code\": 2, \"mouse\": \"m2bayes\", \"neuron\": 6, \"i_trial\": 1, \"neuron_x_mouse\": \"6m2bayes\", \"neuron_code\": 26, \"stim\": 1, \"log_firing_rate\": 2.837448120299284, \"Firing rate\": 687.777747242285, \"firing_rate\": 687.777747242285, \"i_spike\": 131.5, \"isi\": 0.02647551851685766, \"log_isi\": -1.5771555255810097}, {\"mouse_code\": 2, \"mouse\": \"m2bayes\", \"neuron\": 7, \"i_trial\": 0, \"neuron_x_mouse\": \"7m2bayes\", \"neuron_code\": 30, \"stim\": 0, \"log_firing_rate\": 2.7113942022603217, \"Firing rate\": 514.5104527298538, \"firing_rate\": 514.5104527298538, \"i_spike\": 147.0, \"isi\": 0.02373249473931599, \"log_isi\": -1.6246566067227797}, {\"mouse_code\": 2, \"mouse\": \"m2bayes\", \"neuron\": 7, \"i_trial\": 0, \"neuron_x_mouse\": \"7m2bayes\", \"neuron_code\": 30, \"stim\": 1, \"log_firing_rate\": 2.545738966589283, \"Firing rate\": 351.3491980390388, \"firing_rate\": 351.3491980390388, \"i_spike\": 151.0, \"isi\": 0.022814273120720596, \"log_isi\": -1.6417933636079056}, {\"mouse_code\": 2, \"mouse\": \"m2bayes\", \"neuron\": 7, \"i_trial\": 1, \"neuron_x_mouse\": \"7m2bayes\", \"neuron_code\": 30, \"stim\": 0, \"log_firing_rate\": 2.4964769915338003, \"Firing rate\": 313.67289451463154, \"firing_rate\": 313.67289451463154, \"i_spike\": 145.5, \"isi\": 0.023693348372107598, \"log_isi\": -1.6253735599284946}, {\"mouse_code\": 2, \"mouse\": \"m2bayes\", \"neuron\": 7, \"i_trial\": 1, \"neuron_x_mouse\": \"7m2bayes\", \"neuron_code\": 30, \"stim\": 1, \"log_firing_rate\": 2.6026696927983335, \"Firing rate\": 400.56195017241004, \"firing_rate\": 400.56195017241004, \"i_spike\": 145.0, \"isi\": 0.02420099401963288, \"log_isi\": -1.6161667956569372}, {\"mouse_code\": 3, \"mouse\": \"m3bayes\", \"neuron\": 0, \"i_trial\": 0, \"neuron_x_mouse\": \"0m3bayes\", \"neuron_code\": 3, \"stim\": 0, \"log_firing_rate\": 2.135798254589245, \"Firing rate\": 136.70936139025437, \"firing_rate\": 136.70936139025437, \"i_spike\": 46.0, \"isi\": 0.07150537143542218, \"log_isi\": -1.145661333064053}, {\"mouse_code\": 3, \"mouse\": \"m3bayes\", \"neuron\": 0, \"i_trial\": 0, \"neuron_x_mouse\": \"0m3bayes\", \"neuron_code\": 3, \"stim\": 1, \"log_firing_rate\": 1.9324105663495155, \"Firing rate\": 85.5875444347639, \"firing_rate\": 85.5875444347639, \"i_spike\": 51.0, \"isi\": 0.06801647418473311, \"log_isi\": -1.1673858846320815}, {\"mouse_code\": 3, \"mouse\": \"m3bayes\", \"neuron\": 0, \"i_trial\": 1, \"neuron_x_mouse\": \"0m3bayes\", \"neuron_code\": 3, \"stim\": 0, \"log_firing_rate\": 1.6734161174010607, \"Firing rate\": 47.142880756646726, \"firing_rate\": 47.142880756646726, \"i_spike\": 38.0, \"isi\": 0.09097955828488084, \"log_isi\": -1.0410561760453525}, {\"mouse_code\": 3, \"mouse\": \"m3bayes\", \"neuron\": 0, \"i_trial\": 1, \"neuron_x_mouse\": \"0m3bayes\", \"neuron_code\": 3, \"stim\": 1, \"log_firing_rate\": 1.8983904695541485, \"Firing rate\": 79.13898384259824, \"firing_rate\": 79.13898384259824, \"i_spike\": 39.5, \"isi\": 0.08831923153872864, \"log_isi\": -1.0539447183732733}, {\"mouse_code\": 3, \"mouse\": \"m3bayes\", \"neuron\": 1, \"i_trial\": 0, \"neuron_x_mouse\": \"1m3bayes\", \"neuron_code\": 7, \"stim\": 0, \"log_firing_rate\": 2.3069134757580017, \"Firing rate\": 202.7278785688348, \"firing_rate\": 202.7278785688348, \"i_spike\": 51.0, \"isi\": 0.06903321114971431, \"log_isi\": -1.160941924494271}, {\"mouse_code\": 3, \"mouse\": \"m3bayes\", \"neuron\": 1, \"i_trial\": 0, \"neuron_x_mouse\": \"1m3bayes\", \"neuron_code\": 7, \"stim\": 1, \"log_firing_rate\": 1.7036877279498974, \"Firing rate\": 50.54610881218111, \"firing_rate\": 50.54610881218111, \"i_spike\": 57.0, \"isi\": 0.059491794968271255, \"log_isi\": -1.225542927476864}, {\"mouse_code\": 3, \"mouse\": \"m3bayes\", \"neuron\": 1, \"i_trial\": 1, \"neuron_x_mouse\": \"1m3bayes\", \"neuron_code\": 7, \"stim\": 0, \"log_firing_rate\": 1.5366878656717777, \"Firing rate\": 34.41025299258479, \"firing_rate\": 34.41025299258479, \"i_spike\": 47.0, \"isi\": 0.07471342757151868, \"log_isi\": -1.1266013393337146}, {\"mouse_code\": 3, \"mouse\": \"m3bayes\", \"neuron\": 1, \"i_trial\": 1, \"neuron_x_mouse\": \"1m3bayes\", \"neuron_code\": 7, \"stim\": 1, \"log_firing_rate\": 1.741577082595057, \"Firing rate\": 55.15400861224045, \"firing_rate\": 55.15400861224045, \"i_spike\": 60.0, \"isi\": 0.05837389638458883, \"log_isi\": -1.2337813171087255}, {\"mouse_code\": 3, \"mouse\": \"m3bayes\", \"neuron\": 2, \"i_trial\": 0, \"neuron_x_mouse\": \"2m3bayes\", \"neuron_code\": 11, \"stim\": 0, \"log_firing_rate\": 1.8213673567855349, \"Firing rate\": 66.27768899203237, \"firing_rate\": 66.27768899203237, \"i_spike\": 53.5, \"isi\": 0.06472029537394301, \"log_isi\": -1.1889595093348937}, {\"mouse_code\": 3, \"mouse\": \"m3bayes\", \"neuron\": 2, \"i_trial\": 0, \"neuron_x_mouse\": \"2m3bayes\", \"neuron_code\": 11, \"stim\": 1, \"log_firing_rate\": 1.8903182163384142, \"Firing rate\": 77.68160969952918, \"firing_rate\": 77.68160969952918, \"i_spike\": 55.5, \"isi\": 0.06214595949550088, \"log_isi\": -1.2065871023538117}, {\"mouse_code\": 3, \"mouse\": \"m3bayes\", \"neuron\": 2, \"i_trial\": 1, \"neuron_x_mouse\": \"2m3bayes\", \"neuron_code\": 11, \"stim\": 0, \"log_firing_rate\": 2.2015329749712023, \"Firing rate\": 159.0497442014235, \"firing_rate\": 159.0497442014235, \"i_spike\": 57.0, \"isi\": 0.05824902684840407, \"log_isi\": -1.234711325888185}, {\"mouse_code\": 3, \"mouse\": \"m3bayes\", \"neuron\": 2, \"i_trial\": 1, \"neuron_x_mouse\": \"2m3bayes\", \"neuron_code\": 11, \"stim\": 1, \"log_firing_rate\": 2.0894057491681495, \"Firing rate\": 122.85865291073958, \"firing_rate\": 122.85865291073958, \"i_spike\": 58.5, \"isi\": 0.05918455795534397, \"log_isi\": -1.2277915917500783}, {\"mouse_code\": 3, \"mouse\": \"m3bayes\", \"neuron\": 3, \"i_trial\": 0, \"neuron_x_mouse\": \"3m3bayes\", \"neuron_code\": 15, \"stim\": 0, \"log_firing_rate\": 1.9555892193411009, \"Firing rate\": 90.2795154256886, \"firing_rate\": 90.2795154256886, \"i_spike\": 60.0, \"isi\": 0.057774807036542274, \"log_isi\": -1.2382614963569423}, {\"mouse_code\": 3, \"mouse\": \"m3bayes\", \"neuron\": 3, \"i_trial\": 0, \"neuron_x_mouse\": \"3m3bayes\", \"neuron_code\": 15, \"stim\": 1, \"log_firing_rate\": 1.8357240209120704, \"Firing rate\": 68.50527608243031, \"firing_rate\": 68.50527608243031, \"i_spike\": 74.0, \"isi\": 0.04733291876723823, \"log_isi\": -1.32483671409483}, {\"mouse_code\": 3, \"mouse\": \"m3bayes\", \"neuron\": 3, \"i_trial\": 1, \"neuron_x_mouse\": \"3m3bayes\", \"neuron_code\": 15, \"stim\": 0, \"log_firing_rate\": 2.002985258886731, \"Firing rate\": 100.68974914848528, \"firing_rate\": 100.68974914848528, \"i_spike\": 65.5, \"isi\": 0.05158870023401094, \"log_isi\": -1.2874454139430853}, {\"mouse_code\": 3, \"mouse\": \"m3bayes\", \"neuron\": 3, \"i_trial\": 1, \"neuron_x_mouse\": \"3m3bayes\", \"neuron_code\": 15, \"stim\": 1, \"log_firing_rate\": 2.0185806003347007, \"Firing rate\": 104.3711816322376, \"firing_rate\": 104.3711816322376, \"i_spike\": 71.0, \"isi\": 0.04906588823010907, \"log_isi\": -1.309220334800721}, {\"mouse_code\": 3, \"mouse\": \"m3bayes\", \"neuron\": 4, \"i_trial\": 0, \"neuron_x_mouse\": \"4m3bayes\", \"neuron_code\": 19, \"stim\": 0, \"log_firing_rate\": 2.1631764214955824, \"Firing rate\": 145.60504452887747, \"firing_rate\": 145.60504452887747, \"i_spike\": 90.5, \"isi\": 0.038596927811143274, \"log_isi\": -1.4134472623688352}, {\"mouse_code\": 3, \"mouse\": \"m3bayes\", \"neuron\": 4, \"i_trial\": 0, \"neuron_x_mouse\": \"4m3bayes\", \"neuron_code\": 19, \"stim\": 1, \"log_firing_rate\": 2.1504483207568392, \"Firing rate\": 141.39964553415882, \"firing_rate\": 141.39964553415882, \"i_spike\": 77.5, \"isi\": 0.045259483887262586, \"log_isi\": -1.3442904027938378}, {\"mouse_code\": 3, \"mouse\": \"m3bayes\", \"neuron\": 4, \"i_trial\": 1, \"neuron_x_mouse\": \"4m3bayes\", \"neuron_code\": 19, \"stim\": 0, \"log_firing_rate\": 1.9734241165761541, \"Firing rate\": 94.0641459237881, \"firing_rate\": 94.0641459237881, \"i_spike\": 77.0, \"isi\": 0.04541554063078288, \"log_isi\": -1.342795511563274}, {\"mouse_code\": 3, \"mouse\": \"m3bayes\", \"neuron\": 4, \"i_trial\": 1, \"neuron_x_mouse\": \"4m3bayes\", \"neuron_code\": 19, \"stim\": 1, \"log_firing_rate\": 2.2268496863212635, \"Firing rate\": 168.59693934668118, \"firing_rate\": 168.59693934668118, \"i_spike\": 98.5, \"isi\": 0.035373739800444434, \"log_isi\": -1.451319023056679}, {\"mouse_code\": 3, \"mouse\": \"m3bayes\", \"neuron\": 5, \"i_trial\": 0, \"neuron_x_mouse\": \"5m3bayes\", \"neuron_code\": 23, \"stim\": 0, \"log_firing_rate\": 2.7203944573023278, \"Firing rate\": 525.2843444484714, \"firing_rate\": 525.2843444484714, \"i_spike\": 115.5, \"isi\": 0.0303592330940808, \"log_isi\": -1.5177092033699555}, {\"mouse_code\": 3, \"mouse\": \"m3bayes\", \"neuron\": 5, \"i_trial\": 0, \"neuron_x_mouse\": \"5m3bayes\", \"neuron_code\": 23, \"stim\": 1, \"log_firing_rate\": 2.6062327260517932, \"Firing rate\": 403.86175301040834, \"firing_rate\": 403.86175301040834, \"i_spike\": 128.0, \"isi\": 0.027018548010175766, \"log_isi\": -1.5683379938821702}, {\"mouse_code\": 3, \"mouse\": \"m3bayes\", \"neuron\": 5, \"i_trial\": 1, \"neuron_x_mouse\": \"5m3bayes\", \"neuron_code\": 23, \"stim\": 0, \"log_firing_rate\": 2.0643961683114926, \"Firing rate\": 115.98348881667336, \"firing_rate\": 115.98348881667336, \"i_spike\": 96.5, \"isi\": 0.0361921575928611, \"log_isi\": -1.4413855256858679}, {\"mouse_code\": 3, \"mouse\": \"m3bayes\", \"neuron\": 5, \"i_trial\": 1, \"neuron_x_mouse\": \"5m3bayes\", \"neuron_code\": 23, \"stim\": 1, \"log_firing_rate\": 2.267382739136789, \"Firing rate\": 185.08990782145176, \"firing_rate\": 185.08990782145176, \"i_spike\": 122.5, \"isi\": 0.028609826296559795, \"log_isi\": -1.5434847789886759}, {\"mouse_code\": 3, \"mouse\": \"m3bayes\", \"neuron\": 6, \"i_trial\": 0, \"neuron_x_mouse\": \"6m3bayes\", \"neuron_code\": 27, \"stim\": 0, \"log_firing_rate\": 2.221574395850367, \"Firing rate\": 166.56141276718682, \"firing_rate\": 166.56141276718682, \"i_spike\": 126.5, \"isi\": 0.027118744047918888, \"log_isi\": -1.5667304278466028}, {\"mouse_code\": 3, \"mouse\": \"m3bayes\", \"neuron\": 6, \"i_trial\": 0, \"neuron_x_mouse\": \"6m3bayes\", \"neuron_code\": 27, \"stim\": 1, \"log_firing_rate\": 2.3339247393079887, \"Firing rate\": 215.73705170722675, \"firing_rate\": 215.73705170722675, \"i_spike\": 146.5, \"isi\": 0.023521789329731715, \"log_isi\": -1.6285296440554764}, {\"mouse_code\": 3, \"mouse\": \"m3bayes\", \"neuron\": 6, \"i_trial\": 1, \"neuron_x_mouse\": \"6m3bayes\", \"neuron_code\": 27, \"stim\": 0, \"log_firing_rate\": 2.798148075566505, \"Firing rate\": 628.2725359614416, \"firing_rate\": 628.2725359614416, \"i_spike\": 127.5, \"isi\": 0.027546980104744666, \"log_isi\": -1.5599260046427574}, {\"mouse_code\": 3, \"mouse\": \"m3bayes\", \"neuron\": 6, \"i_trial\": 1, \"neuron_x_mouse\": \"6m3bayes\", \"neuron_code\": 27, \"stim\": 1, \"log_firing_rate\": 2.6909650452312666, \"Firing rate\": 490.86836636959595, \"firing_rate\": 490.86836636959595, \"i_spike\": 119.5, \"isi\": 0.028796441922623994, \"log_isi\": -1.5406611701863286}, {\"mouse_code\": 3, \"mouse\": \"m3bayes\", \"neuron\": 7, \"i_trial\": 0, \"neuron_x_mouse\": \"7m3bayes\", \"neuron_code\": 31, \"stim\": 0, \"log_firing_rate\": 2.2315689831640846, \"Firing rate\": 170.43900224542443, \"firing_rate\": 170.43900224542443, \"i_spike\": 140.5, \"isi\": 0.024801197520244563, \"log_isi\": -1.6055273488561188}, {\"mouse_code\": 3, \"mouse\": \"m3bayes\", \"neuron\": 7, \"i_trial\": 0, \"neuron_x_mouse\": \"7m3bayes\", \"neuron_code\": 31, \"stim\": 1, \"log_firing_rate\": 2.422311879852172, \"Firing rate\": 264.43070315766084, \"firing_rate\": 264.43070315766084, \"i_spike\": 170.0, \"isi\": 0.020502783776266433, \"log_isi\": -1.6881871683787435}, {\"mouse_code\": 3, \"mouse\": \"m3bayes\", \"neuron\": 7, \"i_trial\": 1, \"neuron_x_mouse\": \"7m3bayes\", \"neuron_code\": 31, \"stim\": 0, \"log_firing_rate\": 2.5992328101062876, \"Firing rate\": 397.4045270691096, \"firing_rate\": 397.4045270691096, \"i_spike\": 161.5, \"isi\": 0.02163302890392372, \"log_isi\": -1.66488266945749}, {\"mouse_code\": 3, \"mouse\": \"m3bayes\", \"neuron\": 7, \"i_trial\": 1, \"neuron_x_mouse\": \"7m3bayes\", \"neuron_code\": 31, \"stim\": 1, \"log_firing_rate\": 2.4046008859888532, \"Firing rate\": 253.86386396092198, \"firing_rate\": 253.86386396092198, \"i_spike\": 146.5, \"isi\": 0.023814695849759135, \"log_isi\": -1.6231549607244997}]}}, {\"mode\": \"vega-lite\"});\n",
       "</script>"
      ],
      "text/plain": [
       "alt.LayerChart(...)"
      ]
     },
     "execution_count": 9,
     "metadata": {},
     "output_type": "execute_result"
    }
   ],
   "source": [
    "import altair as alt\n",
    "y='isi'\n",
    "color='mouse'\n",
    "x='neuron'\n",
    "\n",
    "base=alt.Chart(df).encode(\n",
    "            x=x,\n",
    "            color=f'{color}',\n",
    "            y=alt.Y(f'mean({y})',\n",
    "                    scale=alt.Scale(zero=False,\n",
    "                                    domain=list(np.quantile(df[y], [.05, .95])))),\n",
    ")\n",
    "highlight = alt.selection(type='single', on='mouseover',\n",
    "                          fields=[color], nearest=True)\n",
    "\n",
    "\n",
    "lines=base.mark_line(clip=True, fill=None, opacity=.6, ).encode(\n",
    "            size=alt.condition(~highlight, alt.value(1), alt.value(3))\n",
    "        )\n",
    "points = base.mark_circle().encode(\n",
    "    opacity=alt.value(0),\n",
    "    #axis=alt.Axis(labels=False, tickCount=0, title='')\n",
    ").add_selection(\n",
    "    highlight\n",
    ")\n",
    "\n",
    "lines+points"
   ]
  },
  {
   "cell_type": "code",
   "execution_count": 10,
   "metadata": {
    "lines_to_next_cell": 0
   },
   "outputs": [
    {
     "data": {
      "text/html": [
       "\n",
       "<div id=\"altair-viz-9ba794680cb5428d88f7602490602e18\"></div>\n",
       "<script type=\"text/javascript\">\n",
       "  (function(spec, embedOpt){\n",
       "    let outputDiv = document.currentScript.previousElementSibling;\n",
       "    if (outputDiv.id !== \"altair-viz-9ba794680cb5428d88f7602490602e18\") {\n",
       "      outputDiv = document.getElementById(\"altair-viz-9ba794680cb5428d88f7602490602e18\");\n",
       "    }\n",
       "    const paths = {\n",
       "      \"vega\": \"https://cdn.jsdelivr.net/npm//vega@5?noext\",\n",
       "      \"vega-lib\": \"https://cdn.jsdelivr.net/npm//vega-lib?noext\",\n",
       "      \"vega-lite\": \"https://cdn.jsdelivr.net/npm//vega-lite@4.8.1?noext\",\n",
       "      \"vega-embed\": \"https://cdn.jsdelivr.net/npm//vega-embed@6?noext\",\n",
       "    };\n",
       "\n",
       "    function loadScript(lib) {\n",
       "      return new Promise(function(resolve, reject) {\n",
       "        var s = document.createElement('script');\n",
       "        s.src = paths[lib];\n",
       "        s.async = true;\n",
       "        s.onload = () => resolve(paths[lib]);\n",
       "        s.onerror = () => reject(`Error loading script: ${paths[lib]}`);\n",
       "        document.getElementsByTagName(\"head\")[0].appendChild(s);\n",
       "      });\n",
       "    }\n",
       "\n",
       "    function showError(err) {\n",
       "      outputDiv.innerHTML = `<div class=\"error\" style=\"color:red;\">${err}</div>`;\n",
       "      throw err;\n",
       "    }\n",
       "\n",
       "    function displayChart(vegaEmbed) {\n",
       "      vegaEmbed(outputDiv, spec, embedOpt)\n",
       "        .catch(err => showError(`Javascript Error: ${err.message}<br>This usually means there's a typo in your chart specification. See the javascript console for the full traceback.`));\n",
       "    }\n",
       "\n",
       "    if(typeof define === \"function\" && define.amd) {\n",
       "      requirejs.config({paths});\n",
       "      require([\"vega-embed\"], displayChart, err => showError(`Error loading script: ${err.message}`));\n",
       "    } else if (typeof vegaEmbed === \"function\") {\n",
       "      displayChart(vegaEmbed);\n",
       "    } else {\n",
       "      loadScript(\"vega\")\n",
       "        .then(() => loadScript(\"vega-lite\"))\n",
       "        .then(() => loadScript(\"vega-embed\"))\n",
       "        .catch(showError)\n",
       "        .then(() => displayChart(vegaEmbed));\n",
       "    }\n",
       "  })({\"config\": {\"view\": {\"continuousWidth\": 400, \"continuousHeight\": 300}}, \"layer\": [{\"mark\": {\"type\": \"line\", \"clip\": true, \"fill\": null, \"opacity\": 0.6}, \"encoding\": {\"color\": {\"type\": \"nominal\", \"field\": \"mouse\"}, \"size\": {\"condition\": {\"value\": 1, \"selection\": {\"not\": \"selector003\"}}, \"value\": 3}, \"x\": {\"type\": \"quantitative\", \"field\": \"neuron\"}, \"y\": {\"type\": \"quantitative\", \"aggregate\": \"mean\", \"field\": \"isi\", \"scale\": {\"domain\": [0.02359187236424882, 0.08664638778677167], \"zero\": false}}}}, {\"mark\": \"point\", \"encoding\": {\"opacity\": {\"value\": 0}, \"x\": {\"type\": \"quantitative\", \"field\": \"neuron\"}}, \"selection\": {\"selector002\": {\"type\": \"single\", \"nearest\": true, \"on\": \"mouseover\", \"fields\": [\"neuron\"], \"empty\": \"none\"}}}, {\"mark\": \"circle\", \"encoding\": {\"color\": {\"type\": \"nominal\", \"field\": \"mouse\"}, \"opacity\": {\"value\": 0}, \"x\": {\"type\": \"quantitative\", \"field\": \"neuron\"}, \"y\": {\"type\": \"quantitative\", \"aggregate\": \"mean\", \"field\": \"isi\", \"scale\": {\"domain\": [0.02359187236424882, 0.08664638778677167], \"zero\": false}}}, \"selection\": {\"selector003\": {\"type\": \"single\", \"on\": \"mouseover\", \"fields\": [\"mouse\"], \"nearest\": true}}}, {\"mark\": {\"type\": \"text\", \"align\": \"left\", \"dx\": 5, \"dy\": -5}, \"encoding\": {\"color\": {\"type\": \"nominal\", \"field\": \"mouse\"}, \"size\": {\"condition\": {\"value\": 1, \"selection\": {\"not\": \"selector003\"}}, \"value\": 3}, \"text\": {\"condition\": {\"type\": \"quantitative\", \"field\": \"isi\", \"selection\": \"selector002\"}, \"value\": \" \"}, \"x\": {\"type\": \"quantitative\", \"field\": \"neuron\"}, \"y\": {\"type\": \"quantitative\", \"aggregate\": \"mean\", \"field\": \"isi\", \"scale\": {\"domain\": [0.02359187236424882, 0.08664638778677167], \"zero\": false}}}}], \"data\": {\"name\": \"data-41381d8c95e87ea1303d8b4feca4f779\"}, \"$schema\": \"https://vega.github.io/schema/vega-lite/v4.8.1.json\", \"datasets\": {\"data-41381d8c95e87ea1303d8b4feca4f779\": [{\"mouse_code\": 0, \"mouse\": \"m0bayes\", \"neuron\": 0, \"i_trial\": 0, \"neuron_x_mouse\": \"0m0bayes\", \"neuron_code\": 0, \"stim\": 0, \"log_firing_rate\": 2.315185714935513, \"Firing rate\": 206.62635517146688, \"firing_rate\": 206.62635517146688, \"i_spike\": 36.0, \"isi\": 0.0984246600927012, \"log_isi\": -1.0068960763611428}, {\"mouse_code\": 0, \"mouse\": \"m0bayes\", \"neuron\": 0, \"i_trial\": 0, \"neuron_x_mouse\": \"0m0bayes\", \"neuron_code\": 0, \"stim\": 1, \"log_firing_rate\": 2.097691478752068, \"Firing rate\": 125.22512640611913, \"firing_rate\": 125.22512640611913, \"i_spike\": 46.0, \"isi\": 0.07235785925797034, \"log_isi\": -1.1405142904330574}, {\"mouse_code\": 0, \"mouse\": \"m0bayes\", \"neuron\": 0, \"i_trial\": 1, \"neuron_x_mouse\": \"0m0bayes\", \"neuron_code\": 0, \"stim\": 0, \"log_firing_rate\": 1.8586651513653374, \"Firing rate\": 72.22127502300283, \"firing_rate\": 72.22127502300283, \"i_spike\": 47.0, \"isi\": 0.07455114898538726, \"log_isi\": -1.1275456587949146}, {\"mouse_code\": 0, \"mouse\": \"m0bayes\", \"neuron\": 0, \"i_trial\": 1, \"neuron_x_mouse\": \"0m0bayes\", \"neuron_code\": 0, \"stim\": 1, \"log_firing_rate\": 1.964129422160909, \"Firing rate\": 92.07239116987677, \"firing_rate\": 92.07239116987677, \"i_spike\": 48.0, \"isi\": 0.07192985464341879, \"log_isi\": -1.1430908173250294}, {\"mouse_code\": 0, \"mouse\": \"m0bayes\", \"neuron\": 1, \"i_trial\": 0, \"neuron_x_mouse\": \"1m0bayes\", \"neuron_code\": 4, \"stim\": 0, \"log_firing_rate\": 1.4079663409010799, \"Firing rate\": 25.58387596662799, \"firing_rate\": 25.58387596662799, \"i_spike\": 34.5, \"isi\": 0.1025417693846636, \"log_isi\": -0.9890991929677283}, {\"mouse_code\": 0, \"mouse\": \"m0bayes\", \"neuron\": 1, \"i_trial\": 0, \"neuron_x_mouse\": \"1m0bayes\", \"neuron_code\": 4, \"stim\": 1, \"log_firing_rate\": 2.112198032623552, \"Firing rate\": 129.4786112454033, \"firing_rate\": 129.4786112454033, \"i_spike\": 36.5, \"isi\": 0.08981944494117078, \"log_isi\": -1.0466296330823832}, {\"mouse_code\": 0, \"mouse\": \"m0bayes\", \"neuron\": 1, \"i_trial\": 1, \"neuron_x_mouse\": \"1m0bayes\", \"neuron_code\": 4, \"stim\": 0, \"log_firing_rate\": 1.8224203857617947, \"Firing rate\": 66.43858674842816, \"firing_rate\": 66.43858674842816, \"i_spike\": 53.5, \"isi\": 0.06482337304664755, \"log_isi\": -1.1882683744541778}, {\"mouse_code\": 0, \"mouse\": \"m0bayes\", \"neuron\": 1, \"i_trial\": 1, \"neuron_x_mouse\": \"1m0bayes\", \"neuron_code\": 4, \"stim\": 1, \"log_firing_rate\": 1.8188142359823296, \"Firing rate\": 65.88920021704607, \"firing_rate\": 65.88920021704607, \"i_spike\": 46.0, \"isi\": 0.07573792141833643, \"log_isi\": -1.1206866180022774}, {\"mouse_code\": 0, \"mouse\": \"m0bayes\", \"neuron\": 2, \"i_trial\": 0, \"neuron_x_mouse\": \"2m0bayes\", \"neuron_code\": 8, \"stim\": 0, \"log_firing_rate\": 2.188895140001894, \"Firing rate\": 154.48813843321224, \"firing_rate\": 154.48813843321224, \"i_spike\": 67.0, \"isi\": 0.05226828054584738, \"log_isi\": -1.2817617865242703}, {\"mouse_code\": 0, \"mouse\": \"m0bayes\", \"neuron\": 2, \"i_trial\": 0, \"neuron_x_mouse\": \"2m0bayes\", \"neuron_code\": 8, \"stim\": 1, \"log_firing_rate\": 2.1442766240977, \"Firing rate\": 139.40444575665992, \"firing_rate\": 139.40444575665992, \"i_spike\": 84.5, \"isi\": 0.040989118882658465, \"log_isi\": -1.3873314173388351}, {\"mouse_code\": 0, \"mouse\": \"m0bayes\", \"neuron\": 2, \"i_trial\": 1, \"neuron_x_mouse\": \"2m0bayes\", \"neuron_code\": 8, \"stim\": 0, \"log_firing_rate\": 2.0617287939586, \"Firing rate\": 115.27331799704143, \"firing_rate\": 115.27331799704143, \"i_spike\": 69.5, \"isi\": 0.04973449136081268, \"log_isi\": -1.30334231926889}, {\"mouse_code\": 0, \"mouse\": \"m0bayes\", \"neuron\": 2, \"i_trial\": 1, \"neuron_x_mouse\": \"2m0bayes\", \"neuron_code\": 8, \"stim\": 1, \"log_firing_rate\": 1.6940890619253326, \"Firing rate\": 49.44120669898652, \"firing_rate\": 49.44120669898652, \"i_spike\": 60.5, \"isi\": 0.05626061852212032, \"log_isi\": -1.2497954975659975}, {\"mouse_code\": 0, \"mouse\": \"m0bayes\", \"neuron\": 3, \"i_trial\": 0, \"neuron_x_mouse\": \"3m0bayes\", \"neuron_code\": 12, \"stim\": 0, \"log_firing_rate\": 2.2276927277129275, \"Firing rate\": 168.92453328870752, \"firing_rate\": 168.92453328870752, \"i_spike\": 73.0, \"isi\": 0.04778957375398857, \"log_isi\": -1.3206668430325905}, {\"mouse_code\": 0, \"mouse\": \"m0bayes\", \"neuron\": 3, \"i_trial\": 0, \"neuron_x_mouse\": \"3m0bayes\", \"neuron_code\": 12, \"stim\": 1, \"log_firing_rate\": 1.8768273710622607, \"Firing rate\": 75.30561698146427, \"firing_rate\": 75.30561698146427, \"i_spike\": 61.0, \"isi\": 0.056649351721404416, \"log_isi\": -1.2468050557110473}, {\"mouse_code\": 0, \"mouse\": \"m0bayes\", \"neuron\": 3, \"i_trial\": 1, \"neuron_x_mouse\": \"3m0bayes\", \"neuron_code\": 12, \"stim\": 0, \"log_firing_rate\": 2.3595252394451354, \"Firing rate\": 228.83646982451037, \"firing_rate\": 228.83646982451037, \"i_spike\": 64.0, \"isi\": 0.05467691140840997, \"log_isi\": -1.2621960258556608}, {\"mouse_code\": 0, \"mouse\": \"m0bayes\", \"neuron\": 3, \"i_trial\": 1, \"neuron_x_mouse\": \"3m0bayes\", \"neuron_code\": 12, \"stim\": 1, \"log_firing_rate\": 2.0215454572831963, \"Firing rate\": 105.08614420016059, \"firing_rate\": 105.08614420016059, \"i_spike\": 69.0, \"isi\": 0.049403919657516275, \"log_isi\": -1.3062385932200846}, {\"mouse_code\": 0, \"mouse\": \"m0bayes\", \"neuron\": 4, \"i_trial\": 0, \"neuron_x_mouse\": \"4m0bayes\", \"neuron_code\": 16, \"stim\": 0, \"log_firing_rate\": 2.7604230564788845, \"Firing rate\": 576.0007600379431, \"firing_rate\": 576.0007600379431, \"i_spike\": 86.5, \"isi\": 0.03997052804237557, \"log_isi\": -1.3982601143274578}, {\"mouse_code\": 0, \"mouse\": \"m0bayes\", \"neuron\": 4, \"i_trial\": 0, \"neuron_x_mouse\": \"4m0bayes\", \"neuron_code\": 16, \"stim\": 1, \"log_firing_rate\": 2.0780578477340637, \"Firing rate\": 119.68999469611437, \"firing_rate\": 119.68999469611437, \"i_spike\": 86.5, \"isi\": 0.04059297466686198, \"log_isi\": -1.3915491222705996}, {\"mouse_code\": 0, \"mouse\": \"m0bayes\", \"neuron\": 4, \"i_trial\": 1, \"neuron_x_mouse\": \"4m0bayes\", \"neuron_code\": 16, \"stim\": 0, \"log_firing_rate\": 2.3901670778636763, \"Firing rate\": 245.56534508773115, \"firing_rate\": 245.56534508773115, \"i_spike\": 82.5, \"isi\": 0.0422677701012315, \"log_isi\": -1.373990663414782}, {\"mouse_code\": 0, \"mouse\": \"m0bayes\", \"neuron\": 4, \"i_trial\": 1, \"neuron_x_mouse\": \"4m0bayes\", \"neuron_code\": 16, \"stim\": 1, \"log_firing_rate\": 1.9734344094575857, \"Firing rate\": 94.06637529260298, \"firing_rate\": 94.06637529260298, \"i_spike\": 85.0, \"isi\": 0.04111751767863903, \"log_isi\": -1.3859731121793823}, {\"mouse_code\": 0, \"mouse\": \"m0bayes\", \"neuron\": 5, \"i_trial\": 0, \"neuron_x_mouse\": \"5m0bayes\", \"neuron_code\": 20, \"stim\": 0, \"log_firing_rate\": 2.094399020969452, \"Firing rate\": 124.27936368066405, \"firing_rate\": 124.27936368066405, \"i_spike\": 77.5, \"isi\": 0.04434489902186018, \"log_isi\": -1.3531563297007478}, {\"mouse_code\": 0, \"mouse\": \"m0bayes\", \"neuron\": 5, \"i_trial\": 0, \"neuron_x_mouse\": \"5m0bayes\", \"neuron_code\": 20, \"stim\": 1, \"log_firing_rate\": 2.2253393611945715, \"Firing rate\": 168.01163617304772, \"firing_rate\": 168.01163617304772, \"i_spike\": 97.0, \"isi\": 0.03588489496742442, \"log_isi\": -1.4450883205793523}, {\"mouse_code\": 0, \"mouse\": \"m0bayes\", \"neuron\": 5, \"i_trial\": 1, \"neuron_x_mouse\": \"5m0bayes\", \"neuron_code\": 20, \"stim\": 0, \"log_firing_rate\": 2.269280274661465, \"Firing rate\": 185.9003787778645, \"firing_rate\": 185.9003787778645, \"i_spike\": 96.0, \"isi\": 0.03651060656105627, \"log_isi\": -1.437580951933004}, {\"mouse_code\": 0, \"mouse\": \"m0bayes\", \"neuron\": 5, \"i_trial\": 1, \"neuron_x_mouse\": \"5m0bayes\", \"neuron_code\": 20, \"stim\": 1, \"log_firing_rate\": 2.4526358709732516, \"Firing rate\": 283.5540606310697, \"firing_rate\": 283.5540606310697, \"i_spike\": 90.0, \"isi\": 0.038909737929365355, \"log_isi\": -1.4099416943109784}, {\"mouse_code\": 0, \"mouse\": \"m0bayes\", \"neuron\": 6, \"i_trial\": 0, \"neuron_x_mouse\": \"6m0bayes\", \"neuron_code\": 24, \"stim\": 0, \"log_firing_rate\": 2.2875712067740426, \"Firing rate\": 193.89705228319696, \"firing_rate\": 193.89705228319696, \"i_spike\": 126.0, \"isi\": 0.02785738289228973, \"log_isi\": -1.5550596865059214}, {\"mouse_code\": 0, \"mouse\": \"m0bayes\", \"neuron\": 6, \"i_trial\": 0, \"neuron_x_mouse\": \"6m0bayes\", \"neuron_code\": 24, \"stim\": 1, \"log_firing_rate\": 2.48314182887494, \"Firing rate\": 304.1878258956356, \"firing_rate\": 304.1878258956356, \"i_spike\": 119.5, \"isi\": 0.029008616451885672, \"log_isi\": -1.5374729841115127}, {\"mouse_code\": 0, \"mouse\": \"m0bayes\", \"neuron\": 6, \"i_trial\": 1, \"neuron_x_mouse\": \"6m0bayes\", \"neuron_code\": 24, \"stim\": 0, \"log_firing_rate\": 2.140465140784374, \"Firing rate\": 138.18634843665427, \"firing_rate\": 138.18634843665427, \"i_spike\": 119.0, \"isi\": 0.029348150107181586, \"log_isi\": -1.532419268302663}, {\"mouse_code\": 0, \"mouse\": \"m0bayes\", \"neuron\": 6, \"i_trial\": 1, \"neuron_x_mouse\": \"6m0bayes\", \"neuron_code\": 24, \"stim\": 1, \"log_firing_rate\": 2.360073310648931, \"Firing rate\": 229.12543930487445, \"firing_rate\": 229.12543930487445, \"i_spike\": 138.0, \"isi\": 0.025423810773873293, \"log_isi\": -1.5947593525221775}, {\"mouse_code\": 0, \"mouse\": \"m0bayes\", \"neuron\": 7, \"i_trial\": 0, \"neuron_x_mouse\": \"7m0bayes\", \"neuron_code\": 28, \"stim\": 0, \"log_firing_rate\": 2.319059272161057, \"Firing rate\": 208.47753921482368, \"firing_rate\": 208.47753921482368, \"i_spike\": 143.0, \"isi\": 0.024535930499369352, \"log_isi\": -1.6101974672091024}, {\"mouse_code\": 0, \"mouse\": \"m0bayes\", \"neuron\": 7, \"i_trial\": 0, \"neuron_x_mouse\": \"7m0bayes\", \"neuron_code\": 28, \"stim\": 1, \"log_firing_rate\": 3.1886424643149684, \"Firing rate\": 1543.982822531602, \"firing_rate\": 1543.982822531602, \"i_spike\": 147.5, \"isi\": 0.023537231436940247, \"log_isi\": -1.6282446223069964}, {\"mouse_code\": 0, \"mouse\": \"m0bayes\", \"neuron\": 7, \"i_trial\": 1, \"neuron_x_mouse\": \"7m0bayes\", \"neuron_code\": 28, \"stim\": 0, \"log_firing_rate\": 2.5295225692943775, \"Firing rate\": 338.47186102042883, \"firing_rate\": 338.47186102042883, \"i_spike\": 169.5, \"isi\": 0.020282814237562032, \"log_isi\": -1.692871786860918}, {\"mouse_code\": 0, \"mouse\": \"m0bayes\", \"neuron\": 7, \"i_trial\": 1, \"neuron_x_mouse\": \"7m0bayes\", \"neuron_code\": 28, \"stim\": 1, \"log_firing_rate\": 2.461874551976467, \"Firing rate\": 289.6506797107957, \"firing_rate\": 289.6506797107957, \"i_spike\": 145.5, \"isi\": 0.023809484042325784, \"log_isi\": -1.6232500157668421}, {\"mouse_code\": 1, \"mouse\": \"m1bayes\", \"neuron\": 0, \"i_trial\": 0, \"neuron_x_mouse\": \"0m1bayes\", \"neuron_code\": 1, \"stim\": 0, \"log_firing_rate\": 1.6089375640704442, \"Firing rate\": 40.63849014299149, \"firing_rate\": 40.63849014299149, \"i_spike\": 41.0, \"isi\": 0.08182749443150789, \"log_isi\": -1.0871007467736733}, {\"mouse_code\": 1, \"mouse\": \"m1bayes\", \"neuron\": 0, \"i_trial\": 0, \"neuron_x_mouse\": \"0m1bayes\", \"neuron_code\": 1, \"stim\": 1, \"log_firing_rate\": 1.8283461084214119, \"Firing rate\": 67.35131948216069, \"firing_rate\": 67.35131948216069, \"i_spike\": 53.0, \"isi\": 0.06513148400067822, \"log_isi\": -1.1862090264480063}, {\"mouse_code\": 1, \"mouse\": \"m1bayes\", \"neuron\": 0, \"i_trial\": 1, \"neuron_x_mouse\": \"0m1bayes\", \"neuron_code\": 1, \"stim\": 0, \"log_firing_rate\": 1.7934453146112987, \"Firing rate\": 62.15059841833711, \"firing_rate\": 62.15059841833711, \"i_spike\": 48.0, \"isi\": 0.07235858938411004, \"log_isi\": -1.1405099082117338}, {\"mouse_code\": 1, \"mouse\": \"m1bayes\", \"neuron\": 0, \"i_trial\": 1, \"neuron_x_mouse\": \"0m1bayes\", \"neuron_code\": 1, \"stim\": 1, \"log_firing_rate\": 2.193245128304198, \"Firing rate\": 156.04330076098404, \"firing_rate\": 156.04330076098404, \"i_spike\": 49.0, \"isi\": 0.07124183924315808, \"log_isi\": -1.1472648769285665}, {\"mouse_code\": 1, \"mouse\": \"m1bayes\", \"neuron\": 1, \"i_trial\": 0, \"neuron_x_mouse\": \"1m1bayes\", \"neuron_code\": 5, \"stim\": 0, \"log_firing_rate\": 1.7728962522038294, \"Firing rate\": 59.27836986756854, \"firing_rate\": 59.27836986756854, \"i_spike\": 53.0, \"isi\": 0.0655617162781339, \"log_isi\": -1.1833496859684283}, {\"mouse_code\": 1, \"mouse\": \"m1bayes\", \"neuron\": 1, \"i_trial\": 0, \"neuron_x_mouse\": \"1m1bayes\", \"neuron_code\": 5, \"stim\": 1, \"log_firing_rate\": 1.957745677805749, \"Firing rate\": 90.72890674706028, \"firing_rate\": 90.72890674706028, \"i_spike\": 52.5, \"isi\": 0.06663997055206192, \"log_isi\": -1.1762652035142316}, {\"mouse_code\": 1, \"mouse\": \"m1bayes\", \"neuron\": 1, \"i_trial\": 1, \"neuron_x_mouse\": \"1m1bayes\", \"neuron_code\": 5, \"stim\": 0, \"log_firing_rate\": 1.620960081244778, \"Firing rate\": 41.779196297745294, \"firing_rate\": 41.779196297745294, \"i_spike\": 42.0, \"isi\": 0.08353967796170886, \"log_isi\": -1.0781072032356376}, {\"mouse_code\": 1, \"mouse\": \"m1bayes\", \"neuron\": 1, \"i_trial\": 1, \"neuron_x_mouse\": \"1m1bayes\", \"neuron_code\": 5, \"stim\": 1, \"log_firing_rate\": 2.139693616375518, \"Firing rate\": 137.94107823120964, \"firing_rate\": 137.94107823120964, \"i_spike\": 54.0, \"isi\": 0.0650088276903021, \"log_isi\": -1.1870276655590954}, {\"mouse_code\": 1, \"mouse\": \"m1bayes\", \"neuron\": 2, \"i_trial\": 0, \"neuron_x_mouse\": \"2m1bayes\", \"neuron_code\": 9, \"stim\": 0, \"log_firing_rate\": 2.3008234753775976, \"Firing rate\": 199.90491650277897, \"firing_rate\": 199.90491650277897, \"i_spike\": 49.0, \"isi\": 0.07098921665668159, \"log_isi\": -1.1488076161002108}, {\"mouse_code\": 1, \"mouse\": \"m1bayes\", \"neuron\": 2, \"i_trial\": 0, \"neuron_x_mouse\": \"2m1bayes\", \"neuron_code\": 9, \"stim\": 1, \"log_firing_rate\": 2.1516764615054744, \"Firing rate\": 141.80007531151168, \"firing_rate\": 141.80007531151168, \"i_spike\": 71.0, \"isi\": 0.04941727525163428, \"log_isi\": -1.3061212042152535}, {\"mouse_code\": 1, \"mouse\": \"m1bayes\", \"neuron\": 2, \"i_trial\": 1, \"neuron_x_mouse\": \"2m1bayes\", \"neuron_code\": 9, \"stim\": 0, \"log_firing_rate\": 2.0079592106549167, \"Firing rate\": 101.84957254879932, \"firing_rate\": 101.84957254879932, \"i_spike\": 59.5, \"isi\": 0.058744492350383565, \"log_isi\": -1.231032844868356}, {\"mouse_code\": 1, \"mouse\": \"m1bayes\", \"neuron\": 2, \"i_trial\": 1, \"neuron_x_mouse\": \"2m1bayes\", \"neuron_code\": 9, \"stim\": 1, \"log_firing_rate\": 1.9899755232391745, \"Firing rate\": 97.718214558948, \"firing_rate\": 97.718214558948, \"i_spike\": 49.5, \"isi\": 0.0703167369545728, \"log_isi\": -1.1529412908851304}, {\"mouse_code\": 1, \"mouse\": \"m1bayes\", \"neuron\": 3, \"i_trial\": 0, \"neuron_x_mouse\": \"3m1bayes\", \"neuron_code\": 13, \"stim\": 0, \"log_firing_rate\": 1.9238698495552993, \"Firing rate\": 83.92084527659777, \"firing_rate\": 83.92084527659777, \"i_spike\": 71.0, \"isi\": 0.04876817339214101, \"log_isi\": -1.3118635105673386}, {\"mouse_code\": 1, \"mouse\": \"m1bayes\", \"neuron\": 3, \"i_trial\": 0, \"neuron_x_mouse\": \"3m1bayes\", \"neuron_code\": 13, \"stim\": 1, \"log_firing_rate\": 2.265678645646558, \"Firing rate\": 184.3650712839374, \"firing_rate\": 184.3650712839374, \"i_spike\": 80.0, \"isi\": 0.043706198512641646, \"log_isi\": -1.3594569660287568}, {\"mouse_code\": 1, \"mouse\": \"m1bayes\", \"neuron\": 3, \"i_trial\": 1, \"neuron_x_mouse\": \"3m1bayes\", \"neuron_code\": 13, \"stim\": 0, \"log_firing_rate\": 1.9189779949071883, \"Firing rate\": 82.98087212041516, \"firing_rate\": 82.98087212041516, \"i_spike\": 56.5, \"isi\": 0.06205285992294823, \"log_isi\": -1.2072381977247588}, {\"mouse_code\": 1, \"mouse\": \"m1bayes\", \"neuron\": 3, \"i_trial\": 1, \"neuron_x_mouse\": \"3m1bayes\", \"neuron_code\": 13, \"stim\": 1, \"log_firing_rate\": 1.8854730473202261, \"Firing rate\": 76.81977792014185, \"firing_rate\": 76.81977792014185, \"i_spike\": 69.5, \"isi\": 0.04955588525337006, \"log_isi\": -1.304904761334387}, {\"mouse_code\": 1, \"mouse\": \"m1bayes\", \"neuron\": 4, \"i_trial\": 0, \"neuron_x_mouse\": \"4m1bayes\", \"neuron_code\": 17, \"stim\": 0, \"log_firing_rate\": 2.1528129606418442, \"Firing rate\": 142.17163589288003, \"firing_rate\": 142.17163589288003, \"i_spike\": 85.0, \"isi\": 0.041337394334188426, \"log_isi\": -1.3836569022115952}, {\"mouse_code\": 1, \"mouse\": \"m1bayes\", \"neuron\": 4, \"i_trial\": 0, \"neuron_x_mouse\": \"4m1bayes\", \"neuron_code\": 17, \"stim\": 1, \"log_firing_rate\": 1.941078581170189, \"Firing rate\": 87.31293379710992, \"firing_rate\": 87.31293379710992, \"i_spike\": 79.0, \"isi\": 0.0444342719260181, \"log_isi\": -1.3522819315326926}, {\"mouse_code\": 1, \"mouse\": \"m1bayes\", \"neuron\": 4, \"i_trial\": 1, \"neuron_x_mouse\": \"4m1bayes\", \"neuron_code\": 17, \"stim\": 0, \"log_firing_rate\": 2.0738850036328973, \"Firing rate\": 118.54548113055495, \"firing_rate\": 118.54548113055495, \"i_spike\": 89.0, \"isi\": 0.03832780286458155, \"log_isi\": -1.416486075896639}, {\"mouse_code\": 1, \"mouse\": \"m1bayes\", \"neuron\": 4, \"i_trial\": 1, \"neuron_x_mouse\": \"4m1bayes\", \"neuron_code\": 17, \"stim\": 1, \"log_firing_rate\": 2.664483772845288, \"Firing rate\": 461.83173550505916, \"firing_rate\": 461.83173550505916, \"i_spike\": 84.5, \"isi\": 0.04120858909360128, \"log_isi\": -1.3850122546662156}, {\"mouse_code\": 1, \"mouse\": \"m1bayes\", \"neuron\": 5, \"i_trial\": 0, \"neuron_x_mouse\": \"5m1bayes\", \"neuron_code\": 21, \"stim\": 0, \"log_firing_rate\": 2.0021302277802384, \"Firing rate\": 100.49170800874464, \"firing_rate\": 100.49170800874464, \"i_spike\": 101.5, \"isi\": 0.03436858953191723, \"log_isi\": -1.4638382907046312}, {\"mouse_code\": 1, \"mouse\": \"m1bayes\", \"neuron\": 5, \"i_trial\": 0, \"neuron_x_mouse\": \"5m1bayes\", \"neuron_code\": 21, \"stim\": 1, \"log_firing_rate\": 2.3034902263443082, \"Firing rate\": 201.1361932647173, \"firing_rate\": 201.1361932647173, \"i_spike\": 97.0, \"isi\": 0.03595196900548743, \"log_isi\": -1.4442773193339244}, {\"mouse_code\": 1, \"mouse\": \"m1bayes\", \"neuron\": 5, \"i_trial\": 1, \"neuron_x_mouse\": \"5m1bayes\", \"neuron_code\": 21, \"stim\": 0, \"log_firing_rate\": 2.161078531765379, \"Firing rate\": 144.90338529560987, \"firing_rate\": 144.90338529560987, \"i_spike\": 96.0, \"isi\": 0.03576018368849847, \"log_isi\": -1.4466002590400913}, {\"mouse_code\": 1, \"mouse\": \"m1bayes\", \"neuron\": 5, \"i_trial\": 1, \"neuron_x_mouse\": \"5m1bayes\", \"neuron_code\": 21, \"stim\": 1, \"log_firing_rate\": 2.2544120827347425, \"Firing rate\": 179.64373779958578, \"firing_rate\": 179.64373779958578, \"i_spike\": 104.5, \"isi\": 0.033038280847208466, \"log_isi\": -1.4809825593539494}, {\"mouse_code\": 1, \"mouse\": \"m1bayes\", \"neuron\": 6, \"i_trial\": 0, \"neuron_x_mouse\": \"6m1bayes\", \"neuron_code\": 25, \"stim\": 0, \"log_firing_rate\": 2.225086713989643, \"Firing rate\": 167.91392522426827, \"firing_rate\": 167.91392522426827, \"i_spike\": 125.5, \"isi\": 0.02770025140235223, \"log_isi\": -1.5575162893413692}, {\"mouse_code\": 1, \"mouse\": \"m1bayes\", \"neuron\": 6, \"i_trial\": 0, \"neuron_x_mouse\": \"6m1bayes\", \"neuron_code\": 25, \"stim\": 1, \"log_firing_rate\": 2.7367501539687367, \"Firing rate\": 545.4439813927265, \"firing_rate\": 545.4439813927265, \"i_spike\": 131.5, \"isi\": 0.02638864380173526, \"log_isi\": -1.5785829290128994}, {\"mouse_code\": 1, \"mouse\": \"m1bayes\", \"neuron\": 6, \"i_trial\": 1, \"neuron_x_mouse\": \"6m1bayes\", \"neuron_code\": 25, \"stim\": 0, \"log_firing_rate\": 2.627231859395877, \"Firing rate\": 423.86919924171616, \"firing_rate\": 423.86919924171616, \"i_spike\": 122.0, \"isi\": 0.02791442551448546, \"log_isi\": -1.5541713056052846}, {\"mouse_code\": 1, \"mouse\": \"m1bayes\", \"neuron\": 6, \"i_trial\": 1, \"neuron_x_mouse\": \"6m1bayes\", \"neuron_code\": 25, \"stim\": 1, \"log_firing_rate\": 2.8066695656684724, \"Firing rate\": 640.7218957990232, \"firing_rate\": 640.7218957990232, \"i_spike\": 128.5, \"isi\": 0.02720059408248821, \"log_isi\": -1.56542161052724}, {\"mouse_code\": 1, \"mouse\": \"m1bayes\", \"neuron\": 7, \"i_trial\": 0, \"neuron_x_mouse\": \"7m1bayes\", \"neuron_code\": 29, \"stim\": 0, \"log_firing_rate\": 2.2986479475065043, \"Firing rate\": 198.90602917003721, \"firing_rate\": 198.90602917003721, \"i_spike\": 149.5, \"isi\": 0.02340102108435807, \"log_isi\": -1.6307651920929636}, {\"mouse_code\": 1, \"mouse\": \"m1bayes\", \"neuron\": 7, \"i_trial\": 0, \"neuron_x_mouse\": \"7m1bayes\", \"neuron_code\": 29, \"stim\": 1, \"log_firing_rate\": 2.559347682456146, \"Firing rate\": 362.53311484259007, \"firing_rate\": 362.53311484259007, \"i_spike\": 147.0, \"isi\": 0.023785967009876733, \"log_isi\": -1.6236791878002497}, {\"mouse_code\": 1, \"mouse\": \"m1bayes\", \"neuron\": 7, \"i_trial\": 1, \"neuron_x_mouse\": \"7m1bayes\", \"neuron_code\": 29, \"stim\": 0, \"log_firing_rate\": 2.584784447547693, \"Firing rate\": 384.40094579047553, \"firing_rate\": 384.40094579047553, \"i_spike\": 132.0, \"isi\": 0.026393759284038715, \"log_isi\": -1.5784987484673485}, {\"mouse_code\": 1, \"mouse\": \"m1bayes\", \"neuron\": 7, \"i_trial\": 1, \"neuron_x_mouse\": \"7m1bayes\", \"neuron_code\": 29, \"stim\": 1, \"log_firing_rate\": 2.5087523877988387, \"Firing rate\": 322.6653926361031, \"firing_rate\": 322.6653926361031, \"i_spike\": 136.5, \"isi\": 0.02554129284799266, \"log_isi\": -1.5927571234180025}, {\"mouse_code\": 2, \"mouse\": \"m2bayes\", \"neuron\": 0, \"i_trial\": 0, \"neuron_x_mouse\": \"0m2bayes\", \"neuron_code\": 2, \"stim\": 0, \"log_firing_rate\": 1.6602210798631944, \"Firing rate\": 45.73209319677756, \"firing_rate\": 45.73209319677756, \"i_spike\": 46.5, \"isi\": 0.07436817694784989, \"log_isi\": -1.128612864622416}, {\"mouse_code\": 2, \"mouse\": \"m2bayes\", \"neuron\": 0, \"i_trial\": 0, \"neuron_x_mouse\": \"0m2bayes\", \"neuron_code\": 2, \"stim\": 1, \"log_firing_rate\": 2.188132016742486, \"Firing rate\": 154.21691699557573, \"firing_rate\": 154.21691699557573, \"i_spike\": 59.5, \"isi\": 0.058191378444520866, \"log_isi\": -1.2351413550637036}, {\"mouse_code\": 2, \"mouse\": \"m2bayes\", \"neuron\": 0, \"i_trial\": 1, \"neuron_x_mouse\": \"0m2bayes\", \"neuron_code\": 2, \"stim\": 0, \"log_firing_rate\": 1.6541934172460335, \"Firing rate\": 45.10175248343826, \"firing_rate\": 45.10175248343826, \"i_spike\": 31.0, \"isi\": 0.11270622294950611, \"log_isi\": -0.9480521042021636}, {\"mouse_code\": 2, \"mouse\": \"m2bayes\", \"neuron\": 0, \"i_trial\": 1, \"neuron_x_mouse\": \"0m2bayes\", \"neuron_code\": 2, \"stim\": 1, \"log_firing_rate\": 2.6715270193052256, \"Firing rate\": 469.38263569719123, \"firing_rate\": 469.38263569719123, \"i_spike\": 58.5, \"isi\": 0.06010503601082952, \"log_isi\": -1.2210891383119706}, {\"mouse_code\": 2, \"mouse\": \"m2bayes\", \"neuron\": 1, \"i_trial\": 0, \"neuron_x_mouse\": \"1m2bayes\", \"neuron_code\": 6, \"stim\": 0, \"log_firing_rate\": 1.613894794985911, \"Firing rate\": 41.105013482078434, \"firing_rate\": 41.105013482078434, \"i_spike\": 39.0, \"isi\": 0.08921966280341728, \"log_isi\": -1.049539422462839}, {\"mouse_code\": 2, \"mouse\": \"m2bayes\", \"neuron\": 1, \"i_trial\": 0, \"neuron_x_mouse\": \"1m2bayes\", \"neuron_code\": 6, \"stim\": 1, \"log_firing_rate\": 2.4338037337869864, \"Firing rate\": 271.5211933887484, \"firing_rate\": 271.5211933887484, \"i_spike\": 59.0, \"isi\": 0.05968917454115633, \"log_isi\": -1.2241044270506891}, {\"mouse_code\": 2, \"mouse\": \"m2bayes\", \"neuron\": 1, \"i_trial\": 1, \"neuron_x_mouse\": \"1m2bayes\", \"neuron_code\": 6, \"stim\": 0, \"log_firing_rate\": 2.0308847706848003, \"Firing rate\": 107.37044935742614, \"firing_rate\": 107.37044935742614, \"i_spike\": 48.5, \"isi\": 0.07219220891466148, \"log_isi\": -1.1415096695764386}, {\"mouse_code\": 2, \"mouse\": \"m2bayes\", \"neuron\": 1, \"i_trial\": 1, \"neuron_x_mouse\": \"1m2bayes\", \"neuron_code\": 6, \"stim\": 1, \"log_firing_rate\": 2.0528802468771805, \"Firing rate\": 112.94844257112301, \"firing_rate\": 112.94844257112301, \"i_spike\": 61.0, \"isi\": 0.056819587285000604, \"log_isi\": -1.245501925144899}, {\"mouse_code\": 2, \"mouse\": \"m2bayes\", \"neuron\": 2, \"i_trial\": 0, \"neuron_x_mouse\": \"2m2bayes\", \"neuron_code\": 10, \"stim\": 0, \"log_firing_rate\": 1.9831930671334728, \"Firing rate\": 96.20398615257722, \"firing_rate\": 96.20398615257722, \"i_spike\": 48.5, \"isi\": 0.07056744727829681, \"log_isi\": -1.1513955925417942}, {\"mouse_code\": 2, \"mouse\": \"m2bayes\", \"neuron\": 2, \"i_trial\": 0, \"neuron_x_mouse\": \"2m2bayes\", \"neuron_code\": 10, \"stim\": 1, \"log_firing_rate\": 1.9626619229454132, \"Firing rate\": 91.76179975608115, \"firing_rate\": 91.76179975608115, \"i_spike\": 67.0, \"isi\": 0.051101025847415, \"log_isi\": -1.2915703813643147}, {\"mouse_code\": 2, \"mouse\": \"m2bayes\", \"neuron\": 2, \"i_trial\": 1, \"neuron_x_mouse\": \"2m2bayes\", \"neuron_code\": 10, \"stim\": 0, \"log_firing_rate\": 2.049924715699149, \"Firing rate\": 112.18239709331701, \"firing_rate\": 112.18239709331701, \"i_spike\": 58.5, \"isi\": 0.05872398099882321, \"log_isi\": -1.2311845105303945}, {\"mouse_code\": 2, \"mouse\": \"m2bayes\", \"neuron\": 2, \"i_trial\": 1, \"neuron_x_mouse\": \"2m2bayes\", \"neuron_code\": 10, \"stim\": 1, \"log_firing_rate\": 1.809669415400918, \"Firing rate\": 64.51629445779037, \"firing_rate\": 64.51629445779037, \"i_spike\": 62.5, \"isi\": 0.05540166225689719, \"log_isi\": -1.2564772046187207}, {\"mouse_code\": 2, \"mouse\": \"m2bayes\", \"neuron\": 3, \"i_trial\": 0, \"neuron_x_mouse\": \"3m2bayes\", \"neuron_code\": 14, \"stim\": 0, \"log_firing_rate\": 2.5366639546786023, \"Firing rate\": 344.0835851611991, \"firing_rate\": 344.0835851611991, \"i_spike\": 64.5, \"isi\": 0.05204425049422181, \"log_isi\": -1.2836272414954801}, {\"mouse_code\": 2, \"mouse\": \"m2bayes\", \"neuron\": 3, \"i_trial\": 0, \"neuron_x_mouse\": \"3m2bayes\", \"neuron_code\": 14, \"stim\": 1, \"log_firing_rate\": 2.314253562569037, \"Firing rate\": 206.18333620734475, \"firing_rate\": 206.18333620734475, \"i_spike\": 75.5, \"isi\": 0.04566947272265394, \"log_isi\": -1.3403740025152624}, {\"mouse_code\": 2, \"mouse\": \"m2bayes\", \"neuron\": 3, \"i_trial\": 1, \"neuron_x_mouse\": \"3m2bayes\", \"neuron_code\": 14, \"stim\": 0, \"log_firing_rate\": 1.9213420735766489, \"Firing rate\": 83.4338095212844, \"firing_rate\": 83.4338095212844, \"i_spike\": 75.5, \"isi\": 0.046295904577016836, \"log_isi\": -1.3344574257913417}, {\"mouse_code\": 2, \"mouse\": \"m2bayes\", \"neuron\": 3, \"i_trial\": 1, \"neuron_x_mouse\": \"3m2bayes\", \"neuron_code\": 14, \"stim\": 1, \"log_firing_rate\": 2.1752341910163877, \"Firing rate\": 149.70427108871326, \"firing_rate\": 149.70427108871326, \"i_spike\": 79.5, \"isi\": 0.042118092458168756, \"log_isi\": -1.3755313063766523}, {\"mouse_code\": 2, \"mouse\": \"m2bayes\", \"neuron\": 4, \"i_trial\": 0, \"neuron_x_mouse\": \"4m2bayes\", \"neuron_code\": 18, \"stim\": 0, \"log_firing_rate\": 2.228220587148809, \"Firing rate\": 169.12997596414766, \"firing_rate\": 169.12997596414766, \"i_spike\": 77.0, \"isi\": 0.04554340868422398, \"log_isi\": -1.341574467850244}, {\"mouse_code\": 2, \"mouse\": \"m2bayes\", \"neuron\": 4, \"i_trial\": 0, \"neuron_x_mouse\": \"4m2bayes\", \"neuron_code\": 18, \"stim\": 1, \"log_firing_rate\": 3.2395750947684383, \"Firing rate\": 1736.101429853725, \"firing_rate\": 1736.101429853725, \"i_spike\": 82.5, \"isi\": 0.04167819159938072, \"log_isi\": -1.3800911331693864}, {\"mouse_code\": 2, \"mouse\": \"m2bayes\", \"neuron\": 4, \"i_trial\": 1, \"neuron_x_mouse\": \"4m2bayes\", \"neuron_code\": 18, \"stim\": 0, \"log_firing_rate\": 2.231449603815257, \"Firing rate\": 170.39215822202797, \"firing_rate\": 170.39215822202797, \"i_spike\": 75.5, \"isi\": 0.045792487547980425, \"log_isi\": -1.339205764006307}, {\"mouse_code\": 2, \"mouse\": \"m2bayes\", \"neuron\": 4, \"i_trial\": 1, \"neuron_x_mouse\": \"4m2bayes\", \"neuron_code\": 18, \"stim\": 1, \"log_firing_rate\": 2.154703483293583, \"Firing rate\": 142.79187070574702, \"firing_rate\": 142.79187070574702, \"i_spike\": 84.0, \"isi\": 0.041786859170334055, \"log_isi\": -1.3789602705470694}, {\"mouse_code\": 2, \"mouse\": \"m2bayes\", \"neuron\": 5, \"i_trial\": 0, \"neuron_x_mouse\": \"5m2bayes\", \"neuron_code\": 22, \"stim\": 0, \"log_firing_rate\": 2.17146036309703, \"Firing rate\": 148.4090424895148, \"firing_rate\": 148.4090424895148, \"i_spike\": 106.5, \"isi\": 0.032419248068442263, \"log_isi\": -1.4891970623904458}, {\"mouse_code\": 2, \"mouse\": \"m2bayes\", \"neuron\": 5, \"i_trial\": 0, \"neuron_x_mouse\": \"5m2bayes\", \"neuron_code\": 22, \"stim\": 1, \"log_firing_rate\": 2.1908919132074374, \"Firing rate\": 155.2000701447514, \"firing_rate\": 155.2000701447514, \"i_spike\": 114.0, \"isi\": 0.030774774007193684, \"log_isi\": -1.5118051276018158}, {\"mouse_code\": 2, \"mouse\": \"m2bayes\", \"neuron\": 5, \"i_trial\": 1, \"neuron_x_mouse\": \"5m2bayes\", \"neuron_code\": 22, \"stim\": 0, \"log_firing_rate\": 2.364828012780168, \"Firing rate\": 231.64771081351324, \"firing_rate\": 231.64771081351324, \"i_spike\": 118.0, \"isi\": 0.029681297801599067, \"log_isi\": -1.5275171136439976}, {\"mouse_code\": 2, \"mouse\": \"m2bayes\", \"neuron\": 5, \"i_trial\": 1, \"neuron_x_mouse\": \"5m2bayes\", \"neuron_code\": 22, \"stim\": 1, \"log_firing_rate\": 2.2669658003719744, \"Firing rate\": 184.9122999331935, \"firing_rate\": 184.9122999331935, \"i_spike\": 110.5, \"isi\": 0.03159173251465181, \"log_isi\": -1.5004265564018775}, {\"mouse_code\": 2, \"mouse\": \"m2bayes\", \"neuron\": 6, \"i_trial\": 0, \"neuron_x_mouse\": \"6m2bayes\", \"neuron_code\": 26, \"stim\": 0, \"log_firing_rate\": 2.2656459958949435, \"Firing rate\": 184.35121145432694, \"firing_rate\": 184.35121145432694, \"i_spike\": 116.5, \"isi\": 0.02996969597250592, \"log_isi\": -1.5233176627311238}, {\"mouse_code\": 2, \"mouse\": \"m2bayes\", \"neuron\": 6, \"i_trial\": 0, \"neuron_x_mouse\": \"6m2bayes\", \"neuron_code\": 26, \"stim\": 1, \"log_firing_rate\": 2.226712715852332, \"Firing rate\": 168.54377458955673, \"firing_rate\": 168.54377458955673, \"i_spike\": 115.0, \"isi\": 0.03053492714092613, \"log_isi\": -1.5152031119324512}, {\"mouse_code\": 2, \"mouse\": \"m2bayes\", \"neuron\": 6, \"i_trial\": 1, \"neuron_x_mouse\": \"6m2bayes\", \"neuron_code\": 26, \"stim\": 0, \"log_firing_rate\": 2.464585545950285, \"Firing rate\": 291.4644195604501, \"firing_rate\": 291.4644195604501, \"i_spike\": 142.0, \"isi\": 0.024666886520045467, \"log_isi\": -1.6078856641501564}, {\"mouse_code\": 2, \"mouse\": \"m2bayes\", \"neuron\": 6, \"i_trial\": 1, \"neuron_x_mouse\": \"6m2bayes\", \"neuron_code\": 26, \"stim\": 1, \"log_firing_rate\": 2.837448120299284, \"Firing rate\": 687.777747242285, \"firing_rate\": 687.777747242285, \"i_spike\": 131.5, \"isi\": 0.02647551851685766, \"log_isi\": -1.5771555255810097}, {\"mouse_code\": 2, \"mouse\": \"m2bayes\", \"neuron\": 7, \"i_trial\": 0, \"neuron_x_mouse\": \"7m2bayes\", \"neuron_code\": 30, \"stim\": 0, \"log_firing_rate\": 2.7113942022603217, \"Firing rate\": 514.5104527298538, \"firing_rate\": 514.5104527298538, \"i_spike\": 147.0, \"isi\": 0.02373249473931599, \"log_isi\": -1.6246566067227797}, {\"mouse_code\": 2, \"mouse\": \"m2bayes\", \"neuron\": 7, \"i_trial\": 0, \"neuron_x_mouse\": \"7m2bayes\", \"neuron_code\": 30, \"stim\": 1, \"log_firing_rate\": 2.545738966589283, \"Firing rate\": 351.3491980390388, \"firing_rate\": 351.3491980390388, \"i_spike\": 151.0, \"isi\": 0.022814273120720596, \"log_isi\": -1.6417933636079056}, {\"mouse_code\": 2, \"mouse\": \"m2bayes\", \"neuron\": 7, \"i_trial\": 1, \"neuron_x_mouse\": \"7m2bayes\", \"neuron_code\": 30, \"stim\": 0, \"log_firing_rate\": 2.4964769915338003, \"Firing rate\": 313.67289451463154, \"firing_rate\": 313.67289451463154, \"i_spike\": 145.5, \"isi\": 0.023693348372107598, \"log_isi\": -1.6253735599284946}, {\"mouse_code\": 2, \"mouse\": \"m2bayes\", \"neuron\": 7, \"i_trial\": 1, \"neuron_x_mouse\": \"7m2bayes\", \"neuron_code\": 30, \"stim\": 1, \"log_firing_rate\": 2.6026696927983335, \"Firing rate\": 400.56195017241004, \"firing_rate\": 400.56195017241004, \"i_spike\": 145.0, \"isi\": 0.02420099401963288, \"log_isi\": -1.6161667956569372}, {\"mouse_code\": 3, \"mouse\": \"m3bayes\", \"neuron\": 0, \"i_trial\": 0, \"neuron_x_mouse\": \"0m3bayes\", \"neuron_code\": 3, \"stim\": 0, \"log_firing_rate\": 2.135798254589245, \"Firing rate\": 136.70936139025437, \"firing_rate\": 136.70936139025437, \"i_spike\": 46.0, \"isi\": 0.07150537143542218, \"log_isi\": -1.145661333064053}, {\"mouse_code\": 3, \"mouse\": \"m3bayes\", \"neuron\": 0, \"i_trial\": 0, \"neuron_x_mouse\": \"0m3bayes\", \"neuron_code\": 3, \"stim\": 1, \"log_firing_rate\": 1.9324105663495155, \"Firing rate\": 85.5875444347639, \"firing_rate\": 85.5875444347639, \"i_spike\": 51.0, \"isi\": 0.06801647418473311, \"log_isi\": -1.1673858846320815}, {\"mouse_code\": 3, \"mouse\": \"m3bayes\", \"neuron\": 0, \"i_trial\": 1, \"neuron_x_mouse\": \"0m3bayes\", \"neuron_code\": 3, \"stim\": 0, \"log_firing_rate\": 1.6734161174010607, \"Firing rate\": 47.142880756646726, \"firing_rate\": 47.142880756646726, \"i_spike\": 38.0, \"isi\": 0.09097955828488084, \"log_isi\": -1.0410561760453525}, {\"mouse_code\": 3, \"mouse\": \"m3bayes\", \"neuron\": 0, \"i_trial\": 1, \"neuron_x_mouse\": \"0m3bayes\", \"neuron_code\": 3, \"stim\": 1, \"log_firing_rate\": 1.8983904695541485, \"Firing rate\": 79.13898384259824, \"firing_rate\": 79.13898384259824, \"i_spike\": 39.5, \"isi\": 0.08831923153872864, \"log_isi\": -1.0539447183732733}, {\"mouse_code\": 3, \"mouse\": \"m3bayes\", \"neuron\": 1, \"i_trial\": 0, \"neuron_x_mouse\": \"1m3bayes\", \"neuron_code\": 7, \"stim\": 0, \"log_firing_rate\": 2.3069134757580017, \"Firing rate\": 202.7278785688348, \"firing_rate\": 202.7278785688348, \"i_spike\": 51.0, \"isi\": 0.06903321114971431, \"log_isi\": -1.160941924494271}, {\"mouse_code\": 3, \"mouse\": \"m3bayes\", \"neuron\": 1, \"i_trial\": 0, \"neuron_x_mouse\": \"1m3bayes\", \"neuron_code\": 7, \"stim\": 1, \"log_firing_rate\": 1.7036877279498974, \"Firing rate\": 50.54610881218111, \"firing_rate\": 50.54610881218111, \"i_spike\": 57.0, \"isi\": 0.059491794968271255, \"log_isi\": -1.225542927476864}, {\"mouse_code\": 3, \"mouse\": \"m3bayes\", \"neuron\": 1, \"i_trial\": 1, \"neuron_x_mouse\": \"1m3bayes\", \"neuron_code\": 7, \"stim\": 0, \"log_firing_rate\": 1.5366878656717777, \"Firing rate\": 34.41025299258479, \"firing_rate\": 34.41025299258479, \"i_spike\": 47.0, \"isi\": 0.07471342757151868, \"log_isi\": -1.1266013393337146}, {\"mouse_code\": 3, \"mouse\": \"m3bayes\", \"neuron\": 1, \"i_trial\": 1, \"neuron_x_mouse\": \"1m3bayes\", \"neuron_code\": 7, \"stim\": 1, \"log_firing_rate\": 1.741577082595057, \"Firing rate\": 55.15400861224045, \"firing_rate\": 55.15400861224045, \"i_spike\": 60.0, \"isi\": 0.05837389638458883, \"log_isi\": -1.2337813171087255}, {\"mouse_code\": 3, \"mouse\": \"m3bayes\", \"neuron\": 2, \"i_trial\": 0, \"neuron_x_mouse\": \"2m3bayes\", \"neuron_code\": 11, \"stim\": 0, \"log_firing_rate\": 1.8213673567855349, \"Firing rate\": 66.27768899203237, \"firing_rate\": 66.27768899203237, \"i_spike\": 53.5, \"isi\": 0.06472029537394301, \"log_isi\": -1.1889595093348937}, {\"mouse_code\": 3, \"mouse\": \"m3bayes\", \"neuron\": 2, \"i_trial\": 0, \"neuron_x_mouse\": \"2m3bayes\", \"neuron_code\": 11, \"stim\": 1, \"log_firing_rate\": 1.8903182163384142, \"Firing rate\": 77.68160969952918, \"firing_rate\": 77.68160969952918, \"i_spike\": 55.5, \"isi\": 0.06214595949550088, \"log_isi\": -1.2065871023538117}, {\"mouse_code\": 3, \"mouse\": \"m3bayes\", \"neuron\": 2, \"i_trial\": 1, \"neuron_x_mouse\": \"2m3bayes\", \"neuron_code\": 11, \"stim\": 0, \"log_firing_rate\": 2.2015329749712023, \"Firing rate\": 159.0497442014235, \"firing_rate\": 159.0497442014235, \"i_spike\": 57.0, \"isi\": 0.05824902684840407, \"log_isi\": -1.234711325888185}, {\"mouse_code\": 3, \"mouse\": \"m3bayes\", \"neuron\": 2, \"i_trial\": 1, \"neuron_x_mouse\": \"2m3bayes\", \"neuron_code\": 11, \"stim\": 1, \"log_firing_rate\": 2.0894057491681495, \"Firing rate\": 122.85865291073958, \"firing_rate\": 122.85865291073958, \"i_spike\": 58.5, \"isi\": 0.05918455795534397, \"log_isi\": -1.2277915917500783}, {\"mouse_code\": 3, \"mouse\": \"m3bayes\", \"neuron\": 3, \"i_trial\": 0, \"neuron_x_mouse\": \"3m3bayes\", \"neuron_code\": 15, \"stim\": 0, \"log_firing_rate\": 1.9555892193411009, \"Firing rate\": 90.2795154256886, \"firing_rate\": 90.2795154256886, \"i_spike\": 60.0, \"isi\": 0.057774807036542274, \"log_isi\": -1.2382614963569423}, {\"mouse_code\": 3, \"mouse\": \"m3bayes\", \"neuron\": 3, \"i_trial\": 0, \"neuron_x_mouse\": \"3m3bayes\", \"neuron_code\": 15, \"stim\": 1, \"log_firing_rate\": 1.8357240209120704, \"Firing rate\": 68.50527608243031, \"firing_rate\": 68.50527608243031, \"i_spike\": 74.0, \"isi\": 0.04733291876723823, \"log_isi\": -1.32483671409483}, {\"mouse_code\": 3, \"mouse\": \"m3bayes\", \"neuron\": 3, \"i_trial\": 1, \"neuron_x_mouse\": \"3m3bayes\", \"neuron_code\": 15, \"stim\": 0, \"log_firing_rate\": 2.002985258886731, \"Firing rate\": 100.68974914848528, \"firing_rate\": 100.68974914848528, \"i_spike\": 65.5, \"isi\": 0.05158870023401094, \"log_isi\": -1.2874454139430853}, {\"mouse_code\": 3, \"mouse\": \"m3bayes\", \"neuron\": 3, \"i_trial\": 1, \"neuron_x_mouse\": \"3m3bayes\", \"neuron_code\": 15, \"stim\": 1, \"log_firing_rate\": 2.0185806003347007, \"Firing rate\": 104.3711816322376, \"firing_rate\": 104.3711816322376, \"i_spike\": 71.0, \"isi\": 0.04906588823010907, \"log_isi\": -1.309220334800721}, {\"mouse_code\": 3, \"mouse\": \"m3bayes\", \"neuron\": 4, \"i_trial\": 0, \"neuron_x_mouse\": \"4m3bayes\", \"neuron_code\": 19, \"stim\": 0, \"log_firing_rate\": 2.1631764214955824, \"Firing rate\": 145.60504452887747, \"firing_rate\": 145.60504452887747, \"i_spike\": 90.5, \"isi\": 0.038596927811143274, \"log_isi\": -1.4134472623688352}, {\"mouse_code\": 3, \"mouse\": \"m3bayes\", \"neuron\": 4, \"i_trial\": 0, \"neuron_x_mouse\": \"4m3bayes\", \"neuron_code\": 19, \"stim\": 1, \"log_firing_rate\": 2.1504483207568392, \"Firing rate\": 141.39964553415882, \"firing_rate\": 141.39964553415882, \"i_spike\": 77.5, \"isi\": 0.045259483887262586, \"log_isi\": -1.3442904027938378}, {\"mouse_code\": 3, \"mouse\": \"m3bayes\", \"neuron\": 4, \"i_trial\": 1, \"neuron_x_mouse\": \"4m3bayes\", \"neuron_code\": 19, \"stim\": 0, \"log_firing_rate\": 1.9734241165761541, \"Firing rate\": 94.0641459237881, \"firing_rate\": 94.0641459237881, \"i_spike\": 77.0, \"isi\": 0.04541554063078288, \"log_isi\": -1.342795511563274}, {\"mouse_code\": 3, \"mouse\": \"m3bayes\", \"neuron\": 4, \"i_trial\": 1, \"neuron_x_mouse\": \"4m3bayes\", \"neuron_code\": 19, \"stim\": 1, \"log_firing_rate\": 2.2268496863212635, \"Firing rate\": 168.59693934668118, \"firing_rate\": 168.59693934668118, \"i_spike\": 98.5, \"isi\": 0.035373739800444434, \"log_isi\": -1.451319023056679}, {\"mouse_code\": 3, \"mouse\": \"m3bayes\", \"neuron\": 5, \"i_trial\": 0, \"neuron_x_mouse\": \"5m3bayes\", \"neuron_code\": 23, \"stim\": 0, \"log_firing_rate\": 2.7203944573023278, \"Firing rate\": 525.2843444484714, \"firing_rate\": 525.2843444484714, \"i_spike\": 115.5, \"isi\": 0.0303592330940808, \"log_isi\": -1.5177092033699555}, {\"mouse_code\": 3, \"mouse\": \"m3bayes\", \"neuron\": 5, \"i_trial\": 0, \"neuron_x_mouse\": \"5m3bayes\", \"neuron_code\": 23, \"stim\": 1, \"log_firing_rate\": 2.6062327260517932, \"Firing rate\": 403.86175301040834, \"firing_rate\": 403.86175301040834, \"i_spike\": 128.0, \"isi\": 0.027018548010175766, \"log_isi\": -1.5683379938821702}, {\"mouse_code\": 3, \"mouse\": \"m3bayes\", \"neuron\": 5, \"i_trial\": 1, \"neuron_x_mouse\": \"5m3bayes\", \"neuron_code\": 23, \"stim\": 0, \"log_firing_rate\": 2.0643961683114926, \"Firing rate\": 115.98348881667336, \"firing_rate\": 115.98348881667336, \"i_spike\": 96.5, \"isi\": 0.0361921575928611, \"log_isi\": -1.4413855256858679}, {\"mouse_code\": 3, \"mouse\": \"m3bayes\", \"neuron\": 5, \"i_trial\": 1, \"neuron_x_mouse\": \"5m3bayes\", \"neuron_code\": 23, \"stim\": 1, \"log_firing_rate\": 2.267382739136789, \"Firing rate\": 185.08990782145176, \"firing_rate\": 185.08990782145176, \"i_spike\": 122.5, \"isi\": 0.028609826296559795, \"log_isi\": -1.5434847789886759}, {\"mouse_code\": 3, \"mouse\": \"m3bayes\", \"neuron\": 6, \"i_trial\": 0, \"neuron_x_mouse\": \"6m3bayes\", \"neuron_code\": 27, \"stim\": 0, \"log_firing_rate\": 2.221574395850367, \"Firing rate\": 166.56141276718682, \"firing_rate\": 166.56141276718682, \"i_spike\": 126.5, \"isi\": 0.027118744047918888, \"log_isi\": -1.5667304278466028}, {\"mouse_code\": 3, \"mouse\": \"m3bayes\", \"neuron\": 6, \"i_trial\": 0, \"neuron_x_mouse\": \"6m3bayes\", \"neuron_code\": 27, \"stim\": 1, \"log_firing_rate\": 2.3339247393079887, \"Firing rate\": 215.73705170722675, \"firing_rate\": 215.73705170722675, \"i_spike\": 146.5, \"isi\": 0.023521789329731715, \"log_isi\": -1.6285296440554764}, {\"mouse_code\": 3, \"mouse\": \"m3bayes\", \"neuron\": 6, \"i_trial\": 1, \"neuron_x_mouse\": \"6m3bayes\", \"neuron_code\": 27, \"stim\": 0, \"log_firing_rate\": 2.798148075566505, \"Firing rate\": 628.2725359614416, \"firing_rate\": 628.2725359614416, \"i_spike\": 127.5, \"isi\": 0.027546980104744666, \"log_isi\": -1.5599260046427574}, {\"mouse_code\": 3, \"mouse\": \"m3bayes\", \"neuron\": 6, \"i_trial\": 1, \"neuron_x_mouse\": \"6m3bayes\", \"neuron_code\": 27, \"stim\": 1, \"log_firing_rate\": 2.6909650452312666, \"Firing rate\": 490.86836636959595, \"firing_rate\": 490.86836636959595, \"i_spike\": 119.5, \"isi\": 0.028796441922623994, \"log_isi\": -1.5406611701863286}, {\"mouse_code\": 3, \"mouse\": \"m3bayes\", \"neuron\": 7, \"i_trial\": 0, \"neuron_x_mouse\": \"7m3bayes\", \"neuron_code\": 31, \"stim\": 0, \"log_firing_rate\": 2.2315689831640846, \"Firing rate\": 170.43900224542443, \"firing_rate\": 170.43900224542443, \"i_spike\": 140.5, \"isi\": 0.024801197520244563, \"log_isi\": -1.6055273488561188}, {\"mouse_code\": 3, \"mouse\": \"m3bayes\", \"neuron\": 7, \"i_trial\": 0, \"neuron_x_mouse\": \"7m3bayes\", \"neuron_code\": 31, \"stim\": 1, \"log_firing_rate\": 2.422311879852172, \"Firing rate\": 264.43070315766084, \"firing_rate\": 264.43070315766084, \"i_spike\": 170.0, \"isi\": 0.020502783776266433, \"log_isi\": -1.6881871683787435}, {\"mouse_code\": 3, \"mouse\": \"m3bayes\", \"neuron\": 7, \"i_trial\": 1, \"neuron_x_mouse\": \"7m3bayes\", \"neuron_code\": 31, \"stim\": 0, \"log_firing_rate\": 2.5992328101062876, \"Firing rate\": 397.4045270691096, \"firing_rate\": 397.4045270691096, \"i_spike\": 161.5, \"isi\": 0.02163302890392372, \"log_isi\": -1.66488266945749}, {\"mouse_code\": 3, \"mouse\": \"m3bayes\", \"neuron\": 7, \"i_trial\": 1, \"neuron_x_mouse\": \"7m3bayes\", \"neuron_code\": 31, \"stim\": 1, \"log_firing_rate\": 2.4046008859888532, \"Firing rate\": 253.86386396092198, \"firing_rate\": 253.86386396092198, \"i_spike\": 146.5, \"isi\": 0.023814695849759135, \"log_isi\": -1.6231549607244997}]}}, {\"mode\": \"vega-lite\"});\n",
       "</script>"
      ],
      "text/plain": [
       "alt.LayerChart(...)"
      ]
     },
     "execution_count": 10,
     "metadata": {},
     "output_type": "execute_result"
    }
   ],
   "source": [
    "import altair as alt\n",
    "y='isi'\n",
    "color='mouse'\n",
    "x='neuron'\n",
    "\n",
    "base=alt.Chart(df).encode(\n",
    "            x=x,\n",
    "            color=f'{color}',\n",
    "            y=alt.Y(f'mean({y})',\n",
    "                    scale=alt.Scale(zero=False,\n",
    "                                    domain=list(np.quantile(df[y], [.05, .95])))),\n",
    ")\n",
    "\n",
    "# Create a selection that chooses the nearest point & selects based on x-value\n",
    "nearest = alt.selection(type='single', nearest=True, on='mouseover',\n",
    "                        fields=[x], empty='none')\n",
    "\n",
    "\n",
    "# Transparent selectors across the chart. This is what tells us\n",
    "# the x-value of the cursor\n",
    "selectors = alt.Chart(df).mark_point().encode(\n",
    "    x=x,\n",
    "    opacity=alt.value(0),\n",
    ").add_selection(\n",
    "    nearest\n",
    ")\n",
    "\n",
    "highlight = alt.selection(type='single', on='mouseover',\n",
    "                          fields=[color], nearest=True)\n",
    "\n",
    "lines=base.mark_line(clip=True, fill=None, opacity=.6, ).encode(\n",
    "            #tooltip=color,\n",
    "            size=alt.condition(~highlight, alt.value(1), alt.value(3))\n",
    "        )\n",
    "\n",
    "# Draw text labels near the points, and highlight based on selection\n",
    "text = lines.mark_text(align='left', dx=5, dy=-5).encode(\n",
    "    text=alt.condition(nearest, y, alt.value(' '))\n",
    ")\n",
    "\n",
    "points = base.mark_circle().encode(\n",
    "    opacity=alt.value(0)\n",
    ").add_selection(\n",
    "    highlight\n",
    ")\n",
    "\n",
    "alt.layer(\n",
    "    lines, selectors, points, text\n",
    ")"
   ]
  }
 ],
 "metadata": {
  "hide_code_all_hidden": false,
  "jupytext": {
   "formats": "ipynb,py:light"
  },
  "kernelspec": {
   "display_name": "PyCharm (jup)",
   "language": "python",
   "name": "pycharm-d5912792"
  },
  "language_info": {
   "codemirror_mode": {
    "name": "ipython",
    "version": 3
   },
   "file_extension": ".py",
   "mimetype": "text/x-python",
   "name": "python",
   "nbconvert_exporter": "python",
   "pygments_lexer": "ipython3",
   "version": "3.8.5"
  }
 },
 "nbformat": 4,
 "nbformat_minor": 4
}
