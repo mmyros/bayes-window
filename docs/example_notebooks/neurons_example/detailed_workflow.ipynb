{
 "cells": [
  {
   "cell_type": "markdown",
   "metadata": {},
   "source": [
    "# Neurons example via low-level, flexible interface\n",
    "## Prepare"
   ]
  },
  {
   "cell_type": "code",
   "execution_count": 1,
   "metadata": {
    "lines_to_end_of_cell_marker": 2
   },
   "outputs": [],
   "source": [
    "from bayes_window import models\n",
    "from bayes_window.fitting import fit_numpyro\n",
    "from bayes_window.generative_models import generate_fake_spikes\n",
    "from sklearn.preprocessing import LabelEncoder\n",
    "\n",
    "trans = LabelEncoder().fit_transform"
   ]
  },
  {
   "cell_type": "markdown",
   "metadata": {},
   "source": [
    "## Make some data\n"
   ]
  },
  {
   "cell_type": "code",
   "execution_count": 2,
   "metadata": {},
   "outputs": [],
   "source": [
    "df, df_monster, index_cols, firing_rates = generate_fake_spikes(n_trials=2,\n",
    "                                                                n_neurons=8,\n",
    "                                                                n_mice=4,\n",
    "                                                                dur=7, )"
   ]
  },
  {
   "cell_type": "code",
   "execution_count": 3,
   "metadata": {},
   "outputs": [],
   "source": [
    "import numpy as np\n",
    "df['log_isi']=np.log10(df['isi'])"
   ]
  },
  {
   "cell_type": "code",
   "execution_count": 4,
   "metadata": {
    "scrolled": false
   },
   "outputs": [
    {
     "data": {
      "text/html": [
       "\n",
       "<div id=\"altair-viz-117c568901ae49058e31686cc364a7fd\"></div>\n",
       "<script type=\"text/javascript\">\n",
       "  (function(spec, embedOpt){\n",
       "    let outputDiv = document.currentScript.previousElementSibling;\n",
       "    if (outputDiv.id !== \"altair-viz-117c568901ae49058e31686cc364a7fd\") {\n",
       "      outputDiv = document.getElementById(\"altair-viz-117c568901ae49058e31686cc364a7fd\");\n",
       "    }\n",
       "    const paths = {\n",
       "      \"vega\": \"https://cdn.jsdelivr.net/npm//vega@5?noext\",\n",
       "      \"vega-lib\": \"https://cdn.jsdelivr.net/npm//vega-lib?noext\",\n",
       "      \"vega-lite\": \"https://cdn.jsdelivr.net/npm//vega-lite@4.8.1?noext\",\n",
       "      \"vega-embed\": \"https://cdn.jsdelivr.net/npm//vega-embed@6?noext\",\n",
       "    };\n",
       "\n",
       "    function loadScript(lib) {\n",
       "      return new Promise(function(resolve, reject) {\n",
       "        var s = document.createElement('script');\n",
       "        s.src = paths[lib];\n",
       "        s.async = true;\n",
       "        s.onload = () => resolve(paths[lib]);\n",
       "        s.onerror = () => reject(`Error loading script: ${paths[lib]}`);\n",
       "        document.getElementsByTagName(\"head\")[0].appendChild(s);\n",
       "      });\n",
       "    }\n",
       "\n",
       "    function showError(err) {\n",
       "      outputDiv.innerHTML = `<div class=\"error\" style=\"color:red;\">${err}</div>`;\n",
       "      throw err;\n",
       "    }\n",
       "\n",
       "    function displayChart(vegaEmbed) {\n",
       "      vegaEmbed(outputDiv, spec, embedOpt)\n",
       "        .catch(err => showError(`Javascript Error: ${err.message}<br>This usually means there's a typo in your chart specification. See the javascript console for the full traceback.`));\n",
       "    }\n",
       "\n",
       "    if(typeof define === \"function\" && define.amd) {\n",
       "      requirejs.config({paths});\n",
       "      require([\"vega-embed\"], displayChart, err => showError(`Error loading script: ${err.message}`));\n",
       "    } else if (typeof vegaEmbed === \"function\") {\n",
       "      displayChart(vegaEmbed);\n",
       "    } else {\n",
       "      loadScript(\"vega\")\n",
       "        .then(() => loadScript(\"vega-lite\"))\n",
       "        .then(() => loadScript(\"vega-embed\"))\n",
       "        .catch(showError)\n",
       "        .then(() => displayChart(vegaEmbed));\n",
       "    }\n",
       "  })({\"config\": {\"view\": {\"continuousWidth\": 400, \"continuousHeight\": 300}}, \"layer\": [{\"mark\": {\"type\": \"line\", \"fill\": null, \"opacity\": 0.5, \"size\": 3}, \"encoding\": {\"color\": {\"type\": \"nominal\", \"field\": \"mouse_code\"}, \"x\": {\"type\": \"ordinal\", \"field\": \"neuron\"}, \"y\": {\"type\": \"quantitative\", \"field\": \"isi diff\", \"scale\": {\"zero\": false}}}}, {\"mark\": {\"type\": \"boxplot\", \"color\": \"black\", \"opacity\": 0.3, \"size\": 12}, \"encoding\": {\"x\": {\"type\": \"ordinal\", \"field\": \"neuron\"}, \"y\": {\"type\": \"quantitative\", \"field\": \"isi diff\", \"scale\": {\"zero\": false}}}}], \"data\": {\"name\": \"data-a53f23566f175de83b8c864054bc2bb8\"}, \"$schema\": \"https://vega.github.io/schema/vega-lite/v4.8.1.json\", \"datasets\": {\"data-a53f23566f175de83b8c864054bc2bb8\": [{\"neuron\": 0, \"mouse_code\": 0, \"neuron_code\": null, \"i_trial\": 1.0, \"log_firing_rate\": 1.2407757435298992, \"Firing rate\": 2.8079487814224744, \"firing_rate\": 2.8079487814224744, \"i_spike\": 1.0579710144927537, \"isi diff\": 0.9391129364886136, \"log_isi\": 1.0254601522278697}, {\"neuron\": 1, \"mouse_code\": 0, \"neuron_code\": 1.0, \"i_trial\": 1.0, \"log_firing_rate\": 1.0093310931404142, \"Firing rate\": 1.0924285141549803, \"firing_rate\": 1.0924285141549803, \"i_spike\": 1.0091743119266054, \"isi diff\": 0.9824642910411222, \"log_isi\": 1.0042706458930468}, {\"neuron\": 2, \"mouse_code\": 0, \"neuron_code\": 1.0, \"i_trial\": 1.0, \"log_firing_rate\": 1.0051369149353027, \"Firing rate\": 0.9805565379951077, \"firing_rate\": 0.9805565379951077, \"i_spike\": 0.9565217391304348, \"isi diff\": 1.0627715857533917, \"log_isi\": 0.9795606669581869}, {\"neuron\": 3, \"mouse_code\": 0, \"neuron_code\": 1.0, \"i_trial\": 1.0, \"log_firing_rate\": 1.1878599300187072, \"Firing rate\": 3.875892349495801, \"firing_rate\": 3.875892349495801, \"i_spike\": 1.1137254901960785, \"isi diff\": 0.9133358292171385, \"log_isi\": 1.0365909509598652}, {\"neuron\": 4, \"mouse_code\": 0, \"neuron_code\": 1.0, \"i_trial\": 1.0, \"log_firing_rate\": 0.8457115594611774, \"Firing rate\": 0.19016011324912163, \"firing_rate\": 0.19016011324912163, \"i_spike\": 1.0152439024390243, \"isi diff\": 0.9896167957314349, \"log_isi\": 1.0037791673686232}, {\"neuron\": 5, \"mouse_code\": 0, \"neuron_code\": 1.0, \"i_trial\": 1.0, \"log_firing_rate\": 0.9718301721271876, \"Firing rate\": 0.8677296936725761, \"firing_rate\": 0.8677296936725761, \"i_spike\": 0.9310344827586207, \"isi diff\": 1.056742931014923, \"log_isi\": 0.9817945340406526}, {\"neuron\": 6, \"mouse_code\": 0, \"neuron_code\": 1.0, \"i_trial\": 1.0, \"log_firing_rate\": 0.8890390020572091, \"Firing rate\": 0.5588516823717052, \"firing_rate\": 0.5588516823717052, \"i_spike\": 0.9961538461538462, \"isi diff\": 1.0116350840180515, \"log_isi\": 0.996689638066626}, {\"neuron\": 7, \"mouse_code\": 0, \"neuron_code\": 1.0, \"i_trial\": 1.0, \"log_firing_rate\": 1.110429512318636, \"Firing rate\": 2.010206822320506, \"firing_rate\": 2.010206822320506, \"i_spike\": 1.063268892794376, \"isi diff\": 0.9344654913661036, \"log_isi\": 1.0179376604840216}, {\"neuron\": 0, \"mouse_code\": 1, \"neuron_code\": 1.0, \"i_trial\": 1.0, \"log_firing_rate\": 1.1675515888129024, \"Firing rate\": 3.0394492277856386, \"firing_rate\": 3.0394492277856386, \"i_spike\": 1.101522842639594, \"isi diff\": 0.9260312121401062, \"log_isi\": 1.0305814321136184}, {\"neuron\": 1, \"mouse_code\": 1, \"neuron_code\": 1.0, \"i_trial\": 1.0, \"log_firing_rate\": 0.953716996860349, \"Firing rate\": 0.747470764039283, \"firing_rate\": 0.747470764039283, \"i_spike\": 1.094240837696335, \"isi diff\": 0.9058358209648715, \"log_isi\": 1.0370209770972227}, {\"neuron\": 2, \"mouse_code\": 1, \"neuron_code\": 1.0, \"i_trial\": 1.0, \"log_firing_rate\": 1.0018154183415353, \"Firing rate\": 1.0506122092193857, \"firing_rate\": 1.0506122092193857, \"i_spike\": 1.4124293785310735, \"isi diff\": 0.7263694502268605, \"log_isi\": 1.122669499358416}, {\"neuron\": 3, \"mouse_code\": 1, \"neuron_code\": 1.0, \"i_trial\": 1.0, \"log_firing_rate\": 0.9270402346530497, \"Firing rate\": 0.7472635878257249, \"firing_rate\": 0.7472635878257249, \"i_spike\": 1.1638655462184875, \"isi diff\": 0.8667329000809703, \"log_isi\": 1.050220792928412}, {\"neuron\": 4, \"mouse_code\": 1, \"neuron_code\": 1.0, \"i_trial\": 1.0, \"log_firing_rate\": 1.0419937935994235, \"Firing rate\": 1.154971001784901, \"firing_rate\": 1.154971001784901, \"i_spike\": 1.1715210355987056, \"isi diff\": 0.8366194684661563, \"log_isi\": 1.0563146479350092}, {\"neuron\": 5, \"mouse_code\": 1, \"neuron_code\": 1.0, \"i_trial\": 1.0, \"log_firing_rate\": 0.7971468343615318, \"Firing rate\": 0.15078766355409629, \"firing_rate\": 0.15078766355409629, \"i_spike\": 0.9493975903614458, \"isi diff\": 1.0447133634736665, \"log_isi\": 0.987634932700111}, {\"neuron\": 6, \"mouse_code\": 1, \"neuron_code\": 1.0, \"i_trial\": 1.0, \"log_firing_rate\": 1.1694805457615107, \"Firing rate\": 2.917614673348047, \"firing_rate\": 2.917614673348047, \"i_spike\": 1.0323275862068966, \"isi diff\": 0.958404808170129, \"log_isi\": 1.0105876883202247}, {\"neuron\": 7, \"mouse_code\": 1, \"neuron_code\": 1.0, \"i_trial\": 1.0, \"log_firing_rate\": 1.1288838204003067, \"Firing rate\": 1.9910447842291088, \"firing_rate\": 1.9910447842291088, \"i_spike\": 0.9062027231467473, \"isi diff\": 1.1091304352449929, \"log_isi\": 0.9732255777782663}, {\"neuron\": 0, \"mouse_code\": 2, \"neuron_code\": 1.0, \"i_trial\": 1.0, \"log_firing_rate\": 0.965360010867436, \"Firing rate\": 0.8461880087625263, \"firing_rate\": 0.8461880087625263, \"i_spike\": 1.205128205128205, \"isi diff\": 0.8326140607155348, \"log_isi\": 1.0743881542412927}, {\"neuron\": 1, \"mouse_code\": 2, \"neuron_code\": 1.0, \"i_trial\": 1.0, \"log_firing_rate\": 0.8582898061988488, \"Firing rate\": 0.510623932382633, \"firing_rate\": 0.510623932382633, \"i_spike\": 1.113861386138614, \"isi diff\": 0.9140430345117455, \"log_isi\": 1.037030491407048}, {\"neuron\": 2, \"mouse_code\": 2, \"neuron_code\": 1.0, \"i_trial\": 1.0, \"log_firing_rate\": 0.7408530416480639, \"Firing rate\": 0.10477663457573207, \"firing_rate\": 0.10477663457573207, \"i_spike\": 1.0748898678414096, \"isi diff\": 0.9639715766779376, \"log_isi\": 1.0154294020337362}, {\"neuron\": 3, \"mouse_code\": 2, \"neuron_code\": 1.0, \"i_trial\": 1.0, \"log_firing_rate\": 0.9869401220552527, \"Firing rate\": 0.9816392724234532, \"firing_rate\": 0.9816392724234532, \"i_spike\": 1.0590277777777777, \"isi diff\": 0.9368716394804809, \"log_isi\": 1.0194225593347424}, {\"neuron\": 4, \"mouse_code\": 2, \"neuron_code\": 1.0, \"i_trial\": 1.0, \"log_firing_rate\": 1.1151394833359167, \"Firing rate\": 2.122872057782344, \"firing_rate\": 2.122872057782344, \"i_spike\": 1.109271523178808, \"isi diff\": 0.9039372353434856, \"log_isi\": 1.0339730846929738}, {\"neuron\": 5, \"mouse_code\": 2, \"neuron_code\": 1.0, \"i_trial\": 1.0, \"log_firing_rate\": 0.9183616529595839, \"Firing rate\": 0.6312971024565925, \"firing_rate\": 0.6312971024565925, \"i_spike\": 0.9873417721518988, \"isi diff\": 0.9928872392701211, \"log_isi\": 0.997373006579513}, {\"neuron\": 6, \"mouse_code\": 2, \"neuron_code\": 1.0, \"i_trial\": 1.0, \"log_firing_rate\": 1.0466379923438958, \"Firing rate\": 1.6220392579571383, \"firing_rate\": 1.6220392579571383, \"i_spike\": 1.0954446854663775, \"isi diff\": 0.9159545730199299, \"log_isi\": 1.0251604853670058}, {\"neuron\": 7, \"mouse_code\": 2, \"neuron_code\": 1.0, \"i_trial\": 1.0, \"log_firing_rate\": 0.9471238112078183, \"Firing rate\": 0.7084453602826886, \"firing_rate\": 0.7084453602826886, \"i_spike\": 1.1140350877192982, \"isi diff\": 0.899713204822508, \"log_isi\": 1.02875342721044}, {\"neuron\": 0, \"mouse_code\": 3, \"neuron_code\": 1.0, \"i_trial\": 1.0, \"log_firing_rate\": 0.9598841165821987, \"Firing rate\": 0.8043572430220274, \"firing_rate\": 0.8043572430220274, \"i_spike\": 1.2485875706214689, \"isi diff\": 0.777325716047352, \"log_isi\": 1.0916151598737673}, {\"neuron\": 1, \"mouse_code\": 3, \"neuron_code\": 1.0, \"i_trial\": 1.0, \"log_firing_rate\": 0.9578823102985627, \"Firing rate\": 0.6072523277032795, \"firing_rate\": 0.6072523277032795, \"i_spike\": 1.2081218274111676, \"isi diff\": 0.8254619835746613, \"log_isi\": 1.070271891499522}, {\"neuron\": 2, \"mouse_code\": 3, \"neuron_code\": 1.0, \"i_trial\": 1.0, \"log_firing_rate\": 0.9968705723189819, \"Firing rate\": 1.0015789321213808, \"firing_rate\": 1.0015789321213808, \"i_spike\": 1.1551020408163266, \"isi diff\": 0.848680471783698, \"log_isi\": 1.0572391448993115}, {\"neuron\": 3, \"mouse_code\": 3, \"neuron_code\": 1.0, \"i_trial\": 1.0, \"log_firing_rate\": 1.1482046418867198, \"Firing rate\": 1.899510005082781, \"firing_rate\": 1.899510005082781, \"i_spike\": 1.4184100418410042, \"isi diff\": 0.6877921723917553, \"log_isi\": 1.1286563743366826}, {\"neuron\": 4, \"mouse_code\": 3, \"neuron_code\": 1.0, \"i_trial\": 1.0, \"log_firing_rate\": 1.0040995527499643, \"Firing rate\": 1.0207891874976773, \"firing_rate\": 1.0207891874976773, \"i_spike\": 1.2276119402985075, \"isi diff\": 0.8207602778664496, \"log_isi\": 1.0666609230464217}, {\"neuron\": 5, \"mouse_code\": 3, \"neuron_code\": 1.0, \"i_trial\": 1.0, \"log_firing_rate\": 1.0139554810761384, \"Firing rate\": 1.0379751767758525, \"firing_rate\": 1.0379751767758525, \"i_spike\": 0.9805352798053528, \"isi diff\": 0.9916143379222156, \"log_isi\": 1.0021360158721775}, {\"neuron\": 6, \"mouse_code\": 3, \"neuron_code\": 1.0, \"i_trial\": 1.0, \"log_firing_rate\": 1.032037532726045, \"Firing rate\": 1.1745961951646817, \"firing_rate\": 1.1745961951646817, \"i_spike\": 0.9776876267748479, \"isi diff\": 1.0325168587570248, \"log_isi\": 0.9918694120439708}, {\"neuron\": 7, \"mouse_code\": 3, \"neuron_code\": 1.0, \"i_trial\": 1.0, \"log_firing_rate\": 0.932602657284795, \"Firing rate\": 0.6774448318743733, \"firing_rate\": 0.6774448318743733, \"i_spike\": 1.0719298245614035, \"isi diff\": 0.9240879268130794, \"log_isi\": 1.0210883528034027}]}}, {\"mode\": \"vega-lite\"});\n",
       "</script>"
      ],
      "text/plain": [
       "alt.LayerChart(...)"
      ]
     },
     "execution_count": 4,
     "metadata": {},
     "output_type": "execute_result"
    }
   ],
   "source": [
    "from bayes_window import visualization,utils\n",
    "from importlib import reload\n",
    "reload(visualization)\n",
    "reload(utils)\n",
    "y='isi'\n",
    "df['neuron']=df['neuron'].astype(int)\n",
    "ddf, dy = utils.make_fold_change(df,\n",
    "                         y=y,\n",
    "                         index_cols=('stim', 'mouse_code', 'neuron'),\n",
    "                         condition_name='stim',\n",
    "                         do_take_mean=True)\n",
    "\n",
    "visualization.plot_data(x='neuron',y=dy, color='mouse_code',add_box=True,df=ddf)"
   ]
  },
  {
   "cell_type": "markdown",
   "metadata": {},
   "source": [
    "## Estimate model"
   ]
  },
  {
   "cell_type": "code",
   "execution_count": 5,
   "metadata": {},
   "outputs": [
    {
     "name": "stderr",
     "output_type": "stream",
     "text": [
      "sample: 100%|██████████| 1100/1100 [00:07<00:00, 154.62it/s, 31 steps of size 2.05e-01. acc. prob=0.54]\n"
     ]
    },
    {
     "name": "stdout",
     "output_type": "stream",
     "text": [
      "n(Divergences) = 21\n"
     ]
    }
   ],
   "source": [
    "#y = list(set(df.columns) - set(index_cols))[0]\n",
    "trace = fit_numpyro(y=df[y].values,\n",
    "                    stim_on=(df['stim']).astype(int).values,\n",
    "                    treat=trans(df['neuron']),\n",
    "                    subject=trans(df['mouse']),\n",
    "                    progress_bar=True,\n",
    "                    model=models.model_hier_normal_stim,\n",
    "                    n_draws=100, num_chains=1, )"
   ]
  },
  {
   "cell_type": "markdown",
   "metadata": {},
   "source": [
    "## Add data back"
   ]
  },
  {
   "cell_type": "code",
   "execution_count": 6,
   "metadata": {},
   "outputs": [],
   "source": [
    "reload(utils)\n",
    "df_both = utils.add_data_to_posterior(df,\n",
    "                                trace=trace,\n",
    "                                y=y,\n",
    "                                index_cols=['neuron', 'stim', 'mouse_code', ],\n",
    "                                condition_name='stim',\n",
    "                                b_name='b_stim_per_condition',  # for posterior\n",
    "                                group_name='neuron'  # for posterior\n",
    "                                )"
   ]
  },
  {
   "cell_type": "markdown",
   "metadata": {},
   "source": [
    "## Plot data and posterior"
   ]
  },
  {
   "cell_type": "code",
   "execution_count": 7,
   "metadata": {},
   "outputs": [
    {
     "data": {
      "text/html": [
       "\n",
       "<div id=\"altair-viz-812a8ecb219a4df2b485eb39807ddaf9\"></div>\n",
       "<script type=\"text/javascript\">\n",
       "  (function(spec, embedOpt){\n",
       "    let outputDiv = document.currentScript.previousElementSibling;\n",
       "    if (outputDiv.id !== \"altair-viz-812a8ecb219a4df2b485eb39807ddaf9\") {\n",
       "      outputDiv = document.getElementById(\"altair-viz-812a8ecb219a4df2b485eb39807ddaf9\");\n",
       "    }\n",
       "    const paths = {\n",
       "      \"vega\": \"https://cdn.jsdelivr.net/npm//vega@5?noext\",\n",
       "      \"vega-lib\": \"https://cdn.jsdelivr.net/npm//vega-lib?noext\",\n",
       "      \"vega-lite\": \"https://cdn.jsdelivr.net/npm//vega-lite@4.8.1?noext\",\n",
       "      \"vega-embed\": \"https://cdn.jsdelivr.net/npm//vega-embed@6?noext\",\n",
       "    };\n",
       "\n",
       "    function loadScript(lib) {\n",
       "      return new Promise(function(resolve, reject) {\n",
       "        var s = document.createElement('script');\n",
       "        s.src = paths[lib];\n",
       "        s.async = true;\n",
       "        s.onload = () => resolve(paths[lib]);\n",
       "        s.onerror = () => reject(`Error loading script: ${paths[lib]}`);\n",
       "        document.getElementsByTagName(\"head\")[0].appendChild(s);\n",
       "      });\n",
       "    }\n",
       "\n",
       "    function showError(err) {\n",
       "      outputDiv.innerHTML = `<div class=\"error\" style=\"color:red;\">${err}</div>`;\n",
       "      throw err;\n",
       "    }\n",
       "\n",
       "    function displayChart(vegaEmbed) {\n",
       "      vegaEmbed(outputDiv, spec, embedOpt)\n",
       "        .catch(err => showError(`Javascript Error: ${err.message}<br>This usually means there's a typo in your chart specification. See the javascript console for the full traceback.`));\n",
       "    }\n",
       "\n",
       "    if(typeof define === \"function\" && define.amd) {\n",
       "      requirejs.config({paths});\n",
       "      require([\"vega-embed\"], displayChart, err => showError(`Error loading script: ${err.message}`));\n",
       "    } else if (typeof vegaEmbed === \"function\") {\n",
       "      displayChart(vegaEmbed);\n",
       "    } else {\n",
       "      loadScript(\"vega\")\n",
       "        .then(() => loadScript(\"vega-lite\"))\n",
       "        .then(() => loadScript(\"vega-embed\"))\n",
       "        .catch(showError)\n",
       "        .then(() => displayChart(vegaEmbed));\n",
       "    }\n",
       "  })({\"config\": {\"view\": {\"continuousWidth\": 400, \"continuousHeight\": 300}}, \"layer\": [{\"mark\": {\"type\": \"line\", \"fill\": null, \"opacity\": 0.5, \"size\": 3}, \"encoding\": {\"color\": {\"type\": \"nominal\", \"field\": \"mouse_code\"}, \"x\": {\"type\": \"ordinal\", \"field\": \"neuron\"}, \"y\": {\"type\": \"quantitative\", \"field\": \"isi diff\", \"scale\": {\"zero\": false}}}}, {\"mark\": {\"type\": \"boxplot\", \"color\": \"black\", \"opacity\": 0.3, \"size\": 12}, \"encoding\": {\"x\": {\"type\": \"ordinal\", \"field\": \"neuron\"}, \"y\": {\"type\": \"quantitative\", \"field\": \"isi diff\", \"scale\": {\"zero\": false}}}}], \"data\": {\"name\": \"data-66b2408256ce7d8f6361875b7772be81\"}, \"$schema\": \"https://vega.github.io/schema/vega-lite/v4.8.1.json\", \"datasets\": {\"data-66b2408256ce7d8f6361875b7772be81\": [{\"neuron\": 0.0, \"mouse_code\": 0.0, \"neuron_code\": 0.0, \"i_trial\": 0.0, \"log_firing_rate\": 0.39282234635478863, \"Firing rate\": 79.0782525078124, \"firing_rate\": 79.0782525078124, \"i_spike\": 2.0, \"isi diff\": -0.006175162441197049, \"log_isi\": -0.025368076830198483, \"isi\": null, \"Bayes condition CI0\": null, \"Bayes condition CI1\": null, \"Bayes condition mean\": null}, {\"neuron\": 0.0, \"mouse_code\": 1.0, \"neuron_code\": 0.0, \"i_trial\": 0.0, \"log_firing_rate\": 0.3001541638131733, \"Firing rate\": 127.40211883722978, \"firing_rate\": 127.40211883722978, \"i_spike\": 5.0, \"isi diff\": -0.005182531406412019, \"log_isi\": -0.03531768500235022, \"isi\": null, \"Bayes condition CI0\": null, \"Bayes condition CI1\": null, \"Bayes condition mean\": null}, {\"neuron\": 0.0, \"mouse_code\": 2.0, \"neuron_code\": 0.0, \"i_trial\": 0.0, \"log_firing_rate\": -0.06244836571271284, \"Firing rate\": -10.034274839891978, \"firing_rate\": -10.034274839891978, \"i_spike\": 8.0, \"isi diff\": -0.01481771872908011, \"log_isi\": -0.07841372369272603, \"isi\": null, \"Bayes condition CI0\": null, \"Bayes condition CI1\": null, \"Bayes condition mean\": null}, {\"neuron\": 0.0, \"mouse_code\": 3.0, \"neuron_code\": 0.0, \"i_trial\": 0.0, \"log_firing_rate\": -0.07579546223881062, \"Firing rate\": -15.840626648314284, \"firing_rate\": -15.840626648314284, \"i_spike\": 11.0, \"isi diff\": -0.017895089773707892, \"log_isi\": -0.10113843749984097, \"isi\": null, \"Bayes condition CI0\": null, \"Bayes condition CI1\": null, \"Bayes condition mean\": null}, {\"neuron\": 1.0, \"mouse_code\": 0.0, \"neuron_code\": 0.0, \"i_trial\": 0.0, \"log_firing_rate\": 0.020359016302384347, \"Firing rate\": 20.280378701026308, \"firing_rate\": 20.280378701026308, \"i_spike\": 0.5, \"isi diff\": -0.0011336776703381457, \"log_isi\": -0.005091082143363623, \"isi\": null, \"Bayes condition CI0\": null, \"Bayes condition CI1\": null, \"Bayes condition mean\": null}, {\"neuron\": 1.0, \"mouse_code\": 1.0, \"neuron_code\": 0.0, \"i_trial\": 0.0, \"log_firing_rate\": -0.08729215843710758, \"Firing rate\": -21.317266600830912, \"firing_rate\": -21.317266600830912, \"i_spike\": 4.5, \"isi diff\": -0.006835070134613097, \"log_isi\": -0.042202572166494035, \"isi\": null, \"Bayes condition CI0\": null, \"Bayes condition CI1\": null, \"Bayes condition mean\": null}, {\"neuron\": 1.0, \"mouse_code\": 2.0, \"neuron_code\": 0.0, \"i_trial\": 0.0, \"log_firing_rate\": -0.3219716900718579, \"Firing rate\": -92.09515906367257, \"firing_rate\": -92.09515906367257, \"i_spike\": 5.75, \"isi diff\": -0.005904199422922071, \"log_isi\": -0.0430798332337492, \"isi\": null, \"Bayes condition CI0\": null, \"Bayes condition CI1\": null, \"Bayes condition mean\": null}, {\"neuron\": 1.0, \"mouse_code\": 3.0, \"neuron_code\": 0.0, \"i_trial\": 0.0, \"log_firing_rate\": -0.08782533224044142, \"Firing rate\": -64.98778353598658, \"firing_rate\": -64.98778353598658, \"i_spike\": 10.25, \"isi diff\": -0.01222804904849742, \"log_isi\": -0.0813527147255324, \"isi\": null, \"Bayes condition CI0\": null, \"Bayes condition CI1\": null, \"Bayes condition mean\": null}, {\"neuron\": 2.0, \"mouse_code\": 0.0, \"neuron_code\": 0.0, \"i_trial\": 0.0, \"log_firing_rate\": 0.010727259556613244, \"Firing rate\": -2.5116700158282583, \"firing_rate\": -2.5116700158282583, \"i_spike\": -2.5, \"isi diff\": 0.0037795234746334505, \"log_isi\": 0.024951605187014447, \"isi\": null, \"Bayes condition CI0\": null, \"Bayes condition CI1\": null, \"Bayes condition mean\": null}, {\"neuron\": 2.0, \"mouse_code\": 1.0, \"neuron_code\": 0.0, \"i_trial\": 0.0, \"log_firing_rate\": 0.00337702471151502, \"Firing rate\": 3.719140920765369, \"firing_rate\": 3.719140920765369, \"i_spike\": 18.25, \"isi diff\": -0.02097342230976544, \"log_isi\": -0.13707464700527439, \"isi\": null, \"Bayes condition CI0\": null, \"Bayes condition CI1\": null, \"Bayes condition mean\": null}, {\"neuron\": 2.0, \"mouse_code\": 2.0, \"neuron_code\": 0.0, \"i_trial\": 0.0, \"log_firing_rate\": -0.7018705081762762, \"Firing rate\": -1026.0629435195312, \"firing_rate\": -1026.0629435195312, \"i_spike\": 4.25, \"isi diff\": -0.0021748517956385535, \"log_isi\": -0.018814043811769432, \"isi\": null, \"Bayes condition CI0\": null, \"Bayes condition CI1\": null, \"Bayes condition mean\": null}, {\"neuron\": 2.0, \"mouse_code\": 3.0, \"neuron_code\": 0.0, \"i_trial\": 0.0, \"log_firing_rate\": -0.006579032242478355, \"Firing rate\": 0.2019203686178912, \"firing_rate\": 0.2019203686178912, \"i_spike\": 9.5, \"isi diff\": -0.00869141238992932, \"log_isi\": -0.07104653727953703, \"isi\": null, \"Bayes condition CI0\": null, \"Bayes condition CI1\": null, \"Bayes condition mean\": null}, {\"neuron\": 3.0, \"mouse_code\": 0.0, \"neuron_code\": 0.0, \"i_trial\": 0.0, \"log_firing_rate\": 0.396446478254334, \"Firing rate\": 377.30294791813253, \"firing_rate\": 377.30294791813253, \"i_spike\": 7.25, \"isi diff\": -0.004787459755181446, \"log_isi\": -0.04603288174488762, \"isi\": null, \"Bayes condition CI0\": null, \"Bayes condition CI1\": null, \"Bayes condition mean\": null}, {\"neuron\": 3.0, \"mouse_code\": 1.0, \"neuron_code\": 0.0, \"i_trial\": 0.0, \"log_firing_rate\": -0.15680025961312438, \"Firing rate\": -37.94081259811844, \"firing_rate\": -37.94081259811844, \"i_spike\": 9.75, \"isi diff\": -0.007623893288029961, \"log_isi\": -0.06240168000070989, \"isi\": null, \"Bayes condition CI0\": null, \"Bayes condition CI1\": null, \"Bayes condition mean\": null}, {\"neuron\": 3.0, \"mouse_code\": 2.0, \"neuron_code\": 0.0, \"i_trial\": 0.0, \"log_firing_rate\": -0.029386683168485916, \"Firing rate\": -3.3099613157107797, \"firing_rate\": -3.3099613157107797, \"i_spike\": 4.25, \"isi diff\": -0.0030989074770484404, \"log_isi\": -0.02548681408253306, \"isi\": null, \"Bayes condition CI0\": null, \"Bayes condition CI1\": null, \"Bayes condition mean\": null}, {\"neuron\": 3.0, \"mouse_code\": 3.0, \"neuron_code\": 0.0, \"i_trial\": 0.0, \"log_firing_rate\": 0.2823721183699399, \"Firing rate\": 82.39335346693389, \"firing_rate\": 82.39335346693389, \"i_spike\": 25.0, \"isi diff\": -0.018339252335342657, \"log_isi\": -0.15886540955106954, \"isi\": null, \"Bayes condition CI0\": null, \"Bayes condition CI1\": null, \"Bayes condition mean\": null}, {\"neuron\": 4.0, \"mouse_code\": 0.0, \"neuron_code\": 0.0, \"i_trial\": 0.0, \"log_firing_rate\": -0.41189549720270247, \"Firing rate\": -782.7947367789906, \"firing_rate\": -782.7947367789906, \"i_spike\": 1.25, \"isi diff\": -0.00044017641886017617, \"log_isi\": -0.00518841302857842, \"isi\": null, \"Bayes condition CI0\": null, \"Bayes condition CI1\": null, \"Bayes condition mean\": null}, {\"neuron\": 4.0, \"mouse_code\": 1.0, \"neuron_code\": 0.0, \"i_trial\": 0.0, \"log_firing_rate\": 0.08588066384638537, \"Firing rate\": 18.141219786007568, \"firing_rate\": 18.141219786007568, \"i_spike\": 13.25, \"isi diff\": -0.007434802259318571, \"log_isi\": -0.07567414501542191, \"isi\": null, \"Bayes condition CI0\": null, \"Bayes condition CI1\": null, \"Bayes condition mean\": null}, {\"neuron\": 4.0, \"mouse_code\": 2.0, \"neuron_code\": 0.0, \"i_trial\": 0.0, \"log_firing_rate\": 0.2389696462176829, \"Firing rate\": 134.28573814175894, \"firing_rate\": 134.28573814175894, \"i_spike\": 8.25, \"isi diff\": -0.004444459492453458, \"log_isi\": -0.0453503111835718, \"isi\": null, \"Bayes condition CI0\": null, \"Bayes condition CI1\": null, \"Bayes condition mean\": null}, {\"neuron\": 4.0, \"mouse_code\": 3.0, \"neuron_code\": 0.0, \"i_trial\": 0.0, \"log_firing_rate\": 0.008190989870977772, \"Firing rate\": 2.0763809433624374, \"firing_rate\": 2.0763809433624374, \"i_spike\": 15.25, \"isi diff\": -0.009260344016842906, \"log_isi\": -0.08578510365857772, \"isi\": null, \"Bayes condition CI0\": null, \"Bayes condition CI1\": null, \"Bayes condition mean\": null}, {\"neuron\": 5.0, \"mouse_code\": 0.0, \"neuron_code\": 0.0, \"i_trial\": 0.0, \"log_firing_rate\": -0.06625278491735997, \"Firing rate\": -31.52365260460155, \"firing_rate\": -31.52365260460155, \"i_spike\": -7.0, \"isi diff\": 0.001980011661328142, \"log_isi\": 0.02657748101889057, \"isi\": null, \"Bayes condition CI0\": null, \"Bayes condition CI1\": null, \"Bayes condition mean\": null}, {\"neuron\": 5.0, \"mouse_code\": 1.0, \"neuron_code\": 0.0, \"i_trial\": 0.0, \"log_firing_rate\": -0.5761380281183435, \"Firing rate\": -1060.0319002225895, \"firing_rate\": -1060.0319002225895, \"i_spike\": -5.25, \"isi diff\": 0.001500380619536612, \"log_isi\": 0.018229251986333184, \"isi\": null, \"Bayes condition CI0\": null, \"Bayes condition CI1\": null, \"Bayes condition mean\": null}, {\"neuron\": 5.0, \"mouse_code\": 2.0, \"neuron_code\": 0.0, \"i_trial\": 0.0, \"log_firing_rate\": -0.19065549509676982, \"Firing rate\": -81.9260834224117, \"firing_rate\": -81.9260834224117, \"i_spike\": -1.25, \"isi diff\": -0.00025807813152727704, \"log_isi\": 0.0038021256575635487, \"isi\": null, \"Bayes condition CI0\": null, \"Bayes condition CI1\": null, \"Bayes condition mean\": null}, {\"neuron\": 5.0, \"mouse_code\": 3.0, \"neuron_code\": 0.0, \"i_trial\": 0.0, \"log_firing_rate\": 0.03136185063428121, \"Firing rate\": 6.956313081526503, \"firing_rate\": 6.956313081526503, \"i_spike\": -2.0, \"isi diff\": -0.00028670875098820575, \"log_isi\": -0.003132865782158545, \"isi\": null, \"Bayes condition CI0\": null, \"Bayes condition CI1\": null, \"Bayes condition mean\": null}, {\"neuron\": 6.0, \"mouse_code\": 0.0, \"neuron_code\": 0.0, \"i_trial\": 0.0, \"log_firing_rate\": -0.3031321354217673, \"Firing rate\": -238.58508654935764, \"firing_rate\": -238.58508654935764, \"i_spike\": -0.5, \"isi diff\": 0.0003105101239289955, \"log_isi\": 0.005210371474963615, \"isi\": null, \"Bayes condition CI0\": null, \"Bayes condition CI1\": null, \"Bayes condition mean\": null}, {\"neuron\": 6.0, \"mouse_code\": 1.0, \"neuron_code\": 0.0, \"i_trial\": 0.0, \"log_firing_rate\": 0.4091731696081671, \"Firing rate\": 497.96252045269796, \"firing_rate\": 497.96252045269796, \"i_spike\": 3.75, \"isi diff\": -0.0012641054893224313, \"log_isi\": -0.016090462632772473, \"isi\": null, \"Bayes condition CI0\": null, \"Bayes condition CI1\": null, \"Bayes condition mean\": null}, {\"neuron\": 6.0, \"mouse_code\": 2.0, \"neuron_code\": 0.0, \"i_trial\": 0.0, \"log_firing_rate\": 0.11475323980096475, \"Firing rate\": 185.19179938292558, \"firing_rate\": 185.19179938292558, \"i_spike\": 11.0, \"isi diff\": -0.0025468900368386983, \"log_isi\": -0.038206418188496905, \"isi\": null, \"Bayes condition CI0\": null, \"Bayes condition CI1\": null, \"Bayes condition mean\": null}, {\"neuron\": 6.0, \"mouse_code\": 3.0, \"neuron_code\": 0.0, \"i_trial\": 0.0, \"log_firing_rate\": 0.07168645714597632, \"Firing rate\": 30.431526873093873, \"firing_rate\": 30.431526873093873, \"i_spike\": -2.75, \"isi diff\": 0.0009204674755751777, \"log_isi\": 0.012589551965524803, \"isi\": null, \"Bayes condition CI0\": null, \"Bayes condition CI1\": null, \"Bayes condition mean\": null}, {\"neuron\": 7.0, \"mouse_code\": 0.0, \"neuron_code\": 0.0, \"i_trial\": 0.0, \"log_firing_rate\": 0.2571147590187386, \"Firing rate\": 220.37207586494716, \"firing_rate\": 220.37207586494716, \"i_spike\": 9.0, \"isi diff\": -0.0016145487484449557, \"log_isi\": -0.028863076383282227, \"isi\": null, \"Bayes condition CI0\": null, \"Bayes condition CI1\": null, \"Bayes condition mean\": null}, {\"neuron\": 7.0, \"mouse_code\": 1.0, \"neuron_code\": 0.0, \"i_trial\": 0.0, \"log_firing_rate\": 0.29995426916155576, \"Firing rate\": 211.15795363382838, \"firing_rate\": 211.15795363382838, \"i_spike\": -15.5, \"isi diff\": 0.002304971992019126, \"log_isi\": 0.04485774986052293, \"isi\": null, \"Bayes condition CI0\": null, \"Bayes condition CI1\": null, \"Bayes condition mean\": null}, {\"neuron\": 7.0, \"mouse_code\": 2.0, \"neuron_code\": 0.0, \"i_trial\": 0.0, \"log_firing_rate\": -0.13288069860359508, \"Firing rate\": -98.78999716382134, \"firing_rate\": -98.78999716382134, \"i_spike\": 16.25, \"isi diff\": -0.0024551554339812126, \"log_isi\": -0.04633094065839938, \"isi\": null, \"Bayes condition CI0\": null, \"Bayes condition CI1\": null, \"Bayes condition mean\": null}, {\"neuron\": 7.0, \"mouse_code\": 3.0, \"neuron_code\": 0.0, \"i_trial\": 0.0, \"log_firing_rate\": -0.1675700237614688, \"Firing rate\": -99.9520892070108, \"firing_rate\": -99.9520892070108, \"i_spike\": 10.25, \"isi diff\": -0.001870234099461767, \"log_isi\": -0.03392687663910432, \"isi\": null, \"Bayes condition CI0\": null, \"Bayes condition CI1\": null, \"Bayes condition mean\": null}, {\"neuron\": 0.0, \"mouse_code\": null, \"neuron_code\": 0.0, \"i_trial\": 0.5, \"log_firing_rate\": 1.6314863806287385, \"Firing rate\": 43.739210601748624, \"firing_rate\": 43.739210601748624, \"i_spike\": 34.5, \"isi diff\": null, \"log_isi\": -0.9963835488159294, \"isi\": 0.10141994185747258, \"Bayes condition CI0\": 0.17450889945030212, \"Bayes condition CI1\": 1.0299735069274902, \"Bayes condition mean\": 0.48958316445350647}, {\"neuron\": 1.0, \"mouse_code\": null, \"neuron_code\": 4.0, \"i_trial\": 0.5, \"log_firing_rate\": 2.181846863601293, \"Firing rate\": 219.41690707070094, \"firing_rate\": 219.41690707070094, \"i_spike\": 54.5, \"isi diff\": null, \"log_isi\": -1.1921105778525614, \"isi\": 0.06464966275368048, \"Bayes condition CI0\": 0.09330172091722488, \"Bayes condition CI1\": 0.6397497057914734, \"Bayes condition mean\": 0.30400463938713074}, {\"neuron\": 2.0, \"mouse_code\": null, \"neuron_code\": 8.0, \"i_trial\": 0.5, \"log_firing_rate\": 2.088268871826483, \"Firing rate\": 129.17812759868985, \"firing_rate\": 129.17812759868985, \"i_spike\": 57.5, \"isi diff\": null, \"log_isi\": -1.2207641578113386, \"isi\": 0.06021073753787137, \"Bayes condition CI0\": 0.02100536972284317, \"Bayes condition CI1\": 0.4752097725868225, \"Bayes condition mean\": 0.18382802605628967}, {\"neuron\": 3.0, \"mouse_code\": null, \"neuron_code\": 12.0, \"i_trial\": 0.5, \"log_firing_rate\": 2.1103301710740325, \"Firing rate\": 131.19508732108173, \"firing_rate\": 131.19508732108173, \"i_spike\": 63.75, \"isi diff\": null, \"log_isi\": -1.2580400491744217, \"isi\": 0.05524151113355147, \"Bayes condition CI0\": -0.23360204696655273, \"Bayes condition CI1\": 0.12578490376472473, \"Bayes condition mean\": -0.0952192097902298}, {\"neuron\": 4.0, \"mouse_code\": null, \"neuron_code\": 16.0, \"i_trial\": 0.5, \"log_firing_rate\": 2.6696458643579315, \"Firing rate\": 966.6043246148391, \"firing_rate\": 966.6043246148391, \"i_spike\": 82.0, \"isi diff\": null, \"log_isi\": -1.372898451562536, \"isi\": 0.042393119452807035, \"Bayes condition CI0\": -0.4967103898525238, \"Bayes condition CI1\": -0.0173715278506279, \"Bayes condition mean\": -0.2015598714351654}, {\"neuron\": 5.0, \"mouse_code\": null, \"neuron_code\": 20.0, \"i_trial\": 0.5, \"log_firing_rate\": 2.3519059192158807, \"Firing rate\": 238.32750887086817, \"firing_rate\": 238.32750887086817, \"i_spike\": 101.5, \"isi diff\": null, \"log_isi\": -1.4598627180560966, \"isi\": 0.034894419902408914, \"Bayes condition CI0\": -0.5531193017959595, \"Bayes condition CI1\": -0.09554050117731094, \"Bayes condition mean\": -0.31059232354164124}, {\"neuron\": 6.0, \"mouse_code\": null, \"neuron_code\": 24.0, \"i_trial\": 0.5, \"log_firing_rate\": 2.731880039309448, \"Firing rate\": 540.8273748657612, \"firing_rate\": 540.8273748657612, \"i_spike\": 130.0, \"isi diff\": null, \"log_isi\": -1.5739582498319433, \"isi\": 0.02668739851360341, \"Bayes condition CI0\": -0.9410896897315979, \"Bayes condition CI1\": -0.28946104645729065, \"Bayes condition mean\": -0.4735783338546753}, {\"neuron\": 7.0, \"mouse_code\": null, \"neuron_code\": 28.0, \"i_trial\": 0.5, \"log_firing_rate\": 2.3283156252366037, \"Firing rate\": 218.14550347100132, \"firing_rate\": 218.14550347100132, \"i_spike\": 142.25, \"isi diff\": null, \"log_isi\": -1.6090769701540948, \"isi\": 0.024636619425416176, \"Bayes condition CI0\": -0.9605656862258911, \"Bayes condition CI1\": -0.39041417837142944, \"Bayes condition mean\": -0.6071639060974121}]}}, {\"mode\": \"vega-lite\"});\n",
       "</script>"
      ],
      "text/plain": [
       "alt.LayerChart(...)"
      ]
     },
     "execution_count": 7,
     "metadata": {},
     "output_type": "execute_result"
    }
   ],
   "source": [
    "#BayesWindow.plot_posteriors_slopes(df_both, y=f'{y} diff', x='neuron',color='mouse_code',title=y,hold_for_facet=False,add_box=False)\n",
    "\n",
    "\n",
    "chart_d = visualization.plot_data(df=df_both,x='neuron', y=f'{y} diff',color='mouse_code')\n",
    "chart_d"
   ]
  },
  {
   "cell_type": "code",
   "execution_count": 8,
   "metadata": {
    "scrolled": false
   },
   "outputs": [
    {
     "data": {
      "text/html": [
       "\n",
       "<div id=\"altair-viz-c0f251ecaf7e4d93a17fd86bfe4fab24\"></div>\n",
       "<script type=\"text/javascript\">\n",
       "  (function(spec, embedOpt){\n",
       "    let outputDiv = document.currentScript.previousElementSibling;\n",
       "    if (outputDiv.id !== \"altair-viz-c0f251ecaf7e4d93a17fd86bfe4fab24\") {\n",
       "      outputDiv = document.getElementById(\"altair-viz-c0f251ecaf7e4d93a17fd86bfe4fab24\");\n",
       "    }\n",
       "    const paths = {\n",
       "      \"vega\": \"https://cdn.jsdelivr.net/npm//vega@5?noext\",\n",
       "      \"vega-lib\": \"https://cdn.jsdelivr.net/npm//vega-lib?noext\",\n",
       "      \"vega-lite\": \"https://cdn.jsdelivr.net/npm//vega-lite@4.8.1?noext\",\n",
       "      \"vega-embed\": \"https://cdn.jsdelivr.net/npm//vega-embed@6?noext\",\n",
       "    };\n",
       "\n",
       "    function loadScript(lib) {\n",
       "      return new Promise(function(resolve, reject) {\n",
       "        var s = document.createElement('script');\n",
       "        s.src = paths[lib];\n",
       "        s.async = true;\n",
       "        s.onload = () => resolve(paths[lib]);\n",
       "        s.onerror = () => reject(`Error loading script: ${paths[lib]}`);\n",
       "        document.getElementsByTagName(\"head\")[0].appendChild(s);\n",
       "      });\n",
       "    }\n",
       "\n",
       "    function showError(err) {\n",
       "      outputDiv.innerHTML = `<div class=\"error\" style=\"color:red;\">${err}</div>`;\n",
       "      throw err;\n",
       "    }\n",
       "\n",
       "    function displayChart(vegaEmbed) {\n",
       "      vegaEmbed(outputDiv, spec, embedOpt)\n",
       "        .catch(err => showError(`Javascript Error: ${err.message}<br>This usually means there's a typo in your chart specification. See the javascript console for the full traceback.`));\n",
       "    }\n",
       "\n",
       "    if(typeof define === \"function\" && define.amd) {\n",
       "      requirejs.config({paths});\n",
       "      require([\"vega-embed\"], displayChart, err => showError(`Error loading script: ${err.message}`));\n",
       "    } else if (typeof vegaEmbed === \"function\") {\n",
       "      displayChart(vegaEmbed);\n",
       "    } else {\n",
       "      loadScript(\"vega\")\n",
       "        .then(() => loadScript(\"vega-lite\"))\n",
       "        .then(() => loadScript(\"vega-embed\"))\n",
       "        .catch(showError)\n",
       "        .then(() => displayChart(vegaEmbed));\n",
       "    }\n",
       "  })({\"config\": {\"view\": {\"continuousWidth\": 400, \"continuousHeight\": 300}}, \"layer\": [{\"mark\": {\"type\": \"line\", \"color\": \"black\", \"point\": true}, \"encoding\": {\"x\": {\"type\": \"ordinal\", \"field\": \"neuron\"}, \"y\": {\"type\": \"quantitative\", \"field\": \"Bayes condition mean\", \"impute\": {\"value\": \"value\"}}}}, {\"mark\": {\"type\": \"rule\", \"color\": \"black\", \"opacity\": 0.4, \"size\": 0.1}, \"encoding\": {\"y\": {\"type\": \"quantitative\", \"field\": \"zero\"}}}, {\"mark\": \"rule\", \"encoding\": {\"x\": {\"type\": \"ordinal\", \"field\": \"neuron\"}, \"y\": {\"type\": \"quantitative\", \"field\": \"Bayes condition CI0\", \"scale\": {\"domain\": [-0.9605656862258911, 1.0299735069274902], \"zero\": false}, \"title\": \"\\u0394 d_isi\"}, \"y2\": {\"field\": \"Bayes condition CI1\"}}}], \"data\": {\"name\": \"data-78a3a6a28a25f4ab50ee77d383b8af43\"}, \"$schema\": \"https://vega.github.io/schema/vega-lite/v4.8.1.json\", \"datasets\": {\"data-78a3a6a28a25f4ab50ee77d383b8af43\": [{\"neuron\": 0.0, \"mouse_code\": 0.0, \"neuron_code\": 0.0, \"i_trial\": 0.0, \"log_firing_rate\": 0.39282234635478863, \"Firing rate\": 79.0782525078124, \"firing_rate\": 79.0782525078124, \"i_spike\": 2.0, \"isi diff\": -0.006175162441197049, \"log_isi\": -0.025368076830198483, \"isi\": null, \"Bayes condition CI0\": null, \"Bayes condition CI1\": null, \"Bayes condition mean\": null, \"zero\": 0}, {\"neuron\": 0.0, \"mouse_code\": 1.0, \"neuron_code\": 0.0, \"i_trial\": 0.0, \"log_firing_rate\": 0.3001541638131733, \"Firing rate\": 127.40211883722978, \"firing_rate\": 127.40211883722978, \"i_spike\": 5.0, \"isi diff\": -0.005182531406412019, \"log_isi\": -0.03531768500235022, \"isi\": null, \"Bayes condition CI0\": null, \"Bayes condition CI1\": null, \"Bayes condition mean\": null, \"zero\": 0}, {\"neuron\": 0.0, \"mouse_code\": 2.0, \"neuron_code\": 0.0, \"i_trial\": 0.0, \"log_firing_rate\": -0.06244836571271284, \"Firing rate\": -10.034274839891978, \"firing_rate\": -10.034274839891978, \"i_spike\": 8.0, \"isi diff\": -0.01481771872908011, \"log_isi\": -0.07841372369272603, \"isi\": null, \"Bayes condition CI0\": null, \"Bayes condition CI1\": null, \"Bayes condition mean\": null, \"zero\": 0}, {\"neuron\": 0.0, \"mouse_code\": 3.0, \"neuron_code\": 0.0, \"i_trial\": 0.0, \"log_firing_rate\": -0.07579546223881062, \"Firing rate\": -15.840626648314284, \"firing_rate\": -15.840626648314284, \"i_spike\": 11.0, \"isi diff\": -0.017895089773707892, \"log_isi\": -0.10113843749984097, \"isi\": null, \"Bayes condition CI0\": null, \"Bayes condition CI1\": null, \"Bayes condition mean\": null, \"zero\": 0}, {\"neuron\": 1.0, \"mouse_code\": 0.0, \"neuron_code\": 0.0, \"i_trial\": 0.0, \"log_firing_rate\": 0.020359016302384347, \"Firing rate\": 20.280378701026308, \"firing_rate\": 20.280378701026308, \"i_spike\": 0.5, \"isi diff\": -0.0011336776703381457, \"log_isi\": -0.005091082143363623, \"isi\": null, \"Bayes condition CI0\": null, \"Bayes condition CI1\": null, \"Bayes condition mean\": null, \"zero\": 0}, {\"neuron\": 1.0, \"mouse_code\": 1.0, \"neuron_code\": 0.0, \"i_trial\": 0.0, \"log_firing_rate\": -0.08729215843710758, \"Firing rate\": -21.317266600830912, \"firing_rate\": -21.317266600830912, \"i_spike\": 4.5, \"isi diff\": -0.006835070134613097, \"log_isi\": -0.042202572166494035, \"isi\": null, \"Bayes condition CI0\": null, \"Bayes condition CI1\": null, \"Bayes condition mean\": null, \"zero\": 0}, {\"neuron\": 1.0, \"mouse_code\": 2.0, \"neuron_code\": 0.0, \"i_trial\": 0.0, \"log_firing_rate\": -0.3219716900718579, \"Firing rate\": -92.09515906367257, \"firing_rate\": -92.09515906367257, \"i_spike\": 5.75, \"isi diff\": -0.005904199422922071, \"log_isi\": -0.0430798332337492, \"isi\": null, \"Bayes condition CI0\": null, \"Bayes condition CI1\": null, \"Bayes condition mean\": null, \"zero\": 0}, {\"neuron\": 1.0, \"mouse_code\": 3.0, \"neuron_code\": 0.0, \"i_trial\": 0.0, \"log_firing_rate\": -0.08782533224044142, \"Firing rate\": -64.98778353598658, \"firing_rate\": -64.98778353598658, \"i_spike\": 10.25, \"isi diff\": -0.01222804904849742, \"log_isi\": -0.0813527147255324, \"isi\": null, \"Bayes condition CI0\": null, \"Bayes condition CI1\": null, \"Bayes condition mean\": null, \"zero\": 0}, {\"neuron\": 2.0, \"mouse_code\": 0.0, \"neuron_code\": 0.0, \"i_trial\": 0.0, \"log_firing_rate\": 0.010727259556613244, \"Firing rate\": -2.5116700158282583, \"firing_rate\": -2.5116700158282583, \"i_spike\": -2.5, \"isi diff\": 0.0037795234746334505, \"log_isi\": 0.024951605187014447, \"isi\": null, \"Bayes condition CI0\": null, \"Bayes condition CI1\": null, \"Bayes condition mean\": null, \"zero\": 0}, {\"neuron\": 2.0, \"mouse_code\": 1.0, \"neuron_code\": 0.0, \"i_trial\": 0.0, \"log_firing_rate\": 0.00337702471151502, \"Firing rate\": 3.719140920765369, \"firing_rate\": 3.719140920765369, \"i_spike\": 18.25, \"isi diff\": -0.02097342230976544, \"log_isi\": -0.13707464700527439, \"isi\": null, \"Bayes condition CI0\": null, \"Bayes condition CI1\": null, \"Bayes condition mean\": null, \"zero\": 0}, {\"neuron\": 2.0, \"mouse_code\": 2.0, \"neuron_code\": 0.0, \"i_trial\": 0.0, \"log_firing_rate\": -0.7018705081762762, \"Firing rate\": -1026.0629435195312, \"firing_rate\": -1026.0629435195312, \"i_spike\": 4.25, \"isi diff\": -0.0021748517956385535, \"log_isi\": -0.018814043811769432, \"isi\": null, \"Bayes condition CI0\": null, \"Bayes condition CI1\": null, \"Bayes condition mean\": null, \"zero\": 0}, {\"neuron\": 2.0, \"mouse_code\": 3.0, \"neuron_code\": 0.0, \"i_trial\": 0.0, \"log_firing_rate\": -0.006579032242478355, \"Firing rate\": 0.2019203686178912, \"firing_rate\": 0.2019203686178912, \"i_spike\": 9.5, \"isi diff\": -0.00869141238992932, \"log_isi\": -0.07104653727953703, \"isi\": null, \"Bayes condition CI0\": null, \"Bayes condition CI1\": null, \"Bayes condition mean\": null, \"zero\": 0}, {\"neuron\": 3.0, \"mouse_code\": 0.0, \"neuron_code\": 0.0, \"i_trial\": 0.0, \"log_firing_rate\": 0.396446478254334, \"Firing rate\": 377.30294791813253, \"firing_rate\": 377.30294791813253, \"i_spike\": 7.25, \"isi diff\": -0.004787459755181446, \"log_isi\": -0.04603288174488762, \"isi\": null, \"Bayes condition CI0\": null, \"Bayes condition CI1\": null, \"Bayes condition mean\": null, \"zero\": 0}, {\"neuron\": 3.0, \"mouse_code\": 1.0, \"neuron_code\": 0.0, \"i_trial\": 0.0, \"log_firing_rate\": -0.15680025961312438, \"Firing rate\": -37.94081259811844, \"firing_rate\": -37.94081259811844, \"i_spike\": 9.75, \"isi diff\": -0.007623893288029961, \"log_isi\": -0.06240168000070989, \"isi\": null, \"Bayes condition CI0\": null, \"Bayes condition CI1\": null, \"Bayes condition mean\": null, \"zero\": 0}, {\"neuron\": 3.0, \"mouse_code\": 2.0, \"neuron_code\": 0.0, \"i_trial\": 0.0, \"log_firing_rate\": -0.029386683168485916, \"Firing rate\": -3.3099613157107797, \"firing_rate\": -3.3099613157107797, \"i_spike\": 4.25, \"isi diff\": -0.0030989074770484404, \"log_isi\": -0.02548681408253306, \"isi\": null, \"Bayes condition CI0\": null, \"Bayes condition CI1\": null, \"Bayes condition mean\": null, \"zero\": 0}, {\"neuron\": 3.0, \"mouse_code\": 3.0, \"neuron_code\": 0.0, \"i_trial\": 0.0, \"log_firing_rate\": 0.2823721183699399, \"Firing rate\": 82.39335346693389, \"firing_rate\": 82.39335346693389, \"i_spike\": 25.0, \"isi diff\": -0.018339252335342657, \"log_isi\": -0.15886540955106954, \"isi\": null, \"Bayes condition CI0\": null, \"Bayes condition CI1\": null, \"Bayes condition mean\": null, \"zero\": 0}, {\"neuron\": 4.0, \"mouse_code\": 0.0, \"neuron_code\": 0.0, \"i_trial\": 0.0, \"log_firing_rate\": -0.41189549720270247, \"Firing rate\": -782.7947367789906, \"firing_rate\": -782.7947367789906, \"i_spike\": 1.25, \"isi diff\": -0.00044017641886017617, \"log_isi\": -0.00518841302857842, \"isi\": null, \"Bayes condition CI0\": null, \"Bayes condition CI1\": null, \"Bayes condition mean\": null, \"zero\": 0}, {\"neuron\": 4.0, \"mouse_code\": 1.0, \"neuron_code\": 0.0, \"i_trial\": 0.0, \"log_firing_rate\": 0.08588066384638537, \"Firing rate\": 18.141219786007568, \"firing_rate\": 18.141219786007568, \"i_spike\": 13.25, \"isi diff\": -0.007434802259318571, \"log_isi\": -0.07567414501542191, \"isi\": null, \"Bayes condition CI0\": null, \"Bayes condition CI1\": null, \"Bayes condition mean\": null, \"zero\": 0}, {\"neuron\": 4.0, \"mouse_code\": 2.0, \"neuron_code\": 0.0, \"i_trial\": 0.0, \"log_firing_rate\": 0.2389696462176829, \"Firing rate\": 134.28573814175894, \"firing_rate\": 134.28573814175894, \"i_spike\": 8.25, \"isi diff\": -0.004444459492453458, \"log_isi\": -0.0453503111835718, \"isi\": null, \"Bayes condition CI0\": null, \"Bayes condition CI1\": null, \"Bayes condition mean\": null, \"zero\": 0}, {\"neuron\": 4.0, \"mouse_code\": 3.0, \"neuron_code\": 0.0, \"i_trial\": 0.0, \"log_firing_rate\": 0.008190989870977772, \"Firing rate\": 2.0763809433624374, \"firing_rate\": 2.0763809433624374, \"i_spike\": 15.25, \"isi diff\": -0.009260344016842906, \"log_isi\": -0.08578510365857772, \"isi\": null, \"Bayes condition CI0\": null, \"Bayes condition CI1\": null, \"Bayes condition mean\": null, \"zero\": 0}, {\"neuron\": 5.0, \"mouse_code\": 0.0, \"neuron_code\": 0.0, \"i_trial\": 0.0, \"log_firing_rate\": -0.06625278491735997, \"Firing rate\": -31.52365260460155, \"firing_rate\": -31.52365260460155, \"i_spike\": -7.0, \"isi diff\": 0.001980011661328142, \"log_isi\": 0.02657748101889057, \"isi\": null, \"Bayes condition CI0\": null, \"Bayes condition CI1\": null, \"Bayes condition mean\": null, \"zero\": 0}, {\"neuron\": 5.0, \"mouse_code\": 1.0, \"neuron_code\": 0.0, \"i_trial\": 0.0, \"log_firing_rate\": -0.5761380281183435, \"Firing rate\": -1060.0319002225895, \"firing_rate\": -1060.0319002225895, \"i_spike\": -5.25, \"isi diff\": 0.001500380619536612, \"log_isi\": 0.018229251986333184, \"isi\": null, \"Bayes condition CI0\": null, \"Bayes condition CI1\": null, \"Bayes condition mean\": null, \"zero\": 0}, {\"neuron\": 5.0, \"mouse_code\": 2.0, \"neuron_code\": 0.0, \"i_trial\": 0.0, \"log_firing_rate\": -0.19065549509676982, \"Firing rate\": -81.9260834224117, \"firing_rate\": -81.9260834224117, \"i_spike\": -1.25, \"isi diff\": -0.00025807813152727704, \"log_isi\": 0.0038021256575635487, \"isi\": null, \"Bayes condition CI0\": null, \"Bayes condition CI1\": null, \"Bayes condition mean\": null, \"zero\": 0}, {\"neuron\": 5.0, \"mouse_code\": 3.0, \"neuron_code\": 0.0, \"i_trial\": 0.0, \"log_firing_rate\": 0.03136185063428121, \"Firing rate\": 6.956313081526503, \"firing_rate\": 6.956313081526503, \"i_spike\": -2.0, \"isi diff\": -0.00028670875098820575, \"log_isi\": -0.003132865782158545, \"isi\": null, \"Bayes condition CI0\": null, \"Bayes condition CI1\": null, \"Bayes condition mean\": null, \"zero\": 0}, {\"neuron\": 6.0, \"mouse_code\": 0.0, \"neuron_code\": 0.0, \"i_trial\": 0.0, \"log_firing_rate\": -0.3031321354217673, \"Firing rate\": -238.58508654935764, \"firing_rate\": -238.58508654935764, \"i_spike\": -0.5, \"isi diff\": 0.0003105101239289955, \"log_isi\": 0.005210371474963615, \"isi\": null, \"Bayes condition CI0\": null, \"Bayes condition CI1\": null, \"Bayes condition mean\": null, \"zero\": 0}, {\"neuron\": 6.0, \"mouse_code\": 1.0, \"neuron_code\": 0.0, \"i_trial\": 0.0, \"log_firing_rate\": 0.4091731696081671, \"Firing rate\": 497.96252045269796, \"firing_rate\": 497.96252045269796, \"i_spike\": 3.75, \"isi diff\": -0.0012641054893224313, \"log_isi\": -0.016090462632772473, \"isi\": null, \"Bayes condition CI0\": null, \"Bayes condition CI1\": null, \"Bayes condition mean\": null, \"zero\": 0}, {\"neuron\": 6.0, \"mouse_code\": 2.0, \"neuron_code\": 0.0, \"i_trial\": 0.0, \"log_firing_rate\": 0.11475323980096475, \"Firing rate\": 185.19179938292558, \"firing_rate\": 185.19179938292558, \"i_spike\": 11.0, \"isi diff\": -0.0025468900368386983, \"log_isi\": -0.038206418188496905, \"isi\": null, \"Bayes condition CI0\": null, \"Bayes condition CI1\": null, \"Bayes condition mean\": null, \"zero\": 0}, {\"neuron\": 6.0, \"mouse_code\": 3.0, \"neuron_code\": 0.0, \"i_trial\": 0.0, \"log_firing_rate\": 0.07168645714597632, \"Firing rate\": 30.431526873093873, \"firing_rate\": 30.431526873093873, \"i_spike\": -2.75, \"isi diff\": 0.0009204674755751777, \"log_isi\": 0.012589551965524803, \"isi\": null, \"Bayes condition CI0\": null, \"Bayes condition CI1\": null, \"Bayes condition mean\": null, \"zero\": 0}, {\"neuron\": 7.0, \"mouse_code\": 0.0, \"neuron_code\": 0.0, \"i_trial\": 0.0, \"log_firing_rate\": 0.2571147590187386, \"Firing rate\": 220.37207586494716, \"firing_rate\": 220.37207586494716, \"i_spike\": 9.0, \"isi diff\": -0.0016145487484449557, \"log_isi\": -0.028863076383282227, \"isi\": null, \"Bayes condition CI0\": null, \"Bayes condition CI1\": null, \"Bayes condition mean\": null, \"zero\": 0}, {\"neuron\": 7.0, \"mouse_code\": 1.0, \"neuron_code\": 0.0, \"i_trial\": 0.0, \"log_firing_rate\": 0.29995426916155576, \"Firing rate\": 211.15795363382838, \"firing_rate\": 211.15795363382838, \"i_spike\": -15.5, \"isi diff\": 0.002304971992019126, \"log_isi\": 0.04485774986052293, \"isi\": null, \"Bayes condition CI0\": null, \"Bayes condition CI1\": null, \"Bayes condition mean\": null, \"zero\": 0}, {\"neuron\": 7.0, \"mouse_code\": 2.0, \"neuron_code\": 0.0, \"i_trial\": 0.0, \"log_firing_rate\": -0.13288069860359508, \"Firing rate\": -98.78999716382134, \"firing_rate\": -98.78999716382134, \"i_spike\": 16.25, \"isi diff\": -0.0024551554339812126, \"log_isi\": -0.04633094065839938, \"isi\": null, \"Bayes condition CI0\": null, \"Bayes condition CI1\": null, \"Bayes condition mean\": null, \"zero\": 0}, {\"neuron\": 7.0, \"mouse_code\": 3.0, \"neuron_code\": 0.0, \"i_trial\": 0.0, \"log_firing_rate\": -0.1675700237614688, \"Firing rate\": -99.9520892070108, \"firing_rate\": -99.9520892070108, \"i_spike\": 10.25, \"isi diff\": -0.001870234099461767, \"log_isi\": -0.03392687663910432, \"isi\": null, \"Bayes condition CI0\": null, \"Bayes condition CI1\": null, \"Bayes condition mean\": null, \"zero\": 0}, {\"neuron\": 0.0, \"mouse_code\": null, \"neuron_code\": 0.0, \"i_trial\": 0.5, \"log_firing_rate\": 1.6314863806287385, \"Firing rate\": 43.739210601748624, \"firing_rate\": 43.739210601748624, \"i_spike\": 34.5, \"isi diff\": null, \"log_isi\": -0.9963835488159294, \"isi\": 0.10141994185747258, \"Bayes condition CI0\": 0.17450889945030212, \"Bayes condition CI1\": 1.0299735069274902, \"Bayes condition mean\": 0.48958316445350647, \"zero\": 0}, {\"neuron\": 1.0, \"mouse_code\": null, \"neuron_code\": 4.0, \"i_trial\": 0.5, \"log_firing_rate\": 2.181846863601293, \"Firing rate\": 219.41690707070094, \"firing_rate\": 219.41690707070094, \"i_spike\": 54.5, \"isi diff\": null, \"log_isi\": -1.1921105778525614, \"isi\": 0.06464966275368048, \"Bayes condition CI0\": 0.09330172091722488, \"Bayes condition CI1\": 0.6397497057914734, \"Bayes condition mean\": 0.30400463938713074, \"zero\": 0}, {\"neuron\": 2.0, \"mouse_code\": null, \"neuron_code\": 8.0, \"i_trial\": 0.5, \"log_firing_rate\": 2.088268871826483, \"Firing rate\": 129.17812759868985, \"firing_rate\": 129.17812759868985, \"i_spike\": 57.5, \"isi diff\": null, \"log_isi\": -1.2207641578113386, \"isi\": 0.06021073753787137, \"Bayes condition CI0\": 0.02100536972284317, \"Bayes condition CI1\": 0.4752097725868225, \"Bayes condition mean\": 0.18382802605628967, \"zero\": 0}, {\"neuron\": 3.0, \"mouse_code\": null, \"neuron_code\": 12.0, \"i_trial\": 0.5, \"log_firing_rate\": 2.1103301710740325, \"Firing rate\": 131.19508732108173, \"firing_rate\": 131.19508732108173, \"i_spike\": 63.75, \"isi diff\": null, \"log_isi\": -1.2580400491744217, \"isi\": 0.05524151113355147, \"Bayes condition CI0\": -0.23360204696655273, \"Bayes condition CI1\": 0.12578490376472473, \"Bayes condition mean\": -0.0952192097902298, \"zero\": 0}, {\"neuron\": 4.0, \"mouse_code\": null, \"neuron_code\": 16.0, \"i_trial\": 0.5, \"log_firing_rate\": 2.6696458643579315, \"Firing rate\": 966.6043246148391, \"firing_rate\": 966.6043246148391, \"i_spike\": 82.0, \"isi diff\": null, \"log_isi\": -1.372898451562536, \"isi\": 0.042393119452807035, \"Bayes condition CI0\": -0.4967103898525238, \"Bayes condition CI1\": -0.0173715278506279, \"Bayes condition mean\": -0.2015598714351654, \"zero\": 0}, {\"neuron\": 5.0, \"mouse_code\": null, \"neuron_code\": 20.0, \"i_trial\": 0.5, \"log_firing_rate\": 2.3519059192158807, \"Firing rate\": 238.32750887086817, \"firing_rate\": 238.32750887086817, \"i_spike\": 101.5, \"isi diff\": null, \"log_isi\": -1.4598627180560966, \"isi\": 0.034894419902408914, \"Bayes condition CI0\": -0.5531193017959595, \"Bayes condition CI1\": -0.09554050117731094, \"Bayes condition mean\": -0.31059232354164124, \"zero\": 0}, {\"neuron\": 6.0, \"mouse_code\": null, \"neuron_code\": 24.0, \"i_trial\": 0.5, \"log_firing_rate\": 2.731880039309448, \"Firing rate\": 540.8273748657612, \"firing_rate\": 540.8273748657612, \"i_spike\": 130.0, \"isi diff\": null, \"log_isi\": -1.5739582498319433, \"isi\": 0.02668739851360341, \"Bayes condition CI0\": -0.9410896897315979, \"Bayes condition CI1\": -0.28946104645729065, \"Bayes condition mean\": -0.4735783338546753, \"zero\": 0}, {\"neuron\": 7.0, \"mouse_code\": null, \"neuron_code\": 28.0, \"i_trial\": 0.5, \"log_firing_rate\": 2.3283156252366037, \"Firing rate\": 218.14550347100132, \"firing_rate\": 218.14550347100132, \"i_spike\": 142.25, \"isi diff\": null, \"log_isi\": -1.6090769701540948, \"isi\": 0.024636619425416176, \"Bayes condition CI0\": -0.9605656862258911, \"Bayes condition CI1\": -0.39041417837142944, \"Bayes condition mean\": -0.6071639060974121, \"zero\": 0}]}}, {\"mode\": \"vega-lite\"});\n",
       "</script>"
      ],
      "text/plain": [
       "alt.LayerChart(...)"
      ]
     },
     "execution_count": 8,
     "metadata": {},
     "output_type": "execute_result"
    }
   ],
   "source": [
    "chart_p = visualization.plot_posterior(df=df_both, title=f'd_{y}', x='neuron',)\n",
    "chart_p"
   ]
  },
  {
   "cell_type": "code",
   "execution_count": 9,
   "metadata": {},
   "outputs": [
    {
     "data": {
      "text/html": [
       "\n",
       "<div id=\"altair-viz-e0c2884438ac46149d9290d713bf8920\"></div>\n",
       "<script type=\"text/javascript\">\n",
       "  (function(spec, embedOpt){\n",
       "    let outputDiv = document.currentScript.previousElementSibling;\n",
       "    if (outputDiv.id !== \"altair-viz-e0c2884438ac46149d9290d713bf8920\") {\n",
       "      outputDiv = document.getElementById(\"altair-viz-e0c2884438ac46149d9290d713bf8920\");\n",
       "    }\n",
       "    const paths = {\n",
       "      \"vega\": \"https://cdn.jsdelivr.net/npm//vega@5?noext\",\n",
       "      \"vega-lib\": \"https://cdn.jsdelivr.net/npm//vega-lib?noext\",\n",
       "      \"vega-lite\": \"https://cdn.jsdelivr.net/npm//vega-lite@4.8.1?noext\",\n",
       "      \"vega-embed\": \"https://cdn.jsdelivr.net/npm//vega-embed@6?noext\",\n",
       "    };\n",
       "\n",
       "    function loadScript(lib) {\n",
       "      return new Promise(function(resolve, reject) {\n",
       "        var s = document.createElement('script');\n",
       "        s.src = paths[lib];\n",
       "        s.async = true;\n",
       "        s.onload = () => resolve(paths[lib]);\n",
       "        s.onerror = () => reject(`Error loading script: ${paths[lib]}`);\n",
       "        document.getElementsByTagName(\"head\")[0].appendChild(s);\n",
       "      });\n",
       "    }\n",
       "\n",
       "    function showError(err) {\n",
       "      outputDiv.innerHTML = `<div class=\"error\" style=\"color:red;\">${err}</div>`;\n",
       "      throw err;\n",
       "    }\n",
       "\n",
       "    function displayChart(vegaEmbed) {\n",
       "      vegaEmbed(outputDiv, spec, embedOpt)\n",
       "        .catch(err => showError(`Javascript Error: ${err.message}<br>This usually means there's a typo in your chart specification. See the javascript console for the full traceback.`));\n",
       "    }\n",
       "\n",
       "    if(typeof define === \"function\" && define.amd) {\n",
       "      requirejs.config({paths});\n",
       "      require([\"vega-embed\"], displayChart, err => showError(`Error loading script: ${err.message}`));\n",
       "    } else if (typeof vegaEmbed === \"function\") {\n",
       "      displayChart(vegaEmbed);\n",
       "    } else {\n",
       "      loadScript(\"vega\")\n",
       "        .then(() => loadScript(\"vega-lite\"))\n",
       "        .then(() => loadScript(\"vega-embed\"))\n",
       "        .catch(showError)\n",
       "        .then(() => displayChart(vegaEmbed));\n",
       "    }\n",
       "  })({\"config\": {\"view\": {\"continuousWidth\": 400, \"continuousHeight\": 300}}, \"layer\": [{\"mark\": {\"type\": \"line\", \"fill\": null, \"opacity\": 0.5, \"size\": 3}, \"encoding\": {\"color\": {\"type\": \"nominal\", \"field\": \"mouse_code\"}, \"x\": {\"type\": \"ordinal\", \"field\": \"neuron\"}, \"y\": {\"type\": \"quantitative\", \"field\": \"isi diff\", \"scale\": {\"zero\": false}}}}, {\"mark\": {\"type\": \"boxplot\", \"color\": \"black\", \"opacity\": 0.3, \"size\": 12}, \"encoding\": {\"x\": {\"type\": \"ordinal\", \"field\": \"neuron\"}, \"y\": {\"type\": \"quantitative\", \"field\": \"isi diff\", \"scale\": {\"zero\": false}}}}, {\"layer\": [{\"mark\": {\"type\": \"line\", \"color\": \"black\", \"point\": true}, \"encoding\": {\"x\": {\"type\": \"ordinal\", \"field\": \"neuron\"}, \"y\": {\"type\": \"quantitative\", \"field\": \"Bayes condition mean\", \"impute\": {\"value\": \"value\"}}}}, {\"mark\": {\"type\": \"rule\", \"color\": \"black\", \"opacity\": 0.4, \"size\": 0.1}, \"encoding\": {\"y\": {\"type\": \"quantitative\", \"field\": \"zero\"}}}, {\"mark\": \"rule\", \"encoding\": {\"x\": {\"type\": \"ordinal\", \"field\": \"neuron\"}, \"y\": {\"type\": \"quantitative\", \"field\": \"Bayes condition CI0\", \"scale\": {\"domain\": [-0.9605656862258911, 1.0299735069274902], \"zero\": false}, \"title\": \"\\u0394 d_isi\"}, \"y2\": {\"field\": \"Bayes condition CI1\"}}}]}], \"data\": {\"name\": \"data-78a3a6a28a25f4ab50ee77d383b8af43\"}, \"resolve\": {\"scale\": {\"y\": \"independent\"}}, \"$schema\": \"https://vega.github.io/schema/vega-lite/v4.8.1.json\", \"datasets\": {\"data-78a3a6a28a25f4ab50ee77d383b8af43\": [{\"neuron\": 0.0, \"mouse_code\": 0.0, \"neuron_code\": 0.0, \"i_trial\": 0.0, \"log_firing_rate\": 0.39282234635478863, \"Firing rate\": 79.0782525078124, \"firing_rate\": 79.0782525078124, \"i_spike\": 2.0, \"isi diff\": -0.006175162441197049, \"log_isi\": -0.025368076830198483, \"isi\": null, \"Bayes condition CI0\": null, \"Bayes condition CI1\": null, \"Bayes condition mean\": null, \"zero\": 0}, {\"neuron\": 0.0, \"mouse_code\": 1.0, \"neuron_code\": 0.0, \"i_trial\": 0.0, \"log_firing_rate\": 0.3001541638131733, \"Firing rate\": 127.40211883722978, \"firing_rate\": 127.40211883722978, \"i_spike\": 5.0, \"isi diff\": -0.005182531406412019, \"log_isi\": -0.03531768500235022, \"isi\": null, \"Bayes condition CI0\": null, \"Bayes condition CI1\": null, \"Bayes condition mean\": null, \"zero\": 0}, {\"neuron\": 0.0, \"mouse_code\": 2.0, \"neuron_code\": 0.0, \"i_trial\": 0.0, \"log_firing_rate\": -0.06244836571271284, \"Firing rate\": -10.034274839891978, \"firing_rate\": -10.034274839891978, \"i_spike\": 8.0, \"isi diff\": -0.01481771872908011, \"log_isi\": -0.07841372369272603, \"isi\": null, \"Bayes condition CI0\": null, \"Bayes condition CI1\": null, \"Bayes condition mean\": null, \"zero\": 0}, {\"neuron\": 0.0, \"mouse_code\": 3.0, \"neuron_code\": 0.0, \"i_trial\": 0.0, \"log_firing_rate\": -0.07579546223881062, \"Firing rate\": -15.840626648314284, \"firing_rate\": -15.840626648314284, \"i_spike\": 11.0, \"isi diff\": -0.017895089773707892, \"log_isi\": -0.10113843749984097, \"isi\": null, \"Bayes condition CI0\": null, \"Bayes condition CI1\": null, \"Bayes condition mean\": null, \"zero\": 0}, {\"neuron\": 1.0, \"mouse_code\": 0.0, \"neuron_code\": 0.0, \"i_trial\": 0.0, \"log_firing_rate\": 0.020359016302384347, \"Firing rate\": 20.280378701026308, \"firing_rate\": 20.280378701026308, \"i_spike\": 0.5, \"isi diff\": -0.0011336776703381457, \"log_isi\": -0.005091082143363623, \"isi\": null, \"Bayes condition CI0\": null, \"Bayes condition CI1\": null, \"Bayes condition mean\": null, \"zero\": 0}, {\"neuron\": 1.0, \"mouse_code\": 1.0, \"neuron_code\": 0.0, \"i_trial\": 0.0, \"log_firing_rate\": -0.08729215843710758, \"Firing rate\": -21.317266600830912, \"firing_rate\": -21.317266600830912, \"i_spike\": 4.5, \"isi diff\": -0.006835070134613097, \"log_isi\": -0.042202572166494035, \"isi\": null, \"Bayes condition CI0\": null, \"Bayes condition CI1\": null, \"Bayes condition mean\": null, \"zero\": 0}, {\"neuron\": 1.0, \"mouse_code\": 2.0, \"neuron_code\": 0.0, \"i_trial\": 0.0, \"log_firing_rate\": -0.3219716900718579, \"Firing rate\": -92.09515906367257, \"firing_rate\": -92.09515906367257, \"i_spike\": 5.75, \"isi diff\": -0.005904199422922071, \"log_isi\": -0.0430798332337492, \"isi\": null, \"Bayes condition CI0\": null, \"Bayes condition CI1\": null, \"Bayes condition mean\": null, \"zero\": 0}, {\"neuron\": 1.0, \"mouse_code\": 3.0, \"neuron_code\": 0.0, \"i_trial\": 0.0, \"log_firing_rate\": -0.08782533224044142, \"Firing rate\": -64.98778353598658, \"firing_rate\": -64.98778353598658, \"i_spike\": 10.25, \"isi diff\": -0.01222804904849742, \"log_isi\": -0.0813527147255324, \"isi\": null, \"Bayes condition CI0\": null, \"Bayes condition CI1\": null, \"Bayes condition mean\": null, \"zero\": 0}, {\"neuron\": 2.0, \"mouse_code\": 0.0, \"neuron_code\": 0.0, \"i_trial\": 0.0, \"log_firing_rate\": 0.010727259556613244, \"Firing rate\": -2.5116700158282583, \"firing_rate\": -2.5116700158282583, \"i_spike\": -2.5, \"isi diff\": 0.0037795234746334505, \"log_isi\": 0.024951605187014447, \"isi\": null, \"Bayes condition CI0\": null, \"Bayes condition CI1\": null, \"Bayes condition mean\": null, \"zero\": 0}, {\"neuron\": 2.0, \"mouse_code\": 1.0, \"neuron_code\": 0.0, \"i_trial\": 0.0, \"log_firing_rate\": 0.00337702471151502, \"Firing rate\": 3.719140920765369, \"firing_rate\": 3.719140920765369, \"i_spike\": 18.25, \"isi diff\": -0.02097342230976544, \"log_isi\": -0.13707464700527439, \"isi\": null, \"Bayes condition CI0\": null, \"Bayes condition CI1\": null, \"Bayes condition mean\": null, \"zero\": 0}, {\"neuron\": 2.0, \"mouse_code\": 2.0, \"neuron_code\": 0.0, \"i_trial\": 0.0, \"log_firing_rate\": -0.7018705081762762, \"Firing rate\": -1026.0629435195312, \"firing_rate\": -1026.0629435195312, \"i_spike\": 4.25, \"isi diff\": -0.0021748517956385535, \"log_isi\": -0.018814043811769432, \"isi\": null, \"Bayes condition CI0\": null, \"Bayes condition CI1\": null, \"Bayes condition mean\": null, \"zero\": 0}, {\"neuron\": 2.0, \"mouse_code\": 3.0, \"neuron_code\": 0.0, \"i_trial\": 0.0, \"log_firing_rate\": -0.006579032242478355, \"Firing rate\": 0.2019203686178912, \"firing_rate\": 0.2019203686178912, \"i_spike\": 9.5, \"isi diff\": -0.00869141238992932, \"log_isi\": -0.07104653727953703, \"isi\": null, \"Bayes condition CI0\": null, \"Bayes condition CI1\": null, \"Bayes condition mean\": null, \"zero\": 0}, {\"neuron\": 3.0, \"mouse_code\": 0.0, \"neuron_code\": 0.0, \"i_trial\": 0.0, \"log_firing_rate\": 0.396446478254334, \"Firing rate\": 377.30294791813253, \"firing_rate\": 377.30294791813253, \"i_spike\": 7.25, \"isi diff\": -0.004787459755181446, \"log_isi\": -0.04603288174488762, \"isi\": null, \"Bayes condition CI0\": null, \"Bayes condition CI1\": null, \"Bayes condition mean\": null, \"zero\": 0}, {\"neuron\": 3.0, \"mouse_code\": 1.0, \"neuron_code\": 0.0, \"i_trial\": 0.0, \"log_firing_rate\": -0.15680025961312438, \"Firing rate\": -37.94081259811844, \"firing_rate\": -37.94081259811844, \"i_spike\": 9.75, \"isi diff\": -0.007623893288029961, \"log_isi\": -0.06240168000070989, \"isi\": null, \"Bayes condition CI0\": null, \"Bayes condition CI1\": null, \"Bayes condition mean\": null, \"zero\": 0}, {\"neuron\": 3.0, \"mouse_code\": 2.0, \"neuron_code\": 0.0, \"i_trial\": 0.0, \"log_firing_rate\": -0.029386683168485916, \"Firing rate\": -3.3099613157107797, \"firing_rate\": -3.3099613157107797, \"i_spike\": 4.25, \"isi diff\": -0.0030989074770484404, \"log_isi\": -0.02548681408253306, \"isi\": null, \"Bayes condition CI0\": null, \"Bayes condition CI1\": null, \"Bayes condition mean\": null, \"zero\": 0}, {\"neuron\": 3.0, \"mouse_code\": 3.0, \"neuron_code\": 0.0, \"i_trial\": 0.0, \"log_firing_rate\": 0.2823721183699399, \"Firing rate\": 82.39335346693389, \"firing_rate\": 82.39335346693389, \"i_spike\": 25.0, \"isi diff\": -0.018339252335342657, \"log_isi\": -0.15886540955106954, \"isi\": null, \"Bayes condition CI0\": null, \"Bayes condition CI1\": null, \"Bayes condition mean\": null, \"zero\": 0}, {\"neuron\": 4.0, \"mouse_code\": 0.0, \"neuron_code\": 0.0, \"i_trial\": 0.0, \"log_firing_rate\": -0.41189549720270247, \"Firing rate\": -782.7947367789906, \"firing_rate\": -782.7947367789906, \"i_spike\": 1.25, \"isi diff\": -0.00044017641886017617, \"log_isi\": -0.00518841302857842, \"isi\": null, \"Bayes condition CI0\": null, \"Bayes condition CI1\": null, \"Bayes condition mean\": null, \"zero\": 0}, {\"neuron\": 4.0, \"mouse_code\": 1.0, \"neuron_code\": 0.0, \"i_trial\": 0.0, \"log_firing_rate\": 0.08588066384638537, \"Firing rate\": 18.141219786007568, \"firing_rate\": 18.141219786007568, \"i_spike\": 13.25, \"isi diff\": -0.007434802259318571, \"log_isi\": -0.07567414501542191, \"isi\": null, \"Bayes condition CI0\": null, \"Bayes condition CI1\": null, \"Bayes condition mean\": null, \"zero\": 0}, {\"neuron\": 4.0, \"mouse_code\": 2.0, \"neuron_code\": 0.0, \"i_trial\": 0.0, \"log_firing_rate\": 0.2389696462176829, \"Firing rate\": 134.28573814175894, \"firing_rate\": 134.28573814175894, \"i_spike\": 8.25, \"isi diff\": -0.004444459492453458, \"log_isi\": -0.0453503111835718, \"isi\": null, \"Bayes condition CI0\": null, \"Bayes condition CI1\": null, \"Bayes condition mean\": null, \"zero\": 0}, {\"neuron\": 4.0, \"mouse_code\": 3.0, \"neuron_code\": 0.0, \"i_trial\": 0.0, \"log_firing_rate\": 0.008190989870977772, \"Firing rate\": 2.0763809433624374, \"firing_rate\": 2.0763809433624374, \"i_spike\": 15.25, \"isi diff\": -0.009260344016842906, \"log_isi\": -0.08578510365857772, \"isi\": null, \"Bayes condition CI0\": null, \"Bayes condition CI1\": null, \"Bayes condition mean\": null, \"zero\": 0}, {\"neuron\": 5.0, \"mouse_code\": 0.0, \"neuron_code\": 0.0, \"i_trial\": 0.0, \"log_firing_rate\": -0.06625278491735997, \"Firing rate\": -31.52365260460155, \"firing_rate\": -31.52365260460155, \"i_spike\": -7.0, \"isi diff\": 0.001980011661328142, \"log_isi\": 0.02657748101889057, \"isi\": null, \"Bayes condition CI0\": null, \"Bayes condition CI1\": null, \"Bayes condition mean\": null, \"zero\": 0}, {\"neuron\": 5.0, \"mouse_code\": 1.0, \"neuron_code\": 0.0, \"i_trial\": 0.0, \"log_firing_rate\": -0.5761380281183435, \"Firing rate\": -1060.0319002225895, \"firing_rate\": -1060.0319002225895, \"i_spike\": -5.25, \"isi diff\": 0.001500380619536612, \"log_isi\": 0.018229251986333184, \"isi\": null, \"Bayes condition CI0\": null, \"Bayes condition CI1\": null, \"Bayes condition mean\": null, \"zero\": 0}, {\"neuron\": 5.0, \"mouse_code\": 2.0, \"neuron_code\": 0.0, \"i_trial\": 0.0, \"log_firing_rate\": -0.19065549509676982, \"Firing rate\": -81.9260834224117, \"firing_rate\": -81.9260834224117, \"i_spike\": -1.25, \"isi diff\": -0.00025807813152727704, \"log_isi\": 0.0038021256575635487, \"isi\": null, \"Bayes condition CI0\": null, \"Bayes condition CI1\": null, \"Bayes condition mean\": null, \"zero\": 0}, {\"neuron\": 5.0, \"mouse_code\": 3.0, \"neuron_code\": 0.0, \"i_trial\": 0.0, \"log_firing_rate\": 0.03136185063428121, \"Firing rate\": 6.956313081526503, \"firing_rate\": 6.956313081526503, \"i_spike\": -2.0, \"isi diff\": -0.00028670875098820575, \"log_isi\": -0.003132865782158545, \"isi\": null, \"Bayes condition CI0\": null, \"Bayes condition CI1\": null, \"Bayes condition mean\": null, \"zero\": 0}, {\"neuron\": 6.0, \"mouse_code\": 0.0, \"neuron_code\": 0.0, \"i_trial\": 0.0, \"log_firing_rate\": -0.3031321354217673, \"Firing rate\": -238.58508654935764, \"firing_rate\": -238.58508654935764, \"i_spike\": -0.5, \"isi diff\": 0.0003105101239289955, \"log_isi\": 0.005210371474963615, \"isi\": null, \"Bayes condition CI0\": null, \"Bayes condition CI1\": null, \"Bayes condition mean\": null, \"zero\": 0}, {\"neuron\": 6.0, \"mouse_code\": 1.0, \"neuron_code\": 0.0, \"i_trial\": 0.0, \"log_firing_rate\": 0.4091731696081671, \"Firing rate\": 497.96252045269796, \"firing_rate\": 497.96252045269796, \"i_spike\": 3.75, \"isi diff\": -0.0012641054893224313, \"log_isi\": -0.016090462632772473, \"isi\": null, \"Bayes condition CI0\": null, \"Bayes condition CI1\": null, \"Bayes condition mean\": null, \"zero\": 0}, {\"neuron\": 6.0, \"mouse_code\": 2.0, \"neuron_code\": 0.0, \"i_trial\": 0.0, \"log_firing_rate\": 0.11475323980096475, \"Firing rate\": 185.19179938292558, \"firing_rate\": 185.19179938292558, \"i_spike\": 11.0, \"isi diff\": -0.0025468900368386983, \"log_isi\": -0.038206418188496905, \"isi\": null, \"Bayes condition CI0\": null, \"Bayes condition CI1\": null, \"Bayes condition mean\": null, \"zero\": 0}, {\"neuron\": 6.0, \"mouse_code\": 3.0, \"neuron_code\": 0.0, \"i_trial\": 0.0, \"log_firing_rate\": 0.07168645714597632, \"Firing rate\": 30.431526873093873, \"firing_rate\": 30.431526873093873, \"i_spike\": -2.75, \"isi diff\": 0.0009204674755751777, \"log_isi\": 0.012589551965524803, \"isi\": null, \"Bayes condition CI0\": null, \"Bayes condition CI1\": null, \"Bayes condition mean\": null, \"zero\": 0}, {\"neuron\": 7.0, \"mouse_code\": 0.0, \"neuron_code\": 0.0, \"i_trial\": 0.0, \"log_firing_rate\": 0.2571147590187386, \"Firing rate\": 220.37207586494716, \"firing_rate\": 220.37207586494716, \"i_spike\": 9.0, \"isi diff\": -0.0016145487484449557, \"log_isi\": -0.028863076383282227, \"isi\": null, \"Bayes condition CI0\": null, \"Bayes condition CI1\": null, \"Bayes condition mean\": null, \"zero\": 0}, {\"neuron\": 7.0, \"mouse_code\": 1.0, \"neuron_code\": 0.0, \"i_trial\": 0.0, \"log_firing_rate\": 0.29995426916155576, \"Firing rate\": 211.15795363382838, \"firing_rate\": 211.15795363382838, \"i_spike\": -15.5, \"isi diff\": 0.002304971992019126, \"log_isi\": 0.04485774986052293, \"isi\": null, \"Bayes condition CI0\": null, \"Bayes condition CI1\": null, \"Bayes condition mean\": null, \"zero\": 0}, {\"neuron\": 7.0, \"mouse_code\": 2.0, \"neuron_code\": 0.0, \"i_trial\": 0.0, \"log_firing_rate\": -0.13288069860359508, \"Firing rate\": -98.78999716382134, \"firing_rate\": -98.78999716382134, \"i_spike\": 16.25, \"isi diff\": -0.0024551554339812126, \"log_isi\": -0.04633094065839938, \"isi\": null, \"Bayes condition CI0\": null, \"Bayes condition CI1\": null, \"Bayes condition mean\": null, \"zero\": 0}, {\"neuron\": 7.0, \"mouse_code\": 3.0, \"neuron_code\": 0.0, \"i_trial\": 0.0, \"log_firing_rate\": -0.1675700237614688, \"Firing rate\": -99.9520892070108, \"firing_rate\": -99.9520892070108, \"i_spike\": 10.25, \"isi diff\": -0.001870234099461767, \"log_isi\": -0.03392687663910432, \"isi\": null, \"Bayes condition CI0\": null, \"Bayes condition CI1\": null, \"Bayes condition mean\": null, \"zero\": 0}, {\"neuron\": 0.0, \"mouse_code\": null, \"neuron_code\": 0.0, \"i_trial\": 0.5, \"log_firing_rate\": 1.6314863806287385, \"Firing rate\": 43.739210601748624, \"firing_rate\": 43.739210601748624, \"i_spike\": 34.5, \"isi diff\": null, \"log_isi\": -0.9963835488159294, \"isi\": 0.10141994185747258, \"Bayes condition CI0\": 0.17450889945030212, \"Bayes condition CI1\": 1.0299735069274902, \"Bayes condition mean\": 0.48958316445350647, \"zero\": 0}, {\"neuron\": 1.0, \"mouse_code\": null, \"neuron_code\": 4.0, \"i_trial\": 0.5, \"log_firing_rate\": 2.181846863601293, \"Firing rate\": 219.41690707070094, \"firing_rate\": 219.41690707070094, \"i_spike\": 54.5, \"isi diff\": null, \"log_isi\": -1.1921105778525614, \"isi\": 0.06464966275368048, \"Bayes condition CI0\": 0.09330172091722488, \"Bayes condition CI1\": 0.6397497057914734, \"Bayes condition mean\": 0.30400463938713074, \"zero\": 0}, {\"neuron\": 2.0, \"mouse_code\": null, \"neuron_code\": 8.0, \"i_trial\": 0.5, \"log_firing_rate\": 2.088268871826483, \"Firing rate\": 129.17812759868985, \"firing_rate\": 129.17812759868985, \"i_spike\": 57.5, \"isi diff\": null, \"log_isi\": -1.2207641578113386, \"isi\": 0.06021073753787137, \"Bayes condition CI0\": 0.02100536972284317, \"Bayes condition CI1\": 0.4752097725868225, \"Bayes condition mean\": 0.18382802605628967, \"zero\": 0}, {\"neuron\": 3.0, \"mouse_code\": null, \"neuron_code\": 12.0, \"i_trial\": 0.5, \"log_firing_rate\": 2.1103301710740325, \"Firing rate\": 131.19508732108173, \"firing_rate\": 131.19508732108173, \"i_spike\": 63.75, \"isi diff\": null, \"log_isi\": -1.2580400491744217, \"isi\": 0.05524151113355147, \"Bayes condition CI0\": -0.23360204696655273, \"Bayes condition CI1\": 0.12578490376472473, \"Bayes condition mean\": -0.0952192097902298, \"zero\": 0}, {\"neuron\": 4.0, \"mouse_code\": null, \"neuron_code\": 16.0, \"i_trial\": 0.5, \"log_firing_rate\": 2.6696458643579315, \"Firing rate\": 966.6043246148391, \"firing_rate\": 966.6043246148391, \"i_spike\": 82.0, \"isi diff\": null, \"log_isi\": -1.372898451562536, \"isi\": 0.042393119452807035, \"Bayes condition CI0\": -0.4967103898525238, \"Bayes condition CI1\": -0.0173715278506279, \"Bayes condition mean\": -0.2015598714351654, \"zero\": 0}, {\"neuron\": 5.0, \"mouse_code\": null, \"neuron_code\": 20.0, \"i_trial\": 0.5, \"log_firing_rate\": 2.3519059192158807, \"Firing rate\": 238.32750887086817, \"firing_rate\": 238.32750887086817, \"i_spike\": 101.5, \"isi diff\": null, \"log_isi\": -1.4598627180560966, \"isi\": 0.034894419902408914, \"Bayes condition CI0\": -0.5531193017959595, \"Bayes condition CI1\": -0.09554050117731094, \"Bayes condition mean\": -0.31059232354164124, \"zero\": 0}, {\"neuron\": 6.0, \"mouse_code\": null, \"neuron_code\": 24.0, \"i_trial\": 0.5, \"log_firing_rate\": 2.731880039309448, \"Firing rate\": 540.8273748657612, \"firing_rate\": 540.8273748657612, \"i_spike\": 130.0, \"isi diff\": null, \"log_isi\": -1.5739582498319433, \"isi\": 0.02668739851360341, \"Bayes condition CI0\": -0.9410896897315979, \"Bayes condition CI1\": -0.28946104645729065, \"Bayes condition mean\": -0.4735783338546753, \"zero\": 0}, {\"neuron\": 7.0, \"mouse_code\": null, \"neuron_code\": 28.0, \"i_trial\": 0.5, \"log_firing_rate\": 2.3283156252366037, \"Firing rate\": 218.14550347100132, \"firing_rate\": 218.14550347100132, \"i_spike\": 142.25, \"isi diff\": null, \"log_isi\": -1.6090769701540948, \"isi\": 0.024636619425416176, \"Bayes condition CI0\": -0.9605656862258911, \"Bayes condition CI1\": -0.39041417837142944, \"Bayes condition mean\": -0.6071639060974121, \"zero\": 0}]}}, {\"mode\": \"vega-lite\"});\n",
       "</script>"
      ],
      "text/plain": [
       "alt.LayerChart(...)"
      ]
     },
     "execution_count": 9,
     "metadata": {},
     "output_type": "execute_result"
    }
   ],
   "source": [
    "(chart_d+chart_p).resolve_scale(y='independent')"
   ]
  },
  {
   "cell_type": "code",
   "execution_count": 10,
   "metadata": {},
   "outputs": [
    {
     "data": {
      "text/html": [
       "\n",
       "<div id=\"altair-viz-6e9549bdecd44a01a09a13ed3641dfbd\"></div>\n",
       "<script type=\"text/javascript\">\n",
       "  (function(spec, embedOpt){\n",
       "    let outputDiv = document.currentScript.previousElementSibling;\n",
       "    if (outputDiv.id !== \"altair-viz-6e9549bdecd44a01a09a13ed3641dfbd\") {\n",
       "      outputDiv = document.getElementById(\"altair-viz-6e9549bdecd44a01a09a13ed3641dfbd\");\n",
       "    }\n",
       "    const paths = {\n",
       "      \"vega\": \"https://cdn.jsdelivr.net/npm//vega@5?noext\",\n",
       "      \"vega-lib\": \"https://cdn.jsdelivr.net/npm//vega-lib?noext\",\n",
       "      \"vega-lite\": \"https://cdn.jsdelivr.net/npm//vega-lite@4.8.1?noext\",\n",
       "      \"vega-embed\": \"https://cdn.jsdelivr.net/npm//vega-embed@6?noext\",\n",
       "    };\n",
       "\n",
       "    function loadScript(lib) {\n",
       "      return new Promise(function(resolve, reject) {\n",
       "        var s = document.createElement('script');\n",
       "        s.src = paths[lib];\n",
       "        s.async = true;\n",
       "        s.onload = () => resolve(paths[lib]);\n",
       "        s.onerror = () => reject(`Error loading script: ${paths[lib]}`);\n",
       "        document.getElementsByTagName(\"head\")[0].appendChild(s);\n",
       "      });\n",
       "    }\n",
       "\n",
       "    function showError(err) {\n",
       "      outputDiv.innerHTML = `<div class=\"error\" style=\"color:red;\">${err}</div>`;\n",
       "      throw err;\n",
       "    }\n",
       "\n",
       "    function displayChart(vegaEmbed) {\n",
       "      vegaEmbed(outputDiv, spec, embedOpt)\n",
       "        .catch(err => showError(`Javascript Error: ${err.message}<br>This usually means there's a typo in your chart specification. See the javascript console for the full traceback.`));\n",
       "    }\n",
       "\n",
       "    if(typeof define === \"function\" && define.amd) {\n",
       "      requirejs.config({paths});\n",
       "      require([\"vega-embed\"], displayChart, err => showError(`Error loading script: ${err.message}`));\n",
       "    } else if (typeof vegaEmbed === \"function\") {\n",
       "      displayChart(vegaEmbed);\n",
       "    } else {\n",
       "      loadScript(\"vega\")\n",
       "        .then(() => loadScript(\"vega-lite\"))\n",
       "        .then(() => loadScript(\"vega-embed\"))\n",
       "        .catch(showError)\n",
       "        .then(() => displayChart(vegaEmbed));\n",
       "    }\n",
       "  })({\"config\": {\"view\": {\"continuousWidth\": 400, \"continuousHeight\": 300}}, \"data\": {\"name\": \"data-78a3a6a28a25f4ab50ee77d383b8af43\"}, \"facet\": {\"column\": {\"type\": \"quantitative\", \"field\": \"neuron\"}}, \"spec\": {\"layer\": [{\"mark\": {\"type\": \"line\", \"fill\": null, \"opacity\": 0.5, \"size\": 3}, \"encoding\": {\"color\": {\"type\": \"nominal\", \"field\": \"mouse_code\"}, \"x\": {\"type\": \"ordinal\", \"field\": \"neuron\"}, \"y\": {\"type\": \"quantitative\", \"field\": \"isi diff\", \"scale\": {\"zero\": false}}}}, {\"mark\": {\"type\": \"boxplot\", \"color\": \"black\", \"opacity\": 0.3, \"size\": 12}, \"encoding\": {\"x\": {\"type\": \"ordinal\", \"field\": \"neuron\"}, \"y\": {\"type\": \"quantitative\", \"field\": \"isi diff\", \"scale\": {\"zero\": false}}}}, {\"layer\": [{\"mark\": {\"type\": \"line\", \"color\": \"black\", \"point\": true}, \"encoding\": {\"x\": {\"type\": \"ordinal\", \"field\": \"neuron\"}, \"y\": {\"type\": \"quantitative\", \"field\": \"Bayes condition mean\", \"impute\": {\"value\": \"value\"}}}}, {\"mark\": {\"type\": \"rule\", \"color\": \"black\", \"opacity\": 0.4, \"size\": 0.1}, \"encoding\": {\"y\": {\"type\": \"quantitative\", \"field\": \"zero\"}}}, {\"mark\": \"rule\", \"encoding\": {\"x\": {\"type\": \"ordinal\", \"field\": \"neuron\"}, \"y\": {\"type\": \"quantitative\", \"field\": \"Bayes condition CI0\", \"scale\": {\"domain\": [-0.9605656862258911, 1.0299735069274902], \"zero\": false}, \"title\": \"\\u0394 d_isi\"}, \"y2\": {\"field\": \"Bayes condition CI1\"}}}]}]}, \"$schema\": \"https://vega.github.io/schema/vega-lite/v4.8.1.json\", \"datasets\": {\"data-78a3a6a28a25f4ab50ee77d383b8af43\": [{\"neuron\": 0.0, \"mouse_code\": 0.0, \"neuron_code\": 0.0, \"i_trial\": 0.0, \"log_firing_rate\": 0.39282234635478863, \"Firing rate\": 79.0782525078124, \"firing_rate\": 79.0782525078124, \"i_spike\": 2.0, \"isi diff\": -0.006175162441197049, \"log_isi\": -0.025368076830198483, \"isi\": null, \"Bayes condition CI0\": null, \"Bayes condition CI1\": null, \"Bayes condition mean\": null, \"zero\": 0}, {\"neuron\": 0.0, \"mouse_code\": 1.0, \"neuron_code\": 0.0, \"i_trial\": 0.0, \"log_firing_rate\": 0.3001541638131733, \"Firing rate\": 127.40211883722978, \"firing_rate\": 127.40211883722978, \"i_spike\": 5.0, \"isi diff\": -0.005182531406412019, \"log_isi\": -0.03531768500235022, \"isi\": null, \"Bayes condition CI0\": null, \"Bayes condition CI1\": null, \"Bayes condition mean\": null, \"zero\": 0}, {\"neuron\": 0.0, \"mouse_code\": 2.0, \"neuron_code\": 0.0, \"i_trial\": 0.0, \"log_firing_rate\": -0.06244836571271284, \"Firing rate\": -10.034274839891978, \"firing_rate\": -10.034274839891978, \"i_spike\": 8.0, \"isi diff\": -0.01481771872908011, \"log_isi\": -0.07841372369272603, \"isi\": null, \"Bayes condition CI0\": null, \"Bayes condition CI1\": null, \"Bayes condition mean\": null, \"zero\": 0}, {\"neuron\": 0.0, \"mouse_code\": 3.0, \"neuron_code\": 0.0, \"i_trial\": 0.0, \"log_firing_rate\": -0.07579546223881062, \"Firing rate\": -15.840626648314284, \"firing_rate\": -15.840626648314284, \"i_spike\": 11.0, \"isi diff\": -0.017895089773707892, \"log_isi\": -0.10113843749984097, \"isi\": null, \"Bayes condition CI0\": null, \"Bayes condition CI1\": null, \"Bayes condition mean\": null, \"zero\": 0}, {\"neuron\": 1.0, \"mouse_code\": 0.0, \"neuron_code\": 0.0, \"i_trial\": 0.0, \"log_firing_rate\": 0.020359016302384347, \"Firing rate\": 20.280378701026308, \"firing_rate\": 20.280378701026308, \"i_spike\": 0.5, \"isi diff\": -0.0011336776703381457, \"log_isi\": -0.005091082143363623, \"isi\": null, \"Bayes condition CI0\": null, \"Bayes condition CI1\": null, \"Bayes condition mean\": null, \"zero\": 0}, {\"neuron\": 1.0, \"mouse_code\": 1.0, \"neuron_code\": 0.0, \"i_trial\": 0.0, \"log_firing_rate\": -0.08729215843710758, \"Firing rate\": -21.317266600830912, \"firing_rate\": -21.317266600830912, \"i_spike\": 4.5, \"isi diff\": -0.006835070134613097, \"log_isi\": -0.042202572166494035, \"isi\": null, \"Bayes condition CI0\": null, \"Bayes condition CI1\": null, \"Bayes condition mean\": null, \"zero\": 0}, {\"neuron\": 1.0, \"mouse_code\": 2.0, \"neuron_code\": 0.0, \"i_trial\": 0.0, \"log_firing_rate\": -0.3219716900718579, \"Firing rate\": -92.09515906367257, \"firing_rate\": -92.09515906367257, \"i_spike\": 5.75, \"isi diff\": -0.005904199422922071, \"log_isi\": -0.0430798332337492, \"isi\": null, \"Bayes condition CI0\": null, \"Bayes condition CI1\": null, \"Bayes condition mean\": null, \"zero\": 0}, {\"neuron\": 1.0, \"mouse_code\": 3.0, \"neuron_code\": 0.0, \"i_trial\": 0.0, \"log_firing_rate\": -0.08782533224044142, \"Firing rate\": -64.98778353598658, \"firing_rate\": -64.98778353598658, \"i_spike\": 10.25, \"isi diff\": -0.01222804904849742, \"log_isi\": -0.0813527147255324, \"isi\": null, \"Bayes condition CI0\": null, \"Bayes condition CI1\": null, \"Bayes condition mean\": null, \"zero\": 0}, {\"neuron\": 2.0, \"mouse_code\": 0.0, \"neuron_code\": 0.0, \"i_trial\": 0.0, \"log_firing_rate\": 0.010727259556613244, \"Firing rate\": -2.5116700158282583, \"firing_rate\": -2.5116700158282583, \"i_spike\": -2.5, \"isi diff\": 0.0037795234746334505, \"log_isi\": 0.024951605187014447, \"isi\": null, \"Bayes condition CI0\": null, \"Bayes condition CI1\": null, \"Bayes condition mean\": null, \"zero\": 0}, {\"neuron\": 2.0, \"mouse_code\": 1.0, \"neuron_code\": 0.0, \"i_trial\": 0.0, \"log_firing_rate\": 0.00337702471151502, \"Firing rate\": 3.719140920765369, \"firing_rate\": 3.719140920765369, \"i_spike\": 18.25, \"isi diff\": -0.02097342230976544, \"log_isi\": -0.13707464700527439, \"isi\": null, \"Bayes condition CI0\": null, \"Bayes condition CI1\": null, \"Bayes condition mean\": null, \"zero\": 0}, {\"neuron\": 2.0, \"mouse_code\": 2.0, \"neuron_code\": 0.0, \"i_trial\": 0.0, \"log_firing_rate\": -0.7018705081762762, \"Firing rate\": -1026.0629435195312, \"firing_rate\": -1026.0629435195312, \"i_spike\": 4.25, \"isi diff\": -0.0021748517956385535, \"log_isi\": -0.018814043811769432, \"isi\": null, \"Bayes condition CI0\": null, \"Bayes condition CI1\": null, \"Bayes condition mean\": null, \"zero\": 0}, {\"neuron\": 2.0, \"mouse_code\": 3.0, \"neuron_code\": 0.0, \"i_trial\": 0.0, \"log_firing_rate\": -0.006579032242478355, \"Firing rate\": 0.2019203686178912, \"firing_rate\": 0.2019203686178912, \"i_spike\": 9.5, \"isi diff\": -0.00869141238992932, \"log_isi\": -0.07104653727953703, \"isi\": null, \"Bayes condition CI0\": null, \"Bayes condition CI1\": null, \"Bayes condition mean\": null, \"zero\": 0}, {\"neuron\": 3.0, \"mouse_code\": 0.0, \"neuron_code\": 0.0, \"i_trial\": 0.0, \"log_firing_rate\": 0.396446478254334, \"Firing rate\": 377.30294791813253, \"firing_rate\": 377.30294791813253, \"i_spike\": 7.25, \"isi diff\": -0.004787459755181446, \"log_isi\": -0.04603288174488762, \"isi\": null, \"Bayes condition CI0\": null, \"Bayes condition CI1\": null, \"Bayes condition mean\": null, \"zero\": 0}, {\"neuron\": 3.0, \"mouse_code\": 1.0, \"neuron_code\": 0.0, \"i_trial\": 0.0, \"log_firing_rate\": -0.15680025961312438, \"Firing rate\": -37.94081259811844, \"firing_rate\": -37.94081259811844, \"i_spike\": 9.75, \"isi diff\": -0.007623893288029961, \"log_isi\": -0.06240168000070989, \"isi\": null, \"Bayes condition CI0\": null, \"Bayes condition CI1\": null, \"Bayes condition mean\": null, \"zero\": 0}, {\"neuron\": 3.0, \"mouse_code\": 2.0, \"neuron_code\": 0.0, \"i_trial\": 0.0, \"log_firing_rate\": -0.029386683168485916, \"Firing rate\": -3.3099613157107797, \"firing_rate\": -3.3099613157107797, \"i_spike\": 4.25, \"isi diff\": -0.0030989074770484404, \"log_isi\": -0.02548681408253306, \"isi\": null, \"Bayes condition CI0\": null, \"Bayes condition CI1\": null, \"Bayes condition mean\": null, \"zero\": 0}, {\"neuron\": 3.0, \"mouse_code\": 3.0, \"neuron_code\": 0.0, \"i_trial\": 0.0, \"log_firing_rate\": 0.2823721183699399, \"Firing rate\": 82.39335346693389, \"firing_rate\": 82.39335346693389, \"i_spike\": 25.0, \"isi diff\": -0.018339252335342657, \"log_isi\": -0.15886540955106954, \"isi\": null, \"Bayes condition CI0\": null, \"Bayes condition CI1\": null, \"Bayes condition mean\": null, \"zero\": 0}, {\"neuron\": 4.0, \"mouse_code\": 0.0, \"neuron_code\": 0.0, \"i_trial\": 0.0, \"log_firing_rate\": -0.41189549720270247, \"Firing rate\": -782.7947367789906, \"firing_rate\": -782.7947367789906, \"i_spike\": 1.25, \"isi diff\": -0.00044017641886017617, \"log_isi\": -0.00518841302857842, \"isi\": null, \"Bayes condition CI0\": null, \"Bayes condition CI1\": null, \"Bayes condition mean\": null, \"zero\": 0}, {\"neuron\": 4.0, \"mouse_code\": 1.0, \"neuron_code\": 0.0, \"i_trial\": 0.0, \"log_firing_rate\": 0.08588066384638537, \"Firing rate\": 18.141219786007568, \"firing_rate\": 18.141219786007568, \"i_spike\": 13.25, \"isi diff\": -0.007434802259318571, \"log_isi\": -0.07567414501542191, \"isi\": null, \"Bayes condition CI0\": null, \"Bayes condition CI1\": null, \"Bayes condition mean\": null, \"zero\": 0}, {\"neuron\": 4.0, \"mouse_code\": 2.0, \"neuron_code\": 0.0, \"i_trial\": 0.0, \"log_firing_rate\": 0.2389696462176829, \"Firing rate\": 134.28573814175894, \"firing_rate\": 134.28573814175894, \"i_spike\": 8.25, \"isi diff\": -0.004444459492453458, \"log_isi\": -0.0453503111835718, \"isi\": null, \"Bayes condition CI0\": null, \"Bayes condition CI1\": null, \"Bayes condition mean\": null, \"zero\": 0}, {\"neuron\": 4.0, \"mouse_code\": 3.0, \"neuron_code\": 0.0, \"i_trial\": 0.0, \"log_firing_rate\": 0.008190989870977772, \"Firing rate\": 2.0763809433624374, \"firing_rate\": 2.0763809433624374, \"i_spike\": 15.25, \"isi diff\": -0.009260344016842906, \"log_isi\": -0.08578510365857772, \"isi\": null, \"Bayes condition CI0\": null, \"Bayes condition CI1\": null, \"Bayes condition mean\": null, \"zero\": 0}, {\"neuron\": 5.0, \"mouse_code\": 0.0, \"neuron_code\": 0.0, \"i_trial\": 0.0, \"log_firing_rate\": -0.06625278491735997, \"Firing rate\": -31.52365260460155, \"firing_rate\": -31.52365260460155, \"i_spike\": -7.0, \"isi diff\": 0.001980011661328142, \"log_isi\": 0.02657748101889057, \"isi\": null, \"Bayes condition CI0\": null, \"Bayes condition CI1\": null, \"Bayes condition mean\": null, \"zero\": 0}, {\"neuron\": 5.0, \"mouse_code\": 1.0, \"neuron_code\": 0.0, \"i_trial\": 0.0, \"log_firing_rate\": -0.5761380281183435, \"Firing rate\": -1060.0319002225895, \"firing_rate\": -1060.0319002225895, \"i_spike\": -5.25, \"isi diff\": 0.001500380619536612, \"log_isi\": 0.018229251986333184, \"isi\": null, \"Bayes condition CI0\": null, \"Bayes condition CI1\": null, \"Bayes condition mean\": null, \"zero\": 0}, {\"neuron\": 5.0, \"mouse_code\": 2.0, \"neuron_code\": 0.0, \"i_trial\": 0.0, \"log_firing_rate\": -0.19065549509676982, \"Firing rate\": -81.9260834224117, \"firing_rate\": -81.9260834224117, \"i_spike\": -1.25, \"isi diff\": -0.00025807813152727704, \"log_isi\": 0.0038021256575635487, \"isi\": null, \"Bayes condition CI0\": null, \"Bayes condition CI1\": null, \"Bayes condition mean\": null, \"zero\": 0}, {\"neuron\": 5.0, \"mouse_code\": 3.0, \"neuron_code\": 0.0, \"i_trial\": 0.0, \"log_firing_rate\": 0.03136185063428121, \"Firing rate\": 6.956313081526503, \"firing_rate\": 6.956313081526503, \"i_spike\": -2.0, \"isi diff\": -0.00028670875098820575, \"log_isi\": -0.003132865782158545, \"isi\": null, \"Bayes condition CI0\": null, \"Bayes condition CI1\": null, \"Bayes condition mean\": null, \"zero\": 0}, {\"neuron\": 6.0, \"mouse_code\": 0.0, \"neuron_code\": 0.0, \"i_trial\": 0.0, \"log_firing_rate\": -0.3031321354217673, \"Firing rate\": -238.58508654935764, \"firing_rate\": -238.58508654935764, \"i_spike\": -0.5, \"isi diff\": 0.0003105101239289955, \"log_isi\": 0.005210371474963615, \"isi\": null, \"Bayes condition CI0\": null, \"Bayes condition CI1\": null, \"Bayes condition mean\": null, \"zero\": 0}, {\"neuron\": 6.0, \"mouse_code\": 1.0, \"neuron_code\": 0.0, \"i_trial\": 0.0, \"log_firing_rate\": 0.4091731696081671, \"Firing rate\": 497.96252045269796, \"firing_rate\": 497.96252045269796, \"i_spike\": 3.75, \"isi diff\": -0.0012641054893224313, \"log_isi\": -0.016090462632772473, \"isi\": null, \"Bayes condition CI0\": null, \"Bayes condition CI1\": null, \"Bayes condition mean\": null, \"zero\": 0}, {\"neuron\": 6.0, \"mouse_code\": 2.0, \"neuron_code\": 0.0, \"i_trial\": 0.0, \"log_firing_rate\": 0.11475323980096475, \"Firing rate\": 185.19179938292558, \"firing_rate\": 185.19179938292558, \"i_spike\": 11.0, \"isi diff\": -0.0025468900368386983, \"log_isi\": -0.038206418188496905, \"isi\": null, \"Bayes condition CI0\": null, \"Bayes condition CI1\": null, \"Bayes condition mean\": null, \"zero\": 0}, {\"neuron\": 6.0, \"mouse_code\": 3.0, \"neuron_code\": 0.0, \"i_trial\": 0.0, \"log_firing_rate\": 0.07168645714597632, \"Firing rate\": 30.431526873093873, \"firing_rate\": 30.431526873093873, \"i_spike\": -2.75, \"isi diff\": 0.0009204674755751777, \"log_isi\": 0.012589551965524803, \"isi\": null, \"Bayes condition CI0\": null, \"Bayes condition CI1\": null, \"Bayes condition mean\": null, \"zero\": 0}, {\"neuron\": 7.0, \"mouse_code\": 0.0, \"neuron_code\": 0.0, \"i_trial\": 0.0, \"log_firing_rate\": 0.2571147590187386, \"Firing rate\": 220.37207586494716, \"firing_rate\": 220.37207586494716, \"i_spike\": 9.0, \"isi diff\": -0.0016145487484449557, \"log_isi\": -0.028863076383282227, \"isi\": null, \"Bayes condition CI0\": null, \"Bayes condition CI1\": null, \"Bayes condition mean\": null, \"zero\": 0}, {\"neuron\": 7.0, \"mouse_code\": 1.0, \"neuron_code\": 0.0, \"i_trial\": 0.0, \"log_firing_rate\": 0.29995426916155576, \"Firing rate\": 211.15795363382838, \"firing_rate\": 211.15795363382838, \"i_spike\": -15.5, \"isi diff\": 0.002304971992019126, \"log_isi\": 0.04485774986052293, \"isi\": null, \"Bayes condition CI0\": null, \"Bayes condition CI1\": null, \"Bayes condition mean\": null, \"zero\": 0}, {\"neuron\": 7.0, \"mouse_code\": 2.0, \"neuron_code\": 0.0, \"i_trial\": 0.0, \"log_firing_rate\": -0.13288069860359508, \"Firing rate\": -98.78999716382134, \"firing_rate\": -98.78999716382134, \"i_spike\": 16.25, \"isi diff\": -0.0024551554339812126, \"log_isi\": -0.04633094065839938, \"isi\": null, \"Bayes condition CI0\": null, \"Bayes condition CI1\": null, \"Bayes condition mean\": null, \"zero\": 0}, {\"neuron\": 7.0, \"mouse_code\": 3.0, \"neuron_code\": 0.0, \"i_trial\": 0.0, \"log_firing_rate\": -0.1675700237614688, \"Firing rate\": -99.9520892070108, \"firing_rate\": -99.9520892070108, \"i_spike\": 10.25, \"isi diff\": -0.001870234099461767, \"log_isi\": -0.03392687663910432, \"isi\": null, \"Bayes condition CI0\": null, \"Bayes condition CI1\": null, \"Bayes condition mean\": null, \"zero\": 0}, {\"neuron\": 0.0, \"mouse_code\": null, \"neuron_code\": 0.0, \"i_trial\": 0.5, \"log_firing_rate\": 1.6314863806287385, \"Firing rate\": 43.739210601748624, \"firing_rate\": 43.739210601748624, \"i_spike\": 34.5, \"isi diff\": null, \"log_isi\": -0.9963835488159294, \"isi\": 0.10141994185747258, \"Bayes condition CI0\": 0.17450889945030212, \"Bayes condition CI1\": 1.0299735069274902, \"Bayes condition mean\": 0.48958316445350647, \"zero\": 0}, {\"neuron\": 1.0, \"mouse_code\": null, \"neuron_code\": 4.0, \"i_trial\": 0.5, \"log_firing_rate\": 2.181846863601293, \"Firing rate\": 219.41690707070094, \"firing_rate\": 219.41690707070094, \"i_spike\": 54.5, \"isi diff\": null, \"log_isi\": -1.1921105778525614, \"isi\": 0.06464966275368048, \"Bayes condition CI0\": 0.09330172091722488, \"Bayes condition CI1\": 0.6397497057914734, \"Bayes condition mean\": 0.30400463938713074, \"zero\": 0}, {\"neuron\": 2.0, \"mouse_code\": null, \"neuron_code\": 8.0, \"i_trial\": 0.5, \"log_firing_rate\": 2.088268871826483, \"Firing rate\": 129.17812759868985, \"firing_rate\": 129.17812759868985, \"i_spike\": 57.5, \"isi diff\": null, \"log_isi\": -1.2207641578113386, \"isi\": 0.06021073753787137, \"Bayes condition CI0\": 0.02100536972284317, \"Bayes condition CI1\": 0.4752097725868225, \"Bayes condition mean\": 0.18382802605628967, \"zero\": 0}, {\"neuron\": 3.0, \"mouse_code\": null, \"neuron_code\": 12.0, \"i_trial\": 0.5, \"log_firing_rate\": 2.1103301710740325, \"Firing rate\": 131.19508732108173, \"firing_rate\": 131.19508732108173, \"i_spike\": 63.75, \"isi diff\": null, \"log_isi\": -1.2580400491744217, \"isi\": 0.05524151113355147, \"Bayes condition CI0\": -0.23360204696655273, \"Bayes condition CI1\": 0.12578490376472473, \"Bayes condition mean\": -0.0952192097902298, \"zero\": 0}, {\"neuron\": 4.0, \"mouse_code\": null, \"neuron_code\": 16.0, \"i_trial\": 0.5, \"log_firing_rate\": 2.6696458643579315, \"Firing rate\": 966.6043246148391, \"firing_rate\": 966.6043246148391, \"i_spike\": 82.0, \"isi diff\": null, \"log_isi\": -1.372898451562536, \"isi\": 0.042393119452807035, \"Bayes condition CI0\": -0.4967103898525238, \"Bayes condition CI1\": -0.0173715278506279, \"Bayes condition mean\": -0.2015598714351654, \"zero\": 0}, {\"neuron\": 5.0, \"mouse_code\": null, \"neuron_code\": 20.0, \"i_trial\": 0.5, \"log_firing_rate\": 2.3519059192158807, \"Firing rate\": 238.32750887086817, \"firing_rate\": 238.32750887086817, \"i_spike\": 101.5, \"isi diff\": null, \"log_isi\": -1.4598627180560966, \"isi\": 0.034894419902408914, \"Bayes condition CI0\": -0.5531193017959595, \"Bayes condition CI1\": -0.09554050117731094, \"Bayes condition mean\": -0.31059232354164124, \"zero\": 0}, {\"neuron\": 6.0, \"mouse_code\": null, \"neuron_code\": 24.0, \"i_trial\": 0.5, \"log_firing_rate\": 2.731880039309448, \"Firing rate\": 540.8273748657612, \"firing_rate\": 540.8273748657612, \"i_spike\": 130.0, \"isi diff\": null, \"log_isi\": -1.5739582498319433, \"isi\": 0.02668739851360341, \"Bayes condition CI0\": -0.9410896897315979, \"Bayes condition CI1\": -0.28946104645729065, \"Bayes condition mean\": -0.4735783338546753, \"zero\": 0}, {\"neuron\": 7.0, \"mouse_code\": null, \"neuron_code\": 28.0, \"i_trial\": 0.5, \"log_firing_rate\": 2.3283156252366037, \"Firing rate\": 218.14550347100132, \"firing_rate\": 218.14550347100132, \"i_spike\": 142.25, \"isi diff\": null, \"log_isi\": -1.6090769701540948, \"isi\": 0.024636619425416176, \"Bayes condition CI0\": -0.9605656862258911, \"Bayes condition CI1\": -0.39041417837142944, \"Bayes condition mean\": -0.6071639060974121, \"zero\": 0}]}}, {\"mode\": \"vega-lite\"});\n",
       "</script>"
      ],
      "text/plain": [
       "alt.FacetChart(...)"
      ]
     },
     "execution_count": 10,
     "metadata": {},
     "output_type": "execute_result"
    }
   ],
   "source": [
    "(chart_d+chart_p).facet(column='neuron')"
   ]
  }
 ],
 "metadata": {
  "jupytext": {
   "formats": "ipynb,py:light"
  },
  "kernelspec": {
   "display_name": "PyCharm (jup)",
   "language": "python",
   "name": "pycharm-d5912792"
  },
  "language_info": {
   "codemirror_mode": {
    "name": "ipython",
    "version": 3
   },
   "file_extension": ".py",
   "mimetype": "text/x-python",
   "name": "python",
   "nbconvert_exporter": "python",
   "pygments_lexer": "ipython3",
   "version": "3.8.5"
  }
 },
 "nbformat": 4,
 "nbformat_minor": 4
}
