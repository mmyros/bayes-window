{
 "cells": [
  {
   "cell_type": "code",
   "execution_count": null,
   "metadata": {
    "hideCode": false,
    "hidePrompt": false
   },
   "outputs": [],
   "source": []
  },
  {
   "cell_type": "markdown",
   "metadata": {
    "hideCode": false,
    "hidePrompt": false
   },
   "source": [
    "# Neurons example via low-level, flexible interface\n",
    "## Prepare"
   ]
  },
  {
   "cell_type": "code",
   "execution_count": 1,
   "metadata": {
    "hideCode": false,
    "hidePrompt": false,
    "lines_to_end_of_cell_marker": 2
   },
   "outputs": [],
   "source": [
    "from bayes_window import models\n",
    "from bayes_window.fitting import fit_numpyro\n",
    "from bayes_window.generative_models import generate_fake_spikes\n",
    "from sklearn.preprocessing import LabelEncoder\n",
    "\n",
    "trans = LabelEncoder().fit_transform"
   ]
  },
  {
   "cell_type": "markdown",
   "metadata": {
    "hideCode": false,
    "hidePrompt": false
   },
   "source": [
    "## Make some data\n"
   ]
  },
  {
   "cell_type": "code",
   "execution_count": 2,
   "metadata": {
    "hideCode": false,
    "hidePrompt": false
   },
   "outputs": [],
   "source": [
    "df, df_monster, index_cols, firing_rates = generate_fake_spikes(n_trials=2,\n",
    "                                                                n_neurons=8,\n",
    "                                                                n_mice=4,\n",
    "                                                                dur=7, )"
   ]
  },
  {
   "cell_type": "code",
   "execution_count": 3,
   "metadata": {
    "hideCode": false,
    "hidePrompt": false
   },
   "outputs": [],
   "source": [
    "import numpy as np\n",
    "df['log_isi']=np.log10(df['isi'])"
   ]
  },
  {
   "cell_type": "code",
   "execution_count": 4,
   "metadata": {
    "hideCode": false,
    "hidePrompt": false,
    "scrolled": false
   },
   "outputs": [
    {
     "data": {
      "text/html": [
       "\n",
       "<div id=\"altair-viz-ffdac61dad124f4bb6e00201c2ec59a2\"></div>\n",
       "<script type=\"text/javascript\">\n",
       "  (function(spec, embedOpt){\n",
       "    let outputDiv = document.currentScript.previousElementSibling;\n",
       "    if (outputDiv.id !== \"altair-viz-ffdac61dad124f4bb6e00201c2ec59a2\") {\n",
       "      outputDiv = document.getElementById(\"altair-viz-ffdac61dad124f4bb6e00201c2ec59a2\");\n",
       "    }\n",
       "    const paths = {\n",
       "      \"vega\": \"https://cdn.jsdelivr.net/npm//vega@5?noext\",\n",
       "      \"vega-lib\": \"https://cdn.jsdelivr.net/npm//vega-lib?noext\",\n",
       "      \"vega-lite\": \"https://cdn.jsdelivr.net/npm//vega-lite@4.8.1?noext\",\n",
       "      \"vega-embed\": \"https://cdn.jsdelivr.net/npm//vega-embed@6?noext\",\n",
       "    };\n",
       "\n",
       "    function loadScript(lib) {\n",
       "      return new Promise(function(resolve, reject) {\n",
       "        var s = document.createElement('script');\n",
       "        s.src = paths[lib];\n",
       "        s.async = true;\n",
       "        s.onload = () => resolve(paths[lib]);\n",
       "        s.onerror = () => reject(`Error loading script: ${paths[lib]}`);\n",
       "        document.getElementsByTagName(\"head\")[0].appendChild(s);\n",
       "      });\n",
       "    }\n",
       "\n",
       "    function showError(err) {\n",
       "      outputDiv.innerHTML = `<div class=\"error\" style=\"color:red;\">${err}</div>`;\n",
       "      throw err;\n",
       "    }\n",
       "\n",
       "    function displayChart(vegaEmbed) {\n",
       "      vegaEmbed(outputDiv, spec, embedOpt)\n",
       "        .catch(err => showError(`Javascript Error: ${err.message}<br>This usually means there's a typo in your chart specification. See the javascript console for the full traceback.`));\n",
       "    }\n",
       "\n",
       "    if(typeof define === \"function\" && define.amd) {\n",
       "      requirejs.config({paths});\n",
       "      require([\"vega-embed\"], displayChart, err => showError(`Error loading script: ${err.message}`));\n",
       "    } else if (typeof vegaEmbed === \"function\") {\n",
       "      displayChart(vegaEmbed);\n",
       "    } else {\n",
       "      loadScript(\"vega\")\n",
       "        .then(() => loadScript(\"vega-lite\"))\n",
       "        .then(() => loadScript(\"vega-embed\"))\n",
       "        .catch(showError)\n",
       "        .then(() => displayChart(vegaEmbed));\n",
       "    }\n",
       "  })({\"config\": {\"view\": {\"continuousWidth\": 400, \"continuousHeight\": 300}}, \"layer\": [{\"mark\": {\"type\": \"line\", \"fill\": null, \"opacity\": 0.5, \"size\": 3}, \"encoding\": {\"color\": {\"type\": \"nominal\", \"field\": \"mouse_code\"}, \"x\": {\"type\": \"ordinal\", \"field\": \"neuron\"}, \"y\": {\"type\": \"quantitative\", \"aggregate\": \"mean\", \"field\": \"isi diff\", \"scale\": {\"zero\": false}}}}, {\"mark\": {\"type\": \"boxplot\", \"color\": \"black\", \"opacity\": 0.3, \"size\": 12}, \"encoding\": {\"x\": {\"type\": \"ordinal\", \"field\": \"neuron\"}, \"y\": {\"type\": \"quantitative\", \"field\": \"isi diff\", \"scale\": {\"zero\": false}}}}], \"data\": {\"name\": \"data-50a4892f2e9843ddd829edb50a67662c\"}, \"$schema\": \"https://vega.github.io/schema/vega-lite/v4.8.1.json\", \"datasets\": {\"data-50a4892f2e9843ddd829edb50a67662c\": [{\"mouse_code\": 0, \"neuron\": 0, \"i_trial\": 1.0, \"neuron_code\": null, \"log_firing_rate\": 1.1686716230820406, \"Firing rate\": 2.3194159663539957, \"firing_rate\": 2.3194159663539957, \"i_spike\": 0.893491124260355, \"isi diff\": 1.1229731261685045, \"log_isi\": 0.955713699406555}, {\"mouse_code\": 0, \"neuron\": 1, \"i_trial\": 1.0, \"neuron_code\": 1.0, \"log_firing_rate\": 0.9519906853053334, \"Firing rate\": 0.7308418817525859, \"firing_rate\": 0.7308418817525859, \"i_spike\": 0.9245283018867925, \"isi diff\": 1.07895588669767, \"log_isi\": 0.9720550775950076}, {\"mouse_code\": 0, \"neuron\": 2, \"i_trial\": 1.0, \"neuron_code\": 1.0, \"log_firing_rate\": 0.8608213597044692, \"Firing rate\": 0.4935192003725064, \"firing_rate\": 0.4935192003725064, \"i_spike\": 0.8577235772357723, \"isi diff\": 1.1844814006127669, \"log_isi\": 0.9452838690628004}, {\"mouse_code\": 0, \"neuron\": 3, \"i_trial\": 1.0, \"neuron_code\": 1.0, \"log_firing_rate\": 0.9800033562959517, \"Firing rate\": 0.9234704038231427, \"firing_rate\": 0.9234704038231427, \"i_spike\": 1.0491228070175438, \"isi diff\": 0.9515449899187027, \"log_isi\": 1.0159015238339684}, {\"mouse_code\": 0, \"neuron\": 4, \"i_trial\": 1.0, \"neuron_code\": 1.0, \"log_firing_rate\": 0.9749655185404117, \"Firing rate\": 0.8806187205142401, \"firing_rate\": 0.8806187205142401, \"i_spike\": 0.8333333333333334, \"isi diff\": 1.1908341450589521, \"log_isi\": 0.9447872853356145}, {\"mouse_code\": 0, \"neuron\": 5, \"i_trial\": 1.0, \"neuron_code\": 1.0, \"log_firing_rate\": 0.8943203101481527, \"Firing rate\": 0.5264893810381615, \"firing_rate\": 0.5264893810381615, \"i_spike\": 0.927536231884058, \"isi diff\": 1.0818142255398984, \"log_isi\": 0.9772573559667344}, {\"mouse_code\": 0, \"neuron\": 6, \"i_trial\": 1.0, \"neuron_code\": 1.0, \"log_firing_rate\": 1.0101045586323534, \"Firing rate\": 0.7928683689596371, \"firing_rate\": 0.7928683689596371, \"i_spike\": 1.065359477124183, \"isi diff\": 0.9288714761197563, \"log_isi\": 1.022272978806347}, {\"mouse_code\": 0, \"neuron\": 7, \"i_trial\": 1.0, \"neuron_code\": 1.0, \"log_firing_rate\": 1.0389641422591886, \"Firing rate\": 1.2113038919155787, \"firing_rate\": 1.2113038919155787, \"i_spike\": 1.07909604519774, \"isi diff\": 0.9247537202509069, \"log_isi\": 1.0211007404762527}, {\"mouse_code\": 1, \"neuron\": 0, \"i_trial\": 1.0, \"neuron_code\": 1.0, \"log_firing_rate\": 1.1594468985140844, \"Firing rate\": 1.9736309122930933, \"firing_rate\": 1.9736309122930933, \"i_spike\": 1.1104651162790697, \"isi diff\": 0.9477531345262321, \"log_isi\": 1.0207655990159152}, {\"mouse_code\": 1, \"neuron\": 1, \"i_trial\": 1.0, \"neuron_code\": 1.0, \"log_firing_rate\": 1.0217691597363638, \"Firing rate\": 1.105592205386664, \"firing_rate\": 1.105592205386664, \"i_spike\": 1.1382978723404256, \"isi diff\": 0.9222791075761647, \"log_isi\": 1.0335425967381096}, {\"mouse_code\": 1, \"neuron\": 2, \"i_trial\": 1.0, \"neuron_code\": 1.0, \"log_firing_rate\": 1.1221146039589311, \"Firing rate\": 2.278185784347283, \"firing_rate\": 2.278185784347283, \"i_spike\": 0.8659003831417624, \"isi diff\": 1.2040239044362488, \"log_isi\": 0.9403692275386116}, {\"mouse_code\": 1, \"neuron\": 3, \"i_trial\": 1.0, \"neuron_code\": 1.0, \"log_firing_rate\": 1.1201055455527933, \"Firing rate\": 5.096743052959342, \"firing_rate\": 5.096743052959342, \"i_spike\": 1.1176470588235294, \"isi diff\": 0.8834419762447837, \"log_isi\": 1.0410165861542742}, {\"mouse_code\": 1, \"neuron\": 4, \"i_trial\": 1.0, \"neuron_code\": 1.0, \"log_firing_rate\": 1.1340848220295383, \"Firing rate\": 2.04643615641865, \"firing_rate\": 2.04643615641865, \"i_spike\": 1.1216617210682494, \"isi diff\": 0.8829614067887381, \"log_isi\": 1.0373145800373906}, {\"mouse_code\": 1, \"neuron\": 5, \"i_trial\": 1.0, \"neuron_code\": 1.0, \"log_firing_rate\": 0.8466662041793684, \"Firing rate\": 0.4371948953629367, \"firing_rate\": 0.4371948953629367, \"i_spike\": 0.9928909952606635, \"isi diff\": 0.9962238412341324, \"log_isi\": 0.9992717566650052}, {\"mouse_code\": 1, \"neuron\": 6, \"i_trial\": 1.0, \"neuron_code\": 1.0, \"log_firing_rate\": 0.9817304062504599, \"Firing rate\": 0.8561142483333731, \"firing_rate\": 0.8561142483333731, \"i_spike\": 0.9669902912621359, \"isi diff\": 1.0289836494994997, \"log_isi\": 0.9920132317480383}, {\"mouse_code\": 1, \"neuron\": 7, \"i_trial\": 1.0, \"neuron_code\": 1.0, \"log_firing_rate\": 0.9769637513230891, \"Firing rate\": 0.8426605523901963, \"firing_rate\": 0.8426605523901963, \"i_spike\": 1.0704225352112675, \"isi diff\": 0.9332145743172509, \"log_isi\": 1.019544105294044}, {\"mouse_code\": 2, \"neuron\": 0, \"i_trial\": 1.0, \"neuron_code\": 1.0, \"log_firing_rate\": 0.8307628820413353, \"Firing rate\": 0.3382116886258882, \"firing_rate\": 0.3382116886258882, \"i_spike\": 0.8871794871794871, \"isi diff\": 1.0984994243615438, \"log_isi\": 0.9642044605929111}, {\"mouse_code\": 2, \"neuron\": 1, \"i_trial\": 1.0, \"neuron_code\": 1.0, \"log_firing_rate\": 1.0880778737980077, \"Firing rate\": 1.4614932967354308, \"firing_rate\": 1.4614932967354308, \"i_spike\": 1.2259615384615385, \"isi diff\": 0.8264159654302392, \"log_isi\": 1.070182108160904}, {\"mouse_code\": 2, \"neuron\": 2, \"i_trial\": 1.0, \"neuron_code\": 1.0, \"log_firing_rate\": 1.0791936898759638, \"Firing rate\": 1.6793200365318188, \"firing_rate\": 1.6793200365318188, \"i_spike\": 1.1176470588235294, \"isi diff\": 0.8899182646312038, \"log_isi\": 1.0431893108525905}, {\"mouse_code\": 2, \"neuron\": 3, \"i_trial\": 1.0, \"neuron_code\": 1.0, \"log_firing_rate\": 1.1506119257307992, \"Firing rate\": 3.6849703841543864, \"firing_rate\": 3.6849703841543864, \"i_spike\": 1.0335820895522387, \"isi diff\": 0.9608832641033742, \"log_isi\": 1.0138894758448607}, {\"mouse_code\": 2, \"neuron\": 4, \"i_trial\": 1.0, \"neuron_code\": 1.0, \"log_firing_rate\": 1.0878322754605136, \"Firing rate\": 1.9409837689645413, \"firing_rate\": 1.9409837689645413, \"i_spike\": 1.1486068111455108, \"isi diff\": 0.8733166748509411, \"log_isi\": 1.04309228824727}, {\"mouse_code\": 2, \"neuron\": 5, \"i_trial\": 1.0, \"neuron_code\": 1.0, \"log_firing_rate\": 0.8539778422632066, \"Firing rate\": 0.25365629613816676, \"firing_rate\": 0.25365629613816676, \"i_spike\": 1.0407608695652173, \"isi diff\": 0.9621578713586519, \"log_isi\": 1.0110388511419928}, {\"mouse_code\": 2, \"neuron\": 6, \"i_trial\": 1.0, \"neuron_code\": 1.0, \"log_firing_rate\": 0.920633708219338, \"Firing rate\": 0.6434646553575257, \"firing_rate\": 0.6434646553575257, \"i_spike\": 1.0218818380743981, \"isi diff\": 0.968245370254353, \"log_isi\": 1.0085122921945375}, {\"mouse_code\": 2, \"neuron\": 7, \"i_trial\": 1.0, \"neuron_code\": 1.0, \"log_firing_rate\": 0.9917424747754616, \"Firing rate\": 0.881580436187335, \"firing_rate\": 0.881580436187335, \"i_spike\": 0.9447077409162717, \"isi diff\": 1.0583764121449917, \"log_isi\": 0.9851060207332872}, {\"mouse_code\": 3, \"neuron\": 0, \"i_trial\": 1.0, \"neuron_code\": 1.0, \"log_firing_rate\": 1.2216614134820345, \"Firing rate\": 2.4844772140904134, \"firing_rate\": 2.4844772140904134, \"i_spike\": 1.146067415730337, \"isi diff\": 0.8292417706266269, \"log_isi\": 1.067773172756941}, {\"mouse_code\": 3, \"neuron\": 1, \"i_trial\": 1.0, \"neuron_code\": 1.0, \"log_firing_rate\": 1.0274524903886904, \"Firing rate\": 1.3833551044215096, \"firing_rate\": 1.3833551044215096, \"i_spike\": 1.1216216216216217, \"isi diff\": 0.8875487105829897, \"log_isi\": 1.0437314986544943}, {\"mouse_code\": 3, \"neuron\": 2, \"i_trial\": 1.0, \"neuron_code\": 1.0, \"log_firing_rate\": 1.0169135576279296, \"Firing rate\": 1.0602484738120397, \"firing_rate\": 1.0602484738120397, \"i_spike\": 1.351931330472103, \"isi diff\": 0.7280074913636587, \"log_isi\": 1.1118370504113746}, {\"mouse_code\": 3, \"neuron\": 3, \"i_trial\": 1.0, \"neuron_code\": 1.0, \"log_firing_rate\": 0.9963992060573287, \"Firing rate\": 0.9327429457423652, \"firing_rate\": 0.9327429457423652, \"i_spike\": 1.1338289962825279, \"isi diff\": 0.8932641701117642, \"log_isi\": 1.0410412101625262}, {\"mouse_code\": 3, \"neuron\": 4, \"i_trial\": 1.0, \"neuron_code\": 1.0, \"log_firing_rate\": 1.0794999640045166, \"Firing rate\": 1.3442566695341376, \"firing_rate\": 1.3442566695341376, \"i_spike\": 0.9943977591036415, \"isi diff\": 1.0055421960890814, \"log_isi\": 0.9981054385617997}, {\"mouse_code\": 3, \"neuron\": 5, \"i_trial\": 1.0, \"neuron_code\": 1.0, \"log_firing_rate\": 0.9475936315985506, \"Firing rate\": 0.6852650873817385, \"firing_rate\": 0.6852650873817385, \"i_spike\": 1.1073298429319371, \"isi diff\": 0.9037242132889497, \"log_isi\": 1.0300652631158653}, {\"mouse_code\": 3, \"neuron\": 6, \"i_trial\": 1.0, \"neuron_code\": 1.0, \"log_firing_rate\": 0.9113374222787436, \"Firing rate\": 0.574990257613682, \"firing_rate\": 0.574990257613682, \"i_spike\": 1.091976516634051, \"isi diff\": 0.9156948708337178, \"log_isi\": 1.0245516385420785}, {\"mouse_code\": 3, \"neuron\": 7, \"i_trial\": 1.0, \"neuron_code\": 1.0, \"log_firing_rate\": 0.9735371566659405, \"Firing rate\": 0.8445066496036202, \"firing_rate\": 0.8445066496036202, \"i_spike\": 1.0, \"isi diff\": 0.9951647608046821, \"log_isi\": 1.0005446387424055}]}}, {\"mode\": \"vega-lite\"});\n",
       "</script>"
      ],
      "text/plain": [
       "alt.LayerChart(...)"
      ]
     },
     "execution_count": 4,
     "metadata": {},
     "output_type": "execute_result"
    }
   ],
   "source": [
    "from bayes_window import visualization,utils\n",
    "from importlib import reload\n",
    "reload(visualization)\n",
    "reload(utils)\n",
    "y='isi'\n",
    "df['neuron']=df['neuron'].astype(int)\n",
    "ddf, dy = utils.make_fold_change(df,\n",
    "                         y=y,\n",
    "                         index_cols=('stim', 'mouse_code', 'neuron'),\n",
    "                         condition_name='stim',\n",
    "                         do_take_mean=True)\n",
    "\n",
    "visualization.plot_data(x='neuron',y=dy, color='mouse_code',add_box=True,df=ddf)"
   ]
  },
  {
   "cell_type": "markdown",
   "metadata": {
    "hideCode": false,
    "hidePrompt": false
   },
   "source": [
    "## Estimate model"
   ]
  },
  {
   "cell_type": "code",
   "execution_count": 5,
   "metadata": {
    "hideCode": false,
    "hidePrompt": false
   },
   "outputs": [
    {
     "name": "stderr",
     "output_type": "stream",
     "text": [
      "sample: 100%|██████████| 1100/1100 [00:07<00:00, 142.88it/s, 31 steps of size 1.93e-01. acc. prob=0.87]\n"
     ]
    },
    {
     "name": "stdout",
     "output_type": "stream",
     "text": [
      "n(Divergences) = 0\n"
     ]
    }
   ],
   "source": [
    "#y = list(set(df.columns) - set(index_cols))[0]\n",
    "trace = fit_numpyro(y=df[y].values,\n",
    "                    stim_on=(df['stim']).astype(int).values,\n",
    "                    treat=trans(df['neuron']),\n",
    "                    subject=trans(df['mouse']),\n",
    "                    progress_bar=True,\n",
    "                    model=models.model_hier_normal_stim,\n",
    "                    n_draws=100, num_chains=1, )"
   ]
  },
  {
   "cell_type": "markdown",
   "metadata": {
    "hideCode": false,
    "hidePrompt": false
   },
   "source": [
    "## Add data back"
   ]
  },
  {
   "cell_type": "code",
   "execution_count": 6,
   "metadata": {
    "hideCode": false,
    "hidePrompt": false
   },
   "outputs": [],
   "source": [
    "reload(utils)\n",
    "df_both = utils.add_data_to_posterior(df,\n",
    "                                trace=trace,\n",
    "                                y=y,\n",
    "                                index_cols=['neuron', 'stim', 'mouse_code', ],\n",
    "                                condition_name='stim',\n",
    "                                b_name='b_stim_per_condition',  # for posterior\n",
    "                                group_name='neuron'  # for posterior\n",
    "                                )"
   ]
  },
  {
   "cell_type": "markdown",
   "metadata": {
    "hideCode": false,
    "hidePrompt": false
   },
   "source": [
    "## Plot data and posterior"
   ]
  },
  {
   "cell_type": "code",
   "execution_count": 7,
   "metadata": {
    "hideCode": false,
    "hidePrompt": false
   },
   "outputs": [
    {
     "data": {
      "text/html": [
       "\n",
       "<div id=\"altair-viz-36c4f0b8ae054955af00573264066bb1\"></div>\n",
       "<script type=\"text/javascript\">\n",
       "  (function(spec, embedOpt){\n",
       "    let outputDiv = document.currentScript.previousElementSibling;\n",
       "    if (outputDiv.id !== \"altair-viz-36c4f0b8ae054955af00573264066bb1\") {\n",
       "      outputDiv = document.getElementById(\"altair-viz-36c4f0b8ae054955af00573264066bb1\");\n",
       "    }\n",
       "    const paths = {\n",
       "      \"vega\": \"https://cdn.jsdelivr.net/npm//vega@5?noext\",\n",
       "      \"vega-lib\": \"https://cdn.jsdelivr.net/npm//vega-lib?noext\",\n",
       "      \"vega-lite\": \"https://cdn.jsdelivr.net/npm//vega-lite@4.8.1?noext\",\n",
       "      \"vega-embed\": \"https://cdn.jsdelivr.net/npm//vega-embed@6?noext\",\n",
       "    };\n",
       "\n",
       "    function loadScript(lib) {\n",
       "      return new Promise(function(resolve, reject) {\n",
       "        var s = document.createElement('script');\n",
       "        s.src = paths[lib];\n",
       "        s.async = true;\n",
       "        s.onload = () => resolve(paths[lib]);\n",
       "        s.onerror = () => reject(`Error loading script: ${paths[lib]}`);\n",
       "        document.getElementsByTagName(\"head\")[0].appendChild(s);\n",
       "      });\n",
       "    }\n",
       "\n",
       "    function showError(err) {\n",
       "      outputDiv.innerHTML = `<div class=\"error\" style=\"color:red;\">${err}</div>`;\n",
       "      throw err;\n",
       "    }\n",
       "\n",
       "    function displayChart(vegaEmbed) {\n",
       "      vegaEmbed(outputDiv, spec, embedOpt)\n",
       "        .catch(err => showError(`Javascript Error: ${err.message}<br>This usually means there's a typo in your chart specification. See the javascript console for the full traceback.`));\n",
       "    }\n",
       "\n",
       "    if(typeof define === \"function\" && define.amd) {\n",
       "      requirejs.config({paths});\n",
       "      require([\"vega-embed\"], displayChart, err => showError(`Error loading script: ${err.message}`));\n",
       "    } else if (typeof vegaEmbed === \"function\") {\n",
       "      displayChart(vegaEmbed);\n",
       "    } else {\n",
       "      loadScript(\"vega\")\n",
       "        .then(() => loadScript(\"vega-lite\"))\n",
       "        .then(() => loadScript(\"vega-embed\"))\n",
       "        .catch(showError)\n",
       "        .then(() => displayChart(vegaEmbed));\n",
       "    }\n",
       "  })({\"config\": {\"view\": {\"continuousWidth\": 400, \"continuousHeight\": 300}}, \"layer\": [{\"mark\": {\"type\": \"line\", \"fill\": null, \"opacity\": 0.5, \"size\": 3}, \"encoding\": {\"color\": {\"type\": \"nominal\", \"field\": \"mouse_code\"}, \"x\": {\"type\": \"ordinal\", \"field\": \"neuron\"}, \"y\": {\"type\": \"quantitative\", \"aggregate\": \"mean\", \"field\": \"isi diff\", \"scale\": {\"zero\": false}}}}, {\"mark\": {\"type\": \"boxplot\", \"color\": \"black\", \"opacity\": 0.3, \"size\": 12}, \"encoding\": {\"x\": {\"type\": \"ordinal\", \"field\": \"neuron\"}, \"y\": {\"type\": \"quantitative\", \"field\": \"isi diff\", \"scale\": {\"zero\": false}}}}], \"data\": {\"name\": \"data-ec21560f755023a0a18c8b61d8f11782\"}, \"$schema\": \"https://vega.github.io/schema/vega-lite/v4.8.1.json\", \"datasets\": {\"data-ec21560f755023a0a18c8b61d8f11782\": [{\"mouse_code\": 0, \"neuron\": 0, \"i_trial\": 0.0, \"neuron_code\": 0.0, \"log_firing_rate\": 0.29981149525715733, \"Firing rate\": 93.87062214930636, \"firing_rate\": 93.87062214930636, \"i_spike\": -4.5, \"isi diff\": 0.010102578314981764, \"lower HDI\": 0.24335512518882751, \"higher HDI\": 0.9846745729446411, \"mean HDI\": 0.6958807110786438, \"log_isi\": 0.04807094779700272}, {\"mouse_code\": 1, \"neuron\": 0, \"i_trial\": 0.0, \"neuron_code\": 0.0, \"log_firing_rate\": 0.2917946224386898, \"Firing rate\": 68.050869078477, \"firing_rate\": 68.050869078477, \"i_spike\": 4.75, \"isi diff\": -0.004008661028097993, \"lower HDI\": 0.24335512518882751, \"higher HDI\": 0.9846745729446411, \"mean HDI\": 0.6958807110786438, \"log_isi\": -0.023165170394781942}, {\"mouse_code\": 2, \"neuron\": 0, \"i_trial\": 0.0, \"neuron_code\": 0.0, \"log_firing_rate\": -0.3588406705141116, \"Firing rate\": -114.17913530419206, \"firing_rate\": -114.17913530419206, \"i_spike\": -5.5, \"isi diff\": 0.007035749771792332, \"lower HDI\": 0.24335512518882751, \"higher HDI\": 0.9846745729446411, \"mean HDI\": 0.6958807110786438, \"log_isi\": 0.041035833905793684}, {\"mouse_code\": 3, \"neuron\": 0, \"i_trial\": 0.0, \"neuron_code\": 0.0, \"log_firing_rate\": 0.39632905001580476, \"Firing rate\": 96.40677000666423, \"firing_rate\": 96.40677000666423, \"i_spike\": 6.5, \"isi diff\": -0.013637238836175236, \"lower HDI\": 0.24335512518882751, \"higher HDI\": 0.9846745729446411, \"mean HDI\": 0.6958807110786438, \"log_isi\": -0.07483279858158665}, {\"mouse_code\": 0, \"neuron\": 1, \"i_trial\": 0.0, \"neuron_code\": 0.0, \"log_firing_rate\": -0.09426780878303331, \"Firing rate\": -27.296378469507005, \"firing_rate\": -27.296378469507005, \"i_spike\": -4.0, \"isi diff\": 0.005225599231986927, \"lower HDI\": 0.006118823308497667, \"higher HDI\": 0.5807800889015198, \"mean HDI\": 0.33636486530303955, \"log_isi\": 0.032987035790368546}, {\"mouse_code\": 1, \"neuron\": 1, \"i_trial\": 0.0, \"neuron_code\": 0.0, \"log_firing_rate\": 0.045925459002813085, \"Firing rate\": 13.665861838772145, \"firing_rate\": 13.665861838772145, \"i_spike\": 6.5, \"isi diff\": -0.005660779596069573, \"lower HDI\": 0.006118823308497667, \"higher HDI\": 0.5807800889015198, \"mean HDI\": 0.33636486530303955, \"log_isi\": -0.038253917009336114}, {\"mouse_code\": 2, \"neuron\": 1, \"i_trial\": 0.0, \"neuron_code\": 0.0, \"log_firing_rate\": 0.16984642682299533, \"Firing rate\": 39.66651327906014, \"firing_rate\": 39.66651327906014, \"i_spike\": 11.75, \"isi diff\": -0.011515440052503503, \"lower HDI\": 0.006118823308497667, \"higher HDI\": 0.5807800889015198, \"mean HDI\": 0.33636486530303955, \"log_isi\": -0.08269828597453888}, {\"mouse_code\": 3, \"neuron\": 1, \"i_trial\": 0.0, \"neuron_code\": 0.0, \"log_firing_rate\": 0.056645457522874754, \"Firing rate\": 44.48229275307308, \"firing_rate\": 44.48229275307308, \"i_spike\": 6.75, \"isi diff\": -0.007092644519308272, \"lower HDI\": 0.006118823308497667, \"higher HDI\": 0.5807800889015198, \"mean HDI\": 0.33636486530303955, \"log_isi\": -0.05256674031796971}, {\"mouse_code\": 0, \"neuron\": 2, \"i_trial\": 0.0, \"neuron_code\": 0.0, \"log_firing_rate\": -0.30628686301988806, \"Firing rate\": -80.47234587892376, \"firing_rate\": -80.47234587892376, \"i_spike\": -8.75, \"isi diff\": 0.010497789884206452, \"lower HDI\": 0.00870837364345789, \"higher HDI\": 0.5575610399246216, \"mean HDI\": 0.24596010148525238, \"log_isi\": 0.06811756632985744}, {\"mouse_code\": 1, \"neuron\": 2, \"i_trial\": 0.0, \"neuron_code\": 0.0, \"log_firing_rate\": 0.2603325646743042, \"Firing rate\": 234.0180787684693, \"firing_rate\": 234.0180787684693, \"i_spike\": -8.75, \"isi diff\": 0.010631497513771439, \"lower HDI\": 0.00870837364345789, \"higher HDI\": 0.5575610399246216, \"mean HDI\": 0.24596010148525238, \"log_isi\": 0.07654713465303331}, {\"mouse_code\": 2, \"neuron\": 2, \"i_trial\": 0.0, \"neuron_code\": 0.0, \"log_firing_rate\": 0.16948979098725925, \"Firing rate\": 106.20313428886504, \"firing_rate\": 106.20313428886504, \"i_spike\": 6.5, \"isi diff\": -0.006989230431800483, \"lower HDI\": 0.00870837364345789, \"higher HDI\": 0.5575610399246216, \"mean HDI\": 0.24596010148525238, \"log_isi\": -0.051728462862029145}, {\"mouse_code\": 3, \"neuron\": 2, \"i_trial\": 0.0, \"neuron_code\": 0.0, \"log_firing_rate\": 0.03402071540792839, \"Firing rate\": 6.412190383894782, \"firing_rate\": 6.412190383894782, \"i_spike\": 20.5, \"isi diff\": -0.01627541452400224, \"lower HDI\": 0.00870837364345789, \"higher HDI\": 0.5575610399246216, \"mean HDI\": 0.24596010148525238, \"log_isi\": -0.1369224818145689}, {\"mouse_code\": 0, \"neuron\": 3, \"i_trial\": 0.0, \"neuron_code\": 0.0, \"log_firing_rate\": -0.03911855032748557, \"Firing rate\": -6.924823788795749, \"firing_rate\": -6.924823788795749, \"i_spike\": 3.5, \"isi diff\": -0.002390429549272627, \"lower HDI\": -0.1751471608877182, \"higher HDI\": 0.1972876489162445, \"mean HDI\": -0.002826286479830742, \"log_isi\": -0.020793762662637327}, {\"mouse_code\": 1, \"neuron\": 3, \"i_trial\": 0.0, \"neuron_code\": 0.0, \"log_firing_rate\": 0.28531707669590434, \"Firing rate\": 1138.6782400072161, \"firing_rate\": 1138.6782400072161, \"i_spike\": 8.5, \"isi diff\": -0.005640822150230866, \"lower HDI\": -0.1751471608877182, \"higher HDI\": 0.1972876489162445, \"mean HDI\": -0.002826286479830742, \"log_isi\": -0.05394527816814976}, {\"mouse_code\": 2, \"neuron\": 3, \"i_trial\": 0.0, \"neuron_code\": 0.0, \"log_firing_rate\": 0.3749338921365992, \"Firing rate\": 1068.080168500041, \"firing_rate\": 1068.080168500041, \"i_spike\": 2.25, \"isi diff\": -0.0020321086801905613, \"lower HDI\": -0.1751471608877182, \"higher HDI\": 0.1972876489162445, \"mean HDI\": -0.002826286479830742, \"log_isi\": -0.01783991427426157}, {\"mouse_code\": 3, \"neuron\": 3, \"i_trial\": 0.0, \"neuron_code\": 0.0, \"log_firing_rate\": -0.007419793161139054, \"Firing rate\": -8.24563375669426, \"firing_rate\": -8.24563375669426, \"i_spike\": 9.0, \"isi diff\": -0.005595560193525903, \"lower HDI\": -0.1751471608877182, \"higher HDI\": 0.1972876489162445, \"mean HDI\": -0.002826286479830742, \"log_isi\": -0.052562038401429145}, {\"mouse_code\": 0, \"neuron\": 4, \"i_trial\": 0.0, \"neuron_code\": 0.0, \"log_firing_rate\": -0.05354426754772135, \"Firing rate\": -16.510190913339898, \"firing_rate\": -16.510190913339898, \"i_spike\": -14.5, \"isi diff\": 0.007687633250528292, \"lower HDI\": -0.39152243733406067, \"higher HDI\": 0.00757667887955904, \"mean HDI\": -0.15814225375652313, \"log_isi\": 0.07709624091653722}, {\"mouse_code\": 1, \"neuron\": 4, \"i_trial\": 0.0, \"neuron_code\": 0.0, \"log_firing_rate\": 0.31067997201914554, \"Firing rate\": 217.39044379772457, \"firing_rate\": 217.39044379772457, \"i_spike\": 10.25, \"isi diff\": -0.004926929522946433, \"lower HDI\": -0.39152243733406067, \"higher HDI\": 0.00757667887955904, \"mean HDI\": -0.15814225375652313, \"log_isi\": -0.051505687067024075}, {\"mouse_code\": 2, \"neuron\": 4, \"i_trial\": 0.0, \"neuron_code\": 0.0, \"log_firing_rate\": 0.20664093602662081, \"Firing rate\": 214.87838377105794, \"firing_rate\": 214.87838377105794, \"i_spike\": 12.0, \"isi diff\": -0.005449327373016483, \"lower HDI\": -0.39152243733406067, \"higher HDI\": 0.00757667887955904, \"mean HDI\": -0.15814225375652313, \"log_isi\": -0.058902525491038915}, {\"mouse_code\": 3, \"neuron\": 4, \"i_trial\": 0.0, \"neuron_code\": 0.0, \"log_firing_rate\": 0.16961667352352894, \"Firing rate\": 51.70579190444204, \"firing_rate\": 51.70579190444204, \"i_spike\": -0.5, \"isi diff\": 0.0002177860801856682, \"lower HDI\": -0.39152243733406067, \"higher HDI\": 0.00757667887955904, \"mean HDI\": -0.15814225375652313, \"log_isi\": 0.0026636062497231716}, {\"mouse_code\": 0, \"neuron\": 5, \"i_trial\": 0.0, \"neuron_code\": 0.0, \"log_firing_rate\": -0.24821117484637867, \"Firing rate\": -121.31596075824899, \"firing_rate\": -121.31596075824899, \"i_spike\": -7.5, \"isi diff\": 0.0027799556803225142, \"lower HDI\": -0.475139856338501, \"higher HDI\": -0.007339473348110914, \"mean HDI\": -0.292854368686676, \"log_isi\": 0.03342321913494617}, {\"mouse_code\": 1, \"neuron\": 5, \"i_trial\": 0.0, \"neuron_code\": 0.0, \"log_firing_rate\": -0.41313642822055474, \"Firing rate\": -284.82068992273196, \"firing_rate\": -284.82068992273196, \"i_spike\": -0.75, \"isi diff\": -0.00012689558713457894, \"lower HDI\": -0.475139856338501, \"higher HDI\": -0.007339473348110914, \"mean HDI\": -0.292854368686676, \"log_isi\": 0.0010756616735154712}, {\"mouse_code\": 2, \"neuron\": 5, \"i_trial\": 0.0, \"neuron_code\": 0.0, \"log_firing_rate\": -0.40312031009283933, \"Firing rate\": -950.163710907638, \"firing_rate\": -950.163710907638, \"i_spike\": 3.75, \"isi diff\": -0.0014396543219173386, \"lower HDI\": -0.475139856338501, \"higher HDI\": -0.007339473348110914, \"mean HDI\": -0.292854368686676, \"log_isi\": -0.015684142636290366}, {\"mouse_code\": 3, \"neuron\": 5, \"i_trial\": 0.0, \"neuron_code\": 0.0, \"log_firing_rate\": -0.11736859675946665, \"Firing rate\": -62.191204501764446, \"firing_rate\": -62.191204501764446, \"i_spike\": 10.25, \"isi diff\": -0.0035264274599532547, \"lower HDI\": -0.475139856338501, \"higher HDI\": -0.007339473348110914, \"mean HDI\": -0.292854368686676, \"log_isi\": -0.04320825149830387}, {\"mouse_code\": 0, \"neuron\": 6, \"i_trial\": 0.0, \"neuron_code\": 0.0, \"log_firing_rate\": 0.024592845789960904, \"Firing rate\": -76.2989769415907, \"firing_rate\": -76.2989769415907, \"i_spike\": 7.5, \"isi diff\": -0.0021746694969936933, \"lower HDI\": -0.7632461190223694, \"higher HDI\": -0.166826531291008, \"mean HDI\": -0.4442459046840668, \"log_isi\": -0.033737663866424406}, {\"mouse_code\": 1, \"neuron\": 6, \"i_trial\": 0.0, \"neuron_code\": 0.0, \"log_firing_rate\": -0.043483464015971585, \"Firing rate\": -36.78985654134263, \"firing_rate\": -36.78985654134263, \"i_spike\": -4.25, \"isi diff\": 0.0007883175837850517, \"lower HDI\": -0.7632461190223694, \"higher HDI\": -0.166826531291008, \"mean HDI\": -0.4442459046840668, \"log_isi\": 0.012504845875672466}, {\"mouse_code\": 2, \"neuron\": 6, \"i_trial\": 0.0, \"neuron_code\": 0.0, \"log_firing_rate\": -0.19502255271692892, \"Firing rate\": -102.18397283510035, \"firing_rate\": -102.18397283510035, \"i_spike\": 2.5, \"isi diff\": -0.0009751349434150604, \"lower HDI\": -0.7632461190223694, \"higher HDI\": -0.166826531291008, \"mean HDI\": -0.4442459046840668, \"log_isi\": -0.012887734113109506}, {\"mouse_code\": 3, \"neuron\": 6, \"i_trial\": 0.0, \"neuron_code\": 0.0, \"log_firing_rate\": -0.22896703861034862, \"Firing rate\": -182.4191386652804, \"firing_rate\": -182.4191386652804, \"i_spike\": 11.75, \"isi diff\": -0.0023095133471799784, \"lower HDI\": -0.7632461190223694, \"higher HDI\": -0.166826531291008, \"mean HDI\": -0.4442459046840668, \"log_isi\": -0.03836030545247793}, {\"mouse_code\": 0, \"neuron\": 7, \"i_trial\": 0.0, \"neuron_code\": 0.0, \"log_firing_rate\": 0.09579169487086237, \"Firing rate\": 63.83946339012857, \"firing_rate\": 63.83946339012857, \"i_spike\": 10.5, \"isi diff\": -0.0019859161472855075, \"lower HDI\": -0.8442139625549316, \"higher HDI\": -0.2251976579427719, \"mean HDI\": -0.545623242855072, \"log_isi\": -0.033323127162322885}, {\"mouse_code\": 1, \"neuron\": 7, \"i_trial\": 0.0, \"neuron_code\": 0.0, \"log_firing_rate\": -0.056150239891223475, \"Firing rate\": -44.973329820799535, \"firing_rate\": -44.973329820799535, \"i_spike\": 10.0, \"isi diff\": -0.0016471245680141043, \"lower HDI\": -0.8442139625549316, \"higher HDI\": -0.2251976579427719, \"mean HDI\": -0.545623242855072, \"log_isi\": -0.03142703563112392}, {\"mouse_code\": 2, \"neuron\": 7, \"i_trial\": 0.0, \"neuron_code\": 0.0, \"log_firing_rate\": -0.020917973950738578, \"Firing rate\": -43.93864979942589, \"firing_rate\": -43.93864979942589, \"i_spike\": -8.75, \"isi diff\": 0.0012903001785725156, \"lower HDI\": -0.8442139625549316, \"higher HDI\": -0.2251976579427719, \"mean HDI\": -0.545623242855072, \"log_isi\": 0.02465795522376979}, {\"mouse_code\": 3, \"neuron\": 7, \"i_trial\": 0.0, \"neuron_code\": 0.0, \"log_firing_rate\": -0.06487427685215152, \"Firing rate\": -45.20393138225006, \"firing_rate\": -45.20393138225006, \"i_spike\": 0.0, \"isi diff\": -0.00011231080891742004, \"lower HDI\": -0.8442139625549316, \"higher HDI\": -0.2251976579427719, \"mean HDI\": -0.545623242855072, \"log_isi\": -0.0008906965149138024}]}}, {\"mode\": \"vega-lite\"});\n",
       "</script>"
      ],
      "text/plain": [
       "alt.LayerChart(...)"
      ]
     },
     "execution_count": 7,
     "metadata": {},
     "output_type": "execute_result"
    }
   ],
   "source": [
    "#BayesWindow.plot_posteriors_slopes(df_both, y=f'{y} diff', x='neuron',color='mouse_code',title=y,hold_for_facet=False,add_box=False)\n",
    "\n",
    "\n",
    "chart_d = visualization.plot_data(df=df_both,x='neuron', y=f'{y} diff',color='mouse_code')\n",
    "chart_d"
   ]
  },
  {
   "cell_type": "code",
   "execution_count": 8,
   "metadata": {
    "hideCode": false,
    "hidePrompt": false,
    "scrolled": false
   },
   "outputs": [
    {
     "data": {
      "text/html": [
       "\n",
       "<div id=\"altair-viz-067c76dd77d547018de323acef74dc9b\"></div>\n",
       "<script type=\"text/javascript\">\n",
       "  (function(spec, embedOpt){\n",
       "    let outputDiv = document.currentScript.previousElementSibling;\n",
       "    if (outputDiv.id !== \"altair-viz-067c76dd77d547018de323acef74dc9b\") {\n",
       "      outputDiv = document.getElementById(\"altair-viz-067c76dd77d547018de323acef74dc9b\");\n",
       "    }\n",
       "    const paths = {\n",
       "      \"vega\": \"https://cdn.jsdelivr.net/npm//vega@5?noext\",\n",
       "      \"vega-lib\": \"https://cdn.jsdelivr.net/npm//vega-lib?noext\",\n",
       "      \"vega-lite\": \"https://cdn.jsdelivr.net/npm//vega-lite@4.8.1?noext\",\n",
       "      \"vega-embed\": \"https://cdn.jsdelivr.net/npm//vega-embed@6?noext\",\n",
       "    };\n",
       "\n",
       "    function loadScript(lib) {\n",
       "      return new Promise(function(resolve, reject) {\n",
       "        var s = document.createElement('script');\n",
       "        s.src = paths[lib];\n",
       "        s.async = true;\n",
       "        s.onload = () => resolve(paths[lib]);\n",
       "        s.onerror = () => reject(`Error loading script: ${paths[lib]}`);\n",
       "        document.getElementsByTagName(\"head\")[0].appendChild(s);\n",
       "      });\n",
       "    }\n",
       "\n",
       "    function showError(err) {\n",
       "      outputDiv.innerHTML = `<div class=\"error\" style=\"color:red;\">${err}</div>`;\n",
       "      throw err;\n",
       "    }\n",
       "\n",
       "    function displayChart(vegaEmbed) {\n",
       "      vegaEmbed(outputDiv, spec, embedOpt)\n",
       "        .catch(err => showError(`Javascript Error: ${err.message}<br>This usually means there's a typo in your chart specification. See the javascript console for the full traceback.`));\n",
       "    }\n",
       "\n",
       "    if(typeof define === \"function\" && define.amd) {\n",
       "      requirejs.config({paths});\n",
       "      require([\"vega-embed\"], displayChart, err => showError(`Error loading script: ${err.message}`));\n",
       "    } else if (typeof vegaEmbed === \"function\") {\n",
       "      displayChart(vegaEmbed);\n",
       "    } else {\n",
       "      loadScript(\"vega\")\n",
       "        .then(() => loadScript(\"vega-lite\"))\n",
       "        .then(() => loadScript(\"vega-embed\"))\n",
       "        .catch(showError)\n",
       "        .then(() => displayChart(vegaEmbed));\n",
       "    }\n",
       "  })({\"config\": {\"view\": {\"continuousWidth\": 400, \"continuousHeight\": 300}}, \"layer\": [{\"mark\": {\"type\": \"line\", \"color\": \"black\", \"point\": true}, \"encoding\": {\"x\": {\"type\": \"ordinal\", \"field\": \"neuron\"}, \"y\": {\"type\": \"quantitative\", \"field\": \"mean HDI\", \"impute\": {\"value\": \"value\"}}}}, {\"mark\": {\"type\": \"rule\", \"color\": \"black\", \"opacity\": 0.6, \"size\": 0.1}, \"encoding\": {\"y\": {\"type\": \"quantitative\", \"field\": \"zero\"}}}, {\"mark\": \"rule\", \"encoding\": {\"x\": {\"type\": \"ordinal\", \"field\": \"neuron\"}, \"y\": {\"type\": \"quantitative\", \"field\": \"lower HDI\", \"scale\": {\"domain\": [-0.8442139625549316, 0.9846745729446411], \"zero\": false}, \"title\": \"\\u0394 d_isi\"}, \"y2\": {\"field\": \"higher HDI\"}}}], \"data\": {\"name\": \"data-0a0e20c8df75a9deb2ec171620d3a110\"}, \"$schema\": \"https://vega.github.io/schema/vega-lite/v4.8.1.json\", \"datasets\": {\"data-0a0e20c8df75a9deb2ec171620d3a110\": [{\"mouse_code\": 0, \"neuron\": 0, \"i_trial\": 0.0, \"neuron_code\": 0.0, \"log_firing_rate\": 0.29981149525715733, \"Firing rate\": 93.87062214930636, \"firing_rate\": 93.87062214930636, \"i_spike\": -4.5, \"isi diff\": 0.010102578314981764, \"lower HDI\": 0.24335512518882751, \"higher HDI\": 0.9846745729446411, \"mean HDI\": 0.6958807110786438, \"log_isi\": 0.04807094779700272, \"zero\": 0}, {\"mouse_code\": 1, \"neuron\": 0, \"i_trial\": 0.0, \"neuron_code\": 0.0, \"log_firing_rate\": 0.2917946224386898, \"Firing rate\": 68.050869078477, \"firing_rate\": 68.050869078477, \"i_spike\": 4.75, \"isi diff\": -0.004008661028097993, \"lower HDI\": 0.24335512518882751, \"higher HDI\": 0.9846745729446411, \"mean HDI\": 0.6958807110786438, \"log_isi\": -0.023165170394781942, \"zero\": 0}, {\"mouse_code\": 2, \"neuron\": 0, \"i_trial\": 0.0, \"neuron_code\": 0.0, \"log_firing_rate\": -0.3588406705141116, \"Firing rate\": -114.17913530419206, \"firing_rate\": -114.17913530419206, \"i_spike\": -5.5, \"isi diff\": 0.007035749771792332, \"lower HDI\": 0.24335512518882751, \"higher HDI\": 0.9846745729446411, \"mean HDI\": 0.6958807110786438, \"log_isi\": 0.041035833905793684, \"zero\": 0}, {\"mouse_code\": 3, \"neuron\": 0, \"i_trial\": 0.0, \"neuron_code\": 0.0, \"log_firing_rate\": 0.39632905001580476, \"Firing rate\": 96.40677000666423, \"firing_rate\": 96.40677000666423, \"i_spike\": 6.5, \"isi diff\": -0.013637238836175236, \"lower HDI\": 0.24335512518882751, \"higher HDI\": 0.9846745729446411, \"mean HDI\": 0.6958807110786438, \"log_isi\": -0.07483279858158665, \"zero\": 0}, {\"mouse_code\": 0, \"neuron\": 1, \"i_trial\": 0.0, \"neuron_code\": 0.0, \"log_firing_rate\": -0.09426780878303331, \"Firing rate\": -27.296378469507005, \"firing_rate\": -27.296378469507005, \"i_spike\": -4.0, \"isi diff\": 0.005225599231986927, \"lower HDI\": 0.006118823308497667, \"higher HDI\": 0.5807800889015198, \"mean HDI\": 0.33636486530303955, \"log_isi\": 0.032987035790368546, \"zero\": 0}, {\"mouse_code\": 1, \"neuron\": 1, \"i_trial\": 0.0, \"neuron_code\": 0.0, \"log_firing_rate\": 0.045925459002813085, \"Firing rate\": 13.665861838772145, \"firing_rate\": 13.665861838772145, \"i_spike\": 6.5, \"isi diff\": -0.005660779596069573, \"lower HDI\": 0.006118823308497667, \"higher HDI\": 0.5807800889015198, \"mean HDI\": 0.33636486530303955, \"log_isi\": -0.038253917009336114, \"zero\": 0}, {\"mouse_code\": 2, \"neuron\": 1, \"i_trial\": 0.0, \"neuron_code\": 0.0, \"log_firing_rate\": 0.16984642682299533, \"Firing rate\": 39.66651327906014, \"firing_rate\": 39.66651327906014, \"i_spike\": 11.75, \"isi diff\": -0.011515440052503503, \"lower HDI\": 0.006118823308497667, \"higher HDI\": 0.5807800889015198, \"mean HDI\": 0.33636486530303955, \"log_isi\": -0.08269828597453888, \"zero\": 0}, {\"mouse_code\": 3, \"neuron\": 1, \"i_trial\": 0.0, \"neuron_code\": 0.0, \"log_firing_rate\": 0.056645457522874754, \"Firing rate\": 44.48229275307308, \"firing_rate\": 44.48229275307308, \"i_spike\": 6.75, \"isi diff\": -0.007092644519308272, \"lower HDI\": 0.006118823308497667, \"higher HDI\": 0.5807800889015198, \"mean HDI\": 0.33636486530303955, \"log_isi\": -0.05256674031796971, \"zero\": 0}, {\"mouse_code\": 0, \"neuron\": 2, \"i_trial\": 0.0, \"neuron_code\": 0.0, \"log_firing_rate\": -0.30628686301988806, \"Firing rate\": -80.47234587892376, \"firing_rate\": -80.47234587892376, \"i_spike\": -8.75, \"isi diff\": 0.010497789884206452, \"lower HDI\": 0.00870837364345789, \"higher HDI\": 0.5575610399246216, \"mean HDI\": 0.24596010148525238, \"log_isi\": 0.06811756632985744, \"zero\": 0}, {\"mouse_code\": 1, \"neuron\": 2, \"i_trial\": 0.0, \"neuron_code\": 0.0, \"log_firing_rate\": 0.2603325646743042, \"Firing rate\": 234.0180787684693, \"firing_rate\": 234.0180787684693, \"i_spike\": -8.75, \"isi diff\": 0.010631497513771439, \"lower HDI\": 0.00870837364345789, \"higher HDI\": 0.5575610399246216, \"mean HDI\": 0.24596010148525238, \"log_isi\": 0.07654713465303331, \"zero\": 0}, {\"mouse_code\": 2, \"neuron\": 2, \"i_trial\": 0.0, \"neuron_code\": 0.0, \"log_firing_rate\": 0.16948979098725925, \"Firing rate\": 106.20313428886504, \"firing_rate\": 106.20313428886504, \"i_spike\": 6.5, \"isi diff\": -0.006989230431800483, \"lower HDI\": 0.00870837364345789, \"higher HDI\": 0.5575610399246216, \"mean HDI\": 0.24596010148525238, \"log_isi\": -0.051728462862029145, \"zero\": 0}, {\"mouse_code\": 3, \"neuron\": 2, \"i_trial\": 0.0, \"neuron_code\": 0.0, \"log_firing_rate\": 0.03402071540792839, \"Firing rate\": 6.412190383894782, \"firing_rate\": 6.412190383894782, \"i_spike\": 20.5, \"isi diff\": -0.01627541452400224, \"lower HDI\": 0.00870837364345789, \"higher HDI\": 0.5575610399246216, \"mean HDI\": 0.24596010148525238, \"log_isi\": -0.1369224818145689, \"zero\": 0}, {\"mouse_code\": 0, \"neuron\": 3, \"i_trial\": 0.0, \"neuron_code\": 0.0, \"log_firing_rate\": -0.03911855032748557, \"Firing rate\": -6.924823788795749, \"firing_rate\": -6.924823788795749, \"i_spike\": 3.5, \"isi diff\": -0.002390429549272627, \"lower HDI\": -0.1751471608877182, \"higher HDI\": 0.1972876489162445, \"mean HDI\": -0.002826286479830742, \"log_isi\": -0.020793762662637327, \"zero\": 0}, {\"mouse_code\": 1, \"neuron\": 3, \"i_trial\": 0.0, \"neuron_code\": 0.0, \"log_firing_rate\": 0.28531707669590434, \"Firing rate\": 1138.6782400072161, \"firing_rate\": 1138.6782400072161, \"i_spike\": 8.5, \"isi diff\": -0.005640822150230866, \"lower HDI\": -0.1751471608877182, \"higher HDI\": 0.1972876489162445, \"mean HDI\": -0.002826286479830742, \"log_isi\": -0.05394527816814976, \"zero\": 0}, {\"mouse_code\": 2, \"neuron\": 3, \"i_trial\": 0.0, \"neuron_code\": 0.0, \"log_firing_rate\": 0.3749338921365992, \"Firing rate\": 1068.080168500041, \"firing_rate\": 1068.080168500041, \"i_spike\": 2.25, \"isi diff\": -0.0020321086801905613, \"lower HDI\": -0.1751471608877182, \"higher HDI\": 0.1972876489162445, \"mean HDI\": -0.002826286479830742, \"log_isi\": -0.01783991427426157, \"zero\": 0}, {\"mouse_code\": 3, \"neuron\": 3, \"i_trial\": 0.0, \"neuron_code\": 0.0, \"log_firing_rate\": -0.007419793161139054, \"Firing rate\": -8.24563375669426, \"firing_rate\": -8.24563375669426, \"i_spike\": 9.0, \"isi diff\": -0.005595560193525903, \"lower HDI\": -0.1751471608877182, \"higher HDI\": 0.1972876489162445, \"mean HDI\": -0.002826286479830742, \"log_isi\": -0.052562038401429145, \"zero\": 0}, {\"mouse_code\": 0, \"neuron\": 4, \"i_trial\": 0.0, \"neuron_code\": 0.0, \"log_firing_rate\": -0.05354426754772135, \"Firing rate\": -16.510190913339898, \"firing_rate\": -16.510190913339898, \"i_spike\": -14.5, \"isi diff\": 0.007687633250528292, \"lower HDI\": -0.39152243733406067, \"higher HDI\": 0.00757667887955904, \"mean HDI\": -0.15814225375652313, \"log_isi\": 0.07709624091653722, \"zero\": 0}, {\"mouse_code\": 1, \"neuron\": 4, \"i_trial\": 0.0, \"neuron_code\": 0.0, \"log_firing_rate\": 0.31067997201914554, \"Firing rate\": 217.39044379772457, \"firing_rate\": 217.39044379772457, \"i_spike\": 10.25, \"isi diff\": -0.004926929522946433, \"lower HDI\": -0.39152243733406067, \"higher HDI\": 0.00757667887955904, \"mean HDI\": -0.15814225375652313, \"log_isi\": -0.051505687067024075, \"zero\": 0}, {\"mouse_code\": 2, \"neuron\": 4, \"i_trial\": 0.0, \"neuron_code\": 0.0, \"log_firing_rate\": 0.20664093602662081, \"Firing rate\": 214.87838377105794, \"firing_rate\": 214.87838377105794, \"i_spike\": 12.0, \"isi diff\": -0.005449327373016483, \"lower HDI\": -0.39152243733406067, \"higher HDI\": 0.00757667887955904, \"mean HDI\": -0.15814225375652313, \"log_isi\": -0.058902525491038915, \"zero\": 0}, {\"mouse_code\": 3, \"neuron\": 4, \"i_trial\": 0.0, \"neuron_code\": 0.0, \"log_firing_rate\": 0.16961667352352894, \"Firing rate\": 51.70579190444204, \"firing_rate\": 51.70579190444204, \"i_spike\": -0.5, \"isi diff\": 0.0002177860801856682, \"lower HDI\": -0.39152243733406067, \"higher HDI\": 0.00757667887955904, \"mean HDI\": -0.15814225375652313, \"log_isi\": 0.0026636062497231716, \"zero\": 0}, {\"mouse_code\": 0, \"neuron\": 5, \"i_trial\": 0.0, \"neuron_code\": 0.0, \"log_firing_rate\": -0.24821117484637867, \"Firing rate\": -121.31596075824899, \"firing_rate\": -121.31596075824899, \"i_spike\": -7.5, \"isi diff\": 0.0027799556803225142, \"lower HDI\": -0.475139856338501, \"higher HDI\": -0.007339473348110914, \"mean HDI\": -0.292854368686676, \"log_isi\": 0.03342321913494617, \"zero\": 0}, {\"mouse_code\": 1, \"neuron\": 5, \"i_trial\": 0.0, \"neuron_code\": 0.0, \"log_firing_rate\": -0.41313642822055474, \"Firing rate\": -284.82068992273196, \"firing_rate\": -284.82068992273196, \"i_spike\": -0.75, \"isi diff\": -0.00012689558713457894, \"lower HDI\": -0.475139856338501, \"higher HDI\": -0.007339473348110914, \"mean HDI\": -0.292854368686676, \"log_isi\": 0.0010756616735154712, \"zero\": 0}, {\"mouse_code\": 2, \"neuron\": 5, \"i_trial\": 0.0, \"neuron_code\": 0.0, \"log_firing_rate\": -0.40312031009283933, \"Firing rate\": -950.163710907638, \"firing_rate\": -950.163710907638, \"i_spike\": 3.75, \"isi diff\": -0.0014396543219173386, \"lower HDI\": -0.475139856338501, \"higher HDI\": -0.007339473348110914, \"mean HDI\": -0.292854368686676, \"log_isi\": -0.015684142636290366, \"zero\": 0}, {\"mouse_code\": 3, \"neuron\": 5, \"i_trial\": 0.0, \"neuron_code\": 0.0, \"log_firing_rate\": -0.11736859675946665, \"Firing rate\": -62.191204501764446, \"firing_rate\": -62.191204501764446, \"i_spike\": 10.25, \"isi diff\": -0.0035264274599532547, \"lower HDI\": -0.475139856338501, \"higher HDI\": -0.007339473348110914, \"mean HDI\": -0.292854368686676, \"log_isi\": -0.04320825149830387, \"zero\": 0}, {\"mouse_code\": 0, \"neuron\": 6, \"i_trial\": 0.0, \"neuron_code\": 0.0, \"log_firing_rate\": 0.024592845789960904, \"Firing rate\": -76.2989769415907, \"firing_rate\": -76.2989769415907, \"i_spike\": 7.5, \"isi diff\": -0.0021746694969936933, \"lower HDI\": -0.7632461190223694, \"higher HDI\": -0.166826531291008, \"mean HDI\": -0.4442459046840668, \"log_isi\": -0.033737663866424406, \"zero\": 0}, {\"mouse_code\": 1, \"neuron\": 6, \"i_trial\": 0.0, \"neuron_code\": 0.0, \"log_firing_rate\": -0.043483464015971585, \"Firing rate\": -36.78985654134263, \"firing_rate\": -36.78985654134263, \"i_spike\": -4.25, \"isi diff\": 0.0007883175837850517, \"lower HDI\": -0.7632461190223694, \"higher HDI\": -0.166826531291008, \"mean HDI\": -0.4442459046840668, \"log_isi\": 0.012504845875672466, \"zero\": 0}, {\"mouse_code\": 2, \"neuron\": 6, \"i_trial\": 0.0, \"neuron_code\": 0.0, \"log_firing_rate\": -0.19502255271692892, \"Firing rate\": -102.18397283510035, \"firing_rate\": -102.18397283510035, \"i_spike\": 2.5, \"isi diff\": -0.0009751349434150604, \"lower HDI\": -0.7632461190223694, \"higher HDI\": -0.166826531291008, \"mean HDI\": -0.4442459046840668, \"log_isi\": -0.012887734113109506, \"zero\": 0}, {\"mouse_code\": 3, \"neuron\": 6, \"i_trial\": 0.0, \"neuron_code\": 0.0, \"log_firing_rate\": -0.22896703861034862, \"Firing rate\": -182.4191386652804, \"firing_rate\": -182.4191386652804, \"i_spike\": 11.75, \"isi diff\": -0.0023095133471799784, \"lower HDI\": -0.7632461190223694, \"higher HDI\": -0.166826531291008, \"mean HDI\": -0.4442459046840668, \"log_isi\": -0.03836030545247793, \"zero\": 0}, {\"mouse_code\": 0, \"neuron\": 7, \"i_trial\": 0.0, \"neuron_code\": 0.0, \"log_firing_rate\": 0.09579169487086237, \"Firing rate\": 63.83946339012857, \"firing_rate\": 63.83946339012857, \"i_spike\": 10.5, \"isi diff\": -0.0019859161472855075, \"lower HDI\": -0.8442139625549316, \"higher HDI\": -0.2251976579427719, \"mean HDI\": -0.545623242855072, \"log_isi\": -0.033323127162322885, \"zero\": 0}, {\"mouse_code\": 1, \"neuron\": 7, \"i_trial\": 0.0, \"neuron_code\": 0.0, \"log_firing_rate\": -0.056150239891223475, \"Firing rate\": -44.973329820799535, \"firing_rate\": -44.973329820799535, \"i_spike\": 10.0, \"isi diff\": -0.0016471245680141043, \"lower HDI\": -0.8442139625549316, \"higher HDI\": -0.2251976579427719, \"mean HDI\": -0.545623242855072, \"log_isi\": -0.03142703563112392, \"zero\": 0}, {\"mouse_code\": 2, \"neuron\": 7, \"i_trial\": 0.0, \"neuron_code\": 0.0, \"log_firing_rate\": -0.020917973950738578, \"Firing rate\": -43.93864979942589, \"firing_rate\": -43.93864979942589, \"i_spike\": -8.75, \"isi diff\": 0.0012903001785725156, \"lower HDI\": -0.8442139625549316, \"higher HDI\": -0.2251976579427719, \"mean HDI\": -0.545623242855072, \"log_isi\": 0.02465795522376979, \"zero\": 0}, {\"mouse_code\": 3, \"neuron\": 7, \"i_trial\": 0.0, \"neuron_code\": 0.0, \"log_firing_rate\": -0.06487427685215152, \"Firing rate\": -45.20393138225006, \"firing_rate\": -45.20393138225006, \"i_spike\": 0.0, \"isi diff\": -0.00011231080891742004, \"lower HDI\": -0.8442139625549316, \"higher HDI\": -0.2251976579427719, \"mean HDI\": -0.545623242855072, \"log_isi\": -0.0008906965149138024, \"zero\": 0}]}}, {\"mode\": \"vega-lite\"});\n",
       "</script>"
      ],
      "text/plain": [
       "alt.LayerChart(...)"
      ]
     },
     "execution_count": 8,
     "metadata": {},
     "output_type": "execute_result"
    }
   ],
   "source": [
    "chart_p = visualization.plot_posterior(df=df_both, title=f'd_{y}', x='neuron',)\n",
    "chart_p"
   ]
  },
  {
   "cell_type": "code",
   "execution_count": 9,
   "metadata": {
    "hideCode": false,
    "hidePrompt": false
   },
   "outputs": [
    {
     "data": {
      "text/html": [
       "\n",
       "<div id=\"altair-viz-3a2c198cbd994042b4901d48c32f3993\"></div>\n",
       "<script type=\"text/javascript\">\n",
       "  (function(spec, embedOpt){\n",
       "    let outputDiv = document.currentScript.previousElementSibling;\n",
       "    if (outputDiv.id !== \"altair-viz-3a2c198cbd994042b4901d48c32f3993\") {\n",
       "      outputDiv = document.getElementById(\"altair-viz-3a2c198cbd994042b4901d48c32f3993\");\n",
       "    }\n",
       "    const paths = {\n",
       "      \"vega\": \"https://cdn.jsdelivr.net/npm//vega@5?noext\",\n",
       "      \"vega-lib\": \"https://cdn.jsdelivr.net/npm//vega-lib?noext\",\n",
       "      \"vega-lite\": \"https://cdn.jsdelivr.net/npm//vega-lite@4.8.1?noext\",\n",
       "      \"vega-embed\": \"https://cdn.jsdelivr.net/npm//vega-embed@6?noext\",\n",
       "    };\n",
       "\n",
       "    function loadScript(lib) {\n",
       "      return new Promise(function(resolve, reject) {\n",
       "        var s = document.createElement('script');\n",
       "        s.src = paths[lib];\n",
       "        s.async = true;\n",
       "        s.onload = () => resolve(paths[lib]);\n",
       "        s.onerror = () => reject(`Error loading script: ${paths[lib]}`);\n",
       "        document.getElementsByTagName(\"head\")[0].appendChild(s);\n",
       "      });\n",
       "    }\n",
       "\n",
       "    function showError(err) {\n",
       "      outputDiv.innerHTML = `<div class=\"error\" style=\"color:red;\">${err}</div>`;\n",
       "      throw err;\n",
       "    }\n",
       "\n",
       "    function displayChart(vegaEmbed) {\n",
       "      vegaEmbed(outputDiv, spec, embedOpt)\n",
       "        .catch(err => showError(`Javascript Error: ${err.message}<br>This usually means there's a typo in your chart specification. See the javascript console for the full traceback.`));\n",
       "    }\n",
       "\n",
       "    if(typeof define === \"function\" && define.amd) {\n",
       "      requirejs.config({paths});\n",
       "      require([\"vega-embed\"], displayChart, err => showError(`Error loading script: ${err.message}`));\n",
       "    } else if (typeof vegaEmbed === \"function\") {\n",
       "      displayChart(vegaEmbed);\n",
       "    } else {\n",
       "      loadScript(\"vega\")\n",
       "        .then(() => loadScript(\"vega-lite\"))\n",
       "        .then(() => loadScript(\"vega-embed\"))\n",
       "        .catch(showError)\n",
       "        .then(() => displayChart(vegaEmbed));\n",
       "    }\n",
       "  })({\"config\": {\"view\": {\"continuousWidth\": 400, \"continuousHeight\": 300}}, \"layer\": [{\"mark\": {\"type\": \"line\", \"fill\": null, \"opacity\": 0.5, \"size\": 3}, \"encoding\": {\"color\": {\"type\": \"nominal\", \"field\": \"mouse_code\"}, \"x\": {\"type\": \"ordinal\", \"field\": \"neuron\"}, \"y\": {\"type\": \"quantitative\", \"aggregate\": \"mean\", \"field\": \"isi diff\", \"scale\": {\"zero\": false}}}}, {\"mark\": {\"type\": \"boxplot\", \"color\": \"black\", \"opacity\": 0.3, \"size\": 12}, \"encoding\": {\"x\": {\"type\": \"ordinal\", \"field\": \"neuron\"}, \"y\": {\"type\": \"quantitative\", \"field\": \"isi diff\", \"scale\": {\"zero\": false}}}}, {\"layer\": [{\"mark\": {\"type\": \"line\", \"color\": \"black\", \"point\": true}, \"encoding\": {\"x\": {\"type\": \"ordinal\", \"field\": \"neuron\"}, \"y\": {\"type\": \"quantitative\", \"field\": \"mean HDI\", \"impute\": {\"value\": \"value\"}}}}, {\"mark\": {\"type\": \"rule\", \"color\": \"black\", \"opacity\": 0.6, \"size\": 0.1}, \"encoding\": {\"y\": {\"type\": \"quantitative\", \"field\": \"zero\"}}}, {\"mark\": \"rule\", \"encoding\": {\"x\": {\"type\": \"ordinal\", \"field\": \"neuron\"}, \"y\": {\"type\": \"quantitative\", \"field\": \"lower HDI\", \"scale\": {\"domain\": [-0.8442139625549316, 0.9846745729446411], \"zero\": false}, \"title\": \"\\u0394 d_isi\"}, \"y2\": {\"field\": \"higher HDI\"}}}]}], \"data\": {\"name\": \"data-0a0e20c8df75a9deb2ec171620d3a110\"}, \"resolve\": {\"scale\": {\"y\": \"independent\"}}, \"$schema\": \"https://vega.github.io/schema/vega-lite/v4.8.1.json\", \"datasets\": {\"data-0a0e20c8df75a9deb2ec171620d3a110\": [{\"mouse_code\": 0, \"neuron\": 0, \"i_trial\": 0.0, \"neuron_code\": 0.0, \"log_firing_rate\": 0.29981149525715733, \"Firing rate\": 93.87062214930636, \"firing_rate\": 93.87062214930636, \"i_spike\": -4.5, \"isi diff\": 0.010102578314981764, \"lower HDI\": 0.24335512518882751, \"higher HDI\": 0.9846745729446411, \"mean HDI\": 0.6958807110786438, \"log_isi\": 0.04807094779700272, \"zero\": 0}, {\"mouse_code\": 1, \"neuron\": 0, \"i_trial\": 0.0, \"neuron_code\": 0.0, \"log_firing_rate\": 0.2917946224386898, \"Firing rate\": 68.050869078477, \"firing_rate\": 68.050869078477, \"i_spike\": 4.75, \"isi diff\": -0.004008661028097993, \"lower HDI\": 0.24335512518882751, \"higher HDI\": 0.9846745729446411, \"mean HDI\": 0.6958807110786438, \"log_isi\": -0.023165170394781942, \"zero\": 0}, {\"mouse_code\": 2, \"neuron\": 0, \"i_trial\": 0.0, \"neuron_code\": 0.0, \"log_firing_rate\": -0.3588406705141116, \"Firing rate\": -114.17913530419206, \"firing_rate\": -114.17913530419206, \"i_spike\": -5.5, \"isi diff\": 0.007035749771792332, \"lower HDI\": 0.24335512518882751, \"higher HDI\": 0.9846745729446411, \"mean HDI\": 0.6958807110786438, \"log_isi\": 0.041035833905793684, \"zero\": 0}, {\"mouse_code\": 3, \"neuron\": 0, \"i_trial\": 0.0, \"neuron_code\": 0.0, \"log_firing_rate\": 0.39632905001580476, \"Firing rate\": 96.40677000666423, \"firing_rate\": 96.40677000666423, \"i_spike\": 6.5, \"isi diff\": -0.013637238836175236, \"lower HDI\": 0.24335512518882751, \"higher HDI\": 0.9846745729446411, \"mean HDI\": 0.6958807110786438, \"log_isi\": -0.07483279858158665, \"zero\": 0}, {\"mouse_code\": 0, \"neuron\": 1, \"i_trial\": 0.0, \"neuron_code\": 0.0, \"log_firing_rate\": -0.09426780878303331, \"Firing rate\": -27.296378469507005, \"firing_rate\": -27.296378469507005, \"i_spike\": -4.0, \"isi diff\": 0.005225599231986927, \"lower HDI\": 0.006118823308497667, \"higher HDI\": 0.5807800889015198, \"mean HDI\": 0.33636486530303955, \"log_isi\": 0.032987035790368546, \"zero\": 0}, {\"mouse_code\": 1, \"neuron\": 1, \"i_trial\": 0.0, \"neuron_code\": 0.0, \"log_firing_rate\": 0.045925459002813085, \"Firing rate\": 13.665861838772145, \"firing_rate\": 13.665861838772145, \"i_spike\": 6.5, \"isi diff\": -0.005660779596069573, \"lower HDI\": 0.006118823308497667, \"higher HDI\": 0.5807800889015198, \"mean HDI\": 0.33636486530303955, \"log_isi\": -0.038253917009336114, \"zero\": 0}, {\"mouse_code\": 2, \"neuron\": 1, \"i_trial\": 0.0, \"neuron_code\": 0.0, \"log_firing_rate\": 0.16984642682299533, \"Firing rate\": 39.66651327906014, \"firing_rate\": 39.66651327906014, \"i_spike\": 11.75, \"isi diff\": -0.011515440052503503, \"lower HDI\": 0.006118823308497667, \"higher HDI\": 0.5807800889015198, \"mean HDI\": 0.33636486530303955, \"log_isi\": -0.08269828597453888, \"zero\": 0}, {\"mouse_code\": 3, \"neuron\": 1, \"i_trial\": 0.0, \"neuron_code\": 0.0, \"log_firing_rate\": 0.056645457522874754, \"Firing rate\": 44.48229275307308, \"firing_rate\": 44.48229275307308, \"i_spike\": 6.75, \"isi diff\": -0.007092644519308272, \"lower HDI\": 0.006118823308497667, \"higher HDI\": 0.5807800889015198, \"mean HDI\": 0.33636486530303955, \"log_isi\": -0.05256674031796971, \"zero\": 0}, {\"mouse_code\": 0, \"neuron\": 2, \"i_trial\": 0.0, \"neuron_code\": 0.0, \"log_firing_rate\": -0.30628686301988806, \"Firing rate\": -80.47234587892376, \"firing_rate\": -80.47234587892376, \"i_spike\": -8.75, \"isi diff\": 0.010497789884206452, \"lower HDI\": 0.00870837364345789, \"higher HDI\": 0.5575610399246216, \"mean HDI\": 0.24596010148525238, \"log_isi\": 0.06811756632985744, \"zero\": 0}, {\"mouse_code\": 1, \"neuron\": 2, \"i_trial\": 0.0, \"neuron_code\": 0.0, \"log_firing_rate\": 0.2603325646743042, \"Firing rate\": 234.0180787684693, \"firing_rate\": 234.0180787684693, \"i_spike\": -8.75, \"isi diff\": 0.010631497513771439, \"lower HDI\": 0.00870837364345789, \"higher HDI\": 0.5575610399246216, \"mean HDI\": 0.24596010148525238, \"log_isi\": 0.07654713465303331, \"zero\": 0}, {\"mouse_code\": 2, \"neuron\": 2, \"i_trial\": 0.0, \"neuron_code\": 0.0, \"log_firing_rate\": 0.16948979098725925, \"Firing rate\": 106.20313428886504, \"firing_rate\": 106.20313428886504, \"i_spike\": 6.5, \"isi diff\": -0.006989230431800483, \"lower HDI\": 0.00870837364345789, \"higher HDI\": 0.5575610399246216, \"mean HDI\": 0.24596010148525238, \"log_isi\": -0.051728462862029145, \"zero\": 0}, {\"mouse_code\": 3, \"neuron\": 2, \"i_trial\": 0.0, \"neuron_code\": 0.0, \"log_firing_rate\": 0.03402071540792839, \"Firing rate\": 6.412190383894782, \"firing_rate\": 6.412190383894782, \"i_spike\": 20.5, \"isi diff\": -0.01627541452400224, \"lower HDI\": 0.00870837364345789, \"higher HDI\": 0.5575610399246216, \"mean HDI\": 0.24596010148525238, \"log_isi\": -0.1369224818145689, \"zero\": 0}, {\"mouse_code\": 0, \"neuron\": 3, \"i_trial\": 0.0, \"neuron_code\": 0.0, \"log_firing_rate\": -0.03911855032748557, \"Firing rate\": -6.924823788795749, \"firing_rate\": -6.924823788795749, \"i_spike\": 3.5, \"isi diff\": -0.002390429549272627, \"lower HDI\": -0.1751471608877182, \"higher HDI\": 0.1972876489162445, \"mean HDI\": -0.002826286479830742, \"log_isi\": -0.020793762662637327, \"zero\": 0}, {\"mouse_code\": 1, \"neuron\": 3, \"i_trial\": 0.0, \"neuron_code\": 0.0, \"log_firing_rate\": 0.28531707669590434, \"Firing rate\": 1138.6782400072161, \"firing_rate\": 1138.6782400072161, \"i_spike\": 8.5, \"isi diff\": -0.005640822150230866, \"lower HDI\": -0.1751471608877182, \"higher HDI\": 0.1972876489162445, \"mean HDI\": -0.002826286479830742, \"log_isi\": -0.05394527816814976, \"zero\": 0}, {\"mouse_code\": 2, \"neuron\": 3, \"i_trial\": 0.0, \"neuron_code\": 0.0, \"log_firing_rate\": 0.3749338921365992, \"Firing rate\": 1068.080168500041, \"firing_rate\": 1068.080168500041, \"i_spike\": 2.25, \"isi diff\": -0.0020321086801905613, \"lower HDI\": -0.1751471608877182, \"higher HDI\": 0.1972876489162445, \"mean HDI\": -0.002826286479830742, \"log_isi\": -0.01783991427426157, \"zero\": 0}, {\"mouse_code\": 3, \"neuron\": 3, \"i_trial\": 0.0, \"neuron_code\": 0.0, \"log_firing_rate\": -0.007419793161139054, \"Firing rate\": -8.24563375669426, \"firing_rate\": -8.24563375669426, \"i_spike\": 9.0, \"isi diff\": -0.005595560193525903, \"lower HDI\": -0.1751471608877182, \"higher HDI\": 0.1972876489162445, \"mean HDI\": -0.002826286479830742, \"log_isi\": -0.052562038401429145, \"zero\": 0}, {\"mouse_code\": 0, \"neuron\": 4, \"i_trial\": 0.0, \"neuron_code\": 0.0, \"log_firing_rate\": -0.05354426754772135, \"Firing rate\": -16.510190913339898, \"firing_rate\": -16.510190913339898, \"i_spike\": -14.5, \"isi diff\": 0.007687633250528292, \"lower HDI\": -0.39152243733406067, \"higher HDI\": 0.00757667887955904, \"mean HDI\": -0.15814225375652313, \"log_isi\": 0.07709624091653722, \"zero\": 0}, {\"mouse_code\": 1, \"neuron\": 4, \"i_trial\": 0.0, \"neuron_code\": 0.0, \"log_firing_rate\": 0.31067997201914554, \"Firing rate\": 217.39044379772457, \"firing_rate\": 217.39044379772457, \"i_spike\": 10.25, \"isi diff\": -0.004926929522946433, \"lower HDI\": -0.39152243733406067, \"higher HDI\": 0.00757667887955904, \"mean HDI\": -0.15814225375652313, \"log_isi\": -0.051505687067024075, \"zero\": 0}, {\"mouse_code\": 2, \"neuron\": 4, \"i_trial\": 0.0, \"neuron_code\": 0.0, \"log_firing_rate\": 0.20664093602662081, \"Firing rate\": 214.87838377105794, \"firing_rate\": 214.87838377105794, \"i_spike\": 12.0, \"isi diff\": -0.005449327373016483, \"lower HDI\": -0.39152243733406067, \"higher HDI\": 0.00757667887955904, \"mean HDI\": -0.15814225375652313, \"log_isi\": -0.058902525491038915, \"zero\": 0}, {\"mouse_code\": 3, \"neuron\": 4, \"i_trial\": 0.0, \"neuron_code\": 0.0, \"log_firing_rate\": 0.16961667352352894, \"Firing rate\": 51.70579190444204, \"firing_rate\": 51.70579190444204, \"i_spike\": -0.5, \"isi diff\": 0.0002177860801856682, \"lower HDI\": -0.39152243733406067, \"higher HDI\": 0.00757667887955904, \"mean HDI\": -0.15814225375652313, \"log_isi\": 0.0026636062497231716, \"zero\": 0}, {\"mouse_code\": 0, \"neuron\": 5, \"i_trial\": 0.0, \"neuron_code\": 0.0, \"log_firing_rate\": -0.24821117484637867, \"Firing rate\": -121.31596075824899, \"firing_rate\": -121.31596075824899, \"i_spike\": -7.5, \"isi diff\": 0.0027799556803225142, \"lower HDI\": -0.475139856338501, \"higher HDI\": -0.007339473348110914, \"mean HDI\": -0.292854368686676, \"log_isi\": 0.03342321913494617, \"zero\": 0}, {\"mouse_code\": 1, \"neuron\": 5, \"i_trial\": 0.0, \"neuron_code\": 0.0, \"log_firing_rate\": -0.41313642822055474, \"Firing rate\": -284.82068992273196, \"firing_rate\": -284.82068992273196, \"i_spike\": -0.75, \"isi diff\": -0.00012689558713457894, \"lower HDI\": -0.475139856338501, \"higher HDI\": -0.007339473348110914, \"mean HDI\": -0.292854368686676, \"log_isi\": 0.0010756616735154712, \"zero\": 0}, {\"mouse_code\": 2, \"neuron\": 5, \"i_trial\": 0.0, \"neuron_code\": 0.0, \"log_firing_rate\": -0.40312031009283933, \"Firing rate\": -950.163710907638, \"firing_rate\": -950.163710907638, \"i_spike\": 3.75, \"isi diff\": -0.0014396543219173386, \"lower HDI\": -0.475139856338501, \"higher HDI\": -0.007339473348110914, \"mean HDI\": -0.292854368686676, \"log_isi\": -0.015684142636290366, \"zero\": 0}, {\"mouse_code\": 3, \"neuron\": 5, \"i_trial\": 0.0, \"neuron_code\": 0.0, \"log_firing_rate\": -0.11736859675946665, \"Firing rate\": -62.191204501764446, \"firing_rate\": -62.191204501764446, \"i_spike\": 10.25, \"isi diff\": -0.0035264274599532547, \"lower HDI\": -0.475139856338501, \"higher HDI\": -0.007339473348110914, \"mean HDI\": -0.292854368686676, \"log_isi\": -0.04320825149830387, \"zero\": 0}, {\"mouse_code\": 0, \"neuron\": 6, \"i_trial\": 0.0, \"neuron_code\": 0.0, \"log_firing_rate\": 0.024592845789960904, \"Firing rate\": -76.2989769415907, \"firing_rate\": -76.2989769415907, \"i_spike\": 7.5, \"isi diff\": -0.0021746694969936933, \"lower HDI\": -0.7632461190223694, \"higher HDI\": -0.166826531291008, \"mean HDI\": -0.4442459046840668, \"log_isi\": -0.033737663866424406, \"zero\": 0}, {\"mouse_code\": 1, \"neuron\": 6, \"i_trial\": 0.0, \"neuron_code\": 0.0, \"log_firing_rate\": -0.043483464015971585, \"Firing rate\": -36.78985654134263, \"firing_rate\": -36.78985654134263, \"i_spike\": -4.25, \"isi diff\": 0.0007883175837850517, \"lower HDI\": -0.7632461190223694, \"higher HDI\": -0.166826531291008, \"mean HDI\": -0.4442459046840668, \"log_isi\": 0.012504845875672466, \"zero\": 0}, {\"mouse_code\": 2, \"neuron\": 6, \"i_trial\": 0.0, \"neuron_code\": 0.0, \"log_firing_rate\": -0.19502255271692892, \"Firing rate\": -102.18397283510035, \"firing_rate\": -102.18397283510035, \"i_spike\": 2.5, \"isi diff\": -0.0009751349434150604, \"lower HDI\": -0.7632461190223694, \"higher HDI\": -0.166826531291008, \"mean HDI\": -0.4442459046840668, \"log_isi\": -0.012887734113109506, \"zero\": 0}, {\"mouse_code\": 3, \"neuron\": 6, \"i_trial\": 0.0, \"neuron_code\": 0.0, \"log_firing_rate\": -0.22896703861034862, \"Firing rate\": -182.4191386652804, \"firing_rate\": -182.4191386652804, \"i_spike\": 11.75, \"isi diff\": -0.0023095133471799784, \"lower HDI\": -0.7632461190223694, \"higher HDI\": -0.166826531291008, \"mean HDI\": -0.4442459046840668, \"log_isi\": -0.03836030545247793, \"zero\": 0}, {\"mouse_code\": 0, \"neuron\": 7, \"i_trial\": 0.0, \"neuron_code\": 0.0, \"log_firing_rate\": 0.09579169487086237, \"Firing rate\": 63.83946339012857, \"firing_rate\": 63.83946339012857, \"i_spike\": 10.5, \"isi diff\": -0.0019859161472855075, \"lower HDI\": -0.8442139625549316, \"higher HDI\": -0.2251976579427719, \"mean HDI\": -0.545623242855072, \"log_isi\": -0.033323127162322885, \"zero\": 0}, {\"mouse_code\": 1, \"neuron\": 7, \"i_trial\": 0.0, \"neuron_code\": 0.0, \"log_firing_rate\": -0.056150239891223475, \"Firing rate\": -44.973329820799535, \"firing_rate\": -44.973329820799535, \"i_spike\": 10.0, \"isi diff\": -0.0016471245680141043, \"lower HDI\": -0.8442139625549316, \"higher HDI\": -0.2251976579427719, \"mean HDI\": -0.545623242855072, \"log_isi\": -0.03142703563112392, \"zero\": 0}, {\"mouse_code\": 2, \"neuron\": 7, \"i_trial\": 0.0, \"neuron_code\": 0.0, \"log_firing_rate\": -0.020917973950738578, \"Firing rate\": -43.93864979942589, \"firing_rate\": -43.93864979942589, \"i_spike\": -8.75, \"isi diff\": 0.0012903001785725156, \"lower HDI\": -0.8442139625549316, \"higher HDI\": -0.2251976579427719, \"mean HDI\": -0.545623242855072, \"log_isi\": 0.02465795522376979, \"zero\": 0}, {\"mouse_code\": 3, \"neuron\": 7, \"i_trial\": 0.0, \"neuron_code\": 0.0, \"log_firing_rate\": -0.06487427685215152, \"Firing rate\": -45.20393138225006, \"firing_rate\": -45.20393138225006, \"i_spike\": 0.0, \"isi diff\": -0.00011231080891742004, \"lower HDI\": -0.8442139625549316, \"higher HDI\": -0.2251976579427719, \"mean HDI\": -0.545623242855072, \"log_isi\": -0.0008906965149138024, \"zero\": 0}]}}, {\"mode\": \"vega-lite\"});\n",
       "</script>"
      ],
      "text/plain": [
       "alt.LayerChart(...)"
      ]
     },
     "execution_count": 9,
     "metadata": {},
     "output_type": "execute_result"
    }
   ],
   "source": [
    "(chart_d+chart_p).resolve_scale(y='independent')"
   ]
  },
  {
   "cell_type": "code",
   "execution_count": 10,
   "metadata": {
    "hideCode": false,
    "hidePrompt": false
   },
   "outputs": [
    {
     "data": {
      "text/html": [
       "\n",
       "<div id=\"altair-viz-e5a990c4845a453099a32c8a5e4c6b4e\"></div>\n",
       "<script type=\"text/javascript\">\n",
       "  (function(spec, embedOpt){\n",
       "    let outputDiv = document.currentScript.previousElementSibling;\n",
       "    if (outputDiv.id !== \"altair-viz-e5a990c4845a453099a32c8a5e4c6b4e\") {\n",
       "      outputDiv = document.getElementById(\"altair-viz-e5a990c4845a453099a32c8a5e4c6b4e\");\n",
       "    }\n",
       "    const paths = {\n",
       "      \"vega\": \"https://cdn.jsdelivr.net/npm//vega@5?noext\",\n",
       "      \"vega-lib\": \"https://cdn.jsdelivr.net/npm//vega-lib?noext\",\n",
       "      \"vega-lite\": \"https://cdn.jsdelivr.net/npm//vega-lite@4.8.1?noext\",\n",
       "      \"vega-embed\": \"https://cdn.jsdelivr.net/npm//vega-embed@6?noext\",\n",
       "    };\n",
       "\n",
       "    function loadScript(lib) {\n",
       "      return new Promise(function(resolve, reject) {\n",
       "        var s = document.createElement('script');\n",
       "        s.src = paths[lib];\n",
       "        s.async = true;\n",
       "        s.onload = () => resolve(paths[lib]);\n",
       "        s.onerror = () => reject(`Error loading script: ${paths[lib]}`);\n",
       "        document.getElementsByTagName(\"head\")[0].appendChild(s);\n",
       "      });\n",
       "    }\n",
       "\n",
       "    function showError(err) {\n",
       "      outputDiv.innerHTML = `<div class=\"error\" style=\"color:red;\">${err}</div>`;\n",
       "      throw err;\n",
       "    }\n",
       "\n",
       "    function displayChart(vegaEmbed) {\n",
       "      vegaEmbed(outputDiv, spec, embedOpt)\n",
       "        .catch(err => showError(`Javascript Error: ${err.message}<br>This usually means there's a typo in your chart specification. See the javascript console for the full traceback.`));\n",
       "    }\n",
       "\n",
       "    if(typeof define === \"function\" && define.amd) {\n",
       "      requirejs.config({paths});\n",
       "      require([\"vega-embed\"], displayChart, err => showError(`Error loading script: ${err.message}`));\n",
       "    } else if (typeof vegaEmbed === \"function\") {\n",
       "      displayChart(vegaEmbed);\n",
       "    } else {\n",
       "      loadScript(\"vega\")\n",
       "        .then(() => loadScript(\"vega-lite\"))\n",
       "        .then(() => loadScript(\"vega-embed\"))\n",
       "        .catch(showError)\n",
       "        .then(() => displayChart(vegaEmbed));\n",
       "    }\n",
       "  })({\"config\": {\"view\": {\"continuousWidth\": 400, \"continuousHeight\": 300}}, \"data\": {\"name\": \"data-0a0e20c8df75a9deb2ec171620d3a110\"}, \"facet\": {\"column\": {\"type\": \"quantitative\", \"field\": \"neuron\"}}, \"spec\": {\"layer\": [{\"mark\": {\"type\": \"line\", \"fill\": null, \"opacity\": 0.5, \"size\": 3}, \"encoding\": {\"color\": {\"type\": \"nominal\", \"field\": \"mouse_code\"}, \"x\": {\"type\": \"ordinal\", \"field\": \"neuron\"}, \"y\": {\"type\": \"quantitative\", \"aggregate\": \"mean\", \"field\": \"isi diff\", \"scale\": {\"zero\": false}}}}, {\"mark\": {\"type\": \"boxplot\", \"color\": \"black\", \"opacity\": 0.3, \"size\": 12}, \"encoding\": {\"x\": {\"type\": \"ordinal\", \"field\": \"neuron\"}, \"y\": {\"type\": \"quantitative\", \"field\": \"isi diff\", \"scale\": {\"zero\": false}}}}, {\"layer\": [{\"mark\": {\"type\": \"line\", \"color\": \"black\", \"point\": true}, \"encoding\": {\"x\": {\"type\": \"ordinal\", \"field\": \"neuron\"}, \"y\": {\"type\": \"quantitative\", \"field\": \"mean HDI\", \"impute\": {\"value\": \"value\"}}}}, {\"mark\": {\"type\": \"rule\", \"color\": \"black\", \"opacity\": 0.6, \"size\": 0.1}, \"encoding\": {\"y\": {\"type\": \"quantitative\", \"field\": \"zero\"}}}, {\"mark\": \"rule\", \"encoding\": {\"x\": {\"type\": \"ordinal\", \"field\": \"neuron\"}, \"y\": {\"type\": \"quantitative\", \"field\": \"lower HDI\", \"scale\": {\"domain\": [-0.8442139625549316, 0.9846745729446411], \"zero\": false}, \"title\": \"\\u0394 d_isi\"}, \"y2\": {\"field\": \"higher HDI\"}}}]}]}, \"$schema\": \"https://vega.github.io/schema/vega-lite/v4.8.1.json\", \"datasets\": {\"data-0a0e20c8df75a9deb2ec171620d3a110\": [{\"mouse_code\": 0, \"neuron\": 0, \"i_trial\": 0.0, \"neuron_code\": 0.0, \"log_firing_rate\": 0.29981149525715733, \"Firing rate\": 93.87062214930636, \"firing_rate\": 93.87062214930636, \"i_spike\": -4.5, \"isi diff\": 0.010102578314981764, \"lower HDI\": 0.24335512518882751, \"higher HDI\": 0.9846745729446411, \"mean HDI\": 0.6958807110786438, \"log_isi\": 0.04807094779700272, \"zero\": 0}, {\"mouse_code\": 1, \"neuron\": 0, \"i_trial\": 0.0, \"neuron_code\": 0.0, \"log_firing_rate\": 0.2917946224386898, \"Firing rate\": 68.050869078477, \"firing_rate\": 68.050869078477, \"i_spike\": 4.75, \"isi diff\": -0.004008661028097993, \"lower HDI\": 0.24335512518882751, \"higher HDI\": 0.9846745729446411, \"mean HDI\": 0.6958807110786438, \"log_isi\": -0.023165170394781942, \"zero\": 0}, {\"mouse_code\": 2, \"neuron\": 0, \"i_trial\": 0.0, \"neuron_code\": 0.0, \"log_firing_rate\": -0.3588406705141116, \"Firing rate\": -114.17913530419206, \"firing_rate\": -114.17913530419206, \"i_spike\": -5.5, \"isi diff\": 0.007035749771792332, \"lower HDI\": 0.24335512518882751, \"higher HDI\": 0.9846745729446411, \"mean HDI\": 0.6958807110786438, \"log_isi\": 0.041035833905793684, \"zero\": 0}, {\"mouse_code\": 3, \"neuron\": 0, \"i_trial\": 0.0, \"neuron_code\": 0.0, \"log_firing_rate\": 0.39632905001580476, \"Firing rate\": 96.40677000666423, \"firing_rate\": 96.40677000666423, \"i_spike\": 6.5, \"isi diff\": -0.013637238836175236, \"lower HDI\": 0.24335512518882751, \"higher HDI\": 0.9846745729446411, \"mean HDI\": 0.6958807110786438, \"log_isi\": -0.07483279858158665, \"zero\": 0}, {\"mouse_code\": 0, \"neuron\": 1, \"i_trial\": 0.0, \"neuron_code\": 0.0, \"log_firing_rate\": -0.09426780878303331, \"Firing rate\": -27.296378469507005, \"firing_rate\": -27.296378469507005, \"i_spike\": -4.0, \"isi diff\": 0.005225599231986927, \"lower HDI\": 0.006118823308497667, \"higher HDI\": 0.5807800889015198, \"mean HDI\": 0.33636486530303955, \"log_isi\": 0.032987035790368546, \"zero\": 0}, {\"mouse_code\": 1, \"neuron\": 1, \"i_trial\": 0.0, \"neuron_code\": 0.0, \"log_firing_rate\": 0.045925459002813085, \"Firing rate\": 13.665861838772145, \"firing_rate\": 13.665861838772145, \"i_spike\": 6.5, \"isi diff\": -0.005660779596069573, \"lower HDI\": 0.006118823308497667, \"higher HDI\": 0.5807800889015198, \"mean HDI\": 0.33636486530303955, \"log_isi\": -0.038253917009336114, \"zero\": 0}, {\"mouse_code\": 2, \"neuron\": 1, \"i_trial\": 0.0, \"neuron_code\": 0.0, \"log_firing_rate\": 0.16984642682299533, \"Firing rate\": 39.66651327906014, \"firing_rate\": 39.66651327906014, \"i_spike\": 11.75, \"isi diff\": -0.011515440052503503, \"lower HDI\": 0.006118823308497667, \"higher HDI\": 0.5807800889015198, \"mean HDI\": 0.33636486530303955, \"log_isi\": -0.08269828597453888, \"zero\": 0}, {\"mouse_code\": 3, \"neuron\": 1, \"i_trial\": 0.0, \"neuron_code\": 0.0, \"log_firing_rate\": 0.056645457522874754, \"Firing rate\": 44.48229275307308, \"firing_rate\": 44.48229275307308, \"i_spike\": 6.75, \"isi diff\": -0.007092644519308272, \"lower HDI\": 0.006118823308497667, \"higher HDI\": 0.5807800889015198, \"mean HDI\": 0.33636486530303955, \"log_isi\": -0.05256674031796971, \"zero\": 0}, {\"mouse_code\": 0, \"neuron\": 2, \"i_trial\": 0.0, \"neuron_code\": 0.0, \"log_firing_rate\": -0.30628686301988806, \"Firing rate\": -80.47234587892376, \"firing_rate\": -80.47234587892376, \"i_spike\": -8.75, \"isi diff\": 0.010497789884206452, \"lower HDI\": 0.00870837364345789, \"higher HDI\": 0.5575610399246216, \"mean HDI\": 0.24596010148525238, \"log_isi\": 0.06811756632985744, \"zero\": 0}, {\"mouse_code\": 1, \"neuron\": 2, \"i_trial\": 0.0, \"neuron_code\": 0.0, \"log_firing_rate\": 0.2603325646743042, \"Firing rate\": 234.0180787684693, \"firing_rate\": 234.0180787684693, \"i_spike\": -8.75, \"isi diff\": 0.010631497513771439, \"lower HDI\": 0.00870837364345789, \"higher HDI\": 0.5575610399246216, \"mean HDI\": 0.24596010148525238, \"log_isi\": 0.07654713465303331, \"zero\": 0}, {\"mouse_code\": 2, \"neuron\": 2, \"i_trial\": 0.0, \"neuron_code\": 0.0, \"log_firing_rate\": 0.16948979098725925, \"Firing rate\": 106.20313428886504, \"firing_rate\": 106.20313428886504, \"i_spike\": 6.5, \"isi diff\": -0.006989230431800483, \"lower HDI\": 0.00870837364345789, \"higher HDI\": 0.5575610399246216, \"mean HDI\": 0.24596010148525238, \"log_isi\": -0.051728462862029145, \"zero\": 0}, {\"mouse_code\": 3, \"neuron\": 2, \"i_trial\": 0.0, \"neuron_code\": 0.0, \"log_firing_rate\": 0.03402071540792839, \"Firing rate\": 6.412190383894782, \"firing_rate\": 6.412190383894782, \"i_spike\": 20.5, \"isi diff\": -0.01627541452400224, \"lower HDI\": 0.00870837364345789, \"higher HDI\": 0.5575610399246216, \"mean HDI\": 0.24596010148525238, \"log_isi\": -0.1369224818145689, \"zero\": 0}, {\"mouse_code\": 0, \"neuron\": 3, \"i_trial\": 0.0, \"neuron_code\": 0.0, \"log_firing_rate\": -0.03911855032748557, \"Firing rate\": -6.924823788795749, \"firing_rate\": -6.924823788795749, \"i_spike\": 3.5, \"isi diff\": -0.002390429549272627, \"lower HDI\": -0.1751471608877182, \"higher HDI\": 0.1972876489162445, \"mean HDI\": -0.002826286479830742, \"log_isi\": -0.020793762662637327, \"zero\": 0}, {\"mouse_code\": 1, \"neuron\": 3, \"i_trial\": 0.0, \"neuron_code\": 0.0, \"log_firing_rate\": 0.28531707669590434, \"Firing rate\": 1138.6782400072161, \"firing_rate\": 1138.6782400072161, \"i_spike\": 8.5, \"isi diff\": -0.005640822150230866, \"lower HDI\": -0.1751471608877182, \"higher HDI\": 0.1972876489162445, \"mean HDI\": -0.002826286479830742, \"log_isi\": -0.05394527816814976, \"zero\": 0}, {\"mouse_code\": 2, \"neuron\": 3, \"i_trial\": 0.0, \"neuron_code\": 0.0, \"log_firing_rate\": 0.3749338921365992, \"Firing rate\": 1068.080168500041, \"firing_rate\": 1068.080168500041, \"i_spike\": 2.25, \"isi diff\": -0.0020321086801905613, \"lower HDI\": -0.1751471608877182, \"higher HDI\": 0.1972876489162445, \"mean HDI\": -0.002826286479830742, \"log_isi\": -0.01783991427426157, \"zero\": 0}, {\"mouse_code\": 3, \"neuron\": 3, \"i_trial\": 0.0, \"neuron_code\": 0.0, \"log_firing_rate\": -0.007419793161139054, \"Firing rate\": -8.24563375669426, \"firing_rate\": -8.24563375669426, \"i_spike\": 9.0, \"isi diff\": -0.005595560193525903, \"lower HDI\": -0.1751471608877182, \"higher HDI\": 0.1972876489162445, \"mean HDI\": -0.002826286479830742, \"log_isi\": -0.052562038401429145, \"zero\": 0}, {\"mouse_code\": 0, \"neuron\": 4, \"i_trial\": 0.0, \"neuron_code\": 0.0, \"log_firing_rate\": -0.05354426754772135, \"Firing rate\": -16.510190913339898, \"firing_rate\": -16.510190913339898, \"i_spike\": -14.5, \"isi diff\": 0.007687633250528292, \"lower HDI\": -0.39152243733406067, \"higher HDI\": 0.00757667887955904, \"mean HDI\": -0.15814225375652313, \"log_isi\": 0.07709624091653722, \"zero\": 0}, {\"mouse_code\": 1, \"neuron\": 4, \"i_trial\": 0.0, \"neuron_code\": 0.0, \"log_firing_rate\": 0.31067997201914554, \"Firing rate\": 217.39044379772457, \"firing_rate\": 217.39044379772457, \"i_spike\": 10.25, \"isi diff\": -0.004926929522946433, \"lower HDI\": -0.39152243733406067, \"higher HDI\": 0.00757667887955904, \"mean HDI\": -0.15814225375652313, \"log_isi\": -0.051505687067024075, \"zero\": 0}, {\"mouse_code\": 2, \"neuron\": 4, \"i_trial\": 0.0, \"neuron_code\": 0.0, \"log_firing_rate\": 0.20664093602662081, \"Firing rate\": 214.87838377105794, \"firing_rate\": 214.87838377105794, \"i_spike\": 12.0, \"isi diff\": -0.005449327373016483, \"lower HDI\": -0.39152243733406067, \"higher HDI\": 0.00757667887955904, \"mean HDI\": -0.15814225375652313, \"log_isi\": -0.058902525491038915, \"zero\": 0}, {\"mouse_code\": 3, \"neuron\": 4, \"i_trial\": 0.0, \"neuron_code\": 0.0, \"log_firing_rate\": 0.16961667352352894, \"Firing rate\": 51.70579190444204, \"firing_rate\": 51.70579190444204, \"i_spike\": -0.5, \"isi diff\": 0.0002177860801856682, \"lower HDI\": -0.39152243733406067, \"higher HDI\": 0.00757667887955904, \"mean HDI\": -0.15814225375652313, \"log_isi\": 0.0026636062497231716, \"zero\": 0}, {\"mouse_code\": 0, \"neuron\": 5, \"i_trial\": 0.0, \"neuron_code\": 0.0, \"log_firing_rate\": -0.24821117484637867, \"Firing rate\": -121.31596075824899, \"firing_rate\": -121.31596075824899, \"i_spike\": -7.5, \"isi diff\": 0.0027799556803225142, \"lower HDI\": -0.475139856338501, \"higher HDI\": -0.007339473348110914, \"mean HDI\": -0.292854368686676, \"log_isi\": 0.03342321913494617, \"zero\": 0}, {\"mouse_code\": 1, \"neuron\": 5, \"i_trial\": 0.0, \"neuron_code\": 0.0, \"log_firing_rate\": -0.41313642822055474, \"Firing rate\": -284.82068992273196, \"firing_rate\": -284.82068992273196, \"i_spike\": -0.75, \"isi diff\": -0.00012689558713457894, \"lower HDI\": -0.475139856338501, \"higher HDI\": -0.007339473348110914, \"mean HDI\": -0.292854368686676, \"log_isi\": 0.0010756616735154712, \"zero\": 0}, {\"mouse_code\": 2, \"neuron\": 5, \"i_trial\": 0.0, \"neuron_code\": 0.0, \"log_firing_rate\": -0.40312031009283933, \"Firing rate\": -950.163710907638, \"firing_rate\": -950.163710907638, \"i_spike\": 3.75, \"isi diff\": -0.0014396543219173386, \"lower HDI\": -0.475139856338501, \"higher HDI\": -0.007339473348110914, \"mean HDI\": -0.292854368686676, \"log_isi\": -0.015684142636290366, \"zero\": 0}, {\"mouse_code\": 3, \"neuron\": 5, \"i_trial\": 0.0, \"neuron_code\": 0.0, \"log_firing_rate\": -0.11736859675946665, \"Firing rate\": -62.191204501764446, \"firing_rate\": -62.191204501764446, \"i_spike\": 10.25, \"isi diff\": -0.0035264274599532547, \"lower HDI\": -0.475139856338501, \"higher HDI\": -0.007339473348110914, \"mean HDI\": -0.292854368686676, \"log_isi\": -0.04320825149830387, \"zero\": 0}, {\"mouse_code\": 0, \"neuron\": 6, \"i_trial\": 0.0, \"neuron_code\": 0.0, \"log_firing_rate\": 0.024592845789960904, \"Firing rate\": -76.2989769415907, \"firing_rate\": -76.2989769415907, \"i_spike\": 7.5, \"isi diff\": -0.0021746694969936933, \"lower HDI\": -0.7632461190223694, \"higher HDI\": -0.166826531291008, \"mean HDI\": -0.4442459046840668, \"log_isi\": -0.033737663866424406, \"zero\": 0}, {\"mouse_code\": 1, \"neuron\": 6, \"i_trial\": 0.0, \"neuron_code\": 0.0, \"log_firing_rate\": -0.043483464015971585, \"Firing rate\": -36.78985654134263, \"firing_rate\": -36.78985654134263, \"i_spike\": -4.25, \"isi diff\": 0.0007883175837850517, \"lower HDI\": -0.7632461190223694, \"higher HDI\": -0.166826531291008, \"mean HDI\": -0.4442459046840668, \"log_isi\": 0.012504845875672466, \"zero\": 0}, {\"mouse_code\": 2, \"neuron\": 6, \"i_trial\": 0.0, \"neuron_code\": 0.0, \"log_firing_rate\": -0.19502255271692892, \"Firing rate\": -102.18397283510035, \"firing_rate\": -102.18397283510035, \"i_spike\": 2.5, \"isi diff\": -0.0009751349434150604, \"lower HDI\": -0.7632461190223694, \"higher HDI\": -0.166826531291008, \"mean HDI\": -0.4442459046840668, \"log_isi\": -0.012887734113109506, \"zero\": 0}, {\"mouse_code\": 3, \"neuron\": 6, \"i_trial\": 0.0, \"neuron_code\": 0.0, \"log_firing_rate\": -0.22896703861034862, \"Firing rate\": -182.4191386652804, \"firing_rate\": -182.4191386652804, \"i_spike\": 11.75, \"isi diff\": -0.0023095133471799784, \"lower HDI\": -0.7632461190223694, \"higher HDI\": -0.166826531291008, \"mean HDI\": -0.4442459046840668, \"log_isi\": -0.03836030545247793, \"zero\": 0}, {\"mouse_code\": 0, \"neuron\": 7, \"i_trial\": 0.0, \"neuron_code\": 0.0, \"log_firing_rate\": 0.09579169487086237, \"Firing rate\": 63.83946339012857, \"firing_rate\": 63.83946339012857, \"i_spike\": 10.5, \"isi diff\": -0.0019859161472855075, \"lower HDI\": -0.8442139625549316, \"higher HDI\": -0.2251976579427719, \"mean HDI\": -0.545623242855072, \"log_isi\": -0.033323127162322885, \"zero\": 0}, {\"mouse_code\": 1, \"neuron\": 7, \"i_trial\": 0.0, \"neuron_code\": 0.0, \"log_firing_rate\": -0.056150239891223475, \"Firing rate\": -44.973329820799535, \"firing_rate\": -44.973329820799535, \"i_spike\": 10.0, \"isi diff\": -0.0016471245680141043, \"lower HDI\": -0.8442139625549316, \"higher HDI\": -0.2251976579427719, \"mean HDI\": -0.545623242855072, \"log_isi\": -0.03142703563112392, \"zero\": 0}, {\"mouse_code\": 2, \"neuron\": 7, \"i_trial\": 0.0, \"neuron_code\": 0.0, \"log_firing_rate\": -0.020917973950738578, \"Firing rate\": -43.93864979942589, \"firing_rate\": -43.93864979942589, \"i_spike\": -8.75, \"isi diff\": 0.0012903001785725156, \"lower HDI\": -0.8442139625549316, \"higher HDI\": -0.2251976579427719, \"mean HDI\": -0.545623242855072, \"log_isi\": 0.02465795522376979, \"zero\": 0}, {\"mouse_code\": 3, \"neuron\": 7, \"i_trial\": 0.0, \"neuron_code\": 0.0, \"log_firing_rate\": -0.06487427685215152, \"Firing rate\": -45.20393138225006, \"firing_rate\": -45.20393138225006, \"i_spike\": 0.0, \"isi diff\": -0.00011231080891742004, \"lower HDI\": -0.8442139625549316, \"higher HDI\": -0.2251976579427719, \"mean HDI\": -0.545623242855072, \"log_isi\": -0.0008906965149138024, \"zero\": 0}]}}, {\"mode\": \"vega-lite\"});\n",
       "</script>"
      ],
      "text/plain": [
       "alt.FacetChart(...)"
      ]
     },
     "execution_count": 10,
     "metadata": {},
     "output_type": "execute_result"
    }
   ],
   "source": [
    "(chart_d+chart_p).facet(column='neuron')"
   ]
  }
 ],
 "metadata": {
  "hide_code_all_hidden": false,
  "jupytext": {
   "formats": "ipynb,py:light"
  },
  "kernelspec": {
   "display_name": "PyCharm (jup)",
   "language": "python",
   "name": "pycharm-d5912792"
  },
  "language_info": {
   "codemirror_mode": {
    "name": "ipython",
    "version": 3
   },
   "file_extension": ".py",
   "mimetype": "text/x-python",
   "name": "python",
   "nbconvert_exporter": "python",
   "pygments_lexer": "ipython3",
   "version": "3.8.5"
  }
 },
 "nbformat": 4,
 "nbformat_minor": 4
}
