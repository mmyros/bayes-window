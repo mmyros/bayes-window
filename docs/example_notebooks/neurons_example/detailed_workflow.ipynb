{
 "cells": [
  {
   "cell_type": "markdown",
   "metadata": {
    "hideCode": false,
    "hidePrompt": false
   },
   "source": [
    "# Neurons example via low-level, flexible interface\n",
    "## Prepare"
   ]
  },
  {
   "cell_type": "code",
   "execution_count": 1,
   "metadata": {
    "hideCode": false,
    "hidePrompt": false,
    "lines_to_end_of_cell_marker": 2,
    "lines_to_next_cell": 2
   },
   "outputs": [],
   "source": [
    "from bayes_window import models\n",
    "from bayes_window.fitting import fit_numpyro\n",
    "from bayes_window.generative_models import generate_fake_spikes\n",
    "import numpy as np\n",
    "from sklearn.preprocessing import LabelEncoder\n",
    "\n",
    "trans = LabelEncoder().fit_transform"
   ]
  },
  {
   "cell_type": "markdown",
   "metadata": {
    "hideCode": false,
    "hidePrompt": false
   },
   "source": [
    "## Make some data\n"
   ]
  },
  {
   "cell_type": "code",
   "execution_count": 2,
   "metadata": {
    "hideCode": false,
    "hidePrompt": false
   },
   "outputs": [
    {
     "data": {
      "text/html": [
       "\n",
       "<div id=\"altair-viz-629399377645492598ebc0ea26a8b037\"></div>\n",
       "<script type=\"text/javascript\">\n",
       "  (function(spec, embedOpt){\n",
       "    let outputDiv = document.currentScript.previousElementSibling;\n",
       "    if (outputDiv.id !== \"altair-viz-629399377645492598ebc0ea26a8b037\") {\n",
       "      outputDiv = document.getElementById(\"altair-viz-629399377645492598ebc0ea26a8b037\");\n",
       "    }\n",
       "    const paths = {\n",
       "      \"vega\": \"https://cdn.jsdelivr.net/npm//vega@5?noext\",\n",
       "      \"vega-lib\": \"https://cdn.jsdelivr.net/npm//vega-lib?noext\",\n",
       "      \"vega-lite\": \"https://cdn.jsdelivr.net/npm//vega-lite@4.8.1?noext\",\n",
       "      \"vega-embed\": \"https://cdn.jsdelivr.net/npm//vega-embed@6?noext\",\n",
       "    };\n",
       "\n",
       "    function loadScript(lib) {\n",
       "      return new Promise(function(resolve, reject) {\n",
       "        var s = document.createElement('script');\n",
       "        s.src = paths[lib];\n",
       "        s.async = true;\n",
       "        s.onload = () => resolve(paths[lib]);\n",
       "        s.onerror = () => reject(`Error loading script: ${paths[lib]}`);\n",
       "        document.getElementsByTagName(\"head\")[0].appendChild(s);\n",
       "      });\n",
       "    }\n",
       "\n",
       "    function showError(err) {\n",
       "      outputDiv.innerHTML = `<div class=\"error\" style=\"color:red;\">${err}</div>`;\n",
       "      throw err;\n",
       "    }\n",
       "\n",
       "    function displayChart(vegaEmbed) {\n",
       "      vegaEmbed(outputDiv, spec, embedOpt)\n",
       "        .catch(err => showError(`Javascript Error: ${err.message}<br>This usually means there's a typo in your chart specification. See the javascript console for the full traceback.`));\n",
       "    }\n",
       "\n",
       "    if(typeof define === \"function\" && define.amd) {\n",
       "      requirejs.config({paths});\n",
       "      require([\"vega-embed\"], displayChart, err => showError(`Error loading script: ${err.message}`));\n",
       "    } else if (typeof vegaEmbed === \"function\") {\n",
       "      displayChart(vegaEmbed);\n",
       "    } else {\n",
       "      loadScript(\"vega\")\n",
       "        .then(() => loadScript(\"vega-lite\"))\n",
       "        .then(() => loadScript(\"vega-embed\"))\n",
       "        .catch(showError)\n",
       "        .then(() => displayChart(vegaEmbed));\n",
       "    }\n",
       "  })({\"config\": {\"view\": {\"continuousWidth\": 400, \"continuousHeight\": 300}}, \"layer\": [{\"mark\": {\"type\": \"line\", \"clip\": true, \"fill\": null, \"opacity\": 0.5, \"size\": 2.5}, \"encoding\": {\"color\": {\"type\": \"nominal\", \"field\": \"mouse_code\"}, \"x\": {\"type\": \"ordinal\", \"field\": \"neuron\"}, \"y\": {\"type\": \"quantitative\", \"aggregate\": \"mean\", \"field\": \"isi diff\", \"scale\": {\"domain\": [0.8004237465031205, 1.2387462709255725], \"zero\": false}}}}, {\"mark\": {\"type\": \"boxplot\", \"clip\": true, \"color\": \"black\", \"opacity\": 0.3, \"size\": 12}, \"encoding\": {\"x\": {\"type\": \"ordinal\", \"field\": \"neuron\"}, \"y\": {\"type\": \"quantitative\", \"axis\": {\"labels\": false, \"tickCount\": 0, \"title\": \"\"}, \"field\": \"isi diff\", \"scale\": {\"domain\": [0.8004237465031205, 1.2387462709255725], \"zero\": false}}}}], \"data\": {\"name\": \"data-e1e91ec53642379d2c83520d7a514caf\"}, \"$schema\": \"https://vega.github.io/schema/vega-lite/v4.8.1.json\", \"datasets\": {\"data-e1e91ec53642379d2c83520d7a514caf\": [{\"mouse_code\": 0, \"neuron\": 0, \"isi diff\": 0.819116232854968}, {\"mouse_code\": 0, \"neuron\": 1, \"isi diff\": 1.2963360721197756}, {\"mouse_code\": 0, \"neuron\": 2, \"isi diff\": 1.2283653483784953}, {\"mouse_code\": 0, \"neuron\": 3, \"isi diff\": 0.9542466923211609}, {\"mouse_code\": 0, \"neuron\": 4, \"isi diff\": 0.8487599736335272}, {\"mouse_code\": 0, \"neuron\": 5, \"isi diff\": 1.0324615831599697}, {\"mouse_code\": 0, \"neuron\": 6, \"isi diff\": 0.9878772653308734}, {\"mouse_code\": 0, \"neuron\": 7, \"isi diff\": 0.9400224957588801}, {\"mouse_code\": 1, \"neuron\": 0, \"isi diff\": 0.8634491866758652}, {\"mouse_code\": 1, \"neuron\": 1, \"isi diff\": 0.8655078534656031}, {\"mouse_code\": 1, \"neuron\": 2, \"isi diff\": 0.96670613999455}, {\"mouse_code\": 1, \"neuron\": 3, \"isi diff\": 0.793412400896543}, {\"mouse_code\": 1, \"neuron\": 4, \"isi diff\": 0.9564373329083227}, {\"mouse_code\": 1, \"neuron\": 5, \"isi diff\": 0.8583331567799557}, {\"mouse_code\": 1, \"neuron\": 6, \"isi diff\": 0.9563213320123498}, {\"mouse_code\": 1, \"neuron\": 7, \"isi diff\": 1.0368021101562164}, {\"mouse_code\": 2, \"neuron\": 0, \"isi diff\": 0.8061603019994114}, {\"mouse_code\": 2, \"neuron\": 1, \"isi diff\": 0.8914592133070322}, {\"mouse_code\": 2, \"neuron\": 2, \"isi diff\": 0.8867860670738443}, {\"mouse_code\": 2, \"neuron\": 3, \"isi diff\": 0.9604407783670461}, {\"mouse_code\": 2, \"neuron\": 4, \"isi diff\": 1.0613621028227176}, {\"mouse_code\": 2, \"neuron\": 5, \"isi diff\": 0.8655732781631206}, {\"mouse_code\": 2, \"neuron\": 6, \"isi diff\": 0.9130168755283907}, {\"mouse_code\": 2, \"neuron\": 7, \"isi diff\": 1.251434065149778}, {\"mouse_code\": 3, \"neuron\": 0, \"isi diff\": 0.8939809045779983}, {\"mouse_code\": 3, \"neuron\": 1, \"isi diff\": 0.7916271960176426}, {\"mouse_code\": 3, \"neuron\": 2, \"isi diff\": 0.8352353726149291}, {\"mouse_code\": 3, \"neuron\": 3, \"isi diff\": 0.9242316221469932}, {\"mouse_code\": 3, \"neuron\": 4, \"isi diff\": 0.9250880852318849}, {\"mouse_code\": 3, \"neuron\": 5, \"isi diff\": 0.8950366405695339}, {\"mouse_code\": 3, \"neuron\": 6, \"isi diff\": 0.958462425158594}, {\"mouse_code\": 3, \"neuron\": 7, \"isi diff\": 0.9828125093133083}]}}, {\"mode\": \"vega-lite\"});\n",
       "</script>"
      ],
      "text/plain": [
       "alt.LayerChart(...)"
      ]
     },
     "execution_count": 2,
     "metadata": {},
     "output_type": "execute_result"
    }
   ],
   "source": [
    "df, df_monster, index_cols, firing_rates = generate_fake_spikes(n_trials=2,\n",
    "                                                                n_neurons=8,\n",
    "                                                                n_mice=4,\n",
    "                                                                dur=7, )\n",
    "\n",
    "\n",
    "df['log_isi'] = np.log10(df['isi'])\n",
    "\n",
    "from bayes_window import visualization, utils\n",
    "from importlib import reload\n",
    "\n",
    "reload(visualization)\n",
    "reload(utils)\n",
    "y = 'isi'\n",
    "df['neuron'] = df['neuron'].astype(int)\n",
    "ddf, dy = utils.make_fold_change(df,\n",
    "                                 y=y,\n",
    "                                 index_cols=('stim', 'mouse_code', 'neuron'),\n",
    "                                 treatment_name='stim',\n",
    "                                 do_take_mean=True)\n",
    "\n",
    "visualization.plot_data(x='neuron', y=dy, color='mouse_code', add_box=True, df=ddf)"
   ]
  },
  {
   "cell_type": "markdown",
   "metadata": {
    "hideCode": false,
    "hidePrompt": false
   },
   "source": [
    "## Estimate model"
   ]
  },
  {
   "cell_type": "code",
   "execution_count": 3,
   "metadata": {
    "hideCode": false,
    "hidePrompt": false
   },
   "outputs": [
    {
     "name": "stderr",
     "output_type": "stream",
     "text": [
      "sample: 100%|██████████| 1100/1100 [00:05<00:00, 187.03it/s, 31 steps of size 2.07e-01. acc. prob=0.89]\n"
     ]
    }
   ],
   "source": [
    "# y = list(set(df.columns) - set(index_cols))[0]\n",
    "trace = fit_numpyro(y=df[y].values,\n",
    "                    treatment=(df['stim']).astype(int).values,\n",
    "                    condition=trans(df['neuron']),\n",
    "                    group=trans(df['mouse']),\n",
    "                    progress_bar=True,\n",
    "                    model=models.model_hierarchical,\n",
    "                    n_draws=100, num_chains=1, )"
   ]
  },
  {
   "cell_type": "markdown",
   "metadata": {
    "hideCode": false,
    "hidePrompt": false
   },
   "source": [
    "## Add data back"
   ]
  },
  {
   "cell_type": "code",
   "execution_count": 4,
   "metadata": {
    "hideCode": false,
    "hidePrompt": false
   },
   "outputs": [],
   "source": [
    "reload(utils)\n",
    "df_both, trace = utils.add_data_to_posterior(df,\n",
    "                                             posterior=trace.posterior,\n",
    "                                             y=y,\n",
    "                                             fold_change_index_cols=['neuron', 'stim', 'mouse_code', ],\n",
    "                                             treatment_name='stim',\n",
    "                                             b_name='b_stim_per_condition',\n",
    "                                             posterior_index_name='neuron',\n",
    "                                             add_data=True\n",
    "                                             )"
   ]
  },
  {
   "cell_type": "markdown",
   "metadata": {
    "hideCode": false,
    "hidePrompt": false
   },
   "source": [
    "## Plot data and posterior"
   ]
  },
  {
   "cell_type": "code",
   "execution_count": 6,
   "metadata": {
    "hideCode": false,
    "hidePrompt": false
   },
   "outputs": [
    {
     "data": {
      "text/html": [
       "\n",
       "<div id=\"altair-viz-8fe5b59e964240cfa96a7a35380893f9\"></div>\n",
       "<script type=\"text/javascript\">\n",
       "  (function(spec, embedOpt){\n",
       "    let outputDiv = document.currentScript.previousElementSibling;\n",
       "    if (outputDiv.id !== \"altair-viz-8fe5b59e964240cfa96a7a35380893f9\") {\n",
       "      outputDiv = document.getElementById(\"altair-viz-8fe5b59e964240cfa96a7a35380893f9\");\n",
       "    }\n",
       "    const paths = {\n",
       "      \"vega\": \"https://cdn.jsdelivr.net/npm//vega@5?noext\",\n",
       "      \"vega-lib\": \"https://cdn.jsdelivr.net/npm//vega-lib?noext\",\n",
       "      \"vega-lite\": \"https://cdn.jsdelivr.net/npm//vega-lite@4.8.1?noext\",\n",
       "      \"vega-embed\": \"https://cdn.jsdelivr.net/npm//vega-embed@6?noext\",\n",
       "    };\n",
       "\n",
       "    function loadScript(lib) {\n",
       "      return new Promise(function(resolve, reject) {\n",
       "        var s = document.createElement('script');\n",
       "        s.src = paths[lib];\n",
       "        s.async = true;\n",
       "        s.onload = () => resolve(paths[lib]);\n",
       "        s.onerror = () => reject(`Error loading script: ${paths[lib]}`);\n",
       "        document.getElementsByTagName(\"head\")[0].appendChild(s);\n",
       "      });\n",
       "    }\n",
       "\n",
       "    function showError(err) {\n",
       "      outputDiv.innerHTML = `<div class=\"error\" style=\"color:red;\">${err}</div>`;\n",
       "      throw err;\n",
       "    }\n",
       "\n",
       "    function displayChart(vegaEmbed) {\n",
       "      vegaEmbed(outputDiv, spec, embedOpt)\n",
       "        .catch(err => showError(`Javascript Error: ${err.message}<br>This usually means there's a typo in your chart specification. See the javascript console for the full traceback.`));\n",
       "    }\n",
       "\n",
       "    if(typeof define === \"function\" && define.amd) {\n",
       "      requirejs.config({paths});\n",
       "      require([\"vega-embed\"], displayChart, err => showError(`Error loading script: ${err.message}`));\n",
       "    } else if (typeof vegaEmbed === \"function\") {\n",
       "      displayChart(vegaEmbed);\n",
       "    } else {\n",
       "      loadScript(\"vega\")\n",
       "        .then(() => loadScript(\"vega-lite\"))\n",
       "        .then(() => loadScript(\"vega-embed\"))\n",
       "        .catch(showError)\n",
       "        .then(() => displayChart(vegaEmbed));\n",
       "    }\n",
       "  })({\"config\": {\"view\": {\"continuousWidth\": 400, \"continuousHeight\": 300}}, \"layer\": [{\"mark\": {\"type\": \"line\", \"clip\": true, \"fill\": null, \"opacity\": 0.5, \"size\": 2.5}, \"encoding\": {\"color\": {\"type\": \"nominal\", \"field\": \"mouse_code\"}, \"x\": {\"type\": \"ordinal\", \"field\": \"neuron\"}, \"y\": {\"type\": \"quantitative\", \"aggregate\": \"mean\", \"field\": \"isi diff\", \"scale\": {\"domain\": [-0.0152981870219728, 0.008613167533799567], \"zero\": false}}}}, {\"mark\": {\"type\": \"boxplot\", \"clip\": true, \"color\": \"black\", \"opacity\": 0.3, \"size\": 12}, \"encoding\": {\"x\": {\"type\": \"ordinal\", \"field\": \"neuron\"}, \"y\": {\"type\": \"quantitative\", \"axis\": {\"labels\": false, \"tickCount\": 0, \"title\": \"\"}, \"field\": \"isi diff\", \"scale\": {\"domain\": [-0.0152981870219728, 0.008613167533799567], \"zero\": false}}}}], \"data\": {\"name\": \"data-9469fe6c78bd54ff309923089a09e163\"}, \"$schema\": \"https://vega.github.io/schema/vega-lite/v4.8.1.json\", \"datasets\": {\"data-9469fe6c78bd54ff309923089a09e163\": [{\"neuron\": 0, \"mouse_code\": 0, \"lower interval\": 0.29119667410850525, \"higher interval\": 0.9635848999023438, \"mean interval\": 0.557995080947876, \"isi diff\": -0.016814200736493756}, {\"neuron\": 0, \"mouse_code\": 1, \"lower interval\": 0.29119667410850525, \"higher interval\": 0.9635848999023438, \"mean interval\": 0.557995080947876, \"isi diff\": -0.011756001180092665}, {\"neuron\": 0, \"mouse_code\": 2, \"lower interval\": 0.29119667410850525, \"higher interval\": 0.9635848999023438, \"mean interval\": 0.557995080947876, \"isi diff\": -0.01546717333060274}, {\"neuron\": 0, \"mouse_code\": 3, \"lower interval\": 0.29119667410850525, \"higher interval\": 0.9635848999023438, \"mean interval\": 0.557995080947876, \"isi diff\": -0.008471690278318844}, {\"neuron\": 1, \"mouse_code\": 0, \"lower interval\": 0.16812743246555328, \"higher interval\": 0.8816020488739014, \"mean interval\": 0.47664010524749756, \"isi diff\": 0.018564631846427163}, {\"neuron\": 1, \"mouse_code\": 1, \"lower interval\": 0.16812743246555328, \"higher interval\": 0.8816020488739014, \"mean interval\": 0.47664010524749756, \"isi diff\": -0.01136924781431195}, {\"neuron\": 1, \"mouse_code\": 2, \"lower interval\": 0.16812743246555328, \"higher interval\": 0.8816020488739014, \"mean interval\": 0.47664010524749756, \"isi diff\": -0.007915461653656863}, {\"neuron\": 1, \"mouse_code\": 3, \"lower interval\": 0.16812743246555328, \"higher interval\": 0.8816020488739014, \"mean interval\": 0.47664010524749756, \"isi diff\": -0.01515992549673012}, {\"neuron\": 2, \"mouse_code\": 0, \"lower interval\": -0.08645197004079819, \"higher interval\": 0.4628261625766754, \"mean interval\": 0.16908659040927887, \"isi diff\": 0.01249665170800477}, {\"neuron\": 2, \"mouse_code\": 1, \"lower interval\": -0.08645197004079819, \"higher interval\": 0.4628261625766754, \"mean interval\": 0.16908659040927887, \"isi diff\": -0.0018412190359285846}, {\"neuron\": 2, \"mouse_code\": 2, \"lower interval\": -0.08645197004079819, \"higher interval\": 0.4628261625766754, \"mean interval\": 0.16908659040927887, \"isi diff\": -0.00651298751142626}, {\"neuron\": 2, \"mouse_code\": 3, \"lower interval\": -0.08645197004079819, \"higher interval\": 0.4628261625766754, \"mean interval\": 0.16908659040927887, \"isi diff\": -0.010392569269272796}, {\"neuron\": 3, \"mouse_code\": 0, \"lower interval\": -0.24440082907676697, \"higher interval\": 0.2503342926502228, \"mean interval\": 0.007208734750747681, \"isi diff\": -0.0026798512132826455}, {\"neuron\": 3, \"mouse_code\": 1, \"lower interval\": -0.24440082907676697, \"higher interval\": 0.2503342926502228, \"mean interval\": 0.007208734750747681, \"isi diff\": -0.01118847911904515}, {\"neuron\": 3, \"mouse_code\": 2, \"lower interval\": -0.24440082907676697, \"higher interval\": 0.2503342926502228, \"mean interval\": 0.007208734750747681, \"isi diff\": -0.0020362331445882634}, {\"neuron\": 3, \"mouse_code\": 3, \"lower interval\": -0.24440082907676697, \"higher interval\": 0.2503342926502228, \"mean interval\": 0.007208734750747681, \"isi diff\": -0.0038051833257933196}, {\"neuron\": 4, \"mouse_code\": 0, \"lower interval\": -0.5208693146705627, \"higher interval\": 0.05728129297494888, \"mean interval\": -0.23121152818202972, \"isi diff\": -0.006878065789697706}, {\"neuron\": 4, \"mouse_code\": 1, \"lower interval\": -0.5208693146705627, \"higher interval\": 0.05728129297494888, \"mean interval\": -0.23121152818202972, \"isi diff\": -0.00195190637719838}, {\"neuron\": 4, \"mouse_code\": 2, \"lower interval\": -0.5208693146705627, \"higher interval\": 0.05728129297494888, \"mean interval\": -0.23121152818202972, \"isi diff\": 0.0023182230539042087}, {\"neuron\": 4, \"mouse_code\": 3, \"lower interval\": -0.5208693146705627, \"higher interval\": 0.05728129297494888, \"mean interval\": -0.23121152818202972, \"isi diff\": -0.0031157479390257897}, {\"neuron\": 5, \"mouse_code\": 0, \"lower interval\": -0.8381906747817993, \"higher interval\": -0.12133863568305969, \"mean interval\": -0.4342249035835266, \"isi diff\": 0.0010443719061039788}, {\"neuron\": 5, \"mouse_code\": 1, \"lower interval\": -0.8381906747817993, \"higher interval\": -0.12133863568305969, \"mean interval\": -0.4342249035835266, \"isi diff\": -0.005213468093570671}, {\"neuron\": 5, \"mouse_code\": 2, \"lower interval\": -0.8381906747817993, \"higher interval\": -0.12133863568305969, \"mean interval\": -0.4342249035835266, \"isi diff\": -0.004857153170029292}, {\"neuron\": 5, \"mouse_code\": 3, \"lower interval\": -0.8381906747817993, \"higher interval\": -0.12133863568305969, \"mean interval\": -0.4342249035835266, \"isi diff\": -0.0038073961339831555}, {\"neuron\": 6, \"mouse_code\": 0, \"lower interval\": -0.9261724948883057, \"higher interval\": -0.21013838052749634, \"mean interval\": -0.5196501612663269, \"isi diff\": -0.00035374234492130396}, {\"neuron\": 6, \"mouse_code\": 1, \"lower interval\": -0.9261724948883057, \"higher interval\": -0.21013838052749634, \"mean interval\": -0.5196501612663269, \"isi diff\": -0.0012290429489499252}, {\"neuron\": 6, \"mouse_code\": 2, \"lower interval\": -0.9261724948883057, \"higher interval\": -0.21013838052749634, \"mean interval\": -0.5196501612663269, \"isi diff\": -0.002590630303611851}, {\"neuron\": 6, \"mouse_code\": 3, \"lower interval\": -0.9261724948883057, \"higher interval\": -0.21013838052749634, \"mean interval\": -0.5196501612663269, \"isi diff\": -0.001222440791248263}, {\"neuron\": 7, \"mouse_code\": 0, \"lower interval\": -1.0103602409362793, \"higher interval\": -0.16041164100170135, \"mean interval\": -0.6142033338546753, \"isi diff\": -0.0014454864354076814}, {\"neuron\": 7, \"mouse_code\": 1, \"lower interval\": -1.0103602409362793, \"higher interval\": -0.16041164100170135, \"mean interval\": -0.6142033338546753, \"isi diff\": 0.0008234889134981355}, {\"neuron\": 7, \"mouse_code\": 2, \"lower interval\": -1.0103602409362793, \"higher interval\": -0.16041164100170135, \"mean interval\": -0.6142033338546753, \"isi diff\": 0.005435771391268045}, {\"neuron\": 7, \"mouse_code\": 3, \"lower interval\": -1.0103602409362793, \"higher interval\": -0.16041164100170135, \"mean interval\": -0.6142033338546753, \"isi diff\": -0.00040063934983376043}]}}, {\"mode\": \"vega-lite\"});\n",
       "</script>"
      ],
      "text/plain": [
       "alt.LayerChart(...)"
      ]
     },
     "execution_count": 6,
     "metadata": {},
     "output_type": "execute_result"
    }
   ],
   "source": [
    "# BayesWindow.plot_posteriors_slopes(df_both, y=f'{y} diff', x='neuron',color='mouse_code',title=y,hold_for_facet=False,add_box=False)\n",
    "\n",
    "\n",
    "chart_d = visualization.plot_data(df=df_both, x='neuron', y=f'{y} diff', color='mouse_code')\n",
    "chart_d"
   ]
  },
  {
   "cell_type": "code",
   "execution_count": 7,
   "metadata": {
    "hideCode": false,
    "hidePrompt": false,
    "scrolled": false
   },
   "outputs": [
    {
     "data": {
      "text/html": [
       "\n",
       "<div id=\"altair-viz-70f364caac8941f882e7b911ade1b85d\"></div>\n",
       "<script type=\"text/javascript\">\n",
       "  (function(spec, embedOpt){\n",
       "    let outputDiv = document.currentScript.previousElementSibling;\n",
       "    if (outputDiv.id !== \"altair-viz-70f364caac8941f882e7b911ade1b85d\") {\n",
       "      outputDiv = document.getElementById(\"altair-viz-70f364caac8941f882e7b911ade1b85d\");\n",
       "    }\n",
       "    const paths = {\n",
       "      \"vega\": \"https://cdn.jsdelivr.net/npm//vega@5?noext\",\n",
       "      \"vega-lib\": \"https://cdn.jsdelivr.net/npm//vega-lib?noext\",\n",
       "      \"vega-lite\": \"https://cdn.jsdelivr.net/npm//vega-lite@4.8.1?noext\",\n",
       "      \"vega-embed\": \"https://cdn.jsdelivr.net/npm//vega-embed@6?noext\",\n",
       "    };\n",
       "\n",
       "    function loadScript(lib) {\n",
       "      return new Promise(function(resolve, reject) {\n",
       "        var s = document.createElement('script');\n",
       "        s.src = paths[lib];\n",
       "        s.async = true;\n",
       "        s.onload = () => resolve(paths[lib]);\n",
       "        s.onerror = () => reject(`Error loading script: ${paths[lib]}`);\n",
       "        document.getElementsByTagName(\"head\")[0].appendChild(s);\n",
       "      });\n",
       "    }\n",
       "\n",
       "    function showError(err) {\n",
       "      outputDiv.innerHTML = `<div class=\"error\" style=\"color:red;\">${err}</div>`;\n",
       "      throw err;\n",
       "    }\n",
       "\n",
       "    function displayChart(vegaEmbed) {\n",
       "      vegaEmbed(outputDiv, spec, embedOpt)\n",
       "        .catch(err => showError(`Javascript Error: ${err.message}<br>This usually means there's a typo in your chart specification. See the javascript console for the full traceback.`));\n",
       "    }\n",
       "\n",
       "    if(typeof define === \"function\" && define.amd) {\n",
       "      requirejs.config({paths});\n",
       "      require([\"vega-embed\"], displayChart, err => showError(`Error loading script: ${err.message}`));\n",
       "    } else if (typeof vegaEmbed === \"function\") {\n",
       "      displayChart(vegaEmbed);\n",
       "    } else {\n",
       "      loadScript(\"vega\")\n",
       "        .then(() => loadScript(\"vega-lite\"))\n",
       "        .then(() => loadScript(\"vega-embed\"))\n",
       "        .catch(showError)\n",
       "        .then(() => displayChart(vegaEmbed));\n",
       "    }\n",
       "  })({\"config\": {\"view\": {\"continuousWidth\": 400, \"continuousHeight\": 300}}, \"layer\": [{\"mark\": {\"type\": \"line\", \"clip\": true, \"color\": \"black\", \"fill\": null, \"point\": true}, \"encoding\": {\"x\": {\"type\": \"ordinal\", \"field\": \"neuron\"}, \"y\": {\"type\": \"quantitative\", \"field\": \"mean interval\", \"impute\": {\"value\": \"value\"}}}}, {\"mark\": {\"type\": \"rule\", \"color\": \"black\", \"opacity\": 0.6, \"size\": 0.1}, \"encoding\": {\"y\": {\"type\": \"quantitative\", \"field\": \"zero\"}}}, {\"mark\": \"rule\", \"encoding\": {\"x\": {\"type\": \"ordinal\", \"field\": \"neuron\"}, \"y\": {\"type\": \"quantitative\", \"field\": \"lower interval\", \"scale\": {\"domain\": [-1.0103602409362793, 0.9635848999023438], \"zero\": true}, \"title\": \"\\u0394 d_isi\"}, \"y2\": {\"field\": \"higher interval\"}}}], \"data\": {\"name\": \"data-72e5907a3362eaa2c5094262e6a78ddf\"}, \"$schema\": \"https://vega.github.io/schema/vega-lite/v4.8.1.json\", \"datasets\": {\"data-72e5907a3362eaa2c5094262e6a78ddf\": [{\"neuron\": 0, \"mouse_code\": 0, \"lower interval\": 0.29119667410850525, \"higher interval\": 0.9635848999023438, \"mean interval\": 0.557995080947876, \"isi diff\": -0.016814200736493756, \"zero\": 0}, {\"neuron\": 0, \"mouse_code\": 1, \"lower interval\": 0.29119667410850525, \"higher interval\": 0.9635848999023438, \"mean interval\": 0.557995080947876, \"isi diff\": -0.011756001180092665, \"zero\": 0}, {\"neuron\": 0, \"mouse_code\": 2, \"lower interval\": 0.29119667410850525, \"higher interval\": 0.9635848999023438, \"mean interval\": 0.557995080947876, \"isi diff\": -0.01546717333060274, \"zero\": 0}, {\"neuron\": 0, \"mouse_code\": 3, \"lower interval\": 0.29119667410850525, \"higher interval\": 0.9635848999023438, \"mean interval\": 0.557995080947876, \"isi diff\": -0.008471690278318844, \"zero\": 0}, {\"neuron\": 1, \"mouse_code\": 0, \"lower interval\": 0.16812743246555328, \"higher interval\": 0.8816020488739014, \"mean interval\": 0.47664010524749756, \"isi diff\": 0.018564631846427163, \"zero\": 0}, {\"neuron\": 1, \"mouse_code\": 1, \"lower interval\": 0.16812743246555328, \"higher interval\": 0.8816020488739014, \"mean interval\": 0.47664010524749756, \"isi diff\": -0.01136924781431195, \"zero\": 0}, {\"neuron\": 1, \"mouse_code\": 2, \"lower interval\": 0.16812743246555328, \"higher interval\": 0.8816020488739014, \"mean interval\": 0.47664010524749756, \"isi diff\": -0.007915461653656863, \"zero\": 0}, {\"neuron\": 1, \"mouse_code\": 3, \"lower interval\": 0.16812743246555328, \"higher interval\": 0.8816020488739014, \"mean interval\": 0.47664010524749756, \"isi diff\": -0.01515992549673012, \"zero\": 0}, {\"neuron\": 2, \"mouse_code\": 0, \"lower interval\": -0.08645197004079819, \"higher interval\": 0.4628261625766754, \"mean interval\": 0.16908659040927887, \"isi diff\": 0.01249665170800477, \"zero\": 0}, {\"neuron\": 2, \"mouse_code\": 1, \"lower interval\": -0.08645197004079819, \"higher interval\": 0.4628261625766754, \"mean interval\": 0.16908659040927887, \"isi diff\": -0.0018412190359285846, \"zero\": 0}, {\"neuron\": 2, \"mouse_code\": 2, \"lower interval\": -0.08645197004079819, \"higher interval\": 0.4628261625766754, \"mean interval\": 0.16908659040927887, \"isi diff\": -0.00651298751142626, \"zero\": 0}, {\"neuron\": 2, \"mouse_code\": 3, \"lower interval\": -0.08645197004079819, \"higher interval\": 0.4628261625766754, \"mean interval\": 0.16908659040927887, \"isi diff\": -0.010392569269272796, \"zero\": 0}, {\"neuron\": 3, \"mouse_code\": 0, \"lower interval\": -0.24440082907676697, \"higher interval\": 0.2503342926502228, \"mean interval\": 0.007208734750747681, \"isi diff\": -0.0026798512132826455, \"zero\": 0}, {\"neuron\": 3, \"mouse_code\": 1, \"lower interval\": -0.24440082907676697, \"higher interval\": 0.2503342926502228, \"mean interval\": 0.007208734750747681, \"isi diff\": -0.01118847911904515, \"zero\": 0}, {\"neuron\": 3, \"mouse_code\": 2, \"lower interval\": -0.24440082907676697, \"higher interval\": 0.2503342926502228, \"mean interval\": 0.007208734750747681, \"isi diff\": -0.0020362331445882634, \"zero\": 0}, {\"neuron\": 3, \"mouse_code\": 3, \"lower interval\": -0.24440082907676697, \"higher interval\": 0.2503342926502228, \"mean interval\": 0.007208734750747681, \"isi diff\": -0.0038051833257933196, \"zero\": 0}, {\"neuron\": 4, \"mouse_code\": 0, \"lower interval\": -0.5208693146705627, \"higher interval\": 0.05728129297494888, \"mean interval\": -0.23121152818202972, \"isi diff\": -0.006878065789697706, \"zero\": 0}, {\"neuron\": 4, \"mouse_code\": 1, \"lower interval\": -0.5208693146705627, \"higher interval\": 0.05728129297494888, \"mean interval\": -0.23121152818202972, \"isi diff\": -0.00195190637719838, \"zero\": 0}, {\"neuron\": 4, \"mouse_code\": 2, \"lower interval\": -0.5208693146705627, \"higher interval\": 0.05728129297494888, \"mean interval\": -0.23121152818202972, \"isi diff\": 0.0023182230539042087, \"zero\": 0}, {\"neuron\": 4, \"mouse_code\": 3, \"lower interval\": -0.5208693146705627, \"higher interval\": 0.05728129297494888, \"mean interval\": -0.23121152818202972, \"isi diff\": -0.0031157479390257897, \"zero\": 0}, {\"neuron\": 5, \"mouse_code\": 0, \"lower interval\": -0.8381906747817993, \"higher interval\": -0.12133863568305969, \"mean interval\": -0.4342249035835266, \"isi diff\": 0.0010443719061039788, \"zero\": 0}, {\"neuron\": 5, \"mouse_code\": 1, \"lower interval\": -0.8381906747817993, \"higher interval\": -0.12133863568305969, \"mean interval\": -0.4342249035835266, \"isi diff\": -0.005213468093570671, \"zero\": 0}, {\"neuron\": 5, \"mouse_code\": 2, \"lower interval\": -0.8381906747817993, \"higher interval\": -0.12133863568305969, \"mean interval\": -0.4342249035835266, \"isi diff\": -0.004857153170029292, \"zero\": 0}, {\"neuron\": 5, \"mouse_code\": 3, \"lower interval\": -0.8381906747817993, \"higher interval\": -0.12133863568305969, \"mean interval\": -0.4342249035835266, \"isi diff\": -0.0038073961339831555, \"zero\": 0}, {\"neuron\": 6, \"mouse_code\": 0, \"lower interval\": -0.9261724948883057, \"higher interval\": -0.21013838052749634, \"mean interval\": -0.5196501612663269, \"isi diff\": -0.00035374234492130396, \"zero\": 0}, {\"neuron\": 6, \"mouse_code\": 1, \"lower interval\": -0.9261724948883057, \"higher interval\": -0.21013838052749634, \"mean interval\": -0.5196501612663269, \"isi diff\": -0.0012290429489499252, \"zero\": 0}, {\"neuron\": 6, \"mouse_code\": 2, \"lower interval\": -0.9261724948883057, \"higher interval\": -0.21013838052749634, \"mean interval\": -0.5196501612663269, \"isi diff\": -0.002590630303611851, \"zero\": 0}, {\"neuron\": 6, \"mouse_code\": 3, \"lower interval\": -0.9261724948883057, \"higher interval\": -0.21013838052749634, \"mean interval\": -0.5196501612663269, \"isi diff\": -0.001222440791248263, \"zero\": 0}, {\"neuron\": 7, \"mouse_code\": 0, \"lower interval\": -1.0103602409362793, \"higher interval\": -0.16041164100170135, \"mean interval\": -0.6142033338546753, \"isi diff\": -0.0014454864354076814, \"zero\": 0}, {\"neuron\": 7, \"mouse_code\": 1, \"lower interval\": -1.0103602409362793, \"higher interval\": -0.16041164100170135, \"mean interval\": -0.6142033338546753, \"isi diff\": 0.0008234889134981355, \"zero\": 0}, {\"neuron\": 7, \"mouse_code\": 2, \"lower interval\": -1.0103602409362793, \"higher interval\": -0.16041164100170135, \"mean interval\": -0.6142033338546753, \"isi diff\": 0.005435771391268045, \"zero\": 0}, {\"neuron\": 7, \"mouse_code\": 3, \"lower interval\": -1.0103602409362793, \"higher interval\": -0.16041164100170135, \"mean interval\": -0.6142033338546753, \"isi diff\": -0.00040063934983376043, \"zero\": 0}]}}, {\"mode\": \"vega-lite\"});\n",
       "</script>"
      ],
      "text/plain": [
       "alt.LayerChart(...)"
      ]
     },
     "execution_count": 7,
     "metadata": {},
     "output_type": "execute_result"
    }
   ],
   "source": [
    "chart_p = visualization.plot_posterior(df=df_both, title=f'd_{y}', x='neuron', )\n",
    "chart_p"
   ]
  },
  {
   "cell_type": "code",
   "execution_count": 8,
   "metadata": {
    "hideCode": false,
    "hidePrompt": false
   },
   "outputs": [
    {
     "data": {
      "text/html": [
       "\n",
       "<div id=\"altair-viz-adcefb4ed7c9461da7561da583e28b42\"></div>\n",
       "<script type=\"text/javascript\">\n",
       "  (function(spec, embedOpt){\n",
       "    let outputDiv = document.currentScript.previousElementSibling;\n",
       "    if (outputDiv.id !== \"altair-viz-adcefb4ed7c9461da7561da583e28b42\") {\n",
       "      outputDiv = document.getElementById(\"altair-viz-adcefb4ed7c9461da7561da583e28b42\");\n",
       "    }\n",
       "    const paths = {\n",
       "      \"vega\": \"https://cdn.jsdelivr.net/npm//vega@5?noext\",\n",
       "      \"vega-lib\": \"https://cdn.jsdelivr.net/npm//vega-lib?noext\",\n",
       "      \"vega-lite\": \"https://cdn.jsdelivr.net/npm//vega-lite@4.8.1?noext\",\n",
       "      \"vega-embed\": \"https://cdn.jsdelivr.net/npm//vega-embed@6?noext\",\n",
       "    };\n",
       "\n",
       "    function loadScript(lib) {\n",
       "      return new Promise(function(resolve, reject) {\n",
       "        var s = document.createElement('script');\n",
       "        s.src = paths[lib];\n",
       "        s.async = true;\n",
       "        s.onload = () => resolve(paths[lib]);\n",
       "        s.onerror = () => reject(`Error loading script: ${paths[lib]}`);\n",
       "        document.getElementsByTagName(\"head\")[0].appendChild(s);\n",
       "      });\n",
       "    }\n",
       "\n",
       "    function showError(err) {\n",
       "      outputDiv.innerHTML = `<div class=\"error\" style=\"color:red;\">${err}</div>`;\n",
       "      throw err;\n",
       "    }\n",
       "\n",
       "    function displayChart(vegaEmbed) {\n",
       "      vegaEmbed(outputDiv, spec, embedOpt)\n",
       "        .catch(err => showError(`Javascript Error: ${err.message}<br>This usually means there's a typo in your chart specification. See the javascript console for the full traceback.`));\n",
       "    }\n",
       "\n",
       "    if(typeof define === \"function\" && define.amd) {\n",
       "      requirejs.config({paths});\n",
       "      require([\"vega-embed\"], displayChart, err => showError(`Error loading script: ${err.message}`));\n",
       "    } else if (typeof vegaEmbed === \"function\") {\n",
       "      displayChart(vegaEmbed);\n",
       "    } else {\n",
       "      loadScript(\"vega\")\n",
       "        .then(() => loadScript(\"vega-lite\"))\n",
       "        .then(() => loadScript(\"vega-embed\"))\n",
       "        .catch(showError)\n",
       "        .then(() => displayChart(vegaEmbed));\n",
       "    }\n",
       "  })({\"config\": {\"view\": {\"continuousWidth\": 400, \"continuousHeight\": 300}}, \"layer\": [{\"mark\": {\"type\": \"line\", \"clip\": true, \"fill\": null, \"opacity\": 0.5, \"size\": 2.5}, \"encoding\": {\"color\": {\"type\": \"nominal\", \"field\": \"mouse_code\"}, \"x\": {\"type\": \"ordinal\", \"field\": \"neuron\"}, \"y\": {\"type\": \"quantitative\", \"aggregate\": \"mean\", \"field\": \"isi diff\", \"scale\": {\"domain\": [-0.0152981870219728, 0.008613167533799567], \"zero\": false}}}}, {\"mark\": {\"type\": \"boxplot\", \"clip\": true, \"color\": \"black\", \"opacity\": 0.3, \"size\": 12}, \"encoding\": {\"x\": {\"type\": \"ordinal\", \"field\": \"neuron\"}, \"y\": {\"type\": \"quantitative\", \"axis\": {\"labels\": false, \"tickCount\": 0, \"title\": \"\"}, \"field\": \"isi diff\", \"scale\": {\"domain\": [-0.0152981870219728, 0.008613167533799567], \"zero\": false}}}}, {\"layer\": [{\"mark\": {\"type\": \"line\", \"clip\": true, \"color\": \"black\", \"fill\": null, \"point\": true}, \"encoding\": {\"x\": {\"type\": \"ordinal\", \"field\": \"neuron\"}, \"y\": {\"type\": \"quantitative\", \"field\": \"mean interval\", \"impute\": {\"value\": \"value\"}}}}, {\"mark\": {\"type\": \"rule\", \"color\": \"black\", \"opacity\": 0.6, \"size\": 0.1}, \"encoding\": {\"y\": {\"type\": \"quantitative\", \"field\": \"zero\"}}}, {\"mark\": \"rule\", \"encoding\": {\"x\": {\"type\": \"ordinal\", \"field\": \"neuron\"}, \"y\": {\"type\": \"quantitative\", \"field\": \"lower interval\", \"scale\": {\"domain\": [-1.0103602409362793, 0.9635848999023438], \"zero\": true}, \"title\": \"\\u0394 d_isi\"}, \"y2\": {\"field\": \"higher interval\"}}}]}], \"data\": {\"name\": \"data-72e5907a3362eaa2c5094262e6a78ddf\"}, \"resolve\": {\"scale\": {\"y\": \"independent\"}}, \"$schema\": \"https://vega.github.io/schema/vega-lite/v4.8.1.json\", \"datasets\": {\"data-72e5907a3362eaa2c5094262e6a78ddf\": [{\"neuron\": 0, \"mouse_code\": 0, \"lower interval\": 0.29119667410850525, \"higher interval\": 0.9635848999023438, \"mean interval\": 0.557995080947876, \"isi diff\": -0.016814200736493756, \"zero\": 0}, {\"neuron\": 0, \"mouse_code\": 1, \"lower interval\": 0.29119667410850525, \"higher interval\": 0.9635848999023438, \"mean interval\": 0.557995080947876, \"isi diff\": -0.011756001180092665, \"zero\": 0}, {\"neuron\": 0, \"mouse_code\": 2, \"lower interval\": 0.29119667410850525, \"higher interval\": 0.9635848999023438, \"mean interval\": 0.557995080947876, \"isi diff\": -0.01546717333060274, \"zero\": 0}, {\"neuron\": 0, \"mouse_code\": 3, \"lower interval\": 0.29119667410850525, \"higher interval\": 0.9635848999023438, \"mean interval\": 0.557995080947876, \"isi diff\": -0.008471690278318844, \"zero\": 0}, {\"neuron\": 1, \"mouse_code\": 0, \"lower interval\": 0.16812743246555328, \"higher interval\": 0.8816020488739014, \"mean interval\": 0.47664010524749756, \"isi diff\": 0.018564631846427163, \"zero\": 0}, {\"neuron\": 1, \"mouse_code\": 1, \"lower interval\": 0.16812743246555328, \"higher interval\": 0.8816020488739014, \"mean interval\": 0.47664010524749756, \"isi diff\": -0.01136924781431195, \"zero\": 0}, {\"neuron\": 1, \"mouse_code\": 2, \"lower interval\": 0.16812743246555328, \"higher interval\": 0.8816020488739014, \"mean interval\": 0.47664010524749756, \"isi diff\": -0.007915461653656863, \"zero\": 0}, {\"neuron\": 1, \"mouse_code\": 3, \"lower interval\": 0.16812743246555328, \"higher interval\": 0.8816020488739014, \"mean interval\": 0.47664010524749756, \"isi diff\": -0.01515992549673012, \"zero\": 0}, {\"neuron\": 2, \"mouse_code\": 0, \"lower interval\": -0.08645197004079819, \"higher interval\": 0.4628261625766754, \"mean interval\": 0.16908659040927887, \"isi diff\": 0.01249665170800477, \"zero\": 0}, {\"neuron\": 2, \"mouse_code\": 1, \"lower interval\": -0.08645197004079819, \"higher interval\": 0.4628261625766754, \"mean interval\": 0.16908659040927887, \"isi diff\": -0.0018412190359285846, \"zero\": 0}, {\"neuron\": 2, \"mouse_code\": 2, \"lower interval\": -0.08645197004079819, \"higher interval\": 0.4628261625766754, \"mean interval\": 0.16908659040927887, \"isi diff\": -0.00651298751142626, \"zero\": 0}, {\"neuron\": 2, \"mouse_code\": 3, \"lower interval\": -0.08645197004079819, \"higher interval\": 0.4628261625766754, \"mean interval\": 0.16908659040927887, \"isi diff\": -0.010392569269272796, \"zero\": 0}, {\"neuron\": 3, \"mouse_code\": 0, \"lower interval\": -0.24440082907676697, \"higher interval\": 0.2503342926502228, \"mean interval\": 0.007208734750747681, \"isi diff\": -0.0026798512132826455, \"zero\": 0}, {\"neuron\": 3, \"mouse_code\": 1, \"lower interval\": -0.24440082907676697, \"higher interval\": 0.2503342926502228, \"mean interval\": 0.007208734750747681, \"isi diff\": -0.01118847911904515, \"zero\": 0}, {\"neuron\": 3, \"mouse_code\": 2, \"lower interval\": -0.24440082907676697, \"higher interval\": 0.2503342926502228, \"mean interval\": 0.007208734750747681, \"isi diff\": -0.0020362331445882634, \"zero\": 0}, {\"neuron\": 3, \"mouse_code\": 3, \"lower interval\": -0.24440082907676697, \"higher interval\": 0.2503342926502228, \"mean interval\": 0.007208734750747681, \"isi diff\": -0.0038051833257933196, \"zero\": 0}, {\"neuron\": 4, \"mouse_code\": 0, \"lower interval\": -0.5208693146705627, \"higher interval\": 0.05728129297494888, \"mean interval\": -0.23121152818202972, \"isi diff\": -0.006878065789697706, \"zero\": 0}, {\"neuron\": 4, \"mouse_code\": 1, \"lower interval\": -0.5208693146705627, \"higher interval\": 0.05728129297494888, \"mean interval\": -0.23121152818202972, \"isi diff\": -0.00195190637719838, \"zero\": 0}, {\"neuron\": 4, \"mouse_code\": 2, \"lower interval\": -0.5208693146705627, \"higher interval\": 0.05728129297494888, \"mean interval\": -0.23121152818202972, \"isi diff\": 0.0023182230539042087, \"zero\": 0}, {\"neuron\": 4, \"mouse_code\": 3, \"lower interval\": -0.5208693146705627, \"higher interval\": 0.05728129297494888, \"mean interval\": -0.23121152818202972, \"isi diff\": -0.0031157479390257897, \"zero\": 0}, {\"neuron\": 5, \"mouse_code\": 0, \"lower interval\": -0.8381906747817993, \"higher interval\": -0.12133863568305969, \"mean interval\": -0.4342249035835266, \"isi diff\": 0.0010443719061039788, \"zero\": 0}, {\"neuron\": 5, \"mouse_code\": 1, \"lower interval\": -0.8381906747817993, \"higher interval\": -0.12133863568305969, \"mean interval\": -0.4342249035835266, \"isi diff\": -0.005213468093570671, \"zero\": 0}, {\"neuron\": 5, \"mouse_code\": 2, \"lower interval\": -0.8381906747817993, \"higher interval\": -0.12133863568305969, \"mean interval\": -0.4342249035835266, \"isi diff\": -0.004857153170029292, \"zero\": 0}, {\"neuron\": 5, \"mouse_code\": 3, \"lower interval\": -0.8381906747817993, \"higher interval\": -0.12133863568305969, \"mean interval\": -0.4342249035835266, \"isi diff\": -0.0038073961339831555, \"zero\": 0}, {\"neuron\": 6, \"mouse_code\": 0, \"lower interval\": -0.9261724948883057, \"higher interval\": -0.21013838052749634, \"mean interval\": -0.5196501612663269, \"isi diff\": -0.00035374234492130396, \"zero\": 0}, {\"neuron\": 6, \"mouse_code\": 1, \"lower interval\": -0.9261724948883057, \"higher interval\": -0.21013838052749634, \"mean interval\": -0.5196501612663269, \"isi diff\": -0.0012290429489499252, \"zero\": 0}, {\"neuron\": 6, \"mouse_code\": 2, \"lower interval\": -0.9261724948883057, \"higher interval\": -0.21013838052749634, \"mean interval\": -0.5196501612663269, \"isi diff\": -0.002590630303611851, \"zero\": 0}, {\"neuron\": 6, \"mouse_code\": 3, \"lower interval\": -0.9261724948883057, \"higher interval\": -0.21013838052749634, \"mean interval\": -0.5196501612663269, \"isi diff\": -0.001222440791248263, \"zero\": 0}, {\"neuron\": 7, \"mouse_code\": 0, \"lower interval\": -1.0103602409362793, \"higher interval\": -0.16041164100170135, \"mean interval\": -0.6142033338546753, \"isi diff\": -0.0014454864354076814, \"zero\": 0}, {\"neuron\": 7, \"mouse_code\": 1, \"lower interval\": -1.0103602409362793, \"higher interval\": -0.16041164100170135, \"mean interval\": -0.6142033338546753, \"isi diff\": 0.0008234889134981355, \"zero\": 0}, {\"neuron\": 7, \"mouse_code\": 2, \"lower interval\": -1.0103602409362793, \"higher interval\": -0.16041164100170135, \"mean interval\": -0.6142033338546753, \"isi diff\": 0.005435771391268045, \"zero\": 0}, {\"neuron\": 7, \"mouse_code\": 3, \"lower interval\": -1.0103602409362793, \"higher interval\": -0.16041164100170135, \"mean interval\": -0.6142033338546753, \"isi diff\": -0.00040063934983376043, \"zero\": 0}]}}, {\"mode\": \"vega-lite\"});\n",
       "</script>"
      ],
      "text/plain": [
       "alt.LayerChart(...)"
      ]
     },
     "execution_count": 8,
     "metadata": {},
     "output_type": "execute_result"
    }
   ],
   "source": [
    "(chart_d + chart_p).resolve_scale(y='independent')"
   ]
  },
  {
   "cell_type": "code",
   "execution_count": 9,
   "metadata": {
    "hideCode": false,
    "hidePrompt": false
   },
   "outputs": [
    {
     "data": {
      "text/html": [
       "\n",
       "<div id=\"altair-viz-551907f2f1214261abfd8fc3720cc86a\"></div>\n",
       "<script type=\"text/javascript\">\n",
       "  (function(spec, embedOpt){\n",
       "    let outputDiv = document.currentScript.previousElementSibling;\n",
       "    if (outputDiv.id !== \"altair-viz-551907f2f1214261abfd8fc3720cc86a\") {\n",
       "      outputDiv = document.getElementById(\"altair-viz-551907f2f1214261abfd8fc3720cc86a\");\n",
       "    }\n",
       "    const paths = {\n",
       "      \"vega\": \"https://cdn.jsdelivr.net/npm//vega@5?noext\",\n",
       "      \"vega-lib\": \"https://cdn.jsdelivr.net/npm//vega-lib?noext\",\n",
       "      \"vega-lite\": \"https://cdn.jsdelivr.net/npm//vega-lite@4.8.1?noext\",\n",
       "      \"vega-embed\": \"https://cdn.jsdelivr.net/npm//vega-embed@6?noext\",\n",
       "    };\n",
       "\n",
       "    function loadScript(lib) {\n",
       "      return new Promise(function(resolve, reject) {\n",
       "        var s = document.createElement('script');\n",
       "        s.src = paths[lib];\n",
       "        s.async = true;\n",
       "        s.onload = () => resolve(paths[lib]);\n",
       "        s.onerror = () => reject(`Error loading script: ${paths[lib]}`);\n",
       "        document.getElementsByTagName(\"head\")[0].appendChild(s);\n",
       "      });\n",
       "    }\n",
       "\n",
       "    function showError(err) {\n",
       "      outputDiv.innerHTML = `<div class=\"error\" style=\"color:red;\">${err}</div>`;\n",
       "      throw err;\n",
       "    }\n",
       "\n",
       "    function displayChart(vegaEmbed) {\n",
       "      vegaEmbed(outputDiv, spec, embedOpt)\n",
       "        .catch(err => showError(`Javascript Error: ${err.message}<br>This usually means there's a typo in your chart specification. See the javascript console for the full traceback.`));\n",
       "    }\n",
       "\n",
       "    if(typeof define === \"function\" && define.amd) {\n",
       "      requirejs.config({paths});\n",
       "      require([\"vega-embed\"], displayChart, err => showError(`Error loading script: ${err.message}`));\n",
       "    } else if (typeof vegaEmbed === \"function\") {\n",
       "      displayChart(vegaEmbed);\n",
       "    } else {\n",
       "      loadScript(\"vega\")\n",
       "        .then(() => loadScript(\"vega-lite\"))\n",
       "        .then(() => loadScript(\"vega-embed\"))\n",
       "        .catch(showError)\n",
       "        .then(() => displayChart(vegaEmbed));\n",
       "    }\n",
       "  })({\"config\": {\"view\": {\"continuousWidth\": 400, \"continuousHeight\": 300}}, \"data\": {\"name\": \"data-72e5907a3362eaa2c5094262e6a78ddf\"}, \"facet\": {\"column\": {\"type\": \"quantitative\", \"field\": \"neuron\"}}, \"spec\": {\"layer\": [{\"mark\": {\"type\": \"line\", \"clip\": true, \"fill\": null, \"opacity\": 0.5, \"size\": 2.5}, \"encoding\": {\"color\": {\"type\": \"nominal\", \"field\": \"mouse_code\"}, \"x\": {\"type\": \"ordinal\", \"field\": \"neuron\"}, \"y\": {\"type\": \"quantitative\", \"aggregate\": \"mean\", \"field\": \"isi diff\", \"scale\": {\"domain\": [-0.0152981870219728, 0.008613167533799567], \"zero\": false}}}}, {\"mark\": {\"type\": \"boxplot\", \"clip\": true, \"color\": \"black\", \"opacity\": 0.3, \"size\": 12}, \"encoding\": {\"x\": {\"type\": \"ordinal\", \"field\": \"neuron\"}, \"y\": {\"type\": \"quantitative\", \"axis\": {\"labels\": false, \"tickCount\": 0, \"title\": \"\"}, \"field\": \"isi diff\", \"scale\": {\"domain\": [-0.0152981870219728, 0.008613167533799567], \"zero\": false}}}}, {\"layer\": [{\"mark\": {\"type\": \"line\", \"clip\": true, \"color\": \"black\", \"fill\": null, \"point\": true}, \"encoding\": {\"x\": {\"type\": \"ordinal\", \"field\": \"neuron\"}, \"y\": {\"type\": \"quantitative\", \"field\": \"mean interval\", \"impute\": {\"value\": \"value\"}}}}, {\"mark\": {\"type\": \"rule\", \"color\": \"black\", \"opacity\": 0.6, \"size\": 0.1}, \"encoding\": {\"y\": {\"type\": \"quantitative\", \"field\": \"zero\"}}}, {\"mark\": \"rule\", \"encoding\": {\"x\": {\"type\": \"ordinal\", \"field\": \"neuron\"}, \"y\": {\"type\": \"quantitative\", \"field\": \"lower interval\", \"scale\": {\"domain\": [-1.0103602409362793, 0.9635848999023438], \"zero\": true}, \"title\": \"\\u0394 d_isi\"}, \"y2\": {\"field\": \"higher interval\"}}}]}]}, \"$schema\": \"https://vega.github.io/schema/vega-lite/v4.8.1.json\", \"datasets\": {\"data-72e5907a3362eaa2c5094262e6a78ddf\": [{\"neuron\": 0, \"mouse_code\": 0, \"lower interval\": 0.29119667410850525, \"higher interval\": 0.9635848999023438, \"mean interval\": 0.557995080947876, \"isi diff\": -0.016814200736493756, \"zero\": 0}, {\"neuron\": 0, \"mouse_code\": 1, \"lower interval\": 0.29119667410850525, \"higher interval\": 0.9635848999023438, \"mean interval\": 0.557995080947876, \"isi diff\": -0.011756001180092665, \"zero\": 0}, {\"neuron\": 0, \"mouse_code\": 2, \"lower interval\": 0.29119667410850525, \"higher interval\": 0.9635848999023438, \"mean interval\": 0.557995080947876, \"isi diff\": -0.01546717333060274, \"zero\": 0}, {\"neuron\": 0, \"mouse_code\": 3, \"lower interval\": 0.29119667410850525, \"higher interval\": 0.9635848999023438, \"mean interval\": 0.557995080947876, \"isi diff\": -0.008471690278318844, \"zero\": 0}, {\"neuron\": 1, \"mouse_code\": 0, \"lower interval\": 0.16812743246555328, \"higher interval\": 0.8816020488739014, \"mean interval\": 0.47664010524749756, \"isi diff\": 0.018564631846427163, \"zero\": 0}, {\"neuron\": 1, \"mouse_code\": 1, \"lower interval\": 0.16812743246555328, \"higher interval\": 0.8816020488739014, \"mean interval\": 0.47664010524749756, \"isi diff\": -0.01136924781431195, \"zero\": 0}, {\"neuron\": 1, \"mouse_code\": 2, \"lower interval\": 0.16812743246555328, \"higher interval\": 0.8816020488739014, \"mean interval\": 0.47664010524749756, \"isi diff\": -0.007915461653656863, \"zero\": 0}, {\"neuron\": 1, \"mouse_code\": 3, \"lower interval\": 0.16812743246555328, \"higher interval\": 0.8816020488739014, \"mean interval\": 0.47664010524749756, \"isi diff\": -0.01515992549673012, \"zero\": 0}, {\"neuron\": 2, \"mouse_code\": 0, \"lower interval\": -0.08645197004079819, \"higher interval\": 0.4628261625766754, \"mean interval\": 0.16908659040927887, \"isi diff\": 0.01249665170800477, \"zero\": 0}, {\"neuron\": 2, \"mouse_code\": 1, \"lower interval\": -0.08645197004079819, \"higher interval\": 0.4628261625766754, \"mean interval\": 0.16908659040927887, \"isi diff\": -0.0018412190359285846, \"zero\": 0}, {\"neuron\": 2, \"mouse_code\": 2, \"lower interval\": -0.08645197004079819, \"higher interval\": 0.4628261625766754, \"mean interval\": 0.16908659040927887, \"isi diff\": -0.00651298751142626, \"zero\": 0}, {\"neuron\": 2, \"mouse_code\": 3, \"lower interval\": -0.08645197004079819, \"higher interval\": 0.4628261625766754, \"mean interval\": 0.16908659040927887, \"isi diff\": -0.010392569269272796, \"zero\": 0}, {\"neuron\": 3, \"mouse_code\": 0, \"lower interval\": -0.24440082907676697, \"higher interval\": 0.2503342926502228, \"mean interval\": 0.007208734750747681, \"isi diff\": -0.0026798512132826455, \"zero\": 0}, {\"neuron\": 3, \"mouse_code\": 1, \"lower interval\": -0.24440082907676697, \"higher interval\": 0.2503342926502228, \"mean interval\": 0.007208734750747681, \"isi diff\": -0.01118847911904515, \"zero\": 0}, {\"neuron\": 3, \"mouse_code\": 2, \"lower interval\": -0.24440082907676697, \"higher interval\": 0.2503342926502228, \"mean interval\": 0.007208734750747681, \"isi diff\": -0.0020362331445882634, \"zero\": 0}, {\"neuron\": 3, \"mouse_code\": 3, \"lower interval\": -0.24440082907676697, \"higher interval\": 0.2503342926502228, \"mean interval\": 0.007208734750747681, \"isi diff\": -0.0038051833257933196, \"zero\": 0}, {\"neuron\": 4, \"mouse_code\": 0, \"lower interval\": -0.5208693146705627, \"higher interval\": 0.05728129297494888, \"mean interval\": -0.23121152818202972, \"isi diff\": -0.006878065789697706, \"zero\": 0}, {\"neuron\": 4, \"mouse_code\": 1, \"lower interval\": -0.5208693146705627, \"higher interval\": 0.05728129297494888, \"mean interval\": -0.23121152818202972, \"isi diff\": -0.00195190637719838, \"zero\": 0}, {\"neuron\": 4, \"mouse_code\": 2, \"lower interval\": -0.5208693146705627, \"higher interval\": 0.05728129297494888, \"mean interval\": -0.23121152818202972, \"isi diff\": 0.0023182230539042087, \"zero\": 0}, {\"neuron\": 4, \"mouse_code\": 3, \"lower interval\": -0.5208693146705627, \"higher interval\": 0.05728129297494888, \"mean interval\": -0.23121152818202972, \"isi diff\": -0.0031157479390257897, \"zero\": 0}, {\"neuron\": 5, \"mouse_code\": 0, \"lower interval\": -0.8381906747817993, \"higher interval\": -0.12133863568305969, \"mean interval\": -0.4342249035835266, \"isi diff\": 0.0010443719061039788, \"zero\": 0}, {\"neuron\": 5, \"mouse_code\": 1, \"lower interval\": -0.8381906747817993, \"higher interval\": -0.12133863568305969, \"mean interval\": -0.4342249035835266, \"isi diff\": -0.005213468093570671, \"zero\": 0}, {\"neuron\": 5, \"mouse_code\": 2, \"lower interval\": -0.8381906747817993, \"higher interval\": -0.12133863568305969, \"mean interval\": -0.4342249035835266, \"isi diff\": -0.004857153170029292, \"zero\": 0}, {\"neuron\": 5, \"mouse_code\": 3, \"lower interval\": -0.8381906747817993, \"higher interval\": -0.12133863568305969, \"mean interval\": -0.4342249035835266, \"isi diff\": -0.0038073961339831555, \"zero\": 0}, {\"neuron\": 6, \"mouse_code\": 0, \"lower interval\": -0.9261724948883057, \"higher interval\": -0.21013838052749634, \"mean interval\": -0.5196501612663269, \"isi diff\": -0.00035374234492130396, \"zero\": 0}, {\"neuron\": 6, \"mouse_code\": 1, \"lower interval\": -0.9261724948883057, \"higher interval\": -0.21013838052749634, \"mean interval\": -0.5196501612663269, \"isi diff\": -0.0012290429489499252, \"zero\": 0}, {\"neuron\": 6, \"mouse_code\": 2, \"lower interval\": -0.9261724948883057, \"higher interval\": -0.21013838052749634, \"mean interval\": -0.5196501612663269, \"isi diff\": -0.002590630303611851, \"zero\": 0}, {\"neuron\": 6, \"mouse_code\": 3, \"lower interval\": -0.9261724948883057, \"higher interval\": -0.21013838052749634, \"mean interval\": -0.5196501612663269, \"isi diff\": -0.001222440791248263, \"zero\": 0}, {\"neuron\": 7, \"mouse_code\": 0, \"lower interval\": -1.0103602409362793, \"higher interval\": -0.16041164100170135, \"mean interval\": -0.6142033338546753, \"isi diff\": -0.0014454864354076814, \"zero\": 0}, {\"neuron\": 7, \"mouse_code\": 1, \"lower interval\": -1.0103602409362793, \"higher interval\": -0.16041164100170135, \"mean interval\": -0.6142033338546753, \"isi diff\": 0.0008234889134981355, \"zero\": 0}, {\"neuron\": 7, \"mouse_code\": 2, \"lower interval\": -1.0103602409362793, \"higher interval\": -0.16041164100170135, \"mean interval\": -0.6142033338546753, \"isi diff\": 0.005435771391268045, \"zero\": 0}, {\"neuron\": 7, \"mouse_code\": 3, \"lower interval\": -1.0103602409362793, \"higher interval\": -0.16041164100170135, \"mean interval\": -0.6142033338546753, \"isi diff\": -0.00040063934983376043, \"zero\": 0}]}}, {\"mode\": \"vega-lite\"});\n",
       "</script>"
      ],
      "text/plain": [
       "alt.FacetChart(...)"
      ]
     },
     "execution_count": 9,
     "metadata": {},
     "output_type": "execute_result"
    }
   ],
   "source": [
    "(chart_d + chart_p).facet(column='neuron')"
   ]
  }
 ],
 "metadata": {
  "hide_code_all_hidden": false,
  "jupytext": {
   "formats": "ipynb,py:light"
  },
  "kernelspec": {
   "display_name": "PyCharm (jup)",
   "language": "python",
   "name": "pycharm-d5912792"
  },
  "language_info": {
   "codemirror_mode": {
    "name": "ipython",
    "version": 3
   },
   "file_extension": ".py",
   "mimetype": "text/x-python",
   "name": "python",
   "nbconvert_exporter": "python",
   "pygments_lexer": "ipython3",
   "version": "3.8.5"
  }
 },
 "nbformat": 4,
 "nbformat_minor": 4
}