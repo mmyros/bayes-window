{
 "cells": [
  {
   "cell_type": "markdown",
   "metadata": {},
   "source": [
    "# Neurons example via low-level, flexible interface\n",
    "## Prepare"
   ]
  },
  {
   "cell_type": "code",
   "execution_count": 1,
   "metadata": {
    "lines_to_end_of_cell_marker": 2
   },
   "outputs": [],
   "source": [
    "from bayes_window import models\n",
    "from bayes_window.fitting import fit_numpyro\n",
    "from bayes_window.generative_models import generate_fake_spikes\n",
    "from sklearn.preprocessing import LabelEncoder\n",
    "\n",
    "trans = LabelEncoder().fit_transform"
   ]
  },
  {
   "cell_type": "markdown",
   "metadata": {},
   "source": [
    "## Make some data\n"
   ]
  },
  {
   "cell_type": "code",
   "execution_count": 2,
   "metadata": {},
   "outputs": [],
   "source": [
    "df, df_monster, index_cols, firing_rates = generate_fake_spikes(n_trials=2,\n",
    "                                                                n_neurons=8,\n",
    "                                                                n_mice=4,\n",
    "                                                                dur=7, )"
   ]
  },
  {
   "cell_type": "code",
   "execution_count": 3,
   "metadata": {},
   "outputs": [],
   "source": [
    "import numpy as np\n",
    "df['log_isi']=np.log10(df['isi'])"
   ]
  },
  {
   "cell_type": "code",
   "execution_count": 4,
   "metadata": {
    "scrolled": false
   },
   "outputs": [
    {
     "data": {
      "text/html": [
       "\n",
       "<div id=\"altair-viz-48183c5c88864317948012c45df0f3f0\"></div>\n",
       "<script type=\"text/javascript\">\n",
       "  (function(spec, embedOpt){\n",
       "    let outputDiv = document.currentScript.previousElementSibling;\n",
       "    if (outputDiv.id !== \"altair-viz-48183c5c88864317948012c45df0f3f0\") {\n",
       "      outputDiv = document.getElementById(\"altair-viz-48183c5c88864317948012c45df0f3f0\");\n",
       "    }\n",
       "    const paths = {\n",
       "      \"vega\": \"https://cdn.jsdelivr.net/npm//vega@5?noext\",\n",
       "      \"vega-lib\": \"https://cdn.jsdelivr.net/npm//vega-lib?noext\",\n",
       "      \"vega-lite\": \"https://cdn.jsdelivr.net/npm//vega-lite@4.8.1?noext\",\n",
       "      \"vega-embed\": \"https://cdn.jsdelivr.net/npm//vega-embed@6?noext\",\n",
       "    };\n",
       "\n",
       "    function loadScript(lib) {\n",
       "      return new Promise(function(resolve, reject) {\n",
       "        var s = document.createElement('script');\n",
       "        s.src = paths[lib];\n",
       "        s.async = true;\n",
       "        s.onload = () => resolve(paths[lib]);\n",
       "        s.onerror = () => reject(`Error loading script: ${paths[lib]}`);\n",
       "        document.getElementsByTagName(\"head\")[0].appendChild(s);\n",
       "      });\n",
       "    }\n",
       "\n",
       "    function showError(err) {\n",
       "      outputDiv.innerHTML = `<div class=\"error\" style=\"color:red;\">${err}</div>`;\n",
       "      throw err;\n",
       "    }\n",
       "\n",
       "    function displayChart(vegaEmbed) {\n",
       "      vegaEmbed(outputDiv, spec, embedOpt)\n",
       "        .catch(err => showError(`Javascript Error: ${err.message}<br>This usually means there's a typo in your chart specification. See the javascript console for the full traceback.`));\n",
       "    }\n",
       "\n",
       "    if(typeof define === \"function\" && define.amd) {\n",
       "      requirejs.config({paths});\n",
       "      require([\"vega-embed\"], displayChart, err => showError(`Error loading script: ${err.message}`));\n",
       "    } else if (typeof vegaEmbed === \"function\") {\n",
       "      displayChart(vegaEmbed);\n",
       "    } else {\n",
       "      loadScript(\"vega\")\n",
       "        .then(() => loadScript(\"vega-lite\"))\n",
       "        .then(() => loadScript(\"vega-embed\"))\n",
       "        .catch(showError)\n",
       "        .then(() => displayChart(vegaEmbed));\n",
       "    }\n",
       "  })({\"config\": {\"view\": {\"continuousWidth\": 400, \"continuousHeight\": 300}}, \"layer\": [{\"mark\": {\"type\": \"line\", \"fill\": null, \"opacity\": 0.5, \"size\": 3}, \"encoding\": {\"color\": {\"type\": \"nominal\", \"field\": \"mouse_code\"}, \"x\": {\"type\": \"ordinal\", \"field\": \"neuron\"}, \"y\": {\"type\": \"quantitative\", \"aggregate\": \"mean\", \"field\": \"isi diff\", \"scale\": {\"zero\": false}}}}, {\"mark\": {\"type\": \"boxplot\", \"color\": \"black\", \"opacity\": 0.3, \"size\": 12}, \"encoding\": {\"x\": {\"type\": \"ordinal\", \"field\": \"neuron\"}, \"y\": {\"type\": \"quantitative\", \"field\": \"isi diff\", \"scale\": {\"zero\": false}}}}], \"data\": {\"name\": \"data-562e7540a9c10c09e4b12d38fedacf12\"}, \"$schema\": \"https://vega.github.io/schema/vega-lite/v4.8.1.json\", \"datasets\": {\"data-562e7540a9c10c09e4b12d38fedacf12\": [{\"mouse_code\": 0, \"neuron\": 0, \"i_trial\": 1.0, \"neuron_code\": null, \"log_firing_rate\": 1.015698347259167, \"Firing rate\": 1.1493811060150452, \"firing_rate\": 1.1493811060150452, \"i_spike\": 1.0, \"isi diff\": 1.036215784909849, \"log_isi\": 0.9858766044033561}, {\"mouse_code\": 0, \"neuron\": 1, \"i_trial\": 1.0, \"neuron_code\": 1.0, \"log_firing_rate\": 1.1060587726607227, \"Firing rate\": 1.6377663746197548, \"firing_rate\": 1.6377663746197548, \"i_spike\": 0.9095477386934674, \"isi diff\": 1.0959179957901628, \"log_isi\": 0.9656169480117225}, {\"mouse_code\": 0, \"neuron\": 2, \"i_trial\": 1.0, \"neuron_code\": 1.0, \"log_firing_rate\": 0.6453326076279198, \"Firing rate\": 0.030608841404196636, \"firing_rate\": 0.030608841404196636, \"i_spike\": 0.8049792531120332, \"isi diff\": 1.2757034740085644, \"log_isi\": 0.9163543972569858}, {\"mouse_code\": 0, \"neuron\": 3, \"i_trial\": 1.0, \"neuron_code\": 1.0, \"log_firing_rate\": 0.9423804279825664, \"Firing rate\": 0.7394342015709354, \"firing_rate\": 0.7394342015709354, \"i_spike\": 1.0307692307692307, \"isi diff\": 0.969558191825422, \"log_isi\": 1.01094176507478}, {\"mouse_code\": 0, \"neuron\": 4, \"i_trial\": 1.0, \"neuron_code\": 1.0, \"log_firing_rate\": 0.9661083584870448, \"Firing rate\": 0.8824049436029071, \"firing_rate\": 0.8824049436029071, \"i_spike\": 0.9711815561959655, \"isi diff\": 1.0198712518143194, \"log_isi\": 0.9931478734591391}, {\"mouse_code\": 0, \"neuron\": 5, \"i_trial\": 1.0, \"neuron_code\": 1.0, \"log_firing_rate\": 0.9672774574012034, \"Firing rate\": 0.8396207556467767, \"firing_rate\": 0.8396207556467767, \"i_spike\": 0.9355608591885441, \"isi diff\": 1.0610962006429119, \"log_isi\": 0.9822051981223778}, {\"mouse_code\": 0, \"neuron\": 6, \"i_trial\": 1.0, \"neuron_code\": 1.0, \"log_firing_rate\": 1.1075991974457906, \"Firing rate\": 1.7565676035898456, \"firing_rate\": 1.7565676035898456, \"i_spike\": 1.0459290187891441, \"isi diff\": 0.9558208105560095, \"log_isi\": 1.0127604454725803}, {\"mouse_code\": 0, \"neuron\": 7, \"i_trial\": 1.0, \"neuron_code\": 1.0, \"log_firing_rate\": 1.0506503777378562, \"Firing rate\": 1.395184935787817, \"firing_rate\": 1.395184935787817, \"i_spike\": 1.0976491862567812, \"isi diff\": 0.9071838043357434, \"log_isi\": 1.0264481492733812}, {\"mouse_code\": 1, \"neuron\": 0, \"i_trial\": 1.0, \"neuron_code\": 1.0, \"log_firing_rate\": 1.0807564018189204, \"Firing rate\": 1.4311881002937035, \"firing_rate\": 1.4311881002937035, \"i_spike\": 0.9757281553398058, \"isi diff\": 1.0014935749922622, \"log_isi\": 0.9972159453594973}, {\"mouse_code\": 1, \"neuron\": 1, \"i_trial\": 1.0, \"neuron_code\": 1.0, \"log_firing_rate\": 1.155318296447868, \"Firing rate\": 2.2403005288920053, \"firing_rate\": 2.2403005288920053, \"i_spike\": 1.0885416666666667, \"isi diff\": 0.9402343158347103, \"log_isi\": 1.024707922789466}, {\"mouse_code\": 1, \"neuron\": 2, \"i_trial\": 1.0, \"neuron_code\": 1.0, \"log_firing_rate\": 1.3086879393847652, \"Firing rate\": 3.7021208918267, \"firing_rate\": 3.7021208918267, \"i_spike\": 1.2331838565022422, \"isi diff\": 0.7902855214574279, \"log_isi\": 1.0830179452714215}, {\"mouse_code\": 1, \"neuron\": 3, \"i_trial\": 1.0, \"neuron_code\": 1.0, \"log_firing_rate\": 1.256372086006007, \"Firing rate\": 3.1904102359784576, \"firing_rate\": 3.1904102359784576, \"i_spike\": 1.1910112359550562, \"isi diff\": 0.8496198025057733, \"log_isi\": 1.0538133650271586}, {\"mouse_code\": 1, \"neuron\": 4, \"i_trial\": 1.0, \"neuron_code\": 1.0, \"log_firing_rate\": 1.0405824084615107, \"Firing rate\": 1.2388663513321951, \"firing_rate\": 1.2388663513321951, \"i_spike\": 0.935933147632312, \"isi diff\": 1.0655045515987807, \"log_isi\": 0.9793242811062534}, {\"mouse_code\": 1, \"neuron\": 5, \"i_trial\": 1.0, \"neuron_code\": 1.0, \"log_firing_rate\": 1.3044600390349579, \"Firing rate\": 8.48446513567351, \"firing_rate\": 8.48446513567351, \"i_spike\": 0.9844155844155844, \"isi diff\": 1.0118424931555956, \"log_isi\": 0.9965488289651303}, {\"mouse_code\": 1, \"neuron\": 6, \"i_trial\": 1.0, \"neuron_code\": 1.0, \"log_firing_rate\": 1.04867785410386, \"Firing rate\": 1.279105671040691, \"firing_rate\": 1.279105671040691, \"i_spike\": 0.9139344262295082, \"isi diff\": 1.0958363489026628, \"log_isi\": 0.973762617642768}, {\"mouse_code\": 1, \"neuron\": 7, \"i_trial\": 1.0, \"neuron_code\": 1.0, \"log_firing_rate\": 1.0126615694947863, \"Firing rate\": 1.0291547997324855, \"firing_rate\": 1.0291547997324855, \"i_spike\": 1.0789946140035906, \"isi diff\": 0.9265589691099648, \"log_isi\": 1.0208064087788915}, {\"mouse_code\": 2, \"neuron\": 0, \"i_trial\": 1.0, \"neuron_code\": 1.0, \"log_firing_rate\": 0.8396758099948539, \"Firing rate\": 0.4120262831171312, \"firing_rate\": 0.4120262831171312, \"i_spike\": 1.2126436781609196, \"isi diff\": 0.7712123476442921, \"log_isi\": 1.0921249735969185}, {\"mouse_code\": 2, \"neuron\": 1, \"i_trial\": 1.0, \"neuron_code\": 1.0, \"log_firing_rate\": 1.1514629873026037, \"Firing rate\": 1.8395527102803286, \"firing_rate\": 1.8395527102803286, \"i_spike\": 1.1904761904761905, \"isi diff\": 0.8503833400512614, \"log_isi\": 1.0603142116179014}, {\"mouse_code\": 2, \"neuron\": 2, \"i_trial\": 1.0, \"neuron_code\": 1.0, \"log_firing_rate\": 1.1225924000013021, \"Firing rate\": 2.2512794684126507, \"firing_rate\": 2.2512794684126507, \"i_spike\": 1.205128205128205, \"isi diff\": 0.8279490342494614, \"log_isi\": 1.0716873085492429}, {\"mouse_code\": 2, \"neuron\": 3, \"i_trial\": 1.0, \"neuron_code\": 1.0, \"log_firing_rate\": 0.9621175647671264, \"Firing rate\": 0.8005929565149772, \"firing_rate\": 0.8005929565149772, \"i_spike\": 1.2165354330708662, \"isi diff\": 0.8243819216594181, \"log_isi\": 1.0657290676833246}, {\"mouse_code\": 2, \"neuron\": 4, \"i_trial\": 1.0, \"neuron_code\": 1.0, \"log_firing_rate\": 0.858191120139221, \"Firing rate\": 0.42524562218739825, \"firing_rate\": 0.42524562218739825, \"i_spike\": 1.1367781155015197, \"isi diff\": 0.8814636937064648, \"log_isi\": 1.039926757884126}, {\"mouse_code\": 2, \"neuron\": 5, \"i_trial\": 1.0, \"neuron_code\": 1.0, \"log_firing_rate\": 1.079490146992631, \"Firing rate\": 1.4908732277117007, \"firing_rate\": 1.4908732277117007, \"i_spike\": 1.102189781021898, \"isi diff\": 0.9091452666414781, \"log_isi\": 1.028437411433999}, {\"mouse_code\": 2, \"neuron\": 6, \"i_trial\": 1.0, \"neuron_code\": 1.0, \"log_firing_rate\": 0.8618365747554477, \"Firing rate\": 0.40476758453426515, \"firing_rate\": 0.40476758453426515, \"i_spike\": 1.0857142857142856, \"isi diff\": 0.9273686998846581, \"log_isi\": 1.0217344095534746}, {\"mouse_code\": 2, \"neuron\": 7, \"i_trial\": 1.0, \"neuron_code\": 1.0, \"log_firing_rate\": 1.0458274201930542, \"Firing rate\": 1.3399980344683282, \"firing_rate\": 1.3399980344683282, \"i_spike\": 0.9821138211382113, \"isi diff\": 1.013058543530682, \"log_isi\": 0.9966578998574697}, {\"mouse_code\": 3, \"neuron\": 0, \"i_trial\": 1.0, \"neuron_code\": 1.0, \"log_firing_rate\": 1.0569731032188356, \"Firing rate\": 1.1354341761752778, \"firing_rate\": 1.1354341761752778, \"i_spike\": 1.5562913907284768, \"isi diff\": 0.6505040520525895, \"log_isi\": 1.1792677629724528}, {\"mouse_code\": 3, \"neuron\": 1, \"i_trial\": 1.0, \"neuron_code\": 1.0, \"log_firing_rate\": 0.8395061652924488, \"Firing rate\": 0.4348529255755497, \"firing_rate\": 0.4348529255755497, \"i_spike\": 1.0380952380952382, \"isi diff\": 0.9804882081852824, \"log_isi\": 1.0121596188028799}, {\"mouse_code\": 3, \"neuron\": 2, \"i_trial\": 1.0, \"neuron_code\": 1.0, \"log_firing_rate\": 0.9068442444764852, \"Firing rate\": 0.3660004001284652, \"firing_rate\": 0.3660004001284652, \"i_spike\": 1.0595238095238095, \"isi diff\": 0.930276207656793, \"log_isi\": 1.0255426041372881}, {\"mouse_code\": 3, \"neuron\": 3, \"i_trial\": 1.0, \"neuron_code\": 1.0, \"log_firing_rate\": 1.2826674022081652, \"Firing rate\": 3.4205878086762276, \"firing_rate\": 3.4205878086762276, \"i_spike\": 1.326996197718631, \"isi diff\": 0.7522813229108313, \"log_isi\": 1.096441636349873}, {\"mouse_code\": 3, \"neuron\": 4, \"i_trial\": 1.0, \"neuron_code\": 1.0, \"log_firing_rate\": 1.067867247763866, \"Firing rate\": 1.3979861374026683, \"firing_rate\": 1.3979861374026683, \"i_spike\": 1.3435374149659864, \"isi diff\": 0.7473567483015445, \"log_isi\": 1.0942005386966862}, {\"mouse_code\": 3, \"neuron\": 5, \"i_trial\": 1.0, \"neuron_code\": 1.0, \"log_firing_rate\": 1.0238610402794455, \"Firing rate\": 1.0895482228816298, \"firing_rate\": 1.0895482228816298, \"i_spike\": 1.016470588235294, \"isi diff\": 0.9805118178134519, \"log_isi\": 1.006046011535882}, {\"mouse_code\": 3, \"neuron\": 6, \"i_trial\": 1.0, \"neuron_code\": 1.0, \"log_firing_rate\": 1.222874200035735, \"Firing rate\": 4.53689201821343, \"firing_rate\": 4.53689201821343, \"i_spike\": 1.0997963340122199, \"isi diff\": 0.9033959095777065, \"log_isi\": 1.028417822173182}, {\"mouse_code\": 3, \"neuron\": 7, \"i_trial\": 1.0, \"neuron_code\": 1.0, \"log_firing_rate\": 0.8509518094910018, \"Firing rate\": 0.38673263304541333, \"firing_rate\": 0.38673263304541333, \"i_spike\": 1.0416666666666667, \"isi diff\": 0.9549069353880842, \"log_isi\": 1.0124067210725014}]}}, {\"mode\": \"vega-lite\"});\n",
       "</script>"
      ],
      "text/plain": [
       "alt.LayerChart(...)"
      ]
     },
     "execution_count": 4,
     "metadata": {},
     "output_type": "execute_result"
    }
   ],
   "source": [
    "from bayes_window import visualization,utils\n",
    "from importlib import reload\n",
    "reload(visualization)\n",
    "reload(utils)\n",
    "y='isi'\n",
    "df['neuron']=df['neuron'].astype(int)\n",
    "ddf, dy = utils.make_fold_change(df,\n",
    "                         y=y,\n",
    "                         index_cols=('stim', 'mouse_code', 'neuron'),\n",
    "                         condition_name='stim',\n",
    "                         do_take_mean=True)\n",
    "\n",
    "visualization.plot_data(x='neuron',y=dy, color='mouse_code',add_box=True,df=ddf)"
   ]
  },
  {
   "cell_type": "markdown",
   "metadata": {},
   "source": [
    "## Estimate model"
   ]
  },
  {
   "cell_type": "code",
   "execution_count": 5,
   "metadata": {},
   "outputs": [
    {
     "name": "stderr",
     "output_type": "stream",
     "text": [
      "sample: 100%|██████████| 1100/1100 [00:06<00:00, 166.41it/s, 15 steps of size 2.38e-01. acc. prob=0.77]\n"
     ]
    },
    {
     "name": "stdout",
     "output_type": "stream",
     "text": [
      "n(Divergences) = 0\n"
     ]
    }
   ],
   "source": [
    "#y = list(set(df.columns) - set(index_cols))[0]\n",
    "trace = fit_numpyro(y=df[y].values,\n",
    "                    stim_on=(df['stim']).astype(int).values,\n",
    "                    treat=trans(df['neuron']),\n",
    "                    subject=trans(df['mouse']),\n",
    "                    progress_bar=True,\n",
    "                    model=models.model_hier_normal_stim,\n",
    "                    n_draws=100, num_chains=1, )"
   ]
  },
  {
   "cell_type": "markdown",
   "metadata": {},
   "source": [
    "## Add data back"
   ]
  },
  {
   "cell_type": "code",
   "execution_count": 6,
   "metadata": {},
   "outputs": [],
   "source": [
    "reload(utils)\n",
    "df_both = utils.add_data_to_posterior(df,\n",
    "                                trace=trace,\n",
    "                                y=y,\n",
    "                                index_cols=['neuron', 'stim', 'mouse_code', ],\n",
    "                                condition_name='stim',\n",
    "                                b_name='b_stim_per_condition',  # for posterior\n",
    "                                group_name='neuron'  # for posterior\n",
    "                                )"
   ]
  },
  {
   "cell_type": "markdown",
   "metadata": {},
   "source": [
    "## Plot data and posterior"
   ]
  },
  {
   "cell_type": "code",
   "execution_count": 7,
   "metadata": {},
   "outputs": [
    {
     "data": {
      "text/html": [
       "\n",
       "<div id=\"altair-viz-4d9c3828dfb34c42aff9221d7d437cfb\"></div>\n",
       "<script type=\"text/javascript\">\n",
       "  (function(spec, embedOpt){\n",
       "    let outputDiv = document.currentScript.previousElementSibling;\n",
       "    if (outputDiv.id !== \"altair-viz-4d9c3828dfb34c42aff9221d7d437cfb\") {\n",
       "      outputDiv = document.getElementById(\"altair-viz-4d9c3828dfb34c42aff9221d7d437cfb\");\n",
       "    }\n",
       "    const paths = {\n",
       "      \"vega\": \"https://cdn.jsdelivr.net/npm//vega@5?noext\",\n",
       "      \"vega-lib\": \"https://cdn.jsdelivr.net/npm//vega-lib?noext\",\n",
       "      \"vega-lite\": \"https://cdn.jsdelivr.net/npm//vega-lite@4.8.1?noext\",\n",
       "      \"vega-embed\": \"https://cdn.jsdelivr.net/npm//vega-embed@6?noext\",\n",
       "    };\n",
       "\n",
       "    function loadScript(lib) {\n",
       "      return new Promise(function(resolve, reject) {\n",
       "        var s = document.createElement('script');\n",
       "        s.src = paths[lib];\n",
       "        s.async = true;\n",
       "        s.onload = () => resolve(paths[lib]);\n",
       "        s.onerror = () => reject(`Error loading script: ${paths[lib]}`);\n",
       "        document.getElementsByTagName(\"head\")[0].appendChild(s);\n",
       "      });\n",
       "    }\n",
       "\n",
       "    function showError(err) {\n",
       "      outputDiv.innerHTML = `<div class=\"error\" style=\"color:red;\">${err}</div>`;\n",
       "      throw err;\n",
       "    }\n",
       "\n",
       "    function displayChart(vegaEmbed) {\n",
       "      vegaEmbed(outputDiv, spec, embedOpt)\n",
       "        .catch(err => showError(`Javascript Error: ${err.message}<br>This usually means there's a typo in your chart specification. See the javascript console for the full traceback.`));\n",
       "    }\n",
       "\n",
       "    if(typeof define === \"function\" && define.amd) {\n",
       "      requirejs.config({paths});\n",
       "      require([\"vega-embed\"], displayChart, err => showError(`Error loading script: ${err.message}`));\n",
       "    } else if (typeof vegaEmbed === \"function\") {\n",
       "      displayChart(vegaEmbed);\n",
       "    } else {\n",
       "      loadScript(\"vega\")\n",
       "        .then(() => loadScript(\"vega-lite\"))\n",
       "        .then(() => loadScript(\"vega-embed\"))\n",
       "        .catch(showError)\n",
       "        .then(() => displayChart(vegaEmbed));\n",
       "    }\n",
       "  })({\"config\": {\"view\": {\"continuousWidth\": 400, \"continuousHeight\": 300}}, \"layer\": [{\"mark\": {\"type\": \"line\", \"fill\": null, \"opacity\": 0.5, \"size\": 3}, \"encoding\": {\"color\": {\"type\": \"nominal\", \"field\": \"mouse_code\"}, \"x\": {\"type\": \"ordinal\", \"field\": \"neuron\"}, \"y\": {\"type\": \"quantitative\", \"aggregate\": \"mean\", \"field\": \"isi diff\", \"scale\": {\"zero\": false}}}}, {\"mark\": {\"type\": \"boxplot\", \"color\": \"black\", \"opacity\": 0.3, \"size\": 12}, \"encoding\": {\"x\": {\"type\": \"ordinal\", \"field\": \"neuron\"}, \"y\": {\"type\": \"quantitative\", \"field\": \"isi diff\", \"scale\": {\"zero\": false}}}}], \"data\": {\"name\": \"data-85e057553112f7a7c9fff2ebe514591e\"}, \"$schema\": \"https://vega.github.io/schema/vega-lite/v4.8.1.json\", \"datasets\": {\"data-85e057553112f7a7c9fff2ebe514591e\": [{\"mouse_code\": 0, \"neuron\": 0, \"i_trial\": 0.0, \"neuron_code\": 0.0, \"log_firing_rate\": 0.029371863668694598, \"Firing rate\": 11.129200605714658, \"firing_rate\": 11.129200605714658, \"i_spike\": 0.0, \"isi diff\": 0.002833285985648859, \"mean HDI\": 0.5162061452865601, \"higher HDI\": 0.8769018054008484, \"lower HDI\": 0.19024650752544403, \"log_isi\": 0.015634266965841803}, {\"mouse_code\": 1, \"neuron\": 0, \"i_trial\": 0.0, \"neuron_code\": 0.0, \"log_firing_rate\": 0.1523555739688347, \"Firing rate\": 33.27775734676524, \"firing_rate\": 33.27775734676524, \"i_spike\": -1.25, \"isi diff\": 0.00010073621985197401, \"mean HDI\": 0.5162061452865601, \"higher HDI\": 0.8769018054008484, \"lower HDI\": 0.19024650752544403, \"log_isi\": 0.003268174619109221}, {\"mouse_code\": 2, \"neuron\": 0, \"i_trial\": 0.0, \"neuron_code\": 0.0, \"log_firing_rate\": -0.3534486577603593, \"Firing rate\": -101.53249086200083, \"firing_rate\": -101.53249086200083, \"i_spike\": 9.25, \"isi diff\": -0.019438746122558942, \"mean HDI\": 0.5162061452865601, \"higher HDI\": 0.8769018054008484, \"lower HDI\": 0.19024650752544403, \"log_isi\": -0.09984416429726273}, {\"mouse_code\": 3, \"neuron\": 0, \"i_trial\": 0.0, \"neuron_code\": 0.0, \"log_firing_rate\": 0.11081407420111766, \"Firing rate\": 13.679453845582174, \"firing_rate\": 13.679453845582174, \"i_spike\": 21.0, \"isi diff\": -0.031846782542681286, \"mean HDI\": 0.5162061452865601, \"higher HDI\": 0.8769018054008484, \"lower HDI\": 0.19024650752544403, \"log_isi\": -0.18654755804689405}, {\"mouse_code\": 0, \"neuron\": 1, \"i_trial\": 0.0, \"neuron_code\": 0.0, \"log_firing_rate\": 0.19011272285145142, \"Firing rate\": 40.42655712365601, \"firing_rate\": 40.42655712365601, \"i_spike\": -4.5, \"isi diff\": 0.006744611080529317, \"mean HDI\": 0.4664335548877716, \"higher HDI\": 0.8438841700553894, \"lower HDI\": 0.16975733637809753, \"log_isi\": 0.03964232443329552}, {\"mouse_code\": 1, \"neuron\": 1, \"i_trial\": 0.0, \"neuron_code\": 0.0, \"log_firing_rate\": 0.29184846566400346, \"Firing rate\": 93.89589493550031, \"firing_rate\": 93.89589493550031, \"i_spike\": 4.25, \"isi diff\": -0.004253869303683239, \"mean HDI\": 0.4664335548877716, \"higher HDI\": 0.8438841700553894, \"lower HDI\": 0.16975733637809753, \"log_isi\": -0.028361591538881736}, {\"mouse_code\": 2, \"neuron\": 1, \"i_trial\": 0.0, \"neuron_code\": 0.0, \"log_firing_rate\": 0.26410299382238867, \"Firing rate\": 46.53268226382765, \"firing_rate\": 46.53268226382765, \"i_spike\": 10.0, \"isi diff\": -0.009821261937630416, \"mean HDI\": 0.4664335548877716, \"higher HDI\": 0.8438841700553894, \"lower HDI\": 0.16975733637809753, \"log_isi\": -0.07137262848661807}, {\"mouse_code\": 3, \"neuron\": 1, \"i_trial\": 0.0, \"neuron_code\": 0.0, \"log_firing_rate\": -0.35074759528916744, \"Firing rate\": -94.11566325582669, \"firing_rate\": -94.11566325582669, \"i_spike\": 2.0, \"isi diff\": -0.0012858282988085779, \"mean HDI\": 0.4664335548877716, \"higher HDI\": 0.8438841700553894, \"lower HDI\": 0.16975733637809753, \"log_isi\": -0.014362351256080874}, {\"mouse_code\": 0, \"neuron\": 2, \"i_trial\": 0.0, \"neuron_code\": 0.0, \"log_firing_rate\": -1.0445524000952786, \"Firing rate\": -2680.965732623502, \"firing_rate\": -2680.965732623502, \"i_spike\": -11.75, \"isi diff\": 0.01578087567794663, \"mean HDI\": 0.2581125497817993, \"higher HDI\": 0.6097501516342163, \"lower HDI\": -0.05589483305811882, \"log_isi\": 0.103917296543522}, {\"mouse_code\": 1, \"neuron\": 2, \"i_trial\": 0.0, \"neuron_code\": 0.0, \"log_firing_rate\": 0.5571140198374467, \"Firing rate\": 186.6526426958946, \"firing_rate\": 186.6526426958946, \"i_spike\": 13.0, \"isi diff\": -0.013447666946035886, \"mean HDI\": 0.2581125497817993, \"higher HDI\": 0.6097501516342163, \"lower HDI\": -0.05589483305811882, \"log_isi\": -0.09937352561556967}, {\"mouse_code\": 2, \"neuron\": 2, \"i_trial\": 0.0, \"neuron_code\": 0.0, \"log_firing_rate\": 0.22847160303322855, \"Firing rate\": 95.15510729141747, \"firing_rate\": 95.15510729141747, \"i_spike\": 10.0, \"isi diff\": -0.012278697498799868, \"mean HDI\": 0.2581125497817993, \"higher HDI\": 0.6097501516342163, \"lower HDI\": -0.05589483305811882, \"log_isi\": -0.08222407761305384}, {\"mouse_code\": 3, \"neuron\": 2, \"i_trial\": 0.0, \"neuron_code\": 0.0, \"log_firing_rate\": -0.21484693998842275, \"Firing rate\": -218.11031667199836, \"firing_rate\": -218.11031667199836, \"i_spike\": 3.75, \"isi diff\": -0.003898139511514062, \"mean HDI\": 0.2581125497817993, \"higher HDI\": 0.6097501516342163, \"lower HDI\": -0.05589483305811882, \"log_isi\": -0.03200538188136859}, {\"mouse_code\": 0, \"neuron\": 3, \"i_trial\": 0.0, \"neuron_code\": 0.0, \"log_firing_rate\": -0.12771179252924014, \"Firing rate\": -44.360162919336716, \"firing_rate\": -44.360162919336716, \"i_spike\": 2.0, \"isi diff\": -0.0016367257631072912, \"mean HDI\": -0.08064699918031693, \"higher HDI\": 0.1517299860715866, \"lower HDI\": -0.2617262303829193, \"log_isi\": -0.01389059820411842}, {\"mouse_code\": 1, \"neuron\": 3, \"i_trial\": 0.0, \"neuron_code\": 0.0, \"log_firing_rate\": 0.47239896741830845, \"Firing rate\": 153.11116513463872, \"firing_rate\": 153.11116513463872, \"i_spike\": 12.75, \"isi diff\": -0.007801549960765396, \"mean HDI\": -0.08064699918031693, \"higher HDI\": 0.1517299860715866, \"lower HDI\": -0.2617262303829193, \"log_isi\": -0.06923901591458725}, {\"mouse_code\": 2, \"neuron\": 3, \"i_trial\": 0.0, \"neuron_code\": 0.0, \"log_firing_rate\": -0.09101897645262413, \"Firing rate\": -51.05742021475197, \"firing_rate\": -51.05742021475197, \"i_spike\": 13.75, \"isi diff\": -0.00962885554273886, \"mean HDI\": -0.08064699918031693, \"higher HDI\": 0.1517299860715866, \"lower HDI\": -0.2617262303829193, \"log_isi\": -0.08294957333795683}, {\"mouse_code\": 3, \"neuron\": 3, \"i_trial\": 0.0, \"neuron_code\": 0.0, \"log_firing_rate\": 0.5312546719845845, \"Firing rate\": 184.19063453486123, \"firing_rate\": 184.19063453486123, \"i_spike\": 21.5, \"isi diff\": -0.01330060715037397, \"mean HDI\": -0.08064699918031693, \"higher HDI\": 0.1517299860715866, \"lower HDI\": -0.2617262303829193, \"log_isi\": -0.12269493894351458}, {\"mouse_code\": 0, \"neuron\": 4, \"i_trial\": 0.0, \"neuron_code\": 0.0, \"log_firing_rate\": -0.07822680771701451, \"Firing rate\": -24.762072575169043, \"firing_rate\": -24.762072575169043, \"i_spike\": -2.5, \"isi diff\": 0.0008047318772052628, \"mean HDI\": -0.24932372570037842, \"higher HDI\": -0.0035680888686329126, \"lower HDI\": -0.4584118723869324, \"log_isi\": 0.009549732090315066}, {\"mouse_code\": 1, \"neuron\": 4, \"i_trial\": 0.0, \"neuron_code\": 0.0, \"log_firing_rate\": 0.08600292855563518, \"Firing rate\": 31.437300970102513, \"firing_rate\": 31.437300970102513, \"i_spike\": -5.75, \"isi diff\": 0.0025558537781103507, \"mean HDI\": -0.24932372570037842, \"higher HDI\": -0.0035680888686329126, \"lower HDI\": -0.4584118723869324, \"log_isi\": 0.02915979632853216}, {\"mouse_code\": 2, \"neuron\": 4, \"i_trial\": 0.0, \"neuron_code\": 0.0, \"log_firing_rate\": -0.3404643377371812, \"Firing rate\": -155.32695016033142, \"firing_rate\": -155.32695016033142, \"i_spike\": 11.25, \"isi diff\": -0.00502677450870799, \"mean HDI\": -0.24932372570037842, \"higher HDI\": -0.0035680888686329126, \"lower HDI\": -0.4584118723869324, \"log_isi\": -0.05480244586291305}, {\"mouse_code\": 3, \"neuron\": 4, \"i_trial\": 0.0, \"neuron_code\": 0.0, \"log_firing_rate\": 0.14706407151467982, \"Firing rate\": 58.77122225165215, \"firing_rate\": 58.77122225165215, \"i_spike\": 25.25, \"isi diff\": -0.012001982073580622, \"mean HDI\": -0.24932372570037842, \"higher HDI\": -0.0035680888686329126, \"lower HDI\": -0.4584118723869324, \"log_isi\": -0.12481630203313054}, {\"mouse_code\": 0, \"neuron\": 5, \"i_trial\": 0.0, \"neuron_code\": 0.0, \"log_firing_rate\": -0.07689381794340244, \"Firing rate\": -40.00997030430656, \"firing_rate\": -40.00997030430656, \"i_spike\": -6.75, \"isi diff\": 0.0020427662068982916, \"mean HDI\": -0.3681144416332245, \"higher HDI\": -0.11716286838054657, \"lower HDI\": -0.6169392466545105, \"log_isi\": 0.026271635461383225}, {\"mouse_code\": 1, \"neuron\": 5, \"i_trial\": 0.0, \"neuron_code\": 0.0, \"log_firing_rate\": 0.6660026787332805, \"Firing rate\": 1172.5960849306398, \"firing_rate\": 1172.5960849306398, \"i_spike\": -1.5, \"isi diff\": 0.00043064990946142107, \"mean HDI\": -0.3681144416332245, \"higher HDI\": -0.11716286838054657, \"lower HDI\": -0.6169392466545105, \"log_isi\": 0.004967662896711023}, {\"mouse_code\": 2, \"neuron\": 5, \"i_trial\": 0.0, \"neuron_code\": 0.0, \"log_firing_rate\": 0.18013812966360154, \"Firing rate\": 92.98243748736735, \"firing_rate\": 92.98243748736735, \"i_spike\": 10.5, \"isi diff\": -0.0030749311437028755, \"mean HDI\": -0.3681144416332245, \"higher HDI\": -0.11716286838054657, \"lower HDI\": -0.6169392466545105, \"log_isi\": -0.041817796286875764}, {\"mouse_code\": 3, \"neuron\": 5, \"i_trial\": 0.0, \"neuron_code\": 0.0, \"log_firing_rate\": 0.05392348480795395, \"Firing rate\": 16.952091640521132, \"firing_rate\": 16.952091640521132, \"i_spike\": 1.75, \"isi diff\": -0.0006406086219535589, \"mean HDI\": -0.3681144416332245, \"higher HDI\": -0.11716286838054657, \"lower HDI\": -0.6169392466545105, \"log_isi\": -0.008967316612912724}, {\"mouse_code\": 0, \"neuron\": 6, \"i_trial\": 0.0, \"neuron_code\": 0.0, \"log_firing_rate\": 0.2547582742018579, \"Firing rate\": 202.0103615960806, \"firing_rate\": 202.0103615960806, \"i_spike\": 5.5, \"isi diff\": -0.0012894130079211877, \"mean HDI\": -0.5040752291679382, \"higher HDI\": -0.16543836891651154, \"lower HDI\": -0.8204386234283447, \"log_isi\": -0.019586201976754092}, {\"mouse_code\": 1, \"neuron\": 6, \"i_trial\": 0.0, \"neuron_code\": 0.0, \"log_firing_rate\": 0.10689750097083461, \"Firing rate\": 43.83300187770732, \"firing_rate\": 43.83300187770732, \"i_spike\": -10.5, \"isi diff\": 0.002740770988421147, \"mean HDI\": -0.5040752291679382, \"higher HDI\": -0.16543836891651154, \"lower HDI\": -0.8204386234283447, \"log_isi\": 0.040529083598572546}, {\"mouse_code\": 2, \"neuron\": 6, \"i_trial\": 0.0, \"neuron_code\": 0.0, \"log_firing_rate\": -0.3800489845918369, \"Firing rate\": -347.07332058772045, \"firing_rate\": -347.07332058772045, \"i_spike\": 10.5, \"isi diff\": -0.0020667526945508524, \"mean HDI\": -0.5040752291679382, \"higher HDI\": -0.16543836891651154, \"lower HDI\": -0.8204386234283447, \"log_isi\": -0.03359789538554381}, {\"mouse_code\": 3, \"neuron\": 6, \"i_trial\": 0.0, \"neuron_code\": 0.0, \"log_firing_rate\": 0.5406501607799514, \"Firing rate\": 991.6668096285108, \"firing_rate\": 991.6668096285108, \"i_spike\": 12.25, \"isi diff\": -0.002756307499583551, \"mean HDI\": -0.5040752291679382, \"higher HDI\": -0.16543836891651154, \"lower HDI\": -0.8204386234283447, \"log_isi\": -0.04390607042094885}, {\"mouse_code\": 0, \"neuron\": 7, \"i_trial\": 0.0, \"neuron_code\": 0.0, \"log_firing_rate\": 0.12791169777460798, \"Firing rate\": 132.9271226911004, \"firing_rate\": 132.9271226911004, \"i_spike\": 13.5, \"isi diff\": -0.0023327296166899825, \"mean HDI\": -0.6152423024177551, \"higher HDI\": -0.30913016200065613, \"lower HDI\": -0.9859901666641235, \"log_isi\": -0.04231214603935696}, {\"mouse_code\": 1, \"neuron\": 7, \"i_trial\": 0.0, \"neuron_code\": 0.0, \"log_firing_rate\": 0.0309081583393902, \"Firing rate\": 8.42530722452409, \"firing_rate\": 8.42530722452409, \"i_spike\": 11.0, \"isi diff\": -0.0018438249374167492, \"mean HDI\": -0.6152423024177551, \"higher HDI\": -0.30913016200065613, \"lower HDI\": -0.9859901666641235, \"log_isi\": -0.03329836958706367}, {\"mouse_code\": 2, \"neuron\": 7, \"i_trial\": 0.0, \"neuron_code\": 0.0, \"log_firing_rate\": 0.10961914121913185, \"Firing rate\": 84.84516145810943, \"firing_rate\": 84.84516145810943, \"i_spike\": -2.75, \"isi diff\": 0.00029759436683340565, \"mean HDI\": -0.6152423024177551, \"higher HDI\": -0.30913016200065613, \"lower HDI\": -0.9859901666641235, \"log_isi\": 0.005489216892573978}, {\"mouse_code\": 3, \"neuron\": 7, \"i_trial\": 0.0, \"neuron_code\": 0.0, \"log_firing_rate\": -0.4107367313439769, \"Firing rate\": -351.0488292917235, \"firing_rate\": -351.0488292917235, \"i_spike\": 6.25, \"isi diff\": -0.0010542060922222665, \"mean HDI\": -0.6152423024177551, \"higher HDI\": -0.30913016200065613, \"lower HDI\": -0.9859901666641235, \"log_isi\": -0.020241402927022367}]}}, {\"mode\": \"vega-lite\"});\n",
       "</script>"
      ],
      "text/plain": [
       "alt.LayerChart(...)"
      ]
     },
     "execution_count": 7,
     "metadata": {},
     "output_type": "execute_result"
    }
   ],
   "source": [
    "#BayesWindow.plot_posteriors_slopes(df_both, y=f'{y} diff', x='neuron',color='mouse_code',title=y,hold_for_facet=False,add_box=False)\n",
    "\n",
    "\n",
    "chart_d = visualization.plot_data(df=df_both,x='neuron', y=f'{y} diff',color='mouse_code')\n",
    "chart_d"
   ]
  },
  {
   "cell_type": "code",
   "execution_count": 8,
   "metadata": {
    "scrolled": false
   },
   "outputs": [
    {
     "data": {
      "text/html": [
       "\n",
       "<div id=\"altair-viz-b997970f3350403383261c1512b43230\"></div>\n",
       "<script type=\"text/javascript\">\n",
       "  (function(spec, embedOpt){\n",
       "    let outputDiv = document.currentScript.previousElementSibling;\n",
       "    if (outputDiv.id !== \"altair-viz-b997970f3350403383261c1512b43230\") {\n",
       "      outputDiv = document.getElementById(\"altair-viz-b997970f3350403383261c1512b43230\");\n",
       "    }\n",
       "    const paths = {\n",
       "      \"vega\": \"https://cdn.jsdelivr.net/npm//vega@5?noext\",\n",
       "      \"vega-lib\": \"https://cdn.jsdelivr.net/npm//vega-lib?noext\",\n",
       "      \"vega-lite\": \"https://cdn.jsdelivr.net/npm//vega-lite@4.8.1?noext\",\n",
       "      \"vega-embed\": \"https://cdn.jsdelivr.net/npm//vega-embed@6?noext\",\n",
       "    };\n",
       "\n",
       "    function loadScript(lib) {\n",
       "      return new Promise(function(resolve, reject) {\n",
       "        var s = document.createElement('script');\n",
       "        s.src = paths[lib];\n",
       "        s.async = true;\n",
       "        s.onload = () => resolve(paths[lib]);\n",
       "        s.onerror = () => reject(`Error loading script: ${paths[lib]}`);\n",
       "        document.getElementsByTagName(\"head\")[0].appendChild(s);\n",
       "      });\n",
       "    }\n",
       "\n",
       "    function showError(err) {\n",
       "      outputDiv.innerHTML = `<div class=\"error\" style=\"color:red;\">${err}</div>`;\n",
       "      throw err;\n",
       "    }\n",
       "\n",
       "    function displayChart(vegaEmbed) {\n",
       "      vegaEmbed(outputDiv, spec, embedOpt)\n",
       "        .catch(err => showError(`Javascript Error: ${err.message}<br>This usually means there's a typo in your chart specification. See the javascript console for the full traceback.`));\n",
       "    }\n",
       "\n",
       "    if(typeof define === \"function\" && define.amd) {\n",
       "      requirejs.config({paths});\n",
       "      require([\"vega-embed\"], displayChart, err => showError(`Error loading script: ${err.message}`));\n",
       "    } else if (typeof vegaEmbed === \"function\") {\n",
       "      displayChart(vegaEmbed);\n",
       "    } else {\n",
       "      loadScript(\"vega\")\n",
       "        .then(() => loadScript(\"vega-lite\"))\n",
       "        .then(() => loadScript(\"vega-embed\"))\n",
       "        .catch(showError)\n",
       "        .then(() => displayChart(vegaEmbed));\n",
       "    }\n",
       "  })({\"config\": {\"view\": {\"continuousWidth\": 400, \"continuousHeight\": 300}}, \"layer\": [{\"mark\": {\"type\": \"line\", \"color\": \"black\", \"point\": true}, \"encoding\": {\"x\": {\"type\": \"ordinal\", \"field\": \"neuron\"}, \"y\": {\"type\": \"quantitative\", \"field\": \"mean HDI\", \"impute\": {\"value\": \"value\"}}}}, {\"mark\": {\"type\": \"rule\", \"color\": \"black\", \"opacity\": 0.4, \"size\": 0.1}, \"encoding\": {\"y\": {\"type\": \"quantitative\", \"field\": \"zero\"}}}, {\"mark\": \"rule\", \"encoding\": {\"x\": {\"type\": \"ordinal\", \"field\": \"neuron\"}, \"y\": {\"type\": \"quantitative\", \"field\": \"lower HDI\", \"scale\": {\"domain\": [-0.9859901666641235, 0.8769018054008484], \"zero\": false}, \"title\": \"\\u0394 d_isi\"}, \"y2\": {\"field\": \"higher HDI\"}}}], \"data\": {\"name\": \"data-578ef73d9cbc7a5813b1c767144b2d6f\"}, \"$schema\": \"https://vega.github.io/schema/vega-lite/v4.8.1.json\", \"datasets\": {\"data-578ef73d9cbc7a5813b1c767144b2d6f\": [{\"mouse_code\": 0, \"neuron\": 0, \"i_trial\": 0.0, \"neuron_code\": 0.0, \"log_firing_rate\": 0.029371863668694598, \"Firing rate\": 11.129200605714658, \"firing_rate\": 11.129200605714658, \"i_spike\": 0.0, \"isi diff\": 0.002833285985648859, \"mean HDI\": 0.5162061452865601, \"higher HDI\": 0.8769018054008484, \"lower HDI\": 0.19024650752544403, \"log_isi\": 0.015634266965841803, \"zero\": 0}, {\"mouse_code\": 1, \"neuron\": 0, \"i_trial\": 0.0, \"neuron_code\": 0.0, \"log_firing_rate\": 0.1523555739688347, \"Firing rate\": 33.27775734676524, \"firing_rate\": 33.27775734676524, \"i_spike\": -1.25, \"isi diff\": 0.00010073621985197401, \"mean HDI\": 0.5162061452865601, \"higher HDI\": 0.8769018054008484, \"lower HDI\": 0.19024650752544403, \"log_isi\": 0.003268174619109221, \"zero\": 0}, {\"mouse_code\": 2, \"neuron\": 0, \"i_trial\": 0.0, \"neuron_code\": 0.0, \"log_firing_rate\": -0.3534486577603593, \"Firing rate\": -101.53249086200083, \"firing_rate\": -101.53249086200083, \"i_spike\": 9.25, \"isi diff\": -0.019438746122558942, \"mean HDI\": 0.5162061452865601, \"higher HDI\": 0.8769018054008484, \"lower HDI\": 0.19024650752544403, \"log_isi\": -0.09984416429726273, \"zero\": 0}, {\"mouse_code\": 3, \"neuron\": 0, \"i_trial\": 0.0, \"neuron_code\": 0.0, \"log_firing_rate\": 0.11081407420111766, \"Firing rate\": 13.679453845582174, \"firing_rate\": 13.679453845582174, \"i_spike\": 21.0, \"isi diff\": -0.031846782542681286, \"mean HDI\": 0.5162061452865601, \"higher HDI\": 0.8769018054008484, \"lower HDI\": 0.19024650752544403, \"log_isi\": -0.18654755804689405, \"zero\": 0}, {\"mouse_code\": 0, \"neuron\": 1, \"i_trial\": 0.0, \"neuron_code\": 0.0, \"log_firing_rate\": 0.19011272285145142, \"Firing rate\": 40.42655712365601, \"firing_rate\": 40.42655712365601, \"i_spike\": -4.5, \"isi diff\": 0.006744611080529317, \"mean HDI\": 0.4664335548877716, \"higher HDI\": 0.8438841700553894, \"lower HDI\": 0.16975733637809753, \"log_isi\": 0.03964232443329552, \"zero\": 0}, {\"mouse_code\": 1, \"neuron\": 1, \"i_trial\": 0.0, \"neuron_code\": 0.0, \"log_firing_rate\": 0.29184846566400346, \"Firing rate\": 93.89589493550031, \"firing_rate\": 93.89589493550031, \"i_spike\": 4.25, \"isi diff\": -0.004253869303683239, \"mean HDI\": 0.4664335548877716, \"higher HDI\": 0.8438841700553894, \"lower HDI\": 0.16975733637809753, \"log_isi\": -0.028361591538881736, \"zero\": 0}, {\"mouse_code\": 2, \"neuron\": 1, \"i_trial\": 0.0, \"neuron_code\": 0.0, \"log_firing_rate\": 0.26410299382238867, \"Firing rate\": 46.53268226382765, \"firing_rate\": 46.53268226382765, \"i_spike\": 10.0, \"isi diff\": -0.009821261937630416, \"mean HDI\": 0.4664335548877716, \"higher HDI\": 0.8438841700553894, \"lower HDI\": 0.16975733637809753, \"log_isi\": -0.07137262848661807, \"zero\": 0}, {\"mouse_code\": 3, \"neuron\": 1, \"i_trial\": 0.0, \"neuron_code\": 0.0, \"log_firing_rate\": -0.35074759528916744, \"Firing rate\": -94.11566325582669, \"firing_rate\": -94.11566325582669, \"i_spike\": 2.0, \"isi diff\": -0.0012858282988085779, \"mean HDI\": 0.4664335548877716, \"higher HDI\": 0.8438841700553894, \"lower HDI\": 0.16975733637809753, \"log_isi\": -0.014362351256080874, \"zero\": 0}, {\"mouse_code\": 0, \"neuron\": 2, \"i_trial\": 0.0, \"neuron_code\": 0.0, \"log_firing_rate\": -1.0445524000952786, \"Firing rate\": -2680.965732623502, \"firing_rate\": -2680.965732623502, \"i_spike\": -11.75, \"isi diff\": 0.01578087567794663, \"mean HDI\": 0.2581125497817993, \"higher HDI\": 0.6097501516342163, \"lower HDI\": -0.05589483305811882, \"log_isi\": 0.103917296543522, \"zero\": 0}, {\"mouse_code\": 1, \"neuron\": 2, \"i_trial\": 0.0, \"neuron_code\": 0.0, \"log_firing_rate\": 0.5571140198374467, \"Firing rate\": 186.6526426958946, \"firing_rate\": 186.6526426958946, \"i_spike\": 13.0, \"isi diff\": -0.013447666946035886, \"mean HDI\": 0.2581125497817993, \"higher HDI\": 0.6097501516342163, \"lower HDI\": -0.05589483305811882, \"log_isi\": -0.09937352561556967, \"zero\": 0}, {\"mouse_code\": 2, \"neuron\": 2, \"i_trial\": 0.0, \"neuron_code\": 0.0, \"log_firing_rate\": 0.22847160303322855, \"Firing rate\": 95.15510729141747, \"firing_rate\": 95.15510729141747, \"i_spike\": 10.0, \"isi diff\": -0.012278697498799868, \"mean HDI\": 0.2581125497817993, \"higher HDI\": 0.6097501516342163, \"lower HDI\": -0.05589483305811882, \"log_isi\": -0.08222407761305384, \"zero\": 0}, {\"mouse_code\": 3, \"neuron\": 2, \"i_trial\": 0.0, \"neuron_code\": 0.0, \"log_firing_rate\": -0.21484693998842275, \"Firing rate\": -218.11031667199836, \"firing_rate\": -218.11031667199836, \"i_spike\": 3.75, \"isi diff\": -0.003898139511514062, \"mean HDI\": 0.2581125497817993, \"higher HDI\": 0.6097501516342163, \"lower HDI\": -0.05589483305811882, \"log_isi\": -0.03200538188136859, \"zero\": 0}, {\"mouse_code\": 0, \"neuron\": 3, \"i_trial\": 0.0, \"neuron_code\": 0.0, \"log_firing_rate\": -0.12771179252924014, \"Firing rate\": -44.360162919336716, \"firing_rate\": -44.360162919336716, \"i_spike\": 2.0, \"isi diff\": -0.0016367257631072912, \"mean HDI\": -0.08064699918031693, \"higher HDI\": 0.1517299860715866, \"lower HDI\": -0.2617262303829193, \"log_isi\": -0.01389059820411842, \"zero\": 0}, {\"mouse_code\": 1, \"neuron\": 3, \"i_trial\": 0.0, \"neuron_code\": 0.0, \"log_firing_rate\": 0.47239896741830845, \"Firing rate\": 153.11116513463872, \"firing_rate\": 153.11116513463872, \"i_spike\": 12.75, \"isi diff\": -0.007801549960765396, \"mean HDI\": -0.08064699918031693, \"higher HDI\": 0.1517299860715866, \"lower HDI\": -0.2617262303829193, \"log_isi\": -0.06923901591458725, \"zero\": 0}, {\"mouse_code\": 2, \"neuron\": 3, \"i_trial\": 0.0, \"neuron_code\": 0.0, \"log_firing_rate\": -0.09101897645262413, \"Firing rate\": -51.05742021475197, \"firing_rate\": -51.05742021475197, \"i_spike\": 13.75, \"isi diff\": -0.00962885554273886, \"mean HDI\": -0.08064699918031693, \"higher HDI\": 0.1517299860715866, \"lower HDI\": -0.2617262303829193, \"log_isi\": -0.08294957333795683, \"zero\": 0}, {\"mouse_code\": 3, \"neuron\": 3, \"i_trial\": 0.0, \"neuron_code\": 0.0, \"log_firing_rate\": 0.5312546719845845, \"Firing rate\": 184.19063453486123, \"firing_rate\": 184.19063453486123, \"i_spike\": 21.5, \"isi diff\": -0.01330060715037397, \"mean HDI\": -0.08064699918031693, \"higher HDI\": 0.1517299860715866, \"lower HDI\": -0.2617262303829193, \"log_isi\": -0.12269493894351458, \"zero\": 0}, {\"mouse_code\": 0, \"neuron\": 4, \"i_trial\": 0.0, \"neuron_code\": 0.0, \"log_firing_rate\": -0.07822680771701451, \"Firing rate\": -24.762072575169043, \"firing_rate\": -24.762072575169043, \"i_spike\": -2.5, \"isi diff\": 0.0008047318772052628, \"mean HDI\": -0.24932372570037842, \"higher HDI\": -0.0035680888686329126, \"lower HDI\": -0.4584118723869324, \"log_isi\": 0.009549732090315066, \"zero\": 0}, {\"mouse_code\": 1, \"neuron\": 4, \"i_trial\": 0.0, \"neuron_code\": 0.0, \"log_firing_rate\": 0.08600292855563518, \"Firing rate\": 31.437300970102513, \"firing_rate\": 31.437300970102513, \"i_spike\": -5.75, \"isi diff\": 0.0025558537781103507, \"mean HDI\": -0.24932372570037842, \"higher HDI\": -0.0035680888686329126, \"lower HDI\": -0.4584118723869324, \"log_isi\": 0.02915979632853216, \"zero\": 0}, {\"mouse_code\": 2, \"neuron\": 4, \"i_trial\": 0.0, \"neuron_code\": 0.0, \"log_firing_rate\": -0.3404643377371812, \"Firing rate\": -155.32695016033142, \"firing_rate\": -155.32695016033142, \"i_spike\": 11.25, \"isi diff\": -0.00502677450870799, \"mean HDI\": -0.24932372570037842, \"higher HDI\": -0.0035680888686329126, \"lower HDI\": -0.4584118723869324, \"log_isi\": -0.05480244586291305, \"zero\": 0}, {\"mouse_code\": 3, \"neuron\": 4, \"i_trial\": 0.0, \"neuron_code\": 0.0, \"log_firing_rate\": 0.14706407151467982, \"Firing rate\": 58.77122225165215, \"firing_rate\": 58.77122225165215, \"i_spike\": 25.25, \"isi diff\": -0.012001982073580622, \"mean HDI\": -0.24932372570037842, \"higher HDI\": -0.0035680888686329126, \"lower HDI\": -0.4584118723869324, \"log_isi\": -0.12481630203313054, \"zero\": 0}, {\"mouse_code\": 0, \"neuron\": 5, \"i_trial\": 0.0, \"neuron_code\": 0.0, \"log_firing_rate\": -0.07689381794340244, \"Firing rate\": -40.00997030430656, \"firing_rate\": -40.00997030430656, \"i_spike\": -6.75, \"isi diff\": 0.0020427662068982916, \"mean HDI\": -0.3681144416332245, \"higher HDI\": -0.11716286838054657, \"lower HDI\": -0.6169392466545105, \"log_isi\": 0.026271635461383225, \"zero\": 0}, {\"mouse_code\": 1, \"neuron\": 5, \"i_trial\": 0.0, \"neuron_code\": 0.0, \"log_firing_rate\": 0.6660026787332805, \"Firing rate\": 1172.5960849306398, \"firing_rate\": 1172.5960849306398, \"i_spike\": -1.5, \"isi diff\": 0.00043064990946142107, \"mean HDI\": -0.3681144416332245, \"higher HDI\": -0.11716286838054657, \"lower HDI\": -0.6169392466545105, \"log_isi\": 0.004967662896711023, \"zero\": 0}, {\"mouse_code\": 2, \"neuron\": 5, \"i_trial\": 0.0, \"neuron_code\": 0.0, \"log_firing_rate\": 0.18013812966360154, \"Firing rate\": 92.98243748736735, \"firing_rate\": 92.98243748736735, \"i_spike\": 10.5, \"isi diff\": -0.0030749311437028755, \"mean HDI\": -0.3681144416332245, \"higher HDI\": -0.11716286838054657, \"lower HDI\": -0.6169392466545105, \"log_isi\": -0.041817796286875764, \"zero\": 0}, {\"mouse_code\": 3, \"neuron\": 5, \"i_trial\": 0.0, \"neuron_code\": 0.0, \"log_firing_rate\": 0.05392348480795395, \"Firing rate\": 16.952091640521132, \"firing_rate\": 16.952091640521132, \"i_spike\": 1.75, \"isi diff\": -0.0006406086219535589, \"mean HDI\": -0.3681144416332245, \"higher HDI\": -0.11716286838054657, \"lower HDI\": -0.6169392466545105, \"log_isi\": -0.008967316612912724, \"zero\": 0}, {\"mouse_code\": 0, \"neuron\": 6, \"i_trial\": 0.0, \"neuron_code\": 0.0, \"log_firing_rate\": 0.2547582742018579, \"Firing rate\": 202.0103615960806, \"firing_rate\": 202.0103615960806, \"i_spike\": 5.5, \"isi diff\": -0.0012894130079211877, \"mean HDI\": -0.5040752291679382, \"higher HDI\": -0.16543836891651154, \"lower HDI\": -0.8204386234283447, \"log_isi\": -0.019586201976754092, \"zero\": 0}, {\"mouse_code\": 1, \"neuron\": 6, \"i_trial\": 0.0, \"neuron_code\": 0.0, \"log_firing_rate\": 0.10689750097083461, \"Firing rate\": 43.83300187770732, \"firing_rate\": 43.83300187770732, \"i_spike\": -10.5, \"isi diff\": 0.002740770988421147, \"mean HDI\": -0.5040752291679382, \"higher HDI\": -0.16543836891651154, \"lower HDI\": -0.8204386234283447, \"log_isi\": 0.040529083598572546, \"zero\": 0}, {\"mouse_code\": 2, \"neuron\": 6, \"i_trial\": 0.0, \"neuron_code\": 0.0, \"log_firing_rate\": -0.3800489845918369, \"Firing rate\": -347.07332058772045, \"firing_rate\": -347.07332058772045, \"i_spike\": 10.5, \"isi diff\": -0.0020667526945508524, \"mean HDI\": -0.5040752291679382, \"higher HDI\": -0.16543836891651154, \"lower HDI\": -0.8204386234283447, \"log_isi\": -0.03359789538554381, \"zero\": 0}, {\"mouse_code\": 3, \"neuron\": 6, \"i_trial\": 0.0, \"neuron_code\": 0.0, \"log_firing_rate\": 0.5406501607799514, \"Firing rate\": 991.6668096285108, \"firing_rate\": 991.6668096285108, \"i_spike\": 12.25, \"isi diff\": -0.002756307499583551, \"mean HDI\": -0.5040752291679382, \"higher HDI\": -0.16543836891651154, \"lower HDI\": -0.8204386234283447, \"log_isi\": -0.04390607042094885, \"zero\": 0}, {\"mouse_code\": 0, \"neuron\": 7, \"i_trial\": 0.0, \"neuron_code\": 0.0, \"log_firing_rate\": 0.12791169777460798, \"Firing rate\": 132.9271226911004, \"firing_rate\": 132.9271226911004, \"i_spike\": 13.5, \"isi diff\": -0.0023327296166899825, \"mean HDI\": -0.6152423024177551, \"higher HDI\": -0.30913016200065613, \"lower HDI\": -0.9859901666641235, \"log_isi\": -0.04231214603935696, \"zero\": 0}, {\"mouse_code\": 1, \"neuron\": 7, \"i_trial\": 0.0, \"neuron_code\": 0.0, \"log_firing_rate\": 0.0309081583393902, \"Firing rate\": 8.42530722452409, \"firing_rate\": 8.42530722452409, \"i_spike\": 11.0, \"isi diff\": -0.0018438249374167492, \"mean HDI\": -0.6152423024177551, \"higher HDI\": -0.30913016200065613, \"lower HDI\": -0.9859901666641235, \"log_isi\": -0.03329836958706367, \"zero\": 0}, {\"mouse_code\": 2, \"neuron\": 7, \"i_trial\": 0.0, \"neuron_code\": 0.0, \"log_firing_rate\": 0.10961914121913185, \"Firing rate\": 84.84516145810943, \"firing_rate\": 84.84516145810943, \"i_spike\": -2.75, \"isi diff\": 0.00029759436683340565, \"mean HDI\": -0.6152423024177551, \"higher HDI\": -0.30913016200065613, \"lower HDI\": -0.9859901666641235, \"log_isi\": 0.005489216892573978, \"zero\": 0}, {\"mouse_code\": 3, \"neuron\": 7, \"i_trial\": 0.0, \"neuron_code\": 0.0, \"log_firing_rate\": -0.4107367313439769, \"Firing rate\": -351.0488292917235, \"firing_rate\": -351.0488292917235, \"i_spike\": 6.25, \"isi diff\": -0.0010542060922222665, \"mean HDI\": -0.6152423024177551, \"higher HDI\": -0.30913016200065613, \"lower HDI\": -0.9859901666641235, \"log_isi\": -0.020241402927022367, \"zero\": 0}]}}, {\"mode\": \"vega-lite\"});\n",
       "</script>"
      ],
      "text/plain": [
       "alt.LayerChart(...)"
      ]
     },
     "execution_count": 8,
     "metadata": {},
     "output_type": "execute_result"
    }
   ],
   "source": [
    "chart_p = visualization.plot_posterior(df=df_both, title=f'd_{y}', x='neuron',)\n",
    "chart_p"
   ]
  },
  {
   "cell_type": "code",
   "execution_count": 9,
   "metadata": {},
   "outputs": [
    {
     "data": {
      "text/html": [
       "\n",
       "<div id=\"altair-viz-ef8e94f1d57a42cbbd34145b81cccc15\"></div>\n",
       "<script type=\"text/javascript\">\n",
       "  (function(spec, embedOpt){\n",
       "    let outputDiv = document.currentScript.previousElementSibling;\n",
       "    if (outputDiv.id !== \"altair-viz-ef8e94f1d57a42cbbd34145b81cccc15\") {\n",
       "      outputDiv = document.getElementById(\"altair-viz-ef8e94f1d57a42cbbd34145b81cccc15\");\n",
       "    }\n",
       "    const paths = {\n",
       "      \"vega\": \"https://cdn.jsdelivr.net/npm//vega@5?noext\",\n",
       "      \"vega-lib\": \"https://cdn.jsdelivr.net/npm//vega-lib?noext\",\n",
       "      \"vega-lite\": \"https://cdn.jsdelivr.net/npm//vega-lite@4.8.1?noext\",\n",
       "      \"vega-embed\": \"https://cdn.jsdelivr.net/npm//vega-embed@6?noext\",\n",
       "    };\n",
       "\n",
       "    function loadScript(lib) {\n",
       "      return new Promise(function(resolve, reject) {\n",
       "        var s = document.createElement('script');\n",
       "        s.src = paths[lib];\n",
       "        s.async = true;\n",
       "        s.onload = () => resolve(paths[lib]);\n",
       "        s.onerror = () => reject(`Error loading script: ${paths[lib]}`);\n",
       "        document.getElementsByTagName(\"head\")[0].appendChild(s);\n",
       "      });\n",
       "    }\n",
       "\n",
       "    function showError(err) {\n",
       "      outputDiv.innerHTML = `<div class=\"error\" style=\"color:red;\">${err}</div>`;\n",
       "      throw err;\n",
       "    }\n",
       "\n",
       "    function displayChart(vegaEmbed) {\n",
       "      vegaEmbed(outputDiv, spec, embedOpt)\n",
       "        .catch(err => showError(`Javascript Error: ${err.message}<br>This usually means there's a typo in your chart specification. See the javascript console for the full traceback.`));\n",
       "    }\n",
       "\n",
       "    if(typeof define === \"function\" && define.amd) {\n",
       "      requirejs.config({paths});\n",
       "      require([\"vega-embed\"], displayChart, err => showError(`Error loading script: ${err.message}`));\n",
       "    } else if (typeof vegaEmbed === \"function\") {\n",
       "      displayChart(vegaEmbed);\n",
       "    } else {\n",
       "      loadScript(\"vega\")\n",
       "        .then(() => loadScript(\"vega-lite\"))\n",
       "        .then(() => loadScript(\"vega-embed\"))\n",
       "        .catch(showError)\n",
       "        .then(() => displayChart(vegaEmbed));\n",
       "    }\n",
       "  })({\"config\": {\"view\": {\"continuousWidth\": 400, \"continuousHeight\": 300}}, \"layer\": [{\"mark\": {\"type\": \"line\", \"fill\": null, \"opacity\": 0.5, \"size\": 3}, \"encoding\": {\"color\": {\"type\": \"nominal\", \"field\": \"mouse_code\"}, \"x\": {\"type\": \"ordinal\", \"field\": \"neuron\"}, \"y\": {\"type\": \"quantitative\", \"aggregate\": \"mean\", \"field\": \"isi diff\", \"scale\": {\"zero\": false}}}}, {\"mark\": {\"type\": \"boxplot\", \"color\": \"black\", \"opacity\": 0.3, \"size\": 12}, \"encoding\": {\"x\": {\"type\": \"ordinal\", \"field\": \"neuron\"}, \"y\": {\"type\": \"quantitative\", \"field\": \"isi diff\", \"scale\": {\"zero\": false}}}}, {\"layer\": [{\"mark\": {\"type\": \"line\", \"color\": \"black\", \"point\": true}, \"encoding\": {\"x\": {\"type\": \"ordinal\", \"field\": \"neuron\"}, \"y\": {\"type\": \"quantitative\", \"field\": \"mean HDI\", \"impute\": {\"value\": \"value\"}}}}, {\"mark\": {\"type\": \"rule\", \"color\": \"black\", \"opacity\": 0.4, \"size\": 0.1}, \"encoding\": {\"y\": {\"type\": \"quantitative\", \"field\": \"zero\"}}}, {\"mark\": \"rule\", \"encoding\": {\"x\": {\"type\": \"ordinal\", \"field\": \"neuron\"}, \"y\": {\"type\": \"quantitative\", \"field\": \"lower HDI\", \"scale\": {\"domain\": [-0.9859901666641235, 0.8769018054008484], \"zero\": false}, \"title\": \"\\u0394 d_isi\"}, \"y2\": {\"field\": \"higher HDI\"}}}]}], \"data\": {\"name\": \"data-578ef73d9cbc7a5813b1c767144b2d6f\"}, \"resolve\": {\"scale\": {\"y\": \"independent\"}}, \"$schema\": \"https://vega.github.io/schema/vega-lite/v4.8.1.json\", \"datasets\": {\"data-578ef73d9cbc7a5813b1c767144b2d6f\": [{\"mouse_code\": 0, \"neuron\": 0, \"i_trial\": 0.0, \"neuron_code\": 0.0, \"log_firing_rate\": 0.029371863668694598, \"Firing rate\": 11.129200605714658, \"firing_rate\": 11.129200605714658, \"i_spike\": 0.0, \"isi diff\": 0.002833285985648859, \"mean HDI\": 0.5162061452865601, \"higher HDI\": 0.8769018054008484, \"lower HDI\": 0.19024650752544403, \"log_isi\": 0.015634266965841803, \"zero\": 0}, {\"mouse_code\": 1, \"neuron\": 0, \"i_trial\": 0.0, \"neuron_code\": 0.0, \"log_firing_rate\": 0.1523555739688347, \"Firing rate\": 33.27775734676524, \"firing_rate\": 33.27775734676524, \"i_spike\": -1.25, \"isi diff\": 0.00010073621985197401, \"mean HDI\": 0.5162061452865601, \"higher HDI\": 0.8769018054008484, \"lower HDI\": 0.19024650752544403, \"log_isi\": 0.003268174619109221, \"zero\": 0}, {\"mouse_code\": 2, \"neuron\": 0, \"i_trial\": 0.0, \"neuron_code\": 0.0, \"log_firing_rate\": -0.3534486577603593, \"Firing rate\": -101.53249086200083, \"firing_rate\": -101.53249086200083, \"i_spike\": 9.25, \"isi diff\": -0.019438746122558942, \"mean HDI\": 0.5162061452865601, \"higher HDI\": 0.8769018054008484, \"lower HDI\": 0.19024650752544403, \"log_isi\": -0.09984416429726273, \"zero\": 0}, {\"mouse_code\": 3, \"neuron\": 0, \"i_trial\": 0.0, \"neuron_code\": 0.0, \"log_firing_rate\": 0.11081407420111766, \"Firing rate\": 13.679453845582174, \"firing_rate\": 13.679453845582174, \"i_spike\": 21.0, \"isi diff\": -0.031846782542681286, \"mean HDI\": 0.5162061452865601, \"higher HDI\": 0.8769018054008484, \"lower HDI\": 0.19024650752544403, \"log_isi\": -0.18654755804689405, \"zero\": 0}, {\"mouse_code\": 0, \"neuron\": 1, \"i_trial\": 0.0, \"neuron_code\": 0.0, \"log_firing_rate\": 0.19011272285145142, \"Firing rate\": 40.42655712365601, \"firing_rate\": 40.42655712365601, \"i_spike\": -4.5, \"isi diff\": 0.006744611080529317, \"mean HDI\": 0.4664335548877716, \"higher HDI\": 0.8438841700553894, \"lower HDI\": 0.16975733637809753, \"log_isi\": 0.03964232443329552, \"zero\": 0}, {\"mouse_code\": 1, \"neuron\": 1, \"i_trial\": 0.0, \"neuron_code\": 0.0, \"log_firing_rate\": 0.29184846566400346, \"Firing rate\": 93.89589493550031, \"firing_rate\": 93.89589493550031, \"i_spike\": 4.25, \"isi diff\": -0.004253869303683239, \"mean HDI\": 0.4664335548877716, \"higher HDI\": 0.8438841700553894, \"lower HDI\": 0.16975733637809753, \"log_isi\": -0.028361591538881736, \"zero\": 0}, {\"mouse_code\": 2, \"neuron\": 1, \"i_trial\": 0.0, \"neuron_code\": 0.0, \"log_firing_rate\": 0.26410299382238867, \"Firing rate\": 46.53268226382765, \"firing_rate\": 46.53268226382765, \"i_spike\": 10.0, \"isi diff\": -0.009821261937630416, \"mean HDI\": 0.4664335548877716, \"higher HDI\": 0.8438841700553894, \"lower HDI\": 0.16975733637809753, \"log_isi\": -0.07137262848661807, \"zero\": 0}, {\"mouse_code\": 3, \"neuron\": 1, \"i_trial\": 0.0, \"neuron_code\": 0.0, \"log_firing_rate\": -0.35074759528916744, \"Firing rate\": -94.11566325582669, \"firing_rate\": -94.11566325582669, \"i_spike\": 2.0, \"isi diff\": -0.0012858282988085779, \"mean HDI\": 0.4664335548877716, \"higher HDI\": 0.8438841700553894, \"lower HDI\": 0.16975733637809753, \"log_isi\": -0.014362351256080874, \"zero\": 0}, {\"mouse_code\": 0, \"neuron\": 2, \"i_trial\": 0.0, \"neuron_code\": 0.0, \"log_firing_rate\": -1.0445524000952786, \"Firing rate\": -2680.965732623502, \"firing_rate\": -2680.965732623502, \"i_spike\": -11.75, \"isi diff\": 0.01578087567794663, \"mean HDI\": 0.2581125497817993, \"higher HDI\": 0.6097501516342163, \"lower HDI\": -0.05589483305811882, \"log_isi\": 0.103917296543522, \"zero\": 0}, {\"mouse_code\": 1, \"neuron\": 2, \"i_trial\": 0.0, \"neuron_code\": 0.0, \"log_firing_rate\": 0.5571140198374467, \"Firing rate\": 186.6526426958946, \"firing_rate\": 186.6526426958946, \"i_spike\": 13.0, \"isi diff\": -0.013447666946035886, \"mean HDI\": 0.2581125497817993, \"higher HDI\": 0.6097501516342163, \"lower HDI\": -0.05589483305811882, \"log_isi\": -0.09937352561556967, \"zero\": 0}, {\"mouse_code\": 2, \"neuron\": 2, \"i_trial\": 0.0, \"neuron_code\": 0.0, \"log_firing_rate\": 0.22847160303322855, \"Firing rate\": 95.15510729141747, \"firing_rate\": 95.15510729141747, \"i_spike\": 10.0, \"isi diff\": -0.012278697498799868, \"mean HDI\": 0.2581125497817993, \"higher HDI\": 0.6097501516342163, \"lower HDI\": -0.05589483305811882, \"log_isi\": -0.08222407761305384, \"zero\": 0}, {\"mouse_code\": 3, \"neuron\": 2, \"i_trial\": 0.0, \"neuron_code\": 0.0, \"log_firing_rate\": -0.21484693998842275, \"Firing rate\": -218.11031667199836, \"firing_rate\": -218.11031667199836, \"i_spike\": 3.75, \"isi diff\": -0.003898139511514062, \"mean HDI\": 0.2581125497817993, \"higher HDI\": 0.6097501516342163, \"lower HDI\": -0.05589483305811882, \"log_isi\": -0.03200538188136859, \"zero\": 0}, {\"mouse_code\": 0, \"neuron\": 3, \"i_trial\": 0.0, \"neuron_code\": 0.0, \"log_firing_rate\": -0.12771179252924014, \"Firing rate\": -44.360162919336716, \"firing_rate\": -44.360162919336716, \"i_spike\": 2.0, \"isi diff\": -0.0016367257631072912, \"mean HDI\": -0.08064699918031693, \"higher HDI\": 0.1517299860715866, \"lower HDI\": -0.2617262303829193, \"log_isi\": -0.01389059820411842, \"zero\": 0}, {\"mouse_code\": 1, \"neuron\": 3, \"i_trial\": 0.0, \"neuron_code\": 0.0, \"log_firing_rate\": 0.47239896741830845, \"Firing rate\": 153.11116513463872, \"firing_rate\": 153.11116513463872, \"i_spike\": 12.75, \"isi diff\": -0.007801549960765396, \"mean HDI\": -0.08064699918031693, \"higher HDI\": 0.1517299860715866, \"lower HDI\": -0.2617262303829193, \"log_isi\": -0.06923901591458725, \"zero\": 0}, {\"mouse_code\": 2, \"neuron\": 3, \"i_trial\": 0.0, \"neuron_code\": 0.0, \"log_firing_rate\": -0.09101897645262413, \"Firing rate\": -51.05742021475197, \"firing_rate\": -51.05742021475197, \"i_spike\": 13.75, \"isi diff\": -0.00962885554273886, \"mean HDI\": -0.08064699918031693, \"higher HDI\": 0.1517299860715866, \"lower HDI\": -0.2617262303829193, \"log_isi\": -0.08294957333795683, \"zero\": 0}, {\"mouse_code\": 3, \"neuron\": 3, \"i_trial\": 0.0, \"neuron_code\": 0.0, \"log_firing_rate\": 0.5312546719845845, \"Firing rate\": 184.19063453486123, \"firing_rate\": 184.19063453486123, \"i_spike\": 21.5, \"isi diff\": -0.01330060715037397, \"mean HDI\": -0.08064699918031693, \"higher HDI\": 0.1517299860715866, \"lower HDI\": -0.2617262303829193, \"log_isi\": -0.12269493894351458, \"zero\": 0}, {\"mouse_code\": 0, \"neuron\": 4, \"i_trial\": 0.0, \"neuron_code\": 0.0, \"log_firing_rate\": -0.07822680771701451, \"Firing rate\": -24.762072575169043, \"firing_rate\": -24.762072575169043, \"i_spike\": -2.5, \"isi diff\": 0.0008047318772052628, \"mean HDI\": -0.24932372570037842, \"higher HDI\": -0.0035680888686329126, \"lower HDI\": -0.4584118723869324, \"log_isi\": 0.009549732090315066, \"zero\": 0}, {\"mouse_code\": 1, \"neuron\": 4, \"i_trial\": 0.0, \"neuron_code\": 0.0, \"log_firing_rate\": 0.08600292855563518, \"Firing rate\": 31.437300970102513, \"firing_rate\": 31.437300970102513, \"i_spike\": -5.75, \"isi diff\": 0.0025558537781103507, \"mean HDI\": -0.24932372570037842, \"higher HDI\": -0.0035680888686329126, \"lower HDI\": -0.4584118723869324, \"log_isi\": 0.02915979632853216, \"zero\": 0}, {\"mouse_code\": 2, \"neuron\": 4, \"i_trial\": 0.0, \"neuron_code\": 0.0, \"log_firing_rate\": -0.3404643377371812, \"Firing rate\": -155.32695016033142, \"firing_rate\": -155.32695016033142, \"i_spike\": 11.25, \"isi diff\": -0.00502677450870799, \"mean HDI\": -0.24932372570037842, \"higher HDI\": -0.0035680888686329126, \"lower HDI\": -0.4584118723869324, \"log_isi\": -0.05480244586291305, \"zero\": 0}, {\"mouse_code\": 3, \"neuron\": 4, \"i_trial\": 0.0, \"neuron_code\": 0.0, \"log_firing_rate\": 0.14706407151467982, \"Firing rate\": 58.77122225165215, \"firing_rate\": 58.77122225165215, \"i_spike\": 25.25, \"isi diff\": -0.012001982073580622, \"mean HDI\": -0.24932372570037842, \"higher HDI\": -0.0035680888686329126, \"lower HDI\": -0.4584118723869324, \"log_isi\": -0.12481630203313054, \"zero\": 0}, {\"mouse_code\": 0, \"neuron\": 5, \"i_trial\": 0.0, \"neuron_code\": 0.0, \"log_firing_rate\": -0.07689381794340244, \"Firing rate\": -40.00997030430656, \"firing_rate\": -40.00997030430656, \"i_spike\": -6.75, \"isi diff\": 0.0020427662068982916, \"mean HDI\": -0.3681144416332245, \"higher HDI\": -0.11716286838054657, \"lower HDI\": -0.6169392466545105, \"log_isi\": 0.026271635461383225, \"zero\": 0}, {\"mouse_code\": 1, \"neuron\": 5, \"i_trial\": 0.0, \"neuron_code\": 0.0, \"log_firing_rate\": 0.6660026787332805, \"Firing rate\": 1172.5960849306398, \"firing_rate\": 1172.5960849306398, \"i_spike\": -1.5, \"isi diff\": 0.00043064990946142107, \"mean HDI\": -0.3681144416332245, \"higher HDI\": -0.11716286838054657, \"lower HDI\": -0.6169392466545105, \"log_isi\": 0.004967662896711023, \"zero\": 0}, {\"mouse_code\": 2, \"neuron\": 5, \"i_trial\": 0.0, \"neuron_code\": 0.0, \"log_firing_rate\": 0.18013812966360154, \"Firing rate\": 92.98243748736735, \"firing_rate\": 92.98243748736735, \"i_spike\": 10.5, \"isi diff\": -0.0030749311437028755, \"mean HDI\": -0.3681144416332245, \"higher HDI\": -0.11716286838054657, \"lower HDI\": -0.6169392466545105, \"log_isi\": -0.041817796286875764, \"zero\": 0}, {\"mouse_code\": 3, \"neuron\": 5, \"i_trial\": 0.0, \"neuron_code\": 0.0, \"log_firing_rate\": 0.05392348480795395, \"Firing rate\": 16.952091640521132, \"firing_rate\": 16.952091640521132, \"i_spike\": 1.75, \"isi diff\": -0.0006406086219535589, \"mean HDI\": -0.3681144416332245, \"higher HDI\": -0.11716286838054657, \"lower HDI\": -0.6169392466545105, \"log_isi\": -0.008967316612912724, \"zero\": 0}, {\"mouse_code\": 0, \"neuron\": 6, \"i_trial\": 0.0, \"neuron_code\": 0.0, \"log_firing_rate\": 0.2547582742018579, \"Firing rate\": 202.0103615960806, \"firing_rate\": 202.0103615960806, \"i_spike\": 5.5, \"isi diff\": -0.0012894130079211877, \"mean HDI\": -0.5040752291679382, \"higher HDI\": -0.16543836891651154, \"lower HDI\": -0.8204386234283447, \"log_isi\": -0.019586201976754092, \"zero\": 0}, {\"mouse_code\": 1, \"neuron\": 6, \"i_trial\": 0.0, \"neuron_code\": 0.0, \"log_firing_rate\": 0.10689750097083461, \"Firing rate\": 43.83300187770732, \"firing_rate\": 43.83300187770732, \"i_spike\": -10.5, \"isi diff\": 0.002740770988421147, \"mean HDI\": -0.5040752291679382, \"higher HDI\": -0.16543836891651154, \"lower HDI\": -0.8204386234283447, \"log_isi\": 0.040529083598572546, \"zero\": 0}, {\"mouse_code\": 2, \"neuron\": 6, \"i_trial\": 0.0, \"neuron_code\": 0.0, \"log_firing_rate\": -0.3800489845918369, \"Firing rate\": -347.07332058772045, \"firing_rate\": -347.07332058772045, \"i_spike\": 10.5, \"isi diff\": -0.0020667526945508524, \"mean HDI\": -0.5040752291679382, \"higher HDI\": -0.16543836891651154, \"lower HDI\": -0.8204386234283447, \"log_isi\": -0.03359789538554381, \"zero\": 0}, {\"mouse_code\": 3, \"neuron\": 6, \"i_trial\": 0.0, \"neuron_code\": 0.0, \"log_firing_rate\": 0.5406501607799514, \"Firing rate\": 991.6668096285108, \"firing_rate\": 991.6668096285108, \"i_spike\": 12.25, \"isi diff\": -0.002756307499583551, \"mean HDI\": -0.5040752291679382, \"higher HDI\": -0.16543836891651154, \"lower HDI\": -0.8204386234283447, \"log_isi\": -0.04390607042094885, \"zero\": 0}, {\"mouse_code\": 0, \"neuron\": 7, \"i_trial\": 0.0, \"neuron_code\": 0.0, \"log_firing_rate\": 0.12791169777460798, \"Firing rate\": 132.9271226911004, \"firing_rate\": 132.9271226911004, \"i_spike\": 13.5, \"isi diff\": -0.0023327296166899825, \"mean HDI\": -0.6152423024177551, \"higher HDI\": -0.30913016200065613, \"lower HDI\": -0.9859901666641235, \"log_isi\": -0.04231214603935696, \"zero\": 0}, {\"mouse_code\": 1, \"neuron\": 7, \"i_trial\": 0.0, \"neuron_code\": 0.0, \"log_firing_rate\": 0.0309081583393902, \"Firing rate\": 8.42530722452409, \"firing_rate\": 8.42530722452409, \"i_spike\": 11.0, \"isi diff\": -0.0018438249374167492, \"mean HDI\": -0.6152423024177551, \"higher HDI\": -0.30913016200065613, \"lower HDI\": -0.9859901666641235, \"log_isi\": -0.03329836958706367, \"zero\": 0}, {\"mouse_code\": 2, \"neuron\": 7, \"i_trial\": 0.0, \"neuron_code\": 0.0, \"log_firing_rate\": 0.10961914121913185, \"Firing rate\": 84.84516145810943, \"firing_rate\": 84.84516145810943, \"i_spike\": -2.75, \"isi diff\": 0.00029759436683340565, \"mean HDI\": -0.6152423024177551, \"higher HDI\": -0.30913016200065613, \"lower HDI\": -0.9859901666641235, \"log_isi\": 0.005489216892573978, \"zero\": 0}, {\"mouse_code\": 3, \"neuron\": 7, \"i_trial\": 0.0, \"neuron_code\": 0.0, \"log_firing_rate\": -0.4107367313439769, \"Firing rate\": -351.0488292917235, \"firing_rate\": -351.0488292917235, \"i_spike\": 6.25, \"isi diff\": -0.0010542060922222665, \"mean HDI\": -0.6152423024177551, \"higher HDI\": -0.30913016200065613, \"lower HDI\": -0.9859901666641235, \"log_isi\": -0.020241402927022367, \"zero\": 0}]}}, {\"mode\": \"vega-lite\"});\n",
       "</script>"
      ],
      "text/plain": [
       "alt.LayerChart(...)"
      ]
     },
     "execution_count": 9,
     "metadata": {},
     "output_type": "execute_result"
    }
   ],
   "source": [
    "(chart_d+chart_p).resolve_scale(y='independent')"
   ]
  },
  {
   "cell_type": "code",
   "execution_count": 10,
   "metadata": {},
   "outputs": [
    {
     "data": {
      "text/html": [
       "\n",
       "<div id=\"altair-viz-af5ef378e3b34027980920a8174d51fe\"></div>\n",
       "<script type=\"text/javascript\">\n",
       "  (function(spec, embedOpt){\n",
       "    let outputDiv = document.currentScript.previousElementSibling;\n",
       "    if (outputDiv.id !== \"altair-viz-af5ef378e3b34027980920a8174d51fe\") {\n",
       "      outputDiv = document.getElementById(\"altair-viz-af5ef378e3b34027980920a8174d51fe\");\n",
       "    }\n",
       "    const paths = {\n",
       "      \"vega\": \"https://cdn.jsdelivr.net/npm//vega@5?noext\",\n",
       "      \"vega-lib\": \"https://cdn.jsdelivr.net/npm//vega-lib?noext\",\n",
       "      \"vega-lite\": \"https://cdn.jsdelivr.net/npm//vega-lite@4.8.1?noext\",\n",
       "      \"vega-embed\": \"https://cdn.jsdelivr.net/npm//vega-embed@6?noext\",\n",
       "    };\n",
       "\n",
       "    function loadScript(lib) {\n",
       "      return new Promise(function(resolve, reject) {\n",
       "        var s = document.createElement('script');\n",
       "        s.src = paths[lib];\n",
       "        s.async = true;\n",
       "        s.onload = () => resolve(paths[lib]);\n",
       "        s.onerror = () => reject(`Error loading script: ${paths[lib]}`);\n",
       "        document.getElementsByTagName(\"head\")[0].appendChild(s);\n",
       "      });\n",
       "    }\n",
       "\n",
       "    function showError(err) {\n",
       "      outputDiv.innerHTML = `<div class=\"error\" style=\"color:red;\">${err}</div>`;\n",
       "      throw err;\n",
       "    }\n",
       "\n",
       "    function displayChart(vegaEmbed) {\n",
       "      vegaEmbed(outputDiv, spec, embedOpt)\n",
       "        .catch(err => showError(`Javascript Error: ${err.message}<br>This usually means there's a typo in your chart specification. See the javascript console for the full traceback.`));\n",
       "    }\n",
       "\n",
       "    if(typeof define === \"function\" && define.amd) {\n",
       "      requirejs.config({paths});\n",
       "      require([\"vega-embed\"], displayChart, err => showError(`Error loading script: ${err.message}`));\n",
       "    } else if (typeof vegaEmbed === \"function\") {\n",
       "      displayChart(vegaEmbed);\n",
       "    } else {\n",
       "      loadScript(\"vega\")\n",
       "        .then(() => loadScript(\"vega-lite\"))\n",
       "        .then(() => loadScript(\"vega-embed\"))\n",
       "        .catch(showError)\n",
       "        .then(() => displayChart(vegaEmbed));\n",
       "    }\n",
       "  })({\"config\": {\"view\": {\"continuousWidth\": 400, \"continuousHeight\": 300}}, \"data\": {\"name\": \"data-578ef73d9cbc7a5813b1c767144b2d6f\"}, \"facet\": {\"column\": {\"type\": \"quantitative\", \"field\": \"neuron\"}}, \"spec\": {\"layer\": [{\"mark\": {\"type\": \"line\", \"fill\": null, \"opacity\": 0.5, \"size\": 3}, \"encoding\": {\"color\": {\"type\": \"nominal\", \"field\": \"mouse_code\"}, \"x\": {\"type\": \"ordinal\", \"field\": \"neuron\"}, \"y\": {\"type\": \"quantitative\", \"aggregate\": \"mean\", \"field\": \"isi diff\", \"scale\": {\"zero\": false}}}}, {\"mark\": {\"type\": \"boxplot\", \"color\": \"black\", \"opacity\": 0.3, \"size\": 12}, \"encoding\": {\"x\": {\"type\": \"ordinal\", \"field\": \"neuron\"}, \"y\": {\"type\": \"quantitative\", \"field\": \"isi diff\", \"scale\": {\"zero\": false}}}}, {\"layer\": [{\"mark\": {\"type\": \"line\", \"color\": \"black\", \"point\": true}, \"encoding\": {\"x\": {\"type\": \"ordinal\", \"field\": \"neuron\"}, \"y\": {\"type\": \"quantitative\", \"field\": \"mean HDI\", \"impute\": {\"value\": \"value\"}}}}, {\"mark\": {\"type\": \"rule\", \"color\": \"black\", \"opacity\": 0.4, \"size\": 0.1}, \"encoding\": {\"y\": {\"type\": \"quantitative\", \"field\": \"zero\"}}}, {\"mark\": \"rule\", \"encoding\": {\"x\": {\"type\": \"ordinal\", \"field\": \"neuron\"}, \"y\": {\"type\": \"quantitative\", \"field\": \"lower HDI\", \"scale\": {\"domain\": [-0.9859901666641235, 0.8769018054008484], \"zero\": false}, \"title\": \"\\u0394 d_isi\"}, \"y2\": {\"field\": \"higher HDI\"}}}]}]}, \"$schema\": \"https://vega.github.io/schema/vega-lite/v4.8.1.json\", \"datasets\": {\"data-578ef73d9cbc7a5813b1c767144b2d6f\": [{\"mouse_code\": 0, \"neuron\": 0, \"i_trial\": 0.0, \"neuron_code\": 0.0, \"log_firing_rate\": 0.029371863668694598, \"Firing rate\": 11.129200605714658, \"firing_rate\": 11.129200605714658, \"i_spike\": 0.0, \"isi diff\": 0.002833285985648859, \"mean HDI\": 0.5162061452865601, \"higher HDI\": 0.8769018054008484, \"lower HDI\": 0.19024650752544403, \"log_isi\": 0.015634266965841803, \"zero\": 0}, {\"mouse_code\": 1, \"neuron\": 0, \"i_trial\": 0.0, \"neuron_code\": 0.0, \"log_firing_rate\": 0.1523555739688347, \"Firing rate\": 33.27775734676524, \"firing_rate\": 33.27775734676524, \"i_spike\": -1.25, \"isi diff\": 0.00010073621985197401, \"mean HDI\": 0.5162061452865601, \"higher HDI\": 0.8769018054008484, \"lower HDI\": 0.19024650752544403, \"log_isi\": 0.003268174619109221, \"zero\": 0}, {\"mouse_code\": 2, \"neuron\": 0, \"i_trial\": 0.0, \"neuron_code\": 0.0, \"log_firing_rate\": -0.3534486577603593, \"Firing rate\": -101.53249086200083, \"firing_rate\": -101.53249086200083, \"i_spike\": 9.25, \"isi diff\": -0.019438746122558942, \"mean HDI\": 0.5162061452865601, \"higher HDI\": 0.8769018054008484, \"lower HDI\": 0.19024650752544403, \"log_isi\": -0.09984416429726273, \"zero\": 0}, {\"mouse_code\": 3, \"neuron\": 0, \"i_trial\": 0.0, \"neuron_code\": 0.0, \"log_firing_rate\": 0.11081407420111766, \"Firing rate\": 13.679453845582174, \"firing_rate\": 13.679453845582174, \"i_spike\": 21.0, \"isi diff\": -0.031846782542681286, \"mean HDI\": 0.5162061452865601, \"higher HDI\": 0.8769018054008484, \"lower HDI\": 0.19024650752544403, \"log_isi\": -0.18654755804689405, \"zero\": 0}, {\"mouse_code\": 0, \"neuron\": 1, \"i_trial\": 0.0, \"neuron_code\": 0.0, \"log_firing_rate\": 0.19011272285145142, \"Firing rate\": 40.42655712365601, \"firing_rate\": 40.42655712365601, \"i_spike\": -4.5, \"isi diff\": 0.006744611080529317, \"mean HDI\": 0.4664335548877716, \"higher HDI\": 0.8438841700553894, \"lower HDI\": 0.16975733637809753, \"log_isi\": 0.03964232443329552, \"zero\": 0}, {\"mouse_code\": 1, \"neuron\": 1, \"i_trial\": 0.0, \"neuron_code\": 0.0, \"log_firing_rate\": 0.29184846566400346, \"Firing rate\": 93.89589493550031, \"firing_rate\": 93.89589493550031, \"i_spike\": 4.25, \"isi diff\": -0.004253869303683239, \"mean HDI\": 0.4664335548877716, \"higher HDI\": 0.8438841700553894, \"lower HDI\": 0.16975733637809753, \"log_isi\": -0.028361591538881736, \"zero\": 0}, {\"mouse_code\": 2, \"neuron\": 1, \"i_trial\": 0.0, \"neuron_code\": 0.0, \"log_firing_rate\": 0.26410299382238867, \"Firing rate\": 46.53268226382765, \"firing_rate\": 46.53268226382765, \"i_spike\": 10.0, \"isi diff\": -0.009821261937630416, \"mean HDI\": 0.4664335548877716, \"higher HDI\": 0.8438841700553894, \"lower HDI\": 0.16975733637809753, \"log_isi\": -0.07137262848661807, \"zero\": 0}, {\"mouse_code\": 3, \"neuron\": 1, \"i_trial\": 0.0, \"neuron_code\": 0.0, \"log_firing_rate\": -0.35074759528916744, \"Firing rate\": -94.11566325582669, \"firing_rate\": -94.11566325582669, \"i_spike\": 2.0, \"isi diff\": -0.0012858282988085779, \"mean HDI\": 0.4664335548877716, \"higher HDI\": 0.8438841700553894, \"lower HDI\": 0.16975733637809753, \"log_isi\": -0.014362351256080874, \"zero\": 0}, {\"mouse_code\": 0, \"neuron\": 2, \"i_trial\": 0.0, \"neuron_code\": 0.0, \"log_firing_rate\": -1.0445524000952786, \"Firing rate\": -2680.965732623502, \"firing_rate\": -2680.965732623502, \"i_spike\": -11.75, \"isi diff\": 0.01578087567794663, \"mean HDI\": 0.2581125497817993, \"higher HDI\": 0.6097501516342163, \"lower HDI\": -0.05589483305811882, \"log_isi\": 0.103917296543522, \"zero\": 0}, {\"mouse_code\": 1, \"neuron\": 2, \"i_trial\": 0.0, \"neuron_code\": 0.0, \"log_firing_rate\": 0.5571140198374467, \"Firing rate\": 186.6526426958946, \"firing_rate\": 186.6526426958946, \"i_spike\": 13.0, \"isi diff\": -0.013447666946035886, \"mean HDI\": 0.2581125497817993, \"higher HDI\": 0.6097501516342163, \"lower HDI\": -0.05589483305811882, \"log_isi\": -0.09937352561556967, \"zero\": 0}, {\"mouse_code\": 2, \"neuron\": 2, \"i_trial\": 0.0, \"neuron_code\": 0.0, \"log_firing_rate\": 0.22847160303322855, \"Firing rate\": 95.15510729141747, \"firing_rate\": 95.15510729141747, \"i_spike\": 10.0, \"isi diff\": -0.012278697498799868, \"mean HDI\": 0.2581125497817993, \"higher HDI\": 0.6097501516342163, \"lower HDI\": -0.05589483305811882, \"log_isi\": -0.08222407761305384, \"zero\": 0}, {\"mouse_code\": 3, \"neuron\": 2, \"i_trial\": 0.0, \"neuron_code\": 0.0, \"log_firing_rate\": -0.21484693998842275, \"Firing rate\": -218.11031667199836, \"firing_rate\": -218.11031667199836, \"i_spike\": 3.75, \"isi diff\": -0.003898139511514062, \"mean HDI\": 0.2581125497817993, \"higher HDI\": 0.6097501516342163, \"lower HDI\": -0.05589483305811882, \"log_isi\": -0.03200538188136859, \"zero\": 0}, {\"mouse_code\": 0, \"neuron\": 3, \"i_trial\": 0.0, \"neuron_code\": 0.0, \"log_firing_rate\": -0.12771179252924014, \"Firing rate\": -44.360162919336716, \"firing_rate\": -44.360162919336716, \"i_spike\": 2.0, \"isi diff\": -0.0016367257631072912, \"mean HDI\": -0.08064699918031693, \"higher HDI\": 0.1517299860715866, \"lower HDI\": -0.2617262303829193, \"log_isi\": -0.01389059820411842, \"zero\": 0}, {\"mouse_code\": 1, \"neuron\": 3, \"i_trial\": 0.0, \"neuron_code\": 0.0, \"log_firing_rate\": 0.47239896741830845, \"Firing rate\": 153.11116513463872, \"firing_rate\": 153.11116513463872, \"i_spike\": 12.75, \"isi diff\": -0.007801549960765396, \"mean HDI\": -0.08064699918031693, \"higher HDI\": 0.1517299860715866, \"lower HDI\": -0.2617262303829193, \"log_isi\": -0.06923901591458725, \"zero\": 0}, {\"mouse_code\": 2, \"neuron\": 3, \"i_trial\": 0.0, \"neuron_code\": 0.0, \"log_firing_rate\": -0.09101897645262413, \"Firing rate\": -51.05742021475197, \"firing_rate\": -51.05742021475197, \"i_spike\": 13.75, \"isi diff\": -0.00962885554273886, \"mean HDI\": -0.08064699918031693, \"higher HDI\": 0.1517299860715866, \"lower HDI\": -0.2617262303829193, \"log_isi\": -0.08294957333795683, \"zero\": 0}, {\"mouse_code\": 3, \"neuron\": 3, \"i_trial\": 0.0, \"neuron_code\": 0.0, \"log_firing_rate\": 0.5312546719845845, \"Firing rate\": 184.19063453486123, \"firing_rate\": 184.19063453486123, \"i_spike\": 21.5, \"isi diff\": -0.01330060715037397, \"mean HDI\": -0.08064699918031693, \"higher HDI\": 0.1517299860715866, \"lower HDI\": -0.2617262303829193, \"log_isi\": -0.12269493894351458, \"zero\": 0}, {\"mouse_code\": 0, \"neuron\": 4, \"i_trial\": 0.0, \"neuron_code\": 0.0, \"log_firing_rate\": -0.07822680771701451, \"Firing rate\": -24.762072575169043, \"firing_rate\": -24.762072575169043, \"i_spike\": -2.5, \"isi diff\": 0.0008047318772052628, \"mean HDI\": -0.24932372570037842, \"higher HDI\": -0.0035680888686329126, \"lower HDI\": -0.4584118723869324, \"log_isi\": 0.009549732090315066, \"zero\": 0}, {\"mouse_code\": 1, \"neuron\": 4, \"i_trial\": 0.0, \"neuron_code\": 0.0, \"log_firing_rate\": 0.08600292855563518, \"Firing rate\": 31.437300970102513, \"firing_rate\": 31.437300970102513, \"i_spike\": -5.75, \"isi diff\": 0.0025558537781103507, \"mean HDI\": -0.24932372570037842, \"higher HDI\": -0.0035680888686329126, \"lower HDI\": -0.4584118723869324, \"log_isi\": 0.02915979632853216, \"zero\": 0}, {\"mouse_code\": 2, \"neuron\": 4, \"i_trial\": 0.0, \"neuron_code\": 0.0, \"log_firing_rate\": -0.3404643377371812, \"Firing rate\": -155.32695016033142, \"firing_rate\": -155.32695016033142, \"i_spike\": 11.25, \"isi diff\": -0.00502677450870799, \"mean HDI\": -0.24932372570037842, \"higher HDI\": -0.0035680888686329126, \"lower HDI\": -0.4584118723869324, \"log_isi\": -0.05480244586291305, \"zero\": 0}, {\"mouse_code\": 3, \"neuron\": 4, \"i_trial\": 0.0, \"neuron_code\": 0.0, \"log_firing_rate\": 0.14706407151467982, \"Firing rate\": 58.77122225165215, \"firing_rate\": 58.77122225165215, \"i_spike\": 25.25, \"isi diff\": -0.012001982073580622, \"mean HDI\": -0.24932372570037842, \"higher HDI\": -0.0035680888686329126, \"lower HDI\": -0.4584118723869324, \"log_isi\": -0.12481630203313054, \"zero\": 0}, {\"mouse_code\": 0, \"neuron\": 5, \"i_trial\": 0.0, \"neuron_code\": 0.0, \"log_firing_rate\": -0.07689381794340244, \"Firing rate\": -40.00997030430656, \"firing_rate\": -40.00997030430656, \"i_spike\": -6.75, \"isi diff\": 0.0020427662068982916, \"mean HDI\": -0.3681144416332245, \"higher HDI\": -0.11716286838054657, \"lower HDI\": -0.6169392466545105, \"log_isi\": 0.026271635461383225, \"zero\": 0}, {\"mouse_code\": 1, \"neuron\": 5, \"i_trial\": 0.0, \"neuron_code\": 0.0, \"log_firing_rate\": 0.6660026787332805, \"Firing rate\": 1172.5960849306398, \"firing_rate\": 1172.5960849306398, \"i_spike\": -1.5, \"isi diff\": 0.00043064990946142107, \"mean HDI\": -0.3681144416332245, \"higher HDI\": -0.11716286838054657, \"lower HDI\": -0.6169392466545105, \"log_isi\": 0.004967662896711023, \"zero\": 0}, {\"mouse_code\": 2, \"neuron\": 5, \"i_trial\": 0.0, \"neuron_code\": 0.0, \"log_firing_rate\": 0.18013812966360154, \"Firing rate\": 92.98243748736735, \"firing_rate\": 92.98243748736735, \"i_spike\": 10.5, \"isi diff\": -0.0030749311437028755, \"mean HDI\": -0.3681144416332245, \"higher HDI\": -0.11716286838054657, \"lower HDI\": -0.6169392466545105, \"log_isi\": -0.041817796286875764, \"zero\": 0}, {\"mouse_code\": 3, \"neuron\": 5, \"i_trial\": 0.0, \"neuron_code\": 0.0, \"log_firing_rate\": 0.05392348480795395, \"Firing rate\": 16.952091640521132, \"firing_rate\": 16.952091640521132, \"i_spike\": 1.75, \"isi diff\": -0.0006406086219535589, \"mean HDI\": -0.3681144416332245, \"higher HDI\": -0.11716286838054657, \"lower HDI\": -0.6169392466545105, \"log_isi\": -0.008967316612912724, \"zero\": 0}, {\"mouse_code\": 0, \"neuron\": 6, \"i_trial\": 0.0, \"neuron_code\": 0.0, \"log_firing_rate\": 0.2547582742018579, \"Firing rate\": 202.0103615960806, \"firing_rate\": 202.0103615960806, \"i_spike\": 5.5, \"isi diff\": -0.0012894130079211877, \"mean HDI\": -0.5040752291679382, \"higher HDI\": -0.16543836891651154, \"lower HDI\": -0.8204386234283447, \"log_isi\": -0.019586201976754092, \"zero\": 0}, {\"mouse_code\": 1, \"neuron\": 6, \"i_trial\": 0.0, \"neuron_code\": 0.0, \"log_firing_rate\": 0.10689750097083461, \"Firing rate\": 43.83300187770732, \"firing_rate\": 43.83300187770732, \"i_spike\": -10.5, \"isi diff\": 0.002740770988421147, \"mean HDI\": -0.5040752291679382, \"higher HDI\": -0.16543836891651154, \"lower HDI\": -0.8204386234283447, \"log_isi\": 0.040529083598572546, \"zero\": 0}, {\"mouse_code\": 2, \"neuron\": 6, \"i_trial\": 0.0, \"neuron_code\": 0.0, \"log_firing_rate\": -0.3800489845918369, \"Firing rate\": -347.07332058772045, \"firing_rate\": -347.07332058772045, \"i_spike\": 10.5, \"isi diff\": -0.0020667526945508524, \"mean HDI\": -0.5040752291679382, \"higher HDI\": -0.16543836891651154, \"lower HDI\": -0.8204386234283447, \"log_isi\": -0.03359789538554381, \"zero\": 0}, {\"mouse_code\": 3, \"neuron\": 6, \"i_trial\": 0.0, \"neuron_code\": 0.0, \"log_firing_rate\": 0.5406501607799514, \"Firing rate\": 991.6668096285108, \"firing_rate\": 991.6668096285108, \"i_spike\": 12.25, \"isi diff\": -0.002756307499583551, \"mean HDI\": -0.5040752291679382, \"higher HDI\": -0.16543836891651154, \"lower HDI\": -0.8204386234283447, \"log_isi\": -0.04390607042094885, \"zero\": 0}, {\"mouse_code\": 0, \"neuron\": 7, \"i_trial\": 0.0, \"neuron_code\": 0.0, \"log_firing_rate\": 0.12791169777460798, \"Firing rate\": 132.9271226911004, \"firing_rate\": 132.9271226911004, \"i_spike\": 13.5, \"isi diff\": -0.0023327296166899825, \"mean HDI\": -0.6152423024177551, \"higher HDI\": -0.30913016200065613, \"lower HDI\": -0.9859901666641235, \"log_isi\": -0.04231214603935696, \"zero\": 0}, {\"mouse_code\": 1, \"neuron\": 7, \"i_trial\": 0.0, \"neuron_code\": 0.0, \"log_firing_rate\": 0.0309081583393902, \"Firing rate\": 8.42530722452409, \"firing_rate\": 8.42530722452409, \"i_spike\": 11.0, \"isi diff\": -0.0018438249374167492, \"mean HDI\": -0.6152423024177551, \"higher HDI\": -0.30913016200065613, \"lower HDI\": -0.9859901666641235, \"log_isi\": -0.03329836958706367, \"zero\": 0}, {\"mouse_code\": 2, \"neuron\": 7, \"i_trial\": 0.0, \"neuron_code\": 0.0, \"log_firing_rate\": 0.10961914121913185, \"Firing rate\": 84.84516145810943, \"firing_rate\": 84.84516145810943, \"i_spike\": -2.75, \"isi diff\": 0.00029759436683340565, \"mean HDI\": -0.6152423024177551, \"higher HDI\": -0.30913016200065613, \"lower HDI\": -0.9859901666641235, \"log_isi\": 0.005489216892573978, \"zero\": 0}, {\"mouse_code\": 3, \"neuron\": 7, \"i_trial\": 0.0, \"neuron_code\": 0.0, \"log_firing_rate\": -0.4107367313439769, \"Firing rate\": -351.0488292917235, \"firing_rate\": -351.0488292917235, \"i_spike\": 6.25, \"isi diff\": -0.0010542060922222665, \"mean HDI\": -0.6152423024177551, \"higher HDI\": -0.30913016200065613, \"lower HDI\": -0.9859901666641235, \"log_isi\": -0.020241402927022367, \"zero\": 0}]}}, {\"mode\": \"vega-lite\"});\n",
       "</script>"
      ],
      "text/plain": [
       "alt.FacetChart(...)"
      ]
     },
     "execution_count": 10,
     "metadata": {},
     "output_type": "execute_result"
    }
   ],
   "source": [
    "(chart_d+chart_p).facet(column='neuron')"
   ]
  }
 ],
 "metadata": {
  "jupytext": {
   "formats": "ipynb,py:light"
  },
  "kernelspec": {
   "display_name": "PyCharm (jup)",
   "language": "python",
   "name": "pycharm-d5912792"
  },
  "language_info": {
   "codemirror_mode": {
    "name": "ipython",
    "version": 3
   },
   "file_extension": ".py",
   "mimetype": "text/x-python",
   "name": "python",
   "nbconvert_exporter": "python",
   "pygments_lexer": "ipython3",
   "version": "3.8.5"
  }
 },
 "nbformat": 4,
 "nbformat_minor": 4
}
