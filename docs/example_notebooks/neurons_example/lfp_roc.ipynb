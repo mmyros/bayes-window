{
 "cells": [
  {
   "cell_type": "markdown",
   "metadata": {},
   "source": [
    "# Evaluate: ROC curve"
   ]
  },
  {
   "cell_type": "code",
   "execution_count": 1,
   "metadata": {},
   "outputs": [],
   "source": [
    "from sklearn.metrics import roc_curve, auc\n",
    "#roc_curve?\n",
    "from joblib import Parallel, delayed\n",
    "from bayes_window.generative_models import generate_fake_lfp\n",
    "from bayes_window import workflow, models\n",
    "import numpy as np\n",
    "from tqdm import tqdm\n",
    "import statsmodels.api as sm\n",
    "from statsmodels.formula.api import ols, mixedlm\n",
    "import itertools"
   ]
  },
  {
   "cell_type": "code",
   "execution_count": 11,
   "metadata": {},
   "outputs": [],
   "source": [
    "def run_condition(true_slope,method='bw_student', y='Log power'):\n",
    "    df, df_monster, index_cols, _ = generate_fake_lfp(mouse_response_slope=true_slope,\n",
    "                                                     n_trials=10)\n",
    "    if method[:2]=='bw':\n",
    "        bw=workflow.BayesWindow(df,y=y, levels=('stim', 'mouse')).fit_slopes(\n",
    "            model=models.model_hier_stim_one_codition,\n",
    "            dist_y=method[3:],add_data=False,)\n",
    "        return bw.data_and_posterior['lower HDI'].iloc[0]\n",
    "    elif method[:5]=='anova':\n",
    "        df=df.groupby('mouse').mean().reset_index().rename({'Log power':'log_power'},axis=1)\n",
    "        if y=='Log power':\n",
    "            y='log_power'\n",
    "        lm=ols(f'{y}~stim',data=df).fit()\n",
    "        anova = sm.stats.anova_lm(lm, typ=2)\n",
    "        return anova['PR(>F)']['stim']<0.05\n",
    "    elif method=='mlm':\n",
    "        df=df.rename({'Log power':'log_power'},axis=1)\n",
    "        if y=='Log power':\n",
    "            y='log_power'\n",
    "        return mixedlm(f\"{y} ~ stim\", df, groups=df[\"mouse\"]).fit().pvalues['stim']<0.05"
   ]
  },
  {
   "cell_type": "code",
   "execution_count": null,
   "metadata": {
    "scrolled": true
   },
   "outputs": [
    {
     "name": "stderr",
     "output_type": "stream",
     "text": [
      "  0%|          | 0/10 [00:00<?, ?it/s][Parallel(n_jobs=6)]: Using backend LokyBackend with 6 concurrent workers.\n",
      "[Parallel(n_jobs=6)]: Done  29 tasks      | elapsed:   33.5s\n"
     ]
    }
   ],
   "source": [
    "true_slopes = np.hstack([np.zeros(80 ),np.linspace(.03,18,40)])\n",
    "\n",
    "#y_score=[run_condition(true_slope) for true_slope in tqdm(true_slopes)]\n",
    "\n",
    "    \n",
    "true_slopes.shape\n",
    "\n",
    "y_scores={}\n",
    "for method, y in tqdm(list(itertools.product(['mlm','anova', 'bw_lognormal','bw_student','bw_normal'], \n",
    "                                   ['Log power','Power', ]))):\n",
    "    #y_scores[f'{method}, {y}']=[run_condition(true_slope,method,y) for true_slope in tqdm(true_slopes)]    \n",
    "    y_scores[f'{method}, {y}']= Parallel(n_jobs=6,verbose=2)(\n",
    "        delayed(run_condition)(true_slope,method,y) for true_slope in true_slopes)"
   ]
  },
  {
   "cell_type": "code",
   "execution_count": null,
   "metadata": {},
   "outputs": [],
   "source": [
    "import pandas as pd\n",
    "aucs={}\n",
    "df=[]\n",
    "for condition,y_score in y_scores.items():\n",
    "    if y_score[0] is None:\n",
    "        continue\n",
    "    y_score=np.array(y_score)\n",
    "    fpr, tpr, _ = roc_curve(true_slopes>0, y_score>0)\n",
    "    roc_auc = round(auc(fpr, tpr),5)\n",
    "    df.append(pd.DataFrame({'False positive rate':fpr,\n",
    "                           'True positive rate': tpr,\n",
    "                           'Condition':condition,\n",
    "                            'AUC':roc_auc}))\n",
    "\n",
    "df=pd.concat(df)"
   ]
  },
  {
   "cell_type": "code",
   "execution_count": 10,
   "metadata": {},
   "outputs": [
    {
     "data": {
      "text/html": [
       "\n",
       "<div id=\"altair-viz-8e8393f2414149a38b391be677f2d372\"></div>\n",
       "<script type=\"text/javascript\">\n",
       "  (function(spec, embedOpt){\n",
       "    let outputDiv = document.currentScript.previousElementSibling;\n",
       "    if (outputDiv.id !== \"altair-viz-8e8393f2414149a38b391be677f2d372\") {\n",
       "      outputDiv = document.getElementById(\"altair-viz-8e8393f2414149a38b391be677f2d372\");\n",
       "    }\n",
       "    const paths = {\n",
       "      \"vega\": \"https://cdn.jsdelivr.net/npm//vega@5?noext\",\n",
       "      \"vega-lib\": \"https://cdn.jsdelivr.net/npm//vega-lib?noext\",\n",
       "      \"vega-lite\": \"https://cdn.jsdelivr.net/npm//vega-lite@4.8.1?noext\",\n",
       "      \"vega-embed\": \"https://cdn.jsdelivr.net/npm//vega-embed@6?noext\",\n",
       "    };\n",
       "\n",
       "    function loadScript(lib) {\n",
       "      return new Promise(function(resolve, reject) {\n",
       "        var s = document.createElement('script');\n",
       "        s.src = paths[lib];\n",
       "        s.async = true;\n",
       "        s.onload = () => resolve(paths[lib]);\n",
       "        s.onerror = () => reject(`Error loading script: ${paths[lib]}`);\n",
       "        document.getElementsByTagName(\"head\")[0].appendChild(s);\n",
       "      });\n",
       "    }\n",
       "\n",
       "    function showError(err) {\n",
       "      outputDiv.innerHTML = `<div class=\"error\" style=\"color:red;\">${err}</div>`;\n",
       "      throw err;\n",
       "    }\n",
       "\n",
       "    function displayChart(vegaEmbed) {\n",
       "      vegaEmbed(outputDiv, spec, embedOpt)\n",
       "        .catch(err => showError(`Javascript Error: ${err.message}<br>This usually means there's a typo in your chart specification. See the javascript console for the full traceback.`));\n",
       "    }\n",
       "\n",
       "    if(typeof define === \"function\" && define.amd) {\n",
       "      requirejs.config({paths});\n",
       "      require([\"vega-embed\"], displayChart, err => showError(`Error loading script: ${err.message}`));\n",
       "    } else if (typeof vegaEmbed === \"function\") {\n",
       "      displayChart(vegaEmbed);\n",
       "    } else {\n",
       "      loadScript(\"vega\")\n",
       "        .then(() => loadScript(\"vega-lite\"))\n",
       "        .then(() => loadScript(\"vega-embed\"))\n",
       "        .catch(showError)\n",
       "        .then(() => displayChart(vegaEmbed));\n",
       "    }\n",
       "  })({\"config\": {\"view\": {\"continuousWidth\": 400, \"continuousHeight\": 300}}, \"hconcat\": [{\"mark\": {\"type\": \"line\", \"fill\": null}, \"encoding\": {\"color\": {\"type\": \"nominal\", \"field\": \"Condition\"}, \"x\": {\"type\": \"quantitative\", \"field\": \"False positive rate\"}, \"y\": {\"type\": \"quantitative\", \"field\": \"True positive rate\"}}}, {\"mark\": \"bar\", \"encoding\": {\"color\": {\"type\": \"nominal\", \"field\": \"Condition\"}, \"x\": {\"type\": \"nominal\", \"field\": \"Condition\"}, \"y\": {\"type\": \"quantitative\", \"field\": \"AUC\"}}}], \"data\": {\"name\": \"data-7718f2a47f4f49bde4503ca634922f11\"}, \"$schema\": \"https://vega.github.io/schema/vega-lite/v4.8.1.json\", \"datasets\": {\"data-7718f2a47f4f49bde4503ca634922f11\": [{\"False positive rate\": 0.0, \"True positive rate\": 0.0, \"Condition\": \"mlm, Log power\", \"AUC\": 0.84375}, {\"False positive rate\": 0.0875, \"True positive rate\": 0.775, \"Condition\": \"mlm, Log power\", \"AUC\": 0.84375}, {\"False positive rate\": 1.0, \"True positive rate\": 1.0, \"Condition\": \"mlm, Log power\", \"AUC\": 0.84375}, {\"False positive rate\": 0.0, \"True positive rate\": 0.0, \"Condition\": \"mlm, Power\", \"AUC\": 0.55625}, {\"False positive rate\": 0.0375, \"True positive rate\": 0.15, \"Condition\": \"mlm, Power\", \"AUC\": 0.55625}, {\"False positive rate\": 1.0, \"True positive rate\": 1.0, \"Condition\": \"mlm, Power\", \"AUC\": 0.55625}, {\"False positive rate\": 0.0, \"True positive rate\": 0.0, \"Condition\": \"anova, Log power\", \"AUC\": 0.5}, {\"False positive rate\": 1.0, \"True positive rate\": 1.0, \"Condition\": \"anova, Log power\", \"AUC\": 0.5}, {\"False positive rate\": 0.0, \"True positive rate\": 0.0, \"Condition\": \"anova, Power\", \"AUC\": 0.5}, {\"False positive rate\": 0.875, \"True positive rate\": 0.875, \"Condition\": \"anova, Power\", \"AUC\": 0.5}, {\"False positive rate\": 1.0, \"True positive rate\": 1.0, \"Condition\": \"anova, Power\", \"AUC\": 0.5}]}}, {\"mode\": \"vega-lite\"});\n",
       "</script>"
      ],
      "text/plain": [
       "alt.HConcatChart(...)"
      ]
     },
     "execution_count": 10,
     "metadata": {},
     "output_type": "execute_result"
    }
   ],
   "source": [
    "import altair as alt\n",
    "alt.Chart(df).mark_line(fill=None).encode(\n",
    "    x='False positive rate',\n",
    "    y='True positive rate',\n",
    "    color='Condition'\n",
    ") | \\\n",
    "    alt.Chart(df).mark_bar().encode(\n",
    "    x='Condition',\n",
    "    y='AUC',\n",
    "    color='Condition'\n",
    "    )"
   ]
  },
  {
   "cell_type": "code",
   "execution_count": 96,
   "metadata": {},
   "outputs": [
    {
     "data": {
      "text/html": [
       "\n",
       "<div id=\"altair-viz-4ae95ba645704399b3194061fd1cce42\"></div>\n",
       "<script type=\"text/javascript\">\n",
       "  (function(spec, embedOpt){\n",
       "    let outputDiv = document.currentScript.previousElementSibling;\n",
       "    if (outputDiv.id !== \"altair-viz-4ae95ba645704399b3194061fd1cce42\") {\n",
       "      outputDiv = document.getElementById(\"altair-viz-4ae95ba645704399b3194061fd1cce42\");\n",
       "    }\n",
       "    const paths = {\n",
       "      \"vega\": \"https://cdn.jsdelivr.net/npm//vega@5?noext\",\n",
       "      \"vega-lib\": \"https://cdn.jsdelivr.net/npm//vega-lib?noext\",\n",
       "      \"vega-lite\": \"https://cdn.jsdelivr.net/npm//vega-lite@4.8.1?noext\",\n",
       "      \"vega-embed\": \"https://cdn.jsdelivr.net/npm//vega-embed@6?noext\",\n",
       "    };\n",
       "\n",
       "    function loadScript(lib) {\n",
       "      return new Promise(function(resolve, reject) {\n",
       "        var s = document.createElement('script');\n",
       "        s.src = paths[lib];\n",
       "        s.async = true;\n",
       "        s.onload = () => resolve(paths[lib]);\n",
       "        s.onerror = () => reject(`Error loading script: ${paths[lib]}`);\n",
       "        document.getElementsByTagName(\"head\")[0].appendChild(s);\n",
       "      });\n",
       "    }\n",
       "\n",
       "    function showError(err) {\n",
       "      outputDiv.innerHTML = `<div class=\"error\" style=\"color:red;\">${err}</div>`;\n",
       "      throw err;\n",
       "    }\n",
       "\n",
       "    function displayChart(vegaEmbed) {\n",
       "      vegaEmbed(outputDiv, spec, embedOpt)\n",
       "        .catch(err => showError(`Javascript Error: ${err.message}<br>This usually means there's a typo in your chart specification. See the javascript console for the full traceback.`));\n",
       "    }\n",
       "\n",
       "    if(typeof define === \"function\" && define.amd) {\n",
       "      requirejs.config({paths});\n",
       "      require([\"vega-embed\"], displayChart, err => showError(`Error loading script: ${err.message}`));\n",
       "    } else if (typeof vegaEmbed === \"function\") {\n",
       "      displayChart(vegaEmbed);\n",
       "    } else {\n",
       "      loadScript(\"vega\")\n",
       "        .then(() => loadScript(\"vega-lite\"))\n",
       "        .then(() => loadScript(\"vega-embed\"))\n",
       "        .catch(showError)\n",
       "        .then(() => displayChart(vegaEmbed));\n",
       "    }\n",
       "  })({\"config\": {\"view\": {\"continuousWidth\": 400, \"continuousHeight\": 300}}, \"hconcat\": [{\"mark\": {\"type\": \"line\", \"fill\": null}, \"encoding\": {\"color\": {\"type\": \"nominal\", \"field\": \"Condition\"}, \"x\": {\"type\": \"quantitative\", \"field\": \"False positive rate\"}, \"y\": {\"type\": \"quantitative\", \"field\": \"True positive rate\"}}}, {\"mark\": \"bar\", \"encoding\": {\"color\": {\"type\": \"nominal\", \"field\": \"Condition\"}, \"x\": {\"type\": \"nominal\", \"field\": \"Condition\"}, \"y\": {\"type\": \"quantitative\", \"field\": \"AUC\"}}}], \"data\": {\"name\": \"data-b6d9d312fdda154b76c7aefd6ebcbaf5\"}, \"$schema\": \"https://vega.github.io/schema/vega-lite/v4.8.1.json\", \"datasets\": {\"data-b6d9d312fdda154b76c7aefd6ebcbaf5\": [{\"False positive rate\": 0.0, \"True positive rate\": 0.0, \"Condition\": \"lognormal, Power\", \"AUC\": 0.76875}, {\"False positive rate\": 0.0875, \"True positive rate\": 0.625, \"Condition\": \"lognormal, Power\", \"AUC\": 0.76875}, {\"False positive rate\": 1.0, \"True positive rate\": 1.0, \"Condition\": \"lognormal, Power\", \"AUC\": 0.76875}, {\"False positive rate\": 0.0, \"True positive rate\": 0.0, \"Condition\": \"lognormal, Log power\", \"AUC\": 0.79375}, {\"False positive rate\": 0.0375, \"True positive rate\": 0.625, \"Condition\": \"lognormal, Log power\", \"AUC\": 0.79375}, {\"False positive rate\": 1.0, \"True positive rate\": 1.0, \"Condition\": \"lognormal, Log power\", \"AUC\": 0.79375}, {\"False positive rate\": 0.0, \"True positive rate\": 0.0, \"Condition\": \"student, Power\", \"AUC\": 0.46875}, {\"False positive rate\": 0.0875, \"True positive rate\": 0.025, \"Condition\": \"student, Power\", \"AUC\": 0.46875}, {\"False positive rate\": 1.0, \"True positive rate\": 1.0, \"Condition\": \"student, Power\", \"AUC\": 0.46875}, {\"False positive rate\": 0.0, \"True positive rate\": 0.0, \"Condition\": \"student, Log power\", \"AUC\": 0.875}, {\"False positive rate\": 0.0, \"True positive rate\": 0.75, \"Condition\": \"student, Log power\", \"AUC\": 0.875}, {\"False positive rate\": 1.0, \"True positive rate\": 1.0, \"Condition\": \"student, Log power\", \"AUC\": 0.875}, {\"False positive rate\": 0.0, \"True positive rate\": 0.0, \"Condition\": \"normal, Power\", \"AUC\": 0.56875}, {\"False positive rate\": 0.1625, \"True positive rate\": 0.3, \"Condition\": \"normal, Power\", \"AUC\": 0.56875}, {\"False positive rate\": 1.0, \"True positive rate\": 1.0, \"Condition\": \"normal, Power\", \"AUC\": 0.56875}, {\"False positive rate\": 0.0, \"True positive rate\": 0.0, \"Condition\": \"normal, Log power\", \"AUC\": 0.70625}, {\"False positive rate\": 0.0125, \"True positive rate\": 0.425, \"Condition\": \"normal, Log power\", \"AUC\": 0.70625}, {\"False positive rate\": 1.0, \"True positive rate\": 1.0, \"Condition\": \"normal, Log power\", \"AUC\": 0.70625}]}}, {\"mode\": \"vega-lite\"});\n",
       "</script>"
      ],
      "text/plain": [
       "alt.HConcatChart(...)"
      ]
     },
     "execution_count": 96,
     "metadata": {},
     "output_type": "execute_result"
    }
   ],
   "source": []
  }
 ],
 "metadata": {
  "kernelspec": {
   "display_name": "PyCharm (jup)",
   "language": "python",
   "name": "pycharm-d5912792"
  }
 },
 "nbformat": 4,
 "nbformat_minor": 4
}
