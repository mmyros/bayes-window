{
 "cells": [
  {
   "cell_type": "markdown",
   "metadata": {},
   "source": [
    "### All data points"
   ]
  },
  {
   "cell_type": "code",
   "execution_count": 1,
   "metadata": {},
   "outputs": [],
   "source": [
    "from bayes_window import models, fake_spikes_explore, BayesWindow\n",
    "from bayes_window.generative_models import generate_fake_spikes\n",
    "import numpy as np"
   ]
  },
  {
   "cell_type": "code",
   "execution_count": 2,
   "metadata": {},
   "outputs": [],
   "source": [
    "\n",
    "df, df_monster, index_cols, firing_rates = generate_fake_spikes(n_trials=20,\n",
    "                                                                n_neurons=6,\n",
    "                                                                n_mice=3,\n",
    "                                                                dur=5,\n",
    "                                                               mouse_response_slope=40,\n",
    "                                                               overall_stim_response_strength=45)"
   ]
  },
  {
   "cell_type": "code",
   "execution_count": null,
   "metadata": {},
   "outputs": [
    {
     "name": "stdout",
     "output_type": "stream",
     "text": [
      "isi\n"
     ]
    },
    {
     "name": "stderr",
     "output_type": "stream",
     "text": [
      "sample: 100%|██████████| 2000/2000 [32:47<00:00,  1.02it/s, 1023 steps of size 8.79e-03. acc. prob=0.93]  \n"
     ]
    },
    {
     "data": {
      "text/html": [
       "\n",
       "<div id=\"altair-viz-451e20bdffdf47abb8a61c2e00daa6fb\"></div>\n",
       "<script type=\"text/javascript\">\n",
       "  (function(spec, embedOpt){\n",
       "    let outputDiv = document.currentScript.previousElementSibling;\n",
       "    if (outputDiv.id !== \"altair-viz-451e20bdffdf47abb8a61c2e00daa6fb\") {\n",
       "      outputDiv = document.getElementById(\"altair-viz-451e20bdffdf47abb8a61c2e00daa6fb\");\n",
       "    }\n",
       "    const paths = {\n",
       "      \"vega\": \"https://cdn.jsdelivr.net/npm//vega@5?noext\",\n",
       "      \"vega-lib\": \"https://cdn.jsdelivr.net/npm//vega-lib?noext\",\n",
       "      \"vega-lite\": \"https://cdn.jsdelivr.net/npm//vega-lite@4.8.1?noext\",\n",
       "      \"vega-embed\": \"https://cdn.jsdelivr.net/npm//vega-embed@6?noext\",\n",
       "    };\n",
       "\n",
       "    function loadScript(lib) {\n",
       "      return new Promise(function(resolve, reject) {\n",
       "        var s = document.createElement('script');\n",
       "        s.src = paths[lib];\n",
       "        s.async = true;\n",
       "        s.onload = () => resolve(paths[lib]);\n",
       "        s.onerror = () => reject(`Error loading script: ${paths[lib]}`);\n",
       "        document.getElementsByTagName(\"head\")[0].appendChild(s);\n",
       "      });\n",
       "    }\n",
       "\n",
       "    function showError(err) {\n",
       "      outputDiv.innerHTML = `<div class=\"error\" style=\"color:red;\">${err}</div>`;\n",
       "      throw err;\n",
       "    }\n",
       "\n",
       "    function displayChart(vegaEmbed) {\n",
       "      vegaEmbed(outputDiv, spec, embedOpt)\n",
       "        .catch(err => showError(`Javascript Error: ${err.message}<br>This usually means there's a typo in your chart specification. See the javascript console for the full traceback.`));\n",
       "    }\n",
       "\n",
       "    if(typeof define === \"function\" && define.amd) {\n",
       "      requirejs.config({paths});\n",
       "      require([\"vega-embed\"], displayChart, err => showError(`Error loading script: ${err.message}`));\n",
       "    } else if (typeof vegaEmbed === \"function\") {\n",
       "      displayChart(vegaEmbed);\n",
       "    } else {\n",
       "      loadScript(\"vega\")\n",
       "        .then(() => loadScript(\"vega-lite\"))\n",
       "        .then(() => loadScript(\"vega-embed\"))\n",
       "        .catch(showError)\n",
       "        .then(() => displayChart(vegaEmbed));\n",
       "    }\n",
       "  })({\"config\": {\"view\": {\"continuousWidth\": 400, \"continuousHeight\": 300}}, \"hconcat\": [{\"layer\": [{\"layer\": [{\"mark\": {\"type\": \"line\", \"clip\": true, \"fill\": null, \"opacity\": 0.6}, \"encoding\": {\"color\": {\"type\": \"nominal\", \"field\": \"mouse\"}, \"detail\": {\"type\": \"ordinal\", \"field\": \"\"}, \"size\": {\"value\": 1.0}, \"x\": {\"type\": \"ordinal\", \"field\": \"neuron\"}, \"y\": {\"type\": \"quantitative\", \"aggregate\": \"mean\", \"axis\": {\"orient\": \"right\"}, \"field\": \"isi diff\", \"scale\": {\"domain\": [-0.06051970574972537, 0.0006280846766928199], \"zero\": false}}}}, {\"mark\": {\"type\": \"circle\", \"clip\": true, \"opacity\": 0}, \"encoding\": {\"color\": {\"type\": \"nominal\", \"field\": \"mouse\"}, \"detail\": {\"type\": \"ordinal\", \"field\": \"\"}, \"x\": {\"type\": \"ordinal\", \"field\": \"neuron\"}, \"y\": {\"type\": \"quantitative\", \"aggregate\": \"mean\", \"axis\": {\"labels\": false, \"tickCount\": 0, \"title\": \"\"}, \"field\": \"isi diff\", \"scale\": {\"domain\": [-0.06051970574972537, 0.0006280846766928199], \"zero\": false}}}}, {\"mark\": {\"type\": \"boxplot\", \"clip\": true, \"color\": \"black\", \"opacity\": 0.3, \"size\": 9}, \"encoding\": {\"x\": {\"type\": \"ordinal\", \"field\": \"neuron\"}, \"y\": {\"type\": \"quantitative\", \"axis\": {\"labels\": false, \"tickCount\": 0, \"title\": \"\"}, \"field\": \"isi diff\", \"scale\": {\"domain\": [-0.06051970574972537, 0.0006280846766928199], \"zero\": false}}}}, {\"layer\": [{\"mark\": {\"type\": \"line\", \"clip\": true, \"color\": \"black\", \"fill\": null, \"point\": true}, \"encoding\": {\"x\": {\"type\": \"ordinal\", \"field\": \"neuron\"}, \"y\": {\"type\": \"quantitative\", \"axis\": {\"orient\": \"left\"}, \"field\": \"center interval\", \"impute\": {\"value\": \"value\"}}}}, {\"mark\": {\"type\": \"rule\", \"color\": \"black\", \"opacity\": 0.6, \"size\": 0.1}, \"encoding\": {\"y\": {\"type\": \"quantitative\", \"field\": \"zero\"}}}, {\"mark\": {\"type\": \"rule\", \"size\": 2}, \"encoding\": {\"x\": {\"type\": \"ordinal\", \"field\": \"neuron\"}, \"y\": {\"type\": \"quantitative\", \"axis\": {\"orient\": \"left\"}, \"field\": \"lower interval\", \"scale\": {\"domain\": [-30.513065338134766, 20.373321533203125], \"zero\": true}, \"title\": \"\\u0394 isi\"}, \"y2\": {\"field\": \"higher interval\"}}}]}], \"resolve\": {\"scale\": {\"y\": \"independent\"}}}], \"height\": 200, \"resolve\": {\"scale\": {\"y\": \"independent\"}}, \"title\": \"mouse m0bayes  \", \"transform\": [{\"filter\": \"(datum['mouse'] === 'm0bayes')\"}], \"width\": 200}, {\"layer\": [{\"layer\": [{\"mark\": {\"type\": \"line\", \"clip\": true, \"fill\": null, \"opacity\": 0.6}, \"encoding\": {\"color\": {\"type\": \"nominal\", \"field\": \"mouse\"}, \"detail\": {\"type\": \"ordinal\", \"field\": \"\"}, \"size\": {\"value\": 1.0}, \"x\": {\"type\": \"ordinal\", \"field\": \"neuron\"}, \"y\": {\"type\": \"quantitative\", \"aggregate\": \"mean\", \"axis\": {\"orient\": \"right\"}, \"field\": \"isi diff\", \"scale\": {\"domain\": [-0.06051970574972537, 0.0006280846766928199], \"zero\": false}}}}, {\"mark\": {\"type\": \"circle\", \"clip\": true, \"opacity\": 0}, \"encoding\": {\"color\": {\"type\": \"nominal\", \"field\": \"mouse\"}, \"detail\": {\"type\": \"ordinal\", \"field\": \"\"}, \"x\": {\"type\": \"ordinal\", \"field\": \"neuron\"}, \"y\": {\"type\": \"quantitative\", \"aggregate\": \"mean\", \"axis\": {\"labels\": false, \"tickCount\": 0, \"title\": \"\"}, \"field\": \"isi diff\", \"scale\": {\"domain\": [-0.06051970574972537, 0.0006280846766928199], \"zero\": false}}}}, {\"mark\": {\"type\": \"boxplot\", \"clip\": true, \"color\": \"black\", \"opacity\": 0.3, \"size\": 9}, \"encoding\": {\"x\": {\"type\": \"ordinal\", \"field\": \"neuron\"}, \"y\": {\"type\": \"quantitative\", \"axis\": {\"labels\": false, \"tickCount\": 0, \"title\": \"\"}, \"field\": \"isi diff\", \"scale\": {\"domain\": [-0.06051970574972537, 0.0006280846766928199], \"zero\": false}}}}, {\"layer\": [{\"mark\": {\"type\": \"line\", \"clip\": true, \"color\": \"black\", \"fill\": null, \"point\": true}, \"encoding\": {\"x\": {\"type\": \"ordinal\", \"field\": \"neuron\"}, \"y\": {\"type\": \"quantitative\", \"axis\": {\"orient\": \"left\"}, \"field\": \"center interval\", \"impute\": {\"value\": \"value\"}}}}, {\"mark\": {\"type\": \"rule\", \"color\": \"black\", \"opacity\": 0.6, \"size\": 0.1}, \"encoding\": {\"y\": {\"type\": \"quantitative\", \"field\": \"zero\"}}}, {\"mark\": {\"type\": \"rule\", \"size\": 2}, \"encoding\": {\"x\": {\"type\": \"ordinal\", \"field\": \"neuron\"}, \"y\": {\"type\": \"quantitative\", \"axis\": {\"orient\": \"left\"}, \"field\": \"lower interval\", \"scale\": {\"domain\": [-30.513065338134766, 20.373321533203125], \"zero\": true}, \"title\": \"\\u0394 isi\"}, \"y2\": {\"field\": \"higher interval\"}}}]}], \"resolve\": {\"scale\": {\"y\": \"independent\"}}}], \"height\": 200, \"resolve\": {\"scale\": {\"y\": \"independent\"}}, \"title\": \"mouse m1bayes  \", \"transform\": [{\"filter\": \"(datum['mouse'] === 'm1bayes')\"}], \"width\": 200}, {\"layer\": [{\"layer\": [{\"mark\": {\"type\": \"line\", \"clip\": true, \"fill\": null, \"opacity\": 0.6}, \"encoding\": {\"color\": {\"type\": \"nominal\", \"field\": \"mouse\"}, \"detail\": {\"type\": \"ordinal\", \"field\": \"\"}, \"size\": {\"value\": 1.0}, \"x\": {\"type\": \"ordinal\", \"field\": \"neuron\"}, \"y\": {\"type\": \"quantitative\", \"aggregate\": \"mean\", \"axis\": {\"orient\": \"right\"}, \"field\": \"isi diff\", \"scale\": {\"domain\": [-0.06051970574972537, 0.0006280846766928199], \"zero\": false}}}}, {\"mark\": {\"type\": \"circle\", \"clip\": true, \"opacity\": 0}, \"encoding\": {\"color\": {\"type\": \"nominal\", \"field\": \"mouse\"}, \"detail\": {\"type\": \"ordinal\", \"field\": \"\"}, \"x\": {\"type\": \"ordinal\", \"field\": \"neuron\"}, \"y\": {\"type\": \"quantitative\", \"aggregate\": \"mean\", \"axis\": {\"labels\": false, \"tickCount\": 0, \"title\": \"\"}, \"field\": \"isi diff\", \"scale\": {\"domain\": [-0.06051970574972537, 0.0006280846766928199], \"zero\": false}}}}, {\"mark\": {\"type\": \"boxplot\", \"clip\": true, \"color\": \"black\", \"opacity\": 0.3, \"size\": 9}, \"encoding\": {\"x\": {\"type\": \"ordinal\", \"field\": \"neuron\"}, \"y\": {\"type\": \"quantitative\", \"axis\": {\"labels\": false, \"tickCount\": 0, \"title\": \"\"}, \"field\": \"isi diff\", \"scale\": {\"domain\": [-0.06051970574972537, 0.0006280846766928199], \"zero\": false}}}}, {\"layer\": [{\"mark\": {\"type\": \"line\", \"clip\": true, \"color\": \"black\", \"fill\": null, \"point\": true}, \"encoding\": {\"x\": {\"type\": \"ordinal\", \"field\": \"neuron\"}, \"y\": {\"type\": \"quantitative\", \"axis\": {\"orient\": \"left\"}, \"field\": \"center interval\", \"impute\": {\"value\": \"value\"}}}}, {\"mark\": {\"type\": \"rule\", \"color\": \"black\", \"opacity\": 0.6, \"size\": 0.1}, \"encoding\": {\"y\": {\"type\": \"quantitative\", \"field\": \"zero\"}}}, {\"mark\": {\"type\": \"rule\", \"size\": 2}, \"encoding\": {\"x\": {\"type\": \"ordinal\", \"field\": \"neuron\"}, \"y\": {\"type\": \"quantitative\", \"axis\": {\"orient\": \"left\"}, \"field\": \"lower interval\", \"scale\": {\"domain\": [-30.513065338134766, 20.373321533203125], \"zero\": true}, \"title\": \"\\u0394 isi\"}, \"y2\": {\"field\": \"higher interval\"}}}]}], \"resolve\": {\"scale\": {\"y\": \"independent\"}}}], \"height\": 200, \"resolve\": {\"scale\": {\"y\": \"independent\"}}, \"title\": \"mouse m2bayes  \", \"transform\": [{\"filter\": \"(datum['mouse'] === 'm2bayes')\"}], \"width\": 200}], \"data\": {\"name\": \"data-ebbcb1aaa1d2f3dfaa1633edf03b45c4\"}, \"$schema\": \"https://vega.github.io/schema/vega-lite/v4.8.1.json\", \"datasets\": {\"data-ebbcb1aaa1d2f3dfaa1633edf03b45c4\": [{\"mouse\": \"m0bayes\", \"neuron\": \"0\", \"neuron_x_mouse\": \"0m0bayes\", \"lower interval\": -12.109156608581543, \"higher interval\": 3.0448310375213623, \"center interval\": -4.490917682647705, \"isi diff\": -0.05130059466932468, \"zero\": 0}, {\"mouse\": \"m1bayes\", \"neuron\": \"0\", \"neuron_x_mouse\": \"0m1bayes\", \"lower interval\": -21.23705291748047, \"higher interval\": -3.4907033443450928, \"center interval\": -12.90770435333252, \"isi diff\": -0.0597553899245111, \"zero\": 0}, {\"mouse\": \"m2bayes\", \"neuron\": \"0\", \"neuron_x_mouse\": \"0m2bayes\", \"lower interval\": -30.513065338134766, \"higher interval\": -9.60754108428955, \"center interval\": -20.199264526367188, \"isi diff\": -0.06485082875927294, \"zero\": 0}, {\"mouse\": \"m0bayes\", \"neuron\": \"1\", \"neuron_x_mouse\": \"1m0bayes\", \"lower interval\": -7.497078895568848, \"higher interval\": 7.511813163757324, \"center interval\": 0.276029109954834, \"isi diff\": -0.033673128493832236, \"zero\": 0}, {\"mouse\": \"m1bayes\", \"neuron\": \"1\", \"neuron_x_mouse\": \"1m1bayes\", \"lower interval\": -16.188631057739258, \"higher interval\": -0.16165393590927124, \"center interval\": -7.663187503814697, \"isi diff\": -0.042052835162433244, \"zero\": 0}, {\"mouse\": \"m2bayes\", \"neuron\": \"1\", \"neuron_x_mouse\": \"1m2bayes\", \"lower interval\": -20.68561553955078, \"higher interval\": -3.3361990451812744, \"center interval\": -11.470657348632812, \"isi diff\": -0.04776244346121758, \"zero\": 0}, {\"mouse\": \"m0bayes\", \"neuron\": \"2\", \"neuron_x_mouse\": \"2m0bayes\", \"lower interval\": -5.371912002563477, \"higher interval\": 10.028162956237793, \"center interval\": 2.160701274871826, \"isi diff\": -0.02151147937471258, \"zero\": 0}, {\"mouse\": \"m1bayes\", \"neuron\": \"2\", \"neuron_x_mouse\": \"2m1bayes\", \"lower interval\": -7.569555282592773, \"higher interval\": 8.230005264282227, \"center interval\": -0.20584990084171295, \"isi diff\": -0.02836177033770237, \"zero\": 0}, {\"mouse\": \"m2bayes\", \"neuron\": \"2\", \"neuron_x_mouse\": \"2m2bayes\", \"lower interval\": -10.850516319274902, \"higher interval\": 4.6768903732299805, \"center interval\": -3.1233294010162354, \"isi diff\": -0.03240364221922704, \"zero\": 0}, {\"mouse\": \"m0bayes\", \"neuron\": \"3\", \"neuron_x_mouse\": \"3m0bayes\", \"lower interval\": -5.157240390777588, \"higher interval\": 9.085719108581543, \"center interval\": 1.4482778310775757, \"isi diff\": -0.011682095652126256, \"zero\": 0}, {\"mouse\": \"m1bayes\", \"neuron\": \"3\", \"neuron_x_mouse\": \"3m1bayes\", \"lower interval\": -3.4983878135681152, \"higher interval\": 12.65163516998291, \"center interval\": 4.706470012664795, \"isi diff\": -0.01404012999325582, \"zero\": 0}, {\"mouse\": \"m2bayes\", \"neuron\": \"3\", \"neuron_x_mouse\": \"3m2bayes\", \"lower interval\": -0.7415580749511719, \"higher interval\": 14.939234733581543, \"center interval\": 7.057373523712158, \"isi diff\": -0.015517546889190052, \"zero\": 0}, {\"mouse\": \"m0bayes\", \"neuron\": \"4\", \"neuron_x_mouse\": \"4m0bayes\", \"lower interval\": -5.941194534301758, \"higher interval\": 8.865412712097168, \"center interval\": 1.720583200454712, \"isi diff\": -0.003435040527045699, \"zero\": 0}, {\"mouse\": \"m1bayes\", \"neuron\": \"4\", \"neuron_x_mouse\": \"4m1bayes\", \"lower interval\": 0.15160071849822998, \"higher interval\": 17.716320037841797, \"center interval\": 9.418371200561523, \"isi diff\": -0.005612368864071161, \"zero\": 0}, {\"mouse\": \"m2bayes\", \"neuron\": \"4\", \"neuron_x_mouse\": \"4m2bayes\", \"lower interval\": 3.1984708309173584, \"higher interval\": 19.92759132385254, \"center interval\": 11.795510292053223, \"isi diff\": -0.007512348888508057, \"zero\": 0}, {\"mouse\": \"m0bayes\", \"neuron\": \"5\", \"neuron_x_mouse\": \"5m0bayes\", \"lower interval\": -11.397829055786133, \"higher interval\": 3.053725242614746, \"center interval\": -4.637620449066162, \"isi diff\": 0.000634887541514275, \"zero\": 0}, {\"mouse\": \"m1bayes\", \"neuron\": \"5\", \"neuron_x_mouse\": \"5m1bayes\", \"lower interval\": -0.6220620274543762, \"higher interval\": 15.945539474487305, \"center interval\": 7.543344020843506, \"isi diff\": 0.0006268841711360926, \"zero\": 0}, {\"mouse\": \"m2bayes\", \"neuron\": \"5\", \"neuron_x_mouse\": \"5m2bayes\", \"lower interval\": 3.2121517658233643, \"higher interval\": 20.373321533203125, \"center interval\": 11.866724967956543, \"isi diff\": -0.000911465977865171, \"zero\": 0}]}}, {\"mode\": \"vega-lite\"});\n",
       "</script>"
      ],
      "text/plain": [
       "alt.HConcatChart(...)"
      ]
     },
     "metadata": {},
     "output_type": "display_data"
    }
   ],
   "source": [
    "\n",
    "for y in ['isi', 'firing_rate']:\n",
    "    print(y)\n",
    "    bw = BayesWindow(df_monster, y=y, treatment='stim', condition='neuron_x_mouse', group='mouse')\n",
    "    bw.fit_slopes(add_data=True, model=models.model_hierarchical, do_make_change='subtract',\n",
    "                  progress_bar=True,\n",
    "                  dist_y='student',\n",
    "                  use_gpu=True,\n",
    "                  num_chains=1,\n",
    "                  num_warmup=500,\n",
    "                  add_group_slope=True, add_group_intercept=False,\n",
    "                  fold_change_index_cols=('stim', 'mouse', 'neuron','neuron_x_mouse'))\n",
    "\n",
    "    bw.plot(x='neuron', color='mouse', independent_axes=True, finalize=True)\n",
    "    bw.facet(column='mouse',width=200,height=200).display()\n",
    "\n",
    "    #bw.explore_models(use_gpu=True)"
   ]
  }
 ],
 "metadata": {
  "kernelspec": {
   "display_name": "PyCharm (jup)",
   "language": "python",
   "name": "pycharm-d5912792"
  },
  "language_info": {
   "codemirror_mode": {
    "name": "ipython",
    "version": 3
   },
   "file_extension": ".py",
   "mimetype": "text/x-python",
   "name": "python",
   "nbconvert_exporter": "python",
   "pygments_lexer": "ipython3",
   "version": "3.8.5"
  }
 },
 "nbformat": 4,
 "nbformat_minor": 4
}
