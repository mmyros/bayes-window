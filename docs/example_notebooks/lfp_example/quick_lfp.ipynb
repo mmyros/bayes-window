{
 "cells": [
  {
   "cell_type": "markdown",
   "metadata": {
    "hideCode": false,
    "hidePrompt": false,
    "slideshow": {
     "slide_type": "slide"
    }
   },
   "source": [
    "# LFP example \n"
   ]
  },
  {
   "cell_type": "code",
   "execution_count": 1,
   "metadata": {
    "hideCode": false,
    "hidePrompt": false,
    "pycharm": {
     "name": "#%%\n"
    },
    "slideshow": {
     "slide_type": "skip"
    }
   },
   "outputs": [],
   "source": [
    "import altair as alt\n",
    "from bayes_window.generative_models import *\n",
    "from bayes_window.visualization import plot_data, plot_data_slope_trials\n",
    "from bayes_window import BayesWindow, models"
   ]
  },
  {
   "cell_type": "code",
   "execution_count": 2,
   "metadata": {},
   "outputs": [],
   "source": [
    "df, df_monster, index_cols, firing_rates = generate_fake_spikes(n_trials=20,\n",
    "                                                                n_neurons=7,\n",
    "                                                                n_mice=6,\n",
    "                                                                dur=7,\n",
    "                                                               mouse_response_slope=12,\n",
    "                                                               overall_stim_response_strength=45)"
   ]
  },
  {
   "cell_type": "code",
   "execution_count": 3,
   "metadata": {
    "scrolled": false
   },
   "outputs": [
    {
     "name": "stdout",
     "output_type": "stream",
     "text": [
      "Using formula isi ~ 0  + (neuron_x_mouse__1 | stim) + (neuron_x_mouse__2 | stim) + (neuron_x_mouse__3 | stim) + (neuron_x_mouse__4 | stim) + (neuron_x_mouse__5 | stim) + (neuron_x_mouse__6 | stim) + (neuron_x_mouse__7 | stim) + (neuron_x_mouse__8 | stim) + (neuron_x_mouse__9 | stim) + (neuron_x_mouse__10 | stim) + (neuron_x_mouse__11 | stim) + (neuron_x_mouse__12 | stim) + (neuron_x_mouse__13 | stim) + (neuron_x_mouse__14 | stim) + (neuron_x_mouse__15 | stim) + (neuron_x_mouse__16 | stim) + (neuron_x_mouse__17 | stim) + (neuron_x_mouse__18 | stim) + (neuron_x_mouse__19 | stim) + (neuron_x_mouse__20 | stim) + (neuron_x_mouse__21 | stim) + (neuron_x_mouse__22 | stim) + (neuron_x_mouse__23 | stim) + (neuron_x_mouse__24 | stim) + (neuron_x_mouse__25 | stim) + (neuron_x_mouse__26 | stim) + (neuron_x_mouse__27 | stim) + (neuron_x_mouse__28 | stim) + (neuron_x_mouse__29 | stim) + (neuron_x_mouse__30 | stim) + (neuron_x_mouse__31 | stim) + (neuron_x_mouse__32 | stim) + (neuron_x_mouse__33 | stim) + (neuron_x_mouse__34 | stim) + (neuron_x_mouse__35 | stim) + (neuron_x_mouse__36 | stim) + (neuron_x_mouse__37 | stim) + (neuron_x_mouse__38 | stim) + (neuron_x_mouse__39 | stim) + (neuron_x_mouse__40 | stim) + (neuron_x_mouse__41 | stim) + (1 | mouse)\n"
     ]
    },
    {
     "data": {
      "text/html": [
       "<div>\n",
       "<style scoped>\n",
       "    .dataframe tbody tr th:only-of-type {\n",
       "        vertical-align: middle;\n",
       "    }\n",
       "\n",
       "    .dataframe tbody tr th {\n",
       "        vertical-align: top;\n",
       "    }\n",
       "\n",
       "    .dataframe thead th {\n",
       "        text-align: right;\n",
       "    }\n",
       "</style>\n",
       "<table border=\"1\" class=\"dataframe\">\n",
       "  <thead>\n",
       "    <tr style=\"text-align: right;\">\n",
       "      <th></th>\n",
       "      <th>center interval</th>\n",
       "      <th>Std.Err.</th>\n",
       "      <th>z</th>\n",
       "      <th>p</th>\n",
       "      <th>higher interval</th>\n",
       "      <th>lower interval</th>\n",
       "      <th>neuron_x_mouse</th>\n",
       "    </tr>\n",
       "  </thead>\n",
       "  <tbody>\n",
       "    <tr>\n",
       "      <th>0</th>\n",
       "      <td>0.035</td>\n",
       "      <td>0.002</td>\n",
       "      <td>23.019</td>\n",
       "      <td>0.000</td>\n",
       "      <td>0.032</td>\n",
       "      <td>0.038</td>\n",
       "      <td>1.0</td>\n",
       "    </tr>\n",
       "    <tr>\n",
       "      <th>1</th>\n",
       "      <td>0.037</td>\n",
       "      <td>0.002</td>\n",
       "      <td>24.092</td>\n",
       "      <td>0.000</td>\n",
       "      <td>0.034</td>\n",
       "      <td>0.040</td>\n",
       "      <td>2.0</td>\n",
       "    </tr>\n",
       "    <tr>\n",
       "      <th>2</th>\n",
       "      <td>0.040</td>\n",
       "      <td>0.002</td>\n",
       "      <td>26.230</td>\n",
       "      <td>0.000</td>\n",
       "      <td>0.037</td>\n",
       "      <td>0.043</td>\n",
       "      <td>3.0</td>\n",
       "    </tr>\n",
       "    <tr>\n",
       "      <th>3</th>\n",
       "      <td>0.038</td>\n",
       "      <td>0.002</td>\n",
       "      <td>25.099</td>\n",
       "      <td>0.000</td>\n",
       "      <td>0.035</td>\n",
       "      <td>0.041</td>\n",
       "      <td>4.0</td>\n",
       "    </tr>\n",
       "    <tr>\n",
       "      <th>4</th>\n",
       "      <td>0.035</td>\n",
       "      <td>0.002</td>\n",
       "      <td>23.007</td>\n",
       "      <td>0.000</td>\n",
       "      <td>0.032</td>\n",
       "      <td>0.038</td>\n",
       "      <td>5.0</td>\n",
       "    </tr>\n",
       "    <tr>\n",
       "      <th>5</th>\n",
       "      <td>0.013</td>\n",
       "      <td>0.002</td>\n",
       "      <td>8.431</td>\n",
       "      <td>0.000</td>\n",
       "      <td>0.010</td>\n",
       "      <td>0.016</td>\n",
       "      <td>6.0</td>\n",
       "    </tr>\n",
       "    <tr>\n",
       "      <th>6</th>\n",
       "      <td>0.021</td>\n",
       "      <td>0.002</td>\n",
       "      <td>13.479</td>\n",
       "      <td>0.000</td>\n",
       "      <td>0.018</td>\n",
       "      <td>0.024</td>\n",
       "      <td>7.0</td>\n",
       "    </tr>\n",
       "    <tr>\n",
       "      <th>7</th>\n",
       "      <td>0.022</td>\n",
       "      <td>0.002</td>\n",
       "      <td>14.136</td>\n",
       "      <td>0.000</td>\n",
       "      <td>0.019</td>\n",
       "      <td>0.025</td>\n",
       "      <td>8.0</td>\n",
       "    </tr>\n",
       "    <tr>\n",
       "      <th>8</th>\n",
       "      <td>0.019</td>\n",
       "      <td>0.002</td>\n",
       "      <td>12.308</td>\n",
       "      <td>0.000</td>\n",
       "      <td>0.016</td>\n",
       "      <td>0.022</td>\n",
       "      <td>9.0</td>\n",
       "    </tr>\n",
       "    <tr>\n",
       "      <th>9</th>\n",
       "      <td>0.021</td>\n",
       "      <td>0.002</td>\n",
       "      <td>13.992</td>\n",
       "      <td>0.000</td>\n",
       "      <td>0.018</td>\n",
       "      <td>0.024</td>\n",
       "      <td>10.0</td>\n",
       "    </tr>\n",
       "    <tr>\n",
       "      <th>10</th>\n",
       "      <td>0.025</td>\n",
       "      <td>0.002</td>\n",
       "      <td>16.435</td>\n",
       "      <td>0.000</td>\n",
       "      <td>0.022</td>\n",
       "      <td>0.028</td>\n",
       "      <td>11.0</td>\n",
       "    </tr>\n",
       "    <tr>\n",
       "      <th>11</th>\n",
       "      <td>0.001</td>\n",
       "      <td>0.002</td>\n",
       "      <td>0.507</td>\n",
       "      <td>0.612</td>\n",
       "      <td>-0.002</td>\n",
       "      <td>0.004</td>\n",
       "      <td>12.0</td>\n",
       "    </tr>\n",
       "    <tr>\n",
       "      <th>12</th>\n",
       "      <td>0.004</td>\n",
       "      <td>0.002</td>\n",
       "      <td>2.919</td>\n",
       "      <td>0.004</td>\n",
       "      <td>0.001</td>\n",
       "      <td>0.007</td>\n",
       "      <td>13.0</td>\n",
       "    </tr>\n",
       "    <tr>\n",
       "      <th>13</th>\n",
       "      <td>0.005</td>\n",
       "      <td>0.002</td>\n",
       "      <td>3.392</td>\n",
       "      <td>0.001</td>\n",
       "      <td>0.002</td>\n",
       "      <td>0.008</td>\n",
       "      <td>14.0</td>\n",
       "    </tr>\n",
       "    <tr>\n",
       "      <th>14</th>\n",
       "      <td>0.011</td>\n",
       "      <td>0.002</td>\n",
       "      <td>7.295</td>\n",
       "      <td>0.000</td>\n",
       "      <td>0.008</td>\n",
       "      <td>0.014</td>\n",
       "      <td>15.0</td>\n",
       "    </tr>\n",
       "    <tr>\n",
       "      <th>15</th>\n",
       "      <td>0.012</td>\n",
       "      <td>0.002</td>\n",
       "      <td>7.509</td>\n",
       "      <td>0.000</td>\n",
       "      <td>0.008</td>\n",
       "      <td>0.015</td>\n",
       "      <td>16.0</td>\n",
       "    </tr>\n",
       "    <tr>\n",
       "      <th>16</th>\n",
       "      <td>0.010</td>\n",
       "      <td>0.002</td>\n",
       "      <td>6.581</td>\n",
       "      <td>0.000</td>\n",
       "      <td>0.007</td>\n",
       "      <td>0.013</td>\n",
       "      <td>17.0</td>\n",
       "    </tr>\n",
       "    <tr>\n",
       "      <th>17</th>\n",
       "      <td>-0.009</td>\n",
       "      <td>0.002</td>\n",
       "      <td>-5.718</td>\n",
       "      <td>0.000</td>\n",
       "      <td>-0.012</td>\n",
       "      <td>-0.006</td>\n",
       "      <td>18.0</td>\n",
       "    </tr>\n",
       "    <tr>\n",
       "      <th>18</th>\n",
       "      <td>-0.004</td>\n",
       "      <td>0.002</td>\n",
       "      <td>-2.601</td>\n",
       "      <td>0.009</td>\n",
       "      <td>-0.007</td>\n",
       "      <td>-0.001</td>\n",
       "      <td>19.0</td>\n",
       "    </tr>\n",
       "    <tr>\n",
       "      <th>19</th>\n",
       "      <td>-0.003</td>\n",
       "      <td>0.002</td>\n",
       "      <td>-2.176</td>\n",
       "      <td>0.030</td>\n",
       "      <td>-0.006</td>\n",
       "      <td>-0.000</td>\n",
       "      <td>20.0</td>\n",
       "    </tr>\n",
       "    <tr>\n",
       "      <th>20</th>\n",
       "      <td>0.001</td>\n",
       "      <td>0.002</td>\n",
       "      <td>0.699</td>\n",
       "      <td>0.484</td>\n",
       "      <td>-0.002</td>\n",
       "      <td>0.004</td>\n",
       "      <td>21.0</td>\n",
       "    </tr>\n",
       "    <tr>\n",
       "      <th>21</th>\n",
       "      <td>-0.002</td>\n",
       "      <td>0.002</td>\n",
       "      <td>-1.420</td>\n",
       "      <td>0.156</td>\n",
       "      <td>-0.005</td>\n",
       "      <td>0.001</td>\n",
       "      <td>22.0</td>\n",
       "    </tr>\n",
       "    <tr>\n",
       "      <th>22</th>\n",
       "      <td>0.001</td>\n",
       "      <td>0.002</td>\n",
       "      <td>0.704</td>\n",
       "      <td>0.482</td>\n",
       "      <td>-0.002</td>\n",
       "      <td>0.004</td>\n",
       "      <td>23.0</td>\n",
       "    </tr>\n",
       "    <tr>\n",
       "      <th>23</th>\n",
       "      <td>-0.020</td>\n",
       "      <td>0.002</td>\n",
       "      <td>-13.374</td>\n",
       "      <td>0.000</td>\n",
       "      <td>-0.023</td>\n",
       "      <td>-0.017</td>\n",
       "      <td>24.0</td>\n",
       "    </tr>\n",
       "    <tr>\n",
       "      <th>24</th>\n",
       "      <td>-0.014</td>\n",
       "      <td>0.002</td>\n",
       "      <td>-8.995</td>\n",
       "      <td>0.000</td>\n",
       "      <td>-0.017</td>\n",
       "      <td>-0.011</td>\n",
       "      <td>25.0</td>\n",
       "    </tr>\n",
       "    <tr>\n",
       "      <th>25</th>\n",
       "      <td>-0.012</td>\n",
       "      <td>0.002</td>\n",
       "      <td>-8.080</td>\n",
       "      <td>0.000</td>\n",
       "      <td>-0.015</td>\n",
       "      <td>-0.009</td>\n",
       "      <td>26.0</td>\n",
       "    </tr>\n",
       "    <tr>\n",
       "      <th>26</th>\n",
       "      <td>-0.012</td>\n",
       "      <td>0.002</td>\n",
       "      <td>-7.572</td>\n",
       "      <td>0.000</td>\n",
       "      <td>-0.015</td>\n",
       "      <td>-0.009</td>\n",
       "      <td>27.0</td>\n",
       "    </tr>\n",
       "    <tr>\n",
       "      <th>27</th>\n",
       "      <td>-0.009</td>\n",
       "      <td>0.002</td>\n",
       "      <td>-5.841</td>\n",
       "      <td>0.000</td>\n",
       "      <td>-0.012</td>\n",
       "      <td>-0.006</td>\n",
       "      <td>28.0</td>\n",
       "    </tr>\n",
       "    <tr>\n",
       "      <th>28</th>\n",
       "      <td>-0.009</td>\n",
       "      <td>0.002</td>\n",
       "      <td>-5.790</td>\n",
       "      <td>0.000</td>\n",
       "      <td>-0.012</td>\n",
       "      <td>-0.006</td>\n",
       "      <td>29.0</td>\n",
       "    </tr>\n",
       "    <tr>\n",
       "      <th>29</th>\n",
       "      <td>-0.028</td>\n",
       "      <td>0.002</td>\n",
       "      <td>-18.013</td>\n",
       "      <td>0.000</td>\n",
       "      <td>-0.031</td>\n",
       "      <td>-0.025</td>\n",
       "      <td>30.0</td>\n",
       "    </tr>\n",
       "    <tr>\n",
       "      <th>30</th>\n",
       "      <td>-0.021</td>\n",
       "      <td>0.002</td>\n",
       "      <td>-13.419</td>\n",
       "      <td>0.000</td>\n",
       "      <td>-0.024</td>\n",
       "      <td>-0.018</td>\n",
       "      <td>31.0</td>\n",
       "    </tr>\n",
       "    <tr>\n",
       "      <th>31</th>\n",
       "      <td>-0.020</td>\n",
       "      <td>0.002</td>\n",
       "      <td>-13.350</td>\n",
       "      <td>0.000</td>\n",
       "      <td>-0.023</td>\n",
       "      <td>-0.017</td>\n",
       "      <td>32.0</td>\n",
       "    </tr>\n",
       "    <tr>\n",
       "      <th>32</th>\n",
       "      <td>-0.019</td>\n",
       "      <td>0.002</td>\n",
       "      <td>-12.541</td>\n",
       "      <td>0.000</td>\n",
       "      <td>-0.022</td>\n",
       "      <td>-0.016</td>\n",
       "      <td>33.0</td>\n",
       "    </tr>\n",
       "    <tr>\n",
       "      <th>33</th>\n",
       "      <td>-0.018</td>\n",
       "      <td>0.002</td>\n",
       "      <td>-11.859</td>\n",
       "      <td>0.000</td>\n",
       "      <td>-0.021</td>\n",
       "      <td>-0.015</td>\n",
       "      <td>34.0</td>\n",
       "    </tr>\n",
       "    <tr>\n",
       "      <th>34</th>\n",
       "      <td>-0.017</td>\n",
       "      <td>0.002</td>\n",
       "      <td>-10.776</td>\n",
       "      <td>0.000</td>\n",
       "      <td>-0.020</td>\n",
       "      <td>-0.014</td>\n",
       "      <td>35.0</td>\n",
       "    </tr>\n",
       "    <tr>\n",
       "      <th>35</th>\n",
       "      <td>-0.034</td>\n",
       "      <td>0.002</td>\n",
       "      <td>-22.437</td>\n",
       "      <td>0.000</td>\n",
       "      <td>-0.037</td>\n",
       "      <td>-0.031</td>\n",
       "      <td>36.0</td>\n",
       "    </tr>\n",
       "    <tr>\n",
       "      <th>36</th>\n",
       "      <td>-0.028</td>\n",
       "      <td>0.002</td>\n",
       "      <td>-18.482</td>\n",
       "      <td>0.000</td>\n",
       "      <td>-0.031</td>\n",
       "      <td>-0.025</td>\n",
       "      <td>37.0</td>\n",
       "    </tr>\n",
       "    <tr>\n",
       "      <th>37</th>\n",
       "      <td>-0.027</td>\n",
       "      <td>0.002</td>\n",
       "      <td>-17.444</td>\n",
       "      <td>0.000</td>\n",
       "      <td>-0.030</td>\n",
       "      <td>-0.024</td>\n",
       "      <td>38.0</td>\n",
       "    </tr>\n",
       "    <tr>\n",
       "      <th>38</th>\n",
       "      <td>-0.025</td>\n",
       "      <td>0.002</td>\n",
       "      <td>-16.340</td>\n",
       "      <td>0.000</td>\n",
       "      <td>-0.028</td>\n",
       "      <td>-0.022</td>\n",
       "      <td>39.0</td>\n",
       "    </tr>\n",
       "    <tr>\n",
       "      <th>39</th>\n",
       "      <td>-0.024</td>\n",
       "      <td>0.002</td>\n",
       "      <td>-15.967</td>\n",
       "      <td>0.000</td>\n",
       "      <td>-0.027</td>\n",
       "      <td>-0.021</td>\n",
       "      <td>40.0</td>\n",
       "    </tr>\n",
       "    <tr>\n",
       "      <th>40</th>\n",
       "      <td>-0.022</td>\n",
       "      <td>0.002</td>\n",
       "      <td>-14.660</td>\n",
       "      <td>0.000</td>\n",
       "      <td>-0.025</td>\n",
       "      <td>-0.019</td>\n",
       "      <td>41.0</td>\n",
       "    </tr>\n",
       "  </tbody>\n",
       "</table>\n",
       "</div>"
      ],
      "text/plain": [
       "    center interval  Std.Err.       z      p  higher interval  lower interval  \\\n",
       "0             0.035     0.002  23.019  0.000            0.032           0.038   \n",
       "1             0.037     0.002  24.092  0.000            0.034           0.040   \n",
       "2             0.040     0.002  26.230  0.000            0.037           0.043   \n",
       "3             0.038     0.002  25.099  0.000            0.035           0.041   \n",
       "4             0.035     0.002  23.007  0.000            0.032           0.038   \n",
       "5             0.013     0.002   8.431  0.000            0.010           0.016   \n",
       "6             0.021     0.002  13.479  0.000            0.018           0.024   \n",
       "7             0.022     0.002  14.136  0.000            0.019           0.025   \n",
       "8             0.019     0.002  12.308  0.000            0.016           0.022   \n",
       "9             0.021     0.002  13.992  0.000            0.018           0.024   \n",
       "10            0.025     0.002  16.435  0.000            0.022           0.028   \n",
       "11            0.001     0.002   0.507  0.612           -0.002           0.004   \n",
       "12            0.004     0.002   2.919  0.004            0.001           0.007   \n",
       "13            0.005     0.002   3.392  0.001            0.002           0.008   \n",
       "14            0.011     0.002   7.295  0.000            0.008           0.014   \n",
       "15            0.012     0.002   7.509  0.000            0.008           0.015   \n",
       "16            0.010     0.002   6.581  0.000            0.007           0.013   \n",
       "17           -0.009     0.002  -5.718  0.000           -0.012          -0.006   \n",
       "18           -0.004     0.002  -2.601  0.009           -0.007          -0.001   \n",
       "19           -0.003     0.002  -2.176  0.030           -0.006          -0.000   \n",
       "20            0.001     0.002   0.699  0.484           -0.002           0.004   \n",
       "21           -0.002     0.002  -1.420  0.156           -0.005           0.001   \n",
       "22            0.001     0.002   0.704  0.482           -0.002           0.004   \n",
       "23           -0.020     0.002 -13.374  0.000           -0.023          -0.017   \n",
       "24           -0.014     0.002  -8.995  0.000           -0.017          -0.011   \n",
       "25           -0.012     0.002  -8.080  0.000           -0.015          -0.009   \n",
       "26           -0.012     0.002  -7.572  0.000           -0.015          -0.009   \n",
       "27           -0.009     0.002  -5.841  0.000           -0.012          -0.006   \n",
       "28           -0.009     0.002  -5.790  0.000           -0.012          -0.006   \n",
       "29           -0.028     0.002 -18.013  0.000           -0.031          -0.025   \n",
       "30           -0.021     0.002 -13.419  0.000           -0.024          -0.018   \n",
       "31           -0.020     0.002 -13.350  0.000           -0.023          -0.017   \n",
       "32           -0.019     0.002 -12.541  0.000           -0.022          -0.016   \n",
       "33           -0.018     0.002 -11.859  0.000           -0.021          -0.015   \n",
       "34           -0.017     0.002 -10.776  0.000           -0.020          -0.014   \n",
       "35           -0.034     0.002 -22.437  0.000           -0.037          -0.031   \n",
       "36           -0.028     0.002 -18.482  0.000           -0.031          -0.025   \n",
       "37           -0.027     0.002 -17.444  0.000           -0.030          -0.024   \n",
       "38           -0.025     0.002 -16.340  0.000           -0.028          -0.022   \n",
       "39           -0.024     0.002 -15.967  0.000           -0.027          -0.021   \n",
       "40           -0.022     0.002 -14.660  0.000           -0.025          -0.019   \n",
       "\n",
       "    neuron_x_mouse  \n",
       "0              1.0  \n",
       "1              2.0  \n",
       "2              3.0  \n",
       "3              4.0  \n",
       "4              5.0  \n",
       "5              6.0  \n",
       "6              7.0  \n",
       "7              8.0  \n",
       "8              9.0  \n",
       "9             10.0  \n",
       "10            11.0  \n",
       "11            12.0  \n",
       "12            13.0  \n",
       "13            14.0  \n",
       "14            15.0  \n",
       "15            16.0  \n",
       "16            17.0  \n",
       "17            18.0  \n",
       "18            19.0  \n",
       "19            20.0  \n",
       "20            21.0  \n",
       "21            22.0  \n",
       "22            23.0  \n",
       "23            24.0  \n",
       "24            25.0  \n",
       "25            26.0  \n",
       "26            27.0  \n",
       "27            28.0  \n",
       "28            29.0  \n",
       "29            30.0  \n",
       "30            31.0  \n",
       "31            32.0  \n",
       "32            33.0  \n",
       "33            34.0  \n",
       "34            35.0  \n",
       "35            36.0  \n",
       "36            37.0  \n",
       "37            38.0  \n",
       "38            39.0  \n",
       "39            40.0  \n",
       "40            41.0  "
      ]
     },
     "execution_count": 3,
     "metadata": {},
     "output_type": "execute_result"
    }
   ],
   "source": [
    "bw = BayesWindow(df, y='isi', treatment='stim', condition='neuron_x_mouse', group='mouse',)\n",
    "#bw.fit_anova()\n",
    "bw.fit_lme().posterior"
   ]
  },
  {
   "cell_type": "code",
   "execution_count": 6,
   "metadata": {
    "scrolled": false
   },
   "outputs": [
    {
     "data": {
      "text/html": [
       "\n",
       "<div id=\"altair-viz-4249737078014a89810560e254286077\"></div>\n",
       "<script type=\"text/javascript\">\n",
       "  (function(spec, embedOpt){\n",
       "    let outputDiv = document.currentScript.previousElementSibling;\n",
       "    if (outputDiv.id !== \"altair-viz-4249737078014a89810560e254286077\") {\n",
       "      outputDiv = document.getElementById(\"altair-viz-4249737078014a89810560e254286077\");\n",
       "    }\n",
       "    const paths = {\n",
       "      \"vega\": \"https://cdn.jsdelivr.net/npm//vega@5?noext\",\n",
       "      \"vega-lib\": \"https://cdn.jsdelivr.net/npm//vega-lib?noext\",\n",
       "      \"vega-lite\": \"https://cdn.jsdelivr.net/npm//vega-lite@4.8.1?noext\",\n",
       "      \"vega-embed\": \"https://cdn.jsdelivr.net/npm//vega-embed@6?noext\",\n",
       "    };\n",
       "\n",
       "    function loadScript(lib) {\n",
       "      return new Promise(function(resolve, reject) {\n",
       "        var s = document.createElement('script');\n",
       "        s.src = paths[lib];\n",
       "        s.async = true;\n",
       "        s.onload = () => resolve(paths[lib]);\n",
       "        s.onerror = () => reject(`Error loading script: ${paths[lib]}`);\n",
       "        document.getElementsByTagName(\"head\")[0].appendChild(s);\n",
       "      });\n",
       "    }\n",
       "\n",
       "    function showError(err) {\n",
       "      outputDiv.innerHTML = `<div class=\"error\" style=\"color:red;\">${err}</div>`;\n",
       "      throw err;\n",
       "    }\n",
       "\n",
       "    function displayChart(vegaEmbed) {\n",
       "      vegaEmbed(outputDiv, spec, embedOpt)\n",
       "        .catch(err => showError(`Javascript Error: ${err.message}<br>This usually means there's a typo in your chart specification. See the javascript console for the full traceback.`));\n",
       "    }\n",
       "\n",
       "    if(typeof define === \"function\" && define.amd) {\n",
       "      requirejs.config({paths});\n",
       "      require([\"vega-embed\"], displayChart, err => showError(`Error loading script: ${err.message}`));\n",
       "    } else if (typeof vegaEmbed === \"function\") {\n",
       "      displayChart(vegaEmbed);\n",
       "    } else {\n",
       "      loadScript(\"vega\")\n",
       "        .then(() => loadScript(\"vega-lite\"))\n",
       "        .then(() => loadScript(\"vega-embed\"))\n",
       "        .catch(showError)\n",
       "        .then(() => displayChart(vegaEmbed));\n",
       "    }\n",
       "  })({\"config\": {\"view\": {\"continuousWidth\": 400, \"continuousHeight\": 300}}, \"layer\": [{\"mark\": {\"type\": \"line\", \"clip\": true, \"color\": \"black\", \"fill\": null, \"point\": true}, \"encoding\": {\"x\": {\"type\": \"ordinal\", \"field\": \"neuron_x_mouse\"}, \"y\": {\"type\": \"quantitative\", \"axis\": {\"orient\": \"left\"}, \"field\": \"center interval\", \"impute\": {\"value\": \"value\"}}}}, {\"mark\": {\"type\": \"rule\", \"color\": \"black\", \"opacity\": 0.6, \"size\": 0.1}, \"encoding\": {\"y\": {\"type\": \"quantitative\", \"field\": \"zero\"}}}, {\"mark\": {\"type\": \"rule\", \"size\": 2}, \"encoding\": {\"x\": {\"type\": \"ordinal\", \"field\": \"neuron_x_mouse\"}, \"y\": {\"type\": \"quantitative\", \"axis\": {\"orient\": \"left\"}, \"field\": \"lower interval\", \"scale\": {\"domain\": [-0.031, 0.037], \"zero\": true}, \"title\": \"\\u0394 isi\"}, \"y2\": {\"field\": \"higher interval\"}}}], \"data\": {\"name\": \"data-90c2f4701ab820459f2a3f24b0f71570\"}, \"$schema\": \"https://vega.github.io/schema/vega-lite/v4.8.1.json\", \"datasets\": {\"data-90c2f4701ab820459f2a3f24b0f71570\": [{\"center interval\": 0.035, \"Std.Err.\": 0.002, \"z\": 23.019, \"p\": 0.0, \"higher interval\": 0.032, \"lower interval\": 0.038, \"neuron_x_mouse\": 1.0, \"zero\": 0}, {\"center interval\": 0.037, \"Std.Err.\": 0.002, \"z\": 24.092, \"p\": 0.0, \"higher interval\": 0.034, \"lower interval\": 0.04, \"neuron_x_mouse\": 2.0, \"zero\": 0}, {\"center interval\": 0.04, \"Std.Err.\": 0.002, \"z\": 26.23, \"p\": 0.0, \"higher interval\": 0.037, \"lower interval\": 0.043, \"neuron_x_mouse\": 3.0, \"zero\": 0}, {\"center interval\": 0.038, \"Std.Err.\": 0.002, \"z\": 25.099, \"p\": 0.0, \"higher interval\": 0.035, \"lower interval\": 0.041, \"neuron_x_mouse\": 4.0, \"zero\": 0}, {\"center interval\": 0.035, \"Std.Err.\": 0.002, \"z\": 23.007, \"p\": 0.0, \"higher interval\": 0.032, \"lower interval\": 0.038, \"neuron_x_mouse\": 5.0, \"zero\": 0}, {\"center interval\": 0.013, \"Std.Err.\": 0.002, \"z\": 8.431, \"p\": 0.0, \"higher interval\": 0.01, \"lower interval\": 0.016, \"neuron_x_mouse\": 6.0, \"zero\": 0}, {\"center interval\": 0.021, \"Std.Err.\": 0.002, \"z\": 13.479, \"p\": 0.0, \"higher interval\": 0.018, \"lower interval\": 0.024, \"neuron_x_mouse\": 7.0, \"zero\": 0}, {\"center interval\": 0.022, \"Std.Err.\": 0.002, \"z\": 14.136, \"p\": 0.0, \"higher interval\": 0.019, \"lower interval\": 0.025, \"neuron_x_mouse\": 8.0, \"zero\": 0}, {\"center interval\": 0.019, \"Std.Err.\": 0.002, \"z\": 12.308, \"p\": 0.0, \"higher interval\": 0.016, \"lower interval\": 0.022, \"neuron_x_mouse\": 9.0, \"zero\": 0}, {\"center interval\": 0.021, \"Std.Err.\": 0.002, \"z\": 13.992, \"p\": 0.0, \"higher interval\": 0.018, \"lower interval\": 0.024, \"neuron_x_mouse\": 10.0, \"zero\": 0}, {\"center interval\": 0.025, \"Std.Err.\": 0.002, \"z\": 16.435, \"p\": 0.0, \"higher interval\": 0.022, \"lower interval\": 0.028, \"neuron_x_mouse\": 11.0, \"zero\": 0}, {\"center interval\": 0.001, \"Std.Err.\": 0.002, \"z\": 0.507, \"p\": 0.612, \"higher interval\": -0.002, \"lower interval\": 0.004, \"neuron_x_mouse\": 12.0, \"zero\": 0}, {\"center interval\": 0.004, \"Std.Err.\": 0.002, \"z\": 2.919, \"p\": 0.004, \"higher interval\": 0.001, \"lower interval\": 0.007, \"neuron_x_mouse\": 13.0, \"zero\": 0}, {\"center interval\": 0.005, \"Std.Err.\": 0.002, \"z\": 3.392, \"p\": 0.001, \"higher interval\": 0.002, \"lower interval\": 0.008, \"neuron_x_mouse\": 14.0, \"zero\": 0}, {\"center interval\": 0.011, \"Std.Err.\": 0.002, \"z\": 7.295, \"p\": 0.0, \"higher interval\": 0.008, \"lower interval\": 0.014, \"neuron_x_mouse\": 15.0, \"zero\": 0}, {\"center interval\": 0.012, \"Std.Err.\": 0.002, \"z\": 7.509, \"p\": 0.0, \"higher interval\": 0.008, \"lower interval\": 0.015, \"neuron_x_mouse\": 16.0, \"zero\": 0}, {\"center interval\": 0.01, \"Std.Err.\": 0.002, \"z\": 6.581, \"p\": 0.0, \"higher interval\": 0.007, \"lower interval\": 0.013, \"neuron_x_mouse\": 17.0, \"zero\": 0}, {\"center interval\": -0.009, \"Std.Err.\": 0.002, \"z\": -5.718, \"p\": 0.0, \"higher interval\": -0.012, \"lower interval\": -0.006, \"neuron_x_mouse\": 18.0, \"zero\": 0}, {\"center interval\": -0.004, \"Std.Err.\": 0.002, \"z\": -2.601, \"p\": 0.009, \"higher interval\": -0.007, \"lower interval\": -0.001, \"neuron_x_mouse\": 19.0, \"zero\": 0}, {\"center interval\": -0.003, \"Std.Err.\": 0.002, \"z\": -2.176, \"p\": 0.03, \"higher interval\": -0.006, \"lower interval\": -0.0, \"neuron_x_mouse\": 20.0, \"zero\": 0}, {\"center interval\": 0.001, \"Std.Err.\": 0.002, \"z\": 0.699, \"p\": 0.484, \"higher interval\": -0.002, \"lower interval\": 0.004, \"neuron_x_mouse\": 21.0, \"zero\": 0}, {\"center interval\": -0.002, \"Std.Err.\": 0.002, \"z\": -1.42, \"p\": 0.156, \"higher interval\": -0.005, \"lower interval\": 0.001, \"neuron_x_mouse\": 22.0, \"zero\": 0}, {\"center interval\": 0.001, \"Std.Err.\": 0.002, \"z\": 0.704, \"p\": 0.482, \"higher interval\": -0.002, \"lower interval\": 0.004, \"neuron_x_mouse\": 23.0, \"zero\": 0}, {\"center interval\": -0.02, \"Std.Err.\": 0.002, \"z\": -13.374, \"p\": 0.0, \"higher interval\": -0.023, \"lower interval\": -0.017, \"neuron_x_mouse\": 24.0, \"zero\": 0}, {\"center interval\": -0.014, \"Std.Err.\": 0.002, \"z\": -8.995, \"p\": 0.0, \"higher interval\": -0.017, \"lower interval\": -0.011, \"neuron_x_mouse\": 25.0, \"zero\": 0}, {\"center interval\": -0.012, \"Std.Err.\": 0.002, \"z\": -8.08, \"p\": 0.0, \"higher interval\": -0.015, \"lower interval\": -0.009, \"neuron_x_mouse\": 26.0, \"zero\": 0}, {\"center interval\": -0.012, \"Std.Err.\": 0.002, \"z\": -7.572, \"p\": 0.0, \"higher interval\": -0.015, \"lower interval\": -0.009, \"neuron_x_mouse\": 27.0, \"zero\": 0}, {\"center interval\": -0.009, \"Std.Err.\": 0.002, \"z\": -5.841, \"p\": 0.0, \"higher interval\": -0.012, \"lower interval\": -0.006, \"neuron_x_mouse\": 28.0, \"zero\": 0}, {\"center interval\": -0.009, \"Std.Err.\": 0.002, \"z\": -5.79, \"p\": 0.0, \"higher interval\": -0.012, \"lower interval\": -0.006, \"neuron_x_mouse\": 29.0, \"zero\": 0}, {\"center interval\": -0.028, \"Std.Err.\": 0.002, \"z\": -18.013, \"p\": 0.0, \"higher interval\": -0.031, \"lower interval\": -0.025, \"neuron_x_mouse\": 30.0, \"zero\": 0}, {\"center interval\": -0.021, \"Std.Err.\": 0.002, \"z\": -13.419, \"p\": 0.0, \"higher interval\": -0.024, \"lower interval\": -0.018, \"neuron_x_mouse\": 31.0, \"zero\": 0}, {\"center interval\": -0.02, \"Std.Err.\": 0.002, \"z\": -13.35, \"p\": 0.0, \"higher interval\": -0.023, \"lower interval\": -0.017, \"neuron_x_mouse\": 32.0, \"zero\": 0}, {\"center interval\": -0.019, \"Std.Err.\": 0.002, \"z\": -12.541, \"p\": 0.0, \"higher interval\": -0.022, \"lower interval\": -0.016, \"neuron_x_mouse\": 33.0, \"zero\": 0}, {\"center interval\": -0.018, \"Std.Err.\": 0.002, \"z\": -11.859, \"p\": 0.0, \"higher interval\": -0.021, \"lower interval\": -0.015, \"neuron_x_mouse\": 34.0, \"zero\": 0}, {\"center interval\": -0.017, \"Std.Err.\": 0.002, \"z\": -10.776, \"p\": 0.0, \"higher interval\": -0.02, \"lower interval\": -0.014, \"neuron_x_mouse\": 35.0, \"zero\": 0}, {\"center interval\": -0.034, \"Std.Err.\": 0.002, \"z\": -22.437, \"p\": 0.0, \"higher interval\": -0.037, \"lower interval\": -0.031, \"neuron_x_mouse\": 36.0, \"zero\": 0}, {\"center interval\": -0.028, \"Std.Err.\": 0.002, \"z\": -18.482, \"p\": 0.0, \"higher interval\": -0.031, \"lower interval\": -0.025, \"neuron_x_mouse\": 37.0, \"zero\": 0}, {\"center interval\": -0.027, \"Std.Err.\": 0.002, \"z\": -17.444, \"p\": 0.0, \"higher interval\": -0.03, \"lower interval\": -0.024, \"neuron_x_mouse\": 38.0, \"zero\": 0}, {\"center interval\": -0.025, \"Std.Err.\": 0.002, \"z\": -16.34, \"p\": 0.0, \"higher interval\": -0.028, \"lower interval\": -0.022, \"neuron_x_mouse\": 39.0, \"zero\": 0}, {\"center interval\": -0.024, \"Std.Err.\": 0.002, \"z\": -15.967, \"p\": 0.0, \"higher interval\": -0.027, \"lower interval\": -0.021, \"neuron_x_mouse\": 40.0, \"zero\": 0}, {\"center interval\": -0.022, \"Std.Err.\": 0.002, \"z\": -14.66, \"p\": 0.0, \"higher interval\": -0.025, \"lower interval\": -0.019, \"neuron_x_mouse\": 41.0, \"zero\": 0}]}}, {\"mode\": \"vega-lite\"});\n",
       "</script>"
      ],
      "text/plain": [
       "alt.LayerChart(...)"
      ]
     },
     "execution_count": 6,
     "metadata": {},
     "output_type": "execute_result"
    }
   ],
   "source": [
    "bw.plot_posteriors_slopes(x='neuron_x_mouse:O')"
   ]
  },
  {
   "cell_type": "markdown",
   "metadata": {
    "hideCode": false,
    "hidePrompt": false,
    "slideshow": {
     "slide_type": "slide"
    }
   },
   "source": [
    "## Make and visualize model oscillation power\n",
    "40 trials of \"theta power\" is generated for every animal. It is drawn randomly as a poisson process. \n",
    "\n",
    "This is repeated for \"stimulation\" trials, but poisson rate is higher."
   ]
  },
  {
   "cell_type": "code",
   "execution_count": 2,
   "metadata": {
    "hideCode": false,
    "hidePrompt": false,
    "pycharm": {
     "name": "#%%\n"
    },
    "scrolled": true,
    "slideshow": {
     "slide_type": "skip"
    }
   },
   "outputs": [],
   "source": [
    "# Draw some fake data:\n",
    "df, df_monster, index_cols, _ = generate_fake_lfp(mouse_response_slope=9, n_trials=30)"
   ]
  },
  {
   "cell_type": "markdown",
   "metadata": {
    "hideCode": false,
    "hidePrompt": false,
    "slideshow": {
     "slide_type": "slide"
    }
   },
   "source": [
    "Mice vary in their baseline power. \n",
    "\n",
    "Higher-baseline mice tend to have smaller stim response:"
   ]
  },
  {
   "cell_type": "code",
   "execution_count": 46,
   "metadata": {
    "hideCode": false,
    "hidePrompt": false,
    "slideshow": {
     "slide_type": "fragment"
    }
   },
   "outputs": [
    {
     "data": {
      "text/html": [
       "\n",
       "<div id=\"altair-viz-79ad8681dc4a4e62bda45a404cf72061\"></div>\n",
       "<script type=\"text/javascript\">\n",
       "  (function(spec, embedOpt){\n",
       "    let outputDiv = document.currentScript.previousElementSibling;\n",
       "    if (outputDiv.id !== \"altair-viz-79ad8681dc4a4e62bda45a404cf72061\") {\n",
       "      outputDiv = document.getElementById(\"altair-viz-79ad8681dc4a4e62bda45a404cf72061\");\n",
       "    }\n",
       "    const paths = {\n",
       "      \"vega\": \"https://cdn.jsdelivr.net/npm//vega@5?noext\",\n",
       "      \"vega-lib\": \"https://cdn.jsdelivr.net/npm//vega-lib?noext\",\n",
       "      \"vega-lite\": \"https://cdn.jsdelivr.net/npm//vega-lite@4.8.1?noext\",\n",
       "      \"vega-embed\": \"https://cdn.jsdelivr.net/npm//vega-embed@6?noext\",\n",
       "    };\n",
       "\n",
       "    function loadScript(lib) {\n",
       "      return new Promise(function(resolve, reject) {\n",
       "        var s = document.createElement('script');\n",
       "        s.src = paths[lib];\n",
       "        s.async = true;\n",
       "        s.onload = () => resolve(paths[lib]);\n",
       "        s.onerror = () => reject(`Error loading script: ${paths[lib]}`);\n",
       "        document.getElementsByTagName(\"head\")[0].appendChild(s);\n",
       "      });\n",
       "    }\n",
       "\n",
       "    function showError(err) {\n",
       "      outputDiv.innerHTML = `<div class=\"error\" style=\"color:red;\">${err}</div>`;\n",
       "      throw err;\n",
       "    }\n",
       "\n",
       "    function displayChart(vegaEmbed) {\n",
       "      vegaEmbed(outputDiv, spec, embedOpt)\n",
       "        .catch(err => showError(`Javascript Error: ${err.message}<br>This usually means there's a typo in your chart specification. See the javascript console for the full traceback.`));\n",
       "    }\n",
       "\n",
       "    if(typeof define === \"function\" && define.amd) {\n",
       "      requirejs.config({paths});\n",
       "      require([\"vega-embed\"], displayChart, err => showError(`Error loading script: ${err.message}`));\n",
       "    } else if (typeof vegaEmbed === \"function\") {\n",
       "      displayChart(vegaEmbed);\n",
       "    } else {\n",
       "      loadScript(\"vega\")\n",
       "        .then(() => loadScript(\"vega-lite\"))\n",
       "        .then(() => loadScript(\"vega-embed\"))\n",
       "        .catch(showError)\n",
       "        .then(() => displayChart(vegaEmbed));\n",
       "    }\n",
       "  })({\"config\": {\"view\": {\"continuousWidth\": 400, \"continuousHeight\": 300}}, \"data\": {\"name\": \"data-3aff7c5ad529a0d85dd9f2cd5009a0d5\"}, \"facet\": {\"column\": {\"type\": \"nominal\", \"field\": \"mouse\"}}, \"spec\": {\"layer\": [{\"mark\": {\"type\": \"line\", \"clip\": true, \"fill\": null, \"opacity\": 0.6}, \"encoding\": {\"color\": {\"type\": \"ordinal\", \"field\": \"\"}, \"detail\": {\"type\": \"ordinal\", \"field\": \"\"}, \"size\": {\"value\": 1.0}, \"x\": {\"type\": \"ordinal\", \"field\": \"stim\"}, \"y\": {\"type\": \"quantitative\", \"aggregate\": \"mean\", \"axis\": {\"orient\": \"right\"}, \"field\": \"Log power\", \"scale\": {\"domain\": [1.7002543249588897, 2.8247023396525077], \"zero\": false}}}}, {\"mark\": {\"type\": \"circle\", \"clip\": true, \"opacity\": 0}, \"encoding\": {\"color\": {\"type\": \"ordinal\", \"field\": \"\"}, \"detail\": {\"type\": \"ordinal\", \"field\": \"\"}, \"x\": {\"type\": \"ordinal\", \"field\": \"stim\"}, \"y\": {\"type\": \"quantitative\", \"aggregate\": \"mean\", \"axis\": {\"labels\": false, \"tickCount\": 0, \"title\": \"\"}, \"field\": \"Log power\", \"scale\": {\"domain\": [1.7002543249588897, 2.8247023396525077], \"zero\": false}}}}, {\"mark\": {\"type\": \"boxplot\", \"clip\": true, \"color\": \"black\", \"opacity\": 0.3, \"size\": 9}, \"encoding\": {\"x\": {\"type\": \"ordinal\", \"field\": \"stim\"}, \"y\": {\"type\": \"quantitative\", \"axis\": {\"labels\": false, \"tickCount\": 0, \"title\": \"\"}, \"field\": \"Log power\", \"scale\": {\"domain\": [1.7002543249588897, 2.8247023396525077], \"zero\": false}}}}, {\"mark\": {\"type\": \"line\", \"fill\": null}, \"encoding\": {\"color\": {\"type\": \"ordinal\", \"field\": \"\"}, \"detail\": {\"type\": \"quantitative\", \"field\": \"i_trial\"}, \"opacity\": {\"value\": 0.2}, \"size\": {\"value\": 0.9}, \"x\": {\"type\": \"ordinal\", \"field\": \"stim\"}, \"y\": {\"type\": \"quantitative\", \"field\": \"Log power\", \"scale\": {\"clamp\": true, \"domain\": [1.7002543249588897, 2.8247023396525077], \"zero\": false}}}}], \"width\": 60}, \"$schema\": \"https://vega.github.io/schema/vega-lite/v4.8.1.json\", \"datasets\": {\"data-3aff7c5ad529a0d85dd9f2cd5009a0d5\": [{\"i_trial\": 0, \"mouse\": \"0\", \"neuron_x_mouse\": \"0m1bayes\", \"stim\": 0, \"Log power\": 1.9997481755885542, \"Firing rate\": 99.9420320943009, \"Power\": 99.9420320943009, \"i_spike\": 45.0, \"isi\": 0.07759593192356984}, {\"i_trial\": 0, \"mouse\": \"0\", \"neuron_x_mouse\": \"0m1bayes\", \"stim\": 1, \"Log power\": 2.0092096109790645, \"Firing rate\": 102.14323561369736, \"Power\": 102.14323561369736, \"i_spike\": 66.0, \"isi\": 0.05310897279140883}, {\"i_trial\": 1, \"mouse\": \"0\", \"neuron_x_mouse\": \"0m1bayes\", \"stim\": 0, \"Log power\": 1.910160726939549, \"Firing rate\": 81.31313902126293, \"Power\": 81.31313902126293, \"i_spike\": 42.5, \"isi\": 0.07891223472316852}, {\"i_trial\": 1, \"mouse\": \"0\", \"neuron_x_mouse\": \"0m1bayes\", \"stim\": 1, \"Log power\": 2.052290156938477, \"Firing rate\": 112.79508008724812, \"Power\": 112.79508008724812, \"i_spike\": 59.0, \"isi\": 0.05727886565778441}, {\"i_trial\": 2, \"mouse\": \"0\", \"neuron_x_mouse\": \"0m1bayes\", \"stim\": 0, \"Log power\": 1.5889350392691983, \"Firing rate\": 38.80923117283523, \"Power\": 38.80923117283523, \"i_spike\": 36.5, \"isi\": 0.09493207628178309}, {\"i_trial\": 2, \"mouse\": \"0\", \"neuron_x_mouse\": \"0m1bayes\", \"stim\": 1, \"Log power\": 2.045242890994182, \"Firing rate\": 110.97953249301644, \"Power\": 110.97953249301644, \"i_spike\": 61.0, \"isi\": 0.05386670802385718}, {\"i_trial\": 3, \"mouse\": \"0\", \"neuron_x_mouse\": \"0m1bayes\", \"stim\": 0, \"Log power\": 2.331444910979682, \"Firing rate\": 214.50870003700638, \"Power\": 214.50870003700638, \"i_spike\": 54.5, \"isi\": 0.06345459829808654}, {\"i_trial\": 3, \"mouse\": \"0\", \"neuron_x_mouse\": \"0m1bayes\", \"stim\": 1, \"Log power\": 2.147472158384972, \"Firing rate\": 140.43396517242584, \"Power\": 140.43396517242584, \"i_spike\": 56.5, \"isi\": 0.06146333927373847}, {\"i_trial\": 4, \"mouse\": \"0\", \"neuron_x_mouse\": \"0m1bayes\", \"stim\": 0, \"Log power\": 1.3671929997466394, \"Firing rate\": 23.29126087475561, \"Power\": 23.29126087475561, \"i_spike\": 30.5, \"isi\": 0.11349533973558343}, {\"i_trial\": 4, \"mouse\": \"0\", \"neuron_x_mouse\": \"0m1bayes\", \"stim\": 1, \"Log power\": 2.188066669870316, \"Firing rate\": 154.1937142254541, \"Power\": 154.1937142254541, \"i_spike\": 63.5, \"isi\": 0.055349324954038874}, {\"i_trial\": 5, \"mouse\": \"0\", \"neuron_x_mouse\": \"0m1bayes\", \"stim\": 0, \"Log power\": 1.8364686217788806, \"Firing rate\": 68.62282959230858, \"Power\": 68.62282959230858, \"i_spike\": 44.5, \"isi\": 0.07842589606628855}, {\"i_trial\": 5, \"mouse\": \"0\", \"neuron_x_mouse\": \"0m1bayes\", \"stim\": 1, \"Log power\": 1.72219624882649, \"Firing rate\": 52.74681596905224, \"Power\": 52.74681596905224, \"i_spike\": 61.5, \"isi\": 0.05583476057552215}, {\"i_trial\": 6, \"mouse\": \"0\", \"neuron_x_mouse\": \"0m1bayes\", \"stim\": 0, \"Log power\": 1.4993302226386322, \"Firing rate\": 31.57404493026404, \"Power\": 31.57404493026404, \"i_spike\": 34.5, \"isi\": 0.0979808774008454}, {\"i_trial\": 6, \"mouse\": \"0\", \"neuron_x_mouse\": \"0m1bayes\", \"stim\": 1, \"Log power\": 2.148137210980189, \"Firing rate\": 140.64918209068904, \"Power\": 140.64918209068904, \"i_spike\": 54.5, \"isi\": 0.06231194924923774}, {\"i_trial\": 7, \"mouse\": \"0\", \"neuron_x_mouse\": \"0m1bayes\", \"stim\": 0, \"Log power\": 1.74604629915078, \"Firing rate\": 55.724515240864584, \"Power\": 55.724515240864584, \"i_spike\": 36.0, \"isi\": 0.09260812566977722}, {\"i_trial\": 7, \"mouse\": \"0\", \"neuron_x_mouse\": \"0m1bayes\", \"stim\": 1, \"Log power\": 2.0437069157221397, \"Firing rate\": 110.58772292042039, \"Power\": 110.58772292042039, \"i_spike\": 54.5, \"isi\": 0.06310986729887752}, {\"i_trial\": 8, \"mouse\": \"0\", \"neuron_x_mouse\": \"0m1bayes\", \"stim\": 0, \"Log power\": 1.6822593145526625, \"Firing rate\": 48.1126540386449, \"Power\": 48.1126540386449, \"i_spike\": 45.0, \"isi\": 0.07788503602528092}, {\"i_trial\": 8, \"mouse\": \"0\", \"neuron_x_mouse\": \"0m1bayes\", \"stim\": 1, \"Log power\": 1.9838832236322896, \"Firing rate\": 96.3569896864263, \"Power\": 96.3569896864263, \"i_spike\": 63.0, \"isi\": 0.055257005689852215}, {\"i_trial\": 9, \"mouse\": \"0\", \"neuron_x_mouse\": \"0m1bayes\", \"stim\": 0, \"Log power\": 2.3405278617680683, \"Firing rate\": 219.04223481173997, \"Power\": 219.04223481173997, \"i_spike\": 54.0, \"isi\": 0.06275485883031404}, {\"i_trial\": 9, \"mouse\": \"0\", \"neuron_x_mouse\": \"0m1bayes\", \"stim\": 1, \"Log power\": 2.3945725685561583, \"Firing rate\": 248.06904147120412, \"Power\": 248.06904147120412, \"i_spike\": 60.0, \"isi\": 0.05785585666754498}, {\"i_trial\": 10, \"mouse\": \"0\", \"neuron_x_mouse\": \"0m1bayes\", \"stim\": 0, \"Log power\": 1.8902940668847943, \"Firing rate\": 77.67729024268215, \"Power\": 77.67729024268215, \"i_spike\": 39.5, \"isi\": 0.08570981020992528}, {\"i_trial\": 10, \"mouse\": \"0\", \"neuron_x_mouse\": \"0m1bayes\", \"stim\": 1, \"Log power\": 1.7464573320050367, \"Firing rate\": 55.77728001182793, \"Power\": 55.77728001182793, \"i_spike\": 53.0, \"isi\": 0.06584740643815713}, {\"i_trial\": 11, \"mouse\": \"0\", \"neuron_x_mouse\": \"0m1bayes\", \"stim\": 0, \"Log power\": 2.5846318316677714, \"Firing rate\": 384.2658867824693, \"Power\": 384.2658867824693, \"i_spike\": 43.5, \"isi\": 0.08041422808458522}, {\"i_trial\": 11, \"mouse\": \"0\", \"neuron_x_mouse\": \"0m1bayes\", \"stim\": 1, \"Log power\": 2.280328641789316, \"Firing rate\": 190.6903174733538, \"Power\": 190.6903174733538, \"i_spike\": 59.5, \"isi\": 0.05857614236530691}, {\"i_trial\": 12, \"mouse\": \"0\", \"neuron_x_mouse\": \"0m1bayes\", \"stim\": 0, \"Log power\": 1.4887348377632854, \"Firing rate\": 30.813060578506047, \"Power\": 30.813060578506047, \"i_spike\": 35.5, \"isi\": 0.09816719123590602}, {\"i_trial\": 12, \"mouse\": \"0\", \"neuron_x_mouse\": \"0m1bayes\", \"stim\": 1, \"Log power\": 2.066528055557541, \"Firing rate\": 116.55423428002298, \"Power\": 116.55423428002298, \"i_spike\": 52.0, \"isi\": 0.06666319746147459}, {\"i_trial\": 13, \"mouse\": \"0\", \"neuron_x_mouse\": \"0m1bayes\", \"stim\": 0, \"Log power\": 2.1085548950964723, \"Firing rate\": 128.3970054840726, \"Power\": 128.3970054840726, \"i_spike\": 37.0, \"isi\": 0.09303920868813378}, {\"i_trial\": 13, \"mouse\": \"0\", \"neuron_x_mouse\": \"0m1bayes\", \"stim\": 1, \"Log power\": 1.8811728037565647, \"Firing rate\": 76.06288674288955, \"Power\": 76.06288674288955, \"i_spike\": 51.5, \"isi\": 0.06707078005758886}, {\"i_trial\": 14, \"mouse\": \"0\", \"neuron_x_mouse\": \"0m1bayes\", \"stim\": 0, \"Log power\": 1.7951382886144243, \"Firing rate\": 62.393347756515844, \"Power\": 62.393347756515844, \"i_spike\": 56.0, \"isi\": 0.06206808917925212}, {\"i_trial\": 14, \"mouse\": \"0\", \"neuron_x_mouse\": \"0m1bayes\", \"stim\": 1, \"Log power\": 2.1395769357745342, \"Firing rate\": 137.90402299180965, \"Power\": 137.90402299180965, \"i_spike\": 54.5, \"isi\": 0.0644933037328843}, {\"i_trial\": 15, \"mouse\": \"0\", \"neuron_x_mouse\": \"0m1bayes\", \"stim\": 0, \"Log power\": 1.6587694499147285, \"Firing rate\": 45.57948878989552, \"Power\": 45.57948878989552, \"i_spike\": 38.0, \"isi\": 0.08741308233941344}, {\"i_trial\": 15, \"mouse\": \"0\", \"neuron_x_mouse\": \"0m1bayes\", \"stim\": 1, \"Log power\": 1.931988293049634, \"Firing rate\": 85.504366380377, \"Power\": 85.504366380377, \"i_spike\": 59.0, \"isi\": 0.05729176099813943}, {\"i_trial\": 16, \"mouse\": \"0\", \"neuron_x_mouse\": \"0m1bayes\", \"stim\": 0, \"Log power\": 1.7532987091178684, \"Firing rate\": 56.66288841786928, \"Power\": 56.66288841786928, \"i_spike\": 47.0, \"isi\": 0.073722326934438}, {\"i_trial\": 16, \"mouse\": \"0\", \"neuron_x_mouse\": \"0m1bayes\", \"stim\": 1, \"Log power\": 1.8567026439098637, \"Firing rate\": 71.89565487367146, \"Power\": 71.89565487367146, \"i_spike\": 63.5, \"isi\": 0.054941365886354475}, {\"i_trial\": 17, \"mouse\": \"0\", \"neuron_x_mouse\": \"0m1bayes\", \"stim\": 0, \"Log power\": 1.8566353069010681, \"Firing rate\": 71.88450837457815, \"Power\": 71.88450837457815, \"i_spike\": 41.0, \"isi\": 0.08243546470396612}, {\"i_trial\": 17, \"mouse\": \"0\", \"neuron_x_mouse\": \"0m1bayes\", \"stim\": 1, \"Log power\": 1.6452789729597181, \"Firing rate\": 44.1854185215792, \"Power\": 44.1854185215792, \"i_spike\": 48.0, \"isi\": 0.07142825523324355}, {\"i_trial\": 18, \"mouse\": \"0\", \"neuron_x_mouse\": \"0m1bayes\", \"stim\": 0, \"Log power\": 1.5781163506612372, \"Firing rate\": 37.85439858299046, \"Power\": 37.85439858299046, \"i_spike\": 35.0, \"isi\": 0.0968645848460999}, {\"i_trial\": 18, \"mouse\": \"0\", \"neuron_x_mouse\": \"0m1bayes\", \"stim\": 1, \"Log power\": 1.69034044924, \"Firing rate\": 49.01629140498256, \"Power\": 49.01629140498256, \"i_spike\": 38.5, \"isi\": 0.08564324327238111}, {\"i_trial\": 19, \"mouse\": \"0\", \"neuron_x_mouse\": \"0m1bayes\", \"stim\": 0, \"Log power\": 1.5660403445838218, \"Firing rate\": 36.81631732483889, \"Power\": 36.81631732483889, \"i_spike\": 38.5, \"isi\": 0.09158310711160737}, {\"i_trial\": 19, \"mouse\": \"0\", \"neuron_x_mouse\": \"0m1bayes\", \"stim\": 1, \"Log power\": 1.5813469347869993, \"Firing rate\": 38.13703582557578, \"Power\": 38.13703582557578, \"i_spike\": 57.0, \"isi\": 0.06138039569401304}, {\"i_trial\": 20, \"mouse\": \"0\", \"neuron_x_mouse\": \"0m1bayes\", \"stim\": 0, \"Log power\": 1.8268088750967315, \"Firing rate\": 67.11334346166194, \"Power\": 67.11334346166194, \"i_spike\": 48.0, \"isi\": 0.0731457318131321}, {\"i_trial\": 20, \"mouse\": \"0\", \"neuron_x_mouse\": \"0m1bayes\", \"stim\": 1, \"Log power\": 1.9220680219301283, \"Firing rate\": 83.57339058754299, \"Power\": 83.57339058754299, \"i_spike\": 59.0, \"isi\": 0.05901870255088155}, {\"i_trial\": 21, \"mouse\": \"0\", \"neuron_x_mouse\": \"0m1bayes\", \"stim\": 0, \"Log power\": 2.3432965573981352, \"Firing rate\": 220.44312421116555, \"Power\": 220.44312421116555, \"i_spike\": 47.0, \"isi\": 0.07343440090655223}, {\"i_trial\": 21, \"mouse\": \"0\", \"neuron_x_mouse\": \"0m1bayes\", \"stim\": 1, \"Log power\": 2.0885662391574655, \"Firing rate\": 122.6213912151817, \"Power\": 122.6213912151817, \"i_spike\": 58.5, \"isi\": 0.05910111059864454}, {\"i_trial\": 22, \"mouse\": \"0\", \"neuron_x_mouse\": \"0m1bayes\", \"stim\": 0, \"Log power\": 1.5861890833955956, \"Firing rate\": 38.56462240077385, \"Power\": 38.56462240077385, \"i_spike\": 44.0, \"isi\": 0.07913180097662195}, {\"i_trial\": 22, \"mouse\": \"0\", \"neuron_x_mouse\": \"0m1bayes\", \"stim\": 1, \"Log power\": 2.1605699402918184, \"Firing rate\": 144.73379186530858, \"Power\": 144.73379186530858, \"i_spike\": 63.5, \"isi\": 0.055264033099957886}, {\"i_trial\": 23, \"mouse\": \"0\", \"neuron_x_mouse\": \"0m1bayes\", \"stim\": 0, \"Log power\": 2.3082152726876832, \"Firing rate\": 203.3364666860376, \"Power\": 203.3364666860376, \"i_spike\": 41.0, \"isi\": 0.08514115057064328}, {\"i_trial\": 23, \"mouse\": \"0\", \"neuron_x_mouse\": \"0m1bayes\", \"stim\": 1, \"Log power\": 2.265391020977574, \"Firing rate\": 184.24301035752794, \"Power\": 184.24301035752794, \"i_spike\": 54.0, \"isi\": 0.06505465542583795}, {\"i_trial\": 24, \"mouse\": \"0\", \"neuron_x_mouse\": \"0m1bayes\", \"stim\": 0, \"Log power\": 1.7606843254548046, \"Firing rate\": 57.63473829202058, \"Power\": 57.63473829202058, \"i_spike\": 48.5, \"isi\": 0.0719002793221188}, {\"i_trial\": 24, \"mouse\": \"0\", \"neuron_x_mouse\": \"0m1bayes\", \"stim\": 1, \"Log power\": 2.22617232601177, \"Firing rate\": 168.3341870722237, \"Power\": 168.3341870722237, \"i_spike\": 59.5, \"isi\": 0.05769411821760971}, {\"i_trial\": 25, \"mouse\": \"0\", \"neuron_x_mouse\": \"0m1bayes\", \"stim\": 0, \"Log power\": 1.5998178732569244, \"Firing rate\": 39.79402544070129, \"Power\": 39.79402544070129, \"i_spike\": 38.5, \"isi\": 0.08862758874463733}, {\"i_trial\": 25, \"mouse\": \"0\", \"neuron_x_mouse\": \"0m1bayes\", \"stim\": 1, \"Log power\": 2.187983410722324, \"Firing rate\": 154.16415638558462, \"Power\": 154.16415638558462, \"i_spike\": 58.0, \"isi\": 0.060049810344979124}, {\"i_trial\": 26, \"mouse\": \"0\", \"neuron_x_mouse\": \"0m1bayes\", \"stim\": 0, \"Log power\": 1.319606434144678, \"Firing rate\": 20.874036289119584, \"Power\": 20.874036289119584, \"i_spike\": 36.5, \"isi\": 0.09535072076995102}, {\"i_trial\": 26, \"mouse\": \"0\", \"neuron_x_mouse\": \"0m1bayes\", \"stim\": 1, \"Log power\": 2.087282286521635, \"Firing rate\": 122.2594074334616, \"Power\": 122.2594074334616, \"i_spike\": 57.5, \"isi\": 0.0611997369474551}, {\"i_trial\": 27, \"mouse\": \"0\", \"neuron_x_mouse\": \"0m1bayes\", \"stim\": 0, \"Log power\": 2.1710913307221316, \"Firing rate\": 148.28298866791445, \"Power\": 148.28298866791445, \"i_spike\": 35.0, \"isi\": 0.1009958742109345}, {\"i_trial\": 27, \"mouse\": \"0\", \"neuron_x_mouse\": \"0m1bayes\", \"stim\": 1, \"Log power\": 1.9120975360799757, \"Firing rate\": 81.6765784206661, \"Power\": 81.6765784206661, \"i_spike\": 59.0, \"isi\": 0.0587570695351857}, {\"i_trial\": 28, \"mouse\": \"0\", \"neuron_x_mouse\": \"0m1bayes\", \"stim\": 0, \"Log power\": 2.4362559394446133, \"Firing rate\": 273.0586504389003, \"Power\": 273.0586504389003, \"i_spike\": 43.0, \"isi\": 0.08127611109167206}, {\"i_trial\": 28, \"mouse\": \"0\", \"neuron_x_mouse\": \"0m1bayes\", \"stim\": 1, \"Log power\": 1.8583681618036856, \"Firing rate\": 72.17190383938029, \"Power\": 72.17190383938029, \"i_spike\": 43.0, \"isi\": 0.08196876946821006}, {\"i_trial\": 29, \"mouse\": \"0\", \"neuron_x_mouse\": \"0m1bayes\", \"stim\": 0, \"Log power\": 1.9334400697647418, \"Firing rate\": 85.79067201738802, \"Power\": 85.79067201738802, \"i_spike\": 47.0, \"isi\": 0.07345357591759659}, {\"i_trial\": 29, \"mouse\": \"0\", \"neuron_x_mouse\": \"0m1bayes\", \"stim\": 1, \"Log power\": 1.7398843638706223, \"Firing rate\": 54.93945714684862, \"Power\": 54.93945714684862, \"i_spike\": 55.0, \"isi\": 0.06103056223425712}, {\"i_trial\": 0, \"mouse\": \"1\", \"neuron_x_mouse\": \"1m1bayes\", \"stim\": 0, \"Log power\": 2.363571902708716, \"Firing rate\": 230.97868404364146, \"Power\": 230.97868404364146, \"i_spike\": 40.0, \"isi\": 0.08614110816787734}, {\"i_trial\": 0, \"mouse\": \"1\", \"neuron_x_mouse\": \"1m1bayes\", \"stim\": 1, \"Log power\": 1.9893002150324364, \"Firing rate\": 97.56638524517392, \"Power\": 97.56638524517392, \"i_spike\": 63.0, \"isi\": 0.055976931535380504}, {\"i_trial\": 1, \"mouse\": \"1\", \"neuron_x_mouse\": \"1m1bayes\", \"stim\": 0, \"Log power\": 2.013356259945311, \"Firing rate\": 103.12317123680445, \"Power\": 103.12317123680445, \"i_spike\": 41.5, \"isi\": 0.08456511692853343}, {\"i_trial\": 1, \"mouse\": \"1\", \"neuron_x_mouse\": \"1m1bayes\", \"stim\": 1, \"Log power\": 2.403025557220247, \"Firing rate\": 252.94468441306202, \"Power\": 252.94468441306202, \"i_spike\": 69.0, \"isi\": 0.049794047278696955}, {\"i_trial\": 2, \"mouse\": \"1\", \"neuron_x_mouse\": \"1m1bayes\", \"stim\": 0, \"Log power\": 1.810306500091477, \"Firing rate\": 64.61100555204213, \"Power\": 64.61100555204213, \"i_spike\": 49.5, \"isi\": 0.06956600461401422}, {\"i_trial\": 2, \"mouse\": \"1\", \"neuron_x_mouse\": \"1m1bayes\", \"stim\": 1, \"Log power\": 2.323071364624157, \"Firing rate\": 210.41241676077223, \"Power\": 210.41241676077223, \"i_spike\": 59.5, \"isi\": 0.05861385820654465}, {\"i_trial\": 3, \"mouse\": \"1\", \"neuron_x_mouse\": \"1m1bayes\", \"stim\": 0, \"Log power\": 1.6723119852965176, \"Firing rate\": 47.02317889770949, \"Power\": 47.02317889770949, \"i_spike\": 46.5, \"isi\": 0.07464142388134247}, {\"i_trial\": 3, \"mouse\": \"1\", \"neuron_x_mouse\": \"1m1bayes\", \"stim\": 1, \"Log power\": 2.0028225112467335, \"Firing rate\": 100.65202371177288, \"Power\": 100.65202371177288, \"i_spike\": 62.5, \"isi\": 0.054991189424254024}, {\"i_trial\": 4, \"mouse\": \"1\", \"neuron_x_mouse\": \"1m1bayes\", \"stim\": 0, \"Log power\": 1.6760631562407269, \"Firing rate\": 47.43109557863229, \"Power\": 47.43109557863229, \"i_spike\": 40.0, \"isi\": 0.08675825321474946}, {\"i_trial\": 4, \"mouse\": \"1\", \"neuron_x_mouse\": \"1m1bayes\", \"stim\": 1, \"Log power\": 3.646606345627168, \"Firing rate\": 4432.067291706442, \"Power\": 4432.067291706442, \"i_spike\": 74.5, \"isi\": 0.047122897280051104}, {\"i_trial\": 5, \"mouse\": \"1\", \"neuron_x_mouse\": \"1m1bayes\", \"stim\": 0, \"Log power\": 1.7744244595123633, \"Firing rate\": 59.48732764532823, \"Power\": 59.48732764532823, \"i_spike\": 45.5, \"isi\": 0.07499862472566898}, {\"i_trial\": 5, \"mouse\": \"1\", \"neuron_x_mouse\": \"1m1bayes\", \"stim\": 1, \"Log power\": 1.6893209142238925, \"Firing rate\": 48.901357379864464, \"Power\": 48.901357379864464, \"i_spike\": 52.0, \"isi\": 0.06696475649704266}, {\"i_trial\": 6, \"mouse\": \"1\", \"neuron_x_mouse\": \"1m1bayes\", \"stim\": 0, \"Log power\": 2.4948193192677173, \"Firing rate\": 312.4779086193012, \"Power\": 312.4779086193012, \"i_spike\": 36.0, \"isi\": 0.0901722608863818}, {\"i_trial\": 6, \"mouse\": \"1\", \"neuron_x_mouse\": \"1m1bayes\", \"stim\": 1, \"Log power\": 2.5266144436705344, \"Firing rate\": 336.21295496507986, \"Power\": 336.21295496507986, \"i_spike\": 77.0, \"isi\": 0.045440100439428525}, {\"i_trial\": 7, \"mouse\": \"1\", \"neuron_x_mouse\": \"1m1bayes\", \"stim\": 0, \"Log power\": 1.709491750390738, \"Firing rate\": 51.22615395452797, \"Power\": 51.22615395452797, \"i_spike\": 40.0, \"isi\": 0.08724048831238611}, {\"i_trial\": 7, \"mouse\": \"1\", \"neuron_x_mouse\": \"1m1bayes\", \"stim\": 1, \"Log power\": 2.8448323911263524, \"Firing rate\": 699.5719555078108, \"Power\": 699.5719555078108, \"i_spike\": 55.0, \"isi\": 0.06242992949163196}, {\"i_trial\": 8, \"mouse\": \"1\", \"neuron_x_mouse\": \"1m1bayes\", \"stim\": 0, \"Log power\": 1.8205727804376102, \"Firing rate\": 66.15653954081996, \"Power\": 66.15653954081996, \"i_spike\": 44.5, \"isi\": 0.07618643832724331}, {\"i_trial\": 8, \"mouse\": \"1\", \"neuron_x_mouse\": \"1m1bayes\", \"stim\": 1, \"Log power\": 2.1795248304026145, \"Firing rate\": 151.1906138785072, \"Power\": 151.1906138785072, \"i_spike\": 56.0, \"isi\": 0.06245115020921509}, {\"i_trial\": 9, \"mouse\": \"1\", \"neuron_x_mouse\": \"1m1bayes\", \"stim\": 0, \"Log power\": 2.029724767570791, \"Firing rate\": 107.08404492029443, \"Power\": 107.08404492029443, \"i_spike\": 48.0, \"isi\": 0.07078963921202192}, {\"i_trial\": 9, \"mouse\": \"1\", \"neuron_x_mouse\": \"1m1bayes\", \"stim\": 1, \"Log power\": 2.2064495839754796, \"Firing rate\": 160.86056285477744, \"Power\": 160.86056285477744, \"i_spike\": 70.0, \"isi\": 0.05011339221528861}, {\"i_trial\": 10, \"mouse\": \"1\", \"neuron_x_mouse\": \"1m1bayes\", \"stim\": 0, \"Log power\": 1.6408675233850933, \"Firing rate\": 43.738866434674975, \"Power\": 43.738866434674975, \"i_spike\": 43.0, \"isi\": 0.08150569017369827}, {\"i_trial\": 10, \"mouse\": \"1\", \"neuron_x_mouse\": \"1m1bayes\", \"stim\": 1, \"Log power\": 2.575356702094275, \"Firing rate\": 376.1462202299655, \"Power\": 376.1462202299655, \"i_spike\": 52.0, \"isi\": 0.06716225075526734}, {\"i_trial\": 11, \"mouse\": \"1\", \"neuron_x_mouse\": \"1m1bayes\", \"stim\": 0, \"Log power\": 1.7141988657715246, \"Firing rate\": 51.78439011673133, \"Power\": 51.78439011673133, \"i_spike\": 49.5, \"isi\": 0.07016962500051908}, {\"i_trial\": 11, \"mouse\": \"1\", \"neuron_x_mouse\": \"1m1bayes\", \"stim\": 1, \"Log power\": 2.2690513352014507, \"Firing rate\": 185.80240673749128, \"Power\": 185.80240673749128, \"i_spike\": 59.0, \"isi\": 0.05958653568573678}, {\"i_trial\": 12, \"mouse\": \"1\", \"neuron_x_mouse\": \"1m1bayes\", \"stim\": 0, \"Log power\": 2.9724485184987652, \"Firing rate\": 938.5307761353381, \"Power\": 938.5307761353381, \"i_spike\": 31.0, \"isi\": 0.11218933238505874}, {\"i_trial\": 12, \"mouse\": \"1\", \"neuron_x_mouse\": \"1m1bayes\", \"stim\": 1, \"Log power\": 2.0561002619612556, \"Firing rate\": 113.78899507080725, \"Power\": 113.78899507080725, \"i_spike\": 64.5, \"isi\": 0.053022042821686446}, {\"i_trial\": 13, \"mouse\": \"1\", \"neuron_x_mouse\": \"1m1bayes\", \"stim\": 0, \"Log power\": 2.023277229501181, \"Firing rate\": 105.50601733535713, \"Power\": 105.50601733535713, \"i_spike\": 49.5, \"isi\": 0.07055619009120755}, {\"i_trial\": 13, \"mouse\": \"1\", \"neuron_x_mouse\": \"1m1bayes\", \"stim\": 1, \"Log power\": 2.0642857085458686, \"Firing rate\": 115.95399297824052, \"Power\": 115.95399297824052, \"i_spike\": 66.0, \"isi\": 0.0525424832735137}, {\"i_trial\": 14, \"mouse\": \"1\", \"neuron_x_mouse\": \"1m1bayes\", \"stim\": 0, \"Log power\": 2.4180924848070036, \"Firing rate\": 261.8740620495256, \"Power\": 261.8740620495256, \"i_spike\": 55.5, \"isi\": 0.0626214938384501}, {\"i_trial\": 14, \"mouse\": \"1\", \"neuron_x_mouse\": \"1m1bayes\", \"stim\": 1, \"Log power\": 1.9242960029463008, \"Firing rate\": 84.00323339433336, \"Power\": 84.00323339433336, \"i_spike\": 67.0, \"isi\": 0.05241681967835532}, {\"i_trial\": 15, \"mouse\": \"1\", \"neuron_x_mouse\": \"1m1bayes\", \"stim\": 0, \"Log power\": 1.790072904067027, \"Firing rate\": 61.66985170071991, \"Power\": 61.66985170071991, \"i_spike\": 51.0, \"isi\": 0.0688162027175775}, {\"i_trial\": 15, \"mouse\": \"1\", \"neuron_x_mouse\": \"1m1bayes\", \"stim\": 1, \"Log power\": 1.8345101481122892, \"Firing rate\": 68.31406806673569, \"Power\": 68.31406806673569, \"i_spike\": 46.0, \"isi\": 0.07487110595474233}, {\"i_trial\": 16, \"mouse\": \"1\", \"neuron_x_mouse\": \"1m1bayes\", \"stim\": 0, \"Log power\": 1.6290428817364522, \"Firing rate\": 42.564043830511345, \"Power\": 42.564043830511345, \"i_spike\": 41.5, \"isi\": 0.08253341643573767}, {\"i_trial\": 16, \"mouse\": \"1\", \"neuron_x_mouse\": \"1m1bayes\", \"stim\": 1, \"Log power\": 2.0041269963749646, \"Firing rate\": 100.95480549196508, \"Power\": 100.95480549196508, \"i_spike\": 54.0, \"isi\": 0.0642407431959282}, {\"i_trial\": 17, \"mouse\": \"1\", \"neuron_x_mouse\": \"1m1bayes\", \"stim\": 0, \"Log power\": 1.8523608178765765, \"Firing rate\": 71.18046452268115, \"Power\": 71.18046452268115, \"i_spike\": 38.5, \"isi\": 0.0917689993171144}, {\"i_trial\": 17, \"mouse\": \"1\", \"neuron_x_mouse\": \"1m1bayes\", \"stim\": 1, \"Log power\": 2.087158581748468, \"Firing rate\": 122.2245879293623, \"Power\": 122.2245879293623, \"i_spike\": 45.0, \"isi\": 0.07634490267788828}, {\"i_trial\": 18, \"mouse\": \"1\", \"neuron_x_mouse\": \"1m1bayes\", \"stim\": 0, \"Log power\": 1.6766103287634617, \"Firing rate\": 47.49089221296333, \"Power\": 47.49089221296333, \"i_spike\": 44.0, \"isi\": 0.0785518749107867}, {\"i_trial\": 18, \"mouse\": \"1\", \"neuron_x_mouse\": \"1m1bayes\", \"stim\": 1, \"Log power\": 1.9183277154361111, \"Firing rate\": 82.85671585854426, \"Power\": 82.85671585854426, \"i_spike\": 79.5, \"isi\": 0.0436585186987409}, {\"i_trial\": 19, \"mouse\": \"1\", \"neuron_x_mouse\": \"1m1bayes\", \"stim\": 0, \"Log power\": 1.6587491019967646, \"Firing rate\": 45.577353312677225, \"Power\": 45.577353312677225, \"i_spike\": 43.0, \"isi\": 0.07879735168727917}, {\"i_trial\": 19, \"mouse\": \"1\", \"neuron_x_mouse\": \"1m1bayes\", \"stim\": 1, \"Log power\": 1.7063312006021836, \"Firing rate\": 50.85471216861666, \"Power\": 50.85471216861666, \"i_spike\": 56.0, \"isi\": 0.06088004387979668}, {\"i_trial\": 20, \"mouse\": \"1\", \"neuron_x_mouse\": \"1m1bayes\", \"stim\": 0, \"Log power\": 1.901697233858744, \"Firing rate\": 79.74385632904999, \"Power\": 79.74385632904999, \"i_spike\": 43.0, \"isi\": 0.07990541674643357}, {\"i_trial\": 20, \"mouse\": \"1\", \"neuron_x_mouse\": \"1m1bayes\", \"stim\": 1, \"Log power\": 1.7111754034853177, \"Firing rate\": 51.42513062091737, \"Power\": 51.42513062091737, \"i_spike\": 53.5, \"isi\": 0.06451590436429692}, {\"i_trial\": 21, \"mouse\": \"1\", \"neuron_x_mouse\": \"1m1bayes\", \"stim\": 0, \"Log power\": 1.7561454500175564, \"Firing rate\": 57.03552585713292, \"Power\": 57.03552585713292, \"i_spike\": 41.5, \"isi\": 0.08290314544827329}, {\"i_trial\": 21, \"mouse\": \"1\", \"neuron_x_mouse\": \"1m1bayes\", \"stim\": 1, \"Log power\": 2.433493782045597, \"Firing rate\": 271.3274804915664, \"Power\": 271.3274804915664, \"i_spike\": 77.5, \"isi\": 0.04511257969311031}, {\"i_trial\": 22, \"mouse\": \"1\", \"neuron_x_mouse\": \"1m1bayes\", \"stim\": 0, \"Log power\": 1.7504907061019421, \"Firing rate\": 56.29770695610387, \"Power\": 56.29770695610387, \"i_spike\": 52.5, \"isi\": 0.06570340059979955}, {\"i_trial\": 22, \"mouse\": \"1\", \"neuron_x_mouse\": \"1m1bayes\", \"stim\": 1, \"Log power\": 1.844517385024176, \"Firing rate\": 69.9064720110418, \"Power\": 69.9064720110418, \"i_spike\": 60.0, \"isi\": 0.05580962631293562}, {\"i_trial\": 23, \"mouse\": \"1\", \"neuron_x_mouse\": \"1m1bayes\", \"stim\": 0, \"Log power\": 1.9538006768904117, \"Firing rate\": 89.90848442623513, \"Power\": 89.90848442623513, \"i_spike\": 44.5, \"isi\": 0.07847102467168673}, {\"i_trial\": 23, \"mouse\": \"1\", \"neuron_x_mouse\": \"1m1bayes\", \"stim\": 1, \"Log power\": 1.7917490668110343, \"Firing rate\": 61.90832684876478, \"Power\": 61.90832684876478, \"i_spike\": 58.0, \"isi\": 0.06029099859845484}, {\"i_trial\": 24, \"mouse\": \"1\", \"neuron_x_mouse\": \"1m1bayes\", \"stim\": 0, \"Log power\": 1.68640969040892, \"Firing rate\": 48.57465116245396, \"Power\": 48.57465116245396, \"i_spike\": 44.0, \"isi\": 0.08025431234189667}, {\"i_trial\": 24, \"mouse\": \"1\", \"neuron_x_mouse\": \"1m1bayes\", \"stim\": 1, \"Log power\": 2.0702302677582023, \"Firing rate\": 117.55206638482886, \"Power\": 117.55206638482886, \"i_spike\": 67.0, \"isi\": 0.05226492198718878}, {\"i_trial\": 25, \"mouse\": \"1\", \"neuron_x_mouse\": \"1m1bayes\", \"stim\": 0, \"Log power\": 1.904986034103167, \"Firing rate\": 80.35002830765374, \"Power\": 80.35002830765374, \"i_spike\": 56.0, \"isi\": 0.060303758790456394}, {\"i_trial\": 25, \"mouse\": \"1\", \"neuron_x_mouse\": \"1m1bayes\", \"stim\": 1, \"Log power\": 2.1900922989896427, \"Firing rate\": 154.91458181237653, \"Power\": 154.91458181237653, \"i_spike\": 61.0, \"isi\": 0.056213907931850486}, {\"i_trial\": 26, \"mouse\": \"1\", \"neuron_x_mouse\": \"1m1bayes\", \"stim\": 0, \"Log power\": 2.0528666146713856, \"Firing rate\": 112.94489725265156, \"Power\": 112.94489725265156, \"i_spike\": 59.0, \"isi\": 0.05694293325745799}, {\"i_trial\": 26, \"mouse\": \"1\", \"neuron_x_mouse\": \"1m1bayes\", \"stim\": 1, \"Log power\": 1.8126033107325479, \"Firing rate\": 64.95361259918802, \"Power\": 64.95361259918802, \"i_spike\": 53.0, \"isi\": 0.0635134377371284}, {\"i_trial\": 27, \"mouse\": \"1\", \"neuron_x_mouse\": \"1m1bayes\", \"stim\": 0, \"Log power\": 1.8912774984868868, \"Firing rate\": 77.85338471528546, \"Power\": 77.85338471528546, \"i_spike\": 41.0, \"isi\": 0.08548741489492409}, {\"i_trial\": 27, \"mouse\": \"1\", \"neuron_x_mouse\": \"1m1bayes\", \"stim\": 1, \"Log power\": 2.2468488813958944, \"Firing rate\": 176.5423410984183, \"Power\": 176.5423410984183, \"i_spike\": 63.5, \"isi\": 0.05401283444073827}, {\"i_trial\": 28, \"mouse\": \"1\", \"neuron_x_mouse\": \"1m1bayes\", \"stim\": 0, \"Log power\": 1.7540632578398923, \"Firing rate\": 56.76272780236963, \"Power\": 56.76272780236963, \"i_spike\": 39.0, \"isi\": 0.08975697359783687}, {\"i_trial\": 28, \"mouse\": \"1\", \"neuron_x_mouse\": \"1m1bayes\", \"stim\": 1, \"Log power\": 2.0934667909383142, \"Firing rate\": 124.0128792948728, \"Power\": 124.0128792948728, \"i_spike\": 69.5, \"isi\": 0.04978942820454191}, {\"i_trial\": 29, \"mouse\": \"1\", \"neuron_x_mouse\": \"1m1bayes\", \"stim\": 0, \"Log power\": 1.8754566965595527, \"Firing rate\": 75.06831998740466, \"Power\": 75.06831998740466, \"i_spike\": 51.5, \"isi\": 0.06648081118677622}, {\"i_trial\": 29, \"mouse\": \"1\", \"neuron_x_mouse\": \"1m1bayes\", \"stim\": 1, \"Log power\": 1.9302237236172726, \"Firing rate\": 85.15766086740571, \"Power\": 85.15766086740571, \"i_spike\": 61.0, \"isi\": 0.05607764044941031}, {\"i_trial\": 0, \"mouse\": \"2\", \"neuron_x_mouse\": \"2m1bayes\", \"stim\": 0, \"Log power\": 1.9181060256411722, \"Firing rate\": 82.81443164420308, \"Power\": 82.81443164420308, \"i_spike\": 51.5, \"isi\": 0.06815238964963752}, {\"i_trial\": 0, \"mouse\": \"2\", \"neuron_x_mouse\": \"2m1bayes\", \"stim\": 1, \"Log power\": 2.018546074387876, \"Firing rate\": 104.36288456473498, \"Power\": 104.36288456473498, \"i_spike\": 83.5, \"isi\": 0.042106154779931335}, {\"i_trial\": 1, \"mouse\": \"2\", \"neuron_x_mouse\": \"2m1bayes\", \"stim\": 0, \"Log power\": 2.309419797888532, \"Firing rate\": 203.9012076019487, \"Power\": 203.9012076019487, \"i_spike\": 60.5, \"isi\": 0.05770983804280434}, {\"i_trial\": 1, \"mouse\": \"2\", \"neuron_x_mouse\": \"2m1bayes\", \"stim\": 1, \"Log power\": 2.949263056431505, \"Firing rate\": 889.7398788549752, \"Power\": 889.7398788549752, \"i_spike\": 52.5, \"isi\": 0.06635172549075877}, {\"i_trial\": 2, \"mouse\": \"2\", \"neuron_x_mouse\": \"2m1bayes\", \"stim\": 0, \"Log power\": 2.3124394801089854, \"Firing rate\": 205.32388831670355, \"Power\": 205.32388831670355, \"i_spike\": 61.0, \"isi\": 0.05762345355157022}, {\"i_trial\": 2, \"mouse\": \"2\", \"neuron_x_mouse\": \"2m1bayes\", \"stim\": 1, \"Log power\": 1.9986448184713261, \"Firing rate\": 99.68844426667305, \"Power\": 99.68844426667305, \"i_spike\": 54.0, \"isi\": 0.06391752713718217}, {\"i_trial\": 3, \"mouse\": \"2\", \"neuron_x_mouse\": \"2m1bayes\", \"stim\": 0, \"Log power\": 1.7988102702801168, \"Firing rate\": 62.92312312942131, \"Power\": 62.92312312942131, \"i_spike\": 52.5, \"isi\": 0.06648128372633252}, {\"i_trial\": 3, \"mouse\": \"2\", \"neuron_x_mouse\": \"2m1bayes\", \"stim\": 1, \"Log power\": 1.8204560128852958, \"Firing rate\": 66.13875460659732, \"Power\": 66.13875460659732, \"i_spike\": 66.0, \"isi\": 0.053063070306236214}, {\"i_trial\": 4, \"mouse\": \"2\", \"neuron_x_mouse\": \"2m1bayes\", \"stim\": 0, \"Log power\": 1.6545645134423057, \"Firing rate\": 45.140307524511655, \"Power\": 45.140307524511655, \"i_spike\": 53.0, \"isi\": 0.06474022029555271}, {\"i_trial\": 4, \"mouse\": \"2\", \"neuron_x_mouse\": \"2m1bayes\", \"stim\": 1, \"Log power\": 2.369120270734925, \"Firing rate\": 233.9485030972436, \"Power\": 233.9485030972436, \"i_spike\": 77.0, \"isi\": 0.04551954692971502}, {\"i_trial\": 5, \"mouse\": \"2\", \"neuron_x_mouse\": \"2m1bayes\", \"stim\": 0, \"Log power\": 2.0885624381229415, \"Firing rate\": 122.62031801227072, \"Power\": 122.62031801227072, \"i_spike\": 60.0, \"isi\": 0.05790501654865011}, {\"i_trial\": 5, \"mouse\": \"2\", \"neuron_x_mouse\": \"2m1bayes\", \"stim\": 1, \"Log power\": 1.9620082665626624, \"Firing rate\": 91.62379300538723, \"Power\": 91.62379300538723, \"i_spike\": 58.0, \"isi\": 0.05835376593313452}, {\"i_trial\": 6, \"mouse\": \"2\", \"neuron_x_mouse\": \"2m1bayes\", \"stim\": 0, \"Log power\": 2.1308839745411183, \"Firing rate\": 135.1711393774058, \"Power\": 135.1711393774058, \"i_spike\": 45.5, \"isi\": 0.07733792603958839}, {\"i_trial\": 6, \"mouse\": \"2\", \"neuron_x_mouse\": \"2m1bayes\", \"stim\": 1, \"Log power\": 2.0670622584974274, \"Firing rate\": 116.69768976131262, \"Power\": 116.69768976131262, \"i_spike\": 64.0, \"isi\": 0.054921761479359815}, {\"i_trial\": 7, \"mouse\": \"2\", \"neuron_x_mouse\": \"2m1bayes\", \"stim\": 0, \"Log power\": 1.9150147067382557, \"Firing rate\": 82.22704944458927, \"Power\": 82.22704944458927, \"i_spike\": 59.0, \"isi\": 0.05875144603378464}, {\"i_trial\": 7, \"mouse\": \"2\", \"neuron_x_mouse\": \"2m1bayes\", \"stim\": 1, \"Log power\": 2.290275667163335, \"Firing rate\": 195.10826508480872, \"Power\": 195.10826508480872, \"i_spike\": 62.0, \"isi\": 0.05622973283649274}, {\"i_trial\": 8, \"mouse\": \"2\", \"neuron_x_mouse\": \"2m1bayes\", \"stim\": 0, \"Log power\": 2.304923352154472, \"Firing rate\": 201.8010177294551, \"Power\": 201.8010177294551, \"i_spike\": 59.0, \"isi\": 0.059290571101179}, {\"i_trial\": 8, \"mouse\": \"2\", \"neuron_x_mouse\": \"2m1bayes\", \"stim\": 1, \"Log power\": 2.2409854400451263, \"Firing rate\": 174.17484793630888, \"Power\": 174.17484793630888, \"i_spike\": 72.5, \"isi\": 0.0463253975492999}, {\"i_trial\": 9, \"mouse\": \"2\", \"neuron_x_mouse\": \"2m1bayes\", \"stim\": 0, \"Log power\": 1.9065398980859305, \"Firing rate\": 80.63802790904748, \"Power\": 80.63802790904748, \"i_spike\": 60.5, \"isi\": 0.05762495082385595}, {\"i_trial\": 9, \"mouse\": \"2\", \"neuron_x_mouse\": \"2m1bayes\", \"stim\": 1, \"Log power\": 2.1007954701281557, \"Firing rate\": 126.1233420060454, \"Power\": 126.1233420060454, \"i_spike\": 55.0, \"isi\": 0.06290488737663213}, {\"i_trial\": 10, \"mouse\": \"2\", \"neuron_x_mouse\": \"2m1bayes\", \"stim\": 0, \"Log power\": 1.729320135921484, \"Firing rate\": 53.619176037412224, \"Power\": 53.619176037412224, \"i_spike\": 49.5, \"isi\": 0.07119627684448841}, {\"i_trial\": 10, \"mouse\": \"2\", \"neuron_x_mouse\": \"2m1bayes\", \"stim\": 1, \"Log power\": 3.6192856405196534, \"Firing rate\": 4161.842497061359, \"Power\": 4161.842497061359, \"i_spike\": 66.0, \"isi\": 0.05314909020822601}, {\"i_trial\": 11, \"mouse\": \"2\", \"neuron_x_mouse\": \"2m1bayes\", \"stim\": 0, \"Log power\": 1.86460675734994, \"Firing rate\": 73.21612794160502, \"Power\": 73.21612794160502, \"i_spike\": 62.5, \"isi\": 0.05525091559143004}, {\"i_trial\": 11, \"mouse\": \"2\", \"neuron_x_mouse\": \"2m1bayes\", \"stim\": 1, \"Log power\": 2.0839561022774857, \"Firing rate\": 121.32662094520164, \"Power\": 121.32662094520164, \"i_spike\": 66.5, \"isi\": 0.05228064748724681}, {\"i_trial\": 12, \"mouse\": \"2\", \"neuron_x_mouse\": \"2m1bayes\", \"stim\": 0, \"Log power\": 2.0039911683611247, \"Firing rate\": 100.92323625223439, \"Power\": 100.92323625223439, \"i_spike\": 55.5, \"isi\": 0.06271771179195162}, {\"i_trial\": 12, \"mouse\": \"2\", \"neuron_x_mouse\": \"2m1bayes\", \"stim\": 1, \"Log power\": 1.8463393142289726, \"Firing rate\": 70.2003559514576, \"Power\": 70.2003559514576, \"i_spike\": 61.0, \"isi\": 0.05701549886079431}, {\"i_trial\": 13, \"mouse\": \"2\", \"neuron_x_mouse\": \"2m1bayes\", \"stim\": 0, \"Log power\": 1.940280429495764, \"Firing rate\": 87.1526163885084, \"Power\": 87.1526163885084, \"i_spike\": 58.0, \"isi\": 0.059638543809893106}, {\"i_trial\": 13, \"mouse\": \"2\", \"neuron_x_mouse\": \"2m1bayes\", \"stim\": 1, \"Log power\": 2.537212409327197, \"Firing rate\": 344.51839025312785, \"Power\": 344.51839025312785, \"i_spike\": 77.0, \"isi\": 0.04409623062403987}, {\"i_trial\": 14, \"mouse\": \"2\", \"neuron_x_mouse\": \"2m1bayes\", \"stim\": 0, \"Log power\": 1.7389307415072914, \"Firing rate\": 54.818953620580594, \"Power\": 54.818953620580594, \"i_spike\": 46.0, \"isi\": 0.07591899910813225}, {\"i_trial\": 14, \"mouse\": \"2\", \"neuron_x_mouse\": \"2m1bayes\", \"stim\": 1, \"Log power\": 2.16201266536505, \"Firing rate\": 145.21539662536227, \"Power\": 145.21539662536227, \"i_spike\": 72.5, \"isi\": 0.048471887498171176}, {\"i_trial\": 15, \"mouse\": \"2\", \"neuron_x_mouse\": \"2m1bayes\", \"stim\": 0, \"Log power\": 1.972312415123987, \"Firing rate\": 93.82366964322442, \"Power\": 93.82366964322442, \"i_spike\": 65.0, \"isi\": 0.05359548817370349}, {\"i_trial\": 15, \"mouse\": \"2\", \"neuron_x_mouse\": \"2m1bayes\", \"stim\": 1, \"Log power\": 2.258222773581769, \"Firing rate\": 181.2269467152886, \"Power\": 181.2269467152886, \"i_spike\": 67.5, \"isi\": 0.05153349037078388}, {\"i_trial\": 16, \"mouse\": \"2\", \"neuron_x_mouse\": \"2m1bayes\", \"stim\": 0, \"Log power\": 2.0603377694876843, \"Firing rate\": 114.90469372642437, \"Power\": 114.90469372642437, \"i_spike\": 67.5, \"isi\": 0.050211076723540624}, {\"i_trial\": 16, \"mouse\": \"2\", \"neuron_x_mouse\": \"2m1bayes\", \"stim\": 1, \"Log power\": 2.211036556981759, \"Firing rate\": 162.56855929884355, \"Power\": 162.56855929884355, \"i_spike\": 59.5, \"isi\": 0.05886319573274918}, {\"i_trial\": 17, \"mouse\": \"2\", \"neuron_x_mouse\": \"2m1bayes\", \"stim\": 0, \"Log power\": 3.2445141848280112, \"Firing rate\": 1755.958245973122, \"Power\": 1755.958245973122, \"i_spike\": 56.0, \"isi\": 0.06266760830206022}, {\"i_trial\": 17, \"mouse\": \"2\", \"neuron_x_mouse\": \"2m1bayes\", \"stim\": 1, \"Log power\": 1.8990404611190566, \"Firing rate\": 79.2575167440785, \"Power\": 79.2575167440785, \"i_spike\": 73.5, \"isi\": 0.04751779584918633}, {\"i_trial\": 18, \"mouse\": \"2\", \"neuron_x_mouse\": \"2m1bayes\", \"stim\": 0, \"Log power\": 2.0746529061746037, \"Firing rate\": 118.75527403969862, \"Power\": 118.75527403969862, \"i_spike\": 48.5, \"isi\": 0.07227860933772466}, {\"i_trial\": 18, \"mouse\": \"2\", \"neuron_x_mouse\": \"2m1bayes\", \"stim\": 1, \"Log power\": 2.3635625287467232, \"Firing rate\": 230.97369857380548, \"Power\": 230.97369857380548, \"i_spike\": 71.0, \"isi\": 0.049475321612282346}, {\"i_trial\": 19, \"mouse\": \"2\", \"neuron_x_mouse\": \"2m1bayes\", \"stim\": 0, \"Log power\": 1.7816766531733799, \"Firing rate\": 60.489034588134714, \"Power\": 60.489034588134714, \"i_spike\": 56.0, \"isi\": 0.062091708644045694}, {\"i_trial\": 19, \"mouse\": \"2\", \"neuron_x_mouse\": \"2m1bayes\", \"stim\": 1, \"Log power\": 2.0288198621931057, \"Firing rate\": 106.86115457793456, \"Power\": 106.86115457793456, \"i_spike\": 68.5, \"isi\": 0.051320430743806565}, {\"i_trial\": 20, \"mouse\": \"2\", \"neuron_x_mouse\": \"2m1bayes\", \"stim\": 0, \"Log power\": 2.2906691278401694, \"Firing rate\": 195.28510872084732, \"Power\": 195.28510872084732, \"i_spike\": 53.5, \"isi\": 0.06454526005499597}, {\"i_trial\": 20, \"mouse\": \"2\", \"neuron_x_mouse\": \"2m1bayes\", \"stim\": 1, \"Log power\": 2.5283292836102227, \"Firing rate\": 337.54313806080665, \"Power\": 337.54313806080665, \"i_spike\": 80.0, \"isi\": 0.0431246404355349}, {\"i_trial\": 21, \"mouse\": \"2\", \"neuron_x_mouse\": \"2m1bayes\", \"stim\": 0, \"Log power\": 2.2476058444326834, \"Firing rate\": 176.85031774057794, \"Power\": 176.85031774057794, \"i_spike\": 54.5, \"isi\": 0.06379956114880764}, {\"i_trial\": 21, \"mouse\": \"2\", \"neuron_x_mouse\": \"2m1bayes\", \"stim\": 1, \"Log power\": 1.8612401666776395, \"Firing rate\": 72.65076081348326, \"Power\": 72.65076081348326, \"i_spike\": 54.5, \"isi\": 0.06362146964489288}, {\"i_trial\": 22, \"mouse\": \"2\", \"neuron_x_mouse\": \"2m1bayes\", \"stim\": 0, \"Log power\": 1.8996154015096085, \"Firing rate\": 79.36251122514112, \"Power\": 79.36251122514112, \"i_spike\": 63.0, \"isi\": 0.05559245395572306}, {\"i_trial\": 22, \"mouse\": \"2\", \"neuron_x_mouse\": \"2m1bayes\", \"stim\": 1, \"Log power\": 2.165748596453986, \"Firing rate\": 146.4699712973768, \"Power\": 146.4699712973768, \"i_spike\": 69.0, \"isi\": 0.04967890314890585}, {\"i_trial\": 23, \"mouse\": \"2\", \"neuron_x_mouse\": \"2m1bayes\", \"stim\": 0, \"Log power\": 2.4793104425660335, \"Firing rate\": 301.5160552390871, \"Power\": 301.5160552390871, \"i_spike\": 50.5, \"isi\": 0.06932793987018304}, {\"i_trial\": 23, \"mouse\": \"2\", \"neuron_x_mouse\": \"2m1bayes\", \"stim\": 1, \"Log power\": 2.042075706237996, \"Firing rate\": 110.17313466719872, \"Power\": 110.17313466719872, \"i_spike\": 79.0, \"isi\": 0.04355074452091265}, {\"i_trial\": 24, \"mouse\": \"2\", \"neuron_x_mouse\": \"2m1bayes\", \"stim\": 0, \"Log power\": 1.6965675191319265, \"Firing rate\": 49.72416731565406, \"Power\": 49.72416731565406, \"i_spike\": 47.5, \"isi\": 0.07400154599362022}, {\"i_trial\": 24, \"mouse\": \"2\", \"neuron_x_mouse\": \"2m1bayes\", \"stim\": 1, \"Log power\": 1.7932217410785565, \"Firing rate\": 62.11861170556223, \"Power\": 62.11861170556223, \"i_spike\": 55.0, \"isi\": 0.06381154957048925}, {\"i_trial\": 25, \"mouse\": \"2\", \"neuron_x_mouse\": \"2m1bayes\", \"stim\": 0, \"Log power\": 2.008294812853444, \"Firing rate\": 101.92830749018003, \"Power\": 101.92830749018003, \"i_spike\": 66.0, \"isi\": 0.053251052437705525}, {\"i_trial\": 25, \"mouse\": \"2\", \"neuron_x_mouse\": \"2m1bayes\", \"stim\": 1, \"Log power\": 2.2106456089746502, \"Firing rate\": 162.42228238467473, \"Power\": 162.42228238467473, \"i_spike\": 66.0, \"isi\": 0.051839313742910106}, {\"i_trial\": 26, \"mouse\": \"2\", \"neuron_x_mouse\": \"2m1bayes\", \"stim\": 0, \"Log power\": 2.0113746363112437, \"Firing rate\": 102.65370681300006, \"Power\": 102.65370681300006, \"i_spike\": 59.0, \"isi\": 0.05968556419475339}, {\"i_trial\": 26, \"mouse\": \"2\", \"neuron_x_mouse\": \"2m1bayes\", \"stim\": 1, \"Log power\": 2.0629323997846494, \"Firing rate\": 115.59323012589081, \"Power\": 115.59323012589081, \"i_spike\": 67.0, \"isi\": 0.05103781848112764}, {\"i_trial\": 27, \"mouse\": \"2\", \"neuron_x_mouse\": \"2m1bayes\", \"stim\": 0, \"Log power\": 1.950322588513664, \"Firing rate\": 89.19131941196625, \"Power\": 89.19131941196625, \"i_spike\": 60.5, \"isi\": 0.056689193644899445}, {\"i_trial\": 27, \"mouse\": \"2\", \"neuron_x_mouse\": \"2m1bayes\", \"stim\": 1, \"Log power\": 2.0359884328403215, \"Firing rate\": 108.63966877409759, \"Power\": 108.63966877409759, \"i_spike\": 65.5, \"isi\": 0.050541006596491696}, {\"i_trial\": 28, \"mouse\": \"2\", \"neuron_x_mouse\": \"2m1bayes\", \"stim\": 0, \"Log power\": 1.9913497959324213, \"Firing rate\": 98.02792186220542, \"Power\": 98.02792186220542, \"i_spike\": 55.5, \"isi\": 0.06266874234938581}, {\"i_trial\": 28, \"mouse\": \"2\", \"neuron_x_mouse\": \"2m1bayes\", \"stim\": 1, \"Log power\": 2.2290384847513933, \"Firing rate\": 169.448794985269, \"Power\": 169.448794985269, \"i_spike\": 77.0, \"isi\": 0.045604060497055204}, {\"i_trial\": 29, \"mouse\": \"2\", \"neuron_x_mouse\": \"2m1bayes\", \"stim\": 0, \"Log power\": 1.9155433647707962, \"Firing rate\": 82.32720374152022, \"Power\": 82.32720374152022, \"i_spike\": 54.5, \"isi\": 0.06258007454225395}, {\"i_trial\": 29, \"mouse\": \"2\", \"neuron_x_mouse\": \"2m1bayes\", \"stim\": 1, \"Log power\": 2.1493927872494343, \"Firing rate\": 141.0563972508061, \"Power\": 141.0563972508061, \"i_spike\": 66.0, \"isi\": 0.05270048741337895}, {\"i_trial\": 0, \"mouse\": \"3\", \"neuron_x_mouse\": \"3m1bayes\", \"stim\": 0, \"Log power\": 1.8325463297611662, \"Firing rate\": 68.00585885718199, \"Power\": 68.00585885718199, \"i_spike\": 55.5, \"isi\": 0.06215519704836116}, {\"i_trial\": 0, \"mouse\": \"3\", \"neuron_x_mouse\": \"3m1bayes\", \"stim\": 1, \"Log power\": 1.9976685970968386, \"Firing rate\": 99.46461297533408, \"Power\": 99.46461297533408, \"i_spike\": 69.0, \"isi\": 0.05027746662472989}, {\"i_trial\": 1, \"mouse\": \"3\", \"neuron_x_mouse\": \"3m1bayes\", \"stim\": 0, \"Log power\": 1.700448367370835, \"Firing rate\": 50.17049285333541, \"Power\": 50.17049285333541, \"i_spike\": 52.0, \"isi\": 0.06675916459451996}, {\"i_trial\": 1, \"mouse\": \"3\", \"neuron_x_mouse\": \"3m1bayes\", \"stim\": 1, \"Log power\": 2.0202285450429245, \"Firing rate\": 104.76797386124771, \"Power\": 104.76797386124771, \"i_spike\": 75.0, \"isi\": 0.04642732002845464}, {\"i_trial\": 2, \"mouse\": \"3\", \"neuron_x_mouse\": \"3m1bayes\", \"stim\": 0, \"Log power\": 1.7913963943889184, \"Firing rate\": 61.85807408731518, \"Power\": 61.85807408731518, \"i_spike\": 52.5, \"isi\": 0.06606729030133317}, {\"i_trial\": 2, \"mouse\": \"3\", \"neuron_x_mouse\": \"3m1bayes\", \"stim\": 1, \"Log power\": 2.1165871785866344, \"Firing rate\": 130.79380629744236, \"Power\": 130.79380629744236, \"i_spike\": 80.0, \"isi\": 0.042985820275689875}, {\"i_trial\": 3, \"mouse\": \"3\", \"neuron_x_mouse\": \"3m1bayes\", \"stim\": 0, \"Log power\": 1.9702824952330724, \"Firing rate\": 93.3861551558004, \"Power\": 93.3861551558004, \"i_spike\": 59.5, \"isi\": 0.05864530470405248}, {\"i_trial\": 3, \"mouse\": \"3\", \"neuron_x_mouse\": \"3m1bayes\", \"stim\": 1, \"Log power\": 2.028473140895932, \"Firing rate\": 106.77587545589998, \"Power\": 106.77587545589998, \"i_spike\": 78.5, \"isi\": 0.0434624103529991}, {\"i_trial\": 4, \"mouse\": \"3\", \"neuron_x_mouse\": \"3m1bayes\", \"stim\": 0, \"Log power\": 1.9517622273124653, \"Firing rate\": 89.48746948085207, \"Power\": 89.48746948085207, \"i_spike\": 56.0, \"isi\": 0.06118183373909489}, {\"i_trial\": 4, \"mouse\": \"3\", \"neuron_x_mouse\": \"3m1bayes\", \"stim\": 1, \"Log power\": 1.923829396498907, \"Firing rate\": 83.9130286988529, \"Power\": 83.9130286988529, \"i_spike\": 77.0, \"isi\": 0.044254808176746936}, {\"i_trial\": 5, \"mouse\": \"3\", \"neuron_x_mouse\": \"3m1bayes\", \"stim\": 0, \"Log power\": 2.0385744775130683, \"Firing rate\": 109.28850308601133, \"Power\": 109.28850308601133, \"i_spike\": 49.0, \"isi\": 0.07174921133708051}, {\"i_trial\": 5, \"mouse\": \"3\", \"neuron_x_mouse\": \"3m1bayes\", \"stim\": 1, \"Log power\": 1.990289118533137, \"Firing rate\": 97.78880039380928, \"Power\": 97.78880039380928, \"i_spike\": 80.5, \"isi\": 0.04187633029277202}, {\"i_trial\": 6, \"mouse\": \"3\", \"neuron_x_mouse\": \"3m1bayes\", \"stim\": 0, \"Log power\": 1.8529285090422978, \"Firing rate\": 71.27356941860306, \"Power\": 71.27356941860306, \"i_spike\": 51.0, \"isi\": 0.06865198839771502}, {\"i_trial\": 6, \"mouse\": \"3\", \"neuron_x_mouse\": \"3m1bayes\", \"stim\": 1, \"Log power\": 1.9390193588122018, \"Firing rate\": 86.89991643321996, \"Power\": 86.89991643321996, \"i_spike\": 70.0, \"isi\": 0.048539305335645044}, {\"i_trial\": 7, \"mouse\": \"3\", \"neuron_x_mouse\": \"3m1bayes\", \"stim\": 0, \"Log power\": 1.8701242612251296, \"Firing rate\": 74.1522376849743, \"Power\": 74.1522376849743, \"i_spike\": 55.0, \"isi\": 0.06048196325477055}, {\"i_trial\": 7, \"mouse\": \"3\", \"neuron_x_mouse\": \"3m1bayes\", \"stim\": 1, \"Log power\": 1.8541862845397867, \"Firing rate\": 71.48028650128437, \"Power\": 71.48028650128437, \"i_spike\": 65.5, \"isi\": 0.053406759388457674}, {\"i_trial\": 8, \"mouse\": \"3\", \"neuron_x_mouse\": \"3m1bayes\", \"stim\": 0, \"Log power\": 2.649320825311691, \"Firing rate\": 445.9855885908311, \"Power\": 445.9855885908311, \"i_spike\": 61.5, \"isi\": 0.05697318998311226}, {\"i_trial\": 8, \"mouse\": \"3\", \"neuron_x_mouse\": \"3m1bayes\", \"stim\": 1, \"Log power\": 2.131115284493148, \"Firing rate\": 135.2431521681898, \"Power\": 135.2431521681898, \"i_spike\": 67.0, \"isi\": 0.052040846397761444}, {\"i_trial\": 9, \"mouse\": \"3\", \"neuron_x_mouse\": \"3m1bayes\", \"stim\": 0, \"Log power\": 1.8118307066073187, \"Firing rate\": 64.83816370503355, \"Power\": 64.83816370503355, \"i_spike\": 58.5, \"isi\": 0.05999504198261339}, {\"i_trial\": 9, \"mouse\": \"3\", \"neuron_x_mouse\": \"3m1bayes\", \"stim\": 1, \"Log power\": 2.3786604224151766, \"Firing rate\": 239.14451391930652, \"Power\": 239.14451391930652, \"i_spike\": 91.5, \"isi\": 0.03817816803701536}, {\"i_trial\": 10, \"mouse\": \"3\", \"neuron_x_mouse\": \"3m1bayes\", \"stim\": 0, \"Log power\": 1.940940173419587, \"Firing rate\": 87.28511198083284, \"Power\": 87.28511198083284, \"i_spike\": 72.5, \"isi\": 0.04853719543919961}, {\"i_trial\": 10, \"mouse\": \"3\", \"neuron_x_mouse\": \"3m1bayes\", \"stim\": 1, \"Log power\": 2.244333006392083, \"Firing rate\": 175.5225850259931, \"Power\": 175.5225850259931, \"i_spike\": 85.5, \"isi\": 0.039867094020145905}, {\"i_trial\": 11, \"mouse\": \"3\", \"neuron_x_mouse\": \"3m1bayes\", \"stim\": 0, \"Log power\": 1.7325645681674482, \"Firing rate\": 54.02124241743482, \"Power\": 54.02124241743482, \"i_spike\": 54.5, \"isi\": 0.06361089162205201}, {\"i_trial\": 11, \"mouse\": \"3\", \"neuron_x_mouse\": \"3m1bayes\", \"stim\": 1, \"Log power\": 2.3144429320342548, \"Firing rate\": 206.27325985021804, \"Power\": 206.27325985021804, \"i_spike\": 85.0, \"isi\": 0.04007861599160412}, {\"i_trial\": 12, \"mouse\": \"3\", \"neuron_x_mouse\": \"3m1bayes\", \"stim\": 0, \"Log power\": 1.9106892843151895, \"Firing rate\": 81.41216128685468, \"Power\": 81.41216128685468, \"i_spike\": 65.0, \"isi\": 0.053779955554504495}, {\"i_trial\": 12, \"mouse\": \"3\", \"neuron_x_mouse\": \"3m1bayes\", \"stim\": 1, \"Log power\": 1.9125500296287608, \"Firing rate\": 81.76172199599873, \"Power\": 81.76172199599873, \"i_spike\": 61.5, \"isi\": 0.05532278072519285}, {\"i_trial\": 13, \"mouse\": \"3\", \"neuron_x_mouse\": \"3m1bayes\", \"stim\": 0, \"Log power\": 2.3845425752144265, \"Firing rate\": 242.40555904796298, \"Power\": 242.40555904796298, \"i_spike\": 61.5, \"isi\": 0.05662217632218913}, {\"i_trial\": 13, \"mouse\": \"3\", \"neuron_x_mouse\": \"3m1bayes\", \"stim\": 1, \"Log power\": 1.9978568010298312, \"Firing rate\": 99.50772586036739, \"Power\": 99.50772586036739, \"i_spike\": 77.0, \"isi\": 0.045351643173789445}, {\"i_trial\": 14, \"mouse\": \"3\", \"neuron_x_mouse\": \"3m1bayes\", \"stim\": 0, \"Log power\": 1.8394092521494065, \"Firing rate\": 69.08905495294515, \"Power\": 69.08905495294515, \"i_spike\": 59.0, \"isi\": 0.05917473029224653}, {\"i_trial\": 14, \"mouse\": \"3\", \"neuron_x_mouse\": \"3m1bayes\", \"stim\": 1, \"Log power\": 2.117717096143435, \"Firing rate\": 131.13453969626565, \"Power\": 131.13453969626565, \"i_spike\": 80.0, \"isi\": 0.04367261842881739}, {\"i_trial\": 15, \"mouse\": \"3\", \"neuron_x_mouse\": \"3m1bayes\", \"stim\": 0, \"Log power\": 2.322184763177325, \"Firing rate\": 209.98330317584004, \"Power\": 209.98330317584004, \"i_spike\": 66.5, \"isi\": 0.0526928338366183}, {\"i_trial\": 15, \"mouse\": \"3\", \"neuron_x_mouse\": \"3m1bayes\", \"stim\": 1, \"Log power\": 2.2317345149761483, \"Firing rate\": 170.50397763762135, \"Power\": 170.50397763762135, \"i_spike\": 72.5, \"isi\": 0.04697500903527002}, {\"i_trial\": 16, \"mouse\": \"3\", \"neuron_x_mouse\": \"3m1bayes\", \"stim\": 0, \"Log power\": 2.0065747129676463, \"Firing rate\": 101.52540087080571, \"Power\": 101.52540087080571, \"i_spike\": 62.5, \"isi\": 0.05583498962081577}, {\"i_trial\": 16, \"mouse\": \"3\", \"neuron_x_mouse\": \"3m1bayes\", \"stim\": 1, \"Log power\": 2.024891331328123, \"Firing rate\": 105.89887130704494, \"Power\": 105.89887130704494, \"i_spike\": 67.5, \"isi\": 0.04975169677116183}, {\"i_trial\": 17, \"mouse\": \"3\", \"neuron_x_mouse\": \"3m1bayes\", \"stim\": 0, \"Log power\": 2.506597806187793, \"Firing rate\": 321.0685791936605, \"Power\": 321.0685791936605, \"i_spike\": 59.5, \"isi\": 0.058982941586889714}, {\"i_trial\": 17, \"mouse\": \"3\", \"neuron_x_mouse\": \"3m1bayes\", \"stim\": 1, \"Log power\": 2.060713533095414, \"Firing rate\": 115.00415547051082, \"Power\": 115.00415547051082, \"i_spike\": 76.5, \"isi\": 0.04514389527844118}, {\"i_trial\": 18, \"mouse\": \"3\", \"neuron_x_mouse\": \"3m1bayes\", \"stim\": 0, \"Log power\": 3.293487705336002, \"Firing rate\": 1965.5663355727668, \"Power\": 1965.5663355727668, \"i_spike\": 65.0, \"isi\": 0.053735967679059415}, {\"i_trial\": 18, \"mouse\": \"3\", \"neuron_x_mouse\": \"3m1bayes\", \"stim\": 1, \"Log power\": 2.168154570396605, \"Firing rate\": 147.28366086329, \"Power\": 147.28366086329, \"i_spike\": 78.5, \"isi\": 0.044363842039170966}, {\"i_trial\": 19, \"mouse\": \"3\", \"neuron_x_mouse\": \"3m1bayes\", \"stim\": 0, \"Log power\": 1.9673787576404613, \"Firing rate\": 92.76384843516824, \"Power\": 92.76384843516824, \"i_spike\": 47.5, \"isi\": 0.0726962024653922}, {\"i_trial\": 19, \"mouse\": \"3\", \"neuron_x_mouse\": \"3m1bayes\", \"stim\": 1, \"Log power\": 2.253312385634597, \"Firing rate\": 179.18942903146032, \"Power\": 179.18942903146032, \"i_spike\": 73.0, \"isi\": 0.04770320936964491}, {\"i_trial\": 20, \"mouse\": \"3\", \"neuron_x_mouse\": \"3m1bayes\", \"stim\": 0, \"Log power\": 2.1680242232967615, \"Firing rate\": 147.2394624722534, \"Power\": 147.2394624722534, \"i_spike\": 60.5, \"isi\": 0.056462373044229665}, {\"i_trial\": 20, \"mouse\": \"3\", \"neuron_x_mouse\": \"3m1bayes\", \"stim\": 1, \"Log power\": 2.3186524127251777, \"Firing rate\": 208.28232297665915, \"Power\": 208.28232297665915, \"i_spike\": 72.5, \"isi\": 0.048324822502450154}, {\"i_trial\": 21, \"mouse\": \"3\", \"neuron_x_mouse\": \"3m1bayes\", \"stim\": 0, \"Log power\": 1.9008645834479778, \"Firing rate\": 79.59111401548843, \"Power\": 79.59111401548843, \"i_spike\": 56.5, \"isi\": 0.061557240188319894}, {\"i_trial\": 21, \"mouse\": \"3\", \"neuron_x_mouse\": \"3m1bayes\", \"stim\": 1, \"Log power\": 2.4988572180265582, \"Firing rate\": 315.3967530429729, \"Power\": 315.3967530429729, \"i_spike\": 76.5, \"isi\": 0.045365074440076335}, {\"i_trial\": 22, \"mouse\": \"3\", \"neuron_x_mouse\": \"3m1bayes\", \"stim\": 0, \"Log power\": 2.3414846907629987, \"Firing rate\": 219.52535632857214, \"Power\": 219.52535632857214, \"i_spike\": 49.5, \"isi\": 0.07041005676614177}, {\"i_trial\": 22, \"mouse\": \"3\", \"neuron_x_mouse\": \"3m1bayes\", \"stim\": 1, \"Log power\": 2.1827715232677125, \"Firing rate\": 152.3251180143819, \"Power\": 152.3251180143819, \"i_spike\": 78.5, \"isi\": 0.0439599375102075}, {\"i_trial\": 23, \"mouse\": \"3\", \"neuron_x_mouse\": \"3m1bayes\", \"stim\": 0, \"Log power\": 2.170423089989334, \"Firing rate\": 148.0550038713412, \"Power\": 148.0550038713412, \"i_spike\": 63.0, \"isi\": 0.053517780020565515}, {\"i_trial\": 23, \"mouse\": \"3\", \"neuron_x_mouse\": \"3m1bayes\", \"stim\": 1, \"Log power\": 1.987316530610234, \"Firing rate\": 97.12175702668944, \"Power\": 97.12175702668944, \"i_spike\": 73.5, \"isi\": 0.04749345870101343}, {\"i_trial\": 24, \"mouse\": \"3\", \"neuron_x_mouse\": \"3m1bayes\", \"stim\": 0, \"Log power\": 1.9659014812705704, \"Firing rate\": 92.4488432021486, \"Power\": 92.4488432021486, \"i_spike\": 61.0, \"isi\": 0.05758172392436868}, {\"i_trial\": 24, \"mouse\": \"3\", \"neuron_x_mouse\": \"3m1bayes\", \"stim\": 1, \"Log power\": 2.6465890623290576, \"Firing rate\": 443.18909154934073, \"Power\": 443.18909154934073, \"i_spike\": 68.0, \"isi\": 0.05082316531490412}, {\"i_trial\": 25, \"mouse\": \"3\", \"neuron_x_mouse\": \"3m1bayes\", \"stim\": 0, \"Log power\": 3.341218361046781, \"Firing rate\": 2193.9077436892844, \"Power\": 2193.9077436892844, \"i_spike\": 59.5, \"isi\": 0.058107691972198616}, {\"i_trial\": 25, \"mouse\": \"3\", \"neuron_x_mouse\": \"3m1bayes\", \"stim\": 1, \"Log power\": 2.0830431764198876, \"Firing rate\": 121.07184940289758, \"Power\": 121.07184940289758, \"i_spike\": 77.5, \"isi\": 0.04513784713772521}, {\"i_trial\": 26, \"mouse\": \"3\", \"neuron_x_mouse\": \"3m1bayes\", \"stim\": 0, \"Log power\": 2.547180155143695, \"Firing rate\": 352.51707274694485, \"Power\": 352.51707274694485, \"i_spike\": 65.5, \"isi\": 0.051821107315707986}, {\"i_trial\": 26, \"mouse\": \"3\", \"neuron_x_mouse\": \"3m1bayes\", \"stim\": 1, \"Log power\": 1.9876017258014076, \"Firing rate\": 97.1855564896597, \"Power\": 97.1855564896597, \"i_spike\": 82.0, \"isi\": 0.04221699295209715}, {\"i_trial\": 27, \"mouse\": \"3\", \"neuron_x_mouse\": \"3m1bayes\", \"stim\": 0, \"Log power\": 2.0772047837900787, \"Firing rate\": 119.45512409433417, \"Power\": 119.45512409433417, \"i_spike\": 57.5, \"isi\": 0.060271007289913574}, {\"i_trial\": 27, \"mouse\": \"3\", \"neuron_x_mouse\": \"3m1bayes\", \"stim\": 1, \"Log power\": 2.0997174239134844, \"Firing rate\": 125.81065514973179, \"Power\": 125.81065514973179, \"i_spike\": 72.0, \"isi\": 0.04765741140230473}, {\"i_trial\": 28, \"mouse\": \"3\", \"neuron_x_mouse\": \"3m1bayes\", \"stim\": 0, \"Log power\": 2.2276266791294512, \"Firing rate\": 168.8988447795564, \"Power\": 168.8988447795564, \"i_spike\": 52.5, \"isi\": 0.06682114984515057}, {\"i_trial\": 28, \"mouse\": \"3\", \"neuron_x_mouse\": \"3m1bayes\", \"stim\": 1, \"Log power\": 2.2976730808776447, \"Firing rate\": 198.46004289048133, \"Power\": 198.46004289048133, \"i_spike\": 86.5, \"isi\": 0.040475962095395925}, {\"i_trial\": 29, \"mouse\": \"3\", \"neuron_x_mouse\": \"3m1bayes\", \"stim\": 0, \"Log power\": 1.84748645585222, \"Firing rate\": 70.38602766185, \"Power\": 70.38602766185, \"i_spike\": 59.5, \"isi\": 0.058967478939390444}, {\"i_trial\": 29, \"mouse\": \"3\", \"neuron_x_mouse\": \"3m1bayes\", \"stim\": 1, \"Log power\": 4.510425189172217, \"Firing rate\": 32391.06213369127, \"Power\": 32391.06213369127, \"i_spike\": 86.0, \"isi\": 0.0406147268619902}, {\"i_trial\": 0, \"mouse\": \"4\", \"neuron_x_mouse\": \"4m1bayes\", \"stim\": 0, \"Log power\": 1.9562376213282204, \"Firing rate\": 90.4144034788369, \"Power\": 90.4144034788369, \"i_spike\": 62.5, \"isi\": 0.05619224243327517}, {\"i_trial\": 0, \"mouse\": \"4\", \"neuron_x_mouse\": \"4m1bayes\", \"stim\": 1, \"Log power\": 2.101100481619146, \"Firing rate\": 126.21195142214849, \"Power\": 126.21195142214849, \"i_spike\": 81.0, \"isi\": 0.043130801102305404}, {\"i_trial\": 1, \"mouse\": \"4\", \"neuron_x_mouse\": \"4m1bayes\", \"stim\": 0, \"Log power\": 1.9879853942743735, \"Firing rate\": 97.27145099370695, \"Power\": 97.27145099370695, \"i_spike\": 68.0, \"isi\": 0.051567856091946904}, {\"i_trial\": 1, \"mouse\": \"4\", \"neuron_x_mouse\": \"4m1bayes\", \"stim\": 1, \"Log power\": 2.286108476135081, \"Firing rate\": 193.24509357009435, \"Power\": 193.24509357009435, \"i_spike\": 87.5, \"isi\": 0.03959909146867693}, {\"i_trial\": 2, \"mouse\": \"4\", \"neuron_x_mouse\": \"4m1bayes\", \"stim\": 0, \"Log power\": 2.670590342469437, \"Firing rate\": 468.37137242631485, \"Power\": 468.37137242631485, \"i_spike\": 75.0, \"isi\": 0.04613776677181001}, {\"i_trial\": 2, \"mouse\": \"4\", \"neuron_x_mouse\": \"4m1bayes\", \"stim\": 1, \"Log power\": 2.0304882800624062, \"Firing rate\": 107.27246987314537, \"Power\": 107.27246987314537, \"i_spike\": 74.5, \"isi\": 0.04664032260717652}, {\"i_trial\": 3, \"mouse\": \"4\", \"neuron_x_mouse\": \"4m1bayes\", \"stim\": 0, \"Log power\": 2.1956645742227865, \"Firing rate\": 156.91504085387254, \"Power\": 156.91504085387254, \"i_spike\": 76.5, \"isi\": 0.045960254969104004}, {\"i_trial\": 3, \"mouse\": \"4\", \"neuron_x_mouse\": \"4m1bayes\", \"stim\": 1, \"Log power\": 2.3047341548752165, \"Firing rate\": 201.71312370860707, \"Power\": 201.71312370860707, \"i_spike\": 72.0, \"isi\": 0.04880371545814676}, {\"i_trial\": 4, \"mouse\": \"4\", \"neuron_x_mouse\": \"4m1bayes\", \"stim\": 0, \"Log power\": 2.2092906168473028, \"Firing rate\": 161.9163170654468, \"Power\": 161.9163170654468, \"i_spike\": 70.0, \"isi\": 0.04937420863169022}, {\"i_trial\": 4, \"mouse\": \"4\", \"neuron_x_mouse\": \"4m1bayes\", \"stim\": 1, \"Log power\": 2.2109728352269307, \"Firing rate\": 162.54470821536322, \"Power\": 162.54470821536322, \"i_spike\": 80.0, \"isi\": 0.041933044399713015}, {\"i_trial\": 5, \"mouse\": \"4\", \"neuron_x_mouse\": \"4m1bayes\", \"stim\": 0, \"Log power\": 2.0137363878205248, \"Firing rate\": 103.21347206729845, \"Power\": 103.21347206729845, \"i_spike\": 83.5, \"isi\": 0.041796968477122595}, {\"i_trial\": 5, \"mouse\": \"4\", \"neuron_x_mouse\": \"4m1bayes\", \"stim\": 1, \"Log power\": 2.2509441594701745, \"Firing rate\": 178.2149608247226, \"Power\": 178.2149608247226, \"i_spike\": 76.0, \"isi\": 0.045727617294242545}, {\"i_trial\": 6, \"mouse\": \"4\", \"neuron_x_mouse\": \"4m1bayes\", \"stim\": 0, \"Log power\": 2.001744310699474, \"Firing rate\": 100.4024500453739, \"Power\": 100.4024500453739, \"i_spike\": 74.5, \"isi\": 0.04682112707966867}, {\"i_trial\": 6, \"mouse\": \"4\", \"neuron_x_mouse\": \"4m1bayes\", \"stim\": 1, \"Log power\": 2.1792368546614793, \"Firing rate\": 151.09039432955012, \"Power\": 151.09039432955012, \"i_spike\": 78.0, \"isi\": 0.04315874307461282}, {\"i_trial\": 7, \"mouse\": \"4\", \"neuron_x_mouse\": \"4m1bayes\", \"stim\": 0, \"Log power\": 1.9702495730206038, \"Firing rate\": 93.3790761749715, \"Power\": 93.3790761749715, \"i_spike\": 70.5, \"isi\": 0.049295817582384424}, {\"i_trial\": 7, \"mouse\": \"4\", \"neuron_x_mouse\": \"4m1bayes\", \"stim\": 1, \"Log power\": 1.9287942063700145, \"Firing rate\": 84.87781799540653, \"Power\": 84.87781799540653, \"i_spike\": 93.5, \"isi\": 0.03744089911436355}, {\"i_trial\": 8, \"mouse\": \"4\", \"neuron_x_mouse\": \"4m1bayes\", \"stim\": 0, \"Log power\": 2.4343012586516743, \"Firing rate\": 271.83242449681, \"Power\": 271.83242449681, \"i_spike\": 74.0, \"isi\": 0.04717995265486207}, {\"i_trial\": 8, \"mouse\": \"4\", \"neuron_x_mouse\": \"4m1bayes\", \"stim\": 1, \"Log power\": 2.0317153911963945, \"Firing rate\": 107.57599983366845, \"Power\": 107.57599983366845, \"i_spike\": 77.5, \"isi\": 0.044659180291260946}, {\"i_trial\": 9, \"mouse\": \"4\", \"neuron_x_mouse\": \"4m1bayes\", \"stim\": 0, \"Log power\": 2.538619816825685, \"Firing rate\": 345.6366735866343, \"Power\": 345.6366735866343, \"i_spike\": 69.0, \"isi\": 0.04987060719026462}, {\"i_trial\": 9, \"mouse\": \"4\", \"neuron_x_mouse\": \"4m1bayes\", \"stim\": 1, \"Log power\": 2.125912650757204, \"Firing rate\": 133.63267153735805, \"Power\": 133.63267153735805, \"i_spike\": 94.0, \"isi\": 0.03672666424493816}, {\"i_trial\": 10, \"mouse\": \"4\", \"neuron_x_mouse\": \"4m1bayes\", \"stim\": 0, \"Log power\": 1.938338755894728, \"Firing rate\": 86.76383822038058, \"Power\": 86.76383822038058, \"i_spike\": 69.5, \"isi\": 0.05026671782717742}, {\"i_trial\": 10, \"mouse\": \"4\", \"neuron_x_mouse\": \"4m1bayes\", \"stim\": 1, \"Log power\": 2.4037954362884326, \"Firing rate\": 253.3934801824164, \"Power\": 253.3934801824164, \"i_spike\": 93.5, \"isi\": 0.03762314656073208}, {\"i_trial\": 11, \"mouse\": \"4\", \"neuron_x_mouse\": \"4m1bayes\", \"stim\": 0, \"Log power\": 2.2651317064341634, \"Firing rate\": 184.1330328346895, \"Power\": 184.1330328346895, \"i_spike\": 80.0, \"isi\": 0.043541966250593075}, {\"i_trial\": 11, \"mouse\": \"4\", \"neuron_x_mouse\": \"4m1bayes\", \"stim\": 1, \"Log power\": 2.1657795065980903, \"Firing rate\": 146.48039641035572, \"Power\": 146.48039641035572, \"i_spike\": 82.5, \"isi\": 0.04208207477896089}, {\"i_trial\": 12, \"mouse\": \"4\", \"neuron_x_mouse\": \"4m1bayes\", \"stim\": 0, \"Log power\": 3.039846463149008, \"Firing rate\": 1096.090624895018, \"Power\": 1096.090624895018, \"i_spike\": 64.5, \"isi\": 0.054368230627345186}, {\"i_trial\": 12, \"mouse\": \"4\", \"neuron_x_mouse\": \"4m1bayes\", \"stim\": 1, \"Log power\": 2.1847508373308697, \"Firing rate\": 153.02093007990325, \"Power\": 153.02093007990325, \"i_spike\": 75.0, \"isi\": 0.046055579798738776}, {\"i_trial\": 13, \"mouse\": \"4\", \"neuron_x_mouse\": \"4m1bayes\", \"stim\": 0, \"Log power\": 2.3967702930483537, \"Firing rate\": 249.32756352700292, \"Power\": 249.32756352700292, \"i_spike\": 67.5, \"isi\": 0.05167915910600714}, {\"i_trial\": 13, \"mouse\": \"4\", \"neuron_x_mouse\": \"4m1bayes\", \"stim\": 1, \"Log power\": 2.6172631692489285, \"Firing rate\": 414.25062205825833, \"Power\": 414.25062205825833, \"i_spike\": 93.0, \"isi\": 0.03618612909330755}, {\"i_trial\": 14, \"mouse\": \"4\", \"neuron_x_mouse\": \"4m1bayes\", \"stim\": 0, \"Log power\": 1.901163907452833, \"Firing rate\": 79.6459886309678, \"Power\": 79.6459886309678, \"i_spike\": 66.0, \"isi\": 0.05183027134442725}, {\"i_trial\": 14, \"mouse\": \"4\", \"neuron_x_mouse\": \"4m1bayes\", \"stim\": 1, \"Log power\": 2.305602163086689, \"Firing rate\": 202.11668337434807, \"Power\": 202.11668337434807, \"i_spike\": 102.0, \"isi\": 0.03413637220489317}, {\"i_trial\": 15, \"mouse\": \"4\", \"neuron_x_mouse\": \"4m1bayes\", \"stim\": 0, \"Log power\": 2.3291380129548584, \"Firing rate\": 213.37228738962216, \"Power\": 213.37228738962216, \"i_spike\": 77.5, \"isi\": 0.044877663451290774}, {\"i_trial\": 15, \"mouse\": \"4\", \"neuron_x_mouse\": \"4m1bayes\", \"stim\": 1, \"Log power\": 2.2755228845506035, \"Firing rate\": 188.59183427463276, \"Power\": 188.59183427463276, \"i_spike\": 76.5, \"isi\": 0.04396809620874814}, {\"i_trial\": 16, \"mouse\": \"4\", \"neuron_x_mouse\": \"4m1bayes\", \"stim\": 0, \"Log power\": 2.353947039476504, \"Firing rate\": 225.91602576128312, \"Power\": 225.91602576128312, \"i_spike\": 62.5, \"isi\": 0.05456273852987356}, {\"i_trial\": 16, \"mouse\": \"4\", \"neuron_x_mouse\": \"4m1bayes\", \"stim\": 1, \"Log power\": 2.126201600891653, \"Firing rate\": 133.72161125030243, \"Power\": 133.72161125030243, \"i_spike\": 77.5, \"isi\": 0.04396021940619256}, {\"i_trial\": 17, \"mouse\": \"4\", \"neuron_x_mouse\": \"4m1bayes\", \"stim\": 0, \"Log power\": 2.0436416254724743, \"Firing rate\": 110.57109881481709, \"Power\": 110.57109881481709, \"i_spike\": 62.5, \"isi\": 0.05605708181547205}, {\"i_trial\": 17, \"mouse\": \"4\", \"neuron_x_mouse\": \"4m1bayes\", \"stim\": 1, \"Log power\": 2.212783087489873, \"Firing rate\": 163.22365082213952, \"Power\": 163.22365082213952, \"i_spike\": 78.0, \"isi\": 0.04422515370023566}, {\"i_trial\": 18, \"mouse\": \"4\", \"neuron_x_mouse\": \"4m1bayes\", \"stim\": 0, \"Log power\": 2.0135928713971607, \"Firing rate\": 103.17936990453734, \"Power\": 103.17936990453734, \"i_spike\": 74.5, \"isi\": 0.04587078217610362}, {\"i_trial\": 18, \"mouse\": \"4\", \"neuron_x_mouse\": \"4m1bayes\", \"stim\": 1, \"Log power\": 2.0883029727594415, \"Firing rate\": 122.54708147671444, \"Power\": 122.54708147671444, \"i_spike\": 83.0, \"isi\": 0.041652551651917814}, {\"i_trial\": 19, \"mouse\": \"4\", \"neuron_x_mouse\": \"4m1bayes\", \"stim\": 0, \"Log power\": 2.0115339719275194, \"Firing rate\": 102.69137570619202, \"Power\": 102.69137570619202, \"i_spike\": 66.0, \"isi\": 0.05235562045293119}, {\"i_trial\": 19, \"mouse\": \"4\", \"neuron_x_mouse\": \"4m1bayes\", \"stim\": 1, \"Log power\": 2.3078959087545163, \"Firing rate\": 203.18699561122025, \"Power\": 203.18699561122025, \"i_spike\": 81.0, \"isi\": 0.042467977085649394}, {\"i_trial\": 20, \"mouse\": \"4\", \"neuron_x_mouse\": \"4m1bayes\", \"stim\": 0, \"Log power\": 1.808656285933241, \"Firing rate\": 64.36596517510401, \"Power\": 64.36596517510401, \"i_spike\": 66.0, \"isi\": 0.052119384507608675}, {\"i_trial\": 20, \"mouse\": \"4\", \"neuron_x_mouse\": \"4m1bayes\", \"stim\": 1, \"Log power\": 2.189282953745746, \"Firing rate\": 154.6261539595899, \"Power\": 154.6261539595899, \"i_spike\": 88.0, \"isi\": 0.03949292049513779}, {\"i_trial\": 21, \"mouse\": \"4\", \"neuron_x_mouse\": \"4m1bayes\", \"stim\": 0, \"Log power\": 1.9211091506331301, \"Firing rate\": 83.38907388942967, \"Power\": 83.38907388942967, \"i_spike\": 69.5, \"isi\": 0.0497894798268407}, {\"i_trial\": 21, \"mouse\": \"4\", \"neuron_x_mouse\": \"4m1bayes\", \"stim\": 1, \"Log power\": 2.1556508982779463, \"Firing rate\": 143.10371170605137, \"Power\": 143.10371170605137, \"i_spike\": 76.5, \"isi\": 0.044394745858995964}, {\"i_trial\": 22, \"mouse\": \"4\", \"neuron_x_mouse\": \"4m1bayes\", \"stim\": 0, \"Log power\": 2.033363794484195, \"Firing rate\": 107.98508997570244, \"Power\": 107.98508997570244, \"i_spike\": 77.0, \"isi\": 0.045692066089910374}, {\"i_trial\": 22, \"mouse\": \"4\", \"neuron_x_mouse\": \"4m1bayes\", \"stim\": 1, \"Log power\": 2.1576293251922425, \"Firing rate\": 143.75710727876148, \"Power\": 143.75710727876148, \"i_spike\": 74.0, \"isi\": 0.04625592713471723}, {\"i_trial\": 23, \"mouse\": \"4\", \"neuron_x_mouse\": \"4m1bayes\", \"stim\": 0, \"Log power\": 1.945375499883847, \"Firing rate\": 88.18109752849524, \"Power\": 88.18109752849524, \"i_spike\": 79.0, \"isi\": 0.04426788998779406}, {\"i_trial\": 23, \"mouse\": \"4\", \"neuron_x_mouse\": \"4m1bayes\", \"stim\": 1, \"Log power\": 2.2709668182274267, \"Firing rate\": 186.62370976790146, \"Power\": 186.62370976790146, \"i_spike\": 78.0, \"isi\": 0.044917888494994236}, {\"i_trial\": 24, \"mouse\": \"4\", \"neuron_x_mouse\": \"4m1bayes\", \"stim\": 0, \"Log power\": 1.8861667755437284, \"Firing rate\": 76.94258545391129, \"Power\": 76.94258545391129, \"i_spike\": 60.5, \"isi\": 0.057467758730370244}, {\"i_trial\": 24, \"mouse\": \"4\", \"neuron_x_mouse\": \"4m1bayes\", \"stim\": 1, \"Log power\": 2.3809882645133063, \"Firing rate\": 240.42978302972193, \"Power\": 240.42978302972193, \"i_spike\": 79.0, \"isi\": 0.04456433276046352}, {\"i_trial\": 25, \"mouse\": \"4\", \"neuron_x_mouse\": \"4m1bayes\", \"stim\": 0, \"Log power\": 2.0077075751530327, \"Firing rate\": 101.79057676151989, \"Power\": 101.79057676151989, \"i_spike\": 63.0, \"isi\": 0.05551447912338563}, {\"i_trial\": 25, \"mouse\": \"4\", \"neuron_x_mouse\": \"4m1bayes\", \"stim\": 1, \"Log power\": 2.2237597727358485, \"Firing rate\": 167.4016648089853, \"Power\": 167.4016648089853, \"i_spike\": 98.0, \"isi\": 0.03492033596442143}, {\"i_trial\": 26, \"mouse\": \"4\", \"neuron_x_mouse\": \"4m1bayes\", \"stim\": 0, \"Log power\": 2.1330648420660574, \"Firing rate\": 135.85162638673134, \"Power\": 135.85162638673134, \"i_spike\": 72.0, \"isi\": 0.04855180219989447}, {\"i_trial\": 26, \"mouse\": \"4\", \"neuron_x_mouse\": \"4m1bayes\", \"stim\": 1, \"Log power\": 2.2856389234271437, \"Firing rate\": 193.036272768223, \"Power\": 193.036272768223, \"i_spike\": 83.0, \"isi\": 0.041054288389576504}, {\"i_trial\": 27, \"mouse\": \"4\", \"neuron_x_mouse\": \"4m1bayes\", \"stim\": 0, \"Log power\": 2.5133678530763186, \"Firing rate\": 326.11280584256735, \"Power\": 326.11280584256735, \"i_spike\": 85.0, \"isi\": 0.04105947656381099}, {\"i_trial\": 27, \"mouse\": \"4\", \"neuron_x_mouse\": \"4m1bayes\", \"stim\": 1, \"Log power\": 2.871289395654867, \"Firing rate\": 743.5144197324223, \"Power\": 743.5144197324223, \"i_spike\": 90.5, \"isi\": 0.03871071379240329}, {\"i_trial\": 28, \"mouse\": \"4\", \"neuron_x_mouse\": \"4m1bayes\", \"stim\": 0, \"Log power\": 2.24060071131547, \"Firing rate\": 174.0206198758278, \"Power\": 174.0206198758278, \"i_spike\": 66.0, \"isi\": 0.05227571935507149}, {\"i_trial\": 28, \"mouse\": \"4\", \"neuron_x_mouse\": \"4m1bayes\", \"stim\": 1, \"Log power\": 2.278788942482773, \"Firing rate\": 190.01546223632593, \"Power\": 190.01546223632593, \"i_spike\": 91.5, \"isi\": 0.03816784530921738}, {\"i_trial\": 29, \"mouse\": \"4\", \"neuron_x_mouse\": \"4m1bayes\", \"stim\": 0, \"Log power\": 2.0810323250093212, \"Firing rate\": 120.5125635841836, \"Power\": 120.5125635841836, \"i_spike\": 70.0, \"isi\": 0.049935693506674955}, {\"i_trial\": 29, \"mouse\": \"4\", \"neuron_x_mouse\": \"4m1bayes\", \"stim\": 1, \"Log power\": 2.0300147692063115, \"Firing rate\": 107.15557453938523, \"Power\": 107.15557453938523, \"i_spike\": 83.5, \"isi\": 0.04134750160219224}, {\"i_trial\": 0, \"mouse\": \"5\", \"neuron_x_mouse\": \"5m1bayes\", \"stim\": 0, \"Log power\": 2.0719476287203507, \"Firing rate\": 118.01783101612855, \"Power\": 118.01783101612855, \"i_spike\": 84.0, \"isi\": 0.041665976142422644}, {\"i_trial\": 0, \"mouse\": \"5\", \"neuron_x_mouse\": \"5m1bayes\", \"stim\": 1, \"Log power\": 2.8243833488339662, \"Firing rate\": 667.3956149350557, \"Power\": 667.3956149350557, \"i_spike\": 101.0, \"isi\": 0.03404565956922121}, {\"i_trial\": 1, \"mouse\": \"5\", \"neuron_x_mouse\": \"5m1bayes\", \"stim\": 0, \"Log power\": 2.325041990662162, \"Firing rate\": 211.36933967843993, \"Power\": 211.36933967843993, \"i_spike\": 82.5, \"isi\": 0.042329446576389186}, {\"i_trial\": 1, \"mouse\": \"5\", \"neuron_x_mouse\": \"5m1bayes\", \"stim\": 1, \"Log power\": 2.090280494344373, \"Firing rate\": 123.10636114304698, \"Power\": 123.10636114304698, \"i_spike\": 106.0, \"isi\": 0.03282435262445314}, {\"i_trial\": 2, \"mouse\": \"5\", \"neuron_x_mouse\": \"5m1bayes\", \"stim\": 0, \"Log power\": 2.2045242578767037, \"Firing rate\": 160.14900983973342, \"Power\": 160.14900983973342, \"i_spike\": 81.5, \"isi\": 0.04315550597134219}, {\"i_trial\": 2, \"mouse\": \"5\", \"neuron_x_mouse\": \"5m1bayes\", \"stim\": 1, \"Log power\": 2.374653059719566, \"Firing rate\": 236.94800676825471, \"Power\": 236.94800676825471, \"i_spike\": 87.5, \"isi\": 0.03954246593290551}, {\"i_trial\": 3, \"mouse\": \"5\", \"neuron_x_mouse\": \"5m1bayes\", \"stim\": 0, \"Log power\": 2.1085760503813122, \"Firing rate\": 128.40326009124362, \"Power\": 128.40326009124362, \"i_spike\": 86.0, \"isi\": 0.04031308520195747}, {\"i_trial\": 3, \"mouse\": \"5\", \"neuron_x_mouse\": \"5m1bayes\", \"stim\": 1, \"Log power\": 2.2885244553467072, \"Firing rate\": 194.32311130958317, \"Power\": 194.32311130958317, \"i_spike\": 102.5, \"isi\": 0.03416183195273442}, {\"i_trial\": 4, \"mouse\": \"5\", \"neuron_x_mouse\": \"5m1bayes\", \"stim\": 0, \"Log power\": 2.246245388498324, \"Firing rate\": 176.29718933480396, \"Power\": 176.29718933480396, \"i_spike\": 75.5, \"isi\": 0.046282765363529724}, {\"i_trial\": 4, \"mouse\": \"5\", \"neuron_x_mouse\": \"5m1bayes\", \"stim\": 1, \"Log power\": 2.318035053178218, \"Firing rate\": 207.98645522820604, \"Power\": 207.98645522820604, \"i_spike\": 98.5, \"isi\": 0.035582714763522566}, {\"i_trial\": 5, \"mouse\": \"5\", \"neuron_x_mouse\": \"5m1bayes\", \"stim\": 0, \"Log power\": 3.4546066322777285, \"Firing rate\": 2848.4370907763914, \"Power\": 2848.4370907763914, \"i_spike\": 75.5, \"isi\": 0.04642901617959365}, {\"i_trial\": 5, \"mouse\": \"5\", \"neuron_x_mouse\": \"5m1bayes\", \"stim\": 1, \"Log power\": 2.4245997647980753, \"Firing rate\": 265.8274130011777, \"Power\": 265.8274130011777, \"i_spike\": 82.5, \"isi\": 0.042195199181199176}, {\"i_trial\": 6, \"mouse\": \"5\", \"neuron_x_mouse\": \"5m1bayes\", \"stim\": 0, \"Log power\": 2.318742560802718, \"Firing rate\": 208.3255613797376, \"Power\": 208.3255613797376, \"i_spike\": 70.5, \"isi\": 0.049308116562535496}, {\"i_trial\": 6, \"mouse\": \"5\", \"neuron_x_mouse\": \"5m1bayes\", \"stim\": 1, \"Log power\": 2.3569953480952557, \"Firing rate\": 227.5073061409105, \"Power\": 227.5073061409105, \"i_spike\": 103.5, \"isi\": 0.03380147266729884}, {\"i_trial\": 7, \"mouse\": \"5\", \"neuron_x_mouse\": \"5m1bayes\", \"stim\": 0, \"Log power\": 2.4907346309781255, \"Firing rate\": 309.5527246491189, \"Power\": 309.5527246491189, \"i_spike\": 80.5, \"isi\": 0.04350048562540252}, {\"i_trial\": 7, \"mouse\": \"5\", \"neuron_x_mouse\": \"5m1bayes\", \"stim\": 1, \"Log power\": 2.2861833670327907, \"Firing rate\": 193.27842014234568, \"Power\": 193.27842014234568, \"i_spike\": 87.5, \"isi\": 0.04001187183677171}, {\"i_trial\": 8, \"mouse\": \"5\", \"neuron_x_mouse\": \"5m1bayes\", \"stim\": 0, \"Log power\": 2.0634633119408416, \"Firing rate\": 115.73462583850048, \"Power\": 115.73462583850048, \"i_spike\": 83.5, \"isi\": 0.041848548696723664}, {\"i_trial\": 8, \"mouse\": \"5\", \"neuron_x_mouse\": \"5m1bayes\", \"stim\": 1, \"Log power\": 2.154221500617113, \"Firing rate\": 142.63348731659335, \"Power\": 142.63348731659335, \"i_spike\": 86.0, \"isi\": 0.040416211404743926}, {\"i_trial\": 9, \"mouse\": \"5\", \"neuron_x_mouse\": \"5m1bayes\", \"stim\": 0, \"Log power\": 2.0610556546440115, \"Firing rate\": 115.09478729504453, \"Power\": 115.09478729504453, \"i_spike\": 98.5, \"isi\": 0.03492859855573362}, {\"i_trial\": 9, \"mouse\": \"5\", \"neuron_x_mouse\": \"5m1bayes\", \"stim\": 1, \"Log power\": 2.0701300048847315, \"Firing rate\": 117.52493100074938, \"Power\": 117.52493100074938, \"i_spike\": 81.5, \"isi\": 0.04298620316956348}, {\"i_trial\": 10, \"mouse\": \"5\", \"neuron_x_mouse\": \"5m1bayes\", \"stim\": 0, \"Log power\": 2.187606017358439, \"Firing rate\": 154.03024895538664, \"Power\": 154.03024895538664, \"i_spike\": 68.5, \"isi\": 0.05120231200075437}, {\"i_trial\": 10, \"mouse\": \"5\", \"neuron_x_mouse\": \"5m1bayes\", \"stim\": 1, \"Log power\": 4.443347826018712, \"Firing rate\": 27755.421436617995, \"Power\": 27755.421436617995, \"i_spike\": 102.5, \"isi\": 0.03393507405759593}, {\"i_trial\": 11, \"mouse\": \"5\", \"neuron_x_mouse\": \"5m1bayes\", \"stim\": 0, \"Log power\": 1.9335489706137925, \"Firing rate\": 85.81218702359865, \"Power\": 85.81218702359865, \"i_spike\": 73.5, \"isi\": 0.04775030552399398}, {\"i_trial\": 11, \"mouse\": \"5\", \"neuron_x_mouse\": \"5m1bayes\", \"stim\": 1, \"Log power\": 2.166075713972422, \"Firing rate\": 146.5803363709447, \"Power\": 146.5803363709447, \"i_spike\": 94.0, \"isi\": 0.036690753570657014}, {\"i_trial\": 12, \"mouse\": \"5\", \"neuron_x_mouse\": \"5m1bayes\", \"stim\": 0, \"Log power\": 2.250255723317878, \"Firing rate\": 177.93268132166492, \"Power\": 177.93268132166492, \"i_spike\": 91.5, \"isi\": 0.03821273918930576}, {\"i_trial\": 12, \"mouse\": \"5\", \"neuron_x_mouse\": \"5m1bayes\", \"stim\": 1, \"Log power\": 2.498495437778444, \"Firing rate\": 315.13412754950843, \"Power\": 315.13412754950843, \"i_spike\": 95.5, \"isi\": 0.03670549823688736}, {\"i_trial\": 13, \"mouse\": \"5\", \"neuron_x_mouse\": \"5m1bayes\", \"stim\": 0, \"Log power\": 2.1504942858252933, \"Firing rate\": 141.4146118499107, \"Power\": 141.4146118499107, \"i_spike\": 77.5, \"isi\": 0.045259825773745675}, {\"i_trial\": 13, \"mouse\": \"5\", \"neuron_x_mouse\": \"5m1bayes\", \"stim\": 1, \"Log power\": 2.1464517873722744, \"Firing rate\": 140.1044041254533, \"Power\": 140.1044041254533, \"i_spike\": 93.0, \"isi\": 0.03762491778126527}, {\"i_trial\": 14, \"mouse\": \"5\", \"neuron_x_mouse\": \"5m1bayes\", \"stim\": 0, \"Log power\": 1.9040378087816734, \"Firing rate\": 80.17478588641475, \"Power\": 80.17478588641475, \"i_spike\": 84.5, \"isi\": 0.04141273123511614}, {\"i_trial\": 14, \"mouse\": \"5\", \"neuron_x_mouse\": \"5m1bayes\", \"stim\": 1, \"Log power\": 2.2574959379259107, \"Firing rate\": 180.92389878716966, \"Power\": 180.92389878716966, \"i_spike\": 102.5, \"isi\": 0.033641658709282325}, {\"i_trial\": 15, \"mouse\": \"5\", \"neuron_x_mouse\": \"5m1bayes\", \"stim\": 0, \"Log power\": 2.3146169439941495, \"Firing rate\": 206.35592543229092, \"Power\": 206.35592543229092, \"i_spike\": 72.0, \"isi\": 0.048738345033554405}, {\"i_trial\": 15, \"mouse\": \"5\", \"neuron_x_mouse\": \"5m1bayes\", \"stim\": 1, \"Log power\": 2.0600461828513463, \"Firing rate\": 114.8275722581893, \"Power\": 114.8275722581893, \"i_spike\": 87.5, \"isi\": 0.039413186126762534}, {\"i_trial\": 16, \"mouse\": \"5\", \"neuron_x_mouse\": \"5m1bayes\", \"stim\": 0, \"Log power\": 1.7865560201954627, \"Firing rate\": 61.172470501045844, \"Power\": 61.172470501045844, \"i_spike\": 60.0, \"isi\": 0.05773740244835752}, {\"i_trial\": 16, \"mouse\": \"5\", \"neuron_x_mouse\": \"5m1bayes\", \"stim\": 1, \"Log power\": 2.0858537920138183, \"Firing rate\": 121.8579287431691, \"Power\": 121.8579287431691, \"i_spike\": 81.0, \"isi\": 0.0433130471481507}, {\"i_trial\": 17, \"mouse\": \"5\", \"neuron_x_mouse\": \"5m1bayes\", \"stim\": 0, \"Log power\": 2.3870237438423483, \"Firing rate\": 243.79441025353304, \"Power\": 243.79441025353304, \"i_spike\": 74.0, \"isi\": 0.047253727890184116}, {\"i_trial\": 17, \"mouse\": \"5\", \"neuron_x_mouse\": \"5m1bayes\", \"stim\": 1, \"Log power\": 2.47849968608801, \"Firing rate\": 300.95369935517425, \"Power\": 300.95369935517425, \"i_spike\": 77.0, \"isi\": 0.04523645153090002}, {\"i_trial\": 18, \"mouse\": \"5\", \"neuron_x_mouse\": \"5m1bayes\", \"stim\": 0, \"Log power\": 1.8847158560835429, \"Firing rate\": 76.68595953816477, \"Power\": 76.68595953816477, \"i_spike\": 73.5, \"isi\": 0.0474954178770758}, {\"i_trial\": 18, \"mouse\": \"5\", \"neuron_x_mouse\": \"5m1bayes\", \"stim\": 1, \"Log power\": 1.9997948606171572, \"Firing rate\": 99.95277606551873, \"Power\": 99.95277606551873, \"i_spike\": 74.0, \"isi\": 0.04732222475283576}, {\"i_trial\": 19, \"mouse\": \"5\", \"neuron_x_mouse\": \"5m1bayes\", \"stim\": 0, \"Log power\": 2.0536276462723873, \"Firing rate\": 113.14298862716713, \"Power\": 113.14298862716713, \"i_spike\": 64.5, \"isi\": 0.053749514312532345}, {\"i_trial\": 19, \"mouse\": \"5\", \"neuron_x_mouse\": \"5m1bayes\", \"stim\": 1, \"Log power\": 2.2102944346893993, \"Firing rate\": 162.29099940367914, \"Power\": 162.29099940367914, \"i_spike\": 107.0, \"isi\": 0.032656250976899094}, {\"i_trial\": 20, \"mouse\": \"5\", \"neuron_x_mouse\": \"5m1bayes\", \"stim\": 0, \"Log power\": 2.3900917468725957, \"Firing rate\": 245.52275399498023, \"Power\": 245.52275399498023, \"i_spike\": 85.0, \"isi\": 0.041036830744722336}, {\"i_trial\": 20, \"mouse\": \"5\", \"neuron_x_mouse\": \"5m1bayes\", \"stim\": 1, \"Log power\": 2.1041279989603985, \"Firing rate\": 127.09486347959196, \"Power\": 127.09486347959196, \"i_spike\": 89.5, \"isi\": 0.0380214053694674}, {\"i_trial\": 21, \"mouse\": \"5\", \"neuron_x_mouse\": \"5m1bayes\", \"stim\": 0, \"Log power\": 2.3539127651762377, \"Firing rate\": 225.89819728662337, \"Power\": 225.89819728662337, \"i_spike\": 82.0, \"isi\": 0.042545334316840114}, {\"i_trial\": 21, \"mouse\": \"5\", \"neuron_x_mouse\": \"5m1bayes\", \"stim\": 1, \"Log power\": 2.022809910470058, \"Firing rate\": 105.39254950590231, \"Power\": 105.39254950590231, \"i_spike\": 90.5, \"isi\": 0.03836824297859419}, {\"i_trial\": 22, \"mouse\": \"5\", \"neuron_x_mouse\": \"5m1bayes\", \"stim\": 0, \"Log power\": 1.972270773513348, \"Firing rate\": 93.81467394656636, \"Power\": 93.81467394656636, \"i_spike\": 84.0, \"isi\": 0.04127807705346037}, {\"i_trial\": 22, \"mouse\": \"5\", \"neuron_x_mouse\": \"5m1bayes\", \"stim\": 1, \"Log power\": 2.0274866839610577, \"Firing rate\": 106.53361985603979, \"Power\": 106.53361985603979, \"i_spike\": 88.0, \"isi\": 0.03978443383616717}, {\"i_trial\": 23, \"mouse\": \"5\", \"neuron_x_mouse\": \"5m1bayes\", \"stim\": 0, \"Log power\": 2.419794955642983, \"Firing rate\": 262.9026451106409, \"Power\": 262.9026451106409, \"i_spike\": 76.0, \"isi\": 0.04616580770749955}, {\"i_trial\": 23, \"mouse\": \"5\", \"neuron_x_mouse\": \"5m1bayes\", \"stim\": 1, \"Log power\": 2.5288992643229453, \"Firing rate\": 337.98643032634436, \"Power\": 337.98643032634436, \"i_spike\": 102.0, \"isi\": 0.034136724372756846}, {\"i_trial\": 24, \"mouse\": \"5\", \"neuron_x_mouse\": \"5m1bayes\", \"stim\": 0, \"Log power\": 1.8153966438814895, \"Firing rate\": 65.37273333688849, \"Power\": 65.37273333688849, \"i_spike\": 81.0, \"isi\": 0.04251434530417573}, {\"i_trial\": 24, \"mouse\": \"5\", \"neuron_x_mouse\": \"5m1bayes\", \"stim\": 1, \"Log power\": 2.048011777825134, \"Firing rate\": 111.68935369022105, \"Power\": 111.68935369022105, \"i_spike\": 80.5, \"isi\": 0.04297610840485572}, {\"i_trial\": 25, \"mouse\": \"5\", \"neuron_x_mouse\": \"5m1bayes\", \"stim\": 0, \"Log power\": 2.1756017661085134, \"Firing rate\": 149.8310303661627, \"Power\": 149.8310303661627, \"i_spike\": 91.5, \"isi\": 0.03809363456312906}, {\"i_trial\": 25, \"mouse\": \"5\", \"neuron_x_mouse\": \"5m1bayes\", \"stim\": 1, \"Log power\": 2.3149959843948413, \"Firing rate\": 206.53610588309263, \"Power\": 206.53610588309263, \"i_spike\": 90.5, \"isi\": 0.03827897438766766}, {\"i_trial\": 26, \"mouse\": \"5\", \"neuron_x_mouse\": \"5m1bayes\", \"stim\": 0, \"Log power\": 3.00702762871124, \"Firing rate\": 1016.3133460864078, \"Power\": 1016.3133460864078, \"i_spike\": 77.5, \"isi\": 0.04473212365037429}, {\"i_trial\": 26, \"mouse\": \"5\", \"neuron_x_mouse\": \"5m1bayes\", \"stim\": 1, \"Log power\": 2.2288210720540707, \"Firing rate\": 169.36398824396468, \"Power\": 169.36398824396468, \"i_spike\": 96.5, \"isi\": 0.0364060041333867}, {\"i_trial\": 27, \"mouse\": \"5\", \"neuron_x_mouse\": \"5m1bayes\", \"stim\": 0, \"Log power\": 1.8833149021841602, \"Firing rate\": 76.43898334029095, \"Power\": 76.43898334029095, \"i_spike\": 63.5, \"isi\": 0.05432441736858549}, {\"i_trial\": 27, \"mouse\": \"5\", \"neuron_x_mouse\": \"5m1bayes\", \"stim\": 1, \"Log power\": 2.2510174524160353, \"Firing rate\": 178.24503949776155, \"Power\": 178.24503949776155, \"i_spike\": 99.5, \"isi\": 0.0343769284550859}, {\"i_trial\": 28, \"mouse\": \"5\", \"neuron_x_mouse\": \"5m1bayes\", \"stim\": 0, \"Log power\": 1.9819577573304117, \"Firing rate\": 95.93073177055656, \"Power\": 95.93073177055656, \"i_spike\": 79.0, \"isi\": 0.044134411442609905}, {\"i_trial\": 28, \"mouse\": \"5\", \"neuron_x_mouse\": \"5m1bayes\", \"stim\": 1, \"Log power\": 2.445713370665072, \"Firing rate\": 279.07014026620703, \"Power\": 279.07014026620703, \"i_spike\": 86.5, \"isi\": 0.040496233706813003}, {\"i_trial\": 29, \"mouse\": \"5\", \"neuron_x_mouse\": \"5m1bayes\", \"stim\": 0, \"Log power\": 2.2592746812640216, \"Firing rate\": 181.66642978480454, \"Power\": 181.66642978480454, \"i_spike\": 85.5, \"isi\": 0.04002823586004298}, {\"i_trial\": 29, \"mouse\": \"5\", \"neuron_x_mouse\": \"5m1bayes\", \"stim\": 1, \"Log power\": 2.3164297919736474, \"Firing rate\": 207.21910421934945, \"Power\": 207.21910421934945, \"i_spike\": 101.5, \"isi\": 0.03405584981208873}, {\"i_trial\": 0, \"mouse\": \"6\", \"neuron_x_mouse\": \"6m1bayes\", \"stim\": 0, \"Log power\": 2.091782548993873, \"Firing rate\": 123.53287501504359, \"Power\": 123.53287501504359, \"i_spike\": 97.0, \"isi\": 0.036083546611230935}, {\"i_trial\": 0, \"mouse\": \"6\", \"neuron_x_mouse\": \"6m1bayes\", \"stim\": 1, \"Log power\": 2.2346931877875273, \"Firing rate\": 171.66951800832524, \"Power\": 171.66951800832524, \"i_spike\": 94.0, \"isi\": 0.03728584288562152}, {\"i_trial\": 1, \"mouse\": \"6\", \"neuron_x_mouse\": \"6m1bayes\", \"stim\": 0, \"Log power\": 3.3290249233737765, \"Firing rate\": 2133.16732824361, \"Power\": 2133.16732824361, \"i_spike\": 76.0, \"isi\": 0.04552208170782354}, {\"i_trial\": 1, \"mouse\": \"6\", \"neuron_x_mouse\": \"6m1bayes\", \"stim\": 1, \"Log power\": 3.721819215059431, \"Firing rate\": 5270.1043569366475, \"Power\": 5270.1043569366475, \"i_spike\": 100.0, \"isi\": 0.03503338115142636}, {\"i_trial\": 2, \"mouse\": \"6\", \"neuron_x_mouse\": \"6m1bayes\", \"stim\": 0, \"Log power\": 2.122555174340907, \"Firing rate\": 132.60355714123318, \"Power\": 132.60355714123318, \"i_spike\": 104.5, \"isi\": 0.03353941954044683}, {\"i_trial\": 2, \"mouse\": \"6\", \"neuron_x_mouse\": \"6m1bayes\", \"stim\": 1, \"Log power\": 2.297117972762562, \"Firing rate\": 198.20653655269336, \"Power\": 198.20653655269336, \"i_spike\": 98.0, \"isi\": 0.03544571845217158}, {\"i_trial\": 3, \"mouse\": \"6\", \"neuron_x_mouse\": \"6m1bayes\", \"stim\": 0, \"Log power\": 2.2614786266071256, \"Firing rate\": 182.59068865802695, \"Power\": 182.59068865802695, \"i_spike\": 100.0, \"isi\": 0.03461003360428585}, {\"i_trial\": 3, \"mouse\": \"6\", \"neuron_x_mouse\": \"6m1bayes\", \"stim\": 1, \"Log power\": 2.237379637462722, \"Firing rate\": 172.73471885544583, \"Power\": 172.73471885544583, \"i_spike\": 100.5, \"isi\": 0.03498045006949523}, {\"i_trial\": 4, \"mouse\": \"6\", \"neuron_x_mouse\": \"6m1bayes\", \"stim\": 0, \"Log power\": 2.1883157723948594, \"Firing rate\": 154.282181988234, \"Power\": 154.282181988234, \"i_spike\": 88.0, \"isi\": 0.03978872815972632}, {\"i_trial\": 4, \"mouse\": \"6\", \"neuron_x_mouse\": \"6m1bayes\", \"stim\": 1, \"Log power\": 2.4810747995835016, \"Firing rate\": 302.7434805581363, \"Power\": 302.7434805581363, \"i_spike\": 109.5, \"isi\": 0.032006833828990014}, {\"i_trial\": 5, \"mouse\": \"6\", \"neuron_x_mouse\": \"6m1bayes\", \"stim\": 0, \"Log power\": 2.263805449363264, \"Firing rate\": 183.57158146236156, \"Power\": 183.57158146236156, \"i_spike\": 88.5, \"isi\": 0.03916940095835657}, {\"i_trial\": 5, \"mouse\": \"6\", \"neuron_x_mouse\": \"6m1bayes\", \"stim\": 1, \"Log power\": 2.3011000165555906, \"Firing rate\": 200.03224841186417, \"Power\": 200.03224841186417, \"i_spike\": 129.5, \"isi\": 0.027071462938500993}, {\"i_trial\": 6, \"mouse\": \"6\", \"neuron_x_mouse\": \"6m1bayes\", \"stim\": 0, \"Log power\": 2.358520082385099, \"Firing rate\": 228.30744948005383, \"Power\": 228.30744948005383, \"i_spike\": 82.5, \"isi\": 0.04197427440322725}, {\"i_trial\": 6, \"mouse\": \"6\", \"neuron_x_mouse\": \"6m1bayes\", \"stim\": 1, \"Log power\": 2.2295983417620113, \"Firing rate\": 169.66737540365216, \"Power\": 169.66737540365216, \"i_spike\": 96.5, \"isi\": 0.036067142791474126}, {\"i_trial\": 7, \"mouse\": \"6\", \"neuron_x_mouse\": \"6m1bayes\", \"stim\": 0, \"Log power\": 2.335116347150005, \"Firing rate\": 216.32979919339897, \"Power\": 216.32979919339897, \"i_spike\": 106.5, \"isi\": 0.03271198251578142}, {\"i_trial\": 7, \"mouse\": \"6\", \"neuron_x_mouse\": \"6m1bayes\", \"stim\": 1, \"Log power\": 2.3603814371920215, \"Firing rate\": 229.28805864081875, \"Power\": 229.28805864081875, \"i_spike\": 117.5, \"isi\": 0.02948330773416489}, {\"i_trial\": 8, \"mouse\": \"6\", \"neuron_x_mouse\": \"6m1bayes\", \"stim\": 0, \"Log power\": 2.42022538655067, \"Firing rate\": 263.1633380845956, \"Power\": 263.1633380845956, \"i_spike\": 92.5, \"isi\": 0.037147149449663554}, {\"i_trial\": 8, \"mouse\": \"6\", \"neuron_x_mouse\": \"6m1bayes\", \"stim\": 1, \"Log power\": 2.331285498340438, \"Firing rate\": 214.42997667232484, \"Power\": 214.42997667232484, \"i_spike\": 101.5, \"isi\": 0.03409534480992591}, {\"i_trial\": 9, \"mouse\": \"6\", \"neuron_x_mouse\": \"6m1bayes\", \"stim\": 0, \"Log power\": 2.7880635242770464, \"Firing rate\": 613.8517867320488, \"Power\": 613.8517867320488, \"i_spike\": 103.5, \"isi\": 0.033917227358886186}, {\"i_trial\": 9, \"mouse\": \"6\", \"neuron_x_mouse\": \"6m1bayes\", \"stim\": 1, \"Log power\": 2.8861381675202558, \"Firing rate\": 769.3751722743162, \"Power\": 769.3751722743162, \"i_spike\": 98.5, \"isi\": 0.03529024663498816}, {\"i_trial\": 10, \"mouse\": \"6\", \"neuron_x_mouse\": \"6m1bayes\", \"stim\": 0, \"Log power\": 2.142201177491074, \"Firing rate\": 138.73983622142262, \"Power\": 138.73983622142262, \"i_spike\": 96.5, \"isi\": 0.036422235078432154}, {\"i_trial\": 10, \"mouse\": \"6\", \"neuron_x_mouse\": \"6m1bayes\", \"stim\": 1, \"Log power\": 2.7942161400900063, \"Firing rate\": 622.6100692462344, \"Power\": 622.6100692462344, \"i_spike\": 106.5, \"isi\": 0.03270222661208016}, {\"i_trial\": 11, \"mouse\": \"6\", \"neuron_x_mouse\": \"6m1bayes\", \"stim\": 0, \"Log power\": 2.384699164489064, \"Firing rate\": 242.49297658641666, \"Power\": 242.49297658641666, \"i_spike\": 104.5, \"isi\": 0.033331245378441426}, {\"i_trial\": 11, \"mouse\": \"6\", \"neuron_x_mouse\": \"6m1bayes\", \"stim\": 1, \"Log power\": 2.234008243948154, \"Firing rate\": 171.39898428269245, \"Power\": 171.39898428269245, \"i_spike\": 96.0, \"isi\": 0.03651708737549005}, {\"i_trial\": 12, \"mouse\": \"6\", \"neuron_x_mouse\": \"6m1bayes\", \"stim\": 0, \"Log power\": 2.1637650955029826, \"Firing rate\": 145.80254190977598, \"Power\": 145.80254190977598, \"i_spike\": 101.0, \"isi\": 0.03443828158944589}, {\"i_trial\": 12, \"mouse\": \"6\", \"neuron_x_mouse\": \"6m1bayes\", \"stim\": 1, \"Log power\": 2.2225741773887653, \"Firing rate\": 166.94529250029152, \"Power\": 166.94529250029152, \"i_spike\": 108.0, \"isi\": 0.03239576825148873}, {\"i_trial\": 13, \"mouse\": \"6\", \"neuron_x_mouse\": \"6m1bayes\", \"stim\": 0, \"Log power\": 2.069099129644083, \"Firing rate\": 117.24629548837804, \"Power\": 117.24629548837804, \"i_spike\": 82.5, \"isi\": 0.04221346710753791}, {\"i_trial\": 13, \"mouse\": \"6\", \"neuron_x_mouse\": \"6m1bayes\", \"stim\": 1, \"Log power\": 2.0425527559600773, \"Firing rate\": 110.29422057129375, \"Power\": 110.29422057129375, \"i_spike\": 97.0, \"isi\": 0.035195860883423274}, {\"i_trial\": 14, \"mouse\": \"6\", \"neuron_x_mouse\": \"6m1bayes\", \"stim\": 0, \"Log power\": 2.093763170180811, \"Firing rate\": 124.09753933332563, \"Power\": 124.09753933332563, \"i_spike\": 98.5, \"isi\": 0.035664265848524786}, {\"i_trial\": 14, \"mouse\": \"6\", \"neuron_x_mouse\": \"6m1bayes\", \"stim\": 1, \"Log power\": 2.2339343059970784, \"Firing rate\": 171.36980635956638, \"Power\": 171.36980635956638, \"i_spike\": 106.0, \"isi\": 0.03284067594683435}, {\"i_trial\": 15, \"mouse\": \"6\", \"neuron_x_mouse\": \"6m1bayes\", \"stim\": 0, \"Log power\": 2.222947116728164, \"Firing rate\": 167.08871409473048, \"Power\": 167.08871409473048, \"i_spike\": 97.5, \"isi\": 0.035933272401628163}, {\"i_trial\": 15, \"mouse\": \"6\", \"neuron_x_mouse\": \"6m1bayes\", \"stim\": 1, \"Log power\": 2.1628795854925293, \"Firing rate\": 145.5055589169089, \"Power\": 145.5055589169089, \"i_spike\": 102.0, \"isi\": 0.03433139602914517}, {\"i_trial\": 16, \"mouse\": \"6\", \"neuron_x_mouse\": \"6m1bayes\", \"stim\": 0, \"Log power\": 3.457958108282886, \"Firing rate\": 2870.5036820569085, \"Power\": 2870.5036820569085, \"i_spike\": 91.0, \"isi\": 0.038355327463570475}, {\"i_trial\": 16, \"mouse\": \"6\", \"neuron_x_mouse\": \"6m1bayes\", \"stim\": 1, \"Log power\": 2.3124871815485935, \"Firing rate\": 205.34644163794746, \"Power\": 205.34644163794746, \"i_spike\": 106.0, \"isi\": 0.0327762971306557}, {\"i_trial\": 17, \"mouse\": \"6\", \"neuron_x_mouse\": \"6m1bayes\", \"stim\": 0, \"Log power\": 2.3315233330774814, \"Firing rate\": 214.5474381326296, \"Power\": 214.5474381326296, \"i_spike\": 103.0, \"isi\": 0.033723385820866675}, {\"i_trial\": 17, \"mouse\": \"6\", \"neuron_x_mouse\": \"6m1bayes\", \"stim\": 1, \"Log power\": 2.303909944721784, \"Firing rate\": 201.33067274105994, \"Power\": 201.33067274105994, \"i_spike\": 110.5, \"isi\": 0.03150206272420363}, {\"i_trial\": 18, \"mouse\": \"6\", \"neuron_x_mouse\": \"6m1bayes\", \"stim\": 0, \"Log power\": 2.576937922678727, \"Firing rate\": 377.5182252497922, \"Power\": 377.5182252497922, \"i_spike\": 90.5, \"isi\": 0.03880392750996117}, {\"i_trial\": 18, \"mouse\": \"6\", \"neuron_x_mouse\": \"6m1bayes\", \"stim\": 1, \"Log power\": 2.365242666251547, \"Firing rate\": 231.86898785195567, \"Power\": 231.86898785195567, \"i_spike\": 106.0, \"isi\": 0.033139027145271435}, {\"i_trial\": 19, \"mouse\": \"6\", \"neuron_x_mouse\": \"6m1bayes\", \"stim\": 0, \"Log power\": 2.264682991244183, \"Firing rate\": 183.94288392984888, \"Power\": 183.94288392984888, \"i_spike\": 111.0, \"isi\": 0.03145742320825214}, {\"i_trial\": 19, \"mouse\": \"6\", \"neuron_x_mouse\": \"6m1bayes\", \"stim\": 1, \"Log power\": 2.1686598576591263, \"Firing rate\": 147.45512025464706, \"Power\": 147.45512025464706, \"i_spike\": 107.5, \"isi\": 0.03234511385243052}, {\"i_trial\": 20, \"mouse\": \"6\", \"neuron_x_mouse\": \"6m1bayes\", \"stim\": 0, \"Log power\": 2.3954272395479315, \"Firing rate\": 248.55771028829668, \"Power\": 248.55771028829668, \"i_spike\": 104.0, \"isi\": 0.03367982541051999}, {\"i_trial\": 20, \"mouse\": \"6\", \"neuron_x_mouse\": \"6m1bayes\", \"stim\": 1, \"Log power\": 2.4302803633341417, \"Firing rate\": 269.32729132695397, \"Power\": 269.32729132695397, \"i_spike\": 114.5, \"isi\": 0.030673717685739732}, {\"i_trial\": 21, \"mouse\": \"6\", \"neuron_x_mouse\": \"6m1bayes\", \"stim\": 0, \"Log power\": 2.0526899577517397, \"Firing rate\": 112.8989642716809, \"Power\": 112.8989642716809, \"i_spike\": 85.0, \"isi\": 0.04080778709446822}, {\"i_trial\": 21, \"mouse\": \"6\", \"neuron_x_mouse\": \"6m1bayes\", \"stim\": 1, \"Log power\": 2.156514911809492, \"Firing rate\": 143.3886948737354, \"Power\": 143.3886948737354, \"i_spike\": 108.5, \"isi\": 0.0318007892617994}, {\"i_trial\": 22, \"mouse\": \"6\", \"neuron_x_mouse\": \"6m1bayes\", \"stim\": 0, \"Log power\": 1.976006580273027, \"Firing rate\": 94.62514985178862, \"Power\": 94.62514985178862, \"i_spike\": 79.5, \"isi\": 0.04405827876514856}, {\"i_trial\": 22, \"mouse\": \"6\", \"neuron_x_mouse\": \"6m1bayes\", \"stim\": 1, \"Log power\": 2.2324598818761343, \"Firing rate\": 170.7889945765964, \"Power\": 170.7889945765964, \"i_spike\": 94.5, \"isi\": 0.03689103501454792}, {\"i_trial\": 23, \"mouse\": \"6\", \"neuron_x_mouse\": \"6m1bayes\", \"stim\": 0, \"Log power\": 1.989235974698602, \"Firing rate\": 97.55195440645187, \"Power\": 97.55195440645187, \"i_spike\": 103.0, \"isi\": 0.033798882464008036}, {\"i_trial\": 23, \"mouse\": \"6\", \"neuron_x_mouse\": \"6m1bayes\", \"stim\": 1, \"Log power\": 2.5642222482629613, \"Firing rate\": 366.62514543149143, \"Power\": 366.62514543149143, \"i_spike\": 109.5, \"isi\": 0.03164455005517801}, {\"i_trial\": 24, \"mouse\": \"6\", \"neuron_x_mouse\": \"6m1bayes\", \"stim\": 0, \"Log power\": 2.126647995239183, \"Firing rate\": 133.85912913790807, \"Power\": 133.85912913790807, \"i_spike\": 110.0, \"isi\": 0.031510921665234864}, {\"i_trial\": 24, \"mouse\": \"6\", \"neuron_x_mouse\": \"6m1bayes\", \"stim\": 1, \"Log power\": 2.487661045525656, \"Firing rate\": 307.36969454211214, \"Power\": 307.36969454211214, \"i_spike\": 103.0, \"isi\": 0.03332257578877188}, {\"i_trial\": 25, \"mouse\": \"6\", \"neuron_x_mouse\": \"6m1bayes\", \"stim\": 0, \"Log power\": 2.149613750089032, \"Firing rate\": 141.12818299457757, \"Power\": 141.12818299457757, \"i_spike\": 92.5, \"isi\": 0.0375583108757018}, {\"i_trial\": 25, \"mouse\": \"6\", \"neuron_x_mouse\": \"6m1bayes\", \"stim\": 1, \"Log power\": 2.2666752211282, \"Firing rate\": 184.78861955723247, \"Power\": 184.78861955723247, \"i_spike\": 99.5, \"isi\": 0.0351905088616683}, {\"i_trial\": 26, \"mouse\": \"6\", \"neuron_x_mouse\": \"6m1bayes\", \"stim\": 0, \"Log power\": 2.099981227646594, \"Firing rate\": 125.8870995993444, \"Power\": 125.8870995993444, \"i_spike\": 91.5, \"isi\": 0.03812317640976769}, {\"i_trial\": 26, \"mouse\": \"6\", \"neuron_x_mouse\": \"6m1bayes\", \"stim\": 1, \"Log power\": 2.1643718408599986, \"Firing rate\": 146.00638249329393, \"Power\": 146.00638249329393, \"i_spike\": 96.0, \"isi\": 0.03662067063854463}, {\"i_trial\": 27, \"mouse\": \"6\", \"neuron_x_mouse\": \"6m1bayes\", \"stim\": 0, \"Log power\": 2.2232937256892598, \"Firing rate\": 167.22212026227155, \"Power\": 167.22212026227155, \"i_spike\": 91.5, \"isi\": 0.037734133147703984}, {\"i_trial\": 27, \"mouse\": \"6\", \"neuron_x_mouse\": \"6m1bayes\", \"stim\": 1, \"Log power\": 2.2154508194850577, \"Firing rate\": 164.22936719975408, \"Power\": 164.22936719975408, \"i_spike\": 101.0, \"isi\": 0.033917112040314584}, {\"i_trial\": 28, \"mouse\": \"6\", \"neuron_x_mouse\": \"6m1bayes\", \"stim\": 0, \"Log power\": 2.8051031795262147, \"Firing rate\": 638.415142613693, \"Power\": 638.415142613693, \"i_spike\": 96.5, \"isi\": 0.03611128479474452}, {\"i_trial\": 28, \"mouse\": \"6\", \"neuron_x_mouse\": \"6m1bayes\", \"stim\": 1, \"Log power\": 2.4226433006950403, \"Firing rate\": 264.6325737730714, \"Power\": 264.6325737730714, \"i_spike\": 108.0, \"isi\": 0.03241621068122458}, {\"i_trial\": 29, \"mouse\": \"6\", \"neuron_x_mouse\": \"6m1bayes\", \"stim\": 0, \"Log power\": 2.2669420159641076, \"Firing rate\": 184.90217337318356, \"Power\": 184.90217337318356, \"i_spike\": 120.0, \"isi\": 0.029121252543429888}, {\"i_trial\": 29, \"mouse\": \"6\", \"neuron_x_mouse\": \"6m1bayes\", \"stim\": 1, \"Log power\": 2.1383603285831745, \"Firing rate\": 137.51824731476077, \"Power\": 137.51824731476077, \"i_spike\": 107.5, \"isi\": 0.03182444162582523}, {\"i_trial\": 0, \"mouse\": \"7\", \"neuron_x_mouse\": \"7m1bayes\", \"stim\": 0, \"Log power\": 2.39374481832253, \"Firing rate\": 247.596680768635, \"Power\": 247.596680768635, \"i_spike\": 113.0, \"isi\": 0.030950904248978867}, {\"i_trial\": 0, \"mouse\": \"7\", \"neuron_x_mouse\": \"7m1bayes\", \"stim\": 1, \"Log power\": 2.3959106359840745, \"Firing rate\": 248.83452431514146, \"Power\": 248.83452431514146, \"i_spike\": 113.0, \"isi\": 0.030729363532930053}, {\"i_trial\": 1, \"mouse\": \"7\", \"neuron_x_mouse\": \"7m1bayes\", \"stim\": 0, \"Log power\": 2.266888102172643, \"Firing rate\": 184.87922084007786, \"Power\": 184.87922084007786, \"i_spike\": 115.0, \"isi\": 0.03042989607402348}, {\"i_trial\": 1, \"mouse\": \"7\", \"neuron_x_mouse\": \"7m1bayes\", \"stim\": 1, \"Log power\": 2.00154347917913, \"Firing rate\": 100.35603150676123, \"Power\": 100.35603150676123, \"i_spike\": 110.0, \"isi\": 0.031483450080836736}, {\"i_trial\": 2, \"mouse\": \"7\", \"neuron_x_mouse\": \"7m1bayes\", \"stim\": 0, \"Log power\": 2.0989914457879983, \"Firing rate\": 125.60052241662467, \"Power\": 125.60052241662467, \"i_spike\": 121.0, \"isi\": 0.028890229330057363}, {\"i_trial\": 2, \"mouse\": \"7\", \"neuron_x_mouse\": \"7m1bayes\", \"stim\": 1, \"Log power\": 2.7011162379031926, \"Firing rate\": 502.4770583368924, \"Power\": 502.4770583368924, \"i_spike\": 121.0, \"isi\": 0.028876229138370724}, {\"i_trial\": 3, \"mouse\": \"7\", \"neuron_x_mouse\": \"7m1bayes\", \"stim\": 0, \"Log power\": 2.3506858487327342, \"Firing rate\": 224.22593762121912, \"Power\": 224.22593762121912, \"i_spike\": 113.0, \"isi\": 0.030790099063339887}, {\"i_trial\": 3, \"mouse\": \"7\", \"neuron_x_mouse\": \"7m1bayes\", \"stim\": 1, \"Log power\": 2.4843427667057565, \"Firing rate\": 305.0301488785318, \"Power\": 305.0301488785318, \"i_spike\": 117.0, \"isi\": 0.0298932223912542}, {\"i_trial\": 4, \"mouse\": \"7\", \"neuron_x_mouse\": \"7m1bayes\", \"stim\": 0, \"Log power\": 2.264314099412885, \"Firing rate\": 183.78670829303903, \"Power\": 183.78670829303903, \"i_spike\": 108.0, \"isi\": 0.03244763809926605}, {\"i_trial\": 4, \"mouse\": \"7\", \"neuron_x_mouse\": \"7m1bayes\", \"stim\": 1, \"Log power\": 2.2515998168899536, \"Firing rate\": 178.4842163961192, \"Power\": 178.4842163961192, \"i_spike\": 114.5, \"isi\": 0.03051929000274849}, {\"i_trial\": 5, \"mouse\": \"7\", \"neuron_x_mouse\": \"7m1bayes\", \"stim\": 0, \"Log power\": 2.323793601283962, \"Firing rate\": 210.76262612185442, \"Power\": 210.76262612185442, \"i_spike\": 118.5, \"isi\": 0.029597805634618213}, {\"i_trial\": 5, \"mouse\": \"7\", \"neuron_x_mouse\": \"7m1bayes\", \"stim\": 1, \"Log power\": 2.6331086429259005, \"Firing rate\": 429.6438928589924, \"Power\": 429.6438928589924, \"i_spike\": 127.0, \"isi\": 0.027124912474434257}, {\"i_trial\": 6, \"mouse\": \"7\", \"neuron_x_mouse\": \"7m1bayes\", \"stim\": 0, \"Log power\": 2.7982516992140467, \"Firing rate\": 628.4224610977798, \"Power\": 628.4224610977798, \"i_spike\": 98.5, \"isi\": 0.03557373387873231}, {\"i_trial\": 6, \"mouse\": \"7\", \"neuron_x_mouse\": \"7m1bayes\", \"stim\": 1, \"Log power\": 3.0754111961947124, \"Firing rate\": 1189.6280511450555, \"Power\": 1189.6280511450555, \"i_spike\": 125.0, \"isi\": 0.02805652440212477}, {\"i_trial\": 7, \"mouse\": \"7\", \"neuron_x_mouse\": \"7m1bayes\", \"stim\": 0, \"Log power\": 2.1273799031361595, \"Firing rate\": 134.08490947770764, \"Power\": 134.08490947770764, \"i_spike\": 107.5, \"isi\": 0.03240741124968125}, {\"i_trial\": 7, \"mouse\": \"7\", \"neuron_x_mouse\": \"7m1bayes\", \"stim\": 1, \"Log power\": 2.8781400942649493, \"Firing rate\": 755.335843826142, \"Power\": 755.335843826142, \"i_spike\": 128.0, \"isi\": 0.027049952825851032}, {\"i_trial\": 8, \"mouse\": \"7\", \"neuron_x_mouse\": \"7m1bayes\", \"stim\": 0, \"Log power\": 2.289470721897775, \"Firing rate\": 194.74697562167364, \"Power\": 194.74697562167364, \"i_spike\": 110.5, \"isi\": 0.03171854518680585}, {\"i_trial\": 8, \"mouse\": \"7\", \"neuron_x_mouse\": \"7m1bayes\", \"stim\": 1, \"Log power\": 2.110113759996423, \"Firing rate\": 128.85870426495234, \"Power\": 128.85870426495234, \"i_spike\": 119.5, \"isi\": 0.02857979740658417}, {\"i_trial\": 9, \"mouse\": \"7\", \"neuron_x_mouse\": \"7m1bayes\", \"stim\": 0, \"Log power\": 2.0755196961643456, \"Firing rate\": 118.99252935405795, \"Power\": 118.99252935405795, \"i_spike\": 101.5, \"isi\": 0.03444672850095267}, {\"i_trial\": 9, \"mouse\": \"7\", \"neuron_x_mouse\": \"7m1bayes\", \"stim\": 1, \"Log power\": 2.266091869721837, \"Firing rate\": 184.5405751061692, \"Power\": 184.5405751061692, \"i_spike\": 118.5, \"isi\": 0.02955554669547941}, {\"i_trial\": 10, \"mouse\": \"7\", \"neuron_x_mouse\": \"7m1bayes\", \"stim\": 0, \"Log power\": 2.355212500665758, \"Firing rate\": 226.57526711517662, \"Power\": 226.57526711517662, \"i_spike\": 103.0, \"isi\": 0.03406084009365624}, {\"i_trial\": 10, \"mouse\": \"7\", \"neuron_x_mouse\": \"7m1bayes\", \"stim\": 1, \"Log power\": 2.3219381037954467, \"Firing rate\": 209.86407613452084, \"Power\": 209.86407613452084, \"i_spike\": 112.5, \"isi\": 0.030846646269817625}, {\"i_trial\": 11, \"mouse\": \"7\", \"neuron_x_mouse\": \"7m1bayes\", \"stim\": 0, \"Log power\": 3.043895811563093, \"Firing rate\": 1106.3583337402742, \"Power\": 1106.3583337402742, \"i_spike\": 113.5, \"isi\": 0.03048238022194797}, {\"i_trial\": 11, \"mouse\": \"7\", \"neuron_x_mouse\": \"7m1bayes\", \"stim\": 1, \"Log power\": 2.7601479295054427, \"Firing rate\": 575.6359772320002, \"Power\": 575.6359772320002, \"i_spike\": 110.5, \"isi\": 0.03175017716253238}, {\"i_trial\": 12, \"mouse\": \"7\", \"neuron_x_mouse\": \"7m1bayes\", \"stim\": 0, \"Log power\": 2.0433191499585446, \"Firing rate\": 110.48902722808154, \"Power\": 110.48902722808154, \"i_spike\": 94.5, \"isi\": 0.03700380358449927}, {\"i_trial\": 12, \"mouse\": \"7\", \"neuron_x_mouse\": \"7m1bayes\", \"stim\": 1, \"Log power\": 2.330508968895017, \"Firing rate\": 214.04691305216215, \"Power\": 214.04691305216215, \"i_spike\": 111.0, \"isi\": 0.03141629518472431}, {\"i_trial\": 13, \"mouse\": \"7\", \"neuron_x_mouse\": \"7m1bayes\", \"stim\": 0, \"Log power\": 2.6743634026992145, \"Firing rate\": 472.4582127053585, \"Power\": 472.4582127053585, \"i_spike\": 109.5, \"isi\": 0.03177551842543337}, {\"i_trial\": 13, \"mouse\": \"7\", \"neuron_x_mouse\": \"7m1bayes\", \"stim\": 1, \"Log power\": 2.4752910683223392, \"Firing rate\": 298.73841215874637, \"Power\": 298.73841215874637, \"i_spike\": 115.0, \"isi\": 0.03009307884134055}, {\"i_trial\": 14, \"mouse\": \"7\", \"neuron_x_mouse\": \"7m1bayes\", \"stim\": 0, \"Log power\": 2.5755598208186226, \"Firing rate\": 376.3221842658923, \"Power\": 376.3221842658923, \"i_spike\": 109.0, \"isi\": 0.0318681402142604}, {\"i_trial\": 14, \"mouse\": \"7\", \"neuron_x_mouse\": \"7m1bayes\", \"stim\": 1, \"Log power\": 2.2137205751976, \"Firing rate\": 163.5763733403065, \"Power\": 163.5763733403065, \"i_spike\": 107.5, \"isi\": 0.03228364795080672}, {\"i_trial\": 15, \"mouse\": \"7\", \"neuron_x_mouse\": \"7m1bayes\", \"stim\": 0, \"Log power\": 2.442571749408717, \"Firing rate\": 277.05867275477266, \"Power\": 277.05867275477266, \"i_spike\": 122.5, \"isi\": 0.0281132639481444}, {\"i_trial\": 15, \"mouse\": \"7\", \"neuron_x_mouse\": \"7m1bayes\", \"stim\": 1, \"Log power\": 2.3386024959649587, \"Firing rate\": 218.07330018359238, \"Power\": 218.07330018359238, \"i_spike\": 126.5, \"isi\": 0.027147493449529048}, {\"i_trial\": 16, \"mouse\": \"7\", \"neuron_x_mouse\": \"7m1bayes\", \"stim\": 0, \"Log power\": 2.752514215241479, \"Firing rate\": 565.6062700992331, \"Power\": 565.6062700992331, \"i_spike\": 112.0, \"isi\": 0.031312957366719255}, {\"i_trial\": 16, \"mouse\": \"7\", \"neuron_x_mouse\": \"7m1bayes\", \"stim\": 1, \"Log power\": 2.0334754257745393, \"Firing rate\": 108.01285008967142, \"Power\": 108.01285008967142, \"i_spike\": 113.0, \"isi\": 0.030864228664122535}, {\"i_trial\": 17, \"mouse\": \"7\", \"neuron_x_mouse\": \"7m1bayes\", \"stim\": 0, \"Log power\": 2.236793943893346, \"Firing rate\": 172.50192422006947, \"Power\": 172.50192422006947, \"i_spike\": 111.0, \"isi\": 0.03150517283359602}, {\"i_trial\": 17, \"mouse\": \"7\", \"neuron_x_mouse\": \"7m1bayes\", \"stim\": 1, \"Log power\": 2.0664499365656215, \"Firing rate\": 116.53327089959544, \"Power\": 116.53327089959544, \"i_spike\": 110.5, \"isi\": 0.03141733117473824}, {\"i_trial\": 18, \"mouse\": \"7\", \"neuron_x_mouse\": \"7m1bayes\", \"stim\": 0, \"Log power\": 2.8307631652048006, \"Firing rate\": 677.2720685725016, \"Power\": 677.2720685725016, \"i_spike\": 119.5, \"isi\": 0.029315842066071674}, {\"i_trial\": 18, \"mouse\": \"7\", \"neuron_x_mouse\": \"7m1bayes\", \"stim\": 1, \"Log power\": 2.5051252178672496, \"Firing rate\": 319.98175634432937, \"Power\": 319.98175634432937, \"i_spike\": 117.5, \"isi\": 0.0295845213507624}, {\"i_trial\": 19, \"mouse\": \"7\", \"neuron_x_mouse\": \"7m1bayes\", \"stim\": 0, \"Log power\": 2.3902614958462363, \"Firing rate\": 245.61873813318607, \"Power\": 245.61873813318607, \"i_spike\": 109.5, \"isi\": 0.03173984886155386}, {\"i_trial\": 19, \"mouse\": \"7\", \"neuron_x_mouse\": \"7m1bayes\", \"stim\": 1, \"Log power\": 2.522694765215688, \"Firing rate\": 333.1921533213736, \"Power\": 333.1921533213736, \"i_spike\": 105.0, \"isi\": 0.032853482433737785}, {\"i_trial\": 20, \"mouse\": \"7\", \"neuron_x_mouse\": \"7m1bayes\", \"stim\": 0, \"Log power\": 2.1182123107133592, \"Firing rate\": 131.28415424583338, \"Power\": 131.28415424583338, \"i_spike\": 103.0, \"isi\": 0.033762296106862155}, {\"i_trial\": 20, \"mouse\": \"7\", \"neuron_x_mouse\": \"7m1bayes\", \"stim\": 1, \"Log power\": 2.97407815716009, \"Firing rate\": 942.0591175356757, \"Power\": 942.0591175356757, \"i_spike\": 120.0, \"isi\": 0.029066711695421507}, {\"i_trial\": 21, \"mouse\": \"7\", \"neuron_x_mouse\": \"7m1bayes\", \"stim\": 0, \"Log power\": 3.1626577152227453, \"Firing rate\": 1454.3124272369266, \"Power\": 1454.3124272369266, \"i_spike\": 112.0, \"isi\": 0.031127659357335948}, {\"i_trial\": 21, \"mouse\": \"7\", \"neuron_x_mouse\": \"7m1bayes\", \"stim\": 1, \"Log power\": 2.4310734548969704, \"Firing rate\": 269.81957562976453, \"Power\": 269.81957562976453, \"i_spike\": 125.0, \"isi\": 0.028026556324115305}, {\"i_trial\": 22, \"mouse\": \"7\", \"neuron_x_mouse\": \"7m1bayes\", \"stim\": 0, \"Log power\": 2.152302687866783, \"Firing rate\": 142.00468992448535, \"Power\": 142.00468992448535, \"i_spike\": 111.5, \"isi\": 0.031435350620313836}, {\"i_trial\": 22, \"mouse\": \"7\", \"neuron_x_mouse\": \"7m1bayes\", \"stim\": 1, \"Log power\": 2.2248604994713324, \"Firing rate\": 167.8264852996363, \"Power\": 167.8264852996363, \"i_spike\": 106.0, \"isi\": 0.033074682401384066}, {\"i_trial\": 23, \"mouse\": \"7\", \"neuron_x_mouse\": \"7m1bayes\", \"stim\": 0, \"Log power\": 2.468719352424262, \"Firing rate\": 294.25195192491805, \"Power\": 294.25195192491805, \"i_spike\": 107.5, \"isi\": 0.03263935015044716}, {\"i_trial\": 23, \"mouse\": \"7\", \"neuron_x_mouse\": \"7m1bayes\", \"stim\": 1, \"Log power\": 2.2601858899453218, \"Firing rate\": 182.0479907183472, \"Power\": 182.0479907183472, \"i_spike\": 109.5, \"isi\": 0.031800929426939045}, {\"i_trial\": 24, \"mouse\": \"7\", \"neuron_x_mouse\": \"7m1bayes\", \"stim\": 0, \"Log power\": 2.264661182024785, \"Firing rate\": 183.9336469946524, \"Power\": 183.9336469946524, \"i_spike\": 111.5, \"isi\": 0.031184084447416795}, {\"i_trial\": 24, \"mouse\": \"7\", \"neuron_x_mouse\": \"7m1bayes\", \"stim\": 1, \"Log power\": 2.2124907491615846, \"Firing rate\": 163.11381642404018, \"Power\": 163.11381642404018, \"i_spike\": 118.5, \"isi\": 0.02953756180696948}, {\"i_trial\": 25, \"mouse\": \"7\", \"neuron_x_mouse\": \"7m1bayes\", \"stim\": 0, \"Log power\": 2.1965355235812325, \"Firing rate\": 157.23003951942178, \"Power\": 157.23003951942178, \"i_spike\": 110.0, \"isi\": 0.03158797066175716}, {\"i_trial\": 25, \"mouse\": \"7\", \"neuron_x_mouse\": \"7m1bayes\", \"stim\": 1, \"Log power\": 2.2798740035885983, \"Firing rate\": 190.49079907240042, \"Power\": 190.49079907240042, \"i_spike\": 134.5, \"isi\": 0.02599877512159797}, {\"i_trial\": 26, \"mouse\": \"7\", \"neuron_x_mouse\": \"7m1bayes\", \"stim\": 0, \"Log power\": 2.2932694766330304, \"Firing rate\": 196.45789059412408, \"Power\": 196.45789059412408, \"i_spike\": 95.5, \"isi\": 0.036057013754316435}, {\"i_trial\": 26, \"mouse\": \"7\", \"neuron_x_mouse\": \"7m1bayes\", \"stim\": 1, \"Log power\": 2.141802263543638, \"Firing rate\": 138.6124575703225, \"Power\": 138.6124575703225, \"i_spike\": 114.0, \"isi\": 0.03068317207615198}, {\"i_trial\": 27, \"mouse\": \"7\", \"neuron_x_mouse\": \"7m1bayes\", \"stim\": 0, \"Log power\": 2.2046855303254347, \"Firing rate\": 160.2084911827115, \"Power\": 160.2084911827115, \"i_spike\": 109.5, \"isi\": 0.03182284585171092}, {\"i_trial\": 27, \"mouse\": \"7\", \"neuron_x_mouse\": \"7m1bayes\", \"stim\": 1, \"Log power\": 2.4665987960896003, \"Firing rate\": 292.8186918318101, \"Power\": 292.8186918318101, \"i_spike\": 128.5, \"isi\": 0.02703505711173656}, {\"i_trial\": 28, \"mouse\": \"7\", \"neuron_x_mouse\": \"7m1bayes\", \"stim\": 0, \"Log power\": 2.6018384323682566, \"Firing rate\": 399.7959887003286, \"Power\": 399.7959887003286, \"i_spike\": 110.5, \"isi\": 0.03174886872864811}, {\"i_trial\": 28, \"mouse\": \"7\", \"neuron_x_mouse\": \"7m1bayes\", \"stim\": 1, \"Log power\": 2.3365001475825284, \"Firing rate\": 217.02019410491857, \"Power\": 217.02019410491857, \"i_spike\": 115.5, \"isi\": 0.030041611144658944}, {\"i_trial\": 29, \"mouse\": \"7\", \"neuron_x_mouse\": \"7m1bayes\", \"stim\": 0, \"Log power\": 2.5271831178250883, \"Firing rate\": 336.6534875030033, \"Power\": 336.6534875030033, \"i_spike\": 102.5, \"isi\": 0.03379486899019607}, {\"i_trial\": 29, \"mouse\": \"7\", \"neuron_x_mouse\": \"7m1bayes\", \"stim\": 1, \"Log power\": 2.492986344898896, \"Firing rate\": 311.16184999587256, \"Power\": 311.16184999587256, \"i_spike\": 114.5, \"isi\": 0.030604191778405395}]}}, {\"mode\": \"vega-lite\"});\n",
       "</script>"
      ],
      "text/plain": [
       "alt.FacetChart(...)"
      ]
     },
     "execution_count": 46,
     "metadata": {},
     "output_type": "execute_result"
    }
   ],
   "source": [
    "c1=plot_data(df=df,x='stim',y='Log power').properties(width=60)\n",
    "c2=plot_data_slope_trials(df=df,x='stim',y='Log power',color=None,detail='i_trial')\n",
    "(c1+c2).facet(column='mouse')"
   ]
  },
  {
   "cell_type": "code",
   "execution_count": 47,
   "metadata": {
    "hideCode": false,
    "hidePrompt": false,
    "slideshow": {
     "slide_type": "skip"
    }
   },
   "outputs": [
    {
     "data": {
      "text/html": [
       "\n",
       "<div id=\"altair-viz-f733f371b8b24a728514ad02e5e7959b\"></div>\n",
       "<script type=\"text/javascript\">\n",
       "  (function(spec, embedOpt){\n",
       "    let outputDiv = document.currentScript.previousElementSibling;\n",
       "    if (outputDiv.id !== \"altair-viz-f733f371b8b24a728514ad02e5e7959b\") {\n",
       "      outputDiv = document.getElementById(\"altair-viz-f733f371b8b24a728514ad02e5e7959b\");\n",
       "    }\n",
       "    const paths = {\n",
       "      \"vega\": \"https://cdn.jsdelivr.net/npm//vega@5?noext\",\n",
       "      \"vega-lib\": \"https://cdn.jsdelivr.net/npm//vega-lib?noext\",\n",
       "      \"vega-lite\": \"https://cdn.jsdelivr.net/npm//vega-lite@4.8.1?noext\",\n",
       "      \"vega-embed\": \"https://cdn.jsdelivr.net/npm//vega-embed@6?noext\",\n",
       "    };\n",
       "\n",
       "    function loadScript(lib) {\n",
       "      return new Promise(function(resolve, reject) {\n",
       "        var s = document.createElement('script');\n",
       "        s.src = paths[lib];\n",
       "        s.async = true;\n",
       "        s.onload = () => resolve(paths[lib]);\n",
       "        s.onerror = () => reject(`Error loading script: ${paths[lib]}`);\n",
       "        document.getElementsByTagName(\"head\")[0].appendChild(s);\n",
       "      });\n",
       "    }\n",
       "\n",
       "    function showError(err) {\n",
       "      outputDiv.innerHTML = `<div class=\"error\" style=\"color:red;\">${err}</div>`;\n",
       "      throw err;\n",
       "    }\n",
       "\n",
       "    function displayChart(vegaEmbed) {\n",
       "      vegaEmbed(outputDiv, spec, embedOpt)\n",
       "        .catch(err => showError(`Javascript Error: ${err.message}<br>This usually means there's a typo in your chart specification. See the javascript console for the full traceback.`));\n",
       "    }\n",
       "\n",
       "    if(typeof define === \"function\" && define.amd) {\n",
       "      requirejs.config({paths});\n",
       "      require([\"vega-embed\"], displayChart, err => showError(`Error loading script: ${err.message}`));\n",
       "    } else if (typeof vegaEmbed === \"function\") {\n",
       "      displayChart(vegaEmbed);\n",
       "    } else {\n",
       "      loadScript(\"vega\")\n",
       "        .then(() => loadScript(\"vega-lite\"))\n",
       "        .then(() => loadScript(\"vega-embed\"))\n",
       "        .catch(showError)\n",
       "        .then(() => displayChart(vegaEmbed));\n",
       "    }\n",
       "  })({\"config\": {\"view\": {\"continuousWidth\": 400, \"continuousHeight\": 300}}, \"layer\": [{\"mark\": {\"type\": \"line\", \"clip\": true, \"fill\": null, \"opacity\": 0.6}, \"encoding\": {\"color\": {\"type\": \"nominal\", \"field\": \"mouse\"}, \"detail\": {\"type\": \"ordinal\", \"field\": \"\"}, \"size\": {\"value\": 1.0}, \"x\": {\"type\": \"ordinal\", \"field\": \"stim\"}, \"y\": {\"type\": \"quantitative\", \"aggregate\": \"mean\", \"axis\": {\"orient\": \"right\"}, \"field\": \"Log power\", \"scale\": {\"domain\": [1.7002543249588897, 2.8247023396525077], \"zero\": false}}}}, {\"mark\": {\"type\": \"circle\", \"clip\": true, \"opacity\": 0}, \"encoding\": {\"color\": {\"type\": \"nominal\", \"field\": \"mouse\"}, \"detail\": {\"type\": \"ordinal\", \"field\": \"\"}, \"x\": {\"type\": \"ordinal\", \"field\": \"stim\"}, \"y\": {\"type\": \"quantitative\", \"aggregate\": \"mean\", \"axis\": {\"labels\": false, \"tickCount\": 0, \"title\": \"\"}, \"field\": \"Log power\", \"scale\": {\"domain\": [1.7002543249588897, 2.8247023396525077], \"zero\": false}}}}, {\"mark\": {\"type\": \"boxplot\", \"clip\": true, \"color\": \"black\", \"opacity\": 0.3, \"size\": 9}, \"encoding\": {\"x\": {\"type\": \"ordinal\", \"field\": \"stim\"}, \"y\": {\"type\": \"quantitative\", \"axis\": {\"labels\": false, \"tickCount\": 0, \"title\": \"\"}, \"field\": \"Log power\", \"scale\": {\"domain\": [1.7002543249588897, 2.8247023396525077], \"zero\": false}}}}], \"data\": {\"name\": \"data-3aff7c5ad529a0d85dd9f2cd5009a0d5\"}, \"width\": 80, \"$schema\": \"https://vega.github.io/schema/vega-lite/v4.8.1.json\", \"datasets\": {\"data-3aff7c5ad529a0d85dd9f2cd5009a0d5\": [{\"i_trial\": 0, \"mouse\": \"0\", \"neuron_x_mouse\": \"0m1bayes\", \"stim\": 0, \"Log power\": 1.9997481755885542, \"Firing rate\": 99.9420320943009, \"Power\": 99.9420320943009, \"i_spike\": 45.0, \"isi\": 0.07759593192356984}, {\"i_trial\": 0, \"mouse\": \"0\", \"neuron_x_mouse\": \"0m1bayes\", \"stim\": 1, \"Log power\": 2.0092096109790645, \"Firing rate\": 102.14323561369736, \"Power\": 102.14323561369736, \"i_spike\": 66.0, \"isi\": 0.05310897279140883}, {\"i_trial\": 1, \"mouse\": \"0\", \"neuron_x_mouse\": \"0m1bayes\", \"stim\": 0, \"Log power\": 1.910160726939549, \"Firing rate\": 81.31313902126293, \"Power\": 81.31313902126293, \"i_spike\": 42.5, \"isi\": 0.07891223472316852}, {\"i_trial\": 1, \"mouse\": \"0\", \"neuron_x_mouse\": \"0m1bayes\", \"stim\": 1, \"Log power\": 2.052290156938477, \"Firing rate\": 112.79508008724812, \"Power\": 112.79508008724812, \"i_spike\": 59.0, \"isi\": 0.05727886565778441}, {\"i_trial\": 2, \"mouse\": \"0\", \"neuron_x_mouse\": \"0m1bayes\", \"stim\": 0, \"Log power\": 1.5889350392691983, \"Firing rate\": 38.80923117283523, \"Power\": 38.80923117283523, \"i_spike\": 36.5, \"isi\": 0.09493207628178309}, {\"i_trial\": 2, \"mouse\": \"0\", \"neuron_x_mouse\": \"0m1bayes\", \"stim\": 1, \"Log power\": 2.045242890994182, \"Firing rate\": 110.97953249301644, \"Power\": 110.97953249301644, \"i_spike\": 61.0, \"isi\": 0.05386670802385718}, {\"i_trial\": 3, \"mouse\": \"0\", \"neuron_x_mouse\": \"0m1bayes\", \"stim\": 0, \"Log power\": 2.331444910979682, \"Firing rate\": 214.50870003700638, \"Power\": 214.50870003700638, \"i_spike\": 54.5, \"isi\": 0.06345459829808654}, {\"i_trial\": 3, \"mouse\": \"0\", \"neuron_x_mouse\": \"0m1bayes\", \"stim\": 1, \"Log power\": 2.147472158384972, \"Firing rate\": 140.43396517242584, \"Power\": 140.43396517242584, \"i_spike\": 56.5, \"isi\": 0.06146333927373847}, {\"i_trial\": 4, \"mouse\": \"0\", \"neuron_x_mouse\": \"0m1bayes\", \"stim\": 0, \"Log power\": 1.3671929997466394, \"Firing rate\": 23.29126087475561, \"Power\": 23.29126087475561, \"i_spike\": 30.5, \"isi\": 0.11349533973558343}, {\"i_trial\": 4, \"mouse\": \"0\", \"neuron_x_mouse\": \"0m1bayes\", \"stim\": 1, \"Log power\": 2.188066669870316, \"Firing rate\": 154.1937142254541, \"Power\": 154.1937142254541, \"i_spike\": 63.5, \"isi\": 0.055349324954038874}, {\"i_trial\": 5, \"mouse\": \"0\", \"neuron_x_mouse\": \"0m1bayes\", \"stim\": 0, \"Log power\": 1.8364686217788806, \"Firing rate\": 68.62282959230858, \"Power\": 68.62282959230858, \"i_spike\": 44.5, \"isi\": 0.07842589606628855}, {\"i_trial\": 5, \"mouse\": \"0\", \"neuron_x_mouse\": \"0m1bayes\", \"stim\": 1, \"Log power\": 1.72219624882649, \"Firing rate\": 52.74681596905224, \"Power\": 52.74681596905224, \"i_spike\": 61.5, \"isi\": 0.05583476057552215}, {\"i_trial\": 6, \"mouse\": \"0\", \"neuron_x_mouse\": \"0m1bayes\", \"stim\": 0, \"Log power\": 1.4993302226386322, \"Firing rate\": 31.57404493026404, \"Power\": 31.57404493026404, \"i_spike\": 34.5, \"isi\": 0.0979808774008454}, {\"i_trial\": 6, \"mouse\": \"0\", \"neuron_x_mouse\": \"0m1bayes\", \"stim\": 1, \"Log power\": 2.148137210980189, \"Firing rate\": 140.64918209068904, \"Power\": 140.64918209068904, \"i_spike\": 54.5, \"isi\": 0.06231194924923774}, {\"i_trial\": 7, \"mouse\": \"0\", \"neuron_x_mouse\": \"0m1bayes\", \"stim\": 0, \"Log power\": 1.74604629915078, \"Firing rate\": 55.724515240864584, \"Power\": 55.724515240864584, \"i_spike\": 36.0, \"isi\": 0.09260812566977722}, {\"i_trial\": 7, \"mouse\": \"0\", \"neuron_x_mouse\": \"0m1bayes\", \"stim\": 1, \"Log power\": 2.0437069157221397, \"Firing rate\": 110.58772292042039, \"Power\": 110.58772292042039, \"i_spike\": 54.5, \"isi\": 0.06310986729887752}, {\"i_trial\": 8, \"mouse\": \"0\", \"neuron_x_mouse\": \"0m1bayes\", \"stim\": 0, \"Log power\": 1.6822593145526625, \"Firing rate\": 48.1126540386449, \"Power\": 48.1126540386449, \"i_spike\": 45.0, \"isi\": 0.07788503602528092}, {\"i_trial\": 8, \"mouse\": \"0\", \"neuron_x_mouse\": \"0m1bayes\", \"stim\": 1, \"Log power\": 1.9838832236322896, \"Firing rate\": 96.3569896864263, \"Power\": 96.3569896864263, \"i_spike\": 63.0, \"isi\": 0.055257005689852215}, {\"i_trial\": 9, \"mouse\": \"0\", \"neuron_x_mouse\": \"0m1bayes\", \"stim\": 0, \"Log power\": 2.3405278617680683, \"Firing rate\": 219.04223481173997, \"Power\": 219.04223481173997, \"i_spike\": 54.0, \"isi\": 0.06275485883031404}, {\"i_trial\": 9, \"mouse\": \"0\", \"neuron_x_mouse\": \"0m1bayes\", \"stim\": 1, \"Log power\": 2.3945725685561583, \"Firing rate\": 248.06904147120412, \"Power\": 248.06904147120412, \"i_spike\": 60.0, \"isi\": 0.05785585666754498}, {\"i_trial\": 10, \"mouse\": \"0\", \"neuron_x_mouse\": \"0m1bayes\", \"stim\": 0, \"Log power\": 1.8902940668847943, \"Firing rate\": 77.67729024268215, \"Power\": 77.67729024268215, \"i_spike\": 39.5, \"isi\": 0.08570981020992528}, {\"i_trial\": 10, \"mouse\": \"0\", \"neuron_x_mouse\": \"0m1bayes\", \"stim\": 1, \"Log power\": 1.7464573320050367, \"Firing rate\": 55.77728001182793, \"Power\": 55.77728001182793, \"i_spike\": 53.0, \"isi\": 0.06584740643815713}, {\"i_trial\": 11, \"mouse\": \"0\", \"neuron_x_mouse\": \"0m1bayes\", \"stim\": 0, \"Log power\": 2.5846318316677714, \"Firing rate\": 384.2658867824693, \"Power\": 384.2658867824693, \"i_spike\": 43.5, \"isi\": 0.08041422808458522}, {\"i_trial\": 11, \"mouse\": \"0\", \"neuron_x_mouse\": \"0m1bayes\", \"stim\": 1, \"Log power\": 2.280328641789316, \"Firing rate\": 190.6903174733538, \"Power\": 190.6903174733538, \"i_spike\": 59.5, \"isi\": 0.05857614236530691}, {\"i_trial\": 12, \"mouse\": \"0\", \"neuron_x_mouse\": \"0m1bayes\", \"stim\": 0, \"Log power\": 1.4887348377632854, \"Firing rate\": 30.813060578506047, \"Power\": 30.813060578506047, \"i_spike\": 35.5, \"isi\": 0.09816719123590602}, {\"i_trial\": 12, \"mouse\": \"0\", \"neuron_x_mouse\": \"0m1bayes\", \"stim\": 1, \"Log power\": 2.066528055557541, \"Firing rate\": 116.55423428002298, \"Power\": 116.55423428002298, \"i_spike\": 52.0, \"isi\": 0.06666319746147459}, {\"i_trial\": 13, \"mouse\": \"0\", \"neuron_x_mouse\": \"0m1bayes\", \"stim\": 0, \"Log power\": 2.1085548950964723, \"Firing rate\": 128.3970054840726, \"Power\": 128.3970054840726, \"i_spike\": 37.0, \"isi\": 0.09303920868813378}, {\"i_trial\": 13, \"mouse\": \"0\", \"neuron_x_mouse\": \"0m1bayes\", \"stim\": 1, \"Log power\": 1.8811728037565647, \"Firing rate\": 76.06288674288955, \"Power\": 76.06288674288955, \"i_spike\": 51.5, \"isi\": 0.06707078005758886}, {\"i_trial\": 14, \"mouse\": \"0\", \"neuron_x_mouse\": \"0m1bayes\", \"stim\": 0, \"Log power\": 1.7951382886144243, \"Firing rate\": 62.393347756515844, \"Power\": 62.393347756515844, \"i_spike\": 56.0, \"isi\": 0.06206808917925212}, {\"i_trial\": 14, \"mouse\": \"0\", \"neuron_x_mouse\": \"0m1bayes\", \"stim\": 1, \"Log power\": 2.1395769357745342, \"Firing rate\": 137.90402299180965, \"Power\": 137.90402299180965, \"i_spike\": 54.5, \"isi\": 0.0644933037328843}, {\"i_trial\": 15, \"mouse\": \"0\", \"neuron_x_mouse\": \"0m1bayes\", \"stim\": 0, \"Log power\": 1.6587694499147285, \"Firing rate\": 45.57948878989552, \"Power\": 45.57948878989552, \"i_spike\": 38.0, \"isi\": 0.08741308233941344}, {\"i_trial\": 15, \"mouse\": \"0\", \"neuron_x_mouse\": \"0m1bayes\", \"stim\": 1, \"Log power\": 1.931988293049634, \"Firing rate\": 85.504366380377, \"Power\": 85.504366380377, \"i_spike\": 59.0, \"isi\": 0.05729176099813943}, {\"i_trial\": 16, \"mouse\": \"0\", \"neuron_x_mouse\": \"0m1bayes\", \"stim\": 0, \"Log power\": 1.7532987091178684, \"Firing rate\": 56.66288841786928, \"Power\": 56.66288841786928, \"i_spike\": 47.0, \"isi\": 0.073722326934438}, {\"i_trial\": 16, \"mouse\": \"0\", \"neuron_x_mouse\": \"0m1bayes\", \"stim\": 1, \"Log power\": 1.8567026439098637, \"Firing rate\": 71.89565487367146, \"Power\": 71.89565487367146, \"i_spike\": 63.5, \"isi\": 0.054941365886354475}, {\"i_trial\": 17, \"mouse\": \"0\", \"neuron_x_mouse\": \"0m1bayes\", \"stim\": 0, \"Log power\": 1.8566353069010681, \"Firing rate\": 71.88450837457815, \"Power\": 71.88450837457815, \"i_spike\": 41.0, \"isi\": 0.08243546470396612}, {\"i_trial\": 17, \"mouse\": \"0\", \"neuron_x_mouse\": \"0m1bayes\", \"stim\": 1, \"Log power\": 1.6452789729597181, \"Firing rate\": 44.1854185215792, \"Power\": 44.1854185215792, \"i_spike\": 48.0, \"isi\": 0.07142825523324355}, {\"i_trial\": 18, \"mouse\": \"0\", \"neuron_x_mouse\": \"0m1bayes\", \"stim\": 0, \"Log power\": 1.5781163506612372, \"Firing rate\": 37.85439858299046, \"Power\": 37.85439858299046, \"i_spike\": 35.0, \"isi\": 0.0968645848460999}, {\"i_trial\": 18, \"mouse\": \"0\", \"neuron_x_mouse\": \"0m1bayes\", \"stim\": 1, \"Log power\": 1.69034044924, \"Firing rate\": 49.01629140498256, \"Power\": 49.01629140498256, \"i_spike\": 38.5, \"isi\": 0.08564324327238111}, {\"i_trial\": 19, \"mouse\": \"0\", \"neuron_x_mouse\": \"0m1bayes\", \"stim\": 0, \"Log power\": 1.5660403445838218, \"Firing rate\": 36.81631732483889, \"Power\": 36.81631732483889, \"i_spike\": 38.5, \"isi\": 0.09158310711160737}, {\"i_trial\": 19, \"mouse\": \"0\", \"neuron_x_mouse\": \"0m1bayes\", \"stim\": 1, \"Log power\": 1.5813469347869993, \"Firing rate\": 38.13703582557578, \"Power\": 38.13703582557578, \"i_spike\": 57.0, \"isi\": 0.06138039569401304}, {\"i_trial\": 20, \"mouse\": \"0\", \"neuron_x_mouse\": \"0m1bayes\", \"stim\": 0, \"Log power\": 1.8268088750967315, \"Firing rate\": 67.11334346166194, \"Power\": 67.11334346166194, \"i_spike\": 48.0, \"isi\": 0.0731457318131321}, {\"i_trial\": 20, \"mouse\": \"0\", \"neuron_x_mouse\": \"0m1bayes\", \"stim\": 1, \"Log power\": 1.9220680219301283, \"Firing rate\": 83.57339058754299, \"Power\": 83.57339058754299, \"i_spike\": 59.0, \"isi\": 0.05901870255088155}, {\"i_trial\": 21, \"mouse\": \"0\", \"neuron_x_mouse\": \"0m1bayes\", \"stim\": 0, \"Log power\": 2.3432965573981352, \"Firing rate\": 220.44312421116555, \"Power\": 220.44312421116555, \"i_spike\": 47.0, \"isi\": 0.07343440090655223}, {\"i_trial\": 21, \"mouse\": \"0\", \"neuron_x_mouse\": \"0m1bayes\", \"stim\": 1, \"Log power\": 2.0885662391574655, \"Firing rate\": 122.6213912151817, \"Power\": 122.6213912151817, \"i_spike\": 58.5, \"isi\": 0.05910111059864454}, {\"i_trial\": 22, \"mouse\": \"0\", \"neuron_x_mouse\": \"0m1bayes\", \"stim\": 0, \"Log power\": 1.5861890833955956, \"Firing rate\": 38.56462240077385, \"Power\": 38.56462240077385, \"i_spike\": 44.0, \"isi\": 0.07913180097662195}, {\"i_trial\": 22, \"mouse\": \"0\", \"neuron_x_mouse\": \"0m1bayes\", \"stim\": 1, \"Log power\": 2.1605699402918184, \"Firing rate\": 144.73379186530858, \"Power\": 144.73379186530858, \"i_spike\": 63.5, \"isi\": 0.055264033099957886}, {\"i_trial\": 23, \"mouse\": \"0\", \"neuron_x_mouse\": \"0m1bayes\", \"stim\": 0, \"Log power\": 2.3082152726876832, \"Firing rate\": 203.3364666860376, \"Power\": 203.3364666860376, \"i_spike\": 41.0, \"isi\": 0.08514115057064328}, {\"i_trial\": 23, \"mouse\": \"0\", \"neuron_x_mouse\": \"0m1bayes\", \"stim\": 1, \"Log power\": 2.265391020977574, \"Firing rate\": 184.24301035752794, \"Power\": 184.24301035752794, \"i_spike\": 54.0, \"isi\": 0.06505465542583795}, {\"i_trial\": 24, \"mouse\": \"0\", \"neuron_x_mouse\": \"0m1bayes\", \"stim\": 0, \"Log power\": 1.7606843254548046, \"Firing rate\": 57.63473829202058, \"Power\": 57.63473829202058, \"i_spike\": 48.5, \"isi\": 0.0719002793221188}, {\"i_trial\": 24, \"mouse\": \"0\", \"neuron_x_mouse\": \"0m1bayes\", \"stim\": 1, \"Log power\": 2.22617232601177, \"Firing rate\": 168.3341870722237, \"Power\": 168.3341870722237, \"i_spike\": 59.5, \"isi\": 0.05769411821760971}, {\"i_trial\": 25, \"mouse\": \"0\", \"neuron_x_mouse\": \"0m1bayes\", \"stim\": 0, \"Log power\": 1.5998178732569244, \"Firing rate\": 39.79402544070129, \"Power\": 39.79402544070129, \"i_spike\": 38.5, \"isi\": 0.08862758874463733}, {\"i_trial\": 25, \"mouse\": \"0\", \"neuron_x_mouse\": \"0m1bayes\", \"stim\": 1, \"Log power\": 2.187983410722324, \"Firing rate\": 154.16415638558462, \"Power\": 154.16415638558462, \"i_spike\": 58.0, \"isi\": 0.060049810344979124}, {\"i_trial\": 26, \"mouse\": \"0\", \"neuron_x_mouse\": \"0m1bayes\", \"stim\": 0, \"Log power\": 1.319606434144678, \"Firing rate\": 20.874036289119584, \"Power\": 20.874036289119584, \"i_spike\": 36.5, \"isi\": 0.09535072076995102}, {\"i_trial\": 26, \"mouse\": \"0\", \"neuron_x_mouse\": \"0m1bayes\", \"stim\": 1, \"Log power\": 2.087282286521635, \"Firing rate\": 122.2594074334616, \"Power\": 122.2594074334616, \"i_spike\": 57.5, \"isi\": 0.0611997369474551}, {\"i_trial\": 27, \"mouse\": \"0\", \"neuron_x_mouse\": \"0m1bayes\", \"stim\": 0, \"Log power\": 2.1710913307221316, \"Firing rate\": 148.28298866791445, \"Power\": 148.28298866791445, \"i_spike\": 35.0, \"isi\": 0.1009958742109345}, {\"i_trial\": 27, \"mouse\": \"0\", \"neuron_x_mouse\": \"0m1bayes\", \"stim\": 1, \"Log power\": 1.9120975360799757, \"Firing rate\": 81.6765784206661, \"Power\": 81.6765784206661, \"i_spike\": 59.0, \"isi\": 0.0587570695351857}, {\"i_trial\": 28, \"mouse\": \"0\", \"neuron_x_mouse\": \"0m1bayes\", \"stim\": 0, \"Log power\": 2.4362559394446133, \"Firing rate\": 273.0586504389003, \"Power\": 273.0586504389003, \"i_spike\": 43.0, \"isi\": 0.08127611109167206}, {\"i_trial\": 28, \"mouse\": \"0\", \"neuron_x_mouse\": \"0m1bayes\", \"stim\": 1, \"Log power\": 1.8583681618036856, \"Firing rate\": 72.17190383938029, \"Power\": 72.17190383938029, \"i_spike\": 43.0, \"isi\": 0.08196876946821006}, {\"i_trial\": 29, \"mouse\": \"0\", \"neuron_x_mouse\": \"0m1bayes\", \"stim\": 0, \"Log power\": 1.9334400697647418, \"Firing rate\": 85.79067201738802, \"Power\": 85.79067201738802, \"i_spike\": 47.0, \"isi\": 0.07345357591759659}, {\"i_trial\": 29, \"mouse\": \"0\", \"neuron_x_mouse\": \"0m1bayes\", \"stim\": 1, \"Log power\": 1.7398843638706223, \"Firing rate\": 54.93945714684862, \"Power\": 54.93945714684862, \"i_spike\": 55.0, \"isi\": 0.06103056223425712}, {\"i_trial\": 0, \"mouse\": \"1\", \"neuron_x_mouse\": \"1m1bayes\", \"stim\": 0, \"Log power\": 2.363571902708716, \"Firing rate\": 230.97868404364146, \"Power\": 230.97868404364146, \"i_spike\": 40.0, \"isi\": 0.08614110816787734}, {\"i_trial\": 0, \"mouse\": \"1\", \"neuron_x_mouse\": \"1m1bayes\", \"stim\": 1, \"Log power\": 1.9893002150324364, \"Firing rate\": 97.56638524517392, \"Power\": 97.56638524517392, \"i_spike\": 63.0, \"isi\": 0.055976931535380504}, {\"i_trial\": 1, \"mouse\": \"1\", \"neuron_x_mouse\": \"1m1bayes\", \"stim\": 0, \"Log power\": 2.013356259945311, \"Firing rate\": 103.12317123680445, \"Power\": 103.12317123680445, \"i_spike\": 41.5, \"isi\": 0.08456511692853343}, {\"i_trial\": 1, \"mouse\": \"1\", \"neuron_x_mouse\": \"1m1bayes\", \"stim\": 1, \"Log power\": 2.403025557220247, \"Firing rate\": 252.94468441306202, \"Power\": 252.94468441306202, \"i_spike\": 69.0, \"isi\": 0.049794047278696955}, {\"i_trial\": 2, \"mouse\": \"1\", \"neuron_x_mouse\": \"1m1bayes\", \"stim\": 0, \"Log power\": 1.810306500091477, \"Firing rate\": 64.61100555204213, \"Power\": 64.61100555204213, \"i_spike\": 49.5, \"isi\": 0.06956600461401422}, {\"i_trial\": 2, \"mouse\": \"1\", \"neuron_x_mouse\": \"1m1bayes\", \"stim\": 1, \"Log power\": 2.323071364624157, \"Firing rate\": 210.41241676077223, \"Power\": 210.41241676077223, \"i_spike\": 59.5, \"isi\": 0.05861385820654465}, {\"i_trial\": 3, \"mouse\": \"1\", \"neuron_x_mouse\": \"1m1bayes\", \"stim\": 0, \"Log power\": 1.6723119852965176, \"Firing rate\": 47.02317889770949, \"Power\": 47.02317889770949, \"i_spike\": 46.5, \"isi\": 0.07464142388134247}, {\"i_trial\": 3, \"mouse\": \"1\", \"neuron_x_mouse\": \"1m1bayes\", \"stim\": 1, \"Log power\": 2.0028225112467335, \"Firing rate\": 100.65202371177288, \"Power\": 100.65202371177288, \"i_spike\": 62.5, \"isi\": 0.054991189424254024}, {\"i_trial\": 4, \"mouse\": \"1\", \"neuron_x_mouse\": \"1m1bayes\", \"stim\": 0, \"Log power\": 1.6760631562407269, \"Firing rate\": 47.43109557863229, \"Power\": 47.43109557863229, \"i_spike\": 40.0, \"isi\": 0.08675825321474946}, {\"i_trial\": 4, \"mouse\": \"1\", \"neuron_x_mouse\": \"1m1bayes\", \"stim\": 1, \"Log power\": 3.646606345627168, \"Firing rate\": 4432.067291706442, \"Power\": 4432.067291706442, \"i_spike\": 74.5, \"isi\": 0.047122897280051104}, {\"i_trial\": 5, \"mouse\": \"1\", \"neuron_x_mouse\": \"1m1bayes\", \"stim\": 0, \"Log power\": 1.7744244595123633, \"Firing rate\": 59.48732764532823, \"Power\": 59.48732764532823, \"i_spike\": 45.5, \"isi\": 0.07499862472566898}, {\"i_trial\": 5, \"mouse\": \"1\", \"neuron_x_mouse\": \"1m1bayes\", \"stim\": 1, \"Log power\": 1.6893209142238925, \"Firing rate\": 48.901357379864464, \"Power\": 48.901357379864464, \"i_spike\": 52.0, \"isi\": 0.06696475649704266}, {\"i_trial\": 6, \"mouse\": \"1\", \"neuron_x_mouse\": \"1m1bayes\", \"stim\": 0, \"Log power\": 2.4948193192677173, \"Firing rate\": 312.4779086193012, \"Power\": 312.4779086193012, \"i_spike\": 36.0, \"isi\": 0.0901722608863818}, {\"i_trial\": 6, \"mouse\": \"1\", \"neuron_x_mouse\": \"1m1bayes\", \"stim\": 1, \"Log power\": 2.5266144436705344, \"Firing rate\": 336.21295496507986, \"Power\": 336.21295496507986, \"i_spike\": 77.0, \"isi\": 0.045440100439428525}, {\"i_trial\": 7, \"mouse\": \"1\", \"neuron_x_mouse\": \"1m1bayes\", \"stim\": 0, \"Log power\": 1.709491750390738, \"Firing rate\": 51.22615395452797, \"Power\": 51.22615395452797, \"i_spike\": 40.0, \"isi\": 0.08724048831238611}, {\"i_trial\": 7, \"mouse\": \"1\", \"neuron_x_mouse\": \"1m1bayes\", \"stim\": 1, \"Log power\": 2.8448323911263524, \"Firing rate\": 699.5719555078108, \"Power\": 699.5719555078108, \"i_spike\": 55.0, \"isi\": 0.06242992949163196}, {\"i_trial\": 8, \"mouse\": \"1\", \"neuron_x_mouse\": \"1m1bayes\", \"stim\": 0, \"Log power\": 1.8205727804376102, \"Firing rate\": 66.15653954081996, \"Power\": 66.15653954081996, \"i_spike\": 44.5, \"isi\": 0.07618643832724331}, {\"i_trial\": 8, \"mouse\": \"1\", \"neuron_x_mouse\": \"1m1bayes\", \"stim\": 1, \"Log power\": 2.1795248304026145, \"Firing rate\": 151.1906138785072, \"Power\": 151.1906138785072, \"i_spike\": 56.0, \"isi\": 0.06245115020921509}, {\"i_trial\": 9, \"mouse\": \"1\", \"neuron_x_mouse\": \"1m1bayes\", \"stim\": 0, \"Log power\": 2.029724767570791, \"Firing rate\": 107.08404492029443, \"Power\": 107.08404492029443, \"i_spike\": 48.0, \"isi\": 0.07078963921202192}, {\"i_trial\": 9, \"mouse\": \"1\", \"neuron_x_mouse\": \"1m1bayes\", \"stim\": 1, \"Log power\": 2.2064495839754796, \"Firing rate\": 160.86056285477744, \"Power\": 160.86056285477744, \"i_spike\": 70.0, \"isi\": 0.05011339221528861}, {\"i_trial\": 10, \"mouse\": \"1\", \"neuron_x_mouse\": \"1m1bayes\", \"stim\": 0, \"Log power\": 1.6408675233850933, \"Firing rate\": 43.738866434674975, \"Power\": 43.738866434674975, \"i_spike\": 43.0, \"isi\": 0.08150569017369827}, {\"i_trial\": 10, \"mouse\": \"1\", \"neuron_x_mouse\": \"1m1bayes\", \"stim\": 1, \"Log power\": 2.575356702094275, \"Firing rate\": 376.1462202299655, \"Power\": 376.1462202299655, \"i_spike\": 52.0, \"isi\": 0.06716225075526734}, {\"i_trial\": 11, \"mouse\": \"1\", \"neuron_x_mouse\": \"1m1bayes\", \"stim\": 0, \"Log power\": 1.7141988657715246, \"Firing rate\": 51.78439011673133, \"Power\": 51.78439011673133, \"i_spike\": 49.5, \"isi\": 0.07016962500051908}, {\"i_trial\": 11, \"mouse\": \"1\", \"neuron_x_mouse\": \"1m1bayes\", \"stim\": 1, \"Log power\": 2.2690513352014507, \"Firing rate\": 185.80240673749128, \"Power\": 185.80240673749128, \"i_spike\": 59.0, \"isi\": 0.05958653568573678}, {\"i_trial\": 12, \"mouse\": \"1\", \"neuron_x_mouse\": \"1m1bayes\", \"stim\": 0, \"Log power\": 2.9724485184987652, \"Firing rate\": 938.5307761353381, \"Power\": 938.5307761353381, \"i_spike\": 31.0, \"isi\": 0.11218933238505874}, {\"i_trial\": 12, \"mouse\": \"1\", \"neuron_x_mouse\": \"1m1bayes\", \"stim\": 1, \"Log power\": 2.0561002619612556, \"Firing rate\": 113.78899507080725, \"Power\": 113.78899507080725, \"i_spike\": 64.5, \"isi\": 0.053022042821686446}, {\"i_trial\": 13, \"mouse\": \"1\", \"neuron_x_mouse\": \"1m1bayes\", \"stim\": 0, \"Log power\": 2.023277229501181, \"Firing rate\": 105.50601733535713, \"Power\": 105.50601733535713, \"i_spike\": 49.5, \"isi\": 0.07055619009120755}, {\"i_trial\": 13, \"mouse\": \"1\", \"neuron_x_mouse\": \"1m1bayes\", \"stim\": 1, \"Log power\": 2.0642857085458686, \"Firing rate\": 115.95399297824052, \"Power\": 115.95399297824052, \"i_spike\": 66.0, \"isi\": 0.0525424832735137}, {\"i_trial\": 14, \"mouse\": \"1\", \"neuron_x_mouse\": \"1m1bayes\", \"stim\": 0, \"Log power\": 2.4180924848070036, \"Firing rate\": 261.8740620495256, \"Power\": 261.8740620495256, \"i_spike\": 55.5, \"isi\": 0.0626214938384501}, {\"i_trial\": 14, \"mouse\": \"1\", \"neuron_x_mouse\": \"1m1bayes\", \"stim\": 1, \"Log power\": 1.9242960029463008, \"Firing rate\": 84.00323339433336, \"Power\": 84.00323339433336, \"i_spike\": 67.0, \"isi\": 0.05241681967835532}, {\"i_trial\": 15, \"mouse\": \"1\", \"neuron_x_mouse\": \"1m1bayes\", \"stim\": 0, \"Log power\": 1.790072904067027, \"Firing rate\": 61.66985170071991, \"Power\": 61.66985170071991, \"i_spike\": 51.0, \"isi\": 0.0688162027175775}, {\"i_trial\": 15, \"mouse\": \"1\", \"neuron_x_mouse\": \"1m1bayes\", \"stim\": 1, \"Log power\": 1.8345101481122892, \"Firing rate\": 68.31406806673569, \"Power\": 68.31406806673569, \"i_spike\": 46.0, \"isi\": 0.07487110595474233}, {\"i_trial\": 16, \"mouse\": \"1\", \"neuron_x_mouse\": \"1m1bayes\", \"stim\": 0, \"Log power\": 1.6290428817364522, \"Firing rate\": 42.564043830511345, \"Power\": 42.564043830511345, \"i_spike\": 41.5, \"isi\": 0.08253341643573767}, {\"i_trial\": 16, \"mouse\": \"1\", \"neuron_x_mouse\": \"1m1bayes\", \"stim\": 1, \"Log power\": 2.0041269963749646, \"Firing rate\": 100.95480549196508, \"Power\": 100.95480549196508, \"i_spike\": 54.0, \"isi\": 0.0642407431959282}, {\"i_trial\": 17, \"mouse\": \"1\", \"neuron_x_mouse\": \"1m1bayes\", \"stim\": 0, \"Log power\": 1.8523608178765765, \"Firing rate\": 71.18046452268115, \"Power\": 71.18046452268115, \"i_spike\": 38.5, \"isi\": 0.0917689993171144}, {\"i_trial\": 17, \"mouse\": \"1\", \"neuron_x_mouse\": \"1m1bayes\", \"stim\": 1, \"Log power\": 2.087158581748468, \"Firing rate\": 122.2245879293623, \"Power\": 122.2245879293623, \"i_spike\": 45.0, \"isi\": 0.07634490267788828}, {\"i_trial\": 18, \"mouse\": \"1\", \"neuron_x_mouse\": \"1m1bayes\", \"stim\": 0, \"Log power\": 1.6766103287634617, \"Firing rate\": 47.49089221296333, \"Power\": 47.49089221296333, \"i_spike\": 44.0, \"isi\": 0.0785518749107867}, {\"i_trial\": 18, \"mouse\": \"1\", \"neuron_x_mouse\": \"1m1bayes\", \"stim\": 1, \"Log power\": 1.9183277154361111, \"Firing rate\": 82.85671585854426, \"Power\": 82.85671585854426, \"i_spike\": 79.5, \"isi\": 0.0436585186987409}, {\"i_trial\": 19, \"mouse\": \"1\", \"neuron_x_mouse\": \"1m1bayes\", \"stim\": 0, \"Log power\": 1.6587491019967646, \"Firing rate\": 45.577353312677225, \"Power\": 45.577353312677225, \"i_spike\": 43.0, \"isi\": 0.07879735168727917}, {\"i_trial\": 19, \"mouse\": \"1\", \"neuron_x_mouse\": \"1m1bayes\", \"stim\": 1, \"Log power\": 1.7063312006021836, \"Firing rate\": 50.85471216861666, \"Power\": 50.85471216861666, \"i_spike\": 56.0, \"isi\": 0.06088004387979668}, {\"i_trial\": 20, \"mouse\": \"1\", \"neuron_x_mouse\": \"1m1bayes\", \"stim\": 0, \"Log power\": 1.901697233858744, \"Firing rate\": 79.74385632904999, \"Power\": 79.74385632904999, \"i_spike\": 43.0, \"isi\": 0.07990541674643357}, {\"i_trial\": 20, \"mouse\": \"1\", \"neuron_x_mouse\": \"1m1bayes\", \"stim\": 1, \"Log power\": 1.7111754034853177, \"Firing rate\": 51.42513062091737, \"Power\": 51.42513062091737, \"i_spike\": 53.5, \"isi\": 0.06451590436429692}, {\"i_trial\": 21, \"mouse\": \"1\", \"neuron_x_mouse\": \"1m1bayes\", \"stim\": 0, \"Log power\": 1.7561454500175564, \"Firing rate\": 57.03552585713292, \"Power\": 57.03552585713292, \"i_spike\": 41.5, \"isi\": 0.08290314544827329}, {\"i_trial\": 21, \"mouse\": \"1\", \"neuron_x_mouse\": \"1m1bayes\", \"stim\": 1, \"Log power\": 2.433493782045597, \"Firing rate\": 271.3274804915664, \"Power\": 271.3274804915664, \"i_spike\": 77.5, \"isi\": 0.04511257969311031}, {\"i_trial\": 22, \"mouse\": \"1\", \"neuron_x_mouse\": \"1m1bayes\", \"stim\": 0, \"Log power\": 1.7504907061019421, \"Firing rate\": 56.29770695610387, \"Power\": 56.29770695610387, \"i_spike\": 52.5, \"isi\": 0.06570340059979955}, {\"i_trial\": 22, \"mouse\": \"1\", \"neuron_x_mouse\": \"1m1bayes\", \"stim\": 1, \"Log power\": 1.844517385024176, \"Firing rate\": 69.9064720110418, \"Power\": 69.9064720110418, \"i_spike\": 60.0, \"isi\": 0.05580962631293562}, {\"i_trial\": 23, \"mouse\": \"1\", \"neuron_x_mouse\": \"1m1bayes\", \"stim\": 0, \"Log power\": 1.9538006768904117, \"Firing rate\": 89.90848442623513, \"Power\": 89.90848442623513, \"i_spike\": 44.5, \"isi\": 0.07847102467168673}, {\"i_trial\": 23, \"mouse\": \"1\", \"neuron_x_mouse\": \"1m1bayes\", \"stim\": 1, \"Log power\": 1.7917490668110343, \"Firing rate\": 61.90832684876478, \"Power\": 61.90832684876478, \"i_spike\": 58.0, \"isi\": 0.06029099859845484}, {\"i_trial\": 24, \"mouse\": \"1\", \"neuron_x_mouse\": \"1m1bayes\", \"stim\": 0, \"Log power\": 1.68640969040892, \"Firing rate\": 48.57465116245396, \"Power\": 48.57465116245396, \"i_spike\": 44.0, \"isi\": 0.08025431234189667}, {\"i_trial\": 24, \"mouse\": \"1\", \"neuron_x_mouse\": \"1m1bayes\", \"stim\": 1, \"Log power\": 2.0702302677582023, \"Firing rate\": 117.55206638482886, \"Power\": 117.55206638482886, \"i_spike\": 67.0, \"isi\": 0.05226492198718878}, {\"i_trial\": 25, \"mouse\": \"1\", \"neuron_x_mouse\": \"1m1bayes\", \"stim\": 0, \"Log power\": 1.904986034103167, \"Firing rate\": 80.35002830765374, \"Power\": 80.35002830765374, \"i_spike\": 56.0, \"isi\": 0.060303758790456394}, {\"i_trial\": 25, \"mouse\": \"1\", \"neuron_x_mouse\": \"1m1bayes\", \"stim\": 1, \"Log power\": 2.1900922989896427, \"Firing rate\": 154.91458181237653, \"Power\": 154.91458181237653, \"i_spike\": 61.0, \"isi\": 0.056213907931850486}, {\"i_trial\": 26, \"mouse\": \"1\", \"neuron_x_mouse\": \"1m1bayes\", \"stim\": 0, \"Log power\": 2.0528666146713856, \"Firing rate\": 112.94489725265156, \"Power\": 112.94489725265156, \"i_spike\": 59.0, \"isi\": 0.05694293325745799}, {\"i_trial\": 26, \"mouse\": \"1\", \"neuron_x_mouse\": \"1m1bayes\", \"stim\": 1, \"Log power\": 1.8126033107325479, \"Firing rate\": 64.95361259918802, \"Power\": 64.95361259918802, \"i_spike\": 53.0, \"isi\": 0.0635134377371284}, {\"i_trial\": 27, \"mouse\": \"1\", \"neuron_x_mouse\": \"1m1bayes\", \"stim\": 0, \"Log power\": 1.8912774984868868, \"Firing rate\": 77.85338471528546, \"Power\": 77.85338471528546, \"i_spike\": 41.0, \"isi\": 0.08548741489492409}, {\"i_trial\": 27, \"mouse\": \"1\", \"neuron_x_mouse\": \"1m1bayes\", \"stim\": 1, \"Log power\": 2.2468488813958944, \"Firing rate\": 176.5423410984183, \"Power\": 176.5423410984183, \"i_spike\": 63.5, \"isi\": 0.05401283444073827}, {\"i_trial\": 28, \"mouse\": \"1\", \"neuron_x_mouse\": \"1m1bayes\", \"stim\": 0, \"Log power\": 1.7540632578398923, \"Firing rate\": 56.76272780236963, \"Power\": 56.76272780236963, \"i_spike\": 39.0, \"isi\": 0.08975697359783687}, {\"i_trial\": 28, \"mouse\": \"1\", \"neuron_x_mouse\": \"1m1bayes\", \"stim\": 1, \"Log power\": 2.0934667909383142, \"Firing rate\": 124.0128792948728, \"Power\": 124.0128792948728, \"i_spike\": 69.5, \"isi\": 0.04978942820454191}, {\"i_trial\": 29, \"mouse\": \"1\", \"neuron_x_mouse\": \"1m1bayes\", \"stim\": 0, \"Log power\": 1.8754566965595527, \"Firing rate\": 75.06831998740466, \"Power\": 75.06831998740466, \"i_spike\": 51.5, \"isi\": 0.06648081118677622}, {\"i_trial\": 29, \"mouse\": \"1\", \"neuron_x_mouse\": \"1m1bayes\", \"stim\": 1, \"Log power\": 1.9302237236172726, \"Firing rate\": 85.15766086740571, \"Power\": 85.15766086740571, \"i_spike\": 61.0, \"isi\": 0.05607764044941031}, {\"i_trial\": 0, \"mouse\": \"2\", \"neuron_x_mouse\": \"2m1bayes\", \"stim\": 0, \"Log power\": 1.9181060256411722, \"Firing rate\": 82.81443164420308, \"Power\": 82.81443164420308, \"i_spike\": 51.5, \"isi\": 0.06815238964963752}, {\"i_trial\": 0, \"mouse\": \"2\", \"neuron_x_mouse\": \"2m1bayes\", \"stim\": 1, \"Log power\": 2.018546074387876, \"Firing rate\": 104.36288456473498, \"Power\": 104.36288456473498, \"i_spike\": 83.5, \"isi\": 0.042106154779931335}, {\"i_trial\": 1, \"mouse\": \"2\", \"neuron_x_mouse\": \"2m1bayes\", \"stim\": 0, \"Log power\": 2.309419797888532, \"Firing rate\": 203.9012076019487, \"Power\": 203.9012076019487, \"i_spike\": 60.5, \"isi\": 0.05770983804280434}, {\"i_trial\": 1, \"mouse\": \"2\", \"neuron_x_mouse\": \"2m1bayes\", \"stim\": 1, \"Log power\": 2.949263056431505, \"Firing rate\": 889.7398788549752, \"Power\": 889.7398788549752, \"i_spike\": 52.5, \"isi\": 0.06635172549075877}, {\"i_trial\": 2, \"mouse\": \"2\", \"neuron_x_mouse\": \"2m1bayes\", \"stim\": 0, \"Log power\": 2.3124394801089854, \"Firing rate\": 205.32388831670355, \"Power\": 205.32388831670355, \"i_spike\": 61.0, \"isi\": 0.05762345355157022}, {\"i_trial\": 2, \"mouse\": \"2\", \"neuron_x_mouse\": \"2m1bayes\", \"stim\": 1, \"Log power\": 1.9986448184713261, \"Firing rate\": 99.68844426667305, \"Power\": 99.68844426667305, \"i_spike\": 54.0, \"isi\": 0.06391752713718217}, {\"i_trial\": 3, \"mouse\": \"2\", \"neuron_x_mouse\": \"2m1bayes\", \"stim\": 0, \"Log power\": 1.7988102702801168, \"Firing rate\": 62.92312312942131, \"Power\": 62.92312312942131, \"i_spike\": 52.5, \"isi\": 0.06648128372633252}, {\"i_trial\": 3, \"mouse\": \"2\", \"neuron_x_mouse\": \"2m1bayes\", \"stim\": 1, \"Log power\": 1.8204560128852958, \"Firing rate\": 66.13875460659732, \"Power\": 66.13875460659732, \"i_spike\": 66.0, \"isi\": 0.053063070306236214}, {\"i_trial\": 4, \"mouse\": \"2\", \"neuron_x_mouse\": \"2m1bayes\", \"stim\": 0, \"Log power\": 1.6545645134423057, \"Firing rate\": 45.140307524511655, \"Power\": 45.140307524511655, \"i_spike\": 53.0, \"isi\": 0.06474022029555271}, {\"i_trial\": 4, \"mouse\": \"2\", \"neuron_x_mouse\": \"2m1bayes\", \"stim\": 1, \"Log power\": 2.369120270734925, \"Firing rate\": 233.9485030972436, \"Power\": 233.9485030972436, \"i_spike\": 77.0, \"isi\": 0.04551954692971502}, {\"i_trial\": 5, \"mouse\": \"2\", \"neuron_x_mouse\": \"2m1bayes\", \"stim\": 0, \"Log power\": 2.0885624381229415, \"Firing rate\": 122.62031801227072, \"Power\": 122.62031801227072, \"i_spike\": 60.0, \"isi\": 0.05790501654865011}, {\"i_trial\": 5, \"mouse\": \"2\", \"neuron_x_mouse\": \"2m1bayes\", \"stim\": 1, \"Log power\": 1.9620082665626624, \"Firing rate\": 91.62379300538723, \"Power\": 91.62379300538723, \"i_spike\": 58.0, \"isi\": 0.05835376593313452}, {\"i_trial\": 6, \"mouse\": \"2\", \"neuron_x_mouse\": \"2m1bayes\", \"stim\": 0, \"Log power\": 2.1308839745411183, \"Firing rate\": 135.1711393774058, \"Power\": 135.1711393774058, \"i_spike\": 45.5, \"isi\": 0.07733792603958839}, {\"i_trial\": 6, \"mouse\": \"2\", \"neuron_x_mouse\": \"2m1bayes\", \"stim\": 1, \"Log power\": 2.0670622584974274, \"Firing rate\": 116.69768976131262, \"Power\": 116.69768976131262, \"i_spike\": 64.0, \"isi\": 0.054921761479359815}, {\"i_trial\": 7, \"mouse\": \"2\", \"neuron_x_mouse\": \"2m1bayes\", \"stim\": 0, \"Log power\": 1.9150147067382557, \"Firing rate\": 82.22704944458927, \"Power\": 82.22704944458927, \"i_spike\": 59.0, \"isi\": 0.05875144603378464}, {\"i_trial\": 7, \"mouse\": \"2\", \"neuron_x_mouse\": \"2m1bayes\", \"stim\": 1, \"Log power\": 2.290275667163335, \"Firing rate\": 195.10826508480872, \"Power\": 195.10826508480872, \"i_spike\": 62.0, \"isi\": 0.05622973283649274}, {\"i_trial\": 8, \"mouse\": \"2\", \"neuron_x_mouse\": \"2m1bayes\", \"stim\": 0, \"Log power\": 2.304923352154472, \"Firing rate\": 201.8010177294551, \"Power\": 201.8010177294551, \"i_spike\": 59.0, \"isi\": 0.059290571101179}, {\"i_trial\": 8, \"mouse\": \"2\", \"neuron_x_mouse\": \"2m1bayes\", \"stim\": 1, \"Log power\": 2.2409854400451263, \"Firing rate\": 174.17484793630888, \"Power\": 174.17484793630888, \"i_spike\": 72.5, \"isi\": 0.0463253975492999}, {\"i_trial\": 9, \"mouse\": \"2\", \"neuron_x_mouse\": \"2m1bayes\", \"stim\": 0, \"Log power\": 1.9065398980859305, \"Firing rate\": 80.63802790904748, \"Power\": 80.63802790904748, \"i_spike\": 60.5, \"isi\": 0.05762495082385595}, {\"i_trial\": 9, \"mouse\": \"2\", \"neuron_x_mouse\": \"2m1bayes\", \"stim\": 1, \"Log power\": 2.1007954701281557, \"Firing rate\": 126.1233420060454, \"Power\": 126.1233420060454, \"i_spike\": 55.0, \"isi\": 0.06290488737663213}, {\"i_trial\": 10, \"mouse\": \"2\", \"neuron_x_mouse\": \"2m1bayes\", \"stim\": 0, \"Log power\": 1.729320135921484, \"Firing rate\": 53.619176037412224, \"Power\": 53.619176037412224, \"i_spike\": 49.5, \"isi\": 0.07119627684448841}, {\"i_trial\": 10, \"mouse\": \"2\", \"neuron_x_mouse\": \"2m1bayes\", \"stim\": 1, \"Log power\": 3.6192856405196534, \"Firing rate\": 4161.842497061359, \"Power\": 4161.842497061359, \"i_spike\": 66.0, \"isi\": 0.05314909020822601}, {\"i_trial\": 11, \"mouse\": \"2\", \"neuron_x_mouse\": \"2m1bayes\", \"stim\": 0, \"Log power\": 1.86460675734994, \"Firing rate\": 73.21612794160502, \"Power\": 73.21612794160502, \"i_spike\": 62.5, \"isi\": 0.05525091559143004}, {\"i_trial\": 11, \"mouse\": \"2\", \"neuron_x_mouse\": \"2m1bayes\", \"stim\": 1, \"Log power\": 2.0839561022774857, \"Firing rate\": 121.32662094520164, \"Power\": 121.32662094520164, \"i_spike\": 66.5, \"isi\": 0.05228064748724681}, {\"i_trial\": 12, \"mouse\": \"2\", \"neuron_x_mouse\": \"2m1bayes\", \"stim\": 0, \"Log power\": 2.0039911683611247, \"Firing rate\": 100.92323625223439, \"Power\": 100.92323625223439, \"i_spike\": 55.5, \"isi\": 0.06271771179195162}, {\"i_trial\": 12, \"mouse\": \"2\", \"neuron_x_mouse\": \"2m1bayes\", \"stim\": 1, \"Log power\": 1.8463393142289726, \"Firing rate\": 70.2003559514576, \"Power\": 70.2003559514576, \"i_spike\": 61.0, \"isi\": 0.05701549886079431}, {\"i_trial\": 13, \"mouse\": \"2\", \"neuron_x_mouse\": \"2m1bayes\", \"stim\": 0, \"Log power\": 1.940280429495764, \"Firing rate\": 87.1526163885084, \"Power\": 87.1526163885084, \"i_spike\": 58.0, \"isi\": 0.059638543809893106}, {\"i_trial\": 13, \"mouse\": \"2\", \"neuron_x_mouse\": \"2m1bayes\", \"stim\": 1, \"Log power\": 2.537212409327197, \"Firing rate\": 344.51839025312785, \"Power\": 344.51839025312785, \"i_spike\": 77.0, \"isi\": 0.04409623062403987}, {\"i_trial\": 14, \"mouse\": \"2\", \"neuron_x_mouse\": \"2m1bayes\", \"stim\": 0, \"Log power\": 1.7389307415072914, \"Firing rate\": 54.818953620580594, \"Power\": 54.818953620580594, \"i_spike\": 46.0, \"isi\": 0.07591899910813225}, {\"i_trial\": 14, \"mouse\": \"2\", \"neuron_x_mouse\": \"2m1bayes\", \"stim\": 1, \"Log power\": 2.16201266536505, \"Firing rate\": 145.21539662536227, \"Power\": 145.21539662536227, \"i_spike\": 72.5, \"isi\": 0.048471887498171176}, {\"i_trial\": 15, \"mouse\": \"2\", \"neuron_x_mouse\": \"2m1bayes\", \"stim\": 0, \"Log power\": 1.972312415123987, \"Firing rate\": 93.82366964322442, \"Power\": 93.82366964322442, \"i_spike\": 65.0, \"isi\": 0.05359548817370349}, {\"i_trial\": 15, \"mouse\": \"2\", \"neuron_x_mouse\": \"2m1bayes\", \"stim\": 1, \"Log power\": 2.258222773581769, \"Firing rate\": 181.2269467152886, \"Power\": 181.2269467152886, \"i_spike\": 67.5, \"isi\": 0.05153349037078388}, {\"i_trial\": 16, \"mouse\": \"2\", \"neuron_x_mouse\": \"2m1bayes\", \"stim\": 0, \"Log power\": 2.0603377694876843, \"Firing rate\": 114.90469372642437, \"Power\": 114.90469372642437, \"i_spike\": 67.5, \"isi\": 0.050211076723540624}, {\"i_trial\": 16, \"mouse\": \"2\", \"neuron_x_mouse\": \"2m1bayes\", \"stim\": 1, \"Log power\": 2.211036556981759, \"Firing rate\": 162.56855929884355, \"Power\": 162.56855929884355, \"i_spike\": 59.5, \"isi\": 0.05886319573274918}, {\"i_trial\": 17, \"mouse\": \"2\", \"neuron_x_mouse\": \"2m1bayes\", \"stim\": 0, \"Log power\": 3.2445141848280112, \"Firing rate\": 1755.958245973122, \"Power\": 1755.958245973122, \"i_spike\": 56.0, \"isi\": 0.06266760830206022}, {\"i_trial\": 17, \"mouse\": \"2\", \"neuron_x_mouse\": \"2m1bayes\", \"stim\": 1, \"Log power\": 1.8990404611190566, \"Firing rate\": 79.2575167440785, \"Power\": 79.2575167440785, \"i_spike\": 73.5, \"isi\": 0.04751779584918633}, {\"i_trial\": 18, \"mouse\": \"2\", \"neuron_x_mouse\": \"2m1bayes\", \"stim\": 0, \"Log power\": 2.0746529061746037, \"Firing rate\": 118.75527403969862, \"Power\": 118.75527403969862, \"i_spike\": 48.5, \"isi\": 0.07227860933772466}, {\"i_trial\": 18, \"mouse\": \"2\", \"neuron_x_mouse\": \"2m1bayes\", \"stim\": 1, \"Log power\": 2.3635625287467232, \"Firing rate\": 230.97369857380548, \"Power\": 230.97369857380548, \"i_spike\": 71.0, \"isi\": 0.049475321612282346}, {\"i_trial\": 19, \"mouse\": \"2\", \"neuron_x_mouse\": \"2m1bayes\", \"stim\": 0, \"Log power\": 1.7816766531733799, \"Firing rate\": 60.489034588134714, \"Power\": 60.489034588134714, \"i_spike\": 56.0, \"isi\": 0.062091708644045694}, {\"i_trial\": 19, \"mouse\": \"2\", \"neuron_x_mouse\": \"2m1bayes\", \"stim\": 1, \"Log power\": 2.0288198621931057, \"Firing rate\": 106.86115457793456, \"Power\": 106.86115457793456, \"i_spike\": 68.5, \"isi\": 0.051320430743806565}, {\"i_trial\": 20, \"mouse\": \"2\", \"neuron_x_mouse\": \"2m1bayes\", \"stim\": 0, \"Log power\": 2.2906691278401694, \"Firing rate\": 195.28510872084732, \"Power\": 195.28510872084732, \"i_spike\": 53.5, \"isi\": 0.06454526005499597}, {\"i_trial\": 20, \"mouse\": \"2\", \"neuron_x_mouse\": \"2m1bayes\", \"stim\": 1, \"Log power\": 2.5283292836102227, \"Firing rate\": 337.54313806080665, \"Power\": 337.54313806080665, \"i_spike\": 80.0, \"isi\": 0.0431246404355349}, {\"i_trial\": 21, \"mouse\": \"2\", \"neuron_x_mouse\": \"2m1bayes\", \"stim\": 0, \"Log power\": 2.2476058444326834, \"Firing rate\": 176.85031774057794, \"Power\": 176.85031774057794, \"i_spike\": 54.5, \"isi\": 0.06379956114880764}, {\"i_trial\": 21, \"mouse\": \"2\", \"neuron_x_mouse\": \"2m1bayes\", \"stim\": 1, \"Log power\": 1.8612401666776395, \"Firing rate\": 72.65076081348326, \"Power\": 72.65076081348326, \"i_spike\": 54.5, \"isi\": 0.06362146964489288}, {\"i_trial\": 22, \"mouse\": \"2\", \"neuron_x_mouse\": \"2m1bayes\", \"stim\": 0, \"Log power\": 1.8996154015096085, \"Firing rate\": 79.36251122514112, \"Power\": 79.36251122514112, \"i_spike\": 63.0, \"isi\": 0.05559245395572306}, {\"i_trial\": 22, \"mouse\": \"2\", \"neuron_x_mouse\": \"2m1bayes\", \"stim\": 1, \"Log power\": 2.165748596453986, \"Firing rate\": 146.4699712973768, \"Power\": 146.4699712973768, \"i_spike\": 69.0, \"isi\": 0.04967890314890585}, {\"i_trial\": 23, \"mouse\": \"2\", \"neuron_x_mouse\": \"2m1bayes\", \"stim\": 0, \"Log power\": 2.4793104425660335, \"Firing rate\": 301.5160552390871, \"Power\": 301.5160552390871, \"i_spike\": 50.5, \"isi\": 0.06932793987018304}, {\"i_trial\": 23, \"mouse\": \"2\", \"neuron_x_mouse\": \"2m1bayes\", \"stim\": 1, \"Log power\": 2.042075706237996, \"Firing rate\": 110.17313466719872, \"Power\": 110.17313466719872, \"i_spike\": 79.0, \"isi\": 0.04355074452091265}, {\"i_trial\": 24, \"mouse\": \"2\", \"neuron_x_mouse\": \"2m1bayes\", \"stim\": 0, \"Log power\": 1.6965675191319265, \"Firing rate\": 49.72416731565406, \"Power\": 49.72416731565406, \"i_spike\": 47.5, \"isi\": 0.07400154599362022}, {\"i_trial\": 24, \"mouse\": \"2\", \"neuron_x_mouse\": \"2m1bayes\", \"stim\": 1, \"Log power\": 1.7932217410785565, \"Firing rate\": 62.11861170556223, \"Power\": 62.11861170556223, \"i_spike\": 55.0, \"isi\": 0.06381154957048925}, {\"i_trial\": 25, \"mouse\": \"2\", \"neuron_x_mouse\": \"2m1bayes\", \"stim\": 0, \"Log power\": 2.008294812853444, \"Firing rate\": 101.92830749018003, \"Power\": 101.92830749018003, \"i_spike\": 66.0, \"isi\": 0.053251052437705525}, {\"i_trial\": 25, \"mouse\": \"2\", \"neuron_x_mouse\": \"2m1bayes\", \"stim\": 1, \"Log power\": 2.2106456089746502, \"Firing rate\": 162.42228238467473, \"Power\": 162.42228238467473, \"i_spike\": 66.0, \"isi\": 0.051839313742910106}, {\"i_trial\": 26, \"mouse\": \"2\", \"neuron_x_mouse\": \"2m1bayes\", \"stim\": 0, \"Log power\": 2.0113746363112437, \"Firing rate\": 102.65370681300006, \"Power\": 102.65370681300006, \"i_spike\": 59.0, \"isi\": 0.05968556419475339}, {\"i_trial\": 26, \"mouse\": \"2\", \"neuron_x_mouse\": \"2m1bayes\", \"stim\": 1, \"Log power\": 2.0629323997846494, \"Firing rate\": 115.59323012589081, \"Power\": 115.59323012589081, \"i_spike\": 67.0, \"isi\": 0.05103781848112764}, {\"i_trial\": 27, \"mouse\": \"2\", \"neuron_x_mouse\": \"2m1bayes\", \"stim\": 0, \"Log power\": 1.950322588513664, \"Firing rate\": 89.19131941196625, \"Power\": 89.19131941196625, \"i_spike\": 60.5, \"isi\": 0.056689193644899445}, {\"i_trial\": 27, \"mouse\": \"2\", \"neuron_x_mouse\": \"2m1bayes\", \"stim\": 1, \"Log power\": 2.0359884328403215, \"Firing rate\": 108.63966877409759, \"Power\": 108.63966877409759, \"i_spike\": 65.5, \"isi\": 0.050541006596491696}, {\"i_trial\": 28, \"mouse\": \"2\", \"neuron_x_mouse\": \"2m1bayes\", \"stim\": 0, \"Log power\": 1.9913497959324213, \"Firing rate\": 98.02792186220542, \"Power\": 98.02792186220542, \"i_spike\": 55.5, \"isi\": 0.06266874234938581}, {\"i_trial\": 28, \"mouse\": \"2\", \"neuron_x_mouse\": \"2m1bayes\", \"stim\": 1, \"Log power\": 2.2290384847513933, \"Firing rate\": 169.448794985269, \"Power\": 169.448794985269, \"i_spike\": 77.0, \"isi\": 0.045604060497055204}, {\"i_trial\": 29, \"mouse\": \"2\", \"neuron_x_mouse\": \"2m1bayes\", \"stim\": 0, \"Log power\": 1.9155433647707962, \"Firing rate\": 82.32720374152022, \"Power\": 82.32720374152022, \"i_spike\": 54.5, \"isi\": 0.06258007454225395}, {\"i_trial\": 29, \"mouse\": \"2\", \"neuron_x_mouse\": \"2m1bayes\", \"stim\": 1, \"Log power\": 2.1493927872494343, \"Firing rate\": 141.0563972508061, \"Power\": 141.0563972508061, \"i_spike\": 66.0, \"isi\": 0.05270048741337895}, {\"i_trial\": 0, \"mouse\": \"3\", \"neuron_x_mouse\": \"3m1bayes\", \"stim\": 0, \"Log power\": 1.8325463297611662, \"Firing rate\": 68.00585885718199, \"Power\": 68.00585885718199, \"i_spike\": 55.5, \"isi\": 0.06215519704836116}, {\"i_trial\": 0, \"mouse\": \"3\", \"neuron_x_mouse\": \"3m1bayes\", \"stim\": 1, \"Log power\": 1.9976685970968386, \"Firing rate\": 99.46461297533408, \"Power\": 99.46461297533408, \"i_spike\": 69.0, \"isi\": 0.05027746662472989}, {\"i_trial\": 1, \"mouse\": \"3\", \"neuron_x_mouse\": \"3m1bayes\", \"stim\": 0, \"Log power\": 1.700448367370835, \"Firing rate\": 50.17049285333541, \"Power\": 50.17049285333541, \"i_spike\": 52.0, \"isi\": 0.06675916459451996}, {\"i_trial\": 1, \"mouse\": \"3\", \"neuron_x_mouse\": \"3m1bayes\", \"stim\": 1, \"Log power\": 2.0202285450429245, \"Firing rate\": 104.76797386124771, \"Power\": 104.76797386124771, \"i_spike\": 75.0, \"isi\": 0.04642732002845464}, {\"i_trial\": 2, \"mouse\": \"3\", \"neuron_x_mouse\": \"3m1bayes\", \"stim\": 0, \"Log power\": 1.7913963943889184, \"Firing rate\": 61.85807408731518, \"Power\": 61.85807408731518, \"i_spike\": 52.5, \"isi\": 0.06606729030133317}, {\"i_trial\": 2, \"mouse\": \"3\", \"neuron_x_mouse\": \"3m1bayes\", \"stim\": 1, \"Log power\": 2.1165871785866344, \"Firing rate\": 130.79380629744236, \"Power\": 130.79380629744236, \"i_spike\": 80.0, \"isi\": 0.042985820275689875}, {\"i_trial\": 3, \"mouse\": \"3\", \"neuron_x_mouse\": \"3m1bayes\", \"stim\": 0, \"Log power\": 1.9702824952330724, \"Firing rate\": 93.3861551558004, \"Power\": 93.3861551558004, \"i_spike\": 59.5, \"isi\": 0.05864530470405248}, {\"i_trial\": 3, \"mouse\": \"3\", \"neuron_x_mouse\": \"3m1bayes\", \"stim\": 1, \"Log power\": 2.028473140895932, \"Firing rate\": 106.77587545589998, \"Power\": 106.77587545589998, \"i_spike\": 78.5, \"isi\": 0.0434624103529991}, {\"i_trial\": 4, \"mouse\": \"3\", \"neuron_x_mouse\": \"3m1bayes\", \"stim\": 0, \"Log power\": 1.9517622273124653, \"Firing rate\": 89.48746948085207, \"Power\": 89.48746948085207, \"i_spike\": 56.0, \"isi\": 0.06118183373909489}, {\"i_trial\": 4, \"mouse\": \"3\", \"neuron_x_mouse\": \"3m1bayes\", \"stim\": 1, \"Log power\": 1.923829396498907, \"Firing rate\": 83.9130286988529, \"Power\": 83.9130286988529, \"i_spike\": 77.0, \"isi\": 0.044254808176746936}, {\"i_trial\": 5, \"mouse\": \"3\", \"neuron_x_mouse\": \"3m1bayes\", \"stim\": 0, \"Log power\": 2.0385744775130683, \"Firing rate\": 109.28850308601133, \"Power\": 109.28850308601133, \"i_spike\": 49.0, \"isi\": 0.07174921133708051}, {\"i_trial\": 5, \"mouse\": \"3\", \"neuron_x_mouse\": \"3m1bayes\", \"stim\": 1, \"Log power\": 1.990289118533137, \"Firing rate\": 97.78880039380928, \"Power\": 97.78880039380928, \"i_spike\": 80.5, \"isi\": 0.04187633029277202}, {\"i_trial\": 6, \"mouse\": \"3\", \"neuron_x_mouse\": \"3m1bayes\", \"stim\": 0, \"Log power\": 1.8529285090422978, \"Firing rate\": 71.27356941860306, \"Power\": 71.27356941860306, \"i_spike\": 51.0, \"isi\": 0.06865198839771502}, {\"i_trial\": 6, \"mouse\": \"3\", \"neuron_x_mouse\": \"3m1bayes\", \"stim\": 1, \"Log power\": 1.9390193588122018, \"Firing rate\": 86.89991643321996, \"Power\": 86.89991643321996, \"i_spike\": 70.0, \"isi\": 0.048539305335645044}, {\"i_trial\": 7, \"mouse\": \"3\", \"neuron_x_mouse\": \"3m1bayes\", \"stim\": 0, \"Log power\": 1.8701242612251296, \"Firing rate\": 74.1522376849743, \"Power\": 74.1522376849743, \"i_spike\": 55.0, \"isi\": 0.06048196325477055}, {\"i_trial\": 7, \"mouse\": \"3\", \"neuron_x_mouse\": \"3m1bayes\", \"stim\": 1, \"Log power\": 1.8541862845397867, \"Firing rate\": 71.48028650128437, \"Power\": 71.48028650128437, \"i_spike\": 65.5, \"isi\": 0.053406759388457674}, {\"i_trial\": 8, \"mouse\": \"3\", \"neuron_x_mouse\": \"3m1bayes\", \"stim\": 0, \"Log power\": 2.649320825311691, \"Firing rate\": 445.9855885908311, \"Power\": 445.9855885908311, \"i_spike\": 61.5, \"isi\": 0.05697318998311226}, {\"i_trial\": 8, \"mouse\": \"3\", \"neuron_x_mouse\": \"3m1bayes\", \"stim\": 1, \"Log power\": 2.131115284493148, \"Firing rate\": 135.2431521681898, \"Power\": 135.2431521681898, \"i_spike\": 67.0, \"isi\": 0.052040846397761444}, {\"i_trial\": 9, \"mouse\": \"3\", \"neuron_x_mouse\": \"3m1bayes\", \"stim\": 0, \"Log power\": 1.8118307066073187, \"Firing rate\": 64.83816370503355, \"Power\": 64.83816370503355, \"i_spike\": 58.5, \"isi\": 0.05999504198261339}, {\"i_trial\": 9, \"mouse\": \"3\", \"neuron_x_mouse\": \"3m1bayes\", \"stim\": 1, \"Log power\": 2.3786604224151766, \"Firing rate\": 239.14451391930652, \"Power\": 239.14451391930652, \"i_spike\": 91.5, \"isi\": 0.03817816803701536}, {\"i_trial\": 10, \"mouse\": \"3\", \"neuron_x_mouse\": \"3m1bayes\", \"stim\": 0, \"Log power\": 1.940940173419587, \"Firing rate\": 87.28511198083284, \"Power\": 87.28511198083284, \"i_spike\": 72.5, \"isi\": 0.04853719543919961}, {\"i_trial\": 10, \"mouse\": \"3\", \"neuron_x_mouse\": \"3m1bayes\", \"stim\": 1, \"Log power\": 2.244333006392083, \"Firing rate\": 175.5225850259931, \"Power\": 175.5225850259931, \"i_spike\": 85.5, \"isi\": 0.039867094020145905}, {\"i_trial\": 11, \"mouse\": \"3\", \"neuron_x_mouse\": \"3m1bayes\", \"stim\": 0, \"Log power\": 1.7325645681674482, \"Firing rate\": 54.02124241743482, \"Power\": 54.02124241743482, \"i_spike\": 54.5, \"isi\": 0.06361089162205201}, {\"i_trial\": 11, \"mouse\": \"3\", \"neuron_x_mouse\": \"3m1bayes\", \"stim\": 1, \"Log power\": 2.3144429320342548, \"Firing rate\": 206.27325985021804, \"Power\": 206.27325985021804, \"i_spike\": 85.0, \"isi\": 0.04007861599160412}, {\"i_trial\": 12, \"mouse\": \"3\", \"neuron_x_mouse\": \"3m1bayes\", \"stim\": 0, \"Log power\": 1.9106892843151895, \"Firing rate\": 81.41216128685468, \"Power\": 81.41216128685468, \"i_spike\": 65.0, \"isi\": 0.053779955554504495}, {\"i_trial\": 12, \"mouse\": \"3\", \"neuron_x_mouse\": \"3m1bayes\", \"stim\": 1, \"Log power\": 1.9125500296287608, \"Firing rate\": 81.76172199599873, \"Power\": 81.76172199599873, \"i_spike\": 61.5, \"isi\": 0.05532278072519285}, {\"i_trial\": 13, \"mouse\": \"3\", \"neuron_x_mouse\": \"3m1bayes\", \"stim\": 0, \"Log power\": 2.3845425752144265, \"Firing rate\": 242.40555904796298, \"Power\": 242.40555904796298, \"i_spike\": 61.5, \"isi\": 0.05662217632218913}, {\"i_trial\": 13, \"mouse\": \"3\", \"neuron_x_mouse\": \"3m1bayes\", \"stim\": 1, \"Log power\": 1.9978568010298312, \"Firing rate\": 99.50772586036739, \"Power\": 99.50772586036739, \"i_spike\": 77.0, \"isi\": 0.045351643173789445}, {\"i_trial\": 14, \"mouse\": \"3\", \"neuron_x_mouse\": \"3m1bayes\", \"stim\": 0, \"Log power\": 1.8394092521494065, \"Firing rate\": 69.08905495294515, \"Power\": 69.08905495294515, \"i_spike\": 59.0, \"isi\": 0.05917473029224653}, {\"i_trial\": 14, \"mouse\": \"3\", \"neuron_x_mouse\": \"3m1bayes\", \"stim\": 1, \"Log power\": 2.117717096143435, \"Firing rate\": 131.13453969626565, \"Power\": 131.13453969626565, \"i_spike\": 80.0, \"isi\": 0.04367261842881739}, {\"i_trial\": 15, \"mouse\": \"3\", \"neuron_x_mouse\": \"3m1bayes\", \"stim\": 0, \"Log power\": 2.322184763177325, \"Firing rate\": 209.98330317584004, \"Power\": 209.98330317584004, \"i_spike\": 66.5, \"isi\": 0.0526928338366183}, {\"i_trial\": 15, \"mouse\": \"3\", \"neuron_x_mouse\": \"3m1bayes\", \"stim\": 1, \"Log power\": 2.2317345149761483, \"Firing rate\": 170.50397763762135, \"Power\": 170.50397763762135, \"i_spike\": 72.5, \"isi\": 0.04697500903527002}, {\"i_trial\": 16, \"mouse\": \"3\", \"neuron_x_mouse\": \"3m1bayes\", \"stim\": 0, \"Log power\": 2.0065747129676463, \"Firing rate\": 101.52540087080571, \"Power\": 101.52540087080571, \"i_spike\": 62.5, \"isi\": 0.05583498962081577}, {\"i_trial\": 16, \"mouse\": \"3\", \"neuron_x_mouse\": \"3m1bayes\", \"stim\": 1, \"Log power\": 2.024891331328123, \"Firing rate\": 105.89887130704494, \"Power\": 105.89887130704494, \"i_spike\": 67.5, \"isi\": 0.04975169677116183}, {\"i_trial\": 17, \"mouse\": \"3\", \"neuron_x_mouse\": \"3m1bayes\", \"stim\": 0, \"Log power\": 2.506597806187793, \"Firing rate\": 321.0685791936605, \"Power\": 321.0685791936605, \"i_spike\": 59.5, \"isi\": 0.058982941586889714}, {\"i_trial\": 17, \"mouse\": \"3\", \"neuron_x_mouse\": \"3m1bayes\", \"stim\": 1, \"Log power\": 2.060713533095414, \"Firing rate\": 115.00415547051082, \"Power\": 115.00415547051082, \"i_spike\": 76.5, \"isi\": 0.04514389527844118}, {\"i_trial\": 18, \"mouse\": \"3\", \"neuron_x_mouse\": \"3m1bayes\", \"stim\": 0, \"Log power\": 3.293487705336002, \"Firing rate\": 1965.5663355727668, \"Power\": 1965.5663355727668, \"i_spike\": 65.0, \"isi\": 0.053735967679059415}, {\"i_trial\": 18, \"mouse\": \"3\", \"neuron_x_mouse\": \"3m1bayes\", \"stim\": 1, \"Log power\": 2.168154570396605, \"Firing rate\": 147.28366086329, \"Power\": 147.28366086329, \"i_spike\": 78.5, \"isi\": 0.044363842039170966}, {\"i_trial\": 19, \"mouse\": \"3\", \"neuron_x_mouse\": \"3m1bayes\", \"stim\": 0, \"Log power\": 1.9673787576404613, \"Firing rate\": 92.76384843516824, \"Power\": 92.76384843516824, \"i_spike\": 47.5, \"isi\": 0.0726962024653922}, {\"i_trial\": 19, \"mouse\": \"3\", \"neuron_x_mouse\": \"3m1bayes\", \"stim\": 1, \"Log power\": 2.253312385634597, \"Firing rate\": 179.18942903146032, \"Power\": 179.18942903146032, \"i_spike\": 73.0, \"isi\": 0.04770320936964491}, {\"i_trial\": 20, \"mouse\": \"3\", \"neuron_x_mouse\": \"3m1bayes\", \"stim\": 0, \"Log power\": 2.1680242232967615, \"Firing rate\": 147.2394624722534, \"Power\": 147.2394624722534, \"i_spike\": 60.5, \"isi\": 0.056462373044229665}, {\"i_trial\": 20, \"mouse\": \"3\", \"neuron_x_mouse\": \"3m1bayes\", \"stim\": 1, \"Log power\": 2.3186524127251777, \"Firing rate\": 208.28232297665915, \"Power\": 208.28232297665915, \"i_spike\": 72.5, \"isi\": 0.048324822502450154}, {\"i_trial\": 21, \"mouse\": \"3\", \"neuron_x_mouse\": \"3m1bayes\", \"stim\": 0, \"Log power\": 1.9008645834479778, \"Firing rate\": 79.59111401548843, \"Power\": 79.59111401548843, \"i_spike\": 56.5, \"isi\": 0.061557240188319894}, {\"i_trial\": 21, \"mouse\": \"3\", \"neuron_x_mouse\": \"3m1bayes\", \"stim\": 1, \"Log power\": 2.4988572180265582, \"Firing rate\": 315.3967530429729, \"Power\": 315.3967530429729, \"i_spike\": 76.5, \"isi\": 0.045365074440076335}, {\"i_trial\": 22, \"mouse\": \"3\", \"neuron_x_mouse\": \"3m1bayes\", \"stim\": 0, \"Log power\": 2.3414846907629987, \"Firing rate\": 219.52535632857214, \"Power\": 219.52535632857214, \"i_spike\": 49.5, \"isi\": 0.07041005676614177}, {\"i_trial\": 22, \"mouse\": \"3\", \"neuron_x_mouse\": \"3m1bayes\", \"stim\": 1, \"Log power\": 2.1827715232677125, \"Firing rate\": 152.3251180143819, \"Power\": 152.3251180143819, \"i_spike\": 78.5, \"isi\": 0.0439599375102075}, {\"i_trial\": 23, \"mouse\": \"3\", \"neuron_x_mouse\": \"3m1bayes\", \"stim\": 0, \"Log power\": 2.170423089989334, \"Firing rate\": 148.0550038713412, \"Power\": 148.0550038713412, \"i_spike\": 63.0, \"isi\": 0.053517780020565515}, {\"i_trial\": 23, \"mouse\": \"3\", \"neuron_x_mouse\": \"3m1bayes\", \"stim\": 1, \"Log power\": 1.987316530610234, \"Firing rate\": 97.12175702668944, \"Power\": 97.12175702668944, \"i_spike\": 73.5, \"isi\": 0.04749345870101343}, {\"i_trial\": 24, \"mouse\": \"3\", \"neuron_x_mouse\": \"3m1bayes\", \"stim\": 0, \"Log power\": 1.9659014812705704, \"Firing rate\": 92.4488432021486, \"Power\": 92.4488432021486, \"i_spike\": 61.0, \"isi\": 0.05758172392436868}, {\"i_trial\": 24, \"mouse\": \"3\", \"neuron_x_mouse\": \"3m1bayes\", \"stim\": 1, \"Log power\": 2.6465890623290576, \"Firing rate\": 443.18909154934073, \"Power\": 443.18909154934073, \"i_spike\": 68.0, \"isi\": 0.05082316531490412}, {\"i_trial\": 25, \"mouse\": \"3\", \"neuron_x_mouse\": \"3m1bayes\", \"stim\": 0, \"Log power\": 3.341218361046781, \"Firing rate\": 2193.9077436892844, \"Power\": 2193.9077436892844, \"i_spike\": 59.5, \"isi\": 0.058107691972198616}, {\"i_trial\": 25, \"mouse\": \"3\", \"neuron_x_mouse\": \"3m1bayes\", \"stim\": 1, \"Log power\": 2.0830431764198876, \"Firing rate\": 121.07184940289758, \"Power\": 121.07184940289758, \"i_spike\": 77.5, \"isi\": 0.04513784713772521}, {\"i_trial\": 26, \"mouse\": \"3\", \"neuron_x_mouse\": \"3m1bayes\", \"stim\": 0, \"Log power\": 2.547180155143695, \"Firing rate\": 352.51707274694485, \"Power\": 352.51707274694485, \"i_spike\": 65.5, \"isi\": 0.051821107315707986}, {\"i_trial\": 26, \"mouse\": \"3\", \"neuron_x_mouse\": \"3m1bayes\", \"stim\": 1, \"Log power\": 1.9876017258014076, \"Firing rate\": 97.1855564896597, \"Power\": 97.1855564896597, \"i_spike\": 82.0, \"isi\": 0.04221699295209715}, {\"i_trial\": 27, \"mouse\": \"3\", \"neuron_x_mouse\": \"3m1bayes\", \"stim\": 0, \"Log power\": 2.0772047837900787, \"Firing rate\": 119.45512409433417, \"Power\": 119.45512409433417, \"i_spike\": 57.5, \"isi\": 0.060271007289913574}, {\"i_trial\": 27, \"mouse\": \"3\", \"neuron_x_mouse\": \"3m1bayes\", \"stim\": 1, \"Log power\": 2.0997174239134844, \"Firing rate\": 125.81065514973179, \"Power\": 125.81065514973179, \"i_spike\": 72.0, \"isi\": 0.04765741140230473}, {\"i_trial\": 28, \"mouse\": \"3\", \"neuron_x_mouse\": \"3m1bayes\", \"stim\": 0, \"Log power\": 2.2276266791294512, \"Firing rate\": 168.8988447795564, \"Power\": 168.8988447795564, \"i_spike\": 52.5, \"isi\": 0.06682114984515057}, {\"i_trial\": 28, \"mouse\": \"3\", \"neuron_x_mouse\": \"3m1bayes\", \"stim\": 1, \"Log power\": 2.2976730808776447, \"Firing rate\": 198.46004289048133, \"Power\": 198.46004289048133, \"i_spike\": 86.5, \"isi\": 0.040475962095395925}, {\"i_trial\": 29, \"mouse\": \"3\", \"neuron_x_mouse\": \"3m1bayes\", \"stim\": 0, \"Log power\": 1.84748645585222, \"Firing rate\": 70.38602766185, \"Power\": 70.38602766185, \"i_spike\": 59.5, \"isi\": 0.058967478939390444}, {\"i_trial\": 29, \"mouse\": \"3\", \"neuron_x_mouse\": \"3m1bayes\", \"stim\": 1, \"Log power\": 4.510425189172217, \"Firing rate\": 32391.06213369127, \"Power\": 32391.06213369127, \"i_spike\": 86.0, \"isi\": 0.0406147268619902}, {\"i_trial\": 0, \"mouse\": \"4\", \"neuron_x_mouse\": \"4m1bayes\", \"stim\": 0, \"Log power\": 1.9562376213282204, \"Firing rate\": 90.4144034788369, \"Power\": 90.4144034788369, \"i_spike\": 62.5, \"isi\": 0.05619224243327517}, {\"i_trial\": 0, \"mouse\": \"4\", \"neuron_x_mouse\": \"4m1bayes\", \"stim\": 1, \"Log power\": 2.101100481619146, \"Firing rate\": 126.21195142214849, \"Power\": 126.21195142214849, \"i_spike\": 81.0, \"isi\": 0.043130801102305404}, {\"i_trial\": 1, \"mouse\": \"4\", \"neuron_x_mouse\": \"4m1bayes\", \"stim\": 0, \"Log power\": 1.9879853942743735, \"Firing rate\": 97.27145099370695, \"Power\": 97.27145099370695, \"i_spike\": 68.0, \"isi\": 0.051567856091946904}, {\"i_trial\": 1, \"mouse\": \"4\", \"neuron_x_mouse\": \"4m1bayes\", \"stim\": 1, \"Log power\": 2.286108476135081, \"Firing rate\": 193.24509357009435, \"Power\": 193.24509357009435, \"i_spike\": 87.5, \"isi\": 0.03959909146867693}, {\"i_trial\": 2, \"mouse\": \"4\", \"neuron_x_mouse\": \"4m1bayes\", \"stim\": 0, \"Log power\": 2.670590342469437, \"Firing rate\": 468.37137242631485, \"Power\": 468.37137242631485, \"i_spike\": 75.0, \"isi\": 0.04613776677181001}, {\"i_trial\": 2, \"mouse\": \"4\", \"neuron_x_mouse\": \"4m1bayes\", \"stim\": 1, \"Log power\": 2.0304882800624062, \"Firing rate\": 107.27246987314537, \"Power\": 107.27246987314537, \"i_spike\": 74.5, \"isi\": 0.04664032260717652}, {\"i_trial\": 3, \"mouse\": \"4\", \"neuron_x_mouse\": \"4m1bayes\", \"stim\": 0, \"Log power\": 2.1956645742227865, \"Firing rate\": 156.91504085387254, \"Power\": 156.91504085387254, \"i_spike\": 76.5, \"isi\": 0.045960254969104004}, {\"i_trial\": 3, \"mouse\": \"4\", \"neuron_x_mouse\": \"4m1bayes\", \"stim\": 1, \"Log power\": 2.3047341548752165, \"Firing rate\": 201.71312370860707, \"Power\": 201.71312370860707, \"i_spike\": 72.0, \"isi\": 0.04880371545814676}, {\"i_trial\": 4, \"mouse\": \"4\", \"neuron_x_mouse\": \"4m1bayes\", \"stim\": 0, \"Log power\": 2.2092906168473028, \"Firing rate\": 161.9163170654468, \"Power\": 161.9163170654468, \"i_spike\": 70.0, \"isi\": 0.04937420863169022}, {\"i_trial\": 4, \"mouse\": \"4\", \"neuron_x_mouse\": \"4m1bayes\", \"stim\": 1, \"Log power\": 2.2109728352269307, \"Firing rate\": 162.54470821536322, \"Power\": 162.54470821536322, \"i_spike\": 80.0, \"isi\": 0.041933044399713015}, {\"i_trial\": 5, \"mouse\": \"4\", \"neuron_x_mouse\": \"4m1bayes\", \"stim\": 0, \"Log power\": 2.0137363878205248, \"Firing rate\": 103.21347206729845, \"Power\": 103.21347206729845, \"i_spike\": 83.5, \"isi\": 0.041796968477122595}, {\"i_trial\": 5, \"mouse\": \"4\", \"neuron_x_mouse\": \"4m1bayes\", \"stim\": 1, \"Log power\": 2.2509441594701745, \"Firing rate\": 178.2149608247226, \"Power\": 178.2149608247226, \"i_spike\": 76.0, \"isi\": 0.045727617294242545}, {\"i_trial\": 6, \"mouse\": \"4\", \"neuron_x_mouse\": \"4m1bayes\", \"stim\": 0, \"Log power\": 2.001744310699474, \"Firing rate\": 100.4024500453739, \"Power\": 100.4024500453739, \"i_spike\": 74.5, \"isi\": 0.04682112707966867}, {\"i_trial\": 6, \"mouse\": \"4\", \"neuron_x_mouse\": \"4m1bayes\", \"stim\": 1, \"Log power\": 2.1792368546614793, \"Firing rate\": 151.09039432955012, \"Power\": 151.09039432955012, \"i_spike\": 78.0, \"isi\": 0.04315874307461282}, {\"i_trial\": 7, \"mouse\": \"4\", \"neuron_x_mouse\": \"4m1bayes\", \"stim\": 0, \"Log power\": 1.9702495730206038, \"Firing rate\": 93.3790761749715, \"Power\": 93.3790761749715, \"i_spike\": 70.5, \"isi\": 0.049295817582384424}, {\"i_trial\": 7, \"mouse\": \"4\", \"neuron_x_mouse\": \"4m1bayes\", \"stim\": 1, \"Log power\": 1.9287942063700145, \"Firing rate\": 84.87781799540653, \"Power\": 84.87781799540653, \"i_spike\": 93.5, \"isi\": 0.03744089911436355}, {\"i_trial\": 8, \"mouse\": \"4\", \"neuron_x_mouse\": \"4m1bayes\", \"stim\": 0, \"Log power\": 2.4343012586516743, \"Firing rate\": 271.83242449681, \"Power\": 271.83242449681, \"i_spike\": 74.0, \"isi\": 0.04717995265486207}, {\"i_trial\": 8, \"mouse\": \"4\", \"neuron_x_mouse\": \"4m1bayes\", \"stim\": 1, \"Log power\": 2.0317153911963945, \"Firing rate\": 107.57599983366845, \"Power\": 107.57599983366845, \"i_spike\": 77.5, \"isi\": 0.044659180291260946}, {\"i_trial\": 9, \"mouse\": \"4\", \"neuron_x_mouse\": \"4m1bayes\", \"stim\": 0, \"Log power\": 2.538619816825685, \"Firing rate\": 345.6366735866343, \"Power\": 345.6366735866343, \"i_spike\": 69.0, \"isi\": 0.04987060719026462}, {\"i_trial\": 9, \"mouse\": \"4\", \"neuron_x_mouse\": \"4m1bayes\", \"stim\": 1, \"Log power\": 2.125912650757204, \"Firing rate\": 133.63267153735805, \"Power\": 133.63267153735805, \"i_spike\": 94.0, \"isi\": 0.03672666424493816}, {\"i_trial\": 10, \"mouse\": \"4\", \"neuron_x_mouse\": \"4m1bayes\", \"stim\": 0, \"Log power\": 1.938338755894728, \"Firing rate\": 86.76383822038058, \"Power\": 86.76383822038058, \"i_spike\": 69.5, \"isi\": 0.05026671782717742}, {\"i_trial\": 10, \"mouse\": \"4\", \"neuron_x_mouse\": \"4m1bayes\", \"stim\": 1, \"Log power\": 2.4037954362884326, \"Firing rate\": 253.3934801824164, \"Power\": 253.3934801824164, \"i_spike\": 93.5, \"isi\": 0.03762314656073208}, {\"i_trial\": 11, \"mouse\": \"4\", \"neuron_x_mouse\": \"4m1bayes\", \"stim\": 0, \"Log power\": 2.2651317064341634, \"Firing rate\": 184.1330328346895, \"Power\": 184.1330328346895, \"i_spike\": 80.0, \"isi\": 0.043541966250593075}, {\"i_trial\": 11, \"mouse\": \"4\", \"neuron_x_mouse\": \"4m1bayes\", \"stim\": 1, \"Log power\": 2.1657795065980903, \"Firing rate\": 146.48039641035572, \"Power\": 146.48039641035572, \"i_spike\": 82.5, \"isi\": 0.04208207477896089}, {\"i_trial\": 12, \"mouse\": \"4\", \"neuron_x_mouse\": \"4m1bayes\", \"stim\": 0, \"Log power\": 3.039846463149008, \"Firing rate\": 1096.090624895018, \"Power\": 1096.090624895018, \"i_spike\": 64.5, \"isi\": 0.054368230627345186}, {\"i_trial\": 12, \"mouse\": \"4\", \"neuron_x_mouse\": \"4m1bayes\", \"stim\": 1, \"Log power\": 2.1847508373308697, \"Firing rate\": 153.02093007990325, \"Power\": 153.02093007990325, \"i_spike\": 75.0, \"isi\": 0.046055579798738776}, {\"i_trial\": 13, \"mouse\": \"4\", \"neuron_x_mouse\": \"4m1bayes\", \"stim\": 0, \"Log power\": 2.3967702930483537, \"Firing rate\": 249.32756352700292, \"Power\": 249.32756352700292, \"i_spike\": 67.5, \"isi\": 0.05167915910600714}, {\"i_trial\": 13, \"mouse\": \"4\", \"neuron_x_mouse\": \"4m1bayes\", \"stim\": 1, \"Log power\": 2.6172631692489285, \"Firing rate\": 414.25062205825833, \"Power\": 414.25062205825833, \"i_spike\": 93.0, \"isi\": 0.03618612909330755}, {\"i_trial\": 14, \"mouse\": \"4\", \"neuron_x_mouse\": \"4m1bayes\", \"stim\": 0, \"Log power\": 1.901163907452833, \"Firing rate\": 79.6459886309678, \"Power\": 79.6459886309678, \"i_spike\": 66.0, \"isi\": 0.05183027134442725}, {\"i_trial\": 14, \"mouse\": \"4\", \"neuron_x_mouse\": \"4m1bayes\", \"stim\": 1, \"Log power\": 2.305602163086689, \"Firing rate\": 202.11668337434807, \"Power\": 202.11668337434807, \"i_spike\": 102.0, \"isi\": 0.03413637220489317}, {\"i_trial\": 15, \"mouse\": \"4\", \"neuron_x_mouse\": \"4m1bayes\", \"stim\": 0, \"Log power\": 2.3291380129548584, \"Firing rate\": 213.37228738962216, \"Power\": 213.37228738962216, \"i_spike\": 77.5, \"isi\": 0.044877663451290774}, {\"i_trial\": 15, \"mouse\": \"4\", \"neuron_x_mouse\": \"4m1bayes\", \"stim\": 1, \"Log power\": 2.2755228845506035, \"Firing rate\": 188.59183427463276, \"Power\": 188.59183427463276, \"i_spike\": 76.5, \"isi\": 0.04396809620874814}, {\"i_trial\": 16, \"mouse\": \"4\", \"neuron_x_mouse\": \"4m1bayes\", \"stim\": 0, \"Log power\": 2.353947039476504, \"Firing rate\": 225.91602576128312, \"Power\": 225.91602576128312, \"i_spike\": 62.5, \"isi\": 0.05456273852987356}, {\"i_trial\": 16, \"mouse\": \"4\", \"neuron_x_mouse\": \"4m1bayes\", \"stim\": 1, \"Log power\": 2.126201600891653, \"Firing rate\": 133.72161125030243, \"Power\": 133.72161125030243, \"i_spike\": 77.5, \"isi\": 0.04396021940619256}, {\"i_trial\": 17, \"mouse\": \"4\", \"neuron_x_mouse\": \"4m1bayes\", \"stim\": 0, \"Log power\": 2.0436416254724743, \"Firing rate\": 110.57109881481709, \"Power\": 110.57109881481709, \"i_spike\": 62.5, \"isi\": 0.05605708181547205}, {\"i_trial\": 17, \"mouse\": \"4\", \"neuron_x_mouse\": \"4m1bayes\", \"stim\": 1, \"Log power\": 2.212783087489873, \"Firing rate\": 163.22365082213952, \"Power\": 163.22365082213952, \"i_spike\": 78.0, \"isi\": 0.04422515370023566}, {\"i_trial\": 18, \"mouse\": \"4\", \"neuron_x_mouse\": \"4m1bayes\", \"stim\": 0, \"Log power\": 2.0135928713971607, \"Firing rate\": 103.17936990453734, \"Power\": 103.17936990453734, \"i_spike\": 74.5, \"isi\": 0.04587078217610362}, {\"i_trial\": 18, \"mouse\": \"4\", \"neuron_x_mouse\": \"4m1bayes\", \"stim\": 1, \"Log power\": 2.0883029727594415, \"Firing rate\": 122.54708147671444, \"Power\": 122.54708147671444, \"i_spike\": 83.0, \"isi\": 0.041652551651917814}, {\"i_trial\": 19, \"mouse\": \"4\", \"neuron_x_mouse\": \"4m1bayes\", \"stim\": 0, \"Log power\": 2.0115339719275194, \"Firing rate\": 102.69137570619202, \"Power\": 102.69137570619202, \"i_spike\": 66.0, \"isi\": 0.05235562045293119}, {\"i_trial\": 19, \"mouse\": \"4\", \"neuron_x_mouse\": \"4m1bayes\", \"stim\": 1, \"Log power\": 2.3078959087545163, \"Firing rate\": 203.18699561122025, \"Power\": 203.18699561122025, \"i_spike\": 81.0, \"isi\": 0.042467977085649394}, {\"i_trial\": 20, \"mouse\": \"4\", \"neuron_x_mouse\": \"4m1bayes\", \"stim\": 0, \"Log power\": 1.808656285933241, \"Firing rate\": 64.36596517510401, \"Power\": 64.36596517510401, \"i_spike\": 66.0, \"isi\": 0.052119384507608675}, {\"i_trial\": 20, \"mouse\": \"4\", \"neuron_x_mouse\": \"4m1bayes\", \"stim\": 1, \"Log power\": 2.189282953745746, \"Firing rate\": 154.6261539595899, \"Power\": 154.6261539595899, \"i_spike\": 88.0, \"isi\": 0.03949292049513779}, {\"i_trial\": 21, \"mouse\": \"4\", \"neuron_x_mouse\": \"4m1bayes\", \"stim\": 0, \"Log power\": 1.9211091506331301, \"Firing rate\": 83.38907388942967, \"Power\": 83.38907388942967, \"i_spike\": 69.5, \"isi\": 0.0497894798268407}, {\"i_trial\": 21, \"mouse\": \"4\", \"neuron_x_mouse\": \"4m1bayes\", \"stim\": 1, \"Log power\": 2.1556508982779463, \"Firing rate\": 143.10371170605137, \"Power\": 143.10371170605137, \"i_spike\": 76.5, \"isi\": 0.044394745858995964}, {\"i_trial\": 22, \"mouse\": \"4\", \"neuron_x_mouse\": \"4m1bayes\", \"stim\": 0, \"Log power\": 2.033363794484195, \"Firing rate\": 107.98508997570244, \"Power\": 107.98508997570244, \"i_spike\": 77.0, \"isi\": 0.045692066089910374}, {\"i_trial\": 22, \"mouse\": \"4\", \"neuron_x_mouse\": \"4m1bayes\", \"stim\": 1, \"Log power\": 2.1576293251922425, \"Firing rate\": 143.75710727876148, \"Power\": 143.75710727876148, \"i_spike\": 74.0, \"isi\": 0.04625592713471723}, {\"i_trial\": 23, \"mouse\": \"4\", \"neuron_x_mouse\": \"4m1bayes\", \"stim\": 0, \"Log power\": 1.945375499883847, \"Firing rate\": 88.18109752849524, \"Power\": 88.18109752849524, \"i_spike\": 79.0, \"isi\": 0.04426788998779406}, {\"i_trial\": 23, \"mouse\": \"4\", \"neuron_x_mouse\": \"4m1bayes\", \"stim\": 1, \"Log power\": 2.2709668182274267, \"Firing rate\": 186.62370976790146, \"Power\": 186.62370976790146, \"i_spike\": 78.0, \"isi\": 0.044917888494994236}, {\"i_trial\": 24, \"mouse\": \"4\", \"neuron_x_mouse\": \"4m1bayes\", \"stim\": 0, \"Log power\": 1.8861667755437284, \"Firing rate\": 76.94258545391129, \"Power\": 76.94258545391129, \"i_spike\": 60.5, \"isi\": 0.057467758730370244}, {\"i_trial\": 24, \"mouse\": \"4\", \"neuron_x_mouse\": \"4m1bayes\", \"stim\": 1, \"Log power\": 2.3809882645133063, \"Firing rate\": 240.42978302972193, \"Power\": 240.42978302972193, \"i_spike\": 79.0, \"isi\": 0.04456433276046352}, {\"i_trial\": 25, \"mouse\": \"4\", \"neuron_x_mouse\": \"4m1bayes\", \"stim\": 0, \"Log power\": 2.0077075751530327, \"Firing rate\": 101.79057676151989, \"Power\": 101.79057676151989, \"i_spike\": 63.0, \"isi\": 0.05551447912338563}, {\"i_trial\": 25, \"mouse\": \"4\", \"neuron_x_mouse\": \"4m1bayes\", \"stim\": 1, \"Log power\": 2.2237597727358485, \"Firing rate\": 167.4016648089853, \"Power\": 167.4016648089853, \"i_spike\": 98.0, \"isi\": 0.03492033596442143}, {\"i_trial\": 26, \"mouse\": \"4\", \"neuron_x_mouse\": \"4m1bayes\", \"stim\": 0, \"Log power\": 2.1330648420660574, \"Firing rate\": 135.85162638673134, \"Power\": 135.85162638673134, \"i_spike\": 72.0, \"isi\": 0.04855180219989447}, {\"i_trial\": 26, \"mouse\": \"4\", \"neuron_x_mouse\": \"4m1bayes\", \"stim\": 1, \"Log power\": 2.2856389234271437, \"Firing rate\": 193.036272768223, \"Power\": 193.036272768223, \"i_spike\": 83.0, \"isi\": 0.041054288389576504}, {\"i_trial\": 27, \"mouse\": \"4\", \"neuron_x_mouse\": \"4m1bayes\", \"stim\": 0, \"Log power\": 2.5133678530763186, \"Firing rate\": 326.11280584256735, \"Power\": 326.11280584256735, \"i_spike\": 85.0, \"isi\": 0.04105947656381099}, {\"i_trial\": 27, \"mouse\": \"4\", \"neuron_x_mouse\": \"4m1bayes\", \"stim\": 1, \"Log power\": 2.871289395654867, \"Firing rate\": 743.5144197324223, \"Power\": 743.5144197324223, \"i_spike\": 90.5, \"isi\": 0.03871071379240329}, {\"i_trial\": 28, \"mouse\": \"4\", \"neuron_x_mouse\": \"4m1bayes\", \"stim\": 0, \"Log power\": 2.24060071131547, \"Firing rate\": 174.0206198758278, \"Power\": 174.0206198758278, \"i_spike\": 66.0, \"isi\": 0.05227571935507149}, {\"i_trial\": 28, \"mouse\": \"4\", \"neuron_x_mouse\": \"4m1bayes\", \"stim\": 1, \"Log power\": 2.278788942482773, \"Firing rate\": 190.01546223632593, \"Power\": 190.01546223632593, \"i_spike\": 91.5, \"isi\": 0.03816784530921738}, {\"i_trial\": 29, \"mouse\": \"4\", \"neuron_x_mouse\": \"4m1bayes\", \"stim\": 0, \"Log power\": 2.0810323250093212, \"Firing rate\": 120.5125635841836, \"Power\": 120.5125635841836, \"i_spike\": 70.0, \"isi\": 0.049935693506674955}, {\"i_trial\": 29, \"mouse\": \"4\", \"neuron_x_mouse\": \"4m1bayes\", \"stim\": 1, \"Log power\": 2.0300147692063115, \"Firing rate\": 107.15557453938523, \"Power\": 107.15557453938523, \"i_spike\": 83.5, \"isi\": 0.04134750160219224}, {\"i_trial\": 0, \"mouse\": \"5\", \"neuron_x_mouse\": \"5m1bayes\", \"stim\": 0, \"Log power\": 2.0719476287203507, \"Firing rate\": 118.01783101612855, \"Power\": 118.01783101612855, \"i_spike\": 84.0, \"isi\": 0.041665976142422644}, {\"i_trial\": 0, \"mouse\": \"5\", \"neuron_x_mouse\": \"5m1bayes\", \"stim\": 1, \"Log power\": 2.8243833488339662, \"Firing rate\": 667.3956149350557, \"Power\": 667.3956149350557, \"i_spike\": 101.0, \"isi\": 0.03404565956922121}, {\"i_trial\": 1, \"mouse\": \"5\", \"neuron_x_mouse\": \"5m1bayes\", \"stim\": 0, \"Log power\": 2.325041990662162, \"Firing rate\": 211.36933967843993, \"Power\": 211.36933967843993, \"i_spike\": 82.5, \"isi\": 0.042329446576389186}, {\"i_trial\": 1, \"mouse\": \"5\", \"neuron_x_mouse\": \"5m1bayes\", \"stim\": 1, \"Log power\": 2.090280494344373, \"Firing rate\": 123.10636114304698, \"Power\": 123.10636114304698, \"i_spike\": 106.0, \"isi\": 0.03282435262445314}, {\"i_trial\": 2, \"mouse\": \"5\", \"neuron_x_mouse\": \"5m1bayes\", \"stim\": 0, \"Log power\": 2.2045242578767037, \"Firing rate\": 160.14900983973342, \"Power\": 160.14900983973342, \"i_spike\": 81.5, \"isi\": 0.04315550597134219}, {\"i_trial\": 2, \"mouse\": \"5\", \"neuron_x_mouse\": \"5m1bayes\", \"stim\": 1, \"Log power\": 2.374653059719566, \"Firing rate\": 236.94800676825471, \"Power\": 236.94800676825471, \"i_spike\": 87.5, \"isi\": 0.03954246593290551}, {\"i_trial\": 3, \"mouse\": \"5\", \"neuron_x_mouse\": \"5m1bayes\", \"stim\": 0, \"Log power\": 2.1085760503813122, \"Firing rate\": 128.40326009124362, \"Power\": 128.40326009124362, \"i_spike\": 86.0, \"isi\": 0.04031308520195747}, {\"i_trial\": 3, \"mouse\": \"5\", \"neuron_x_mouse\": \"5m1bayes\", \"stim\": 1, \"Log power\": 2.2885244553467072, \"Firing rate\": 194.32311130958317, \"Power\": 194.32311130958317, \"i_spike\": 102.5, \"isi\": 0.03416183195273442}, {\"i_trial\": 4, \"mouse\": \"5\", \"neuron_x_mouse\": \"5m1bayes\", \"stim\": 0, \"Log power\": 2.246245388498324, \"Firing rate\": 176.29718933480396, \"Power\": 176.29718933480396, \"i_spike\": 75.5, \"isi\": 0.046282765363529724}, {\"i_trial\": 4, \"mouse\": \"5\", \"neuron_x_mouse\": \"5m1bayes\", \"stim\": 1, \"Log power\": 2.318035053178218, \"Firing rate\": 207.98645522820604, \"Power\": 207.98645522820604, \"i_spike\": 98.5, \"isi\": 0.035582714763522566}, {\"i_trial\": 5, \"mouse\": \"5\", \"neuron_x_mouse\": \"5m1bayes\", \"stim\": 0, \"Log power\": 3.4546066322777285, \"Firing rate\": 2848.4370907763914, \"Power\": 2848.4370907763914, \"i_spike\": 75.5, \"isi\": 0.04642901617959365}, {\"i_trial\": 5, \"mouse\": \"5\", \"neuron_x_mouse\": \"5m1bayes\", \"stim\": 1, \"Log power\": 2.4245997647980753, \"Firing rate\": 265.8274130011777, \"Power\": 265.8274130011777, \"i_spike\": 82.5, \"isi\": 0.042195199181199176}, {\"i_trial\": 6, \"mouse\": \"5\", \"neuron_x_mouse\": \"5m1bayes\", \"stim\": 0, \"Log power\": 2.318742560802718, \"Firing rate\": 208.3255613797376, \"Power\": 208.3255613797376, \"i_spike\": 70.5, \"isi\": 0.049308116562535496}, {\"i_trial\": 6, \"mouse\": \"5\", \"neuron_x_mouse\": \"5m1bayes\", \"stim\": 1, \"Log power\": 2.3569953480952557, \"Firing rate\": 227.5073061409105, \"Power\": 227.5073061409105, \"i_spike\": 103.5, \"isi\": 0.03380147266729884}, {\"i_trial\": 7, \"mouse\": \"5\", \"neuron_x_mouse\": \"5m1bayes\", \"stim\": 0, \"Log power\": 2.4907346309781255, \"Firing rate\": 309.5527246491189, \"Power\": 309.5527246491189, \"i_spike\": 80.5, \"isi\": 0.04350048562540252}, {\"i_trial\": 7, \"mouse\": \"5\", \"neuron_x_mouse\": \"5m1bayes\", \"stim\": 1, \"Log power\": 2.2861833670327907, \"Firing rate\": 193.27842014234568, \"Power\": 193.27842014234568, \"i_spike\": 87.5, \"isi\": 0.04001187183677171}, {\"i_trial\": 8, \"mouse\": \"5\", \"neuron_x_mouse\": \"5m1bayes\", \"stim\": 0, \"Log power\": 2.0634633119408416, \"Firing rate\": 115.73462583850048, \"Power\": 115.73462583850048, \"i_spike\": 83.5, \"isi\": 0.041848548696723664}, {\"i_trial\": 8, \"mouse\": \"5\", \"neuron_x_mouse\": \"5m1bayes\", \"stim\": 1, \"Log power\": 2.154221500617113, \"Firing rate\": 142.63348731659335, \"Power\": 142.63348731659335, \"i_spike\": 86.0, \"isi\": 0.040416211404743926}, {\"i_trial\": 9, \"mouse\": \"5\", \"neuron_x_mouse\": \"5m1bayes\", \"stim\": 0, \"Log power\": 2.0610556546440115, \"Firing rate\": 115.09478729504453, \"Power\": 115.09478729504453, \"i_spike\": 98.5, \"isi\": 0.03492859855573362}, {\"i_trial\": 9, \"mouse\": \"5\", \"neuron_x_mouse\": \"5m1bayes\", \"stim\": 1, \"Log power\": 2.0701300048847315, \"Firing rate\": 117.52493100074938, \"Power\": 117.52493100074938, \"i_spike\": 81.5, \"isi\": 0.04298620316956348}, {\"i_trial\": 10, \"mouse\": \"5\", \"neuron_x_mouse\": \"5m1bayes\", \"stim\": 0, \"Log power\": 2.187606017358439, \"Firing rate\": 154.03024895538664, \"Power\": 154.03024895538664, \"i_spike\": 68.5, \"isi\": 0.05120231200075437}, {\"i_trial\": 10, \"mouse\": \"5\", \"neuron_x_mouse\": \"5m1bayes\", \"stim\": 1, \"Log power\": 4.443347826018712, \"Firing rate\": 27755.421436617995, \"Power\": 27755.421436617995, \"i_spike\": 102.5, \"isi\": 0.03393507405759593}, {\"i_trial\": 11, \"mouse\": \"5\", \"neuron_x_mouse\": \"5m1bayes\", \"stim\": 0, \"Log power\": 1.9335489706137925, \"Firing rate\": 85.81218702359865, \"Power\": 85.81218702359865, \"i_spike\": 73.5, \"isi\": 0.04775030552399398}, {\"i_trial\": 11, \"mouse\": \"5\", \"neuron_x_mouse\": \"5m1bayes\", \"stim\": 1, \"Log power\": 2.166075713972422, \"Firing rate\": 146.5803363709447, \"Power\": 146.5803363709447, \"i_spike\": 94.0, \"isi\": 0.036690753570657014}, {\"i_trial\": 12, \"mouse\": \"5\", \"neuron_x_mouse\": \"5m1bayes\", \"stim\": 0, \"Log power\": 2.250255723317878, \"Firing rate\": 177.93268132166492, \"Power\": 177.93268132166492, \"i_spike\": 91.5, \"isi\": 0.03821273918930576}, {\"i_trial\": 12, \"mouse\": \"5\", \"neuron_x_mouse\": \"5m1bayes\", \"stim\": 1, \"Log power\": 2.498495437778444, \"Firing rate\": 315.13412754950843, \"Power\": 315.13412754950843, \"i_spike\": 95.5, \"isi\": 0.03670549823688736}, {\"i_trial\": 13, \"mouse\": \"5\", \"neuron_x_mouse\": \"5m1bayes\", \"stim\": 0, \"Log power\": 2.1504942858252933, \"Firing rate\": 141.4146118499107, \"Power\": 141.4146118499107, \"i_spike\": 77.5, \"isi\": 0.045259825773745675}, {\"i_trial\": 13, \"mouse\": \"5\", \"neuron_x_mouse\": \"5m1bayes\", \"stim\": 1, \"Log power\": 2.1464517873722744, \"Firing rate\": 140.1044041254533, \"Power\": 140.1044041254533, \"i_spike\": 93.0, \"isi\": 0.03762491778126527}, {\"i_trial\": 14, \"mouse\": \"5\", \"neuron_x_mouse\": \"5m1bayes\", \"stim\": 0, \"Log power\": 1.9040378087816734, \"Firing rate\": 80.17478588641475, \"Power\": 80.17478588641475, \"i_spike\": 84.5, \"isi\": 0.04141273123511614}, {\"i_trial\": 14, \"mouse\": \"5\", \"neuron_x_mouse\": \"5m1bayes\", \"stim\": 1, \"Log power\": 2.2574959379259107, \"Firing rate\": 180.92389878716966, \"Power\": 180.92389878716966, \"i_spike\": 102.5, \"isi\": 0.033641658709282325}, {\"i_trial\": 15, \"mouse\": \"5\", \"neuron_x_mouse\": \"5m1bayes\", \"stim\": 0, \"Log power\": 2.3146169439941495, \"Firing rate\": 206.35592543229092, \"Power\": 206.35592543229092, \"i_spike\": 72.0, \"isi\": 0.048738345033554405}, {\"i_trial\": 15, \"mouse\": \"5\", \"neuron_x_mouse\": \"5m1bayes\", \"stim\": 1, \"Log power\": 2.0600461828513463, \"Firing rate\": 114.8275722581893, \"Power\": 114.8275722581893, \"i_spike\": 87.5, \"isi\": 0.039413186126762534}, {\"i_trial\": 16, \"mouse\": \"5\", \"neuron_x_mouse\": \"5m1bayes\", \"stim\": 0, \"Log power\": 1.7865560201954627, \"Firing rate\": 61.172470501045844, \"Power\": 61.172470501045844, \"i_spike\": 60.0, \"isi\": 0.05773740244835752}, {\"i_trial\": 16, \"mouse\": \"5\", \"neuron_x_mouse\": \"5m1bayes\", \"stim\": 1, \"Log power\": 2.0858537920138183, \"Firing rate\": 121.8579287431691, \"Power\": 121.8579287431691, \"i_spike\": 81.0, \"isi\": 0.0433130471481507}, {\"i_trial\": 17, \"mouse\": \"5\", \"neuron_x_mouse\": \"5m1bayes\", \"stim\": 0, \"Log power\": 2.3870237438423483, \"Firing rate\": 243.79441025353304, \"Power\": 243.79441025353304, \"i_spike\": 74.0, \"isi\": 0.047253727890184116}, {\"i_trial\": 17, \"mouse\": \"5\", \"neuron_x_mouse\": \"5m1bayes\", \"stim\": 1, \"Log power\": 2.47849968608801, \"Firing rate\": 300.95369935517425, \"Power\": 300.95369935517425, \"i_spike\": 77.0, \"isi\": 0.04523645153090002}, {\"i_trial\": 18, \"mouse\": \"5\", \"neuron_x_mouse\": \"5m1bayes\", \"stim\": 0, \"Log power\": 1.8847158560835429, \"Firing rate\": 76.68595953816477, \"Power\": 76.68595953816477, \"i_spike\": 73.5, \"isi\": 0.0474954178770758}, {\"i_trial\": 18, \"mouse\": \"5\", \"neuron_x_mouse\": \"5m1bayes\", \"stim\": 1, \"Log power\": 1.9997948606171572, \"Firing rate\": 99.95277606551873, \"Power\": 99.95277606551873, \"i_spike\": 74.0, \"isi\": 0.04732222475283576}, {\"i_trial\": 19, \"mouse\": \"5\", \"neuron_x_mouse\": \"5m1bayes\", \"stim\": 0, \"Log power\": 2.0536276462723873, \"Firing rate\": 113.14298862716713, \"Power\": 113.14298862716713, \"i_spike\": 64.5, \"isi\": 0.053749514312532345}, {\"i_trial\": 19, \"mouse\": \"5\", \"neuron_x_mouse\": \"5m1bayes\", \"stim\": 1, \"Log power\": 2.2102944346893993, \"Firing rate\": 162.29099940367914, \"Power\": 162.29099940367914, \"i_spike\": 107.0, \"isi\": 0.032656250976899094}, {\"i_trial\": 20, \"mouse\": \"5\", \"neuron_x_mouse\": \"5m1bayes\", \"stim\": 0, \"Log power\": 2.3900917468725957, \"Firing rate\": 245.52275399498023, \"Power\": 245.52275399498023, \"i_spike\": 85.0, \"isi\": 0.041036830744722336}, {\"i_trial\": 20, \"mouse\": \"5\", \"neuron_x_mouse\": \"5m1bayes\", \"stim\": 1, \"Log power\": 2.1041279989603985, \"Firing rate\": 127.09486347959196, \"Power\": 127.09486347959196, \"i_spike\": 89.5, \"isi\": 0.0380214053694674}, {\"i_trial\": 21, \"mouse\": \"5\", \"neuron_x_mouse\": \"5m1bayes\", \"stim\": 0, \"Log power\": 2.3539127651762377, \"Firing rate\": 225.89819728662337, \"Power\": 225.89819728662337, \"i_spike\": 82.0, \"isi\": 0.042545334316840114}, {\"i_trial\": 21, \"mouse\": \"5\", \"neuron_x_mouse\": \"5m1bayes\", \"stim\": 1, \"Log power\": 2.022809910470058, \"Firing rate\": 105.39254950590231, \"Power\": 105.39254950590231, \"i_spike\": 90.5, \"isi\": 0.03836824297859419}, {\"i_trial\": 22, \"mouse\": \"5\", \"neuron_x_mouse\": \"5m1bayes\", \"stim\": 0, \"Log power\": 1.972270773513348, \"Firing rate\": 93.81467394656636, \"Power\": 93.81467394656636, \"i_spike\": 84.0, \"isi\": 0.04127807705346037}, {\"i_trial\": 22, \"mouse\": \"5\", \"neuron_x_mouse\": \"5m1bayes\", \"stim\": 1, \"Log power\": 2.0274866839610577, \"Firing rate\": 106.53361985603979, \"Power\": 106.53361985603979, \"i_spike\": 88.0, \"isi\": 0.03978443383616717}, {\"i_trial\": 23, \"mouse\": \"5\", \"neuron_x_mouse\": \"5m1bayes\", \"stim\": 0, \"Log power\": 2.419794955642983, \"Firing rate\": 262.9026451106409, \"Power\": 262.9026451106409, \"i_spike\": 76.0, \"isi\": 0.04616580770749955}, {\"i_trial\": 23, \"mouse\": \"5\", \"neuron_x_mouse\": \"5m1bayes\", \"stim\": 1, \"Log power\": 2.5288992643229453, \"Firing rate\": 337.98643032634436, \"Power\": 337.98643032634436, \"i_spike\": 102.0, \"isi\": 0.034136724372756846}, {\"i_trial\": 24, \"mouse\": \"5\", \"neuron_x_mouse\": \"5m1bayes\", \"stim\": 0, \"Log power\": 1.8153966438814895, \"Firing rate\": 65.37273333688849, \"Power\": 65.37273333688849, \"i_spike\": 81.0, \"isi\": 0.04251434530417573}, {\"i_trial\": 24, \"mouse\": \"5\", \"neuron_x_mouse\": \"5m1bayes\", \"stim\": 1, \"Log power\": 2.048011777825134, \"Firing rate\": 111.68935369022105, \"Power\": 111.68935369022105, \"i_spike\": 80.5, \"isi\": 0.04297610840485572}, {\"i_trial\": 25, \"mouse\": \"5\", \"neuron_x_mouse\": \"5m1bayes\", \"stim\": 0, \"Log power\": 2.1756017661085134, \"Firing rate\": 149.8310303661627, \"Power\": 149.8310303661627, \"i_spike\": 91.5, \"isi\": 0.03809363456312906}, {\"i_trial\": 25, \"mouse\": \"5\", \"neuron_x_mouse\": \"5m1bayes\", \"stim\": 1, \"Log power\": 2.3149959843948413, \"Firing rate\": 206.53610588309263, \"Power\": 206.53610588309263, \"i_spike\": 90.5, \"isi\": 0.03827897438766766}, {\"i_trial\": 26, \"mouse\": \"5\", \"neuron_x_mouse\": \"5m1bayes\", \"stim\": 0, \"Log power\": 3.00702762871124, \"Firing rate\": 1016.3133460864078, \"Power\": 1016.3133460864078, \"i_spike\": 77.5, \"isi\": 0.04473212365037429}, {\"i_trial\": 26, \"mouse\": \"5\", \"neuron_x_mouse\": \"5m1bayes\", \"stim\": 1, \"Log power\": 2.2288210720540707, \"Firing rate\": 169.36398824396468, \"Power\": 169.36398824396468, \"i_spike\": 96.5, \"isi\": 0.0364060041333867}, {\"i_trial\": 27, \"mouse\": \"5\", \"neuron_x_mouse\": \"5m1bayes\", \"stim\": 0, \"Log power\": 1.8833149021841602, \"Firing rate\": 76.43898334029095, \"Power\": 76.43898334029095, \"i_spike\": 63.5, \"isi\": 0.05432441736858549}, {\"i_trial\": 27, \"mouse\": \"5\", \"neuron_x_mouse\": \"5m1bayes\", \"stim\": 1, \"Log power\": 2.2510174524160353, \"Firing rate\": 178.24503949776155, \"Power\": 178.24503949776155, \"i_spike\": 99.5, \"isi\": 0.0343769284550859}, {\"i_trial\": 28, \"mouse\": \"5\", \"neuron_x_mouse\": \"5m1bayes\", \"stim\": 0, \"Log power\": 1.9819577573304117, \"Firing rate\": 95.93073177055656, \"Power\": 95.93073177055656, \"i_spike\": 79.0, \"isi\": 0.044134411442609905}, {\"i_trial\": 28, \"mouse\": \"5\", \"neuron_x_mouse\": \"5m1bayes\", \"stim\": 1, \"Log power\": 2.445713370665072, \"Firing rate\": 279.07014026620703, \"Power\": 279.07014026620703, \"i_spike\": 86.5, \"isi\": 0.040496233706813003}, {\"i_trial\": 29, \"mouse\": \"5\", \"neuron_x_mouse\": \"5m1bayes\", \"stim\": 0, \"Log power\": 2.2592746812640216, \"Firing rate\": 181.66642978480454, \"Power\": 181.66642978480454, \"i_spike\": 85.5, \"isi\": 0.04002823586004298}, {\"i_trial\": 29, \"mouse\": \"5\", \"neuron_x_mouse\": \"5m1bayes\", \"stim\": 1, \"Log power\": 2.3164297919736474, \"Firing rate\": 207.21910421934945, \"Power\": 207.21910421934945, \"i_spike\": 101.5, \"isi\": 0.03405584981208873}, {\"i_trial\": 0, \"mouse\": \"6\", \"neuron_x_mouse\": \"6m1bayes\", \"stim\": 0, \"Log power\": 2.091782548993873, \"Firing rate\": 123.53287501504359, \"Power\": 123.53287501504359, \"i_spike\": 97.0, \"isi\": 0.036083546611230935}, {\"i_trial\": 0, \"mouse\": \"6\", \"neuron_x_mouse\": \"6m1bayes\", \"stim\": 1, \"Log power\": 2.2346931877875273, \"Firing rate\": 171.66951800832524, \"Power\": 171.66951800832524, \"i_spike\": 94.0, \"isi\": 0.03728584288562152}, {\"i_trial\": 1, \"mouse\": \"6\", \"neuron_x_mouse\": \"6m1bayes\", \"stim\": 0, \"Log power\": 3.3290249233737765, \"Firing rate\": 2133.16732824361, \"Power\": 2133.16732824361, \"i_spike\": 76.0, \"isi\": 0.04552208170782354}, {\"i_trial\": 1, \"mouse\": \"6\", \"neuron_x_mouse\": \"6m1bayes\", \"stim\": 1, \"Log power\": 3.721819215059431, \"Firing rate\": 5270.1043569366475, \"Power\": 5270.1043569366475, \"i_spike\": 100.0, \"isi\": 0.03503338115142636}, {\"i_trial\": 2, \"mouse\": \"6\", \"neuron_x_mouse\": \"6m1bayes\", \"stim\": 0, \"Log power\": 2.122555174340907, \"Firing rate\": 132.60355714123318, \"Power\": 132.60355714123318, \"i_spike\": 104.5, \"isi\": 0.03353941954044683}, {\"i_trial\": 2, \"mouse\": \"6\", \"neuron_x_mouse\": \"6m1bayes\", \"stim\": 1, \"Log power\": 2.297117972762562, \"Firing rate\": 198.20653655269336, \"Power\": 198.20653655269336, \"i_spike\": 98.0, \"isi\": 0.03544571845217158}, {\"i_trial\": 3, \"mouse\": \"6\", \"neuron_x_mouse\": \"6m1bayes\", \"stim\": 0, \"Log power\": 2.2614786266071256, \"Firing rate\": 182.59068865802695, \"Power\": 182.59068865802695, \"i_spike\": 100.0, \"isi\": 0.03461003360428585}, {\"i_trial\": 3, \"mouse\": \"6\", \"neuron_x_mouse\": \"6m1bayes\", \"stim\": 1, \"Log power\": 2.237379637462722, \"Firing rate\": 172.73471885544583, \"Power\": 172.73471885544583, \"i_spike\": 100.5, \"isi\": 0.03498045006949523}, {\"i_trial\": 4, \"mouse\": \"6\", \"neuron_x_mouse\": \"6m1bayes\", \"stim\": 0, \"Log power\": 2.1883157723948594, \"Firing rate\": 154.282181988234, \"Power\": 154.282181988234, \"i_spike\": 88.0, \"isi\": 0.03978872815972632}, {\"i_trial\": 4, \"mouse\": \"6\", \"neuron_x_mouse\": \"6m1bayes\", \"stim\": 1, \"Log power\": 2.4810747995835016, \"Firing rate\": 302.7434805581363, \"Power\": 302.7434805581363, \"i_spike\": 109.5, \"isi\": 0.032006833828990014}, {\"i_trial\": 5, \"mouse\": \"6\", \"neuron_x_mouse\": \"6m1bayes\", \"stim\": 0, \"Log power\": 2.263805449363264, \"Firing rate\": 183.57158146236156, \"Power\": 183.57158146236156, \"i_spike\": 88.5, \"isi\": 0.03916940095835657}, {\"i_trial\": 5, \"mouse\": \"6\", \"neuron_x_mouse\": \"6m1bayes\", \"stim\": 1, \"Log power\": 2.3011000165555906, \"Firing rate\": 200.03224841186417, \"Power\": 200.03224841186417, \"i_spike\": 129.5, \"isi\": 0.027071462938500993}, {\"i_trial\": 6, \"mouse\": \"6\", \"neuron_x_mouse\": \"6m1bayes\", \"stim\": 0, \"Log power\": 2.358520082385099, \"Firing rate\": 228.30744948005383, \"Power\": 228.30744948005383, \"i_spike\": 82.5, \"isi\": 0.04197427440322725}, {\"i_trial\": 6, \"mouse\": \"6\", \"neuron_x_mouse\": \"6m1bayes\", \"stim\": 1, \"Log power\": 2.2295983417620113, \"Firing rate\": 169.66737540365216, \"Power\": 169.66737540365216, \"i_spike\": 96.5, \"isi\": 0.036067142791474126}, {\"i_trial\": 7, \"mouse\": \"6\", \"neuron_x_mouse\": \"6m1bayes\", \"stim\": 0, \"Log power\": 2.335116347150005, \"Firing rate\": 216.32979919339897, \"Power\": 216.32979919339897, \"i_spike\": 106.5, \"isi\": 0.03271198251578142}, {\"i_trial\": 7, \"mouse\": \"6\", \"neuron_x_mouse\": \"6m1bayes\", \"stim\": 1, \"Log power\": 2.3603814371920215, \"Firing rate\": 229.28805864081875, \"Power\": 229.28805864081875, \"i_spike\": 117.5, \"isi\": 0.02948330773416489}, {\"i_trial\": 8, \"mouse\": \"6\", \"neuron_x_mouse\": \"6m1bayes\", \"stim\": 0, \"Log power\": 2.42022538655067, \"Firing rate\": 263.1633380845956, \"Power\": 263.1633380845956, \"i_spike\": 92.5, \"isi\": 0.037147149449663554}, {\"i_trial\": 8, \"mouse\": \"6\", \"neuron_x_mouse\": \"6m1bayes\", \"stim\": 1, \"Log power\": 2.331285498340438, \"Firing rate\": 214.42997667232484, \"Power\": 214.42997667232484, \"i_spike\": 101.5, \"isi\": 0.03409534480992591}, {\"i_trial\": 9, \"mouse\": \"6\", \"neuron_x_mouse\": \"6m1bayes\", \"stim\": 0, \"Log power\": 2.7880635242770464, \"Firing rate\": 613.8517867320488, \"Power\": 613.8517867320488, \"i_spike\": 103.5, \"isi\": 0.033917227358886186}, {\"i_trial\": 9, \"mouse\": \"6\", \"neuron_x_mouse\": \"6m1bayes\", \"stim\": 1, \"Log power\": 2.8861381675202558, \"Firing rate\": 769.3751722743162, \"Power\": 769.3751722743162, \"i_spike\": 98.5, \"isi\": 0.03529024663498816}, {\"i_trial\": 10, \"mouse\": \"6\", \"neuron_x_mouse\": \"6m1bayes\", \"stim\": 0, \"Log power\": 2.142201177491074, \"Firing rate\": 138.73983622142262, \"Power\": 138.73983622142262, \"i_spike\": 96.5, \"isi\": 0.036422235078432154}, {\"i_trial\": 10, \"mouse\": \"6\", \"neuron_x_mouse\": \"6m1bayes\", \"stim\": 1, \"Log power\": 2.7942161400900063, \"Firing rate\": 622.6100692462344, \"Power\": 622.6100692462344, \"i_spike\": 106.5, \"isi\": 0.03270222661208016}, {\"i_trial\": 11, \"mouse\": \"6\", \"neuron_x_mouse\": \"6m1bayes\", \"stim\": 0, \"Log power\": 2.384699164489064, \"Firing rate\": 242.49297658641666, \"Power\": 242.49297658641666, \"i_spike\": 104.5, \"isi\": 0.033331245378441426}, {\"i_trial\": 11, \"mouse\": \"6\", \"neuron_x_mouse\": \"6m1bayes\", \"stim\": 1, \"Log power\": 2.234008243948154, \"Firing rate\": 171.39898428269245, \"Power\": 171.39898428269245, \"i_spike\": 96.0, \"isi\": 0.03651708737549005}, {\"i_trial\": 12, \"mouse\": \"6\", \"neuron_x_mouse\": \"6m1bayes\", \"stim\": 0, \"Log power\": 2.1637650955029826, \"Firing rate\": 145.80254190977598, \"Power\": 145.80254190977598, \"i_spike\": 101.0, \"isi\": 0.03443828158944589}, {\"i_trial\": 12, \"mouse\": \"6\", \"neuron_x_mouse\": \"6m1bayes\", \"stim\": 1, \"Log power\": 2.2225741773887653, \"Firing rate\": 166.94529250029152, \"Power\": 166.94529250029152, \"i_spike\": 108.0, \"isi\": 0.03239576825148873}, {\"i_trial\": 13, \"mouse\": \"6\", \"neuron_x_mouse\": \"6m1bayes\", \"stim\": 0, \"Log power\": 2.069099129644083, \"Firing rate\": 117.24629548837804, \"Power\": 117.24629548837804, \"i_spike\": 82.5, \"isi\": 0.04221346710753791}, {\"i_trial\": 13, \"mouse\": \"6\", \"neuron_x_mouse\": \"6m1bayes\", \"stim\": 1, \"Log power\": 2.0425527559600773, \"Firing rate\": 110.29422057129375, \"Power\": 110.29422057129375, \"i_spike\": 97.0, \"isi\": 0.035195860883423274}, {\"i_trial\": 14, \"mouse\": \"6\", \"neuron_x_mouse\": \"6m1bayes\", \"stim\": 0, \"Log power\": 2.093763170180811, \"Firing rate\": 124.09753933332563, \"Power\": 124.09753933332563, \"i_spike\": 98.5, \"isi\": 0.035664265848524786}, {\"i_trial\": 14, \"mouse\": \"6\", \"neuron_x_mouse\": \"6m1bayes\", \"stim\": 1, \"Log power\": 2.2339343059970784, \"Firing rate\": 171.36980635956638, \"Power\": 171.36980635956638, \"i_spike\": 106.0, \"isi\": 0.03284067594683435}, {\"i_trial\": 15, \"mouse\": \"6\", \"neuron_x_mouse\": \"6m1bayes\", \"stim\": 0, \"Log power\": 2.222947116728164, \"Firing rate\": 167.08871409473048, \"Power\": 167.08871409473048, \"i_spike\": 97.5, \"isi\": 0.035933272401628163}, {\"i_trial\": 15, \"mouse\": \"6\", \"neuron_x_mouse\": \"6m1bayes\", \"stim\": 1, \"Log power\": 2.1628795854925293, \"Firing rate\": 145.5055589169089, \"Power\": 145.5055589169089, \"i_spike\": 102.0, \"isi\": 0.03433139602914517}, {\"i_trial\": 16, \"mouse\": \"6\", \"neuron_x_mouse\": \"6m1bayes\", \"stim\": 0, \"Log power\": 3.457958108282886, \"Firing rate\": 2870.5036820569085, \"Power\": 2870.5036820569085, \"i_spike\": 91.0, \"isi\": 0.038355327463570475}, {\"i_trial\": 16, \"mouse\": \"6\", \"neuron_x_mouse\": \"6m1bayes\", \"stim\": 1, \"Log power\": 2.3124871815485935, \"Firing rate\": 205.34644163794746, \"Power\": 205.34644163794746, \"i_spike\": 106.0, \"isi\": 0.0327762971306557}, {\"i_trial\": 17, \"mouse\": \"6\", \"neuron_x_mouse\": \"6m1bayes\", \"stim\": 0, \"Log power\": 2.3315233330774814, \"Firing rate\": 214.5474381326296, \"Power\": 214.5474381326296, \"i_spike\": 103.0, \"isi\": 0.033723385820866675}, {\"i_trial\": 17, \"mouse\": \"6\", \"neuron_x_mouse\": \"6m1bayes\", \"stim\": 1, \"Log power\": 2.303909944721784, \"Firing rate\": 201.33067274105994, \"Power\": 201.33067274105994, \"i_spike\": 110.5, \"isi\": 0.03150206272420363}, {\"i_trial\": 18, \"mouse\": \"6\", \"neuron_x_mouse\": \"6m1bayes\", \"stim\": 0, \"Log power\": 2.576937922678727, \"Firing rate\": 377.5182252497922, \"Power\": 377.5182252497922, \"i_spike\": 90.5, \"isi\": 0.03880392750996117}, {\"i_trial\": 18, \"mouse\": \"6\", \"neuron_x_mouse\": \"6m1bayes\", \"stim\": 1, \"Log power\": 2.365242666251547, \"Firing rate\": 231.86898785195567, \"Power\": 231.86898785195567, \"i_spike\": 106.0, \"isi\": 0.033139027145271435}, {\"i_trial\": 19, \"mouse\": \"6\", \"neuron_x_mouse\": \"6m1bayes\", \"stim\": 0, \"Log power\": 2.264682991244183, \"Firing rate\": 183.94288392984888, \"Power\": 183.94288392984888, \"i_spike\": 111.0, \"isi\": 0.03145742320825214}, {\"i_trial\": 19, \"mouse\": \"6\", \"neuron_x_mouse\": \"6m1bayes\", \"stim\": 1, \"Log power\": 2.1686598576591263, \"Firing rate\": 147.45512025464706, \"Power\": 147.45512025464706, \"i_spike\": 107.5, \"isi\": 0.03234511385243052}, {\"i_trial\": 20, \"mouse\": \"6\", \"neuron_x_mouse\": \"6m1bayes\", \"stim\": 0, \"Log power\": 2.3954272395479315, \"Firing rate\": 248.55771028829668, \"Power\": 248.55771028829668, \"i_spike\": 104.0, \"isi\": 0.03367982541051999}, {\"i_trial\": 20, \"mouse\": \"6\", \"neuron_x_mouse\": \"6m1bayes\", \"stim\": 1, \"Log power\": 2.4302803633341417, \"Firing rate\": 269.32729132695397, \"Power\": 269.32729132695397, \"i_spike\": 114.5, \"isi\": 0.030673717685739732}, {\"i_trial\": 21, \"mouse\": \"6\", \"neuron_x_mouse\": \"6m1bayes\", \"stim\": 0, \"Log power\": 2.0526899577517397, \"Firing rate\": 112.8989642716809, \"Power\": 112.8989642716809, \"i_spike\": 85.0, \"isi\": 0.04080778709446822}, {\"i_trial\": 21, \"mouse\": \"6\", \"neuron_x_mouse\": \"6m1bayes\", \"stim\": 1, \"Log power\": 2.156514911809492, \"Firing rate\": 143.3886948737354, \"Power\": 143.3886948737354, \"i_spike\": 108.5, \"isi\": 0.0318007892617994}, {\"i_trial\": 22, \"mouse\": \"6\", \"neuron_x_mouse\": \"6m1bayes\", \"stim\": 0, \"Log power\": 1.976006580273027, \"Firing rate\": 94.62514985178862, \"Power\": 94.62514985178862, \"i_spike\": 79.5, \"isi\": 0.04405827876514856}, {\"i_trial\": 22, \"mouse\": \"6\", \"neuron_x_mouse\": \"6m1bayes\", \"stim\": 1, \"Log power\": 2.2324598818761343, \"Firing rate\": 170.7889945765964, \"Power\": 170.7889945765964, \"i_spike\": 94.5, \"isi\": 0.03689103501454792}, {\"i_trial\": 23, \"mouse\": \"6\", \"neuron_x_mouse\": \"6m1bayes\", \"stim\": 0, \"Log power\": 1.989235974698602, \"Firing rate\": 97.55195440645187, \"Power\": 97.55195440645187, \"i_spike\": 103.0, \"isi\": 0.033798882464008036}, {\"i_trial\": 23, \"mouse\": \"6\", \"neuron_x_mouse\": \"6m1bayes\", \"stim\": 1, \"Log power\": 2.5642222482629613, \"Firing rate\": 366.62514543149143, \"Power\": 366.62514543149143, \"i_spike\": 109.5, \"isi\": 0.03164455005517801}, {\"i_trial\": 24, \"mouse\": \"6\", \"neuron_x_mouse\": \"6m1bayes\", \"stim\": 0, \"Log power\": 2.126647995239183, \"Firing rate\": 133.85912913790807, \"Power\": 133.85912913790807, \"i_spike\": 110.0, \"isi\": 0.031510921665234864}, {\"i_trial\": 24, \"mouse\": \"6\", \"neuron_x_mouse\": \"6m1bayes\", \"stim\": 1, \"Log power\": 2.487661045525656, \"Firing rate\": 307.36969454211214, \"Power\": 307.36969454211214, \"i_spike\": 103.0, \"isi\": 0.03332257578877188}, {\"i_trial\": 25, \"mouse\": \"6\", \"neuron_x_mouse\": \"6m1bayes\", \"stim\": 0, \"Log power\": 2.149613750089032, \"Firing rate\": 141.12818299457757, \"Power\": 141.12818299457757, \"i_spike\": 92.5, \"isi\": 0.0375583108757018}, {\"i_trial\": 25, \"mouse\": \"6\", \"neuron_x_mouse\": \"6m1bayes\", \"stim\": 1, \"Log power\": 2.2666752211282, \"Firing rate\": 184.78861955723247, \"Power\": 184.78861955723247, \"i_spike\": 99.5, \"isi\": 0.0351905088616683}, {\"i_trial\": 26, \"mouse\": \"6\", \"neuron_x_mouse\": \"6m1bayes\", \"stim\": 0, \"Log power\": 2.099981227646594, \"Firing rate\": 125.8870995993444, \"Power\": 125.8870995993444, \"i_spike\": 91.5, \"isi\": 0.03812317640976769}, {\"i_trial\": 26, \"mouse\": \"6\", \"neuron_x_mouse\": \"6m1bayes\", \"stim\": 1, \"Log power\": 2.1643718408599986, \"Firing rate\": 146.00638249329393, \"Power\": 146.00638249329393, \"i_spike\": 96.0, \"isi\": 0.03662067063854463}, {\"i_trial\": 27, \"mouse\": \"6\", \"neuron_x_mouse\": \"6m1bayes\", \"stim\": 0, \"Log power\": 2.2232937256892598, \"Firing rate\": 167.22212026227155, \"Power\": 167.22212026227155, \"i_spike\": 91.5, \"isi\": 0.037734133147703984}, {\"i_trial\": 27, \"mouse\": \"6\", \"neuron_x_mouse\": \"6m1bayes\", \"stim\": 1, \"Log power\": 2.2154508194850577, \"Firing rate\": 164.22936719975408, \"Power\": 164.22936719975408, \"i_spike\": 101.0, \"isi\": 0.033917112040314584}, {\"i_trial\": 28, \"mouse\": \"6\", \"neuron_x_mouse\": \"6m1bayes\", \"stim\": 0, \"Log power\": 2.8051031795262147, \"Firing rate\": 638.415142613693, \"Power\": 638.415142613693, \"i_spike\": 96.5, \"isi\": 0.03611128479474452}, {\"i_trial\": 28, \"mouse\": \"6\", \"neuron_x_mouse\": \"6m1bayes\", \"stim\": 1, \"Log power\": 2.4226433006950403, \"Firing rate\": 264.6325737730714, \"Power\": 264.6325737730714, \"i_spike\": 108.0, \"isi\": 0.03241621068122458}, {\"i_trial\": 29, \"mouse\": \"6\", \"neuron_x_mouse\": \"6m1bayes\", \"stim\": 0, \"Log power\": 2.2669420159641076, \"Firing rate\": 184.90217337318356, \"Power\": 184.90217337318356, \"i_spike\": 120.0, \"isi\": 0.029121252543429888}, {\"i_trial\": 29, \"mouse\": \"6\", \"neuron_x_mouse\": \"6m1bayes\", \"stim\": 1, \"Log power\": 2.1383603285831745, \"Firing rate\": 137.51824731476077, \"Power\": 137.51824731476077, \"i_spike\": 107.5, \"isi\": 0.03182444162582523}, {\"i_trial\": 0, \"mouse\": \"7\", \"neuron_x_mouse\": \"7m1bayes\", \"stim\": 0, \"Log power\": 2.39374481832253, \"Firing rate\": 247.596680768635, \"Power\": 247.596680768635, \"i_spike\": 113.0, \"isi\": 0.030950904248978867}, {\"i_trial\": 0, \"mouse\": \"7\", \"neuron_x_mouse\": \"7m1bayes\", \"stim\": 1, \"Log power\": 2.3959106359840745, \"Firing rate\": 248.83452431514146, \"Power\": 248.83452431514146, \"i_spike\": 113.0, \"isi\": 0.030729363532930053}, {\"i_trial\": 1, \"mouse\": \"7\", \"neuron_x_mouse\": \"7m1bayes\", \"stim\": 0, \"Log power\": 2.266888102172643, \"Firing rate\": 184.87922084007786, \"Power\": 184.87922084007786, \"i_spike\": 115.0, \"isi\": 0.03042989607402348}, {\"i_trial\": 1, \"mouse\": \"7\", \"neuron_x_mouse\": \"7m1bayes\", \"stim\": 1, \"Log power\": 2.00154347917913, \"Firing rate\": 100.35603150676123, \"Power\": 100.35603150676123, \"i_spike\": 110.0, \"isi\": 0.031483450080836736}, {\"i_trial\": 2, \"mouse\": \"7\", \"neuron_x_mouse\": \"7m1bayes\", \"stim\": 0, \"Log power\": 2.0989914457879983, \"Firing rate\": 125.60052241662467, \"Power\": 125.60052241662467, \"i_spike\": 121.0, \"isi\": 0.028890229330057363}, {\"i_trial\": 2, \"mouse\": \"7\", \"neuron_x_mouse\": \"7m1bayes\", \"stim\": 1, \"Log power\": 2.7011162379031926, \"Firing rate\": 502.4770583368924, \"Power\": 502.4770583368924, \"i_spike\": 121.0, \"isi\": 0.028876229138370724}, {\"i_trial\": 3, \"mouse\": \"7\", \"neuron_x_mouse\": \"7m1bayes\", \"stim\": 0, \"Log power\": 2.3506858487327342, \"Firing rate\": 224.22593762121912, \"Power\": 224.22593762121912, \"i_spike\": 113.0, \"isi\": 0.030790099063339887}, {\"i_trial\": 3, \"mouse\": \"7\", \"neuron_x_mouse\": \"7m1bayes\", \"stim\": 1, \"Log power\": 2.4843427667057565, \"Firing rate\": 305.0301488785318, \"Power\": 305.0301488785318, \"i_spike\": 117.0, \"isi\": 0.0298932223912542}, {\"i_trial\": 4, \"mouse\": \"7\", \"neuron_x_mouse\": \"7m1bayes\", \"stim\": 0, \"Log power\": 2.264314099412885, \"Firing rate\": 183.78670829303903, \"Power\": 183.78670829303903, \"i_spike\": 108.0, \"isi\": 0.03244763809926605}, {\"i_trial\": 4, \"mouse\": \"7\", \"neuron_x_mouse\": \"7m1bayes\", \"stim\": 1, \"Log power\": 2.2515998168899536, \"Firing rate\": 178.4842163961192, \"Power\": 178.4842163961192, \"i_spike\": 114.5, \"isi\": 0.03051929000274849}, {\"i_trial\": 5, \"mouse\": \"7\", \"neuron_x_mouse\": \"7m1bayes\", \"stim\": 0, \"Log power\": 2.323793601283962, \"Firing rate\": 210.76262612185442, \"Power\": 210.76262612185442, \"i_spike\": 118.5, \"isi\": 0.029597805634618213}, {\"i_trial\": 5, \"mouse\": \"7\", \"neuron_x_mouse\": \"7m1bayes\", \"stim\": 1, \"Log power\": 2.6331086429259005, \"Firing rate\": 429.6438928589924, \"Power\": 429.6438928589924, \"i_spike\": 127.0, \"isi\": 0.027124912474434257}, {\"i_trial\": 6, \"mouse\": \"7\", \"neuron_x_mouse\": \"7m1bayes\", \"stim\": 0, \"Log power\": 2.7982516992140467, \"Firing rate\": 628.4224610977798, \"Power\": 628.4224610977798, \"i_spike\": 98.5, \"isi\": 0.03557373387873231}, {\"i_trial\": 6, \"mouse\": \"7\", \"neuron_x_mouse\": \"7m1bayes\", \"stim\": 1, \"Log power\": 3.0754111961947124, \"Firing rate\": 1189.6280511450555, \"Power\": 1189.6280511450555, \"i_spike\": 125.0, \"isi\": 0.02805652440212477}, {\"i_trial\": 7, \"mouse\": \"7\", \"neuron_x_mouse\": \"7m1bayes\", \"stim\": 0, \"Log power\": 2.1273799031361595, \"Firing rate\": 134.08490947770764, \"Power\": 134.08490947770764, \"i_spike\": 107.5, \"isi\": 0.03240741124968125}, {\"i_trial\": 7, \"mouse\": \"7\", \"neuron_x_mouse\": \"7m1bayes\", \"stim\": 1, \"Log power\": 2.8781400942649493, \"Firing rate\": 755.335843826142, \"Power\": 755.335843826142, \"i_spike\": 128.0, \"isi\": 0.027049952825851032}, {\"i_trial\": 8, \"mouse\": \"7\", \"neuron_x_mouse\": \"7m1bayes\", \"stim\": 0, \"Log power\": 2.289470721897775, \"Firing rate\": 194.74697562167364, \"Power\": 194.74697562167364, \"i_spike\": 110.5, \"isi\": 0.03171854518680585}, {\"i_trial\": 8, \"mouse\": \"7\", \"neuron_x_mouse\": \"7m1bayes\", \"stim\": 1, \"Log power\": 2.110113759996423, \"Firing rate\": 128.85870426495234, \"Power\": 128.85870426495234, \"i_spike\": 119.5, \"isi\": 0.02857979740658417}, {\"i_trial\": 9, \"mouse\": \"7\", \"neuron_x_mouse\": \"7m1bayes\", \"stim\": 0, \"Log power\": 2.0755196961643456, \"Firing rate\": 118.99252935405795, \"Power\": 118.99252935405795, \"i_spike\": 101.5, \"isi\": 0.03444672850095267}, {\"i_trial\": 9, \"mouse\": \"7\", \"neuron_x_mouse\": \"7m1bayes\", \"stim\": 1, \"Log power\": 2.266091869721837, \"Firing rate\": 184.5405751061692, \"Power\": 184.5405751061692, \"i_spike\": 118.5, \"isi\": 0.02955554669547941}, {\"i_trial\": 10, \"mouse\": \"7\", \"neuron_x_mouse\": \"7m1bayes\", \"stim\": 0, \"Log power\": 2.355212500665758, \"Firing rate\": 226.57526711517662, \"Power\": 226.57526711517662, \"i_spike\": 103.0, \"isi\": 0.03406084009365624}, {\"i_trial\": 10, \"mouse\": \"7\", \"neuron_x_mouse\": \"7m1bayes\", \"stim\": 1, \"Log power\": 2.3219381037954467, \"Firing rate\": 209.86407613452084, \"Power\": 209.86407613452084, \"i_spike\": 112.5, \"isi\": 0.030846646269817625}, {\"i_trial\": 11, \"mouse\": \"7\", \"neuron_x_mouse\": \"7m1bayes\", \"stim\": 0, \"Log power\": 3.043895811563093, \"Firing rate\": 1106.3583337402742, \"Power\": 1106.3583337402742, \"i_spike\": 113.5, \"isi\": 0.03048238022194797}, {\"i_trial\": 11, \"mouse\": \"7\", \"neuron_x_mouse\": \"7m1bayes\", \"stim\": 1, \"Log power\": 2.7601479295054427, \"Firing rate\": 575.6359772320002, \"Power\": 575.6359772320002, \"i_spike\": 110.5, \"isi\": 0.03175017716253238}, {\"i_trial\": 12, \"mouse\": \"7\", \"neuron_x_mouse\": \"7m1bayes\", \"stim\": 0, \"Log power\": 2.0433191499585446, \"Firing rate\": 110.48902722808154, \"Power\": 110.48902722808154, \"i_spike\": 94.5, \"isi\": 0.03700380358449927}, {\"i_trial\": 12, \"mouse\": \"7\", \"neuron_x_mouse\": \"7m1bayes\", \"stim\": 1, \"Log power\": 2.330508968895017, \"Firing rate\": 214.04691305216215, \"Power\": 214.04691305216215, \"i_spike\": 111.0, \"isi\": 0.03141629518472431}, {\"i_trial\": 13, \"mouse\": \"7\", \"neuron_x_mouse\": \"7m1bayes\", \"stim\": 0, \"Log power\": 2.6743634026992145, \"Firing rate\": 472.4582127053585, \"Power\": 472.4582127053585, \"i_spike\": 109.5, \"isi\": 0.03177551842543337}, {\"i_trial\": 13, \"mouse\": \"7\", \"neuron_x_mouse\": \"7m1bayes\", \"stim\": 1, \"Log power\": 2.4752910683223392, \"Firing rate\": 298.73841215874637, \"Power\": 298.73841215874637, \"i_spike\": 115.0, \"isi\": 0.03009307884134055}, {\"i_trial\": 14, \"mouse\": \"7\", \"neuron_x_mouse\": \"7m1bayes\", \"stim\": 0, \"Log power\": 2.5755598208186226, \"Firing rate\": 376.3221842658923, \"Power\": 376.3221842658923, \"i_spike\": 109.0, \"isi\": 0.0318681402142604}, {\"i_trial\": 14, \"mouse\": \"7\", \"neuron_x_mouse\": \"7m1bayes\", \"stim\": 1, \"Log power\": 2.2137205751976, \"Firing rate\": 163.5763733403065, \"Power\": 163.5763733403065, \"i_spike\": 107.5, \"isi\": 0.03228364795080672}, {\"i_trial\": 15, \"mouse\": \"7\", \"neuron_x_mouse\": \"7m1bayes\", \"stim\": 0, \"Log power\": 2.442571749408717, \"Firing rate\": 277.05867275477266, \"Power\": 277.05867275477266, \"i_spike\": 122.5, \"isi\": 0.0281132639481444}, {\"i_trial\": 15, \"mouse\": \"7\", \"neuron_x_mouse\": \"7m1bayes\", \"stim\": 1, \"Log power\": 2.3386024959649587, \"Firing rate\": 218.07330018359238, \"Power\": 218.07330018359238, \"i_spike\": 126.5, \"isi\": 0.027147493449529048}, {\"i_trial\": 16, \"mouse\": \"7\", \"neuron_x_mouse\": \"7m1bayes\", \"stim\": 0, \"Log power\": 2.752514215241479, \"Firing rate\": 565.6062700992331, \"Power\": 565.6062700992331, \"i_spike\": 112.0, \"isi\": 0.031312957366719255}, {\"i_trial\": 16, \"mouse\": \"7\", \"neuron_x_mouse\": \"7m1bayes\", \"stim\": 1, \"Log power\": 2.0334754257745393, \"Firing rate\": 108.01285008967142, \"Power\": 108.01285008967142, \"i_spike\": 113.0, \"isi\": 0.030864228664122535}, {\"i_trial\": 17, \"mouse\": \"7\", \"neuron_x_mouse\": \"7m1bayes\", \"stim\": 0, \"Log power\": 2.236793943893346, \"Firing rate\": 172.50192422006947, \"Power\": 172.50192422006947, \"i_spike\": 111.0, \"isi\": 0.03150517283359602}, {\"i_trial\": 17, \"mouse\": \"7\", \"neuron_x_mouse\": \"7m1bayes\", \"stim\": 1, \"Log power\": 2.0664499365656215, \"Firing rate\": 116.53327089959544, \"Power\": 116.53327089959544, \"i_spike\": 110.5, \"isi\": 0.03141733117473824}, {\"i_trial\": 18, \"mouse\": \"7\", \"neuron_x_mouse\": \"7m1bayes\", \"stim\": 0, \"Log power\": 2.8307631652048006, \"Firing rate\": 677.2720685725016, \"Power\": 677.2720685725016, \"i_spike\": 119.5, \"isi\": 0.029315842066071674}, {\"i_trial\": 18, \"mouse\": \"7\", \"neuron_x_mouse\": \"7m1bayes\", \"stim\": 1, \"Log power\": 2.5051252178672496, \"Firing rate\": 319.98175634432937, \"Power\": 319.98175634432937, \"i_spike\": 117.5, \"isi\": 0.0295845213507624}, {\"i_trial\": 19, \"mouse\": \"7\", \"neuron_x_mouse\": \"7m1bayes\", \"stim\": 0, \"Log power\": 2.3902614958462363, \"Firing rate\": 245.61873813318607, \"Power\": 245.61873813318607, \"i_spike\": 109.5, \"isi\": 0.03173984886155386}, {\"i_trial\": 19, \"mouse\": \"7\", \"neuron_x_mouse\": \"7m1bayes\", \"stim\": 1, \"Log power\": 2.522694765215688, \"Firing rate\": 333.1921533213736, \"Power\": 333.1921533213736, \"i_spike\": 105.0, \"isi\": 0.032853482433737785}, {\"i_trial\": 20, \"mouse\": \"7\", \"neuron_x_mouse\": \"7m1bayes\", \"stim\": 0, \"Log power\": 2.1182123107133592, \"Firing rate\": 131.28415424583338, \"Power\": 131.28415424583338, \"i_spike\": 103.0, \"isi\": 0.033762296106862155}, {\"i_trial\": 20, \"mouse\": \"7\", \"neuron_x_mouse\": \"7m1bayes\", \"stim\": 1, \"Log power\": 2.97407815716009, \"Firing rate\": 942.0591175356757, \"Power\": 942.0591175356757, \"i_spike\": 120.0, \"isi\": 0.029066711695421507}, {\"i_trial\": 21, \"mouse\": \"7\", \"neuron_x_mouse\": \"7m1bayes\", \"stim\": 0, \"Log power\": 3.1626577152227453, \"Firing rate\": 1454.3124272369266, \"Power\": 1454.3124272369266, \"i_spike\": 112.0, \"isi\": 0.031127659357335948}, {\"i_trial\": 21, \"mouse\": \"7\", \"neuron_x_mouse\": \"7m1bayes\", \"stim\": 1, \"Log power\": 2.4310734548969704, \"Firing rate\": 269.81957562976453, \"Power\": 269.81957562976453, \"i_spike\": 125.0, \"isi\": 0.028026556324115305}, {\"i_trial\": 22, \"mouse\": \"7\", \"neuron_x_mouse\": \"7m1bayes\", \"stim\": 0, \"Log power\": 2.152302687866783, \"Firing rate\": 142.00468992448535, \"Power\": 142.00468992448535, \"i_spike\": 111.5, \"isi\": 0.031435350620313836}, {\"i_trial\": 22, \"mouse\": \"7\", \"neuron_x_mouse\": \"7m1bayes\", \"stim\": 1, \"Log power\": 2.2248604994713324, \"Firing rate\": 167.8264852996363, \"Power\": 167.8264852996363, \"i_spike\": 106.0, \"isi\": 0.033074682401384066}, {\"i_trial\": 23, \"mouse\": \"7\", \"neuron_x_mouse\": \"7m1bayes\", \"stim\": 0, \"Log power\": 2.468719352424262, \"Firing rate\": 294.25195192491805, \"Power\": 294.25195192491805, \"i_spike\": 107.5, \"isi\": 0.03263935015044716}, {\"i_trial\": 23, \"mouse\": \"7\", \"neuron_x_mouse\": \"7m1bayes\", \"stim\": 1, \"Log power\": 2.2601858899453218, \"Firing rate\": 182.0479907183472, \"Power\": 182.0479907183472, \"i_spike\": 109.5, \"isi\": 0.031800929426939045}, {\"i_trial\": 24, \"mouse\": \"7\", \"neuron_x_mouse\": \"7m1bayes\", \"stim\": 0, \"Log power\": 2.264661182024785, \"Firing rate\": 183.9336469946524, \"Power\": 183.9336469946524, \"i_spike\": 111.5, \"isi\": 0.031184084447416795}, {\"i_trial\": 24, \"mouse\": \"7\", \"neuron_x_mouse\": \"7m1bayes\", \"stim\": 1, \"Log power\": 2.2124907491615846, \"Firing rate\": 163.11381642404018, \"Power\": 163.11381642404018, \"i_spike\": 118.5, \"isi\": 0.02953756180696948}, {\"i_trial\": 25, \"mouse\": \"7\", \"neuron_x_mouse\": \"7m1bayes\", \"stim\": 0, \"Log power\": 2.1965355235812325, \"Firing rate\": 157.23003951942178, \"Power\": 157.23003951942178, \"i_spike\": 110.0, \"isi\": 0.03158797066175716}, {\"i_trial\": 25, \"mouse\": \"7\", \"neuron_x_mouse\": \"7m1bayes\", \"stim\": 1, \"Log power\": 2.2798740035885983, \"Firing rate\": 190.49079907240042, \"Power\": 190.49079907240042, \"i_spike\": 134.5, \"isi\": 0.02599877512159797}, {\"i_trial\": 26, \"mouse\": \"7\", \"neuron_x_mouse\": \"7m1bayes\", \"stim\": 0, \"Log power\": 2.2932694766330304, \"Firing rate\": 196.45789059412408, \"Power\": 196.45789059412408, \"i_spike\": 95.5, \"isi\": 0.036057013754316435}, {\"i_trial\": 26, \"mouse\": \"7\", \"neuron_x_mouse\": \"7m1bayes\", \"stim\": 1, \"Log power\": 2.141802263543638, \"Firing rate\": 138.6124575703225, \"Power\": 138.6124575703225, \"i_spike\": 114.0, \"isi\": 0.03068317207615198}, {\"i_trial\": 27, \"mouse\": \"7\", \"neuron_x_mouse\": \"7m1bayes\", \"stim\": 0, \"Log power\": 2.2046855303254347, \"Firing rate\": 160.2084911827115, \"Power\": 160.2084911827115, \"i_spike\": 109.5, \"isi\": 0.03182284585171092}, {\"i_trial\": 27, \"mouse\": \"7\", \"neuron_x_mouse\": \"7m1bayes\", \"stim\": 1, \"Log power\": 2.4665987960896003, \"Firing rate\": 292.8186918318101, \"Power\": 292.8186918318101, \"i_spike\": 128.5, \"isi\": 0.02703505711173656}, {\"i_trial\": 28, \"mouse\": \"7\", \"neuron_x_mouse\": \"7m1bayes\", \"stim\": 0, \"Log power\": 2.6018384323682566, \"Firing rate\": 399.7959887003286, \"Power\": 399.7959887003286, \"i_spike\": 110.5, \"isi\": 0.03174886872864811}, {\"i_trial\": 28, \"mouse\": \"7\", \"neuron_x_mouse\": \"7m1bayes\", \"stim\": 1, \"Log power\": 2.3365001475825284, \"Firing rate\": 217.02019410491857, \"Power\": 217.02019410491857, \"i_spike\": 115.5, \"isi\": 0.030041611144658944}, {\"i_trial\": 29, \"mouse\": \"7\", \"neuron_x_mouse\": \"7m1bayes\", \"stim\": 0, \"Log power\": 2.5271831178250883, \"Firing rate\": 336.6534875030033, \"Power\": 336.6534875030033, \"i_spike\": 102.5, \"isi\": 0.03379486899019607}, {\"i_trial\": 29, \"mouse\": \"7\", \"neuron_x_mouse\": \"7m1bayes\", \"stim\": 1, \"Log power\": 2.492986344898896, \"Firing rate\": 311.16184999587256, \"Power\": 311.16184999587256, \"i_spike\": 114.5, \"isi\": 0.030604191778405395}]}}, {\"mode\": \"vega-lite\"});\n",
       "</script>"
      ],
      "text/plain": [
       "alt.LayerChart(...)"
      ]
     },
     "execution_count": 47,
     "metadata": {},
     "output_type": "execute_result"
    }
   ],
   "source": [
    "plot_data(df=df,x='stim',y='Log power',color='mouse').properties(width=80)"
   ]
  },
  {
   "cell_type": "markdown",
   "metadata": {
    "hideCode": false,
    "hidePrompt": false,
    "slideshow": {
     "slide_type": "slide"
    }
   },
   "source": [
    "## Fit a Bayesian hierarchical model and plot slopes\n",
    "In a hierarchical model, parameters are viewed as a sample from a population distribution of parameters. Thus, we view them as being neither entirely different or exactly the same. This is ***partial pooling***:\n",
    "\n",
    "![hierarchical](../motivation/parpooled.png)\n",
    "This model allows intercepts to vary across mouse, according to a random effect. We just add a fixed slope for the predictor (i.e all mice will have the same slope):\n",
    "\n",
    "$$y_i = \\alpha_{j[i]} + \\beta x_{i} + \\epsilon_i$$\n",
    "\n",
    "where $j$ is mouse index and\n",
    "\n",
    "$$\\epsilon_i \\sim N(0, \\sigma_y^2)$$\n",
    "\n",
    "and the intercept random effect:\n",
    "\n",
    "$$\\alpha_{j[i]} \\sim N(\\mu_{\\alpha}, \\sigma_{\\alpha}^2)$$\n",
    "\n",
    "We set a separate intercept for each mouse, but rather than fitting separate regression models for each mouse, multilevel modeling **shares strength** among mice, allowing for more reasonable inference in mice with little data."
   ]
  },
  {
   "cell_type": "markdown",
   "metadata": {
    "hideCode": false,
    "hidePrompt": false,
    "slideshow": {
     "slide_type": "slide"
    }
   },
   "source": [
    "The wrappers in this library allow us to fit and plot this inference in just three lines of code. Under the hood, it uses the following Numpyro code:\n",
    "```python\n",
    "# Normal intercepts \n",
    "a = numpyro.sample('a', dist.Normal(0, 1))\n",
    "a_subject = numpyro.sample('a_subject', dist.Normal(jnp.tile(0, n_subjects), 1))\n",
    "\n",
    "# Variances\n",
    "sigma_a_subject = numpyro.sample('sigma_a', dist.HalfNormal(1))\n",
    "sigma_obs = numpyro.sample('sigma_obs', dist.HalfNormal(1))\n",
    "\n",
    "# Normal treatment\n",
    "b = numpyro.sample('b_stim', dist.Normal(0, 1))\n",
    "\n",
    "# Regression equation\n",
    "slope = a + a_subject[group] * sigma_a + b * treatment \n",
    "\n",
    "# Sample variable\n",
    "numpyro.sample('y', dist.Normal(theta, sigma_obs), obs=y)\n",
    "```\n",
    "\n",
    "\n",
    "Above is the contents of `model_hier_stim_one_codition.py`, the function passed as argument in line 4 below."
   ]
  },
  {
   "cell_type": "code",
   "execution_count": 48,
   "metadata": {
    "hideCode": false,
    "hidePrompt": false,
    "slideshow": {
     "slide_type": "slide"
    }
   },
   "outputs": [
    {
     "data": {
      "text/html": [
       "\n",
       "<div id=\"altair-viz-4dc33cf7bd3947b0bb2907f87079c92c\"></div>\n",
       "<script type=\"text/javascript\">\n",
       "  (function(spec, embedOpt){\n",
       "    let outputDiv = document.currentScript.previousElementSibling;\n",
       "    if (outputDiv.id !== \"altair-viz-4dc33cf7bd3947b0bb2907f87079c92c\") {\n",
       "      outputDiv = document.getElementById(\"altair-viz-4dc33cf7bd3947b0bb2907f87079c92c\");\n",
       "    }\n",
       "    const paths = {\n",
       "      \"vega\": \"https://cdn.jsdelivr.net/npm//vega@5?noext\",\n",
       "      \"vega-lib\": \"https://cdn.jsdelivr.net/npm//vega-lib?noext\",\n",
       "      \"vega-lite\": \"https://cdn.jsdelivr.net/npm//vega-lite@4.8.1?noext\",\n",
       "      \"vega-embed\": \"https://cdn.jsdelivr.net/npm//vega-embed@6?noext\",\n",
       "    };\n",
       "\n",
       "    function loadScript(lib) {\n",
       "      return new Promise(function(resolve, reject) {\n",
       "        var s = document.createElement('script');\n",
       "        s.src = paths[lib];\n",
       "        s.async = true;\n",
       "        s.onload = () => resolve(paths[lib]);\n",
       "        s.onerror = () => reject(`Error loading script: ${paths[lib]}`);\n",
       "        document.getElementsByTagName(\"head\")[0].appendChild(s);\n",
       "      });\n",
       "    }\n",
       "\n",
       "    function showError(err) {\n",
       "      outputDiv.innerHTML = `<div class=\"error\" style=\"color:red;\">${err}</div>`;\n",
       "      throw err;\n",
       "    }\n",
       "\n",
       "    function displayChart(vegaEmbed) {\n",
       "      vegaEmbed(outputDiv, spec, embedOpt)\n",
       "        .catch(err => showError(`Javascript Error: ${err.message}<br>This usually means there's a typo in your chart specification. See the javascript console for the full traceback.`));\n",
       "    }\n",
       "\n",
       "    if(typeof define === \"function\" && define.amd) {\n",
       "      requirejs.config({paths});\n",
       "      require([\"vega-embed\"], displayChart, err => showError(`Error loading script: ${err.message}`));\n",
       "    } else if (typeof vegaEmbed === \"function\") {\n",
       "      displayChart(vegaEmbed);\n",
       "    } else {\n",
       "      loadScript(\"vega\")\n",
       "        .then(() => loadScript(\"vega-lite\"))\n",
       "        .then(() => loadScript(\"vega-embed\"))\n",
       "        .catch(showError)\n",
       "        .then(() => displayChart(vegaEmbed));\n",
       "    }\n",
       "  })({\"config\": {\"view\": {\"continuousWidth\": 400, \"continuousHeight\": 300}}, \"layer\": [{\"mark\": {\"type\": \"boxplot\", \"clip\": true, \"color\": \"black\", \"opacity\": 0.3, \"size\": 9}, \"encoding\": {\"x\": {\"type\": \"ordinal\", \"field\": \"\"}, \"y\": {\"type\": \"quantitative\", \"axis\": {}, \"field\": \"Log power diff\", \"scale\": {\"domain\": [0.009227501451022137, 0.2084274269154861], \"zero\": false}}}}, {\"layer\": [{\"mark\": {\"type\": \"line\", \"clip\": true, \"color\": \"black\", \"fill\": null, \"point\": true}, \"encoding\": {\"x\": {\"type\": \"ordinal\", \"field\": \"\"}, \"y\": {\"type\": \"quantitative\", \"axis\": {\"orient\": \"left\"}, \"field\": \"center interval\", \"impute\": {\"value\": \"value\"}}}}, {\"mark\": {\"type\": \"rule\", \"color\": \"black\", \"opacity\": 0.6, \"size\": 0.1}, \"encoding\": {\"y\": {\"type\": \"quantitative\", \"field\": \"zero\"}}}, {\"mark\": {\"type\": \"rule\", \"size\": 2}, \"encoding\": {\"x\": {\"type\": \"ordinal\", \"field\": \"\"}, \"y\": {\"type\": \"quantitative\", \"axis\": {\"orient\": \"left\"}, \"field\": \"lower interval\", \"scale\": {\"domain\": [0, 0.16433373093605042], \"zero\": true}, \"title\": \"\\u0394 Log power\"}, \"y2\": {\"field\": \"higher interval\"}}}]}], \"data\": {\"name\": \"data-ca300a2415469be8f0f2f949681a7b94\"}, \"$schema\": \"https://vega.github.io/schema/vega-lite/v4.8.1.json\", \"datasets\": {\"data-ca300a2415469be8f0f2f949681a7b94\": [{\"mouse\": \"0\", \"dummy_condition\": 1, \"Log power diff\": 0.13783826700321122, \"lower interval\": 0.044842470437288284, \"higher interval\": 0.16433373093605042, \"center interval\": 0.10371217131614685, \"zero\": 0}, {\"mouse\": \"1\", \"dummy_condition\": 1, \"Log power diff\": 0.23693187747221667, \"lower interval\": 0.044842470437288284, \"higher interval\": 0.16433373093605042, \"center interval\": 0.10371217131614685, \"zero\": 0}, {\"mouse\": \"2\", \"dummy_condition\": 1, \"Log power diff\": 0.1554905901672723, \"lower interval\": 0.044842470437288284, \"higher interval\": 0.16433373093605042, \"center interval\": 0.10371217131614685, \"zero\": 0}, {\"mouse\": \"3\", \"dummy_condition\": 1, \"Log power diff\": 0.07858040582154002, \"lower interval\": 0.044842470437288284, \"higher interval\": 0.16433373093605042, \"center interval\": 0.10371217131614685, \"zero\": 0}, {\"mouse\": \"4\", \"dummy_condition\": 1, \"Log power diff\": 0.07133152547902455, \"lower interval\": 0.044842470437288284, \"higher interval\": 0.16433373093605042, \"center interval\": 0.10371217131614685, \"zero\": 0}, {\"mouse\": \"5\", \"dummy_condition\": 1, \"Log power diff\": 0.1122203539823099, \"lower interval\": 0.044842470437288284, \"higher interval\": 0.16433373093605042, \"center interval\": 0.10371217131614685, \"zero\": 0}, {\"mouse\": \"6\", \"dummy_condition\": 1, \"Log power diff\": 0.03494288011539348, \"lower interval\": 0.044842470437288284, \"higher interval\": 0.16433373093605042, \"center interval\": 0.10371217131614685, \"zero\": 0}, {\"mouse\": \"7\", \"dummy_condition\": 1, \"Log power diff\": -0.004619240906716282, \"lower interval\": 0.044842470437288284, \"higher interval\": 0.16433373093605042, \"center interval\": 0.10371217131614685, \"zero\": 0}]}}, {\"mode\": \"vega-lite\"});\n",
       "</script>"
      ],
      "text/plain": [
       "alt.LayerChart(...)"
      ]
     },
     "execution_count": 48,
     "metadata": {},
     "output_type": "execute_result"
    }
   ],
   "source": [
    "# Initialize:\n",
    "window=BayesWindow(df, y='Log power', treatment='stim', group='mouse')\n",
    "# Fit: \n",
    "window.fit_slopes(add_data=True, model=models.model_hier_stim_one_codition,\n",
    "                  do_make_change='subtract', dist_y='normal');\n",
    "\n",
    "# Plot:\n",
    "chart_power_difference = window.plot(independent_axes=False)\n",
    "chart_power_difference"
   ]
  },
  {
   "cell_type": "markdown",
   "metadata": {
    "hideCode": false,
    "hidePrompt": false,
    "slideshow": {
     "slide_type": "fragment"
    }
   },
   "source": [
    "In this chart:\n",
    "\n",
    "- The blue dot is the mean of posterior\n",
    "\n",
    "- The black line is the 94% highest density interval\n",
    "\n",
    "- The boxplot is made from difference between groups in the data (no fitting)\n"
   ]
  },
  {
   "cell_type": "markdown",
   "metadata": {
    "hideCode": false,
    "hidePrompt": false,
    "slideshow": {
     "slide_type": "slide"
    }
   },
   "source": [
    "## Compare to non-bayesian approaches"
   ]
  },
  {
   "cell_type": "markdown",
   "metadata": {
    "hideCode": false,
    "hidePrompt": false,
    "slideshow": {
     "slide_type": "fragment"
    }
   },
   "source": [
    "ANOVA does not pick up the effect of stim as significant:"
   ]
  },
  {
   "cell_type": "code",
   "execution_count": 3,
   "metadata": {
    "hideCode": false,
    "hidePrompt": false,
    "slideshow": {
     "slide_type": "fragment"
    }
   },
   "outputs": [
    {
     "ename": "NameError",
     "evalue": "name 'window' is not defined",
     "output_type": "error",
     "traceback": [
      "\u001b[0;31m---------------------------------------------------------------------------\u001b[0m",
      "\u001b[0;31mNameError\u001b[0m                                 Traceback (most recent call last)",
      "\u001b[0;32m<ipython-input-3-33574f5c31bf>\u001b[0m in \u001b[0;36m<module>\u001b[0;34m\u001b[0m\n\u001b[0;32m----> 1\u001b[0;31m \u001b[0mwindow\u001b[0m\u001b[0;34m.\u001b[0m\u001b[0mfit_anova\u001b[0m\u001b[0;34m(\u001b[0m\u001b[0;34m)\u001b[0m\u001b[0;34m;\u001b[0m\u001b[0;34m\u001b[0m\u001b[0;34m\u001b[0m\u001b[0m\n\u001b[0m",
      "\u001b[0;31mNameError\u001b[0m: name 'window' is not defined"
     ]
    }
   ],
   "source": [
    "window.fit_anova();"
   ]
  },
  {
   "cell_type": "markdown",
   "metadata": {
    "hideCode": false,
    "hidePrompt": false,
    "slideshow": {
     "slide_type": "slide"
    }
   },
   "source": [
    "A linear mixed-effect model shows the effect of stim (slope) as significant. It includes random intercepts of mouse:"
   ]
  },
  {
   "cell_type": "code",
   "execution_count": 4,
   "metadata": {
    "hideCode": false,
    "hidePrompt": false,
    "slideshow": {
     "slide_type": "fragment"
    }
   },
   "outputs": [
    {
     "name": "stdout",
     "output_type": "stream",
     "text": [
      "Using formula Log_power ~ 1 + c(stim) + (1 | c(mouse))\n"
     ]
    },
    {
     "ename": "PatsyError",
     "evalue": "Error evaluating factor: NameError: name 'c' is not defined\n    Log_power ~ 1 + c(stim) + (1 | c(mouse))\n                    ^^^^^^^",
     "output_type": "error",
     "traceback": [
      "\u001b[0;31m---------------------------------------------------------------------------\u001b[0m",
      "\u001b[0;31mNameError\u001b[0m                                 Traceback (most recent call last)",
      "\u001b[0;32m~/anaconda3/envs/tf/lib/python3.6/site-packages/patsy/compat.py\u001b[0m in \u001b[0;36mcall_and_wrap_exc\u001b[0;34m(msg, origin, f, *args, **kwargs)\u001b[0m\n\u001b[1;32m     35\u001b[0m     \u001b[0;32mtry\u001b[0m\u001b[0;34m:\u001b[0m\u001b[0;34m\u001b[0m\u001b[0;34m\u001b[0m\u001b[0m\n\u001b[0;32m---> 36\u001b[0;31m         \u001b[0;32mreturn\u001b[0m \u001b[0mf\u001b[0m\u001b[0;34m(\u001b[0m\u001b[0;34m*\u001b[0m\u001b[0margs\u001b[0m\u001b[0;34m,\u001b[0m \u001b[0;34m**\u001b[0m\u001b[0mkwargs\u001b[0m\u001b[0;34m)\u001b[0m\u001b[0;34m\u001b[0m\u001b[0;34m\u001b[0m\u001b[0m\n\u001b[0m\u001b[1;32m     37\u001b[0m     \u001b[0;32mexcept\u001b[0m \u001b[0mException\u001b[0m \u001b[0;32mas\u001b[0m \u001b[0me\u001b[0m\u001b[0;34m:\u001b[0m\u001b[0;34m\u001b[0m\u001b[0;34m\u001b[0m\u001b[0m\n",
      "\u001b[0;32m~/anaconda3/envs/tf/lib/python3.6/site-packages/patsy/eval.py\u001b[0m in \u001b[0;36meval\u001b[0;34m(self, expr, source_name, inner_namespace)\u001b[0m\n\u001b[1;32m    165\u001b[0m         return eval(code, {}, VarLookupDict([inner_namespace]\n\u001b[0;32m--> 166\u001b[0;31m                                             + self._namespaces))\n\u001b[0m\u001b[1;32m    167\u001b[0m \u001b[0;34m\u001b[0m\u001b[0m\n",
      "\u001b[0;32m<string>\u001b[0m in \u001b[0;36m<module>\u001b[0;34m\u001b[0m\n",
      "\u001b[0;31mNameError\u001b[0m: name 'c' is not defined",
      "\nThe above exception was the direct cause of the following exception:\n",
      "\u001b[0;31mPatsyError\u001b[0m                                Traceback (most recent call last)",
      "\u001b[0;32m<ipython-input-4-8dc0116318d0>\u001b[0m in \u001b[0;36m<module>\u001b[0;34m\u001b[0m\n\u001b[1;32m      1\u001b[0m \u001b[0;31m# Initialize:\u001b[0m\u001b[0;34m\u001b[0m\u001b[0;34m\u001b[0m\u001b[0;34m\u001b[0m\u001b[0m\n\u001b[1;32m      2\u001b[0m \u001b[0mwindow\u001b[0m\u001b[0;34m=\u001b[0m\u001b[0mBayesWindow\u001b[0m\u001b[0;34m(\u001b[0m\u001b[0mdf\u001b[0m\u001b[0;34m,\u001b[0m \u001b[0my\u001b[0m\u001b[0;34m=\u001b[0m\u001b[0;34m'Log power'\u001b[0m\u001b[0;34m,\u001b[0m \u001b[0mtreatment\u001b[0m\u001b[0;34m=\u001b[0m\u001b[0;34m'stim'\u001b[0m\u001b[0;34m,\u001b[0m \u001b[0mgroup\u001b[0m\u001b[0;34m=\u001b[0m\u001b[0;34m'mouse'\u001b[0m\u001b[0;34m)\u001b[0m\u001b[0;34m\u001b[0m\u001b[0;34m\u001b[0m\u001b[0m\n\u001b[0;32m----> 3\u001b[0;31m \u001b[0mwindow\u001b[0m\u001b[0;34m.\u001b[0m\u001b[0mfit_lme\u001b[0m\u001b[0;34m(\u001b[0m\u001b[0;34m)\u001b[0m\u001b[0;34m\u001b[0m\u001b[0;34m\u001b[0m\u001b[0m\n\u001b[0m\u001b[1;32m      4\u001b[0m \u001b[0;34m\u001b[0m\u001b[0m\n\u001b[1;32m      5\u001b[0m \u001b[0mwindow\u001b[0m\u001b[0;34m.\u001b[0m\u001b[0mposterior\u001b[0m\u001b[0;34m\u001b[0m\u001b[0;34m\u001b[0m\u001b[0m\n",
      "\u001b[0;32m~/mmy/bayes_window/bayes_window/workflow.py\u001b[0m in \u001b[0;36mfit_lme\u001b[0;34m(self, add_data, do_make_change, add_interaction)\u001b[0m\n\u001b[1;32m    119\u001b[0m         result = sm.mixedlm(formula,\n\u001b[1;32m    120\u001b[0m                             \u001b[0mself\u001b[0m\u001b[0;34m.\u001b[0m\u001b[0mdata\u001b[0m\u001b[0;34m,\u001b[0m\u001b[0;34m\u001b[0m\u001b[0;34m\u001b[0m\u001b[0m\n\u001b[0;32m--> 121\u001b[0;31m                             groups=self.data[self.group]).fit()\n\u001b[0m\u001b[1;32m    122\u001b[0m         \u001b[0mres\u001b[0m \u001b[0;34m=\u001b[0m \u001b[0mresult\u001b[0m\u001b[0;34m.\u001b[0m\u001b[0msummary\u001b[0m\u001b[0;34m(\u001b[0m\u001b[0;34m)\u001b[0m\u001b[0;34m.\u001b[0m\u001b[0mtables\u001b[0m\u001b[0;34m[\u001b[0m\u001b[0;36m1\u001b[0m\u001b[0;34m]\u001b[0m\u001b[0;34m\u001b[0m\u001b[0;34m\u001b[0m\u001b[0m\n\u001b[1;32m    123\u001b[0m         \u001b[0mres\u001b[0m \u001b[0;34m=\u001b[0m \u001b[0mres\u001b[0m\u001b[0;34m.\u001b[0m\u001b[0miloc\u001b[0m\u001b[0;34m[\u001b[0m\u001b[0;34m:\u001b[0m\u001b[0;34m-\u001b[0m\u001b[0;36m1\u001b[0m\u001b[0;34m]\u001b[0m\u001b[0;34m\u001b[0m\u001b[0;34m\u001b[0m\u001b[0m\n",
      "\u001b[0;32m~/anaconda3/envs/tf/lib/python3.6/site-packages/statsmodels/regression/mixed_linear_model.py\u001b[0m in \u001b[0;36mfrom_formula\u001b[0;34m(cls, formula, data, re_formula, vc_formula, subset, use_sparse, missing, *args, **kwargs)\u001b[0m\n\u001b[1;32m   1040\u001b[0m         \u001b[0mkwargs\u001b[0m\u001b[0;34m[\u001b[0m\u001b[0;34m\"groups\"\u001b[0m\u001b[0;34m]\u001b[0m \u001b[0;34m=\u001b[0m \u001b[0mgroups\u001b[0m\u001b[0;34m\u001b[0m\u001b[0;34m\u001b[0m\u001b[0m\n\u001b[1;32m   1041\u001b[0m         mod = super(MixedLM, cls).from_formula(\n\u001b[0;32m-> 1042\u001b[0;31m             formula, data, *args, **kwargs)\n\u001b[0m\u001b[1;32m   1043\u001b[0m \u001b[0;34m\u001b[0m\u001b[0m\n\u001b[1;32m   1044\u001b[0m         \u001b[0;31m# expand re names to account for pairs of RE\u001b[0m\u001b[0;34m\u001b[0m\u001b[0;34m\u001b[0m\u001b[0;34m\u001b[0m\u001b[0m\n",
      "\u001b[0;32m~/anaconda3/envs/tf/lib/python3.6/site-packages/statsmodels/base/model.py\u001b[0m in \u001b[0;36mfrom_formula\u001b[0;34m(cls, formula, data, subset, drop_cols, *args, **kwargs)\u001b[0m\n\u001b[1;32m    168\u001b[0m \u001b[0;34m\u001b[0m\u001b[0m\n\u001b[1;32m    169\u001b[0m         tmp = handle_formula_data(data, None, formula, depth=eval_env,\n\u001b[0;32m--> 170\u001b[0;31m                                   missing=missing)\n\u001b[0m\u001b[1;32m    171\u001b[0m         \u001b[0;34m(\u001b[0m\u001b[0;34m(\u001b[0m\u001b[0mendog\u001b[0m\u001b[0;34m,\u001b[0m \u001b[0mexog\u001b[0m\u001b[0;34m)\u001b[0m\u001b[0;34m,\u001b[0m \u001b[0mmissing_idx\u001b[0m\u001b[0;34m,\u001b[0m \u001b[0mdesign_info\u001b[0m\u001b[0;34m)\u001b[0m \u001b[0;34m=\u001b[0m \u001b[0mtmp\u001b[0m\u001b[0;34m\u001b[0m\u001b[0;34m\u001b[0m\u001b[0m\n\u001b[1;32m    172\u001b[0m         \u001b[0mmax_endog\u001b[0m \u001b[0;34m=\u001b[0m \u001b[0mcls\u001b[0m\u001b[0;34m.\u001b[0m\u001b[0m_formula_max_endog\u001b[0m\u001b[0;34m\u001b[0m\u001b[0;34m\u001b[0m\u001b[0m\n",
      "\u001b[0;32m~/anaconda3/envs/tf/lib/python3.6/site-packages/statsmodels/formula/formulatools.py\u001b[0m in \u001b[0;36mhandle_formula_data\u001b[0;34m(Y, X, formula, depth, missing)\u001b[0m\n\u001b[1;32m     62\u001b[0m         \u001b[0;32mif\u001b[0m \u001b[0mdata_util\u001b[0m\u001b[0;34m.\u001b[0m\u001b[0m_is_using_pandas\u001b[0m\u001b[0;34m(\u001b[0m\u001b[0mY\u001b[0m\u001b[0;34m,\u001b[0m \u001b[0;32mNone\u001b[0m\u001b[0;34m)\u001b[0m\u001b[0;34m:\u001b[0m\u001b[0;34m\u001b[0m\u001b[0;34m\u001b[0m\u001b[0m\n\u001b[1;32m     63\u001b[0m             result = dmatrices(formula, Y, depth, return_type='dataframe',\n\u001b[0;32m---> 64\u001b[0;31m                                NA_action=na_action)\n\u001b[0m\u001b[1;32m     65\u001b[0m         \u001b[0;32melse\u001b[0m\u001b[0;34m:\u001b[0m\u001b[0;34m\u001b[0m\u001b[0;34m\u001b[0m\u001b[0m\n\u001b[1;32m     66\u001b[0m             result = dmatrices(formula, Y, depth, return_type='dataframe',\n",
      "\u001b[0;32m~/anaconda3/envs/tf/lib/python3.6/site-packages/patsy/highlevel.py\u001b[0m in \u001b[0;36mdmatrices\u001b[0;34m(formula_like, data, eval_env, NA_action, return_type)\u001b[0m\n\u001b[1;32m    308\u001b[0m     \u001b[0meval_env\u001b[0m \u001b[0;34m=\u001b[0m \u001b[0mEvalEnvironment\u001b[0m\u001b[0;34m.\u001b[0m\u001b[0mcapture\u001b[0m\u001b[0;34m(\u001b[0m\u001b[0meval_env\u001b[0m\u001b[0;34m,\u001b[0m \u001b[0mreference\u001b[0m\u001b[0;34m=\u001b[0m\u001b[0;36m1\u001b[0m\u001b[0;34m)\u001b[0m\u001b[0;34m\u001b[0m\u001b[0;34m\u001b[0m\u001b[0m\n\u001b[1;32m    309\u001b[0m     (lhs, rhs) = _do_highlevel_design(formula_like, data, eval_env,\n\u001b[0;32m--> 310\u001b[0;31m                                       NA_action, return_type)\n\u001b[0m\u001b[1;32m    311\u001b[0m     \u001b[0;32mif\u001b[0m \u001b[0mlhs\u001b[0m\u001b[0;34m.\u001b[0m\u001b[0mshape\u001b[0m\u001b[0;34m[\u001b[0m\u001b[0;36m1\u001b[0m\u001b[0;34m]\u001b[0m \u001b[0;34m==\u001b[0m \u001b[0;36m0\u001b[0m\u001b[0;34m:\u001b[0m\u001b[0;34m\u001b[0m\u001b[0;34m\u001b[0m\u001b[0m\n\u001b[1;32m    312\u001b[0m         \u001b[0;32mraise\u001b[0m \u001b[0mPatsyError\u001b[0m\u001b[0;34m(\u001b[0m\u001b[0;34m\"model is missing required outcome variables\"\u001b[0m\u001b[0;34m)\u001b[0m\u001b[0;34m\u001b[0m\u001b[0;34m\u001b[0m\u001b[0m\n",
      "\u001b[0;32m~/anaconda3/envs/tf/lib/python3.6/site-packages/patsy/highlevel.py\u001b[0m in \u001b[0;36m_do_highlevel_design\u001b[0;34m(formula_like, data, eval_env, NA_action, return_type)\u001b[0m\n\u001b[1;32m    163\u001b[0m         \u001b[0;32mreturn\u001b[0m \u001b[0miter\u001b[0m\u001b[0;34m(\u001b[0m\u001b[0;34m[\u001b[0m\u001b[0mdata\u001b[0m\u001b[0;34m]\u001b[0m\u001b[0;34m)\u001b[0m\u001b[0;34m\u001b[0m\u001b[0;34m\u001b[0m\u001b[0m\n\u001b[1;32m    164\u001b[0m     design_infos = _try_incr_builders(formula_like, data_iter_maker, eval_env,\n\u001b[0;32m--> 165\u001b[0;31m                                       NA_action)\n\u001b[0m\u001b[1;32m    166\u001b[0m     \u001b[0;32mif\u001b[0m \u001b[0mdesign_infos\u001b[0m \u001b[0;32mis\u001b[0m \u001b[0;32mnot\u001b[0m \u001b[0;32mNone\u001b[0m\u001b[0;34m:\u001b[0m\u001b[0;34m\u001b[0m\u001b[0;34m\u001b[0m\u001b[0m\n\u001b[1;32m    167\u001b[0m         return build_design_matrices(design_infos, data,\n",
      "\u001b[0;32m~/anaconda3/envs/tf/lib/python3.6/site-packages/patsy/highlevel.py\u001b[0m in \u001b[0;36m_try_incr_builders\u001b[0;34m(formula_like, data_iter_maker, eval_env, NA_action)\u001b[0m\n\u001b[1;32m     68\u001b[0m                                       \u001b[0mdata_iter_maker\u001b[0m\u001b[0;34m,\u001b[0m\u001b[0;34m\u001b[0m\u001b[0;34m\u001b[0m\u001b[0m\n\u001b[1;32m     69\u001b[0m                                       \u001b[0meval_env\u001b[0m\u001b[0;34m,\u001b[0m\u001b[0;34m\u001b[0m\u001b[0;34m\u001b[0m\u001b[0m\n\u001b[0;32m---> 70\u001b[0;31m                                       NA_action)\n\u001b[0m\u001b[1;32m     71\u001b[0m     \u001b[0;32melse\u001b[0m\u001b[0;34m:\u001b[0m\u001b[0;34m\u001b[0m\u001b[0;34m\u001b[0m\u001b[0m\n\u001b[1;32m     72\u001b[0m         \u001b[0;32mreturn\u001b[0m \u001b[0;32mNone\u001b[0m\u001b[0;34m\u001b[0m\u001b[0;34m\u001b[0m\u001b[0m\n",
      "\u001b[0;32m~/anaconda3/envs/tf/lib/python3.6/site-packages/patsy/build.py\u001b[0m in \u001b[0;36mdesign_matrix_builders\u001b[0;34m(termlists, data_iter_maker, eval_env, NA_action)\u001b[0m\n\u001b[1;32m    694\u001b[0m                                                    \u001b[0mfactor_states\u001b[0m\u001b[0;34m,\u001b[0m\u001b[0;34m\u001b[0m\u001b[0;34m\u001b[0m\u001b[0m\n\u001b[1;32m    695\u001b[0m                                                    \u001b[0mdata_iter_maker\u001b[0m\u001b[0;34m,\u001b[0m\u001b[0;34m\u001b[0m\u001b[0;34m\u001b[0m\u001b[0m\n\u001b[0;32m--> 696\u001b[0;31m                                                    NA_action)\n\u001b[0m\u001b[1;32m    697\u001b[0m     \u001b[0;31m# Now we need the factor infos, which encapsulate the knowledge of\u001b[0m\u001b[0;34m\u001b[0m\u001b[0;34m\u001b[0m\u001b[0;34m\u001b[0m\u001b[0m\n\u001b[1;32m    698\u001b[0m     \u001b[0;31m# how to turn any given factor into a chunk of data:\u001b[0m\u001b[0;34m\u001b[0m\u001b[0;34m\u001b[0m\u001b[0;34m\u001b[0m\u001b[0m\n",
      "\u001b[0;32m~/anaconda3/envs/tf/lib/python3.6/site-packages/patsy/build.py\u001b[0m in \u001b[0;36m_examine_factor_types\u001b[0;34m(factors, factor_states, data_iter_maker, NA_action)\u001b[0m\n\u001b[1;32m    441\u001b[0m     \u001b[0;32mfor\u001b[0m \u001b[0mdata\u001b[0m \u001b[0;32min\u001b[0m \u001b[0mdata_iter_maker\u001b[0m\u001b[0;34m(\u001b[0m\u001b[0;34m)\u001b[0m\u001b[0;34m:\u001b[0m\u001b[0;34m\u001b[0m\u001b[0;34m\u001b[0m\u001b[0m\n\u001b[1;32m    442\u001b[0m         \u001b[0;32mfor\u001b[0m \u001b[0mfactor\u001b[0m \u001b[0;32min\u001b[0m \u001b[0mlist\u001b[0m\u001b[0;34m(\u001b[0m\u001b[0mexamine_needed\u001b[0m\u001b[0;34m)\u001b[0m\u001b[0;34m:\u001b[0m\u001b[0;34m\u001b[0m\u001b[0;34m\u001b[0m\u001b[0m\n\u001b[0;32m--> 443\u001b[0;31m             \u001b[0mvalue\u001b[0m \u001b[0;34m=\u001b[0m \u001b[0mfactor\u001b[0m\u001b[0;34m.\u001b[0m\u001b[0meval\u001b[0m\u001b[0;34m(\u001b[0m\u001b[0mfactor_states\u001b[0m\u001b[0;34m[\u001b[0m\u001b[0mfactor\u001b[0m\u001b[0;34m]\u001b[0m\u001b[0;34m,\u001b[0m \u001b[0mdata\u001b[0m\u001b[0;34m)\u001b[0m\u001b[0;34m\u001b[0m\u001b[0;34m\u001b[0m\u001b[0m\n\u001b[0m\u001b[1;32m    444\u001b[0m             \u001b[0;32mif\u001b[0m \u001b[0mfactor\u001b[0m \u001b[0;32min\u001b[0m \u001b[0mcat_sniffers\u001b[0m \u001b[0;32mor\u001b[0m \u001b[0mguess_categorical\u001b[0m\u001b[0;34m(\u001b[0m\u001b[0mvalue\u001b[0m\u001b[0;34m)\u001b[0m\u001b[0;34m:\u001b[0m\u001b[0;34m\u001b[0m\u001b[0;34m\u001b[0m\u001b[0m\n\u001b[1;32m    445\u001b[0m                 \u001b[0;32mif\u001b[0m \u001b[0mfactor\u001b[0m \u001b[0;32mnot\u001b[0m \u001b[0;32min\u001b[0m \u001b[0mcat_sniffers\u001b[0m\u001b[0;34m:\u001b[0m\u001b[0;34m\u001b[0m\u001b[0;34m\u001b[0m\u001b[0m\n",
      "\u001b[0;32m~/anaconda3/envs/tf/lib/python3.6/site-packages/patsy/eval.py\u001b[0m in \u001b[0;36meval\u001b[0;34m(self, memorize_state, data)\u001b[0m\n\u001b[1;32m    564\u001b[0m         return self._eval(memorize_state[\"eval_code\"],\n\u001b[1;32m    565\u001b[0m                           \u001b[0mmemorize_state\u001b[0m\u001b[0;34m,\u001b[0m\u001b[0;34m\u001b[0m\u001b[0;34m\u001b[0m\u001b[0m\n\u001b[0;32m--> 566\u001b[0;31m                           data)\n\u001b[0m\u001b[1;32m    567\u001b[0m \u001b[0;34m\u001b[0m\u001b[0m\n\u001b[1;32m    568\u001b[0m     \u001b[0m__getstate__\u001b[0m \u001b[0;34m=\u001b[0m \u001b[0mno_pickling\u001b[0m\u001b[0;34m\u001b[0m\u001b[0;34m\u001b[0m\u001b[0m\n",
      "\u001b[0;32m~/anaconda3/envs/tf/lib/python3.6/site-packages/patsy/eval.py\u001b[0m in \u001b[0;36m_eval\u001b[0;34m(self, code, memorize_state, data)\u001b[0m\n\u001b[1;32m    549\u001b[0m                                  \u001b[0mmemorize_state\u001b[0m\u001b[0;34m[\u001b[0m\u001b[0;34m\"eval_env\"\u001b[0m\u001b[0;34m]\u001b[0m\u001b[0;34m.\u001b[0m\u001b[0meval\u001b[0m\u001b[0;34m,\u001b[0m\u001b[0;34m\u001b[0m\u001b[0;34m\u001b[0m\u001b[0m\n\u001b[1;32m    550\u001b[0m                                  \u001b[0mcode\u001b[0m\u001b[0;34m,\u001b[0m\u001b[0;34m\u001b[0m\u001b[0;34m\u001b[0m\u001b[0m\n\u001b[0;32m--> 551\u001b[0;31m                                  inner_namespace=inner_namespace)\n\u001b[0m\u001b[1;32m    552\u001b[0m \u001b[0;34m\u001b[0m\u001b[0m\n\u001b[1;32m    553\u001b[0m     \u001b[0;32mdef\u001b[0m \u001b[0mmemorize_chunk\u001b[0m\u001b[0;34m(\u001b[0m\u001b[0mself\u001b[0m\u001b[0;34m,\u001b[0m \u001b[0mstate\u001b[0m\u001b[0;34m,\u001b[0m \u001b[0mwhich_pass\u001b[0m\u001b[0;34m,\u001b[0m \u001b[0mdata\u001b[0m\u001b[0;34m)\u001b[0m\u001b[0;34m:\u001b[0m\u001b[0;34m\u001b[0m\u001b[0;34m\u001b[0m\u001b[0m\n",
      "\u001b[0;32m~/anaconda3/envs/tf/lib/python3.6/site-packages/patsy/compat.py\u001b[0m in \u001b[0;36mcall_and_wrap_exc\u001b[0;34m(msg, origin, f, *args, **kwargs)\u001b[0m\n\u001b[1;32m     41\u001b[0m                                  origin)\n\u001b[1;32m     42\u001b[0m             \u001b[0;31m# Use 'exec' to hide this syntax from the Python 2 parser:\u001b[0m\u001b[0;34m\u001b[0m\u001b[0;34m\u001b[0m\u001b[0;34m\u001b[0m\u001b[0m\n\u001b[0;32m---> 43\u001b[0;31m             \u001b[0mexec\u001b[0m\u001b[0;34m(\u001b[0m\u001b[0;34m\"raise new_exc from e\"\u001b[0m\u001b[0;34m)\u001b[0m\u001b[0;34m\u001b[0m\u001b[0;34m\u001b[0m\u001b[0m\n\u001b[0m\u001b[1;32m     44\u001b[0m         \u001b[0;32melse\u001b[0m\u001b[0;34m:\u001b[0m\u001b[0;34m\u001b[0m\u001b[0;34m\u001b[0m\u001b[0m\n\u001b[1;32m     45\u001b[0m             \u001b[0;31m# In python 2, we just let the original exception escape -- better\u001b[0m\u001b[0;34m\u001b[0m\u001b[0;34m\u001b[0m\u001b[0;34m\u001b[0m\u001b[0m\n",
      "\u001b[0;32m~/anaconda3/envs/tf/lib/python3.6/site-packages/patsy/compat.py\u001b[0m in \u001b[0;36m<module>\u001b[0;34m\u001b[0m\n",
      "\u001b[0;31mPatsyError\u001b[0m: Error evaluating factor: NameError: name 'c' is not defined\n    Log_power ~ 1 + c(stim) + (1 | c(mouse))\n                    ^^^^^^^"
     ]
    }
   ],
   "source": [
    "# Initialize:\n",
    "window=BayesWindow(df, y='Log power', treatment='stim', group='mouse')\n",
    "window.fit_lme()\n",
    "\n",
    "window.posterior"
   ]
  },
  {
   "cell_type": "markdown",
   "metadata": {
    "hideCode": false,
    "hidePrompt": false,
    "slideshow": {
     "slide_type": "slide"
    }
   },
   "source": [
    "## Inspect Bayesian result further\n",
    "We named intercept _a\\_subject_, so now we can plot it for each animal"
   ]
  },
  {
   "cell_type": "code",
   "execution_count": 52,
   "metadata": {
    "hideCode": false,
    "hidePrompt": false,
    "slideshow": {
     "slide_type": "fragment"
    }
   },
   "outputs": [
    {
     "data": {
      "text/html": [
       "\n",
       "<div id=\"altair-viz-93ef8d25b10141cdbe3a2c7bf0173a29\"></div>\n",
       "<script type=\"text/javascript\">\n",
       "  (function(spec, embedOpt){\n",
       "    let outputDiv = document.currentScript.previousElementSibling;\n",
       "    if (outputDiv.id !== \"altair-viz-93ef8d25b10141cdbe3a2c7bf0173a29\") {\n",
       "      outputDiv = document.getElementById(\"altair-viz-93ef8d25b10141cdbe3a2c7bf0173a29\");\n",
       "    }\n",
       "    const paths = {\n",
       "      \"vega\": \"https://cdn.jsdelivr.net/npm//vega@5?noext\",\n",
       "      \"vega-lib\": \"https://cdn.jsdelivr.net/npm//vega-lib?noext\",\n",
       "      \"vega-lite\": \"https://cdn.jsdelivr.net/npm//vega-lite@4.8.1?noext\",\n",
       "      \"vega-embed\": \"https://cdn.jsdelivr.net/npm//vega-embed@6?noext\",\n",
       "    };\n",
       "\n",
       "    function loadScript(lib) {\n",
       "      return new Promise(function(resolve, reject) {\n",
       "        var s = document.createElement('script');\n",
       "        s.src = paths[lib];\n",
       "        s.async = true;\n",
       "        s.onload = () => resolve(paths[lib]);\n",
       "        s.onerror = () => reject(`Error loading script: ${paths[lib]}`);\n",
       "        document.getElementsByTagName(\"head\")[0].appendChild(s);\n",
       "      });\n",
       "    }\n",
       "\n",
       "    function showError(err) {\n",
       "      outputDiv.innerHTML = `<div class=\"error\" style=\"color:red;\">${err}</div>`;\n",
       "      throw err;\n",
       "    }\n",
       "\n",
       "    function displayChart(vegaEmbed) {\n",
       "      vegaEmbed(outputDiv, spec, embedOpt)\n",
       "        .catch(err => showError(`Javascript Error: ${err.message}<br>This usually means there's a typo in your chart specification. See the javascript console for the full traceback.`));\n",
       "    }\n",
       "\n",
       "    if(typeof define === \"function\" && define.amd) {\n",
       "      requirejs.config({paths});\n",
       "      require([\"vega-embed\"], displayChart, err => showError(`Error loading script: ${err.message}`));\n",
       "    } else if (typeof vegaEmbed === \"function\") {\n",
       "      displayChart(vegaEmbed);\n",
       "    } else {\n",
       "      loadScript(\"vega\")\n",
       "        .then(() => loadScript(\"vega-lite\"))\n",
       "        .then(() => loadScript(\"vega-embed\"))\n",
       "        .catch(showError)\n",
       "        .then(() => displayChart(vegaEmbed));\n",
       "    }\n",
       "  })({\"config\": {\"view\": {\"continuousWidth\": 400, \"continuousHeight\": 300}}, \"data\": {\"name\": \"data-3257ae92d47c2504d48aff71a4a85920\"}, \"mark\": \"bar\", \"encoding\": {\"x\": {\"type\": \"ordinal\", \"field\": \"subject\", \"title\": \"Mouse\"}, \"y\": {\"type\": \"quantitative\", \"field\": \"a_subject\", \"title\": \"Intercept\"}}, \"$schema\": \"https://vega.github.io/schema/vega-lite/v4.8.1.json\", \"datasets\": {\"data-3257ae92d47c2504d48aff71a4a85920\": [{\"subject\": 0, \"a_subject\": -1.2968236207962036}, {\"subject\": 1, \"a_subject\": -0.7788325548171997}, {\"subject\": 2, \"a_subject\": -0.25719690322875977}, {\"subject\": 3, \"a_subject\": 0.018997812643647194}, {\"subject\": 4, \"a_subject\": 0.1755821853876114}, {\"subject\": 5, \"a_subject\": 0.5727698802947998}, {\"subject\": 6, \"a_subject\": 0.9965111017227173}, {\"subject\": 7, \"a_subject\": 1.3146514892578125}]}}, {\"mode\": \"vega-lite\"});\n",
       "</script>"
      ],
      "text/plain": [
       "alt.Chart(...)"
      ]
     },
     "execution_count": 52,
     "metadata": {},
     "output_type": "execute_result"
    }
   ],
   "source": [
    "# Initialize:\n",
    "window=BayesWindow(df, y='Log power', treatment='stim', group='mouse')\n",
    "# Fit slopes again: \n",
    "window.fit_slopes(add_data=True, model=models.model_hier_stim_one_codition,\n",
    "                  do_make_change='subtract', dist_y='normal');\n",
    "intercepts=window.trace.posterior['a_subject'].mean(['chain','draw']).to_dataframe().reset_index()\n",
    "# Plot\n",
    "chart_intercepts=alt.Chart(intercepts).mark_bar().encode(\n",
    "    x=alt.X('subject:O',title='Mouse'),\n",
    "    y=alt.Y('a_subject', title='Intercept')\n",
    ")\n",
    "chart_intercepts"
   ]
  },
  {
   "cell_type": "markdown",
   "metadata": {
    "hideCode": false,
    "hidePrompt": false,
    "slideshow": {
     "slide_type": "slide"
    }
   },
   "source": [
    "Our plotting backend's flexibility allows us to easily concatenate multiple charts in the same figures with the | operator:"
   ]
  },
  {
   "cell_type": "code",
   "execution_count": 53,
   "metadata": {
    "hideCode": false,
    "hidePrompt": false,
    "scrolled": false,
    "slideshow": {
     "slide_type": "fragment"
    }
   },
   "outputs": [
    {
     "data": {
      "text/html": [
       "\n",
       "<div id=\"altair-viz-6cea14c116514e51a505a20a810e383d\"></div>\n",
       "<script type=\"text/javascript\">\n",
       "  (function(spec, embedOpt){\n",
       "    let outputDiv = document.currentScript.previousElementSibling;\n",
       "    if (outputDiv.id !== \"altair-viz-6cea14c116514e51a505a20a810e383d\") {\n",
       "      outputDiv = document.getElementById(\"altair-viz-6cea14c116514e51a505a20a810e383d\");\n",
       "    }\n",
       "    const paths = {\n",
       "      \"vega\": \"https://cdn.jsdelivr.net/npm//vega@5?noext\",\n",
       "      \"vega-lib\": \"https://cdn.jsdelivr.net/npm//vega-lib?noext\",\n",
       "      \"vega-lite\": \"https://cdn.jsdelivr.net/npm//vega-lite@4.8.1?noext\",\n",
       "      \"vega-embed\": \"https://cdn.jsdelivr.net/npm//vega-embed@6?noext\",\n",
       "    };\n",
       "\n",
       "    function loadScript(lib) {\n",
       "      return new Promise(function(resolve, reject) {\n",
       "        var s = document.createElement('script');\n",
       "        s.src = paths[lib];\n",
       "        s.async = true;\n",
       "        s.onload = () => resolve(paths[lib]);\n",
       "        s.onerror = () => reject(`Error loading script: ${paths[lib]}`);\n",
       "        document.getElementsByTagName(\"head\")[0].appendChild(s);\n",
       "      });\n",
       "    }\n",
       "\n",
       "    function showError(err) {\n",
       "      outputDiv.innerHTML = `<div class=\"error\" style=\"color:red;\">${err}</div>`;\n",
       "      throw err;\n",
       "    }\n",
       "\n",
       "    function displayChart(vegaEmbed) {\n",
       "      vegaEmbed(outputDiv, spec, embedOpt)\n",
       "        .catch(err => showError(`Javascript Error: ${err.message}<br>This usually means there's a typo in your chart specification. See the javascript console for the full traceback.`));\n",
       "    }\n",
       "\n",
       "    if(typeof define === \"function\" && define.amd) {\n",
       "      requirejs.config({paths});\n",
       "      require([\"vega-embed\"], displayChart, err => showError(`Error loading script: ${err.message}`));\n",
       "    } else if (typeof vegaEmbed === \"function\") {\n",
       "      displayChart(vegaEmbed);\n",
       "    } else {\n",
       "      loadScript(\"vega\")\n",
       "        .then(() => loadScript(\"vega-lite\"))\n",
       "        .then(() => loadScript(\"vega-embed\"))\n",
       "        .catch(showError)\n",
       "        .then(() => displayChart(vegaEmbed));\n",
       "    }\n",
       "  })({\"config\": {\"view\": {\"continuousWidth\": 400, \"continuousHeight\": 300}}, \"hconcat\": [{\"data\": {\"name\": \"data-3257ae92d47c2504d48aff71a4a85920\"}, \"mark\": \"bar\", \"encoding\": {\"x\": {\"type\": \"ordinal\", \"field\": \"subject\", \"title\": \"Mouse\"}, \"y\": {\"type\": \"quantitative\", \"field\": \"a_subject\", \"title\": \"Intercept\"}}}, {\"layer\": [{\"mark\": {\"type\": \"boxplot\", \"clip\": true, \"color\": \"black\", \"opacity\": 0.3, \"size\": 9}, \"encoding\": {\"x\": {\"type\": \"ordinal\", \"field\": \"\"}, \"y\": {\"type\": \"quantitative\", \"axis\": {}, \"field\": \"Log power diff\", \"scale\": {\"domain\": [0.009227501451022137, 0.2084274269154861], \"zero\": false}}}}, {\"layer\": [{\"mark\": {\"type\": \"line\", \"clip\": true, \"color\": \"black\", \"fill\": null, \"point\": true}, \"encoding\": {\"x\": {\"type\": \"ordinal\", \"field\": \"\"}, \"y\": {\"type\": \"quantitative\", \"axis\": {\"orient\": \"left\"}, \"field\": \"center interval\", \"impute\": {\"value\": \"value\"}}}}, {\"mark\": {\"type\": \"rule\", \"color\": \"black\", \"opacity\": 0.6, \"size\": 0.1}, \"encoding\": {\"y\": {\"type\": \"quantitative\", \"field\": \"zero\"}}}, {\"mark\": {\"type\": \"rule\", \"size\": 2}, \"encoding\": {\"x\": {\"type\": \"ordinal\", \"field\": \"\"}, \"y\": {\"type\": \"quantitative\", \"axis\": {\"orient\": \"left\"}, \"field\": \"lower interval\", \"scale\": {\"domain\": [0, 0.16433373093605042], \"zero\": true}, \"title\": \"\\u0394 Log power\"}, \"y2\": {\"field\": \"higher interval\"}}}]}], \"data\": {\"name\": \"data-ca300a2415469be8f0f2f949681a7b94\"}}], \"$schema\": \"https://vega.github.io/schema/vega-lite/v4.8.1.json\", \"datasets\": {\"data-3257ae92d47c2504d48aff71a4a85920\": [{\"subject\": 0, \"a_subject\": -1.2968236207962036}, {\"subject\": 1, \"a_subject\": -0.7788325548171997}, {\"subject\": 2, \"a_subject\": -0.25719690322875977}, {\"subject\": 3, \"a_subject\": 0.018997812643647194}, {\"subject\": 4, \"a_subject\": 0.1755821853876114}, {\"subject\": 5, \"a_subject\": 0.5727698802947998}, {\"subject\": 6, \"a_subject\": 0.9965111017227173}, {\"subject\": 7, \"a_subject\": 1.3146514892578125}], \"data-ca300a2415469be8f0f2f949681a7b94\": [{\"mouse\": \"0\", \"dummy_condition\": 1, \"Log power diff\": 0.13783826700321122, \"lower interval\": 0.044842470437288284, \"higher interval\": 0.16433373093605042, \"center interval\": 0.10371217131614685, \"zero\": 0}, {\"mouse\": \"1\", \"dummy_condition\": 1, \"Log power diff\": 0.23693187747221667, \"lower interval\": 0.044842470437288284, \"higher interval\": 0.16433373093605042, \"center interval\": 0.10371217131614685, \"zero\": 0}, {\"mouse\": \"2\", \"dummy_condition\": 1, \"Log power diff\": 0.1554905901672723, \"lower interval\": 0.044842470437288284, \"higher interval\": 0.16433373093605042, \"center interval\": 0.10371217131614685, \"zero\": 0}, {\"mouse\": \"3\", \"dummy_condition\": 1, \"Log power diff\": 0.07858040582154002, \"lower interval\": 0.044842470437288284, \"higher interval\": 0.16433373093605042, \"center interval\": 0.10371217131614685, \"zero\": 0}, {\"mouse\": \"4\", \"dummy_condition\": 1, \"Log power diff\": 0.07133152547902455, \"lower interval\": 0.044842470437288284, \"higher interval\": 0.16433373093605042, \"center interval\": 0.10371217131614685, \"zero\": 0}, {\"mouse\": \"5\", \"dummy_condition\": 1, \"Log power diff\": 0.1122203539823099, \"lower interval\": 0.044842470437288284, \"higher interval\": 0.16433373093605042, \"center interval\": 0.10371217131614685, \"zero\": 0}, {\"mouse\": \"6\", \"dummy_condition\": 1, \"Log power diff\": 0.03494288011539348, \"lower interval\": 0.044842470437288284, \"higher interval\": 0.16433373093605042, \"center interval\": 0.10371217131614685, \"zero\": 0}, {\"mouse\": \"7\", \"dummy_condition\": 1, \"Log power diff\": -0.004619240906716282, \"lower interval\": 0.044842470437288284, \"higher interval\": 0.16433373093605042, \"center interval\": 0.10371217131614685, \"zero\": 0}]}}, {\"mode\": \"vega-lite\"});\n",
       "</script>"
      ],
      "text/plain": [
       "alt.HConcatChart(...)"
      ]
     },
     "execution_count": 53,
     "metadata": {},
     "output_type": "execute_result"
    }
   ],
   "source": [
    "chart_intercepts | chart_power_difference"
   ]
  },
  {
   "cell_type": "markdown",
   "metadata": {
    "hideCode": false,
    "hidePrompt": false,
    "slideshow": {
     "slide_type": "slide"
    }
   },
   "source": [
    "## Include all samples in each trial\n",
    "The mean of every one of the 30 trials we drew for each mouse is a manifestation of the same underlying process that generates power for each mouse. Let's try to include all samples that come in each trial"
   ]
  },
  {
   "cell_type": "code",
   "execution_count": 54,
   "metadata": {
    "hideCode": false,
    "hidePrompt": false,
    "scrolled": true,
    "slideshow": {
     "slide_type": "fragment"
    }
   },
   "outputs": [
    {
     "name": "stderr",
     "output_type": "stream",
     "text": [
      "sample: 100%|██████████| 2000/2000 [03:07<00:00, 10.66it/s, 383 steps of size 1.63e-02. acc. prob=0.93] \n"
     ]
    },
    {
     "data": {
      "text/html": [
       "\n",
       "<div id=\"altair-viz-56107fad737947988422b9c90c7e1c04\"></div>\n",
       "<script type=\"text/javascript\">\n",
       "  (function(spec, embedOpt){\n",
       "    let outputDiv = document.currentScript.previousElementSibling;\n",
       "    if (outputDiv.id !== \"altair-viz-56107fad737947988422b9c90c7e1c04\") {\n",
       "      outputDiv = document.getElementById(\"altair-viz-56107fad737947988422b9c90c7e1c04\");\n",
       "    }\n",
       "    const paths = {\n",
       "      \"vega\": \"https://cdn.jsdelivr.net/npm//vega@5?noext\",\n",
       "      \"vega-lib\": \"https://cdn.jsdelivr.net/npm//vega-lib?noext\",\n",
       "      \"vega-lite\": \"https://cdn.jsdelivr.net/npm//vega-lite@4.8.1?noext\",\n",
       "      \"vega-embed\": \"https://cdn.jsdelivr.net/npm//vega-embed@6?noext\",\n",
       "    };\n",
       "\n",
       "    function loadScript(lib) {\n",
       "      return new Promise(function(resolve, reject) {\n",
       "        var s = document.createElement('script');\n",
       "        s.src = paths[lib];\n",
       "        s.async = true;\n",
       "        s.onload = () => resolve(paths[lib]);\n",
       "        s.onerror = () => reject(`Error loading script: ${paths[lib]}`);\n",
       "        document.getElementsByTagName(\"head\")[0].appendChild(s);\n",
       "      });\n",
       "    }\n",
       "\n",
       "    function showError(err) {\n",
       "      outputDiv.innerHTML = `<div class=\"error\" style=\"color:red;\">${err}</div>`;\n",
       "      throw err;\n",
       "    }\n",
       "\n",
       "    function displayChart(vegaEmbed) {\n",
       "      vegaEmbed(outputDiv, spec, embedOpt)\n",
       "        .catch(err => showError(`Javascript Error: ${err.message}<br>This usually means there's a typo in your chart specification. See the javascript console for the full traceback.`));\n",
       "    }\n",
       "\n",
       "    if(typeof define === \"function\" && define.amd) {\n",
       "      requirejs.config({paths});\n",
       "      require([\"vega-embed\"], displayChart, err => showError(`Error loading script: ${err.message}`));\n",
       "    } else if (typeof vegaEmbed === \"function\") {\n",
       "      displayChart(vegaEmbed);\n",
       "    } else {\n",
       "      loadScript(\"vega\")\n",
       "        .then(() => loadScript(\"vega-lite\"))\n",
       "        .then(() => loadScript(\"vega-embed\"))\n",
       "        .catch(showError)\n",
       "        .then(() => displayChart(vegaEmbed));\n",
       "    }\n",
       "  })({\"config\": {\"view\": {\"continuousWidth\": 400, \"continuousHeight\": 300}}, \"layer\": [{\"mark\": {\"type\": \"boxplot\", \"clip\": true, \"color\": \"black\", \"opacity\": 0.3, \"size\": 9}, \"encoding\": {\"x\": {\"type\": \"ordinal\", \"field\": \"\"}, \"y\": {\"type\": \"quantitative\", \"axis\": {}, \"field\": \"Log power diff\", \"scale\": {\"domain\": [0.013472496776381538, 0.22799734984176767], \"zero\": false}}}}, {\"layer\": [{\"mark\": {\"type\": \"line\", \"clip\": true, \"color\": \"black\", \"fill\": null, \"point\": true}, \"encoding\": {\"x\": {\"type\": \"ordinal\", \"field\": \"\"}, \"y\": {\"type\": \"quantitative\", \"axis\": {\"orient\": \"left\"}, \"field\": \"center interval\", \"impute\": {\"value\": \"value\"}}}}, {\"mark\": {\"type\": \"rule\", \"color\": \"black\", \"opacity\": 0.6, \"size\": 0.1}, \"encoding\": {\"y\": {\"type\": \"quantitative\", \"field\": \"zero\"}}}, {\"mark\": {\"type\": \"rule\", \"size\": 2}, \"encoding\": {\"x\": {\"type\": \"ordinal\", \"field\": \"\"}, \"y\": {\"type\": \"quantitative\", \"axis\": {\"orient\": \"left\"}, \"field\": \"lower interval\", \"scale\": {\"domain\": [0, 0.09555221349000931], \"zero\": true}, \"title\": \"\\u0394 Log power\"}, \"y2\": {\"field\": \"higher interval\"}}}]}], \"data\": {\"name\": \"data-c138169d7c70d5ee5c421e86b8c653e5\"}, \"$schema\": \"https://vega.github.io/schema/vega-lite/v4.8.1.json\", \"datasets\": {\"data-c138169d7c70d5ee5c421e86b8c653e5\": [{\"mouse\": \"0\", \"dummy_condition\": 1, \"Log power diff\": 0.12208253413379433, \"lower interval\": 0.08629804849624634, \"higher interval\": 0.09555221349000931, \"center interval\": 0.0907486081123352, \"zero\": 0}, {\"mouse\": \"1\", \"dummy_condition\": 1, \"Log power diff\": 0.26638431540417407, \"lower interval\": 0.08629804849624634, \"higher interval\": 0.09555221349000931, \"center interval\": 0.0907486081123352, \"zero\": 0}, {\"mouse\": \"2\", \"dummy_condition\": 1, \"Log power diff\": 0.15670727094015602, \"lower interval\": 0.08629804849624634, \"higher interval\": 0.09555221349000931, \"center interval\": 0.0907486081123352, \"zero\": 0}, {\"mouse\": \"3\", \"dummy_condition\": 1, \"Log power diff\": 0.08086583513524603, \"lower interval\": 0.08629804849624634, \"higher interval\": 0.09555221349000931, \"center interval\": 0.0907486081123352, \"zero\": 0}, {\"mouse\": \"4\", \"dummy_condition\": 1, \"Log power diff\": 0.07239970034328058, \"lower interval\": 0.08629804849624634, \"higher interval\": 0.09555221349000931, \"center interval\": 0.0907486081123352, \"zero\": 0}, {\"mouse\": \"5\", \"dummy_condition\": 1, \"Log power diff\": 0.12372936539217827, \"lower interval\": 0.08629804849624634, \"higher interval\": 0.09555221349000931, \"center interval\": 0.0907486081123352, \"zero\": 0}, {\"mouse\": \"6\", \"dummy_condition\": 1, \"Log power diff\": 0.04154602301976773, \"lower interval\": 0.08629804849624634, \"higher interval\": 0.09555221349000931, \"center interval\": 0.0907486081123352, \"zero\": 0}, {\"mouse\": \"7\", \"dummy_condition\": 1, \"Log power diff\": -0.0016440173546725667, \"lower interval\": 0.08629804849624634, \"higher interval\": 0.09555221349000931, \"center interval\": 0.0907486081123352, \"zero\": 0}]}}, {\"mode\": \"vega-lite\"});\n",
       "</script>"
      ],
      "text/plain": [
       "alt.LayerChart(...)"
      ]
     },
     "execution_count": 54,
     "metadata": {},
     "output_type": "execute_result"
    }
   ],
   "source": [
    "if False:\n",
    "    # Initialize:\n",
    "    window=BayesWindow(df_monster,#.groupby(['mouse','stim', ]).sample(n=230),\n",
    "                       y='Log power', treatment='stim', group='mouse')\n",
    "    # Fit: \n",
    "    window.fit_slopes(add_data=True, model=models.model_hier_stim_one_codition,\n",
    "                      do_make_change='subtract', dist_y='normal', progress_bar=True);\n",
    "\n",
    "    # Plot:\n",
    "    window.plot(independent_axes=False)\n"
   ]
  },
  {
   "cell_type": "markdown",
   "metadata": {
    "hideCode": false,
    "hidePrompt": false,
    "slideshow": {
     "slide_type": "fragment"
    }
   },
   "source": [
    "Much tighter credible intervals here! \n",
    "\n",
    "Same with linear mixed model: "
   ]
  },
  {
   "cell_type": "code",
   "execution_count": 61,
   "metadata": {
    "hideCode": false,
    "hidePrompt": false,
    "slideshow": {
     "slide_type": "fragment"
    }
   },
   "outputs": [
    {
     "name": "stdout",
     "output_type": "stream",
     "text": [
      "Using formula Log_power ~ 1 + stim + (1 | mouse)\n"
     ]
    },
    {
     "data": {
      "text/html": [
       "<div>\n",
       "<style scoped>\n",
       "    .dataframe tbody tr th:only-of-type {\n",
       "        vertical-align: middle;\n",
       "    }\n",
       "\n",
       "    .dataframe tbody tr th {\n",
       "        vertical-align: top;\n",
       "    }\n",
       "\n",
       "    .dataframe thead th {\n",
       "        text-align: right;\n",
       "    }\n",
       "</style>\n",
       "<table border=\"1\" class=\"dataframe\">\n",
       "  <thead>\n",
       "    <tr style=\"text-align: right;\">\n",
       "      <th></th>\n",
       "      <th>center interval</th>\n",
       "      <th>Std.Err.</th>\n",
       "      <th>z</th>\n",
       "      <th>p</th>\n",
       "      <th>higher interval</th>\n",
       "      <th>lower interval</th>\n",
       "    </tr>\n",
       "  </thead>\n",
       "  <tbody>\n",
       "    <tr>\n",
       "      <th>Intercept</th>\n",
       "      <td>1.903</td>\n",
       "      <td>0.035</td>\n",
       "      <td>54.753</td>\n",
       "      <td>0.0</td>\n",
       "      <td>1.834</td>\n",
       "      <td>1.971</td>\n",
       "    </tr>\n",
       "    <tr>\n",
       "      <th>stim</th>\n",
       "      <td>0.091</td>\n",
       "      <td>0.002</td>\n",
       "      <td>36.566</td>\n",
       "      <td>0.0</td>\n",
       "      <td>0.086</td>\n",
       "      <td>0.096</td>\n",
       "    </tr>\n",
       "    <tr>\n",
       "      <th>1 | mouse</th>\n",
       "      <td>0.061</td>\n",
       "      <td>0.008</td>\n",
       "      <td>8.093</td>\n",
       "      <td>0.0</td>\n",
       "      <td>0.046</td>\n",
       "      <td>0.076</td>\n",
       "    </tr>\n",
       "  </tbody>\n",
       "</table>\n",
       "</div>"
      ],
      "text/plain": [
       "           center interval  Std.Err.       z    p  higher interval  \\\n",
       "Intercept            1.903     0.035  54.753  0.0            1.834   \n",
       "stim                 0.091     0.002  36.566  0.0            0.086   \n",
       "1 | mouse            0.061     0.008   8.093  0.0            0.046   \n",
       "\n",
       "           lower interval  \n",
       "Intercept           1.971  \n",
       "stim                0.096  \n",
       "1 | mouse           0.076  "
      ]
     },
     "execution_count": 61,
     "metadata": {},
     "output_type": "execute_result"
    }
   ],
   "source": [
    "window=BayesWindow(df_monster,\n",
    "                   y='Log power', treatment='stim', group='mouse')\n",
    "window.fit_lme()\n",
    "window.posterior"
   ]
  }
 ],
 "metadata": {
  "celltoolbar": "Slideshow",
  "hide_code_all_hidden": false,
  "kernelspec": {
   "display_name": "Python 3",
   "language": "python",
   "name": "python3"
  },
  "language_info": {
   "codemirror_mode": {
    "name": "ipython",
    "version": 3
   },
   "file_extension": ".py",
   "mimetype": "text/x-python",
   "name": "python",
   "nbconvert_exporter": "python",
   "pygments_lexer": "ipython3",
   "version": "3.6.11"
  }
 },
 "nbformat": 4,
 "nbformat_minor": 1
}
