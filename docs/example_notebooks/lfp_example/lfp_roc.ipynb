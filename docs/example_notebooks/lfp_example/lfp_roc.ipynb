{
 "cells": [
  {
   "cell_type": "markdown",
   "metadata": {},
   "source": [
    "# Compare to ANOVA and LMM: ROC curve"
   ]
  },
  {
   "cell_type": "code",
   "execution_count": 1,
   "metadata": {},
   "outputs": [
    {
     "data": {
      "text/plain": [
       "<module 'bayes_window.model_comparison' from '/home/m/mmy/bayes-window/bayes_window/model_comparison.py'>"
      ]
     },
     "execution_count": 1,
     "metadata": {},
     "output_type": "execute_result"
    }
   ],
   "source": [
    "from bayes_window import model_comparison\n",
    "import numpy as np\n",
    "from importlib import reload\n",
    "reload(model_comparison)"
   ]
  },
  {
   "cell_type": "code",
   "execution_count": 2,
   "metadata": {
    "scrolled": true
   },
   "outputs": [
    {
     "name": "stderr",
     "output_type": "stream",
     "text": [
      "100%|██████████| 10/10 [28:10<00:00, 169.05s/it]\n"
     ]
    }
   ],
   "source": [
    "y_scores,true_slopes=model_comparison.run_methods(np.hstack([np.zeros(180), np.linspace(.03, 18, 140)]))"
   ]
  },
  {
   "cell_type": "code",
   "execution_count": 3,
   "metadata": {},
   "outputs": [
    {
     "data": {
      "text/html": [
       "\n",
       "<div id=\"altair-viz-4a9d8abbe5ad4db4b5dd647657580675\"></div>\n",
       "<script type=\"text/javascript\">\n",
       "  (function(spec, embedOpt){\n",
       "    let outputDiv = document.currentScript.previousElementSibling;\n",
       "    if (outputDiv.id !== \"altair-viz-4a9d8abbe5ad4db4b5dd647657580675\") {\n",
       "      outputDiv = document.getElementById(\"altair-viz-4a9d8abbe5ad4db4b5dd647657580675\");\n",
       "    }\n",
       "    const paths = {\n",
       "      \"vega\": \"https://cdn.jsdelivr.net/npm//vega@5?noext\",\n",
       "      \"vega-lib\": \"https://cdn.jsdelivr.net/npm//vega-lib?noext\",\n",
       "      \"vega-lite\": \"https://cdn.jsdelivr.net/npm//vega-lite@4.8.1?noext\",\n",
       "      \"vega-embed\": \"https://cdn.jsdelivr.net/npm//vega-embed@6?noext\",\n",
       "    };\n",
       "\n",
       "    function loadScript(lib) {\n",
       "      return new Promise(function(resolve, reject) {\n",
       "        var s = document.createElement('script');\n",
       "        s.src = paths[lib];\n",
       "        s.async = true;\n",
       "        s.onload = () => resolve(paths[lib]);\n",
       "        s.onerror = () => reject(`Error loading script: ${paths[lib]}`);\n",
       "        document.getElementsByTagName(\"head\")[0].appendChild(s);\n",
       "      });\n",
       "    }\n",
       "\n",
       "    function showError(err) {\n",
       "      outputDiv.innerHTML = `<div class=\"error\" style=\"color:red;\">${err}</div>`;\n",
       "      throw err;\n",
       "    }\n",
       "\n",
       "    function displayChart(vegaEmbed) {\n",
       "      vegaEmbed(outputDiv, spec, embedOpt)\n",
       "        .catch(err => showError(`Javascript Error: ${err.message}<br>This usually means there's a typo in your chart specification. See the javascript console for the full traceback.`));\n",
       "    }\n",
       "\n",
       "    if(typeof define === \"function\" && define.amd) {\n",
       "      requirejs.config({paths});\n",
       "      require([\"vega-embed\"], displayChart, err => showError(`Error loading script: ${err.message}`));\n",
       "    } else if (typeof vegaEmbed === \"function\") {\n",
       "      displayChart(vegaEmbed);\n",
       "    } else {\n",
       "      loadScript(\"vega\")\n",
       "        .then(() => loadScript(\"vega-lite\"))\n",
       "        .then(() => loadScript(\"vega-embed\"))\n",
       "        .catch(showError)\n",
       "        .then(() => displayChart(vegaEmbed));\n",
       "    }\n",
       "  })({\"config\": {\"view\": {\"continuousWidth\": 400, \"continuousHeight\": 300}}, \"hconcat\": [{\"mark\": {\"type\": \"line\", \"opacity\": 0.7, \"size\": 6}, \"encoding\": {\"color\": {\"type\": \"nominal\", \"field\": \"Condition\"}, \"x\": {\"type\": \"quantitative\", \"field\": \"False positive rate\"}, \"y\": {\"type\": \"quantitative\", \"field\": \"True positive rate\"}}}, {\"mark\": \"bar\", \"encoding\": {\"color\": {\"type\": \"nominal\", \"field\": \"Condition\"}, \"x\": {\"type\": \"nominal\", \"field\": \"Condition\"}, \"y\": {\"type\": \"quantitative\", \"field\": \"AUC\"}}, \"selection\": {\"selector001\": {\"type\": \"interval\", \"bind\": \"scales\", \"encodings\": [\"x\", \"y\"]}}}], \"data\": {\"name\": \"data-bf9be267e921e486ae5616ee5821d825\"}, \"$schema\": \"https://vega.github.io/schema/vega-lite/v4.8.1.json\", \"datasets\": {\"data-bf9be267e921e486ae5616ee5821d825\": [{\"False positive rate\": 0.0, \"True positive rate\": 0.0, \"Condition\": \"mlm, Log power\", \"AUC\": 0.68135}, {\"False positive rate\": 0.044444444444444446, \"True positive rate\": 0.40714285714285714, \"Condition\": \"mlm, Log power\", \"AUC\": 0.68135}, {\"False positive rate\": 1.0, \"True positive rate\": 1.0, \"Condition\": \"mlm, Log power\", \"AUC\": 0.68135}, {\"False positive rate\": 0.0, \"True positive rate\": 0.0, \"Condition\": \"mlm, Power\", \"AUC\": 0.55079}, {\"False positive rate\": 0.005555555555555556, \"True positive rate\": 0.10714285714285714, \"Condition\": \"mlm, Power\", \"AUC\": 0.55079}, {\"False positive rate\": 1.0, \"True positive rate\": 1.0, \"Condition\": \"mlm, Power\", \"AUC\": 0.55079}, {\"False positive rate\": 0.0, \"True positive rate\": 0.0, \"Condition\": \"anova, Log power\", \"AUC\": 0.5}, {\"False positive rate\": 1.0, \"True positive rate\": 1.0, \"Condition\": \"anova, Log power\", \"AUC\": 0.5}, {\"False positive rate\": 0.0, \"True positive rate\": 0.0, \"Condition\": \"anova, Power\", \"AUC\": 0.57698}, {\"False positive rate\": 0.6388888888888888, \"True positive rate\": 0.7928571428571428, \"Condition\": \"anova, Power\", \"AUC\": 0.57698}, {\"False positive rate\": 1.0, \"True positive rate\": 1.0, \"Condition\": \"anova, Power\", \"AUC\": 0.57698}, {\"False positive rate\": 0.0, \"True positive rate\": 0.0, \"Condition\": \"bw_lognormal, Log power\", \"AUC\": 0.73254}, {\"False positive rate\": 0.027777777777777776, \"True positive rate\": 0.4928571428571429, \"Condition\": \"bw_lognormal, Log power\", \"AUC\": 0.73254}, {\"False positive rate\": 1.0, \"True positive rate\": 1.0, \"Condition\": \"bw_lognormal, Log power\", \"AUC\": 0.73254}, {\"False positive rate\": 0.0, \"True positive rate\": 0.0, \"Condition\": \"bw_lognormal, Power\", \"AUC\": 0.76667}, {\"False positive rate\": 0.06666666666666667, \"True positive rate\": 0.6, \"Condition\": \"bw_lognormal, Power\", \"AUC\": 0.76667}, {\"False positive rate\": 1.0, \"True positive rate\": 1.0, \"Condition\": \"bw_lognormal, Power\", \"AUC\": 0.76667}, {\"False positive rate\": 0.0, \"True positive rate\": 0.0, \"Condition\": \"bw_student, Log power\", \"AUC\": 0.77341}, {\"False positive rate\": 0.03888888888888889, \"True positive rate\": 0.5857142857142857, \"Condition\": \"bw_student, Log power\", \"AUC\": 0.77341}, {\"False positive rate\": 1.0, \"True positive rate\": 1.0, \"Condition\": \"bw_student, Log power\", \"AUC\": 0.77341}, {\"False positive rate\": 0.0, \"True positive rate\": 0.0, \"Condition\": \"bw_student, Power\", \"AUC\": 0.5}, {\"False positive rate\": 1.0, \"True positive rate\": 1.0, \"Condition\": \"bw_student, Power\", \"AUC\": 0.5}, {\"False positive rate\": 0.0, \"True positive rate\": 0.0, \"Condition\": \"bw_normal, Log power\", \"AUC\": 0.68929}, {\"False positive rate\": 0.05, \"True positive rate\": 0.42857142857142855, \"Condition\": \"bw_normal, Log power\", \"AUC\": 0.68929}, {\"False positive rate\": 1.0, \"True positive rate\": 1.0, \"Condition\": \"bw_normal, Log power\", \"AUC\": 0.68929}, {\"False positive rate\": 0.0, \"True positive rate\": 0.0, \"Condition\": \"bw_normal, Power\", \"AUC\": 0.55714}, {\"False positive rate\": 0.05, \"True positive rate\": 0.16428571428571428, \"Condition\": \"bw_normal, Power\", \"AUC\": 0.55714}, {\"False positive rate\": 1.0, \"True positive rate\": 1.0, \"Condition\": \"bw_normal, Power\", \"AUC\": 0.55714}]}}, {\"mode\": \"vega-lite\"});\n",
       "</script>"
      ],
      "text/plain": [
       "alt.HConcatChart(...)"
      ]
     },
     "execution_count": 3,
     "metadata": {},
     "output_type": "execute_result"
    }
   ],
   "source": [
    "model_comparison.plot_roc(y_scores, true_slopes)"
   ]
  }
 ],
 "metadata": {
  "jupytext": {
   "formats": "ipynb,py:light"
  },
  "kernelspec": {
   "display_name": "PyCharm (jup)",
   "language": "python",
   "name": "pycharm-d5912792"
  },
  "language_info": {
   "codemirror_mode": {
    "name": "ipython",
    "version": 3
   },
   "file_extension": ".py",
   "mimetype": "text/x-python",
   "name": "python",
   "nbconvert_exporter": "python",
   "pygments_lexer": "ipython3",
   "version": "3.8.5"
  }
 },
 "nbformat": 4,
 "nbformat_minor": 4
}
