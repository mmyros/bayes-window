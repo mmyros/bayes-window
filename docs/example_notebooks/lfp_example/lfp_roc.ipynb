{
 "cells": [
  {
   "cell_type": "markdown",
   "metadata": {
    "slideshow": {
     "slide_type": "slide"
    }
   },
   "source": [
    "# Compare to ANOVA and LMM: ROC curve"
   ]
  },
  {
   "cell_type": "code",
   "execution_count": 1,
   "metadata": {
    "slideshow": {
     "slide_type": "slide"
    }
   },
   "outputs": [],
   "source": [
    "from importlib import reload\n",
    "\n",
    "import numpy as np"
   ]
  },
  {
   "cell_type": "code",
   "execution_count": null,
   "metadata": {
    "slideshow": {
     "slide_type": "skip"
    }
   },
   "outputs": [
    {
     "name": "stderr",
     "output_type": "stream",
     "text": [
      " 35%|███▍      | 156/450 [07:58<15:59,  3.26s/it]"
     ]
    }
   ],
   "source": [
    "from bayes_window import model_comparison, models\n",
    "from bayes_window.generative_models import generate_fake_lfp\n",
    "\n",
    "reload(model_comparison)\n",
    "\n",
    "res = model_comparison.run_conditions(true_slopes=np.hstack([np.zeros(15), \n",
    "                                                             np.tile(15, 15)]),\n",
    "#                                                              np.tile(np.linspace(20, 40, 3), 15)]),\n",
    "                                      n_trials=np.linspace(15, 70, 5).astype(int),\n",
    "#                                       trial_baseline_randomness=np.linspace(.2, 11, 3),\n",
    "                                      ys=('Power', 'Log power'),\n",
    "                                      parallel=True)"
   ]
  },
  {
   "cell_type": "markdown",
   "metadata": {},
   "source": [
    "## Confusion matrix"
   ]
  },
  {
   "cell_type": "code",
   "execution_count": null,
   "metadata": {
    "scrolled": true
   },
   "outputs": [],
   "source": [
    "model_comparison.plot_confusion(\n",
    "    model_comparison.make_confusion_matrix(res[res['y']=='Power'], ('method', 'y', 'randomness', 'n_trials')\n",
    "                                           )).properties(width=140).facet(row='method', column='n_trials')"
   ]
  },
  {
   "cell_type": "code",
   "execution_count": null,
   "metadata": {
    "scrolled": true
   },
   "outputs": [],
   "source": [
    "model_comparison.plot_confusion(\n",
    "    model_comparison.make_confusion_matrix(res[res['y']=='Log power'], ('method', 'y', 'randomness', 'n_trials')\n",
    "                                           )).properties(width=140).facet(row='method', column='n_trials')"
   ]
  },
  {
   "cell_type": "markdown",
   "metadata": {
    "slideshow": {
     "slide_type": "slide"
    }
   },
   "source": [
    "## ROC curve"
   ]
  },
  {
   "cell_type": "code",
   "execution_count": null,
   "metadata": {
    "scrolled": false
   },
   "outputs": [],
   "source": [
    "reload(model_comparison)\n",
    "df = model_comparison.make_roc_auc(res, binary=False, groups=('method', 'y', 'n_trials'))\n",
    "\n",
    "bars, roc = model_comparison.plot_roc(df)\n",
    "bars.facet(column='n_trials', row='y').properties().display()\n",
    "roc.facet(column='n_trials', row='y').properties()"
   ]
  }
 ],
 "metadata": {
  "celltoolbar": "Slideshow",
  "jupytext": {
   "formats": "ipynb,py:light"
  },
  "kernelspec": {
   "display_name": "PyCharm (jup)",
   "language": "python",
   "name": "pycharm-d5912792"
  },
  "language_info": {
   "codemirror_mode": {
    "name": "ipython",
    "version": 3
   },
   "file_extension": ".py",
   "mimetype": "text/x-python",
   "name": "python",
   "nbconvert_exporter": "python",
   "pygments_lexer": "ipython3",
   "version": "3.8.5"
  }
 },
 "nbformat": 4,
 "nbformat_minor": 4
}
