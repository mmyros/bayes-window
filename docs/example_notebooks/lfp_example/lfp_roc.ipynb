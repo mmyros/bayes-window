{
 "cells": [
  {
   "cell_type": "markdown",
   "metadata": {
    "slideshow": {
     "slide_type": "slide"
    }
   },
   "source": [
    "# Compare to ANOVA and LMM: ROC curve"
   ]
  },
  {
   "cell_type": "code",
   "execution_count": 6,
   "metadata": {
    "slideshow": {
     "slide_type": "skip"
    }
   },
   "outputs": [
    {
     "data": {
      "text/plain": [
       "<module 'bayes_window.model_comparison' from '/home/m/mmy/bayes-window/bayes_window/model_comparison.py'>"
      ]
     },
     "execution_count": 6,
     "metadata": {},
     "output_type": "execute_result"
    }
   ],
   "source": [
    "from bayes_window import model_comparison\n",
    "import numpy as np\n",
    "from importlib import reload\n",
    "reload(model_comparison)"
   ]
  },
  {
   "cell_type": "code",
   "execution_count": null,
   "metadata": {
    "scrolled": true,
    "slideshow": {
     "slide_type": "skip"
    }
   },
   "outputs": [
    {
     "name": "stderr",
     "output_type": "stream",
     "text": [
      " 42%|████▏     | 40/96 [45:18<1:02:25, 66.89s/it]"
     ]
    }
   ],
   "source": [
    "y_scores,true_slopes=model_comparison.run_methods(np.hstack([np.zeros(60), np.linspace(.03, 18, 40)]),parallel=True)"
   ]
  },
  {
   "cell_type": "markdown",
   "metadata": {
    "slideshow": {
     "slide_type": "slide"
    }
   },
   "source": [
    "## Binary"
   ]
  },
  {
   "cell_type": "code",
   "execution_count": null,
   "metadata": {
    "slideshow": {
     "slide_type": "fragment"
    }
   },
   "outputs": [],
   "source": [
    "reload(model_comparison)\n",
    "model_comparison.plot_roc(y_scores, true_slopes)"
   ]
  },
  {
   "cell_type": "markdown",
   "metadata": {
    "slideshow": {
     "slide_type": "slide"
    }
   },
   "source": [
    "## Non-Binary\n",
    "For models that have CI"
   ]
  },
  {
   "cell_type": "code",
   "execution_count": null,
   "metadata": {
    "slideshow": {
     "slide_type": "fragment"
    }
   },
   "outputs": [],
   "source": [
    "model_comparison.plot_roc(y_scores, true_slopes,binary=False)"
   ]
  },
  {
   "cell_type": "markdown",
   "metadata": {},
   "source": [
    "## CM"
   ]
  },
  {
   "cell_type": "code",
   "execution_count": null,
   "metadata": {},
   "outputs": [],
   "source": [
    "from itertools import product\n",
    "import altair as alt\n",
    "y_true=true_slopes\n",
    "y_pred=y_scores>0\n",
    "labels = np.unique(y_true)\n",
    "cm = confusion_matrix(y_true, y_pred, labels=labels)\n",
    "cm = [y for i in cm for y in i]\n",
    "roll = list(product(np.unique(y_true), repeat = 2))\n",
    "columns = [\"actual\", \"predicted\", \"confusion_matrix\"]\n",
    "df = pd.DataFrame(columns=columns)\n",
    "for i in range(len(roll)):\n",
    "    df = df.append({'actual':roll[i][0], 'predicted':roll[i][1], 'confusion_matrix':cm[i]}, ignore_index=True)\n",
    "#plot figure\n",
    "def make_example(selector):\n",
    "    return alt.Chart(df).mark_rect().encode(\n",
    "        x=\"predicted:N\",\n",
    "        y=\"actual:N\",\n",
    "        color=alt.condition(selector, 'confusion_matrix', alt.value('lightgray'))\n",
    "    ).properties(\n",
    "        width=600,\n",
    "        height=480\n",
    "    ).add_selection(\n",
    "        selector\n",
    "    )\n",
    "interval_x = alt.selection_interval(encodings=['x'], empty='none')\n",
    "make_example(interval_x)"
   ]
  },
  {
   "cell_type": "code",
   "execution_count": null,
   "metadata": {},
   "outputs": [],
   "source": []
  }
 ],
 "metadata": {
  "celltoolbar": "Slideshow",
  "jupytext": {
   "formats": "ipynb,py:light"
  },
  "kernelspec": {
   "display_name": "PyCharm (jup)",
   "language": "python",
   "name": "pycharm-d5912792"
  },
  "language_info": {
   "codemirror_mode": {
    "name": "ipython",
    "version": 3
   },
   "file_extension": ".py",
   "mimetype": "text/x-python",
   "name": "python",
   "nbconvert_exporter": "python",
   "pygments_lexer": "ipython3",
   "version": "3.8.5"
  }
 },
 "nbformat": 4,
 "nbformat_minor": 4
}
