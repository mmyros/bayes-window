{
 "cells": [
  {
   "cell_type": "markdown",
   "metadata": {
    "slideshow": {
     "slide_type": "slide"
    }
   },
   "source": [
    "# Compare to ANOVA and LMM: ROC curve"
   ]
  },
  {
   "cell_type": "code",
   "execution_count": 6,
   "metadata": {
    "slideshow": {
     "slide_type": "skip"
    }
   },
   "outputs": [
    {
     "data": {
      "text/plain": [
       "<module 'bayes_window.model_comparison' from '/home/m/mmy/bayes-window/bayes_window/model_comparison.py'>"
      ]
     },
     "execution_count": 6,
     "metadata": {},
     "output_type": "execute_result"
    }
   ],
   "source": [
    "from bayes_window import model_comparison\n",
    "import numpy as np\n",
    "from importlib import reload\n",
    "reload(model_comparison)"
   ]
  },
  {
   "cell_type": "code",
   "execution_count": 16,
   "metadata": {
    "scrolled": true,
    "slideshow": {
     "slide_type": "skip"
    }
   },
   "outputs": [
    {
     "name": "stderr",
     "output_type": "stream",
     "text": [
      "100%|██████████| 96/96 [1:05:52<00:00, 41.17s/it]\n"
     ]
    }
   ],
   "source": [
    "y_scores,true_slopes=model_comparison.run_methods(np.hstack([np.zeros(160), np.linspace(.03, 18, 140)]),parallel=True)"
   ]
  },
  {
   "cell_type": "markdown",
   "metadata": {
    "slideshow": {
     "slide_type": "slide"
    }
   },
   "source": [
    "## Binary"
   ]
  },
  {
   "cell_type": "code",
   "execution_count": 17,
   "metadata": {
    "slideshow": {
     "slide_type": "fragment"
    }
   },
   "outputs": [
    {
     "data": {
      "text/html": [
       "\n",
       "<div id=\"altair-viz-e1693058c5804660baa65221b69e5f2a\"></div>\n",
       "<script type=\"text/javascript\">\n",
       "  (function(spec, embedOpt){\n",
       "    let outputDiv = document.currentScript.previousElementSibling;\n",
       "    if (outputDiv.id !== \"altair-viz-e1693058c5804660baa65221b69e5f2a\") {\n",
       "      outputDiv = document.getElementById(\"altair-viz-e1693058c5804660baa65221b69e5f2a\");\n",
       "    }\n",
       "    const paths = {\n",
       "      \"vega\": \"https://cdn.jsdelivr.net/npm//vega@5?noext\",\n",
       "      \"vega-lib\": \"https://cdn.jsdelivr.net/npm//vega-lib?noext\",\n",
       "      \"vega-lite\": \"https://cdn.jsdelivr.net/npm//vega-lite@4.8.1?noext\",\n",
       "      \"vega-embed\": \"https://cdn.jsdelivr.net/npm//vega-embed@6?noext\",\n",
       "    };\n",
       "\n",
       "    function loadScript(lib) {\n",
       "      return new Promise(function(resolve, reject) {\n",
       "        var s = document.createElement('script');\n",
       "        s.src = paths[lib];\n",
       "        s.async = true;\n",
       "        s.onload = () => resolve(paths[lib]);\n",
       "        s.onerror = () => reject(`Error loading script: ${paths[lib]}`);\n",
       "        document.getElementsByTagName(\"head\")[0].appendChild(s);\n",
       "      });\n",
       "    }\n",
       "\n",
       "    function showError(err) {\n",
       "      outputDiv.innerHTML = `<div class=\"error\" style=\"color:red;\">${err}</div>`;\n",
       "      throw err;\n",
       "    }\n",
       "\n",
       "    function displayChart(vegaEmbed) {\n",
       "      vegaEmbed(outputDiv, spec, embedOpt)\n",
       "        .catch(err => showError(`Javascript Error: ${err.message}<br>This usually means there's a typo in your chart specification. See the javascript console for the full traceback.`));\n",
       "    }\n",
       "\n",
       "    if(typeof define === \"function\" && define.amd) {\n",
       "      requirejs.config({paths});\n",
       "      require([\"vega-embed\"], displayChart, err => showError(`Error loading script: ${err.message}`));\n",
       "    } else if (typeof vegaEmbed === \"function\") {\n",
       "      displayChart(vegaEmbed);\n",
       "    } else {\n",
       "      loadScript(\"vega\")\n",
       "        .then(() => loadScript(\"vega-lite\"))\n",
       "        .then(() => loadScript(\"vega-embed\"))\n",
       "        .catch(showError)\n",
       "        .then(() => displayChart(vegaEmbed));\n",
       "    }\n",
       "  })({\"config\": {\"view\": {\"continuousWidth\": 400, \"continuousHeight\": 300}}, \"hconcat\": [{\"mark\": {\"type\": \"line\", \"opacity\": 0.7, \"size\": 2.6}, \"encoding\": {\"color\": {\"type\": \"nominal\", \"field\": \"Condition\"}, \"x\": {\"type\": \"quantitative\", \"field\": \"False positive rate\"}, \"y\": {\"type\": \"quantitative\", \"field\": \"True positive rate\"}}, \"selection\": {\"selector009\": {\"type\": \"interval\", \"bind\": \"scales\", \"encodings\": [\"x\", \"y\"]}}}, {\"mark\": \"bar\", \"encoding\": {\"color\": {\"type\": \"nominal\", \"field\": \"Condition\"}, \"x\": {\"type\": \"nominal\", \"field\": \"Condition\"}, \"y\": {\"type\": \"quantitative\", \"field\": \"AUC\"}}, \"selection\": {\"selector010\": {\"type\": \"interval\", \"bind\": \"scales\", \"encodings\": [\"x\", \"y\"]}}}], \"data\": {\"name\": \"data-b4ebfce96a8a8f87e3a457dad97ef324\"}, \"$schema\": \"https://vega.github.io/schema/vega-lite/v4.8.1.json\", \"datasets\": {\"data-b4ebfce96a8a8f87e3a457dad97ef324\": [{\"False positive rate\": 0.0, \"True positive rate\": 0.0, \"Condition\": \"bw_lognormal, Log power\", \"AUC\": 0.67917}, {\"False positive rate\": 0.11666666666666667, \"True positive rate\": 0.475, \"Condition\": \"bw_lognormal, Log power\", \"AUC\": 0.67917}, {\"False positive rate\": 1.0, \"True positive rate\": 1.0, \"Condition\": \"bw_lognormal, Log power\", \"AUC\": 0.67917}, {\"False positive rate\": 0.0, \"True positive rate\": 0.0, \"Condition\": \"bw_lognormal, Power\", \"AUC\": 0.72083}, {\"False positive rate\": 0.08333333333333333, \"True positive rate\": 0.525, \"Condition\": \"bw_lognormal, Power\", \"AUC\": 0.72083}, {\"False positive rate\": 1.0, \"True positive rate\": 1.0, \"Condition\": \"bw_lognormal, Power\", \"AUC\": 0.72083}, {\"False positive rate\": 0.0, \"True positive rate\": 0.0, \"Condition\": \"bw_normal, Log power\", \"AUC\": 0.74167}, {\"False positive rate\": 0.016666666666666666, \"True positive rate\": 0.5, \"Condition\": \"bw_normal, Log power\", \"AUC\": 0.74167}, {\"False positive rate\": 1.0, \"True positive rate\": 1.0, \"Condition\": \"bw_normal, Log power\", \"AUC\": 0.74167}, {\"False positive rate\": 0.0, \"True positive rate\": 0.0, \"Condition\": \"bw_normal, Power\", \"AUC\": 0.575}, {\"False positive rate\": 0.05, \"True positive rate\": 0.2, \"Condition\": \"bw_normal, Power\", \"AUC\": 0.575}, {\"False positive rate\": 1.0, \"True positive rate\": 1.0, \"Condition\": \"bw_normal, Power\", \"AUC\": 0.575}, {\"False positive rate\": 0.0, \"True positive rate\": 0.0, \"Condition\": \"mlm, Log power\", \"AUC\": 0.5}, {\"False positive rate\": 1.0, \"True positive rate\": 1.0, \"Condition\": \"mlm, Log power\", \"AUC\": 0.5}, {\"False positive rate\": 0.0, \"True positive rate\": 0.0, \"Condition\": \"mlm, Power\", \"AUC\": 0.5}, {\"False positive rate\": 1.0, \"True positive rate\": 1.0, \"Condition\": \"mlm, Power\", \"AUC\": 0.5}, {\"False positive rate\": 0.0, \"True positive rate\": 0.0, \"Condition\": \"anova, Log power\", \"AUC\": 0.5}, {\"False positive rate\": 1.0, \"True positive rate\": 1.0, \"Condition\": \"anova, Log power\", \"AUC\": 0.5}, {\"False positive rate\": 0.0, \"True positive rate\": 0.0, \"Condition\": \"anova, Power\", \"AUC\": 0.44583}, {\"False positive rate\": 0.7333333333333333, \"True positive rate\": 0.625, \"Condition\": \"anova, Power\", \"AUC\": 0.44583}, {\"False positive rate\": 1.0, \"True positive rate\": 1.0, \"Condition\": \"anova, Power\", \"AUC\": 0.44583}]}}, {\"mode\": \"vega-lite\"});\n",
       "</script>"
      ],
      "text/plain": [
       "alt.HConcatChart(...)"
      ]
     },
     "execution_count": 17,
     "metadata": {},
     "output_type": "execute_result"
    }
   ],
   "source": [
    "reload(model_comparison)\n",
    "model_comparison.plot_roc(y_scores, true_slopes)"
   ]
  },
  {
   "cell_type": "markdown",
   "metadata": {
    "slideshow": {
     "slide_type": "slide"
    }
   },
   "source": [
    "## Non-Binary\n",
    "For models that have CI"
   ]
  },
  {
   "cell_type": "code",
   "execution_count": 18,
   "metadata": {
    "slideshow": {
     "slide_type": "fragment"
    }
   },
   "outputs": [
    {
     "data": {
      "text/html": [
       "\n",
       "<div id=\"altair-viz-a7acb7e78c5f4f25af057fe549f603de\"></div>\n",
       "<script type=\"text/javascript\">\n",
       "  (function(spec, embedOpt){\n",
       "    let outputDiv = document.currentScript.previousElementSibling;\n",
       "    if (outputDiv.id !== \"altair-viz-a7acb7e78c5f4f25af057fe549f603de\") {\n",
       "      outputDiv = document.getElementById(\"altair-viz-a7acb7e78c5f4f25af057fe549f603de\");\n",
       "    }\n",
       "    const paths = {\n",
       "      \"vega\": \"https://cdn.jsdelivr.net/npm//vega@5?noext\",\n",
       "      \"vega-lib\": \"https://cdn.jsdelivr.net/npm//vega-lib?noext\",\n",
       "      \"vega-lite\": \"https://cdn.jsdelivr.net/npm//vega-lite@4.8.1?noext\",\n",
       "      \"vega-embed\": \"https://cdn.jsdelivr.net/npm//vega-embed@6?noext\",\n",
       "    };\n",
       "\n",
       "    function loadScript(lib) {\n",
       "      return new Promise(function(resolve, reject) {\n",
       "        var s = document.createElement('script');\n",
       "        s.src = paths[lib];\n",
       "        s.async = true;\n",
       "        s.onload = () => resolve(paths[lib]);\n",
       "        s.onerror = () => reject(`Error loading script: ${paths[lib]}`);\n",
       "        document.getElementsByTagName(\"head\")[0].appendChild(s);\n",
       "      });\n",
       "    }\n",
       "\n",
       "    function showError(err) {\n",
       "      outputDiv.innerHTML = `<div class=\"error\" style=\"color:red;\">${err}</div>`;\n",
       "      throw err;\n",
       "    }\n",
       "\n",
       "    function displayChart(vegaEmbed) {\n",
       "      vegaEmbed(outputDiv, spec, embedOpt)\n",
       "        .catch(err => showError(`Javascript Error: ${err.message}<br>This usually means there's a typo in your chart specification. See the javascript console for the full traceback.`));\n",
       "    }\n",
       "\n",
       "    if(typeof define === \"function\" && define.amd) {\n",
       "      requirejs.config({paths});\n",
       "      require([\"vega-embed\"], displayChart, err => showError(`Error loading script: ${err.message}`));\n",
       "    } else if (typeof vegaEmbed === \"function\") {\n",
       "      displayChart(vegaEmbed);\n",
       "    } else {\n",
       "      loadScript(\"vega\")\n",
       "        .then(() => loadScript(\"vega-lite\"))\n",
       "        .then(() => loadScript(\"vega-embed\"))\n",
       "        .catch(showError)\n",
       "        .then(() => displayChart(vegaEmbed));\n",
       "    }\n",
       "  })({\"config\": {\"view\": {\"continuousWidth\": 400, \"continuousHeight\": 300}}, \"hconcat\": [{\"mark\": {\"type\": \"line\", \"opacity\": 0.7, \"size\": 2.6}, \"encoding\": {\"color\": {\"type\": \"nominal\", \"field\": \"Condition\"}, \"x\": {\"type\": \"quantitative\", \"field\": \"False positive rate\"}, \"y\": {\"type\": \"quantitative\", \"field\": \"True positive rate\"}}, \"selection\": {\"selector011\": {\"type\": \"interval\", \"bind\": \"scales\", \"encodings\": [\"x\", \"y\"]}}}, {\"mark\": \"bar\", \"encoding\": {\"color\": {\"type\": \"nominal\", \"field\": \"Condition\"}, \"x\": {\"type\": \"nominal\", \"field\": \"Condition\"}, \"y\": {\"type\": \"quantitative\", \"field\": \"AUC\"}}, \"selection\": {\"selector012\": {\"type\": \"interval\", \"bind\": \"scales\", \"encodings\": [\"x\", \"y\"]}}}], \"data\": {\"name\": \"data-86379b57b08866d7a434ef7973029ebd\"}, \"$schema\": \"https://vega.github.io/schema/vega-lite/v4.8.1.json\", \"datasets\": {\"data-86379b57b08866d7a434ef7973029ebd\": [{\"False positive rate\": 0.0, \"True positive rate\": 0.0, \"Condition\": \"bw_lognormal, Log power\", \"AUC\": 0.81917}, {\"False positive rate\": 0.0, \"True positive rate\": 0.025, \"Condition\": \"bw_lognormal, Log power\", \"AUC\": 0.81917}, {\"False positive rate\": 0.0, \"True positive rate\": 0.3, \"Condition\": \"bw_lognormal, Log power\", \"AUC\": 0.81917}, {\"False positive rate\": 0.016666666666666666, \"True positive rate\": 0.3, \"Condition\": \"bw_lognormal, Log power\", \"AUC\": 0.81917}, {\"False positive rate\": 0.016666666666666666, \"True positive rate\": 0.35, \"Condition\": \"bw_lognormal, Log power\", \"AUC\": 0.81917}, {\"False positive rate\": 0.03333333333333333, \"True positive rate\": 0.35, \"Condition\": \"bw_lognormal, Log power\", \"AUC\": 0.81917}, {\"False positive rate\": 0.03333333333333333, \"True positive rate\": 0.375, \"Condition\": \"bw_lognormal, Log power\", \"AUC\": 0.81917}, {\"False positive rate\": 0.05, \"True positive rate\": 0.375, \"Condition\": \"bw_lognormal, Log power\", \"AUC\": 0.81917}, {\"False positive rate\": 0.05, \"True positive rate\": 0.45, \"Condition\": \"bw_lognormal, Log power\", \"AUC\": 0.81917}, {\"False positive rate\": 0.06666666666666667, \"True positive rate\": 0.45, \"Condition\": \"bw_lognormal, Log power\", \"AUC\": 0.81917}, {\"False positive rate\": 0.06666666666666667, \"True positive rate\": 0.475, \"Condition\": \"bw_lognormal, Log power\", \"AUC\": 0.81917}, {\"False positive rate\": 0.15, \"True positive rate\": 0.475, \"Condition\": \"bw_lognormal, Log power\", \"AUC\": 0.81917}, {\"False positive rate\": 0.15, \"True positive rate\": 0.5, \"Condition\": \"bw_lognormal, Log power\", \"AUC\": 0.81917}, {\"False positive rate\": 0.16666666666666666, \"True positive rate\": 0.5, \"Condition\": \"bw_lognormal, Log power\", \"AUC\": 0.81917}, {\"False positive rate\": 0.16666666666666666, \"True positive rate\": 0.55, \"Condition\": \"bw_lognormal, Log power\", \"AUC\": 0.81917}, {\"False positive rate\": 0.2, \"True positive rate\": 0.55, \"Condition\": \"bw_lognormal, Log power\", \"AUC\": 0.81917}, {\"False positive rate\": 0.2, \"True positive rate\": 0.575, \"Condition\": \"bw_lognormal, Log power\", \"AUC\": 0.81917}, {\"False positive rate\": 0.21666666666666667, \"True positive rate\": 0.575, \"Condition\": \"bw_lognormal, Log power\", \"AUC\": 0.81917}, {\"False positive rate\": 0.21666666666666667, \"True positive rate\": 0.6, \"Condition\": \"bw_lognormal, Log power\", \"AUC\": 0.81917}, {\"False positive rate\": 0.23333333333333334, \"True positive rate\": 0.6, \"Condition\": \"bw_lognormal, Log power\", \"AUC\": 0.81917}, {\"False positive rate\": 0.23333333333333334, \"True positive rate\": 0.625, \"Condition\": \"bw_lognormal, Log power\", \"AUC\": 0.81917}, {\"False positive rate\": 0.26666666666666666, \"True positive rate\": 0.625, \"Condition\": \"bw_lognormal, Log power\", \"AUC\": 0.81917}, {\"False positive rate\": 0.26666666666666666, \"True positive rate\": 0.675, \"Condition\": \"bw_lognormal, Log power\", \"AUC\": 0.81917}, {\"False positive rate\": 0.2833333333333333, \"True positive rate\": 0.675, \"Condition\": \"bw_lognormal, Log power\", \"AUC\": 0.81917}, {\"False positive rate\": 0.2833333333333333, \"True positive rate\": 0.725, \"Condition\": \"bw_lognormal, Log power\", \"AUC\": 0.81917}, {\"False positive rate\": 0.3, \"True positive rate\": 0.725, \"Condition\": \"bw_lognormal, Log power\", \"AUC\": 0.81917}, {\"False positive rate\": 0.3, \"True positive rate\": 0.75, \"Condition\": \"bw_lognormal, Log power\", \"AUC\": 0.81917}, {\"False positive rate\": 0.35, \"True positive rate\": 0.75, \"Condition\": \"bw_lognormal, Log power\", \"AUC\": 0.81917}, {\"False positive rate\": 0.35, \"True positive rate\": 0.825, \"Condition\": \"bw_lognormal, Log power\", \"AUC\": 0.81917}, {\"False positive rate\": 0.36666666666666664, \"True positive rate\": 0.825, \"Condition\": \"bw_lognormal, Log power\", \"AUC\": 0.81917}, {\"False positive rate\": 0.36666666666666664, \"True positive rate\": 0.85, \"Condition\": \"bw_lognormal, Log power\", \"AUC\": 0.81917}, {\"False positive rate\": 0.4, \"True positive rate\": 0.85, \"Condition\": \"bw_lognormal, Log power\", \"AUC\": 0.81917}, {\"False positive rate\": 0.4, \"True positive rate\": 0.875, \"Condition\": \"bw_lognormal, Log power\", \"AUC\": 0.81917}, {\"False positive rate\": 0.45, \"True positive rate\": 0.875, \"Condition\": \"bw_lognormal, Log power\", \"AUC\": 0.81917}, {\"False positive rate\": 0.45, \"True positive rate\": 0.9, \"Condition\": \"bw_lognormal, Log power\", \"AUC\": 0.81917}, {\"False positive rate\": 0.48333333333333334, \"True positive rate\": 0.9, \"Condition\": \"bw_lognormal, Log power\", \"AUC\": 0.81917}, {\"False positive rate\": 0.48333333333333334, \"True positive rate\": 0.95, \"Condition\": \"bw_lognormal, Log power\", \"AUC\": 0.81917}, {\"False positive rate\": 0.5, \"True positive rate\": 0.95, \"Condition\": \"bw_lognormal, Log power\", \"AUC\": 0.81917}, {\"False positive rate\": 0.5, \"True positive rate\": 0.975, \"Condition\": \"bw_lognormal, Log power\", \"AUC\": 0.81917}, {\"False positive rate\": 0.6833333333333333, \"True positive rate\": 0.975, \"Condition\": \"bw_lognormal, Log power\", \"AUC\": 0.81917}, {\"False positive rate\": 0.6833333333333333, \"True positive rate\": 1.0, \"Condition\": \"bw_lognormal, Log power\", \"AUC\": 0.81917}, {\"False positive rate\": 1.0, \"True positive rate\": 1.0, \"Condition\": \"bw_lognormal, Log power\", \"AUC\": 0.81917}, {\"False positive rate\": 0.0, \"True positive rate\": 0.0, \"Condition\": \"bw_lognormal, Power\", \"AUC\": 0.84125}, {\"False positive rate\": 0.0, \"True positive rate\": 0.025, \"Condition\": \"bw_lognormal, Power\", \"AUC\": 0.84125}, {\"False positive rate\": 0.0, \"True positive rate\": 0.275, \"Condition\": \"bw_lognormal, Power\", \"AUC\": 0.84125}, {\"False positive rate\": 0.016666666666666666, \"True positive rate\": 0.275, \"Condition\": \"bw_lognormal, Power\", \"AUC\": 0.84125}, {\"False positive rate\": 0.016666666666666666, \"True positive rate\": 0.375, \"Condition\": \"bw_lognormal, Power\", \"AUC\": 0.84125}, {\"False positive rate\": 0.03333333333333333, \"True positive rate\": 0.375, \"Condition\": \"bw_lognormal, Power\", \"AUC\": 0.84125}, {\"False positive rate\": 0.03333333333333333, \"True positive rate\": 0.45, \"Condition\": \"bw_lognormal, Power\", \"AUC\": 0.84125}, {\"False positive rate\": 0.05, \"True positive rate\": 0.45, \"Condition\": \"bw_lognormal, Power\", \"AUC\": 0.84125}, {\"False positive rate\": 0.05, \"True positive rate\": 0.475, \"Condition\": \"bw_lognormal, Power\", \"AUC\": 0.84125}, {\"False positive rate\": 0.08333333333333333, \"True positive rate\": 0.475, \"Condition\": \"bw_lognormal, Power\", \"AUC\": 0.84125}, {\"False positive rate\": 0.08333333333333333, \"True positive rate\": 0.55, \"Condition\": \"bw_lognormal, Power\", \"AUC\": 0.84125}, {\"False positive rate\": 0.1, \"True positive rate\": 0.55, \"Condition\": \"bw_lognormal, Power\", \"AUC\": 0.84125}, {\"False positive rate\": 0.1, \"True positive rate\": 0.575, \"Condition\": \"bw_lognormal, Power\", \"AUC\": 0.84125}, {\"False positive rate\": 0.11666666666666667, \"True positive rate\": 0.575, \"Condition\": \"bw_lognormal, Power\", \"AUC\": 0.84125}, {\"False positive rate\": 0.11666666666666667, \"True positive rate\": 0.65, \"Condition\": \"bw_lognormal, Power\", \"AUC\": 0.84125}, {\"False positive rate\": 0.13333333333333333, \"True positive rate\": 0.65, \"Condition\": \"bw_lognormal, Power\", \"AUC\": 0.84125}, {\"False positive rate\": 0.13333333333333333, \"True positive rate\": 0.75, \"Condition\": \"bw_lognormal, Power\", \"AUC\": 0.84125}, {\"False positive rate\": 0.25, \"True positive rate\": 0.75, \"Condition\": \"bw_lognormal, Power\", \"AUC\": 0.84125}, {\"False positive rate\": 0.25, \"True positive rate\": 0.775, \"Condition\": \"bw_lognormal, Power\", \"AUC\": 0.84125}, {\"False positive rate\": 0.2833333333333333, \"True positive rate\": 0.775, \"Condition\": \"bw_lognormal, Power\", \"AUC\": 0.84125}, {\"False positive rate\": 0.2833333333333333, \"True positive rate\": 0.825, \"Condition\": \"bw_lognormal, Power\", \"AUC\": 0.84125}, {\"False positive rate\": 0.3, \"True positive rate\": 0.825, \"Condition\": \"bw_lognormal, Power\", \"AUC\": 0.84125}, {\"False positive rate\": 0.3, \"True positive rate\": 0.85, \"Condition\": \"bw_lognormal, Power\", \"AUC\": 0.84125}, {\"False positive rate\": 0.4166666666666667, \"True positive rate\": 0.85, \"Condition\": \"bw_lognormal, Power\", \"AUC\": 0.84125}, {\"False positive rate\": 0.4166666666666667, \"True positive rate\": 0.875, \"Condition\": \"bw_lognormal, Power\", \"AUC\": 0.84125}, {\"False positive rate\": 0.55, \"True positive rate\": 0.875, \"Condition\": \"bw_lognormal, Power\", \"AUC\": 0.84125}, {\"False positive rate\": 0.55, \"True positive rate\": 0.9, \"Condition\": \"bw_lognormal, Power\", \"AUC\": 0.84125}, {\"False positive rate\": 0.5666666666666667, \"True positive rate\": 0.9, \"Condition\": \"bw_lognormal, Power\", \"AUC\": 0.84125}, {\"False positive rate\": 0.5666666666666667, \"True positive rate\": 0.925, \"Condition\": \"bw_lognormal, Power\", \"AUC\": 0.84125}, {\"False positive rate\": 0.7166666666666667, \"True positive rate\": 0.925, \"Condition\": \"bw_lognormal, Power\", \"AUC\": 0.84125}, {\"False positive rate\": 0.7166666666666667, \"True positive rate\": 0.95, \"Condition\": \"bw_lognormal, Power\", \"AUC\": 0.84125}, {\"False positive rate\": 0.75, \"True positive rate\": 0.95, \"Condition\": \"bw_lognormal, Power\", \"AUC\": 0.84125}, {\"False positive rate\": 0.75, \"True positive rate\": 0.975, \"Condition\": \"bw_lognormal, Power\", \"AUC\": 0.84125}, {\"False positive rate\": 0.7833333333333333, \"True positive rate\": 0.975, \"Condition\": \"bw_lognormal, Power\", \"AUC\": 0.84125}, {\"False positive rate\": 0.7833333333333333, \"True positive rate\": 1.0, \"Condition\": \"bw_lognormal, Power\", \"AUC\": 0.84125}, {\"False positive rate\": 1.0, \"True positive rate\": 1.0, \"Condition\": \"bw_lognormal, Power\", \"AUC\": 0.84125}, {\"False positive rate\": 0.0, \"True positive rate\": 0.0, \"Condition\": \"bw_normal, Log power\", \"AUC\": 0.835}, {\"False positive rate\": 0.0, \"True positive rate\": 0.025, \"Condition\": \"bw_normal, Log power\", \"AUC\": 0.835}, {\"False positive rate\": 0.0, \"True positive rate\": 0.375, \"Condition\": \"bw_normal, Log power\", \"AUC\": 0.835}, {\"False positive rate\": 0.016666666666666666, \"True positive rate\": 0.375, \"Condition\": \"bw_normal, Log power\", \"AUC\": 0.835}, {\"False positive rate\": 0.016666666666666666, \"True positive rate\": 0.55, \"Condition\": \"bw_normal, Log power\", \"AUC\": 0.835}, {\"False positive rate\": 0.05, \"True positive rate\": 0.55, \"Condition\": \"bw_normal, Log power\", \"AUC\": 0.835}, {\"False positive rate\": 0.05, \"True positive rate\": 0.575, \"Condition\": \"bw_normal, Log power\", \"AUC\": 0.835}, {\"False positive rate\": 0.1, \"True positive rate\": 0.575, \"Condition\": \"bw_normal, Log power\", \"AUC\": 0.835}, {\"False positive rate\": 0.1, \"True positive rate\": 0.625, \"Condition\": \"bw_normal, Log power\", \"AUC\": 0.835}, {\"False positive rate\": 0.11666666666666667, \"True positive rate\": 0.625, \"Condition\": \"bw_normal, Log power\", \"AUC\": 0.835}, {\"False positive rate\": 0.11666666666666667, \"True positive rate\": 0.65, \"Condition\": \"bw_normal, Log power\", \"AUC\": 0.835}, {\"False positive rate\": 0.13333333333333333, \"True positive rate\": 0.65, \"Condition\": \"bw_normal, Log power\", \"AUC\": 0.835}, {\"False positive rate\": 0.13333333333333333, \"True positive rate\": 0.7, \"Condition\": \"bw_normal, Log power\", \"AUC\": 0.835}, {\"False positive rate\": 0.2, \"True positive rate\": 0.7, \"Condition\": \"bw_normal, Log power\", \"AUC\": 0.835}, {\"False positive rate\": 0.2, \"True positive rate\": 0.75, \"Condition\": \"bw_normal, Log power\", \"AUC\": 0.835}, {\"False positive rate\": 0.25, \"True positive rate\": 0.75, \"Condition\": \"bw_normal, Log power\", \"AUC\": 0.835}, {\"False positive rate\": 0.25, \"True positive rate\": 0.775, \"Condition\": \"bw_normal, Log power\", \"AUC\": 0.835}, {\"False positive rate\": 0.35, \"True positive rate\": 0.775, \"Condition\": \"bw_normal, Log power\", \"AUC\": 0.835}, {\"False positive rate\": 0.35, \"True positive rate\": 0.825, \"Condition\": \"bw_normal, Log power\", \"AUC\": 0.835}, {\"False positive rate\": 0.43333333333333335, \"True positive rate\": 0.825, \"Condition\": \"bw_normal, Log power\", \"AUC\": 0.835}, {\"False positive rate\": 0.43333333333333335, \"True positive rate\": 0.85, \"Condition\": \"bw_normal, Log power\", \"AUC\": 0.835}, {\"False positive rate\": 0.4666666666666667, \"True positive rate\": 0.85, \"Condition\": \"bw_normal, Log power\", \"AUC\": 0.835}, {\"False positive rate\": 0.4666666666666667, \"True positive rate\": 0.875, \"Condition\": \"bw_normal, Log power\", \"AUC\": 0.835}, {\"False positive rate\": 0.5666666666666667, \"True positive rate\": 0.875, \"Condition\": \"bw_normal, Log power\", \"AUC\": 0.835}, {\"False positive rate\": 0.5666666666666667, \"True positive rate\": 0.9, \"Condition\": \"bw_normal, Log power\", \"AUC\": 0.835}, {\"False positive rate\": 0.6333333333333333, \"True positive rate\": 0.9, \"Condition\": \"bw_normal, Log power\", \"AUC\": 0.835}, {\"False positive rate\": 0.6333333333333333, \"True positive rate\": 0.925, \"Condition\": \"bw_normal, Log power\", \"AUC\": 0.835}, {\"False positive rate\": 0.75, \"True positive rate\": 0.925, \"Condition\": \"bw_normal, Log power\", \"AUC\": 0.835}, {\"False positive rate\": 0.75, \"True positive rate\": 0.95, \"Condition\": \"bw_normal, Log power\", \"AUC\": 0.835}, {\"False positive rate\": 0.8166666666666667, \"True positive rate\": 0.95, \"Condition\": \"bw_normal, Log power\", \"AUC\": 0.835}, {\"False positive rate\": 0.8166666666666667, \"True positive rate\": 0.975, \"Condition\": \"bw_normal, Log power\", \"AUC\": 0.835}, {\"False positive rate\": 0.8333333333333334, \"True positive rate\": 0.975, \"Condition\": \"bw_normal, Log power\", \"AUC\": 0.835}, {\"False positive rate\": 0.8333333333333334, \"True positive rate\": 1.0, \"Condition\": \"bw_normal, Log power\", \"AUC\": 0.835}, {\"False positive rate\": 1.0, \"True positive rate\": 1.0, \"Condition\": \"bw_normal, Log power\", \"AUC\": 0.835}, {\"False positive rate\": 0.0, \"True positive rate\": 0.0, \"Condition\": \"bw_normal, Power\", \"AUC\": 0.62917}, {\"False positive rate\": 0.0, \"True positive rate\": 0.025, \"Condition\": \"bw_normal, Power\", \"AUC\": 0.62917}, {\"False positive rate\": 0.0, \"True positive rate\": 0.125, \"Condition\": \"bw_normal, Power\", \"AUC\": 0.62917}, {\"False positive rate\": 0.016666666666666666, \"True positive rate\": 0.125, \"Condition\": \"bw_normal, Power\", \"AUC\": 0.62917}, {\"False positive rate\": 0.016666666666666666, \"True positive rate\": 0.15, \"Condition\": \"bw_normal, Power\", \"AUC\": 0.62917}, {\"False positive rate\": 0.03333333333333333, \"True positive rate\": 0.15, \"Condition\": \"bw_normal, Power\", \"AUC\": 0.62917}, {\"False positive rate\": 0.03333333333333333, \"True positive rate\": 0.175, \"Condition\": \"bw_normal, Power\", \"AUC\": 0.62917}, {\"False positive rate\": 0.05, \"True positive rate\": 0.175, \"Condition\": \"bw_normal, Power\", \"AUC\": 0.62917}, {\"False positive rate\": 0.05, \"True positive rate\": 0.2, \"Condition\": \"bw_normal, Power\", \"AUC\": 0.62917}, {\"False positive rate\": 0.06666666666666667, \"True positive rate\": 0.2, \"Condition\": \"bw_normal, Power\", \"AUC\": 0.62917}, {\"False positive rate\": 0.06666666666666667, \"True positive rate\": 0.225, \"Condition\": \"bw_normal, Power\", \"AUC\": 0.62917}, {\"False positive rate\": 0.11666666666666667, \"True positive rate\": 0.225, \"Condition\": \"bw_normal, Power\", \"AUC\": 0.62917}, {\"False positive rate\": 0.11666666666666667, \"True positive rate\": 0.25, \"Condition\": \"bw_normal, Power\", \"AUC\": 0.62917}, {\"False positive rate\": 0.13333333333333333, \"True positive rate\": 0.25, \"Condition\": \"bw_normal, Power\", \"AUC\": 0.62917}, {\"False positive rate\": 0.13333333333333333, \"True positive rate\": 0.3, \"Condition\": \"bw_normal, Power\", \"AUC\": 0.62917}, {\"False positive rate\": 0.2, \"True positive rate\": 0.3, \"Condition\": \"bw_normal, Power\", \"AUC\": 0.62917}, {\"False positive rate\": 0.2, \"True positive rate\": 0.35, \"Condition\": \"bw_normal, Power\", \"AUC\": 0.62917}, {\"False positive rate\": 0.21666666666666667, \"True positive rate\": 0.35, \"Condition\": \"bw_normal, Power\", \"AUC\": 0.62917}, {\"False positive rate\": 0.21666666666666667, \"True positive rate\": 0.375, \"Condition\": \"bw_normal, Power\", \"AUC\": 0.62917}, {\"False positive rate\": 0.25, \"True positive rate\": 0.375, \"Condition\": \"bw_normal, Power\", \"AUC\": 0.62917}, {\"False positive rate\": 0.25, \"True positive rate\": 0.475, \"Condition\": \"bw_normal, Power\", \"AUC\": 0.62917}, {\"False positive rate\": 0.26666666666666666, \"True positive rate\": 0.475, \"Condition\": \"bw_normal, Power\", \"AUC\": 0.62917}, {\"False positive rate\": 0.26666666666666666, \"True positive rate\": 0.55, \"Condition\": \"bw_normal, Power\", \"AUC\": 0.62917}, {\"False positive rate\": 0.3, \"True positive rate\": 0.55, \"Condition\": \"bw_normal, Power\", \"AUC\": 0.62917}, {\"False positive rate\": 0.3, \"True positive rate\": 0.575, \"Condition\": \"bw_normal, Power\", \"AUC\": 0.62917}, {\"False positive rate\": 0.36666666666666664, \"True positive rate\": 0.575, \"Condition\": \"bw_normal, Power\", \"AUC\": 0.62917}, {\"False positive rate\": 0.36666666666666664, \"True positive rate\": 0.6, \"Condition\": \"bw_normal, Power\", \"AUC\": 0.62917}, {\"False positive rate\": 0.4, \"True positive rate\": 0.6, \"Condition\": \"bw_normal, Power\", \"AUC\": 0.62917}, {\"False positive rate\": 0.4, \"True positive rate\": 0.625, \"Condition\": \"bw_normal, Power\", \"AUC\": 0.62917}, {\"False positive rate\": 0.48333333333333334, \"True positive rate\": 0.625, \"Condition\": \"bw_normal, Power\", \"AUC\": 0.62917}, {\"False positive rate\": 0.48333333333333334, \"True positive rate\": 0.65, \"Condition\": \"bw_normal, Power\", \"AUC\": 0.62917}, {\"False positive rate\": 0.5333333333333333, \"True positive rate\": 0.65, \"Condition\": \"bw_normal, Power\", \"AUC\": 0.62917}, {\"False positive rate\": 0.5333333333333333, \"True positive rate\": 0.675, \"Condition\": \"bw_normal, Power\", \"AUC\": 0.62917}, {\"False positive rate\": 0.55, \"True positive rate\": 0.675, \"Condition\": \"bw_normal, Power\", \"AUC\": 0.62917}, {\"False positive rate\": 0.55, \"True positive rate\": 0.7, \"Condition\": \"bw_normal, Power\", \"AUC\": 0.62917}, {\"False positive rate\": 0.5666666666666667, \"True positive rate\": 0.7, \"Condition\": \"bw_normal, Power\", \"AUC\": 0.62917}, {\"False positive rate\": 0.5666666666666667, \"True positive rate\": 0.725, \"Condition\": \"bw_normal, Power\", \"AUC\": 0.62917}, {\"False positive rate\": 0.6, \"True positive rate\": 0.725, \"Condition\": \"bw_normal, Power\", \"AUC\": 0.62917}, {\"False positive rate\": 0.6, \"True positive rate\": 0.775, \"Condition\": \"bw_normal, Power\", \"AUC\": 0.62917}, {\"False positive rate\": 0.6666666666666666, \"True positive rate\": 0.775, \"Condition\": \"bw_normal, Power\", \"AUC\": 0.62917}, {\"False positive rate\": 0.6666666666666666, \"True positive rate\": 0.8, \"Condition\": \"bw_normal, Power\", \"AUC\": 0.62917}, {\"False positive rate\": 0.6833333333333333, \"True positive rate\": 0.8, \"Condition\": \"bw_normal, Power\", \"AUC\": 0.62917}, {\"False positive rate\": 0.6833333333333333, \"True positive rate\": 0.825, \"Condition\": \"bw_normal, Power\", \"AUC\": 0.62917}, {\"False positive rate\": 0.7333333333333333, \"True positive rate\": 0.825, \"Condition\": \"bw_normal, Power\", \"AUC\": 0.62917}, {\"False positive rate\": 0.7333333333333333, \"True positive rate\": 0.85, \"Condition\": \"bw_normal, Power\", \"AUC\": 0.62917}, {\"False positive rate\": 0.7666666666666667, \"True positive rate\": 0.85, \"Condition\": \"bw_normal, Power\", \"AUC\": 0.62917}, {\"False positive rate\": 0.7666666666666667, \"True positive rate\": 0.875, \"Condition\": \"bw_normal, Power\", \"AUC\": 0.62917}, {\"False positive rate\": 0.85, \"True positive rate\": 0.875, \"Condition\": \"bw_normal, Power\", \"AUC\": 0.62917}, {\"False positive rate\": 0.85, \"True positive rate\": 0.9, \"Condition\": \"bw_normal, Power\", \"AUC\": 0.62917}, {\"False positive rate\": 0.9, \"True positive rate\": 0.9, \"Condition\": \"bw_normal, Power\", \"AUC\": 0.62917}, {\"False positive rate\": 0.9, \"True positive rate\": 0.925, \"Condition\": \"bw_normal, Power\", \"AUC\": 0.62917}, {\"False positive rate\": 0.95, \"True positive rate\": 0.925, \"Condition\": \"bw_normal, Power\", \"AUC\": 0.62917}, {\"False positive rate\": 0.95, \"True positive rate\": 0.975, \"Condition\": \"bw_normal, Power\", \"AUC\": 0.62917}, {\"False positive rate\": 0.9666666666666667, \"True positive rate\": 0.975, \"Condition\": \"bw_normal, Power\", \"AUC\": 0.62917}, {\"False positive rate\": 0.9666666666666667, \"True positive rate\": 1.0, \"Condition\": \"bw_normal, Power\", \"AUC\": 0.62917}, {\"False positive rate\": 1.0, \"True positive rate\": 1.0, \"Condition\": \"bw_normal, Power\", \"AUC\": 0.62917}, {\"False positive rate\": 0.0, \"True positive rate\": 0.0, \"Condition\": \"mlm, Log power\", \"AUC\": 0.61146}, {\"False positive rate\": 0.016666666666666666, \"True positive rate\": 0.0, \"Condition\": \"mlm, Log power\", \"AUC\": 0.61146}, {\"False positive rate\": 0.03333333333333333, \"True positive rate\": 0.0, \"Condition\": \"mlm, Log power\", \"AUC\": 0.61146}, {\"False positive rate\": 0.03333333333333333, \"True positive rate\": 0.025, \"Condition\": \"mlm, Log power\", \"AUC\": 0.61146}, {\"False positive rate\": 0.06666666666666667, \"True positive rate\": 0.025, \"Condition\": \"mlm, Log power\", \"AUC\": 0.61146}, {\"False positive rate\": 0.06666666666666667, \"True positive rate\": 0.05, \"Condition\": \"mlm, Log power\", \"AUC\": 0.61146}, {\"False positive rate\": 0.08333333333333333, \"True positive rate\": 0.05, \"Condition\": \"mlm, Log power\", \"AUC\": 0.61146}, {\"False positive rate\": 0.08333333333333333, \"True positive rate\": 0.075, \"Condition\": \"mlm, Log power\", \"AUC\": 0.61146}, {\"False positive rate\": 0.1, \"True positive rate\": 0.075, \"Condition\": \"mlm, Log power\", \"AUC\": 0.61146}, {\"False positive rate\": 0.1, \"True positive rate\": 0.125, \"Condition\": \"mlm, Log power\", \"AUC\": 0.61146}, {\"False positive rate\": 0.11666666666666667, \"True positive rate\": 0.15, \"Condition\": \"mlm, Log power\", \"AUC\": 0.61146}, {\"False positive rate\": 0.11666666666666667, \"True positive rate\": 0.25, \"Condition\": \"mlm, Log power\", \"AUC\": 0.61146}, {\"False positive rate\": 0.13333333333333333, \"True positive rate\": 0.25, \"Condition\": \"mlm, Log power\", \"AUC\": 0.61146}, {\"False positive rate\": 0.15, \"True positive rate\": 0.275, \"Condition\": \"mlm, Log power\", \"AUC\": 0.61146}, {\"False positive rate\": 0.15, \"True positive rate\": 0.325, \"Condition\": \"mlm, Log power\", \"AUC\": 0.61146}, {\"False positive rate\": 0.18333333333333332, \"True positive rate\": 0.325, \"Condition\": \"mlm, Log power\", \"AUC\": 0.61146}, {\"False positive rate\": 0.21666666666666667, \"True positive rate\": 0.325, \"Condition\": \"mlm, Log power\", \"AUC\": 0.61146}, {\"False positive rate\": 0.21666666666666667, \"True positive rate\": 0.375, \"Condition\": \"mlm, Log power\", \"AUC\": 0.61146}, {\"False positive rate\": 0.23333333333333334, \"True positive rate\": 0.375, \"Condition\": \"mlm, Log power\", \"AUC\": 0.61146}, {\"False positive rate\": 0.23333333333333334, \"True positive rate\": 0.4, \"Condition\": \"mlm, Log power\", \"AUC\": 0.61146}, {\"False positive rate\": 0.25, \"True positive rate\": 0.4, \"Condition\": \"mlm, Log power\", \"AUC\": 0.61146}, {\"False positive rate\": 0.26666666666666666, \"True positive rate\": 0.425, \"Condition\": \"mlm, Log power\", \"AUC\": 0.61146}, {\"False positive rate\": 0.26666666666666666, \"True positive rate\": 0.475, \"Condition\": \"mlm, Log power\", \"AUC\": 0.61146}, {\"False positive rate\": 0.2833333333333333, \"True positive rate\": 0.475, \"Condition\": \"mlm, Log power\", \"AUC\": 0.61146}, {\"False positive rate\": 0.2833333333333333, \"True positive rate\": 0.5, \"Condition\": \"mlm, Log power\", \"AUC\": 0.61146}, {\"False positive rate\": 0.3, \"True positive rate\": 0.525, \"Condition\": \"mlm, Log power\", \"AUC\": 0.61146}, {\"False positive rate\": 0.31666666666666665, \"True positive rate\": 0.525, \"Condition\": \"mlm, Log power\", \"AUC\": 0.61146}, {\"False positive rate\": 0.35, \"True positive rate\": 0.55, \"Condition\": \"mlm, Log power\", \"AUC\": 0.61146}, {\"False positive rate\": 0.4166666666666667, \"True positive rate\": 0.55, \"Condition\": \"mlm, Log power\", \"AUC\": 0.61146}, {\"False positive rate\": 0.45, \"True positive rate\": 0.55, \"Condition\": \"mlm, Log power\", \"AUC\": 0.61146}, {\"False positive rate\": 0.4666666666666667, \"True positive rate\": 0.55, \"Condition\": \"mlm, Log power\", \"AUC\": 0.61146}, {\"False positive rate\": 0.48333333333333334, \"True positive rate\": 0.575, \"Condition\": \"mlm, Log power\", \"AUC\": 0.61146}, {\"False positive rate\": 0.5, \"True positive rate\": 0.575, \"Condition\": \"mlm, Log power\", \"AUC\": 0.61146}, {\"False positive rate\": 0.5, \"True positive rate\": 0.65, \"Condition\": \"mlm, Log power\", \"AUC\": 0.61146}, {\"False positive rate\": 0.5333333333333333, \"True positive rate\": 0.65, \"Condition\": \"mlm, Log power\", \"AUC\": 0.61146}, {\"False positive rate\": 0.5333333333333333, \"True positive rate\": 0.675, \"Condition\": \"mlm, Log power\", \"AUC\": 0.61146}, {\"False positive rate\": 0.55, \"True positive rate\": 0.675, \"Condition\": \"mlm, Log power\", \"AUC\": 0.61146}, {\"False positive rate\": 0.5666666666666667, \"True positive rate\": 0.7, \"Condition\": \"mlm, Log power\", \"AUC\": 0.61146}, {\"False positive rate\": 0.5666666666666667, \"True positive rate\": 0.75, \"Condition\": \"mlm, Log power\", \"AUC\": 0.61146}, {\"False positive rate\": 0.5833333333333334, \"True positive rate\": 0.75, \"Condition\": \"mlm, Log power\", \"AUC\": 0.61146}, {\"False positive rate\": 0.5833333333333334, \"True positive rate\": 0.825, \"Condition\": \"mlm, Log power\", \"AUC\": 0.61146}, {\"False positive rate\": 0.6, \"True positive rate\": 0.825, \"Condition\": \"mlm, Log power\", \"AUC\": 0.61146}, {\"False positive rate\": 0.6333333333333333, \"True positive rate\": 0.825, \"Condition\": \"mlm, Log power\", \"AUC\": 0.61146}, {\"False positive rate\": 0.65, \"True positive rate\": 0.85, \"Condition\": \"mlm, Log power\", \"AUC\": 0.61146}, {\"False positive rate\": 0.6833333333333333, \"True positive rate\": 0.85, \"Condition\": \"mlm, Log power\", \"AUC\": 0.61146}, {\"False positive rate\": 0.8333333333333334, \"True positive rate\": 0.85, \"Condition\": \"mlm, Log power\", \"AUC\": 0.61146}, {\"False positive rate\": 0.8333333333333334, \"True positive rate\": 0.9, \"Condition\": \"mlm, Log power\", \"AUC\": 0.61146}, {\"False positive rate\": 0.85, \"True positive rate\": 0.9, \"Condition\": \"mlm, Log power\", \"AUC\": 0.61146}, {\"False positive rate\": 0.85, \"True positive rate\": 0.925, \"Condition\": \"mlm, Log power\", \"AUC\": 0.61146}, {\"False positive rate\": 0.8833333333333333, \"True positive rate\": 0.925, \"Condition\": \"mlm, Log power\", \"AUC\": 0.61146}, {\"False positive rate\": 0.8833333333333333, \"True positive rate\": 0.975, \"Condition\": \"mlm, Log power\", \"AUC\": 0.61146}, {\"False positive rate\": 0.9, \"True positive rate\": 0.975, \"Condition\": \"mlm, Log power\", \"AUC\": 0.61146}, {\"False positive rate\": 0.9, \"True positive rate\": 1.0, \"Condition\": \"mlm, Log power\", \"AUC\": 0.61146}, {\"False positive rate\": 1.0, \"True positive rate\": 1.0, \"Condition\": \"mlm, Log power\", \"AUC\": 0.61146}, {\"False positive rate\": 0.0, \"True positive rate\": 0.0, \"Condition\": \"mlm, Power\", \"AUC\": 0.3925}, {\"False positive rate\": 0.016666666666666666, \"True positive rate\": 0.0, \"Condition\": \"mlm, Power\", \"AUC\": 0.3925}, {\"False positive rate\": 0.016666666666666666, \"True positive rate\": 0.025, \"Condition\": \"mlm, Power\", \"AUC\": 0.3925}, {\"False positive rate\": 0.08333333333333333, \"True positive rate\": 0.025, \"Condition\": \"mlm, Power\", \"AUC\": 0.3925}, {\"False positive rate\": 0.08333333333333333, \"True positive rate\": 0.1, \"Condition\": \"mlm, Power\", \"AUC\": 0.3925}, {\"False positive rate\": 0.15, \"True positive rate\": 0.1, \"Condition\": \"mlm, Power\", \"AUC\": 0.3925}, {\"False positive rate\": 0.15, \"True positive rate\": 0.175, \"Condition\": \"mlm, Power\", \"AUC\": 0.3925}, {\"False positive rate\": 0.18333333333333332, \"True positive rate\": 0.175, \"Condition\": \"mlm, Power\", \"AUC\": 0.3925}, {\"False positive rate\": 0.18333333333333332, \"True positive rate\": 0.2, \"Condition\": \"mlm, Power\", \"AUC\": 0.3925}, {\"False positive rate\": 0.25, \"True positive rate\": 0.2, \"Condition\": \"mlm, Power\", \"AUC\": 0.3925}, {\"False positive rate\": 0.25, \"True positive rate\": 0.225, \"Condition\": \"mlm, Power\", \"AUC\": 0.3925}, {\"False positive rate\": 0.4, \"True positive rate\": 0.225, \"Condition\": \"mlm, Power\", \"AUC\": 0.3925}, {\"False positive rate\": 0.4, \"True positive rate\": 0.25, \"Condition\": \"mlm, Power\", \"AUC\": 0.3925}, {\"False positive rate\": 0.43333333333333335, \"True positive rate\": 0.25, \"Condition\": \"mlm, Power\", \"AUC\": 0.3925}, {\"False positive rate\": 0.43333333333333335, \"True positive rate\": 0.275, \"Condition\": \"mlm, Power\", \"AUC\": 0.3925}, {\"False positive rate\": 0.48333333333333334, \"True positive rate\": 0.275, \"Condition\": \"mlm, Power\", \"AUC\": 0.3925}, {\"False positive rate\": 0.48333333333333334, \"True positive rate\": 0.325, \"Condition\": \"mlm, Power\", \"AUC\": 0.3925}, {\"False positive rate\": 0.5666666666666667, \"True positive rate\": 0.325, \"Condition\": \"mlm, Power\", \"AUC\": 0.3925}, {\"False positive rate\": 0.5666666666666667, \"True positive rate\": 0.35, \"Condition\": \"mlm, Power\", \"AUC\": 0.3925}, {\"False positive rate\": 0.6166666666666667, \"True positive rate\": 0.35, \"Condition\": \"mlm, Power\", \"AUC\": 0.3925}, {\"False positive rate\": 0.6166666666666667, \"True positive rate\": 0.4, \"Condition\": \"mlm, Power\", \"AUC\": 0.3925}, {\"False positive rate\": 0.6333333333333333, \"True positive rate\": 0.4, \"Condition\": \"mlm, Power\", \"AUC\": 0.3925}, {\"False positive rate\": 0.6333333333333333, \"True positive rate\": 0.425, \"Condition\": \"mlm, Power\", \"AUC\": 0.3925}, {\"False positive rate\": 0.65, \"True positive rate\": 0.425, \"Condition\": \"mlm, Power\", \"AUC\": 0.3925}, {\"False positive rate\": 0.65, \"True positive rate\": 0.45, \"Condition\": \"mlm, Power\", \"AUC\": 0.3925}, {\"False positive rate\": 0.6666666666666666, \"True positive rate\": 0.45, \"Condition\": \"mlm, Power\", \"AUC\": 0.3925}, {\"False positive rate\": 0.6666666666666666, \"True positive rate\": 0.5, \"Condition\": \"mlm, Power\", \"AUC\": 0.3925}, {\"False positive rate\": 0.7166666666666667, \"True positive rate\": 0.5, \"Condition\": \"mlm, Power\", \"AUC\": 0.3925}, {\"False positive rate\": 0.7166666666666667, \"True positive rate\": 0.575, \"Condition\": \"mlm, Power\", \"AUC\": 0.3925}, {\"False positive rate\": 0.7333333333333333, \"True positive rate\": 0.575, \"Condition\": \"mlm, Power\", \"AUC\": 0.3925}, {\"False positive rate\": 0.7333333333333333, \"True positive rate\": 0.6, \"Condition\": \"mlm, Power\", \"AUC\": 0.3925}, {\"False positive rate\": 0.7833333333333333, \"True positive rate\": 0.6, \"Condition\": \"mlm, Power\", \"AUC\": 0.3925}, {\"False positive rate\": 0.7833333333333333, \"True positive rate\": 0.7, \"Condition\": \"mlm, Power\", \"AUC\": 0.3925}, {\"False positive rate\": 0.8166666666666667, \"True positive rate\": 0.7, \"Condition\": \"mlm, Power\", \"AUC\": 0.3925}, {\"False positive rate\": 0.8166666666666667, \"True positive rate\": 0.725, \"Condition\": \"mlm, Power\", \"AUC\": 0.3925}, {\"False positive rate\": 0.85, \"True positive rate\": 0.725, \"Condition\": \"mlm, Power\", \"AUC\": 0.3925}, {\"False positive rate\": 0.85, \"True positive rate\": 0.8, \"Condition\": \"mlm, Power\", \"AUC\": 0.3925}, {\"False positive rate\": 0.8666666666666667, \"True positive rate\": 0.8, \"Condition\": \"mlm, Power\", \"AUC\": 0.3925}, {\"False positive rate\": 0.8666666666666667, \"True positive rate\": 0.825, \"Condition\": \"mlm, Power\", \"AUC\": 0.3925}, {\"False positive rate\": 0.9166666666666666, \"True positive rate\": 0.825, \"Condition\": \"mlm, Power\", \"AUC\": 0.3925}, {\"False positive rate\": 0.9166666666666666, \"True positive rate\": 0.875, \"Condition\": \"mlm, Power\", \"AUC\": 0.3925}, {\"False positive rate\": 0.95, \"True positive rate\": 0.875, \"Condition\": \"mlm, Power\", \"AUC\": 0.3925}, {\"False positive rate\": 0.95, \"True positive rate\": 0.9, \"Condition\": \"mlm, Power\", \"AUC\": 0.3925}, {\"False positive rate\": 0.9666666666666667, \"True positive rate\": 0.9, \"Condition\": \"mlm, Power\", \"AUC\": 0.3925}, {\"False positive rate\": 0.9666666666666667, \"True positive rate\": 0.975, \"Condition\": \"mlm, Power\", \"AUC\": 0.3925}, {\"False positive rate\": 1.0, \"True positive rate\": 0.975, \"Condition\": \"mlm, Power\", \"AUC\": 0.3925}, {\"False positive rate\": 1.0, \"True positive rate\": 1.0, \"Condition\": \"mlm, Power\", \"AUC\": 0.3925}, {\"False positive rate\": 0.0, \"True positive rate\": 0.0, \"Condition\": \"anova, Log power\", \"AUC\": 0.5}, {\"False positive rate\": 1.0, \"True positive rate\": 1.0, \"Condition\": \"anova, Log power\", \"AUC\": 0.5}, {\"False positive rate\": 0.0, \"True positive rate\": 0.0, \"Condition\": \"anova, Power\", \"AUC\": 0.44583}, {\"False positive rate\": 0.7333333333333333, \"True positive rate\": 0.625, \"Condition\": \"anova, Power\", \"AUC\": 0.44583}, {\"False positive rate\": 1.0, \"True positive rate\": 1.0, \"Condition\": \"anova, Power\", \"AUC\": 0.44583}]}}, {\"mode\": \"vega-lite\"});\n",
       "</script>"
      ],
      "text/plain": [
       "alt.HConcatChart(...)"
      ]
     },
     "execution_count": 18,
     "metadata": {},
     "output_type": "execute_result"
    }
   ],
   "source": [
    "model_comparison.plot_roc(y_scores, true_slopes,binary=False)"
   ]
  },
  {
   "cell_type": "markdown",
   "metadata": {},
   "source": [
    "## CM"
   ]
  },
  {
   "cell_type": "code",
   "execution_count": 55,
   "metadata": {},
   "outputs": [
    {
     "data": {
      "text/html": [
       "\n",
       "<div id=\"altair-viz-e1b48b6e6cc64fe1954f3887e682223c\"></div>\n",
       "<script type=\"text/javascript\">\n",
       "  (function(spec, embedOpt){\n",
       "    let outputDiv = document.currentScript.previousElementSibling;\n",
       "    if (outputDiv.id !== \"altair-viz-e1b48b6e6cc64fe1954f3887e682223c\") {\n",
       "      outputDiv = document.getElementById(\"altair-viz-e1b48b6e6cc64fe1954f3887e682223c\");\n",
       "    }\n",
       "    const paths = {\n",
       "      \"vega\": \"https://cdn.jsdelivr.net/npm//vega@5?noext\",\n",
       "      \"vega-lib\": \"https://cdn.jsdelivr.net/npm//vega-lib?noext\",\n",
       "      \"vega-lite\": \"https://cdn.jsdelivr.net/npm//vega-lite@4.8.1?noext\",\n",
       "      \"vega-embed\": \"https://cdn.jsdelivr.net/npm//vega-embed@6?noext\",\n",
       "    };\n",
       "\n",
       "    function loadScript(lib) {\n",
       "      return new Promise(function(resolve, reject) {\n",
       "        var s = document.createElement('script');\n",
       "        s.src = paths[lib];\n",
       "        s.async = true;\n",
       "        s.onload = () => resolve(paths[lib]);\n",
       "        s.onerror = () => reject(`Error loading script: ${paths[lib]}`);\n",
       "        document.getElementsByTagName(\"head\")[0].appendChild(s);\n",
       "      });\n",
       "    }\n",
       "\n",
       "    function showError(err) {\n",
       "      outputDiv.innerHTML = `<div class=\"error\" style=\"color:red;\">${err}</div>`;\n",
       "      throw err;\n",
       "    }\n",
       "\n",
       "    function displayChart(vegaEmbed) {\n",
       "      vegaEmbed(outputDiv, spec, embedOpt)\n",
       "        .catch(err => showError(`Javascript Error: ${err.message}<br>This usually means there's a typo in your chart specification. See the javascript console for the full traceback.`));\n",
       "    }\n",
       "\n",
       "    if(typeof define === \"function\" && define.amd) {\n",
       "      requirejs.config({paths});\n",
       "      require([\"vega-embed\"], displayChart, err => showError(`Error loading script: ${err.message}`));\n",
       "    } else if (typeof vegaEmbed === \"function\") {\n",
       "      displayChart(vegaEmbed);\n",
       "    } else {\n",
       "      loadScript(\"vega\")\n",
       "        .then(() => loadScript(\"vega-lite\"))\n",
       "        .then(() => loadScript(\"vega-embed\"))\n",
       "        .catch(showError)\n",
       "        .then(() => displayChart(vegaEmbed));\n",
       "    }\n",
       "  })({\"config\": {\"view\": {\"continuousWidth\": 400, \"continuousHeight\": 300}}, \"data\": {\"name\": \"data-5aa669ee965ae93c29ce00a4c86f60a9\"}, \"facet\": {\"column\": {\"type\": \"nominal\", \"field\": \"Method\"}, \"row\": {\"type\": \"nominal\", \"field\": \"y\"}}, \"spec\": {\"mark\": \"rect\", \"encoding\": {\"color\": {\"type\": \"ordinal\", \"field\": \"Occurences\"}, \"x\": {\"type\": \"nominal\", \"field\": \"predicted\"}, \"y\": {\"type\": \"nominal\", \"field\": \"actual\"}}, \"height\": 180, \"width\": 180}, \"$schema\": \"https://vega.github.io/schema/vega-lite/v4.8.1.json\", \"datasets\": {\"data-5aa669ee965ae93c29ce00a4c86f60a9\": [{\"actual\": false, \"predicted\": false, \"Occurences\": 53, \"Method\": \"bw_lognormal\", \"y\": \" Log power\"}, {\"actual\": false, \"predicted\": true, \"Occurences\": 7, \"Method\": \"bw_lognormal\", \"y\": \" Log power\"}, {\"actual\": true, \"predicted\": false, \"Occurences\": 21, \"Method\": \"bw_lognormal\", \"y\": \" Log power\"}, {\"actual\": true, \"predicted\": true, \"Occurences\": 19, \"Method\": \"bw_lognormal\", \"y\": \" Log power\"}, {\"actual\": false, \"predicted\": false, \"Occurences\": 55, \"Method\": \"bw_lognormal\", \"y\": \" Power\"}, {\"actual\": false, \"predicted\": true, \"Occurences\": 5, \"Method\": \"bw_lognormal\", \"y\": \" Power\"}, {\"actual\": true, \"predicted\": false, \"Occurences\": 19, \"Method\": \"bw_lognormal\", \"y\": \" Power\"}, {\"actual\": true, \"predicted\": true, \"Occurences\": 21, \"Method\": \"bw_lognormal\", \"y\": \" Power\"}, {\"actual\": false, \"predicted\": false, \"Occurences\": 59, \"Method\": \"bw_normal\", \"y\": \" Log power\"}, {\"actual\": false, \"predicted\": true, \"Occurences\": 1, \"Method\": \"bw_normal\", \"y\": \" Log power\"}, {\"actual\": true, \"predicted\": false, \"Occurences\": 20, \"Method\": \"bw_normal\", \"y\": \" Log power\"}, {\"actual\": true, \"predicted\": true, \"Occurences\": 20, \"Method\": \"bw_normal\", \"y\": \" Log power\"}, {\"actual\": false, \"predicted\": false, \"Occurences\": 57, \"Method\": \"bw_normal\", \"y\": \" Power\"}, {\"actual\": false, \"predicted\": true, \"Occurences\": 3, \"Method\": \"bw_normal\", \"y\": \" Power\"}, {\"actual\": true, \"predicted\": false, \"Occurences\": 32, \"Method\": \"bw_normal\", \"y\": \" Power\"}, {\"actual\": true, \"predicted\": true, \"Occurences\": 8, \"Method\": \"bw_normal\", \"y\": \" Power\"}, {\"actual\": false, \"predicted\": false, \"Occurences\": 0, \"Method\": \"mlm\", \"y\": \" Log power\"}, {\"actual\": false, \"predicted\": true, \"Occurences\": 60, \"Method\": \"mlm\", \"y\": \" Log power\"}, {\"actual\": true, \"predicted\": false, \"Occurences\": 0, \"Method\": \"mlm\", \"y\": \" Log power\"}, {\"actual\": true, \"predicted\": true, \"Occurences\": 40, \"Method\": \"mlm\", \"y\": \" Log power\"}, {\"actual\": false, \"predicted\": false, \"Occurences\": 0, \"Method\": \"mlm\", \"y\": \" Power\"}, {\"actual\": false, \"predicted\": true, \"Occurences\": 60, \"Method\": \"mlm\", \"y\": \" Power\"}, {\"actual\": true, \"predicted\": false, \"Occurences\": 0, \"Method\": \"mlm\", \"y\": \" Power\"}, {\"actual\": true, \"predicted\": true, \"Occurences\": 40, \"Method\": \"mlm\", \"y\": \" Power\"}, {\"actual\": false, \"predicted\": false, \"Occurences\": 0, \"Method\": \"anova\", \"y\": \" Log power\"}, {\"actual\": false, \"predicted\": true, \"Occurences\": 60, \"Method\": \"anova\", \"y\": \" Log power\"}, {\"actual\": true, \"predicted\": false, \"Occurences\": 0, \"Method\": \"anova\", \"y\": \" Log power\"}, {\"actual\": true, \"predicted\": true, \"Occurences\": 40, \"Method\": \"anova\", \"y\": \" Log power\"}, {\"actual\": false, \"predicted\": false, \"Occurences\": 16, \"Method\": \"anova\", \"y\": \" Power\"}, {\"actual\": false, \"predicted\": true, \"Occurences\": 44, \"Method\": \"anova\", \"y\": \" Power\"}, {\"actual\": true, \"predicted\": false, \"Occurences\": 15, \"Method\": \"anova\", \"y\": \" Power\"}, {\"actual\": true, \"predicted\": true, \"Occurences\": 25, \"Method\": \"anova\", \"y\": \" Power\"}]}}, {\"mode\": \"vega-lite\"});\n",
       "</script>"
      ],
      "text/plain": [
       "alt.FacetChart(...)"
      ]
     },
     "execution_count": 55,
     "metadata": {},
     "output_type": "execute_result"
    }
   ],
   "source": [
    "from itertools import product\n",
    "import altair as alt\n",
    "from sklearn.metrics import confusion_matrix\n",
    "import pandas as pd\n",
    "columns = [\"actual\", \"predicted\", \"Occurences\",\"Method\",'y']\n",
    "\n",
    "df = pd.DataFrame(columns=columns)\n",
    "\n",
    "y_true=true_slopes>0\n",
    "for col in y_scores.keys():\n",
    "    y_pred=np.array(y_scores[col])>0\n",
    "    labels = np.unique(y_true)\n",
    "    cm = confusion_matrix(y_true, y_pred, labels=labels)\n",
    "    cm = [y for i in cm for y in i]\n",
    "    roll = list(product(np.unique(y_true), repeat = 2))\n",
    "    for i in range(len(roll)):\n",
    "        df = df.append({'actual':roll[i][0], \n",
    "                        'predicted':roll[i][1],\n",
    "                        'Occurences':cm[i],\n",
    "                        'Method':col.split(',')[0],\n",
    "                        'y':col.split(',')[1],\n",
    "                       }, ignore_index=True)\n",
    "#plot figure\n",
    "def make_example():\n",
    "    return alt.Chart(df).mark_rect().encode(\n",
    "        x=\"predicted\",\n",
    "        y=\"actual\",\n",
    "        color='Occurences:O'\n",
    "    ).properties(        width=180,height=180)\n",
    "make_example().facet(column='Method',row='y')"
   ]
  }
 ],
 "metadata": {
  "celltoolbar": "Slideshow",
  "jupytext": {
   "formats": "ipynb,py:light"
  },
  "kernelspec": {
   "display_name": "PyCharm (jup)",
   "language": "python",
   "name": "pycharm-d5912792"
  },
  "language_info": {
   "codemirror_mode": {
    "name": "ipython",
    "version": 3
   },
   "file_extension": ".py",
   "mimetype": "text/x-python",
   "name": "python",
   "nbconvert_exporter": "python",
   "pygments_lexer": "ipython3",
   "version": "3.8.5"
  }
 },
 "nbformat": 4,
 "nbformat_minor": 4
}
