{
 "cells": [
  {
   "cell_type": "markdown",
   "metadata": {
    "slideshow": {
     "slide_type": "slide"
    }
   },
   "source": [
    "# Compare to ANOVA and LMM: ROC curve"
   ]
  },
  {
   "cell_type": "code",
   "execution_count": 3,
   "metadata": {
    "slideshow": {
     "slide_type": "skip"
    }
   },
   "outputs": [
    {
     "data": {
      "text/plain": [
       "<module 'bayes_window.model_comparison' from '/home/m/mmy/bayes-window/bayes_window/model_comparison.py'>"
      ]
     },
     "execution_count": 3,
     "metadata": {},
     "output_type": "execute_result"
    }
   ],
   "source": [
    "from bayes_window import model_comparison, models\n",
    "from bayes_window.generative_models import generate_fake_lfp\n",
    "\n",
    "import numpy as np\n",
    "from importlib import reload\n",
    "reload(model_comparison)"
   ]
  },
  {
   "cell_type": "code",
   "execution_count": null,
   "metadata": {
    "scrolled": false,
    "slideshow": {
     "slide_type": "skip"
    }
   },
   "outputs": [
    {
     "name": "stderr",
     "output_type": "stream",
     "text": [
      "\n",
      "  0%|          | 0/8250 [00:00<?, ?it/s]\u001b[A\n",
      "  0%|          | 12/8250 [00:00<01:44, 78.91it/s]\u001b[A\n",
      "  0%|          | 24/8250 [00:05<34:05,  4.02it/s]\u001b[A\n",
      "  0%|          | 36/8250 [00:07<32:02,  4.27it/s]\u001b[A\n",
      "  1%|          | 48/8250 [00:12<39:37,  3.45it/s]\u001b[A\n",
      "  1%|          | 60/8250 [00:18<52:20,  2.61it/s]\u001b[A\n",
      "  1%|          | 72/8250 [00:28<1:10:36,  1.93it/s]\u001b[A\n",
      "  1%|          | 84/8250 [00:39<1:29:43,  1.52it/s]\u001b[A\n",
      "  1%|          | 96/8250 [00:46<1:27:00,  1.56it/s]\u001b[A\n",
      "  1%|▏         | 108/8250 [00:50<1:13:53,  1.84it/s]\u001b[A\n",
      "  1%|▏         | 120/8250 [00:55<1:07:23,  2.01it/s]\u001b[A\n",
      "  2%|▏         | 132/8250 [01:01<1:09:11,  1.96it/s]\u001b[A\n",
      "  2%|▏         | 144/8250 [01:10<1:17:11,  1.75it/s]\u001b[A\n",
      "  2%|▏         | 156/8250 [01:19<1:25:43,  1.57it/s]\u001b[A\n",
      "  2%|▏         | 168/8250 [01:28<1:29:02,  1.51it/s]\u001b[A\n",
      "  2%|▏         | 180/8250 [01:33<1:19:00,  1.70it/s]\u001b[A\n",
      "  2%|▏         | 192/8250 [01:40<1:19:16,  1.69it/s]\u001b[A\n",
      "  2%|▏         | 204/8250 [01:55<1:44:36,  1.28it/s]\u001b[A\n",
      "  3%|▎         | 216/8250 [02:17<2:28:21,  1.11s/it]\u001b[A\n",
      "  3%|▎         | 228/8250 [02:45<3:16:17,  1.47s/it]\u001b[A\n",
      "  3%|▎         | 240/8250 [03:22<4:21:11,  1.96s/it]\u001b[A\n",
      "  3%|▎         | 252/8250 [03:37<3:52:09,  1.74s/it]\u001b[A\n",
      "  3%|▎         | 264/8250 [03:50<3:26:05,  1.55s/it]\u001b[A\n",
      "  3%|▎         | 276/8250 [04:04<3:09:19,  1.42s/it]\u001b[A\n",
      "  3%|▎         | 288/8250 [04:17<2:56:30,  1.33s/it]\u001b[A\n",
      "  4%|▎         | 300/8250 [04:31<2:48:43,  1.27s/it]\u001b[A\n",
      "  4%|▍         | 312/8250 [04:47<2:51:08,  1.29s/it]\u001b[A\n",
      "  4%|▍         | 324/8250 [04:54<2:24:37,  1.09s/it]\u001b[A\n",
      "  4%|▍         | 336/8250 [05:01<2:00:56,  1.09it/s]\u001b[A\n",
      "  4%|▍         | 348/8250 [05:06<1:42:26,  1.29it/s]\u001b[A\n",
      "  4%|▍         | 360/8250 [05:14<1:37:33,  1.35it/s]\u001b[A\n",
      "  5%|▍         | 372/8250 [05:25<1:43:20,  1.27it/s]\u001b[A\n",
      "  5%|▍         | 384/8250 [05:36<1:51:13,  1.18it/s]\u001b[A\n",
      "  5%|▍         | 396/8250 [05:46<1:49:36,  1.19it/s]\u001b[A\n",
      "  5%|▍         | 408/8250 [05:50<1:30:09,  1.45it/s]\u001b[A\n",
      "  5%|▌         | 420/8250 [05:56<1:21:54,  1.59it/s]\u001b[A\n",
      "  5%|▌         | 432/8250 [06:04<1:23:11,  1.57it/s]\u001b[A\n",
      "  5%|▌         | 444/8250 [06:14<1:29:50,  1.45it/s]\u001b[A\n",
      "  6%|▌         | 456/8250 [06:25<1:37:30,  1.33it/s]\u001b[A\n",
      "  6%|▌         | 468/8250 [06:36<1:46:15,  1.22it/s]\u001b[A\n",
      "  6%|▌         | 480/8250 [06:44<1:38:45,  1.31it/s]\u001b[A\n",
      "  6%|▌         | 492/8250 [06:51<1:33:37,  1.38it/s]\u001b[A\n",
      "  6%|▌         | 504/8250 [07:01<1:35:57,  1.35it/s]\u001b[A\n",
      "  6%|▋         | 516/8250 [07:12<1:41:15,  1.27it/s]\u001b[A\n",
      "  6%|▋         | 528/8250 [07:21<1:40:57,  1.27it/s]\u001b[A\n",
      "  7%|▋         | 540/8250 [07:33<1:48:14,  1.19it/s]\u001b[A\n",
      "  7%|▋         | 552/8250 [07:38<1:31:31,  1.40it/s]\u001b[A\n",
      "  7%|▋         | 564/8250 [07:42<1:18:55,  1.62it/s]\u001b[A\n",
      "  7%|▋         | 576/8250 [07:47<1:10:32,  1.81it/s]\u001b[A\n",
      "  7%|▋         | 588/8250 [07:54<1:12:17,  1.77it/s]\u001b[A\n",
      "  7%|▋         | 600/8250 [08:05<1:23:24,  1.53it/s]\u001b[A\n",
      "  7%|▋         | 612/8250 [08:16<1:35:11,  1.34it/s]\u001b[A\n",
      "  8%|▊         | 624/8250 [08:21<1:22:41,  1.54it/s]\u001b[A\n",
      "  8%|▊         | 636/8250 [08:27<1:16:01,  1.67it/s]\u001b[A\n",
      "  8%|▊         | 648/8250 [08:31<1:06:56,  1.89it/s]\u001b[A\n",
      "  8%|▊         | 660/8250 [08:39<1:10:10,  1.80it/s]\u001b[A\n",
      "  8%|▊         | 672/8250 [08:48<1:16:36,  1.65it/s]\u001b[A\n",
      "  8%|▊         | 684/8250 [08:59<1:28:15,  1.43it/s]\u001b[A\n",
      "  8%|▊         | 696/8250 [09:06<1:26:12,  1.46it/s]\u001b[A\n",
      "  9%|▊         | 708/8250 [09:13<1:21:49,  1.54it/s]\u001b[A\n",
      "  9%|▊         | 720/8250 [09:21<1:21:47,  1.53it/s]\u001b[A\n",
      "  9%|▉         | 732/8250 [09:32<1:30:42,  1.38it/s]\u001b[A\n",
      "  9%|▉         | 744/8250 [09:44<1:40:40,  1.24it/s]\u001b[A\n",
      "  9%|▉         | 756/8250 [09:54<1:42:25,  1.22it/s]\u001b[A\n",
      "  9%|▉         | 768/8250 [10:03<1:39:27,  1.25it/s]\u001b[A\n",
      "  9%|▉         | 780/8250 [10:06<1:20:08,  1.55it/s]\u001b[A\n",
      " 10%|▉         | 792/8250 [10:11<1:10:45,  1.76it/s]\u001b[A\n",
      " 10%|▉         | 804/8250 [10:18<1:11:21,  1.74it/s]\u001b[A\n",
      " 10%|▉         | 816/8250 [10:25<1:11:37,  1.73it/s]\u001b[A\n",
      " 10%|█         | 828/8250 [10:34<1:17:58,  1.59it/s]\u001b[A\n",
      " 10%|█         | 840/8250 [10:44<1:25:03,  1.45it/s]\u001b[A\n",
      " 10%|█         | 852/8250 [10:50<1:17:35,  1.59it/s]\u001b[A\n",
      " 10%|█         | 864/8250 [10:54<1:07:27,  1.83it/s]\u001b[A\n",
      " 11%|█         | 876/8250 [10:59<1:00:49,  2.02it/s]\u001b[A\n",
      " 11%|█         | 888/8250 [11:05<1:02:28,  1.96it/s]\u001b[A\n",
      " 11%|█         | 900/8250 [11:14<1:12:06,  1.70it/s]\u001b[A\n",
      " 11%|█         | 912/8250 [11:26<1:24:31,  1.45it/s]\u001b[A\n",
      " 11%|█         | 924/8250 [11:31<1:16:25,  1.60it/s]\u001b[A\n",
      " 11%|█▏        | 936/8250 [11:36<1:07:56,  1.79it/s]\u001b[A\n",
      " 11%|█▏        | 948/8250 [11:40<1:00:40,  2.01it/s]\u001b[A\n",
      " 12%|█▏        | 960/8250 [11:47<1:02:27,  1.95it/s]\u001b[A\n",
      " 12%|█▏        | 972/8250 [11:56<1:12:07,  1.68it/s]\u001b[A\n",
      " 12%|█▏        | 984/8250 [12:08<1:24:41,  1.43it/s]\u001b[A\n",
      " 12%|█▏        | 996/8250 [12:13<1:16:28,  1.58it/s]\u001b[A\n",
      " 12%|█▏        | 1008/8250 [12:18<1:07:29,  1.79it/s]\u001b[A\n",
      " 12%|█▏        | 1020/8250 [12:23<1:00:48,  1.98it/s]\u001b[A\n",
      " 13%|█▎        | 1032/8250 [12:29<1:01:58,  1.94it/s]\u001b[A\n",
      " 13%|█▎        | 1044/8250 [12:38<1:09:18,  1.73it/s]\u001b[A\n",
      " 13%|█▎        | 1056/8250 [12:47<1:15:59,  1.58it/s]\u001b[A\n",
      " 13%|█▎        | 1068/8250 [12:56<1:19:29,  1.51it/s]\u001b[A\n",
      " 13%|█▎        | 1080/8250 [13:00<1:07:27,  1.77it/s]\u001b[A\n",
      " 13%|█▎        | 1092/8250 [13:04<1:00:57,  1.96it/s]\u001b[A\n",
      " 13%|█▎        | 1104/8250 [13:11<1:01:27,  1.94it/s]\u001b[A\n",
      " 14%|█▎        | 1116/8250 [13:17<1:01:32,  1.93it/s]\u001b[A\n",
      " 14%|█▎        | 1128/8250 [13:26<1:09:07,  1.72it/s]\u001b[A\n",
      " 14%|█▍        | 1140/8250 [13:37<1:22:36,  1.43it/s]\u001b[A\n",
      " 14%|█▍        | 1152/8250 [13:42<1:12:45,  1.63it/s]\u001b[A\n",
      " 14%|█▍        | 1164/8250 [13:47<1:04:10,  1.84it/s]\u001b[A\n",
      " 14%|█▍        | 1176/8250 [13:52<59:20,  1.99it/s]  \u001b[A\n",
      " 14%|█▍        | 1188/8250 [13:59<1:01:24,  1.92it/s]\u001b[A\n",
      " 15%|█▍        | 1200/8250 [14:08<1:09:21,  1.69it/s]\u001b[A\n",
      " 15%|█▍        | 1212/8250 [14:19<1:22:14,  1.43it/s]\u001b[A\n",
      " 15%|█▍        | 1224/8250 [14:26<1:16:04,  1.54it/s]\u001b[A\n",
      " 15%|█▍        | 1236/8250 [14:29<1:04:35,  1.81it/s]\u001b[A\n",
      " 15%|█▌        | 1248/8250 [14:34<59:45,  1.95it/s]  \u001b[A\n",
      " 15%|█▌        | 1260/8250 [14:41<1:00:12,  1.94it/s]\u001b[A\n",
      " 15%|█▌        | 1272/8250 [14:50<1:09:14,  1.68it/s]\u001b[A\n",
      " 16%|█▌        | 1284/8250 [15:01<1:21:06,  1.43it/s]\u001b[A\n",
      " 16%|█▌        | 1296/8250 [15:08<1:16:48,  1.51it/s]\u001b[A\n",
      " 16%|█▌        | 1308/8250 [15:13<1:06:42,  1.73it/s]\u001b[A\n",
      " 16%|█▌        | 1320/8250 [15:18<1:01:57,  1.86it/s]\u001b[A\n",
      " 16%|█▌        | 1332/8250 [15:25<1:03:20,  1.82it/s]\u001b[A\n",
      " 16%|█▋        | 1344/8250 [15:35<1:11:51,  1.60it/s]\u001b[A\n",
      " 16%|█▋        | 1356/8250 [15:52<1:38:47,  1.16it/s]\u001b[A\n",
      " 17%|█▋        | 1368/8250 [16:24<2:41:48,  1.41s/it]\u001b[A\n",
      " 17%|█▋        | 1380/8250 [16:35<2:25:18,  1.27s/it]\u001b[A\n",
      " 17%|█▋        | 1392/8250 [16:50<2:24:12,  1.26s/it]\u001b[A\n",
      " 17%|█▋        | 1404/8250 [17:11<2:41:10,  1.41s/it]\u001b[A\n",
      " 17%|█▋        | 1416/8250 [17:35<2:59:08,  1.57s/it]\u001b[A\n",
      " 17%|█▋        | 1428/8250 [18:03<3:24:33,  1.80s/it]\u001b[A\n",
      " 17%|█▋        | 1440/8250 [18:20<3:11:36,  1.69s/it]\u001b[A\n",
      " 18%|█▊        | 1452/8250 [18:26<2:32:35,  1.35s/it]\u001b[A\n",
      " 18%|█▊        | 1464/8250 [18:32<2:03:23,  1.09s/it]\u001b[A\n",
      " 18%|█▊        | 1476/8250 [18:39<1:44:16,  1.08it/s]\u001b[A\n",
      " 18%|█▊        | 1488/8250 [18:49<1:40:40,  1.12it/s]\u001b[A\n",
      " 18%|█▊        | 1500/8250 [19:00<1:41:06,  1.11it/s]\u001b[A\n",
      " 18%|█▊        | 1512/8250 [19:13<1:48:04,  1.04it/s]\u001b[A\n",
      " 18%|█▊        | 1524/8250 [19:19<1:31:48,  1.22it/s]\u001b[A\n",
      " 19%|█▊        | 1536/8250 [19:24<1:18:58,  1.42it/s]\u001b[A\n",
      " 19%|█▉        | 1548/8250 [19:32<1:16:20,  1.46it/s]\u001b[A\n",
      " 19%|█▉        | 1560/8250 [19:45<1:30:09,  1.24it/s]\u001b[A\n",
      " 19%|█▉        | 1572/8250 [20:32<3:13:20,  1.74s/it]\u001b[A\n",
      " 19%|█▉        | 1584/8250 [21:23<4:39:07,  2.51s/it]\u001b[A\n",
      " 19%|█▉        | 1596/8250 [21:42<4:05:11,  2.21s/it]\u001b[A\n",
      " 19%|█▉        | 1608/8250 [21:46<3:03:54,  1.66s/it]\u001b[A"
     ]
    }
   ],
   "source": [
    "res = model_comparison.run_conditions(true_slopes=np.hstack([np.zeros(10), np.tile(np.linspace(.2, 20, 10), 10)]),\n",
    "                                      n_trials=np.linspace(15, 70, 5).astype(int),\n",
    "                                      trial_baseline_randomness=np.linspace(.2, 11, 15),\n",
    "                                      methods=('anova', 'mlm',),#TODO REMOVE\n",
    "                                      ys=('Log power',),  # LME fails with 'Power'\n",
    "                                      parallel=True)"
   ]
  },
  {
   "cell_type": "markdown",
   "metadata": {
    "slideshow": {
     "slide_type": "slide"
    }
   },
   "source": [
    "## Binary"
   ]
  },
  {
   "cell_type": "code",
   "execution_count": null,
   "metadata": {},
   "outputs": [],
   "source": [
    "reload(model_comparison)\n",
    "df = model_comparison.make_roc_auc(res, binary=True, groups=('method', 'y', 'n_trials'))"
   ]
  },
  {
   "cell_type": "code",
   "execution_count": null,
   "metadata": {
    "scrolled": false
   },
   "outputs": [],
   "source": [
    "bars, roc = model_comparison.plot_roc(df)\n",
    "bars.facet(column='n_trials', row='y').properties().display()\n",
    "roc.facet(column='n_trials', row='y').properties()"
   ]
  },
  {
   "cell_type": "code",
   "execution_count": null,
   "metadata": {
    "scrolled": false
   },
   "outputs": [],
   "source": [
    "df = model_comparison.make_roc_auc(res, binary=True, groups=('method', 'y'))\n",
    "bars, roc = model_comparison.plot_roc(df)\n",
    "bars.facet(column='y').properties().display()\n",
    "roc.facet(column='y').properties()"
   ]
  },
  {
   "cell_type": "markdown",
   "metadata": {},
   "source": [
    "## CM"
   ]
  },
  {
   "cell_type": "code",
   "execution_count": null,
   "metadata": {
    "scrolled": true
   },
   "outputs": [],
   "source": [
    "# def plot_roc(res, binary=True, groups=('method', 'y', 'randomness', 'n_trials')):\n",
    "# Make ROC and AUC\n",
    "reload(model_comparison)\n",
    "\n",
    "model_comparison.plot_confusion(\n",
    "    model_comparison.make_confusion_matrix(res, ('method', 'y', 'randomness', 'n_trials')\n",
    "                                           )).facet(column='method', row='y')"
   ]
  },
  {
   "cell_type": "markdown",
   "metadata": {},
   "source": [
    "## Model comparison"
   ]
  },
  {
   "cell_type": "code",
   "execution_count": null,
   "metadata": {},
   "outputs": [],
   "source": [
    "reload(model_comparison)\n",
    "df, df_monster, index_cols, _ = generate_fake_lfp(mouse_response_slope=13,\n",
    "                                                  n_trials=40)\n",
    "model_comparison.compare_models(df=df,\n",
    "                                models={\n",
    "                                    'no_teratment': models.model_hierarchical,\n",
    "                                    'no_group': models.model_hierarchical,\n",
    "                                    'full_normal': models.model_hierarchical,\n",
    "                                    'full_student': models.model_hierarchical,\n",
    "                                    'full_lognogmal': models.model_hierarchical,\n",
    "\n",
    "                                },\n",
    "                                extra_model_args=[\n",
    "                                    {'treatment': None},\n",
    "                                    {'group': None},\n",
    "                                    {'treatment': 'stim'},\n",
    "                                    {'treatment': 'stim', 'dist_y': 'student'},\n",
    "                                    {'treatment': 'stim', 'dist_y': 'lognormal'},\n",
    "                                ],\n",
    "                                y='isi',\n",
    "                                condition=None,\n",
    "                                parallel=False\n",
    "                                );"
   ]
  }
 ],
 "metadata": {
  "celltoolbar": "Slideshow",
  "jupytext": {
   "formats": "ipynb,py:light"
  },
  "kernelspec": {
   "display_name": "PyCharm (jup)",
   "language": "python",
   "name": "pycharm-d5912792"
  },
  "language_info": {
   "codemirror_mode": {
    "name": "ipython",
    "version": 3
   },
   "file_extension": ".py",
   "mimetype": "text/x-python",
   "name": "python",
   "nbconvert_exporter": "python",
   "pygments_lexer": "ipython3",
   "version": "3.8.5"
  }
 },
 "nbformat": 4,
 "nbformat_minor": 4
}
