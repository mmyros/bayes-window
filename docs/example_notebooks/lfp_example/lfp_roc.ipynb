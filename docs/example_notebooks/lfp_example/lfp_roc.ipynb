{
 "cells": [
  {
   "cell_type": "markdown",
   "metadata": {
    "slideshow": {
     "slide_type": "slide"
    }
   },
   "source": [
    "# Compare to ANOVA and LMM: ROC curve"
   ]
  },
  {
   "cell_type": "code",
   "execution_count": 1,
   "metadata": {
    "slideshow": {
     "slide_type": "skip"
    }
   },
   "outputs": [
    {
     "data": {
      "text/plain": [
       "<module 'bayes_window.model_comparison' from '/home/m/mmy/bayes-window/bayes_window/model_comparison.py'>"
      ]
     },
     "execution_count": 1,
     "metadata": {},
     "output_type": "execute_result"
    }
   ],
   "source": [
    "from bayes_window import model_comparison, models\n",
    "from bayes_window.generative_models import generate_fake_lfp\n",
    "\n",
    "import numpy as np\n",
    "from importlib import reload\n",
    "reload(model_comparison)"
   ]
  },
  {
   "cell_type": "code",
   "execution_count": null,
   "metadata": {
    "scrolled": false,
    "slideshow": {
     "slide_type": "skip"
    }
   },
   "outputs": [
    {
     "name": "stderr",
     "output_type": "stream",
     "text": [
      "\n",
      "  0%|          | 0/8250 [00:00<?, ?it/s]\u001b[A\n",
      "  0%|          | 12/8250 [00:00<01:21, 101.32it/s]\u001b[A"
     ]
    }
   ],
   "source": [
    "res = model_comparison.run_conditions(true_slopes=np.hstack([np.zeros(10), np.tile(np.linspace(.2, 20, 10), 10)]),\n",
    "                                      n_trials=np.linspace(15, 70, 5).astype(int),\n",
    "                                      trial_baseline_randomness=np.linspace(.2, 11, 15),\n",
    "                                      ys=('Log power',), # LME fails with 'Power'\n",
    "                                      parallel=True)"
   ]
  },
  {
   "cell_type": "markdown",
   "metadata": {
    "slideshow": {
     "slide_type": "slide"
    }
   },
   "source": [
    "## Binary"
   ]
  },
  {
   "cell_type": "code",
   "execution_count": null,
   "metadata": {},
   "outputs": [],
   "source": [
    "reload(model_comparison)\n",
    "df = model_comparison.make_roc_auc(res, binary=True, groups=('method', 'y', 'n_trials'))"
   ]
  },
  {
   "cell_type": "code",
   "execution_count": null,
   "metadata": {
    "scrolled": false
   },
   "outputs": [],
   "source": [
    "bars, roc = model_comparison.plot_roc(df)\n",
    "bars.facet(column='n_trials', row='y').properties().display()\n",
    "roc.facet(column='n_trials', row='y').properties()"
   ]
  },
  {
   "cell_type": "code",
   "execution_count": null,
   "metadata": {
    "scrolled": false
   },
   "outputs": [],
   "source": [
    "df = model_comparison.make_roc_auc(res, binary=True, groups=('method', 'y'))\n",
    "bars, roc = model_comparison.plot_roc(df)\n",
    "bars.facet(column='y').properties().display()\n",
    "roc.facet(column='y').properties()"
   ]
  },
  {
   "cell_type": "markdown",
   "metadata": {},
   "source": [
    "## CM"
   ]
  },
  {
   "cell_type": "code",
   "execution_count": null,
   "metadata": {
    "scrolled": true
   },
   "outputs": [],
   "source": [
    "# def plot_roc(res, binary=True, groups=('method', 'y', 'randomness', 'n_trials')):\n",
    "# Make ROC and AUC\n",
    "reload(model_comparison)\n",
    "\n",
    "model_comparison.plot_confusion(\n",
    "    model_comparison.make_confusion_matrix(res, ('method', 'y', 'randomness', 'n_trials')\n",
    "                                           )).facet(column='method', row='y')"
   ]
  },
  {
   "cell_type": "markdown",
   "metadata": {},
   "source": [
    "## Model comparison"
   ]
  },
  {
   "cell_type": "code",
   "execution_count": null,
   "metadata": {},
   "outputs": [],
   "source": [
    "reload(model_comparison)\n",
    "df, df_monster, index_cols, _ = generate_fake_lfp(mouse_response_slope=13,\n",
    "                                                  n_trials=40)\n",
    "model_comparison.compare_models(df=df,\n",
    "                                models={\n",
    "                                    'no_teratment': models.model_hierarchical,\n",
    "                                    'no_group': models.model_hierarchical,\n",
    "                                    'full_normal': models.model_hierarchical,\n",
    "                                    'full_student': models.model_hierarchical,\n",
    "                                    'full_lognogmal': models.model_hierarchical,\n",
    "\n",
    "                                },\n",
    "                                extra_model_args=[\n",
    "                                    {'treatment': None},\n",
    "                                    {'group': None},\n",
    "                                    {'treatment': 'stim'},\n",
    "                                    {'treatment': 'stim', 'dist_y': 'student'},\n",
    "                                    {'treatment': 'stim', 'dist_y': 'lognormal'},\n",
    "                                ],\n",
    "                                y='isi',\n",
    "                                condition=None,\n",
    "                                parallel=False\n",
    "                                );"
   ]
  }
 ],
 "metadata": {
  "celltoolbar": "Slideshow",
  "jupytext": {
   "formats": "ipynb,py:light"
  },
  "kernelspec": {
   "display_name": "PyCharm (jup)",
   "language": "python",
   "name": "pycharm-d5912792"
  },
  "language_info": {
   "codemirror_mode": {
    "name": "ipython",
    "version": 3
   },
   "file_extension": ".py",
   "mimetype": "text/x-python",
   "name": "python",
   "nbconvert_exporter": "python",
   "pygments_lexer": "ipython3",
   "version": "3.8.5"
  }
 },
 "nbformat": 4,
 "nbformat_minor": 4
}
