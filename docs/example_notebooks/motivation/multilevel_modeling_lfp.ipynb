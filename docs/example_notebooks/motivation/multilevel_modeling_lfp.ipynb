{
 "cells": [
  {
   "cell_type": "markdown",
   "metadata": {
    "slideshow": {
     "slide_type": "slide"
    }
   },
   "source": [
    "# Multilevel modeling of LFP\n",
    "This is a slight reworking of the radon example from pymc3 https://docs.pymc.io/notebooks/multilevel_modeling.html\n",
    "\n",
    "Why this notebook? It's a common departure point to consider multilevel models in neuroscience."
   ]
  },
  {
   "cell_type": "markdown",
   "metadata": {
    "slideshow": {
     "slide_type": "fragment"
    }
   },
   "source": [
    "Hierarchical or multilevel modeling is a generalization of regression modeling. *Multilevel models* are regression models in which the constituent model parameters are given **probability models**. This implies that model parameters are allowed to **vary by group**. Observational units are often naturally **clustered**. Clustering induces dependence between observations, despite random sampling of clusters and random sampling within clusters.\n",
    "\n",
    "A *hierarchical model* is a particular multilevel model where parameters are nested within one another. Some multilevel structures are not hierarchical -- e.g. \"country\" and \"year\" are not nested, but may represent separate, but overlapping, clusters of parameters. We will motivate this topic using a neuroscience example."
   ]
  },
  {
   "cell_type": "markdown",
   "metadata": {
    "slideshow": {
     "slide_type": "fragment"
    }
   },
   "source": [
    "Example: LFP power (modified Gelman and Hill 2006)\n",
    "\n",
    "LFP power is a measure of neuronal activity. It can varies greatly from mouse to mouse.\n",
    "\n",
    "The EPA did a study of radon levels in 80,000 households (more on this study and modeling here https://pymc3-testing.readthedocs.io/en/rtd-docs/notebooks/multilevel_modeling.html). We are going to call homes \"trials\", counties \"mice\", and radon levels \"power.\" The power is going to vary depending on \"no_stim\" (originally floor condition) or \"stim\" (originally basement condition) that in our case denote, say, optogenetic stimulation. There are two important predictors:\n",
    "\n",
    "* measurement in stim or first no_stim (power higher in stims)\n",
    "* mouse power level (positive correlation with power levels by mouse)\n",
    "\n",
    "The hierarchy in this example is neurons within mouse. \n",
    "\n"
   ]
  },
  {
   "cell_type": "markdown",
   "metadata": {
    "slideshow": {
     "slide_type": "skip"
    }
   },
   "source": [
    "## Data organization"
   ]
  },
  {
   "cell_type": "markdown",
   "metadata": {
    "pycharm": {
     "name": "#%% md\n"
    },
    "slideshow": {
     "slide_type": "skip"
    }
   },
   "source": [
    "First, we import the data from a local file, and extract data."
   ]
  },
  {
   "cell_type": "code",
   "execution_count": 1,
   "metadata": {
    "pycharm": {
     "is_executing": false
    },
    "scrolled": true,
    "slideshow": {
     "slide_type": "skip"
    },
    "tags": [
     "hide-input"
    ]
   },
   "outputs": [
    {
     "name": "stderr",
     "output_type": "stream",
     "text": [
      "WARNING (theano.configdefaults): install mkl with `conda install mkl-service`: No module named 'mkl'\n"
     ]
    }
   ],
   "source": [
    "# HIDE CODE\n",
    "\n",
    "import arviz as az\n",
    "import matplotlib.pyplot as plt\n",
    "import numpy as np\n",
    "import pandas as pd\n",
    "import pymc3 as pm\n",
    "import warnings\n",
    "from theano import tensor as tt\n",
    "\n",
    "warnings.simplefilter(action=\"ignore\", category=FutureWarning)\n",
    "RANDOM_SEED = 8924\n",
    "np.random.seed(286)"
   ]
  },
  {
   "cell_type": "code",
   "execution_count": 3,
   "metadata": {
    "pycharm": {
     "is_executing": false,
     "name": "#%%\n"
    },
    "slideshow": {
     "slide_type": "skip"
    },
    "tags": [
     "hide-input"
    ]
   },
   "outputs": [],
   "source": [
    "# HIDE CODE\n",
    "\n",
    "az.style.use(\"arviz-darkgrid\")\n",
    "# Import power data\n",
    "srrs2 = pd.read_csv(pm.get_data('srrs2.dat'))\n",
    "srrs2.columns = srrs2.columns.map(str.strip)\n",
    "# Select a subset of \"mice\" from Minnesota\n",
    "srrs_mn = srrs2[srrs2.state=='MN'].copy()"
   ]
  },
  {
   "cell_type": "markdown",
   "metadata": {
    "pycharm": {
     "name": "#%% md\n"
    },
    "slideshow": {
     "slide_type": "skip"
    }
   },
   "source": [
    "Next, obtain the mouse-level predictor, power, by combining two variables."
   ]
  },
  {
   "cell_type": "code",
   "execution_count": 4,
   "metadata": {
    "pycharm": {
     "is_executing": false
    },
    "slideshow": {
     "slide_type": "skip"
    },
    "tags": [
     "hide-input"
    ]
   },
   "outputs": [],
   "source": [
    "# HIDE CODE\n",
    "\n",
    "srrs_mn['fips'] = srrs_mn.stfips*1000 + srrs_mn.cntyfips\n",
    "cty = pd.read_csv(pm.get_data('cty.dat'))\n",
    "cty_mn = cty[cty.st=='MN'].copy()\n",
    "cty_mn[ 'fips'] = 1000*cty_mn.stfips + cty_mn.ctfips"
   ]
  },
  {
   "cell_type": "code",
   "execution_count": 5,
   "metadata": {
    "pycharm": {
     "name": "#%%\n"
    },
    "slideshow": {
     "slide_type": "skip"
    },
    "tags": [
     "hide-input"
    ]
   },
   "outputs": [
    {
     "name": "stdout",
     "output_type": "stream",
     "text": [
      "Index(['idnum', 'state', 'state2', 'stfips', 'zip', 'region', 'typebldg',\n",
      "       'floor', 'room', 'basement', 'windoor', 'rep', 'stratum', 'wave',\n",
      "       'starttm', 'stoptm', 'startdt', 'stopdt', 'activity', 'pcterr', 'adjwt',\n",
      "       'dupflag', 'zipflag', 'cntyfips', 'county', 'fips'],\n",
      "      dtype='object') (919, 26)\n",
      "Index(['stfips', 'ctfips', 'st', 'cty', 'lon', 'lat', 'Uppm', 'fips'], dtype='object') (89, 8)\n"
     ]
    }
   ],
   "source": [
    "# HIDE CODE\n",
    "\n",
    "print(srrs_mn.columns,srrs_mn.shape)\n",
    "print(cty_mn.columns,cty_mn.shape)"
   ]
  },
  {
   "cell_type": "markdown",
   "metadata": {
    "pycharm": {
     "name": "#%% md\n"
    },
    "slideshow": {
     "slide_type": "skip"
    }
   },
   "source": [
    "Use the `merge` method to combine neuron- and mouse-level information in a single DataFrame."
   ]
  },
  {
   "cell_type": "code",
   "execution_count": 6,
   "metadata": {
    "pycharm": {
     "is_executing": false
    },
    "slideshow": {
     "slide_type": "skip"
    },
    "tags": [
     "hide-input"
    ]
   },
   "outputs": [],
   "source": [
    "# HIDE CODE\n",
    "\n",
    "srrs_mn = srrs_mn.merge(cty_mn[['fips', 'Uppm']], on='fips')\n",
    "srrs_mn = srrs_mn.drop_duplicates(subset='idnum')\n",
    "u = np.log(srrs_mn.Uppm).unique()\n",
    "\n",
    "n = len(srrs_mn)"
   ]
  },
  {
   "cell_type": "code",
   "execution_count": 7,
   "metadata": {
    "pycharm": {
     "is_executing": false
    },
    "slideshow": {
     "slide_type": "skip"
    },
    "tags": [
     "hide-input"
    ]
   },
   "outputs": [
    {
     "data": {
      "text/html": [
       "<div>\n",
       "<style scoped>\n",
       "    .dataframe tbody tr th:only-of-type {\n",
       "        vertical-align: middle;\n",
       "    }\n",
       "\n",
       "    .dataframe tbody tr th {\n",
       "        vertical-align: top;\n",
       "    }\n",
       "\n",
       "    .dataframe thead th {\n",
       "        text-align: right;\n",
       "    }\n",
       "</style>\n",
       "<table border=\"1\" class=\"dataframe\">\n",
       "  <thead>\n",
       "    <tr style=\"text-align: right;\">\n",
       "      <th></th>\n",
       "      <th>idnum</th>\n",
       "      <th>state</th>\n",
       "      <th>state2</th>\n",
       "      <th>stfips</th>\n",
       "      <th>zip</th>\n",
       "      <th>region</th>\n",
       "      <th>typebldg</th>\n",
       "      <th>no_stim</th>\n",
       "      <th>room</th>\n",
       "      <th>stim</th>\n",
       "      <th>...</th>\n",
       "      <th>stopdt</th>\n",
       "      <th>power</th>\n",
       "      <th>pcterr</th>\n",
       "      <th>adjwt</th>\n",
       "      <th>dupflag</th>\n",
       "      <th>zipflag</th>\n",
       "      <th>cntyfips</th>\n",
       "      <th>mouse</th>\n",
       "      <th>fips</th>\n",
       "      <th>Uppm</th>\n",
       "    </tr>\n",
       "  </thead>\n",
       "  <tbody>\n",
       "    <tr>\n",
       "      <th>0</th>\n",
       "      <td>5081</td>\n",
       "      <td>MN</td>\n",
       "      <td>MN</td>\n",
       "      <td>27</td>\n",
       "      <td>55735</td>\n",
       "      <td>5</td>\n",
       "      <td>1</td>\n",
       "      <td>1</td>\n",
       "      <td>3</td>\n",
       "      <td>N</td>\n",
       "      <td>...</td>\n",
       "      <td>12288</td>\n",
       "      <td>2.2</td>\n",
       "      <td>9.7</td>\n",
       "      <td>1146.499190</td>\n",
       "      <td>1</td>\n",
       "      <td>0</td>\n",
       "      <td>1</td>\n",
       "      <td>AITKIN</td>\n",
       "      <td>27001</td>\n",
       "      <td>0.502054</td>\n",
       "    </tr>\n",
       "    <tr>\n",
       "      <th>1</th>\n",
       "      <td>5082</td>\n",
       "      <td>MN</td>\n",
       "      <td>MN</td>\n",
       "      <td>27</td>\n",
       "      <td>55748</td>\n",
       "      <td>5</td>\n",
       "      <td>1</td>\n",
       "      <td>0</td>\n",
       "      <td>4</td>\n",
       "      <td>Y</td>\n",
       "      <td>...</td>\n",
       "      <td>12088</td>\n",
       "      <td>2.2</td>\n",
       "      <td>14.5</td>\n",
       "      <td>471.366223</td>\n",
       "      <td>0</td>\n",
       "      <td>0</td>\n",
       "      <td>1</td>\n",
       "      <td>AITKIN</td>\n",
       "      <td>27001</td>\n",
       "      <td>0.502054</td>\n",
       "    </tr>\n",
       "    <tr>\n",
       "      <th>2</th>\n",
       "      <td>5083</td>\n",
       "      <td>MN</td>\n",
       "      <td>MN</td>\n",
       "      <td>27</td>\n",
       "      <td>55748</td>\n",
       "      <td>5</td>\n",
       "      <td>1</td>\n",
       "      <td>0</td>\n",
       "      <td>4</td>\n",
       "      <td>Y</td>\n",
       "      <td>...</td>\n",
       "      <td>21188</td>\n",
       "      <td>2.9</td>\n",
       "      <td>9.6</td>\n",
       "      <td>433.316718</td>\n",
       "      <td>0</td>\n",
       "      <td>0</td>\n",
       "      <td>1</td>\n",
       "      <td>AITKIN</td>\n",
       "      <td>27001</td>\n",
       "      <td>0.502054</td>\n",
       "    </tr>\n",
       "    <tr>\n",
       "      <th>3</th>\n",
       "      <td>5084</td>\n",
       "      <td>MN</td>\n",
       "      <td>MN</td>\n",
       "      <td>27</td>\n",
       "      <td>56469</td>\n",
       "      <td>5</td>\n",
       "      <td>1</td>\n",
       "      <td>0</td>\n",
       "      <td>4</td>\n",
       "      <td>Y</td>\n",
       "      <td>...</td>\n",
       "      <td>123187</td>\n",
       "      <td>1.0</td>\n",
       "      <td>24.3</td>\n",
       "      <td>461.623670</td>\n",
       "      <td>0</td>\n",
       "      <td>0</td>\n",
       "      <td>1</td>\n",
       "      <td>AITKIN</td>\n",
       "      <td>27001</td>\n",
       "      <td>0.502054</td>\n",
       "    </tr>\n",
       "    <tr>\n",
       "      <th>4</th>\n",
       "      <td>5085</td>\n",
       "      <td>MN</td>\n",
       "      <td>MN</td>\n",
       "      <td>27</td>\n",
       "      <td>55011</td>\n",
       "      <td>3</td>\n",
       "      <td>1</td>\n",
       "      <td>0</td>\n",
       "      <td>4</td>\n",
       "      <td>Y</td>\n",
       "      <td>...</td>\n",
       "      <td>13088</td>\n",
       "      <td>3.1</td>\n",
       "      <td>13.8</td>\n",
       "      <td>433.316718</td>\n",
       "      <td>0</td>\n",
       "      <td>0</td>\n",
       "      <td>3</td>\n",
       "      <td>ANOKA</td>\n",
       "      <td>27003</td>\n",
       "      <td>0.428565</td>\n",
       "    </tr>\n",
       "  </tbody>\n",
       "</table>\n",
       "<p>5 rows × 27 columns</p>\n",
       "</div>"
      ],
      "text/plain": [
       "   idnum state state2  stfips    zip  region  typebldg  no_stim  room stim  \\\n",
       "0   5081    MN     MN      27  55735       5         1        1     3    N   \n",
       "1   5082    MN     MN      27  55748       5         1        0     4    Y   \n",
       "2   5083    MN     MN      27  55748       5         1        0     4    Y   \n",
       "3   5084    MN     MN      27  56469       5         1        0     4    Y   \n",
       "4   5085    MN     MN      27  55011       3         1        0     4    Y   \n",
       "\n",
       "   ...  stopdt power  pcterr        adjwt  dupflag  zipflag  cntyfips  \\\n",
       "0  ...   12288   2.2     9.7  1146.499190        1        0         1   \n",
       "1  ...   12088   2.2    14.5   471.366223        0        0         1   \n",
       "2  ...   21188   2.9     9.6   433.316718        0        0         1   \n",
       "3  ...  123187   1.0    24.3   461.623670        0        0         1   \n",
       "4  ...   13088   3.1    13.8   433.316718        0        0         3   \n",
       "\n",
       "                  mouse   fips      Uppm  \n",
       "0  AITKIN                27001  0.502054  \n",
       "1  AITKIN                27001  0.502054  \n",
       "2  AITKIN                27001  0.502054  \n",
       "3  AITKIN                27001  0.502054  \n",
       "4  ANOKA                 27003  0.428565  \n",
       "\n",
       "[5 rows x 27 columns]"
      ]
     },
     "execution_count": 7,
     "metadata": {},
     "output_type": "execute_result"
    }
   ],
   "source": [
    "# HIDE CODE\n",
    "\n",
    "srrs_mn['Uppm'].unique().shape,srrs_mn['activity'].unique().shape\n",
    "#plt.scatter(srrs_mn['Uppm'],srrs_mn['activity'])\n",
    "\n",
    "# HIDE CODE\n",
    "\n",
    "# Rename environmental variables to represent \n",
    "# what we think of as a neuroscience example\n",
    "srrs_mn.rename({'floor':'no_stim','basement':'stim','county':'mouse',\n",
    "                'activity':'power'},axis=1,inplace=True)\n",
    "\n",
    "# HIDE CODE\n",
    "\n",
    "srrs_mn.head()"
   ]
  },
  {
   "cell_type": "code",
   "execution_count": 8,
   "metadata": {
    "pycharm": {
     "is_executing": false
    },
    "tags": [
     "hide-input"
    ]
   },
   "outputs": [],
   "source": [
    "# HIDE CODE\n",
    "\n",
    "# Rename environmental variables to represent \n",
    "# what we think of as a neuroscience example\n",
    "srrs_mn.rename({'floor':'no_stim','basement':'stim','county':'mouse',\n",
    "                'activity':'power'},axis=1,inplace=True)"
   ]
  },
  {
   "cell_type": "code",
   "execution_count": 9,
   "metadata": {
    "pycharm": {
     "name": "#%%\n"
    },
    "tags": [
     "hide-input"
    ]
   },
   "outputs": [
    {
     "data": {
      "text/html": [
       "<div>\n",
       "<style scoped>\n",
       "    .dataframe tbody tr th:only-of-type {\n",
       "        vertical-align: middle;\n",
       "    }\n",
       "\n",
       "    .dataframe tbody tr th {\n",
       "        vertical-align: top;\n",
       "    }\n",
       "\n",
       "    .dataframe thead th {\n",
       "        text-align: right;\n",
       "    }\n",
       "</style>\n",
       "<table border=\"1\" class=\"dataframe\">\n",
       "  <thead>\n",
       "    <tr style=\"text-align: right;\">\n",
       "      <th></th>\n",
       "      <th>idnum</th>\n",
       "      <th>state</th>\n",
       "      <th>state2</th>\n",
       "      <th>stfips</th>\n",
       "      <th>zip</th>\n",
       "      <th>region</th>\n",
       "      <th>typebldg</th>\n",
       "      <th>no_stim</th>\n",
       "      <th>room</th>\n",
       "      <th>stim</th>\n",
       "      <th>...</th>\n",
       "      <th>stopdt</th>\n",
       "      <th>power</th>\n",
       "      <th>pcterr</th>\n",
       "      <th>adjwt</th>\n",
       "      <th>dupflag</th>\n",
       "      <th>zipflag</th>\n",
       "      <th>cntyfips</th>\n",
       "      <th>mouse</th>\n",
       "      <th>fips</th>\n",
       "      <th>Uppm</th>\n",
       "    </tr>\n",
       "  </thead>\n",
       "  <tbody>\n",
       "    <tr>\n",
       "      <th>0</th>\n",
       "      <td>5081</td>\n",
       "      <td>MN</td>\n",
       "      <td>MN</td>\n",
       "      <td>27</td>\n",
       "      <td>55735</td>\n",
       "      <td>5</td>\n",
       "      <td>1</td>\n",
       "      <td>1</td>\n",
       "      <td>3</td>\n",
       "      <td>N</td>\n",
       "      <td>...</td>\n",
       "      <td>12288</td>\n",
       "      <td>2.2</td>\n",
       "      <td>9.7</td>\n",
       "      <td>1146.499190</td>\n",
       "      <td>1</td>\n",
       "      <td>0</td>\n",
       "      <td>1</td>\n",
       "      <td>AITKIN</td>\n",
       "      <td>27001</td>\n",
       "      <td>0.502054</td>\n",
       "    </tr>\n",
       "    <tr>\n",
       "      <th>1</th>\n",
       "      <td>5082</td>\n",
       "      <td>MN</td>\n",
       "      <td>MN</td>\n",
       "      <td>27</td>\n",
       "      <td>55748</td>\n",
       "      <td>5</td>\n",
       "      <td>1</td>\n",
       "      <td>0</td>\n",
       "      <td>4</td>\n",
       "      <td>Y</td>\n",
       "      <td>...</td>\n",
       "      <td>12088</td>\n",
       "      <td>2.2</td>\n",
       "      <td>14.5</td>\n",
       "      <td>471.366223</td>\n",
       "      <td>0</td>\n",
       "      <td>0</td>\n",
       "      <td>1</td>\n",
       "      <td>AITKIN</td>\n",
       "      <td>27001</td>\n",
       "      <td>0.502054</td>\n",
       "    </tr>\n",
       "    <tr>\n",
       "      <th>2</th>\n",
       "      <td>5083</td>\n",
       "      <td>MN</td>\n",
       "      <td>MN</td>\n",
       "      <td>27</td>\n",
       "      <td>55748</td>\n",
       "      <td>5</td>\n",
       "      <td>1</td>\n",
       "      <td>0</td>\n",
       "      <td>4</td>\n",
       "      <td>Y</td>\n",
       "      <td>...</td>\n",
       "      <td>21188</td>\n",
       "      <td>2.9</td>\n",
       "      <td>9.6</td>\n",
       "      <td>433.316718</td>\n",
       "      <td>0</td>\n",
       "      <td>0</td>\n",
       "      <td>1</td>\n",
       "      <td>AITKIN</td>\n",
       "      <td>27001</td>\n",
       "      <td>0.502054</td>\n",
       "    </tr>\n",
       "    <tr>\n",
       "      <th>3</th>\n",
       "      <td>5084</td>\n",
       "      <td>MN</td>\n",
       "      <td>MN</td>\n",
       "      <td>27</td>\n",
       "      <td>56469</td>\n",
       "      <td>5</td>\n",
       "      <td>1</td>\n",
       "      <td>0</td>\n",
       "      <td>4</td>\n",
       "      <td>Y</td>\n",
       "      <td>...</td>\n",
       "      <td>123187</td>\n",
       "      <td>1.0</td>\n",
       "      <td>24.3</td>\n",
       "      <td>461.623670</td>\n",
       "      <td>0</td>\n",
       "      <td>0</td>\n",
       "      <td>1</td>\n",
       "      <td>AITKIN</td>\n",
       "      <td>27001</td>\n",
       "      <td>0.502054</td>\n",
       "    </tr>\n",
       "    <tr>\n",
       "      <th>4</th>\n",
       "      <td>5085</td>\n",
       "      <td>MN</td>\n",
       "      <td>MN</td>\n",
       "      <td>27</td>\n",
       "      <td>55011</td>\n",
       "      <td>3</td>\n",
       "      <td>1</td>\n",
       "      <td>0</td>\n",
       "      <td>4</td>\n",
       "      <td>Y</td>\n",
       "      <td>...</td>\n",
       "      <td>13088</td>\n",
       "      <td>3.1</td>\n",
       "      <td>13.8</td>\n",
       "      <td>433.316718</td>\n",
       "      <td>0</td>\n",
       "      <td>0</td>\n",
       "      <td>3</td>\n",
       "      <td>ANOKA</td>\n",
       "      <td>27003</td>\n",
       "      <td>0.428565</td>\n",
       "    </tr>\n",
       "  </tbody>\n",
       "</table>\n",
       "<p>5 rows × 27 columns</p>\n",
       "</div>"
      ],
      "text/plain": [
       "   idnum state state2  stfips    zip  region  typebldg  no_stim  room stim  \\\n",
       "0   5081    MN     MN      27  55735       5         1        1     3    N   \n",
       "1   5082    MN     MN      27  55748       5         1        0     4    Y   \n",
       "2   5083    MN     MN      27  55748       5         1        0     4    Y   \n",
       "3   5084    MN     MN      27  56469       5         1        0     4    Y   \n",
       "4   5085    MN     MN      27  55011       3         1        0     4    Y   \n",
       "\n",
       "   ...  stopdt power  pcterr        adjwt  dupflag  zipflag  cntyfips  \\\n",
       "0  ...   12288   2.2     9.7  1146.499190        1        0         1   \n",
       "1  ...   12088   2.2    14.5   471.366223        0        0         1   \n",
       "2  ...   21188   2.9     9.6   433.316718        0        0         1   \n",
       "3  ...  123187   1.0    24.3   461.623670        0        0         1   \n",
       "4  ...   13088   3.1    13.8   433.316718        0        0         3   \n",
       "\n",
       "                  mouse   fips      Uppm  \n",
       "0  AITKIN                27001  0.502054  \n",
       "1  AITKIN                27001  0.502054  \n",
       "2  AITKIN                27001  0.502054  \n",
       "3  AITKIN                27001  0.502054  \n",
       "4  ANOKA                 27003  0.428565  \n",
       "\n",
       "[5 rows x 27 columns]"
      ]
     },
     "execution_count": 9,
     "metadata": {},
     "output_type": "execute_result"
    }
   ],
   "source": [
    "# HIDE CODE\n",
    "\n",
    "srrs_mn.head()"
   ]
  },
  {
   "cell_type": "markdown",
   "metadata": {
    "pycharm": {
     "name": "#%% md\n"
    },
    "slideshow": {
     "slide_type": "skip"
    }
   },
   "source": [
    "We also need a lookup table (`dict`) for each unique mouse, for indexing."
   ]
  },
  {
   "cell_type": "code",
   "execution_count": 10,
   "metadata": {
    "pycharm": {
     "is_executing": false,
     "name": "#%%\n"
    },
    "slideshow": {
     "slide_type": "skip"
    },
    "tags": [
     "hide-input"
    ]
   },
   "outputs": [],
   "source": [
    "# HIDE CODE\n",
    "\n",
    "srrs_mn.mouse = srrs_mn.mouse.map(str.strip)\n",
    "mn_mice = srrs_mn.mouse.unique()\n",
    "n_mice = len(mn_mice)\n",
    "mouse_lookup = dict(zip(mn_mice, range(n_mice)))"
   ]
  },
  {
   "cell_type": "markdown",
   "metadata": {
    "pycharm": {
     "name": "#%% md\n"
    },
    "slideshow": {
     "slide_type": "skip"
    }
   },
   "source": [
    "Finally, create local copies of variables."
   ]
  },
  {
   "cell_type": "code",
   "execution_count": 11,
   "metadata": {
    "pycharm": {
     "is_executing": false,
     "name": "#%%\n"
    },
    "slideshow": {
     "slide_type": "skip"
    },
    "tags": [
     "hide-input"
    ]
   },
   "outputs": [],
   "source": [
    "# HIDE CODE\n",
    "\n",
    "mouse = srrs_mn['mouse_code'] = srrs_mn.mouse.replace(mouse_lookup).values\n",
    "power = srrs_mn.power\n",
    "srrs_mn['log_power'] = log_power = np.log(power + 0.1).values\n",
    "no_stim = srrs_mn.no_stim.values"
   ]
  },
  {
   "cell_type": "markdown",
   "metadata": {
    "pycharm": {
     "name": "#%% md\n"
    },
    "slideshow": {
     "slide_type": "slide"
    }
   },
   "source": [
    "Distribution of power levels (log scale):"
   ]
  },
  {
   "cell_type": "code",
   "execution_count": 12,
   "metadata": {
    "pycharm": {
     "name": "#%%\n"
    },
    "slideshow": {
     "slide_type": "fragment"
    },
    "tags": [
     "hide-input"
    ]
   },
   "outputs": [
    {
     "data": {
      "image/png": "[encoded data removed]",
      "text/plain": [
       "<Figure size 720x480 with 1 Axes>"
      ]
     },
     "metadata": {},
     "output_type": "display_data"
    }
   ],
   "source": [
    "# HIDE CODE\n",
    "\n",
    "srrs_mn.log_power.hist(bins=25);"
   ]
  },
  {
   "cell_type": "markdown",
   "metadata": {
    "slideshow": {
     "slide_type": "slide"
    }
   },
   "source": [
    "## Conventional approaches\n",
    "\n",
    "The two conventional alternatives to modeling power exposure represent the two extremes of the bias-variance tradeoff:\n",
    "\n",
    "***Complete pooling***: \n",
    "\n",
    "Treat all mice the same, and estimate a single power level.\n",
    "\n",
    "$$y_i = \\alpha + \\beta x_i + \\epsilon_i$$\n",
    "\n",
    "***No pooling***:\n",
    "\n",
    "Model power in each mouse independently.\n",
    "\n",
    "$$y_i = \\alpha_{j[i]} + \\beta x_i + \\epsilon_i$$\n",
    "\n",
    "where $j = 1,\\ldots,85$\n",
    "\n",
    "The errors $\\epsilon_i$ may represent measurement error, temporal within-neuron variation, or variation among neurons."
   ]
  },
  {
   "cell_type": "markdown",
   "metadata": {
    "slideshow": {
     "slide_type": "slide"
    }
   },
   "source": [
    "## Complete pooling"
   ]
  },
  {
   "cell_type": "markdown",
   "metadata": {
    "pycharm": {
     "name": "#%% md\n"
    },
    "slideshow": {
     "slide_type": "fragment"
    }
   },
   "source": [
    "We'll start by estimating the slope and intercept for the complete pooling model. You'll notice that we used an *index* variable instead of an *indicator* variable in the linear model below. There are two main reasons. One, this generalizes well to more-than-two-category cases. Two, this approach correctly considers that neither category has more prior uncertainty than the other. On the contrary, the indicator variable approach necessarily assumes that one of the categories has more uncertainty than the other: here, the cases when `no_stim=1` would take into account 2 priors ($\\alpha + \\beta$), whereas cases when `no_stim=0` would have only one prior ($\\alpha$). But *a priori* we aren't more unsure about no_stim measurements than about stim measurements, so it makes sense to give them the same prior uncertainty.\n",
    "\n",
    "Now for the model:"
   ]
  },
  {
   "cell_type": "code",
   "execution_count": 13,
   "metadata": {
    "pycharm": {
     "is_executing": false,
     "name": "#%%\n"
    },
    "scrolled": true,
    "slideshow": {
     "slide_type": "fragment"
    },
    "tags": [
     "hide-input"
    ]
   },
   "outputs": [
    {
     "data": {
      "image/svg+xml": [
       "<?xml version=\"1.0\" encoding=\"UTF-8\" standalone=\"no\"?>\n",
       "<!DOCTYPE svg PUBLIC \"-//W3C//DTD SVG 1.1//EN\"\n",
       " \"http://www.w3.org/Graphics/SVG/1.1/DTD/svg11.dtd\">\n",
       "<!-- Generated by graphviz version 2.43.0 (0)\n",
       " -->\n",
       "<!-- Title: %3 Pages: 1 -->\n",
       "<svg width=\"285pt\" height=\"260pt\"\n",
       " viewBox=\"0.00 0.00 285.12 259.91\" xmlns=\"http://www.w3.org/2000/svg\" xmlns:xlink=\"http://www.w3.org/1999/xlink\">\n",
       "<g id=\"graph0\" class=\"graph\" transform=\"scale(1 1) rotate(0) translate(4 255.91)\">\n",
       "<title>%3</title>\n",
       "<polygon fill=\"white\" stroke=\"transparent\" points=\"-4,4 -4,-255.91 281.12,-255.91 281.12,4 -4,4\"/>\n",
       "<g id=\"clust1\" class=\"cluster\">\n",
       "<title>cluster2</title>\n",
       "<path fill=\"none\" stroke=\"black\" d=\"M20,-129.95C20,-129.95 110,-129.95 110,-129.95 116,-129.95 122,-135.95 122,-141.95 122,-141.95 122,-231.91 122,-231.91 122,-237.91 116,-243.91 110,-243.91 110,-243.91 20,-243.91 20,-243.91 14,-243.91 8,-237.91 8,-231.91 8,-231.91 8,-141.95 8,-141.95 8,-135.95 14,-129.95 20,-129.95\"/>\n",
       "<text text-anchor=\"middle\" x=\"109\" y=\"-137.75\" font-family=\"Times,serif\" font-size=\"14.00\">2</text>\n",
       "</g>\n",
       "<g id=\"clust2\" class=\"cluster\">\n",
       "<title>cluster919</title>\n",
       "<path fill=\"none\" stroke=\"black\" d=\"M20,-8C20,-8 110,-8 110,-8 116,-8 122,-14 122,-20 122,-20 122,-109.95 122,-109.95 122,-115.95 116,-121.95 110,-121.95 110,-121.95 20,-121.95 20,-121.95 14,-121.95 8,-115.95 8,-109.95 8,-109.95 8,-20 8,-20 8,-14 14,-8 20,-8\"/>\n",
       "<text text-anchor=\"middle\" x=\"100\" y=\"-15.8\" font-family=\"Times,serif\" font-size=\"14.00\">919</text>\n",
       "</g>\n",
       "<!-- a -->\n",
       "<g id=\"node1\" class=\"node\">\n",
       "<title>a</title>\n",
       "<ellipse fill=\"none\" stroke=\"black\" cx=\"65\" cy=\"-198.43\" rx=\"49.49\" ry=\"37.45\"/>\n",
       "<text text-anchor=\"middle\" x=\"65\" y=\"-209.73\" font-family=\"Times,serif\" font-size=\"14.00\">a</text>\n",
       "<text text-anchor=\"middle\" x=\"65\" y=\"-194.73\" font-family=\"Times,serif\" font-size=\"14.00\">~</text>\n",
       "<text text-anchor=\"middle\" x=\"65\" y=\"-179.73\" font-family=\"Times,serif\" font-size=\"14.00\">Normal</text>\n",
       "</g>\n",
       "<!-- y -->\n",
       "<g id=\"node3\" class=\"node\">\n",
       "<title>y</title>\n",
       "<ellipse fill=\"lightgrey\" stroke=\"black\" cx=\"65\" cy=\"-76.48\" rx=\"49.49\" ry=\"37.45\"/>\n",
       "<text text-anchor=\"middle\" x=\"65\" y=\"-87.78\" font-family=\"Times,serif\" font-size=\"14.00\">y</text>\n",
       "<text text-anchor=\"middle\" x=\"65\" y=\"-72.78\" font-family=\"Times,serif\" font-size=\"14.00\">~</text>\n",
       "<text text-anchor=\"middle\" x=\"65\" y=\"-57.78\" font-family=\"Times,serif\" font-size=\"14.00\">Normal</text>\n",
       "</g>\n",
       "<!-- a&#45;&gt;y -->\n",
       "<g id=\"edge2\" class=\"edge\">\n",
       "<title>a&#45;&gt;y</title>\n",
       "<path fill=\"none\" stroke=\"black\" d=\"M65,-160.79C65,-149.38 65,-136.65 65,-124.63\"/>\n",
       "<polygon fill=\"black\" stroke=\"black\" points=\"68.5,-124.31 65,-114.31 61.5,-124.31 68.5,-124.31\"/>\n",
       "</g>\n",
       "<!-- sigma -->\n",
       "<g id=\"node2\" class=\"node\">\n",
       "<title>sigma</title>\n",
       "<ellipse fill=\"none\" stroke=\"black\" cx=\"205\" cy=\"-198.43\" rx=\"72.25\" ry=\"37.45\"/>\n",
       "<text text-anchor=\"middle\" x=\"205\" y=\"-209.73\" font-family=\"Times,serif\" font-size=\"14.00\">sigma</text>\n",
       "<text text-anchor=\"middle\" x=\"205\" y=\"-194.73\" font-family=\"Times,serif\" font-size=\"14.00\">~</text>\n",
       "<text text-anchor=\"middle\" x=\"205\" y=\"-179.73\" font-family=\"Times,serif\" font-size=\"14.00\">Exponential</text>\n",
       "</g>\n",
       "<!-- sigma&#45;&gt;y -->\n",
       "<g id=\"edge1\" class=\"edge\">\n",
       "<title>sigma&#45;&gt;y</title>\n",
       "<path fill=\"none\" stroke=\"black\" d=\"M168.22,-165.91C148.76,-149.25 124.85,-128.76 104.95,-111.7\"/>\n",
       "<polygon fill=\"black\" stroke=\"black\" points=\"107.12,-108.96 97.25,-105.11 102.57,-114.27 107.12,-108.96\"/>\n",
       "</g>\n",
       "</g>\n",
       "</svg>\n"
      ],
      "text/plain": [
       "<graphviz.dot.Digraph at 0x7fc47abc4198>"
      ]
     },
     "execution_count": 13,
     "metadata": {},
     "output_type": "execute_result"
    }
   ],
   "source": [
    "# HIDE CODE\n",
    "\n",
    "with pm.Model() as pooled_model:\n",
    "    a = pm.Normal('a', 0., sigma=10., shape=2)\n",
    "    \n",
    "    theta = a[no_stim]\n",
    "    sigma = pm.Exponential('sigma', 1.)\n",
    "    \n",
    "    y = pm.Normal('y', theta, sigma=sigma, observed=log_power)\n",
    "    \n",
    "pm.model_to_graphviz(pooled_model)"
   ]
  },
  {
   "cell_type": "markdown",
   "metadata": {
    "pycharm": {
     "name": "#%% md\n"
    },
    "slideshow": {
     "slide_type": "skip"
    }
   },
   "source": [
    "Before running the model let's do some prior predictive checks. Indeed, having sensible priors is not only a way to incorporate scientific knowledge into the model, it can also help and make the MCMC machinery faster -- here we are dealing with a simple linear regression, so no link function comes and distorts the outcome space; but one day this will happen to you and you'll need to think hard about your priors to help your MCMC sampler. So, better to train ourselves when it's quite easy than having to learn when it's very hard... There is a really neat function to do that in PyMC3:"
   ]
  },
  {
   "cell_type": "code",
   "execution_count": 14,
   "metadata": {
    "pycharm": {
     "is_executing": false,
     "name": "#%%\n"
    },
    "slideshow": {
     "slide_type": "skip"
    },
    "tags": [
     "hide-input"
    ]
   },
   "outputs": [
    {
     "data": {
      "image/png": "[encoded data removed]",
      "text/plain": [
       "<Figure size 720x480 with 1 Axes>"
      ]
     },
     "metadata": {},
     "output_type": "display_data"
    }
   ],
   "source": [
    "# HIDE CODE\n",
    "\n",
    "with pooled_model:\n",
    "    prior_checks = pm.sample_prior_predictive(random_seed=RANDOM_SEED)\n",
    "\n",
    "plt.plot(\n",
    "    [0, 1], \n",
    "    [prior_checks[\"a\"][:, 0], prior_checks[\"a\"][:, 1]],\n",
    "    \"ok\",\n",
    "    alpha=0.2)\n",
    "plt.xlabel(\"no_stim measurement (binary)\")\n",
    "plt.xticks([0,1], [\"stim\", \"no_stim\"])\n",
    "plt.ylabel(\"Mean log power level\");"
   ]
  },
  {
   "cell_type": "markdown",
   "metadata": {
    "pycharm": {
     "name": "#%% md\n"
    },
    "slideshow": {
     "slide_type": "skip"
    }
   },
   "source": [
    "I'm no expert in power levels, but, before seing the data, these priors seem to allow for quite a wide range of the mean log power level. But don't worry, we can always change these priors if sampling gives us hints that they might not be appropriate -- after all, priors are assumptions, not oaths; and as most assumptions, they can be tested.\n",
    "\n",
    "However, we can already think of an improvement. Do you see it? Remember what we said at the beginning: power levels tend to be higher in stims, so we could incorporate this prior scientific knowledge into our model by giving $a_{stim}$ a higher mean than $a_{no_stim}$. Here, there are so much data that the prior should be washed out anyway, but we should keep this fact in mind -- for future cases or if sampling proves more difficult than expected...\n",
    "\n",
    "Speaking of sampling, let's fire up the Bayesian machinery!"
   ]
  },
  {
   "cell_type": "code",
   "execution_count": 15,
   "metadata": {
    "lines_to_next_cell": 2,
    "slideshow": {
     "slide_type": "skip"
    },
    "tags": [
     "hide-input"
    ]
   },
   "outputs": [
    {
     "data": {
      "text/html": [
       "\n",
       "    <div>\n",
       "        <style>\n",
       "            /* Turns off some styling */\n",
       "            progress {\n",
       "                /* gets rid of default border in Firefox and Opera. */\n",
       "                border: none;\n",
       "                /* Needs to be in here for Safari polyfill so background images work as expected. */\n",
       "                background-size: auto;\n",
       "            }\n",
       "            .progress-bar-interrupted, .progress-bar-interrupted::-webkit-progress-bar {\n",
       "                background: #F44336;\n",
       "            }\n",
       "        </style>\n",
       "      <progress value='10000' class='' max='10000' style='width:300px; height:20px; vertical-align: middle;'></progress>\n",
       "      100.00% [10000/10000 00:00<00:00 Average Loss = 1,150]\n",
       "    </div>\n",
       "    "
      ],
      "text/plain": [
       "<IPython.core.display.HTML object>"
      ]
     },
     "metadata": {},
     "output_type": "display_data"
    },
    {
     "name": "stderr",
     "output_type": "stream",
     "text": [
      "Finished [100%]: Average Loss = 1,149.9\n"
     ]
    }
   ],
   "source": [
    "# HIDE CODE\n",
    "\n",
    "with pooled_model:\n",
    "    pooled_trace = pm.fit()"
   ]
  },
  {
   "cell_type": "code",
   "execution_count": null,
   "metadata": {
    "slideshow": {
     "slide_type": "skip"
    },
    "tags": [
     "hide-input"
    ]
   },
   "outputs": [],
   "source": [
    " \n",
    "# HIDE CODE\n",
    "\n",
    "with pooled_model:\n",
    "    start = pm.find_MAP()\n",
    "    pooled_trace = pm.sample(1000, pm.NUTS(scaling=start), start=start, random_seed=RANDOM_SEED)\n",
    "az.summary(pooled_trace, round_to=2)"
   ]
  },
  {
   "cell_type": "code",
   "execution_count": null,
   "metadata": {
    "pycharm": {
     "name": "#%%\n"
    },
    "slideshow": {
     "slide_type": "fragment"
    },
    "tags": [
     "hide-input"
    ]
   },
   "outputs": [],
   "source": [
    "# HIDE CODE\n",
    "\n",
    "with pooled_model:\n",
    "    pooled_trace = pm.sample(1000, tune=2000, random_seed=RANDOM_SEED)\n",
    "az.summary(pooled_trace, round_to=2)"
   ]
  },
  {
   "cell_type": "markdown",
   "metadata": {
    "pycharm": {
     "name": "#%% md\n"
    },
    "slideshow": {
     "slide_type": "skip"
    }
   },
   "source": [
    "No divergences and a sampling that only took seconds -- this is the Flash of samplers! Here the chains look very good (good R hat, good effective sample size, small sd), but remember to check your chains after sampling -- `az.traceplot` is usually a good start.\n",
    "\n",
    "Let's see what it means on the outcome space: did the model pick-up the negative relationship between no_stim measurements and log power levels? What's the uncertainty around its estimates? To estimate the uncertainty around the neuron power levels (not the average level, but measurements that would be likely in neurons), we need to sample the likelihood `y` from the model. In another words, we need to do posterior predictive checks:"
   ]
  },
  {
   "cell_type": "code",
   "execution_count": null,
   "metadata": {
    "pycharm": {
     "name": "#%%\n"
    },
    "slideshow": {
     "slide_type": "skip"
    },
    "tags": [
     "hide-input"
    ]
   },
   "outputs": [],
   "source": [
    "# HIDE CODE\n",
    "\n",
    "with pooled_model:\n",
    "    ppc = pm.sample_posterior_predictive(pooled_trace, random_seed=RANDOM_SEED)[\"y\"]\n",
    "\n",
    "a_stim, a_no_stim = pooled_trace[\"a\"].mean(axis=0)\n",
    "power_stim, power_no_stim = ppc[:, 1], ppc[:, 0] # we know that no_stim=0/1 at these columns"
   ]
  },
  {
   "cell_type": "markdown",
   "metadata": {
    "pycharm": {
     "name": "#%% md\n"
    }
   },
   "source": [
    "We can then use these samples in our plot:"
   ]
  },
  {
   "cell_type": "code",
   "execution_count": null,
   "metadata": {},
   "outputs": [],
   "source": [
    "az.plot_hpd?"
   ]
  },
  {
   "cell_type": "code",
   "execution_count": null,
   "metadata": {
    "pycharm": {
     "name": "#%%\n"
    },
    "tags": [
     "hide-input"
    ]
   },
   "outputs": [],
   "source": [
    "# HIDE CODE\n",
    "\n",
    "plt.scatter(no_stim, log_power, label=\"Observations\", alpha=0.4)\n",
    "\n",
    "az.plot_hpd(\n",
    "    [0, 1], \n",
    "    np.asarray([power_stim, power_no_stim]).T, \n",
    "    fill_kwargs={\"alpha\": 0.2, \"label\": \"Exp. distrib. of power levels\"}\n",
    ")\n",
    "az.plot_hpd(\n",
    "    [0, 1], \n",
    "    pooled_trace[\"a\"], \n",
    "    fill_kwargs={\"alpha\": 0.5, \"label\": \"Exp. mean HPD\"}\n",
    ")\n",
    "plt.plot([0, 1], [a_stim, a_no_stim], label=\"Exp. mean\")\n",
    "\n",
    "plt.xticks([0,1], [\"stim\", \"no_stim\"])\n",
    "plt.xlabel(\"no_stim measurement (binary)\")\n",
    "plt.ylabel(\"Log power level\")\n",
    "plt.legend(ncol=2, fontsize=9, frameon=True);"
   ]
  },
  {
   "cell_type": "markdown",
   "metadata": {
    "pycharm": {
     "name": "#%% md\n"
    }
   },
   "source": [
    "The 94% interval of the expected value is very narrow, and even narrower for stim measurements, meaning that the model is slightly more confident about these observations. The sampling distribution of individual power levels is much wider. We can infer that no_stim level does account for some of the variation in power levels. We can see however that the model underestimates the dispersion in power levels across neurons -- lots of them lie outside the light orange prediction envelope. So this model is a good start but we can't stop there.\n",
    "\n",
    "Let's compare it to the unpooled model, where we estimate the power level for each mouse:"
   ]
  },
  {
   "cell_type": "code",
   "execution_count": null,
   "metadata": {
    "pycharm": {
     "is_executing": false
    },
    "scrolled": true,
    "tags": [
     "hide-input"
    ]
   },
   "outputs": [],
   "source": [
    "# HIDE CODE\n",
    "\n",
    "n_mice,no_stim.shape,log_power.shape"
   ]
  },
  {
   "cell_type": "code",
   "execution_count": null,
   "metadata": {
    "pycharm": {
     "name": "#%%\n"
    },
    "tags": [
     "hide-input"
    ]
   },
   "outputs": [],
   "source": [
    "# HIDE CODE\n",
    "\n",
    "# updated version:\n",
    "with pm.Model() as unpooled_model:\n",
    "    a = pm.Normal('a', 0., sigma=10., shape=(n_mice, 2))\n",
    "    \n",
    "    theta = a[mouse, no_stim]\n",
    "    sigma = pm.Exponential('sigma', 1.)\n",
    "    \n",
    "    y = pm.Normal('y', theta, sigma=sigma, observed=log_power)\n",
    "\n",
    "pm.model_to_graphviz(unpooled_model)"
   ]
  },
  {
   "cell_type": "code",
   "execution_count": null,
   "metadata": {
    "lines_to_next_cell": 2,
    "pycharm": {
     "name": "#%%\n"
    },
    "tags": [
     "hide-input"
    ]
   },
   "outputs": [],
   "source": [
    "# HIDE CODE\n",
    "\n",
    "with unpooled_model:\n",
    "    unpooled_trace = pm.sample(1000, tune=2000, random_seed=RANDOM_SEED)"
   ]
  },
  {
   "cell_type": "markdown",
   "metadata": {
    "pycharm": {
     "name": "#%% md\n"
    }
   },
   "source": [
    "Sampling went fine again. Let's look at the expected values for both stim (dimension 0) and no_stim (dimension 1) in each mouse:"
   ]
  },
  {
   "cell_type": "code",
   "execution_count": null,
   "metadata": {
    "pycharm": {
     "name": "#%%\n"
    },
    "scrolled": true,
    "tags": [
     "hide-input"
    ]
   },
   "outputs": [],
   "source": [
    "# HIDE CODE\n",
    "\n",
    "az.plot_forest(unpooled_trace, var_names=['a'], figsize=(6, 32), r_hat=True, combined=True);"
   ]
  },
  {
   "cell_type": "markdown",
   "metadata": {
    "pycharm": {
     "name": "#%% md\n"
    }
   },
   "source": [
    "Sampling was good for all mice, but you can see that some are more uncertain than others, and all of these uncertain estimates are for no_stim measurements. This probably comes from the fact that some mice just have a handful of no_stim measurements, so the model is pretty uncertain about them.\n",
    "\n",
    "To identify mice with high power levels, we can plot the ordered mean estimates, as well as their 94% HPD:"
   ]
  },
  {
   "cell_type": "code",
   "execution_count": null,
   "metadata": {
    "tags": [
     "hide-input"
    ]
   },
   "outputs": [],
   "source": [
    "# HIDE CODE\n",
    "\n",
    "a_stim_unpooled, a_no_stim_unpooled = unpooled_trace[\"a\"][:, :, 0], unpooled_trace[\"a\"][:, :, 1]\n",
    "unpooled_stim = pd.DataFrame.from_dict(\n",
    "                        {\n",
    "                            \"stim\": a_stim_unpooled.mean(0), \n",
    "                            \"low\": az.hpd(a_stim_unpooled)[:, 0], \n",
    "                            \"high\": az.hpd(a_stim_unpooled)[:, 1]\n",
    "                        }, \n",
    "                        orient=\"index\", \n",
    "                        columns=mn_mice\n",
    "                    ).T.sort_values(by=\"stim\")\n",
    "unpooled_no_stim = pd.DataFrame.from_dict(\n",
    "                    {\n",
    "                        \"no_stim\": a_no_stim_unpooled.mean(0),\n",
    "                        \"low\": az.hpd(a_no_stim_unpooled)[:, 0], \n",
    "                        \"high\": az.hpd(a_no_stim_unpooled)[:, 1]\n",
    "                    }, \n",
    "                    orient=\"index\", \n",
    "                    columns=mn_mice\n",
    "                ).T.sort_values(by=\"no_stim\")"
   ]
  },
  {
   "cell_type": "code",
   "execution_count": null,
   "metadata": {
    "pycharm": {
     "name": "#%%\n"
    },
    "tags": [
     "hide-input"
    ]
   },
   "outputs": [],
   "source": [
    "# HIDE CODE\n",
    "\n",
    "fig, axes = plt.subplots(1, 2, figsize=(12, 5))\n",
    "for ax, estimates, level in zip(axes, [unpooled_stim, unpooled_no_stim], [\"stim\", \"no_stim\"]):    \n",
    "    for i, l, h in zip(range(n_mice), estimates.low.values, estimates.high.values):\n",
    "        ax.plot([i, i], [l, h], alpha=0.6, c='orange')\n",
    "    ax.scatter(range(n_mice), estimates[level], alpha=0.8)\n",
    "    ax.set(title=f\"{level.title()} estimates\", xlabel=\"Ordered mouse\", xlim=(-1, 86), ylabel=\"power estimate\", ylim=(-2, 4.5))\n",
    "plt.tight_layout();"
   ]
  },
  {
   "cell_type": "markdown",
   "metadata": {
    "pycharm": {
     "name": "#%% md\n"
    }
   },
   "source": [
    "There seems to be more dispersion in power levels for no_stim measurements than for stim ones. Moreover, as we saw in the forest plot, no_stim estimates are globally more uncertain, especially in some mice. We speculated that this is due to smaller sample sizes in the data, but let's verify it!"
   ]
  },
  {
   "cell_type": "code",
   "execution_count": null,
   "metadata": {
    "pycharm": {
     "name": "#%%\n"
    },
    "tags": [
     "hide-input"
    ]
   },
   "outputs": [],
   "source": [
    "# HIDE CODE\n",
    "\n",
    "n_no_stim_meas = srrs_mn.groupby(\"mouse\").sum().no_stim\n",
    "uncertainty = (unpooled_no_stim.high - unpooled_no_stim.low).sort_index() # sort index to match counties alphabetically\n",
    "\n",
    "plt.plot(n_no_stim_meas, uncertainty, 'o', alpha=.4)\n",
    "plt.xlabel(\"Nbr no_stim measurements in mouse\")\n",
    "plt.ylabel(\"Estimates' uncertainty\");"
   ]
  },
  {
   "cell_type": "markdown",
   "metadata": {
    "pycharm": {
     "name": "#%% md\n"
    }
   },
   "source": [
    "Bingo! This makes sense: it's very hard to estimate no_stim power levels in mice where there are no no_stim measurements, and the model is telling us that by being very uncertain in its estimates for those mice. This is a classic issue with no-pooling models: when you estimate clusters independently from each other, what do you with small-sample-size mice?\n",
    "\n",
    "Another way to see this phenomenon is to visually compare the pooled and unpooled estimates for a subset of mice representing a range of sample sizes:"
   ]
  },
  {
   "cell_type": "code",
   "execution_count": null,
   "metadata": {
    "pycharm": {
     "name": "#%%\n"
    },
    "tags": [
     "hide-input"
    ]
   },
   "outputs": [],
   "source": [
    "# HIDE CODE\n",
    "\n",
    "# These mice were named as counties in Minnesota, how curious\n",
    "SAMPLE_mice = ('LAC QUI PARLE', 'AITKIN', 'KOOCHICHING', \n",
    "                    'DOUGLAS', 'CLAY', 'STEARNS', 'RAMSEY', 'ST LOUIS')\n",
    "\n",
    "fig, axes = plt.subplots(2, 4, figsize=(12, 6), sharey=True, sharex=True)\n",
    "axes = axes.ravel() \n",
    "for i, c in enumerate(SAMPLE_mice):\n",
    "    x = srrs_mn.no_stim[srrs_mn.mouse==c]\n",
    "    y = srrs_mn.log_power[srrs_mn.mouse==c]\n",
    "    \n",
    "    # plot obs:\n",
    "    axes[i].scatter(x + np.random.randn(len(x))*0.01, y, alpha=0.4)\n",
    "    \n",
    "    # plot both models:\n",
    "    axes[i].plot([0, 1], [unpooled_stim.loc[c, \"stim\"] , unpooled_no_stim.loc[c, \"no_stim\"]])\n",
    "    axes[i].plot([0, 1], [a_stim, a_no_stim], \"r--\")\n",
    "    \n",
    "    axes[i].set_xticks([0,1])\n",
    "    axes[i].set_xticklabels([\"stim\", \"no_stim\"])\n",
    "    axes[i].set_title(c)\n",
    "    if not i%2:\n",
    "        axes[i].set_ylabel(\"Log power level\")\n",
    "plt.tight_layout();"
   ]
  },
  {
   "cell_type": "markdown",
   "metadata": {},
   "source": [
    "Neither of these models are satisfactory:\n",
    "\n",
    "* If we are trying to identify high-power mice, pooling is useless -- because, by definition, the pooled model estimates power at the cohort-level. In other words, pooling leads to maximal *underfitting*: the variation across mice is not taken into account and only the overall population is estimated.\n",
    "* We do not trust extreme unpooled estimates produced by models using few observations. This leads to maximal *overfitting*: only the within-mouse variations are taken into account and the overall population (i.e the cohort-level, which tells us about similarites across mice) is not estimated. \n",
    "\n",
    "This issue is acute for small sample sizes, as seen above: in mice where we have few no_stim measurements, if power levels are higher for those data points than for stim ones (Aitkin, Koochiching, Ramsey), the model will estimate that power levels are higher in no_stims than stims for these mice. But we shouldn't trust this conclusion, because both scientific knowledge and the situation in other mice tell us that it is usually the reverse (stim power > no_stim power). So unless we have a lot of observations telling us otherwise for a given mouse, we should be skeptical and shrink our mouse-estimates to the cohort-estimates -- in other words, we should balance between cluster-level and population-level information, and the amount of shrinkage will depend on how extreme and how numerous the data in each cluster are. \n",
    "\n",
    "But how do we do that? Well, ladies and gentlemen, let me introduce you to... hierarchical models!"
   ]
  },
  {
   "cell_type": "markdown",
   "metadata": {},
   "source": [
    "## Multilevel and hierarchical models\n",
    "\n",
    "When we pool our data, we imply that they are sampled from the same model. This ignores any variation among sampling units (other than sampling variance) -- we assume that mice are all the same:\n",
    "\n",
    "![pooled](http://f.cl.ly/items/0R1W063h1h0W2M2C0S3M/Screen%20Shot%202013-10-10%20at%208.22.21%20AM.png)\n",
    "\n",
    "When we analyze data unpooled, we imply that they are sampled independently from separate models. At the opposite extreme from the pooled case, this approach claims that differences between sampling units are too large to combine them -- we assume that mice have no similarity whatsoever:\n",
    "\n",
    "![unpooled](http://f.cl.ly/items/38020n2t2Y2b1p3t0B0e/Screen%20Shot%202013-10-10%20at%208.23.36%20AM.png)\n",
    "\n",
    "In a hierarchical model, parameters are viewed as a sample from a population distribution of parameters. Thus, we view them as being neither entirely different or exactly the same. This is ***partial pooling***:\n",
    "\n",
    "![hierarchical](http://f.cl.ly/items/1B3U223i002y3V2W3r0W/Screen%20Shot%202013-10-10%20at%208.25.05%20AM.png)\n",
    "\n",
    "We can use PyMC to easily specify multilevel models, and fit them using Markov chain Monte Carlo."
   ]
  },
  {
   "cell_type": "markdown",
   "metadata": {
    "pycharm": {
     "name": "#%% md\n"
    }
   },
   "source": [
    "## Partial pooling model\n",
    "\n",
    "The simplest partial pooling model for the neuron power dataset is one which simply estimates power levels, without any predictors at any level. A partial pooling model represents a compromise between the pooled and unpooled extremes, approximately a weighted average (based on sample size) of the unpooled mouse estimates and the pooled estimates.\n",
    "\n",
    "$$\\hat{\\alpha} \\approx \\frac{(n_j/\\sigma_y^2)\\bar{y}_j + (1/\\sigma_{\\alpha}^2)\\bar{y}}{(n_j/\\sigma_y^2) + (1/\\sigma_{\\alpha}^2)}$$\n",
    "\n",
    "Estimates for mice with smaller sample sizes will shrink towards the cohort-wide average.\n",
    "\n",
    "Estimates for mice with larger sample sizes will be closer to the unpooled mouse estimates and will influence the the cohort-wide average."
   ]
  },
  {
   "cell_type": "code",
   "execution_count": null,
   "metadata": {
    "tags": [
     "hide-input"
    ]
   },
   "outputs": [],
   "source": [
    "# HIDE CODE\n",
    "\n",
    "with pm.Model() as partial_pooling:\n",
    "    # Hyperpriors:\n",
    "    a = pm.Normal('a', mu=0., sigma=10.)\n",
    "    sigma_a = pm.Exponential('sigma_a', 1.)\n",
    "    \n",
    "    # Varying intercepts:\n",
    "    a_mouse = pm.Normal('a_mouse', mu=a, sigma=sigma_a, shape=n_mice)\n",
    "    \n",
    "    # Expected value per mouse:\n",
    "    theta = a_mouse[mouse]\n",
    "    # Model error:\n",
    "    sigma = pm.Exponential('sigma', 1.)\n",
    "    \n",
    "    y = pm.Normal('y', theta, sigma=sigma, observed=log_power)\n",
    "pm.model_to_graphviz(partial_pooling)"
   ]
  },
  {
   "cell_type": "code",
   "execution_count": null,
   "metadata": {
    "pycharm": {
     "name": "#%%\n"
    },
    "tags": [
     "hide-input"
    ]
   },
   "outputs": [],
   "source": [
    "# HIDE CODE\n",
    "\n",
    "with partial_pooling:\n",
    "    partial_pooling_trace = pm.sample(1000, tune=2000, random_seed=RANDOM_SEED)"
   ]
  },
  {
   "cell_type": "markdown",
   "metadata": {
    "pycharm": {
     "name": "#%% md\n"
    }
   },
   "source": [
    "To compare partial-pooling and no-pooling estimates, let's run the unpooled model without the `no_stim` predictor:"
   ]
  },
  {
   "cell_type": "code",
   "execution_count": null,
   "metadata": {
    "lines_to_next_cell": 2,
    "pycharm": {
     "name": "#%%\n"
    },
    "tags": [
     "hide-input"
    ]
   },
   "outputs": [],
   "source": [
    "# HIDE CODE\n",
    "\n",
    "with pm.Model() as unpooled_bis:\n",
    "    a_mouse = pm.Normal('a_mouse', 0., sigma=10., shape=n_mice)\n",
    "    \n",
    "    theta = a_mouse[mouse]\n",
    "    sigma = pm.Exponential('sigma', 1.)\n",
    "    \n",
    "    y = pm.Normal('y', theta, sigma=sigma, observed=log_power)\n",
    "    \n",
    "    unpooled_trace_bis = pm.sample(1000, tune=2000, random_seed=RANDOM_SEED)\n",
    "pm.model_to_graphviz(unpooled_bis)"
   ]
  },
  {
   "cell_type": "markdown",
   "metadata": {
    "pycharm": {
     "name": "#%% md\n"
    }
   },
   "source": [
    "Now let's compare both models' estimates for all 85 mice. We'll plot the estimates against each mouse's sample size, to let you see more clearly what hierarchical models bring to the table:"
   ]
  },
  {
   "cell_type": "code",
   "execution_count": null,
   "metadata": {
    "pycharm": {
     "name": "#%%\n"
    },
    "tags": [
     "hide-input"
    ]
   },
   "outputs": [],
   "source": [
    "# HIDE CODE\n",
    "\n",
    "N_mouse = srrs_mn.groupby(\"mouse\")[\"idnum\"].count().values\n",
    "\n",
    "fig, axes = plt.subplots(1, 2, figsize=(10, 4), sharex=True, sharey=True)\n",
    "for ax, trace, level in zip(\n",
    "    axes, \n",
    "    [unpooled_trace_bis[\"a_mouse\"], partial_pooling_trace[\"a_mouse\"]], \n",
    "    [\"no pooling\", \"partial pooling\"]\n",
    "):\n",
    "    ax.hlines(\n",
    "        partial_pooling_trace[\"a\"].mean(), \n",
    "        0.9, \n",
    "        max(N_mouse) + 1, \n",
    "        alpha=0.4, \n",
    "        ls=\"--\", \n",
    "        label=\"Est. population mean\"\n",
    "    )\n",
    "    for n, l, h in zip(\n",
    "        N_mouse, \n",
    "        az.hpd(trace)[:, 0], \n",
    "        az.hpd(trace)[:, 1]\n",
    "    ):\n",
    "        ax.plot([n, n], [l, h], alpha=0.5, c=\"orange\")\n",
    "    ax.scatter(N_mouse, trace.mean(0), alpha=0.8)\n",
    "    ax.set(\n",
    "        title=f\"{level.title()} Estimates\", \n",
    "        xlabel=\"Nbr obs in mouse (log scale)\", \n",
    "        xscale=\"log\", \n",
    "        ylabel=\"Log power\"\n",
    "    )\n",
    "    ax.legend(fontsize=10)\n",
    "plt.tight_layout();"
   ]
  },
  {
   "cell_type": "markdown",
   "metadata": {},
   "source": [
    "Notice the difference between the unpooled and partially-pooled estimates, particularly at smaller sample sizes: As expected, the former are both more extreme and more imprecise. Indeed, in the partially-pooled model, estimates in small-sample-size mice are informed by the population parameters -- hence more precise estimates. Moreover, the smaller the sample size, the more regression towards the overall mean (the dashed gray line) -- hence less extreme estimates. In other words, the model is skeptical of extreme deviations from the population mean in mice where data is sparse. \n",
    "\n",
    "Now let's try to integrate the `no_stim` predictor! To show you an example with a slope we're gonna take the indicator variable road, but we could stay with the index variable approach that we used for the no-pooling model. Then we would have one intercept for each category -- stim and no_stim."
   ]
  },
  {
   "cell_type": "markdown",
   "metadata": {
    "pycharm": {
     "name": "#%% md\n"
    }
   },
   "source": [
    "## Varying intercept model\n",
    "\n",
    "As above, this model allows intercepts to vary across mouse, according to a random effect. We just add a fixed slope for the predictor (i.e all mice will have the same slope):\n",
    "\n",
    "$$y_i = \\alpha_{j[i]} + \\beta x_{i} + \\epsilon_i$$\n",
    "\n",
    "where\n",
    "\n",
    "$$\\epsilon_i \\sim N(0, \\sigma_y^2)$$\n",
    "\n",
    "and the intercept random effect:\n",
    "\n",
    "$$\\alpha_{j[i]} \\sim N(\\mu_{\\alpha}, \\sigma_{\\alpha}^2)$$\n",
    "\n",
    "As with the the no-pooling model, we set a separate intercept for each mouse, but rather than fitting separate regression models for each mouse, multilevel modeling **shares strength** among mice, allowing for more reasonable inference in mice with little data. Here is what that looks in code:"
   ]
  },
  {
   "cell_type": "code",
   "execution_count": null,
   "metadata": {
    "pycharm": {
     "name": "#%%\n"
    },
    "tags": [
     "hide-input"
    ]
   },
   "outputs": [],
   "source": [
    "# HIDE CODE\n",
    "\n",
    "with pm.Model() as varying_intercept:\n",
    "    # Hyperpriors:\n",
    "    a = pm.Normal('a', mu=0., sigma=10.)\n",
    "    sigma_a = pm.Exponential('sigma_a', 1.)\n",
    "    \n",
    "    # Varying intercepts:\n",
    "    a_mouse = pm.Normal('a_mouse', mu=a, sigma=sigma_a, shape=n_mice)\n",
    "    # Common slope:\n",
    "    b = pm.Normal('b', mu=0., sigma=10.)\n",
    "    \n",
    "    # Expected value per mouse:\n",
    "    theta = a_mouse[mouse] + b * no_stim\n",
    "    # Model error:\n",
    "    sigma = pm.Exponential('sigma', 1.)\n",
    "    \n",
    "    y = pm.Normal('y', theta, sigma=sigma, observed=log_power)\n",
    "pm.model_to_graphviz(varying_intercept)"
   ]
  },
  {
   "cell_type": "markdown",
   "metadata": {
    "pycharm": {
     "name": "#%% md\n"
    }
   },
   "source": [
    "Let's fit this bad boy with MCMC:"
   ]
  },
  {
   "cell_type": "code",
   "execution_count": null,
   "metadata": {
    "tags": [
     "hide-input"
    ]
   },
   "outputs": [],
   "source": [
    "# HIDE CODE\n",
    "\n",
    "with varying_intercept:\n",
    "    varying_intercept_trace = pm.sample(1000, tune=2000, random_seed=RANDOM_SEED)"
   ]
  },
  {
   "cell_type": "code",
   "execution_count": null,
   "metadata": {
    "scrolled": true,
    "tags": [
     "hide-input"
    ]
   },
   "outputs": [],
   "source": [
    "# HIDE CODE\n",
    "\n",
    "az.plot_forest(varying_intercept_trace, var_names=[\"a\", \"a_mouse\"], r_hat=True, combined=True);"
   ]
  },
  {
   "cell_type": "code",
   "execution_count": null,
   "metadata": {
    "tags": [
     "hide-input"
    ]
   },
   "outputs": [],
   "source": [
    "# HIDE CODE\n",
    "\n",
    "az.plot_trace(varying_intercept_trace, var_names=[\"sigma_a\", \"b\"]);"
   ]
  },
  {
   "cell_type": "code",
   "execution_count": null,
   "metadata": {
    "pycharm": {
     "name": "#%%\n"
    },
    "tags": [
     "hide-input"
    ]
   },
   "outputs": [],
   "source": [
    "# HIDE CODE\n",
    "\n",
    "az.summary(varying_intercept_trace, var_names=[\"a\", \"sigma_a\", \"b\", \"sigma\"], round_to=2)"
   ]
  },
  {
   "cell_type": "markdown",
   "metadata": {
    "pycharm": {
     "name": "#%% md\n"
    }
   },
   "source": [
    "As we suspected, the estimate for the `no_stim` coefficient is reliably negative and centered around -0.66. This can be interpreted as neurons without stims having about half ($\\exp(-0.66) = 0.52$) the power levels of those with stims, after accounting for mouse. Note that this is only the *relative* effect of no_stim on power levels: conditional on being in a given mouse, power is expected to be half lower in neurons without stims than in neurons with. To see how much difference a stim makes on the *absolute* level of power, we'd have to push the parameters through the model, as we do with posterior predictive checks and as we'll do just now."
   ]
  },
  {
   "cell_type": "code",
   "execution_count": null,
   "metadata": {
    "pycharm": {
     "name": "#%%\n"
    },
    "tags": [
     "hide-input"
    ]
   },
   "outputs": [],
   "source": [
    "# HIDE CODE\n",
    "\n",
    "xvals = np.arange(2)\n",
    "avg_a_mouse = varying_intercept_trace[\"a_mouse\"].mean(0)\n",
    "avg_b = varying_intercept_trace[\"b\"].mean()\n",
    "\n",
    "for a_c in avg_a_mouse:\n",
    "    plt.plot(xvals, a_c + avg_b * xvals, 'ko-', alpha=0.2)\n",
    "plt.xticks([0,1], [\"stim\", \"no_stim\"])\n",
    "plt.ylabel(\"Mean log power\")\n",
    "plt.title(\"MEAN LOG power BY mouse\");"
   ]
  },
  {
   "cell_type": "markdown",
   "metadata": {
    "pycharm": {
     "name": "#%% md\n"
    }
   },
   "source": [
    "The graph above shows, for each mouse, the expected log power level and the average effect of having no stim -- these are the absolute effects we were talking about. Two caveats though:\n",
    "1. This graph doesn't show the uncertainty for each mouse -- how confident are we that the average estimates are where the graph shows? For that we'd need to combine the uncertainty in `a_mouse` and `b`, and this would of course vary by mouse. I didn't show it here because the graph would get cluttered, but go ahead and do it for a subset of mice.\n",
    "2. These are only *average* estimates at the *mouse-level* (`theta` in the model): they don't take into account the variation by neuron. To add this other layer of uncertainty we'd need to take stock of the effect of `sigma` and generate samples from the `y` variable to see the effect on given neurons (that's exactly the role of posterior predictive checks).\n",
    "\n",
    "That being said, it is easy to show that the partial pooling model provides more objectively reasonable estimates than either the pooled or unpooled models, at least for mice with small sample sizes:"
   ]
  },
  {
   "cell_type": "code",
   "execution_count": null,
   "metadata": {
    "pycharm": {
     "name": "#%%\n"
    },
    "tags": [
     "hide-input"
    ]
   },
   "outputs": [],
   "source": [
    "# HIDE CODE\n",
    "\n",
    "fig, axes = plt.subplots(2, 4, figsize=(15, 7), sharey=True, sharex=True)\n",
    "axes = axes.ravel()\n",
    "for i, c in enumerate(SAMPLE_mice):\n",
    "    x = srrs_mn.no_stim[srrs_mn.mouse==c]\n",
    "    y = srrs_mn.log_power[srrs_mn.mouse==c]\n",
    "    \n",
    "    # plot obs:\n",
    "    axes[i].scatter(x + np.random.randn(len(x))*0.01, y, alpha=0.4)\n",
    "    # complete-pooling model:\n",
    "    axes[i].plot([0, 1], [a_stim, a_no_stim], \"r--\", alpha=0.5, label=\"Complete pooling\")\n",
    "    # no-pooling model:\n",
    "    axes[i].plot(\n",
    "        [0, 1], \n",
    "        [unpooled_stim.loc[c, \"stim\"] , unpooled_no_stim.loc[c, \"no_stim\"]],\n",
    "        \"k:\",\n",
    "        alpha=0.5,\n",
    "        label=\"No pooling\"\n",
    "    )\n",
    "    # partial-pooling model:\n",
    "    axes[i].plot(\n",
    "        [0, 1], \n",
    "        [avg_a_mouse[mouse_lookup[c]], avg_a_mouse[mouse_lookup[c]] + avg_b],\n",
    "        label=\"Partial pooling\"\n",
    "    )\n",
    "    \n",
    "    axes[i].set_xticks([0,1])\n",
    "    axes[i].set_xticklabels([\"stim\", \"no_stim\"])\n",
    "    axes[i].set_title(c)\n",
    "    if not i%2:\n",
    "        axes[i].set_ylabel(\"Log power level\")\n",
    "    if not i%4:\n",
    "        axes[i].legend(fontsize=8, frameon=True)\n",
    "plt.tight_layout();"
   ]
  },
  {
   "cell_type": "markdown",
   "metadata": {},
   "source": [
    "Here we clearly see the notion that partial-pooling is a compromise between no pooling and complete pooling, as its mean estimates are usually between the other models' estimates. And interestingly, the bigger (smaller) the sample size in a given mouse, the closer the partial-pooling estimates are to the no-pooling (complete-pooling) estimates.\n",
    "\n",
    "We see however that mice vary by more than just their baseline rates: the effect of no_stim seems to be different from one mouse to another. It would be great if our model could take that into account, wouldn't it? Well to do that, we need to allow the slope to vary by mouse -- not only the intercept -- and here is how you can do it with PyMC3."
   ]
  },
  {
   "cell_type": "markdown",
   "metadata": {
    "pycharm": {
     "name": "#%% md\n"
    }
   },
   "source": [
    "## Benefits of Multilevel Models\n",
    "\n",
    "- Accounting for natural hierarchical structure of observational data.\n",
    "\n",
    "- Estimation of coefficients for (under-represented) groups.\n",
    "\n",
    "- Incorporating individual- and group-level information when estimating group-level coefficients.\n",
    "\n",
    "- Allowing for variation among individual-level coefficients across groups.\n",
    "\n",
    "## References\n",
    "\n",
    "- Gelman, A., & Hill, J. (2006), *Data Analysis Using Regression and Multilevel/Hierarchical Models (1st ed.)*, Cambridge University Press.\n",
    "\n",
    "- Gelman, A. (2006), *Multilevel (Hierarchical) modeling: what it can and cannot do*, Technometrics, 48(3), 432–435.\n",
    "\n",
    "- McElreath, R. (2020), *Statistical Rethinking - A Bayesian Course with Examples in R and Stan (2nd ed.)*, CRC Press. "
   ]
  }
 ],
 "metadata": {
  "celltoolbar": "Slideshow",
  "hide_input": false,
  "jupytext": {
   "encoding": "# -*- coding: utf-8 -*-",
   "formats": "ipynb,py:light"
  },
  "kernelspec": {
   "display_name": "tf",
   "language": "python",
   "name": "tf"
  },
  "language_info": {
   "codemirror_mode": {
    "name": "ipython",
    "version": 3
   },
   "file_extension": ".py",
   "mimetype": "text/x-python",
   "name": "python",
   "nbconvert_exporter": "python",
   "pygments_lexer": "ipython3",
   "version": "3.6.10"
  }
 },
 "nbformat": 4,
 "nbformat_minor": 4
}
