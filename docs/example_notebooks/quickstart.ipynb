{
 "cells": [
  {
   "cell_type": "markdown",
   "metadata": {},
   "source": [
    "# Generate some data"
   ]
  },
  {
   "cell_type": "code",
   "execution_count": 1,
   "metadata": {},
   "outputs": [
    {
     "ename": "ImportError",
     "evalue": "cannot import name 'plot_data_and_posterior' from 'bayes_window.visualization' (/home/m/mmy/bayes-window/bayes_window/visualization.py)",
     "output_type": "error",
     "traceback": [
      "\u001b[0;31m---------------------------------------------------------------------------\u001b[0m",
      "\u001b[0;31mImportError\u001b[0m                               Traceback (most recent call last)",
      "\u001b[0;32m<ipython-input-1-540448e9e811>\u001b[0m in \u001b[0;36m<module>\u001b[0;34m\u001b[0m\n\u001b[1;32m      1\u001b[0m \u001b[0;32mfrom\u001b[0m \u001b[0mbayes_window\u001b[0m\u001b[0;34m.\u001b[0m\u001b[0mgenerative_models\u001b[0m \u001b[0;32mimport\u001b[0m \u001b[0mgenerate_fake_spikes\u001b[0m\u001b[0;34m\u001b[0m\u001b[0;34m\u001b[0m\u001b[0m\n\u001b[0;32m----> 2\u001b[0;31m \u001b[0;32mfrom\u001b[0m \u001b[0mbayes_window\u001b[0m\u001b[0;34m.\u001b[0m\u001b[0mvisualization\u001b[0m \u001b[0;32mimport\u001b[0m \u001b[0mfake_spikes_explore\u001b[0m\u001b[0;34m,\u001b[0m \u001b[0mplot_data_and_posterior\u001b[0m\u001b[0;34m\u001b[0m\u001b[0;34m\u001b[0m\u001b[0m\n\u001b[0m\u001b[1;32m      3\u001b[0m \u001b[0;32mfrom\u001b[0m \u001b[0mbayes_window\u001b[0m \u001b[0;32mimport\u001b[0m \u001b[0mmodels\u001b[0m\u001b[0;34m\u001b[0m\u001b[0;34m\u001b[0m\u001b[0m\n\u001b[1;32m      4\u001b[0m \u001b[0;32mfrom\u001b[0m \u001b[0mbayes_window\u001b[0m\u001b[0;34m.\u001b[0m\u001b[0mfitting\u001b[0m \u001b[0;32mimport\u001b[0m \u001b[0mfit_numpyro\u001b[0m\u001b[0;34m\u001b[0m\u001b[0;34m\u001b[0m\u001b[0m\n\u001b[1;32m      5\u001b[0m \u001b[0;32mfrom\u001b[0m \u001b[0mbayes_window\u001b[0m\u001b[0;34m.\u001b[0m\u001b[0mutils\u001b[0m \u001b[0;32mimport\u001b[0m \u001b[0madd_data_to_posterior\u001b[0m\u001b[0;34m\u001b[0m\u001b[0;34m\u001b[0m\u001b[0m\n",
      "\u001b[0;31mImportError\u001b[0m: cannot import name 'plot_data_and_posterior' from 'bayes_window.visualization' (/home/m/mmy/bayes-window/bayes_window/visualization.py)"
     ]
    }
   ],
   "source": [
    "from bayes_window.generative_models import generate_fake_spikes\n",
    "from bayes_window.visualization import fake_spikes_explore, plot_data_and_posterior\n",
    "from bayes_window import models\n",
    "from bayes_window.fitting import fit_numpyro\n",
    "from bayes_window.utils import add_data_to_posterior"
   ]
  },
  {
   "cell_type": "code",
   "execution_count": null,
   "metadata": {},
   "outputs": [],
   "source": [
    "\n",
    "df, df_monster, index_cols, firing_rates = generate_fake_spikes(n_trials=10,\n",
    "                                                                n_neurons=7,\n",
    "                                                                n_mice=6,\n",
    "                                                                dur=7,\n",
    "                                                               mouse_response_slope=16)"
   ]
  },
  {
   "cell_type": "markdown",
   "metadata": {},
   "source": [
    "# Exploratory plot without any fitting"
   ]
  },
  {
   "cell_type": "code",
   "execution_count": null,
   "metadata": {
    "scrolled": true
   },
   "outputs": [],
   "source": [
    "\n",
    "from bayes_window.visualization import fake_spikes_explore\n",
    "charts=fake_spikes_explore(df,df_monster,index_cols)\n",
    "[chart.display() for chart in charts];\n",
    "#fig_mice, fig_select, fig_neurons, fig_trials, fig_isi + fig_overlay, bar, box, fig_raster, bar_combined"
   ]
  },
  {
   "cell_type": "markdown",
   "metadata": {},
   "source": [
    "# Estimate with mouse>neuron"
   ]
  },
  {
   "cell_type": "code",
   "execution_count": null,
   "metadata": {},
   "outputs": [],
   "source": [
    "from bayes_window import workflow\n",
    "from importlib import reload\n",
    "reload(workflow)\n",
    "bw=workflow.BayesWindow(df,y='isi', levels=('stim', 'mouse', 'neuron'))\n",
    "bw.fit_slopes(add_data=True, model=models.model_hier_normal_stim,)\n",
    "\n",
    "bw.plot()\n"
   ]
  }
 ],
 "metadata": {
  "kernelspec": {
   "display_name": "PyCharm (jup)",
   "language": "python",
   "name": "pycharm-d5912792"
  },
  "language_info": {
   "codemirror_mode": {
    "name": "ipython",
    "version": 3
   },
   "file_extension": ".py",
   "mimetype": "text/x-python",
   "name": "python",
   "nbconvert_exporter": "python",
   "pygments_lexer": "ipython3",
   "version": "3.8.5"
  }
 },
 "nbformat": 4,
 "nbformat_minor": 4
}
